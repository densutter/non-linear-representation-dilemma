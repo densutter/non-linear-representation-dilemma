{
 "cells": [
  {
   "cell_type": "code",
   "execution_count": 1,
   "id": "5f9c7a74-0fa0-4744-819a-12619cec2503",
   "metadata": {},
   "outputs": [],
   "source": [
    "import sys\n",
    "sys.path.append(\"..\")\n",
    "import torch\n",
    "import torch.nn as nn\n",
    "import torch.optim as optim\n",
    "import torch.nn.functional as F\n",
    "import pickle\n",
    "import random\n",
    "import numpy as np\n",
    "import copy\n",
    "import json\n",
    "from torch.utils.data import DataLoader, TensorDataset\n",
    "from tqdm import tqdm"
   ]
  },
  {
   "cell_type": "code",
   "execution_count": 2,
   "id": "b227db55-31c7-4a24-8c73-b6aa17893a34",
   "metadata": {},
   "outputs": [
    {
     "data": {
      "text/html": [
       "<button onClick=\"this.nextSibling.style.display='block';this.style.display='none';\">Display W&B run</button><iframe src='https://wandb.ai/dummy/dummy/runs/9apw54xn?jupyter=true' style='border:none;width:100%;height:420px;display:none;'></iframe>"
      ],
      "text/plain": [
       "<wandb.sdk.wandb_run.Run at 0x76fd190c2390>"
      ]
     },
     "execution_count": 2,
     "metadata": {},
     "output_type": "execute_result"
    }
   ],
   "source": [
    "import wandb\n",
    "wandb.init(mode=\"disabled\")"
   ]
  },
  {
   "cell_type": "code",
   "execution_count": 3,
   "id": "288d0ed6-20a0-45d1-b3a3-e0f9dea87b97",
   "metadata": {},
   "outputs": [],
   "source": [
    "from das.Classification_Model import (MLPForClassification,\n",
    "                                  train_model,\n",
    "                                  eval_model,\n",
    "                                  test_model,\n",
    "                                  make_model)\n",
    "from das.Helper_Functions import set_seed\n",
    "from das.Dataset_Generation import (make_model_dataset,\n",
    "                                make_model_dataset_AndOrAnd,\n",
    "                                make_intervention_dataset_variable_intervention_all,\n",
    "                                make_intervention_dataset_variable_intervention_first,\n",
    "                                make_intervention_dataset_first_input_intervention,\n",
    "                                make_intervention_dataset_AndOrAnd,\n",
    "                                make_intervention_dataset_AndOr)\n",
    "from das.RevNet import RevNet\n",
    "from das.Rotation_Model import Rotation\n",
    "from das.DAS import phi_class\n",
    "from das.DAS_MLP import Distributed_Alignment_Search_MLP"
   ]
  },
  {
   "cell_type": "code",
   "execution_count": 4,
   "id": "69c97efd-716b-4155-a0c7-85ffa6295edf",
   "metadata": {},
   "outputs": [],
   "source": [
    "DEVICE  = \"cpu\" #\"cuda\"/\"cpu\"\n",
    "num_classes=2"
   ]
  },
  {
   "cell_type": "code",
   "execution_count": 5,
   "id": "239df68b-bb77-4ad5-b757-b38931675f91",
   "metadata": {},
   "outputs": [],
   "source": [
    "def register_intervention_hook(Save_array,Pos,layer):\n",
    "    def hook_fn(module, input, output):\n",
    "        Save_array[Pos].append(output.detach().cpu())\n",
    "    layer.register_forward_hook(hook_fn)"
   ]
  },
  {
   "cell_type": "code",
   "execution_count": 6,
   "id": "53e98d55-7e8a-4dec-872c-7b6b1ca6a144",
   "metadata": {},
   "outputs": [
    {
     "name": "stderr",
     "output_type": "stream",
     "text": [
      "/home/master/DAS/Complexity-vs.-Accuracy/notebooks/../das/Dataset_Generation.py:68: UserWarning: Creating a tensor from a list of numpy.ndarrays is extremely slow. Please consider converting the list to a single numpy.ndarray with numpy.array() before converting to a tensor. (Triggered internally at /pytorch/torch/csrc/utils/tensor_new.cpp:254.)\n",
      "  return torch.tensor(model_inputs, dtype=torch.float32).to(device),torch.tensor(labels, dtype=torch.float32).to(device)\n"
     ]
    },
    {
     "name": "stdout",
     "output_type": "stream",
     "text": [
      "Epoch 1, Loss: 0.39049801870714873 steps without improvement: 7 best accuracy: 0.9837\n",
      "Epoch 2, Loss: 0.026408711896237946 steps without improvement: 72 best accuracy: 0.9964\n",
      "Epoch 3, Loss: 0.008641325565577063 steps without improvement: 37 best accuracy: 0.9986\n",
      "Epoch 4, Loss: 0.004503298025667846 steps without improvement: 60 best accuracy: 0.9991\n",
      "Epoch 5, Loss: 0.0028202552880998155 steps without improvement: 138 best accuracy: 0.9997\n",
      "Epoch 6, Loss: 0.0019203961838059058 steps without improvement: 301 best accuracy: 0.9998\n"
     ]
    },
    {
     "name": "stderr",
     "output_type": "stream",
     "text": [
      "100%|███████████████████████████████████| 10000/10000 [3:01:04<00:00,  1.09s/it]\n"
     ]
    },
    {
     "name": "stdout",
     "output_type": "stream",
     "text": [
      "Surjectivity: Missing: set() Found: {0, 1}\n",
      "Injectivity [[1.6062524000963159, 0.0, 1.6062073364124536, 1.6027513844150898], [1.1187233052468357, 0.0, 1.0942841669223096, 0.9170955777466178], [2.0019155553167427, 0.0, 1.905394463454935, 1.2899510248964001], [4.199196621574812, 0.0, 3.22916042301307, 2.124650866420493]]\n",
      "Injectivity [[49995000, 80304588.74281532, 0, 24995900, 40148597.96023205, 12499010, 20032805.58131805], [49995000, 55930571.64581555, 0, 24995900, 27352617.607973356, 12499010, 11462786.797210753], [49995000, 100085768.18806055, 0, 24995900, 47627049.469073206, 12499010, 16123110.759690354], [49995000, 209938835.0956327, 0, 24995900, 80715771.0175924, 12499010, 26556032.425898407]]\n",
      "Epoch 1, Loss: 0.4398490324092563 steps without improvement: 4 best accuracy: 0.9509\n",
      "Epoch 2, Loss: 0.04545272669111 steps without improvement: 24 best accuracy: 0.9961\n",
      "Epoch 3, Loss: 0.008210613968117286 steps without improvement: 0 best accuracy: 0.9986\n",
      "Epoch 4, Loss: 0.003960001421773995 steps without improvement: 38 best accuracy: 0.9994\n",
      "Epoch 5, Loss: 0.0025235622712216355 steps without improvement: 346 best accuracy: 0.9996\n",
      "Epoch 6, Loss: 0.0018431902836084646 steps without improvement: 801 best accuracy: 0.9998\n"
     ]
    },
    {
     "name": "stderr",
     "output_type": "stream",
     "text": [
      "100%|███████████████████████████████████| 10000/10000 [3:04:28<00:00,  1.11s/it]\n"
     ]
    },
    {
     "name": "stdout",
     "output_type": "stream",
     "text": [
      "Surjectivity: Missing: set() Found: {0, 1}\n",
      "Injectivity [[1.6116805801255343, 0.0, 1.6116501203351647, 1.608146495537712], [0.9382596691128412, 0.0, 0.9196931557965017, 0.7773773681690705], [0.9897321527266767, 0.0, 0.9171501031767214, 0.5658387308307294], [1.9914755162070028, 0.0, 1.214609791948695, 0.6593067594242125]]\n",
      "Injectivity [[49995000, 80575970.60337609, 0, 24995400, 40283839.41782558, 12496505, 20096210.722219497], [49995000, 46908292.15729649, 0, 24995400, 22988098.306395877, 12496505, 9714500.168211631], [49995000, 49481658.9755702, 0, 24995400, 22924533.688943423, 12496505, 7071006.529019864], [49995000, 99563818.4327691, 0, 24995400, 30359657.593674406, 12496505, 8239030.215678468]]\n",
      "Epoch 1, Loss: 0.5161472786130616 steps without improvement: 1 best accuracy: 0.9309\n",
      "Epoch 2, Loss: 0.10854338564968202 steps without improvement: 17 best accuracy: 0.9841\n",
      "Epoch 3, Loss: 0.045250272887642495 steps without improvement: 22 best accuracy: 0.9911\n",
      "Epoch 4, Loss: 0.026091900404935586 steps without improvement: 57 best accuracy: 0.995\n",
      "Epoch 5, Loss: 0.016954795472429396 steps without improvement: 35 best accuracy: 0.9967\n",
      "Epoch 6, Loss: 0.011912434758187374 steps without improvement: 76 best accuracy: 0.9979\n",
      "Epoch 7, Loss: 0.008830687068211773 steps without improvement: 186 best accuracy: 0.9988\n",
      "Epoch 8, Loss: 0.007005727401178774 steps without improvement: 238 best accuracy: 0.9989\n",
      "Epoch 9, Loss: 0.005905351735123077 steps without improvement: 581 best accuracy: 0.9991\n",
      "Epoch 10, Loss: 0.00503346802526039 steps without improvement: 668 best accuracy: 0.9993\n",
      "Epoch 11, Loss: 0.00439880156181971 steps without improvement: 268 best accuracy: 0.9995\n",
      "Epoch 12, Loss: 0.0039751583182123795 steps without improvement: 623 best accuracy: 0.9996\n",
      "Epoch 13, Loss: 0.0036111564644727423 steps without improvement: 338 best accuracy: 0.9998\n"
     ]
    },
    {
     "name": "stderr",
     "output_type": "stream",
     "text": [
      "100%|███████████████████████████████████| 10000/10000 [3:04:12<00:00,  1.11s/it]\n"
     ]
    },
    {
     "name": "stdout",
     "output_type": "stream",
     "text": [
      "Surjectivity: Missing: set() Found: {0, 1}\n",
      "Injectivity [[1.6062736542884029, 0.0, 1.6062561515001899, 1.6027905496743713], [1.3293357958496836, 0.0, 1.3052414809290975, 1.14719372238951], [2.8090146347961844, 0.0, 2.7471793859454383, 2.1965310130855986], [5.99068023564102, 0.0, 5.621912692000358, 3.8167821266459603]]\n",
      "Injectivity [[49995000, 80305651.3461487, 0, 24997401, 40152229.127767, 12496938, 20029974.12626654], [49995000, 66460143.11350494, 0, 24997401, 32627644.700618505, 12496938, 14336408.822690917], [49995000, 140436686.66663525, 0, 24997401, 68672344.72941189, 12496938, 27449911.885607917], [49995000, 299504058.3808728, 0, 24997401, 140533205.94892246, 12496938, 47698089.596202716]]\n",
      "Epoch 1, Loss: 0.4501486698136432 steps without improvement: 0 best accuracy: 0.9342\n",
      "Epoch 2, Loss: 0.08092447123453894 steps without improvement: 2 best accuracy: 0.9903\n",
      "Epoch 3, Loss: 0.023304959614961263 steps without improvement: 119 best accuracy: 0.9964\n",
      "Epoch 4, Loss: 0.011987315442411273 steps without improvement: 15 best accuracy: 0.9982\n",
      "Epoch 5, Loss: 0.008039932314090947 steps without improvement: 537 best accuracy: 0.9986\n",
      "Epoch 6, Loss: 0.006224460200144222 steps without improvement: 165 best accuracy: 0.9992\n",
      "Epoch 7, Loss: 0.0050729863136780295 steps without improvement: 481 best accuracy: 0.9994\n",
      "Epoch 8, Loss: 0.004368546931118544 steps without improvement: 294 best accuracy: 0.9996\n"
     ]
    },
    {
     "name": "stderr",
     "output_type": "stream",
     "text": [
      "100%|███████████████████████████████████| 10000/10000 [3:04:32<00:00,  1.11s/it]\n"
     ]
    },
    {
     "name": "stdout",
     "output_type": "stream",
     "text": [
      "Surjectivity: Missing: set() Found: {0, 1}\n",
      "Injectivity [[1.6092224155436392, 0.0, 1.6091902043148012, 1.6058842879395137], [1.1175274106780626, 0.0, 1.1021288412328047, 0.9725840055522534], [1.5899488942311077, 0.0, 1.5272682948808867, 1.0190041406426145], [3.436918770485683, 0.0, 2.6899388799511663, 1.4618381111539387]]\n",
      "Injectivity [[49995000, 80453074.66510424, 0, 24995676, 40222796.96942657, 12500986, 20075137.00115183], [49995000, 55870782.89684974, 0, 24995676, 27548455.42571063, 12500986, 12158259.037232643], [49995000, 79489494.96708423, 0, 24995676, 38175103.4639151, 12500986, 12738556.496115355], [49995000, 171828753.93043172, 0, 24995676, 67236840.70306225, 12500986, 18274417.76180183]]\n",
      "Epoch 1, Loss: 0.5061693647876382 steps without improvement: 10 best accuracy: 0.911\n",
      "Epoch 2, Loss: 0.13824304291483713 steps without improvement: 5 best accuracy: 0.9788\n",
      "Epoch 3, Loss: 0.0563202187877323 steps without improvement: 92 best accuracy: 0.9912\n",
      "Epoch 4, Loss: 0.03151635768608685 steps without improvement: 28 best accuracy: 0.9946\n",
      "Epoch 5, Loss: 0.020373472510982538 steps without improvement: 157 best accuracy: 0.9967\n",
      "Epoch 6, Loss: 0.014251780802396752 steps without improvement: 68 best accuracy: 0.9978\n",
      "Epoch 7, Loss: 0.010568564672894354 steps without improvement: 187 best accuracy: 0.9985\n",
      "Epoch 8, Loss: 0.00793560032559526 steps without improvement: 976 best accuracy: 0.9987\n"
     ]
    },
    {
     "name": "stderr",
     "output_type": "stream",
     "text": [
      "100%|███████████████████████████████████| 10000/10000 [3:03:43<00:00,  1.10s/it]\n"
     ]
    },
    {
     "name": "stdout",
     "output_type": "stream",
     "text": [
      "Surjectivity: Missing: set() Found: {0, 1}\n",
      "Injectivity [[1.6073220052450587, 0.0, 1.6070941358542443, 1.6035541371801847], [1.2794275598710592, 0.0, 1.258537555604157, 1.088796755990033], [2.927911102028927, 0.0, 2.8540916791602444, 2.3583705197391094], [4.258049850565859, 0.0, 3.8284332979387052, 2.8725594984414733]]\n",
      "Injectivity [[49995000, 80358063.65222672, 0, 25033416, 40231056.05399981, 12512764, 20064894.479759276], [49995000, 63964980.85575361, 0, 25033416, 31505494.181061994, 12512764, 13623856.851668868], [49995000, 146380915.5459362, 0, 25033416, 71447664.30655693, 12512764, 29509733.73805282], [49995000, 212881202.27904013, 0, 25033416, 95838763.37555155, 12512764, 35943659.079956524]]\n",
      "Epoch 1, Loss: 0.3828369175980697 steps without improvement: 19 best accuracy: 0.9963\n",
      "Epoch 2, Loss: 0.0072656655906939704 steps without improvement: 10 best accuracy: 0.9993\n",
      "Epoch 3, Loss: 0.002645535667625154 steps without improvement: 144 best accuracy: 0.9997\n",
      "Epoch 4, Loss: 0.0014668943836113613 steps without improvement: 690 best accuracy: 0.9998\n",
      "Epoch 5, Loss: 0.0010022889706533533 steps without improvement: 239 best accuracy: 1.0\n"
     ]
    },
    {
     "name": "stderr",
     "output_type": "stream",
     "text": [
      "100%|███████████████████████████████████| 10000/10000 [3:04:49<00:00,  1.11s/it]\n"
     ]
    },
    {
     "name": "stdout",
     "output_type": "stream",
     "text": [
      "Surjectivity: Missing: set() Found: {0, 1}\n",
      "Injectivity [[1.607259651586084, 0.0, 1.6072802594868445, 1.603664866986854], [0.9532000300431138, 0.0, 0.9407256447458406, 0.8004543707036372], [1.9033119486194316, 0.0, 1.74371223277668, 0.8214054080382402], [5.069972775294422, 0.0, 3.9814548072617217, 1.6212243874009242]]\n",
      "Injectivity [[49995000, 80354946.28104627, 0, 24998025, 40178832.10865863, 12500554, 20046699.267671987], [49995000, 47655235.50200547, 0, 24998025, 23516283.18549764, 12500554, 10006123.085516835], [49995000, 95156080.87122849, 0, 24998025, 43589361.987757266, 12500554, 10268022.659074057], [49995000, 253473288.90084466, 0, 24998025, 99528506.8082987, 12500554, 20266203.00082217]]\n",
      "Epoch 1, Loss: 0.4623644460370997 steps without improvement: 9 best accuracy: 0.9617\n",
      "Epoch 2, Loss: 0.04989305537856126 steps without improvement: 33 best accuracy: 0.9955\n",
      "Epoch 3, Loss: 0.012785509368313797 steps without improvement: 145 best accuracy: 0.9982\n",
      "Epoch 4, Loss: 0.006159185772503406 steps without improvement: 299 best accuracy: 0.999\n",
      "Epoch 5, Loss: 0.003913603880391747 steps without improvement: 234 best accuracy: 0.9994\n",
      "Epoch 6, Loss: 0.002790452275064581 steps without improvement: 279 best accuracy: 0.9997\n",
      "Epoch 7, Loss: 0.002149951742637768 steps without improvement: 7 best accuracy: 0.9999\n",
      "Epoch 8, Loss: 0.001688965050192337 steps without improvement: 417 best accuracy: 1.0\n"
     ]
    },
    {
     "name": "stderr",
     "output_type": "stream",
     "text": [
      "100%|███████████████████████████████████| 10000/10000 [3:05:11<00:00,  1.11s/it]\n"
     ]
    },
    {
     "name": "stdout",
     "output_type": "stream",
     "text": [
      "Surjectivity: Missing: set() Found: {0, 1}\n",
      "Injectivity [[1.6079940678433229, 0.0, 1.607914767321643, 1.6042424822107568], [1.1897857630820758, 0.0, 1.1683225430739173, 0.9852627927514517], [1.9513173833679216, 0.0, 1.8640219741382482, 1.2520198990757334], [3.676828120744925, 0.0, 2.9665157407614475, 1.7265219072565339]]\n",
      "Injectivity [[49995000, 80391663.42182693, 0, 25001889, 40200906.53403655, 12510021, 20069107.141548693], [49995000, 59483339.225288376, 0, 25001889, 29210270.5381318, 12510021, 12325658.227839308], [49995000, 97556112.58147924, 0, 25001889, 46604070.49096535, 12510021, 15662795.229855306], [49995000, 183823021.89664254, 0, 25001889, 74168497.26727049, 12510021, 21598825.31673929]]\n",
      "Epoch 1, Loss: 0.44204726628231583 steps without improvement: 6 best accuracy: 0.9684\n",
      "Epoch 2, Loss: 0.05056346689525526 steps without improvement: 74 best accuracy: 0.9924\n",
      "Epoch 3, Loss: 0.019781852772212005 steps without improvement: 55 best accuracy: 0.9973\n",
      "Epoch 4, Loss: 0.012084425419743638 steps without improvement: 133 best accuracy: 0.9986\n",
      "Epoch 5, Loss: 0.008241344975886022 steps without improvement: 39 best accuracy: 0.9993\n",
      "Epoch 6, Loss: 0.0055946464794942585 steps without improvement: 482 best accuracy: 0.9994\n",
      "Epoch 7, Loss: 0.004284360011808985 steps without improvement: 970 best accuracy: 0.9995\n"
     ]
    },
    {
     "name": "stderr",
     "output_type": "stream",
     "text": [
      "100%|███████████████████████████████████| 10000/10000 [3:04:09<00:00,  1.10s/it]\n"
     ]
    },
    {
     "name": "stdout",
     "output_type": "stream",
     "text": [
      "Surjectivity: Missing: set() Found: {0, 1}\n",
      "Injectivity [[1.6061571386875442, 0.0, 1.6061696141760247, 1.6028435674240267], [1.2241925686496185, 0.0, 1.2020133305599345, 1.0290868504151802], [2.721948233475916, 0.0, 2.6377805771929097, 2.0457959256244997], [4.927898843784046, 0.0, 4.534750237042202, 3.3554525440732865]]\n",
      "Injectivity [[49995000, 80299826.14868377, 0, 24997304, 40149910.121120796, 12497797, 20032013.528421298], [49995000, 61203507.46963767, 0, 24997304, 30047092.636059172, 12497797, 12861318.551858287], [49995000, 136083801.93262842, 0, 24997304, 65937402.97338663, 12497797, 25567942.1818821], [49995000, 246370302.69498336, 0, 24997304, 113356530.23941597, 12497797, 41935764.73896149]]\n",
      "Epoch 1, Loss: 0.4044290292367805 steps without improvement: 0 best accuracy: 0.9618\n",
      "Epoch 2, Loss: 0.048057374328891456 steps without improvement: 33 best accuracy: 0.9949\n",
      "Epoch 3, Loss: 0.011773959729907801 steps without improvement: 81 best accuracy: 0.9981\n",
      "Epoch 4, Loss: 0.006154407265398731 steps without improvement: 93 best accuracy: 0.9986\n",
      "Epoch 5, Loss: 0.003940284127224913 steps without improvement: 31 best accuracy: 0.9993\n",
      "Epoch 6, Loss: 0.002869921120463914 steps without improvement: 465 best accuracy: 0.9995\n",
      "Epoch 7, Loss: 0.002165743982601498 steps without improvement: 688 best accuracy: 0.9997\n",
      "Epoch 8, Loss: 0.0020149288107091934 steps without improvement: 865 best accuracy: 0.9998\n"
     ]
    },
    {
     "name": "stderr",
     "output_type": "stream",
     "text": [
      "100%|███████████████████████████████████| 10000/10000 [3:04:57<00:00,  1.11s/it]\n"
     ]
    },
    {
     "name": "stdout",
     "output_type": "stream",
     "text": [
      "Surjectivity: Missing: set() Found: {0, 1}\n",
      "Injectivity [[1.6043662035976995, 0.0, 1.60433194435454, 1.600887214108796], [1.0593074544599934, 0.0, 1.036685836156183, 0.8731391906782866], [1.2158356967631732, 0.0, 1.168732509342229, 0.8686391420728741], [3.0718428998910547, 0.0, 2.356094126087442, 1.6921212678935482]]\n",
      "Injectivity [[49995000, 80210288.34886698, 0, 24995400, 40100918.68191947, 12496178, 20004971.585427627], [49995000, 52960076.18572737, 0, 24995400, 25912377.14905826, 12496178, 10910902.74549181], [49995000, 60785705.65967484, 0, 24995400, 29212936.564012747, 12496178, 10854669.337109923], [49995000, 153576785.7800533, 0, 24995400, 58891515.11920604, 12496178, 21145048.561183464]]\n",
      "Epoch 1, Loss: 0.42178907026391244 steps without improvement: 7 best accuracy: 0.9588\n",
      "Epoch 2, Loss: 0.054393591018197185 steps without improvement: 30 best accuracy: 0.9955\n",
      "Epoch 3, Loss: 0.010968930734179594 steps without improvement: 116 best accuracy: 0.9989\n",
      "Epoch 4, Loss: 0.005071790761803641 steps without improvement: 89 best accuracy: 0.9994\n",
      "Epoch 5, Loss: 0.003430713285837328 steps without improvement: 277 best accuracy: 0.9997\n",
      "Epoch 6, Loss: 0.0025764073668881338 steps without improvement: 807 best accuracy: 0.9998\n"
     ]
    },
    {
     "name": "stderr",
     "output_type": "stream",
     "text": [
      "100%|███████████████████████████████████| 10000/10000 [3:05:08<00:00,  1.11s/it]"
     ]
    },
    {
     "name": "stdout",
     "output_type": "stream",
     "text": [
      "Surjectivity: Missing: set() Found: {0, 1}\n",
      "Injectivity [[1.6074383553947849, 0.0, 1.6073831647598422, 1.6038395700585908], [0.8667285248388393, 0.0, 0.8474861772377078, 0.7255274033345864], [0.8236977808144543, 0.0, 0.7835643753990937, 0.5405897412703982], [2.5808393145957327, 0.0, 1.839171771947828, 1.1665662371696497]]\n",
      "Injectivity [[49995000, 80363880.57796226, 0, 24995289, 40177006.73690687, 12495665, 20041041.98119618], [49995000, 43332092.599317774, 0, 24995289, 21183161.92356173, 12495665, 9065947.380388875], [49995000, 41180770.55181865, 0, 24995289, 19585418.01320484, 12495665, 6755028.30935157], [49995000, 129029061.53321366, 0, 24995289, 45970629.96047805, 12495665, 14577020.89998249]]\n"
     ]
    },
    {
     "name": "stderr",
     "output_type": "stream",
     "text": [
      "\n"
     ]
    }
   ],
   "source": [
    "Full_results=[]\n",
    "for acseed in [4287, 3837, 9097, 2635, 5137, 6442, 5234, 4641, 8039, 2266]:\n",
    "    set_seed(acseed)\n",
    "    X_train,y_train = make_model_dataset(1048576,4,DEVICE)#1048576\n",
    "    X_eval,y_eval   = make_model_dataset(10000,4,DEVICE)#10000\n",
    "    X_test,y_test   = make_model_dataset(10000,4,DEVICE)\n",
    "    X_inj,y_inj   = make_model_dataset(10000,4,DEVICE)#5000\n",
    "   \n",
    "    model,accuracy=make_model(X_train,y_train,X_eval,y_eval,X_test,y_test,input_size=16,epochs=20,device=DEVICE)\n",
    "    Layers=[]\n",
    "    Layers.append((\"Layer1\",model.mlp.h[0]))\n",
    "    Layers.append((\"Layer2\",model.mlp.h[1]))\n",
    "    Layers.append((\"Layer3\",model.mlp.h[2]))\n",
    "\n",
    "\n",
    "    Layer_Save=[[],[],[],[]]\n",
    "    Results=[]\n",
    "    Results.append([0,0,0,0,0,0,0])\n",
    "    Hooks=[]\n",
    "    predicted_classes_set = set()\n",
    "    for acpos,aclayer in enumerate(Layers):\n",
    "        Layer_Save.append([])\n",
    "        Results.append([0,0,0,0,0,0,0])\n",
    "        Hooks.append(register_intervention_hook(Layer_Save,acpos+1,aclayer[1]))\n",
    "    \n",
    "    \n",
    "    test_dataset = TensorDataset(X_inj,y_inj)\n",
    "    test_loader = DataLoader(test_dataset, batch_size=5, shuffle=False)#6400\n",
    "    \n",
    "    \n",
    "    model.eval()\n",
    "    with torch.no_grad():\n",
    "        for X_batch, y_batch in test_loader:\n",
    "            Layer_Save[0].append(X_batch)\n",
    "            output=model(X_batch)\n",
    "            predicted = torch.argmax(output, dim=1)\n",
    "            Layer_Save[-3].append(predicted)\n",
    "            Layer_Save[-2].append(torch.all(X_batch[:, :4] == X_batch[:, 4:8], dim=1))\n",
    "            Layer_Save[-1].append(torch.all(X_batch[:, 8:12] == X_batch[:, 12:16], dim=1))\n",
    "        \n",
    "            # Update set with predictions from this batch\n",
    "            predicted_classes_set.update(predicted.tolist())\n",
    "    for i in range(len(Layer_Save)):\n",
    "        Layer_Save[i]=torch.cat(Layer_Save[i])\n",
    "    for i in tqdm(range(len(Layer_Save[0]))):\n",
    "        for j in range(i+1,len(Layer_Save[0])):\n",
    "            Results[0][0]+=1\n",
    "            Results[0][1]+=torch.norm(Layer_Save[0][i]-Layer_Save[0][j], p=2).item()\n",
    "            if Layer_Save[-3][i]==Layer_Save[-3][j]:\n",
    "                Results[0][3]+=1\n",
    "                Results[0][4]+=torch.norm(Layer_Save[0][i]-Layer_Save[0][j], p=2).item()\n",
    "            if Layer_Save[-2][i]==Layer_Save[-2][j] and Layer_Save[-1][i]==Layer_Save[-1][j]:\n",
    "                Results[0][5]+=1\n",
    "                Results[0][6]+=torch.norm(Layer_Save[0][i]-Layer_Save[0][j], p=2).item()\n",
    "            if torch.equal(Layer_Save[0][i],Layer_Save[0][j]):\n",
    "                Results[0][2]+=1\n",
    "            for k in range(1,len(Layer_Save)-3):\n",
    "                Results[k][0]+=1\n",
    "                Results[k][1]+=torch.norm(Layer_Save[k][i]-Layer_Save[k][j], p=2).item()\n",
    "                if torch.equal(Layer_Save[k][i],Layer_Save[k][j]):\n",
    "                    Results[k][2]+=1\n",
    "                if Layer_Save[-3][i]==Layer_Save[-3][j]:\n",
    "                    Results[k][3]+=1\n",
    "                    Results[k][4]+=torch.norm(Layer_Save[k][i]-Layer_Save[k][j], p=2).item()\n",
    "                if Layer_Save[-2][i]==Layer_Save[-2][j] and Layer_Save[-1][i]==Layer_Save[-1][j]:\n",
    "                    Results[k][5]+=1\n",
    "                    Results[k][6]+=torch.norm(Layer_Save[k][i]-Layer_Save[k][j], p=2).item()\n",
    "    \n",
    "    all_classes_set = set(range(num_classes))\n",
    "    missing_classes_set = all_classes_set - predicted_classes_set\n",
    "    Results_processed=[]\n",
    "    for i in Results:\n",
    "        Results_processed.append([i[1]/i[0],i[2]/i[0],i[4]/i[3],i[6]/i[5]])\n",
    "    print(\"Surjectivity: Missing:\", missing_classes_set,\"Found:\",predicted_classes_set)\n",
    "    print(\"Injectivity\", Results_processed)  \n",
    "    print(\"Injectivity\", Results) \n",
    "    Full_results.append({})\n",
    "    Full_results[-1][\"Results\"]=Results\n",
    "    Full_results[-1][\"Results_processed\"]=Results_processed\n",
    "    Full_results[-1][\"missing_classes_set\"]=list(missing_classes_set)\n",
    "    Full_results[-1][\"predicted_classes_set\"]=list(predicted_classes_set)\n",
    "    with open('results.json', 'w') as f:\n",
    "        json.dump(Full_results, f)"
   ]
  },
  {
   "cell_type": "code",
   "execution_count": 13,
   "id": "ecf8c32d-9643-4007-b3cb-a581ce1b7447",
   "metadata": {},
   "outputs": [],
   "source": [
    "processed_results=[]\n",
    "for ac_results in Full_results:\n",
    "    for i in range(len(ac_results[\"Results_processed\"])):\n",
    "        if len(processed_results)-1<i:\n",
    "            processed_results.append([])\n",
    "        for j in range(len(ac_results[\"Results_processed\"][i])):\n",
    "            if len(processed_results[i])-1<j:\n",
    "                processed_results[i].append([])\n",
    "            processed_results[i][j].append(ac_results[\"Results_processed\"][i][j])"
   ]
  },
  {
   "cell_type": "code",
   "execution_count": 14,
   "id": "cf053b3d-1dd8-4197-9e77-e130c606b3e0",
   "metadata": {},
   "outputs": [],
   "source": [
    "\n",
    "for i in range(len(processed_results)):\n",
    "    for j in range(len(processed_results[i])):\n",
    "        processed_results[i][j]=np.array(processed_results[i][j])\n",
    "        processed_results[i][j]=[round(np.mean(processed_results[i][j]),2),round(np.std(processed_results[i][j]),2)]"
   ]
  },
  {
   "cell_type": "code",
   "execution_count": 15,
   "id": "9a64ac3a-9a08-4e8e-bd74-01e58d63b815",
   "metadata": {},
   "outputs": [
    {
     "data": {
      "text/plain": [
       "[[[1.61, 0.0], [0.0, 0.0], [1.61, 0.0], [1.6, 0.0]],\n",
       " [[1.11, 0.15], [0.0, 0.0], [1.09, 0.14], [0.93, 0.13]],\n",
       " [[1.89, 0.72], [0.0, 0.0], [1.81, 0.71], [1.3, 0.64]],\n",
       " [[3.92, 1.16], [0.0, 0.0], [3.23, 1.24], [2.05, 0.95]]]"
      ]
     },
     "execution_count": 15,
     "metadata": {},
     "output_type": "execute_result"
    }
   ],
   "source": [
    "processed_results"
   ]
  },
  {
   "cell_type": "code",
   "execution_count": null,
   "id": "6cebf1d0-e737-43a8-a968-560ee7c14f28",
   "metadata": {},
   "outputs": [],
   "source": []
  }
 ],
 "metadata": {
  "kernelspec": {
   "display_name": "Python 3 (ipykernel)",
   "language": "python",
   "name": "python3"
  },
  "language_info": {
   "codemirror_mode": {
    "name": "ipython",
    "version": 3
   },
   "file_extension": ".py",
   "mimetype": "text/x-python",
   "name": "python",
   "nbconvert_exporter": "python",
   "pygments_lexer": "ipython3",
   "version": "3.12.7"
  }
 },
 "nbformat": 4,
 "nbformat_minor": 5
}
