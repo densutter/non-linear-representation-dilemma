{
 "cells": [
  {
   "cell_type": "code",
   "execution_count": 1,
   "id": "5f9c7a74-0fa0-4744-819a-12619cec2503",
   "metadata": {},
   "outputs": [],
   "source": [
    "import sys\n",
    "sys.path.append(\"..\")\n",
    "import torch\n",
    "import torch.nn as nn\n",
    "import torch.optim as optim\n",
    "import torch.nn.functional as F\n",
    "import pickle\n",
    "import random\n",
    "import numpy as np\n",
    "import copy\n",
    "import json"
   ]
  },
  {
   "cell_type": "code",
   "execution_count": 2,
   "id": "288d0ed6-20a0-45d1-b3a3-e0f9dea87b97",
   "metadata": {},
   "outputs": [],
   "source": [
    "from das.Classification_Model import make_model_DAS_fitted\n",
    "from das.Helper_Functions import set_seed\n",
    "from das.Dataset_Generation import (make_intervention_dataset_AndOrAnd,\n",
    "                                make_intervention_dataset_AndOr,\n",
    "                                make_intervention_dataset_AndOrAnd_DAS_Fitted,\n",
    "                                make_intervention_dataset_AndOr_DAS_Fitted)\n",
    "from das.RevNet import RevNet\n",
    "from das.Rotation_Model import Rotation\n",
    "from das.DAS import phi_class\n",
    "from das.DAS_MLP import Distributed_Alignment_Search_MLP"
   ]
  },
  {
   "cell_type": "code",
   "execution_count": 3,
   "id": "69c97efd-716b-4155-a0c7-85ffa6295edf",
   "metadata": {},
   "outputs": [],
   "source": [
    "DEVICE  = \"cpu\" #\"cuda\"/\"cpu\"\n",
    "Setting = \"AndOrAnd\"\n",
    "#Setting = \"AndOr\"\n",
    "\n",
    "\n",
    "transformation_config = {\"type\"        : \"Rotation\",\n",
    "                         \"in_features\" :         24}\n",
    "\"\"\"\n",
    "transformation_config = {\"type\"          : \"RevNet\",\n",
    "                         \"number_blocks\" :       10,\n",
    "                         \"in_features\"   :       24,\n",
    "                         \"hidden_size\"   :       24}\n",
    "\"\"\"\n",
    "\n",
    "Max_Epochs                       = 50\n",
    "Early_Stopping_Epochs            = 5\n",
    "early_stopping_improve_threshold = 0.001\n",
    "ReduceLROnPlateau_patience       = 10"
   ]
  },
  {
   "cell_type": "code",
   "execution_count": 4,
   "id": "53e98d55-7e8a-4dec-872c-7b6b1ca6a144",
   "metadata": {},
   "outputs": [
    {
     "name": "stderr",
     "output_type": "stream",
     "text": [
      "/home/master/DAS/DAS_Experiment_V5.5_Cleanup/Dataset_Generation.py:497: UserWarning: Creating a tensor from a list of numpy.ndarrays is extremely slow. Please consider converting the list to a single numpy.ndarray with numpy.array() before converting to a tensor. (Triggered internally at /pytorch/torch/csrc/utils/tensor_new.cpp:254.)\n",
      "  intervention_data[-1][\"sources\"]=torch.tensor([source0,source1], dtype=torch.float32)\n"
     ]
    },
    {
     "name": "stdout",
     "output_type": "stream",
     "text": [
      "start\n",
      "Training:\n"
     ]
    },
    {
     "name": "stderr",
     "output_type": "stream",
     "text": [
      "100%|██████████████████████████████████████████████████████████| 1/1 [00:00<00:00, 153.67it/s]\n"
     ]
    },
    {
     "name": "stdout",
     "output_type": "stream",
     "text": [
      "Eval:\n"
     ]
    },
    {
     "name": "stderr",
     "output_type": "stream",
     "text": [
      "100%|██████████████████████████████████████████████████████████| 1/1 [00:00<00:00, 570.81it/s]"
     ]
    },
    {
     "name": "stdout",
     "output_type": "stream",
     "text": [
      "Epoch 1, Loss: 0.6910429000854492 steps without improvement: 0 eval accuracy: 0.7 best eval accuracy: 0.7 learning rate: 0.001\n"
     ]
    },
    {
     "name": "stderr",
     "output_type": "stream",
     "text": [
      "\n"
     ]
    },
    {
     "name": "stdout",
     "output_type": "stream",
     "text": [
      "Training:\n"
     ]
    },
    {
     "name": "stderr",
     "output_type": "stream",
     "text": [
      "100%|██████████████████████████████████████████████████████████| 1/1 [00:00<00:00, 318.79it/s]\n"
     ]
    },
    {
     "name": "stdout",
     "output_type": "stream",
     "text": [
      "Eval:\n"
     ]
    },
    {
     "name": "stderr",
     "output_type": "stream",
     "text": [
      "100%|██████████████████████████████████████████████████████████| 1/1 [00:00<00:00, 486.58it/s]"
     ]
    },
    {
     "name": "stdout",
     "output_type": "stream",
     "text": [
      "Epoch 2, Loss: 0.6901925802230835 steps without improvement: 1 eval accuracy: 0.7 best eval accuracy: 0.7 learning rate: 0.001\n"
     ]
    },
    {
     "name": "stderr",
     "output_type": "stream",
     "text": [
      "\n"
     ]
    },
    {
     "name": "stdout",
     "output_type": "stream",
     "text": [
      "Training:\n"
     ]
    },
    {
     "name": "stderr",
     "output_type": "stream",
     "text": [
      "100%|██████████████████████████████████████████████████████████| 1/1 [00:00<00:00, 259.12it/s]\n"
     ]
    },
    {
     "name": "stdout",
     "output_type": "stream",
     "text": [
      "Eval:\n"
     ]
    },
    {
     "name": "stderr",
     "output_type": "stream",
     "text": [
      "100%|██████████████████████████████████████████████████████████| 1/1 [00:00<00:00, 487.20it/s]"
     ]
    },
    {
     "name": "stdout",
     "output_type": "stream",
     "text": [
      "Epoch 3, Loss: 0.6893953680992126 steps without improvement: 2 eval accuracy: 0.7 best eval accuracy: 0.7 learning rate: 0.001\n"
     ]
    },
    {
     "name": "stderr",
     "output_type": "stream",
     "text": [
      "\n"
     ]
    },
    {
     "name": "stdout",
     "output_type": "stream",
     "text": [
      "Training:\n"
     ]
    },
    {
     "name": "stderr",
     "output_type": "stream",
     "text": [
      "100%|██████████████████████████████████████████████████████████| 1/1 [00:00<00:00, 202.98it/s]\n"
     ]
    },
    {
     "name": "stdout",
     "output_type": "stream",
     "text": [
      "Eval:\n"
     ]
    },
    {
     "name": "stderr",
     "output_type": "stream",
     "text": [
      "100%|██████████████████████████████████████████████████████████| 1/1 [00:00<00:00, 456.15it/s]"
     ]
    },
    {
     "name": "stdout",
     "output_type": "stream",
     "text": [
      "Epoch 4, Loss: 0.6885528564453125 steps without improvement: 3 eval accuracy: 0.7 best eval accuracy: 0.7 learning rate: 0.001\n"
     ]
    },
    {
     "name": "stderr",
     "output_type": "stream",
     "text": [
      "\n"
     ]
    },
    {
     "name": "stdout",
     "output_type": "stream",
     "text": [
      "Training:\n"
     ]
    },
    {
     "name": "stderr",
     "output_type": "stream",
     "text": [
      "100%|██████████████████████████████████████████████████████████| 1/1 [00:00<00:00, 194.45it/s]\n"
     ]
    },
    {
     "name": "stdout",
     "output_type": "stream",
     "text": [
      "Eval:\n"
     ]
    },
    {
     "name": "stderr",
     "output_type": "stream",
     "text": [
      "100%|██████████████████████████████████████████████████████████| 1/1 [00:00<00:00, 462.74it/s]"
     ]
    },
    {
     "name": "stdout",
     "output_type": "stream",
     "text": [
      "Epoch 5, Loss: 0.6876657605171204 steps without improvement: 4 eval accuracy: 0.7 best eval accuracy: 0.7 learning rate: 0.001\n"
     ]
    },
    {
     "name": "stderr",
     "output_type": "stream",
     "text": [
      "\n"
     ]
    },
    {
     "name": "stdout",
     "output_type": "stream",
     "text": [
      "Training:\n"
     ]
    },
    {
     "name": "stderr",
     "output_type": "stream",
     "text": [
      "100%|██████████████████████████████████████████████████████████| 1/1 [00:00<00:00, 269.70it/s]\n"
     ]
    },
    {
     "name": "stdout",
     "output_type": "stream",
     "text": [
      "Eval:\n"
     ]
    },
    {
     "name": "stderr",
     "output_type": "stream",
     "text": [
      "100%|██████████████████████████████████████████████████████████| 1/1 [00:00<00:00, 382.03it/s]"
     ]
    },
    {
     "name": "stdout",
     "output_type": "stream",
     "text": [
      "Epoch 6, Loss: 0.6867753863334656 steps without improvement: 5 eval accuracy: 0.7 best eval accuracy: 0.7 learning rate: 0.001\n"
     ]
    },
    {
     "name": "stderr",
     "output_type": "stream",
     "text": [
      "\n"
     ]
    },
    {
     "ename": "NameError",
     "evalue": "name 'make_model' is not defined",
     "output_type": "error",
     "traceback": [
      "\u001b[0;31m---------------------------------------------------------------------------\u001b[0m",
      "\u001b[0;31mNameError\u001b[0m                                 Traceback (most recent call last)",
      "Cell \u001b[0;32mIn[4], line 27\u001b[0m\n\u001b[1;32m     14\u001b[0m \u001b[38;5;28mprint\u001b[39m(\u001b[38;5;124m\"\u001b[39m\u001b[38;5;124mstart\u001b[39m\u001b[38;5;124m\"\u001b[39m)\n\u001b[1;32m     15\u001b[0m model,accuracy \u001b[38;5;241m=\u001b[39m make_model_DAS_fitted(DAS_Train\u001b[38;5;241m=\u001b[39mDAS_Train,\n\u001b[1;32m     16\u001b[0m                                        DAS_Test\u001b[38;5;241m=\u001b[39mDAS_Test,\n\u001b[1;32m     17\u001b[0m                                        DAS_Eval\u001b[38;5;241m=\u001b[39mDAS_Eval,\n\u001b[0;32m   (...)\u001b[0m\n\u001b[1;32m     23\u001b[0m                                        early_stopping_improve_threshold\u001b[38;5;241m=\u001b[39m\u001b[38;5;241m0.001\u001b[39m,\n\u001b[1;32m     24\u001b[0m                                        ReduceLROnPlateau_patience\u001b[38;5;241m=\u001b[39m\u001b[38;5;241m10\u001b[39m)\n\u001b[0;32m---> 27\u001b[0m model,accuracy\u001b[38;5;241m=\u001b[39mmake_model(X_train,y_train,X_eval,y_eval,X_test,y_test,input_size\u001b[38;5;241m=\u001b[39mtransformation_config[\u001b[38;5;124m\"\u001b[39m\u001b[38;5;124min_features\u001b[39m\u001b[38;5;124m\"\u001b[39m],epochs\u001b[38;5;241m=\u001b[39m\u001b[38;5;241m20\u001b[39m,device\u001b[38;5;241m=\u001b[39mDEVICE)\n\u001b[1;32m     28\u001b[0m Layers\u001b[38;5;241m=\u001b[39m[]\n\u001b[1;32m     29\u001b[0m Layers\u001b[38;5;241m.\u001b[39mappend((\u001b[38;5;124m\"\u001b[39m\u001b[38;5;124mLayer1\u001b[39m\u001b[38;5;124m\"\u001b[39m,model\u001b[38;5;241m.\u001b[39mmlp\u001b[38;5;241m.\u001b[39mh[\u001b[38;5;241m0\u001b[39m]))\n",
      "\u001b[0;31mNameError\u001b[0m: name 'make_model' is not defined"
     ]
    }
   ],
   "source": [
    "results=[]\n",
    "for acseed in [4287, 3837, 9097, 2635, 5137, 6442, 5234, 4641, 8039, 2266]:\n",
    "    results.append({})\n",
    "    set_seed(acseed)\n",
    "    \n",
    "    DAS_Train = make_intervention_dataset_AndOrAnd_DAS_Fitted(1280000,4)\n",
    "    DAS_Test  = make_intervention_dataset_AndOrAnd_DAS_Fitted(10000,4)\n",
    "    DAS_Eval  = make_intervention_dataset_AndOrAnd_DAS_Fitted(10000,4)\n",
    "    \"\"\"\n",
    "    DAS_Train = make_intervention_dataset_AndOr_DAS_Fitted(1280000,4)\n",
    "    DAS_Test  = make_intervention_dataset_AndOr_DAS_Fitted(10000,4)\n",
    "    DAS_Eval  = make_intervention_dataset_AndOr_DAS_Fitted(10000,4)\n",
    "    \"\"\"\n",
    "    print(\"start\")\n",
    "    model,accuracy = make_model_DAS_fitted(DAS_Train=DAS_Train,\n",
    "                                           DAS_Test=DAS_Test,\n",
    "                                           DAS_Eval=DAS_Eval,\n",
    "                                           Hidden_Layer_Size=24,\n",
    "                                           inter_dim=[list(range(0,12)),list(range(12,24))],\n",
    "                                           DEVICE=DEVICE,\n",
    "                                           Max_Epochs=50,\n",
    "                                           Early_Stopping_Epochs=5,\n",
    "                                           early_stopping_improve_threshold=0.001,\n",
    "                                           ReduceLROnPlateau_patience=10)\n",
    "\n",
    "        \n",
    "    Layers=[]\n",
    "    Layers.append((\"Layer1\",model.mlp.h[0]))\n",
    "    Layers.append((\"Layer2\",model.mlp.h[1]))\n",
    "    Layers.append((\"Layer3\",model.mlp.h[2]))\n",
    "    inter_dims=[]\n",
    "    \n",
    "    inter_dims.append([list(range(0,transformation_config[\"in_features\"]//2)),list(range(transformation_config[\"in_features\"]//2,transformation_config[\"in_features\"]))])\n",
    "    inter_dims.append([list(range(0,2)),list(range(2,4))])\n",
    "    inter_dims.append([list(range(0,1)),list(range(1,2))])\n",
    "    \n",
    "\n",
    "\n",
    "\n",
    "    if Setting == \"AndOrAnd\":\n",
    "        DAS_Train = make_intervention_dataset_AndOrAnd(1280000,4)\n",
    "        DAS_Test  = make_intervention_dataset_AndOrAnd(10000,4)\n",
    "        DAS_Eval  = make_intervention_dataset_AndOrAnd(10000,4)\n",
    "    elif Setting == \"AndOr\":\n",
    "        DAS_Train = make_intervention_dataset_AndOr(1280000,4)\n",
    "        DAS_Test  = make_intervention_dataset_AndOr(10000,4)\n",
    "        DAS_Eval  = make_intervention_dataset_AndOr(10000,4)\n",
    "    else:\n",
    "        Exception(\"Unknown Setting\")\n",
    "        \n",
    "    results[-1][\"accuracy\"]=accuracy\n",
    "    for LayerName,Layer in Layers:\n",
    "        results[-1][LayerName]={}\n",
    "        for inter_dim in inter_dims:\n",
    "            print(LayerName,\":\",inter_dim, flush=True)\n",
    "            \n",
    "    \n",
    "            #Initialize transformation function\n",
    "            if transformation_config[\"type\"]==\"Rotation\":\n",
    "                p = Rotation(transformation_config[\"in_features\"])\n",
    "            elif transformation_config[\"type\"]==\"RevNet\":\n",
    "                p = RevNet(number_blocks =  transformation_config[\"number_blocks\"],\n",
    "                           in_features   =  transformation_config[\"in_features\"],\n",
    "                           hidden_size   =  transformation_config[\"hidden_size\"]\n",
    "                          )\n",
    "            else:\n",
    "                Exception(\"Unknown transformation function\")\n",
    "            p.to(DEVICE)\n",
    "            p_inverse = p.inverse\n",
    "            optimizer = optim.Adam(p.parameters(), lr=0.001)\n",
    "            scheduler = optim.lr_scheduler.ReduceLROnPlateau(optimizer, factor=0.5, patience=ReduceLROnPlateau_patience)\n",
    "            criterion = nn.CrossEntropyLoss()\n",
    "            \n",
    "            \n",
    "            phi=phi_class(p,p_inverse,criterion,optimizer,scheduler)\n",
    "\n",
    "            \n",
    "    \n",
    "            DAS_Experiment=Distributed_Alignment_Search_MLP(Model=model,\n",
    "                                                            Model_Layer=Layer,\n",
    "                                                            Train_Data_Raw=DAS_Train,\n",
    "                                                            Test_Data_Raw=DAS_Test,\n",
    "                                                            Eval_Data_Raw=DAS_Eval,\n",
    "                                                            Hidden_Layer_Size=transformation_config[\"in_features\"],\n",
    "                                                            Variable_Dimensions=inter_dim,\n",
    "                                                            Transformation_Class=phi,\n",
    "                                                            Device=DEVICE)\n",
    "    \n",
    "            DAS_Experiment.train_test(batch_size=6400,\n",
    "                                      epochs=Max_Epochs,\n",
    "                                      mode=1,\n",
    "                                      early_stopping_threshold=Early_Stopping_Epochs,\n",
    "                                      early_stopping_improve_threshold=early_stopping_improve_threshold) #Train\n",
    "    \n",
    "            accuracy=DAS_Experiment.train_test(batch_size=6400,\n",
    "                                               mode=2)#Test\n",
    "            \n",
    "            results[-1][LayerName][str(inter_dim)]=accuracy\n",
    "            DAS_Experiment.Cleanup()\n",
    "            DAS_Experiment=None\n",
    "            with open('results.json', 'w') as f:\n",
    "                json.dump(results, f)"
   ]
  },
  {
   "cell_type": "code",
   "execution_count": null,
   "id": "b0ba4ad5-9c9c-459e-bade-d2fd12154853",
   "metadata": {},
   "outputs": [],
   "source": []
  }
 ],
 "metadata": {
  "kernelspec": {
   "display_name": "Python 3 (ipykernel)",
   "language": "python",
   "name": "python3"
  },
  "language_info": {
   "codemirror_mode": {
    "name": "ipython",
    "version": 3
   },
   "file_extension": ".py",
   "mimetype": "text/x-python",
   "name": "python",
   "nbconvert_exporter": "python",
   "pygments_lexer": "ipython3",
   "version": "3.12.7"
  }
 },
 "nbformat": 4,
 "nbformat_minor": 5
}
