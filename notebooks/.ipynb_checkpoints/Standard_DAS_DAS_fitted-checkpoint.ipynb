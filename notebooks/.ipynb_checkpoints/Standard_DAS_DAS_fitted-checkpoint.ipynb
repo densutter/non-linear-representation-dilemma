{
 "cells": [
  {
   "cell_type": "code",
   "execution_count": 1,
   "id": "5f9c7a74-0fa0-4744-819a-12619cec2503",
   "metadata": {},
   "outputs": [],
   "source": [
    "import sys\n",
    "sys.path.append(\"..\")\n",
    "import torch\n",
    "import torch.nn as nn\n",
    "import torch.optim as optim\n",
    "import torch.nn.functional as F\n",
    "import pickle\n",
    "import random\n",
    "import numpy as np\n",
    "import copy\n",
    "import json"
   ]
  },
  {
   "cell_type": "code",
   "execution_count": 2,
   "id": "58c9cff5-a54e-4fb3-b43b-8cecb263e7b4",
   "metadata": {},
   "outputs": [
    {
     "data": {
      "text/html": [
       "<button onClick=\"this.nextSibling.style.display='block';this.style.display='none';\">Display W&B run</button><iframe src='https://wandb.ai/dummy/dummy/runs/domruq8w?jupyter=true' style='border:none;width:100%;height:420px;display:none;'></iframe>"
      ],
      "text/plain": [
       "<wandb.sdk.wandb_run.Run at 0x742eaa3afdd0>"
      ]
     },
     "execution_count": 2,
     "metadata": {},
     "output_type": "execute_result"
    }
   ],
   "source": [
    "import wandb\n",
    "wandb.init(mode=\"disabled\")"
   ]
  },
  {
   "cell_type": "code",
   "execution_count": 3,
   "id": "288d0ed6-20a0-45d1-b3a3-e0f9dea87b97",
   "metadata": {},
   "outputs": [],
   "source": [
    "from das.Classification_Model import make_model_DAS_fitted\n",
    "from das.Helper_Functions import set_seed\n",
    "from das.Dataset_Generation import (make_intervention_dataset_AndOrAnd,\n",
    "                                make_intervention_dataset_AndOr,\n",
    "                                make_intervention_dataset_AndOrAnd_DAS_Fitted,\n",
    "                                make_intervention_dataset_AndOr_DAS_Fitted)\n",
    "from das.RevNet import RevNet\n",
    "from das.Rotation_Model import Rotation\n",
    "from das.DAS import phi_class\n",
    "from das.DAS_MLP import Distributed_Alignment_Search_MLP"
   ]
  },
  {
   "cell_type": "code",
   "execution_count": 4,
   "id": "69c97efd-716b-4155-a0c7-85ffa6295edf",
   "metadata": {},
   "outputs": [],
   "source": [
    "#For different Settings and transformation functions please adapt this configurations:\n",
    "\n",
    "DEVICE  = \"cpu\" #\"cuda\"/\"cpu\"\n",
    "Setting = \"AndOrAnd\"\n",
    "#Setting = \"AndOr\"\n",
    "\n",
    "FitModelTo = \"AndOrAnd\"\n",
    "#FitModelTo = \"AndOr\"\n",
    "\n",
    "\n",
    "transformation_config = {\"type\"        : \"Rotation\",\n",
    "                         \"in_features\" :         24}\n",
    "\"\"\"\n",
    "transformation_config = {\"type\"          : \"RevNet\",\n",
    "                         \"number_blocks\" :       10,\n",
    "                         \"in_features\"   :       24,\n",
    "                         \"hidden_size\"   :       24}\n",
    "\"\"\"\n",
    "\n",
    "Max_Epochs                       = 50\n",
    "Early_Stopping_Epochs            = 5\n",
    "early_stopping_improve_threshold = 0.001\n",
    "ReduceLROnPlateau_patience       = 10"
   ]
  },
  {
   "cell_type": "code",
   "execution_count": null,
   "id": "53e98d55-7e8a-4dec-872c-7b6b1ca6a144",
   "metadata": {},
   "outputs": [
    {
     "name": "stderr",
     "output_type": "stream",
     "text": [
      "/home/master/DAS/github/Complexity-vs.-Accuracy/notebooks/../das/Dataset_Generation.py:520: UserWarning: Creating a tensor from a list of numpy.ndarrays is extremely slow. Please consider converting the list to a single numpy.ndarray with numpy.array() before converting to a tensor. (Triggered internally at /pytorch/torch/csrc/utils/tensor_new.cpp:254.)\n",
      "  intervention_data[-1][\"sources\"]=torch.tensor([source0,source1], dtype=torch.float32)\n"
     ]
    },
    {
     "name": "stdout",
     "output_type": "stream",
     "text": [
      "start\n",
      "Epoch 1/1 Training:\n"
     ]
    },
    {
     "name": "stderr",
     "output_type": "stream",
     "text": [
      "Loss: 0.4578, Batch Acc: 0.7781: 100%|████████| 200/200 [00:19<00:00, 10.24it/s]\n"
     ]
    },
    {
     "name": "stdout",
     "output_type": "stream",
     "text": [
      "Validation:\n"
     ]
    },
    {
     "name": "stderr",
     "output_type": "stream",
     "text": [
      "Validation Accuracy: 0.7681: 100%|████████████████| 2/2 [00:00<00:00, 11.67it/s]"
     ]
    },
    {
     "name": "stdout",
     "output_type": "stream",
     "text": [
      "Epoch 1, Avg Loss: 0.6175,  Steps w/o Improvement: 0,  Eval Loss (End of Epoch): inf , LR for next epoch (base): 0.001\n"
     ]
    },
    {
     "name": "stderr",
     "output_type": "stream",
     "text": [
      "\n"
     ]
    },
    {
     "name": "stdout",
     "output_type": "stream",
     "text": [
      "Loading best phi with loss: 0.9483\n",
      "Layer1 : [[0, 1, 2, 3, 4, 5, 6, 7, 8, 9, 10, 11], [12, 13, 14, 15, 16, 17, 18, 19, 20, 21, 22, 23]]\n",
      "Epoch 1, Avg Loss: 0.6506,  Steps w/o Improvement: 0,  Eval Loss (End of Epoch): inf , LR for next epoch (base): 0.001\n",
      "Loading best phi with loss: 1.1320\n",
      "Layer1 : [[0, 1], [2, 3]]\n",
      "Epoch 1, Avg Loss: 0.8515,  Steps w/o Improvement: 0,  Eval Loss (End of Epoch): inf , LR for next epoch (base): 0.001\n",
      "Loading best phi with loss: 1.2979\n",
      "Layer1 : [[0], [1]]\n",
      "Epoch 1, Avg Loss: 0.8512,  Steps w/o Improvement: 0,  Eval Loss (End of Epoch): inf , LR for next epoch (base): 0.001\n",
      "Loading best phi with loss: 1.3311\n",
      "Layer2 : [[0, 1, 2, 3, 4, 5, 6, 7, 8, 9, 10, 11], [12, 13, 14, 15, 16, 17, 18, 19, 20, 21, 22, 23]]\n",
      "Epoch 1, Avg Loss: 0.5362,  Steps w/o Improvement: 0,  Eval Loss (End of Epoch): inf , LR for next epoch (base): 0.001\n",
      "Loading best phi with loss: 1.0399\n",
      "Layer2 : [[0, 1], [2, 3]]\n",
      "Epoch 1, Avg Loss: 0.6812,  Steps w/o Improvement: 0,  Eval Loss (End of Epoch): inf , LR for next epoch (base): 0.001\n",
      "Loading best phi with loss: 1.0743\n",
      "Layer2 : [[0], [1]]\n",
      "Epoch 1, Avg Loss: 0.6957,  Steps w/o Improvement: 0,  Eval Loss (End of Epoch): inf , LR for next epoch (base): 0.001\n",
      "Loading best phi with loss: 1.1048\n",
      "Layer3 : [[0, 1, 2, 3, 4, 5, 6, 7, 8, 9, 10, 11], [12, 13, 14, 15, 16, 17, 18, 19, 20, 21, 22, 23]]\n",
      "Epoch 1, Avg Loss: 0.5389,  Steps w/o Improvement: 0,  Eval Loss (End of Epoch): inf , LR for next epoch (base): 0.001\n",
      "Loading best phi with loss: 1.0726\n",
      "Layer3 : [[0, 1], [2, 3]]\n",
      "Epoch 1, Avg Loss: 0.6515,  Steps w/o Improvement: 0,  Eval Loss (End of Epoch): inf , LR for next epoch (base): 0.001\n",
      "Loading best phi with loss: 1.0828\n",
      "Layer3 : [[0], [1]]\n",
      "Epoch 1, Avg Loss: 0.6544,  Steps w/o Improvement: 0,  Eval Loss (End of Epoch): inf , LR for next epoch (base): 0.001\n",
      "Loading best phi with loss: 1.0925\n",
      "start\n",
      "Epoch 1/1 Training:\n"
     ]
    },
    {
     "name": "stderr",
     "output_type": "stream",
     "text": [
      "Loss: 0.3332, Batch Acc: 0.8553: 100%|████████| 200/200 [00:19<00:00, 10.38it/s]\n"
     ]
    },
    {
     "name": "stdout",
     "output_type": "stream",
     "text": [
      "Validation:\n"
     ]
    },
    {
     "name": "stderr",
     "output_type": "stream",
     "text": [
      "Validation Accuracy: 0.8588: 100%|████████████████| 2/2 [00:00<00:00, 14.64it/s]"
     ]
    },
    {
     "name": "stdout",
     "output_type": "stream",
     "text": [
      "Epoch 1, Avg Loss: 0.5797,  Steps w/o Improvement: 0,  Eval Loss (End of Epoch): inf , LR for next epoch (base): 0.001\n"
     ]
    },
    {
     "name": "stderr",
     "output_type": "stream",
     "text": [
      "\n"
     ]
    },
    {
     "name": "stdout",
     "output_type": "stream",
     "text": [
      "Loading best phi with loss: 0.6521\n",
      "Layer1 : [[0, 1, 2, 3, 4, 5, 6, 7, 8, 9, 10, 11], [12, 13, 14, 15, 16, 17, 18, 19, 20, 21, 22, 23]]\n",
      "Epoch 1, Avg Loss: 0.4898,  Steps w/o Improvement: 0,  Eval Loss (End of Epoch): inf , LR for next epoch (base): 0.001\n",
      "Loading best phi with loss: 0.8451\n",
      "Layer1 : [[0, 1], [2, 3]]\n",
      "Epoch 1, Avg Loss: 0.7841,  Steps w/o Improvement: 0,  Eval Loss (End of Epoch): inf , LR for next epoch (base): 0.001\n",
      "Loading best phi with loss: 0.9803\n",
      "Layer1 : [[0], [1]]\n",
      "Epoch 1, Avg Loss: 0.9997,  Steps w/o Improvement: 0,  Eval Loss (End of Epoch): inf , LR for next epoch (base): 0.001\n",
      "Loading best phi with loss: 1.1802\n",
      "Layer2 : [[0, 1, 2, 3, 4, 5, 6, 7, 8, 9, 10, 11], [12, 13, 14, 15, 16, 17, 18, 19, 20, 21, 22, 23]]\n",
      "Epoch 1, Avg Loss: 0.4065,  Steps w/o Improvement: 0,  Eval Loss (End of Epoch): inf , LR for next epoch (base): 0.001\n",
      "Loading best phi with loss: 0.7626\n",
      "Layer2 : [[0, 1], [2, 3]]\n",
      "Epoch 1, Avg Loss: 0.5908,  Steps w/o Improvement: 0,  Eval Loss (End of Epoch): inf , LR for next epoch (base): 0.001\n",
      "Loading best phi with loss: 0.8457\n",
      "Layer2 : [[0], [1]]\n",
      "Epoch 1, Avg Loss: 0.7083,  Steps w/o Improvement: 0,  Eval Loss (End of Epoch): inf , LR for next epoch (base): 0.001\n",
      "Loading best phi with loss: 1.0106\n",
      "Layer3 : [[0, 1, 2, 3, 4, 5, 6, 7, 8, 9, 10, 11], [12, 13, 14, 15, 16, 17, 18, 19, 20, 21, 22, 23]]\n",
      "Epoch 1, Avg Loss: 0.4994,  Steps w/o Improvement: 0,  Eval Loss (End of Epoch): inf , LR for next epoch (base): 0.001\n",
      "Loading best phi with loss: 0.9538\n",
      "Layer3 : [[0, 1], [2, 3]]\n",
      "Epoch 1, Avg Loss: 0.6080,  Steps w/o Improvement: 0,  Eval Loss (End of Epoch): inf , LR for next epoch (base): 0.001\n",
      "Loading best phi with loss: 0.9733\n",
      "Layer3 : [[0], [1]]\n",
      "Epoch 1, Avg Loss: 0.7687,  Steps w/o Improvement: 0,  Eval Loss (End of Epoch): inf , LR for next epoch (base): 0.001\n",
      "Loading best phi with loss: 1.0515\n",
      "start\n",
      "Epoch 1/1 Training:\n"
     ]
    },
    {
     "name": "stderr",
     "output_type": "stream",
     "text": [
      "Loss: 0.4249, Batch Acc: 0.7989: 100%|████████| 200/200 [00:19<00:00, 10.09it/s]\n"
     ]
    },
    {
     "name": "stdout",
     "output_type": "stream",
     "text": [
      "Validation:\n"
     ]
    },
    {
     "name": "stderr",
     "output_type": "stream",
     "text": [
      "Validation Accuracy: 0.8005: 100%|████████████████| 2/2 [00:00<00:00, 16.26it/s]"
     ]
    },
    {
     "name": "stdout",
     "output_type": "stream",
     "text": [
      "Epoch 1, Avg Loss: 0.6253,  Steps w/o Improvement: 0,  Eval Loss (End of Epoch): inf , LR for next epoch (base): 0.001\n"
     ]
    },
    {
     "name": "stderr",
     "output_type": "stream",
     "text": [
      "\n"
     ]
    },
    {
     "name": "stdout",
     "output_type": "stream",
     "text": [
      "Loading best phi with loss: 0.8509\n",
      "Layer1 : [[0, 1, 2, 3, 4, 5, 6, 7, 8, 9, 10, 11], [12, 13, 14, 15, 16, 17, 18, 19, 20, 21, 22, 23]]\n",
      "Epoch 1, Avg Loss: 0.5625,  Steps w/o Improvement: 0,  Eval Loss (End of Epoch): inf , LR for next epoch (base): 0.001\n",
      "Loading best phi with loss: 1.0349\n",
      "Layer1 : [[0, 1], [2, 3]]\n",
      "Epoch 1, Avg Loss: 0.7477,  Steps w/o Improvement: 0,  Eval Loss (End of Epoch): inf , LR for next epoch (base): 0.001\n",
      "Loading best phi with loss: 1.1608\n",
      "Layer1 : [[0], [1]]\n",
      "Epoch 1, Avg Loss: 0.7835,  Steps w/o Improvement: 0,  Eval Loss (End of Epoch): inf , LR for next epoch (base): 0.001\n",
      "Loading best phi with loss: 1.2250\n",
      "Layer2 : [[0, 1, 2, 3, 4, 5, 6, 7, 8, 9, 10, 11], [12, 13, 14, 15, 16, 17, 18, 19, 20, 21, 22, 23]]\n",
      "Epoch 1, Avg Loss: 0.4784,  Steps w/o Improvement: 0,  Eval Loss (End of Epoch): inf , LR for next epoch (base): 0.001\n",
      "Loading best phi with loss: 0.9359\n",
      "Layer2 : [[0, 1], [2, 3]]\n",
      "Epoch 1, Avg Loss: 0.6236,  Steps w/o Improvement: 0,  Eval Loss (End of Epoch): inf , LR for next epoch (base): 0.001\n",
      "Loading best phi with loss: 1.0136\n",
      "Layer2 : [[0], [1]]\n",
      "Epoch 1, Avg Loss: 0.6269,  Steps w/o Improvement: 0,  Eval Loss (End of Epoch): inf , LR for next epoch (base): 0.001\n",
      "Loading best phi with loss: 1.0383\n",
      "Layer3 : [[0, 1, 2, 3, 4, 5, 6, 7, 8, 9, 10, 11], [12, 13, 14, 15, 16, 17, 18, 19, 20, 21, 22, 23]]\n",
      "Epoch 1, Avg Loss: 0.5004,  Steps w/o Improvement: 0,  Eval Loss (End of Epoch): inf , LR for next epoch (base): 0.001\n",
      "Loading best phi with loss: 0.9900\n",
      "Layer3 : [[0, 1], [2, 3]]\n",
      "Epoch 1, Avg Loss: 0.5778,  Steps w/o Improvement: 0,  Eval Loss (End of Epoch): inf , LR for next epoch (base): 0.001\n",
      "Loading best phi with loss: 1.0122\n",
      "Layer3 : [[0], [1]]\n",
      "Epoch 1, Avg Loss: 0.6935,  Steps w/o Improvement: 0,  Eval Loss (End of Epoch): inf , LR for next epoch (base): 0.001\n",
      "Loading best phi with loss: 1.0439\n",
      "start\n",
      "Epoch 1/1 Training:\n"
     ]
    },
    {
     "name": "stderr",
     "output_type": "stream",
     "text": [
      "Loss: 0.4694, Batch Acc: 0.7833: 100%|████████| 200/200 [00:26<00:00,  7.63it/s]\n"
     ]
    },
    {
     "name": "stdout",
     "output_type": "stream",
     "text": [
      "Validation:\n"
     ]
    },
    {
     "name": "stderr",
     "output_type": "stream",
     "text": [
      "Validation Accuracy: 0.7831: 100%|████████████████| 2/2 [00:00<00:00,  7.79it/s]"
     ]
    },
    {
     "name": "stdout",
     "output_type": "stream",
     "text": [
      "Epoch 1, Avg Loss: 0.6389,  Steps w/o Improvement: 0,  Eval Loss (End of Epoch): inf , LR for next epoch (base): 0.001\n"
     ]
    },
    {
     "name": "stderr",
     "output_type": "stream",
     "text": [
      "\n"
     ]
    },
    {
     "name": "stdout",
     "output_type": "stream",
     "text": [
      "Loading best phi with loss: 0.9341\n",
      "Layer1 : [[0, 1, 2, 3, 4, 5, 6, 7, 8, 9, 10, 11], [12, 13, 14, 15, 16, 17, 18, 19, 20, 21, 22, 23]]\n",
      "Epoch 1, Avg Loss: 0.5906,  Steps w/o Improvement: 0,  Eval Loss (End of Epoch): inf , LR for next epoch (base): 0.001\n",
      "Loading best phi with loss: 1.0583\n",
      "Layer1 : [[0, 1], [2, 3]]\n",
      "Epoch 1, Avg Loss: 0.6887,  Steps w/o Improvement: 0,  Eval Loss (End of Epoch): inf , LR for next epoch (base): 0.001\n",
      "Loading best phi with loss: 1.1079\n",
      "Layer1 : [[0], [1]]\n",
      "Epoch 1, Avg Loss: 0.7905,  Steps w/o Improvement: 0,  Eval Loss (End of Epoch): inf , LR for next epoch (base): 0.001\n",
      "Loading best phi with loss: 1.2373\n",
      "Layer2 : [[0, 1, 2, 3, 4, 5, 6, 7, 8, 9, 10, 11], [12, 13, 14, 15, 16, 17, 18, 19, 20, 21, 22, 23]]\n",
      "Epoch 1, Avg Loss: 0.5334,  Steps w/o Improvement: 0,  Eval Loss (End of Epoch): inf , LR for next epoch (base): 0.001\n",
      "Loading best phi with loss: 1.0179\n",
      "Layer2 : [[0, 1], [2, 3]]\n",
      "Epoch 1, Avg Loss: 0.6164,  Steps w/o Improvement: 0,  Eval Loss (End of Epoch): inf , LR for next epoch (base): 0.001\n",
      "Loading best phi with loss: 1.0700\n",
      "Layer2 : [[0], [1]]\n",
      "Epoch 1, Avg Loss: 0.7169,  Steps w/o Improvement: 0,  Eval Loss (End of Epoch): inf , LR for next epoch (base): 0.001\n",
      "Loading best phi with loss: 1.1594\n",
      "Layer3 : [[0, 1, 2, 3, 4, 5, 6, 7, 8, 9, 10, 11], [12, 13, 14, 15, 16, 17, 18, 19, 20, 21, 22, 23]]\n",
      "Epoch 1, Avg Loss: 0.5317,  Steps w/o Improvement: 0,  Eval Loss (End of Epoch): inf , LR for next epoch (base): 0.001\n",
      "Loading best phi with loss: 1.0471\n",
      "Layer3 : [[0, 1], [2, 3]]\n",
      "Epoch 1, Avg Loss: 0.5961,  Steps w/o Improvement: 0,  Eval Loss (End of Epoch): inf , LR for next epoch (base): 0.001\n",
      "Loading best phi with loss: 1.0613\n",
      "Layer3 : [[0], [1]]\n",
      "Epoch 1, Avg Loss: 0.6287,  Steps w/o Improvement: 0,  Eval Loss (End of Epoch): inf , LR for next epoch (base): 0.001\n",
      "Loading best phi with loss: 1.0801\n",
      "start\n",
      "Epoch 1/1 Training:\n"
     ]
    },
    {
     "name": "stderr",
     "output_type": "stream",
     "text": [
      "Loss: 0.2998, Batch Acc: 0.8755: 100%|████████| 200/200 [00:19<00:00, 10.31it/s]\n"
     ]
    },
    {
     "name": "stdout",
     "output_type": "stream",
     "text": [
      "Validation:\n"
     ]
    },
    {
     "name": "stderr",
     "output_type": "stream",
     "text": [
      "Validation Accuracy: 0.8725: 100%|████████████████| 2/2 [00:00<00:00, 14.96it/s]"
     ]
    },
    {
     "name": "stdout",
     "output_type": "stream",
     "text": [
      "Epoch 1, Avg Loss: 0.5495,  Steps w/o Improvement: 0,  Eval Loss (End of Epoch): inf , LR for next epoch (base): 0.001\n"
     ]
    },
    {
     "name": "stderr",
     "output_type": "stream",
     "text": [
      "\n"
     ]
    },
    {
     "name": "stdout",
     "output_type": "stream",
     "text": [
      "Loading best phi with loss: 0.6131\n",
      "Layer1 : [[0, 1, 2, 3, 4, 5, 6, 7, 8, 9, 10, 11], [12, 13, 14, 15, 16, 17, 18, 19, 20, 21, 22, 23]]\n",
      "Epoch 1, Avg Loss: 0.5347,  Steps w/o Improvement: 0,  Eval Loss (End of Epoch): inf , LR for next epoch (base): 0.001\n",
      "Loading best phi with loss: 0.7860\n",
      "Layer1 : [[0, 1], [2, 3]]\n",
      "Epoch 1, Avg Loss: 0.8260,  Steps w/o Improvement: 0,  Eval Loss (End of Epoch): inf , LR for next epoch (base): 0.001\n",
      "Loading best phi with loss: 1.0118\n",
      "Layer1 : [[0], [1]]\n",
      "Epoch 1, Avg Loss: 1.0216,  Steps w/o Improvement: 0,  Eval Loss (End of Epoch): inf , LR for next epoch (base): 0.001\n",
      "Loading best phi with loss: 1.4857\n",
      "Layer2 : [[0, 1, 2, 3, 4, 5, 6, 7, 8, 9, 10, 11], [12, 13, 14, 15, 16, 17, 18, 19, 20, 21, 22, 23]]\n",
      "Epoch 1, Avg Loss: 0.4281,  Steps w/o Improvement: 0,  Eval Loss (End of Epoch): inf , LR for next epoch (base): 0.001\n",
      "Loading best phi with loss: 0.6907\n",
      "Layer2 : [[0, 1], [2, 3]]\n",
      "Epoch 1, Avg Loss: 0.5666,  Steps w/o Improvement: 0,  Eval Loss (End of Epoch): inf , LR for next epoch (base): 0.001\n",
      "Loading best phi with loss: 0.7226\n",
      "Layer2 : [[0], [1]]\n",
      "Epoch 1, Avg Loss: 0.7452,  Steps w/o Improvement: 0,  Eval Loss (End of Epoch): inf , LR for next epoch (base): 0.001\n",
      "Loading best phi with loss: 0.8464\n",
      "Layer3 : [[0, 1, 2, 3, 4, 5, 6, 7, 8, 9, 10, 11], [12, 13, 14, 15, 16, 17, 18, 19, 20, 21, 22, 23]]\n",
      "Epoch 1, Avg Loss: 0.4896,  Steps w/o Improvement: 0,  Eval Loss (End of Epoch): inf , LR for next epoch (base): 0.001\n",
      "Loading best phi with loss: 0.9210\n",
      "Layer3 : [[0, 1], [2, 3]]\n",
      "Epoch 1, Avg Loss: 0.6049,  Steps w/o Improvement: 0,  Eval Loss (End of Epoch): inf , LR for next epoch (base): 0.001\n",
      "Loading best phi with loss: 0.9704\n",
      "Layer3 : [[0], [1]]\n",
      "Epoch 1, Avg Loss: 0.7879,  Steps w/o Improvement: 0,  Eval Loss (End of Epoch): inf , LR for next epoch (base): 0.001\n",
      "Loading best phi with loss: 1.0105\n",
      "start\n",
      "Epoch 1/1 Training:\n"
     ]
    },
    {
     "name": "stderr",
     "output_type": "stream",
     "text": [
      "Loss: 0.4880, Batch Acc: 0.7797: 100%|████████| 200/200 [00:20<00:00,  9.89it/s]\n"
     ]
    },
    {
     "name": "stdout",
     "output_type": "stream",
     "text": [
      "Validation:\n"
     ]
    },
    {
     "name": "stderr",
     "output_type": "stream",
     "text": [
      "Validation Accuracy: 0.7795: 100%|████████████████| 2/2 [00:00<00:00, 16.42it/s]"
     ]
    },
    {
     "name": "stdout",
     "output_type": "stream",
     "text": [
      "Epoch 1, Avg Loss: 0.6493,  Steps w/o Improvement: 0,  Eval Loss (End of Epoch): inf , LR for next epoch (base): 0.001\n"
     ]
    },
    {
     "name": "stderr",
     "output_type": "stream",
     "text": [
      "\n"
     ]
    },
    {
     "name": "stdout",
     "output_type": "stream",
     "text": [
      "Loading best phi with loss: 0.9614\n",
      "Layer1 : [[0, 1, 2, 3, 4, 5, 6, 7, 8, 9, 10, 11], [12, 13, 14, 15, 16, 17, 18, 19, 20, 21, 22, 23]]\n",
      "Epoch 1, Avg Loss: 0.5820,  Steps w/o Improvement: 0,  Eval Loss (End of Epoch): inf , LR for next epoch (base): 0.001\n",
      "Loading best phi with loss: 1.0737\n",
      "Layer1 : [[0, 1], [2, 3]]\n",
      "Epoch 1, Avg Loss: 0.6908,  Steps w/o Improvement: 0,  Eval Loss (End of Epoch): inf , LR for next epoch (base): 0.001\n",
      "Loading best phi with loss: 1.1638\n",
      "Layer1 : [[0], [1]]\n",
      "Epoch 1, Avg Loss: 0.7374,  Steps w/o Improvement: 0,  Eval Loss (End of Epoch): inf , LR for next epoch (base): 0.001\n",
      "Loading best phi with loss: 1.1684\n",
      "Layer2 : [[0, 1, 2, 3, 4, 5, 6, 7, 8, 9, 10, 11], [12, 13, 14, 15, 16, 17, 18, 19, 20, 21, 22, 23]]\n",
      "Epoch 1, Avg Loss: 0.5273,  Steps w/o Improvement: 0,  Eval Loss (End of Epoch): inf , LR for next epoch (base): 0.001\n",
      "Loading best phi with loss: 1.0390\n",
      "Layer2 : [[0, 1], [2, 3]]\n",
      "Epoch 1, Avg Loss: 0.6216,  Steps w/o Improvement: 0,  Eval Loss (End of Epoch): inf , LR for next epoch (base): 0.001\n",
      "Loading best phi with loss: 1.0807\n",
      "Layer2 : [[0], [1]]\n",
      "Epoch 1, Avg Loss: 0.6837,  Steps w/o Improvement: 0,  Eval Loss (End of Epoch): inf , LR for next epoch (base): 0.001\n",
      "Loading best phi with loss: 1.1251\n",
      "Layer3 : [[0, 1, 2, 3, 4, 5, 6, 7, 8, 9, 10, 11], [12, 13, 14, 15, 16, 17, 18, 19, 20, 21, 22, 23]]\n",
      "Epoch 1, Avg Loss: 0.5429,  Steps w/o Improvement: 0,  Eval Loss (End of Epoch): inf , LR for next epoch (base): 0.001\n",
      "Loading best phi with loss: 1.0748\n",
      "Layer3 : [[0, 1], [2, 3]]\n",
      "Epoch 1, Avg Loss: 0.6180,  Steps w/o Improvement: 0,  Eval Loss (End of Epoch): inf , LR for next epoch (base): 0.001\n",
      "Loading best phi with loss: 1.0829\n",
      "Layer3 : [[0], [1]]\n",
      "Epoch 1, Avg Loss: 0.6615,  Steps w/o Improvement: 0,  Eval Loss (End of Epoch): inf , LR for next epoch (base): 0.001\n",
      "Loading best phi with loss: 1.1048\n",
      "start\n",
      "Epoch 1/1 Training:\n"
     ]
    },
    {
     "name": "stderr",
     "output_type": "stream",
     "text": [
      "Loss: 0.5456, Batch Acc: 0.7231: 100%|████████| 200/200 [00:28<00:00,  7.07it/s]\n"
     ]
    },
    {
     "name": "stdout",
     "output_type": "stream",
     "text": [
      "Validation:\n"
     ]
    },
    {
     "name": "stderr",
     "output_type": "stream",
     "text": [
      "Validation Accuracy: 0.7269: 100%|████████████████| 2/2 [00:00<00:00,  6.44it/s]"
     ]
    },
    {
     "name": "stdout",
     "output_type": "stream",
     "text": [
      "Epoch 1, Avg Loss: 0.6572,  Steps w/o Improvement: 0,  Eval Loss (End of Epoch): inf , LR for next epoch (base): 0.001\n"
     ]
    },
    {
     "name": "stderr",
     "output_type": "stream",
     "text": [
      "\n"
     ]
    },
    {
     "name": "stdout",
     "output_type": "stream",
     "text": [
      "Loading best phi with loss: 1.0798\n",
      "Layer1 : [[0, 1, 2, 3, 4, 5, 6, 7, 8, 9, 10, 11], [12, 13, 14, 15, 16, 17, 18, 19, 20, 21, 22, 23]]\n",
      "Epoch 1, Avg Loss: 0.5861,  Steps w/o Improvement: 0,  Eval Loss (End of Epoch): inf , LR for next epoch (base): 0.001\n",
      "Loading best phi with loss: 1.1244\n",
      "Layer1 : [[0, 1], [2, 3]]\n",
      "Epoch 1, Avg Loss: 0.7040,  Steps w/o Improvement: 0,  Eval Loss (End of Epoch): inf , LR for next epoch (base): 0.001\n",
      "Loading best phi with loss: 1.1681\n",
      "Layer1 : [[0], [1]]\n",
      "Epoch 1, Avg Loss: 0.7596,  Steps w/o Improvement: 0,  Eval Loss (End of Epoch): inf , LR for next epoch (base): 0.001\n",
      "Loading best phi with loss: 1.2690\n",
      "Layer2 : [[0, 1, 2, 3, 4, 5, 6, 7, 8, 9, 10, 11], [12, 13, 14, 15, 16, 17, 18, 19, 20, 21, 22, 23]]\n",
      "Epoch 1, Avg Loss: 0.5883,  Steps w/o Improvement: 0,  Eval Loss (End of Epoch): inf , LR for next epoch (base): 0.001\n",
      "Loading best phi with loss: 1.1536\n",
      "Layer2 : [[0, 1], [2, 3]]\n",
      "Epoch 1, Avg Loss: 0.6678,  Steps w/o Improvement: 0,  Eval Loss (End of Epoch): inf , LR for next epoch (base): 0.001\n",
      "Loading best phi with loss: 1.1908\n",
      "Layer2 : [[0], [1]]\n",
      "Epoch 1, Avg Loss: 0.7032,  Steps w/o Improvement: 0,  Eval Loss (End of Epoch): inf , LR for next epoch (base): 0.001\n",
      "Loading best phi with loss: 1.2188\n",
      "Layer3 : [[0, 1, 2, 3, 4, 5, 6, 7, 8, 9, 10, 11], [12, 13, 14, 15, 16, 17, 18, 19, 20, 21, 22, 23]]\n",
      "Epoch 1, Avg Loss: 0.5975,  Steps w/o Improvement: 0,  Eval Loss (End of Epoch): inf , LR for next epoch (base): 0.001\n",
      "Loading best phi with loss: 1.1871\n",
      "Layer3 : [[0, 1], [2, 3]]\n",
      "Epoch 1, Avg Loss: 0.6355,  Steps w/o Improvement: 0,  Eval Loss (End of Epoch): inf , LR for next epoch (base): 0.001\n",
      "Loading best phi with loss: 1.1934\n",
      "Layer3 : [[0], [1]]\n",
      "Epoch 1, Avg Loss: 0.6678,  Steps w/o Improvement: 0,  Eval Loss (End of Epoch): inf , LR for next epoch (base): 0.001\n",
      "Loading best phi with loss: 1.2085\n",
      "start\n",
      "Epoch 1/1 Training:\n"
     ]
    },
    {
     "name": "stderr",
     "output_type": "stream",
     "text": [
      "Loss: 0.3579, Batch Acc: 0.8384: 100%|████████| 200/200 [00:17<00:00, 11.28it/s]\n"
     ]
    },
    {
     "name": "stdout",
     "output_type": "stream",
     "text": [
      "Validation:\n"
     ]
    },
    {
     "name": "stderr",
     "output_type": "stream",
     "text": [
      "Validation Accuracy: 0.8385: 100%|████████████████| 2/2 [00:00<00:00, 14.31it/s]"
     ]
    },
    {
     "name": "stdout",
     "output_type": "stream",
     "text": [
      "Epoch 1, Avg Loss: 0.5829,  Steps w/o Improvement: 0,  Eval Loss (End of Epoch): inf , LR for next epoch (base): 0.001\n"
     ]
    },
    {
     "name": "stderr",
     "output_type": "stream",
     "text": [
      "\n"
     ]
    },
    {
     "name": "stdout",
     "output_type": "stream",
     "text": [
      "Loading best phi with loss: 0.7193\n",
      "Layer1 : [[0, 1, 2, 3, 4, 5, 6, 7, 8, 9, 10, 11], [12, 13, 14, 15, 16, 17, 18, 19, 20, 21, 22, 23]]\n",
      "Epoch 1, Avg Loss: 0.5579,  Steps w/o Improvement: 0,  Eval Loss (End of Epoch): inf , LR for next epoch (base): 0.001\n",
      "Loading best phi with loss: 0.8986\n",
      "Layer1 : [[0, 1], [2, 3]]\n",
      "Epoch 1, Avg Loss: 0.7321,  Steps w/o Improvement: 0,  Eval Loss (End of Epoch): inf , LR for next epoch (base): 0.001\n",
      "Loading best phi with loss: 0.9812\n",
      "Layer1 : [[0], [1]]\n",
      "Epoch 1, Avg Loss: 0.9129,  Steps w/o Improvement: 0,  Eval Loss (End of Epoch): inf , LR for next epoch (base): 0.001\n",
      "Loading best phi with loss: 1.4622\n",
      "Layer2 : [[0, 1, 2, 3, 4, 5, 6, 7, 8, 9, 10, 11], [12, 13, 14, 15, 16, 17, 18, 19, 20, 21, 22, 23]]\n",
      "Epoch 1, Avg Loss: 0.4422,  Steps w/o Improvement: 0,  Eval Loss (End of Epoch): inf , LR for next epoch (base): 0.001\n",
      "Loading best phi with loss: 0.8426\n",
      "Layer2 : [[0, 1], [2, 3]]\n",
      "Epoch 1, Avg Loss: 0.6505,  Steps w/o Improvement: 0,  Eval Loss (End of Epoch): inf , LR for next epoch (base): 0.001\n",
      "Loading best phi with loss: 0.9568\n",
      "Layer2 : [[0], [1]]\n",
      "Epoch 1, Avg Loss: 0.6577,  Steps w/o Improvement: 0,  Eval Loss (End of Epoch): inf , LR for next epoch (base): 0.001\n",
      "Loading best phi with loss: 0.9835\n",
      "Layer3 : [[0, 1, 2, 3, 4, 5, 6, 7, 8, 9, 10, 11], [12, 13, 14, 15, 16, 17, 18, 19, 20, 21, 22, 23]]\n",
      "Epoch 1, Avg Loss: 0.4830,  Steps w/o Improvement: 0,  Eval Loss (End of Epoch): inf , LR for next epoch (base): 0.001\n",
      "Loading best phi with loss: 0.9589\n",
      "Layer3 : [[0, 1], [2, 3]]\n",
      "Epoch 1, Avg Loss: 0.6217,  Steps w/o Improvement: 0,  Eval Loss (End of Epoch): inf , LR for next epoch (base): 0.001\n",
      "Loading best phi with loss: 1.0063\n",
      "Layer3 : [[0], [1]]\n",
      "Epoch 1, Avg Loss: 0.7303,  Steps w/o Improvement: 0,  Eval Loss (End of Epoch): inf , LR for next epoch (base): 0.001\n",
      "Loading best phi with loss: 1.0378\n",
      "start\n"
     ]
    }
   ],
   "source": [
    "results=[]\n",
    "for acseed in [4287, 3837, 9097, 2635, 5137, 6442, 5234, 4641, 8039, 2266]:\n",
    "    results.append({})\n",
    "    set_seed(acseed)\n",
    "    if FitModelTo == \"AndOrAnd\":\n",
    "        DAS_Train = make_intervention_dataset_AndOrAnd_DAS_Fitted(1280000,4)\n",
    "        DAS_Test  = make_intervention_dataset_AndOrAnd_DAS_Fitted(10000,4)\n",
    "        DAS_Eval  = make_intervention_dataset_AndOrAnd_DAS_Fitted(10000,4)\n",
    "    elif FitModelTo == \"AndOr\":\n",
    "        DAS_Train = make_intervention_dataset_AndOr_DAS_Fitted(1280000,4)\n",
    "        DAS_Test  = make_intervention_dataset_AndOr_DAS_Fitted(10000,4)\n",
    "        DAS_Eval  = make_intervention_dataset_AndOr_DAS_Fitted(10000,4)\n",
    "    \n",
    "    model,accuracy = make_model_DAS_fitted(DAS_Train=DAS_Train,\n",
    "                                           DAS_Test=DAS_Test,\n",
    "                                           DAS_Eval=DAS_Eval,\n",
    "                                           Hidden_Layer_Size=24,\n",
    "                                           inter_dim=[list(range(0,12)),list(range(12,24))],\n",
    "                                           DEVICE=DEVICE,\n",
    "                                           Max_Epochs=50,\n",
    "                                           Early_Stopping_Epochs=5,\n",
    "                                           early_stopping_improve_threshold=0.001,\n",
    "                                           ReduceLROnPlateau_patience=10)\n",
    "\n",
    "        \n",
    "    Layers=[]\n",
    "    Layers.append((\"Layer1\",model.mlp.h[0]))\n",
    "    Layers.append((\"Layer2\",model.mlp.h[1]))\n",
    "    Layers.append((\"Layer3\",model.mlp.h[2]))\n",
    "    inter_dims=[]\n",
    "    \n",
    "    inter_dims.append([list(range(0,transformation_config[\"in_features\"]//2)),list(range(transformation_config[\"in_features\"]//2,transformation_config[\"in_features\"]))])\n",
    "    inter_dims.append([list(range(0,2)),list(range(2,4))])\n",
    "    inter_dims.append([list(range(0,1)),list(range(1,2))])\n",
    "    \n",
    "\n",
    "\n",
    "\n",
    "    if Setting == \"AndOrAnd\":\n",
    "        DAS_Train = make_intervention_dataset_AndOrAnd(1280000,4)\n",
    "        DAS_Test  = make_intervention_dataset_AndOrAnd(10000,4)\n",
    "        DAS_Eval  = make_intervention_dataset_AndOrAnd(10000,4)\n",
    "    elif Setting == \"AndOr\":\n",
    "        DAS_Train = make_intervention_dataset_AndOr(1280000,4)\n",
    "        DAS_Test  = make_intervention_dataset_AndOr(10000,4)\n",
    "        DAS_Eval  = make_intervention_dataset_AndOr(10000,4)\n",
    "    else:\n",
    "        Exception(\"Unknown Setting\")\n",
    "        \n",
    "    results[-1][\"accuracy\"]=accuracy\n",
    "    for LayerName,Layer in Layers:\n",
    "        results[-1][LayerName]={}\n",
    "        for inter_dim in inter_dims:\n",
    "            print(LayerName,\":\",inter_dim, flush=True)\n",
    "            \n",
    "    \n",
    "            #Initialize transformation function\n",
    "            if transformation_config[\"type\"]==\"Rotation\":\n",
    "                p = Rotation(transformation_config[\"in_features\"])\n",
    "            elif transformation_config[\"type\"]==\"RevNet\":\n",
    "                p = RevNet(number_blocks =  transformation_config[\"number_blocks\"],\n",
    "                           in_features   =  transformation_config[\"in_features\"],\n",
    "                           hidden_size   =  transformation_config[\"hidden_size\"]\n",
    "                          )\n",
    "            else:\n",
    "                Exception(\"Unknown transformation function\")\n",
    "            p.to(DEVICE)\n",
    "            p_inverse = p.inverse\n",
    "            optimizer = optim.Adam(p.parameters(), lr=0.001)\n",
    "            scheduler = optim.lr_scheduler.ReduceLROnPlateau(optimizer, factor=0.5, patience=ReduceLROnPlateau_patience)\n",
    "            criterion = nn.CrossEntropyLoss()\n",
    "            \n",
    "            \n",
    "            phi=phi_class(p,p_inverse,criterion,optimizer,scheduler)\n",
    "\n",
    "            \n",
    "    \n",
    "            DAS_Experiment=Distributed_Alignment_Search_MLP(Model=model,\n",
    "                                                            Model_Layer=Layer,\n",
    "                                                            Train_Data_Raw=DAS_Train,\n",
    "                                                            Test_Data_Raw=DAS_Test,\n",
    "                                                            Eval_Data_Raw=DAS_Eval,\n",
    "                                                            Hidden_Layer_Size=transformation_config[\"in_features\"],\n",
    "                                                            Variable_Dimensions=inter_dim,\n",
    "                                                            Transformation_Class=phi,\n",
    "                                                            Device=DEVICE)\n",
    "    \n",
    "            DAS_Experiment.train_test(batch_size=6400,\n",
    "                                      epochs=Max_Epochs,\n",
    "                                      mode=1,\n",
    "                                      early_stopping_threshold=Early_Stopping_Epochs,\n",
    "                                      early_stopping_improve_threshold=early_stopping_improve_threshold) #Train\n",
    "    \n",
    "            accuracy=DAS_Experiment.train_test(batch_size=6400,\n",
    "                                               mode=2)#Test\n",
    "            \n",
    "            results[-1][LayerName][str(inter_dim)]=accuracy\n",
    "            DAS_Experiment.Cleanup()\n",
    "            DAS_Experiment=None\n",
    "            with open('results.json', 'w') as f:\n",
    "                json.dump(results, f)"
   ]
  },
  {
   "cell_type": "code",
   "execution_count": null,
   "id": "b0ba4ad5-9c9c-459e-bade-d2fd12154853",
   "metadata": {},
   "outputs": [],
   "source": []
  }
 ],
 "metadata": {
  "kernelspec": {
   "display_name": "Python 3 (ipykernel)",
   "language": "python",
   "name": "python3"
  },
  "language_info": {
   "codemirror_mode": {
    "name": "ipython",
    "version": 3
   },
   "file_extension": ".py",
   "mimetype": "text/x-python",
   "name": "python",
   "nbconvert_exporter": "python",
   "pygments_lexer": "ipython3",
   "version": "3.12.7"
  }
 },
 "nbformat": 4,
 "nbformat_minor": 5
}
