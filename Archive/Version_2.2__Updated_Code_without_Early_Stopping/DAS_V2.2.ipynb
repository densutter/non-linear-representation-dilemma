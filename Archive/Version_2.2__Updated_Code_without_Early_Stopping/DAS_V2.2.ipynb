{
 "cells": [
  {
   "cell_type": "code",
   "execution_count": 1,
   "id": "3a059ffa-2948-4a1a-b96f-269e6106faa1",
   "metadata": {},
   "outputs": [],
   "source": [
    "#check if model stays the same\n",
    "#reimplement data generation"
   ]
  },
  {
   "cell_type": "code",
   "execution_count": 2,
   "id": "5f9c7a74-0fa0-4744-819a-12619cec2503",
   "metadata": {},
   "outputs": [],
   "source": [
    "import torch\n",
    "import torch.nn as nn\n",
    "import torch.optim as optim\n",
    "from torch.utils.data import DataLoader, TensorDataset\n",
    "import pickle\n",
    "from tqdm import tqdm\n",
    "import random\n",
    "import numpy as np\n",
    "\n",
    "DEVICE=\"cuda\"\n"
   ]
  },
  {
   "cell_type": "code",
   "execution_count": 3,
   "id": "81a91f40-f788-435e-86e8-6be14fdf17ee",
   "metadata": {},
   "outputs": [],
   "source": [
    "def set_seed(seed):\n",
    "    # Set the seed for the random module\n",
    "    random.seed(seed)\n",
    "    \n",
    "    # Set the seed for numpy\n",
    "    np.random.seed(seed)\n",
    "    \n",
    "    # Set the seed for PyTorch (CPU)\n",
    "    torch.manual_seed(seed)\n",
    "    \n",
    "    # Set the seed for PyTorch (GPU) if you are using CUDA\n",
    "    if torch.cuda.is_available():\n",
    "        torch.cuda.manual_seed(seed)\n",
    "        torch.cuda.manual_seed_all(seed)  # For multi-GPU setups\n",
    "    \n",
    "    # Ensure deterministic behavior in PyTorch\n",
    "    torch.backends.cudnn.deterministic = True  # This makes the computations deterministic\n",
    "    torch.backends.cudnn.benchmark = False  # Disable auto-tuning for performance optimization\n",
    "    \n",
    "    # For reproducibility of other libraries like Python's `random`\n",
    "    torch.random.manual_seed(seed)\n",
    "\n"
   ]
  },
  {
   "cell_type": "code",
   "execution_count": 4,
   "id": "247c1827-904c-4d9b-891e-27185f62dde4",
   "metadata": {},
   "outputs": [],
   "source": [
    "\n",
    "\n",
    "class MLPBlock(nn.Module):\n",
    "    def __init__(self, in_features=16, out_features=16, dropout_prob=0.0):\n",
    "        super(MLPBlock, self).__init__()\n",
    "        self.ff1 = nn.Linear(in_features, out_features)\n",
    "        self.act = nn.ReLU()\n",
    "        self.dropout = nn.Dropout(p=dropout_prob)\n",
    "\n",
    "    def forward(self, x):\n",
    "        x = self.ff1(x)\n",
    "        x = self.act(x)\n",
    "        x = self.dropout(x)\n",
    "        return x\n",
    "\n",
    "class MLPModel(nn.Module):\n",
    "    def __init__(self, input_size=16, hidden_size=16, num_blocks=3, dropout_prob=0.0):\n",
    "        super(MLPModel, self).__init__()\n",
    "        self.dropout = nn.Dropout(p=dropout_prob)\n",
    "        self.h = nn.ModuleList([MLPBlock(hidden_size, hidden_size, dropout_prob) for _ in range(num_blocks)])\n",
    "\n",
    "    def forward(self, x):\n",
    "        x = self.dropout(x)\n",
    "        for layer in self.h:\n",
    "            x = layer(x)\n",
    "        return x\n",
    "\n",
    "class MLPForClassification(nn.Module):\n",
    "    def __init__(self, input_size=16, hidden_size=16, num_classes=2, num_blocks=3, dropout_prob=0.0):\n",
    "        super(MLPForClassification, self).__init__()\n",
    "        self.mlp = MLPModel(input_size, hidden_size, num_blocks, dropout_prob)\n",
    "        self.score = nn.Linear(hidden_size, num_classes)\n",
    "\n",
    "    def forward(self, x):\n",
    "        x = self.mlp(x)\n",
    "        x = self.score(x)\n",
    "        return x\n",
    "\n"
   ]
  },
  {
   "cell_type": "code",
   "execution_count": 5,
   "id": "12477b92-48a7-4fab-ae78-6cd16a1b2a0a",
   "metadata": {},
   "outputs": [],
   "source": [
    "def randvec(n=50, lower=-0.5, upper=0.5):\n",
    "    \"\"\"\n",
    "    Returns a random vector of length `n`. `w` is ignored.\n",
    "\n",
    "    \"\"\"\n",
    "    return np.array([random.uniform(lower, upper) for i in range(n)])\n",
    "\n",
    "def create_same_pair(embedding_size):\n",
    "    vec=randvec(embedding_size)\n",
    "    return vec,vec\n",
    "\n",
    "def create_diff_pair(embedding_size):\n",
    "    similar=True\n",
    "    while similar:\n",
    "        vec1=randvec(embedding_size)\n",
    "        vec2=randvec(embedding_size)\n",
    "        if not (vec1 == vec2).all():\n",
    "            similar=False\n",
    "    return vec1,vec2\n",
    "\n",
    "\n",
    "def make_dataset_sample_model(embedding_size,variable1=False,variable2=False):\n",
    "    First_pair_same=random.choice([True,False])\n",
    "    if First_pair_same:\n",
    "        First_pair=create_same_pair(embedding_size)\n",
    "    else:\n",
    "        First_pair=create_diff_pair(embedding_size)\n",
    "        \n",
    "    Second_pair_same=random.choice([True,False])\n",
    "    if Second_pair_same:\n",
    "        Second_pair=create_same_pair(embedding_size)\n",
    "    else:\n",
    "        Second_pair=create_diff_pair(embedding_size)\n",
    "    \n",
    "    modelinput=np.concatenate((First_pair, Second_pair), axis=None)\n",
    "    if First_pair_same==Second_pair_same:\n",
    "        label=1.0\n",
    "    else:\n",
    "        label=0.0\n",
    "    return modelinput,label\n",
    "\n",
    "def make_model_dataset(size,embedding_size):\n",
    "    model_inputs=[]\n",
    "    labels=[]\n",
    "    for _ in tqdm(range(size)):\n",
    "        model_input,label=make_dataset_sample_model(embedding_size)\n",
    "        model_inputs.append(model_input)\n",
    "        labels.append(label)\n",
    "    return torch.tensor(model_inputs, dtype=torch.float32).to(DEVICE),torch.tensor(labels, dtype=torch.float32).to(DEVICE)\n",
    "\n",
    "\n",
    "\n",
    "def make_dataset_sample_variable_intervention(embedding_size,variable1=False,variable2=False):\n",
    "    First_pair_same=random.choice([True,False])\n",
    "    if First_pair_same:\n",
    "        First_pair=create_same_pair(embedding_size)\n",
    "    else:\n",
    "        First_pair=create_diff_pair(embedding_size)\n",
    "    source_first_pair=[(np.zeros(embedding_size),np.zeros(embedding_size)),(np.zeros(embedding_size),np.zeros(embedding_size))]\n",
    "    if variable1:\n",
    "        First_pair_same=random.choice([True,False])\n",
    "        if First_pair_same:\n",
    "            source_first_pair=create_same_pair(embedding_size)\n",
    "        else:\n",
    "            source_first_pair=create_diff_pair(embedding_size)\n",
    "        if random.choice([True,False]):\n",
    "            source_first_pair=[source_first_pair,create_same_pair(embedding_size)]\n",
    "        else:\n",
    "            source_first_pair=[source_first_pair,create_diff_pair(embedding_size)]\n",
    "        \n",
    "    \n",
    "    Second_pair_same=random.choice([True,False])\n",
    "    if Second_pair_same:\n",
    "        Second_pair=create_same_pair(embedding_size)\n",
    "    else:\n",
    "        Second_pair=create_diff_pair(embedding_size)\n",
    "    source_second_pair=[(np.zeros(embedding_size),np.zeros(embedding_size)),(np.zeros(embedding_size),np.zeros(embedding_size))]\n",
    "    if variable2:\n",
    "        Second_pair_same=random.choice([True,False])\n",
    "        if Second_pair_same:\n",
    "            source_second_pair=create_same_pair(embedding_size)\n",
    "        else:\n",
    "            source_second_pair=create_diff_pair(embedding_size)\n",
    "        if random.choice([True,False]):\n",
    "            source_second_pair=[create_same_pair(embedding_size),source_second_pair]\n",
    "        else:\n",
    "            source_second_pair=[create_diff_pair(embedding_size),source_second_pair]\n",
    "    \n",
    "    \n",
    "    modelinput=np.concatenate((First_pair, Second_pair), axis=None)\n",
    "    source0=np.concatenate(source_first_pair, axis=None)\n",
    "    source1=np.concatenate(source_second_pair, axis=None)\n",
    "    if First_pair_same==Second_pair_same:\n",
    "        label=1.0\n",
    "    else:\n",
    "        label=0.0\n",
    "    return modelinput,label,source0,source1\n",
    "\n",
    "def make_intervention_dataset_variable_intervention_all(size,embedding_size):\n",
    "    intervention_data=[]\n",
    "    for _ in tqdm(range(size)):\n",
    "        variable1,variable2=random.choice([(True,False),(False,True),(True,True)])\n",
    "        base,label,source0,source1=make_dataset_sample_variable_intervention(embedding_size,variable1=variable1,variable2=variable2)\n",
    "        intervention_data.append({})\n",
    "        intervention_data[-1][\"base\"]=torch.tensor(base, dtype=torch.float32)\n",
    "        intervention_data[-1][\"label\"]=torch.tensor(label, dtype=torch.float32)\n",
    "        intervention_data[-1][\"sources\"]=torch.tensor([source0,source1], dtype=torch.float32)\n",
    "        intervention_data[-1][\"intervention\"]=[variable1,variable2]\n",
    "        #print(intervention_data[-1])\n",
    "    return intervention_data\n",
    "\n",
    "def make_intervention_dataset_variable_intervention_first(size,embedding_size):\n",
    "    intervention_data=[]\n",
    "    for _ in tqdm(range(size)):\n",
    "        base,label,source0,source1=make_dataset_sample_variable_intervention(embedding_size,variable1=True,variable2=False)\n",
    "        intervention_data.append({})\n",
    "        intervention_data[-1][\"base\"]=torch.tensor(base, dtype=torch.float32)\n",
    "        intervention_data[-1][\"label\"]=torch.tensor(label, dtype=torch.float32)\n",
    "        intervention_data[-1][\"sources\"]=torch.tensor([source0,source1], dtype=torch.float32)\n",
    "        intervention_data[-1][\"intervention\"]=[True,False]\n",
    "        #print(intervention_data[-1])\n",
    "    return intervention_data\n",
    "\n",
    "\n",
    "\n",
    "\n",
    "def make_dataset_sample_first_input_intervention(embedding_size):\n",
    "    First_pair_same=random.choice([True,False])\n",
    "    if First_pair_same:\n",
    "        First_pair=create_same_pair(embedding_size)\n",
    "    else:\n",
    "        First_pair=create_diff_pair(embedding_size)\n",
    "    \n",
    "    Second_pair_same=random.choice([True,False])\n",
    "    if Second_pair_same:\n",
    "        Second_pair=create_same_pair(embedding_size)\n",
    "    else:\n",
    "        Second_pair=create_diff_pair(embedding_size)\n",
    "\n",
    "\n",
    "    source=[]\n",
    "    First_pair_same=random.choice([True,False])\n",
    "    if First_pair_same: #equal or not in first variable\n",
    "        if random.choice([True,False]): #Same source pair\n",
    "            source.append((First_pair[1],First_pair[1]))\n",
    "        else: #Different source pair\n",
    "            new_vec=randvec(embedding_size)\n",
    "            while (new_vec == First_pair[1]).all():\n",
    "                new_vec=randvec(embedding_size)\n",
    "            source.append((First_pair[1],new_vec))\n",
    "            \n",
    "    else:\n",
    "        new_vec1=randvec(embedding_size)\n",
    "        while (new_vec1 == First_pair[1]).all():\n",
    "            new_vec1=randvec(embedding_size)\n",
    "        if random.choice([True,False]): #Same source pair\n",
    "            source.append((new_vec1,new_vec1))\n",
    "        else: #Different source pair\n",
    "            new_vec2=randvec(embedding_size)\n",
    "            while (new_vec2 == new_vec1).all():\n",
    "                new_vec2=randvec(embedding_size)\n",
    "            source.append((new_vec1,new_vec2))\n",
    "\n",
    "    if random.choice([True,False]):\n",
    "        source.append(create_same_pair(embedding_size))\n",
    "    else:\n",
    "        source.append(create_diff_pair(embedding_size))\n",
    "    \n",
    "    \n",
    "    modelinput=np.concatenate((First_pair, Second_pair), axis=None)\n",
    "    source=np.concatenate(source, axis=None)\n",
    "    if First_pair_same==Second_pair_same:\n",
    "        label=1.0\n",
    "    else:\n",
    "        label=0.0\n",
    "    return modelinput,label,source\n",
    "    \n",
    "\n",
    "\n",
    "def make_intervention_dataset_first_input_intervention(size,embedding_size):\n",
    "    intervention_data=[]\n",
    "    for _ in tqdm(range(size)):\n",
    "        base,label,source=make_dataset_sample_first_input_intervention(embedding_size)\n",
    "        intervention_data.append({})\n",
    "        intervention_data[-1][\"base\"]=torch.tensor(base, dtype=torch.float32)\n",
    "        intervention_data[-1][\"label\"]=torch.tensor(label, dtype=torch.float32)\n",
    "        intervention_data[-1][\"sources\"]=torch.tensor([source], dtype=torch.float32)\n",
    "        intervention_data[-1][\"intervention\"]=[True]\n",
    "    return intervention_data\n",
    "\n",
    "\n"
   ]
  },
  {
   "cell_type": "code",
   "execution_count": 6,
   "id": "d3648a88-495f-47cb-8889-5e8ea1a07958",
   "metadata": {},
   "outputs": [],
   "source": [
    "def train_model(model,batch_size = 1024,epochs=3):\n",
    "    #Training\n",
    "    X_train,y_train=make_model_dataset(1048576,4)\n",
    "    # Create DataLoader\n",
    "    \n",
    "    \n",
    "    train_dataset = TensorDataset(X_train, y_train)\n",
    "    train_loader = DataLoader(train_dataset, batch_size=batch_size, shuffle=True)\n",
    "    \n",
    "    # Initialize model, loss function, and optimizer\n",
    "    criterion = nn.CrossEntropyLoss()\n",
    "    optimizer = optim.Adam(model.parameters(), lr=0.001)\n",
    "    \n",
    "    # Train\n",
    "    model.train()\n",
    "    for epoch in range(epochs):\n",
    "        total_loss = 0\n",
    "        for X_batch, y_batch in tqdm(train_loader):\n",
    "            optimizer.zero_grad()\n",
    "            outputs = model(X_batch)\n",
    "            loss = criterion(outputs, y_batch.squeeze().long())\n",
    "            loss.backward()\n",
    "            optimizer.step()\n",
    "            total_loss += loss.item()\n",
    "        print(f\"Epoch {epoch+1}, Loss: {total_loss / len(train_loader)}\")\n",
    "    return model"
   ]
  },
  {
   "cell_type": "code",
   "execution_count": 7,
   "id": "8c168250-1742-4c61-9ca4-33b737b4634c",
   "metadata": {},
   "outputs": [],
   "source": [
    "def test_model(model,batch_size = 1024):\n",
    "    #Testing:\n",
    "    X_test,y_test=make_model_dataset(10000,4)\n",
    "    test_dataset = TensorDataset(X_test, y_test)\n",
    "    test_loader = DataLoader(test_dataset, batch_size=batch_size, shuffle=False)\n",
    "    \n",
    "    \n",
    "    model.eval()\n",
    "    correct = 0\n",
    "    total = 0\n",
    "    with torch.no_grad():\n",
    "        for X_batch, y_batch in tqdm(test_loader):\n",
    "            outputs = model(X_batch)\n",
    "            _, predicted = torch.max(outputs, 1)\n",
    "            correct += (predicted == y_batch.squeeze()).sum().item()\n",
    "            total += y_batch.size(0)\n",
    "    accuracy = correct / total\n",
    "    print(f\"Test Accuracy: {accuracy:.4f}\")\n",
    "    return accuracy"
   ]
  },
  {
   "cell_type": "code",
   "execution_count": 8,
   "id": "866314f5-fabf-46b9-8168-eb94084771aa",
   "metadata": {},
   "outputs": [],
   "source": [
    "def make_model(epochs=3):\n",
    "    model = MLPForClassification()\n",
    "    model.to(DEVICE)\n",
    "    model=train_model(model,epochs=epochs)\n",
    "    accuracy=test_model(model)\n",
    "    return model,accuracy"
   ]
  },
  {
   "cell_type": "code",
   "execution_count": 9,
   "id": "e8413b20-ee20-4554-8d7b-b51f6546a3aa",
   "metadata": {},
   "outputs": [],
   "source": [
    "class RotateLayer(torch.nn.Module):\n",
    "    \"\"\"A learnable linear transformation initialized as an orthogonal matrix.\"\"\"\n",
    "\n",
    "    def __init__(self, n, init_orth=True):\n",
    "        \"\"\"\n",
    "        Args:\n",
    "            n (int): Dimension of the square transformation matrix.\n",
    "            init_orth (bool): If True, initializes the matrix with an orthogonal weight.\n",
    "        \"\"\"\n",
    "        super().__init__()\n",
    "        weight = torch.empty(n, n)  # Create an empty n x n matrix\n",
    "        \n",
    "        # We don't need initialization if loading from a pretrained checkpoint.\n",
    "        # You can explore different initialization strategies if necessary, but this isn't our focus.\n",
    "        if init_orth:\n",
    "            torch.nn.init.orthogonal_(weight)\n",
    "        \n",
    "        self.weight = torch.nn.Parameter(weight, requires_grad=True)  # Learnable weight matrix\n",
    "\n",
    "    def forward(self, x):\n",
    "        \"\"\"Applies the rotation matrix to the input tensor.\"\"\"\n",
    "        return torch.matmul(x.to(self.weight.dtype), self.weight)\n",
    "        \n",
    "\n",
    "class Transformation_Function(nn.Module):\n",
    "    \"\"\"Encapsulates the rotation transformation as a PyTorch module.\"\"\"\n",
    "\n",
    "    def __init__(self, embed_dim=16):\n",
    "        \"\"\"\n",
    "        Args:\n",
    "            embed_dim (int): The embedding dimension (size of the transformation matrix).\n",
    "        \"\"\"\n",
    "        super(Transformation_Function, self).__init__()\n",
    "        \n",
    "        rotate_layer = RotateLayer(embed_dim)  # Initialize the rotation layer\n",
    "        # Ensure the transformation remains an orthogonal matrix\n",
    "        self.rotate_layer = torch.nn.utils.parametrizations.orthogonal(rotate_layer)\n",
    "\n",
    "    def forward(self, x):\n",
    "        \"\"\"Applies the orthogonal transformation to the input tensor.\"\"\"\n",
    "        return self.rotate_layer(x)\n",
    "\n",
    "\n",
    "class InverseTransformation_Function(nn.Module):\n",
    "    \"\"\"Computes the inverse of the given transformation function (phi).\"\"\"\n",
    "\n",
    "    def __init__(self, transformation_function: Transformation_Function):\n",
    "        \"\"\"\n",
    "        Args:\n",
    "            transformation_function (Transformation_Function): The forward transformation function.\n",
    "        \"\"\"\n",
    "        super(InverseTransformation_Function, self).__init__()\n",
    "        self.transformation_function = transformation_function  # Store reference to the transformation\n",
    "\n",
    "    def forward(self, x):\n",
    "        \"\"\"Applies the inverse transformation by transposing the orthogonal weight matrix.\"\"\"\n",
    "        weight_T = self.transformation_function.rotate_layer.weight.T  # Use matrix transpose as inverse\n",
    "        return torch.matmul(x.to(weight_T.dtype), weight_T)\n",
    "\n",
    "class phi_class:\n",
    "    def __init__(self, phi,phi_inv,criterion,optimizer):\n",
    "        self.phi=phi\n",
    "        self.phi_inv=phi_inv\n",
    "        self.criterion=criterion\n",
    "        self.optimizer=optimizer\n",
    "\n"
   ]
  },
  {
   "cell_type": "code",
   "execution_count": 10,
   "id": "d1506670-e9ca-4f7b-9be1-717698c9f924",
   "metadata": {},
   "outputs": [],
   "source": [
    "class Distributed_Alignment_Search:\n",
    "\n",
    "    \n",
    "    def __init__(self, \n",
    "                 Model,\n",
    "                 Model_Layer,\n",
    "                 Train_Data_Raw,\n",
    "                 Test_Data_Raw,\n",
    "                 Hidden_Layer_Size,\n",
    "                 Variable_Dimensions,\n",
    "                 Transformation_Class,\n",
    "                 Device):\n",
    "        self.Model=Model\n",
    "        self.Model_Layer=Model_Layer\n",
    "        self.Hidden_Layer_Size=Hidden_Layer_Size\n",
    "        self.Variable_Dimensions=Variable_Dimensions\n",
    "        self.Num_Varibales=len(self.Variable_Dimensions)\n",
    "        self.Transformation_Class=Transformation_Class\n",
    "        self.Device=Device\n",
    "\n",
    "        self.mode_info=None\n",
    "        self.base_activations=None\n",
    "        self.source_activations=None\n",
    "\n",
    "        \n",
    "        self.Train_Dataset,self.Train_Sample_Number=self.Prepare_Dataset(Train_Data_Raw)\n",
    "        self.Test_Dataset,self.Test_Samples_Number=self.Prepare_Dataset(Test_Data_Raw)\n",
    "\n",
    "   \n",
    "        self.Hook=self.register_intervention_hook(self.Model_Layer)\n",
    "        \n",
    "\n",
    "    def Prepare_Dataset(self,Raw_Dataset): \n",
    "        Clean_Dataset={}\n",
    "        Clean_Dataset[\"base\"]=[]\n",
    "        Clean_Dataset[\"sources\"]=[]\n",
    "        for _ in range(self.Num_Varibales):\n",
    "            Clean_Dataset[\"sources\"].append([])\n",
    "        Clean_Dataset[\"label\"]=[]\n",
    "        Clean_Dataset[\"intervention\"]=[]\n",
    "\n",
    "        #Actually adapted to the dataset I am using. Needs to be changed later:\n",
    "        print(\"[SYST] Prepare Data\")\n",
    "        for ac_DP_pos in tqdm(range(len(Raw_Dataset))):\n",
    "            #base input\n",
    "            ac_DP=Raw_Dataset[ac_DP_pos]\n",
    "            Clean_Dataset[\"base\"].append(ac_DP[\"base\"])\n",
    "\n",
    "            #expected label after intervention\n",
    "            Clean_Dataset[\"label\"].append(ac_DP[\"label\"])\n",
    "\n",
    "            #source inputs\n",
    "            for var_dim in range(ac_DP['sources'].shape[0]):\n",
    "                Clean_Dataset[\"sources\"][var_dim].append(ac_DP['sources'][var_dim])\n",
    "\n",
    "            #intervention data\n",
    "            Clean_Dataset[\"intervention\"].append([])\n",
    "            for Hidden_Dimension in range(self.Hidden_Layer_Size):\n",
    "                dim_found=False\n",
    "                for ac_dimensions_pos,ac_dimensions in enumerate(self.Variable_Dimensions):\n",
    "                    if Hidden_Dimension in ac_dimensions:\n",
    "                        dim_found=True\n",
    "                        if ac_DP[\"intervention\"][ac_dimensions_pos]:\n",
    "                            Clean_Dataset[\"intervention\"][-1].append(True)\n",
    "                        else:\n",
    "                            Clean_Dataset[\"intervention\"][-1].append(False)\n",
    "                        break\n",
    "                if not dim_found:\n",
    "                    Clean_Dataset[\"intervention\"][-1].append(False)\n",
    "            Raw_Dataset[ac_DP_pos]=None\n",
    "\n",
    "        sample_number=len(Clean_Dataset[\"label\"])\n",
    "        Clean_Dataset[\"base\"]=torch.stack(Clean_Dataset[\"base\"]).to(self.Device)\n",
    "        Clean_Dataset[\"label\"]=torch.stack(Clean_Dataset[\"label\"]).to(self.Device)\n",
    "        for i in range(len(Clean_Dataset[\"sources\"])):\n",
    "            Clean_Dataset[\"sources\"][i]=torch.stack(Clean_Dataset[\"sources\"][i]).to(self.Device)\n",
    "        Clean_Dataset[\"intervention\"]=torch.tensor(Clean_Dataset[\"intervention\"]).to(self.Device)\n",
    "        return Clean_Dataset,sample_number\n",
    "                        \n",
    "        \n",
    "    def register_intervention_hook(self, layer):\n",
    "        def hook_fn(module, input, output):\n",
    "            if self.mode_info[0] == \"source\":\n",
    "                # Extract row indices (list)\n",
    "                row_indices = self.mode_info[2]\n",
    "                #print(\"SO\",output)\n",
    "                \n",
    "                # Extract column indices (list)\n",
    "                col_indices = self.Variable_Dimensions[self.mode_info[1]]\n",
    "                #print(\"CI\",col_indices)\n",
    "                #print(self.source_activations.shape)\n",
    "                #print(\"SB\",self.source_activations)\n",
    "                #print(output)\n",
    "                \n",
    "                # Get values from the transformation tensor\n",
    "                transformed_values = self.Transformation_Class.phi(output.detach())[:, col_indices]\n",
    "                #print(\"TV\",transformed_values)\n",
    "                \n",
    "                # Assign these values to the corresponding positions in source_activations\n",
    "                self.source_activations[torch.tensor(row_indices).unsqueeze(1), torch.tensor(col_indices).unsqueeze(0)] = transformed_values\n",
    "                #print(\"SA\",self.source_activations)\n",
    "                #print(\"***\")\n",
    "            elif self.mode_info[0] == \"intervene\":\n",
    "                result_tensor = self.Transformation_Class.phi(output.detach())\n",
    "                #print(\"II\",self.mode_info[1])\n",
    "                #print(\"IBO\",output)\n",
    "                #print(\"IBT\",result_tensor)\n",
    "                #print(\"IBOR\",self.Transformation_Class.phi_inv(result_tensor))\n",
    "                result_tensor = torch.where(self.mode_info[1], self.source_activations, result_tensor)\n",
    "                #print(\"IR\",result_tensor)\n",
    "                return self.Transformation_Class.phi_inv(result_tensor)\n",
    "        \n",
    "        return layer.register_forward_hook(hook_fn)\n",
    "\n",
    "    \n",
    "    def train_test(self,batch_size,epochs=1,train=True):\n",
    "\n",
    "        self.Model.eval()\n",
    "        for param in self.Model.parameters():\n",
    "            param.requires_grad = False  # This freezes the weights\n",
    "\n",
    "        if train:\n",
    "            self.Transformation_Class.phi.train()\n",
    "            for param in self.Transformation_Class.phi.parameters():\n",
    "                param.requires_grad = True  # This unfreezes the weights\n",
    "            data=self.Train_Dataset\n",
    "            Sample_Indices=list(range(self.Train_Sample_Number))\n",
    "        else:\n",
    "            self.Transformation_Class.phi.eval()\n",
    "            for param in self.Transformation_Class.phi.parameters():\n",
    "                param.requires_grad = False  # This freezes the weights\n",
    "            data=self.Test_Dataset\n",
    "            Sample_Indices=list(range(self.Test_Samples_Number))\n",
    "        \n",
    "        for epoch in range(epochs):\n",
    "            print(\"[SYST] Epoch\",epoch)\n",
    "            total_correct = 0\n",
    "            total_samples = 0\n",
    "            total_loss = 0\n",
    "        \n",
    "            #Make Batches\n",
    "            random.shuffle(Sample_Indices)\n",
    "            DAS_Train_Batches=self.chunk_list(Sample_Indices, batch_size)\n",
    "            \n",
    "            for ac_batch in tqdm(DAS_Train_Batches):\n",
    "\n",
    "                if train: \n",
    "                    self.Transformation_Class.optimizer.zero_grad()\n",
    "                \n",
    "                #Prepare Source Activations\n",
    "                self.source_activations = torch.zeros(len(ac_batch), self.Hidden_Layer_Size).to(self.Device)\n",
    "                \n",
    "                for ac_source_pos in range(len(data[\"sources\"])):\n",
    "                    #add info needed for optimization... no sense in running inputs who are not used:\n",
    "                    used_source_indices=self.extract_sources_to_run(ac_source_pos,ac_batch,data)\n",
    "                    if len(used_source_indices)>0:\n",
    "                        #print(\"Hey\")\n",
    "                        self.mode_info=[\"source\",ac_source_pos,used_source_indices]\n",
    "                        ac_source=data[\"sources\"][ac_source_pos][ac_batch][used_source_indices]\n",
    "                        #print(\"SI\",ac_source)\n",
    "                        model(ac_source)\n",
    "        \n",
    "                #Intervention\n",
    "                ac_base=data[\"base\"][ac_batch]\n",
    "                intervention_bools=data[\"intervention\"][ac_batch]\n",
    "                self.mode_info=[\"intervene\",intervention_bools]\n",
    "                #print(\"BI\",ac_base)\n",
    "                outputs=model(ac_base)\n",
    "                labels=data[\"label\"][ac_batch]\n",
    "                #print(\"L\",labels)\n",
    "                if train:\n",
    "                    loss = self.Transformation_Class.criterion(outputs, labels.squeeze().long())\n",
    "                    loss.backward()\n",
    "                    self.Transformation_Class.optimizer.step()\n",
    "                    #print(self.Transformation_Class.phi.rotate_layer.weight)\n",
    "                    total_loss += loss.item()\n",
    "\n",
    "                else:\n",
    "                    predictions = torch.argmax(outputs, dim=1) \n",
    "                    correct = (predictions.squeeze() == labels.squeeze()).sum().item()\n",
    "                    total_correct += correct\n",
    "                    total_samples += labels.size(0)\n",
    "            \n",
    "            if train:\n",
    "                print(f\"Epoch {epoch+1}, Loss: {total_loss / len(DAS_Train_Batches)}\")\n",
    "            else:     \n",
    "                accuracy = total_correct / total_samples\n",
    "                print(f\"Test Accuracy: {accuracy * 100:.2f}%\")\n",
    "                return accuracy\n",
    "                \n",
    "\n",
    "    def extract_sources_to_run(self,which_variable,batch_indices,data):\n",
    "        used_source_indices=[]\n",
    "        for ip, i in enumerate(batch_indices):\n",
    "            is_used=data[\"intervention\"][i][self.Variable_Dimensions[which_variable][0]]\n",
    "            if is_used:\n",
    "                used_source_indices.append(ip)\n",
    "        return used_source_indices\n",
    "\n",
    "    \n",
    "    def chunk_list(self, input_list, batch_size):\n",
    "        return [input_list[i:i + batch_size] for i in range(0, len(input_list), batch_size)]\n",
    "\n",
    "    \n",
    "    def Cleanup(self):\n",
    "        self.Hook.remove()"
   ]
  },
  {
   "cell_type": "code",
   "execution_count": 11,
   "id": "53e98d55-7e8a-4dec-872c-7b6b1ca6a144",
   "metadata": {},
   "outputs": [
    {
     "name": "stderr",
     "output_type": "stream",
     "text": [
      "100%|█████████████████████████████████████████████| 1048576/1048576 [00:10<00:00, 97764.23it/s]\n",
      "/tmp/ipykernel_33726/3160764943.py:49: UserWarning: Creating a tensor from a list of numpy.ndarrays is extremely slow. Please consider converting the list to a single numpy.ndarray with numpy.array() before converting to a tensor. (Triggered internally at /pytorch/torch/csrc/utils/tensor_new.cpp:254.)\n",
      "  return torch.tensor(model_inputs, dtype=torch.float32).to(DEVICE),torch.tensor(labels, dtype=torch.float32).to(DEVICE)\n",
      "100%|█████████████████████████████████████████████████████| 1024/1024 [00:09<00:00, 110.35it/s]\n"
     ]
    },
    {
     "name": "stdout",
     "output_type": "stream",
     "text": [
      "Epoch 1, Loss: 0.3913447721170087\n"
     ]
    },
    {
     "name": "stderr",
     "output_type": "stream",
     "text": [
      "100%|█████████████████████████████████████████████████████| 1024/1024 [00:09<00:00, 113.47it/s]\n"
     ]
    },
    {
     "name": "stdout",
     "output_type": "stream",
     "text": [
      "Epoch 2, Loss: 0.02623706526355818\n"
     ]
    },
    {
     "name": "stderr",
     "output_type": "stream",
     "text": [
      "100%|█████████████████████████████████████████████████████| 1024/1024 [00:08<00:00, 113.83it/s]\n"
     ]
    },
    {
     "name": "stdout",
     "output_type": "stream",
     "text": [
      "Epoch 3, Loss: 0.008349891868192572\n"
     ]
    },
    {
     "name": "stderr",
     "output_type": "stream",
     "text": [
      "100%|████████████████████████████████████████████████| 10000/10000 [00:00<00:00, 100468.15it/s]\n",
      "100%|█████████████████████████████████████████████████████████| 10/10 [00:00<00:00, 103.37it/s]\n"
     ]
    },
    {
     "name": "stdout",
     "output_type": "stream",
     "text": [
      "Test Accuracy: 0.9983\n",
      "Layer1 : [[0, 1, 2, 3, 4, 5, 6, 7]]\n"
     ]
    },
    {
     "name": "stderr",
     "output_type": "stream",
     "text": [
      "100%|█████████████████████████████████████████████| 1280000/1280000 [01:25<00:00, 15000.00it/s]\n",
      "100%|█████████████████████████████████████████████████| 10000/10000 [00:00<00:00, 16208.77it/s]\n"
     ]
    },
    {
     "name": "stdout",
     "output_type": "stream",
     "text": [
      "[SYST] Prepare Data\n"
     ]
    },
    {
     "name": "stderr",
     "output_type": "stream",
     "text": [
      "100%|████████████████████████████████████████████| 1280000/1280000 [00:08<00:00, 144872.12it/s]\n"
     ]
    },
    {
     "name": "stdout",
     "output_type": "stream",
     "text": [
      "[SYST] Prepare Data\n"
     ]
    },
    {
     "name": "stderr",
     "output_type": "stream",
     "text": [
      "100%|████████████████████████████████████████████████| 10000/10000 [00:00<00:00, 148155.75it/s]"
     ]
    },
    {
     "name": "stdout",
     "output_type": "stream",
     "text": [
      "[SYST] Epoch 0\n"
     ]
    },
    {
     "name": "stderr",
     "output_type": "stream",
     "text": [
      "\n",
      "100%|████████████████████████████████████████████████████████| 200/200 [00:20<00:00,  9.80it/s]\n"
     ]
    },
    {
     "name": "stdout",
     "output_type": "stream",
     "text": [
      "Epoch 1, Loss: 7.545942659378052\n",
      "[SYST] Epoch 1\n"
     ]
    },
    {
     "name": "stderr",
     "output_type": "stream",
     "text": [
      "100%|████████████████████████████████████████████████████████| 200/200 [00:20<00:00,  9.86it/s]\n"
     ]
    },
    {
     "name": "stdout",
     "output_type": "stream",
     "text": [
      "Epoch 2, Loss: 6.2551185131073\n",
      "[SYST] Epoch 2\n"
     ]
    },
    {
     "name": "stderr",
     "output_type": "stream",
     "text": [
      "100%|████████████████████████████████████████████████████████| 200/200 [00:20<00:00,  9.79it/s]\n"
     ]
    },
    {
     "name": "stdout",
     "output_type": "stream",
     "text": [
      "Epoch 3, Loss: 5.968905663490295\n",
      "[SYST] Epoch 3\n"
     ]
    },
    {
     "name": "stderr",
     "output_type": "stream",
     "text": [
      "100%|████████████████████████████████████████████████████████| 200/200 [00:20<00:00,  9.86it/s]\n"
     ]
    },
    {
     "name": "stdout",
     "output_type": "stream",
     "text": [
      "Epoch 4, Loss: 5.867888278961182\n",
      "[SYST] Epoch 4\n"
     ]
    },
    {
     "name": "stderr",
     "output_type": "stream",
     "text": [
      "100%|████████████████████████████████████████████████████████| 200/200 [00:20<00:00,  9.84it/s]\n"
     ]
    },
    {
     "name": "stdout",
     "output_type": "stream",
     "text": [
      "Epoch 5, Loss: 5.74390887260437\n",
      "[SYST] Epoch 5\n"
     ]
    },
    {
     "name": "stderr",
     "output_type": "stream",
     "text": [
      "100%|████████████████████████████████████████████████████████| 200/200 [00:20<00:00,  9.85it/s]\n"
     ]
    },
    {
     "name": "stdout",
     "output_type": "stream",
     "text": [
      "Epoch 6, Loss: 5.5114836859703065\n",
      "[SYST] Epoch 6\n"
     ]
    },
    {
     "name": "stderr",
     "output_type": "stream",
     "text": [
      "100%|████████████████████████████████████████████████████████| 200/200 [00:20<00:00,  9.84it/s]\n"
     ]
    },
    {
     "name": "stdout",
     "output_type": "stream",
     "text": [
      "Epoch 7, Loss: 5.459375472068786\n",
      "[SYST] Epoch 7\n"
     ]
    },
    {
     "name": "stderr",
     "output_type": "stream",
     "text": [
      "100%|████████████████████████████████████████████████████████| 200/200 [00:20<00:00,  9.90it/s]\n"
     ]
    },
    {
     "name": "stdout",
     "output_type": "stream",
     "text": [
      "Epoch 8, Loss: 5.427405686378479\n",
      "[SYST] Epoch 8\n"
     ]
    },
    {
     "name": "stderr",
     "output_type": "stream",
     "text": [
      "100%|████████████████████████████████████████████████████████| 200/200 [00:20<00:00,  9.85it/s]\n"
     ]
    },
    {
     "name": "stdout",
     "output_type": "stream",
     "text": [
      "Epoch 9, Loss: 5.402710309028626\n",
      "[SYST] Epoch 9\n"
     ]
    },
    {
     "name": "stderr",
     "output_type": "stream",
     "text": [
      "100%|████████████████████████████████████████████████████████| 200/200 [00:20<00:00,  9.90it/s]\n"
     ]
    },
    {
     "name": "stdout",
     "output_type": "stream",
     "text": [
      "Epoch 10, Loss: 5.386545240879059\n",
      "[SYST] Epoch 0\n"
     ]
    },
    {
     "name": "stderr",
     "output_type": "stream",
     "text": [
      "100%|████████████████████████████████████████████████████████████| 2/2 [00:00<00:00, 12.99it/s]\n"
     ]
    },
    {
     "name": "stdout",
     "output_type": "stream",
     "text": [
      "Test Accuracy: 50.13%\n",
      "[{'accuracy': 0.9983, 'Layer1': {'[[0, 1, 2, 3, 4, 5, 6, 7]]': 0.5013}}]\n",
      "Layer1 : [[0, 1]]\n"
     ]
    },
    {
     "name": "stderr",
     "output_type": "stream",
     "text": [
      "100%|█████████████████████████████████████████████| 1280000/1280000 [01:21<00:00, 15670.76it/s]\n",
      "100%|█████████████████████████████████████████████████| 10000/10000 [00:00<00:00, 16912.52it/s]\n"
     ]
    },
    {
     "name": "stdout",
     "output_type": "stream",
     "text": [
      "[SYST] Prepare Data\n"
     ]
    },
    {
     "name": "stderr",
     "output_type": "stream",
     "text": [
      "100%|████████████████████████████████████████████| 1280000/1280000 [00:08<00:00, 158892.57it/s]\n"
     ]
    },
    {
     "name": "stdout",
     "output_type": "stream",
     "text": [
      "[SYST] Prepare Data\n"
     ]
    },
    {
     "name": "stderr",
     "output_type": "stream",
     "text": [
      "100%|████████████████████████████████████████████████| 10000/10000 [00:00<00:00, 160688.37it/s]"
     ]
    },
    {
     "name": "stdout",
     "output_type": "stream",
     "text": [
      "[SYST] Epoch 0\n"
     ]
    },
    {
     "name": "stderr",
     "output_type": "stream",
     "text": [
      "\n",
      "100%|████████████████████████████████████████████████████████| 200/200 [00:19<00:00, 10.07it/s]\n"
     ]
    },
    {
     "name": "stdout",
     "output_type": "stream",
     "text": [
      "Epoch 1, Loss: 7.113471517562866\n",
      "[SYST] Epoch 1\n"
     ]
    },
    {
     "name": "stderr",
     "output_type": "stream",
     "text": [
      "100%|████████████████████████████████████████████████████████| 200/200 [00:19<00:00, 10.01it/s]\n"
     ]
    },
    {
     "name": "stdout",
     "output_type": "stream",
     "text": [
      "Epoch 2, Loss: 6.55044538974762\n",
      "[SYST] Epoch 2\n"
     ]
    },
    {
     "name": "stderr",
     "output_type": "stream",
     "text": [
      "100%|████████████████████████████████████████████████████████| 200/200 [00:20<00:00,  9.93it/s]\n"
     ]
    },
    {
     "name": "stdout",
     "output_type": "stream",
     "text": [
      "Epoch 3, Loss: 6.484211835861206\n",
      "[SYST] Epoch 3\n"
     ]
    },
    {
     "name": "stderr",
     "output_type": "stream",
     "text": [
      "100%|████████████████████████████████████████████████████████| 200/200 [00:20<00:00,  9.96it/s]\n"
     ]
    },
    {
     "name": "stdout",
     "output_type": "stream",
     "text": [
      "Epoch 4, Loss: 6.44816618680954\n",
      "[SYST] Epoch 4\n"
     ]
    },
    {
     "name": "stderr",
     "output_type": "stream",
     "text": [
      "100%|████████████████████████████████████████████████████████| 200/200 [00:19<00:00, 10.03it/s]\n"
     ]
    },
    {
     "name": "stdout",
     "output_type": "stream",
     "text": [
      "Epoch 5, Loss: 6.418965570926666\n",
      "[SYST] Epoch 5\n"
     ]
    },
    {
     "name": "stderr",
     "output_type": "stream",
     "text": [
      "100%|████████████████████████████████████████████████████████| 200/200 [00:19<00:00, 10.01it/s]\n"
     ]
    },
    {
     "name": "stdout",
     "output_type": "stream",
     "text": [
      "Epoch 6, Loss: 6.379366767406464\n",
      "[SYST] Epoch 6\n"
     ]
    },
    {
     "name": "stderr",
     "output_type": "stream",
     "text": [
      "100%|████████████████████████████████████████████████████████| 200/200 [00:20<00:00,  9.99it/s]\n"
     ]
    },
    {
     "name": "stdout",
     "output_type": "stream",
     "text": [
      "Epoch 7, Loss: 6.34290209531784\n",
      "[SYST] Epoch 7\n"
     ]
    },
    {
     "name": "stderr",
     "output_type": "stream",
     "text": [
      "100%|████████████████████████████████████████████████████████| 200/200 [00:20<00:00, 10.00it/s]\n"
     ]
    },
    {
     "name": "stdout",
     "output_type": "stream",
     "text": [
      "Epoch 8, Loss: 6.32363737821579\n",
      "[SYST] Epoch 8\n"
     ]
    },
    {
     "name": "stderr",
     "output_type": "stream",
     "text": [
      "100%|████████████████████████████████████████████████████████| 200/200 [00:20<00:00,  9.97it/s]\n"
     ]
    },
    {
     "name": "stdout",
     "output_type": "stream",
     "text": [
      "Epoch 9, Loss: 6.301329581737519\n",
      "[SYST] Epoch 9\n"
     ]
    },
    {
     "name": "stderr",
     "output_type": "stream",
     "text": [
      "100%|████████████████████████████████████████████████████████| 200/200 [00:19<00:00, 10.01it/s]\n"
     ]
    },
    {
     "name": "stdout",
     "output_type": "stream",
     "text": [
      "Epoch 10, Loss: 6.265947794914245\n",
      "[SYST] Epoch 0\n"
     ]
    },
    {
     "name": "stderr",
     "output_type": "stream",
     "text": [
      "100%|████████████████████████████████████████████████████████████| 2/2 [00:00<00:00, 13.53it/s]\n"
     ]
    },
    {
     "name": "stdout",
     "output_type": "stream",
     "text": [
      "Test Accuracy: 50.39%\n",
      "[{'accuracy': 0.9983, 'Layer1': {'[[0, 1, 2, 3, 4, 5, 6, 7]]': 0.5013, '[[0, 1]]': 0.5039}}]\n",
      "Layer1 : [[0]]\n"
     ]
    },
    {
     "name": "stderr",
     "output_type": "stream",
     "text": [
      "100%|█████████████████████████████████████████████| 1280000/1280000 [01:22<00:00, 15565.87it/s]\n",
      "100%|█████████████████████████████████████████████████| 10000/10000 [00:00<00:00, 16905.13it/s]\n"
     ]
    },
    {
     "name": "stdout",
     "output_type": "stream",
     "text": [
      "[SYST] Prepare Data\n"
     ]
    },
    {
     "name": "stderr",
     "output_type": "stream",
     "text": [
      "100%|████████████████████████████████████████████| 1280000/1280000 [00:07<00:00, 162292.93it/s]\n"
     ]
    },
    {
     "name": "stdout",
     "output_type": "stream",
     "text": [
      "[SYST] Prepare Data\n"
     ]
    },
    {
     "name": "stderr",
     "output_type": "stream",
     "text": [
      "100%|████████████████████████████████████████████████| 10000/10000 [00:00<00:00, 165259.55it/s]"
     ]
    },
    {
     "name": "stdout",
     "output_type": "stream",
     "text": [
      "[SYST] Epoch 0\n"
     ]
    },
    {
     "name": "stderr",
     "output_type": "stream",
     "text": [
      "\n",
      "100%|████████████████████████████████████████████████████████| 200/200 [00:19<00:00, 10.15it/s]\n"
     ]
    },
    {
     "name": "stdout",
     "output_type": "stream",
     "text": [
      "Epoch 1, Loss: 7.17069194316864\n",
      "[SYST] Epoch 1\n"
     ]
    },
    {
     "name": "stderr",
     "output_type": "stream",
     "text": [
      "100%|████████████████████████████████████████████████████████| 200/200 [00:19<00:00, 10.04it/s]\n"
     ]
    },
    {
     "name": "stdout",
     "output_type": "stream",
     "text": [
      "Epoch 2, Loss: 6.757828626632691\n",
      "[SYST] Epoch 2\n"
     ]
    },
    {
     "name": "stderr",
     "output_type": "stream",
     "text": [
      "100%|████████████████████████████████████████████████████████| 200/200 [00:20<00:00,  9.94it/s]\n"
     ]
    },
    {
     "name": "stdout",
     "output_type": "stream",
     "text": [
      "Epoch 3, Loss: 6.706588728427887\n",
      "[SYST] Epoch 3\n"
     ]
    },
    {
     "name": "stderr",
     "output_type": "stream",
     "text": [
      "100%|████████████████████████████████████████████████████████| 200/200 [00:20<00:00,  9.97it/s]\n"
     ]
    },
    {
     "name": "stdout",
     "output_type": "stream",
     "text": [
      "Epoch 4, Loss: 6.679471297264099\n",
      "[SYST] Epoch 4\n"
     ]
    },
    {
     "name": "stderr",
     "output_type": "stream",
     "text": [
      "100%|████████████████████████████████████████████████████████| 200/200 [00:20<00:00,  9.99it/s]\n"
     ]
    },
    {
     "name": "stdout",
     "output_type": "stream",
     "text": [
      "Epoch 5, Loss: 6.664516849517822\n",
      "[SYST] Epoch 5\n"
     ]
    },
    {
     "name": "stderr",
     "output_type": "stream",
     "text": [
      "100%|████████████████████████████████████████████████████████| 200/200 [00:19<00:00, 10.01it/s]\n"
     ]
    },
    {
     "name": "stdout",
     "output_type": "stream",
     "text": [
      "Epoch 6, Loss: 6.655950264930725\n",
      "[SYST] Epoch 6\n"
     ]
    },
    {
     "name": "stderr",
     "output_type": "stream",
     "text": [
      "100%|████████████████████████████████████████████████████████| 200/200 [00:20<00:00, 10.00it/s]\n"
     ]
    },
    {
     "name": "stdout",
     "output_type": "stream",
     "text": [
      "Epoch 7, Loss: 6.651135528087616\n",
      "[SYST] Epoch 7\n"
     ]
    },
    {
     "name": "stderr",
     "output_type": "stream",
     "text": [
      "100%|████████████████████████████████████████████████████████| 200/200 [00:19<00:00, 10.05it/s]\n"
     ]
    },
    {
     "name": "stdout",
     "output_type": "stream",
     "text": [
      "Epoch 8, Loss: 6.649006435871124\n",
      "[SYST] Epoch 8\n"
     ]
    },
    {
     "name": "stderr",
     "output_type": "stream",
     "text": [
      "100%|████████████████████████████████████████████████████████| 200/200 [00:19<00:00, 10.03it/s]\n"
     ]
    },
    {
     "name": "stdout",
     "output_type": "stream",
     "text": [
      "Epoch 9, Loss: 6.647671813964844\n",
      "[SYST] Epoch 9\n"
     ]
    },
    {
     "name": "stderr",
     "output_type": "stream",
     "text": [
      "100%|████████████████████████████████████████████████████████| 200/200 [00:19<00:00, 10.06it/s]\n"
     ]
    },
    {
     "name": "stdout",
     "output_type": "stream",
     "text": [
      "Epoch 10, Loss: 6.6475844264030455\n",
      "[SYST] Epoch 0\n"
     ]
    },
    {
     "name": "stderr",
     "output_type": "stream",
     "text": [
      "100%|████████████████████████████████████████████████████████████| 2/2 [00:00<00:00, 13.45it/s]\n"
     ]
    },
    {
     "name": "stdout",
     "output_type": "stream",
     "text": [
      "Test Accuracy: 50.82%\n",
      "[{'accuracy': 0.9983, 'Layer1': {'[[0, 1, 2, 3, 4, 5, 6, 7]]': 0.5013, '[[0, 1]]': 0.5039, '[[0]]': 0.5082}}]\n",
      "Layer2 : [[0, 1, 2, 3, 4, 5, 6, 7]]\n"
     ]
    },
    {
     "name": "stderr",
     "output_type": "stream",
     "text": [
      "100%|█████████████████████████████████████████████| 1280000/1280000 [01:22<00:00, 15588.23it/s]\n",
      "100%|█████████████████████████████████████████████████| 10000/10000 [00:00<00:00, 16878.88it/s]\n"
     ]
    },
    {
     "name": "stdout",
     "output_type": "stream",
     "text": [
      "[SYST] Prepare Data\n"
     ]
    },
    {
     "name": "stderr",
     "output_type": "stream",
     "text": [
      "100%|████████████████████████████████████████████| 1280000/1280000 [00:08<00:00, 146733.57it/s]\n"
     ]
    },
    {
     "name": "stdout",
     "output_type": "stream",
     "text": [
      "[SYST] Prepare Data\n"
     ]
    },
    {
     "name": "stderr",
     "output_type": "stream",
     "text": [
      "100%|████████████████████████████████████████████████| 10000/10000 [00:00<00:00, 147475.93it/s]"
     ]
    },
    {
     "name": "stdout",
     "output_type": "stream",
     "text": [
      "[SYST] Epoch 0\n"
     ]
    },
    {
     "name": "stderr",
     "output_type": "stream",
     "text": [
      "\n",
      "100%|████████████████████████████████████████████████████████| 200/200 [00:19<00:00, 10.16it/s]\n"
     ]
    },
    {
     "name": "stdout",
     "output_type": "stream",
     "text": [
      "Epoch 1, Loss: 6.549510557651519\n",
      "[SYST] Epoch 1\n"
     ]
    },
    {
     "name": "stderr",
     "output_type": "stream",
     "text": [
      "100%|████████████████████████████████████████████████████████| 200/200 [00:19<00:00, 10.04it/s]\n"
     ]
    },
    {
     "name": "stdout",
     "output_type": "stream",
     "text": [
      "Epoch 2, Loss: 5.932758560180664\n",
      "[SYST] Epoch 2\n"
     ]
    },
    {
     "name": "stderr",
     "output_type": "stream",
     "text": [
      "100%|████████████████████████████████████████████████████████| 200/200 [00:20<00:00,  9.90it/s]\n"
     ]
    },
    {
     "name": "stdout",
     "output_type": "stream",
     "text": [
      "Epoch 3, Loss: 5.846905319690705\n",
      "[SYST] Epoch 3\n"
     ]
    },
    {
     "name": "stderr",
     "output_type": "stream",
     "text": [
      "100%|████████████████████████████████████████████████████████| 200/200 [00:20<00:00,  9.89it/s]\n"
     ]
    },
    {
     "name": "stdout",
     "output_type": "stream",
     "text": [
      "Epoch 4, Loss: 5.748675734996795\n",
      "[SYST] Epoch 4\n"
     ]
    },
    {
     "name": "stderr",
     "output_type": "stream",
     "text": [
      "100%|████████████████████████████████████████████████████████| 200/200 [00:20<00:00,  9.89it/s]\n"
     ]
    },
    {
     "name": "stdout",
     "output_type": "stream",
     "text": [
      "Epoch 5, Loss: 5.645635070800782\n",
      "[SYST] Epoch 5\n"
     ]
    },
    {
     "name": "stderr",
     "output_type": "stream",
     "text": [
      "100%|████████████████████████████████████████████████████████| 200/200 [00:20<00:00,  9.90it/s]\n"
     ]
    },
    {
     "name": "stdout",
     "output_type": "stream",
     "text": [
      "Epoch 6, Loss: 5.598932693004608\n",
      "[SYST] Epoch 6\n"
     ]
    },
    {
     "name": "stderr",
     "output_type": "stream",
     "text": [
      "100%|████████████████████████████████████████████████████████| 200/200 [00:20<00:00,  9.91it/s]\n"
     ]
    },
    {
     "name": "stdout",
     "output_type": "stream",
     "text": [
      "Epoch 7, Loss: 5.580601408481598\n",
      "[SYST] Epoch 7\n"
     ]
    },
    {
     "name": "stderr",
     "output_type": "stream",
     "text": [
      "100%|████████████████████████████████████████████████████████| 200/200 [00:20<00:00,  9.86it/s]\n"
     ]
    },
    {
     "name": "stdout",
     "output_type": "stream",
     "text": [
      "Epoch 8, Loss: 5.569434316158294\n",
      "[SYST] Epoch 8\n"
     ]
    },
    {
     "name": "stderr",
     "output_type": "stream",
     "text": [
      "100%|████████████████████████████████████████████████████████| 200/200 [00:20<00:00,  9.92it/s]\n"
     ]
    },
    {
     "name": "stdout",
     "output_type": "stream",
     "text": [
      "Epoch 9, Loss: 5.561856241226196\n",
      "[SYST] Epoch 9\n"
     ]
    },
    {
     "name": "stderr",
     "output_type": "stream",
     "text": [
      "100%|████████████████████████████████████████████████████████| 200/200 [00:20<00:00,  9.96it/s]\n"
     ]
    },
    {
     "name": "stdout",
     "output_type": "stream",
     "text": [
      "Epoch 10, Loss: 5.555230829715729\n",
      "[SYST] Epoch 0\n"
     ]
    },
    {
     "name": "stderr",
     "output_type": "stream",
     "text": [
      "100%|████████████████████████████████████████████████████████████| 2/2 [00:00<00:00, 13.36it/s]\n"
     ]
    },
    {
     "name": "stdout",
     "output_type": "stream",
     "text": [
      "Test Accuracy: 50.37%\n",
      "[{'accuracy': 0.9983, 'Layer1': {'[[0, 1, 2, 3, 4, 5, 6, 7]]': 0.5013, '[[0, 1]]': 0.5039, '[[0]]': 0.5082}, 'Layer2': {'[[0, 1, 2, 3, 4, 5, 6, 7]]': 0.5037}}]\n",
      "Layer2 : [[0, 1]]\n"
     ]
    },
    {
     "name": "stderr",
     "output_type": "stream",
     "text": [
      "100%|█████████████████████████████████████████████| 1280000/1280000 [01:23<00:00, 15397.19it/s]\n",
      "100%|█████████████████████████████████████████████████| 10000/10000 [00:00<00:00, 16638.19it/s]\n"
     ]
    },
    {
     "name": "stdout",
     "output_type": "stream",
     "text": [
      "[SYST] Prepare Data\n"
     ]
    },
    {
     "name": "stderr",
     "output_type": "stream",
     "text": [
      "100%|████████████████████████████████████████████| 1280000/1280000 [00:08<00:00, 158205.24it/s]\n"
     ]
    },
    {
     "name": "stdout",
     "output_type": "stream",
     "text": [
      "[SYST] Prepare Data\n"
     ]
    },
    {
     "name": "stderr",
     "output_type": "stream",
     "text": [
      "100%|████████████████████████████████████████████████| 10000/10000 [00:00<00:00, 160787.55it/s]"
     ]
    },
    {
     "name": "stdout",
     "output_type": "stream",
     "text": [
      "[SYST] Epoch 0\n"
     ]
    },
    {
     "name": "stderr",
     "output_type": "stream",
     "text": [
      "\n",
      "100%|████████████████████████████████████████████████████████| 200/200 [00:19<00:00, 10.13it/s]\n"
     ]
    },
    {
     "name": "stdout",
     "output_type": "stream",
     "text": [
      "Epoch 1, Loss: 7.177222435474396\n",
      "[SYST] Epoch 1\n"
     ]
    },
    {
     "name": "stderr",
     "output_type": "stream",
     "text": [
      "100%|████████████████████████████████████████████████████████| 200/200 [00:20<00:00,  9.98it/s]\n"
     ]
    },
    {
     "name": "stdout",
     "output_type": "stream",
     "text": [
      "Epoch 2, Loss: 6.160035471916199\n",
      "[SYST] Epoch 2\n"
     ]
    },
    {
     "name": "stderr",
     "output_type": "stream",
     "text": [
      "100%|████████████████████████████████████████████████████████| 200/200 [00:19<00:00, 10.00it/s]\n"
     ]
    },
    {
     "name": "stdout",
     "output_type": "stream",
     "text": [
      "Epoch 3, Loss: 5.949186449050903\n",
      "[SYST] Epoch 3\n"
     ]
    },
    {
     "name": "stderr",
     "output_type": "stream",
     "text": [
      "100%|████████████████████████████████████████████████████████| 200/200 [00:19<00:00, 10.03it/s]\n"
     ]
    },
    {
     "name": "stdout",
     "output_type": "stream",
     "text": [
      "Epoch 4, Loss: 5.8224818110466\n",
      "[SYST] Epoch 4\n"
     ]
    },
    {
     "name": "stderr",
     "output_type": "stream",
     "text": [
      "100%|████████████████████████████████████████████████████████| 200/200 [00:20<00:00, 10.00it/s]\n"
     ]
    },
    {
     "name": "stdout",
     "output_type": "stream",
     "text": [
      "Epoch 5, Loss: 5.7375062298774715\n",
      "[SYST] Epoch 5\n"
     ]
    },
    {
     "name": "stderr",
     "output_type": "stream",
     "text": [
      "100%|████████████████████████████████████████████████████████| 200/200 [00:19<00:00, 10.03it/s]\n"
     ]
    },
    {
     "name": "stdout",
     "output_type": "stream",
     "text": [
      "Epoch 6, Loss: 5.684942154884339\n",
      "[SYST] Epoch 6\n"
     ]
    },
    {
     "name": "stderr",
     "output_type": "stream",
     "text": [
      "100%|████████████████████████████████████████████████████████| 200/200 [00:19<00:00, 10.00it/s]\n"
     ]
    },
    {
     "name": "stdout",
     "output_type": "stream",
     "text": [
      "Epoch 7, Loss: 5.6556600880622865\n",
      "[SYST] Epoch 7\n"
     ]
    },
    {
     "name": "stderr",
     "output_type": "stream",
     "text": [
      "100%|████████████████████████████████████████████████████████| 200/200 [00:20<00:00,  9.98it/s]\n"
     ]
    },
    {
     "name": "stdout",
     "output_type": "stream",
     "text": [
      "Epoch 8, Loss: 5.640899760723114\n",
      "[SYST] Epoch 8\n"
     ]
    },
    {
     "name": "stderr",
     "output_type": "stream",
     "text": [
      "100%|████████████████████████████████████████████████████████| 200/200 [00:19<00:00, 10.01it/s]\n"
     ]
    },
    {
     "name": "stdout",
     "output_type": "stream",
     "text": [
      "Epoch 9, Loss: 5.633914551734924\n",
      "[SYST] Epoch 9\n"
     ]
    },
    {
     "name": "stderr",
     "output_type": "stream",
     "text": [
      "100%|████████████████████████████████████████████████████████| 200/200 [00:20<00:00,  9.99it/s]\n"
     ]
    },
    {
     "name": "stdout",
     "output_type": "stream",
     "text": [
      "Epoch 10, Loss: 5.629886083602905\n",
      "[SYST] Epoch 0\n"
     ]
    },
    {
     "name": "stderr",
     "output_type": "stream",
     "text": [
      "100%|████████████████████████████████████████████████████████████| 2/2 [00:00<00:00, 13.31it/s]\n"
     ]
    },
    {
     "name": "stdout",
     "output_type": "stream",
     "text": [
      "Test Accuracy: 50.32%\n",
      "[{'accuracy': 0.9983, 'Layer1': {'[[0, 1, 2, 3, 4, 5, 6, 7]]': 0.5013, '[[0, 1]]': 0.5039, '[[0]]': 0.5082}, 'Layer2': {'[[0, 1, 2, 3, 4, 5, 6, 7]]': 0.5037, '[[0, 1]]': 0.5032}}]\n",
      "Layer2 : [[0]]\n"
     ]
    },
    {
     "name": "stderr",
     "output_type": "stream",
     "text": [
      "100%|█████████████████████████████████████████████| 1280000/1280000 [01:22<00:00, 15478.72it/s]\n",
      "100%|█████████████████████████████████████████████████| 10000/10000 [00:00<00:00, 16600.43it/s]\n"
     ]
    },
    {
     "name": "stdout",
     "output_type": "stream",
     "text": [
      "[SYST] Prepare Data\n"
     ]
    },
    {
     "name": "stderr",
     "output_type": "stream",
     "text": [
      "100%|████████████████████████████████████████████| 1280000/1280000 [00:07<00:00, 162378.30it/s]\n"
     ]
    },
    {
     "name": "stdout",
     "output_type": "stream",
     "text": [
      "[SYST] Prepare Data\n"
     ]
    },
    {
     "name": "stderr",
     "output_type": "stream",
     "text": [
      "100%|████████████████████████████████████████████████| 10000/10000 [00:00<00:00, 163455.62it/s]"
     ]
    },
    {
     "name": "stdout",
     "output_type": "stream",
     "text": [
      "[SYST] Epoch 0\n"
     ]
    },
    {
     "name": "stderr",
     "output_type": "stream",
     "text": [
      "\n",
      "100%|████████████████████████████████████████████████████████| 200/200 [00:19<00:00, 10.11it/s]\n"
     ]
    },
    {
     "name": "stdout",
     "output_type": "stream",
     "text": [
      "Epoch 1, Loss: 7.551473379135132\n",
      "[SYST] Epoch 1\n"
     ]
    },
    {
     "name": "stderr",
     "output_type": "stream",
     "text": [
      "100%|████████████████████████████████████████████████████████| 200/200 [00:19<00:00, 10.04it/s]\n"
     ]
    },
    {
     "name": "stdout",
     "output_type": "stream",
     "text": [
      "Epoch 2, Loss: 6.989027652740479\n",
      "[SYST] Epoch 2\n"
     ]
    },
    {
     "name": "stderr",
     "output_type": "stream",
     "text": [
      "100%|████████████████████████████████████████████████████████| 200/200 [00:19<00:00, 10.04it/s]\n"
     ]
    },
    {
     "name": "stdout",
     "output_type": "stream",
     "text": [
      "Epoch 3, Loss: 6.7760221385955814\n",
      "[SYST] Epoch 3\n"
     ]
    },
    {
     "name": "stderr",
     "output_type": "stream",
     "text": [
      "100%|████████████████████████████████████████████████████████| 200/200 [00:19<00:00, 10.05it/s]\n"
     ]
    },
    {
     "name": "stdout",
     "output_type": "stream",
     "text": [
      "Epoch 4, Loss: 6.680179221630096\n",
      "[SYST] Epoch 4\n"
     ]
    },
    {
     "name": "stderr",
     "output_type": "stream",
     "text": [
      "100%|████████████████████████████████████████████████████████| 200/200 [00:20<00:00, 10.00it/s]\n"
     ]
    },
    {
     "name": "stdout",
     "output_type": "stream",
     "text": [
      "Epoch 5, Loss: 6.627597851753235\n",
      "[SYST] Epoch 5\n"
     ]
    },
    {
     "name": "stderr",
     "output_type": "stream",
     "text": [
      "100%|████████████████████████████████████████████████████████| 200/200 [00:19<00:00, 10.02it/s]\n"
     ]
    },
    {
     "name": "stdout",
     "output_type": "stream",
     "text": [
      "Epoch 6, Loss: 6.608200421333313\n",
      "[SYST] Epoch 6\n"
     ]
    },
    {
     "name": "stderr",
     "output_type": "stream",
     "text": [
      "100%|████████████████████████████████████████████████████████| 200/200 [00:19<00:00, 10.06it/s]\n"
     ]
    },
    {
     "name": "stdout",
     "output_type": "stream",
     "text": [
      "Epoch 7, Loss: 6.603021080493927\n",
      "[SYST] Epoch 7\n"
     ]
    },
    {
     "name": "stderr",
     "output_type": "stream",
     "text": [
      "100%|████████████████████████████████████████████████████████| 200/200 [00:19<00:00, 10.07it/s]\n"
     ]
    },
    {
     "name": "stdout",
     "output_type": "stream",
     "text": [
      "Epoch 8, Loss: 6.602841994762421\n",
      "[SYST] Epoch 8\n"
     ]
    },
    {
     "name": "stderr",
     "output_type": "stream",
     "text": [
      "100%|████████████████████████████████████████████████████████| 200/200 [00:20<00:00,  9.99it/s]\n"
     ]
    },
    {
     "name": "stdout",
     "output_type": "stream",
     "text": [
      "Epoch 9, Loss: 6.602249443531036\n",
      "[SYST] Epoch 9\n"
     ]
    },
    {
     "name": "stderr",
     "output_type": "stream",
     "text": [
      "100%|████████████████████████████████████████████████████████| 200/200 [00:19<00:00, 10.01it/s]\n"
     ]
    },
    {
     "name": "stdout",
     "output_type": "stream",
     "text": [
      "Epoch 10, Loss: 6.602315182685852\n",
      "[SYST] Epoch 0\n"
     ]
    },
    {
     "name": "stderr",
     "output_type": "stream",
     "text": [
      "100%|████████████████████████████████████████████████████████████| 2/2 [00:00<00:00, 13.25it/s]\n"
     ]
    },
    {
     "name": "stdout",
     "output_type": "stream",
     "text": [
      "Test Accuracy: 50.75%\n",
      "[{'accuracy': 0.9983, 'Layer1': {'[[0, 1, 2, 3, 4, 5, 6, 7]]': 0.5013, '[[0, 1]]': 0.5039, '[[0]]': 0.5082}, 'Layer2': {'[[0, 1, 2, 3, 4, 5, 6, 7]]': 0.5037, '[[0, 1]]': 0.5032, '[[0]]': 0.5075}}]\n",
      "Layer3 : [[0, 1, 2, 3, 4, 5, 6, 7]]\n"
     ]
    },
    {
     "name": "stderr",
     "output_type": "stream",
     "text": [
      "100%|█████████████████████████████████████████████| 1280000/1280000 [01:22<00:00, 15509.41it/s]\n",
      "100%|█████████████████████████████████████████████████| 10000/10000 [00:00<00:00, 16654.04it/s]\n"
     ]
    },
    {
     "name": "stdout",
     "output_type": "stream",
     "text": [
      "[SYST] Prepare Data\n"
     ]
    },
    {
     "name": "stderr",
     "output_type": "stream",
     "text": [
      "100%|████████████████████████████████████████████| 1280000/1280000 [00:08<00:00, 144875.02it/s]\n"
     ]
    },
    {
     "name": "stdout",
     "output_type": "stream",
     "text": [
      "[SYST] Prepare Data\n"
     ]
    },
    {
     "name": "stderr",
     "output_type": "stream",
     "text": [
      "100%|████████████████████████████████████████████████| 10000/10000 [00:00<00:00, 147611.92it/s]"
     ]
    },
    {
     "name": "stdout",
     "output_type": "stream",
     "text": [
      "[SYST] Epoch 0\n"
     ]
    },
    {
     "name": "stderr",
     "output_type": "stream",
     "text": [
      "\n",
      "100%|████████████████████████████████████████████████████████| 200/200 [00:19<00:00, 10.10it/s]\n"
     ]
    },
    {
     "name": "stdout",
     "output_type": "stream",
     "text": [
      "Epoch 1, Loss: 6.256849522590637\n",
      "[SYST] Epoch 1\n"
     ]
    },
    {
     "name": "stderr",
     "output_type": "stream",
     "text": [
      "100%|████████████████████████████████████████████████████████| 200/200 [00:19<00:00, 10.12it/s]\n"
     ]
    },
    {
     "name": "stdout",
     "output_type": "stream",
     "text": [
      "Epoch 2, Loss: 6.211160519123077\n",
      "[SYST] Epoch 2\n"
     ]
    },
    {
     "name": "stderr",
     "output_type": "stream",
     "text": [
      "100%|████████████████████████████████████████████████████████| 200/200 [00:19<00:00, 10.14it/s]\n"
     ]
    },
    {
     "name": "stdout",
     "output_type": "stream",
     "text": [
      "Epoch 3, Loss: 6.210475363731384\n",
      "[SYST] Epoch 3\n"
     ]
    },
    {
     "name": "stderr",
     "output_type": "stream",
     "text": [
      "100%|████████████████████████████████████████████████████████| 200/200 [00:19<00:00, 10.11it/s]\n"
     ]
    },
    {
     "name": "stdout",
     "output_type": "stream",
     "text": [
      "Epoch 4, Loss: 6.210773320198059\n",
      "[SYST] Epoch 4\n"
     ]
    },
    {
     "name": "stderr",
     "output_type": "stream",
     "text": [
      "100%|████████████████████████████████████████████████████████| 200/200 [00:19<00:00, 10.12it/s]\n"
     ]
    },
    {
     "name": "stdout",
     "output_type": "stream",
     "text": [
      "Epoch 5, Loss: 6.210327227115631\n",
      "[SYST] Epoch 5\n"
     ]
    },
    {
     "name": "stderr",
     "output_type": "stream",
     "text": [
      "100%|████████████████████████████████████████████████████████| 200/200 [00:19<00:00, 10.04it/s]\n"
     ]
    },
    {
     "name": "stdout",
     "output_type": "stream",
     "text": [
      "Epoch 6, Loss: 6.210132718086243\n",
      "[SYST] Epoch 6\n"
     ]
    },
    {
     "name": "stderr",
     "output_type": "stream",
     "text": [
      "100%|████████████████████████████████████████████████████████| 200/200 [00:20<00:00,  9.95it/s]\n"
     ]
    },
    {
     "name": "stdout",
     "output_type": "stream",
     "text": [
      "Epoch 7, Loss: 6.21029771566391\n",
      "[SYST] Epoch 7\n"
     ]
    },
    {
     "name": "stderr",
     "output_type": "stream",
     "text": [
      "100%|████████████████████████████████████████████████████████| 200/200 [00:20<00:00,  9.97it/s]\n"
     ]
    },
    {
     "name": "stdout",
     "output_type": "stream",
     "text": [
      "Epoch 8, Loss: 6.210171656608582\n",
      "[SYST] Epoch 8\n"
     ]
    },
    {
     "name": "stderr",
     "output_type": "stream",
     "text": [
      "100%|████████████████████████████████████████████████████████| 200/200 [00:20<00:00,  9.83it/s]\n"
     ]
    },
    {
     "name": "stdout",
     "output_type": "stream",
     "text": [
      "Epoch 9, Loss: 6.2099993348121645\n",
      "[SYST] Epoch 9\n"
     ]
    },
    {
     "name": "stderr",
     "output_type": "stream",
     "text": [
      "100%|████████████████████████████████████████████████████████| 200/200 [00:20<00:00,  9.92it/s]\n"
     ]
    },
    {
     "name": "stdout",
     "output_type": "stream",
     "text": [
      "Epoch 10, Loss: 6.210089528560639\n",
      "[SYST] Epoch 0\n"
     ]
    },
    {
     "name": "stderr",
     "output_type": "stream",
     "text": [
      "100%|████████████████████████████████████████████████████████████| 2/2 [00:00<00:00, 13.30it/s]\n"
     ]
    },
    {
     "name": "stdout",
     "output_type": "stream",
     "text": [
      "Test Accuracy: 49.25%\n",
      "[{'accuracy': 0.9983, 'Layer1': {'[[0, 1, 2, 3, 4, 5, 6, 7]]': 0.5013, '[[0, 1]]': 0.5039, '[[0]]': 0.5082}, 'Layer2': {'[[0, 1, 2, 3, 4, 5, 6, 7]]': 0.5037, '[[0, 1]]': 0.5032, '[[0]]': 0.5075}, 'Layer3': {'[[0, 1, 2, 3, 4, 5, 6, 7]]': 0.4925}}]\n",
      "Layer3 : [[0, 1]]\n"
     ]
    },
    {
     "name": "stderr",
     "output_type": "stream",
     "text": [
      "100%|█████████████████████████████████████████████| 1280000/1280000 [01:23<00:00, 15416.32it/s]\n",
      "100%|█████████████████████████████████████████████████| 10000/10000 [00:00<00:00, 16669.42it/s]\n"
     ]
    },
    {
     "name": "stdout",
     "output_type": "stream",
     "text": [
      "[SYST] Prepare Data\n"
     ]
    },
    {
     "name": "stderr",
     "output_type": "stream",
     "text": [
      "100%|████████████████████████████████████████████| 1280000/1280000 [00:08<00:00, 158095.33it/s]\n"
     ]
    },
    {
     "name": "stdout",
     "output_type": "stream",
     "text": [
      "[SYST] Prepare Data\n"
     ]
    },
    {
     "name": "stderr",
     "output_type": "stream",
     "text": [
      "100%|████████████████████████████████████████████████| 10000/10000 [00:00<00:00, 161660.11it/s]"
     ]
    },
    {
     "name": "stdout",
     "output_type": "stream",
     "text": [
      "[SYST] Epoch 0\n"
     ]
    },
    {
     "name": "stderr",
     "output_type": "stream",
     "text": [
      "\n",
      "100%|████████████████████████████████████████████████████████| 200/200 [00:19<00:00, 10.12it/s]\n"
     ]
    },
    {
     "name": "stdout",
     "output_type": "stream",
     "text": [
      "Epoch 1, Loss: 6.299656269550323\n",
      "[SYST] Epoch 1\n"
     ]
    },
    {
     "name": "stderr",
     "output_type": "stream",
     "text": [
      "100%|████████████████████████████████████████████████████████| 200/200 [00:20<00:00,  9.94it/s]\n"
     ]
    },
    {
     "name": "stdout",
     "output_type": "stream",
     "text": [
      "Epoch 2, Loss: 6.2013770413398746\n",
      "[SYST] Epoch 2\n"
     ]
    },
    {
     "name": "stderr",
     "output_type": "stream",
     "text": [
      "100%|████████████████████████████████████████████████████████| 200/200 [00:20<00:00,  9.97it/s]\n"
     ]
    },
    {
     "name": "stdout",
     "output_type": "stream",
     "text": [
      "Epoch 3, Loss: 6.199202806949615\n",
      "[SYST] Epoch 3\n"
     ]
    },
    {
     "name": "stderr",
     "output_type": "stream",
     "text": [
      "100%|████████████████████████████████████████████████████████| 200/200 [00:19<00:00, 10.03it/s]\n"
     ]
    },
    {
     "name": "stdout",
     "output_type": "stream",
     "text": [
      "Epoch 4, Loss: 6.197729740142822\n",
      "[SYST] Epoch 4\n"
     ]
    },
    {
     "name": "stderr",
     "output_type": "stream",
     "text": [
      "100%|████████████████████████████████████████████████████████| 200/200 [00:19<00:00, 10.01it/s]\n"
     ]
    },
    {
     "name": "stdout",
     "output_type": "stream",
     "text": [
      "Epoch 5, Loss: 6.19657958984375\n",
      "[SYST] Epoch 5\n"
     ]
    },
    {
     "name": "stderr",
     "output_type": "stream",
     "text": [
      "100%|████████████████████████████████████████████████████████| 200/200 [00:19<00:00, 10.01it/s]\n"
     ]
    },
    {
     "name": "stdout",
     "output_type": "stream",
     "text": [
      "Epoch 6, Loss: 6.195745904445648\n",
      "[SYST] Epoch 6\n"
     ]
    },
    {
     "name": "stderr",
     "output_type": "stream",
     "text": [
      "100%|████████████████████████████████████████████████████████| 200/200 [00:19<00:00, 10.00it/s]\n"
     ]
    },
    {
     "name": "stdout",
     "output_type": "stream",
     "text": [
      "Epoch 7, Loss: 6.195322291851044\n",
      "[SYST] Epoch 7\n"
     ]
    },
    {
     "name": "stderr",
     "output_type": "stream",
     "text": [
      "100%|████████████████████████████████████████████████████████| 200/200 [00:19<00:00, 10.01it/s]\n"
     ]
    },
    {
     "name": "stdout",
     "output_type": "stream",
     "text": [
      "Epoch 8, Loss: 6.195131185054779\n",
      "[SYST] Epoch 8\n"
     ]
    },
    {
     "name": "stderr",
     "output_type": "stream",
     "text": [
      "100%|████████████████████████████████████████████████████████| 200/200 [00:19<00:00, 10.02it/s]\n"
     ]
    },
    {
     "name": "stdout",
     "output_type": "stream",
     "text": [
      "Epoch 9, Loss: 6.194800956249237\n",
      "[SYST] Epoch 9\n"
     ]
    },
    {
     "name": "stderr",
     "output_type": "stream",
     "text": [
      "100%|████████████████████████████████████████████████████████| 200/200 [00:19<00:00, 10.04it/s]\n"
     ]
    },
    {
     "name": "stdout",
     "output_type": "stream",
     "text": [
      "Epoch 10, Loss: 6.194367153644562\n",
      "[SYST] Epoch 0\n"
     ]
    },
    {
     "name": "stderr",
     "output_type": "stream",
     "text": [
      "100%|████████████████████████████████████████████████████████████| 2/2 [00:00<00:00, 13.38it/s]\n"
     ]
    },
    {
     "name": "stdout",
     "output_type": "stream",
     "text": [
      "Test Accuracy: 50.37%\n",
      "[{'accuracy': 0.9983, 'Layer1': {'[[0, 1, 2, 3, 4, 5, 6, 7]]': 0.5013, '[[0, 1]]': 0.5039, '[[0]]': 0.5082}, 'Layer2': {'[[0, 1, 2, 3, 4, 5, 6, 7]]': 0.5037, '[[0, 1]]': 0.5032, '[[0]]': 0.5075}, 'Layer3': {'[[0, 1, 2, 3, 4, 5, 6, 7]]': 0.4925, '[[0, 1]]': 0.5037}}]\n",
      "Layer3 : [[0]]\n"
     ]
    },
    {
     "name": "stderr",
     "output_type": "stream",
     "text": [
      "100%|█████████████████████████████████████████████| 1280000/1280000 [01:23<00:00, 15268.89it/s]\n",
      "100%|█████████████████████████████████████████████████| 10000/10000 [00:00<00:00, 16728.32it/s]\n"
     ]
    },
    {
     "name": "stdout",
     "output_type": "stream",
     "text": [
      "[SYST] Prepare Data\n"
     ]
    },
    {
     "name": "stderr",
     "output_type": "stream",
     "text": [
      "100%|████████████████████████████████████████████| 1280000/1280000 [00:07<00:00, 162952.23it/s]\n"
     ]
    },
    {
     "name": "stdout",
     "output_type": "stream",
     "text": [
      "[SYST] Prepare Data\n"
     ]
    },
    {
     "name": "stderr",
     "output_type": "stream",
     "text": [
      "100%|████████████████████████████████████████████████| 10000/10000 [00:00<00:00, 165514.54it/s]"
     ]
    },
    {
     "name": "stdout",
     "output_type": "stream",
     "text": [
      "[SYST] Epoch 0\n"
     ]
    },
    {
     "name": "stderr",
     "output_type": "stream",
     "text": [
      "\n",
      "100%|████████████████████████████████████████████████████████| 200/200 [00:19<00:00, 10.10it/s]\n"
     ]
    },
    {
     "name": "stdout",
     "output_type": "stream",
     "text": [
      "Epoch 1, Loss: 6.518694984912872\n",
      "[SYST] Epoch 1\n"
     ]
    },
    {
     "name": "stderr",
     "output_type": "stream",
     "text": [
      "100%|████████████████████████████████████████████████████████| 200/200 [00:19<00:00, 10.04it/s]\n"
     ]
    },
    {
     "name": "stdout",
     "output_type": "stream",
     "text": [
      "Epoch 2, Loss: 6.227435958385468\n",
      "[SYST] Epoch 2\n"
     ]
    },
    {
     "name": "stderr",
     "output_type": "stream",
     "text": [
      "100%|████████████████████████████████████████████████████████| 200/200 [00:20<00:00,  9.98it/s]\n"
     ]
    },
    {
     "name": "stdout",
     "output_type": "stream",
     "text": [
      "Epoch 3, Loss: 6.2129948568344116\n",
      "[SYST] Epoch 3\n"
     ]
    },
    {
     "name": "stderr",
     "output_type": "stream",
     "text": [
      "100%|████████████████████████████████████████████████████████| 200/200 [00:20<00:00,  9.98it/s]\n"
     ]
    },
    {
     "name": "stdout",
     "output_type": "stream",
     "text": [
      "Epoch 4, Loss: 6.21173196554184\n",
      "[SYST] Epoch 4\n"
     ]
    },
    {
     "name": "stderr",
     "output_type": "stream",
     "text": [
      "100%|████████████████████████████████████████████████████████| 200/200 [00:20<00:00, 10.00it/s]\n"
     ]
    },
    {
     "name": "stdout",
     "output_type": "stream",
     "text": [
      "Epoch 5, Loss: 6.21134458065033\n",
      "[SYST] Epoch 5\n"
     ]
    },
    {
     "name": "stderr",
     "output_type": "stream",
     "text": [
      "100%|████████████████████████████████████████████████████████| 200/200 [00:20<00:00,  9.99it/s]\n"
     ]
    },
    {
     "name": "stdout",
     "output_type": "stream",
     "text": [
      "Epoch 6, Loss: 6.211066443920135\n",
      "[SYST] Epoch 6\n"
     ]
    },
    {
     "name": "stderr",
     "output_type": "stream",
     "text": [
      "100%|████████████████████████████████████████████████████████| 200/200 [00:20<00:00,  9.99it/s]\n"
     ]
    },
    {
     "name": "stdout",
     "output_type": "stream",
     "text": [
      "Epoch 7, Loss: 6.21099104642868\n",
      "[SYST] Epoch 7\n"
     ]
    },
    {
     "name": "stderr",
     "output_type": "stream",
     "text": [
      "100%|████████████████████████████████████████████████████████| 200/200 [00:19<00:00, 10.07it/s]\n"
     ]
    },
    {
     "name": "stdout",
     "output_type": "stream",
     "text": [
      "Epoch 8, Loss: 6.2106733226776125\n",
      "[SYST] Epoch 8\n"
     ]
    },
    {
     "name": "stderr",
     "output_type": "stream",
     "text": [
      "100%|████████████████████████████████████████████████████████| 200/200 [00:19<00:00, 10.03it/s]\n"
     ]
    },
    {
     "name": "stdout",
     "output_type": "stream",
     "text": [
      "Epoch 9, Loss: 6.210589106082916\n",
      "[SYST] Epoch 9\n"
     ]
    },
    {
     "name": "stderr",
     "output_type": "stream",
     "text": [
      "100%|████████████████████████████████████████████████████████| 200/200 [00:19<00:00, 10.00it/s]\n"
     ]
    },
    {
     "name": "stdout",
     "output_type": "stream",
     "text": [
      "Epoch 10, Loss: 6.210347034931183\n",
      "[SYST] Epoch 0\n"
     ]
    },
    {
     "name": "stderr",
     "output_type": "stream",
     "text": [
      "100%|████████████████████████████████████████████████████████████| 2/2 [00:00<00:00, 13.39it/s]\n"
     ]
    },
    {
     "name": "stdout",
     "output_type": "stream",
     "text": [
      "Test Accuracy: 50.81%\n",
      "[{'accuracy': 0.9983, 'Layer1': {'[[0, 1, 2, 3, 4, 5, 6, 7]]': 0.5013, '[[0, 1]]': 0.5039, '[[0]]': 0.5082}, 'Layer2': {'[[0, 1, 2, 3, 4, 5, 6, 7]]': 0.5037, '[[0, 1]]': 0.5032, '[[0]]': 0.5075}, 'Layer3': {'[[0, 1, 2, 3, 4, 5, 6, 7]]': 0.4925, '[[0, 1]]': 0.5037, '[[0]]': 0.5081}}]\n"
     ]
    },
    {
     "name": "stderr",
     "output_type": "stream",
     "text": [
      "100%|████████████████████████████████████████████| 1048576/1048576 [00:10<00:00, 100444.51it/s]\n",
      "100%|█████████████████████████████████████████████████████| 1024/1024 [00:07<00:00, 131.73it/s]\n"
     ]
    },
    {
     "name": "stdout",
     "output_type": "stream",
     "text": [
      "Epoch 1, Loss: 0.44120322678645607\n"
     ]
    },
    {
     "name": "stderr",
     "output_type": "stream",
     "text": [
      "100%|█████████████████████████████████████████████████████| 1024/1024 [00:08<00:00, 118.45it/s]\n"
     ]
    },
    {
     "name": "stdout",
     "output_type": "stream",
     "text": [
      "Epoch 2, Loss: 0.045150645065405115\n"
     ]
    },
    {
     "name": "stderr",
     "output_type": "stream",
     "text": [
      "100%|█████████████████████████████████████████████████████| 1024/1024 [00:09<00:00, 113.48it/s]\n"
     ]
    },
    {
     "name": "stdout",
     "output_type": "stream",
     "text": [
      "Epoch 3, Loss: 0.007971242731173334\n"
     ]
    },
    {
     "name": "stderr",
     "output_type": "stream",
     "text": [
      "100%|█████████████████████████████████████████████████| 10000/10000 [00:00<00:00, 99291.80it/s]\n",
      "100%|█████████████████████████████████████████████████████████| 10/10 [00:00<00:00, 161.46it/s]\n"
     ]
    },
    {
     "name": "stdout",
     "output_type": "stream",
     "text": [
      "Test Accuracy: 0.9983\n",
      "Layer1 : [[0, 1, 2, 3, 4, 5, 6, 7]]\n"
     ]
    },
    {
     "name": "stderr",
     "output_type": "stream",
     "text": [
      "100%|█████████████████████████████████████████████| 1280000/1280000 [01:23<00:00, 15339.82it/s]\n",
      "100%|█████████████████████████████████████████████████| 10000/10000 [00:00<00:00, 16560.04it/s]\n"
     ]
    },
    {
     "name": "stdout",
     "output_type": "stream",
     "text": [
      "[SYST] Prepare Data\n"
     ]
    },
    {
     "name": "stderr",
     "output_type": "stream",
     "text": [
      "100%|████████████████████████████████████████████| 1280000/1280000 [00:08<00:00, 145497.32it/s]\n"
     ]
    },
    {
     "name": "stdout",
     "output_type": "stream",
     "text": [
      "[SYST] Prepare Data\n"
     ]
    },
    {
     "name": "stderr",
     "output_type": "stream",
     "text": [
      "100%|████████████████████████████████████████████████| 10000/10000 [00:00<00:00, 146919.06it/s]"
     ]
    },
    {
     "name": "stdout",
     "output_type": "stream",
     "text": [
      "[SYST] Epoch 0\n"
     ]
    },
    {
     "name": "stderr",
     "output_type": "stream",
     "text": [
      "\n",
      "100%|████████████████████████████████████████████████████████| 200/200 [00:19<00:00, 10.07it/s]\n"
     ]
    },
    {
     "name": "stdout",
     "output_type": "stream",
     "text": [
      "Epoch 1, Loss: 4.413501694202423\n",
      "[SYST] Epoch 1\n"
     ]
    },
    {
     "name": "stderr",
     "output_type": "stream",
     "text": [
      "100%|████████████████████████████████████████████████████████| 200/200 [00:20<00:00,  9.87it/s]\n"
     ]
    },
    {
     "name": "stdout",
     "output_type": "stream",
     "text": [
      "Epoch 2, Loss: 3.749865720272064\n",
      "[SYST] Epoch 2\n"
     ]
    },
    {
     "name": "stderr",
     "output_type": "stream",
     "text": [
      "100%|████████████████████████████████████████████████████████| 200/200 [00:20<00:00,  9.90it/s]\n"
     ]
    },
    {
     "name": "stdout",
     "output_type": "stream",
     "text": [
      "Epoch 3, Loss: 3.590966945886612\n",
      "[SYST] Epoch 3\n"
     ]
    },
    {
     "name": "stderr",
     "output_type": "stream",
     "text": [
      "100%|████████████████████████████████████████████████████████| 200/200 [00:20<00:00,  9.98it/s]\n"
     ]
    },
    {
     "name": "stdout",
     "output_type": "stream",
     "text": [
      "Epoch 4, Loss: 3.518788310289383\n",
      "[SYST] Epoch 4\n"
     ]
    },
    {
     "name": "stderr",
     "output_type": "stream",
     "text": [
      "100%|████████████████████████████████████████████████████████| 200/200 [00:20<00:00,  9.99it/s]\n"
     ]
    },
    {
     "name": "stdout",
     "output_type": "stream",
     "text": [
      "Epoch 5, Loss: 3.486696605682373\n",
      "[SYST] Epoch 5\n"
     ]
    },
    {
     "name": "stderr",
     "output_type": "stream",
     "text": [
      "100%|████████████████████████████████████████████████████████| 200/200 [00:20<00:00,  9.90it/s]\n"
     ]
    },
    {
     "name": "stdout",
     "output_type": "stream",
     "text": [
      "Epoch 6, Loss: 3.4618290102481843\n",
      "[SYST] Epoch 6\n"
     ]
    },
    {
     "name": "stderr",
     "output_type": "stream",
     "text": [
      "100%|████████████████████████████████████████████████████████| 200/200 [00:20<00:00,  9.84it/s]\n"
     ]
    },
    {
     "name": "stdout",
     "output_type": "stream",
     "text": [
      "Epoch 7, Loss: 3.4382630133628846\n",
      "[SYST] Epoch 7\n"
     ]
    },
    {
     "name": "stderr",
     "output_type": "stream",
     "text": [
      "100%|████████████████████████████████████████████████████████| 200/200 [00:20<00:00,  9.92it/s]\n"
     ]
    },
    {
     "name": "stdout",
     "output_type": "stream",
     "text": [
      "Epoch 8, Loss: 3.418784210681915\n",
      "[SYST] Epoch 8\n"
     ]
    },
    {
     "name": "stderr",
     "output_type": "stream",
     "text": [
      "100%|████████████████████████████████████████████████████████| 200/200 [00:20<00:00,  9.85it/s]\n"
     ]
    },
    {
     "name": "stdout",
     "output_type": "stream",
     "text": [
      "Epoch 9, Loss: 3.4018015098571777\n",
      "[SYST] Epoch 9\n"
     ]
    },
    {
     "name": "stderr",
     "output_type": "stream",
     "text": [
      "100%|████████████████████████████████████████████████████████| 200/200 [00:20<00:00,  9.83it/s]\n"
     ]
    },
    {
     "name": "stdout",
     "output_type": "stream",
     "text": [
      "Epoch 10, Loss: 3.3886952710151674\n",
      "[SYST] Epoch 0\n"
     ]
    },
    {
     "name": "stderr",
     "output_type": "stream",
     "text": [
      "100%|████████████████████████████████████████████████████████████| 2/2 [00:00<00:00, 13.22it/s]\n"
     ]
    },
    {
     "name": "stdout",
     "output_type": "stream",
     "text": [
      "Test Accuracy: 50.12%\n",
      "[{'accuracy': 0.9983, 'Layer1': {'[[0, 1, 2, 3, 4, 5, 6, 7]]': 0.5013, '[[0, 1]]': 0.5039, '[[0]]': 0.5082}, 'Layer2': {'[[0, 1, 2, 3, 4, 5, 6, 7]]': 0.5037, '[[0, 1]]': 0.5032, '[[0]]': 0.5075}, 'Layer3': {'[[0, 1, 2, 3, 4, 5, 6, 7]]': 0.4925, '[[0, 1]]': 0.5037, '[[0]]': 0.5081}}, {'accuracy': 0.9983, 'Layer1': {'[[0, 1, 2, 3, 4, 5, 6, 7]]': 0.5012}}]\n",
      "Layer1 : [[0, 1]]\n"
     ]
    },
    {
     "name": "stderr",
     "output_type": "stream",
     "text": [
      "100%|█████████████████████████████████████████████| 1280000/1280000 [01:22<00:00, 15434.24it/s]\n",
      "100%|█████████████████████████████████████████████████| 10000/10000 [00:00<00:00, 16756.83it/s]\n"
     ]
    },
    {
     "name": "stdout",
     "output_type": "stream",
     "text": [
      "[SYST] Prepare Data\n"
     ]
    },
    {
     "name": "stderr",
     "output_type": "stream",
     "text": [
      "100%|████████████████████████████████████████████| 1280000/1280000 [00:08<00:00, 158386.68it/s]\n"
     ]
    },
    {
     "name": "stdout",
     "output_type": "stream",
     "text": [
      "[SYST] Prepare Data\n"
     ]
    },
    {
     "name": "stderr",
     "output_type": "stream",
     "text": [
      "100%|████████████████████████████████████████████████| 10000/10000 [00:00<00:00, 160487.32it/s]"
     ]
    },
    {
     "name": "stdout",
     "output_type": "stream",
     "text": [
      "[SYST] Epoch 0\n"
     ]
    },
    {
     "name": "stderr",
     "output_type": "stream",
     "text": [
      "\n",
      "100%|████████████████████████████████████████████████████████| 200/200 [00:19<00:00, 10.10it/s]\n"
     ]
    },
    {
     "name": "stdout",
     "output_type": "stream",
     "text": [
      "Epoch 1, Loss: 4.7156080675125125\n",
      "[SYST] Epoch 1\n"
     ]
    },
    {
     "name": "stderr",
     "output_type": "stream",
     "text": [
      "100%|████████████████████████████████████████████████████████| 200/200 [00:19<00:00, 10.04it/s]\n"
     ]
    },
    {
     "name": "stdout",
     "output_type": "stream",
     "text": [
      "Epoch 2, Loss: 3.9538852155208586\n",
      "[SYST] Epoch 2\n"
     ]
    },
    {
     "name": "stderr",
     "output_type": "stream",
     "text": [
      "100%|████████████████████████████████████████████████████████| 200/200 [00:20<00:00,  9.98it/s]\n"
     ]
    },
    {
     "name": "stdout",
     "output_type": "stream",
     "text": [
      "Epoch 3, Loss: 3.796816120147705\n",
      "[SYST] Epoch 3\n"
     ]
    },
    {
     "name": "stderr",
     "output_type": "stream",
     "text": [
      "100%|████████████████████████████████████████████████████████| 200/200 [00:20<00:00, 10.00it/s]\n"
     ]
    },
    {
     "name": "stdout",
     "output_type": "stream",
     "text": [
      "Epoch 4, Loss: 3.7172361278533934\n",
      "[SYST] Epoch 4\n"
     ]
    },
    {
     "name": "stderr",
     "output_type": "stream",
     "text": [
      "100%|████████████████████████████████████████████████████████| 200/200 [00:19<00:00, 10.02it/s]\n"
     ]
    },
    {
     "name": "stdout",
     "output_type": "stream",
     "text": [
      "Epoch 5, Loss: 3.6593791949748993\n",
      "[SYST] Epoch 5\n"
     ]
    },
    {
     "name": "stderr",
     "output_type": "stream",
     "text": [
      "100%|████████████████████████████████████████████████████████| 200/200 [00:20<00:00,  9.92it/s]\n"
     ]
    },
    {
     "name": "stdout",
     "output_type": "stream",
     "text": [
      "Epoch 6, Loss: 3.6242407786846162\n",
      "[SYST] Epoch 6\n"
     ]
    },
    {
     "name": "stderr",
     "output_type": "stream",
     "text": [
      "100%|████████████████████████████████████████████████████████| 200/200 [00:20<00:00,  9.93it/s]\n"
     ]
    },
    {
     "name": "stdout",
     "output_type": "stream",
     "text": [
      "Epoch 7, Loss: 3.6019143307209016\n",
      "[SYST] Epoch 7\n"
     ]
    },
    {
     "name": "stderr",
     "output_type": "stream",
     "text": [
      "100%|████████████████████████████████████████████████████████| 200/200 [00:20<00:00,  9.93it/s]\n"
     ]
    },
    {
     "name": "stdout",
     "output_type": "stream",
     "text": [
      "Epoch 8, Loss: 3.588476201295853\n",
      "[SYST] Epoch 8\n"
     ]
    },
    {
     "name": "stderr",
     "output_type": "stream",
     "text": [
      "100%|████████████████████████████████████████████████████████| 200/200 [00:20<00:00,  9.93it/s]\n"
     ]
    },
    {
     "name": "stdout",
     "output_type": "stream",
     "text": [
      "Epoch 9, Loss: 3.5810606300830843\n",
      "[SYST] Epoch 9\n"
     ]
    },
    {
     "name": "stderr",
     "output_type": "stream",
     "text": [
      "100%|████████████████████████████████████████████████████████| 200/200 [00:20<00:00,  9.94it/s]\n"
     ]
    },
    {
     "name": "stdout",
     "output_type": "stream",
     "text": [
      "Epoch 10, Loss: 3.5770353364944456\n",
      "[SYST] Epoch 0\n"
     ]
    },
    {
     "name": "stderr",
     "output_type": "stream",
     "text": [
      "100%|████████████████████████████████████████████████████████████| 2/2 [00:00<00:00, 13.31it/s]\n"
     ]
    },
    {
     "name": "stdout",
     "output_type": "stream",
     "text": [
      "Test Accuracy: 50.59%\n",
      "[{'accuracy': 0.9983, 'Layer1': {'[[0, 1, 2, 3, 4, 5, 6, 7]]': 0.5013, '[[0, 1]]': 0.5039, '[[0]]': 0.5082}, 'Layer2': {'[[0, 1, 2, 3, 4, 5, 6, 7]]': 0.5037, '[[0, 1]]': 0.5032, '[[0]]': 0.5075}, 'Layer3': {'[[0, 1, 2, 3, 4, 5, 6, 7]]': 0.4925, '[[0, 1]]': 0.5037, '[[0]]': 0.5081}}, {'accuracy': 0.9983, 'Layer1': {'[[0, 1, 2, 3, 4, 5, 6, 7]]': 0.5012, '[[0, 1]]': 0.5059}}]\n",
      "Layer1 : [[0]]\n"
     ]
    },
    {
     "name": "stderr",
     "output_type": "stream",
     "text": [
      "100%|█████████████████████████████████████████████| 1280000/1280000 [01:23<00:00, 15365.37it/s]\n",
      "100%|█████████████████████████████████████████████████| 10000/10000 [00:00<00:00, 16463.60it/s]\n"
     ]
    },
    {
     "name": "stdout",
     "output_type": "stream",
     "text": [
      "[SYST] Prepare Data\n"
     ]
    },
    {
     "name": "stderr",
     "output_type": "stream",
     "text": [
      "100%|████████████████████████████████████████████| 1280000/1280000 [00:07<00:00, 162518.60it/s]\n"
     ]
    },
    {
     "name": "stdout",
     "output_type": "stream",
     "text": [
      "[SYST] Prepare Data\n"
     ]
    },
    {
     "name": "stderr",
     "output_type": "stream",
     "text": [
      "100%|████████████████████████████████████████████████| 10000/10000 [00:00<00:00, 163700.60it/s]"
     ]
    },
    {
     "name": "stdout",
     "output_type": "stream",
     "text": [
      "[SYST] Epoch 0\n"
     ]
    },
    {
     "name": "stderr",
     "output_type": "stream",
     "text": [
      "\n",
      "100%|████████████████████████████████████████████████████████| 200/200 [00:19<00:00, 10.06it/s]\n"
     ]
    },
    {
     "name": "stdout",
     "output_type": "stream",
     "text": [
      "Epoch 1, Loss: 4.554225413799286\n",
      "[SYST] Epoch 1\n"
     ]
    },
    {
     "name": "stderr",
     "output_type": "stream",
     "text": [
      "100%|████████████████████████████████████████████████████████| 200/200 [00:20<00:00,  9.94it/s]\n"
     ]
    },
    {
     "name": "stdout",
     "output_type": "stream",
     "text": [
      "Epoch 2, Loss: 4.1018637645244596\n",
      "[SYST] Epoch 2\n"
     ]
    },
    {
     "name": "stderr",
     "output_type": "stream",
     "text": [
      "100%|████████████████████████████████████████████████████████| 200/200 [00:20<00:00,  9.91it/s]\n"
     ]
    },
    {
     "name": "stdout",
     "output_type": "stream",
     "text": [
      "Epoch 3, Loss: 3.9511950504779816\n",
      "[SYST] Epoch 3\n"
     ]
    },
    {
     "name": "stderr",
     "output_type": "stream",
     "text": [
      "100%|████████████████████████████████████████████████████████| 200/200 [00:20<00:00,  9.93it/s]\n"
     ]
    },
    {
     "name": "stdout",
     "output_type": "stream",
     "text": [
      "Epoch 4, Loss: 3.8378448712825777\n",
      "[SYST] Epoch 4\n"
     ]
    },
    {
     "name": "stderr",
     "output_type": "stream",
     "text": [
      "100%|████████████████████████████████████████████████████████| 200/200 [00:20<00:00,  9.92it/s]\n"
     ]
    },
    {
     "name": "stdout",
     "output_type": "stream",
     "text": [
      "Epoch 5, Loss: 3.797052935361862\n",
      "[SYST] Epoch 5\n"
     ]
    },
    {
     "name": "stderr",
     "output_type": "stream",
     "text": [
      "100%|████████████████████████████████████████████████████████| 200/200 [00:20<00:00,  9.92it/s]\n"
     ]
    },
    {
     "name": "stdout",
     "output_type": "stream",
     "text": [
      "Epoch 6, Loss: 3.7905222189426424\n",
      "[SYST] Epoch 6\n"
     ]
    },
    {
     "name": "stderr",
     "output_type": "stream",
     "text": [
      "100%|████████████████████████████████████████████████████████| 200/200 [00:20<00:00,  9.91it/s]\n"
     ]
    },
    {
     "name": "stdout",
     "output_type": "stream",
     "text": [
      "Epoch 7, Loss: 3.788216290473938\n",
      "[SYST] Epoch 7\n"
     ]
    },
    {
     "name": "stderr",
     "output_type": "stream",
     "text": [
      "100%|████████████████████████████████████████████████████████| 200/200 [00:20<00:00,  9.88it/s]\n"
     ]
    },
    {
     "name": "stdout",
     "output_type": "stream",
     "text": [
      "Epoch 8, Loss: 3.7874967205524444\n",
      "[SYST] Epoch 8\n"
     ]
    },
    {
     "name": "stderr",
     "output_type": "stream",
     "text": [
      "100%|████████████████████████████████████████████████████████| 200/200 [00:20<00:00,  9.91it/s]\n"
     ]
    },
    {
     "name": "stdout",
     "output_type": "stream",
     "text": [
      "Epoch 9, Loss: 3.787381955385208\n",
      "[SYST] Epoch 9\n"
     ]
    },
    {
     "name": "stderr",
     "output_type": "stream",
     "text": [
      "100%|████████████████████████████████████████████████████████| 200/200 [00:20<00:00,  9.91it/s]\n"
     ]
    },
    {
     "name": "stdout",
     "output_type": "stream",
     "text": [
      "Epoch 10, Loss: 3.7872900426387788\n",
      "[SYST] Epoch 0\n"
     ]
    },
    {
     "name": "stderr",
     "output_type": "stream",
     "text": [
      "100%|████████████████████████████████████████████████████████████| 2/2 [00:00<00:00, 13.22it/s]\n"
     ]
    },
    {
     "name": "stdout",
     "output_type": "stream",
     "text": [
      "Test Accuracy: 49.56%\n",
      "[{'accuracy': 0.9983, 'Layer1': {'[[0, 1, 2, 3, 4, 5, 6, 7]]': 0.5013, '[[0, 1]]': 0.5039, '[[0]]': 0.5082}, 'Layer2': {'[[0, 1, 2, 3, 4, 5, 6, 7]]': 0.5037, '[[0, 1]]': 0.5032, '[[0]]': 0.5075}, 'Layer3': {'[[0, 1, 2, 3, 4, 5, 6, 7]]': 0.4925, '[[0, 1]]': 0.5037, '[[0]]': 0.5081}}, {'accuracy': 0.9983, 'Layer1': {'[[0, 1, 2, 3, 4, 5, 6, 7]]': 0.5012, '[[0, 1]]': 0.5059, '[[0]]': 0.4956}}]\n",
      "Layer2 : [[0, 1, 2, 3, 4, 5, 6, 7]]\n"
     ]
    },
    {
     "name": "stderr",
     "output_type": "stream",
     "text": [
      "100%|█████████████████████████████████████████████| 1280000/1280000 [01:21<00:00, 15779.45it/s]\n",
      "100%|█████████████████████████████████████████████████| 10000/10000 [00:00<00:00, 16805.97it/s]\n"
     ]
    },
    {
     "name": "stdout",
     "output_type": "stream",
     "text": [
      "[SYST] Prepare Data\n"
     ]
    },
    {
     "name": "stderr",
     "output_type": "stream",
     "text": [
      "100%|████████████████████████████████████████████| 1280000/1280000 [00:08<00:00, 145035.08it/s]\n"
     ]
    },
    {
     "name": "stdout",
     "output_type": "stream",
     "text": [
      "[SYST] Prepare Data\n"
     ]
    },
    {
     "name": "stderr",
     "output_type": "stream",
     "text": [
      "100%|████████████████████████████████████████████████| 10000/10000 [00:00<00:00, 144105.93it/s]"
     ]
    },
    {
     "name": "stdout",
     "output_type": "stream",
     "text": [
      "[SYST] Epoch 0\n"
     ]
    },
    {
     "name": "stderr",
     "output_type": "stream",
     "text": [
      "\n",
      "100%|████████████████████████████████████████████████████████| 200/200 [00:19<00:00, 10.09it/s]\n"
     ]
    },
    {
     "name": "stdout",
     "output_type": "stream",
     "text": [
      "Epoch 1, Loss: 3.5545743787288666\n",
      "[SYST] Epoch 1\n"
     ]
    },
    {
     "name": "stderr",
     "output_type": "stream",
     "text": [
      "100%|████████████████████████████████████████████████████████| 200/200 [00:19<00:00, 10.11it/s]\n"
     ]
    },
    {
     "name": "stdout",
     "output_type": "stream",
     "text": [
      "Epoch 2, Loss: 3.4468763267993925\n",
      "[SYST] Epoch 2\n"
     ]
    },
    {
     "name": "stderr",
     "output_type": "stream",
     "text": [
      "100%|████████████████████████████████████████████████████████| 200/200 [00:19<00:00, 10.09it/s]\n"
     ]
    },
    {
     "name": "stdout",
     "output_type": "stream",
     "text": [
      "Epoch 3, Loss: 3.429309287071228\n",
      "[SYST] Epoch 3\n"
     ]
    },
    {
     "name": "stderr",
     "output_type": "stream",
     "text": [
      "100%|████████████████████████████████████████████████████████| 200/200 [00:20<00:00,  9.94it/s]\n"
     ]
    },
    {
     "name": "stdout",
     "output_type": "stream",
     "text": [
      "Epoch 4, Loss: 3.4185992681980135\n",
      "[SYST] Epoch 4\n"
     ]
    },
    {
     "name": "stderr",
     "output_type": "stream",
     "text": [
      "100%|████████████████████████████████████████████████████████| 200/200 [00:20<00:00,  9.96it/s]\n"
     ]
    },
    {
     "name": "stdout",
     "output_type": "stream",
     "text": [
      "Epoch 5, Loss: 3.4120244657993317\n",
      "[SYST] Epoch 5\n"
     ]
    },
    {
     "name": "stderr",
     "output_type": "stream",
     "text": [
      "100%|████████████████████████████████████████████████████████| 200/200 [00:20<00:00,  9.92it/s]\n"
     ]
    },
    {
     "name": "stdout",
     "output_type": "stream",
     "text": [
      "Epoch 6, Loss: 3.407811630964279\n",
      "[SYST] Epoch 6\n"
     ]
    },
    {
     "name": "stderr",
     "output_type": "stream",
     "text": [
      "100%|████████████████████████████████████████████████████████| 200/200 [00:20<00:00,  9.87it/s]\n"
     ]
    },
    {
     "name": "stdout",
     "output_type": "stream",
     "text": [
      "Epoch 7, Loss: 3.4048908305168153\n",
      "[SYST] Epoch 7\n"
     ]
    },
    {
     "name": "stderr",
     "output_type": "stream",
     "text": [
      "100%|████████████████████████████████████████████████████████| 200/200 [00:20<00:00,  9.87it/s]\n"
     ]
    },
    {
     "name": "stdout",
     "output_type": "stream",
     "text": [
      "Epoch 8, Loss: 3.40227481007576\n",
      "[SYST] Epoch 8\n"
     ]
    },
    {
     "name": "stderr",
     "output_type": "stream",
     "text": [
      "100%|████████████████████████████████████████████████████████| 200/200 [00:20<00:00,  9.93it/s]\n"
     ]
    },
    {
     "name": "stdout",
     "output_type": "stream",
     "text": [
      "Epoch 9, Loss: 3.40007045507431\n",
      "[SYST] Epoch 9\n"
     ]
    },
    {
     "name": "stderr",
     "output_type": "stream",
     "text": [
      "100%|████████████████████████████████████████████████████████| 200/200 [00:20<00:00,  9.88it/s]\n"
     ]
    },
    {
     "name": "stdout",
     "output_type": "stream",
     "text": [
      "Epoch 10, Loss: 3.398097529411316\n",
      "[SYST] Epoch 0\n"
     ]
    },
    {
     "name": "stderr",
     "output_type": "stream",
     "text": [
      "100%|████████████████████████████████████████████████████████████| 2/2 [00:00<00:00, 13.28it/s]\n"
     ]
    },
    {
     "name": "stdout",
     "output_type": "stream",
     "text": [
      "Test Accuracy: 50.27%\n",
      "[{'accuracy': 0.9983, 'Layer1': {'[[0, 1, 2, 3, 4, 5, 6, 7]]': 0.5013, '[[0, 1]]': 0.5039, '[[0]]': 0.5082}, 'Layer2': {'[[0, 1, 2, 3, 4, 5, 6, 7]]': 0.5037, '[[0, 1]]': 0.5032, '[[0]]': 0.5075}, 'Layer3': {'[[0, 1, 2, 3, 4, 5, 6, 7]]': 0.4925, '[[0, 1]]': 0.5037, '[[0]]': 0.5081}}, {'accuracy': 0.9983, 'Layer1': {'[[0, 1, 2, 3, 4, 5, 6, 7]]': 0.5012, '[[0, 1]]': 0.5059, '[[0]]': 0.4956}, 'Layer2': {'[[0, 1, 2, 3, 4, 5, 6, 7]]': 0.5027}}]\n",
      "Layer2 : [[0, 1]]\n"
     ]
    },
    {
     "name": "stderr",
     "output_type": "stream",
     "text": [
      "100%|█████████████████████████████████████████████| 1280000/1280000 [01:23<00:00, 15268.74it/s]\n",
      "100%|█████████████████████████████████████████████████| 10000/10000 [00:00<00:00, 16673.56it/s]\n"
     ]
    },
    {
     "name": "stdout",
     "output_type": "stream",
     "text": [
      "[SYST] Prepare Data\n"
     ]
    },
    {
     "name": "stderr",
     "output_type": "stream",
     "text": [
      "100%|████████████████████████████████████████████| 1280000/1280000 [00:08<00:00, 159166.86it/s]\n"
     ]
    },
    {
     "name": "stdout",
     "output_type": "stream",
     "text": [
      "[SYST] Prepare Data\n"
     ]
    },
    {
     "name": "stderr",
     "output_type": "stream",
     "text": [
      "100%|████████████████████████████████████████████████| 10000/10000 [00:00<00:00, 154170.61it/s]"
     ]
    },
    {
     "name": "stdout",
     "output_type": "stream",
     "text": [
      "[SYST] Epoch 0\n"
     ]
    },
    {
     "name": "stderr",
     "output_type": "stream",
     "text": [
      "\n",
      "100%|████████████████████████████████████████████████████████| 200/200 [00:19<00:00, 10.18it/s]\n"
     ]
    },
    {
     "name": "stdout",
     "output_type": "stream",
     "text": [
      "Epoch 1, Loss: 3.9825620901584626\n",
      "[SYST] Epoch 1\n"
     ]
    },
    {
     "name": "stderr",
     "output_type": "stream",
     "text": [
      "100%|████████████████████████████████████████████████████████| 200/200 [00:19<00:00, 10.05it/s]\n"
     ]
    },
    {
     "name": "stdout",
     "output_type": "stream",
     "text": [
      "Epoch 2, Loss: 3.753136703968048\n",
      "[SYST] Epoch 2\n"
     ]
    },
    {
     "name": "stderr",
     "output_type": "stream",
     "text": [
      "100%|████████████████████████████████████████████████████████| 200/200 [00:20<00:00,  9.99it/s]\n"
     ]
    },
    {
     "name": "stdout",
     "output_type": "stream",
     "text": [
      "Epoch 3, Loss: 3.6169670569896697\n",
      "[SYST] Epoch 3\n"
     ]
    },
    {
     "name": "stderr",
     "output_type": "stream",
     "text": [
      "100%|████████████████████████████████████████████████████████| 200/200 [00:20<00:00, 10.00it/s]\n"
     ]
    },
    {
     "name": "stdout",
     "output_type": "stream",
     "text": [
      "Epoch 4, Loss: 3.4906271755695344\n",
      "[SYST] Epoch 4\n"
     ]
    },
    {
     "name": "stderr",
     "output_type": "stream",
     "text": [
      "100%|████████████████████████████████████████████████████████| 200/200 [00:19<00:00, 10.01it/s]\n"
     ]
    },
    {
     "name": "stdout",
     "output_type": "stream",
     "text": [
      "Epoch 5, Loss: 3.4275918436050414\n",
      "[SYST] Epoch 5\n"
     ]
    },
    {
     "name": "stderr",
     "output_type": "stream",
     "text": [
      "100%|████████████████████████████████████████████████████████| 200/200 [00:20<00:00, 10.00it/s]\n"
     ]
    },
    {
     "name": "stdout",
     "output_type": "stream",
     "text": [
      "Epoch 6, Loss: 3.4086683940887452\n",
      "[SYST] Epoch 6\n"
     ]
    },
    {
     "name": "stderr",
     "output_type": "stream",
     "text": [
      "100%|████████████████████████████████████████████████████████| 200/200 [00:19<00:00, 10.00it/s]\n"
     ]
    },
    {
     "name": "stdout",
     "output_type": "stream",
     "text": [
      "Epoch 7, Loss: 3.4020205760002136\n",
      "[SYST] Epoch 7\n"
     ]
    },
    {
     "name": "stderr",
     "output_type": "stream",
     "text": [
      "100%|████████████████████████████████████████████████████████| 200/200 [00:19<00:00, 10.04it/s]\n"
     ]
    },
    {
     "name": "stdout",
     "output_type": "stream",
     "text": [
      "Epoch 8, Loss: 3.3996088171005248\n",
      "[SYST] Epoch 8\n"
     ]
    },
    {
     "name": "stderr",
     "output_type": "stream",
     "text": [
      "100%|████████████████████████████████████████████████████████| 200/200 [00:20<00:00,  9.99it/s]\n"
     ]
    },
    {
     "name": "stdout",
     "output_type": "stream",
     "text": [
      "Epoch 9, Loss: 3.3986618971824645\n",
      "[SYST] Epoch 9\n"
     ]
    },
    {
     "name": "stderr",
     "output_type": "stream",
     "text": [
      "100%|████████████████████████████████████████████████████████| 200/200 [00:19<00:00, 10.02it/s]\n"
     ]
    },
    {
     "name": "stdout",
     "output_type": "stream",
     "text": [
      "Epoch 10, Loss: 3.3983953368663786\n",
      "[SYST] Epoch 0\n"
     ]
    },
    {
     "name": "stderr",
     "output_type": "stream",
     "text": [
      "100%|████████████████████████████████████████████████████████████| 2/2 [00:00<00:00, 13.41it/s]\n"
     ]
    },
    {
     "name": "stdout",
     "output_type": "stream",
     "text": [
      "Test Accuracy: 49.57%\n",
      "[{'accuracy': 0.9983, 'Layer1': {'[[0, 1, 2, 3, 4, 5, 6, 7]]': 0.5013, '[[0, 1]]': 0.5039, '[[0]]': 0.5082}, 'Layer2': {'[[0, 1, 2, 3, 4, 5, 6, 7]]': 0.5037, '[[0, 1]]': 0.5032, '[[0]]': 0.5075}, 'Layer3': {'[[0, 1, 2, 3, 4, 5, 6, 7]]': 0.4925, '[[0, 1]]': 0.5037, '[[0]]': 0.5081}}, {'accuracy': 0.9983, 'Layer1': {'[[0, 1, 2, 3, 4, 5, 6, 7]]': 0.5012, '[[0, 1]]': 0.5059, '[[0]]': 0.4956}, 'Layer2': {'[[0, 1, 2, 3, 4, 5, 6, 7]]': 0.5027, '[[0, 1]]': 0.4957}}]\n",
      "Layer2 : [[0]]\n"
     ]
    },
    {
     "name": "stderr",
     "output_type": "stream",
     "text": [
      "100%|█████████████████████████████████████████████| 1280000/1280000 [01:21<00:00, 15794.20it/s]\n",
      "100%|█████████████████████████████████████████████████| 10000/10000 [00:00<00:00, 16916.07it/s]\n"
     ]
    },
    {
     "name": "stdout",
     "output_type": "stream",
     "text": [
      "[SYST] Prepare Data\n"
     ]
    },
    {
     "name": "stderr",
     "output_type": "stream",
     "text": [
      "100%|████████████████████████████████████████████| 1280000/1280000 [00:07<00:00, 163730.27it/s]\n"
     ]
    },
    {
     "name": "stdout",
     "output_type": "stream",
     "text": [
      "[SYST] Prepare Data\n"
     ]
    },
    {
     "name": "stderr",
     "output_type": "stream",
     "text": [
      "100%|████████████████████████████████████████████████| 10000/10000 [00:00<00:00, 163673.77it/s]"
     ]
    },
    {
     "name": "stdout",
     "output_type": "stream",
     "text": [
      "[SYST] Epoch 0\n"
     ]
    },
    {
     "name": "stderr",
     "output_type": "stream",
     "text": [
      "\n",
      "100%|████████████████████████████████████████████████████████| 200/200 [00:19<00:00, 10.12it/s]\n"
     ]
    },
    {
     "name": "stdout",
     "output_type": "stream",
     "text": [
      "Epoch 1, Loss: 4.250967849493026\n",
      "[SYST] Epoch 1\n"
     ]
    },
    {
     "name": "stderr",
     "output_type": "stream",
     "text": [
      "100%|████████████████████████████████████████████████████████| 200/200 [00:19<00:00, 10.02it/s]\n"
     ]
    },
    {
     "name": "stdout",
     "output_type": "stream",
     "text": [
      "Epoch 2, Loss: 3.7799533236026766\n",
      "[SYST] Epoch 2\n"
     ]
    },
    {
     "name": "stderr",
     "output_type": "stream",
     "text": [
      "100%|████████████████████████████████████████████████████████| 200/200 [00:19<00:00, 10.02it/s]\n"
     ]
    },
    {
     "name": "stdout",
     "output_type": "stream",
     "text": [
      "Epoch 3, Loss: 3.706168763637543\n",
      "[SYST] Epoch 3\n"
     ]
    },
    {
     "name": "stderr",
     "output_type": "stream",
     "text": [
      "100%|████████████████████████████████████████████████████████| 200/200 [00:19<00:00, 10.04it/s]\n"
     ]
    },
    {
     "name": "stdout",
     "output_type": "stream",
     "text": [
      "Epoch 4, Loss: 3.664284039735794\n",
      "[SYST] Epoch 4\n"
     ]
    },
    {
     "name": "stderr",
     "output_type": "stream",
     "text": [
      "100%|████████████████████████████████████████████████████████| 200/200 [00:19<00:00, 10.06it/s]\n"
     ]
    },
    {
     "name": "stdout",
     "output_type": "stream",
     "text": [
      "Epoch 5, Loss: 3.641918627023697\n",
      "[SYST] Epoch 5\n"
     ]
    },
    {
     "name": "stderr",
     "output_type": "stream",
     "text": [
      "100%|████████████████████████████████████████████████████████| 200/200 [00:19<00:00, 10.04it/s]\n"
     ]
    },
    {
     "name": "stdout",
     "output_type": "stream",
     "text": [
      "Epoch 6, Loss: 3.630475069284439\n",
      "[SYST] Epoch 6\n"
     ]
    },
    {
     "name": "stderr",
     "output_type": "stream",
     "text": [
      "100%|████████████████████████████████████████████████████████| 200/200 [00:19<00:00, 10.06it/s]\n"
     ]
    },
    {
     "name": "stdout",
     "output_type": "stream",
     "text": [
      "Epoch 7, Loss: 3.624811661243439\n",
      "[SYST] Epoch 7\n"
     ]
    },
    {
     "name": "stderr",
     "output_type": "stream",
     "text": [
      "100%|████████████████████████████████████████████████████████| 200/200 [00:19<00:00, 10.08it/s]\n"
     ]
    },
    {
     "name": "stdout",
     "output_type": "stream",
     "text": [
      "Epoch 8, Loss: 3.6223083508014677\n",
      "[SYST] Epoch 8\n"
     ]
    },
    {
     "name": "stderr",
     "output_type": "stream",
     "text": [
      "100%|████████████████████████████████████████████████████████| 200/200 [00:19<00:00, 10.06it/s]\n"
     ]
    },
    {
     "name": "stdout",
     "output_type": "stream",
     "text": [
      "Epoch 9, Loss: 3.621180645227432\n",
      "[SYST] Epoch 9\n"
     ]
    },
    {
     "name": "stderr",
     "output_type": "stream",
     "text": [
      "100%|████████████████████████████████████████████████████████| 200/200 [00:19<00:00, 10.05it/s]\n"
     ]
    },
    {
     "name": "stdout",
     "output_type": "stream",
     "text": [
      "Epoch 10, Loss: 3.6202881610393525\n",
      "[SYST] Epoch 0\n"
     ]
    },
    {
     "name": "stderr",
     "output_type": "stream",
     "text": [
      "100%|████████████████████████████████████████████████████████████| 2/2 [00:00<00:00, 13.40it/s]\n"
     ]
    },
    {
     "name": "stdout",
     "output_type": "stream",
     "text": [
      "Test Accuracy: 49.30%\n",
      "[{'accuracy': 0.9983, 'Layer1': {'[[0, 1, 2, 3, 4, 5, 6, 7]]': 0.5013, '[[0, 1]]': 0.5039, '[[0]]': 0.5082}, 'Layer2': {'[[0, 1, 2, 3, 4, 5, 6, 7]]': 0.5037, '[[0, 1]]': 0.5032, '[[0]]': 0.5075}, 'Layer3': {'[[0, 1, 2, 3, 4, 5, 6, 7]]': 0.4925, '[[0, 1]]': 0.5037, '[[0]]': 0.5081}}, {'accuracy': 0.9983, 'Layer1': {'[[0, 1, 2, 3, 4, 5, 6, 7]]': 0.5012, '[[0, 1]]': 0.5059, '[[0]]': 0.4956}, 'Layer2': {'[[0, 1, 2, 3, 4, 5, 6, 7]]': 0.5027, '[[0, 1]]': 0.4957, '[[0]]': 0.493}}]\n",
      "Layer3 : [[0, 1, 2, 3, 4, 5, 6, 7]]\n"
     ]
    },
    {
     "name": "stderr",
     "output_type": "stream",
     "text": [
      "100%|█████████████████████████████████████████████| 1280000/1280000 [01:23<00:00, 15329.30it/s]\n",
      "100%|█████████████████████████████████████████████████| 10000/10000 [00:00<00:00, 16791.00it/s]\n"
     ]
    },
    {
     "name": "stdout",
     "output_type": "stream",
     "text": [
      "[SYST] Prepare Data\n"
     ]
    },
    {
     "name": "stderr",
     "output_type": "stream",
     "text": [
      "100%|████████████████████████████████████████████| 1280000/1280000 [00:08<00:00, 145893.72it/s]\n"
     ]
    },
    {
     "name": "stdout",
     "output_type": "stream",
     "text": [
      "[SYST] Prepare Data\n"
     ]
    },
    {
     "name": "stderr",
     "output_type": "stream",
     "text": [
      "100%|████████████████████████████████████████████████| 10000/10000 [00:00<00:00, 143881.01it/s]"
     ]
    },
    {
     "name": "stdout",
     "output_type": "stream",
     "text": [
      "[SYST] Epoch 0\n"
     ]
    },
    {
     "name": "stderr",
     "output_type": "stream",
     "text": [
      "\n",
      "100%|████████████████████████████████████████████████████████| 200/200 [00:19<00:00, 10.10it/s]\n"
     ]
    },
    {
     "name": "stdout",
     "output_type": "stream",
     "text": [
      "Epoch 1, Loss: 3.262437002658844\n",
      "[SYST] Epoch 1\n"
     ]
    },
    {
     "name": "stderr",
     "output_type": "stream",
     "text": [
      "100%|████████████████████████████████████████████████████████| 200/200 [00:19<00:00, 10.13it/s]\n"
     ]
    },
    {
     "name": "stdout",
     "output_type": "stream",
     "text": [
      "Epoch 2, Loss: 3.2555829215049745\n",
      "[SYST] Epoch 2\n"
     ]
    },
    {
     "name": "stderr",
     "output_type": "stream",
     "text": [
      "100%|████████████████████████████████████████████████████████| 200/200 [00:19<00:00, 10.14it/s]\n"
     ]
    },
    {
     "name": "stdout",
     "output_type": "stream",
     "text": [
      "Epoch 3, Loss: 3.254786641597748\n",
      "[SYST] Epoch 3\n"
     ]
    },
    {
     "name": "stderr",
     "output_type": "stream",
     "text": [
      "100%|████████████████████████████████████████████████████████| 200/200 [00:20<00:00,  9.93it/s]\n"
     ]
    },
    {
     "name": "stdout",
     "output_type": "stream",
     "text": [
      "Epoch 4, Loss: 3.2543687379360198\n",
      "[SYST] Epoch 4\n"
     ]
    },
    {
     "name": "stderr",
     "output_type": "stream",
     "text": [
      "100%|████████████████████████████████████████████████████████| 200/200 [00:20<00:00,  9.84it/s]\n"
     ]
    },
    {
     "name": "stdout",
     "output_type": "stream",
     "text": [
      "Epoch 5, Loss: 3.2543340063095094\n",
      "[SYST] Epoch 5\n"
     ]
    },
    {
     "name": "stderr",
     "output_type": "stream",
     "text": [
      "100%|████████████████████████████████████████████████████████| 200/200 [00:20<00:00,  9.91it/s]\n"
     ]
    },
    {
     "name": "stdout",
     "output_type": "stream",
     "text": [
      "Epoch 6, Loss: 3.254207397699356\n",
      "[SYST] Epoch 6\n"
     ]
    },
    {
     "name": "stderr",
     "output_type": "stream",
     "text": [
      "100%|████████████████████████████████████████████████████████| 200/200 [00:20<00:00,  9.89it/s]\n"
     ]
    },
    {
     "name": "stdout",
     "output_type": "stream",
     "text": [
      "Epoch 7, Loss: 3.2541469311714173\n",
      "[SYST] Epoch 7\n"
     ]
    },
    {
     "name": "stderr",
     "output_type": "stream",
     "text": [
      "100%|████████████████████████████████████████████████████████| 200/200 [00:20<00:00,  9.85it/s]\n"
     ]
    },
    {
     "name": "stdout",
     "output_type": "stream",
     "text": [
      "Epoch 8, Loss: 3.2540465128421783\n",
      "[SYST] Epoch 8\n"
     ]
    },
    {
     "name": "stderr",
     "output_type": "stream",
     "text": [
      "100%|████████████████████████████████████████████████████████| 200/200 [00:20<00:00,  9.88it/s]\n"
     ]
    },
    {
     "name": "stdout",
     "output_type": "stream",
     "text": [
      "Epoch 9, Loss: 3.2540804064273834\n",
      "[SYST] Epoch 9\n"
     ]
    },
    {
     "name": "stderr",
     "output_type": "stream",
     "text": [
      "100%|████████████████████████████████████████████████████████| 200/200 [00:20<00:00,  9.89it/s]\n"
     ]
    },
    {
     "name": "stdout",
     "output_type": "stream",
     "text": [
      "Epoch 10, Loss: 3.2539931857585906\n",
      "[SYST] Epoch 0\n"
     ]
    },
    {
     "name": "stderr",
     "output_type": "stream",
     "text": [
      "100%|████████████████████████████████████████████████████████████| 2/2 [00:00<00:00, 13.36it/s]\n"
     ]
    },
    {
     "name": "stdout",
     "output_type": "stream",
     "text": [
      "Test Accuracy: 49.66%\n",
      "[{'accuracy': 0.9983, 'Layer1': {'[[0, 1, 2, 3, 4, 5, 6, 7]]': 0.5013, '[[0, 1]]': 0.5039, '[[0]]': 0.5082}, 'Layer2': {'[[0, 1, 2, 3, 4, 5, 6, 7]]': 0.5037, '[[0, 1]]': 0.5032, '[[0]]': 0.5075}, 'Layer3': {'[[0, 1, 2, 3, 4, 5, 6, 7]]': 0.4925, '[[0, 1]]': 0.5037, '[[0]]': 0.5081}}, {'accuracy': 0.9983, 'Layer1': {'[[0, 1, 2, 3, 4, 5, 6, 7]]': 0.5012, '[[0, 1]]': 0.5059, '[[0]]': 0.4956}, 'Layer2': {'[[0, 1, 2, 3, 4, 5, 6, 7]]': 0.5027, '[[0, 1]]': 0.4957, '[[0]]': 0.493}, 'Layer3': {'[[0, 1, 2, 3, 4, 5, 6, 7]]': 0.4966}}]\n",
      "Layer3 : [[0, 1]]\n"
     ]
    },
    {
     "name": "stderr",
     "output_type": "stream",
     "text": [
      "100%|█████████████████████████████████████████████| 1280000/1280000 [01:22<00:00, 15590.59it/s]\n",
      "100%|█████████████████████████████████████████████████| 10000/10000 [00:00<00:00, 16864.39it/s]\n"
     ]
    },
    {
     "name": "stdout",
     "output_type": "stream",
     "text": [
      "[SYST] Prepare Data\n"
     ]
    },
    {
     "name": "stderr",
     "output_type": "stream",
     "text": [
      "100%|████████████████████████████████████████████| 1280000/1280000 [00:08<00:00, 159239.22it/s]\n"
     ]
    },
    {
     "name": "stdout",
     "output_type": "stream",
     "text": [
      "[SYST] Prepare Data\n"
     ]
    },
    {
     "name": "stderr",
     "output_type": "stream",
     "text": [
      "100%|████████████████████████████████████████████████| 10000/10000 [00:00<00:00, 159469.54it/s]"
     ]
    },
    {
     "name": "stdout",
     "output_type": "stream",
     "text": [
      "[SYST] Epoch 0\n"
     ]
    },
    {
     "name": "stderr",
     "output_type": "stream",
     "text": [
      "\n",
      "100%|████████████████████████████████████████████████████████| 200/200 [00:19<00:00, 10.07it/s]\n"
     ]
    },
    {
     "name": "stdout",
     "output_type": "stream",
     "text": [
      "Epoch 1, Loss: 3.465451409816742\n",
      "[SYST] Epoch 1\n"
     ]
    },
    {
     "name": "stderr",
     "output_type": "stream",
     "text": [
      "100%|████████████████████████████████████████████████████████| 200/200 [00:19<00:00, 10.01it/s]\n"
     ]
    },
    {
     "name": "stdout",
     "output_type": "stream",
     "text": [
      "Epoch 2, Loss: 3.2523386812210084\n",
      "[SYST] Epoch 2\n"
     ]
    },
    {
     "name": "stderr",
     "output_type": "stream",
     "text": [
      "100%|████████████████████████████████████████████████████████| 200/200 [00:19<00:00, 10.02it/s]\n"
     ]
    },
    {
     "name": "stdout",
     "output_type": "stream",
     "text": [
      "Epoch 3, Loss: 3.2517142915725707\n",
      "[SYST] Epoch 3\n"
     ]
    },
    {
     "name": "stderr",
     "output_type": "stream",
     "text": [
      "100%|████████████████████████████████████████████████████████| 200/200 [00:19<00:00, 10.00it/s]\n"
     ]
    },
    {
     "name": "stdout",
     "output_type": "stream",
     "text": [
      "Epoch 4, Loss: 3.251408277750015\n",
      "[SYST] Epoch 4\n"
     ]
    },
    {
     "name": "stderr",
     "output_type": "stream",
     "text": [
      "100%|████████████████████████████████████████████████████████| 200/200 [00:19<00:00, 10.00it/s]\n"
     ]
    },
    {
     "name": "stdout",
     "output_type": "stream",
     "text": [
      "Epoch 5, Loss: 3.2511907744407655\n",
      "[SYST] Epoch 5\n"
     ]
    },
    {
     "name": "stderr",
     "output_type": "stream",
     "text": [
      "100%|████████████████████████████████████████████████████████| 200/200 [00:19<00:00, 10.02it/s]\n"
     ]
    },
    {
     "name": "stdout",
     "output_type": "stream",
     "text": [
      "Epoch 6, Loss: 3.2510957145690917\n",
      "[SYST] Epoch 6\n"
     ]
    },
    {
     "name": "stderr",
     "output_type": "stream",
     "text": [
      "100%|████████████████████████████████████████████████████████| 200/200 [00:19<00:00, 10.04it/s]\n"
     ]
    },
    {
     "name": "stdout",
     "output_type": "stream",
     "text": [
      "Epoch 7, Loss: 3.250835210084915\n",
      "[SYST] Epoch 7\n"
     ]
    },
    {
     "name": "stderr",
     "output_type": "stream",
     "text": [
      "100%|████████████████████████████████████████████████████████| 200/200 [00:19<00:00, 10.03it/s]\n"
     ]
    },
    {
     "name": "stdout",
     "output_type": "stream",
     "text": [
      "Epoch 8, Loss: 3.2507269418239595\n",
      "[SYST] Epoch 8\n"
     ]
    },
    {
     "name": "stderr",
     "output_type": "stream",
     "text": [
      "100%|████████████████████████████████████████████████████████| 200/200 [00:19<00:00, 10.05it/s]\n"
     ]
    },
    {
     "name": "stdout",
     "output_type": "stream",
     "text": [
      "Epoch 9, Loss: 3.2505646681785585\n",
      "[SYST] Epoch 9\n"
     ]
    },
    {
     "name": "stderr",
     "output_type": "stream",
     "text": [
      "100%|████████████████████████████████████████████████████████| 200/200 [00:19<00:00, 10.01it/s]\n"
     ]
    },
    {
     "name": "stdout",
     "output_type": "stream",
     "text": [
      "Epoch 10, Loss: 3.2505212664604186\n",
      "[SYST] Epoch 0\n"
     ]
    },
    {
     "name": "stderr",
     "output_type": "stream",
     "text": [
      "100%|████████████████████████████████████████████████████████████| 2/2 [00:00<00:00, 13.31it/s]\n"
     ]
    },
    {
     "name": "stdout",
     "output_type": "stream",
     "text": [
      "Test Accuracy: 49.96%\n",
      "[{'accuracy': 0.9983, 'Layer1': {'[[0, 1, 2, 3, 4, 5, 6, 7]]': 0.5013, '[[0, 1]]': 0.5039, '[[0]]': 0.5082}, 'Layer2': {'[[0, 1, 2, 3, 4, 5, 6, 7]]': 0.5037, '[[0, 1]]': 0.5032, '[[0]]': 0.5075}, 'Layer3': {'[[0, 1, 2, 3, 4, 5, 6, 7]]': 0.4925, '[[0, 1]]': 0.5037, '[[0]]': 0.5081}}, {'accuracy': 0.9983, 'Layer1': {'[[0, 1, 2, 3, 4, 5, 6, 7]]': 0.5012, '[[0, 1]]': 0.5059, '[[0]]': 0.4956}, 'Layer2': {'[[0, 1, 2, 3, 4, 5, 6, 7]]': 0.5027, '[[0, 1]]': 0.4957, '[[0]]': 0.493}, 'Layer3': {'[[0, 1, 2, 3, 4, 5, 6, 7]]': 0.4966, '[[0, 1]]': 0.4996}}]\n",
      "Layer3 : [[0]]\n"
     ]
    },
    {
     "name": "stderr",
     "output_type": "stream",
     "text": [
      "100%|█████████████████████████████████████████████| 1280000/1280000 [01:22<00:00, 15510.71it/s]\n",
      "100%|█████████████████████████████████████████████████| 10000/10000 [00:00<00:00, 16761.68it/s]\n"
     ]
    },
    {
     "name": "stdout",
     "output_type": "stream",
     "text": [
      "[SYST] Prepare Data\n"
     ]
    },
    {
     "name": "stderr",
     "output_type": "stream",
     "text": [
      "100%|████████████████████████████████████████████| 1280000/1280000 [00:07<00:00, 162671.76it/s]\n"
     ]
    },
    {
     "name": "stdout",
     "output_type": "stream",
     "text": [
      "[SYST] Prepare Data\n"
     ]
    },
    {
     "name": "stderr",
     "output_type": "stream",
     "text": [
      "100%|████████████████████████████████████████████████| 10000/10000 [00:00<00:00, 163320.06it/s]"
     ]
    },
    {
     "name": "stdout",
     "output_type": "stream",
     "text": [
      "[SYST] Epoch 0\n"
     ]
    },
    {
     "name": "stderr",
     "output_type": "stream",
     "text": [
      "\n",
      "100%|████████████████████████████████████████████████████████| 200/200 [00:19<00:00, 10.05it/s]\n"
     ]
    },
    {
     "name": "stdout",
     "output_type": "stream",
     "text": [
      "Epoch 1, Loss: 3.733473689556122\n",
      "[SYST] Epoch 1\n"
     ]
    },
    {
     "name": "stderr",
     "output_type": "stream",
     "text": [
      "100%|████████████████████████████████████████████████████████| 200/200 [00:20<00:00,  9.97it/s]\n"
     ]
    },
    {
     "name": "stdout",
     "output_type": "stream",
     "text": [
      "Epoch 2, Loss: 3.2501206386089323\n",
      "[SYST] Epoch 2\n"
     ]
    },
    {
     "name": "stderr",
     "output_type": "stream",
     "text": [
      "100%|████████████████████████████████████████████████████████| 200/200 [00:20<00:00,  9.96it/s]\n"
     ]
    },
    {
     "name": "stdout",
     "output_type": "stream",
     "text": [
      "Epoch 3, Loss: 3.2484856379032134\n",
      "[SYST] Epoch 3\n"
     ]
    },
    {
     "name": "stderr",
     "output_type": "stream",
     "text": [
      "100%|████████████████████████████████████████████████████████| 200/200 [00:20<00:00, 10.00it/s]\n"
     ]
    },
    {
     "name": "stdout",
     "output_type": "stream",
     "text": [
      "Epoch 4, Loss: 3.2478164887428282\n",
      "[SYST] Epoch 4\n"
     ]
    },
    {
     "name": "stderr",
     "output_type": "stream",
     "text": [
      "100%|████████████████████████████████████████████████████████| 200/200 [00:19<00:00, 10.02it/s]\n"
     ]
    },
    {
     "name": "stdout",
     "output_type": "stream",
     "text": [
      "Epoch 5, Loss: 3.247455266714096\n",
      "[SYST] Epoch 5\n"
     ]
    },
    {
     "name": "stderr",
     "output_type": "stream",
     "text": [
      "100%|████████████████████████████████████████████████████████| 200/200 [00:19<00:00, 10.01it/s]\n"
     ]
    },
    {
     "name": "stdout",
     "output_type": "stream",
     "text": [
      "Epoch 6, Loss: 3.2471544587612153\n",
      "[SYST] Epoch 6\n"
     ]
    },
    {
     "name": "stderr",
     "output_type": "stream",
     "text": [
      "100%|████████████████████████████████████████████████████████| 200/200 [00:20<00:00,  9.98it/s]\n"
     ]
    },
    {
     "name": "stdout",
     "output_type": "stream",
     "text": [
      "Epoch 7, Loss: 3.246956490278244\n",
      "[SYST] Epoch 7\n"
     ]
    },
    {
     "name": "stderr",
     "output_type": "stream",
     "text": [
      "100%|████████████████████████████████████████████████████████| 200/200 [00:20<00:00,  9.96it/s]\n"
     ]
    },
    {
     "name": "stdout",
     "output_type": "stream",
     "text": [
      "Epoch 8, Loss: 3.2468475461006165\n",
      "[SYST] Epoch 8\n"
     ]
    },
    {
     "name": "stderr",
     "output_type": "stream",
     "text": [
      "100%|████████████████████████████████████████████████████████| 200/200 [00:19<00:00, 10.03it/s]\n"
     ]
    },
    {
     "name": "stdout",
     "output_type": "stream",
     "text": [
      "Epoch 9, Loss: 3.2467001605033876\n",
      "[SYST] Epoch 9\n"
     ]
    },
    {
     "name": "stderr",
     "output_type": "stream",
     "text": [
      "100%|████████████████████████████████████████████████████████| 200/200 [00:19<00:00, 10.04it/s]\n"
     ]
    },
    {
     "name": "stdout",
     "output_type": "stream",
     "text": [
      "Epoch 10, Loss: 3.246608476638794\n",
      "[SYST] Epoch 0\n"
     ]
    },
    {
     "name": "stderr",
     "output_type": "stream",
     "text": [
      "100%|████████████████████████████████████████████████████████████| 2/2 [00:00<00:00, 13.44it/s]\n"
     ]
    },
    {
     "name": "stdout",
     "output_type": "stream",
     "text": [
      "Test Accuracy: 50.71%\n",
      "[{'accuracy': 0.9983, 'Layer1': {'[[0, 1, 2, 3, 4, 5, 6, 7]]': 0.5013, '[[0, 1]]': 0.5039, '[[0]]': 0.5082}, 'Layer2': {'[[0, 1, 2, 3, 4, 5, 6, 7]]': 0.5037, '[[0, 1]]': 0.5032, '[[0]]': 0.5075}, 'Layer3': {'[[0, 1, 2, 3, 4, 5, 6, 7]]': 0.4925, '[[0, 1]]': 0.5037, '[[0]]': 0.5081}}, {'accuracy': 0.9983, 'Layer1': {'[[0, 1, 2, 3, 4, 5, 6, 7]]': 0.5012, '[[0, 1]]': 0.5059, '[[0]]': 0.4956}, 'Layer2': {'[[0, 1, 2, 3, 4, 5, 6, 7]]': 0.5027, '[[0, 1]]': 0.4957, '[[0]]': 0.493}, 'Layer3': {'[[0, 1, 2, 3, 4, 5, 6, 7]]': 0.4966, '[[0, 1]]': 0.4996, '[[0]]': 0.5071}}]\n"
     ]
    },
    {
     "name": "stderr",
     "output_type": "stream",
     "text": [
      "100%|████████████████████████████████████████████| 1048576/1048576 [00:10<00:00, 100554.52it/s]\n",
      "100%|█████████████████████████████████████████████████████| 1024/1024 [00:08<00:00, 120.95it/s]\n"
     ]
    },
    {
     "name": "stdout",
     "output_type": "stream",
     "text": [
      "Epoch 1, Loss: 0.5134716425818624\n"
     ]
    },
    {
     "name": "stderr",
     "output_type": "stream",
     "text": [
      "100%|█████████████████████████████████████████████████████| 1024/1024 [00:09<00:00, 112.01it/s]\n"
     ]
    },
    {
     "name": "stdout",
     "output_type": "stream",
     "text": [
      "Epoch 2, Loss: 0.0980857001413824\n"
     ]
    },
    {
     "name": "stderr",
     "output_type": "stream",
     "text": [
      "100%|█████████████████████████████████████████████████████| 1024/1024 [00:09<00:00, 113.16it/s]\n"
     ]
    },
    {
     "name": "stdout",
     "output_type": "stream",
     "text": [
      "Epoch 3, Loss: 0.04118209016814944\n"
     ]
    },
    {
     "name": "stderr",
     "output_type": "stream",
     "text": [
      "100%|█████████████████████████████████████████████████| 10000/10000 [00:00<00:00, 97506.81it/s]\n",
      "100%|█████████████████████████████████████████████████████████| 10/10 [00:00<00:00, 159.56it/s]\n"
     ]
    },
    {
     "name": "stdout",
     "output_type": "stream",
     "text": [
      "Test Accuracy: 0.9906\n",
      "Layer1 : [[0, 1, 2, 3, 4, 5, 6, 7]]\n"
     ]
    },
    {
     "name": "stderr",
     "output_type": "stream",
     "text": [
      "100%|█████████████████████████████████████████████| 1280000/1280000 [01:23<00:00, 15409.94it/s]\n",
      "100%|█████████████████████████████████████████████████| 10000/10000 [00:00<00:00, 16842.07it/s]\n"
     ]
    },
    {
     "name": "stdout",
     "output_type": "stream",
     "text": [
      "[SYST] Prepare Data\n"
     ]
    },
    {
     "name": "stderr",
     "output_type": "stream",
     "text": [
      "100%|████████████████████████████████████████████| 1280000/1280000 [00:08<00:00, 146230.51it/s]\n"
     ]
    },
    {
     "name": "stdout",
     "output_type": "stream",
     "text": [
      "[SYST] Prepare Data\n"
     ]
    },
    {
     "name": "stderr",
     "output_type": "stream",
     "text": [
      "100%|████████████████████████████████████████████████| 10000/10000 [00:00<00:00, 147046.28it/s]"
     ]
    },
    {
     "name": "stdout",
     "output_type": "stream",
     "text": [
      "[SYST] Epoch 0\n"
     ]
    },
    {
     "name": "stderr",
     "output_type": "stream",
     "text": [
      "\n",
      "100%|████████████████████████████████████████████████████████| 200/200 [00:20<00:00,  9.95it/s]\n"
     ]
    },
    {
     "name": "stdout",
     "output_type": "stream",
     "text": [
      "Epoch 1, Loss: 6.094249386787414\n",
      "[SYST] Epoch 1\n"
     ]
    },
    {
     "name": "stderr",
     "output_type": "stream",
     "text": [
      "100%|████████████████████████████████████████████████████████| 200/200 [00:20<00:00,  9.89it/s]\n"
     ]
    },
    {
     "name": "stdout",
     "output_type": "stream",
     "text": [
      "Epoch 2, Loss: 3.8964432537555695\n",
      "[SYST] Epoch 2\n"
     ]
    },
    {
     "name": "stderr",
     "output_type": "stream",
     "text": [
      "100%|████████████████████████████████████████████████████████| 200/200 [00:20<00:00,  9.82it/s]\n"
     ]
    },
    {
     "name": "stdout",
     "output_type": "stream",
     "text": [
      "Epoch 3, Loss: 3.5578413116931915\n",
      "[SYST] Epoch 3\n"
     ]
    },
    {
     "name": "stderr",
     "output_type": "stream",
     "text": [
      "100%|████████████████████████████████████████████████████████| 200/200 [00:20<00:00,  9.87it/s]\n"
     ]
    },
    {
     "name": "stdout",
     "output_type": "stream",
     "text": [
      "Epoch 4, Loss: 3.468547292947769\n",
      "[SYST] Epoch 4\n"
     ]
    },
    {
     "name": "stderr",
     "output_type": "stream",
     "text": [
      "100%|████████████████████████████████████████████████████████| 200/200 [00:20<00:00,  9.90it/s]\n"
     ]
    },
    {
     "name": "stdout",
     "output_type": "stream",
     "text": [
      "Epoch 5, Loss: 3.420759828090668\n",
      "[SYST] Epoch 5\n"
     ]
    },
    {
     "name": "stderr",
     "output_type": "stream",
     "text": [
      "100%|████████████████████████████████████████████████████████| 200/200 [00:20<00:00,  9.87it/s]\n"
     ]
    },
    {
     "name": "stdout",
     "output_type": "stream",
     "text": [
      "Epoch 6, Loss: 3.3893262827396393\n",
      "[SYST] Epoch 6\n"
     ]
    },
    {
     "name": "stderr",
     "output_type": "stream",
     "text": [
      "100%|████████████████████████████████████████████████████████| 200/200 [00:20<00:00,  9.78it/s]\n"
     ]
    },
    {
     "name": "stdout",
     "output_type": "stream",
     "text": [
      "Epoch 7, Loss: 3.36797092795372\n",
      "[SYST] Epoch 7\n"
     ]
    },
    {
     "name": "stderr",
     "output_type": "stream",
     "text": [
      "100%|████████████████████████████████████████████████████████| 200/200 [00:20<00:00,  9.85it/s]\n"
     ]
    },
    {
     "name": "stdout",
     "output_type": "stream",
     "text": [
      "Epoch 8, Loss: 3.349929938316345\n",
      "[SYST] Epoch 8\n"
     ]
    },
    {
     "name": "stderr",
     "output_type": "stream",
     "text": [
      "100%|████████████████████████████████████████████████████████| 200/200 [00:20<00:00,  9.85it/s]\n"
     ]
    },
    {
     "name": "stdout",
     "output_type": "stream",
     "text": [
      "Epoch 9, Loss: 3.3306968247890474\n",
      "[SYST] Epoch 9\n"
     ]
    },
    {
     "name": "stderr",
     "output_type": "stream",
     "text": [
      "100%|████████████████████████████████████████████████████████| 200/200 [00:20<00:00,  9.80it/s]\n"
     ]
    },
    {
     "name": "stdout",
     "output_type": "stream",
     "text": [
      "Epoch 10, Loss: 3.3098789834976197\n",
      "[SYST] Epoch 0\n"
     ]
    },
    {
     "name": "stderr",
     "output_type": "stream",
     "text": [
      "100%|████████████████████████████████████████████████████████████| 2/2 [00:00<00:00, 13.27it/s]\n"
     ]
    },
    {
     "name": "stdout",
     "output_type": "stream",
     "text": [
      "Test Accuracy: 49.64%\n",
      "[{'accuracy': 0.9983, 'Layer1': {'[[0, 1, 2, 3, 4, 5, 6, 7]]': 0.5013, '[[0, 1]]': 0.5039, '[[0]]': 0.5082}, 'Layer2': {'[[0, 1, 2, 3, 4, 5, 6, 7]]': 0.5037, '[[0, 1]]': 0.5032, '[[0]]': 0.5075}, 'Layer3': {'[[0, 1, 2, 3, 4, 5, 6, 7]]': 0.4925, '[[0, 1]]': 0.5037, '[[0]]': 0.5081}}, {'accuracy': 0.9983, 'Layer1': {'[[0, 1, 2, 3, 4, 5, 6, 7]]': 0.5012, '[[0, 1]]': 0.5059, '[[0]]': 0.4956}, 'Layer2': {'[[0, 1, 2, 3, 4, 5, 6, 7]]': 0.5027, '[[0, 1]]': 0.4957, '[[0]]': 0.493}, 'Layer3': {'[[0, 1, 2, 3, 4, 5, 6, 7]]': 0.4966, '[[0, 1]]': 0.4996, '[[0]]': 0.5071}}, {'accuracy': 0.9906, 'Layer1': {'[[0, 1, 2, 3, 4, 5, 6, 7]]': 0.4964}}]\n",
      "Layer1 : [[0, 1]]\n"
     ]
    },
    {
     "name": "stderr",
     "output_type": "stream",
     "text": [
      "100%|█████████████████████████████████████████████| 1280000/1280000 [01:22<00:00, 15450.36it/s]\n",
      "100%|█████████████████████████████████████████████████| 10000/10000 [00:00<00:00, 16709.95it/s]\n"
     ]
    },
    {
     "name": "stdout",
     "output_type": "stream",
     "text": [
      "[SYST] Prepare Data\n"
     ]
    },
    {
     "name": "stderr",
     "output_type": "stream",
     "text": [
      "100%|████████████████████████████████████████████| 1280000/1280000 [00:08<00:00, 158970.67it/s]\n"
     ]
    },
    {
     "name": "stdout",
     "output_type": "stream",
     "text": [
      "[SYST] Prepare Data\n"
     ]
    },
    {
     "name": "stderr",
     "output_type": "stream",
     "text": [
      "100%|████████████████████████████████████████████████| 10000/10000 [00:00<00:00, 158858.90it/s]"
     ]
    },
    {
     "name": "stdout",
     "output_type": "stream",
     "text": [
      "[SYST] Epoch 0\n"
     ]
    },
    {
     "name": "stderr",
     "output_type": "stream",
     "text": [
      "\n",
      "100%|████████████████████████████████████████████████████████| 200/200 [00:19<00:00, 10.06it/s]\n"
     ]
    },
    {
     "name": "stdout",
     "output_type": "stream",
     "text": [
      "Epoch 1, Loss: 4.820753661394119\n",
      "[SYST] Epoch 1\n"
     ]
    },
    {
     "name": "stderr",
     "output_type": "stream",
     "text": [
      "100%|████████████████████████████████████████████████████████| 200/200 [00:20<00:00,  9.99it/s]\n"
     ]
    },
    {
     "name": "stdout",
     "output_type": "stream",
     "text": [
      "Epoch 2, Loss: 4.097304352521896\n",
      "[SYST] Epoch 2\n"
     ]
    },
    {
     "name": "stderr",
     "output_type": "stream",
     "text": [
      "100%|████████████████████████████████████████████████████████| 200/200 [00:20<00:00,  9.94it/s]\n"
     ]
    },
    {
     "name": "stdout",
     "output_type": "stream",
     "text": [
      "Epoch 3, Loss: 3.978588697910309\n",
      "[SYST] Epoch 3\n"
     ]
    },
    {
     "name": "stderr",
     "output_type": "stream",
     "text": [
      "100%|████████████████████████████████████████████████████████| 200/200 [00:20<00:00,  9.96it/s]\n"
     ]
    },
    {
     "name": "stdout",
     "output_type": "stream",
     "text": [
      "Epoch 4, Loss: 3.8868618381023405\n",
      "[SYST] Epoch 4\n"
     ]
    },
    {
     "name": "stderr",
     "output_type": "stream",
     "text": [
      "100%|████████████████████████████████████████████████████████| 200/200 [00:20<00:00,  9.96it/s]\n"
     ]
    },
    {
     "name": "stdout",
     "output_type": "stream",
     "text": [
      "Epoch 5, Loss: 3.7982636058330534\n",
      "[SYST] Epoch 5\n"
     ]
    },
    {
     "name": "stderr",
     "output_type": "stream",
     "text": [
      "100%|████████████████████████████████████████████████████████| 200/200 [00:20<00:00,  9.97it/s]\n"
     ]
    },
    {
     "name": "stdout",
     "output_type": "stream",
     "text": [
      "Epoch 6, Loss: 3.7296156907081603\n",
      "[SYST] Epoch 6\n"
     ]
    },
    {
     "name": "stderr",
     "output_type": "stream",
     "text": [
      "100%|████████████████████████████████████████████████████████| 200/200 [00:20<00:00,  9.93it/s]\n"
     ]
    },
    {
     "name": "stdout",
     "output_type": "stream",
     "text": [
      "Epoch 7, Loss: 3.672019838094711\n",
      "[SYST] Epoch 7\n"
     ]
    },
    {
     "name": "stderr",
     "output_type": "stream",
     "text": [
      "100%|████████████████████████████████████████████████████████| 200/200 [00:20<00:00,  9.93it/s]\n"
     ]
    },
    {
     "name": "stdout",
     "output_type": "stream",
     "text": [
      "Epoch 8, Loss: 3.634775005578995\n",
      "[SYST] Epoch 8\n"
     ]
    },
    {
     "name": "stderr",
     "output_type": "stream",
     "text": [
      "100%|████████████████████████████████████████████████████████| 200/200 [00:20<00:00,  9.94it/s]\n"
     ]
    },
    {
     "name": "stdout",
     "output_type": "stream",
     "text": [
      "Epoch 9, Loss: 3.6165918147563936\n",
      "[SYST] Epoch 9\n"
     ]
    },
    {
     "name": "stderr",
     "output_type": "stream",
     "text": [
      "100%|████████████████████████████████████████████████████████| 200/200 [00:20<00:00,  9.93it/s]\n"
     ]
    },
    {
     "name": "stdout",
     "output_type": "stream",
     "text": [
      "Epoch 10, Loss: 3.6047945582866667\n",
      "[SYST] Epoch 0\n"
     ]
    },
    {
     "name": "stderr",
     "output_type": "stream",
     "text": [
      "100%|████████████████████████████████████████████████████████████| 2/2 [00:00<00:00, 13.14it/s]\n"
     ]
    },
    {
     "name": "stdout",
     "output_type": "stream",
     "text": [
      "Test Accuracy: 51.18%\n",
      "[{'accuracy': 0.9983, 'Layer1': {'[[0, 1, 2, 3, 4, 5, 6, 7]]': 0.5013, '[[0, 1]]': 0.5039, '[[0]]': 0.5082}, 'Layer2': {'[[0, 1, 2, 3, 4, 5, 6, 7]]': 0.5037, '[[0, 1]]': 0.5032, '[[0]]': 0.5075}, 'Layer3': {'[[0, 1, 2, 3, 4, 5, 6, 7]]': 0.4925, '[[0, 1]]': 0.5037, '[[0]]': 0.5081}}, {'accuracy': 0.9983, 'Layer1': {'[[0, 1, 2, 3, 4, 5, 6, 7]]': 0.5012, '[[0, 1]]': 0.5059, '[[0]]': 0.4956}, 'Layer2': {'[[0, 1, 2, 3, 4, 5, 6, 7]]': 0.5027, '[[0, 1]]': 0.4957, '[[0]]': 0.493}, 'Layer3': {'[[0, 1, 2, 3, 4, 5, 6, 7]]': 0.4966, '[[0, 1]]': 0.4996, '[[0]]': 0.5071}}, {'accuracy': 0.9906, 'Layer1': {'[[0, 1, 2, 3, 4, 5, 6, 7]]': 0.4964, '[[0, 1]]': 0.5118}}]\n",
      "Layer1 : [[0]]\n"
     ]
    },
    {
     "name": "stderr",
     "output_type": "stream",
     "text": [
      "100%|█████████████████████████████████████████████| 1280000/1280000 [01:22<00:00, 15533.03it/s]\n",
      "100%|█████████████████████████████████████████████████| 10000/10000 [00:00<00:00, 16751.02it/s]\n"
     ]
    },
    {
     "name": "stdout",
     "output_type": "stream",
     "text": [
      "[SYST] Prepare Data\n"
     ]
    },
    {
     "name": "stderr",
     "output_type": "stream",
     "text": [
      "100%|████████████████████████████████████████████| 1280000/1280000 [00:07<00:00, 163060.92it/s]\n"
     ]
    },
    {
     "name": "stdout",
     "output_type": "stream",
     "text": [
      "[SYST] Prepare Data\n"
     ]
    },
    {
     "name": "stderr",
     "output_type": "stream",
     "text": [
      "100%|████████████████████████████████████████████████| 10000/10000 [00:00<00:00, 163246.32it/s]"
     ]
    },
    {
     "name": "stdout",
     "output_type": "stream",
     "text": [
      "[SYST] Epoch 0\n"
     ]
    },
    {
     "name": "stderr",
     "output_type": "stream",
     "text": [
      "\n",
      "100%|████████████████████████████████████████████████████████| 200/200 [00:19<00:00, 10.10it/s]\n"
     ]
    },
    {
     "name": "stdout",
     "output_type": "stream",
     "text": [
      "Epoch 1, Loss: 4.5574940025806425\n",
      "[SYST] Epoch 1\n"
     ]
    },
    {
     "name": "stderr",
     "output_type": "stream",
     "text": [
      "100%|████████████████████████████████████████████████████████| 200/200 [00:20<00:00,  9.95it/s]\n"
     ]
    },
    {
     "name": "stdout",
     "output_type": "stream",
     "text": [
      "Epoch 2, Loss: 3.919458326101303\n",
      "[SYST] Epoch 2\n"
     ]
    },
    {
     "name": "stderr",
     "output_type": "stream",
     "text": [
      "100%|████████████████████████████████████████████████████████| 200/200 [00:20<00:00,  9.99it/s]\n"
     ]
    },
    {
     "name": "stdout",
     "output_type": "stream",
     "text": [
      "Epoch 3, Loss: 3.8647655701637267\n",
      "[SYST] Epoch 3\n"
     ]
    },
    {
     "name": "stderr",
     "output_type": "stream",
     "text": [
      "100%|████████████████████████████████████████████████████████| 200/200 [00:20<00:00,  9.96it/s]\n"
     ]
    },
    {
     "name": "stdout",
     "output_type": "stream",
     "text": [
      "Epoch 4, Loss: 3.833538100719452\n",
      "[SYST] Epoch 4\n"
     ]
    },
    {
     "name": "stderr",
     "output_type": "stream",
     "text": [
      "100%|████████████████████████████████████████████████████████| 200/200 [00:20<00:00,  9.94it/s]\n"
     ]
    },
    {
     "name": "stdout",
     "output_type": "stream",
     "text": [
      "Epoch 5, Loss: 3.810515295267105\n",
      "[SYST] Epoch 5\n"
     ]
    },
    {
     "name": "stderr",
     "output_type": "stream",
     "text": [
      "100%|████████████████████████████████████████████████████████| 200/200 [00:20<00:00,  9.93it/s]\n"
     ]
    },
    {
     "name": "stdout",
     "output_type": "stream",
     "text": [
      "Epoch 6, Loss: 3.7943568170070647\n",
      "[SYST] Epoch 6\n"
     ]
    },
    {
     "name": "stderr",
     "output_type": "stream",
     "text": [
      "100%|████████████████████████████████████████████████████████| 200/200 [00:20<00:00,  9.95it/s]\n"
     ]
    },
    {
     "name": "stdout",
     "output_type": "stream",
     "text": [
      "Epoch 7, Loss: 3.7823099517822265\n",
      "[SYST] Epoch 7\n"
     ]
    },
    {
     "name": "stderr",
     "output_type": "stream",
     "text": [
      "100%|████████████████████████████████████████████████████████| 200/200 [00:19<00:00, 10.00it/s]\n"
     ]
    },
    {
     "name": "stdout",
     "output_type": "stream",
     "text": [
      "Epoch 8, Loss: 3.7744953989982606\n",
      "[SYST] Epoch 8\n"
     ]
    },
    {
     "name": "stderr",
     "output_type": "stream",
     "text": [
      "100%|████████████████████████████████████████████████████████| 200/200 [00:19<00:00, 10.01it/s]\n"
     ]
    },
    {
     "name": "stdout",
     "output_type": "stream",
     "text": [
      "Epoch 9, Loss: 3.76858149766922\n",
      "[SYST] Epoch 9\n"
     ]
    },
    {
     "name": "stderr",
     "output_type": "stream",
     "text": [
      "100%|████████████████████████████████████████████████████████| 200/200 [00:20<00:00,  9.93it/s]\n"
     ]
    },
    {
     "name": "stdout",
     "output_type": "stream",
     "text": [
      "Epoch 10, Loss: 3.7651710414886477\n",
      "[SYST] Epoch 0\n"
     ]
    },
    {
     "name": "stderr",
     "output_type": "stream",
     "text": [
      "100%|████████████████████████████████████████████████████████████| 2/2 [00:00<00:00, 13.27it/s]\n"
     ]
    },
    {
     "name": "stdout",
     "output_type": "stream",
     "text": [
      "Test Accuracy: 50.24%\n",
      "[{'accuracy': 0.9983, 'Layer1': {'[[0, 1, 2, 3, 4, 5, 6, 7]]': 0.5013, '[[0, 1]]': 0.5039, '[[0]]': 0.5082}, 'Layer2': {'[[0, 1, 2, 3, 4, 5, 6, 7]]': 0.5037, '[[0, 1]]': 0.5032, '[[0]]': 0.5075}, 'Layer3': {'[[0, 1, 2, 3, 4, 5, 6, 7]]': 0.4925, '[[0, 1]]': 0.5037, '[[0]]': 0.5081}}, {'accuracy': 0.9983, 'Layer1': {'[[0, 1, 2, 3, 4, 5, 6, 7]]': 0.5012, '[[0, 1]]': 0.5059, '[[0]]': 0.4956}, 'Layer2': {'[[0, 1, 2, 3, 4, 5, 6, 7]]': 0.5027, '[[0, 1]]': 0.4957, '[[0]]': 0.493}, 'Layer3': {'[[0, 1, 2, 3, 4, 5, 6, 7]]': 0.4966, '[[0, 1]]': 0.4996, '[[0]]': 0.5071}}, {'accuracy': 0.9906, 'Layer1': {'[[0, 1, 2, 3, 4, 5, 6, 7]]': 0.4964, '[[0, 1]]': 0.5118, '[[0]]': 0.5024}}]\n",
      "Layer2 : [[0, 1, 2, 3, 4, 5, 6, 7]]\n"
     ]
    },
    {
     "name": "stderr",
     "output_type": "stream",
     "text": [
      "100%|█████████████████████████████████████████████| 1280000/1280000 [01:21<00:00, 15781.13it/s]\n",
      "100%|█████████████████████████████████████████████████| 10000/10000 [00:00<00:00, 16770.37it/s]\n"
     ]
    },
    {
     "name": "stdout",
     "output_type": "stream",
     "text": [
      "[SYST] Prepare Data\n"
     ]
    },
    {
     "name": "stderr",
     "output_type": "stream",
     "text": [
      "100%|████████████████████████████████████████████| 1280000/1280000 [00:08<00:00, 146032.33it/s]\n"
     ]
    },
    {
     "name": "stdout",
     "output_type": "stream",
     "text": [
      "[SYST] Prepare Data\n"
     ]
    },
    {
     "name": "stderr",
     "output_type": "stream",
     "text": [
      "100%|████████████████████████████████████████████████| 10000/10000 [00:00<00:00, 147396.64it/s]"
     ]
    },
    {
     "name": "stdout",
     "output_type": "stream",
     "text": [
      "[SYST] Epoch 0\n"
     ]
    },
    {
     "name": "stderr",
     "output_type": "stream",
     "text": [
      "\n",
      "100%|████████████████████████████████████████████████████████| 200/200 [00:19<00:00, 10.14it/s]\n"
     ]
    },
    {
     "name": "stdout",
     "output_type": "stream",
     "text": [
      "Epoch 1, Loss: 5.119762016534805\n",
      "[SYST] Epoch 1\n"
     ]
    },
    {
     "name": "stderr",
     "output_type": "stream",
     "text": [
      "100%|████████████████████████████████████████████████████████| 200/200 [00:20<00:00,  9.95it/s]\n"
     ]
    },
    {
     "name": "stdout",
     "output_type": "stream",
     "text": [
      "Epoch 2, Loss: 3.9578353965282442\n",
      "[SYST] Epoch 2\n"
     ]
    },
    {
     "name": "stderr",
     "output_type": "stream",
     "text": [
      "100%|████████████████████████████████████████████████████████| 200/200 [00:20<00:00,  9.90it/s]\n"
     ]
    },
    {
     "name": "stdout",
     "output_type": "stream",
     "text": [
      "Epoch 3, Loss: 3.773165755271912\n",
      "[SYST] Epoch 3\n"
     ]
    },
    {
     "name": "stderr",
     "output_type": "stream",
     "text": [
      "100%|████████████████████████████████████████████████████████| 200/200 [00:20<00:00,  9.91it/s]\n"
     ]
    },
    {
     "name": "stdout",
     "output_type": "stream",
     "text": [
      "Epoch 4, Loss: 3.6837775719165804\n",
      "[SYST] Epoch 4\n"
     ]
    },
    {
     "name": "stderr",
     "output_type": "stream",
     "text": [
      "100%|████████████████████████████████████████████████████████| 200/200 [00:20<00:00,  9.94it/s]\n"
     ]
    },
    {
     "name": "stdout",
     "output_type": "stream",
     "text": [
      "Epoch 5, Loss: 3.6354214715957642\n",
      "[SYST] Epoch 5\n"
     ]
    },
    {
     "name": "stderr",
     "output_type": "stream",
     "text": [
      "100%|████████████████████████████████████████████████████████| 200/200 [00:20<00:00,  9.90it/s]\n"
     ]
    },
    {
     "name": "stdout",
     "output_type": "stream",
     "text": [
      "Epoch 6, Loss: 3.6072143685817717\n",
      "[SYST] Epoch 6\n"
     ]
    },
    {
     "name": "stderr",
     "output_type": "stream",
     "text": [
      "100%|████████████████████████████████████████████████████████| 200/200 [00:20<00:00,  9.92it/s]\n"
     ]
    },
    {
     "name": "stdout",
     "output_type": "stream",
     "text": [
      "Epoch 7, Loss: 3.5905280935764314\n",
      "[SYST] Epoch 7\n"
     ]
    },
    {
     "name": "stderr",
     "output_type": "stream",
     "text": [
      "100%|████████████████████████████████████████████████████████| 200/200 [00:20<00:00,  9.90it/s]\n"
     ]
    },
    {
     "name": "stdout",
     "output_type": "stream",
     "text": [
      "Epoch 8, Loss: 3.5804910695552827\n",
      "[SYST] Epoch 8\n"
     ]
    },
    {
     "name": "stderr",
     "output_type": "stream",
     "text": [
      "100%|████████████████████████████████████████████████████████| 200/200 [00:20<00:00,  9.87it/s]\n"
     ]
    },
    {
     "name": "stdout",
     "output_type": "stream",
     "text": [
      "Epoch 9, Loss: 3.5746244168281556\n",
      "[SYST] Epoch 9\n"
     ]
    },
    {
     "name": "stderr",
     "output_type": "stream",
     "text": [
      "100%|████████████████████████████████████████████████████████| 200/200 [00:20<00:00,  9.87it/s]\n"
     ]
    },
    {
     "name": "stdout",
     "output_type": "stream",
     "text": [
      "Epoch 10, Loss: 3.5713615572452544\n",
      "[SYST] Epoch 0\n"
     ]
    },
    {
     "name": "stderr",
     "output_type": "stream",
     "text": [
      "100%|████████████████████████████████████████████████████████████| 2/2 [00:00<00:00, 13.22it/s]\n"
     ]
    },
    {
     "name": "stdout",
     "output_type": "stream",
     "text": [
      "Test Accuracy: 49.93%\n",
      "[{'accuracy': 0.9983, 'Layer1': {'[[0, 1, 2, 3, 4, 5, 6, 7]]': 0.5013, '[[0, 1]]': 0.5039, '[[0]]': 0.5082}, 'Layer2': {'[[0, 1, 2, 3, 4, 5, 6, 7]]': 0.5037, '[[0, 1]]': 0.5032, '[[0]]': 0.5075}, 'Layer3': {'[[0, 1, 2, 3, 4, 5, 6, 7]]': 0.4925, '[[0, 1]]': 0.5037, '[[0]]': 0.5081}}, {'accuracy': 0.9983, 'Layer1': {'[[0, 1, 2, 3, 4, 5, 6, 7]]': 0.5012, '[[0, 1]]': 0.5059, '[[0]]': 0.4956}, 'Layer2': {'[[0, 1, 2, 3, 4, 5, 6, 7]]': 0.5027, '[[0, 1]]': 0.4957, '[[0]]': 0.493}, 'Layer3': {'[[0, 1, 2, 3, 4, 5, 6, 7]]': 0.4966, '[[0, 1]]': 0.4996, '[[0]]': 0.5071}}, {'accuracy': 0.9906, 'Layer1': {'[[0, 1, 2, 3, 4, 5, 6, 7]]': 0.4964, '[[0, 1]]': 0.5118, '[[0]]': 0.5024}, 'Layer2': {'[[0, 1, 2, 3, 4, 5, 6, 7]]': 0.4993}}]\n",
      "Layer2 : [[0, 1]]\n"
     ]
    },
    {
     "name": "stderr",
     "output_type": "stream",
     "text": [
      "100%|█████████████████████████████████████████████| 1280000/1280000 [01:22<00:00, 15516.62it/s]\n",
      "100%|█████████████████████████████████████████████████| 10000/10000 [00:00<00:00, 16936.36it/s]\n"
     ]
    },
    {
     "name": "stdout",
     "output_type": "stream",
     "text": [
      "[SYST] Prepare Data\n"
     ]
    },
    {
     "name": "stderr",
     "output_type": "stream",
     "text": [
      "100%|████████████████████████████████████████████| 1280000/1280000 [00:08<00:00, 159593.24it/s]\n"
     ]
    },
    {
     "name": "stdout",
     "output_type": "stream",
     "text": [
      "[SYST] Prepare Data\n"
     ]
    },
    {
     "name": "stderr",
     "output_type": "stream",
     "text": [
      "100%|████████████████████████████████████████████████| 10000/10000 [00:00<00:00, 157592.33it/s]"
     ]
    },
    {
     "name": "stdout",
     "output_type": "stream",
     "text": [
      "[SYST] Epoch 0\n"
     ]
    },
    {
     "name": "stderr",
     "output_type": "stream",
     "text": [
      "\n",
      "100%|████████████████████████████████████████████████████████| 200/200 [00:19<00:00, 10.10it/s]\n"
     ]
    },
    {
     "name": "stdout",
     "output_type": "stream",
     "text": [
      "Epoch 1, Loss: 4.869289033412933\n",
      "[SYST] Epoch 1\n"
     ]
    },
    {
     "name": "stderr",
     "output_type": "stream",
     "text": [
      "100%|████████████████████████████████████████████████████████| 200/200 [00:19<00:00, 10.01it/s]\n"
     ]
    },
    {
     "name": "stdout",
     "output_type": "stream",
     "text": [
      "Epoch 2, Loss: 4.400525999069214\n",
      "[SYST] Epoch 2\n"
     ]
    },
    {
     "name": "stderr",
     "output_type": "stream",
     "text": [
      "100%|████████████████████████████████████████████████████████| 200/200 [00:19<00:00, 10.06it/s]\n"
     ]
    },
    {
     "name": "stdout",
     "output_type": "stream",
     "text": [
      "Epoch 3, Loss: 4.174236503839492\n",
      "[SYST] Epoch 3\n"
     ]
    },
    {
     "name": "stderr",
     "output_type": "stream",
     "text": [
      "100%|████████████████████████████████████████████████████████| 200/200 [00:19<00:00, 10.06it/s]\n"
     ]
    },
    {
     "name": "stdout",
     "output_type": "stream",
     "text": [
      "Epoch 4, Loss: 4.0884889888763425\n",
      "[SYST] Epoch 4\n"
     ]
    },
    {
     "name": "stderr",
     "output_type": "stream",
     "text": [
      "100%|████████████████████████████████████████████████████████| 200/200 [00:19<00:00, 10.02it/s]\n"
     ]
    },
    {
     "name": "stdout",
     "output_type": "stream",
     "text": [
      "Epoch 5, Loss: 4.064751380681992\n",
      "[SYST] Epoch 5\n"
     ]
    },
    {
     "name": "stderr",
     "output_type": "stream",
     "text": [
      "100%|████████████████████████████████████████████████████████| 200/200 [00:19<00:00, 10.03it/s]\n"
     ]
    },
    {
     "name": "stdout",
     "output_type": "stream",
     "text": [
      "Epoch 6, Loss: 4.0551487529277805\n",
      "[SYST] Epoch 6\n"
     ]
    },
    {
     "name": "stderr",
     "output_type": "stream",
     "text": [
      "100%|████████████████████████████████████████████████████████| 200/200 [00:19<00:00, 10.03it/s]\n"
     ]
    },
    {
     "name": "stdout",
     "output_type": "stream",
     "text": [
      "Epoch 7, Loss: 4.0488792932033535\n",
      "[SYST] Epoch 7\n"
     ]
    },
    {
     "name": "stderr",
     "output_type": "stream",
     "text": [
      "100%|████████████████████████████████████████████████████████| 200/200 [00:20<00:00,  9.96it/s]\n"
     ]
    },
    {
     "name": "stdout",
     "output_type": "stream",
     "text": [
      "Epoch 8, Loss: 4.04242968916893\n",
      "[SYST] Epoch 8\n"
     ]
    },
    {
     "name": "stderr",
     "output_type": "stream",
     "text": [
      "100%|████████████████████████████████████████████████████████| 200/200 [00:19<00:00, 10.03it/s]\n"
     ]
    },
    {
     "name": "stdout",
     "output_type": "stream",
     "text": [
      "Epoch 9, Loss: 4.035298881530761\n",
      "[SYST] Epoch 9\n"
     ]
    },
    {
     "name": "stderr",
     "output_type": "stream",
     "text": [
      "100%|████████████████████████████████████████████████████████| 200/200 [00:19<00:00, 10.03it/s]\n"
     ]
    },
    {
     "name": "stdout",
     "output_type": "stream",
     "text": [
      "Epoch 10, Loss: 4.027516434192657\n",
      "[SYST] Epoch 0\n"
     ]
    },
    {
     "name": "stderr",
     "output_type": "stream",
     "text": [
      "100%|████████████████████████████████████████████████████████████| 2/2 [00:00<00:00, 13.32it/s]\n"
     ]
    },
    {
     "name": "stdout",
     "output_type": "stream",
     "text": [
      "Test Accuracy: 49.58%\n",
      "[{'accuracy': 0.9983, 'Layer1': {'[[0, 1, 2, 3, 4, 5, 6, 7]]': 0.5013, '[[0, 1]]': 0.5039, '[[0]]': 0.5082}, 'Layer2': {'[[0, 1, 2, 3, 4, 5, 6, 7]]': 0.5037, '[[0, 1]]': 0.5032, '[[0]]': 0.5075}, 'Layer3': {'[[0, 1, 2, 3, 4, 5, 6, 7]]': 0.4925, '[[0, 1]]': 0.5037, '[[0]]': 0.5081}}, {'accuracy': 0.9983, 'Layer1': {'[[0, 1, 2, 3, 4, 5, 6, 7]]': 0.5012, '[[0, 1]]': 0.5059, '[[0]]': 0.4956}, 'Layer2': {'[[0, 1, 2, 3, 4, 5, 6, 7]]': 0.5027, '[[0, 1]]': 0.4957, '[[0]]': 0.493}, 'Layer3': {'[[0, 1, 2, 3, 4, 5, 6, 7]]': 0.4966, '[[0, 1]]': 0.4996, '[[0]]': 0.5071}}, {'accuracy': 0.9906, 'Layer1': {'[[0, 1, 2, 3, 4, 5, 6, 7]]': 0.4964, '[[0, 1]]': 0.5118, '[[0]]': 0.5024}, 'Layer2': {'[[0, 1, 2, 3, 4, 5, 6, 7]]': 0.4993, '[[0, 1]]': 0.4958}}]\n",
      "Layer2 : [[0]]\n"
     ]
    },
    {
     "name": "stderr",
     "output_type": "stream",
     "text": [
      "100%|█████████████████████████████████████████████| 1280000/1280000 [01:21<00:00, 15610.23it/s]\n",
      "100%|█████████████████████████████████████████████████| 10000/10000 [00:00<00:00, 16865.40it/s]\n"
     ]
    },
    {
     "name": "stdout",
     "output_type": "stream",
     "text": [
      "[SYST] Prepare Data\n"
     ]
    },
    {
     "name": "stderr",
     "output_type": "stream",
     "text": [
      "100%|████████████████████████████████████████████| 1280000/1280000 [00:07<00:00, 162288.27it/s]\n"
     ]
    },
    {
     "name": "stdout",
     "output_type": "stream",
     "text": [
      "[SYST] Prepare Data\n"
     ]
    },
    {
     "name": "stderr",
     "output_type": "stream",
     "text": [
      "100%|████████████████████████████████████████████████| 10000/10000 [00:00<00:00, 162084.92it/s]"
     ]
    },
    {
     "name": "stdout",
     "output_type": "stream",
     "text": [
      "[SYST] Epoch 0\n"
     ]
    },
    {
     "name": "stderr",
     "output_type": "stream",
     "text": [
      "\n",
      "100%|████████████████████████████████████████████████████████| 200/200 [00:19<00:00, 10.11it/s]\n"
     ]
    },
    {
     "name": "stdout",
     "output_type": "stream",
     "text": [
      "Epoch 1, Loss: 4.938157374858856\n",
      "[SYST] Epoch 1\n"
     ]
    },
    {
     "name": "stderr",
     "output_type": "stream",
     "text": [
      "100%|████████████████████████████████████████████████████████| 200/200 [00:19<00:00, 10.02it/s]\n"
     ]
    },
    {
     "name": "stdout",
     "output_type": "stream",
     "text": [
      "Epoch 2, Loss: 4.433221490383148\n",
      "[SYST] Epoch 2\n"
     ]
    },
    {
     "name": "stderr",
     "output_type": "stream",
     "text": [
      "100%|████████████████████████████████████████████████████████| 200/200 [00:19<00:00, 10.06it/s]\n"
     ]
    },
    {
     "name": "stdout",
     "output_type": "stream",
     "text": [
      "Epoch 3, Loss: 4.393177802562714\n",
      "[SYST] Epoch 3\n"
     ]
    },
    {
     "name": "stderr",
     "output_type": "stream",
     "text": [
      "100%|████████████████████████████████████████████████████████| 200/200 [00:19<00:00, 10.07it/s]\n"
     ]
    },
    {
     "name": "stdout",
     "output_type": "stream",
     "text": [
      "Epoch 4, Loss: 4.3524732542037965\n",
      "[SYST] Epoch 4\n"
     ]
    },
    {
     "name": "stderr",
     "output_type": "stream",
     "text": [
      "100%|████████████████████████████████████████████████████████| 200/200 [00:19<00:00, 10.04it/s]\n"
     ]
    },
    {
     "name": "stdout",
     "output_type": "stream",
     "text": [
      "Epoch 5, Loss: 4.307112507820129\n",
      "[SYST] Epoch 5\n"
     ]
    },
    {
     "name": "stderr",
     "output_type": "stream",
     "text": [
      "100%|████████████████████████████████████████████████████████| 200/200 [00:19<00:00, 10.04it/s]\n"
     ]
    },
    {
     "name": "stdout",
     "output_type": "stream",
     "text": [
      "Epoch 6, Loss: 4.27055938243866\n",
      "[SYST] Epoch 6\n"
     ]
    },
    {
     "name": "stderr",
     "output_type": "stream",
     "text": [
      "100%|████████████████████████████████████████████████████████| 200/200 [00:19<00:00, 10.02it/s]\n"
     ]
    },
    {
     "name": "stdout",
     "output_type": "stream",
     "text": [
      "Epoch 7, Loss: 4.253051180839538\n",
      "[SYST] Epoch 7\n"
     ]
    },
    {
     "name": "stderr",
     "output_type": "stream",
     "text": [
      "100%|████████████████████████████████████████████████████████| 200/200 [00:20<00:00, 10.00it/s]\n"
     ]
    },
    {
     "name": "stdout",
     "output_type": "stream",
     "text": [
      "Epoch 8, Loss: 4.243886015415192\n",
      "[SYST] Epoch 8\n"
     ]
    },
    {
     "name": "stderr",
     "output_type": "stream",
     "text": [
      "100%|████████████████████████████████████████████████████████| 200/200 [00:19<00:00, 10.06it/s]\n"
     ]
    },
    {
     "name": "stdout",
     "output_type": "stream",
     "text": [
      "Epoch 9, Loss: 4.2381867814064025\n",
      "[SYST] Epoch 9\n"
     ]
    },
    {
     "name": "stderr",
     "output_type": "stream",
     "text": [
      "100%|████████████████████████████████████████████████████████| 200/200 [00:19<00:00, 10.07it/s]\n"
     ]
    },
    {
     "name": "stdout",
     "output_type": "stream",
     "text": [
      "Epoch 10, Loss: 4.234414969682693\n",
      "[SYST] Epoch 0\n"
     ]
    },
    {
     "name": "stderr",
     "output_type": "stream",
     "text": [
      "100%|████████████████████████████████████████████████████████████| 2/2 [00:00<00:00, 13.43it/s]\n"
     ]
    },
    {
     "name": "stdout",
     "output_type": "stream",
     "text": [
      "Test Accuracy: 50.61%\n",
      "[{'accuracy': 0.9983, 'Layer1': {'[[0, 1, 2, 3, 4, 5, 6, 7]]': 0.5013, '[[0, 1]]': 0.5039, '[[0]]': 0.5082}, 'Layer2': {'[[0, 1, 2, 3, 4, 5, 6, 7]]': 0.5037, '[[0, 1]]': 0.5032, '[[0]]': 0.5075}, 'Layer3': {'[[0, 1, 2, 3, 4, 5, 6, 7]]': 0.4925, '[[0, 1]]': 0.5037, '[[0]]': 0.5081}}, {'accuracy': 0.9983, 'Layer1': {'[[0, 1, 2, 3, 4, 5, 6, 7]]': 0.5012, '[[0, 1]]': 0.5059, '[[0]]': 0.4956}, 'Layer2': {'[[0, 1, 2, 3, 4, 5, 6, 7]]': 0.5027, '[[0, 1]]': 0.4957, '[[0]]': 0.493}, 'Layer3': {'[[0, 1, 2, 3, 4, 5, 6, 7]]': 0.4966, '[[0, 1]]': 0.4996, '[[0]]': 0.5071}}, {'accuracy': 0.9906, 'Layer1': {'[[0, 1, 2, 3, 4, 5, 6, 7]]': 0.4964, '[[0, 1]]': 0.5118, '[[0]]': 0.5024}, 'Layer2': {'[[0, 1, 2, 3, 4, 5, 6, 7]]': 0.4993, '[[0, 1]]': 0.4958, '[[0]]': 0.5061}}]\n",
      "Layer3 : [[0, 1, 2, 3, 4, 5, 6, 7]]\n"
     ]
    },
    {
     "name": "stderr",
     "output_type": "stream",
     "text": [
      "100%|█████████████████████████████████████████████| 1280000/1280000 [01:20<00:00, 15946.24it/s]\n",
      "100%|█████████████████████████████████████████████████| 10000/10000 [00:00<00:00, 16850.77it/s]\n"
     ]
    },
    {
     "name": "stdout",
     "output_type": "stream",
     "text": [
      "[SYST] Prepare Data\n"
     ]
    },
    {
     "name": "stderr",
     "output_type": "stream",
     "text": [
      "100%|████████████████████████████████████████████| 1280000/1280000 [00:08<00:00, 145616.29it/s]\n"
     ]
    },
    {
     "name": "stdout",
     "output_type": "stream",
     "text": [
      "[SYST] Prepare Data\n"
     ]
    },
    {
     "name": "stderr",
     "output_type": "stream",
     "text": [
      "100%|████████████████████████████████████████████████| 10000/10000 [00:00<00:00, 147839.28it/s]"
     ]
    },
    {
     "name": "stdout",
     "output_type": "stream",
     "text": [
      "[SYST] Epoch 0\n"
     ]
    },
    {
     "name": "stderr",
     "output_type": "stream",
     "text": [
      "\n",
      "100%|████████████████████████████████████████████████████████| 200/200 [00:19<00:00, 10.05it/s]\n"
     ]
    },
    {
     "name": "stdout",
     "output_type": "stream",
     "text": [
      "Epoch 1, Loss: 3.816695547103882\n",
      "[SYST] Epoch 1\n"
     ]
    },
    {
     "name": "stderr",
     "output_type": "stream",
     "text": [
      "100%|████████████████████████████████████████████████████████| 200/200 [00:19<00:00, 10.03it/s]\n"
     ]
    },
    {
     "name": "stdout",
     "output_type": "stream",
     "text": [
      "Epoch 2, Loss: 3.7944423532485962\n",
      "[SYST] Epoch 2\n"
     ]
    },
    {
     "name": "stderr",
     "output_type": "stream",
     "text": [
      "100%|████████████████████████████████████████████████████████| 200/200 [00:20<00:00,  9.90it/s]\n"
     ]
    },
    {
     "name": "stdout",
     "output_type": "stream",
     "text": [
      "Epoch 3, Loss: 3.7927664482593535\n",
      "[SYST] Epoch 3\n"
     ]
    },
    {
     "name": "stderr",
     "output_type": "stream",
     "text": [
      "100%|████████████████████████████████████████████████████████| 200/200 [00:20<00:00,  9.89it/s]\n"
     ]
    },
    {
     "name": "stdout",
     "output_type": "stream",
     "text": [
      "Epoch 4, Loss: 3.792064048051834\n",
      "[SYST] Epoch 4\n"
     ]
    },
    {
     "name": "stderr",
     "output_type": "stream",
     "text": [
      "100%|████████████████████████████████████████████████████████| 200/200 [00:20<00:00,  9.85it/s]\n"
     ]
    },
    {
     "name": "stdout",
     "output_type": "stream",
     "text": [
      "Epoch 5, Loss: 3.791320413351059\n",
      "[SYST] Epoch 5\n"
     ]
    },
    {
     "name": "stderr",
     "output_type": "stream",
     "text": [
      "100%|████████████████████████████████████████████████████████| 200/200 [00:20<00:00,  9.86it/s]\n"
     ]
    },
    {
     "name": "stdout",
     "output_type": "stream",
     "text": [
      "Epoch 6, Loss: 3.791029980182648\n",
      "[SYST] Epoch 6\n"
     ]
    },
    {
     "name": "stderr",
     "output_type": "stream",
     "text": [
      "100%|████████████████████████████████████████████████████████| 200/200 [00:20<00:00,  9.86it/s]\n"
     ]
    },
    {
     "name": "stdout",
     "output_type": "stream",
     "text": [
      "Epoch 7, Loss: 3.7907859802246096\n",
      "[SYST] Epoch 7\n"
     ]
    },
    {
     "name": "stderr",
     "output_type": "stream",
     "text": [
      "100%|████████████████████████████████████████████████████████| 200/200 [00:20<00:00,  9.90it/s]\n"
     ]
    },
    {
     "name": "stdout",
     "output_type": "stream",
     "text": [
      "Epoch 8, Loss: 3.7903492212295533\n",
      "[SYST] Epoch 8\n"
     ]
    },
    {
     "name": "stderr",
     "output_type": "stream",
     "text": [
      "100%|████████████████████████████████████████████████████████| 200/200 [00:20<00:00,  9.89it/s]\n"
     ]
    },
    {
     "name": "stdout",
     "output_type": "stream",
     "text": [
      "Epoch 9, Loss: 3.790140382051468\n",
      "[SYST] Epoch 9\n"
     ]
    },
    {
     "name": "stderr",
     "output_type": "stream",
     "text": [
      "100%|████████████████████████████████████████████████████████| 200/200 [00:20<00:00,  9.88it/s]\n"
     ]
    },
    {
     "name": "stdout",
     "output_type": "stream",
     "text": [
      "Epoch 10, Loss: 3.7898546087741853\n",
      "[SYST] Epoch 0\n"
     ]
    },
    {
     "name": "stderr",
     "output_type": "stream",
     "text": [
      "100%|████████████████████████████████████████████████████████████| 2/2 [00:00<00:00, 13.28it/s]\n"
     ]
    },
    {
     "name": "stdout",
     "output_type": "stream",
     "text": [
      "Test Accuracy: 49.49%\n",
      "[{'accuracy': 0.9983, 'Layer1': {'[[0, 1, 2, 3, 4, 5, 6, 7]]': 0.5013, '[[0, 1]]': 0.5039, '[[0]]': 0.5082}, 'Layer2': {'[[0, 1, 2, 3, 4, 5, 6, 7]]': 0.5037, '[[0, 1]]': 0.5032, '[[0]]': 0.5075}, 'Layer3': {'[[0, 1, 2, 3, 4, 5, 6, 7]]': 0.4925, '[[0, 1]]': 0.5037, '[[0]]': 0.5081}}, {'accuracy': 0.9983, 'Layer1': {'[[0, 1, 2, 3, 4, 5, 6, 7]]': 0.5012, '[[0, 1]]': 0.5059, '[[0]]': 0.4956}, 'Layer2': {'[[0, 1, 2, 3, 4, 5, 6, 7]]': 0.5027, '[[0, 1]]': 0.4957, '[[0]]': 0.493}, 'Layer3': {'[[0, 1, 2, 3, 4, 5, 6, 7]]': 0.4966, '[[0, 1]]': 0.4996, '[[0]]': 0.5071}}, {'accuracy': 0.9906, 'Layer1': {'[[0, 1, 2, 3, 4, 5, 6, 7]]': 0.4964, '[[0, 1]]': 0.5118, '[[0]]': 0.5024}, 'Layer2': {'[[0, 1, 2, 3, 4, 5, 6, 7]]': 0.4993, '[[0, 1]]': 0.4958, '[[0]]': 0.5061}, 'Layer3': {'[[0, 1, 2, 3, 4, 5, 6, 7]]': 0.4949}}]\n",
      "Layer3 : [[0, 1]]\n"
     ]
    },
    {
     "name": "stderr",
     "output_type": "stream",
     "text": [
      "100%|█████████████████████████████████████████████| 1280000/1280000 [01:22<00:00, 15437.67it/s]\n",
      "100%|█████████████████████████████████████████████████| 10000/10000 [00:00<00:00, 16821.08it/s]\n"
     ]
    },
    {
     "name": "stdout",
     "output_type": "stream",
     "text": [
      "[SYST] Prepare Data\n"
     ]
    },
    {
     "name": "stderr",
     "output_type": "stream",
     "text": [
      "100%|████████████████████████████████████████████| 1280000/1280000 [00:08<00:00, 159253.65it/s]\n"
     ]
    },
    {
     "name": "stdout",
     "output_type": "stream",
     "text": [
      "[SYST] Prepare Data\n"
     ]
    },
    {
     "name": "stderr",
     "output_type": "stream",
     "text": [
      "100%|████████████████████████████████████████████████| 10000/10000 [00:00<00:00, 159349.58it/s]"
     ]
    },
    {
     "name": "stdout",
     "output_type": "stream",
     "text": [
      "[SYST] Epoch 0\n"
     ]
    },
    {
     "name": "stderr",
     "output_type": "stream",
     "text": [
      "\n",
      "100%|████████████████████████████████████████████████████████| 200/200 [00:19<00:00, 10.08it/s]\n"
     ]
    },
    {
     "name": "stdout",
     "output_type": "stream",
     "text": [
      "Epoch 1, Loss: 4.036118614673614\n",
      "[SYST] Epoch 1\n"
     ]
    },
    {
     "name": "stderr",
     "output_type": "stream",
     "text": [
      "100%|████████████████████████████████████████████████████████| 200/200 [00:20<00:00, 10.00it/s]\n"
     ]
    },
    {
     "name": "stdout",
     "output_type": "stream",
     "text": [
      "Epoch 2, Loss: 3.8059428000450133\n",
      "[SYST] Epoch 2\n"
     ]
    },
    {
     "name": "stderr",
     "output_type": "stream",
     "text": [
      "100%|████████████████████████████████████████████████████████| 200/200 [00:20<00:00,  9.96it/s]\n"
     ]
    },
    {
     "name": "stdout",
     "output_type": "stream",
     "text": [
      "Epoch 3, Loss: 3.7972964417934416\n",
      "[SYST] Epoch 3\n"
     ]
    },
    {
     "name": "stderr",
     "output_type": "stream",
     "text": [
      "100%|████████████████████████████████████████████████████████| 200/200 [00:20<00:00,  9.98it/s]\n"
     ]
    },
    {
     "name": "stdout",
     "output_type": "stream",
     "text": [
      "Epoch 4, Loss: 3.795708144903183\n",
      "[SYST] Epoch 4\n"
     ]
    },
    {
     "name": "stderr",
     "output_type": "stream",
     "text": [
      "100%|████████████████████████████████████████████████████████| 200/200 [00:20<00:00,  9.95it/s]\n"
     ]
    },
    {
     "name": "stdout",
     "output_type": "stream",
     "text": [
      "Epoch 5, Loss: 3.7952459383010866\n",
      "[SYST] Epoch 5\n"
     ]
    },
    {
     "name": "stderr",
     "output_type": "stream",
     "text": [
      "100%|████████████████████████████████████████████████████████| 200/200 [00:20<00:00,  9.94it/s]\n"
     ]
    },
    {
     "name": "stdout",
     "output_type": "stream",
     "text": [
      "Epoch 6, Loss: 3.7947009229660034\n",
      "[SYST] Epoch 6\n"
     ]
    },
    {
     "name": "stderr",
     "output_type": "stream",
     "text": [
      "100%|████████████████████████████████████████████████████████| 200/200 [00:20<00:00,  9.92it/s]\n"
     ]
    },
    {
     "name": "stdout",
     "output_type": "stream",
     "text": [
      "Epoch 7, Loss: 3.7947074294090273\n",
      "[SYST] Epoch 7\n"
     ]
    },
    {
     "name": "stderr",
     "output_type": "stream",
     "text": [
      "100%|████████████████████████████████████████████████████████| 200/200 [00:20<00:00,  9.95it/s]\n"
     ]
    },
    {
     "name": "stdout",
     "output_type": "stream",
     "text": [
      "Epoch 8, Loss: 3.7943775844573975\n",
      "[SYST] Epoch 8\n"
     ]
    },
    {
     "name": "stderr",
     "output_type": "stream",
     "text": [
      "100%|████████████████████████████████████████████████████████| 200/200 [00:20<00:00,  9.94it/s]\n"
     ]
    },
    {
     "name": "stdout",
     "output_type": "stream",
     "text": [
      "Epoch 9, Loss: 3.7942693424224854\n",
      "[SYST] Epoch 9\n"
     ]
    },
    {
     "name": "stderr",
     "output_type": "stream",
     "text": [
      "100%|████████████████████████████████████████████████████████| 200/200 [00:20<00:00,  9.93it/s]\n"
     ]
    },
    {
     "name": "stdout",
     "output_type": "stream",
     "text": [
      "Epoch 10, Loss: 3.7945663285255433\n",
      "[SYST] Epoch 0\n"
     ]
    },
    {
     "name": "stderr",
     "output_type": "stream",
     "text": [
      "100%|████████████████████████████████████████████████████████████| 2/2 [00:00<00:00, 13.42it/s]\n"
     ]
    },
    {
     "name": "stdout",
     "output_type": "stream",
     "text": [
      "Test Accuracy: 50.15%\n",
      "[{'accuracy': 0.9983, 'Layer1': {'[[0, 1, 2, 3, 4, 5, 6, 7]]': 0.5013, '[[0, 1]]': 0.5039, '[[0]]': 0.5082}, 'Layer2': {'[[0, 1, 2, 3, 4, 5, 6, 7]]': 0.5037, '[[0, 1]]': 0.5032, '[[0]]': 0.5075}, 'Layer3': {'[[0, 1, 2, 3, 4, 5, 6, 7]]': 0.4925, '[[0, 1]]': 0.5037, '[[0]]': 0.5081}}, {'accuracy': 0.9983, 'Layer1': {'[[0, 1, 2, 3, 4, 5, 6, 7]]': 0.5012, '[[0, 1]]': 0.5059, '[[0]]': 0.4956}, 'Layer2': {'[[0, 1, 2, 3, 4, 5, 6, 7]]': 0.5027, '[[0, 1]]': 0.4957, '[[0]]': 0.493}, 'Layer3': {'[[0, 1, 2, 3, 4, 5, 6, 7]]': 0.4966, '[[0, 1]]': 0.4996, '[[0]]': 0.5071}}, {'accuracy': 0.9906, 'Layer1': {'[[0, 1, 2, 3, 4, 5, 6, 7]]': 0.4964, '[[0, 1]]': 0.5118, '[[0]]': 0.5024}, 'Layer2': {'[[0, 1, 2, 3, 4, 5, 6, 7]]': 0.4993, '[[0, 1]]': 0.4958, '[[0]]': 0.5061}, 'Layer3': {'[[0, 1, 2, 3, 4, 5, 6, 7]]': 0.4949, '[[0, 1]]': 0.5015}}]\n",
      "Layer3 : [[0]]\n"
     ]
    },
    {
     "name": "stderr",
     "output_type": "stream",
     "text": [
      "100%|█████████████████████████████████████████████| 1280000/1280000 [01:22<00:00, 15564.88it/s]\n",
      "100%|█████████████████████████████████████████████████| 10000/10000 [00:00<00:00, 16795.80it/s]\n"
     ]
    },
    {
     "name": "stdout",
     "output_type": "stream",
     "text": [
      "[SYST] Prepare Data\n"
     ]
    },
    {
     "name": "stderr",
     "output_type": "stream",
     "text": [
      "100%|████████████████████████████████████████████| 1280000/1280000 [00:07<00:00, 163850.01it/s]\n"
     ]
    },
    {
     "name": "stdout",
     "output_type": "stream",
     "text": [
      "[SYST] Prepare Data\n"
     ]
    },
    {
     "name": "stderr",
     "output_type": "stream",
     "text": [
      "100%|████████████████████████████████████████████████| 10000/10000 [00:00<00:00, 164080.99it/s]"
     ]
    },
    {
     "name": "stdout",
     "output_type": "stream",
     "text": [
      "[SYST] Epoch 0\n"
     ]
    },
    {
     "name": "stderr",
     "output_type": "stream",
     "text": [
      "\n",
      "100%|████████████████████████████████████████████████████████| 200/200 [00:19<00:00, 10.14it/s]\n"
     ]
    },
    {
     "name": "stdout",
     "output_type": "stream",
     "text": [
      "Epoch 1, Loss: 4.129160922765732\n",
      "[SYST] Epoch 1\n"
     ]
    },
    {
     "name": "stderr",
     "output_type": "stream",
     "text": [
      "100%|████████████████████████████████████████████████████████| 200/200 [00:19<00:00, 10.03it/s]\n"
     ]
    },
    {
     "name": "stdout",
     "output_type": "stream",
     "text": [
      "Epoch 2, Loss: 3.8011577248573305\n",
      "[SYST] Epoch 2\n"
     ]
    },
    {
     "name": "stderr",
     "output_type": "stream",
     "text": [
      "100%|████████████████████████████████████████████████████████| 200/200 [00:20<00:00,  9.96it/s]\n"
     ]
    },
    {
     "name": "stdout",
     "output_type": "stream",
     "text": [
      "Epoch 3, Loss: 3.7891587054729463\n",
      "[SYST] Epoch 3\n"
     ]
    },
    {
     "name": "stderr",
     "output_type": "stream",
     "text": [
      "100%|████████████████████████████████████████████████████████| 200/200 [00:20<00:00,  9.99it/s]\n"
     ]
    },
    {
     "name": "stdout",
     "output_type": "stream",
     "text": [
      "Epoch 4, Loss: 3.78487641453743\n",
      "[SYST] Epoch 4\n"
     ]
    },
    {
     "name": "stderr",
     "output_type": "stream",
     "text": [
      "100%|████████████████████████████████████████████████████████| 200/200 [00:20<00:00,  9.99it/s]\n"
     ]
    },
    {
     "name": "stdout",
     "output_type": "stream",
     "text": [
      "Epoch 5, Loss: 3.782679715156555\n",
      "[SYST] Epoch 5\n"
     ]
    },
    {
     "name": "stderr",
     "output_type": "stream",
     "text": [
      "100%|████████████████████████████████████████████████████████| 200/200 [00:19<00:00, 10.03it/s]\n"
     ]
    },
    {
     "name": "stdout",
     "output_type": "stream",
     "text": [
      "Epoch 6, Loss: 3.781204491853714\n",
      "[SYST] Epoch 6\n"
     ]
    },
    {
     "name": "stderr",
     "output_type": "stream",
     "text": [
      "100%|████████████████████████████████████████████████████████| 200/200 [00:19<00:00, 10.07it/s]\n"
     ]
    },
    {
     "name": "stdout",
     "output_type": "stream",
     "text": [
      "Epoch 7, Loss: 3.7804945802688597\n",
      "[SYST] Epoch 7\n"
     ]
    },
    {
     "name": "stderr",
     "output_type": "stream",
     "text": [
      "100%|████████████████████████████████████████████████████████| 200/200 [00:19<00:00, 10.09it/s]\n"
     ]
    },
    {
     "name": "stdout",
     "output_type": "stream",
     "text": [
      "Epoch 8, Loss: 3.77989070892334\n",
      "[SYST] Epoch 8\n"
     ]
    },
    {
     "name": "stderr",
     "output_type": "stream",
     "text": [
      "100%|████████████████████████████████████████████████████████| 200/200 [00:19<00:00, 10.08it/s]\n"
     ]
    },
    {
     "name": "stdout",
     "output_type": "stream",
     "text": [
      "Epoch 9, Loss: 3.779714868068695\n",
      "[SYST] Epoch 9\n"
     ]
    },
    {
     "name": "stderr",
     "output_type": "stream",
     "text": [
      "100%|████████████████████████████████████████████████████████| 200/200 [00:20<00:00,  9.95it/s]\n"
     ]
    },
    {
     "name": "stdout",
     "output_type": "stream",
     "text": [
      "Epoch 10, Loss: 3.779572832584381\n",
      "[SYST] Epoch 0\n"
     ]
    },
    {
     "name": "stderr",
     "output_type": "stream",
     "text": [
      "100%|████████████████████████████████████████████████████████████| 2/2 [00:00<00:00, 13.31it/s]\n"
     ]
    },
    {
     "name": "stdout",
     "output_type": "stream",
     "text": [
      "Test Accuracy: 49.77%\n",
      "[{'accuracy': 0.9983, 'Layer1': {'[[0, 1, 2, 3, 4, 5, 6, 7]]': 0.5013, '[[0, 1]]': 0.5039, '[[0]]': 0.5082}, 'Layer2': {'[[0, 1, 2, 3, 4, 5, 6, 7]]': 0.5037, '[[0, 1]]': 0.5032, '[[0]]': 0.5075}, 'Layer3': {'[[0, 1, 2, 3, 4, 5, 6, 7]]': 0.4925, '[[0, 1]]': 0.5037, '[[0]]': 0.5081}}, {'accuracy': 0.9983, 'Layer1': {'[[0, 1, 2, 3, 4, 5, 6, 7]]': 0.5012, '[[0, 1]]': 0.5059, '[[0]]': 0.4956}, 'Layer2': {'[[0, 1, 2, 3, 4, 5, 6, 7]]': 0.5027, '[[0, 1]]': 0.4957, '[[0]]': 0.493}, 'Layer3': {'[[0, 1, 2, 3, 4, 5, 6, 7]]': 0.4966, '[[0, 1]]': 0.4996, '[[0]]': 0.5071}}, {'accuracy': 0.9906, 'Layer1': {'[[0, 1, 2, 3, 4, 5, 6, 7]]': 0.4964, '[[0, 1]]': 0.5118, '[[0]]': 0.5024}, 'Layer2': {'[[0, 1, 2, 3, 4, 5, 6, 7]]': 0.4993, '[[0, 1]]': 0.4958, '[[0]]': 0.5061}, 'Layer3': {'[[0, 1, 2, 3, 4, 5, 6, 7]]': 0.4949, '[[0, 1]]': 0.5015, '[[0]]': 0.4977}}]\n"
     ]
    },
    {
     "name": "stderr",
     "output_type": "stream",
     "text": [
      "100%|████████████████████████████████████████████| 1048576/1048576 [00:10<00:00, 100308.49it/s]\n",
      "100%|█████████████████████████████████████████████████████| 1024/1024 [00:08<00:00, 121.03it/s]\n"
     ]
    },
    {
     "name": "stdout",
     "output_type": "stream",
     "text": [
      "Epoch 1, Loss: 0.44966094999108464\n"
     ]
    },
    {
     "name": "stderr",
     "output_type": "stream",
     "text": [
      "100%|█████████████████████████████████████████████████████| 1024/1024 [00:09<00:00, 111.85it/s]\n"
     ]
    },
    {
     "name": "stdout",
     "output_type": "stream",
     "text": [
      "Epoch 2, Loss: 0.08144174698281859\n"
     ]
    },
    {
     "name": "stderr",
     "output_type": "stream",
     "text": [
      "100%|█████████████████████████████████████████████████████| 1024/1024 [00:09<00:00, 112.39it/s]\n"
     ]
    },
    {
     "name": "stdout",
     "output_type": "stream",
     "text": [
      "Epoch 3, Loss: 0.023478864025037183\n"
     ]
    },
    {
     "name": "stderr",
     "output_type": "stream",
     "text": [
      "100%|████████████████████████████████████████████████| 10000/10000 [00:00<00:00, 100433.99it/s]\n",
      "100%|█████████████████████████████████████████████████████████| 10/10 [00:00<00:00, 161.91it/s]\n"
     ]
    },
    {
     "name": "stdout",
     "output_type": "stream",
     "text": [
      "Test Accuracy: 0.9955\n",
      "Layer1 : [[0, 1, 2, 3, 4, 5, 6, 7]]\n"
     ]
    },
    {
     "name": "stderr",
     "output_type": "stream",
     "text": [
      "100%|█████████████████████████████████████████████| 1280000/1280000 [01:23<00:00, 15300.51it/s]\n",
      "100%|█████████████████████████████████████████████████| 10000/10000 [00:00<00:00, 16836.50it/s]\n"
     ]
    },
    {
     "name": "stdout",
     "output_type": "stream",
     "text": [
      "[SYST] Prepare Data\n"
     ]
    },
    {
     "name": "stderr",
     "output_type": "stream",
     "text": [
      "100%|████████████████████████████████████████████| 1280000/1280000 [00:08<00:00, 146021.71it/s]\n"
     ]
    },
    {
     "name": "stdout",
     "output_type": "stream",
     "text": [
      "[SYST] Prepare Data\n"
     ]
    },
    {
     "name": "stderr",
     "output_type": "stream",
     "text": [
      "100%|████████████████████████████████████████████████| 10000/10000 [00:00<00:00, 148006.22it/s]"
     ]
    },
    {
     "name": "stdout",
     "output_type": "stream",
     "text": [
      "[SYST] Epoch 0\n"
     ]
    },
    {
     "name": "stderr",
     "output_type": "stream",
     "text": [
      "\n",
      "100%|████████████████████████████████████████████████████████| 200/200 [00:20<00:00,  9.98it/s]\n"
     ]
    },
    {
     "name": "stdout",
     "output_type": "stream",
     "text": [
      "Epoch 1, Loss: 5.224042608737945\n",
      "[SYST] Epoch 1\n"
     ]
    },
    {
     "name": "stderr",
     "output_type": "stream",
     "text": [
      "100%|████████████████████████████████████████████████████████| 200/200 [00:20<00:00,  9.86it/s]\n"
     ]
    },
    {
     "name": "stdout",
     "output_type": "stream",
     "text": [
      "Epoch 2, Loss: 3.7603924083709717\n",
      "[SYST] Epoch 2\n"
     ]
    },
    {
     "name": "stderr",
     "output_type": "stream",
     "text": [
      "100%|████████████████████████████████████████████████████████| 200/200 [00:20<00:00,  9.92it/s]\n"
     ]
    },
    {
     "name": "stdout",
     "output_type": "stream",
     "text": [
      "Epoch 3, Loss: 3.4460925948619843\n",
      "[SYST] Epoch 3\n"
     ]
    },
    {
     "name": "stderr",
     "output_type": "stream",
     "text": [
      "100%|████████████████████████████████████████████████████████| 200/200 [00:20<00:00,  9.92it/s]\n"
     ]
    },
    {
     "name": "stdout",
     "output_type": "stream",
     "text": [
      "Epoch 4, Loss: 3.286556074619293\n",
      "[SYST] Epoch 4\n"
     ]
    },
    {
     "name": "stderr",
     "output_type": "stream",
     "text": [
      "100%|████████████████████████████████████████████████████████| 200/200 [00:20<00:00,  9.86it/s]\n"
     ]
    },
    {
     "name": "stdout",
     "output_type": "stream",
     "text": [
      "Epoch 5, Loss: 3.1952398478984834\n",
      "[SYST] Epoch 5\n"
     ]
    },
    {
     "name": "stderr",
     "output_type": "stream",
     "text": [
      "100%|████████████████████████████████████████████████████████| 200/200 [00:20<00:00,  9.87it/s]\n"
     ]
    },
    {
     "name": "stdout",
     "output_type": "stream",
     "text": [
      "Epoch 6, Loss: 3.133715867996216\n",
      "[SYST] Epoch 6\n"
     ]
    },
    {
     "name": "stderr",
     "output_type": "stream",
     "text": [
      "100%|████████████████████████████████████████████████████████| 200/200 [00:20<00:00,  9.84it/s]\n"
     ]
    },
    {
     "name": "stdout",
     "output_type": "stream",
     "text": [
      "Epoch 7, Loss: 3.095544195175171\n",
      "[SYST] Epoch 7\n"
     ]
    },
    {
     "name": "stderr",
     "output_type": "stream",
     "text": [
      "100%|████████████████████████████████████████████████████████| 200/200 [00:20<00:00,  9.84it/s]\n"
     ]
    },
    {
     "name": "stdout",
     "output_type": "stream",
     "text": [
      "Epoch 8, Loss: 3.07182222366333\n",
      "[SYST] Epoch 8\n"
     ]
    },
    {
     "name": "stderr",
     "output_type": "stream",
     "text": [
      "100%|████████████████████████████████████████████████████████| 200/200 [00:20<00:00,  9.87it/s]\n"
     ]
    },
    {
     "name": "stdout",
     "output_type": "stream",
     "text": [
      "Epoch 9, Loss: 3.057246981859207\n",
      "[SYST] Epoch 9\n"
     ]
    },
    {
     "name": "stderr",
     "output_type": "stream",
     "text": [
      "100%|████████████████████████████████████████████████████████| 200/200 [00:20<00:00,  9.87it/s]\n"
     ]
    },
    {
     "name": "stdout",
     "output_type": "stream",
     "text": [
      "Epoch 10, Loss: 3.0468629109859466\n",
      "[SYST] Epoch 0\n"
     ]
    },
    {
     "name": "stderr",
     "output_type": "stream",
     "text": [
      "100%|████████████████████████████████████████████████████████████| 2/2 [00:00<00:00, 13.33it/s]\n"
     ]
    },
    {
     "name": "stdout",
     "output_type": "stream",
     "text": [
      "Test Accuracy: 50.24%\n",
      "[{'accuracy': 0.9983, 'Layer1': {'[[0, 1, 2, 3, 4, 5, 6, 7]]': 0.5013, '[[0, 1]]': 0.5039, '[[0]]': 0.5082}, 'Layer2': {'[[0, 1, 2, 3, 4, 5, 6, 7]]': 0.5037, '[[0, 1]]': 0.5032, '[[0]]': 0.5075}, 'Layer3': {'[[0, 1, 2, 3, 4, 5, 6, 7]]': 0.4925, '[[0, 1]]': 0.5037, '[[0]]': 0.5081}}, {'accuracy': 0.9983, 'Layer1': {'[[0, 1, 2, 3, 4, 5, 6, 7]]': 0.5012, '[[0, 1]]': 0.5059, '[[0]]': 0.4956}, 'Layer2': {'[[0, 1, 2, 3, 4, 5, 6, 7]]': 0.5027, '[[0, 1]]': 0.4957, '[[0]]': 0.493}, 'Layer3': {'[[0, 1, 2, 3, 4, 5, 6, 7]]': 0.4966, '[[0, 1]]': 0.4996, '[[0]]': 0.5071}}, {'accuracy': 0.9906, 'Layer1': {'[[0, 1, 2, 3, 4, 5, 6, 7]]': 0.4964, '[[0, 1]]': 0.5118, '[[0]]': 0.5024}, 'Layer2': {'[[0, 1, 2, 3, 4, 5, 6, 7]]': 0.4993, '[[0, 1]]': 0.4958, '[[0]]': 0.5061}, 'Layer3': {'[[0, 1, 2, 3, 4, 5, 6, 7]]': 0.4949, '[[0, 1]]': 0.5015, '[[0]]': 0.4977}}, {'accuracy': 0.9955, 'Layer1': {'[[0, 1, 2, 3, 4, 5, 6, 7]]': 0.5024}}]\n",
      "Layer1 : [[0, 1]]\n"
     ]
    },
    {
     "name": "stderr",
     "output_type": "stream",
     "text": [
      "100%|█████████████████████████████████████████████| 1280000/1280000 [01:23<00:00, 15403.06it/s]\n",
      "100%|█████████████████████████████████████████████████| 10000/10000 [00:00<00:00, 16856.69it/s]\n"
     ]
    },
    {
     "name": "stdout",
     "output_type": "stream",
     "text": [
      "[SYST] Prepare Data\n"
     ]
    },
    {
     "name": "stderr",
     "output_type": "stream",
     "text": [
      "100%|████████████████████████████████████████████| 1280000/1280000 [00:08<00:00, 158521.39it/s]\n"
     ]
    },
    {
     "name": "stdout",
     "output_type": "stream",
     "text": [
      "[SYST] Prepare Data\n"
     ]
    },
    {
     "name": "stderr",
     "output_type": "stream",
     "text": [
      "100%|████████████████████████████████████████████████| 10000/10000 [00:00<00:00, 160107.49it/s]"
     ]
    },
    {
     "name": "stdout",
     "output_type": "stream",
     "text": [
      "[SYST] Epoch 0\n"
     ]
    },
    {
     "name": "stderr",
     "output_type": "stream",
     "text": [
      "\n",
      "100%|████████████████████████████████████████████████████████| 200/200 [00:19<00:00, 10.12it/s]\n"
     ]
    },
    {
     "name": "stdout",
     "output_type": "stream",
     "text": [
      "Epoch 1, Loss: 4.48506854891777\n",
      "[SYST] Epoch 1\n"
     ]
    },
    {
     "name": "stderr",
     "output_type": "stream",
     "text": [
      "100%|████████████████████████████████████████████████████████| 200/200 [00:19<00:00, 10.03it/s]\n"
     ]
    },
    {
     "name": "stdout",
     "output_type": "stream",
     "text": [
      "Epoch 2, Loss: 3.916705093383789\n",
      "[SYST] Epoch 2\n"
     ]
    },
    {
     "name": "stderr",
     "output_type": "stream",
     "text": [
      "100%|████████████████████████████████████████████████████████| 200/200 [00:20<00:00,  9.97it/s]\n"
     ]
    },
    {
     "name": "stdout",
     "output_type": "stream",
     "text": [
      "Epoch 3, Loss: 3.7872287583351136\n",
      "[SYST] Epoch 3\n"
     ]
    },
    {
     "name": "stderr",
     "output_type": "stream",
     "text": [
      "100%|████████████████████████████████████████████████████████| 200/200 [00:20<00:00,  9.95it/s]\n"
     ]
    },
    {
     "name": "stdout",
     "output_type": "stream",
     "text": [
      "Epoch 4, Loss: 3.733581312894821\n",
      "[SYST] Epoch 4\n"
     ]
    },
    {
     "name": "stderr",
     "output_type": "stream",
     "text": [
      "100%|████████████████████████████████████████████████████████| 200/200 [00:19<00:00, 10.02it/s]\n"
     ]
    },
    {
     "name": "stdout",
     "output_type": "stream",
     "text": [
      "Epoch 5, Loss: 3.697382309436798\n",
      "[SYST] Epoch 5\n"
     ]
    },
    {
     "name": "stderr",
     "output_type": "stream",
     "text": [
      "100%|████████████████████████████████████████████████████████| 200/200 [00:20<00:00,  9.99it/s]\n"
     ]
    },
    {
     "name": "stdout",
     "output_type": "stream",
     "text": [
      "Epoch 6, Loss: 3.67708198428154\n",
      "[SYST] Epoch 6\n"
     ]
    },
    {
     "name": "stderr",
     "output_type": "stream",
     "text": [
      "100%|████████████████████████████████████████████████████████| 200/200 [00:20<00:00,  9.97it/s]\n"
     ]
    },
    {
     "name": "stdout",
     "output_type": "stream",
     "text": [
      "Epoch 7, Loss: 3.6689218378067014\n",
      "[SYST] Epoch 7\n"
     ]
    },
    {
     "name": "stderr",
     "output_type": "stream",
     "text": [
      "100%|████████████████████████████████████████████████████████| 200/200 [00:20<00:00,  9.99it/s]\n"
     ]
    },
    {
     "name": "stdout",
     "output_type": "stream",
     "text": [
      "Epoch 8, Loss: 3.664694985151291\n",
      "[SYST] Epoch 8\n"
     ]
    },
    {
     "name": "stderr",
     "output_type": "stream",
     "text": [
      "100%|████████████████████████████████████████████████████████| 200/200 [00:19<00:00, 10.01it/s]\n"
     ]
    },
    {
     "name": "stdout",
     "output_type": "stream",
     "text": [
      "Epoch 9, Loss: 3.6622139763832093\n",
      "[SYST] Epoch 9\n"
     ]
    },
    {
     "name": "stderr",
     "output_type": "stream",
     "text": [
      "100%|████████████████████████████████████████████████████████| 200/200 [00:19<00:00, 10.01it/s]\n"
     ]
    },
    {
     "name": "stdout",
     "output_type": "stream",
     "text": [
      "Epoch 10, Loss: 3.6592510759830477\n",
      "[SYST] Epoch 0\n"
     ]
    },
    {
     "name": "stderr",
     "output_type": "stream",
     "text": [
      "100%|████████████████████████████████████████████████████████████| 2/2 [00:00<00:00, 13.36it/s]\n"
     ]
    },
    {
     "name": "stdout",
     "output_type": "stream",
     "text": [
      "Test Accuracy: 50.25%\n",
      "[{'accuracy': 0.9983, 'Layer1': {'[[0, 1, 2, 3, 4, 5, 6, 7]]': 0.5013, '[[0, 1]]': 0.5039, '[[0]]': 0.5082}, 'Layer2': {'[[0, 1, 2, 3, 4, 5, 6, 7]]': 0.5037, '[[0, 1]]': 0.5032, '[[0]]': 0.5075}, 'Layer3': {'[[0, 1, 2, 3, 4, 5, 6, 7]]': 0.4925, '[[0, 1]]': 0.5037, '[[0]]': 0.5081}}, {'accuracy': 0.9983, 'Layer1': {'[[0, 1, 2, 3, 4, 5, 6, 7]]': 0.5012, '[[0, 1]]': 0.5059, '[[0]]': 0.4956}, 'Layer2': {'[[0, 1, 2, 3, 4, 5, 6, 7]]': 0.5027, '[[0, 1]]': 0.4957, '[[0]]': 0.493}, 'Layer3': {'[[0, 1, 2, 3, 4, 5, 6, 7]]': 0.4966, '[[0, 1]]': 0.4996, '[[0]]': 0.5071}}, {'accuracy': 0.9906, 'Layer1': {'[[0, 1, 2, 3, 4, 5, 6, 7]]': 0.4964, '[[0, 1]]': 0.5118, '[[0]]': 0.5024}, 'Layer2': {'[[0, 1, 2, 3, 4, 5, 6, 7]]': 0.4993, '[[0, 1]]': 0.4958, '[[0]]': 0.5061}, 'Layer3': {'[[0, 1, 2, 3, 4, 5, 6, 7]]': 0.4949, '[[0, 1]]': 0.5015, '[[0]]': 0.4977}}, {'accuracy': 0.9955, 'Layer1': {'[[0, 1, 2, 3, 4, 5, 6, 7]]': 0.5024, '[[0, 1]]': 0.5025}}]\n",
      "Layer1 : [[0]]\n"
     ]
    },
    {
     "name": "stderr",
     "output_type": "stream",
     "text": [
      "100%|█████████████████████████████████████████████| 1280000/1280000 [01:22<00:00, 15483.86it/s]\n",
      "100%|█████████████████████████████████████████████████| 10000/10000 [00:00<00:00, 16894.82it/s]\n"
     ]
    },
    {
     "name": "stdout",
     "output_type": "stream",
     "text": [
      "[SYST] Prepare Data\n"
     ]
    },
    {
     "name": "stderr",
     "output_type": "stream",
     "text": [
      "100%|████████████████████████████████████████████| 1280000/1280000 [00:07<00:00, 162043.92it/s]\n"
     ]
    },
    {
     "name": "stdout",
     "output_type": "stream",
     "text": [
      "[SYST] Prepare Data\n"
     ]
    },
    {
     "name": "stderr",
     "output_type": "stream",
     "text": [
      "100%|████████████████████████████████████████████████| 10000/10000 [00:00<00:00, 160368.89it/s]"
     ]
    },
    {
     "name": "stdout",
     "output_type": "stream",
     "text": [
      "[SYST] Epoch 0\n"
     ]
    },
    {
     "name": "stderr",
     "output_type": "stream",
     "text": [
      "\n",
      "100%|████████████████████████████████████████████████████████| 200/200 [00:19<00:00, 10.06it/s]\n"
     ]
    },
    {
     "name": "stdout",
     "output_type": "stream",
     "text": [
      "Epoch 1, Loss: 4.57106281042099\n",
      "[SYST] Epoch 1\n"
     ]
    },
    {
     "name": "stderr",
     "output_type": "stream",
     "text": [
      "100%|████████████████████████████████████████████████████████| 200/200 [00:19<00:00, 10.01it/s]\n"
     ]
    },
    {
     "name": "stdout",
     "output_type": "stream",
     "text": [
      "Epoch 2, Loss: 4.007787389755249\n",
      "[SYST] Epoch 2\n"
     ]
    },
    {
     "name": "stderr",
     "output_type": "stream",
     "text": [
      "100%|████████████████████████████████████████████████████████| 200/200 [00:20<00:00,  9.98it/s]\n"
     ]
    },
    {
     "name": "stdout",
     "output_type": "stream",
     "text": [
      "Epoch 3, Loss: 3.959127863645554\n",
      "[SYST] Epoch 3\n"
     ]
    },
    {
     "name": "stderr",
     "output_type": "stream",
     "text": [
      "100%|████████████████████████████████████████████████████████| 200/200 [00:20<00:00,  9.93it/s]\n"
     ]
    },
    {
     "name": "stdout",
     "output_type": "stream",
     "text": [
      "Epoch 4, Loss: 3.947329794168472\n",
      "[SYST] Epoch 4\n"
     ]
    },
    {
     "name": "stderr",
     "output_type": "stream",
     "text": [
      "100%|████████████████████████████████████████████████████████| 200/200 [00:20<00:00,  9.96it/s]\n"
     ]
    },
    {
     "name": "stdout",
     "output_type": "stream",
     "text": [
      "Epoch 5, Loss: 3.934836158752441\n",
      "[SYST] Epoch 5\n"
     ]
    },
    {
     "name": "stderr",
     "output_type": "stream",
     "text": [
      "100%|████████████████████████████████████████████████████████| 200/200 [00:20<00:00,  9.98it/s]\n"
     ]
    },
    {
     "name": "stdout",
     "output_type": "stream",
     "text": [
      "Epoch 6, Loss: 3.927377089262009\n",
      "[SYST] Epoch 6\n"
     ]
    },
    {
     "name": "stderr",
     "output_type": "stream",
     "text": [
      "100%|████████████████████████████████████████████████████████| 200/200 [00:20<00:00,  9.96it/s]\n"
     ]
    },
    {
     "name": "stdout",
     "output_type": "stream",
     "text": [
      "Epoch 7, Loss: 3.926369230747223\n",
      "[SYST] Epoch 7\n"
     ]
    },
    {
     "name": "stderr",
     "output_type": "stream",
     "text": [
      "100%|████████████████████████████████████████████████████████| 200/200 [00:20<00:00,  9.95it/s]\n"
     ]
    },
    {
     "name": "stdout",
     "output_type": "stream",
     "text": [
      "Epoch 8, Loss: 3.925600211620331\n",
      "[SYST] Epoch 8\n"
     ]
    },
    {
     "name": "stderr",
     "output_type": "stream",
     "text": [
      "100%|████████████████████████████████████████████████████████| 200/200 [00:20<00:00,  9.99it/s]\n"
     ]
    },
    {
     "name": "stdout",
     "output_type": "stream",
     "text": [
      "Epoch 9, Loss: 3.9255086076259613\n",
      "[SYST] Epoch 9\n"
     ]
    },
    {
     "name": "stderr",
     "output_type": "stream",
     "text": [
      "100%|████████████████████████████████████████████████████████| 200/200 [00:20<00:00,  9.95it/s]\n"
     ]
    },
    {
     "name": "stdout",
     "output_type": "stream",
     "text": [
      "Epoch 10, Loss: 3.9254897201061247\n",
      "[SYST] Epoch 0\n"
     ]
    },
    {
     "name": "stderr",
     "output_type": "stream",
     "text": [
      "100%|████████████████████████████████████████████████████████████| 2/2 [00:00<00:00, 13.24it/s]\n"
     ]
    },
    {
     "name": "stdout",
     "output_type": "stream",
     "text": [
      "Test Accuracy: 49.74%\n",
      "[{'accuracy': 0.9983, 'Layer1': {'[[0, 1, 2, 3, 4, 5, 6, 7]]': 0.5013, '[[0, 1]]': 0.5039, '[[0]]': 0.5082}, 'Layer2': {'[[0, 1, 2, 3, 4, 5, 6, 7]]': 0.5037, '[[0, 1]]': 0.5032, '[[0]]': 0.5075}, 'Layer3': {'[[0, 1, 2, 3, 4, 5, 6, 7]]': 0.4925, '[[0, 1]]': 0.5037, '[[0]]': 0.5081}}, {'accuracy': 0.9983, 'Layer1': {'[[0, 1, 2, 3, 4, 5, 6, 7]]': 0.5012, '[[0, 1]]': 0.5059, '[[0]]': 0.4956}, 'Layer2': {'[[0, 1, 2, 3, 4, 5, 6, 7]]': 0.5027, '[[0, 1]]': 0.4957, '[[0]]': 0.493}, 'Layer3': {'[[0, 1, 2, 3, 4, 5, 6, 7]]': 0.4966, '[[0, 1]]': 0.4996, '[[0]]': 0.5071}}, {'accuracy': 0.9906, 'Layer1': {'[[0, 1, 2, 3, 4, 5, 6, 7]]': 0.4964, '[[0, 1]]': 0.5118, '[[0]]': 0.5024}, 'Layer2': {'[[0, 1, 2, 3, 4, 5, 6, 7]]': 0.4993, '[[0, 1]]': 0.4958, '[[0]]': 0.5061}, 'Layer3': {'[[0, 1, 2, 3, 4, 5, 6, 7]]': 0.4949, '[[0, 1]]': 0.5015, '[[0]]': 0.4977}}, {'accuracy': 0.9955, 'Layer1': {'[[0, 1, 2, 3, 4, 5, 6, 7]]': 0.5024, '[[0, 1]]': 0.5025, '[[0]]': 0.4974}}]\n",
      "Layer2 : [[0, 1, 2, 3, 4, 5, 6, 7]]\n"
     ]
    },
    {
     "name": "stderr",
     "output_type": "stream",
     "text": [
      "100%|█████████████████████████████████████████████| 1280000/1280000 [01:21<00:00, 15772.32it/s]\n",
      "100%|█████████████████████████████████████████████████| 10000/10000 [00:00<00:00, 16854.71it/s]\n"
     ]
    },
    {
     "name": "stdout",
     "output_type": "stream",
     "text": [
      "[SYST] Prepare Data\n"
     ]
    },
    {
     "name": "stderr",
     "output_type": "stream",
     "text": [
      "100%|████████████████████████████████████████████| 1280000/1280000 [00:08<00:00, 145346.48it/s]\n"
     ]
    },
    {
     "name": "stdout",
     "output_type": "stream",
     "text": [
      "[SYST] Prepare Data\n"
     ]
    },
    {
     "name": "stderr",
     "output_type": "stream",
     "text": [
      "100%|████████████████████████████████████████████████| 10000/10000 [00:00<00:00, 147879.94it/s]"
     ]
    },
    {
     "name": "stdout",
     "output_type": "stream",
     "text": [
      "[SYST] Epoch 0\n"
     ]
    },
    {
     "name": "stderr",
     "output_type": "stream",
     "text": [
      "\n",
      "100%|████████████████████████████████████████████████████████| 200/200 [00:19<00:00, 10.11it/s]\n"
     ]
    },
    {
     "name": "stdout",
     "output_type": "stream",
     "text": [
      "Epoch 1, Loss: 3.355834492444992\n",
      "[SYST] Epoch 1\n"
     ]
    },
    {
     "name": "stderr",
     "output_type": "stream",
     "text": [
      "100%|████████████████████████████████████████████████████████| 200/200 [00:19<00:00, 10.10it/s]\n"
     ]
    },
    {
     "name": "stdout",
     "output_type": "stream",
     "text": [
      "Epoch 2, Loss: 3.21225296497345\n",
      "[SYST] Epoch 2\n"
     ]
    },
    {
     "name": "stderr",
     "output_type": "stream",
     "text": [
      "100%|████████████████████████████████████████████████████████| 200/200 [00:20<00:00,  9.93it/s]\n"
     ]
    },
    {
     "name": "stdout",
     "output_type": "stream",
     "text": [
      "Epoch 3, Loss: 3.159201375246048\n",
      "[SYST] Epoch 3\n"
     ]
    },
    {
     "name": "stderr",
     "output_type": "stream",
     "text": [
      "100%|████████████████████████████████████████████████████████| 200/200 [00:20<00:00,  9.85it/s]\n"
     ]
    },
    {
     "name": "stdout",
     "output_type": "stream",
     "text": [
      "Epoch 4, Loss: 3.134313464164734\n",
      "[SYST] Epoch 4\n"
     ]
    },
    {
     "name": "stderr",
     "output_type": "stream",
     "text": [
      "100%|████████████████████████████████████████████████████████| 200/200 [00:20<00:00,  9.92it/s]\n"
     ]
    },
    {
     "name": "stdout",
     "output_type": "stream",
     "text": [
      "Epoch 5, Loss: 3.123048264980316\n",
      "[SYST] Epoch 5\n"
     ]
    },
    {
     "name": "stderr",
     "output_type": "stream",
     "text": [
      "100%|████████████████████████████████████████████████████████| 200/200 [00:20<00:00,  9.89it/s]\n"
     ]
    },
    {
     "name": "stdout",
     "output_type": "stream",
     "text": [
      "Epoch 6, Loss: 3.116973181962967\n",
      "[SYST] Epoch 6\n"
     ]
    },
    {
     "name": "stderr",
     "output_type": "stream",
     "text": [
      "100%|████████████████████████████████████████████████████████| 200/200 [00:20<00:00,  9.86it/s]\n"
     ]
    },
    {
     "name": "stdout",
     "output_type": "stream",
     "text": [
      "Epoch 7, Loss: 3.1128158175945284\n",
      "[SYST] Epoch 7\n"
     ]
    },
    {
     "name": "stderr",
     "output_type": "stream",
     "text": [
      "100%|████████████████████████████████████████████████████████| 200/200 [00:20<00:00,  9.89it/s]\n"
     ]
    },
    {
     "name": "stdout",
     "output_type": "stream",
     "text": [
      "Epoch 8, Loss: 3.109233466386795\n",
      "[SYST] Epoch 8\n"
     ]
    },
    {
     "name": "stderr",
     "output_type": "stream",
     "text": [
      "100%|████████████████████████████████████████████████████████| 200/200 [00:20<00:00,  9.98it/s]\n"
     ]
    },
    {
     "name": "stdout",
     "output_type": "stream",
     "text": [
      "Epoch 9, Loss: 3.10571600317955\n",
      "[SYST] Epoch 9\n"
     ]
    },
    {
     "name": "stderr",
     "output_type": "stream",
     "text": [
      "100%|████████████████████████████████████████████████████████| 200/200 [00:20<00:00,  9.94it/s]\n"
     ]
    },
    {
     "name": "stdout",
     "output_type": "stream",
     "text": [
      "Epoch 10, Loss: 3.1031209123134613\n",
      "[SYST] Epoch 0\n"
     ]
    },
    {
     "name": "stderr",
     "output_type": "stream",
     "text": [
      "100%|████████████████████████████████████████████████████████████| 2/2 [00:00<00:00, 13.34it/s]\n"
     ]
    },
    {
     "name": "stdout",
     "output_type": "stream",
     "text": [
      "Test Accuracy: 50.68%\n",
      "[{'accuracy': 0.9983, 'Layer1': {'[[0, 1, 2, 3, 4, 5, 6, 7]]': 0.5013, '[[0, 1]]': 0.5039, '[[0]]': 0.5082}, 'Layer2': {'[[0, 1, 2, 3, 4, 5, 6, 7]]': 0.5037, '[[0, 1]]': 0.5032, '[[0]]': 0.5075}, 'Layer3': {'[[0, 1, 2, 3, 4, 5, 6, 7]]': 0.4925, '[[0, 1]]': 0.5037, '[[0]]': 0.5081}}, {'accuracy': 0.9983, 'Layer1': {'[[0, 1, 2, 3, 4, 5, 6, 7]]': 0.5012, '[[0, 1]]': 0.5059, '[[0]]': 0.4956}, 'Layer2': {'[[0, 1, 2, 3, 4, 5, 6, 7]]': 0.5027, '[[0, 1]]': 0.4957, '[[0]]': 0.493}, 'Layer3': {'[[0, 1, 2, 3, 4, 5, 6, 7]]': 0.4966, '[[0, 1]]': 0.4996, '[[0]]': 0.5071}}, {'accuracy': 0.9906, 'Layer1': {'[[0, 1, 2, 3, 4, 5, 6, 7]]': 0.4964, '[[0, 1]]': 0.5118, '[[0]]': 0.5024}, 'Layer2': {'[[0, 1, 2, 3, 4, 5, 6, 7]]': 0.4993, '[[0, 1]]': 0.4958, '[[0]]': 0.5061}, 'Layer3': {'[[0, 1, 2, 3, 4, 5, 6, 7]]': 0.4949, '[[0, 1]]': 0.5015, '[[0]]': 0.4977}}, {'accuracy': 0.9955, 'Layer1': {'[[0, 1, 2, 3, 4, 5, 6, 7]]': 0.5024, '[[0, 1]]': 0.5025, '[[0]]': 0.4974}, 'Layer2': {'[[0, 1, 2, 3, 4, 5, 6, 7]]': 0.5068}}]\n",
      "Layer2 : [[0, 1]]\n"
     ]
    },
    {
     "name": "stderr",
     "output_type": "stream",
     "text": [
      "100%|█████████████████████████████████████████████| 1280000/1280000 [01:23<00:00, 15335.53it/s]\n",
      "100%|█████████████████████████████████████████████████| 10000/10000 [00:00<00:00, 16858.27it/s]\n"
     ]
    },
    {
     "name": "stdout",
     "output_type": "stream",
     "text": [
      "[SYST] Prepare Data\n"
     ]
    },
    {
     "name": "stderr",
     "output_type": "stream",
     "text": [
      "100%|████████████████████████████████████████████| 1280000/1280000 [00:08<00:00, 159154.88it/s]\n"
     ]
    },
    {
     "name": "stdout",
     "output_type": "stream",
     "text": [
      "[SYST] Prepare Data\n"
     ]
    },
    {
     "name": "stderr",
     "output_type": "stream",
     "text": [
      "100%|████████████████████████████████████████████████| 10000/10000 [00:00<00:00, 157633.19it/s]"
     ]
    },
    {
     "name": "stdout",
     "output_type": "stream",
     "text": [
      "[SYST] Epoch 0\n"
     ]
    },
    {
     "name": "stderr",
     "output_type": "stream",
     "text": [
      "\n",
      "100%|████████████████████████████████████████████████████████| 200/200 [00:19<00:00, 10.09it/s]\n"
     ]
    },
    {
     "name": "stdout",
     "output_type": "stream",
     "text": [
      "Epoch 1, Loss: 5.303115952014923\n",
      "[SYST] Epoch 1\n"
     ]
    },
    {
     "name": "stderr",
     "output_type": "stream",
     "text": [
      "100%|████████████████████████████████████████████████████████| 200/200 [00:20<00:00, 10.00it/s]\n"
     ]
    },
    {
     "name": "stdout",
     "output_type": "stream",
     "text": [
      "Epoch 2, Loss: 3.914515540599823\n",
      "[SYST] Epoch 2\n"
     ]
    },
    {
     "name": "stderr",
     "output_type": "stream",
     "text": [
      "100%|████████████████████████████████████████████████████████| 200/200 [00:20<00:00, 10.00it/s]\n"
     ]
    },
    {
     "name": "stdout",
     "output_type": "stream",
     "text": [
      "Epoch 3, Loss: 3.5671865510940552\n",
      "[SYST] Epoch 3\n"
     ]
    },
    {
     "name": "stderr",
     "output_type": "stream",
     "text": [
      "100%|████████████████████████████████████████████████████████| 200/200 [00:20<00:00,  9.96it/s]\n"
     ]
    },
    {
     "name": "stdout",
     "output_type": "stream",
     "text": [
      "Epoch 4, Loss: 3.5060797572135924\n",
      "[SYST] Epoch 4\n"
     ]
    },
    {
     "name": "stderr",
     "output_type": "stream",
     "text": [
      "100%|████████████████████████████████████████████████████████| 200/200 [00:20<00:00,  9.97it/s]\n"
     ]
    },
    {
     "name": "stdout",
     "output_type": "stream",
     "text": [
      "Epoch 5, Loss: 3.4859769892692567\n",
      "[SYST] Epoch 5\n"
     ]
    },
    {
     "name": "stderr",
     "output_type": "stream",
     "text": [
      "100%|████████████████████████████████████████████████████████| 200/200 [00:19<00:00, 10.04it/s]\n"
     ]
    },
    {
     "name": "stdout",
     "output_type": "stream",
     "text": [
      "Epoch 6, Loss: 3.4793537819385527\n",
      "[SYST] Epoch 6\n"
     ]
    },
    {
     "name": "stderr",
     "output_type": "stream",
     "text": [
      "100%|████████████████████████████████████████████████████████| 200/200 [00:20<00:00,  9.95it/s]\n"
     ]
    },
    {
     "name": "stdout",
     "output_type": "stream",
     "text": [
      "Epoch 7, Loss: 3.4765698099136353\n",
      "[SYST] Epoch 7\n"
     ]
    },
    {
     "name": "stderr",
     "output_type": "stream",
     "text": [
      "100%|████████████████████████████████████████████████████████| 200/200 [00:20<00:00,  9.97it/s]\n"
     ]
    },
    {
     "name": "stdout",
     "output_type": "stream",
     "text": [
      "Epoch 8, Loss: 3.4741334223747256\n",
      "[SYST] Epoch 8\n"
     ]
    },
    {
     "name": "stderr",
     "output_type": "stream",
     "text": [
      "100%|████████████████████████████████████████████████████████| 200/200 [00:20<00:00,  9.94it/s]\n"
     ]
    },
    {
     "name": "stdout",
     "output_type": "stream",
     "text": [
      "Epoch 9, Loss: 3.471312667131424\n",
      "[SYST] Epoch 9\n"
     ]
    },
    {
     "name": "stderr",
     "output_type": "stream",
     "text": [
      "100%|████████████████████████████████████████████████████████| 200/200 [00:20<00:00,  9.93it/s]\n"
     ]
    },
    {
     "name": "stdout",
     "output_type": "stream",
     "text": [
      "Epoch 10, Loss: 3.4690284085273744\n",
      "[SYST] Epoch 0\n"
     ]
    },
    {
     "name": "stderr",
     "output_type": "stream",
     "text": [
      "100%|████████████████████████████████████████████████████████████| 2/2 [00:00<00:00, 13.41it/s]\n"
     ]
    },
    {
     "name": "stdout",
     "output_type": "stream",
     "text": [
      "Test Accuracy: 50.74%\n",
      "[{'accuracy': 0.9983, 'Layer1': {'[[0, 1, 2, 3, 4, 5, 6, 7]]': 0.5013, '[[0, 1]]': 0.5039, '[[0]]': 0.5082}, 'Layer2': {'[[0, 1, 2, 3, 4, 5, 6, 7]]': 0.5037, '[[0, 1]]': 0.5032, '[[0]]': 0.5075}, 'Layer3': {'[[0, 1, 2, 3, 4, 5, 6, 7]]': 0.4925, '[[0, 1]]': 0.5037, '[[0]]': 0.5081}}, {'accuracy': 0.9983, 'Layer1': {'[[0, 1, 2, 3, 4, 5, 6, 7]]': 0.5012, '[[0, 1]]': 0.5059, '[[0]]': 0.4956}, 'Layer2': {'[[0, 1, 2, 3, 4, 5, 6, 7]]': 0.5027, '[[0, 1]]': 0.4957, '[[0]]': 0.493}, 'Layer3': {'[[0, 1, 2, 3, 4, 5, 6, 7]]': 0.4966, '[[0, 1]]': 0.4996, '[[0]]': 0.5071}}, {'accuracy': 0.9906, 'Layer1': {'[[0, 1, 2, 3, 4, 5, 6, 7]]': 0.4964, '[[0, 1]]': 0.5118, '[[0]]': 0.5024}, 'Layer2': {'[[0, 1, 2, 3, 4, 5, 6, 7]]': 0.4993, '[[0, 1]]': 0.4958, '[[0]]': 0.5061}, 'Layer3': {'[[0, 1, 2, 3, 4, 5, 6, 7]]': 0.4949, '[[0, 1]]': 0.5015, '[[0]]': 0.4977}}, {'accuracy': 0.9955, 'Layer1': {'[[0, 1, 2, 3, 4, 5, 6, 7]]': 0.5024, '[[0, 1]]': 0.5025, '[[0]]': 0.4974}, 'Layer2': {'[[0, 1, 2, 3, 4, 5, 6, 7]]': 0.5068, '[[0, 1]]': 0.5074}}]\n",
      "Layer2 : [[0]]\n"
     ]
    },
    {
     "name": "stderr",
     "output_type": "stream",
     "text": [
      "100%|█████████████████████████████████████████████| 1280000/1280000 [01:21<00:00, 15739.52it/s]\n",
      "100%|█████████████████████████████████████████████████| 10000/10000 [00:00<00:00, 16694.05it/s]\n"
     ]
    },
    {
     "name": "stdout",
     "output_type": "stream",
     "text": [
      "[SYST] Prepare Data\n"
     ]
    },
    {
     "name": "stderr",
     "output_type": "stream",
     "text": [
      "100%|████████████████████████████████████████████| 1280000/1280000 [00:07<00:00, 162285.94it/s]\n"
     ]
    },
    {
     "name": "stdout",
     "output_type": "stream",
     "text": [
      "[SYST] Prepare Data\n"
     ]
    },
    {
     "name": "stderr",
     "output_type": "stream",
     "text": [
      "100%|████████████████████████████████████████████████| 10000/10000 [00:00<00:00, 164367.13it/s]"
     ]
    },
    {
     "name": "stdout",
     "output_type": "stream",
     "text": [
      "[SYST] Epoch 0\n"
     ]
    },
    {
     "name": "stderr",
     "output_type": "stream",
     "text": [
      "\n",
      "100%|████████████████████████████████████████████████████████| 200/200 [00:19<00:00, 10.12it/s]\n"
     ]
    },
    {
     "name": "stdout",
     "output_type": "stream",
     "text": [
      "Epoch 1, Loss: 4.336030309200287\n",
      "[SYST] Epoch 1\n"
     ]
    },
    {
     "name": "stderr",
     "output_type": "stream",
     "text": [
      "100%|████████████████████████████████████████████████████████| 200/200 [00:20<00:00,  9.93it/s]\n"
     ]
    },
    {
     "name": "stdout",
     "output_type": "stream",
     "text": [
      "Epoch 2, Loss: 3.659235031604767\n",
      "[SYST] Epoch 2\n"
     ]
    },
    {
     "name": "stderr",
     "output_type": "stream",
     "text": [
      "100%|████████████████████████████████████████████████████████| 200/200 [00:19<00:00, 10.02it/s]\n"
     ]
    },
    {
     "name": "stdout",
     "output_type": "stream",
     "text": [
      "Epoch 3, Loss: 3.508292155265808\n",
      "[SYST] Epoch 3\n"
     ]
    },
    {
     "name": "stderr",
     "output_type": "stream",
     "text": [
      "100%|████████████████████████████████████████████████████████| 200/200 [00:19<00:00, 10.04it/s]\n"
     ]
    },
    {
     "name": "stdout",
     "output_type": "stream",
     "text": [
      "Epoch 4, Loss: 3.491425632238388\n",
      "[SYST] Epoch 4\n"
     ]
    },
    {
     "name": "stderr",
     "output_type": "stream",
     "text": [
      "100%|████████████████████████████████████████████████████████| 200/200 [00:19<00:00, 10.03it/s]\n"
     ]
    },
    {
     "name": "stdout",
     "output_type": "stream",
     "text": [
      "Epoch 5, Loss: 3.4866342997550963\n",
      "[SYST] Epoch 5\n"
     ]
    },
    {
     "name": "stderr",
     "output_type": "stream",
     "text": [
      "100%|████████████████████████████████████████████████████████| 200/200 [00:19<00:00, 10.00it/s]\n"
     ]
    },
    {
     "name": "stdout",
     "output_type": "stream",
     "text": [
      "Epoch 6, Loss: 3.485404886007309\n",
      "[SYST] Epoch 6\n"
     ]
    },
    {
     "name": "stderr",
     "output_type": "stream",
     "text": [
      "100%|████████████████████████████████████████████████████████| 200/200 [00:19<00:00, 10.00it/s]\n"
     ]
    },
    {
     "name": "stdout",
     "output_type": "stream",
     "text": [
      "Epoch 7, Loss: 3.4852996456623075\n",
      "[SYST] Epoch 7\n"
     ]
    },
    {
     "name": "stderr",
     "output_type": "stream",
     "text": [
      "100%|████████████████████████████████████████████████████████| 200/200 [00:19<00:00, 10.03it/s]\n"
     ]
    },
    {
     "name": "stdout",
     "output_type": "stream",
     "text": [
      "Epoch 8, Loss: 3.485474715232849\n",
      "[SYST] Epoch 8\n"
     ]
    },
    {
     "name": "stderr",
     "output_type": "stream",
     "text": [
      "100%|████████████████████████████████████████████████████████| 200/200 [00:19<00:00, 10.03it/s]\n"
     ]
    },
    {
     "name": "stdout",
     "output_type": "stream",
     "text": [
      "Epoch 9, Loss: 3.485521422624588\n",
      "[SYST] Epoch 9\n"
     ]
    },
    {
     "name": "stderr",
     "output_type": "stream",
     "text": [
      "100%|████████████████████████████████████████████████████████| 200/200 [00:20<00:00,  9.99it/s]\n"
     ]
    },
    {
     "name": "stdout",
     "output_type": "stream",
     "text": [
      "Epoch 10, Loss: 3.485306348800659\n",
      "[SYST] Epoch 0\n"
     ]
    },
    {
     "name": "stderr",
     "output_type": "stream",
     "text": [
      "100%|████████████████████████████████████████████████████████████| 2/2 [00:00<00:00, 13.25it/s]\n"
     ]
    },
    {
     "name": "stdout",
     "output_type": "stream",
     "text": [
      "Test Accuracy: 50.21%\n",
      "[{'accuracy': 0.9983, 'Layer1': {'[[0, 1, 2, 3, 4, 5, 6, 7]]': 0.5013, '[[0, 1]]': 0.5039, '[[0]]': 0.5082}, 'Layer2': {'[[0, 1, 2, 3, 4, 5, 6, 7]]': 0.5037, '[[0, 1]]': 0.5032, '[[0]]': 0.5075}, 'Layer3': {'[[0, 1, 2, 3, 4, 5, 6, 7]]': 0.4925, '[[0, 1]]': 0.5037, '[[0]]': 0.5081}}, {'accuracy': 0.9983, 'Layer1': {'[[0, 1, 2, 3, 4, 5, 6, 7]]': 0.5012, '[[0, 1]]': 0.5059, '[[0]]': 0.4956}, 'Layer2': {'[[0, 1, 2, 3, 4, 5, 6, 7]]': 0.5027, '[[0, 1]]': 0.4957, '[[0]]': 0.493}, 'Layer3': {'[[0, 1, 2, 3, 4, 5, 6, 7]]': 0.4966, '[[0, 1]]': 0.4996, '[[0]]': 0.5071}}, {'accuracy': 0.9906, 'Layer1': {'[[0, 1, 2, 3, 4, 5, 6, 7]]': 0.4964, '[[0, 1]]': 0.5118, '[[0]]': 0.5024}, 'Layer2': {'[[0, 1, 2, 3, 4, 5, 6, 7]]': 0.4993, '[[0, 1]]': 0.4958, '[[0]]': 0.5061}, 'Layer3': {'[[0, 1, 2, 3, 4, 5, 6, 7]]': 0.4949, '[[0, 1]]': 0.5015, '[[0]]': 0.4977}}, {'accuracy': 0.9955, 'Layer1': {'[[0, 1, 2, 3, 4, 5, 6, 7]]': 0.5024, '[[0, 1]]': 0.5025, '[[0]]': 0.4974}, 'Layer2': {'[[0, 1, 2, 3, 4, 5, 6, 7]]': 0.5068, '[[0, 1]]': 0.5074, '[[0]]': 0.5021}}]\n",
      "Layer3 : [[0, 1, 2, 3, 4, 5, 6, 7]]\n"
     ]
    },
    {
     "name": "stderr",
     "output_type": "stream",
     "text": [
      "100%|█████████████████████████████████████████████| 1280000/1280000 [01:23<00:00, 15313.38it/s]\n",
      "100%|█████████████████████████████████████████████████| 10000/10000 [00:00<00:00, 16698.32it/s]\n"
     ]
    },
    {
     "name": "stdout",
     "output_type": "stream",
     "text": [
      "[SYST] Prepare Data\n"
     ]
    },
    {
     "name": "stderr",
     "output_type": "stream",
     "text": [
      "100%|████████████████████████████████████████████| 1280000/1280000 [00:08<00:00, 145293.50it/s]\n"
     ]
    },
    {
     "name": "stdout",
     "output_type": "stream",
     "text": [
      "[SYST] Prepare Data\n"
     ]
    },
    {
     "name": "stderr",
     "output_type": "stream",
     "text": [
      "100%|████████████████████████████████████████████████| 10000/10000 [00:00<00:00, 146589.92it/s]"
     ]
    },
    {
     "name": "stdout",
     "output_type": "stream",
     "text": [
      "[SYST] Epoch 0\n"
     ]
    },
    {
     "name": "stderr",
     "output_type": "stream",
     "text": [
      "\n",
      "100%|████████████████████████████████████████████████████████| 200/200 [00:19<00:00, 10.12it/s]\n"
     ]
    },
    {
     "name": "stdout",
     "output_type": "stream",
     "text": [
      "Epoch 1, Loss: 3.4753569161891935\n",
      "[SYST] Epoch 1\n"
     ]
    },
    {
     "name": "stderr",
     "output_type": "stream",
     "text": [
      "100%|████████████████████████████████████████████████████████| 200/200 [00:20<00:00,  9.99it/s]\n"
     ]
    },
    {
     "name": "stdout",
     "output_type": "stream",
     "text": [
      "Epoch 2, Loss: 3.417765920162201\n",
      "[SYST] Epoch 2\n"
     ]
    },
    {
     "name": "stderr",
     "output_type": "stream",
     "text": [
      "100%|████████████████████████████████████████████████████████| 200/200 [00:20<00:00,  9.87it/s]\n"
     ]
    },
    {
     "name": "stdout",
     "output_type": "stream",
     "text": [
      "Epoch 3, Loss: 3.416185609102249\n",
      "[SYST] Epoch 3\n"
     ]
    },
    {
     "name": "stderr",
     "output_type": "stream",
     "text": [
      "100%|████████████████████████████████████████████████████████| 200/200 [00:20<00:00,  9.91it/s]\n"
     ]
    },
    {
     "name": "stdout",
     "output_type": "stream",
     "text": [
      "Epoch 4, Loss: 3.415691967010498\n",
      "[SYST] Epoch 4\n"
     ]
    },
    {
     "name": "stderr",
     "output_type": "stream",
     "text": [
      "100%|████████████████████████████████████████████████████████| 200/200 [00:20<00:00,  9.87it/s]\n"
     ]
    },
    {
     "name": "stdout",
     "output_type": "stream",
     "text": [
      "Epoch 5, Loss: 3.4154259872436525\n",
      "[SYST] Epoch 5\n"
     ]
    },
    {
     "name": "stderr",
     "output_type": "stream",
     "text": [
      "100%|████████████████████████████████████████████████████████| 200/200 [00:20<00:00,  9.87it/s]\n"
     ]
    },
    {
     "name": "stdout",
     "output_type": "stream",
     "text": [
      "Epoch 6, Loss: 3.415297867059708\n",
      "[SYST] Epoch 6\n"
     ]
    },
    {
     "name": "stderr",
     "output_type": "stream",
     "text": [
      "100%|████████████████████████████████████████████████████████| 200/200 [00:20<00:00,  9.85it/s]\n"
     ]
    },
    {
     "name": "stdout",
     "output_type": "stream",
     "text": [
      "Epoch 7, Loss: 3.415131449699402\n",
      "[SYST] Epoch 7\n"
     ]
    },
    {
     "name": "stderr",
     "output_type": "stream",
     "text": [
      "100%|████████████████████████████████████████████████████████| 200/200 [00:20<00:00,  9.91it/s]\n"
     ]
    },
    {
     "name": "stdout",
     "output_type": "stream",
     "text": [
      "Epoch 8, Loss: 3.4149184942245485\n",
      "[SYST] Epoch 8\n"
     ]
    },
    {
     "name": "stderr",
     "output_type": "stream",
     "text": [
      "100%|████████████████████████████████████████████████████████| 200/200 [00:20<00:00,  9.93it/s]\n"
     ]
    },
    {
     "name": "stdout",
     "output_type": "stream",
     "text": [
      "Epoch 9, Loss: 3.414681966304779\n",
      "[SYST] Epoch 9\n"
     ]
    },
    {
     "name": "stderr",
     "output_type": "stream",
     "text": [
      "100%|████████████████████████████████████████████████████████| 200/200 [00:20<00:00,  9.93it/s]\n"
     ]
    },
    {
     "name": "stdout",
     "output_type": "stream",
     "text": [
      "Epoch 10, Loss: 3.4147120094299317\n",
      "[SYST] Epoch 0\n"
     ]
    },
    {
     "name": "stderr",
     "output_type": "stream",
     "text": [
      "100%|████████████████████████████████████████████████████████████| 2/2 [00:00<00:00, 13.34it/s]\n"
     ]
    },
    {
     "name": "stdout",
     "output_type": "stream",
     "text": [
      "Test Accuracy: 50.36%\n",
      "[{'accuracy': 0.9983, 'Layer1': {'[[0, 1, 2, 3, 4, 5, 6, 7]]': 0.5013, '[[0, 1]]': 0.5039, '[[0]]': 0.5082}, 'Layer2': {'[[0, 1, 2, 3, 4, 5, 6, 7]]': 0.5037, '[[0, 1]]': 0.5032, '[[0]]': 0.5075}, 'Layer3': {'[[0, 1, 2, 3, 4, 5, 6, 7]]': 0.4925, '[[0, 1]]': 0.5037, '[[0]]': 0.5081}}, {'accuracy': 0.9983, 'Layer1': {'[[0, 1, 2, 3, 4, 5, 6, 7]]': 0.5012, '[[0, 1]]': 0.5059, '[[0]]': 0.4956}, 'Layer2': {'[[0, 1, 2, 3, 4, 5, 6, 7]]': 0.5027, '[[0, 1]]': 0.4957, '[[0]]': 0.493}, 'Layer3': {'[[0, 1, 2, 3, 4, 5, 6, 7]]': 0.4966, '[[0, 1]]': 0.4996, '[[0]]': 0.5071}}, {'accuracy': 0.9906, 'Layer1': {'[[0, 1, 2, 3, 4, 5, 6, 7]]': 0.4964, '[[0, 1]]': 0.5118, '[[0]]': 0.5024}, 'Layer2': {'[[0, 1, 2, 3, 4, 5, 6, 7]]': 0.4993, '[[0, 1]]': 0.4958, '[[0]]': 0.5061}, 'Layer3': {'[[0, 1, 2, 3, 4, 5, 6, 7]]': 0.4949, '[[0, 1]]': 0.5015, '[[0]]': 0.4977}}, {'accuracy': 0.9955, 'Layer1': {'[[0, 1, 2, 3, 4, 5, 6, 7]]': 0.5024, '[[0, 1]]': 0.5025, '[[0]]': 0.4974}, 'Layer2': {'[[0, 1, 2, 3, 4, 5, 6, 7]]': 0.5068, '[[0, 1]]': 0.5074, '[[0]]': 0.5021}, 'Layer3': {'[[0, 1, 2, 3, 4, 5, 6, 7]]': 0.5036}}]\n",
      "Layer3 : [[0, 1]]\n"
     ]
    },
    {
     "name": "stderr",
     "output_type": "stream",
     "text": [
      "100%|█████████████████████████████████████████████| 1280000/1280000 [01:22<00:00, 15456.09it/s]\n",
      "100%|█████████████████████████████████████████████████| 10000/10000 [00:00<00:00, 16727.78it/s]\n"
     ]
    },
    {
     "name": "stdout",
     "output_type": "stream",
     "text": [
      "[SYST] Prepare Data\n"
     ]
    },
    {
     "name": "stderr",
     "output_type": "stream",
     "text": [
      "100%|████████████████████████████████████████████| 1280000/1280000 [00:08<00:00, 158371.52it/s]\n"
     ]
    },
    {
     "name": "stdout",
     "output_type": "stream",
     "text": [
      "[SYST] Prepare Data\n"
     ]
    },
    {
     "name": "stderr",
     "output_type": "stream",
     "text": [
      "100%|████████████████████████████████████████████████| 10000/10000 [00:00<00:00, 159440.44it/s]"
     ]
    },
    {
     "name": "stdout",
     "output_type": "stream",
     "text": [
      "[SYST] Epoch 0\n"
     ]
    },
    {
     "name": "stderr",
     "output_type": "stream",
     "text": [
      "\n",
      "100%|████████████████████████████████████████████████████████| 200/200 [00:19<00:00, 10.10it/s]\n"
     ]
    },
    {
     "name": "stdout",
     "output_type": "stream",
     "text": [
      "Epoch 1, Loss: 3.6774644565582277\n",
      "[SYST] Epoch 1\n"
     ]
    },
    {
     "name": "stderr",
     "output_type": "stream",
     "text": [
      "100%|████████████████████████████████████████████████████████| 200/200 [00:19<00:00, 10.00it/s]\n"
     ]
    },
    {
     "name": "stdout",
     "output_type": "stream",
     "text": [
      "Epoch 2, Loss: 3.4265242516994476\n",
      "[SYST] Epoch 2\n"
     ]
    },
    {
     "name": "stderr",
     "output_type": "stream",
     "text": [
      "100%|████████████████████████████████████████████████████████| 200/200 [00:19<00:00, 10.00it/s]\n"
     ]
    },
    {
     "name": "stdout",
     "output_type": "stream",
     "text": [
      "Epoch 3, Loss: 3.4254510521888735\n",
      "[SYST] Epoch 3\n"
     ]
    },
    {
     "name": "stderr",
     "output_type": "stream",
     "text": [
      "100%|████████████████████████████████████████████████████████| 200/200 [00:19<00:00, 10.00it/s]\n"
     ]
    },
    {
     "name": "stdout",
     "output_type": "stream",
     "text": [
      "Epoch 4, Loss: 3.4252237212657928\n",
      "[SYST] Epoch 4\n"
     ]
    },
    {
     "name": "stderr",
     "output_type": "stream",
     "text": [
      "100%|████████████████████████████████████████████████████████| 200/200 [00:19<00:00, 10.01it/s]\n"
     ]
    },
    {
     "name": "stdout",
     "output_type": "stream",
     "text": [
      "Epoch 5, Loss: 3.4251630079746245\n",
      "[SYST] Epoch 5\n"
     ]
    },
    {
     "name": "stderr",
     "output_type": "stream",
     "text": [
      "100%|████████████████████████████████████████████████████████| 200/200 [00:19<00:00, 10.03it/s]\n"
     ]
    },
    {
     "name": "stdout",
     "output_type": "stream",
     "text": [
      "Epoch 6, Loss: 3.4250081634521483\n",
      "[SYST] Epoch 6\n"
     ]
    },
    {
     "name": "stderr",
     "output_type": "stream",
     "text": [
      "100%|████████████████████████████████████████████████████████| 200/200 [00:19<00:00, 10.06it/s]\n"
     ]
    },
    {
     "name": "stdout",
     "output_type": "stream",
     "text": [
      "Epoch 7, Loss: 3.425005124807358\n",
      "[SYST] Epoch 7\n"
     ]
    },
    {
     "name": "stderr",
     "output_type": "stream",
     "text": [
      "100%|████████████████████████████████████████████████████████| 200/200 [00:19<00:00, 10.06it/s]\n"
     ]
    },
    {
     "name": "stdout",
     "output_type": "stream",
     "text": [
      "Epoch 8, Loss: 3.4248398411273957\n",
      "[SYST] Epoch 8\n"
     ]
    },
    {
     "name": "stderr",
     "output_type": "stream",
     "text": [
      "100%|████████████████████████████████████████████████████████| 200/200 [00:19<00:00, 10.06it/s]\n"
     ]
    },
    {
     "name": "stdout",
     "output_type": "stream",
     "text": [
      "Epoch 9, Loss: 3.42494886636734\n",
      "[SYST] Epoch 9\n"
     ]
    },
    {
     "name": "stderr",
     "output_type": "stream",
     "text": [
      "100%|████████████████████████████████████████████████████████| 200/200 [00:19<00:00, 10.05it/s]\n"
     ]
    },
    {
     "name": "stdout",
     "output_type": "stream",
     "text": [
      "Epoch 10, Loss: 3.4248996579647066\n",
      "[SYST] Epoch 0\n"
     ]
    },
    {
     "name": "stderr",
     "output_type": "stream",
     "text": [
      "100%|████████████████████████████████████████████████████████████| 2/2 [00:00<00:00, 13.43it/s]\n"
     ]
    },
    {
     "name": "stdout",
     "output_type": "stream",
     "text": [
      "Test Accuracy: 50.27%\n",
      "[{'accuracy': 0.9983, 'Layer1': {'[[0, 1, 2, 3, 4, 5, 6, 7]]': 0.5013, '[[0, 1]]': 0.5039, '[[0]]': 0.5082}, 'Layer2': {'[[0, 1, 2, 3, 4, 5, 6, 7]]': 0.5037, '[[0, 1]]': 0.5032, '[[0]]': 0.5075}, 'Layer3': {'[[0, 1, 2, 3, 4, 5, 6, 7]]': 0.4925, '[[0, 1]]': 0.5037, '[[0]]': 0.5081}}, {'accuracy': 0.9983, 'Layer1': {'[[0, 1, 2, 3, 4, 5, 6, 7]]': 0.5012, '[[0, 1]]': 0.5059, '[[0]]': 0.4956}, 'Layer2': {'[[0, 1, 2, 3, 4, 5, 6, 7]]': 0.5027, '[[0, 1]]': 0.4957, '[[0]]': 0.493}, 'Layer3': {'[[0, 1, 2, 3, 4, 5, 6, 7]]': 0.4966, '[[0, 1]]': 0.4996, '[[0]]': 0.5071}}, {'accuracy': 0.9906, 'Layer1': {'[[0, 1, 2, 3, 4, 5, 6, 7]]': 0.4964, '[[0, 1]]': 0.5118, '[[0]]': 0.5024}, 'Layer2': {'[[0, 1, 2, 3, 4, 5, 6, 7]]': 0.4993, '[[0, 1]]': 0.4958, '[[0]]': 0.5061}, 'Layer3': {'[[0, 1, 2, 3, 4, 5, 6, 7]]': 0.4949, '[[0, 1]]': 0.5015, '[[0]]': 0.4977}}, {'accuracy': 0.9955, 'Layer1': {'[[0, 1, 2, 3, 4, 5, 6, 7]]': 0.5024, '[[0, 1]]': 0.5025, '[[0]]': 0.4974}, 'Layer2': {'[[0, 1, 2, 3, 4, 5, 6, 7]]': 0.5068, '[[0, 1]]': 0.5074, '[[0]]': 0.5021}, 'Layer3': {'[[0, 1, 2, 3, 4, 5, 6, 7]]': 0.5036, '[[0, 1]]': 0.5027}}]\n",
      "Layer3 : [[0]]\n"
     ]
    },
    {
     "name": "stderr",
     "output_type": "stream",
     "text": [
      "100%|█████████████████████████████████████████████| 1280000/1280000 [01:22<00:00, 15496.20it/s]\n",
      "100%|█████████████████████████████████████████████████| 10000/10000 [00:00<00:00, 16866.66it/s]\n"
     ]
    },
    {
     "name": "stdout",
     "output_type": "stream",
     "text": [
      "[SYST] Prepare Data\n"
     ]
    },
    {
     "name": "stderr",
     "output_type": "stream",
     "text": [
      "100%|████████████████████████████████████████████| 1280000/1280000 [00:07<00:00, 162836.64it/s]\n"
     ]
    },
    {
     "name": "stdout",
     "output_type": "stream",
     "text": [
      "[SYST] Prepare Data\n"
     ]
    },
    {
     "name": "stderr",
     "output_type": "stream",
     "text": [
      "100%|████████████████████████████████████████████████| 10000/10000 [00:00<00:00, 160455.39it/s]"
     ]
    },
    {
     "name": "stdout",
     "output_type": "stream",
     "text": [
      "[SYST] Epoch 0\n"
     ]
    },
    {
     "name": "stderr",
     "output_type": "stream",
     "text": [
      "\n",
      "100%|████████████████████████████████████████████████████████| 200/200 [00:19<00:00, 10.15it/s]\n"
     ]
    },
    {
     "name": "stdout",
     "output_type": "stream",
     "text": [
      "Epoch 1, Loss: 3.6050986003875733\n",
      "[SYST] Epoch 1\n"
     ]
    },
    {
     "name": "stderr",
     "output_type": "stream",
     "text": [
      "100%|████████████████████████████████████████████████████████| 200/200 [00:19<00:00, 10.06it/s]\n"
     ]
    },
    {
     "name": "stdout",
     "output_type": "stream",
     "text": [
      "Epoch 2, Loss: 3.426396977901459\n",
      "[SYST] Epoch 2\n"
     ]
    },
    {
     "name": "stderr",
     "output_type": "stream",
     "text": [
      "100%|████████████████████████████████████████████████████████| 200/200 [00:19<00:00, 10.06it/s]\n"
     ]
    },
    {
     "name": "stdout",
     "output_type": "stream",
     "text": [
      "Epoch 3, Loss: 3.41943461060524\n",
      "[SYST] Epoch 3\n"
     ]
    },
    {
     "name": "stderr",
     "output_type": "stream",
     "text": [
      "100%|████████████████████████████████████████████████████████| 200/200 [00:19<00:00, 10.10it/s]\n"
     ]
    },
    {
     "name": "stdout",
     "output_type": "stream",
     "text": [
      "Epoch 4, Loss: 3.417539356946945\n",
      "[SYST] Epoch 4\n"
     ]
    },
    {
     "name": "stderr",
     "output_type": "stream",
     "text": [
      "100%|████████████████████████████████████████████████████████| 200/200 [00:19<00:00, 10.08it/s]\n"
     ]
    },
    {
     "name": "stdout",
     "output_type": "stream",
     "text": [
      "Epoch 5, Loss: 3.416682925224304\n",
      "[SYST] Epoch 5\n"
     ]
    },
    {
     "name": "stderr",
     "output_type": "stream",
     "text": [
      "100%|████████████████████████████████████████████████████████| 200/200 [00:19<00:00, 10.06it/s]\n"
     ]
    },
    {
     "name": "stdout",
     "output_type": "stream",
     "text": [
      "Epoch 6, Loss: 3.4163128185272216\n",
      "[SYST] Epoch 6\n"
     ]
    },
    {
     "name": "stderr",
     "output_type": "stream",
     "text": [
      "100%|████████████████████████████████████████████████████████| 200/200 [00:19<00:00, 10.03it/s]\n"
     ]
    },
    {
     "name": "stdout",
     "output_type": "stream",
     "text": [
      "Epoch 7, Loss: 3.416041889190674\n",
      "[SYST] Epoch 7\n"
     ]
    },
    {
     "name": "stderr",
     "output_type": "stream",
     "text": [
      "100%|████████████████████████████████████████████████████████| 200/200 [00:19<00:00, 10.01it/s]\n"
     ]
    },
    {
     "name": "stdout",
     "output_type": "stream",
     "text": [
      "Epoch 8, Loss: 3.4158900594711303\n",
      "[SYST] Epoch 8\n"
     ]
    },
    {
     "name": "stderr",
     "output_type": "stream",
     "text": [
      "100%|████████████████████████████████████████████████████████| 200/200 [00:20<00:00,  9.96it/s]\n"
     ]
    },
    {
     "name": "stdout",
     "output_type": "stream",
     "text": [
      "Epoch 9, Loss: 3.415802139043808\n",
      "[SYST] Epoch 9\n"
     ]
    },
    {
     "name": "stderr",
     "output_type": "stream",
     "text": [
      "100%|████████████████████████████████████████████████████████| 200/200 [00:20<00:00,  9.99it/s]\n"
     ]
    },
    {
     "name": "stdout",
     "output_type": "stream",
     "text": [
      "Epoch 10, Loss: 3.4157165491580965\n",
      "[SYST] Epoch 0\n"
     ]
    },
    {
     "name": "stderr",
     "output_type": "stream",
     "text": [
      "100%|████████████████████████████████████████████████████████████| 2/2 [00:00<00:00, 13.13it/s]\n"
     ]
    },
    {
     "name": "stdout",
     "output_type": "stream",
     "text": [
      "Test Accuracy: 49.86%\n",
      "[{'accuracy': 0.9983, 'Layer1': {'[[0, 1, 2, 3, 4, 5, 6, 7]]': 0.5013, '[[0, 1]]': 0.5039, '[[0]]': 0.5082}, 'Layer2': {'[[0, 1, 2, 3, 4, 5, 6, 7]]': 0.5037, '[[0, 1]]': 0.5032, '[[0]]': 0.5075}, 'Layer3': {'[[0, 1, 2, 3, 4, 5, 6, 7]]': 0.4925, '[[0, 1]]': 0.5037, '[[0]]': 0.5081}}, {'accuracy': 0.9983, 'Layer1': {'[[0, 1, 2, 3, 4, 5, 6, 7]]': 0.5012, '[[0, 1]]': 0.5059, '[[0]]': 0.4956}, 'Layer2': {'[[0, 1, 2, 3, 4, 5, 6, 7]]': 0.5027, '[[0, 1]]': 0.4957, '[[0]]': 0.493}, 'Layer3': {'[[0, 1, 2, 3, 4, 5, 6, 7]]': 0.4966, '[[0, 1]]': 0.4996, '[[0]]': 0.5071}}, {'accuracy': 0.9906, 'Layer1': {'[[0, 1, 2, 3, 4, 5, 6, 7]]': 0.4964, '[[0, 1]]': 0.5118, '[[0]]': 0.5024}, 'Layer2': {'[[0, 1, 2, 3, 4, 5, 6, 7]]': 0.4993, '[[0, 1]]': 0.4958, '[[0]]': 0.5061}, 'Layer3': {'[[0, 1, 2, 3, 4, 5, 6, 7]]': 0.4949, '[[0, 1]]': 0.5015, '[[0]]': 0.4977}}, {'accuracy': 0.9955, 'Layer1': {'[[0, 1, 2, 3, 4, 5, 6, 7]]': 0.5024, '[[0, 1]]': 0.5025, '[[0]]': 0.4974}, 'Layer2': {'[[0, 1, 2, 3, 4, 5, 6, 7]]': 0.5068, '[[0, 1]]': 0.5074, '[[0]]': 0.5021}, 'Layer3': {'[[0, 1, 2, 3, 4, 5, 6, 7]]': 0.5036, '[[0, 1]]': 0.5027, '[[0]]': 0.4986}}]\n"
     ]
    },
    {
     "name": "stderr",
     "output_type": "stream",
     "text": [
      "100%|████████████████████████████████████████████| 1048576/1048576 [00:10<00:00, 100276.66it/s]\n",
      "100%|█████████████████████████████████████████████████████| 1024/1024 [00:08<00:00, 118.79it/s]\n"
     ]
    },
    {
     "name": "stdout",
     "output_type": "stream",
     "text": [
      "Epoch 1, Loss: 0.5079662432690384\n"
     ]
    },
    {
     "name": "stderr",
     "output_type": "stream",
     "text": [
      "100%|█████████████████████████████████████████████████████| 1024/1024 [00:09<00:00, 112.58it/s]\n"
     ]
    },
    {
     "name": "stdout",
     "output_type": "stream",
     "text": [
      "Epoch 2, Loss: 0.1480320068731089\n"
     ]
    },
    {
     "name": "stderr",
     "output_type": "stream",
     "text": [
      "100%|█████████████████████████████████████████████████████| 1024/1024 [00:09<00:00, 110.97it/s]\n"
     ]
    },
    {
     "name": "stdout",
     "output_type": "stream",
     "text": [
      "Epoch 3, Loss: 0.06439171461533988\n"
     ]
    },
    {
     "name": "stderr",
     "output_type": "stream",
     "text": [
      "100%|█████████████████████████████████████████████████| 10000/10000 [00:00<00:00, 99983.41it/s]\n",
      "100%|█████████████████████████████████████████████████████████| 10/10 [00:00<00:00, 159.68it/s]\n"
     ]
    },
    {
     "name": "stdout",
     "output_type": "stream",
     "text": [
      "Test Accuracy: 0.9864\n",
      "Layer1 : [[0, 1, 2, 3, 4, 5, 6, 7]]\n"
     ]
    },
    {
     "name": "stderr",
     "output_type": "stream",
     "text": [
      "100%|█████████████████████████████████████████████| 1280000/1280000 [01:23<00:00, 15296.82it/s]\n",
      "100%|█████████████████████████████████████████████████| 10000/10000 [00:00<00:00, 16893.22it/s]\n"
     ]
    },
    {
     "name": "stdout",
     "output_type": "stream",
     "text": [
      "[SYST] Prepare Data\n"
     ]
    },
    {
     "name": "stderr",
     "output_type": "stream",
     "text": [
      "100%|████████████████████████████████████████████| 1280000/1280000 [00:08<00:00, 146027.30it/s]\n"
     ]
    },
    {
     "name": "stdout",
     "output_type": "stream",
     "text": [
      "[SYST] Prepare Data\n"
     ]
    },
    {
     "name": "stderr",
     "output_type": "stream",
     "text": [
      "100%|████████████████████████████████████████████████| 10000/10000 [00:00<00:00, 147136.55it/s]"
     ]
    },
    {
     "name": "stdout",
     "output_type": "stream",
     "text": [
      "[SYST] Epoch 0\n"
     ]
    },
    {
     "name": "stderr",
     "output_type": "stream",
     "text": [
      "\n",
      "100%|████████████████████████████████████████████████████████| 200/200 [00:19<00:00, 10.02it/s]\n"
     ]
    },
    {
     "name": "stdout",
     "output_type": "stream",
     "text": [
      "Epoch 1, Loss: 4.375042287111282\n",
      "[SYST] Epoch 1\n"
     ]
    },
    {
     "name": "stderr",
     "output_type": "stream",
     "text": [
      "100%|████████████████████████████████████████████████████████| 200/200 [00:20<00:00,  9.86it/s]\n"
     ]
    },
    {
     "name": "stdout",
     "output_type": "stream",
     "text": [
      "Epoch 2, Loss: 3.4149719214439394\n",
      "[SYST] Epoch 2\n"
     ]
    },
    {
     "name": "stderr",
     "output_type": "stream",
     "text": [
      "100%|████████████████████████████████████████████████████████| 200/200 [00:20<00:00,  9.87it/s]\n"
     ]
    },
    {
     "name": "stdout",
     "output_type": "stream",
     "text": [
      "Epoch 3, Loss: 3.256880795955658\n",
      "[SYST] Epoch 3\n"
     ]
    },
    {
     "name": "stderr",
     "output_type": "stream",
     "text": [
      "100%|████████████████████████████████████████████████████████| 200/200 [00:20<00:00,  9.88it/s]\n"
     ]
    },
    {
     "name": "stdout",
     "output_type": "stream",
     "text": [
      "Epoch 4, Loss: 3.2125596630573274\n",
      "[SYST] Epoch 4\n"
     ]
    },
    {
     "name": "stderr",
     "output_type": "stream",
     "text": [
      "100%|████████████████████████████████████████████████████████| 200/200 [00:20<00:00,  9.90it/s]\n"
     ]
    },
    {
     "name": "stdout",
     "output_type": "stream",
     "text": [
      "Epoch 5, Loss: 3.185706125497818\n",
      "[SYST] Epoch 5\n"
     ]
    },
    {
     "name": "stderr",
     "output_type": "stream",
     "text": [
      "100%|████████████████████████████████████████████████████████| 200/200 [00:20<00:00,  9.91it/s]\n"
     ]
    },
    {
     "name": "stdout",
     "output_type": "stream",
     "text": [
      "Epoch 6, Loss: 3.166613032817841\n",
      "[SYST] Epoch 6\n"
     ]
    },
    {
     "name": "stderr",
     "output_type": "stream",
     "text": [
      "100%|████████████████████████████████████████████████████████| 200/200 [00:20<00:00,  9.90it/s]\n"
     ]
    },
    {
     "name": "stdout",
     "output_type": "stream",
     "text": [
      "Epoch 7, Loss: 3.152911766767502\n",
      "[SYST] Epoch 7\n"
     ]
    },
    {
     "name": "stderr",
     "output_type": "stream",
     "text": [
      "100%|████████████████████████████████████████████████████████| 200/200 [00:20<00:00,  9.86it/s]\n"
     ]
    },
    {
     "name": "stdout",
     "output_type": "stream",
     "text": [
      "Epoch 8, Loss: 3.1414767134189607\n",
      "[SYST] Epoch 8\n"
     ]
    },
    {
     "name": "stderr",
     "output_type": "stream",
     "text": [
      "100%|████████████████████████████████████████████████████████| 200/200 [00:20<00:00,  9.86it/s]\n"
     ]
    },
    {
     "name": "stdout",
     "output_type": "stream",
     "text": [
      "Epoch 9, Loss: 3.1312709724903107\n",
      "[SYST] Epoch 9\n"
     ]
    },
    {
     "name": "stderr",
     "output_type": "stream",
     "text": [
      "100%|████████████████████████████████████████████████████████| 200/200 [00:20<00:00,  9.83it/s]\n"
     ]
    },
    {
     "name": "stdout",
     "output_type": "stream",
     "text": [
      "Epoch 10, Loss: 3.1222592532634734\n",
      "[SYST] Epoch 0\n"
     ]
    },
    {
     "name": "stderr",
     "output_type": "stream",
     "text": [
      "100%|████████████████████████████████████████████████████████████| 2/2 [00:00<00:00, 13.38it/s]\n"
     ]
    },
    {
     "name": "stdout",
     "output_type": "stream",
     "text": [
      "Test Accuracy: 50.07%\n",
      "[{'accuracy': 0.9983, 'Layer1': {'[[0, 1, 2, 3, 4, 5, 6, 7]]': 0.5013, '[[0, 1]]': 0.5039, '[[0]]': 0.5082}, 'Layer2': {'[[0, 1, 2, 3, 4, 5, 6, 7]]': 0.5037, '[[0, 1]]': 0.5032, '[[0]]': 0.5075}, 'Layer3': {'[[0, 1, 2, 3, 4, 5, 6, 7]]': 0.4925, '[[0, 1]]': 0.5037, '[[0]]': 0.5081}}, {'accuracy': 0.9983, 'Layer1': {'[[0, 1, 2, 3, 4, 5, 6, 7]]': 0.5012, '[[0, 1]]': 0.5059, '[[0]]': 0.4956}, 'Layer2': {'[[0, 1, 2, 3, 4, 5, 6, 7]]': 0.5027, '[[0, 1]]': 0.4957, '[[0]]': 0.493}, 'Layer3': {'[[0, 1, 2, 3, 4, 5, 6, 7]]': 0.4966, '[[0, 1]]': 0.4996, '[[0]]': 0.5071}}, {'accuracy': 0.9906, 'Layer1': {'[[0, 1, 2, 3, 4, 5, 6, 7]]': 0.4964, '[[0, 1]]': 0.5118, '[[0]]': 0.5024}, 'Layer2': {'[[0, 1, 2, 3, 4, 5, 6, 7]]': 0.4993, '[[0, 1]]': 0.4958, '[[0]]': 0.5061}, 'Layer3': {'[[0, 1, 2, 3, 4, 5, 6, 7]]': 0.4949, '[[0, 1]]': 0.5015, '[[0]]': 0.4977}}, {'accuracy': 0.9955, 'Layer1': {'[[0, 1, 2, 3, 4, 5, 6, 7]]': 0.5024, '[[0, 1]]': 0.5025, '[[0]]': 0.4974}, 'Layer2': {'[[0, 1, 2, 3, 4, 5, 6, 7]]': 0.5068, '[[0, 1]]': 0.5074, '[[0]]': 0.5021}, 'Layer3': {'[[0, 1, 2, 3, 4, 5, 6, 7]]': 0.5036, '[[0, 1]]': 0.5027, '[[0]]': 0.4986}}, {'accuracy': 0.9864, 'Layer1': {'[[0, 1, 2, 3, 4, 5, 6, 7]]': 0.5007}}]\n",
      "Layer1 : [[0, 1]]\n"
     ]
    },
    {
     "name": "stderr",
     "output_type": "stream",
     "text": [
      "100%|█████████████████████████████████████████████| 1280000/1280000 [01:21<00:00, 15667.61it/s]\n",
      "100%|█████████████████████████████████████████████████| 10000/10000 [00:00<00:00, 16780.78it/s]\n"
     ]
    },
    {
     "name": "stdout",
     "output_type": "stream",
     "text": [
      "[SYST] Prepare Data\n"
     ]
    },
    {
     "name": "stderr",
     "output_type": "stream",
     "text": [
      "100%|████████████████████████████████████████████| 1280000/1280000 [00:08<00:00, 158635.78it/s]\n"
     ]
    },
    {
     "name": "stdout",
     "output_type": "stream",
     "text": [
      "[SYST] Prepare Data\n"
     ]
    },
    {
     "name": "stderr",
     "output_type": "stream",
     "text": [
      "100%|████████████████████████████████████████████████| 10000/10000 [00:00<00:00, 158831.83it/s]"
     ]
    },
    {
     "name": "stdout",
     "output_type": "stream",
     "text": [
      "[SYST] Epoch 0\n"
     ]
    },
    {
     "name": "stderr",
     "output_type": "stream",
     "text": [
      "\n",
      "100%|████████████████████████████████████████████████████████| 200/200 [00:19<00:00, 10.08it/s]\n"
     ]
    },
    {
     "name": "stdout",
     "output_type": "stream",
     "text": [
      "Epoch 1, Loss: 3.936365007162094\n",
      "[SYST] Epoch 1\n"
     ]
    },
    {
     "name": "stderr",
     "output_type": "stream",
     "text": [
      "100%|████████████████████████████████████████████████████████| 200/200 [00:20<00:00,  9.97it/s]\n"
     ]
    },
    {
     "name": "stdout",
     "output_type": "stream",
     "text": [
      "Epoch 2, Loss: 3.6085888886451722\n",
      "[SYST] Epoch 2\n"
     ]
    },
    {
     "name": "stderr",
     "output_type": "stream",
     "text": [
      "100%|████████████████████████████████████████████████████████| 200/200 [00:20<00:00,  9.99it/s]\n"
     ]
    },
    {
     "name": "stdout",
     "output_type": "stream",
     "text": [
      "Epoch 3, Loss: 3.482626149654388\n",
      "[SYST] Epoch 3\n"
     ]
    },
    {
     "name": "stderr",
     "output_type": "stream",
     "text": [
      "100%|████████████████████████████████████████████████████████| 200/200 [00:19<00:00, 10.02it/s]\n"
     ]
    },
    {
     "name": "stdout",
     "output_type": "stream",
     "text": [
      "Epoch 4, Loss: 3.3765725696086886\n",
      "[SYST] Epoch 4\n"
     ]
    },
    {
     "name": "stderr",
     "output_type": "stream",
     "text": [
      "100%|████████████████████████████████████████████████████████| 200/200 [00:20<00:00,  9.99it/s]\n"
     ]
    },
    {
     "name": "stdout",
     "output_type": "stream",
     "text": [
      "Epoch 5, Loss: 3.3262908518314362\n",
      "[SYST] Epoch 5\n"
     ]
    },
    {
     "name": "stderr",
     "output_type": "stream",
     "text": [
      "100%|████████████████████████████████████████████████████████| 200/200 [00:20<00:00,  9.99it/s]\n"
     ]
    },
    {
     "name": "stdout",
     "output_type": "stream",
     "text": [
      "Epoch 6, Loss: 3.3086074554920195\n",
      "[SYST] Epoch 6\n"
     ]
    },
    {
     "name": "stderr",
     "output_type": "stream",
     "text": [
      "100%|████████████████████████████████████████████████████████| 200/200 [00:20<00:00,  9.98it/s]\n"
     ]
    },
    {
     "name": "stdout",
     "output_type": "stream",
     "text": [
      "Epoch 7, Loss: 3.3029970860481264\n",
      "[SYST] Epoch 7\n"
     ]
    },
    {
     "name": "stderr",
     "output_type": "stream",
     "text": [
      "100%|████████████████████████████████████████████████████████| 200/200 [00:20<00:00,  9.99it/s]\n"
     ]
    },
    {
     "name": "stdout",
     "output_type": "stream",
     "text": [
      "Epoch 8, Loss: 3.3008870375156403\n",
      "[SYST] Epoch 8\n"
     ]
    },
    {
     "name": "stderr",
     "output_type": "stream",
     "text": [
      "100%|████████████████████████████████████████████████████████| 200/200 [00:20<00:00,  9.98it/s]\n"
     ]
    },
    {
     "name": "stdout",
     "output_type": "stream",
     "text": [
      "Epoch 9, Loss: 3.3002823328971864\n",
      "[SYST] Epoch 9\n"
     ]
    },
    {
     "name": "stderr",
     "output_type": "stream",
     "text": [
      "100%|████████████████████████████████████████████████████████| 200/200 [00:20<00:00,  9.98it/s]\n"
     ]
    },
    {
     "name": "stdout",
     "output_type": "stream",
     "text": [
      "Epoch 10, Loss: 3.3002764976024626\n",
      "[SYST] Epoch 0\n"
     ]
    },
    {
     "name": "stderr",
     "output_type": "stream",
     "text": [
      "100%|████████████████████████████████████████████████████████████| 2/2 [00:00<00:00, 13.36it/s]\n"
     ]
    },
    {
     "name": "stdout",
     "output_type": "stream",
     "text": [
      "Test Accuracy: 49.70%\n",
      "[{'accuracy': 0.9983, 'Layer1': {'[[0, 1, 2, 3, 4, 5, 6, 7]]': 0.5013, '[[0, 1]]': 0.5039, '[[0]]': 0.5082}, 'Layer2': {'[[0, 1, 2, 3, 4, 5, 6, 7]]': 0.5037, '[[0, 1]]': 0.5032, '[[0]]': 0.5075}, 'Layer3': {'[[0, 1, 2, 3, 4, 5, 6, 7]]': 0.4925, '[[0, 1]]': 0.5037, '[[0]]': 0.5081}}, {'accuracy': 0.9983, 'Layer1': {'[[0, 1, 2, 3, 4, 5, 6, 7]]': 0.5012, '[[0, 1]]': 0.5059, '[[0]]': 0.4956}, 'Layer2': {'[[0, 1, 2, 3, 4, 5, 6, 7]]': 0.5027, '[[0, 1]]': 0.4957, '[[0]]': 0.493}, 'Layer3': {'[[0, 1, 2, 3, 4, 5, 6, 7]]': 0.4966, '[[0, 1]]': 0.4996, '[[0]]': 0.5071}}, {'accuracy': 0.9906, 'Layer1': {'[[0, 1, 2, 3, 4, 5, 6, 7]]': 0.4964, '[[0, 1]]': 0.5118, '[[0]]': 0.5024}, 'Layer2': {'[[0, 1, 2, 3, 4, 5, 6, 7]]': 0.4993, '[[0, 1]]': 0.4958, '[[0]]': 0.5061}, 'Layer3': {'[[0, 1, 2, 3, 4, 5, 6, 7]]': 0.4949, '[[0, 1]]': 0.5015, '[[0]]': 0.4977}}, {'accuracy': 0.9955, 'Layer1': {'[[0, 1, 2, 3, 4, 5, 6, 7]]': 0.5024, '[[0, 1]]': 0.5025, '[[0]]': 0.4974}, 'Layer2': {'[[0, 1, 2, 3, 4, 5, 6, 7]]': 0.5068, '[[0, 1]]': 0.5074, '[[0]]': 0.5021}, 'Layer3': {'[[0, 1, 2, 3, 4, 5, 6, 7]]': 0.5036, '[[0, 1]]': 0.5027, '[[0]]': 0.4986}}, {'accuracy': 0.9864, 'Layer1': {'[[0, 1, 2, 3, 4, 5, 6, 7]]': 0.5007, '[[0, 1]]': 0.497}}]\n",
      "Layer1 : [[0]]\n"
     ]
    },
    {
     "name": "stderr",
     "output_type": "stream",
     "text": [
      "100%|█████████████████████████████████████████████| 1280000/1280000 [01:22<00:00, 15454.03it/s]\n",
      "100%|█████████████████████████████████████████████████| 10000/10000 [00:00<00:00, 16840.50it/s]\n"
     ]
    },
    {
     "name": "stdout",
     "output_type": "stream",
     "text": [
      "[SYST] Prepare Data\n"
     ]
    },
    {
     "name": "stderr",
     "output_type": "stream",
     "text": [
      "100%|████████████████████████████████████████████| 1280000/1280000 [00:07<00:00, 163129.94it/s]\n"
     ]
    },
    {
     "name": "stdout",
     "output_type": "stream",
     "text": [
      "[SYST] Prepare Data\n"
     ]
    },
    {
     "name": "stderr",
     "output_type": "stream",
     "text": [
      "100%|████████████████████████████████████████████████| 10000/10000 [00:00<00:00, 164590.30it/s]"
     ]
    },
    {
     "name": "stdout",
     "output_type": "stream",
     "text": [
      "[SYST] Epoch 0\n"
     ]
    },
    {
     "name": "stderr",
     "output_type": "stream",
     "text": [
      "\n",
      "100%|████████████████████████████████████████████████████████| 200/200 [00:19<00:00, 10.14it/s]\n"
     ]
    },
    {
     "name": "stdout",
     "output_type": "stream",
     "text": [
      "Epoch 1, Loss: 4.670027039051056\n",
      "[SYST] Epoch 1\n"
     ]
    },
    {
     "name": "stderr",
     "output_type": "stream",
     "text": [
      "100%|████████████████████████████████████████████████████████| 200/200 [00:19<00:00, 10.05it/s]\n"
     ]
    },
    {
     "name": "stdout",
     "output_type": "stream",
     "text": [
      "Epoch 2, Loss: 4.173153009414673\n",
      "[SYST] Epoch 2\n"
     ]
    },
    {
     "name": "stderr",
     "output_type": "stream",
     "text": [
      "100%|████████████████████████████████████████████████████████| 200/200 [00:19<00:00, 10.03it/s]\n"
     ]
    },
    {
     "name": "stdout",
     "output_type": "stream",
     "text": [
      "Epoch 3, Loss: 4.108385632038116\n",
      "[SYST] Epoch 3\n"
     ]
    },
    {
     "name": "stderr",
     "output_type": "stream",
     "text": [
      "100%|████████████████████████████████████████████████████████| 200/200 [00:19<00:00, 10.02it/s]\n"
     ]
    },
    {
     "name": "stdout",
     "output_type": "stream",
     "text": [
      "Epoch 4, Loss: 4.0847603690624235\n",
      "[SYST] Epoch 4\n"
     ]
    },
    {
     "name": "stderr",
     "output_type": "stream",
     "text": [
      "100%|████████████████████████████████████████████████████████| 200/200 [00:20<00:00,  9.98it/s]\n"
     ]
    },
    {
     "name": "stdout",
     "output_type": "stream",
     "text": [
      "Epoch 5, Loss: 4.040097217559815\n",
      "[SYST] Epoch 5\n"
     ]
    },
    {
     "name": "stderr",
     "output_type": "stream",
     "text": [
      "100%|████████████████████████████████████████████████████████| 200/200 [00:19<00:00, 10.03it/s]\n"
     ]
    },
    {
     "name": "stdout",
     "output_type": "stream",
     "text": [
      "Epoch 6, Loss: 3.974535367488861\n",
      "[SYST] Epoch 6\n"
     ]
    },
    {
     "name": "stderr",
     "output_type": "stream",
     "text": [
      "100%|████████████████████████████████████████████████████████| 200/200 [00:19<00:00, 10.04it/s]\n"
     ]
    },
    {
     "name": "stdout",
     "output_type": "stream",
     "text": [
      "Epoch 7, Loss: 3.8111379146575928\n",
      "[SYST] Epoch 7\n"
     ]
    },
    {
     "name": "stderr",
     "output_type": "stream",
     "text": [
      "100%|████████████████████████████████████████████████████████| 200/200 [00:19<00:00, 10.02it/s]\n"
     ]
    },
    {
     "name": "stdout",
     "output_type": "stream",
     "text": [
      "Epoch 8, Loss: 3.7125082647800447\n",
      "[SYST] Epoch 8\n"
     ]
    },
    {
     "name": "stderr",
     "output_type": "stream",
     "text": [
      "100%|████████████████████████████████████████████████████████| 200/200 [00:19<00:00, 10.05it/s]\n"
     ]
    },
    {
     "name": "stdout",
     "output_type": "stream",
     "text": [
      "Epoch 9, Loss: 3.7091632294654846\n",
      "[SYST] Epoch 9\n"
     ]
    },
    {
     "name": "stderr",
     "output_type": "stream",
     "text": [
      "100%|████████████████████████████████████████████████████████| 200/200 [00:19<00:00, 10.04it/s]\n"
     ]
    },
    {
     "name": "stdout",
     "output_type": "stream",
     "text": [
      "Epoch 10, Loss: 3.7074177730083466\n",
      "[SYST] Epoch 0\n"
     ]
    },
    {
     "name": "stderr",
     "output_type": "stream",
     "text": [
      "100%|████████████████████████████████████████████████████████████| 2/2 [00:00<00:00, 13.27it/s]\n"
     ]
    },
    {
     "name": "stdout",
     "output_type": "stream",
     "text": [
      "Test Accuracy: 50.85%\n",
      "[{'accuracy': 0.9983, 'Layer1': {'[[0, 1, 2, 3, 4, 5, 6, 7]]': 0.5013, '[[0, 1]]': 0.5039, '[[0]]': 0.5082}, 'Layer2': {'[[0, 1, 2, 3, 4, 5, 6, 7]]': 0.5037, '[[0, 1]]': 0.5032, '[[0]]': 0.5075}, 'Layer3': {'[[0, 1, 2, 3, 4, 5, 6, 7]]': 0.4925, '[[0, 1]]': 0.5037, '[[0]]': 0.5081}}, {'accuracy': 0.9983, 'Layer1': {'[[0, 1, 2, 3, 4, 5, 6, 7]]': 0.5012, '[[0, 1]]': 0.5059, '[[0]]': 0.4956}, 'Layer2': {'[[0, 1, 2, 3, 4, 5, 6, 7]]': 0.5027, '[[0, 1]]': 0.4957, '[[0]]': 0.493}, 'Layer3': {'[[0, 1, 2, 3, 4, 5, 6, 7]]': 0.4966, '[[0, 1]]': 0.4996, '[[0]]': 0.5071}}, {'accuracy': 0.9906, 'Layer1': {'[[0, 1, 2, 3, 4, 5, 6, 7]]': 0.4964, '[[0, 1]]': 0.5118, '[[0]]': 0.5024}, 'Layer2': {'[[0, 1, 2, 3, 4, 5, 6, 7]]': 0.4993, '[[0, 1]]': 0.4958, '[[0]]': 0.5061}, 'Layer3': {'[[0, 1, 2, 3, 4, 5, 6, 7]]': 0.4949, '[[0, 1]]': 0.5015, '[[0]]': 0.4977}}, {'accuracy': 0.9955, 'Layer1': {'[[0, 1, 2, 3, 4, 5, 6, 7]]': 0.5024, '[[0, 1]]': 0.5025, '[[0]]': 0.4974}, 'Layer2': {'[[0, 1, 2, 3, 4, 5, 6, 7]]': 0.5068, '[[0, 1]]': 0.5074, '[[0]]': 0.5021}, 'Layer3': {'[[0, 1, 2, 3, 4, 5, 6, 7]]': 0.5036, '[[0, 1]]': 0.5027, '[[0]]': 0.4986}}, {'accuracy': 0.9864, 'Layer1': {'[[0, 1, 2, 3, 4, 5, 6, 7]]': 0.5007, '[[0, 1]]': 0.497, '[[0]]': 0.5085}}]\n",
      "Layer2 : [[0, 1, 2, 3, 4, 5, 6, 7]]\n"
     ]
    },
    {
     "name": "stderr",
     "output_type": "stream",
     "text": [
      "100%|█████████████████████████████████████████████| 1280000/1280000 [01:22<00:00, 15551.36it/s]\n",
      "100%|█████████████████████████████████████████████████| 10000/10000 [00:00<00:00, 16696.93it/s]\n"
     ]
    },
    {
     "name": "stdout",
     "output_type": "stream",
     "text": [
      "[SYST] Prepare Data\n"
     ]
    },
    {
     "name": "stderr",
     "output_type": "stream",
     "text": [
      "100%|████████████████████████████████████████████| 1280000/1280000 [00:08<00:00, 145001.85it/s]\n"
     ]
    },
    {
     "name": "stdout",
     "output_type": "stream",
     "text": [
      "[SYST] Prepare Data\n"
     ]
    },
    {
     "name": "stderr",
     "output_type": "stream",
     "text": [
      "100%|████████████████████████████████████████████████| 10000/10000 [00:00<00:00, 146333.69it/s]"
     ]
    },
    {
     "name": "stdout",
     "output_type": "stream",
     "text": [
      "[SYST] Epoch 0\n"
     ]
    },
    {
     "name": "stderr",
     "output_type": "stream",
     "text": [
      "\n",
      "100%|████████████████████████████████████████████████████████| 200/200 [00:19<00:00, 10.05it/s]\n"
     ]
    },
    {
     "name": "stdout",
     "output_type": "stream",
     "text": [
      "Epoch 1, Loss: 3.731761441230774\n",
      "[SYST] Epoch 1\n"
     ]
    },
    {
     "name": "stderr",
     "output_type": "stream",
     "text": [
      "100%|████████████████████████████████████████████████████████| 200/200 [00:20<00:00,  9.92it/s]\n"
     ]
    },
    {
     "name": "stdout",
     "output_type": "stream",
     "text": [
      "Epoch 2, Loss: 3.2973392629623413\n",
      "[SYST] Epoch 2\n"
     ]
    },
    {
     "name": "stderr",
     "output_type": "stream",
     "text": [
      "100%|████████████████████████████████████████████████████████| 200/200 [00:20<00:00,  9.91it/s]\n"
     ]
    },
    {
     "name": "stdout",
     "output_type": "stream",
     "text": [
      "Epoch 3, Loss: 3.1659381556510926\n",
      "[SYST] Epoch 3\n"
     ]
    },
    {
     "name": "stderr",
     "output_type": "stream",
     "text": [
      "100%|████████████████████████████████████████████████████████| 200/200 [00:20<00:00,  9.92it/s]\n"
     ]
    },
    {
     "name": "stdout",
     "output_type": "stream",
     "text": [
      "Epoch 4, Loss: 3.120120108127594\n",
      "[SYST] Epoch 4\n"
     ]
    },
    {
     "name": "stderr",
     "output_type": "stream",
     "text": [
      "100%|████████████████████████████████████████████████████████| 200/200 [00:20<00:00,  9.84it/s]\n"
     ]
    },
    {
     "name": "stdout",
     "output_type": "stream",
     "text": [
      "Epoch 5, Loss: 3.0982663404941557\n",
      "[SYST] Epoch 5\n"
     ]
    },
    {
     "name": "stderr",
     "output_type": "stream",
     "text": [
      "100%|████████████████████████████████████████████████████████| 200/200 [00:20<00:00,  9.84it/s]\n"
     ]
    },
    {
     "name": "stdout",
     "output_type": "stream",
     "text": [
      "Epoch 6, Loss: 3.0856054496765135\n",
      "[SYST] Epoch 6\n"
     ]
    },
    {
     "name": "stderr",
     "output_type": "stream",
     "text": [
      "100%|████████████████████████████████████████████████████████| 200/200 [00:20<00:00,  9.84it/s]\n"
     ]
    },
    {
     "name": "stdout",
     "output_type": "stream",
     "text": [
      "Epoch 7, Loss: 3.0771201932430268\n",
      "[SYST] Epoch 7\n"
     ]
    },
    {
     "name": "stderr",
     "output_type": "stream",
     "text": [
      "100%|████████████████████████████████████████████████████████| 200/200 [00:20<00:00,  9.82it/s]\n"
     ]
    },
    {
     "name": "stdout",
     "output_type": "stream",
     "text": [
      "Epoch 8, Loss: 3.0716254138946533\n",
      "[SYST] Epoch 8\n"
     ]
    },
    {
     "name": "stderr",
     "output_type": "stream",
     "text": [
      "100%|████████████████████████████████████████████████████████| 200/200 [00:20<00:00,  9.83it/s]\n"
     ]
    },
    {
     "name": "stdout",
     "output_type": "stream",
     "text": [
      "Epoch 9, Loss: 3.0663978803157805\n",
      "[SYST] Epoch 9\n"
     ]
    },
    {
     "name": "stderr",
     "output_type": "stream",
     "text": [
      "100%|████████████████████████████████████████████████████████| 200/200 [00:20<00:00,  9.83it/s]\n"
     ]
    },
    {
     "name": "stdout",
     "output_type": "stream",
     "text": [
      "Epoch 10, Loss: 3.062606738805771\n",
      "[SYST] Epoch 0\n"
     ]
    },
    {
     "name": "stderr",
     "output_type": "stream",
     "text": [
      "100%|████████████████████████████████████████████████████████████| 2/2 [00:00<00:00, 13.18it/s]\n"
     ]
    },
    {
     "name": "stdout",
     "output_type": "stream",
     "text": [
      "Test Accuracy: 49.65%\n",
      "[{'accuracy': 0.9983, 'Layer1': {'[[0, 1, 2, 3, 4, 5, 6, 7]]': 0.5013, '[[0, 1]]': 0.5039, '[[0]]': 0.5082}, 'Layer2': {'[[0, 1, 2, 3, 4, 5, 6, 7]]': 0.5037, '[[0, 1]]': 0.5032, '[[0]]': 0.5075}, 'Layer3': {'[[0, 1, 2, 3, 4, 5, 6, 7]]': 0.4925, '[[0, 1]]': 0.5037, '[[0]]': 0.5081}}, {'accuracy': 0.9983, 'Layer1': {'[[0, 1, 2, 3, 4, 5, 6, 7]]': 0.5012, '[[0, 1]]': 0.5059, '[[0]]': 0.4956}, 'Layer2': {'[[0, 1, 2, 3, 4, 5, 6, 7]]': 0.5027, '[[0, 1]]': 0.4957, '[[0]]': 0.493}, 'Layer3': {'[[0, 1, 2, 3, 4, 5, 6, 7]]': 0.4966, '[[0, 1]]': 0.4996, '[[0]]': 0.5071}}, {'accuracy': 0.9906, 'Layer1': {'[[0, 1, 2, 3, 4, 5, 6, 7]]': 0.4964, '[[0, 1]]': 0.5118, '[[0]]': 0.5024}, 'Layer2': {'[[0, 1, 2, 3, 4, 5, 6, 7]]': 0.4993, '[[0, 1]]': 0.4958, '[[0]]': 0.5061}, 'Layer3': {'[[0, 1, 2, 3, 4, 5, 6, 7]]': 0.4949, '[[0, 1]]': 0.5015, '[[0]]': 0.4977}}, {'accuracy': 0.9955, 'Layer1': {'[[0, 1, 2, 3, 4, 5, 6, 7]]': 0.5024, '[[0, 1]]': 0.5025, '[[0]]': 0.4974}, 'Layer2': {'[[0, 1, 2, 3, 4, 5, 6, 7]]': 0.5068, '[[0, 1]]': 0.5074, '[[0]]': 0.5021}, 'Layer3': {'[[0, 1, 2, 3, 4, 5, 6, 7]]': 0.5036, '[[0, 1]]': 0.5027, '[[0]]': 0.4986}}, {'accuracy': 0.9864, 'Layer1': {'[[0, 1, 2, 3, 4, 5, 6, 7]]': 0.5007, '[[0, 1]]': 0.497, '[[0]]': 0.5085}, 'Layer2': {'[[0, 1, 2, 3, 4, 5, 6, 7]]': 0.4965}}]\n",
      "Layer2 : [[0, 1]]\n"
     ]
    },
    {
     "name": "stderr",
     "output_type": "stream",
     "text": [
      "100%|█████████████████████████████████████████████| 1280000/1280000 [01:21<00:00, 15613.06it/s]\n",
      "100%|█████████████████████████████████████████████████| 10000/10000 [00:00<00:00, 16794.13it/s]\n"
     ]
    },
    {
     "name": "stdout",
     "output_type": "stream",
     "text": [
      "[SYST] Prepare Data\n"
     ]
    },
    {
     "name": "stderr",
     "output_type": "stream",
     "text": [
      "100%|████████████████████████████████████████████| 1280000/1280000 [00:08<00:00, 158448.90it/s]\n"
     ]
    },
    {
     "name": "stdout",
     "output_type": "stream",
     "text": [
      "[SYST] Prepare Data\n"
     ]
    },
    {
     "name": "stderr",
     "output_type": "stream",
     "text": [
      "100%|████████████████████████████████████████████████| 10000/10000 [00:00<00:00, 160825.16it/s]"
     ]
    },
    {
     "name": "stdout",
     "output_type": "stream",
     "text": [
      "[SYST] Epoch 0\n"
     ]
    },
    {
     "name": "stderr",
     "output_type": "stream",
     "text": [
      "\n",
      "100%|████████████████████████████████████████████████████████| 200/200 [00:19<00:00, 10.10it/s]\n"
     ]
    },
    {
     "name": "stdout",
     "output_type": "stream",
     "text": [
      "Epoch 1, Loss: 4.4916211640834804\n",
      "[SYST] Epoch 1\n"
     ]
    },
    {
     "name": "stderr",
     "output_type": "stream",
     "text": [
      "100%|████████████████████████████████████████████████████████| 200/200 [00:19<00:00, 10.03it/s]\n"
     ]
    },
    {
     "name": "stdout",
     "output_type": "stream",
     "text": [
      "Epoch 2, Loss: 3.9838952839374544\n",
      "[SYST] Epoch 2\n"
     ]
    },
    {
     "name": "stderr",
     "output_type": "stream",
     "text": [
      "100%|████████████████████████████████████████████████████████| 200/200 [00:19<00:00, 10.03it/s]\n"
     ]
    },
    {
     "name": "stdout",
     "output_type": "stream",
     "text": [
      "Epoch 3, Loss: 3.7490133941173553\n",
      "[SYST] Epoch 3\n"
     ]
    },
    {
     "name": "stderr",
     "output_type": "stream",
     "text": [
      "100%|████████████████████████████████████████████████████████| 200/200 [00:19<00:00, 10.01it/s]\n"
     ]
    },
    {
     "name": "stdout",
     "output_type": "stream",
     "text": [
      "Epoch 4, Loss: 3.628292601108551\n",
      "[SYST] Epoch 4\n"
     ]
    },
    {
     "name": "stderr",
     "output_type": "stream",
     "text": [
      "100%|████████████████████████████████████████████████████████| 200/200 [00:19<00:00, 10.03it/s]\n"
     ]
    },
    {
     "name": "stdout",
     "output_type": "stream",
     "text": [
      "Epoch 5, Loss: 3.5501730632781983\n",
      "[SYST] Epoch 5\n"
     ]
    },
    {
     "name": "stderr",
     "output_type": "stream",
     "text": [
      "100%|████████████████████████████████████████████████████████| 200/200 [00:20<00:00,  9.99it/s]\n"
     ]
    },
    {
     "name": "stdout",
     "output_type": "stream",
     "text": [
      "Epoch 6, Loss: 3.5221167075634003\n",
      "[SYST] Epoch 6\n"
     ]
    },
    {
     "name": "stderr",
     "output_type": "stream",
     "text": [
      "100%|████████████████████████████████████████████████████████| 200/200 [00:19<00:00, 10.03it/s]\n"
     ]
    },
    {
     "name": "stdout",
     "output_type": "stream",
     "text": [
      "Epoch 7, Loss: 3.5153794181346893\n",
      "[SYST] Epoch 7\n"
     ]
    },
    {
     "name": "stderr",
     "output_type": "stream",
     "text": [
      "100%|████████████████████████████████████████████████████████| 200/200 [00:19<00:00, 10.04it/s]\n"
     ]
    },
    {
     "name": "stdout",
     "output_type": "stream",
     "text": [
      "Epoch 8, Loss: 3.513034552335739\n",
      "[SYST] Epoch 8\n"
     ]
    },
    {
     "name": "stderr",
     "output_type": "stream",
     "text": [
      "100%|████████████████████████████████████████████████████████| 200/200 [00:20<00:00,  9.96it/s]\n"
     ]
    },
    {
     "name": "stdout",
     "output_type": "stream",
     "text": [
      "Epoch 9, Loss: 3.5115048718452453\n",
      "[SYST] Epoch 9\n"
     ]
    },
    {
     "name": "stderr",
     "output_type": "stream",
     "text": [
      "100%|████████████████████████████████████████████████████████| 200/200 [00:20<00:00,  9.99it/s]\n"
     ]
    },
    {
     "name": "stdout",
     "output_type": "stream",
     "text": [
      "Epoch 10, Loss: 3.5110759794712068\n",
      "[SYST] Epoch 0\n"
     ]
    },
    {
     "name": "stderr",
     "output_type": "stream",
     "text": [
      "100%|████████████████████████████████████████████████████████████| 2/2 [00:00<00:00, 13.45it/s]\n"
     ]
    },
    {
     "name": "stdout",
     "output_type": "stream",
     "text": [
      "Test Accuracy: 50.08%\n",
      "[{'accuracy': 0.9983, 'Layer1': {'[[0, 1, 2, 3, 4, 5, 6, 7]]': 0.5013, '[[0, 1]]': 0.5039, '[[0]]': 0.5082}, 'Layer2': {'[[0, 1, 2, 3, 4, 5, 6, 7]]': 0.5037, '[[0, 1]]': 0.5032, '[[0]]': 0.5075}, 'Layer3': {'[[0, 1, 2, 3, 4, 5, 6, 7]]': 0.4925, '[[0, 1]]': 0.5037, '[[0]]': 0.5081}}, {'accuracy': 0.9983, 'Layer1': {'[[0, 1, 2, 3, 4, 5, 6, 7]]': 0.5012, '[[0, 1]]': 0.5059, '[[0]]': 0.4956}, 'Layer2': {'[[0, 1, 2, 3, 4, 5, 6, 7]]': 0.5027, '[[0, 1]]': 0.4957, '[[0]]': 0.493}, 'Layer3': {'[[0, 1, 2, 3, 4, 5, 6, 7]]': 0.4966, '[[0, 1]]': 0.4996, '[[0]]': 0.5071}}, {'accuracy': 0.9906, 'Layer1': {'[[0, 1, 2, 3, 4, 5, 6, 7]]': 0.4964, '[[0, 1]]': 0.5118, '[[0]]': 0.5024}, 'Layer2': {'[[0, 1, 2, 3, 4, 5, 6, 7]]': 0.4993, '[[0, 1]]': 0.4958, '[[0]]': 0.5061}, 'Layer3': {'[[0, 1, 2, 3, 4, 5, 6, 7]]': 0.4949, '[[0, 1]]': 0.5015, '[[0]]': 0.4977}}, {'accuracy': 0.9955, 'Layer1': {'[[0, 1, 2, 3, 4, 5, 6, 7]]': 0.5024, '[[0, 1]]': 0.5025, '[[0]]': 0.4974}, 'Layer2': {'[[0, 1, 2, 3, 4, 5, 6, 7]]': 0.5068, '[[0, 1]]': 0.5074, '[[0]]': 0.5021}, 'Layer3': {'[[0, 1, 2, 3, 4, 5, 6, 7]]': 0.5036, '[[0, 1]]': 0.5027, '[[0]]': 0.4986}}, {'accuracy': 0.9864, 'Layer1': {'[[0, 1, 2, 3, 4, 5, 6, 7]]': 0.5007, '[[0, 1]]': 0.497, '[[0]]': 0.5085}, 'Layer2': {'[[0, 1, 2, 3, 4, 5, 6, 7]]': 0.4965, '[[0, 1]]': 0.5008}}]\n",
      "Layer2 : [[0]]\n"
     ]
    },
    {
     "name": "stderr",
     "output_type": "stream",
     "text": [
      "100%|█████████████████████████████████████████████| 1280000/1280000 [01:23<00:00, 15323.63it/s]\n",
      "100%|█████████████████████████████████████████████████| 10000/10000 [00:00<00:00, 16782.32it/s]\n"
     ]
    },
    {
     "name": "stdout",
     "output_type": "stream",
     "text": [
      "[SYST] Prepare Data\n"
     ]
    },
    {
     "name": "stderr",
     "output_type": "stream",
     "text": [
      "100%|████████████████████████████████████████████| 1280000/1280000 [00:07<00:00, 162602.48it/s]\n"
     ]
    },
    {
     "name": "stdout",
     "output_type": "stream",
     "text": [
      "[SYST] Prepare Data\n"
     ]
    },
    {
     "name": "stderr",
     "output_type": "stream",
     "text": [
      "100%|████████████████████████████████████████████████| 10000/10000 [00:00<00:00, 163262.84it/s]"
     ]
    },
    {
     "name": "stdout",
     "output_type": "stream",
     "text": [
      "[SYST] Epoch 0\n"
     ]
    },
    {
     "name": "stderr",
     "output_type": "stream",
     "text": [
      "\n",
      "100%|████████████████████████████████████████████████████████| 200/200 [00:19<00:00, 10.07it/s]\n"
     ]
    },
    {
     "name": "stdout",
     "output_type": "stream",
     "text": [
      "Epoch 1, Loss: 4.609501179456711\n",
      "[SYST] Epoch 1\n"
     ]
    },
    {
     "name": "stderr",
     "output_type": "stream",
     "text": [
      "100%|████████████████████████████████████████████████████████| 200/200 [00:19<00:00, 10.02it/s]\n"
     ]
    },
    {
     "name": "stdout",
     "output_type": "stream",
     "text": [
      "Epoch 2, Loss: 4.138464576005935\n",
      "[SYST] Epoch 2\n"
     ]
    },
    {
     "name": "stderr",
     "output_type": "stream",
     "text": [
      "100%|████████████████████████████████████████████████████████| 200/200 [00:19<00:00, 10.04it/s]\n"
     ]
    },
    {
     "name": "stdout",
     "output_type": "stream",
     "text": [
      "Epoch 3, Loss: 4.093760340213776\n",
      "[SYST] Epoch 3\n"
     ]
    },
    {
     "name": "stderr",
     "output_type": "stream",
     "text": [
      "100%|████████████████████████████████████████████████████████| 200/200 [00:20<00:00,  9.99it/s]\n"
     ]
    },
    {
     "name": "stdout",
     "output_type": "stream",
     "text": [
      "Epoch 4, Loss: 4.043409699201584\n",
      "[SYST] Epoch 4\n"
     ]
    },
    {
     "name": "stderr",
     "output_type": "stream",
     "text": [
      "100%|████████████████████████████████████████████████████████| 200/200 [00:20<00:00,  9.96it/s]\n"
     ]
    },
    {
     "name": "stdout",
     "output_type": "stream",
     "text": [
      "Epoch 5, Loss: 3.810849972963333\n",
      "[SYST] Epoch 5\n"
     ]
    },
    {
     "name": "stderr",
     "output_type": "stream",
     "text": [
      "100%|████████████████████████████████████████████████████████| 200/200 [00:20<00:00,  9.95it/s]\n"
     ]
    },
    {
     "name": "stdout",
     "output_type": "stream",
     "text": [
      "Epoch 6, Loss: 3.7074039673805235\n",
      "[SYST] Epoch 6\n"
     ]
    },
    {
     "name": "stderr",
     "output_type": "stream",
     "text": [
      "100%|████████████████████████████████████████████████████████| 200/200 [00:20<00:00,  9.99it/s]\n"
     ]
    },
    {
     "name": "stdout",
     "output_type": "stream",
     "text": [
      "Epoch 7, Loss: 3.6951728773117067\n",
      "[SYST] Epoch 7\n"
     ]
    },
    {
     "name": "stderr",
     "output_type": "stream",
     "text": [
      "100%|████████████████████████████████████████████████████████| 200/200 [00:19<00:00, 10.04it/s]\n"
     ]
    },
    {
     "name": "stdout",
     "output_type": "stream",
     "text": [
      "Epoch 8, Loss: 3.687262053489685\n",
      "[SYST] Epoch 8\n"
     ]
    },
    {
     "name": "stderr",
     "output_type": "stream",
     "text": [
      "100%|████████████████████████████████████████████████████████| 200/200 [00:19<00:00, 10.02it/s]\n"
     ]
    },
    {
     "name": "stdout",
     "output_type": "stream",
     "text": [
      "Epoch 9, Loss: 3.681283334493637\n",
      "[SYST] Epoch 9\n"
     ]
    },
    {
     "name": "stderr",
     "output_type": "stream",
     "text": [
      "100%|████████████████████████████████████████████████████████| 200/200 [00:19<00:00, 10.03it/s]\n"
     ]
    },
    {
     "name": "stdout",
     "output_type": "stream",
     "text": [
      "Epoch 10, Loss: 3.6777704834938048\n",
      "[SYST] Epoch 0\n"
     ]
    },
    {
     "name": "stderr",
     "output_type": "stream",
     "text": [
      "100%|████████████████████████████████████████████████████████████| 2/2 [00:00<00:00, 13.34it/s]\n"
     ]
    },
    {
     "name": "stdout",
     "output_type": "stream",
     "text": [
      "Test Accuracy: 50.03%\n",
      "[{'accuracy': 0.9983, 'Layer1': {'[[0, 1, 2, 3, 4, 5, 6, 7]]': 0.5013, '[[0, 1]]': 0.5039, '[[0]]': 0.5082}, 'Layer2': {'[[0, 1, 2, 3, 4, 5, 6, 7]]': 0.5037, '[[0, 1]]': 0.5032, '[[0]]': 0.5075}, 'Layer3': {'[[0, 1, 2, 3, 4, 5, 6, 7]]': 0.4925, '[[0, 1]]': 0.5037, '[[0]]': 0.5081}}, {'accuracy': 0.9983, 'Layer1': {'[[0, 1, 2, 3, 4, 5, 6, 7]]': 0.5012, '[[0, 1]]': 0.5059, '[[0]]': 0.4956}, 'Layer2': {'[[0, 1, 2, 3, 4, 5, 6, 7]]': 0.5027, '[[0, 1]]': 0.4957, '[[0]]': 0.493}, 'Layer3': {'[[0, 1, 2, 3, 4, 5, 6, 7]]': 0.4966, '[[0, 1]]': 0.4996, '[[0]]': 0.5071}}, {'accuracy': 0.9906, 'Layer1': {'[[0, 1, 2, 3, 4, 5, 6, 7]]': 0.4964, '[[0, 1]]': 0.5118, '[[0]]': 0.5024}, 'Layer2': {'[[0, 1, 2, 3, 4, 5, 6, 7]]': 0.4993, '[[0, 1]]': 0.4958, '[[0]]': 0.5061}, 'Layer3': {'[[0, 1, 2, 3, 4, 5, 6, 7]]': 0.4949, '[[0, 1]]': 0.5015, '[[0]]': 0.4977}}, {'accuracy': 0.9955, 'Layer1': {'[[0, 1, 2, 3, 4, 5, 6, 7]]': 0.5024, '[[0, 1]]': 0.5025, '[[0]]': 0.4974}, 'Layer2': {'[[0, 1, 2, 3, 4, 5, 6, 7]]': 0.5068, '[[0, 1]]': 0.5074, '[[0]]': 0.5021}, 'Layer3': {'[[0, 1, 2, 3, 4, 5, 6, 7]]': 0.5036, '[[0, 1]]': 0.5027, '[[0]]': 0.4986}}, {'accuracy': 0.9864, 'Layer1': {'[[0, 1, 2, 3, 4, 5, 6, 7]]': 0.5007, '[[0, 1]]': 0.497, '[[0]]': 0.5085}, 'Layer2': {'[[0, 1, 2, 3, 4, 5, 6, 7]]': 0.4965, '[[0, 1]]': 0.5008, '[[0]]': 0.5003}}]\n",
      "Layer3 : [[0, 1, 2, 3, 4, 5, 6, 7]]\n"
     ]
    },
    {
     "name": "stderr",
     "output_type": "stream",
     "text": [
      "100%|█████████████████████████████████████████████| 1280000/1280000 [01:22<00:00, 15563.32it/s]\n",
      "100%|█████████████████████████████████████████████████| 10000/10000 [00:00<00:00, 16845.44it/s]\n"
     ]
    },
    {
     "name": "stdout",
     "output_type": "stream",
     "text": [
      "[SYST] Prepare Data\n"
     ]
    },
    {
     "name": "stderr",
     "output_type": "stream",
     "text": [
      "100%|████████████████████████████████████████████| 1280000/1280000 [00:08<00:00, 144693.00it/s]\n"
     ]
    },
    {
     "name": "stdout",
     "output_type": "stream",
     "text": [
      "[SYST] Prepare Data\n"
     ]
    },
    {
     "name": "stderr",
     "output_type": "stream",
     "text": [
      "100%|████████████████████████████████████████████████| 10000/10000 [00:00<00:00, 147479.56it/s]"
     ]
    },
    {
     "name": "stdout",
     "output_type": "stream",
     "text": [
      "[SYST] Epoch 0\n"
     ]
    },
    {
     "name": "stderr",
     "output_type": "stream",
     "text": [
      "\n",
      "100%|████████████████████████████████████████████████████████| 200/200 [00:19<00:00, 10.04it/s]\n"
     ]
    },
    {
     "name": "stdout",
     "output_type": "stream",
     "text": [
      "Epoch 1, Loss: 3.684705834388733\n",
      "[SYST] Epoch 1\n"
     ]
    },
    {
     "name": "stderr",
     "output_type": "stream",
     "text": [
      "100%|████████████████████████████████████████████████████████| 200/200 [00:20<00:00,  9.94it/s]\n"
     ]
    },
    {
     "name": "stdout",
     "output_type": "stream",
     "text": [
      "Epoch 2, Loss: 3.6390181088447573\n",
      "[SYST] Epoch 2\n"
     ]
    },
    {
     "name": "stderr",
     "output_type": "stream",
     "text": [
      "100%|████████████████████████████████████████████████████████| 200/200 [00:20<00:00,  9.87it/s]\n"
     ]
    },
    {
     "name": "stdout",
     "output_type": "stream",
     "text": [
      "Epoch 3, Loss: 3.6377963995933533\n",
      "[SYST] Epoch 3\n"
     ]
    },
    {
     "name": "stderr",
     "output_type": "stream",
     "text": [
      "100%|████████████████████████████████████████████████████████| 200/200 [00:20<00:00,  9.83it/s]\n"
     ]
    },
    {
     "name": "stdout",
     "output_type": "stream",
     "text": [
      "Epoch 4, Loss: 3.6375399899482725\n",
      "[SYST] Epoch 4\n"
     ]
    },
    {
     "name": "stderr",
     "output_type": "stream",
     "text": [
      "100%|████████████████████████████████████████████████████████| 200/200 [00:20<00:00,  9.83it/s]\n"
     ]
    },
    {
     "name": "stdout",
     "output_type": "stream",
     "text": [
      "Epoch 5, Loss: 3.637312799692154\n",
      "[SYST] Epoch 5\n"
     ]
    },
    {
     "name": "stderr",
     "output_type": "stream",
     "text": [
      "100%|████████████████████████████████████████████████████████| 200/200 [00:20<00:00,  9.83it/s]\n"
     ]
    },
    {
     "name": "stdout",
     "output_type": "stream",
     "text": [
      "Epoch 6, Loss: 3.637169771194458\n",
      "[SYST] Epoch 6\n"
     ]
    },
    {
     "name": "stderr",
     "output_type": "stream",
     "text": [
      "100%|████████████████████████████████████████████████████████| 200/200 [00:20<00:00,  9.88it/s]\n"
     ]
    },
    {
     "name": "stdout",
     "output_type": "stream",
     "text": [
      "Epoch 7, Loss: 3.6371030938625335\n",
      "[SYST] Epoch 7\n"
     ]
    },
    {
     "name": "stderr",
     "output_type": "stream",
     "text": [
      "100%|████████████████████████████████████████████████████████| 200/200 [00:20<00:00,  9.85it/s]\n"
     ]
    },
    {
     "name": "stdout",
     "output_type": "stream",
     "text": [
      "Epoch 8, Loss: 3.636676733493805\n",
      "[SYST] Epoch 8\n"
     ]
    },
    {
     "name": "stderr",
     "output_type": "stream",
     "text": [
      "100%|████████████████████████████████████████████████████████| 200/200 [00:20<00:00,  9.82it/s]\n"
     ]
    },
    {
     "name": "stdout",
     "output_type": "stream",
     "text": [
      "Epoch 9, Loss: 3.636774806976318\n",
      "[SYST] Epoch 9\n"
     ]
    },
    {
     "name": "stderr",
     "output_type": "stream",
     "text": [
      "100%|████████████████████████████████████████████████████████| 200/200 [00:20<00:00,  9.81it/s]\n"
     ]
    },
    {
     "name": "stdout",
     "output_type": "stream",
     "text": [
      "Epoch 10, Loss: 3.636773555278778\n",
      "[SYST] Epoch 0\n"
     ]
    },
    {
     "name": "stderr",
     "output_type": "stream",
     "text": [
      "100%|████████████████████████████████████████████████████████████| 2/2 [00:00<00:00, 13.19it/s]\n"
     ]
    },
    {
     "name": "stdout",
     "output_type": "stream",
     "text": [
      "Test Accuracy: 49.93%\n",
      "[{'accuracy': 0.9983, 'Layer1': {'[[0, 1, 2, 3, 4, 5, 6, 7]]': 0.5013, '[[0, 1]]': 0.5039, '[[0]]': 0.5082}, 'Layer2': {'[[0, 1, 2, 3, 4, 5, 6, 7]]': 0.5037, '[[0, 1]]': 0.5032, '[[0]]': 0.5075}, 'Layer3': {'[[0, 1, 2, 3, 4, 5, 6, 7]]': 0.4925, '[[0, 1]]': 0.5037, '[[0]]': 0.5081}}, {'accuracy': 0.9983, 'Layer1': {'[[0, 1, 2, 3, 4, 5, 6, 7]]': 0.5012, '[[0, 1]]': 0.5059, '[[0]]': 0.4956}, 'Layer2': {'[[0, 1, 2, 3, 4, 5, 6, 7]]': 0.5027, '[[0, 1]]': 0.4957, '[[0]]': 0.493}, 'Layer3': {'[[0, 1, 2, 3, 4, 5, 6, 7]]': 0.4966, '[[0, 1]]': 0.4996, '[[0]]': 0.5071}}, {'accuracy': 0.9906, 'Layer1': {'[[0, 1, 2, 3, 4, 5, 6, 7]]': 0.4964, '[[0, 1]]': 0.5118, '[[0]]': 0.5024}, 'Layer2': {'[[0, 1, 2, 3, 4, 5, 6, 7]]': 0.4993, '[[0, 1]]': 0.4958, '[[0]]': 0.5061}, 'Layer3': {'[[0, 1, 2, 3, 4, 5, 6, 7]]': 0.4949, '[[0, 1]]': 0.5015, '[[0]]': 0.4977}}, {'accuracy': 0.9955, 'Layer1': {'[[0, 1, 2, 3, 4, 5, 6, 7]]': 0.5024, '[[0, 1]]': 0.5025, '[[0]]': 0.4974}, 'Layer2': {'[[0, 1, 2, 3, 4, 5, 6, 7]]': 0.5068, '[[0, 1]]': 0.5074, '[[0]]': 0.5021}, 'Layer3': {'[[0, 1, 2, 3, 4, 5, 6, 7]]': 0.5036, '[[0, 1]]': 0.5027, '[[0]]': 0.4986}}, {'accuracy': 0.9864, 'Layer1': {'[[0, 1, 2, 3, 4, 5, 6, 7]]': 0.5007, '[[0, 1]]': 0.497, '[[0]]': 0.5085}, 'Layer2': {'[[0, 1, 2, 3, 4, 5, 6, 7]]': 0.4965, '[[0, 1]]': 0.5008, '[[0]]': 0.5003}, 'Layer3': {'[[0, 1, 2, 3, 4, 5, 6, 7]]': 0.4993}}]\n",
      "Layer3 : [[0, 1]]\n"
     ]
    },
    {
     "name": "stderr",
     "output_type": "stream",
     "text": [
      "100%|█████████████████████████████████████████████| 1280000/1280000 [01:22<00:00, 15472.24it/s]\n",
      "100%|█████████████████████████████████████████████████| 10000/10000 [00:00<00:00, 16732.10it/s]\n"
     ]
    },
    {
     "name": "stdout",
     "output_type": "stream",
     "text": [
      "[SYST] Prepare Data\n"
     ]
    },
    {
     "name": "stderr",
     "output_type": "stream",
     "text": [
      "100%|████████████████████████████████████████████| 1280000/1280000 [00:08<00:00, 158572.18it/s]\n"
     ]
    },
    {
     "name": "stdout",
     "output_type": "stream",
     "text": [
      "[SYST] Prepare Data\n"
     ]
    },
    {
     "name": "stderr",
     "output_type": "stream",
     "text": [
      "100%|████████████████████████████████████████████████| 10000/10000 [00:00<00:00, 159022.13it/s]"
     ]
    },
    {
     "name": "stdout",
     "output_type": "stream",
     "text": [
      "[SYST] Epoch 0\n"
     ]
    },
    {
     "name": "stderr",
     "output_type": "stream",
     "text": [
      "\n",
      "100%|████████████████████████████████████████████████████████| 200/200 [00:19<00:00, 10.01it/s]\n"
     ]
    },
    {
     "name": "stdout",
     "output_type": "stream",
     "text": [
      "Epoch 1, Loss: 3.7551917684078218\n",
      "[SYST] Epoch 1\n"
     ]
    },
    {
     "name": "stderr",
     "output_type": "stream",
     "text": [
      "100%|████████████████████████████████████████████████████████| 200/200 [00:20<00:00,  9.95it/s]\n"
     ]
    },
    {
     "name": "stdout",
     "output_type": "stream",
     "text": [
      "Epoch 2, Loss: 3.6423707461357115\n",
      "[SYST] Epoch 2\n"
     ]
    },
    {
     "name": "stderr",
     "output_type": "stream",
     "text": [
      "100%|████████████████████████████████████████████████████████| 200/200 [00:20<00:00,  9.96it/s]\n"
     ]
    },
    {
     "name": "stdout",
     "output_type": "stream",
     "text": [
      "Epoch 3, Loss: 3.639487211704254\n",
      "[SYST] Epoch 3\n"
     ]
    },
    {
     "name": "stderr",
     "output_type": "stream",
     "text": [
      "100%|████████████████████████████████████████████████████████| 200/200 [00:20<00:00,  9.93it/s]\n"
     ]
    },
    {
     "name": "stdout",
     "output_type": "stream",
     "text": [
      "Epoch 4, Loss: 3.6377491617202757\n",
      "[SYST] Epoch 4\n"
     ]
    },
    {
     "name": "stderr",
     "output_type": "stream",
     "text": [
      "100%|████████████████████████████████████████████████████████| 200/200 [00:20<00:00,  9.97it/s]\n"
     ]
    },
    {
     "name": "stdout",
     "output_type": "stream",
     "text": [
      "Epoch 5, Loss: 3.636429775953293\n",
      "[SYST] Epoch 5\n"
     ]
    },
    {
     "name": "stderr",
     "output_type": "stream",
     "text": [
      "100%|████████████████████████████████████████████████████████| 200/200 [00:20<00:00,  9.95it/s]\n"
     ]
    },
    {
     "name": "stdout",
     "output_type": "stream",
     "text": [
      "Epoch 6, Loss: 3.635473722219467\n",
      "[SYST] Epoch 6\n"
     ]
    },
    {
     "name": "stderr",
     "output_type": "stream",
     "text": [
      "100%|████████████████████████████████████████████████████████| 200/200 [00:20<00:00,  9.94it/s]\n"
     ]
    },
    {
     "name": "stdout",
     "output_type": "stream",
     "text": [
      "Epoch 7, Loss: 3.6348740541934967\n",
      "[SYST] Epoch 7\n"
     ]
    },
    {
     "name": "stderr",
     "output_type": "stream",
     "text": [
      "100%|████████████████████████████████████████████████████████| 200/200 [00:20<00:00,  9.96it/s]\n"
     ]
    },
    {
     "name": "stdout",
     "output_type": "stream",
     "text": [
      "Epoch 8, Loss: 3.6345687925815584\n",
      "[SYST] Epoch 8\n"
     ]
    },
    {
     "name": "stderr",
     "output_type": "stream",
     "text": [
      "100%|████████████████████████████████████████████████████████| 200/200 [00:20<00:00, 10.00it/s]\n"
     ]
    },
    {
     "name": "stdout",
     "output_type": "stream",
     "text": [
      "Epoch 9, Loss: 3.6342274260520937\n",
      "[SYST] Epoch 9\n"
     ]
    },
    {
     "name": "stderr",
     "output_type": "stream",
     "text": [
      "100%|████████████████████████████████████████████████████████| 200/200 [00:20<00:00,  9.97it/s]\n"
     ]
    },
    {
     "name": "stdout",
     "output_type": "stream",
     "text": [
      "Epoch 10, Loss: 3.6338541507720947\n",
      "[SYST] Epoch 0\n"
     ]
    },
    {
     "name": "stderr",
     "output_type": "stream",
     "text": [
      "100%|████████████████████████████████████████████████████████████| 2/2 [00:00<00:00, 13.38it/s]\n"
     ]
    },
    {
     "name": "stdout",
     "output_type": "stream",
     "text": [
      "Test Accuracy: 49.52%\n",
      "[{'accuracy': 0.9983, 'Layer1': {'[[0, 1, 2, 3, 4, 5, 6, 7]]': 0.5013, '[[0, 1]]': 0.5039, '[[0]]': 0.5082}, 'Layer2': {'[[0, 1, 2, 3, 4, 5, 6, 7]]': 0.5037, '[[0, 1]]': 0.5032, '[[0]]': 0.5075}, 'Layer3': {'[[0, 1, 2, 3, 4, 5, 6, 7]]': 0.4925, '[[0, 1]]': 0.5037, '[[0]]': 0.5081}}, {'accuracy': 0.9983, 'Layer1': {'[[0, 1, 2, 3, 4, 5, 6, 7]]': 0.5012, '[[0, 1]]': 0.5059, '[[0]]': 0.4956}, 'Layer2': {'[[0, 1, 2, 3, 4, 5, 6, 7]]': 0.5027, '[[0, 1]]': 0.4957, '[[0]]': 0.493}, 'Layer3': {'[[0, 1, 2, 3, 4, 5, 6, 7]]': 0.4966, '[[0, 1]]': 0.4996, '[[0]]': 0.5071}}, {'accuracy': 0.9906, 'Layer1': {'[[0, 1, 2, 3, 4, 5, 6, 7]]': 0.4964, '[[0, 1]]': 0.5118, '[[0]]': 0.5024}, 'Layer2': {'[[0, 1, 2, 3, 4, 5, 6, 7]]': 0.4993, '[[0, 1]]': 0.4958, '[[0]]': 0.5061}, 'Layer3': {'[[0, 1, 2, 3, 4, 5, 6, 7]]': 0.4949, '[[0, 1]]': 0.5015, '[[0]]': 0.4977}}, {'accuracy': 0.9955, 'Layer1': {'[[0, 1, 2, 3, 4, 5, 6, 7]]': 0.5024, '[[0, 1]]': 0.5025, '[[0]]': 0.4974}, 'Layer2': {'[[0, 1, 2, 3, 4, 5, 6, 7]]': 0.5068, '[[0, 1]]': 0.5074, '[[0]]': 0.5021}, 'Layer3': {'[[0, 1, 2, 3, 4, 5, 6, 7]]': 0.5036, '[[0, 1]]': 0.5027, '[[0]]': 0.4986}}, {'accuracy': 0.9864, 'Layer1': {'[[0, 1, 2, 3, 4, 5, 6, 7]]': 0.5007, '[[0, 1]]': 0.497, '[[0]]': 0.5085}, 'Layer2': {'[[0, 1, 2, 3, 4, 5, 6, 7]]': 0.4965, '[[0, 1]]': 0.5008, '[[0]]': 0.5003}, 'Layer3': {'[[0, 1, 2, 3, 4, 5, 6, 7]]': 0.4993, '[[0, 1]]': 0.4952}}]\n",
      "Layer3 : [[0]]\n"
     ]
    },
    {
     "name": "stderr",
     "output_type": "stream",
     "text": [
      "100%|█████████████████████████████████████████████| 1280000/1280000 [01:23<00:00, 15416.03it/s]\n",
      "100%|█████████████████████████████████████████████████| 10000/10000 [00:00<00:00, 16554.36it/s]\n"
     ]
    },
    {
     "name": "stdout",
     "output_type": "stream",
     "text": [
      "[SYST] Prepare Data\n"
     ]
    },
    {
     "name": "stderr",
     "output_type": "stream",
     "text": [
      "100%|████████████████████████████████████████████| 1280000/1280000 [00:07<00:00, 162190.56it/s]\n"
     ]
    },
    {
     "name": "stdout",
     "output_type": "stream",
     "text": [
      "[SYST] Prepare Data\n"
     ]
    },
    {
     "name": "stderr",
     "output_type": "stream",
     "text": [
      "100%|████████████████████████████████████████████████| 10000/10000 [00:00<00:00, 163583.12it/s]"
     ]
    },
    {
     "name": "stdout",
     "output_type": "stream",
     "text": [
      "[SYST] Epoch 0\n"
     ]
    },
    {
     "name": "stderr",
     "output_type": "stream",
     "text": [
      "\n",
      "100%|████████████████████████████████████████████████████████| 200/200 [00:19<00:00, 10.12it/s]\n"
     ]
    },
    {
     "name": "stdout",
     "output_type": "stream",
     "text": [
      "Epoch 1, Loss: 3.7907266652584077\n",
      "[SYST] Epoch 1\n"
     ]
    },
    {
     "name": "stderr",
     "output_type": "stream",
     "text": [
      "100%|████████████████████████████████████████████████████████| 200/200 [00:19<00:00, 10.03it/s]\n"
     ]
    },
    {
     "name": "stdout",
     "output_type": "stream",
     "text": [
      "Epoch 2, Loss: 3.6454555904865265\n",
      "[SYST] Epoch 2\n"
     ]
    },
    {
     "name": "stderr",
     "output_type": "stream",
     "text": [
      "100%|████████████████████████████████████████████████████████| 200/200 [00:19<00:00, 10.05it/s]\n"
     ]
    },
    {
     "name": "stdout",
     "output_type": "stream",
     "text": [
      "Epoch 3, Loss: 3.6415652406215666\n",
      "[SYST] Epoch 3\n"
     ]
    },
    {
     "name": "stderr",
     "output_type": "stream",
     "text": [
      "100%|████████████████████████████████████████████████████████| 200/200 [00:20<00:00, 10.00it/s]\n"
     ]
    },
    {
     "name": "stdout",
     "output_type": "stream",
     "text": [
      "Epoch 4, Loss: 3.6403688621520995\n",
      "[SYST] Epoch 4\n"
     ]
    },
    {
     "name": "stderr",
     "output_type": "stream",
     "text": [
      "100%|████████████████████████████████████████████████████████| 200/200 [00:19<00:00, 10.01it/s]\n"
     ]
    },
    {
     "name": "stdout",
     "output_type": "stream",
     "text": [
      "Epoch 5, Loss: 3.6393526816368102\n",
      "[SYST] Epoch 5\n"
     ]
    },
    {
     "name": "stderr",
     "output_type": "stream",
     "text": [
      "100%|████████████████████████████████████████████████████████| 200/200 [00:19<00:00, 10.00it/s]\n"
     ]
    },
    {
     "name": "stdout",
     "output_type": "stream",
     "text": [
      "Epoch 6, Loss: 3.638545495271683\n",
      "[SYST] Epoch 6\n"
     ]
    },
    {
     "name": "stderr",
     "output_type": "stream",
     "text": [
      "100%|████████████████████████████████████████████████████████| 200/200 [00:19<00:00, 10.00it/s]\n"
     ]
    },
    {
     "name": "stdout",
     "output_type": "stream",
     "text": [
      "Epoch 7, Loss: 3.638308265209198\n",
      "[SYST] Epoch 7\n"
     ]
    },
    {
     "name": "stderr",
     "output_type": "stream",
     "text": [
      "100%|████████████████████████████████████████████████████████| 200/200 [00:19<00:00, 10.04it/s]\n"
     ]
    },
    {
     "name": "stdout",
     "output_type": "stream",
     "text": [
      "Epoch 8, Loss: 3.637829098701477\n",
      "[SYST] Epoch 8\n"
     ]
    },
    {
     "name": "stderr",
     "output_type": "stream",
     "text": [
      "100%|████████████████████████████████████████████████████████| 200/200 [00:19<00:00, 10.02it/s]\n"
     ]
    },
    {
     "name": "stdout",
     "output_type": "stream",
     "text": [
      "Epoch 9, Loss: 3.637440164089203\n",
      "[SYST] Epoch 9\n"
     ]
    },
    {
     "name": "stderr",
     "output_type": "stream",
     "text": [
      "100%|████████████████████████████████████████████████████████| 200/200 [00:19<00:00, 10.03it/s]\n"
     ]
    },
    {
     "name": "stdout",
     "output_type": "stream",
     "text": [
      "Epoch 10, Loss: 3.6370459401607516\n",
      "[SYST] Epoch 0\n"
     ]
    },
    {
     "name": "stderr",
     "output_type": "stream",
     "text": [
      "100%|████████████████████████████████████████████████████████████| 2/2 [00:00<00:00, 13.44it/s]\n"
     ]
    },
    {
     "name": "stdout",
     "output_type": "stream",
     "text": [
      "Test Accuracy: 50.48%\n",
      "[{'accuracy': 0.9983, 'Layer1': {'[[0, 1, 2, 3, 4, 5, 6, 7]]': 0.5013, '[[0, 1]]': 0.5039, '[[0]]': 0.5082}, 'Layer2': {'[[0, 1, 2, 3, 4, 5, 6, 7]]': 0.5037, '[[0, 1]]': 0.5032, '[[0]]': 0.5075}, 'Layer3': {'[[0, 1, 2, 3, 4, 5, 6, 7]]': 0.4925, '[[0, 1]]': 0.5037, '[[0]]': 0.5081}}, {'accuracy': 0.9983, 'Layer1': {'[[0, 1, 2, 3, 4, 5, 6, 7]]': 0.5012, '[[0, 1]]': 0.5059, '[[0]]': 0.4956}, 'Layer2': {'[[0, 1, 2, 3, 4, 5, 6, 7]]': 0.5027, '[[0, 1]]': 0.4957, '[[0]]': 0.493}, 'Layer3': {'[[0, 1, 2, 3, 4, 5, 6, 7]]': 0.4966, '[[0, 1]]': 0.4996, '[[0]]': 0.5071}}, {'accuracy': 0.9906, 'Layer1': {'[[0, 1, 2, 3, 4, 5, 6, 7]]': 0.4964, '[[0, 1]]': 0.5118, '[[0]]': 0.5024}, 'Layer2': {'[[0, 1, 2, 3, 4, 5, 6, 7]]': 0.4993, '[[0, 1]]': 0.4958, '[[0]]': 0.5061}, 'Layer3': {'[[0, 1, 2, 3, 4, 5, 6, 7]]': 0.4949, '[[0, 1]]': 0.5015, '[[0]]': 0.4977}}, {'accuracy': 0.9955, 'Layer1': {'[[0, 1, 2, 3, 4, 5, 6, 7]]': 0.5024, '[[0, 1]]': 0.5025, '[[0]]': 0.4974}, 'Layer2': {'[[0, 1, 2, 3, 4, 5, 6, 7]]': 0.5068, '[[0, 1]]': 0.5074, '[[0]]': 0.5021}, 'Layer3': {'[[0, 1, 2, 3, 4, 5, 6, 7]]': 0.5036, '[[0, 1]]': 0.5027, '[[0]]': 0.4986}}, {'accuracy': 0.9864, 'Layer1': {'[[0, 1, 2, 3, 4, 5, 6, 7]]': 0.5007, '[[0, 1]]': 0.497, '[[0]]': 0.5085}, 'Layer2': {'[[0, 1, 2, 3, 4, 5, 6, 7]]': 0.4965, '[[0, 1]]': 0.5008, '[[0]]': 0.5003}, 'Layer3': {'[[0, 1, 2, 3, 4, 5, 6, 7]]': 0.4993, '[[0, 1]]': 0.4952, '[[0]]': 0.5048}}]\n"
     ]
    },
    {
     "name": "stderr",
     "output_type": "stream",
     "text": [
      "100%|████████████████████████████████████████████| 1048576/1048576 [00:10<00:00, 100642.83it/s]\n",
      "100%|█████████████████████████████████████████████████████| 1024/1024 [00:08<00:00, 121.13it/s]\n"
     ]
    },
    {
     "name": "stdout",
     "output_type": "stream",
     "text": [
      "Epoch 1, Loss: 0.3828051673090158\n"
     ]
    },
    {
     "name": "stderr",
     "output_type": "stream",
     "text": [
      "100%|█████████████████████████████████████████████████████| 1024/1024 [00:08<00:00, 116.09it/s]\n"
     ]
    },
    {
     "name": "stdout",
     "output_type": "stream",
     "text": [
      "Epoch 2, Loss: 0.007288649767360766\n"
     ]
    },
    {
     "name": "stderr",
     "output_type": "stream",
     "text": [
      "100%|█████████████████████████████████████████████████████| 1024/1024 [00:08<00:00, 116.55it/s]\n"
     ]
    },
    {
     "name": "stdout",
     "output_type": "stream",
     "text": [
      "Epoch 3, Loss: 0.002652238387838679\n"
     ]
    },
    {
     "name": "stderr",
     "output_type": "stream",
     "text": [
      "100%|█████████████████████████████████████████████████| 10000/10000 [00:00<00:00, 98622.21it/s]\n",
      "100%|█████████████████████████████████████████████████████████| 10/10 [00:00<00:00, 159.59it/s]\n"
     ]
    },
    {
     "name": "stdout",
     "output_type": "stream",
     "text": [
      "Test Accuracy: 0.9995\n",
      "Layer1 : [[0, 1, 2, 3, 4, 5, 6, 7]]\n"
     ]
    },
    {
     "name": "stderr",
     "output_type": "stream",
     "text": [
      "100%|█████████████████████████████████████████████| 1280000/1280000 [01:23<00:00, 15400.49it/s]\n",
      "100%|█████████████████████████████████████████████████| 10000/10000 [00:00<00:00, 16797.00it/s]\n"
     ]
    },
    {
     "name": "stdout",
     "output_type": "stream",
     "text": [
      "[SYST] Prepare Data\n"
     ]
    },
    {
     "name": "stderr",
     "output_type": "stream",
     "text": [
      "100%|████████████████████████████████████████████| 1280000/1280000 [00:08<00:00, 145136.42it/s]\n"
     ]
    },
    {
     "name": "stdout",
     "output_type": "stream",
     "text": [
      "[SYST] Prepare Data\n"
     ]
    },
    {
     "name": "stderr",
     "output_type": "stream",
     "text": [
      "100%|████████████████████████████████████████████████| 10000/10000 [00:00<00:00, 147538.18it/s]"
     ]
    },
    {
     "name": "stdout",
     "output_type": "stream",
     "text": [
      "[SYST] Epoch 0\n"
     ]
    },
    {
     "name": "stderr",
     "output_type": "stream",
     "text": [
      "\n",
      "100%|████████████████████████████████████████████████████████| 200/200 [00:19<00:00, 10.00it/s]\n"
     ]
    },
    {
     "name": "stdout",
     "output_type": "stream",
     "text": [
      "Epoch 1, Loss: 6.896913003921509\n",
      "[SYST] Epoch 1\n"
     ]
    },
    {
     "name": "stderr",
     "output_type": "stream",
     "text": [
      "100%|████████████████████████████████████████████████████████| 200/200 [00:20<00:00,  9.89it/s]\n"
     ]
    },
    {
     "name": "stdout",
     "output_type": "stream",
     "text": [
      "Epoch 2, Loss: 6.313498935699463\n",
      "[SYST] Epoch 2\n"
     ]
    },
    {
     "name": "stderr",
     "output_type": "stream",
     "text": [
      "100%|████████████████████████████████████████████████████████| 200/200 [00:20<00:00,  9.87it/s]\n"
     ]
    },
    {
     "name": "stdout",
     "output_type": "stream",
     "text": [
      "Epoch 3, Loss: 6.254650001525879\n",
      "[SYST] Epoch 3\n"
     ]
    },
    {
     "name": "stderr",
     "output_type": "stream",
     "text": [
      "100%|████████████████████████████████████████████████████████| 200/200 [00:20<00:00,  9.89it/s]\n"
     ]
    },
    {
     "name": "stdout",
     "output_type": "stream",
     "text": [
      "Epoch 4, Loss: 6.2196236729621885\n",
      "[SYST] Epoch 4\n"
     ]
    },
    {
     "name": "stderr",
     "output_type": "stream",
     "text": [
      "100%|████████████████████████████████████████████████████████| 200/200 [00:20<00:00,  9.88it/s]\n"
     ]
    },
    {
     "name": "stdout",
     "output_type": "stream",
     "text": [
      "Epoch 5, Loss: 6.2024924540519715\n",
      "[SYST] Epoch 5\n"
     ]
    },
    {
     "name": "stderr",
     "output_type": "stream",
     "text": [
      "100%|████████████████████████████████████████████████████████| 200/200 [00:20<00:00,  9.90it/s]\n"
     ]
    },
    {
     "name": "stdout",
     "output_type": "stream",
     "text": [
      "Epoch 6, Loss: 6.192328960895538\n",
      "[SYST] Epoch 6\n"
     ]
    },
    {
     "name": "stderr",
     "output_type": "stream",
     "text": [
      "100%|████████████████████████████████████████████████████████| 200/200 [00:20<00:00,  9.84it/s]\n"
     ]
    },
    {
     "name": "stdout",
     "output_type": "stream",
     "text": [
      "Epoch 7, Loss: 6.185092396736145\n",
      "[SYST] Epoch 7\n"
     ]
    },
    {
     "name": "stderr",
     "output_type": "stream",
     "text": [
      "100%|████████████████████████████████████████████████████████| 200/200 [00:20<00:00,  9.84it/s]\n"
     ]
    },
    {
     "name": "stdout",
     "output_type": "stream",
     "text": [
      "Epoch 8, Loss: 6.179775686264038\n",
      "[SYST] Epoch 8\n"
     ]
    },
    {
     "name": "stderr",
     "output_type": "stream",
     "text": [
      "100%|████████████████████████████████████████████████████████| 200/200 [00:20<00:00,  9.84it/s]\n"
     ]
    },
    {
     "name": "stdout",
     "output_type": "stream",
     "text": [
      "Epoch 9, Loss: 6.172931816577911\n",
      "[SYST] Epoch 9\n"
     ]
    },
    {
     "name": "stderr",
     "output_type": "stream",
     "text": [
      "100%|████████████████████████████████████████████████████████| 200/200 [00:20<00:00,  9.85it/s]\n"
     ]
    },
    {
     "name": "stdout",
     "output_type": "stream",
     "text": [
      "Epoch 10, Loss: 6.167773993015289\n",
      "[SYST] Epoch 0\n"
     ]
    },
    {
     "name": "stderr",
     "output_type": "stream",
     "text": [
      "100%|████████████████████████████████████████████████████████████| 2/2 [00:00<00:00, 12.96it/s]\n"
     ]
    },
    {
     "name": "stdout",
     "output_type": "stream",
     "text": [
      "Test Accuracy: 50.43%\n",
      "[{'accuracy': 0.9983, 'Layer1': {'[[0, 1, 2, 3, 4, 5, 6, 7]]': 0.5013, '[[0, 1]]': 0.5039, '[[0]]': 0.5082}, 'Layer2': {'[[0, 1, 2, 3, 4, 5, 6, 7]]': 0.5037, '[[0, 1]]': 0.5032, '[[0]]': 0.5075}, 'Layer3': {'[[0, 1, 2, 3, 4, 5, 6, 7]]': 0.4925, '[[0, 1]]': 0.5037, '[[0]]': 0.5081}}, {'accuracy': 0.9983, 'Layer1': {'[[0, 1, 2, 3, 4, 5, 6, 7]]': 0.5012, '[[0, 1]]': 0.5059, '[[0]]': 0.4956}, 'Layer2': {'[[0, 1, 2, 3, 4, 5, 6, 7]]': 0.5027, '[[0, 1]]': 0.4957, '[[0]]': 0.493}, 'Layer3': {'[[0, 1, 2, 3, 4, 5, 6, 7]]': 0.4966, '[[0, 1]]': 0.4996, '[[0]]': 0.5071}}, {'accuracy': 0.9906, 'Layer1': {'[[0, 1, 2, 3, 4, 5, 6, 7]]': 0.4964, '[[0, 1]]': 0.5118, '[[0]]': 0.5024}, 'Layer2': {'[[0, 1, 2, 3, 4, 5, 6, 7]]': 0.4993, '[[0, 1]]': 0.4958, '[[0]]': 0.5061}, 'Layer3': {'[[0, 1, 2, 3, 4, 5, 6, 7]]': 0.4949, '[[0, 1]]': 0.5015, '[[0]]': 0.4977}}, {'accuracy': 0.9955, 'Layer1': {'[[0, 1, 2, 3, 4, 5, 6, 7]]': 0.5024, '[[0, 1]]': 0.5025, '[[0]]': 0.4974}, 'Layer2': {'[[0, 1, 2, 3, 4, 5, 6, 7]]': 0.5068, '[[0, 1]]': 0.5074, '[[0]]': 0.5021}, 'Layer3': {'[[0, 1, 2, 3, 4, 5, 6, 7]]': 0.5036, '[[0, 1]]': 0.5027, '[[0]]': 0.4986}}, {'accuracy': 0.9864, 'Layer1': {'[[0, 1, 2, 3, 4, 5, 6, 7]]': 0.5007, '[[0, 1]]': 0.497, '[[0]]': 0.5085}, 'Layer2': {'[[0, 1, 2, 3, 4, 5, 6, 7]]': 0.4965, '[[0, 1]]': 0.5008, '[[0]]': 0.5003}, 'Layer3': {'[[0, 1, 2, 3, 4, 5, 6, 7]]': 0.4993, '[[0, 1]]': 0.4952, '[[0]]': 0.5048}}, {'accuracy': 0.9995, 'Layer1': {'[[0, 1, 2, 3, 4, 5, 6, 7]]': 0.5043}}]\n",
      "Layer1 : [[0, 1]]\n"
     ]
    },
    {
     "name": "stderr",
     "output_type": "stream",
     "text": [
      "100%|█████████████████████████████████████████████| 1280000/1280000 [01:22<00:00, 15451.07it/s]\n",
      "100%|█████████████████████████████████████████████████| 10000/10000 [00:00<00:00, 16838.23it/s]\n"
     ]
    },
    {
     "name": "stdout",
     "output_type": "stream",
     "text": [
      "[SYST] Prepare Data\n"
     ]
    },
    {
     "name": "stderr",
     "output_type": "stream",
     "text": [
      "100%|████████████████████████████████████████████| 1280000/1280000 [00:08<00:00, 158585.07it/s]\n"
     ]
    },
    {
     "name": "stdout",
     "output_type": "stream",
     "text": [
      "[SYST] Prepare Data\n"
     ]
    },
    {
     "name": "stderr",
     "output_type": "stream",
     "text": [
      "100%|████████████████████████████████████████████████| 10000/10000 [00:00<00:00, 160436.98it/s]"
     ]
    },
    {
     "name": "stdout",
     "output_type": "stream",
     "text": [
      "[SYST] Epoch 0\n"
     ]
    },
    {
     "name": "stderr",
     "output_type": "stream",
     "text": [
      "\n",
      "100%|████████████████████████████████████████████████████████| 200/200 [00:19<00:00, 10.14it/s]\n"
     ]
    },
    {
     "name": "stdout",
     "output_type": "stream",
     "text": [
      "Epoch 1, Loss: 7.158401970863342\n",
      "[SYST] Epoch 1\n"
     ]
    },
    {
     "name": "stderr",
     "output_type": "stream",
     "text": [
      "100%|████████████████████████████████████████████████████████| 200/200 [00:19<00:00, 10.02it/s]\n"
     ]
    },
    {
     "name": "stdout",
     "output_type": "stream",
     "text": [
      "Epoch 2, Loss: 6.720755379199982\n",
      "[SYST] Epoch 2\n"
     ]
    },
    {
     "name": "stderr",
     "output_type": "stream",
     "text": [
      "100%|████████████████████████████████████████████████████████| 200/200 [00:20<00:00,  9.97it/s]\n"
     ]
    },
    {
     "name": "stdout",
     "output_type": "stream",
     "text": [
      "Epoch 3, Loss: 6.55238181591034\n",
      "[SYST] Epoch 3\n"
     ]
    },
    {
     "name": "stderr",
     "output_type": "stream",
     "text": [
      "100%|████████████████████████████████████████████████████████| 200/200 [00:20<00:00,  9.99it/s]\n"
     ]
    },
    {
     "name": "stdout",
     "output_type": "stream",
     "text": [
      "Epoch 4, Loss: 6.496230988502503\n",
      "[SYST] Epoch 4\n"
     ]
    },
    {
     "name": "stderr",
     "output_type": "stream",
     "text": [
      "100%|████████████████████████████████████████████████████████| 200/200 [00:20<00:00,  9.99it/s]\n"
     ]
    },
    {
     "name": "stdout",
     "output_type": "stream",
     "text": [
      "Epoch 5, Loss: 6.458508303165436\n",
      "[SYST] Epoch 5\n"
     ]
    },
    {
     "name": "stderr",
     "output_type": "stream",
     "text": [
      "100%|████████████████████████████████████████████████████████| 200/200 [00:19<00:00, 10.02it/s]\n"
     ]
    },
    {
     "name": "stdout",
     "output_type": "stream",
     "text": [
      "Epoch 6, Loss: 6.409685785770416\n",
      "[SYST] Epoch 6\n"
     ]
    },
    {
     "name": "stderr",
     "output_type": "stream",
     "text": [
      "100%|████████████████████████████████████████████████████████| 200/200 [00:20<00:00,  9.98it/s]\n"
     ]
    },
    {
     "name": "stdout",
     "output_type": "stream",
     "text": [
      "Epoch 7, Loss: 6.335550727844239\n",
      "[SYST] Epoch 7\n"
     ]
    },
    {
     "name": "stderr",
     "output_type": "stream",
     "text": [
      "100%|████████████████████████████████████████████████████████| 200/200 [00:19<00:00, 10.01it/s]\n"
     ]
    },
    {
     "name": "stdout",
     "output_type": "stream",
     "text": [
      "Epoch 8, Loss: 6.290106010437012\n",
      "[SYST] Epoch 8\n"
     ]
    },
    {
     "name": "stderr",
     "output_type": "stream",
     "text": [
      "100%|████████████████████████████████████████████████████████| 200/200 [00:19<00:00, 10.02it/s]\n"
     ]
    },
    {
     "name": "stdout",
     "output_type": "stream",
     "text": [
      "Epoch 9, Loss: 6.280734922885895\n",
      "[SYST] Epoch 9\n"
     ]
    },
    {
     "name": "stderr",
     "output_type": "stream",
     "text": [
      "100%|████████████████████████████████████████████████████████| 200/200 [00:19<00:00, 10.02it/s]\n"
     ]
    },
    {
     "name": "stdout",
     "output_type": "stream",
     "text": [
      "Epoch 10, Loss: 6.2764830708503725\n",
      "[SYST] Epoch 0\n"
     ]
    },
    {
     "name": "stderr",
     "output_type": "stream",
     "text": [
      "100%|████████████████████████████████████████████████████████████| 2/2 [00:00<00:00, 13.40it/s]\n"
     ]
    },
    {
     "name": "stdout",
     "output_type": "stream",
     "text": [
      "Test Accuracy: 50.61%\n",
      "[{'accuracy': 0.9983, 'Layer1': {'[[0, 1, 2, 3, 4, 5, 6, 7]]': 0.5013, '[[0, 1]]': 0.5039, '[[0]]': 0.5082}, 'Layer2': {'[[0, 1, 2, 3, 4, 5, 6, 7]]': 0.5037, '[[0, 1]]': 0.5032, '[[0]]': 0.5075}, 'Layer3': {'[[0, 1, 2, 3, 4, 5, 6, 7]]': 0.4925, '[[0, 1]]': 0.5037, '[[0]]': 0.5081}}, {'accuracy': 0.9983, 'Layer1': {'[[0, 1, 2, 3, 4, 5, 6, 7]]': 0.5012, '[[0, 1]]': 0.5059, '[[0]]': 0.4956}, 'Layer2': {'[[0, 1, 2, 3, 4, 5, 6, 7]]': 0.5027, '[[0, 1]]': 0.4957, '[[0]]': 0.493}, 'Layer3': {'[[0, 1, 2, 3, 4, 5, 6, 7]]': 0.4966, '[[0, 1]]': 0.4996, '[[0]]': 0.5071}}, {'accuracy': 0.9906, 'Layer1': {'[[0, 1, 2, 3, 4, 5, 6, 7]]': 0.4964, '[[0, 1]]': 0.5118, '[[0]]': 0.5024}, 'Layer2': {'[[0, 1, 2, 3, 4, 5, 6, 7]]': 0.4993, '[[0, 1]]': 0.4958, '[[0]]': 0.5061}, 'Layer3': {'[[0, 1, 2, 3, 4, 5, 6, 7]]': 0.4949, '[[0, 1]]': 0.5015, '[[0]]': 0.4977}}, {'accuracy': 0.9955, 'Layer1': {'[[0, 1, 2, 3, 4, 5, 6, 7]]': 0.5024, '[[0, 1]]': 0.5025, '[[0]]': 0.4974}, 'Layer2': {'[[0, 1, 2, 3, 4, 5, 6, 7]]': 0.5068, '[[0, 1]]': 0.5074, '[[0]]': 0.5021}, 'Layer3': {'[[0, 1, 2, 3, 4, 5, 6, 7]]': 0.5036, '[[0, 1]]': 0.5027, '[[0]]': 0.4986}}, {'accuracy': 0.9864, 'Layer1': {'[[0, 1, 2, 3, 4, 5, 6, 7]]': 0.5007, '[[0, 1]]': 0.497, '[[0]]': 0.5085}, 'Layer2': {'[[0, 1, 2, 3, 4, 5, 6, 7]]': 0.4965, '[[0, 1]]': 0.5008, '[[0]]': 0.5003}, 'Layer3': {'[[0, 1, 2, 3, 4, 5, 6, 7]]': 0.4993, '[[0, 1]]': 0.4952, '[[0]]': 0.5048}}, {'accuracy': 0.9995, 'Layer1': {'[[0, 1, 2, 3, 4, 5, 6, 7]]': 0.5043, '[[0, 1]]': 0.5061}}]\n",
      "Layer1 : [[0]]\n"
     ]
    },
    {
     "name": "stderr",
     "output_type": "stream",
     "text": [
      "100%|█████████████████████████████████████████████| 1280000/1280000 [01:20<00:00, 15932.75it/s]\n",
      "100%|██████████████████████████████████████████████████| 10000/10000 [00:02<00:00, 4449.01it/s]\n"
     ]
    },
    {
     "name": "stdout",
     "output_type": "stream",
     "text": [
      "[SYST] Prepare Data\n"
     ]
    },
    {
     "name": "stderr",
     "output_type": "stream",
     "text": [
      "100%|████████████████████████████████████████████| 1280000/1280000 [00:07<00:00, 161721.02it/s]\n"
     ]
    },
    {
     "name": "stdout",
     "output_type": "stream",
     "text": [
      "[SYST] Prepare Data\n"
     ]
    },
    {
     "name": "stderr",
     "output_type": "stream",
     "text": [
      "100%|████████████████████████████████████████████████| 10000/10000 [00:00<00:00, 164272.50it/s]"
     ]
    },
    {
     "name": "stdout",
     "output_type": "stream",
     "text": [
      "[SYST] Epoch 0\n"
     ]
    },
    {
     "name": "stderr",
     "output_type": "stream",
     "text": [
      "\n",
      "100%|████████████████████████████████████████████████████████| 200/200 [00:19<00:00, 10.07it/s]\n"
     ]
    },
    {
     "name": "stdout",
     "output_type": "stream",
     "text": [
      "Epoch 1, Loss: 7.117765121459961\n",
      "[SYST] Epoch 1\n"
     ]
    },
    {
     "name": "stderr",
     "output_type": "stream",
     "text": [
      "100%|████████████████████████████████████████████████████████| 200/200 [00:20<00:00,  9.98it/s]\n"
     ]
    },
    {
     "name": "stdout",
     "output_type": "stream",
     "text": [
      "Epoch 2, Loss: 6.722183375358582\n",
      "[SYST] Epoch 2\n"
     ]
    },
    {
     "name": "stderr",
     "output_type": "stream",
     "text": [
      "100%|████████████████████████████████████████████████████████| 200/200 [00:19<00:00, 10.02it/s]\n"
     ]
    },
    {
     "name": "stdout",
     "output_type": "stream",
     "text": [
      "Epoch 3, Loss: 6.615443511009216\n",
      "[SYST] Epoch 3\n"
     ]
    },
    {
     "name": "stderr",
     "output_type": "stream",
     "text": [
      "100%|████████████████████████████████████████████████████████| 200/200 [00:20<00:00,  9.97it/s]\n"
     ]
    },
    {
     "name": "stdout",
     "output_type": "stream",
     "text": [
      "Epoch 4, Loss: 6.570306360721588\n",
      "[SYST] Epoch 4\n"
     ]
    },
    {
     "name": "stderr",
     "output_type": "stream",
     "text": [
      "100%|████████████████████████████████████████████████████████| 200/200 [00:20<00:00,  9.99it/s]\n"
     ]
    },
    {
     "name": "stdout",
     "output_type": "stream",
     "text": [
      "Epoch 5, Loss: 6.546283011436462\n",
      "[SYST] Epoch 5\n"
     ]
    },
    {
     "name": "stderr",
     "output_type": "stream",
     "text": [
      "100%|████████████████████████████████████████████████████████| 200/200 [00:20<00:00,  9.96it/s]\n"
     ]
    },
    {
     "name": "stdout",
     "output_type": "stream",
     "text": [
      "Epoch 6, Loss: 6.532836875915527\n",
      "[SYST] Epoch 6\n"
     ]
    },
    {
     "name": "stderr",
     "output_type": "stream",
     "text": [
      "100%|████████████████████████████████████████████████████████| 200/200 [00:20<00:00,  9.97it/s]\n"
     ]
    },
    {
     "name": "stdout",
     "output_type": "stream",
     "text": [
      "Epoch 7, Loss: 6.525142416954041\n",
      "[SYST] Epoch 7\n"
     ]
    },
    {
     "name": "stderr",
     "output_type": "stream",
     "text": [
      "100%|████████████████████████████████████████████████████████| 200/200 [00:20<00:00,  9.96it/s]\n"
     ]
    },
    {
     "name": "stdout",
     "output_type": "stream",
     "text": [
      "Epoch 8, Loss: 6.520128514766693\n",
      "[SYST] Epoch 8\n"
     ]
    },
    {
     "name": "stderr",
     "output_type": "stream",
     "text": [
      "100%|████████████████████████████████████████████████████████| 200/200 [00:20<00:00,  9.96it/s]\n"
     ]
    },
    {
     "name": "stdout",
     "output_type": "stream",
     "text": [
      "Epoch 9, Loss: 6.516800501346588\n",
      "[SYST] Epoch 9\n"
     ]
    },
    {
     "name": "stderr",
     "output_type": "stream",
     "text": [
      "100%|████████████████████████████████████████████████████████| 200/200 [00:20<00:00,  9.98it/s]\n"
     ]
    },
    {
     "name": "stdout",
     "output_type": "stream",
     "text": [
      "Epoch 10, Loss: 6.514610843658447\n",
      "[SYST] Epoch 0\n"
     ]
    },
    {
     "name": "stderr",
     "output_type": "stream",
     "text": [
      "100%|████████████████████████████████████████████████████████████| 2/2 [00:00<00:00, 13.30it/s]\n"
     ]
    },
    {
     "name": "stdout",
     "output_type": "stream",
     "text": [
      "Test Accuracy: 50.06%\n",
      "[{'accuracy': 0.9983, 'Layer1': {'[[0, 1, 2, 3, 4, 5, 6, 7]]': 0.5013, '[[0, 1]]': 0.5039, '[[0]]': 0.5082}, 'Layer2': {'[[0, 1, 2, 3, 4, 5, 6, 7]]': 0.5037, '[[0, 1]]': 0.5032, '[[0]]': 0.5075}, 'Layer3': {'[[0, 1, 2, 3, 4, 5, 6, 7]]': 0.4925, '[[0, 1]]': 0.5037, '[[0]]': 0.5081}}, {'accuracy': 0.9983, 'Layer1': {'[[0, 1, 2, 3, 4, 5, 6, 7]]': 0.5012, '[[0, 1]]': 0.5059, '[[0]]': 0.4956}, 'Layer2': {'[[0, 1, 2, 3, 4, 5, 6, 7]]': 0.5027, '[[0, 1]]': 0.4957, '[[0]]': 0.493}, 'Layer3': {'[[0, 1, 2, 3, 4, 5, 6, 7]]': 0.4966, '[[0, 1]]': 0.4996, '[[0]]': 0.5071}}, {'accuracy': 0.9906, 'Layer1': {'[[0, 1, 2, 3, 4, 5, 6, 7]]': 0.4964, '[[0, 1]]': 0.5118, '[[0]]': 0.5024}, 'Layer2': {'[[0, 1, 2, 3, 4, 5, 6, 7]]': 0.4993, '[[0, 1]]': 0.4958, '[[0]]': 0.5061}, 'Layer3': {'[[0, 1, 2, 3, 4, 5, 6, 7]]': 0.4949, '[[0, 1]]': 0.5015, '[[0]]': 0.4977}}, {'accuracy': 0.9955, 'Layer1': {'[[0, 1, 2, 3, 4, 5, 6, 7]]': 0.5024, '[[0, 1]]': 0.5025, '[[0]]': 0.4974}, 'Layer2': {'[[0, 1, 2, 3, 4, 5, 6, 7]]': 0.5068, '[[0, 1]]': 0.5074, '[[0]]': 0.5021}, 'Layer3': {'[[0, 1, 2, 3, 4, 5, 6, 7]]': 0.5036, '[[0, 1]]': 0.5027, '[[0]]': 0.4986}}, {'accuracy': 0.9864, 'Layer1': {'[[0, 1, 2, 3, 4, 5, 6, 7]]': 0.5007, '[[0, 1]]': 0.497, '[[0]]': 0.5085}, 'Layer2': {'[[0, 1, 2, 3, 4, 5, 6, 7]]': 0.4965, '[[0, 1]]': 0.5008, '[[0]]': 0.5003}, 'Layer3': {'[[0, 1, 2, 3, 4, 5, 6, 7]]': 0.4993, '[[0, 1]]': 0.4952, '[[0]]': 0.5048}}, {'accuracy': 0.9995, 'Layer1': {'[[0, 1, 2, 3, 4, 5, 6, 7]]': 0.5043, '[[0, 1]]': 0.5061, '[[0]]': 0.5006}}]\n",
      "Layer2 : [[0, 1, 2, 3, 4, 5, 6, 7]]\n"
     ]
    },
    {
     "name": "stderr",
     "output_type": "stream",
     "text": [
      "100%|█████████████████████████████████████████████| 1280000/1280000 [01:21<00:00, 15681.66it/s]\n",
      "100%|█████████████████████████████████████████████████| 10000/10000 [00:00<00:00, 16898.52it/s]\n"
     ]
    },
    {
     "name": "stdout",
     "output_type": "stream",
     "text": [
      "[SYST] Prepare Data\n"
     ]
    },
    {
     "name": "stderr",
     "output_type": "stream",
     "text": [
      "100%|████████████████████████████████████████████| 1280000/1280000 [00:08<00:00, 145672.93it/s]\n"
     ]
    },
    {
     "name": "stdout",
     "output_type": "stream",
     "text": [
      "[SYST] Prepare Data\n"
     ]
    },
    {
     "name": "stderr",
     "output_type": "stream",
     "text": [
      "100%|████████████████████████████████████████████████| 10000/10000 [00:00<00:00, 145499.15it/s]"
     ]
    },
    {
     "name": "stdout",
     "output_type": "stream",
     "text": [
      "[SYST] Epoch 0\n"
     ]
    },
    {
     "name": "stderr",
     "output_type": "stream",
     "text": [
      "\n",
      "100%|████████████████████████████████████████████████████████| 200/200 [00:19<00:00, 10.12it/s]\n"
     ]
    },
    {
     "name": "stdout",
     "output_type": "stream",
     "text": [
      "Epoch 1, Loss: 6.053765344619751\n",
      "[SYST] Epoch 1\n"
     ]
    },
    {
     "name": "stderr",
     "output_type": "stream",
     "text": [
      "100%|████████████████████████████████████████████████████████| 200/200 [00:20<00:00,  9.92it/s]\n"
     ]
    },
    {
     "name": "stdout",
     "output_type": "stream",
     "text": [
      "Epoch 2, Loss: 5.405572140216828\n",
      "[SYST] Epoch 2\n"
     ]
    },
    {
     "name": "stderr",
     "output_type": "stream",
     "text": [
      "100%|████████████████████████████████████████████████████████| 200/200 [00:20<00:00,  9.86it/s]\n"
     ]
    },
    {
     "name": "stdout",
     "output_type": "stream",
     "text": [
      "Epoch 3, Loss: 5.365514447689057\n",
      "[SYST] Epoch 3\n"
     ]
    },
    {
     "name": "stderr",
     "output_type": "stream",
     "text": [
      "100%|████████████████████████████████████████████████████████| 200/200 [00:20<00:00,  9.89it/s]\n"
     ]
    },
    {
     "name": "stdout",
     "output_type": "stream",
     "text": [
      "Epoch 4, Loss: 5.338366730213165\n",
      "[SYST] Epoch 4\n"
     ]
    },
    {
     "name": "stderr",
     "output_type": "stream",
     "text": [
      "100%|████████████████████████████████████████████████████████| 200/200 [00:20<00:00,  9.90it/s]\n"
     ]
    },
    {
     "name": "stdout",
     "output_type": "stream",
     "text": [
      "Epoch 5, Loss: 5.316681175231934\n",
      "[SYST] Epoch 5\n"
     ]
    },
    {
     "name": "stderr",
     "output_type": "stream",
     "text": [
      "100%|████████████████████████████████████████████████████████| 200/200 [00:20<00:00,  9.94it/s]\n"
     ]
    },
    {
     "name": "stdout",
     "output_type": "stream",
     "text": [
      "Epoch 6, Loss: 5.301026177406311\n",
      "[SYST] Epoch 6\n"
     ]
    },
    {
     "name": "stderr",
     "output_type": "stream",
     "text": [
      "100%|████████████████████████████████████████████████████████| 200/200 [00:20<00:00,  9.88it/s]\n"
     ]
    },
    {
     "name": "stdout",
     "output_type": "stream",
     "text": [
      "Epoch 7, Loss: 5.289569523334503\n",
      "[SYST] Epoch 7\n"
     ]
    },
    {
     "name": "stderr",
     "output_type": "stream",
     "text": [
      "100%|████████████████████████████████████████████████████████| 200/200 [00:20<00:00,  9.87it/s]\n"
     ]
    },
    {
     "name": "stdout",
     "output_type": "stream",
     "text": [
      "Epoch 8, Loss: 5.280311453342438\n",
      "[SYST] Epoch 8\n"
     ]
    },
    {
     "name": "stderr",
     "output_type": "stream",
     "text": [
      "100%|████████████████████████████████████████████████████████| 200/200 [00:20<00:00,  9.86it/s]\n"
     ]
    },
    {
     "name": "stdout",
     "output_type": "stream",
     "text": [
      "Epoch 9, Loss: 5.2728914189338685\n",
      "[SYST] Epoch 9\n"
     ]
    },
    {
     "name": "stderr",
     "output_type": "stream",
     "text": [
      "100%|████████████████████████████████████████████████████████| 200/200 [00:20<00:00,  9.91it/s]\n"
     ]
    },
    {
     "name": "stdout",
     "output_type": "stream",
     "text": [
      "Epoch 10, Loss: 5.26698958158493\n",
      "[SYST] Epoch 0\n"
     ]
    },
    {
     "name": "stderr",
     "output_type": "stream",
     "text": [
      "100%|████████████████████████████████████████████████████████████| 2/2 [00:00<00:00, 13.30it/s]\n"
     ]
    },
    {
     "name": "stdout",
     "output_type": "stream",
     "text": [
      "Test Accuracy: 49.27%\n",
      "[{'accuracy': 0.9983, 'Layer1': {'[[0, 1, 2, 3, 4, 5, 6, 7]]': 0.5013, '[[0, 1]]': 0.5039, '[[0]]': 0.5082}, 'Layer2': {'[[0, 1, 2, 3, 4, 5, 6, 7]]': 0.5037, '[[0, 1]]': 0.5032, '[[0]]': 0.5075}, 'Layer3': {'[[0, 1, 2, 3, 4, 5, 6, 7]]': 0.4925, '[[0, 1]]': 0.5037, '[[0]]': 0.5081}}, {'accuracy': 0.9983, 'Layer1': {'[[0, 1, 2, 3, 4, 5, 6, 7]]': 0.5012, '[[0, 1]]': 0.5059, '[[0]]': 0.4956}, 'Layer2': {'[[0, 1, 2, 3, 4, 5, 6, 7]]': 0.5027, '[[0, 1]]': 0.4957, '[[0]]': 0.493}, 'Layer3': {'[[0, 1, 2, 3, 4, 5, 6, 7]]': 0.4966, '[[0, 1]]': 0.4996, '[[0]]': 0.5071}}, {'accuracy': 0.9906, 'Layer1': {'[[0, 1, 2, 3, 4, 5, 6, 7]]': 0.4964, '[[0, 1]]': 0.5118, '[[0]]': 0.5024}, 'Layer2': {'[[0, 1, 2, 3, 4, 5, 6, 7]]': 0.4993, '[[0, 1]]': 0.4958, '[[0]]': 0.5061}, 'Layer3': {'[[0, 1, 2, 3, 4, 5, 6, 7]]': 0.4949, '[[0, 1]]': 0.5015, '[[0]]': 0.4977}}, {'accuracy': 0.9955, 'Layer1': {'[[0, 1, 2, 3, 4, 5, 6, 7]]': 0.5024, '[[0, 1]]': 0.5025, '[[0]]': 0.4974}, 'Layer2': {'[[0, 1, 2, 3, 4, 5, 6, 7]]': 0.5068, '[[0, 1]]': 0.5074, '[[0]]': 0.5021}, 'Layer3': {'[[0, 1, 2, 3, 4, 5, 6, 7]]': 0.5036, '[[0, 1]]': 0.5027, '[[0]]': 0.4986}}, {'accuracy': 0.9864, 'Layer1': {'[[0, 1, 2, 3, 4, 5, 6, 7]]': 0.5007, '[[0, 1]]': 0.497, '[[0]]': 0.5085}, 'Layer2': {'[[0, 1, 2, 3, 4, 5, 6, 7]]': 0.4965, '[[0, 1]]': 0.5008, '[[0]]': 0.5003}, 'Layer3': {'[[0, 1, 2, 3, 4, 5, 6, 7]]': 0.4993, '[[0, 1]]': 0.4952, '[[0]]': 0.5048}}, {'accuracy': 0.9995, 'Layer1': {'[[0, 1, 2, 3, 4, 5, 6, 7]]': 0.5043, '[[0, 1]]': 0.5061, '[[0]]': 0.5006}, 'Layer2': {'[[0, 1, 2, 3, 4, 5, 6, 7]]': 0.4927}}]\n",
      "Layer2 : [[0, 1]]\n"
     ]
    },
    {
     "name": "stderr",
     "output_type": "stream",
     "text": [
      "100%|█████████████████████████████████████████████| 1280000/1280000 [01:22<00:00, 15506.99it/s]\n",
      "100%|█████████████████████████████████████████████████| 10000/10000 [00:00<00:00, 16801.75it/s]\n"
     ]
    },
    {
     "name": "stdout",
     "output_type": "stream",
     "text": [
      "[SYST] Prepare Data\n"
     ]
    },
    {
     "name": "stderr",
     "output_type": "stream",
     "text": [
      "100%|████████████████████████████████████████████| 1280000/1280000 [00:08<00:00, 158010.51it/s]\n"
     ]
    },
    {
     "name": "stdout",
     "output_type": "stream",
     "text": [
      "[SYST] Prepare Data\n"
     ]
    },
    {
     "name": "stderr",
     "output_type": "stream",
     "text": [
      "100%|████████████████████████████████████████████████| 10000/10000 [00:00<00:00, 158864.92it/s]"
     ]
    },
    {
     "name": "stdout",
     "output_type": "stream",
     "text": [
      "[SYST] Epoch 0\n"
     ]
    },
    {
     "name": "stderr",
     "output_type": "stream",
     "text": [
      "\n",
      "100%|████████████████████████████████████████████████████████| 200/200 [00:19<00:00, 10.21it/s]\n"
     ]
    },
    {
     "name": "stdout",
     "output_type": "stream",
     "text": [
      "Epoch 1, Loss: 5.91187911272049\n",
      "[SYST] Epoch 1\n"
     ]
    },
    {
     "name": "stderr",
     "output_type": "stream",
     "text": [
      "100%|████████████████████████████████████████████████████████| 200/200 [00:20<00:00,  9.94it/s]\n"
     ]
    },
    {
     "name": "stdout",
     "output_type": "stream",
     "text": [
      "Epoch 2, Loss: 5.563061954975129\n",
      "[SYST] Epoch 2\n"
     ]
    },
    {
     "name": "stderr",
     "output_type": "stream",
     "text": [
      "100%|████████████████████████████████████████████████████████| 200/200 [00:20<00:00,  9.98it/s]\n"
     ]
    },
    {
     "name": "stdout",
     "output_type": "stream",
     "text": [
      "Epoch 3, Loss: 5.440545358657837\n",
      "[SYST] Epoch 3\n"
     ]
    },
    {
     "name": "stderr",
     "output_type": "stream",
     "text": [
      "100%|████████████████████████████████████████████████████████| 200/200 [00:19<00:00, 10.00it/s]\n"
     ]
    },
    {
     "name": "stdout",
     "output_type": "stream",
     "text": [
      "Epoch 4, Loss: 5.414837186336517\n",
      "[SYST] Epoch 4\n"
     ]
    },
    {
     "name": "stderr",
     "output_type": "stream",
     "text": [
      "100%|████████████████████████████████████████████████████████| 200/200 [00:20<00:00, 10.00it/s]\n"
     ]
    },
    {
     "name": "stdout",
     "output_type": "stream",
     "text": [
      "Epoch 5, Loss: 5.406025149822235\n",
      "[SYST] Epoch 5\n"
     ]
    },
    {
     "name": "stderr",
     "output_type": "stream",
     "text": [
      "100%|████████████████████████████████████████████████████████| 200/200 [00:19<00:00, 10.06it/s]\n"
     ]
    },
    {
     "name": "stdout",
     "output_type": "stream",
     "text": [
      "Epoch 6, Loss: 5.400432443618774\n",
      "[SYST] Epoch 6\n"
     ]
    },
    {
     "name": "stderr",
     "output_type": "stream",
     "text": [
      "100%|████████████████████████████████████████████████████████| 200/200 [00:20<00:00,  9.97it/s]\n"
     ]
    },
    {
     "name": "stdout",
     "output_type": "stream",
     "text": [
      "Epoch 7, Loss: 5.395601191520691\n",
      "[SYST] Epoch 7\n"
     ]
    },
    {
     "name": "stderr",
     "output_type": "stream",
     "text": [
      "100%|████████████████████████████████████████████████████████| 200/200 [00:20<00:00,  9.98it/s]\n"
     ]
    },
    {
     "name": "stdout",
     "output_type": "stream",
     "text": [
      "Epoch 8, Loss: 5.392176487445831\n",
      "[SYST] Epoch 8\n"
     ]
    },
    {
     "name": "stderr",
     "output_type": "stream",
     "text": [
      "100%|████████████████████████████████████████████████████████| 200/200 [00:20<00:00,  9.95it/s]\n"
     ]
    },
    {
     "name": "stdout",
     "output_type": "stream",
     "text": [
      "Epoch 9, Loss: 5.3891158556938175\n",
      "[SYST] Epoch 9\n"
     ]
    },
    {
     "name": "stderr",
     "output_type": "stream",
     "text": [
      "100%|████████████████████████████████████████████████████████| 200/200 [00:20<00:00,  9.99it/s]\n"
     ]
    },
    {
     "name": "stdout",
     "output_type": "stream",
     "text": [
      "Epoch 10, Loss: 5.386666238307953\n",
      "[SYST] Epoch 0\n"
     ]
    },
    {
     "name": "stderr",
     "output_type": "stream",
     "text": [
      "100%|████████████████████████████████████████████████████████████| 2/2 [00:00<00:00, 13.55it/s]\n"
     ]
    },
    {
     "name": "stdout",
     "output_type": "stream",
     "text": [
      "Test Accuracy: 49.21%\n",
      "[{'accuracy': 0.9983, 'Layer1': {'[[0, 1, 2, 3, 4, 5, 6, 7]]': 0.5013, '[[0, 1]]': 0.5039, '[[0]]': 0.5082}, 'Layer2': {'[[0, 1, 2, 3, 4, 5, 6, 7]]': 0.5037, '[[0, 1]]': 0.5032, '[[0]]': 0.5075}, 'Layer3': {'[[0, 1, 2, 3, 4, 5, 6, 7]]': 0.4925, '[[0, 1]]': 0.5037, '[[0]]': 0.5081}}, {'accuracy': 0.9983, 'Layer1': {'[[0, 1, 2, 3, 4, 5, 6, 7]]': 0.5012, '[[0, 1]]': 0.5059, '[[0]]': 0.4956}, 'Layer2': {'[[0, 1, 2, 3, 4, 5, 6, 7]]': 0.5027, '[[0, 1]]': 0.4957, '[[0]]': 0.493}, 'Layer3': {'[[0, 1, 2, 3, 4, 5, 6, 7]]': 0.4966, '[[0, 1]]': 0.4996, '[[0]]': 0.5071}}, {'accuracy': 0.9906, 'Layer1': {'[[0, 1, 2, 3, 4, 5, 6, 7]]': 0.4964, '[[0, 1]]': 0.5118, '[[0]]': 0.5024}, 'Layer2': {'[[0, 1, 2, 3, 4, 5, 6, 7]]': 0.4993, '[[0, 1]]': 0.4958, '[[0]]': 0.5061}, 'Layer3': {'[[0, 1, 2, 3, 4, 5, 6, 7]]': 0.4949, '[[0, 1]]': 0.5015, '[[0]]': 0.4977}}, {'accuracy': 0.9955, 'Layer1': {'[[0, 1, 2, 3, 4, 5, 6, 7]]': 0.5024, '[[0, 1]]': 0.5025, '[[0]]': 0.4974}, 'Layer2': {'[[0, 1, 2, 3, 4, 5, 6, 7]]': 0.5068, '[[0, 1]]': 0.5074, '[[0]]': 0.5021}, 'Layer3': {'[[0, 1, 2, 3, 4, 5, 6, 7]]': 0.5036, '[[0, 1]]': 0.5027, '[[0]]': 0.4986}}, {'accuracy': 0.9864, 'Layer1': {'[[0, 1, 2, 3, 4, 5, 6, 7]]': 0.5007, '[[0, 1]]': 0.497, '[[0]]': 0.5085}, 'Layer2': {'[[0, 1, 2, 3, 4, 5, 6, 7]]': 0.4965, '[[0, 1]]': 0.5008, '[[0]]': 0.5003}, 'Layer3': {'[[0, 1, 2, 3, 4, 5, 6, 7]]': 0.4993, '[[0, 1]]': 0.4952, '[[0]]': 0.5048}}, {'accuracy': 0.9995, 'Layer1': {'[[0, 1, 2, 3, 4, 5, 6, 7]]': 0.5043, '[[0, 1]]': 0.5061, '[[0]]': 0.5006}, 'Layer2': {'[[0, 1, 2, 3, 4, 5, 6, 7]]': 0.4927, '[[0, 1]]': 0.4921}}]\n",
      "Layer2 : [[0]]\n"
     ]
    },
    {
     "name": "stderr",
     "output_type": "stream",
     "text": [
      "100%|█████████████████████████████████████████████| 1280000/1280000 [01:22<00:00, 15483.46it/s]\n",
      "100%|█████████████████████████████████████████████████| 10000/10000 [00:00<00:00, 16781.81it/s]\n"
     ]
    },
    {
     "name": "stdout",
     "output_type": "stream",
     "text": [
      "[SYST] Prepare Data\n"
     ]
    },
    {
     "name": "stderr",
     "output_type": "stream",
     "text": [
      "100%|████████████████████████████████████████████| 1280000/1280000 [00:07<00:00, 162183.32it/s]\n"
     ]
    },
    {
     "name": "stdout",
     "output_type": "stream",
     "text": [
      "[SYST] Prepare Data\n"
     ]
    },
    {
     "name": "stderr",
     "output_type": "stream",
     "text": [
      "100%|████████████████████████████████████████████████| 10000/10000 [00:00<00:00, 166891.64it/s]"
     ]
    },
    {
     "name": "stdout",
     "output_type": "stream",
     "text": [
      "[SYST] Epoch 0\n"
     ]
    },
    {
     "name": "stderr",
     "output_type": "stream",
     "text": [
      "\n",
      "100%|████████████████████████████████████████████████████████| 200/200 [00:19<00:00, 10.12it/s]\n"
     ]
    },
    {
     "name": "stdout",
     "output_type": "stream",
     "text": [
      "Epoch 1, Loss: 7.447106394767761\n",
      "[SYST] Epoch 1\n"
     ]
    },
    {
     "name": "stderr",
     "output_type": "stream",
     "text": [
      "100%|████████████████████████████████████████████████████████| 200/200 [00:19<00:00, 10.01it/s]\n"
     ]
    },
    {
     "name": "stdout",
     "output_type": "stream",
     "text": [
      "Epoch 2, Loss: 6.165967075824738\n",
      "[SYST] Epoch 2\n"
     ]
    },
    {
     "name": "stderr",
     "output_type": "stream",
     "text": [
      "100%|████████████████████████████████████████████████████████| 200/200 [00:19<00:00, 10.01it/s]\n"
     ]
    },
    {
     "name": "stdout",
     "output_type": "stream",
     "text": [
      "Epoch 3, Loss: 5.6794731593132015\n",
      "[SYST] Epoch 3\n"
     ]
    },
    {
     "name": "stderr",
     "output_type": "stream",
     "text": [
      "100%|████████████████████████████████████████████████████████| 200/200 [00:19<00:00, 10.01it/s]\n"
     ]
    },
    {
     "name": "stdout",
     "output_type": "stream",
     "text": [
      "Epoch 4, Loss: 5.538811860084533\n",
      "[SYST] Epoch 4\n"
     ]
    },
    {
     "name": "stderr",
     "output_type": "stream",
     "text": [
      "100%|████████████████████████████████████████████████████████| 200/200 [00:19<00:00, 10.05it/s]\n"
     ]
    },
    {
     "name": "stdout",
     "output_type": "stream",
     "text": [
      "Epoch 5, Loss: 5.5196640682220455\n",
      "[SYST] Epoch 5\n"
     ]
    },
    {
     "name": "stderr",
     "output_type": "stream",
     "text": [
      "100%|████████████████████████████████████████████████████████| 200/200 [00:19<00:00, 10.02it/s]\n"
     ]
    },
    {
     "name": "stdout",
     "output_type": "stream",
     "text": [
      "Epoch 6, Loss: 5.515384609699249\n",
      "[SYST] Epoch 6\n"
     ]
    },
    {
     "name": "stderr",
     "output_type": "stream",
     "text": [
      "100%|████████████████████████████████████████████████████████| 200/200 [00:19<00:00, 10.04it/s]\n"
     ]
    },
    {
     "name": "stdout",
     "output_type": "stream",
     "text": [
      "Epoch 7, Loss: 5.513652703762054\n",
      "[SYST] Epoch 7\n"
     ]
    },
    {
     "name": "stderr",
     "output_type": "stream",
     "text": [
      "100%|████████████████████████████████████████████████████████| 200/200 [00:19<00:00, 10.06it/s]\n"
     ]
    },
    {
     "name": "stdout",
     "output_type": "stream",
     "text": [
      "Epoch 8, Loss: 5.513242318630218\n",
      "[SYST] Epoch 8\n"
     ]
    },
    {
     "name": "stderr",
     "output_type": "stream",
     "text": [
      "100%|████████████████████████████████████████████████████████| 200/200 [00:19<00:00, 10.05it/s]\n"
     ]
    },
    {
     "name": "stdout",
     "output_type": "stream",
     "text": [
      "Epoch 9, Loss: 5.512635645866394\n",
      "[SYST] Epoch 9\n"
     ]
    },
    {
     "name": "stderr",
     "output_type": "stream",
     "text": [
      "100%|████████████████████████████████████████████████████████| 200/200 [00:19<00:00, 10.06it/s]\n"
     ]
    },
    {
     "name": "stdout",
     "output_type": "stream",
     "text": [
      "Epoch 10, Loss: 5.512663445472717\n",
      "[SYST] Epoch 0\n"
     ]
    },
    {
     "name": "stderr",
     "output_type": "stream",
     "text": [
      "100%|████████████████████████████████████████████████████████████| 2/2 [00:00<00:00, 13.54it/s]\n"
     ]
    },
    {
     "name": "stdout",
     "output_type": "stream",
     "text": [
      "Test Accuracy: 50.33%\n",
      "[{'accuracy': 0.9983, 'Layer1': {'[[0, 1, 2, 3, 4, 5, 6, 7]]': 0.5013, '[[0, 1]]': 0.5039, '[[0]]': 0.5082}, 'Layer2': {'[[0, 1, 2, 3, 4, 5, 6, 7]]': 0.5037, '[[0, 1]]': 0.5032, '[[0]]': 0.5075}, 'Layer3': {'[[0, 1, 2, 3, 4, 5, 6, 7]]': 0.4925, '[[0, 1]]': 0.5037, '[[0]]': 0.5081}}, {'accuracy': 0.9983, 'Layer1': {'[[0, 1, 2, 3, 4, 5, 6, 7]]': 0.5012, '[[0, 1]]': 0.5059, '[[0]]': 0.4956}, 'Layer2': {'[[0, 1, 2, 3, 4, 5, 6, 7]]': 0.5027, '[[0, 1]]': 0.4957, '[[0]]': 0.493}, 'Layer3': {'[[0, 1, 2, 3, 4, 5, 6, 7]]': 0.4966, '[[0, 1]]': 0.4996, '[[0]]': 0.5071}}, {'accuracy': 0.9906, 'Layer1': {'[[0, 1, 2, 3, 4, 5, 6, 7]]': 0.4964, '[[0, 1]]': 0.5118, '[[0]]': 0.5024}, 'Layer2': {'[[0, 1, 2, 3, 4, 5, 6, 7]]': 0.4993, '[[0, 1]]': 0.4958, '[[0]]': 0.5061}, 'Layer3': {'[[0, 1, 2, 3, 4, 5, 6, 7]]': 0.4949, '[[0, 1]]': 0.5015, '[[0]]': 0.4977}}, {'accuracy': 0.9955, 'Layer1': {'[[0, 1, 2, 3, 4, 5, 6, 7]]': 0.5024, '[[0, 1]]': 0.5025, '[[0]]': 0.4974}, 'Layer2': {'[[0, 1, 2, 3, 4, 5, 6, 7]]': 0.5068, '[[0, 1]]': 0.5074, '[[0]]': 0.5021}, 'Layer3': {'[[0, 1, 2, 3, 4, 5, 6, 7]]': 0.5036, '[[0, 1]]': 0.5027, '[[0]]': 0.4986}}, {'accuracy': 0.9864, 'Layer1': {'[[0, 1, 2, 3, 4, 5, 6, 7]]': 0.5007, '[[0, 1]]': 0.497, '[[0]]': 0.5085}, 'Layer2': {'[[0, 1, 2, 3, 4, 5, 6, 7]]': 0.4965, '[[0, 1]]': 0.5008, '[[0]]': 0.5003}, 'Layer3': {'[[0, 1, 2, 3, 4, 5, 6, 7]]': 0.4993, '[[0, 1]]': 0.4952, '[[0]]': 0.5048}}, {'accuracy': 0.9995, 'Layer1': {'[[0, 1, 2, 3, 4, 5, 6, 7]]': 0.5043, '[[0, 1]]': 0.5061, '[[0]]': 0.5006}, 'Layer2': {'[[0, 1, 2, 3, 4, 5, 6, 7]]': 0.4927, '[[0, 1]]': 0.4921, '[[0]]': 0.5033}}]\n",
      "Layer3 : [[0, 1, 2, 3, 4, 5, 6, 7]]\n"
     ]
    },
    {
     "name": "stderr",
     "output_type": "stream",
     "text": [
      "100%|█████████████████████████████████████████████| 1280000/1280000 [01:22<00:00, 15547.12it/s]\n",
      "100%|█████████████████████████████████████████████████| 10000/10000 [00:00<00:00, 16880.24it/s]\n"
     ]
    },
    {
     "name": "stdout",
     "output_type": "stream",
     "text": [
      "[SYST] Prepare Data\n"
     ]
    },
    {
     "name": "stderr",
     "output_type": "stream",
     "text": [
      "100%|████████████████████████████████████████████| 1280000/1280000 [00:08<00:00, 145167.08it/s]\n"
     ]
    },
    {
     "name": "stdout",
     "output_type": "stream",
     "text": [
      "[SYST] Prepare Data\n"
     ]
    },
    {
     "name": "stderr",
     "output_type": "stream",
     "text": [
      "100%|████████████████████████████████████████████████| 10000/10000 [00:00<00:00, 143127.84it/s]"
     ]
    },
    {
     "name": "stdout",
     "output_type": "stream",
     "text": [
      "[SYST] Epoch 0\n"
     ]
    },
    {
     "name": "stderr",
     "output_type": "stream",
     "text": [
      "\n",
      "100%|████████████████████████████████████████████████████████| 200/200 [00:19<00:00, 10.05it/s]\n"
     ]
    },
    {
     "name": "stdout",
     "output_type": "stream",
     "text": [
      "Epoch 1, Loss: 5.822388441562652\n",
      "[SYST] Epoch 1\n"
     ]
    },
    {
     "name": "stderr",
     "output_type": "stream",
     "text": [
      "100%|████████████████████████████████████████████████████████| 200/200 [00:19<00:00, 10.09it/s]\n"
     ]
    },
    {
     "name": "stdout",
     "output_type": "stream",
     "text": [
      "Epoch 2, Loss: 5.802169752120972\n",
      "[SYST] Epoch 2\n"
     ]
    },
    {
     "name": "stderr",
     "output_type": "stream",
     "text": [
      "100%|████████████████████████████████████████████████████████| 200/200 [00:19<00:00, 10.03it/s]\n"
     ]
    },
    {
     "name": "stdout",
     "output_type": "stream",
     "text": [
      "Epoch 3, Loss: 5.8017833399772645\n",
      "[SYST] Epoch 3\n"
     ]
    },
    {
     "name": "stderr",
     "output_type": "stream",
     "text": [
      "100%|████████████████████████████████████████████████████████| 200/200 [00:19<00:00, 10.07it/s]\n"
     ]
    },
    {
     "name": "stdout",
     "output_type": "stream",
     "text": [
      "Epoch 4, Loss: 5.80163134098053\n",
      "[SYST] Epoch 4\n"
     ]
    },
    {
     "name": "stderr",
     "output_type": "stream",
     "text": [
      "100%|████████████████████████████████████████████████████████| 200/200 [00:19<00:00, 10.09it/s]\n"
     ]
    },
    {
     "name": "stdout",
     "output_type": "stream",
     "text": [
      "Epoch 5, Loss: 5.801244866847992\n",
      "[SYST] Epoch 5\n"
     ]
    },
    {
     "name": "stderr",
     "output_type": "stream",
     "text": [
      "100%|████████████████████████████████████████████████████████| 200/200 [00:19<00:00, 10.06it/s]\n"
     ]
    },
    {
     "name": "stdout",
     "output_type": "stream",
     "text": [
      "Epoch 6, Loss: 5.801202957630157\n",
      "[SYST] Epoch 6\n"
     ]
    },
    {
     "name": "stderr",
     "output_type": "stream",
     "text": [
      "100%|████████████████████████████████████████████████████████| 200/200 [00:19<00:00, 10.04it/s]\n"
     ]
    },
    {
     "name": "stdout",
     "output_type": "stream",
     "text": [
      "Epoch 7, Loss: 5.801169760227204\n",
      "[SYST] Epoch 7\n"
     ]
    },
    {
     "name": "stderr",
     "output_type": "stream",
     "text": [
      "100%|████████████████████████████████████████████████████████| 200/200 [00:19<00:00, 10.11it/s]\n"
     ]
    },
    {
     "name": "stdout",
     "output_type": "stream",
     "text": [
      "Epoch 8, Loss: 5.800857560634613\n",
      "[SYST] Epoch 8\n"
     ]
    },
    {
     "name": "stderr",
     "output_type": "stream",
     "text": [
      "100%|████████████████████████████████████████████████████████| 200/200 [00:19<00:00, 10.12it/s]\n"
     ]
    },
    {
     "name": "stdout",
     "output_type": "stream",
     "text": [
      "Epoch 9, Loss: 5.800855422019959\n",
      "[SYST] Epoch 9\n"
     ]
    },
    {
     "name": "stderr",
     "output_type": "stream",
     "text": [
      "100%|████████████████████████████████████████████████████████| 200/200 [00:19<00:00, 10.08it/s]\n"
     ]
    },
    {
     "name": "stdout",
     "output_type": "stream",
     "text": [
      "Epoch 10, Loss: 5.800797860622406\n",
      "[SYST] Epoch 0\n"
     ]
    },
    {
     "name": "stderr",
     "output_type": "stream",
     "text": [
      "100%|████████████████████████████████████████████████████████████| 2/2 [00:00<00:00, 13.60it/s]\n"
     ]
    },
    {
     "name": "stdout",
     "output_type": "stream",
     "text": [
      "Test Accuracy: 49.67%\n",
      "[{'accuracy': 0.9983, 'Layer1': {'[[0, 1, 2, 3, 4, 5, 6, 7]]': 0.5013, '[[0, 1]]': 0.5039, '[[0]]': 0.5082}, 'Layer2': {'[[0, 1, 2, 3, 4, 5, 6, 7]]': 0.5037, '[[0, 1]]': 0.5032, '[[0]]': 0.5075}, 'Layer3': {'[[0, 1, 2, 3, 4, 5, 6, 7]]': 0.4925, '[[0, 1]]': 0.5037, '[[0]]': 0.5081}}, {'accuracy': 0.9983, 'Layer1': {'[[0, 1, 2, 3, 4, 5, 6, 7]]': 0.5012, '[[0, 1]]': 0.5059, '[[0]]': 0.4956}, 'Layer2': {'[[0, 1, 2, 3, 4, 5, 6, 7]]': 0.5027, '[[0, 1]]': 0.4957, '[[0]]': 0.493}, 'Layer3': {'[[0, 1, 2, 3, 4, 5, 6, 7]]': 0.4966, '[[0, 1]]': 0.4996, '[[0]]': 0.5071}}, {'accuracy': 0.9906, 'Layer1': {'[[0, 1, 2, 3, 4, 5, 6, 7]]': 0.4964, '[[0, 1]]': 0.5118, '[[0]]': 0.5024}, 'Layer2': {'[[0, 1, 2, 3, 4, 5, 6, 7]]': 0.4993, '[[0, 1]]': 0.4958, '[[0]]': 0.5061}, 'Layer3': {'[[0, 1, 2, 3, 4, 5, 6, 7]]': 0.4949, '[[0, 1]]': 0.5015, '[[0]]': 0.4977}}, {'accuracy': 0.9955, 'Layer1': {'[[0, 1, 2, 3, 4, 5, 6, 7]]': 0.5024, '[[0, 1]]': 0.5025, '[[0]]': 0.4974}, 'Layer2': {'[[0, 1, 2, 3, 4, 5, 6, 7]]': 0.5068, '[[0, 1]]': 0.5074, '[[0]]': 0.5021}, 'Layer3': {'[[0, 1, 2, 3, 4, 5, 6, 7]]': 0.5036, '[[0, 1]]': 0.5027, '[[0]]': 0.4986}}, {'accuracy': 0.9864, 'Layer1': {'[[0, 1, 2, 3, 4, 5, 6, 7]]': 0.5007, '[[0, 1]]': 0.497, '[[0]]': 0.5085}, 'Layer2': {'[[0, 1, 2, 3, 4, 5, 6, 7]]': 0.4965, '[[0, 1]]': 0.5008, '[[0]]': 0.5003}, 'Layer3': {'[[0, 1, 2, 3, 4, 5, 6, 7]]': 0.4993, '[[0, 1]]': 0.4952, '[[0]]': 0.5048}}, {'accuracy': 0.9995, 'Layer1': {'[[0, 1, 2, 3, 4, 5, 6, 7]]': 0.5043, '[[0, 1]]': 0.5061, '[[0]]': 0.5006}, 'Layer2': {'[[0, 1, 2, 3, 4, 5, 6, 7]]': 0.4927, '[[0, 1]]': 0.4921, '[[0]]': 0.5033}, 'Layer3': {'[[0, 1, 2, 3, 4, 5, 6, 7]]': 0.4967}}]\n",
      "Layer3 : [[0, 1]]\n"
     ]
    },
    {
     "name": "stderr",
     "output_type": "stream",
     "text": [
      "100%|█████████████████████████████████████████████| 1280000/1280000 [01:23<00:00, 15407.15it/s]\n",
      "100%|█████████████████████████████████████████████████| 10000/10000 [00:00<00:00, 16712.25it/s]\n"
     ]
    },
    {
     "name": "stdout",
     "output_type": "stream",
     "text": [
      "[SYST] Prepare Data\n"
     ]
    },
    {
     "name": "stderr",
     "output_type": "stream",
     "text": [
      "100%|████████████████████████████████████████████| 1280000/1280000 [00:08<00:00, 158526.11it/s]\n"
     ]
    },
    {
     "name": "stdout",
     "output_type": "stream",
     "text": [
      "[SYST] Prepare Data\n"
     ]
    },
    {
     "name": "stderr",
     "output_type": "stream",
     "text": [
      "100%|████████████████████████████████████████████████| 10000/10000 [00:00<00:00, 156899.06it/s]"
     ]
    },
    {
     "name": "stdout",
     "output_type": "stream",
     "text": [
      "[SYST] Epoch 0\n"
     ]
    },
    {
     "name": "stderr",
     "output_type": "stream",
     "text": [
      "\n",
      "100%|████████████████████████████████████████████████████████| 200/200 [00:19<00:00, 10.07it/s]\n"
     ]
    },
    {
     "name": "stdout",
     "output_type": "stream",
     "text": [
      "Epoch 1, Loss: 6.096258437633514\n",
      "[SYST] Epoch 1\n"
     ]
    },
    {
     "name": "stderr",
     "output_type": "stream",
     "text": [
      "100%|████████████████████████████████████████████████████████| 200/200 [00:20<00:00,  9.97it/s]\n"
     ]
    },
    {
     "name": "stdout",
     "output_type": "stream",
     "text": [
      "Epoch 2, Loss: 5.812735998630524\n",
      "[SYST] Epoch 2\n"
     ]
    },
    {
     "name": "stderr",
     "output_type": "stream",
     "text": [
      "100%|████████████████████████████████████████████████████████| 200/200 [00:20<00:00,  9.95it/s]\n"
     ]
    },
    {
     "name": "stdout",
     "output_type": "stream",
     "text": [
      "Epoch 3, Loss: 5.810654797554016\n",
      "[SYST] Epoch 3\n"
     ]
    },
    {
     "name": "stderr",
     "output_type": "stream",
     "text": [
      "100%|████████████████████████████████████████████████████████| 200/200 [00:20<00:00,  9.99it/s]\n"
     ]
    },
    {
     "name": "stdout",
     "output_type": "stream",
     "text": [
      "Epoch 4, Loss: 5.81046902179718\n",
      "[SYST] Epoch 4\n"
     ]
    },
    {
     "name": "stderr",
     "output_type": "stream",
     "text": [
      "100%|████████████████████████████████████████████████████████| 200/200 [00:20<00:00,  9.98it/s]\n"
     ]
    },
    {
     "name": "stdout",
     "output_type": "stream",
     "text": [
      "Epoch 5, Loss: 5.810225143432617\n",
      "[SYST] Epoch 5\n"
     ]
    },
    {
     "name": "stderr",
     "output_type": "stream",
     "text": [
      "100%|████████████████████████████████████████████████████████| 200/200 [00:20<00:00,  9.94it/s]\n"
     ]
    },
    {
     "name": "stdout",
     "output_type": "stream",
     "text": [
      "Epoch 6, Loss: 5.810076122283935\n",
      "[SYST] Epoch 6\n"
     ]
    },
    {
     "name": "stderr",
     "output_type": "stream",
     "text": [
      "100%|████████████████████████████████████████████████████████| 200/200 [00:20<00:00,  9.99it/s]\n"
     ]
    },
    {
     "name": "stdout",
     "output_type": "stream",
     "text": [
      "Epoch 7, Loss: 5.810152034759522\n",
      "[SYST] Epoch 7\n"
     ]
    },
    {
     "name": "stderr",
     "output_type": "stream",
     "text": [
      "100%|████████████████████████████████████████████████████████| 200/200 [00:20<00:00,  9.93it/s]\n"
     ]
    },
    {
     "name": "stdout",
     "output_type": "stream",
     "text": [
      "Epoch 8, Loss: 5.810250751972198\n",
      "[SYST] Epoch 8\n"
     ]
    },
    {
     "name": "stderr",
     "output_type": "stream",
     "text": [
      "100%|████████████████████████████████████████████████████████| 200/200 [00:20<00:00,  9.92it/s]\n"
     ]
    },
    {
     "name": "stdout",
     "output_type": "stream",
     "text": [
      "Epoch 9, Loss: 5.810197520256042\n",
      "[SYST] Epoch 9\n"
     ]
    },
    {
     "name": "stderr",
     "output_type": "stream",
     "text": [
      "100%|████████████████████████████████████████████████████████| 200/200 [00:20<00:00,  9.98it/s]\n"
     ]
    },
    {
     "name": "stdout",
     "output_type": "stream",
     "text": [
      "Epoch 10, Loss: 5.810063943862915\n",
      "[SYST] Epoch 0\n"
     ]
    },
    {
     "name": "stderr",
     "output_type": "stream",
     "text": [
      "100%|████████████████████████████████████████████████████████████| 2/2 [00:00<00:00, 13.20it/s]\n"
     ]
    },
    {
     "name": "stdout",
     "output_type": "stream",
     "text": [
      "Test Accuracy: 50.04%\n",
      "[{'accuracy': 0.9983, 'Layer1': {'[[0, 1, 2, 3, 4, 5, 6, 7]]': 0.5013, '[[0, 1]]': 0.5039, '[[0]]': 0.5082}, 'Layer2': {'[[0, 1, 2, 3, 4, 5, 6, 7]]': 0.5037, '[[0, 1]]': 0.5032, '[[0]]': 0.5075}, 'Layer3': {'[[0, 1, 2, 3, 4, 5, 6, 7]]': 0.4925, '[[0, 1]]': 0.5037, '[[0]]': 0.5081}}, {'accuracy': 0.9983, 'Layer1': {'[[0, 1, 2, 3, 4, 5, 6, 7]]': 0.5012, '[[0, 1]]': 0.5059, '[[0]]': 0.4956}, 'Layer2': {'[[0, 1, 2, 3, 4, 5, 6, 7]]': 0.5027, '[[0, 1]]': 0.4957, '[[0]]': 0.493}, 'Layer3': {'[[0, 1, 2, 3, 4, 5, 6, 7]]': 0.4966, '[[0, 1]]': 0.4996, '[[0]]': 0.5071}}, {'accuracy': 0.9906, 'Layer1': {'[[0, 1, 2, 3, 4, 5, 6, 7]]': 0.4964, '[[0, 1]]': 0.5118, '[[0]]': 0.5024}, 'Layer2': {'[[0, 1, 2, 3, 4, 5, 6, 7]]': 0.4993, '[[0, 1]]': 0.4958, '[[0]]': 0.5061}, 'Layer3': {'[[0, 1, 2, 3, 4, 5, 6, 7]]': 0.4949, '[[0, 1]]': 0.5015, '[[0]]': 0.4977}}, {'accuracy': 0.9955, 'Layer1': {'[[0, 1, 2, 3, 4, 5, 6, 7]]': 0.5024, '[[0, 1]]': 0.5025, '[[0]]': 0.4974}, 'Layer2': {'[[0, 1, 2, 3, 4, 5, 6, 7]]': 0.5068, '[[0, 1]]': 0.5074, '[[0]]': 0.5021}, 'Layer3': {'[[0, 1, 2, 3, 4, 5, 6, 7]]': 0.5036, '[[0, 1]]': 0.5027, '[[0]]': 0.4986}}, {'accuracy': 0.9864, 'Layer1': {'[[0, 1, 2, 3, 4, 5, 6, 7]]': 0.5007, '[[0, 1]]': 0.497, '[[0]]': 0.5085}, 'Layer2': {'[[0, 1, 2, 3, 4, 5, 6, 7]]': 0.4965, '[[0, 1]]': 0.5008, '[[0]]': 0.5003}, 'Layer3': {'[[0, 1, 2, 3, 4, 5, 6, 7]]': 0.4993, '[[0, 1]]': 0.4952, '[[0]]': 0.5048}}, {'accuracy': 0.9995, 'Layer1': {'[[0, 1, 2, 3, 4, 5, 6, 7]]': 0.5043, '[[0, 1]]': 0.5061, '[[0]]': 0.5006}, 'Layer2': {'[[0, 1, 2, 3, 4, 5, 6, 7]]': 0.4927, '[[0, 1]]': 0.4921, '[[0]]': 0.5033}, 'Layer3': {'[[0, 1, 2, 3, 4, 5, 6, 7]]': 0.4967, '[[0, 1]]': 0.5004}}]\n",
      "Layer3 : [[0]]\n"
     ]
    },
    {
     "name": "stderr",
     "output_type": "stream",
     "text": [
      "100%|█████████████████████████████████████████████| 1280000/1280000 [01:22<00:00, 15538.13it/s]\n",
      "100%|█████████████████████████████████████████████████| 10000/10000 [00:00<00:00, 16725.81it/s]\n"
     ]
    },
    {
     "name": "stdout",
     "output_type": "stream",
     "text": [
      "[SYST] Prepare Data\n"
     ]
    },
    {
     "name": "stderr",
     "output_type": "stream",
     "text": [
      "100%|████████████████████████████████████████████| 1280000/1280000 [00:07<00:00, 161576.50it/s]\n"
     ]
    },
    {
     "name": "stdout",
     "output_type": "stream",
     "text": [
      "[SYST] Prepare Data\n"
     ]
    },
    {
     "name": "stderr",
     "output_type": "stream",
     "text": [
      "100%|████████████████████████████████████████████████| 10000/10000 [00:00<00:00, 164601.28it/s]"
     ]
    },
    {
     "name": "stdout",
     "output_type": "stream",
     "text": [
      "[SYST] Epoch 0\n"
     ]
    },
    {
     "name": "stderr",
     "output_type": "stream",
     "text": [
      "\n",
      "100%|████████████████████████████████████████████████████████| 200/200 [00:19<00:00, 10.18it/s]\n"
     ]
    },
    {
     "name": "stdout",
     "output_type": "stream",
     "text": [
      "Epoch 1, Loss: 6.430804586410522\n",
      "[SYST] Epoch 1\n"
     ]
    },
    {
     "name": "stderr",
     "output_type": "stream",
     "text": [
      "100%|████████████████████████████████████████████████████████| 200/200 [00:19<00:00, 10.09it/s]\n"
     ]
    },
    {
     "name": "stdout",
     "output_type": "stream",
     "text": [
      "Epoch 2, Loss: 5.824436824321747\n",
      "[SYST] Epoch 2\n"
     ]
    },
    {
     "name": "stderr",
     "output_type": "stream",
     "text": [
      "100%|████████████████████████████████████████████████████████| 200/200 [00:19<00:00, 10.06it/s]\n"
     ]
    },
    {
     "name": "stdout",
     "output_type": "stream",
     "text": [
      "Epoch 3, Loss: 5.807062745094299\n",
      "[SYST] Epoch 3\n"
     ]
    },
    {
     "name": "stderr",
     "output_type": "stream",
     "text": [
      "100%|████████████████████████████████████████████████████████| 200/200 [00:19<00:00, 10.01it/s]\n"
     ]
    },
    {
     "name": "stdout",
     "output_type": "stream",
     "text": [
      "Epoch 4, Loss: 5.8059313464164735\n",
      "[SYST] Epoch 4\n"
     ]
    },
    {
     "name": "stderr",
     "output_type": "stream",
     "text": [
      "100%|████████████████████████████████████████████████████████| 200/200 [00:19<00:00, 10.01it/s]\n"
     ]
    },
    {
     "name": "stdout",
     "output_type": "stream",
     "text": [
      "Epoch 5, Loss: 5.805645112991333\n",
      "[SYST] Epoch 5\n"
     ]
    },
    {
     "name": "stderr",
     "output_type": "stream",
     "text": [
      "100%|████████████████████████████████████████████████████████| 200/200 [00:19<00:00, 10.00it/s]\n"
     ]
    },
    {
     "name": "stdout",
     "output_type": "stream",
     "text": [
      "Epoch 6, Loss: 5.805559997558594\n",
      "[SYST] Epoch 6\n"
     ]
    },
    {
     "name": "stderr",
     "output_type": "stream",
     "text": [
      "100%|████████████████████████████████████████████████████████| 200/200 [00:20<00:00,  9.97it/s]\n"
     ]
    },
    {
     "name": "stdout",
     "output_type": "stream",
     "text": [
      "Epoch 7, Loss: 5.805746133327484\n",
      "[SYST] Epoch 7\n"
     ]
    },
    {
     "name": "stderr",
     "output_type": "stream",
     "text": [
      "100%|████████████████████████████████████████████████████████| 200/200 [00:19<00:00, 10.02it/s]\n"
     ]
    },
    {
     "name": "stdout",
     "output_type": "stream",
     "text": [
      "Epoch 8, Loss: 5.805511524677277\n",
      "[SYST] Epoch 8\n"
     ]
    },
    {
     "name": "stderr",
     "output_type": "stream",
     "text": [
      "100%|████████████████████████████████████████████████████████| 200/200 [00:19<00:00, 10.04it/s]\n"
     ]
    },
    {
     "name": "stdout",
     "output_type": "stream",
     "text": [
      "Epoch 9, Loss: 5.805590949058533\n",
      "[SYST] Epoch 9\n"
     ]
    },
    {
     "name": "stderr",
     "output_type": "stream",
     "text": [
      "100%|████████████████████████████████████████████████████████| 200/200 [00:19<00:00, 10.03it/s]\n"
     ]
    },
    {
     "name": "stdout",
     "output_type": "stream",
     "text": [
      "Epoch 10, Loss: 5.805854241847992\n",
      "[SYST] Epoch 0\n"
     ]
    },
    {
     "name": "stderr",
     "output_type": "stream",
     "text": [
      "100%|████████████████████████████████████████████████████████████| 2/2 [00:00<00:00, 13.44it/s]\n"
     ]
    },
    {
     "name": "stdout",
     "output_type": "stream",
     "text": [
      "Test Accuracy: 50.10%\n",
      "[{'accuracy': 0.9983, 'Layer1': {'[[0, 1, 2, 3, 4, 5, 6, 7]]': 0.5013, '[[0, 1]]': 0.5039, '[[0]]': 0.5082}, 'Layer2': {'[[0, 1, 2, 3, 4, 5, 6, 7]]': 0.5037, '[[0, 1]]': 0.5032, '[[0]]': 0.5075}, 'Layer3': {'[[0, 1, 2, 3, 4, 5, 6, 7]]': 0.4925, '[[0, 1]]': 0.5037, '[[0]]': 0.5081}}, {'accuracy': 0.9983, 'Layer1': {'[[0, 1, 2, 3, 4, 5, 6, 7]]': 0.5012, '[[0, 1]]': 0.5059, '[[0]]': 0.4956}, 'Layer2': {'[[0, 1, 2, 3, 4, 5, 6, 7]]': 0.5027, '[[0, 1]]': 0.4957, '[[0]]': 0.493}, 'Layer3': {'[[0, 1, 2, 3, 4, 5, 6, 7]]': 0.4966, '[[0, 1]]': 0.4996, '[[0]]': 0.5071}}, {'accuracy': 0.9906, 'Layer1': {'[[0, 1, 2, 3, 4, 5, 6, 7]]': 0.4964, '[[0, 1]]': 0.5118, '[[0]]': 0.5024}, 'Layer2': {'[[0, 1, 2, 3, 4, 5, 6, 7]]': 0.4993, '[[0, 1]]': 0.4958, '[[0]]': 0.5061}, 'Layer3': {'[[0, 1, 2, 3, 4, 5, 6, 7]]': 0.4949, '[[0, 1]]': 0.5015, '[[0]]': 0.4977}}, {'accuracy': 0.9955, 'Layer1': {'[[0, 1, 2, 3, 4, 5, 6, 7]]': 0.5024, '[[0, 1]]': 0.5025, '[[0]]': 0.4974}, 'Layer2': {'[[0, 1, 2, 3, 4, 5, 6, 7]]': 0.5068, '[[0, 1]]': 0.5074, '[[0]]': 0.5021}, 'Layer3': {'[[0, 1, 2, 3, 4, 5, 6, 7]]': 0.5036, '[[0, 1]]': 0.5027, '[[0]]': 0.4986}}, {'accuracy': 0.9864, 'Layer1': {'[[0, 1, 2, 3, 4, 5, 6, 7]]': 0.5007, '[[0, 1]]': 0.497, '[[0]]': 0.5085}, 'Layer2': {'[[0, 1, 2, 3, 4, 5, 6, 7]]': 0.4965, '[[0, 1]]': 0.5008, '[[0]]': 0.5003}, 'Layer3': {'[[0, 1, 2, 3, 4, 5, 6, 7]]': 0.4993, '[[0, 1]]': 0.4952, '[[0]]': 0.5048}}, {'accuracy': 0.9995, 'Layer1': {'[[0, 1, 2, 3, 4, 5, 6, 7]]': 0.5043, '[[0, 1]]': 0.5061, '[[0]]': 0.5006}, 'Layer2': {'[[0, 1, 2, 3, 4, 5, 6, 7]]': 0.4927, '[[0, 1]]': 0.4921, '[[0]]': 0.5033}, 'Layer3': {'[[0, 1, 2, 3, 4, 5, 6, 7]]': 0.4967, '[[0, 1]]': 0.5004, '[[0]]': 0.501}}]\n"
     ]
    },
    {
     "name": "stderr",
     "output_type": "stream",
     "text": [
      "100%|████████████████████████████████████████████| 1048576/1048576 [00:10<00:00, 100185.66it/s]\n",
      "100%|█████████████████████████████████████████████████████| 1024/1024 [00:08<00:00, 120.38it/s]\n"
     ]
    },
    {
     "name": "stdout",
     "output_type": "stream",
     "text": [
      "Epoch 1, Loss: 0.4616644837005879\n"
     ]
    },
    {
     "name": "stderr",
     "output_type": "stream",
     "text": [
      "100%|█████████████████████████████████████████████████████| 1024/1024 [00:09<00:00, 111.66it/s]\n"
     ]
    },
    {
     "name": "stdout",
     "output_type": "stream",
     "text": [
      "Epoch 2, Loss: 0.04929344684933312\n"
     ]
    },
    {
     "name": "stderr",
     "output_type": "stream",
     "text": [
      "100%|█████████████████████████████████████████████████████| 1024/1024 [00:09<00:00, 112.76it/s]\n"
     ]
    },
    {
     "name": "stdout",
     "output_type": "stream",
     "text": [
      "Epoch 3, Loss: 0.012568892849685653\n"
     ]
    },
    {
     "name": "stderr",
     "output_type": "stream",
     "text": [
      "100%|█████████████████████████████████████████████████| 10000/10000 [00:00<00:00, 97934.37it/s]\n",
      "100%|█████████████████████████████████████████████████████████| 10/10 [00:00<00:00, 161.33it/s]\n"
     ]
    },
    {
     "name": "stdout",
     "output_type": "stream",
     "text": [
      "Test Accuracy: 0.9979\n",
      "Layer1 : [[0, 1, 2, 3, 4, 5, 6, 7]]\n"
     ]
    },
    {
     "name": "stderr",
     "output_type": "stream",
     "text": [
      "100%|█████████████████████████████████████████████| 1280000/1280000 [01:23<00:00, 15405.69it/s]\n",
      "100%|█████████████████████████████████████████████████| 10000/10000 [00:00<00:00, 16866.16it/s]\n"
     ]
    },
    {
     "name": "stdout",
     "output_type": "stream",
     "text": [
      "[SYST] Prepare Data\n"
     ]
    },
    {
     "name": "stderr",
     "output_type": "stream",
     "text": [
      "100%|████████████████████████████████████████████| 1280000/1280000 [00:08<00:00, 144767.50it/s]\n"
     ]
    },
    {
     "name": "stdout",
     "output_type": "stream",
     "text": [
      "[SYST] Prepare Data\n"
     ]
    },
    {
     "name": "stderr",
     "output_type": "stream",
     "text": [
      "100%|████████████████████████████████████████████████| 10000/10000 [00:00<00:00, 148659.33it/s]"
     ]
    },
    {
     "name": "stdout",
     "output_type": "stream",
     "text": [
      "[SYST] Epoch 0\n"
     ]
    },
    {
     "name": "stderr",
     "output_type": "stream",
     "text": [
      "\n",
      "100%|████████████████████████████████████████████████████████| 200/200 [00:20<00:00,  9.95it/s]\n"
     ]
    },
    {
     "name": "stdout",
     "output_type": "stream",
     "text": [
      "Epoch 1, Loss: 5.943852434158325\n",
      "[SYST] Epoch 1\n"
     ]
    },
    {
     "name": "stderr",
     "output_type": "stream",
     "text": [
      "100%|████████████████████████████████████████████████████████| 200/200 [00:20<00:00,  9.91it/s]\n"
     ]
    },
    {
     "name": "stdout",
     "output_type": "stream",
     "text": [
      "Epoch 2, Loss: 4.715328323841095\n",
      "[SYST] Epoch 2\n"
     ]
    },
    {
     "name": "stderr",
     "output_type": "stream",
     "text": [
      "100%|████████████████████████████████████████████████████████| 200/200 [00:20<00:00,  9.94it/s]\n"
     ]
    },
    {
     "name": "stdout",
     "output_type": "stream",
     "text": [
      "Epoch 3, Loss: 4.489723534584045\n",
      "[SYST] Epoch 3\n"
     ]
    },
    {
     "name": "stderr",
     "output_type": "stream",
     "text": [
      "100%|████████████████████████████████████████████████████████| 200/200 [00:20<00:00,  9.94it/s]\n"
     ]
    },
    {
     "name": "stdout",
     "output_type": "stream",
     "text": [
      "Epoch 4, Loss: 4.425258665084839\n",
      "[SYST] Epoch 4\n"
     ]
    },
    {
     "name": "stderr",
     "output_type": "stream",
     "text": [
      "100%|████████████████████████████████████████████████████████| 200/200 [00:20<00:00,  9.86it/s]\n"
     ]
    },
    {
     "name": "stdout",
     "output_type": "stream",
     "text": [
      "Epoch 5, Loss: 4.387846767902374\n",
      "[SYST] Epoch 5\n"
     ]
    },
    {
     "name": "stderr",
     "output_type": "stream",
     "text": [
      "100%|████████████████████████████████████████████████████████| 200/200 [00:20<00:00,  9.83it/s]\n"
     ]
    },
    {
     "name": "stdout",
     "output_type": "stream",
     "text": [
      "Epoch 6, Loss: 4.362091732025147\n",
      "[SYST] Epoch 6\n"
     ]
    },
    {
     "name": "stderr",
     "output_type": "stream",
     "text": [
      "100%|████████████████████████████████████████████████████████| 200/200 [00:20<00:00,  9.82it/s]\n"
     ]
    },
    {
     "name": "stdout",
     "output_type": "stream",
     "text": [
      "Epoch 7, Loss: 4.344843506813049\n",
      "[SYST] Epoch 7\n"
     ]
    },
    {
     "name": "stderr",
     "output_type": "stream",
     "text": [
      "100%|████████████████████████████████████████████████████████| 200/200 [00:20<00:00,  9.88it/s]\n"
     ]
    },
    {
     "name": "stdout",
     "output_type": "stream",
     "text": [
      "Epoch 8, Loss: 4.332733108997345\n",
      "[SYST] Epoch 8\n"
     ]
    },
    {
     "name": "stderr",
     "output_type": "stream",
     "text": [
      "100%|████████████████████████████████████████████████████████| 200/200 [00:20<00:00,  9.87it/s]\n"
     ]
    },
    {
     "name": "stdout",
     "output_type": "stream",
     "text": [
      "Epoch 9, Loss: 4.324302790164947\n",
      "[SYST] Epoch 9\n"
     ]
    },
    {
     "name": "stderr",
     "output_type": "stream",
     "text": [
      "100%|████████████████████████████████████████████████████████| 200/200 [00:20<00:00,  9.88it/s]\n"
     ]
    },
    {
     "name": "stdout",
     "output_type": "stream",
     "text": [
      "Epoch 10, Loss: 4.318057250976563\n",
      "[SYST] Epoch 0\n"
     ]
    },
    {
     "name": "stderr",
     "output_type": "stream",
     "text": [
      "100%|████████████████████████████████████████████████████████████| 2/2 [00:00<00:00, 13.31it/s]\n"
     ]
    },
    {
     "name": "stdout",
     "output_type": "stream",
     "text": [
      "Test Accuracy: 51.76%\n",
      "[{'accuracy': 0.9983, 'Layer1': {'[[0, 1, 2, 3, 4, 5, 6, 7]]': 0.5013, '[[0, 1]]': 0.5039, '[[0]]': 0.5082}, 'Layer2': {'[[0, 1, 2, 3, 4, 5, 6, 7]]': 0.5037, '[[0, 1]]': 0.5032, '[[0]]': 0.5075}, 'Layer3': {'[[0, 1, 2, 3, 4, 5, 6, 7]]': 0.4925, '[[0, 1]]': 0.5037, '[[0]]': 0.5081}}, {'accuracy': 0.9983, 'Layer1': {'[[0, 1, 2, 3, 4, 5, 6, 7]]': 0.5012, '[[0, 1]]': 0.5059, '[[0]]': 0.4956}, 'Layer2': {'[[0, 1, 2, 3, 4, 5, 6, 7]]': 0.5027, '[[0, 1]]': 0.4957, '[[0]]': 0.493}, 'Layer3': {'[[0, 1, 2, 3, 4, 5, 6, 7]]': 0.4966, '[[0, 1]]': 0.4996, '[[0]]': 0.5071}}, {'accuracy': 0.9906, 'Layer1': {'[[0, 1, 2, 3, 4, 5, 6, 7]]': 0.4964, '[[0, 1]]': 0.5118, '[[0]]': 0.5024}, 'Layer2': {'[[0, 1, 2, 3, 4, 5, 6, 7]]': 0.4993, '[[0, 1]]': 0.4958, '[[0]]': 0.5061}, 'Layer3': {'[[0, 1, 2, 3, 4, 5, 6, 7]]': 0.4949, '[[0, 1]]': 0.5015, '[[0]]': 0.4977}}, {'accuracy': 0.9955, 'Layer1': {'[[0, 1, 2, 3, 4, 5, 6, 7]]': 0.5024, '[[0, 1]]': 0.5025, '[[0]]': 0.4974}, 'Layer2': {'[[0, 1, 2, 3, 4, 5, 6, 7]]': 0.5068, '[[0, 1]]': 0.5074, '[[0]]': 0.5021}, 'Layer3': {'[[0, 1, 2, 3, 4, 5, 6, 7]]': 0.5036, '[[0, 1]]': 0.5027, '[[0]]': 0.4986}}, {'accuracy': 0.9864, 'Layer1': {'[[0, 1, 2, 3, 4, 5, 6, 7]]': 0.5007, '[[0, 1]]': 0.497, '[[0]]': 0.5085}, 'Layer2': {'[[0, 1, 2, 3, 4, 5, 6, 7]]': 0.4965, '[[0, 1]]': 0.5008, '[[0]]': 0.5003}, 'Layer3': {'[[0, 1, 2, 3, 4, 5, 6, 7]]': 0.4993, '[[0, 1]]': 0.4952, '[[0]]': 0.5048}}, {'accuracy': 0.9995, 'Layer1': {'[[0, 1, 2, 3, 4, 5, 6, 7]]': 0.5043, '[[0, 1]]': 0.5061, '[[0]]': 0.5006}, 'Layer2': {'[[0, 1, 2, 3, 4, 5, 6, 7]]': 0.4927, '[[0, 1]]': 0.4921, '[[0]]': 0.5033}, 'Layer3': {'[[0, 1, 2, 3, 4, 5, 6, 7]]': 0.4967, '[[0, 1]]': 0.5004, '[[0]]': 0.501}}, {'accuracy': 0.9979, 'Layer1': {'[[0, 1, 2, 3, 4, 5, 6, 7]]': 0.5176}}]\n",
      "Layer1 : [[0, 1]]\n"
     ]
    },
    {
     "name": "stderr",
     "output_type": "stream",
     "text": [
      "100%|█████████████████████████████████████████████| 1280000/1280000 [01:21<00:00, 15693.98it/s]\n",
      "100%|█████████████████████████████████████████████████| 10000/10000 [00:00<00:00, 16840.64it/s]\n"
     ]
    },
    {
     "name": "stdout",
     "output_type": "stream",
     "text": [
      "[SYST] Prepare Data\n"
     ]
    },
    {
     "name": "stderr",
     "output_type": "stream",
     "text": [
      "100%|████████████████████████████████████████████| 1280000/1280000 [00:08<00:00, 158220.00it/s]\n"
     ]
    },
    {
     "name": "stdout",
     "output_type": "stream",
     "text": [
      "[SYST] Prepare Data\n"
     ]
    },
    {
     "name": "stderr",
     "output_type": "stream",
     "text": [
      "100%|████████████████████████████████████████████████| 10000/10000 [00:00<00:00, 159617.62it/s]"
     ]
    },
    {
     "name": "stdout",
     "output_type": "stream",
     "text": [
      "[SYST] Epoch 0\n"
     ]
    },
    {
     "name": "stderr",
     "output_type": "stream",
     "text": [
      "\n",
      "100%|████████████████████████████████████████████████████████| 200/200 [00:19<00:00, 10.06it/s]\n"
     ]
    },
    {
     "name": "stdout",
     "output_type": "stream",
     "text": [
      "Epoch 1, Loss: 5.836029214859009\n",
      "[SYST] Epoch 1\n"
     ]
    },
    {
     "name": "stderr",
     "output_type": "stream",
     "text": [
      "100%|████████████████████████████████████████████████████████| 200/200 [00:20<00:00,  9.96it/s]\n"
     ]
    },
    {
     "name": "stdout",
     "output_type": "stream",
     "text": [
      "Epoch 2, Loss: 4.965916998386383\n",
      "[SYST] Epoch 2\n"
     ]
    },
    {
     "name": "stderr",
     "output_type": "stream",
     "text": [
      "100%|████████████████████████████████████████████████████████| 200/200 [00:20<00:00,  9.94it/s]\n"
     ]
    },
    {
     "name": "stdout",
     "output_type": "stream",
     "text": [
      "Epoch 3, Loss: 4.856643815040588\n",
      "[SYST] Epoch 3\n"
     ]
    },
    {
     "name": "stderr",
     "output_type": "stream",
     "text": [
      "100%|████████████████████████████████████████████████████████| 200/200 [00:20<00:00,  9.93it/s]\n"
     ]
    },
    {
     "name": "stdout",
     "output_type": "stream",
     "text": [
      "Epoch 4, Loss: 4.823942954540253\n",
      "[SYST] Epoch 4\n"
     ]
    },
    {
     "name": "stderr",
     "output_type": "stream",
     "text": [
      "100%|████████████████████████████████████████████████████████| 200/200 [00:20<00:00, 10.00it/s]\n"
     ]
    },
    {
     "name": "stdout",
     "output_type": "stream",
     "text": [
      "Epoch 5, Loss: 4.810288319587707\n",
      "[SYST] Epoch 5\n"
     ]
    },
    {
     "name": "stderr",
     "output_type": "stream",
     "text": [
      "100%|████████████████████████████████████████████████████████| 200/200 [00:19<00:00, 10.03it/s]\n"
     ]
    },
    {
     "name": "stdout",
     "output_type": "stream",
     "text": [
      "Epoch 6, Loss: 4.804206674098968\n",
      "[SYST] Epoch 6\n"
     ]
    },
    {
     "name": "stderr",
     "output_type": "stream",
     "text": [
      "100%|████████████████████████████████████████████████████████| 200/200 [00:19<00:00, 10.02it/s]\n"
     ]
    },
    {
     "name": "stdout",
     "output_type": "stream",
     "text": [
      "Epoch 7, Loss: 4.801164808273316\n",
      "[SYST] Epoch 7\n"
     ]
    },
    {
     "name": "stderr",
     "output_type": "stream",
     "text": [
      "100%|████████████████████████████████████████████████████████| 200/200 [00:19<00:00, 10.03it/s]\n"
     ]
    },
    {
     "name": "stdout",
     "output_type": "stream",
     "text": [
      "Epoch 8, Loss: 4.799287452697754\n",
      "[SYST] Epoch 8\n"
     ]
    },
    {
     "name": "stderr",
     "output_type": "stream",
     "text": [
      "100%|████████████████████████████████████████████████████████| 200/200 [00:19<00:00, 10.02it/s]\n"
     ]
    },
    {
     "name": "stdout",
     "output_type": "stream",
     "text": [
      "Epoch 9, Loss: 4.798701131343842\n",
      "[SYST] Epoch 9\n"
     ]
    },
    {
     "name": "stderr",
     "output_type": "stream",
     "text": [
      "100%|████████████████████████████████████████████████████████| 200/200 [00:19<00:00, 10.02it/s]\n"
     ]
    },
    {
     "name": "stdout",
     "output_type": "stream",
     "text": [
      "Epoch 10, Loss: 4.798413317203522\n",
      "[SYST] Epoch 0\n"
     ]
    },
    {
     "name": "stderr",
     "output_type": "stream",
     "text": [
      "100%|████████████████████████████████████████████████████████████| 2/2 [00:00<00:00, 13.52it/s]\n"
     ]
    },
    {
     "name": "stdout",
     "output_type": "stream",
     "text": [
      "Test Accuracy: 49.83%\n",
      "[{'accuracy': 0.9983, 'Layer1': {'[[0, 1, 2, 3, 4, 5, 6, 7]]': 0.5013, '[[0, 1]]': 0.5039, '[[0]]': 0.5082}, 'Layer2': {'[[0, 1, 2, 3, 4, 5, 6, 7]]': 0.5037, '[[0, 1]]': 0.5032, '[[0]]': 0.5075}, 'Layer3': {'[[0, 1, 2, 3, 4, 5, 6, 7]]': 0.4925, '[[0, 1]]': 0.5037, '[[0]]': 0.5081}}, {'accuracy': 0.9983, 'Layer1': {'[[0, 1, 2, 3, 4, 5, 6, 7]]': 0.5012, '[[0, 1]]': 0.5059, '[[0]]': 0.4956}, 'Layer2': {'[[0, 1, 2, 3, 4, 5, 6, 7]]': 0.5027, '[[0, 1]]': 0.4957, '[[0]]': 0.493}, 'Layer3': {'[[0, 1, 2, 3, 4, 5, 6, 7]]': 0.4966, '[[0, 1]]': 0.4996, '[[0]]': 0.5071}}, {'accuracy': 0.9906, 'Layer1': {'[[0, 1, 2, 3, 4, 5, 6, 7]]': 0.4964, '[[0, 1]]': 0.5118, '[[0]]': 0.5024}, 'Layer2': {'[[0, 1, 2, 3, 4, 5, 6, 7]]': 0.4993, '[[0, 1]]': 0.4958, '[[0]]': 0.5061}, 'Layer3': {'[[0, 1, 2, 3, 4, 5, 6, 7]]': 0.4949, '[[0, 1]]': 0.5015, '[[0]]': 0.4977}}, {'accuracy': 0.9955, 'Layer1': {'[[0, 1, 2, 3, 4, 5, 6, 7]]': 0.5024, '[[0, 1]]': 0.5025, '[[0]]': 0.4974}, 'Layer2': {'[[0, 1, 2, 3, 4, 5, 6, 7]]': 0.5068, '[[0, 1]]': 0.5074, '[[0]]': 0.5021}, 'Layer3': {'[[0, 1, 2, 3, 4, 5, 6, 7]]': 0.5036, '[[0, 1]]': 0.5027, '[[0]]': 0.4986}}, {'accuracy': 0.9864, 'Layer1': {'[[0, 1, 2, 3, 4, 5, 6, 7]]': 0.5007, '[[0, 1]]': 0.497, '[[0]]': 0.5085}, 'Layer2': {'[[0, 1, 2, 3, 4, 5, 6, 7]]': 0.4965, '[[0, 1]]': 0.5008, '[[0]]': 0.5003}, 'Layer3': {'[[0, 1, 2, 3, 4, 5, 6, 7]]': 0.4993, '[[0, 1]]': 0.4952, '[[0]]': 0.5048}}, {'accuracy': 0.9995, 'Layer1': {'[[0, 1, 2, 3, 4, 5, 6, 7]]': 0.5043, '[[0, 1]]': 0.5061, '[[0]]': 0.5006}, 'Layer2': {'[[0, 1, 2, 3, 4, 5, 6, 7]]': 0.4927, '[[0, 1]]': 0.4921, '[[0]]': 0.5033}, 'Layer3': {'[[0, 1, 2, 3, 4, 5, 6, 7]]': 0.4967, '[[0, 1]]': 0.5004, '[[0]]': 0.501}}, {'accuracy': 0.9979, 'Layer1': {'[[0, 1, 2, 3, 4, 5, 6, 7]]': 0.5176, '[[0, 1]]': 0.4983}}]\n",
      "Layer1 : [[0]]\n"
     ]
    },
    {
     "name": "stderr",
     "output_type": "stream",
     "text": [
      "100%|█████████████████████████████████████████████| 1280000/1280000 [01:23<00:00, 15360.83it/s]\n",
      "100%|█████████████████████████████████████████████████| 10000/10000 [00:00<00:00, 16597.96it/s]\n"
     ]
    },
    {
     "name": "stdout",
     "output_type": "stream",
     "text": [
      "[SYST] Prepare Data\n"
     ]
    },
    {
     "name": "stderr",
     "output_type": "stream",
     "text": [
      "100%|████████████████████████████████████████████| 1280000/1280000 [00:07<00:00, 161107.42it/s]\n"
     ]
    },
    {
     "name": "stdout",
     "output_type": "stream",
     "text": [
      "[SYST] Prepare Data\n"
     ]
    },
    {
     "name": "stderr",
     "output_type": "stream",
     "text": [
      "100%|████████████████████████████████████████████████| 10000/10000 [00:00<00:00, 163147.26it/s]"
     ]
    },
    {
     "name": "stdout",
     "output_type": "stream",
     "text": [
      "[SYST] Epoch 0\n"
     ]
    },
    {
     "name": "stderr",
     "output_type": "stream",
     "text": [
      "\n",
      "100%|████████████████████████████████████████████████████████| 200/200 [00:19<00:00, 10.21it/s]\n"
     ]
    },
    {
     "name": "stdout",
     "output_type": "stream",
     "text": [
      "Epoch 1, Loss: 4.970242896080017\n",
      "[SYST] Epoch 1\n"
     ]
    },
    {
     "name": "stderr",
     "output_type": "stream",
     "text": [
      "100%|████████████████████████████████████████████████████████| 200/200 [00:19<00:00, 10.06it/s]\n"
     ]
    },
    {
     "name": "stdout",
     "output_type": "stream",
     "text": [
      "Epoch 2, Loss: 4.824188601970673\n",
      "[SYST] Epoch 2\n"
     ]
    },
    {
     "name": "stderr",
     "output_type": "stream",
     "text": [
      "100%|████████████████████████████████████████████████████████| 200/200 [00:19<00:00, 10.06it/s]\n"
     ]
    },
    {
     "name": "stdout",
     "output_type": "stream",
     "text": [
      "Epoch 3, Loss: 4.787470660209656\n",
      "[SYST] Epoch 3\n"
     ]
    },
    {
     "name": "stderr",
     "output_type": "stream",
     "text": [
      "100%|████████████████████████████████████████████████████████| 200/200 [00:19<00:00, 10.05it/s]\n"
     ]
    },
    {
     "name": "stdout",
     "output_type": "stream",
     "text": [
      "Epoch 4, Loss: 4.757234010696411\n",
      "[SYST] Epoch 4\n"
     ]
    },
    {
     "name": "stderr",
     "output_type": "stream",
     "text": [
      "100%|████████████████████████████████████████████████████████| 200/200 [00:19<00:00, 10.05it/s]\n"
     ]
    },
    {
     "name": "stdout",
     "output_type": "stream",
     "text": [
      "Epoch 5, Loss: 4.736710526943207\n",
      "[SYST] Epoch 5\n"
     ]
    },
    {
     "name": "stderr",
     "output_type": "stream",
     "text": [
      "100%|████████████████████████████████████████████████████████| 200/200 [00:19<00:00, 10.02it/s]\n"
     ]
    },
    {
     "name": "stdout",
     "output_type": "stream",
     "text": [
      "Epoch 6, Loss: 4.724004945755005\n",
      "[SYST] Epoch 6\n"
     ]
    },
    {
     "name": "stderr",
     "output_type": "stream",
     "text": [
      "100%|████████████████████████████████████████████████████████| 200/200 [00:19<00:00, 10.00it/s]\n"
     ]
    },
    {
     "name": "stdout",
     "output_type": "stream",
     "text": [
      "Epoch 7, Loss: 4.719309582710266\n",
      "[SYST] Epoch 7\n"
     ]
    },
    {
     "name": "stderr",
     "output_type": "stream",
     "text": [
      "100%|████████████████████████████████████████████████████████| 200/200 [00:19<00:00, 10.00it/s]\n"
     ]
    },
    {
     "name": "stdout",
     "output_type": "stream",
     "text": [
      "Epoch 8, Loss: 4.716777231693268\n",
      "[SYST] Epoch 8\n"
     ]
    },
    {
     "name": "stderr",
     "output_type": "stream",
     "text": [
      "100%|████████████████████████████████████████████████████████| 200/200 [00:20<00:00, 10.00it/s]\n"
     ]
    },
    {
     "name": "stdout",
     "output_type": "stream",
     "text": [
      "Epoch 9, Loss: 4.71608687877655\n",
      "[SYST] Epoch 9\n"
     ]
    },
    {
     "name": "stderr",
     "output_type": "stream",
     "text": [
      "100%|████████████████████████████████████████████████████████| 200/200 [00:19<00:00, 10.03it/s]\n"
     ]
    },
    {
     "name": "stdout",
     "output_type": "stream",
     "text": [
      "Epoch 10, Loss: 4.715927639007568\n",
      "[SYST] Epoch 0\n"
     ]
    },
    {
     "name": "stderr",
     "output_type": "stream",
     "text": [
      "100%|████████████████████████████████████████████████████████████| 2/2 [00:00<00:00, 13.30it/s]\n"
     ]
    },
    {
     "name": "stdout",
     "output_type": "stream",
     "text": [
      "Test Accuracy: 49.84%\n",
      "[{'accuracy': 0.9983, 'Layer1': {'[[0, 1, 2, 3, 4, 5, 6, 7]]': 0.5013, '[[0, 1]]': 0.5039, '[[0]]': 0.5082}, 'Layer2': {'[[0, 1, 2, 3, 4, 5, 6, 7]]': 0.5037, '[[0, 1]]': 0.5032, '[[0]]': 0.5075}, 'Layer3': {'[[0, 1, 2, 3, 4, 5, 6, 7]]': 0.4925, '[[0, 1]]': 0.5037, '[[0]]': 0.5081}}, {'accuracy': 0.9983, 'Layer1': {'[[0, 1, 2, 3, 4, 5, 6, 7]]': 0.5012, '[[0, 1]]': 0.5059, '[[0]]': 0.4956}, 'Layer2': {'[[0, 1, 2, 3, 4, 5, 6, 7]]': 0.5027, '[[0, 1]]': 0.4957, '[[0]]': 0.493}, 'Layer3': {'[[0, 1, 2, 3, 4, 5, 6, 7]]': 0.4966, '[[0, 1]]': 0.4996, '[[0]]': 0.5071}}, {'accuracy': 0.9906, 'Layer1': {'[[0, 1, 2, 3, 4, 5, 6, 7]]': 0.4964, '[[0, 1]]': 0.5118, '[[0]]': 0.5024}, 'Layer2': {'[[0, 1, 2, 3, 4, 5, 6, 7]]': 0.4993, '[[0, 1]]': 0.4958, '[[0]]': 0.5061}, 'Layer3': {'[[0, 1, 2, 3, 4, 5, 6, 7]]': 0.4949, '[[0, 1]]': 0.5015, '[[0]]': 0.4977}}, {'accuracy': 0.9955, 'Layer1': {'[[0, 1, 2, 3, 4, 5, 6, 7]]': 0.5024, '[[0, 1]]': 0.5025, '[[0]]': 0.4974}, 'Layer2': {'[[0, 1, 2, 3, 4, 5, 6, 7]]': 0.5068, '[[0, 1]]': 0.5074, '[[0]]': 0.5021}, 'Layer3': {'[[0, 1, 2, 3, 4, 5, 6, 7]]': 0.5036, '[[0, 1]]': 0.5027, '[[0]]': 0.4986}}, {'accuracy': 0.9864, 'Layer1': {'[[0, 1, 2, 3, 4, 5, 6, 7]]': 0.5007, '[[0, 1]]': 0.497, '[[0]]': 0.5085}, 'Layer2': {'[[0, 1, 2, 3, 4, 5, 6, 7]]': 0.4965, '[[0, 1]]': 0.5008, '[[0]]': 0.5003}, 'Layer3': {'[[0, 1, 2, 3, 4, 5, 6, 7]]': 0.4993, '[[0, 1]]': 0.4952, '[[0]]': 0.5048}}, {'accuracy': 0.9995, 'Layer1': {'[[0, 1, 2, 3, 4, 5, 6, 7]]': 0.5043, '[[0, 1]]': 0.5061, '[[0]]': 0.5006}, 'Layer2': {'[[0, 1, 2, 3, 4, 5, 6, 7]]': 0.4927, '[[0, 1]]': 0.4921, '[[0]]': 0.5033}, 'Layer3': {'[[0, 1, 2, 3, 4, 5, 6, 7]]': 0.4967, '[[0, 1]]': 0.5004, '[[0]]': 0.501}}, {'accuracy': 0.9979, 'Layer1': {'[[0, 1, 2, 3, 4, 5, 6, 7]]': 0.5176, '[[0, 1]]': 0.4983, '[[0]]': 0.4984}}]\n",
      "Layer2 : [[0, 1, 2, 3, 4, 5, 6, 7]]\n"
     ]
    },
    {
     "name": "stderr",
     "output_type": "stream",
     "text": [
      "100%|█████████████████████████████████████████████| 1280000/1280000 [01:22<00:00, 15434.38it/s]\n",
      "100%|█████████████████████████████████████████████████| 10000/10000 [00:00<00:00, 16616.05it/s]\n"
     ]
    },
    {
     "name": "stdout",
     "output_type": "stream",
     "text": [
      "[SYST] Prepare Data\n"
     ]
    },
    {
     "name": "stderr",
     "output_type": "stream",
     "text": [
      "100%|████████████████████████████████████████████| 1280000/1280000 [00:08<00:00, 145348.16it/s]\n"
     ]
    },
    {
     "name": "stdout",
     "output_type": "stream",
     "text": [
      "[SYST] Prepare Data\n"
     ]
    },
    {
     "name": "stderr",
     "output_type": "stream",
     "text": [
      "100%|████████████████████████████████████████████████| 10000/10000 [00:00<00:00, 142173.53it/s]"
     ]
    },
    {
     "name": "stdout",
     "output_type": "stream",
     "text": [
      "[SYST] Epoch 0\n"
     ]
    },
    {
     "name": "stderr",
     "output_type": "stream",
     "text": [
      "\n",
      "100%|████████████████████████████████████████████████████████| 200/200 [00:19<00:00, 10.03it/s]\n"
     ]
    },
    {
     "name": "stdout",
     "output_type": "stream",
     "text": [
      "Epoch 1, Loss: 5.304869213104248\n",
      "[SYST] Epoch 1\n"
     ]
    },
    {
     "name": "stderr",
     "output_type": "stream",
     "text": [
      "100%|████████████████████████████████████████████████████████| 200/200 [00:20<00:00,  9.78it/s]\n"
     ]
    },
    {
     "name": "stdout",
     "output_type": "stream",
     "text": [
      "Epoch 2, Loss: 4.2804358303546906\n",
      "[SYST] Epoch 2\n"
     ]
    },
    {
     "name": "stderr",
     "output_type": "stream",
     "text": [
      "100%|████████████████████████████████████████████████████████| 200/200 [00:20<00:00,  9.79it/s]\n"
     ]
    },
    {
     "name": "stdout",
     "output_type": "stream",
     "text": [
      "Epoch 3, Loss: 4.175782552957535\n",
      "[SYST] Epoch 3\n"
     ]
    },
    {
     "name": "stderr",
     "output_type": "stream",
     "text": [
      "100%|████████████████████████████████████████████████████████| 200/200 [00:20<00:00,  9.82it/s]\n"
     ]
    },
    {
     "name": "stdout",
     "output_type": "stream",
     "text": [
      "Epoch 4, Loss: 4.122726879119873\n",
      "[SYST] Epoch 4\n"
     ]
    },
    {
     "name": "stderr",
     "output_type": "stream",
     "text": [
      "100%|████████████████████████████████████████████████████████| 200/200 [00:20<00:00,  9.84it/s]\n"
     ]
    },
    {
     "name": "stdout",
     "output_type": "stream",
     "text": [
      "Epoch 5, Loss: 4.085141711235046\n",
      "[SYST] Epoch 5\n"
     ]
    },
    {
     "name": "stderr",
     "output_type": "stream",
     "text": [
      "100%|████████████████████████████████████████████████████████| 200/200 [00:20<00:00,  9.85it/s]\n"
     ]
    },
    {
     "name": "stdout",
     "output_type": "stream",
     "text": [
      "Epoch 6, Loss: 4.052447873353958\n",
      "[SYST] Epoch 6\n"
     ]
    },
    {
     "name": "stderr",
     "output_type": "stream",
     "text": [
      "100%|████████████████████████████████████████████████████████| 200/200 [00:20<00:00,  9.82it/s]\n"
     ]
    },
    {
     "name": "stdout",
     "output_type": "stream",
     "text": [
      "Epoch 7, Loss: 4.025466120243072\n",
      "[SYST] Epoch 7\n"
     ]
    },
    {
     "name": "stderr",
     "output_type": "stream",
     "text": [
      "100%|████████████████████████████████████████████████████████| 200/200 [00:20<00:00,  9.90it/s]\n"
     ]
    },
    {
     "name": "stdout",
     "output_type": "stream",
     "text": [
      "Epoch 8, Loss: 4.010259032249451\n",
      "[SYST] Epoch 8\n"
     ]
    },
    {
     "name": "stderr",
     "output_type": "stream",
     "text": [
      "100%|████████████████████████████████████████████████████████| 200/200 [00:20<00:00,  9.88it/s]\n"
     ]
    },
    {
     "name": "stdout",
     "output_type": "stream",
     "text": [
      "Epoch 9, Loss: 4.0035456097126\n",
      "[SYST] Epoch 9\n"
     ]
    },
    {
     "name": "stderr",
     "output_type": "stream",
     "text": [
      "100%|████████████████████████████████████████████████████████| 200/200 [00:20<00:00,  9.87it/s]\n"
     ]
    },
    {
     "name": "stdout",
     "output_type": "stream",
     "text": [
      "Epoch 10, Loss: 3.9989431607723236\n",
      "[SYST] Epoch 0\n"
     ]
    },
    {
     "name": "stderr",
     "output_type": "stream",
     "text": [
      "100%|████████████████████████████████████████████████████████████| 2/2 [00:00<00:00, 13.16it/s]\n"
     ]
    },
    {
     "name": "stdout",
     "output_type": "stream",
     "text": [
      "Test Accuracy: 48.92%\n",
      "[{'accuracy': 0.9983, 'Layer1': {'[[0, 1, 2, 3, 4, 5, 6, 7]]': 0.5013, '[[0, 1]]': 0.5039, '[[0]]': 0.5082}, 'Layer2': {'[[0, 1, 2, 3, 4, 5, 6, 7]]': 0.5037, '[[0, 1]]': 0.5032, '[[0]]': 0.5075}, 'Layer3': {'[[0, 1, 2, 3, 4, 5, 6, 7]]': 0.4925, '[[0, 1]]': 0.5037, '[[0]]': 0.5081}}, {'accuracy': 0.9983, 'Layer1': {'[[0, 1, 2, 3, 4, 5, 6, 7]]': 0.5012, '[[0, 1]]': 0.5059, '[[0]]': 0.4956}, 'Layer2': {'[[0, 1, 2, 3, 4, 5, 6, 7]]': 0.5027, '[[0, 1]]': 0.4957, '[[0]]': 0.493}, 'Layer3': {'[[0, 1, 2, 3, 4, 5, 6, 7]]': 0.4966, '[[0, 1]]': 0.4996, '[[0]]': 0.5071}}, {'accuracy': 0.9906, 'Layer1': {'[[0, 1, 2, 3, 4, 5, 6, 7]]': 0.4964, '[[0, 1]]': 0.5118, '[[0]]': 0.5024}, 'Layer2': {'[[0, 1, 2, 3, 4, 5, 6, 7]]': 0.4993, '[[0, 1]]': 0.4958, '[[0]]': 0.5061}, 'Layer3': {'[[0, 1, 2, 3, 4, 5, 6, 7]]': 0.4949, '[[0, 1]]': 0.5015, '[[0]]': 0.4977}}, {'accuracy': 0.9955, 'Layer1': {'[[0, 1, 2, 3, 4, 5, 6, 7]]': 0.5024, '[[0, 1]]': 0.5025, '[[0]]': 0.4974}, 'Layer2': {'[[0, 1, 2, 3, 4, 5, 6, 7]]': 0.5068, '[[0, 1]]': 0.5074, '[[0]]': 0.5021}, 'Layer3': {'[[0, 1, 2, 3, 4, 5, 6, 7]]': 0.5036, '[[0, 1]]': 0.5027, '[[0]]': 0.4986}}, {'accuracy': 0.9864, 'Layer1': {'[[0, 1, 2, 3, 4, 5, 6, 7]]': 0.5007, '[[0, 1]]': 0.497, '[[0]]': 0.5085}, 'Layer2': {'[[0, 1, 2, 3, 4, 5, 6, 7]]': 0.4965, '[[0, 1]]': 0.5008, '[[0]]': 0.5003}, 'Layer3': {'[[0, 1, 2, 3, 4, 5, 6, 7]]': 0.4993, '[[0, 1]]': 0.4952, '[[0]]': 0.5048}}, {'accuracy': 0.9995, 'Layer1': {'[[0, 1, 2, 3, 4, 5, 6, 7]]': 0.5043, '[[0, 1]]': 0.5061, '[[0]]': 0.5006}, 'Layer2': {'[[0, 1, 2, 3, 4, 5, 6, 7]]': 0.4927, '[[0, 1]]': 0.4921, '[[0]]': 0.5033}, 'Layer3': {'[[0, 1, 2, 3, 4, 5, 6, 7]]': 0.4967, '[[0, 1]]': 0.5004, '[[0]]': 0.501}}, {'accuracy': 0.9979, 'Layer1': {'[[0, 1, 2, 3, 4, 5, 6, 7]]': 0.5176, '[[0, 1]]': 0.4983, '[[0]]': 0.4984}, 'Layer2': {'[[0, 1, 2, 3, 4, 5, 6, 7]]': 0.4892}}]\n",
      "Layer2 : [[0, 1]]\n"
     ]
    },
    {
     "name": "stderr",
     "output_type": "stream",
     "text": [
      "100%|█████████████████████████████████████████████| 1280000/1280000 [01:22<00:00, 15544.83it/s]\n",
      "100%|█████████████████████████████████████████████████| 10000/10000 [00:00<00:00, 16790.74it/s]\n"
     ]
    },
    {
     "name": "stdout",
     "output_type": "stream",
     "text": [
      "[SYST] Prepare Data\n"
     ]
    },
    {
     "name": "stderr",
     "output_type": "stream",
     "text": [
      "100%|████████████████████████████████████████████| 1280000/1280000 [00:08<00:00, 158258.39it/s]\n"
     ]
    },
    {
     "name": "stdout",
     "output_type": "stream",
     "text": [
      "[SYST] Prepare Data\n"
     ]
    },
    {
     "name": "stderr",
     "output_type": "stream",
     "text": [
      "100%|████████████████████████████████████████████████| 10000/10000 [00:00<00:00, 159969.49it/s]"
     ]
    },
    {
     "name": "stdout",
     "output_type": "stream",
     "text": [
      "[SYST] Epoch 0\n"
     ]
    },
    {
     "name": "stderr",
     "output_type": "stream",
     "text": [
      "\n",
      "100%|████████████████████████████████████████████████████████| 200/200 [00:19<00:00, 10.12it/s]\n"
     ]
    },
    {
     "name": "stdout",
     "output_type": "stream",
     "text": [
      "Epoch 1, Loss: 5.965148179531098\n",
      "[SYST] Epoch 1\n"
     ]
    },
    {
     "name": "stderr",
     "output_type": "stream",
     "text": [
      "100%|████████████████████████████████████████████████████████| 200/200 [00:19<00:00, 10.02it/s]\n"
     ]
    },
    {
     "name": "stdout",
     "output_type": "stream",
     "text": [
      "Epoch 2, Loss: 5.068410658836365\n",
      "[SYST] Epoch 2\n"
     ]
    },
    {
     "name": "stderr",
     "output_type": "stream",
     "text": [
      "100%|████████████████████████████████████████████████████████| 200/200 [00:20<00:00, 10.00it/s]\n"
     ]
    },
    {
     "name": "stdout",
     "output_type": "stream",
     "text": [
      "Epoch 3, Loss: 4.958048391342163\n",
      "[SYST] Epoch 3\n"
     ]
    },
    {
     "name": "stderr",
     "output_type": "stream",
     "text": [
      "100%|████████████████████████████████████████████████████████| 200/200 [00:19<00:00, 10.01it/s]\n"
     ]
    },
    {
     "name": "stdout",
     "output_type": "stream",
     "text": [
      "Epoch 4, Loss: 4.8695112061500545\n",
      "[SYST] Epoch 4\n"
     ]
    },
    {
     "name": "stderr",
     "output_type": "stream",
     "text": [
      "100%|████████████████████████████████████████████████████████| 200/200 [00:20<00:00,  9.97it/s]\n"
     ]
    },
    {
     "name": "stdout",
     "output_type": "stream",
     "text": [
      "Epoch 5, Loss: 4.767648251056671\n",
      "[SYST] Epoch 5\n"
     ]
    },
    {
     "name": "stderr",
     "output_type": "stream",
     "text": [
      "100%|████████████████████████████████████████████████████████| 200/200 [00:20<00:00,  9.97it/s]\n"
     ]
    },
    {
     "name": "stdout",
     "output_type": "stream",
     "text": [
      "Epoch 6, Loss: 4.675162308216095\n",
      "[SYST] Epoch 6\n"
     ]
    },
    {
     "name": "stderr",
     "output_type": "stream",
     "text": [
      "100%|████████████████████████████████████████████████████████| 200/200 [00:20<00:00,  9.99it/s]\n"
     ]
    },
    {
     "name": "stdout",
     "output_type": "stream",
     "text": [
      "Epoch 7, Loss: 4.634141492843628\n",
      "[SYST] Epoch 7\n"
     ]
    },
    {
     "name": "stderr",
     "output_type": "stream",
     "text": [
      "100%|████████████████████████████████████████████████████████| 200/200 [00:19<00:00, 10.02it/s]\n"
     ]
    },
    {
     "name": "stdout",
     "output_type": "stream",
     "text": [
      "Epoch 8, Loss: 4.595680408477783\n",
      "[SYST] Epoch 8\n"
     ]
    },
    {
     "name": "stderr",
     "output_type": "stream",
     "text": [
      "100%|████████████████████████████████████████████████████████| 200/200 [00:19<00:00, 10.01it/s]\n"
     ]
    },
    {
     "name": "stdout",
     "output_type": "stream",
     "text": [
      "Epoch 9, Loss: 4.455545644760132\n",
      "[SYST] Epoch 9\n"
     ]
    },
    {
     "name": "stderr",
     "output_type": "stream",
     "text": [
      "100%|████████████████████████████████████████████████████████| 200/200 [00:19<00:00, 10.01it/s]\n"
     ]
    },
    {
     "name": "stdout",
     "output_type": "stream",
     "text": [
      "Epoch 10, Loss: 4.186701643466949\n",
      "[SYST] Epoch 0\n"
     ]
    },
    {
     "name": "stderr",
     "output_type": "stream",
     "text": [
      "100%|████████████████████████████████████████████████████████████| 2/2 [00:00<00:00, 13.33it/s]\n"
     ]
    },
    {
     "name": "stdout",
     "output_type": "stream",
     "text": [
      "Test Accuracy: 49.58%\n",
      "[{'accuracy': 0.9983, 'Layer1': {'[[0, 1, 2, 3, 4, 5, 6, 7]]': 0.5013, '[[0, 1]]': 0.5039, '[[0]]': 0.5082}, 'Layer2': {'[[0, 1, 2, 3, 4, 5, 6, 7]]': 0.5037, '[[0, 1]]': 0.5032, '[[0]]': 0.5075}, 'Layer3': {'[[0, 1, 2, 3, 4, 5, 6, 7]]': 0.4925, '[[0, 1]]': 0.5037, '[[0]]': 0.5081}}, {'accuracy': 0.9983, 'Layer1': {'[[0, 1, 2, 3, 4, 5, 6, 7]]': 0.5012, '[[0, 1]]': 0.5059, '[[0]]': 0.4956}, 'Layer2': {'[[0, 1, 2, 3, 4, 5, 6, 7]]': 0.5027, '[[0, 1]]': 0.4957, '[[0]]': 0.493}, 'Layer3': {'[[0, 1, 2, 3, 4, 5, 6, 7]]': 0.4966, '[[0, 1]]': 0.4996, '[[0]]': 0.5071}}, {'accuracy': 0.9906, 'Layer1': {'[[0, 1, 2, 3, 4, 5, 6, 7]]': 0.4964, '[[0, 1]]': 0.5118, '[[0]]': 0.5024}, 'Layer2': {'[[0, 1, 2, 3, 4, 5, 6, 7]]': 0.4993, '[[0, 1]]': 0.4958, '[[0]]': 0.5061}, 'Layer3': {'[[0, 1, 2, 3, 4, 5, 6, 7]]': 0.4949, '[[0, 1]]': 0.5015, '[[0]]': 0.4977}}, {'accuracy': 0.9955, 'Layer1': {'[[0, 1, 2, 3, 4, 5, 6, 7]]': 0.5024, '[[0, 1]]': 0.5025, '[[0]]': 0.4974}, 'Layer2': {'[[0, 1, 2, 3, 4, 5, 6, 7]]': 0.5068, '[[0, 1]]': 0.5074, '[[0]]': 0.5021}, 'Layer3': {'[[0, 1, 2, 3, 4, 5, 6, 7]]': 0.5036, '[[0, 1]]': 0.5027, '[[0]]': 0.4986}}, {'accuracy': 0.9864, 'Layer1': {'[[0, 1, 2, 3, 4, 5, 6, 7]]': 0.5007, '[[0, 1]]': 0.497, '[[0]]': 0.5085}, 'Layer2': {'[[0, 1, 2, 3, 4, 5, 6, 7]]': 0.4965, '[[0, 1]]': 0.5008, '[[0]]': 0.5003}, 'Layer3': {'[[0, 1, 2, 3, 4, 5, 6, 7]]': 0.4993, '[[0, 1]]': 0.4952, '[[0]]': 0.5048}}, {'accuracy': 0.9995, 'Layer1': {'[[0, 1, 2, 3, 4, 5, 6, 7]]': 0.5043, '[[0, 1]]': 0.5061, '[[0]]': 0.5006}, 'Layer2': {'[[0, 1, 2, 3, 4, 5, 6, 7]]': 0.4927, '[[0, 1]]': 0.4921, '[[0]]': 0.5033}, 'Layer3': {'[[0, 1, 2, 3, 4, 5, 6, 7]]': 0.4967, '[[0, 1]]': 0.5004, '[[0]]': 0.501}}, {'accuracy': 0.9979, 'Layer1': {'[[0, 1, 2, 3, 4, 5, 6, 7]]': 0.5176, '[[0, 1]]': 0.4983, '[[0]]': 0.4984}, 'Layer2': {'[[0, 1, 2, 3, 4, 5, 6, 7]]': 0.4892, '[[0, 1]]': 0.4958}}]\n",
      "Layer2 : [[0]]\n"
     ]
    },
    {
     "name": "stderr",
     "output_type": "stream",
     "text": [
      "100%|█████████████████████████████████████████████| 1280000/1280000 [01:22<00:00, 15539.46it/s]\n",
      "100%|█████████████████████████████████████████████████| 10000/10000 [00:00<00:00, 16790.72it/s]\n"
     ]
    },
    {
     "name": "stdout",
     "output_type": "stream",
     "text": [
      "[SYST] Prepare Data\n"
     ]
    },
    {
     "name": "stderr",
     "output_type": "stream",
     "text": [
      "100%|████████████████████████████████████████████| 1280000/1280000 [00:07<00:00, 161182.50it/s]\n"
     ]
    },
    {
     "name": "stdout",
     "output_type": "stream",
     "text": [
      "[SYST] Prepare Data\n"
     ]
    },
    {
     "name": "stderr",
     "output_type": "stream",
     "text": [
      "100%|████████████████████████████████████████████████| 10000/10000 [00:00<00:00, 159709.39it/s]"
     ]
    },
    {
     "name": "stdout",
     "output_type": "stream",
     "text": [
      "[SYST] Epoch 0\n"
     ]
    },
    {
     "name": "stderr",
     "output_type": "stream",
     "text": [
      "\n",
      "100%|████████████████████████████████████████████████████████| 200/200 [00:19<00:00, 10.14it/s]\n"
     ]
    },
    {
     "name": "stdout",
     "output_type": "stream",
     "text": [
      "Epoch 1, Loss: 5.2176807761192325\n",
      "[SYST] Epoch 1\n"
     ]
    },
    {
     "name": "stderr",
     "output_type": "stream",
     "text": [
      "100%|████████████████████████████████████████████████████████| 200/200 [00:19<00:00, 10.01it/s]\n"
     ]
    },
    {
     "name": "stdout",
     "output_type": "stream",
     "text": [
      "Epoch 2, Loss: 4.885989639759064\n",
      "[SYST] Epoch 2\n"
     ]
    },
    {
     "name": "stderr",
     "output_type": "stream",
     "text": [
      "100%|████████████████████████████████████████████████████████| 200/200 [00:19<00:00, 10.02it/s]\n"
     ]
    },
    {
     "name": "stdout",
     "output_type": "stream",
     "text": [
      "Epoch 3, Loss: 4.700081377029419\n",
      "[SYST] Epoch 3\n"
     ]
    },
    {
     "name": "stderr",
     "output_type": "stream",
     "text": [
      "100%|████████████████████████████████████████████████████████| 200/200 [00:20<00:00, 10.00it/s]\n"
     ]
    },
    {
     "name": "stdout",
     "output_type": "stream",
     "text": [
      "Epoch 4, Loss: 4.6530944132804875\n",
      "[SYST] Epoch 4\n"
     ]
    },
    {
     "name": "stderr",
     "output_type": "stream",
     "text": [
      "100%|████████████████████████████████████████████████████████| 200/200 [00:19<00:00, 10.01it/s]\n"
     ]
    },
    {
     "name": "stdout",
     "output_type": "stream",
     "text": [
      "Epoch 5, Loss: 4.645145661830902\n",
      "[SYST] Epoch 5\n"
     ]
    },
    {
     "name": "stderr",
     "output_type": "stream",
     "text": [
      "100%|████████████████████████████████████████████████████████| 200/200 [00:20<00:00,  9.99it/s]\n"
     ]
    },
    {
     "name": "stdout",
     "output_type": "stream",
     "text": [
      "Epoch 6, Loss: 4.643848075866699\n",
      "[SYST] Epoch 6\n"
     ]
    },
    {
     "name": "stderr",
     "output_type": "stream",
     "text": [
      "100%|████████████████████████████████████████████████████████| 200/200 [00:20<00:00,  9.98it/s]\n"
     ]
    },
    {
     "name": "stdout",
     "output_type": "stream",
     "text": [
      "Epoch 7, Loss: 4.643646082878113\n",
      "[SYST] Epoch 7\n"
     ]
    },
    {
     "name": "stderr",
     "output_type": "stream",
     "text": [
      "100%|████████████████████████████████████████████████████████| 200/200 [00:19<00:00, 10.03it/s]\n"
     ]
    },
    {
     "name": "stdout",
     "output_type": "stream",
     "text": [
      "Epoch 8, Loss: 4.643861196041107\n",
      "[SYST] Epoch 8\n"
     ]
    },
    {
     "name": "stderr",
     "output_type": "stream",
     "text": [
      "100%|████████████████████████████████████████████████████████| 200/200 [00:19<00:00, 10.01it/s]\n"
     ]
    },
    {
     "name": "stdout",
     "output_type": "stream",
     "text": [
      "Epoch 9, Loss: 4.643595349788666\n",
      "[SYST] Epoch 9\n"
     ]
    },
    {
     "name": "stderr",
     "output_type": "stream",
     "text": [
      "100%|████████████████████████████████████████████████████████| 200/200 [00:19<00:00, 10.03it/s]\n"
     ]
    },
    {
     "name": "stdout",
     "output_type": "stream",
     "text": [
      "Epoch 10, Loss: 4.643643660545349\n",
      "[SYST] Epoch 0\n"
     ]
    },
    {
     "name": "stderr",
     "output_type": "stream",
     "text": [
      "100%|████████████████████████████████████████████████████████████| 2/2 [00:00<00:00, 13.33it/s]\n"
     ]
    },
    {
     "name": "stdout",
     "output_type": "stream",
     "text": [
      "Test Accuracy: 49.90%\n",
      "[{'accuracy': 0.9983, 'Layer1': {'[[0, 1, 2, 3, 4, 5, 6, 7]]': 0.5013, '[[0, 1]]': 0.5039, '[[0]]': 0.5082}, 'Layer2': {'[[0, 1, 2, 3, 4, 5, 6, 7]]': 0.5037, '[[0, 1]]': 0.5032, '[[0]]': 0.5075}, 'Layer3': {'[[0, 1, 2, 3, 4, 5, 6, 7]]': 0.4925, '[[0, 1]]': 0.5037, '[[0]]': 0.5081}}, {'accuracy': 0.9983, 'Layer1': {'[[0, 1, 2, 3, 4, 5, 6, 7]]': 0.5012, '[[0, 1]]': 0.5059, '[[0]]': 0.4956}, 'Layer2': {'[[0, 1, 2, 3, 4, 5, 6, 7]]': 0.5027, '[[0, 1]]': 0.4957, '[[0]]': 0.493}, 'Layer3': {'[[0, 1, 2, 3, 4, 5, 6, 7]]': 0.4966, '[[0, 1]]': 0.4996, '[[0]]': 0.5071}}, {'accuracy': 0.9906, 'Layer1': {'[[0, 1, 2, 3, 4, 5, 6, 7]]': 0.4964, '[[0, 1]]': 0.5118, '[[0]]': 0.5024}, 'Layer2': {'[[0, 1, 2, 3, 4, 5, 6, 7]]': 0.4993, '[[0, 1]]': 0.4958, '[[0]]': 0.5061}, 'Layer3': {'[[0, 1, 2, 3, 4, 5, 6, 7]]': 0.4949, '[[0, 1]]': 0.5015, '[[0]]': 0.4977}}, {'accuracy': 0.9955, 'Layer1': {'[[0, 1, 2, 3, 4, 5, 6, 7]]': 0.5024, '[[0, 1]]': 0.5025, '[[0]]': 0.4974}, 'Layer2': {'[[0, 1, 2, 3, 4, 5, 6, 7]]': 0.5068, '[[0, 1]]': 0.5074, '[[0]]': 0.5021}, 'Layer3': {'[[0, 1, 2, 3, 4, 5, 6, 7]]': 0.5036, '[[0, 1]]': 0.5027, '[[0]]': 0.4986}}, {'accuracy': 0.9864, 'Layer1': {'[[0, 1, 2, 3, 4, 5, 6, 7]]': 0.5007, '[[0, 1]]': 0.497, '[[0]]': 0.5085}, 'Layer2': {'[[0, 1, 2, 3, 4, 5, 6, 7]]': 0.4965, '[[0, 1]]': 0.5008, '[[0]]': 0.5003}, 'Layer3': {'[[0, 1, 2, 3, 4, 5, 6, 7]]': 0.4993, '[[0, 1]]': 0.4952, '[[0]]': 0.5048}}, {'accuracy': 0.9995, 'Layer1': {'[[0, 1, 2, 3, 4, 5, 6, 7]]': 0.5043, '[[0, 1]]': 0.5061, '[[0]]': 0.5006}, 'Layer2': {'[[0, 1, 2, 3, 4, 5, 6, 7]]': 0.4927, '[[0, 1]]': 0.4921, '[[0]]': 0.5033}, 'Layer3': {'[[0, 1, 2, 3, 4, 5, 6, 7]]': 0.4967, '[[0, 1]]': 0.5004, '[[0]]': 0.501}}, {'accuracy': 0.9979, 'Layer1': {'[[0, 1, 2, 3, 4, 5, 6, 7]]': 0.5176, '[[0, 1]]': 0.4983, '[[0]]': 0.4984}, 'Layer2': {'[[0, 1, 2, 3, 4, 5, 6, 7]]': 0.4892, '[[0, 1]]': 0.4958, '[[0]]': 0.499}}]\n",
      "Layer3 : [[0, 1, 2, 3, 4, 5, 6, 7]]\n"
     ]
    },
    {
     "name": "stderr",
     "output_type": "stream",
     "text": [
      "100%|█████████████████████████████████████████████| 1280000/1280000 [01:22<00:00, 15541.50it/s]\n",
      "100%|█████████████████████████████████████████████████| 10000/10000 [00:00<00:00, 16736.56it/s]\n"
     ]
    },
    {
     "name": "stdout",
     "output_type": "stream",
     "text": [
      "[SYST] Prepare Data\n"
     ]
    },
    {
     "name": "stderr",
     "output_type": "stream",
     "text": [
      "100%|████████████████████████████████████████████| 1280000/1280000 [00:08<00:00, 144520.10it/s]\n"
     ]
    },
    {
     "name": "stdout",
     "output_type": "stream",
     "text": [
      "[SYST] Prepare Data\n"
     ]
    },
    {
     "name": "stderr",
     "output_type": "stream",
     "text": [
      "100%|████████████████████████████████████████████████| 10000/10000 [00:00<00:00, 145062.86it/s]"
     ]
    },
    {
     "name": "stdout",
     "output_type": "stream",
     "text": [
      "[SYST] Epoch 0\n"
     ]
    },
    {
     "name": "stderr",
     "output_type": "stream",
     "text": [
      "\n",
      "100%|████████████████████████████████████████████████████████| 200/200 [00:19<00:00, 10.05it/s]\n"
     ]
    },
    {
     "name": "stdout",
     "output_type": "stream",
     "text": [
      "Epoch 1, Loss: 4.145534092187882\n",
      "[SYST] Epoch 1\n"
     ]
    },
    {
     "name": "stderr",
     "output_type": "stream",
     "text": [
      "100%|████████████████████████████████████████████████████████| 200/200 [00:19<00:00, 10.04it/s]\n"
     ]
    },
    {
     "name": "stdout",
     "output_type": "stream",
     "text": [
      "Epoch 2, Loss: 4.130285903215408\n",
      "[SYST] Epoch 2\n"
     ]
    },
    {
     "name": "stderr",
     "output_type": "stream",
     "text": [
      "100%|████████████████████████████████████████████████████████| 200/200 [00:20<00:00,  9.90it/s]\n"
     ]
    },
    {
     "name": "stdout",
     "output_type": "stream",
     "text": [
      "Epoch 3, Loss: 4.127004153728485\n",
      "[SYST] Epoch 3\n"
     ]
    },
    {
     "name": "stderr",
     "output_type": "stream",
     "text": [
      "100%|████████████████████████████████████████████████████████| 200/200 [00:20<00:00,  9.86it/s]\n"
     ]
    },
    {
     "name": "stdout",
     "output_type": "stream",
     "text": [
      "Epoch 4, Loss: 4.126349968910217\n",
      "[SYST] Epoch 4\n"
     ]
    },
    {
     "name": "stderr",
     "output_type": "stream",
     "text": [
      "100%|████████████████████████████████████████████████████████| 200/200 [00:20<00:00,  9.89it/s]\n"
     ]
    },
    {
     "name": "stdout",
     "output_type": "stream",
     "text": [
      "Epoch 5, Loss: 4.125781316757202\n",
      "[SYST] Epoch 5\n"
     ]
    },
    {
     "name": "stderr",
     "output_type": "stream",
     "text": [
      "100%|████████████████████████████████████████████████████████| 200/200 [00:20<00:00,  9.81it/s]\n"
     ]
    },
    {
     "name": "stdout",
     "output_type": "stream",
     "text": [
      "Epoch 6, Loss: 4.125765608549118\n",
      "[SYST] Epoch 6\n"
     ]
    },
    {
     "name": "stderr",
     "output_type": "stream",
     "text": [
      "100%|████████████████████████████████████████████████████████| 200/200 [00:20<00:00,  9.87it/s]\n"
     ]
    },
    {
     "name": "stdout",
     "output_type": "stream",
     "text": [
      "Epoch 7, Loss: 4.125875188112259\n",
      "[SYST] Epoch 7\n"
     ]
    },
    {
     "name": "stderr",
     "output_type": "stream",
     "text": [
      "100%|████████████████████████████████████████████████████████| 200/200 [00:20<00:00,  9.89it/s]\n"
     ]
    },
    {
     "name": "stdout",
     "output_type": "stream",
     "text": [
      "Epoch 8, Loss: 4.125649887323379\n",
      "[SYST] Epoch 8\n"
     ]
    },
    {
     "name": "stderr",
     "output_type": "stream",
     "text": [
      "100%|████████████████████████████████████████████████████████| 200/200 [00:20<00:00,  9.89it/s]\n"
     ]
    },
    {
     "name": "stdout",
     "output_type": "stream",
     "text": [
      "Epoch 9, Loss: 4.12553729891777\n",
      "[SYST] Epoch 9\n"
     ]
    },
    {
     "name": "stderr",
     "output_type": "stream",
     "text": [
      "100%|████████████████████████████████████████████████████████| 200/200 [00:20<00:00,  9.85it/s]\n"
     ]
    },
    {
     "name": "stdout",
     "output_type": "stream",
     "text": [
      "Epoch 10, Loss: 4.125750780105591\n",
      "[SYST] Epoch 0\n"
     ]
    },
    {
     "name": "stderr",
     "output_type": "stream",
     "text": [
      "100%|████████████████████████████████████████████████████████████| 2/2 [00:00<00:00, 13.18it/s]\n"
     ]
    },
    {
     "name": "stdout",
     "output_type": "stream",
     "text": [
      "Test Accuracy: 49.96%\n",
      "[{'accuracy': 0.9983, 'Layer1': {'[[0, 1, 2, 3, 4, 5, 6, 7]]': 0.5013, '[[0, 1]]': 0.5039, '[[0]]': 0.5082}, 'Layer2': {'[[0, 1, 2, 3, 4, 5, 6, 7]]': 0.5037, '[[0, 1]]': 0.5032, '[[0]]': 0.5075}, 'Layer3': {'[[0, 1, 2, 3, 4, 5, 6, 7]]': 0.4925, '[[0, 1]]': 0.5037, '[[0]]': 0.5081}}, {'accuracy': 0.9983, 'Layer1': {'[[0, 1, 2, 3, 4, 5, 6, 7]]': 0.5012, '[[0, 1]]': 0.5059, '[[0]]': 0.4956}, 'Layer2': {'[[0, 1, 2, 3, 4, 5, 6, 7]]': 0.5027, '[[0, 1]]': 0.4957, '[[0]]': 0.493}, 'Layer3': {'[[0, 1, 2, 3, 4, 5, 6, 7]]': 0.4966, '[[0, 1]]': 0.4996, '[[0]]': 0.5071}}, {'accuracy': 0.9906, 'Layer1': {'[[0, 1, 2, 3, 4, 5, 6, 7]]': 0.4964, '[[0, 1]]': 0.5118, '[[0]]': 0.5024}, 'Layer2': {'[[0, 1, 2, 3, 4, 5, 6, 7]]': 0.4993, '[[0, 1]]': 0.4958, '[[0]]': 0.5061}, 'Layer3': {'[[0, 1, 2, 3, 4, 5, 6, 7]]': 0.4949, '[[0, 1]]': 0.5015, '[[0]]': 0.4977}}, {'accuracy': 0.9955, 'Layer1': {'[[0, 1, 2, 3, 4, 5, 6, 7]]': 0.5024, '[[0, 1]]': 0.5025, '[[0]]': 0.4974}, 'Layer2': {'[[0, 1, 2, 3, 4, 5, 6, 7]]': 0.5068, '[[0, 1]]': 0.5074, '[[0]]': 0.5021}, 'Layer3': {'[[0, 1, 2, 3, 4, 5, 6, 7]]': 0.5036, '[[0, 1]]': 0.5027, '[[0]]': 0.4986}}, {'accuracy': 0.9864, 'Layer1': {'[[0, 1, 2, 3, 4, 5, 6, 7]]': 0.5007, '[[0, 1]]': 0.497, '[[0]]': 0.5085}, 'Layer2': {'[[0, 1, 2, 3, 4, 5, 6, 7]]': 0.4965, '[[0, 1]]': 0.5008, '[[0]]': 0.5003}, 'Layer3': {'[[0, 1, 2, 3, 4, 5, 6, 7]]': 0.4993, '[[0, 1]]': 0.4952, '[[0]]': 0.5048}}, {'accuracy': 0.9995, 'Layer1': {'[[0, 1, 2, 3, 4, 5, 6, 7]]': 0.5043, '[[0, 1]]': 0.5061, '[[0]]': 0.5006}, 'Layer2': {'[[0, 1, 2, 3, 4, 5, 6, 7]]': 0.4927, '[[0, 1]]': 0.4921, '[[0]]': 0.5033}, 'Layer3': {'[[0, 1, 2, 3, 4, 5, 6, 7]]': 0.4967, '[[0, 1]]': 0.5004, '[[0]]': 0.501}}, {'accuracy': 0.9979, 'Layer1': {'[[0, 1, 2, 3, 4, 5, 6, 7]]': 0.5176, '[[0, 1]]': 0.4983, '[[0]]': 0.4984}, 'Layer2': {'[[0, 1, 2, 3, 4, 5, 6, 7]]': 0.4892, '[[0, 1]]': 0.4958, '[[0]]': 0.499}, 'Layer3': {'[[0, 1, 2, 3, 4, 5, 6, 7]]': 0.4996}}]\n",
      "Layer3 : [[0, 1]]\n"
     ]
    },
    {
     "name": "stderr",
     "output_type": "stream",
     "text": [
      "100%|█████████████████████████████████████████████| 1280000/1280000 [01:23<00:00, 15355.34it/s]\n",
      "100%|█████████████████████████████████████████████████| 10000/10000 [00:00<00:00, 16766.61it/s]\n"
     ]
    },
    {
     "name": "stdout",
     "output_type": "stream",
     "text": [
      "[SYST] Prepare Data\n"
     ]
    },
    {
     "name": "stderr",
     "output_type": "stream",
     "text": [
      "100%|████████████████████████████████████████████| 1280000/1280000 [00:08<00:00, 158449.68it/s]\n"
     ]
    },
    {
     "name": "stdout",
     "output_type": "stream",
     "text": [
      "[SYST] Prepare Data\n"
     ]
    },
    {
     "name": "stderr",
     "output_type": "stream",
     "text": [
      "100%|████████████████████████████████████████████████| 10000/10000 [00:00<00:00, 161531.24it/s]"
     ]
    },
    {
     "name": "stdout",
     "output_type": "stream",
     "text": [
      "[SYST] Epoch 0\n"
     ]
    },
    {
     "name": "stderr",
     "output_type": "stream",
     "text": [
      "\n",
      "100%|████████████████████████████████████████████████████████| 200/200 [00:19<00:00, 10.09it/s]\n"
     ]
    },
    {
     "name": "stdout",
     "output_type": "stream",
     "text": [
      "Epoch 1, Loss: 4.382944226264954\n",
      "[SYST] Epoch 1\n"
     ]
    },
    {
     "name": "stderr",
     "output_type": "stream",
     "text": [
      "100%|████████████████████████████████████████████████████████| 200/200 [00:19<00:00, 10.00it/s]\n"
     ]
    },
    {
     "name": "stdout",
     "output_type": "stream",
     "text": [
      "Epoch 2, Loss: 4.128731790781021\n",
      "[SYST] Epoch 2\n"
     ]
    },
    {
     "name": "stderr",
     "output_type": "stream",
     "text": [
      "100%|████████████████████████████████████████████████████████| 200/200 [00:20<00:00,  9.99it/s]\n"
     ]
    },
    {
     "name": "stdout",
     "output_type": "stream",
     "text": [
      "Epoch 3, Loss: 4.126916235685348\n",
      "[SYST] Epoch 3\n"
     ]
    },
    {
     "name": "stderr",
     "output_type": "stream",
     "text": [
      "100%|████████████████████████████████████████████████████████| 200/200 [00:20<00:00,  9.98it/s]\n"
     ]
    },
    {
     "name": "stdout",
     "output_type": "stream",
     "text": [
      "Epoch 4, Loss: 4.125973325967789\n",
      "[SYST] Epoch 4\n"
     ]
    },
    {
     "name": "stderr",
     "output_type": "stream",
     "text": [
      "100%|████████████████████████████████████████████████████████| 200/200 [00:19<00:00, 10.01it/s]\n"
     ]
    },
    {
     "name": "stdout",
     "output_type": "stream",
     "text": [
      "Epoch 5, Loss: 4.12555370926857\n",
      "[SYST] Epoch 5\n"
     ]
    },
    {
     "name": "stderr",
     "output_type": "stream",
     "text": [
      "100%|████████████████████████████████████████████████████████| 200/200 [00:20<00:00,  9.98it/s]\n"
     ]
    },
    {
     "name": "stdout",
     "output_type": "stream",
     "text": [
      "Epoch 6, Loss: 4.125158159732819\n",
      "[SYST] Epoch 6\n"
     ]
    },
    {
     "name": "stderr",
     "output_type": "stream",
     "text": [
      "100%|████████████████████████████████████████████████████████| 200/200 [00:20<00:00,  9.99it/s]\n"
     ]
    },
    {
     "name": "stdout",
     "output_type": "stream",
     "text": [
      "Epoch 7, Loss: 4.1249921512603756\n",
      "[SYST] Epoch 7\n"
     ]
    },
    {
     "name": "stderr",
     "output_type": "stream",
     "text": [
      "100%|████████████████████████████████████████████████████████| 200/200 [00:20<00:00,  9.95it/s]\n"
     ]
    },
    {
     "name": "stdout",
     "output_type": "stream",
     "text": [
      "Epoch 8, Loss: 4.12481518983841\n",
      "[SYST] Epoch 8\n"
     ]
    },
    {
     "name": "stderr",
     "output_type": "stream",
     "text": [
      "100%|████████████████████████████████████████████████████████| 200/200 [00:20<00:00,  9.97it/s]\n"
     ]
    },
    {
     "name": "stdout",
     "output_type": "stream",
     "text": [
      "Epoch 9, Loss: 4.125045121908188\n",
      "[SYST] Epoch 9\n"
     ]
    },
    {
     "name": "stderr",
     "output_type": "stream",
     "text": [
      "100%|████████████████████████████████████████████████████████| 200/200 [00:20<00:00,  9.97it/s]\n"
     ]
    },
    {
     "name": "stdout",
     "output_type": "stream",
     "text": [
      "Epoch 10, Loss: 4.124931719303131\n",
      "[SYST] Epoch 0\n"
     ]
    },
    {
     "name": "stderr",
     "output_type": "stream",
     "text": [
      "100%|████████████████████████████████████████████████████████████| 2/2 [00:00<00:00, 13.31it/s]\n"
     ]
    },
    {
     "name": "stdout",
     "output_type": "stream",
     "text": [
      "Test Accuracy: 49.96%\n",
      "[{'accuracy': 0.9983, 'Layer1': {'[[0, 1, 2, 3, 4, 5, 6, 7]]': 0.5013, '[[0, 1]]': 0.5039, '[[0]]': 0.5082}, 'Layer2': {'[[0, 1, 2, 3, 4, 5, 6, 7]]': 0.5037, '[[0, 1]]': 0.5032, '[[0]]': 0.5075}, 'Layer3': {'[[0, 1, 2, 3, 4, 5, 6, 7]]': 0.4925, '[[0, 1]]': 0.5037, '[[0]]': 0.5081}}, {'accuracy': 0.9983, 'Layer1': {'[[0, 1, 2, 3, 4, 5, 6, 7]]': 0.5012, '[[0, 1]]': 0.5059, '[[0]]': 0.4956}, 'Layer2': {'[[0, 1, 2, 3, 4, 5, 6, 7]]': 0.5027, '[[0, 1]]': 0.4957, '[[0]]': 0.493}, 'Layer3': {'[[0, 1, 2, 3, 4, 5, 6, 7]]': 0.4966, '[[0, 1]]': 0.4996, '[[0]]': 0.5071}}, {'accuracy': 0.9906, 'Layer1': {'[[0, 1, 2, 3, 4, 5, 6, 7]]': 0.4964, '[[0, 1]]': 0.5118, '[[0]]': 0.5024}, 'Layer2': {'[[0, 1, 2, 3, 4, 5, 6, 7]]': 0.4993, '[[0, 1]]': 0.4958, '[[0]]': 0.5061}, 'Layer3': {'[[0, 1, 2, 3, 4, 5, 6, 7]]': 0.4949, '[[0, 1]]': 0.5015, '[[0]]': 0.4977}}, {'accuracy': 0.9955, 'Layer1': {'[[0, 1, 2, 3, 4, 5, 6, 7]]': 0.5024, '[[0, 1]]': 0.5025, '[[0]]': 0.4974}, 'Layer2': {'[[0, 1, 2, 3, 4, 5, 6, 7]]': 0.5068, '[[0, 1]]': 0.5074, '[[0]]': 0.5021}, 'Layer3': {'[[0, 1, 2, 3, 4, 5, 6, 7]]': 0.5036, '[[0, 1]]': 0.5027, '[[0]]': 0.4986}}, {'accuracy': 0.9864, 'Layer1': {'[[0, 1, 2, 3, 4, 5, 6, 7]]': 0.5007, '[[0, 1]]': 0.497, '[[0]]': 0.5085}, 'Layer2': {'[[0, 1, 2, 3, 4, 5, 6, 7]]': 0.4965, '[[0, 1]]': 0.5008, '[[0]]': 0.5003}, 'Layer3': {'[[0, 1, 2, 3, 4, 5, 6, 7]]': 0.4993, '[[0, 1]]': 0.4952, '[[0]]': 0.5048}}, {'accuracy': 0.9995, 'Layer1': {'[[0, 1, 2, 3, 4, 5, 6, 7]]': 0.5043, '[[0, 1]]': 0.5061, '[[0]]': 0.5006}, 'Layer2': {'[[0, 1, 2, 3, 4, 5, 6, 7]]': 0.4927, '[[0, 1]]': 0.4921, '[[0]]': 0.5033}, 'Layer3': {'[[0, 1, 2, 3, 4, 5, 6, 7]]': 0.4967, '[[0, 1]]': 0.5004, '[[0]]': 0.501}}, {'accuracy': 0.9979, 'Layer1': {'[[0, 1, 2, 3, 4, 5, 6, 7]]': 0.5176, '[[0, 1]]': 0.4983, '[[0]]': 0.4984}, 'Layer2': {'[[0, 1, 2, 3, 4, 5, 6, 7]]': 0.4892, '[[0, 1]]': 0.4958, '[[0]]': 0.499}, 'Layer3': {'[[0, 1, 2, 3, 4, 5, 6, 7]]': 0.4996, '[[0, 1]]': 0.4996}}]\n",
      "Layer3 : [[0]]\n"
     ]
    },
    {
     "name": "stderr",
     "output_type": "stream",
     "text": [
      "100%|█████████████████████████████████████████████| 1280000/1280000 [01:23<00:00, 15345.87it/s]\n",
      "100%|█████████████████████████████████████████████████| 10000/10000 [00:00<00:00, 16630.50it/s]\n"
     ]
    },
    {
     "name": "stdout",
     "output_type": "stream",
     "text": [
      "[SYST] Prepare Data\n"
     ]
    },
    {
     "name": "stderr",
     "output_type": "stream",
     "text": [
      "100%|████████████████████████████████████████████| 1280000/1280000 [00:07<00:00, 160861.80it/s]\n"
     ]
    },
    {
     "name": "stdout",
     "output_type": "stream",
     "text": [
      "[SYST] Prepare Data\n"
     ]
    },
    {
     "name": "stderr",
     "output_type": "stream",
     "text": [
      "100%|████████████████████████████████████████████████| 10000/10000 [00:00<00:00, 159405.29it/s]"
     ]
    },
    {
     "name": "stdout",
     "output_type": "stream",
     "text": [
      "[SYST] Epoch 0\n"
     ]
    },
    {
     "name": "stderr",
     "output_type": "stream",
     "text": [
      "\n",
      "100%|████████████████████████████████████████████████████████| 200/200 [00:19<00:00, 10.03it/s]\n"
     ]
    },
    {
     "name": "stdout",
     "output_type": "stream",
     "text": [
      "Epoch 1, Loss: 4.623067324161529\n",
      "[SYST] Epoch 1\n"
     ]
    },
    {
     "name": "stderr",
     "output_type": "stream",
     "text": [
      "100%|████████████████████████████████████████████████████████| 200/200 [00:20<00:00,  9.99it/s]\n"
     ]
    },
    {
     "name": "stdout",
     "output_type": "stream",
     "text": [
      "Epoch 2, Loss: 4.137329949140549\n",
      "[SYST] Epoch 2\n"
     ]
    },
    {
     "name": "stderr",
     "output_type": "stream",
     "text": [
      "100%|████████████████████████████████████████████████████████| 200/200 [00:19<00:00, 10.01it/s]\n"
     ]
    },
    {
     "name": "stdout",
     "output_type": "stream",
     "text": [
      "Epoch 3, Loss: 4.132377480268478\n",
      "[SYST] Epoch 3\n"
     ]
    },
    {
     "name": "stderr",
     "output_type": "stream",
     "text": [
      "100%|████████████████████████████████████████████████████████| 200/200 [00:20<00:00,  9.98it/s]\n"
     ]
    },
    {
     "name": "stdout",
     "output_type": "stream",
     "text": [
      "Epoch 4, Loss: 4.1317290699481966\n",
      "[SYST] Epoch 4\n"
     ]
    },
    {
     "name": "stderr",
     "output_type": "stream",
     "text": [
      "100%|████████████████████████████████████████████████████████| 200/200 [00:20<00:00,  9.98it/s]\n"
     ]
    },
    {
     "name": "stdout",
     "output_type": "stream",
     "text": [
      "Epoch 5, Loss: 4.1314298748970035\n",
      "[SYST] Epoch 5\n"
     ]
    },
    {
     "name": "stderr",
     "output_type": "stream",
     "text": [
      "100%|████████████████████████████████████████████████████████| 200/200 [00:20<00:00,  9.97it/s]\n"
     ]
    },
    {
     "name": "stdout",
     "output_type": "stream",
     "text": [
      "Epoch 6, Loss: 4.1313658201694485\n",
      "[SYST] Epoch 6\n"
     ]
    },
    {
     "name": "stderr",
     "output_type": "stream",
     "text": [
      "100%|████████████████████████████████████████████████████████| 200/200 [00:20<00:00,  9.95it/s]\n"
     ]
    },
    {
     "name": "stdout",
     "output_type": "stream",
     "text": [
      "Epoch 7, Loss: 4.131150362491607\n",
      "[SYST] Epoch 7\n"
     ]
    },
    {
     "name": "stderr",
     "output_type": "stream",
     "text": [
      "100%|████████████████████████████████████████████████████████| 200/200 [00:20<00:00,  9.99it/s]\n"
     ]
    },
    {
     "name": "stdout",
     "output_type": "stream",
     "text": [
      "Epoch 8, Loss: 4.13108612537384\n",
      "[SYST] Epoch 8\n"
     ]
    },
    {
     "name": "stderr",
     "output_type": "stream",
     "text": [
      "100%|████████████████████████████████████████████████████████| 200/200 [00:19<00:00, 10.01it/s]\n"
     ]
    },
    {
     "name": "stdout",
     "output_type": "stream",
     "text": [
      "Epoch 9, Loss: 4.13095901966095\n",
      "[SYST] Epoch 9\n"
     ]
    },
    {
     "name": "stderr",
     "output_type": "stream",
     "text": [
      "100%|████████████████████████████████████████████████████████| 200/200 [00:19<00:00, 10.02it/s]\n"
     ]
    },
    {
     "name": "stdout",
     "output_type": "stream",
     "text": [
      "Epoch 10, Loss: 4.1308845365047455\n",
      "[SYST] Epoch 0\n"
     ]
    },
    {
     "name": "stderr",
     "output_type": "stream",
     "text": [
      "100%|████████████████████████████████████████████████████████████| 2/2 [00:00<00:00, 13.42it/s]\n"
     ]
    },
    {
     "name": "stdout",
     "output_type": "stream",
     "text": [
      "Test Accuracy: 49.93%\n",
      "[{'accuracy': 0.9983, 'Layer1': {'[[0, 1, 2, 3, 4, 5, 6, 7]]': 0.5013, '[[0, 1]]': 0.5039, '[[0]]': 0.5082}, 'Layer2': {'[[0, 1, 2, 3, 4, 5, 6, 7]]': 0.5037, '[[0, 1]]': 0.5032, '[[0]]': 0.5075}, 'Layer3': {'[[0, 1, 2, 3, 4, 5, 6, 7]]': 0.4925, '[[0, 1]]': 0.5037, '[[0]]': 0.5081}}, {'accuracy': 0.9983, 'Layer1': {'[[0, 1, 2, 3, 4, 5, 6, 7]]': 0.5012, '[[0, 1]]': 0.5059, '[[0]]': 0.4956}, 'Layer2': {'[[0, 1, 2, 3, 4, 5, 6, 7]]': 0.5027, '[[0, 1]]': 0.4957, '[[0]]': 0.493}, 'Layer3': {'[[0, 1, 2, 3, 4, 5, 6, 7]]': 0.4966, '[[0, 1]]': 0.4996, '[[0]]': 0.5071}}, {'accuracy': 0.9906, 'Layer1': {'[[0, 1, 2, 3, 4, 5, 6, 7]]': 0.4964, '[[0, 1]]': 0.5118, '[[0]]': 0.5024}, 'Layer2': {'[[0, 1, 2, 3, 4, 5, 6, 7]]': 0.4993, '[[0, 1]]': 0.4958, '[[0]]': 0.5061}, 'Layer3': {'[[0, 1, 2, 3, 4, 5, 6, 7]]': 0.4949, '[[0, 1]]': 0.5015, '[[0]]': 0.4977}}, {'accuracy': 0.9955, 'Layer1': {'[[0, 1, 2, 3, 4, 5, 6, 7]]': 0.5024, '[[0, 1]]': 0.5025, '[[0]]': 0.4974}, 'Layer2': {'[[0, 1, 2, 3, 4, 5, 6, 7]]': 0.5068, '[[0, 1]]': 0.5074, '[[0]]': 0.5021}, 'Layer3': {'[[0, 1, 2, 3, 4, 5, 6, 7]]': 0.5036, '[[0, 1]]': 0.5027, '[[0]]': 0.4986}}, {'accuracy': 0.9864, 'Layer1': {'[[0, 1, 2, 3, 4, 5, 6, 7]]': 0.5007, '[[0, 1]]': 0.497, '[[0]]': 0.5085}, 'Layer2': {'[[0, 1, 2, 3, 4, 5, 6, 7]]': 0.4965, '[[0, 1]]': 0.5008, '[[0]]': 0.5003}, 'Layer3': {'[[0, 1, 2, 3, 4, 5, 6, 7]]': 0.4993, '[[0, 1]]': 0.4952, '[[0]]': 0.5048}}, {'accuracy': 0.9995, 'Layer1': {'[[0, 1, 2, 3, 4, 5, 6, 7]]': 0.5043, '[[0, 1]]': 0.5061, '[[0]]': 0.5006}, 'Layer2': {'[[0, 1, 2, 3, 4, 5, 6, 7]]': 0.4927, '[[0, 1]]': 0.4921, '[[0]]': 0.5033}, 'Layer3': {'[[0, 1, 2, 3, 4, 5, 6, 7]]': 0.4967, '[[0, 1]]': 0.5004, '[[0]]': 0.501}}, {'accuracy': 0.9979, 'Layer1': {'[[0, 1, 2, 3, 4, 5, 6, 7]]': 0.5176, '[[0, 1]]': 0.4983, '[[0]]': 0.4984}, 'Layer2': {'[[0, 1, 2, 3, 4, 5, 6, 7]]': 0.4892, '[[0, 1]]': 0.4958, '[[0]]': 0.499}, 'Layer3': {'[[0, 1, 2, 3, 4, 5, 6, 7]]': 0.4996, '[[0, 1]]': 0.4996, '[[0]]': 0.4993}}]\n"
     ]
    },
    {
     "name": "stderr",
     "output_type": "stream",
     "text": [
      "100%|████████████████████████████████████████████| 1048576/1048576 [00:10<00:00, 100025.15it/s]\n",
      "100%|█████████████████████████████████████████████████████| 1024/1024 [00:07<00:00, 131.21it/s]\n"
     ]
    },
    {
     "name": "stdout",
     "output_type": "stream",
     "text": [
      "Epoch 1, Loss: 0.44007362991396803\n"
     ]
    },
    {
     "name": "stderr",
     "output_type": "stream",
     "text": [
      "100%|█████████████████████████████████████████████████████| 1024/1024 [00:08<00:00, 118.48it/s]\n"
     ]
    },
    {
     "name": "stdout",
     "output_type": "stream",
     "text": [
      "Epoch 2, Loss: 0.04766877310703421\n"
     ]
    },
    {
     "name": "stderr",
     "output_type": "stream",
     "text": [
      "100%|█████████████████████████████████████████████████████| 1024/1024 [00:09<00:00, 113.57it/s]\n"
     ]
    },
    {
     "name": "stdout",
     "output_type": "stream",
     "text": [
      "Epoch 3, Loss: 0.019700713493421063\n"
     ]
    },
    {
     "name": "stderr",
     "output_type": "stream",
     "text": [
      "100%|█████████████████████████████████████████████████| 10000/10000 [00:00<00:00, 98486.28it/s]\n",
      "100%|█████████████████████████████████████████████████████████| 10/10 [00:00<00:00, 162.45it/s]\n"
     ]
    },
    {
     "name": "stdout",
     "output_type": "stream",
     "text": [
      "Test Accuracy: 0.9960\n",
      "Layer1 : [[0, 1, 2, 3, 4, 5, 6, 7]]\n"
     ]
    },
    {
     "name": "stderr",
     "output_type": "stream",
     "text": [
      "100%|█████████████████████████████████████████████| 1280000/1280000 [01:23<00:00, 15387.08it/s]\n",
      "100%|█████████████████████████████████████████████████| 10000/10000 [00:00<00:00, 16891.89it/s]\n"
     ]
    },
    {
     "name": "stdout",
     "output_type": "stream",
     "text": [
      "[SYST] Prepare Data\n"
     ]
    },
    {
     "name": "stderr",
     "output_type": "stream",
     "text": [
      "100%|████████████████████████████████████████████| 1280000/1280000 [00:08<00:00, 144261.03it/s]\n"
     ]
    },
    {
     "name": "stdout",
     "output_type": "stream",
     "text": [
      "[SYST] Prepare Data\n"
     ]
    },
    {
     "name": "stderr",
     "output_type": "stream",
     "text": [
      "100%|████████████████████████████████████████████████| 10000/10000 [00:00<00:00, 145814.79it/s]"
     ]
    },
    {
     "name": "stdout",
     "output_type": "stream",
     "text": [
      "[SYST] Epoch 0\n"
     ]
    },
    {
     "name": "stderr",
     "output_type": "stream",
     "text": [
      "\n",
      "100%|████████████████████████████████████████████████████████| 200/200 [00:19<00:00, 10.02it/s]\n"
     ]
    },
    {
     "name": "stdout",
     "output_type": "stream",
     "text": [
      "Epoch 1, Loss: 5.34721043586731\n",
      "[SYST] Epoch 1\n"
     ]
    },
    {
     "name": "stderr",
     "output_type": "stream",
     "text": [
      "100%|████████████████████████████████████████████████████████| 200/200 [00:20<00:00,  9.87it/s]\n"
     ]
    },
    {
     "name": "stdout",
     "output_type": "stream",
     "text": [
      "Epoch 2, Loss: 3.9520887053012848\n",
      "[SYST] Epoch 2\n"
     ]
    },
    {
     "name": "stderr",
     "output_type": "stream",
     "text": [
      "100%|████████████████████████████████████████████████████████| 200/200 [00:20<00:00,  9.84it/s]\n"
     ]
    },
    {
     "name": "stdout",
     "output_type": "stream",
     "text": [
      "Epoch 3, Loss: 3.5560462570190428\n",
      "[SYST] Epoch 3\n"
     ]
    },
    {
     "name": "stderr",
     "output_type": "stream",
     "text": [
      "100%|████████████████████████████████████████████████████████| 200/200 [00:20<00:00,  9.83it/s]\n"
     ]
    },
    {
     "name": "stdout",
     "output_type": "stream",
     "text": [
      "Epoch 4, Loss: 3.4176172685623167\n",
      "[SYST] Epoch 4\n"
     ]
    },
    {
     "name": "stderr",
     "output_type": "stream",
     "text": [
      "100%|████████████████████████████████████████████████████████| 200/200 [00:20<00:00,  9.83it/s]\n"
     ]
    },
    {
     "name": "stdout",
     "output_type": "stream",
     "text": [
      "Epoch 5, Loss: 3.3674055659770965\n",
      "[SYST] Epoch 5\n"
     ]
    },
    {
     "name": "stderr",
     "output_type": "stream",
     "text": [
      "100%|████████████████████████████████████████████████████████| 200/200 [00:20<00:00,  9.90it/s]\n"
     ]
    },
    {
     "name": "stdout",
     "output_type": "stream",
     "text": [
      "Epoch 6, Loss: 3.334736545085907\n",
      "[SYST] Epoch 6\n"
     ]
    },
    {
     "name": "stderr",
     "output_type": "stream",
     "text": [
      "100%|████████████████████████████████████████████████████████| 200/200 [00:20<00:00,  9.82it/s]\n"
     ]
    },
    {
     "name": "stdout",
     "output_type": "stream",
     "text": [
      "Epoch 7, Loss: 3.308701218366623\n",
      "[SYST] Epoch 7\n"
     ]
    },
    {
     "name": "stderr",
     "output_type": "stream",
     "text": [
      "100%|████████████████████████████████████████████████████████| 200/200 [00:20<00:00,  9.87it/s]\n"
     ]
    },
    {
     "name": "stdout",
     "output_type": "stream",
     "text": [
      "Epoch 8, Loss: 3.288691520690918\n",
      "[SYST] Epoch 8\n"
     ]
    },
    {
     "name": "stderr",
     "output_type": "stream",
     "text": [
      "100%|████████████████████████████████████████████████████████| 200/200 [00:20<00:00,  9.76it/s]\n"
     ]
    },
    {
     "name": "stdout",
     "output_type": "stream",
     "text": [
      "Epoch 9, Loss: 3.2749970984458923\n",
      "[SYST] Epoch 9\n"
     ]
    },
    {
     "name": "stderr",
     "output_type": "stream",
     "text": [
      "100%|████████████████████████████████████████████████████████| 200/200 [00:20<00:00,  9.89it/s]\n"
     ]
    },
    {
     "name": "stdout",
     "output_type": "stream",
     "text": [
      "Epoch 10, Loss: 3.2668965423107146\n",
      "[SYST] Epoch 0\n"
     ]
    },
    {
     "name": "stderr",
     "output_type": "stream",
     "text": [
      "100%|████████████████████████████████████████████████████████████| 2/2 [00:00<00:00, 13.40it/s]\n"
     ]
    },
    {
     "name": "stdout",
     "output_type": "stream",
     "text": [
      "Test Accuracy: 50.62%\n",
      "[{'accuracy': 0.9983, 'Layer1': {'[[0, 1, 2, 3, 4, 5, 6, 7]]': 0.5013, '[[0, 1]]': 0.5039, '[[0]]': 0.5082}, 'Layer2': {'[[0, 1, 2, 3, 4, 5, 6, 7]]': 0.5037, '[[0, 1]]': 0.5032, '[[0]]': 0.5075}, 'Layer3': {'[[0, 1, 2, 3, 4, 5, 6, 7]]': 0.4925, '[[0, 1]]': 0.5037, '[[0]]': 0.5081}}, {'accuracy': 0.9983, 'Layer1': {'[[0, 1, 2, 3, 4, 5, 6, 7]]': 0.5012, '[[0, 1]]': 0.5059, '[[0]]': 0.4956}, 'Layer2': {'[[0, 1, 2, 3, 4, 5, 6, 7]]': 0.5027, '[[0, 1]]': 0.4957, '[[0]]': 0.493}, 'Layer3': {'[[0, 1, 2, 3, 4, 5, 6, 7]]': 0.4966, '[[0, 1]]': 0.4996, '[[0]]': 0.5071}}, {'accuracy': 0.9906, 'Layer1': {'[[0, 1, 2, 3, 4, 5, 6, 7]]': 0.4964, '[[0, 1]]': 0.5118, '[[0]]': 0.5024}, 'Layer2': {'[[0, 1, 2, 3, 4, 5, 6, 7]]': 0.4993, '[[0, 1]]': 0.4958, '[[0]]': 0.5061}, 'Layer3': {'[[0, 1, 2, 3, 4, 5, 6, 7]]': 0.4949, '[[0, 1]]': 0.5015, '[[0]]': 0.4977}}, {'accuracy': 0.9955, 'Layer1': {'[[0, 1, 2, 3, 4, 5, 6, 7]]': 0.5024, '[[0, 1]]': 0.5025, '[[0]]': 0.4974}, 'Layer2': {'[[0, 1, 2, 3, 4, 5, 6, 7]]': 0.5068, '[[0, 1]]': 0.5074, '[[0]]': 0.5021}, 'Layer3': {'[[0, 1, 2, 3, 4, 5, 6, 7]]': 0.5036, '[[0, 1]]': 0.5027, '[[0]]': 0.4986}}, {'accuracy': 0.9864, 'Layer1': {'[[0, 1, 2, 3, 4, 5, 6, 7]]': 0.5007, '[[0, 1]]': 0.497, '[[0]]': 0.5085}, 'Layer2': {'[[0, 1, 2, 3, 4, 5, 6, 7]]': 0.4965, '[[0, 1]]': 0.5008, '[[0]]': 0.5003}, 'Layer3': {'[[0, 1, 2, 3, 4, 5, 6, 7]]': 0.4993, '[[0, 1]]': 0.4952, '[[0]]': 0.5048}}, {'accuracy': 0.9995, 'Layer1': {'[[0, 1, 2, 3, 4, 5, 6, 7]]': 0.5043, '[[0, 1]]': 0.5061, '[[0]]': 0.5006}, 'Layer2': {'[[0, 1, 2, 3, 4, 5, 6, 7]]': 0.4927, '[[0, 1]]': 0.4921, '[[0]]': 0.5033}, 'Layer3': {'[[0, 1, 2, 3, 4, 5, 6, 7]]': 0.4967, '[[0, 1]]': 0.5004, '[[0]]': 0.501}}, {'accuracy': 0.9979, 'Layer1': {'[[0, 1, 2, 3, 4, 5, 6, 7]]': 0.5176, '[[0, 1]]': 0.4983, '[[0]]': 0.4984}, 'Layer2': {'[[0, 1, 2, 3, 4, 5, 6, 7]]': 0.4892, '[[0, 1]]': 0.4958, '[[0]]': 0.499}, 'Layer3': {'[[0, 1, 2, 3, 4, 5, 6, 7]]': 0.4996, '[[0, 1]]': 0.4996, '[[0]]': 0.4993}}, {'accuracy': 0.996, 'Layer1': {'[[0, 1, 2, 3, 4, 5, 6, 7]]': 0.5062}}]\n",
      "Layer1 : [[0, 1]]\n"
     ]
    },
    {
     "name": "stderr",
     "output_type": "stream",
     "text": [
      "100%|█████████████████████████████████████████████| 1280000/1280000 [01:21<00:00, 15769.21it/s]\n",
      "100%|█████████████████████████████████████████████████| 10000/10000 [00:00<00:00, 16798.95it/s]\n"
     ]
    },
    {
     "name": "stdout",
     "output_type": "stream",
     "text": [
      "[SYST] Prepare Data\n"
     ]
    },
    {
     "name": "stderr",
     "output_type": "stream",
     "text": [
      "100%|████████████████████████████████████████████| 1280000/1280000 [00:08<00:00, 157632.79it/s]\n"
     ]
    },
    {
     "name": "stdout",
     "output_type": "stream",
     "text": [
      "[SYST] Prepare Data\n"
     ]
    },
    {
     "name": "stderr",
     "output_type": "stream",
     "text": [
      "100%|████████████████████████████████████████████████| 10000/10000 [00:00<00:00, 159071.58it/s]"
     ]
    },
    {
     "name": "stdout",
     "output_type": "stream",
     "text": [
      "[SYST] Epoch 0\n"
     ]
    },
    {
     "name": "stderr",
     "output_type": "stream",
     "text": [
      "\n",
      "100%|████████████████████████████████████████████████████████| 200/200 [00:19<00:00, 10.04it/s]\n"
     ]
    },
    {
     "name": "stdout",
     "output_type": "stream",
     "text": [
      "Epoch 1, Loss: 4.307002104520798\n",
      "[SYST] Epoch 1\n"
     ]
    },
    {
     "name": "stderr",
     "output_type": "stream",
     "text": [
      "100%|████████████████████████████████████████████████████████| 200/200 [00:20<00:00,  9.93it/s]\n"
     ]
    },
    {
     "name": "stdout",
     "output_type": "stream",
     "text": [
      "Epoch 2, Loss: 3.8739689350128175\n",
      "[SYST] Epoch 2\n"
     ]
    },
    {
     "name": "stderr",
     "output_type": "stream",
     "text": [
      "100%|████████████████████████████████████████████████████████| 200/200 [00:20<00:00,  9.89it/s]\n"
     ]
    },
    {
     "name": "stdout",
     "output_type": "stream",
     "text": [
      "Epoch 3, Loss: 3.756998112201691\n",
      "[SYST] Epoch 3\n"
     ]
    },
    {
     "name": "stderr",
     "output_type": "stream",
     "text": [
      "100%|████████████████████████████████████████████████████████| 200/200 [00:20<00:00,  9.90it/s]\n"
     ]
    },
    {
     "name": "stdout",
     "output_type": "stream",
     "text": [
      "Epoch 4, Loss: 3.680698090791702\n",
      "[SYST] Epoch 4\n"
     ]
    },
    {
     "name": "stderr",
     "output_type": "stream",
     "text": [
      "100%|████████████████████████████████████████████████████████| 200/200 [00:20<00:00,  9.92it/s]\n"
     ]
    },
    {
     "name": "stdout",
     "output_type": "stream",
     "text": [
      "Epoch 5, Loss: 3.623646845817566\n",
      "[SYST] Epoch 5\n"
     ]
    },
    {
     "name": "stderr",
     "output_type": "stream",
     "text": [
      "100%|████████████████████████████████████████████████████████| 200/200 [00:20<00:00,  9.93it/s]\n"
     ]
    },
    {
     "name": "stdout",
     "output_type": "stream",
     "text": [
      "Epoch 6, Loss: 3.5746828746795654\n",
      "[SYST] Epoch 6\n"
     ]
    },
    {
     "name": "stderr",
     "output_type": "stream",
     "text": [
      "100%|████████████████████████████████████████████████████████| 200/200 [00:20<00:00,  9.93it/s]\n"
     ]
    },
    {
     "name": "stdout",
     "output_type": "stream",
     "text": [
      "Epoch 7, Loss: 3.5359411799907683\n",
      "[SYST] Epoch 7\n"
     ]
    },
    {
     "name": "stderr",
     "output_type": "stream",
     "text": [
      "100%|████████████████████████████████████████████████████████| 200/200 [00:20<00:00,  9.91it/s]\n"
     ]
    },
    {
     "name": "stdout",
     "output_type": "stream",
     "text": [
      "Epoch 8, Loss: 3.515364603996277\n",
      "[SYST] Epoch 8\n"
     ]
    },
    {
     "name": "stderr",
     "output_type": "stream",
     "text": [
      "100%|████████████████████████████████████████████████████████| 200/200 [00:20<00:00,  9.86it/s]\n"
     ]
    },
    {
     "name": "stdout",
     "output_type": "stream",
     "text": [
      "Epoch 9, Loss: 3.507248548269272\n",
      "[SYST] Epoch 9\n"
     ]
    },
    {
     "name": "stderr",
     "output_type": "stream",
     "text": [
      "100%|████████████████████████████████████████████████████████| 200/200 [00:20<00:00,  9.88it/s]\n"
     ]
    },
    {
     "name": "stdout",
     "output_type": "stream",
     "text": [
      "Epoch 10, Loss: 3.5037264692783356\n",
      "[SYST] Epoch 0\n"
     ]
    },
    {
     "name": "stderr",
     "output_type": "stream",
     "text": [
      "100%|████████████████████████████████████████████████████████████| 2/2 [00:00<00:00, 13.30it/s]\n"
     ]
    },
    {
     "name": "stdout",
     "output_type": "stream",
     "text": [
      "Test Accuracy: 51.32%\n",
      "[{'accuracy': 0.9983, 'Layer1': {'[[0, 1, 2, 3, 4, 5, 6, 7]]': 0.5013, '[[0, 1]]': 0.5039, '[[0]]': 0.5082}, 'Layer2': {'[[0, 1, 2, 3, 4, 5, 6, 7]]': 0.5037, '[[0, 1]]': 0.5032, '[[0]]': 0.5075}, 'Layer3': {'[[0, 1, 2, 3, 4, 5, 6, 7]]': 0.4925, '[[0, 1]]': 0.5037, '[[0]]': 0.5081}}, {'accuracy': 0.9983, 'Layer1': {'[[0, 1, 2, 3, 4, 5, 6, 7]]': 0.5012, '[[0, 1]]': 0.5059, '[[0]]': 0.4956}, 'Layer2': {'[[0, 1, 2, 3, 4, 5, 6, 7]]': 0.5027, '[[0, 1]]': 0.4957, '[[0]]': 0.493}, 'Layer3': {'[[0, 1, 2, 3, 4, 5, 6, 7]]': 0.4966, '[[0, 1]]': 0.4996, '[[0]]': 0.5071}}, {'accuracy': 0.9906, 'Layer1': {'[[0, 1, 2, 3, 4, 5, 6, 7]]': 0.4964, '[[0, 1]]': 0.5118, '[[0]]': 0.5024}, 'Layer2': {'[[0, 1, 2, 3, 4, 5, 6, 7]]': 0.4993, '[[0, 1]]': 0.4958, '[[0]]': 0.5061}, 'Layer3': {'[[0, 1, 2, 3, 4, 5, 6, 7]]': 0.4949, '[[0, 1]]': 0.5015, '[[0]]': 0.4977}}, {'accuracy': 0.9955, 'Layer1': {'[[0, 1, 2, 3, 4, 5, 6, 7]]': 0.5024, '[[0, 1]]': 0.5025, '[[0]]': 0.4974}, 'Layer2': {'[[0, 1, 2, 3, 4, 5, 6, 7]]': 0.5068, '[[0, 1]]': 0.5074, '[[0]]': 0.5021}, 'Layer3': {'[[0, 1, 2, 3, 4, 5, 6, 7]]': 0.5036, '[[0, 1]]': 0.5027, '[[0]]': 0.4986}}, {'accuracy': 0.9864, 'Layer1': {'[[0, 1, 2, 3, 4, 5, 6, 7]]': 0.5007, '[[0, 1]]': 0.497, '[[0]]': 0.5085}, 'Layer2': {'[[0, 1, 2, 3, 4, 5, 6, 7]]': 0.4965, '[[0, 1]]': 0.5008, '[[0]]': 0.5003}, 'Layer3': {'[[0, 1, 2, 3, 4, 5, 6, 7]]': 0.4993, '[[0, 1]]': 0.4952, '[[0]]': 0.5048}}, {'accuracy': 0.9995, 'Layer1': {'[[0, 1, 2, 3, 4, 5, 6, 7]]': 0.5043, '[[0, 1]]': 0.5061, '[[0]]': 0.5006}, 'Layer2': {'[[0, 1, 2, 3, 4, 5, 6, 7]]': 0.4927, '[[0, 1]]': 0.4921, '[[0]]': 0.5033}, 'Layer3': {'[[0, 1, 2, 3, 4, 5, 6, 7]]': 0.4967, '[[0, 1]]': 0.5004, '[[0]]': 0.501}}, {'accuracy': 0.9979, 'Layer1': {'[[0, 1, 2, 3, 4, 5, 6, 7]]': 0.5176, '[[0, 1]]': 0.4983, '[[0]]': 0.4984}, 'Layer2': {'[[0, 1, 2, 3, 4, 5, 6, 7]]': 0.4892, '[[0, 1]]': 0.4958, '[[0]]': 0.499}, 'Layer3': {'[[0, 1, 2, 3, 4, 5, 6, 7]]': 0.4996, '[[0, 1]]': 0.4996, '[[0]]': 0.4993}}, {'accuracy': 0.996, 'Layer1': {'[[0, 1, 2, 3, 4, 5, 6, 7]]': 0.5062, '[[0, 1]]': 0.5132}}]\n",
      "Layer1 : [[0]]\n"
     ]
    },
    {
     "name": "stderr",
     "output_type": "stream",
     "text": [
      "100%|█████████████████████████████████████████████| 1280000/1280000 [01:23<00:00, 15332.25it/s]\n",
      "100%|█████████████████████████████████████████████████| 10000/10000 [00:00<00:00, 16723.70it/s]\n"
     ]
    },
    {
     "name": "stdout",
     "output_type": "stream",
     "text": [
      "[SYST] Prepare Data\n"
     ]
    },
    {
     "name": "stderr",
     "output_type": "stream",
     "text": [
      "100%|████████████████████████████████████████████| 1280000/1280000 [00:07<00:00, 161661.56it/s]\n"
     ]
    },
    {
     "name": "stdout",
     "output_type": "stream",
     "text": [
      "[SYST] Prepare Data\n"
     ]
    },
    {
     "name": "stderr",
     "output_type": "stream",
     "text": [
      "100%|████████████████████████████████████████████████| 10000/10000 [00:00<00:00, 161506.98it/s]"
     ]
    },
    {
     "name": "stdout",
     "output_type": "stream",
     "text": [
      "[SYST] Epoch 0\n"
     ]
    },
    {
     "name": "stderr",
     "output_type": "stream",
     "text": [
      "\n",
      "100%|████████████████████████████████████████████████████████| 200/200 [00:19<00:00, 10.12it/s]\n"
     ]
    },
    {
     "name": "stdout",
     "output_type": "stream",
     "text": [
      "Epoch 1, Loss: 4.494753451347351\n",
      "[SYST] Epoch 1\n"
     ]
    },
    {
     "name": "stderr",
     "output_type": "stream",
     "text": [
      "100%|████████████████████████████████████████████████████████| 200/200 [00:20<00:00,  9.98it/s]\n"
     ]
    },
    {
     "name": "stdout",
     "output_type": "stream",
     "text": [
      "Epoch 2, Loss: 4.266847567558289\n",
      "[SYST] Epoch 2\n"
     ]
    },
    {
     "name": "stderr",
     "output_type": "stream",
     "text": [
      "100%|████████████████████████████████████████████████████████| 200/200 [00:20<00:00,  9.95it/s]\n"
     ]
    },
    {
     "name": "stdout",
     "output_type": "stream",
     "text": [
      "Epoch 3, Loss: 4.074728296995163\n",
      "[SYST] Epoch 3\n"
     ]
    },
    {
     "name": "stderr",
     "output_type": "stream",
     "text": [
      "100%|████████████████████████████████████████████████████████| 200/200 [00:20<00:00,  9.91it/s]\n"
     ]
    },
    {
     "name": "stdout",
     "output_type": "stream",
     "text": [
      "Epoch 4, Loss: 3.9967123818397523\n",
      "[SYST] Epoch 4\n"
     ]
    },
    {
     "name": "stderr",
     "output_type": "stream",
     "text": [
      "100%|████████████████████████████████████████████████████████| 200/200 [00:20<00:00,  9.93it/s]\n"
     ]
    },
    {
     "name": "stdout",
     "output_type": "stream",
     "text": [
      "Epoch 5, Loss: 3.961234698295593\n",
      "[SYST] Epoch 5\n"
     ]
    },
    {
     "name": "stderr",
     "output_type": "stream",
     "text": [
      "100%|████████████████████████████████████████████████████████| 200/200 [00:20<00:00,  9.93it/s]\n"
     ]
    },
    {
     "name": "stdout",
     "output_type": "stream",
     "text": [
      "Epoch 6, Loss: 3.947155997753143\n",
      "[SYST] Epoch 6\n"
     ]
    },
    {
     "name": "stderr",
     "output_type": "stream",
     "text": [
      "100%|████████████████████████████████████████████████████████| 200/200 [00:20<00:00,  9.93it/s]\n"
     ]
    },
    {
     "name": "stdout",
     "output_type": "stream",
     "text": [
      "Epoch 7, Loss: 3.9416272342205048\n",
      "[SYST] Epoch 7\n"
     ]
    },
    {
     "name": "stderr",
     "output_type": "stream",
     "text": [
      "100%|████████████████████████████████████████████████████████| 200/200 [00:20<00:00,  9.92it/s]\n"
     ]
    },
    {
     "name": "stdout",
     "output_type": "stream",
     "text": [
      "Epoch 8, Loss: 3.93961639046669\n",
      "[SYST] Epoch 8\n"
     ]
    },
    {
     "name": "stderr",
     "output_type": "stream",
     "text": [
      "100%|████████████████████████████████████████████████████████| 200/200 [00:20<00:00,  9.92it/s]\n"
     ]
    },
    {
     "name": "stdout",
     "output_type": "stream",
     "text": [
      "Epoch 9, Loss: 3.938794890642166\n",
      "[SYST] Epoch 9\n"
     ]
    },
    {
     "name": "stderr",
     "output_type": "stream",
     "text": [
      "100%|████████████████████████████████████████████████████████| 200/200 [00:20<00:00,  9.98it/s]\n"
     ]
    },
    {
     "name": "stdout",
     "output_type": "stream",
     "text": [
      "Epoch 10, Loss: 3.938206424713135\n",
      "[SYST] Epoch 0\n"
     ]
    },
    {
     "name": "stderr",
     "output_type": "stream",
     "text": [
      "100%|████████████████████████████████████████████████████████████| 2/2 [00:00<00:00, 13.42it/s]\n"
     ]
    },
    {
     "name": "stdout",
     "output_type": "stream",
     "text": [
      "Test Accuracy: 49.55%\n",
      "[{'accuracy': 0.9983, 'Layer1': {'[[0, 1, 2, 3, 4, 5, 6, 7]]': 0.5013, '[[0, 1]]': 0.5039, '[[0]]': 0.5082}, 'Layer2': {'[[0, 1, 2, 3, 4, 5, 6, 7]]': 0.5037, '[[0, 1]]': 0.5032, '[[0]]': 0.5075}, 'Layer3': {'[[0, 1, 2, 3, 4, 5, 6, 7]]': 0.4925, '[[0, 1]]': 0.5037, '[[0]]': 0.5081}}, {'accuracy': 0.9983, 'Layer1': {'[[0, 1, 2, 3, 4, 5, 6, 7]]': 0.5012, '[[0, 1]]': 0.5059, '[[0]]': 0.4956}, 'Layer2': {'[[0, 1, 2, 3, 4, 5, 6, 7]]': 0.5027, '[[0, 1]]': 0.4957, '[[0]]': 0.493}, 'Layer3': {'[[0, 1, 2, 3, 4, 5, 6, 7]]': 0.4966, '[[0, 1]]': 0.4996, '[[0]]': 0.5071}}, {'accuracy': 0.9906, 'Layer1': {'[[0, 1, 2, 3, 4, 5, 6, 7]]': 0.4964, '[[0, 1]]': 0.5118, '[[0]]': 0.5024}, 'Layer2': {'[[0, 1, 2, 3, 4, 5, 6, 7]]': 0.4993, '[[0, 1]]': 0.4958, '[[0]]': 0.5061}, 'Layer3': {'[[0, 1, 2, 3, 4, 5, 6, 7]]': 0.4949, '[[0, 1]]': 0.5015, '[[0]]': 0.4977}}, {'accuracy': 0.9955, 'Layer1': {'[[0, 1, 2, 3, 4, 5, 6, 7]]': 0.5024, '[[0, 1]]': 0.5025, '[[0]]': 0.4974}, 'Layer2': {'[[0, 1, 2, 3, 4, 5, 6, 7]]': 0.5068, '[[0, 1]]': 0.5074, '[[0]]': 0.5021}, 'Layer3': {'[[0, 1, 2, 3, 4, 5, 6, 7]]': 0.5036, '[[0, 1]]': 0.5027, '[[0]]': 0.4986}}, {'accuracy': 0.9864, 'Layer1': {'[[0, 1, 2, 3, 4, 5, 6, 7]]': 0.5007, '[[0, 1]]': 0.497, '[[0]]': 0.5085}, 'Layer2': {'[[0, 1, 2, 3, 4, 5, 6, 7]]': 0.4965, '[[0, 1]]': 0.5008, '[[0]]': 0.5003}, 'Layer3': {'[[0, 1, 2, 3, 4, 5, 6, 7]]': 0.4993, '[[0, 1]]': 0.4952, '[[0]]': 0.5048}}, {'accuracy': 0.9995, 'Layer1': {'[[0, 1, 2, 3, 4, 5, 6, 7]]': 0.5043, '[[0, 1]]': 0.5061, '[[0]]': 0.5006}, 'Layer2': {'[[0, 1, 2, 3, 4, 5, 6, 7]]': 0.4927, '[[0, 1]]': 0.4921, '[[0]]': 0.5033}, 'Layer3': {'[[0, 1, 2, 3, 4, 5, 6, 7]]': 0.4967, '[[0, 1]]': 0.5004, '[[0]]': 0.501}}, {'accuracy': 0.9979, 'Layer1': {'[[0, 1, 2, 3, 4, 5, 6, 7]]': 0.5176, '[[0, 1]]': 0.4983, '[[0]]': 0.4984}, 'Layer2': {'[[0, 1, 2, 3, 4, 5, 6, 7]]': 0.4892, '[[0, 1]]': 0.4958, '[[0]]': 0.499}, 'Layer3': {'[[0, 1, 2, 3, 4, 5, 6, 7]]': 0.4996, '[[0, 1]]': 0.4996, '[[0]]': 0.4993}}, {'accuracy': 0.996, 'Layer1': {'[[0, 1, 2, 3, 4, 5, 6, 7]]': 0.5062, '[[0, 1]]': 0.5132, '[[0]]': 0.4955}}]\n",
      "Layer2 : [[0, 1, 2, 3, 4, 5, 6, 7]]\n"
     ]
    },
    {
     "name": "stderr",
     "output_type": "stream",
     "text": [
      "100%|█████████████████████████████████████████████| 1280000/1280000 [01:22<00:00, 15591.34it/s]\n",
      "100%|█████████████████████████████████████████████████| 10000/10000 [00:00<00:00, 16886.73it/s]\n"
     ]
    },
    {
     "name": "stdout",
     "output_type": "stream",
     "text": [
      "[SYST] Prepare Data\n"
     ]
    },
    {
     "name": "stderr",
     "output_type": "stream",
     "text": [
      "100%|████████████████████████████████████████████| 1280000/1280000 [00:08<00:00, 144423.55it/s]\n"
     ]
    },
    {
     "name": "stdout",
     "output_type": "stream",
     "text": [
      "[SYST] Prepare Data\n"
     ]
    },
    {
     "name": "stderr",
     "output_type": "stream",
     "text": [
      "100%|████████████████████████████████████████████████| 10000/10000 [00:00<00:00, 146835.73it/s]"
     ]
    },
    {
     "name": "stdout",
     "output_type": "stream",
     "text": [
      "[SYST] Epoch 0\n"
     ]
    },
    {
     "name": "stderr",
     "output_type": "stream",
     "text": [
      "\n",
      "100%|████████████████████████████████████████████████████████| 200/200 [00:19<00:00, 10.15it/s]\n"
     ]
    },
    {
     "name": "stdout",
     "output_type": "stream",
     "text": [
      "Epoch 1, Loss: 4.340236523151398\n",
      "[SYST] Epoch 1\n"
     ]
    },
    {
     "name": "stderr",
     "output_type": "stream",
     "text": [
      "100%|████████████████████████████████████████████████████████| 200/200 [00:20<00:00,  9.98it/s]\n"
     ]
    },
    {
     "name": "stdout",
     "output_type": "stream",
     "text": [
      "Epoch 2, Loss: 3.4569677472114564\n",
      "[SYST] Epoch 2\n"
     ]
    },
    {
     "name": "stderr",
     "output_type": "stream",
     "text": [
      "100%|████████████████████████████████████████████████████████| 200/200 [00:20<00:00,  9.91it/s]\n"
     ]
    },
    {
     "name": "stdout",
     "output_type": "stream",
     "text": [
      "Epoch 3, Loss: 3.3012601923942566\n",
      "[SYST] Epoch 3\n"
     ]
    },
    {
     "name": "stderr",
     "output_type": "stream",
     "text": [
      "100%|████████████████████████████████████████████████████████| 200/200 [00:20<00:00,  9.90it/s]\n"
     ]
    },
    {
     "name": "stdout",
     "output_type": "stream",
     "text": [
      "Epoch 4, Loss: 3.2413146245479583\n",
      "[SYST] Epoch 4\n"
     ]
    },
    {
     "name": "stderr",
     "output_type": "stream",
     "text": [
      "100%|████████████████████████████████████████████████████████| 200/200 [00:20<00:00,  9.89it/s]\n"
     ]
    },
    {
     "name": "stdout",
     "output_type": "stream",
     "text": [
      "Epoch 5, Loss: 3.205340340137482\n",
      "[SYST] Epoch 5\n"
     ]
    },
    {
     "name": "stderr",
     "output_type": "stream",
     "text": [
      "100%|████████████████████████████████████████████████████████| 200/200 [00:20<00:00,  9.89it/s]\n"
     ]
    },
    {
     "name": "stdout",
     "output_type": "stream",
     "text": [
      "Epoch 6, Loss: 3.180101436376572\n",
      "[SYST] Epoch 6\n"
     ]
    },
    {
     "name": "stderr",
     "output_type": "stream",
     "text": [
      "100%|████████████████████████████████████████████████████████| 200/200 [00:20<00:00,  9.89it/s]\n"
     ]
    },
    {
     "name": "stdout",
     "output_type": "stream",
     "text": [
      "Epoch 7, Loss: 3.1600737500190736\n",
      "[SYST] Epoch 7\n"
     ]
    },
    {
     "name": "stderr",
     "output_type": "stream",
     "text": [
      "100%|████████████████████████████████████████████████████████| 200/200 [00:20<00:00,  9.93it/s]\n"
     ]
    },
    {
     "name": "stdout",
     "output_type": "stream",
     "text": [
      "Epoch 8, Loss: 3.1430668127536774\n",
      "[SYST] Epoch 8\n"
     ]
    },
    {
     "name": "stderr",
     "output_type": "stream",
     "text": [
      "100%|████████████████████████████████████████████████████████| 200/200 [00:20<00:00,  9.99it/s]\n"
     ]
    },
    {
     "name": "stdout",
     "output_type": "stream",
     "text": [
      "Epoch 9, Loss: 3.1259731674194335\n",
      "[SYST] Epoch 9\n"
     ]
    },
    {
     "name": "stderr",
     "output_type": "stream",
     "text": [
      "100%|████████████████████████████████████████████████████████| 200/200 [00:20<00:00,  9.97it/s]\n"
     ]
    },
    {
     "name": "stdout",
     "output_type": "stream",
     "text": [
      "Epoch 10, Loss: 3.1106507241725923\n",
      "[SYST] Epoch 0\n"
     ]
    },
    {
     "name": "stderr",
     "output_type": "stream",
     "text": [
      "100%|████████████████████████████████████████████████████████████| 2/2 [00:00<00:00, 13.39it/s]\n"
     ]
    },
    {
     "name": "stdout",
     "output_type": "stream",
     "text": [
      "Test Accuracy: 49.95%\n",
      "[{'accuracy': 0.9983, 'Layer1': {'[[0, 1, 2, 3, 4, 5, 6, 7]]': 0.5013, '[[0, 1]]': 0.5039, '[[0]]': 0.5082}, 'Layer2': {'[[0, 1, 2, 3, 4, 5, 6, 7]]': 0.5037, '[[0, 1]]': 0.5032, '[[0]]': 0.5075}, 'Layer3': {'[[0, 1, 2, 3, 4, 5, 6, 7]]': 0.4925, '[[0, 1]]': 0.5037, '[[0]]': 0.5081}}, {'accuracy': 0.9983, 'Layer1': {'[[0, 1, 2, 3, 4, 5, 6, 7]]': 0.5012, '[[0, 1]]': 0.5059, '[[0]]': 0.4956}, 'Layer2': {'[[0, 1, 2, 3, 4, 5, 6, 7]]': 0.5027, '[[0, 1]]': 0.4957, '[[0]]': 0.493}, 'Layer3': {'[[0, 1, 2, 3, 4, 5, 6, 7]]': 0.4966, '[[0, 1]]': 0.4996, '[[0]]': 0.5071}}, {'accuracy': 0.9906, 'Layer1': {'[[0, 1, 2, 3, 4, 5, 6, 7]]': 0.4964, '[[0, 1]]': 0.5118, '[[0]]': 0.5024}, 'Layer2': {'[[0, 1, 2, 3, 4, 5, 6, 7]]': 0.4993, '[[0, 1]]': 0.4958, '[[0]]': 0.5061}, 'Layer3': {'[[0, 1, 2, 3, 4, 5, 6, 7]]': 0.4949, '[[0, 1]]': 0.5015, '[[0]]': 0.4977}}, {'accuracy': 0.9955, 'Layer1': {'[[0, 1, 2, 3, 4, 5, 6, 7]]': 0.5024, '[[0, 1]]': 0.5025, '[[0]]': 0.4974}, 'Layer2': {'[[0, 1, 2, 3, 4, 5, 6, 7]]': 0.5068, '[[0, 1]]': 0.5074, '[[0]]': 0.5021}, 'Layer3': {'[[0, 1, 2, 3, 4, 5, 6, 7]]': 0.5036, '[[0, 1]]': 0.5027, '[[0]]': 0.4986}}, {'accuracy': 0.9864, 'Layer1': {'[[0, 1, 2, 3, 4, 5, 6, 7]]': 0.5007, '[[0, 1]]': 0.497, '[[0]]': 0.5085}, 'Layer2': {'[[0, 1, 2, 3, 4, 5, 6, 7]]': 0.4965, '[[0, 1]]': 0.5008, '[[0]]': 0.5003}, 'Layer3': {'[[0, 1, 2, 3, 4, 5, 6, 7]]': 0.4993, '[[0, 1]]': 0.4952, '[[0]]': 0.5048}}, {'accuracy': 0.9995, 'Layer1': {'[[0, 1, 2, 3, 4, 5, 6, 7]]': 0.5043, '[[0, 1]]': 0.5061, '[[0]]': 0.5006}, 'Layer2': {'[[0, 1, 2, 3, 4, 5, 6, 7]]': 0.4927, '[[0, 1]]': 0.4921, '[[0]]': 0.5033}, 'Layer3': {'[[0, 1, 2, 3, 4, 5, 6, 7]]': 0.4967, '[[0, 1]]': 0.5004, '[[0]]': 0.501}}, {'accuracy': 0.9979, 'Layer1': {'[[0, 1, 2, 3, 4, 5, 6, 7]]': 0.5176, '[[0, 1]]': 0.4983, '[[0]]': 0.4984}, 'Layer2': {'[[0, 1, 2, 3, 4, 5, 6, 7]]': 0.4892, '[[0, 1]]': 0.4958, '[[0]]': 0.499}, 'Layer3': {'[[0, 1, 2, 3, 4, 5, 6, 7]]': 0.4996, '[[0, 1]]': 0.4996, '[[0]]': 0.4993}}, {'accuracy': 0.996, 'Layer1': {'[[0, 1, 2, 3, 4, 5, 6, 7]]': 0.5062, '[[0, 1]]': 0.5132, '[[0]]': 0.4955}, 'Layer2': {'[[0, 1, 2, 3, 4, 5, 6, 7]]': 0.4995}}]\n",
      "Layer2 : [[0, 1]]\n"
     ]
    },
    {
     "name": "stderr",
     "output_type": "stream",
     "text": [
      "100%|█████████████████████████████████████████████| 1280000/1280000 [01:22<00:00, 15506.01it/s]\n",
      "100%|█████████████████████████████████████████████████| 10000/10000 [00:00<00:00, 16844.66it/s]\n"
     ]
    },
    {
     "name": "stdout",
     "output_type": "stream",
     "text": [
      "[SYST] Prepare Data\n"
     ]
    },
    {
     "name": "stderr",
     "output_type": "stream",
     "text": [
      "100%|████████████████████████████████████████████| 1280000/1280000 [00:08<00:00, 157445.69it/s]\n"
     ]
    },
    {
     "name": "stdout",
     "output_type": "stream",
     "text": [
      "[SYST] Prepare Data\n"
     ]
    },
    {
     "name": "stderr",
     "output_type": "stream",
     "text": [
      "100%|████████████████████████████████████████████████| 10000/10000 [00:00<00:00, 158175.94it/s]"
     ]
    },
    {
     "name": "stdout",
     "output_type": "stream",
     "text": [
      "[SYST] Epoch 0\n"
     ]
    },
    {
     "name": "stderr",
     "output_type": "stream",
     "text": [
      "\n",
      "100%|████████████████████████████████████████████████████████| 200/200 [00:19<00:00, 10.09it/s]\n"
     ]
    },
    {
     "name": "stdout",
     "output_type": "stream",
     "text": [
      "Epoch 1, Loss: 4.550403071641922\n",
      "[SYST] Epoch 1\n"
     ]
    },
    {
     "name": "stderr",
     "output_type": "stream",
     "text": [
      "100%|████████████████████████████████████████████████████████| 200/200 [00:20<00:00,  9.97it/s]\n"
     ]
    },
    {
     "name": "stdout",
     "output_type": "stream",
     "text": [
      "Epoch 2, Loss: 3.8907737874984742\n",
      "[SYST] Epoch 2\n"
     ]
    },
    {
     "name": "stderr",
     "output_type": "stream",
     "text": [
      "100%|████████████████████████████████████████████████████████| 200/200 [00:20<00:00,  9.93it/s]\n"
     ]
    },
    {
     "name": "stdout",
     "output_type": "stream",
     "text": [
      "Epoch 3, Loss: 3.6570996975898744\n",
      "[SYST] Epoch 3\n"
     ]
    },
    {
     "name": "stderr",
     "output_type": "stream",
     "text": [
      "100%|████████████████████████████████████████████████████████| 200/200 [00:20<00:00,  9.92it/s]\n"
     ]
    },
    {
     "name": "stdout",
     "output_type": "stream",
     "text": [
      "Epoch 4, Loss: 3.52064355969429\n",
      "[SYST] Epoch 4\n"
     ]
    },
    {
     "name": "stderr",
     "output_type": "stream",
     "text": [
      "100%|████████████████████████████████████████████████████████| 200/200 [00:20<00:00,  9.90it/s]\n"
     ]
    },
    {
     "name": "stdout",
     "output_type": "stream",
     "text": [
      "Epoch 5, Loss: 3.4496390295028685\n",
      "[SYST] Epoch 5\n"
     ]
    },
    {
     "name": "stderr",
     "output_type": "stream",
     "text": [
      "100%|████████████████████████████████████████████████████████| 200/200 [00:20<00:00,  9.90it/s]\n"
     ]
    },
    {
     "name": "stdout",
     "output_type": "stream",
     "text": [
      "Epoch 6, Loss: 3.417749522924423\n",
      "[SYST] Epoch 6\n"
     ]
    },
    {
     "name": "stderr",
     "output_type": "stream",
     "text": [
      "100%|████████████████████████████████████████████████████████| 200/200 [00:20<00:00,  9.92it/s]\n"
     ]
    },
    {
     "name": "stdout",
     "output_type": "stream",
     "text": [
      "Epoch 7, Loss: 3.4011785984039307\n",
      "[SYST] Epoch 7\n"
     ]
    },
    {
     "name": "stderr",
     "output_type": "stream",
     "text": [
      "100%|████████████████████████████████████████████████████████| 200/200 [00:20<00:00,  9.95it/s]\n"
     ]
    },
    {
     "name": "stdout",
     "output_type": "stream",
     "text": [
      "Epoch 8, Loss: 3.3904889214038847\n",
      "[SYST] Epoch 8\n"
     ]
    },
    {
     "name": "stderr",
     "output_type": "stream",
     "text": [
      "100%|████████████████████████████████████████████████████████| 200/200 [00:20<00:00,  9.92it/s]\n"
     ]
    },
    {
     "name": "stdout",
     "output_type": "stream",
     "text": [
      "Epoch 9, Loss: 3.381591466665268\n",
      "[SYST] Epoch 9\n"
     ]
    },
    {
     "name": "stderr",
     "output_type": "stream",
     "text": [
      "100%|████████████████████████████████████████████████████████| 200/200 [00:20<00:00, 10.00it/s]\n"
     ]
    },
    {
     "name": "stdout",
     "output_type": "stream",
     "text": [
      "Epoch 10, Loss: 3.372371693849564\n",
      "[SYST] Epoch 0\n"
     ]
    },
    {
     "name": "stderr",
     "output_type": "stream",
     "text": [
      "100%|████████████████████████████████████████████████████████████| 2/2 [00:00<00:00, 12.93it/s]\n"
     ]
    },
    {
     "name": "stdout",
     "output_type": "stream",
     "text": [
      "Test Accuracy: 50.61%\n",
      "[{'accuracy': 0.9983, 'Layer1': {'[[0, 1, 2, 3, 4, 5, 6, 7]]': 0.5013, '[[0, 1]]': 0.5039, '[[0]]': 0.5082}, 'Layer2': {'[[0, 1, 2, 3, 4, 5, 6, 7]]': 0.5037, '[[0, 1]]': 0.5032, '[[0]]': 0.5075}, 'Layer3': {'[[0, 1, 2, 3, 4, 5, 6, 7]]': 0.4925, '[[0, 1]]': 0.5037, '[[0]]': 0.5081}}, {'accuracy': 0.9983, 'Layer1': {'[[0, 1, 2, 3, 4, 5, 6, 7]]': 0.5012, '[[0, 1]]': 0.5059, '[[0]]': 0.4956}, 'Layer2': {'[[0, 1, 2, 3, 4, 5, 6, 7]]': 0.5027, '[[0, 1]]': 0.4957, '[[0]]': 0.493}, 'Layer3': {'[[0, 1, 2, 3, 4, 5, 6, 7]]': 0.4966, '[[0, 1]]': 0.4996, '[[0]]': 0.5071}}, {'accuracy': 0.9906, 'Layer1': {'[[0, 1, 2, 3, 4, 5, 6, 7]]': 0.4964, '[[0, 1]]': 0.5118, '[[0]]': 0.5024}, 'Layer2': {'[[0, 1, 2, 3, 4, 5, 6, 7]]': 0.4993, '[[0, 1]]': 0.4958, '[[0]]': 0.5061}, 'Layer3': {'[[0, 1, 2, 3, 4, 5, 6, 7]]': 0.4949, '[[0, 1]]': 0.5015, '[[0]]': 0.4977}}, {'accuracy': 0.9955, 'Layer1': {'[[0, 1, 2, 3, 4, 5, 6, 7]]': 0.5024, '[[0, 1]]': 0.5025, '[[0]]': 0.4974}, 'Layer2': {'[[0, 1, 2, 3, 4, 5, 6, 7]]': 0.5068, '[[0, 1]]': 0.5074, '[[0]]': 0.5021}, 'Layer3': {'[[0, 1, 2, 3, 4, 5, 6, 7]]': 0.5036, '[[0, 1]]': 0.5027, '[[0]]': 0.4986}}, {'accuracy': 0.9864, 'Layer1': {'[[0, 1, 2, 3, 4, 5, 6, 7]]': 0.5007, '[[0, 1]]': 0.497, '[[0]]': 0.5085}, 'Layer2': {'[[0, 1, 2, 3, 4, 5, 6, 7]]': 0.4965, '[[0, 1]]': 0.5008, '[[0]]': 0.5003}, 'Layer3': {'[[0, 1, 2, 3, 4, 5, 6, 7]]': 0.4993, '[[0, 1]]': 0.4952, '[[0]]': 0.5048}}, {'accuracy': 0.9995, 'Layer1': {'[[0, 1, 2, 3, 4, 5, 6, 7]]': 0.5043, '[[0, 1]]': 0.5061, '[[0]]': 0.5006}, 'Layer2': {'[[0, 1, 2, 3, 4, 5, 6, 7]]': 0.4927, '[[0, 1]]': 0.4921, '[[0]]': 0.5033}, 'Layer3': {'[[0, 1, 2, 3, 4, 5, 6, 7]]': 0.4967, '[[0, 1]]': 0.5004, '[[0]]': 0.501}}, {'accuracy': 0.9979, 'Layer1': {'[[0, 1, 2, 3, 4, 5, 6, 7]]': 0.5176, '[[0, 1]]': 0.4983, '[[0]]': 0.4984}, 'Layer2': {'[[0, 1, 2, 3, 4, 5, 6, 7]]': 0.4892, '[[0, 1]]': 0.4958, '[[0]]': 0.499}, 'Layer3': {'[[0, 1, 2, 3, 4, 5, 6, 7]]': 0.4996, '[[0, 1]]': 0.4996, '[[0]]': 0.4993}}, {'accuracy': 0.996, 'Layer1': {'[[0, 1, 2, 3, 4, 5, 6, 7]]': 0.5062, '[[0, 1]]': 0.5132, '[[0]]': 0.4955}, 'Layer2': {'[[0, 1, 2, 3, 4, 5, 6, 7]]': 0.4995, '[[0, 1]]': 0.5061}}]\n",
      "Layer2 : [[0]]\n"
     ]
    },
    {
     "name": "stderr",
     "output_type": "stream",
     "text": [
      "100%|█████████████████████████████████████████████| 1280000/1280000 [01:22<00:00, 15573.96it/s]\n",
      "100%|█████████████████████████████████████████████████| 10000/10000 [00:00<00:00, 16837.33it/s]\n"
     ]
    },
    {
     "name": "stdout",
     "output_type": "stream",
     "text": [
      "[SYST] Prepare Data\n"
     ]
    },
    {
     "name": "stderr",
     "output_type": "stream",
     "text": [
      "100%|████████████████████████████████████████████| 1280000/1280000 [00:07<00:00, 162147.85it/s]\n"
     ]
    },
    {
     "name": "stdout",
     "output_type": "stream",
     "text": [
      "[SYST] Prepare Data\n"
     ]
    },
    {
     "name": "stderr",
     "output_type": "stream",
     "text": [
      "100%|████████████████████████████████████████████████| 10000/10000 [00:00<00:00, 161111.18it/s]"
     ]
    },
    {
     "name": "stdout",
     "output_type": "stream",
     "text": [
      "[SYST] Epoch 0\n"
     ]
    },
    {
     "name": "stderr",
     "output_type": "stream",
     "text": [
      "\n",
      "100%|████████████████████████████████████████████████████████| 200/200 [00:19<00:00, 10.07it/s]\n"
     ]
    },
    {
     "name": "stdout",
     "output_type": "stream",
     "text": [
      "Epoch 1, Loss: 4.931737220287323\n",
      "[SYST] Epoch 1\n"
     ]
    },
    {
     "name": "stderr",
     "output_type": "stream",
     "text": [
      "100%|████████████████████████████████████████████████████████| 200/200 [00:19<00:00, 10.02it/s]\n"
     ]
    },
    {
     "name": "stdout",
     "output_type": "stream",
     "text": [
      "Epoch 2, Loss: 4.276641848087311\n",
      "[SYST] Epoch 2\n"
     ]
    },
    {
     "name": "stderr",
     "output_type": "stream",
     "text": [
      "100%|████████████████████████████████████████████████████████| 200/200 [00:19<00:00, 10.01it/s]\n"
     ]
    },
    {
     "name": "stdout",
     "output_type": "stream",
     "text": [
      "Epoch 3, Loss: 4.108942672014236\n",
      "[SYST] Epoch 3\n"
     ]
    },
    {
     "name": "stderr",
     "output_type": "stream",
     "text": [
      "100%|████████████████████████████████████████████████████████| 200/200 [00:19<00:00, 10.00it/s]\n"
     ]
    },
    {
     "name": "stdout",
     "output_type": "stream",
     "text": [
      "Epoch 4, Loss: 3.993821659088135\n",
      "[SYST] Epoch 4\n"
     ]
    },
    {
     "name": "stderr",
     "output_type": "stream",
     "text": [
      "100%|████████████████████████████████████████████████████████| 200/200 [00:20<00:00,  9.98it/s]\n"
     ]
    },
    {
     "name": "stdout",
     "output_type": "stream",
     "text": [
      "Epoch 5, Loss: 3.946281566619873\n",
      "[SYST] Epoch 5\n"
     ]
    },
    {
     "name": "stderr",
     "output_type": "stream",
     "text": [
      "100%|████████████████████████████████████████████████████████| 200/200 [00:19<00:00, 10.01it/s]\n"
     ]
    },
    {
     "name": "stdout",
     "output_type": "stream",
     "text": [
      "Epoch 6, Loss: 3.932744804620743\n",
      "[SYST] Epoch 6\n"
     ]
    },
    {
     "name": "stderr",
     "output_type": "stream",
     "text": [
      "100%|████████████████████████████████████████████████████████| 200/200 [00:20<00:00,  9.99it/s]\n"
     ]
    },
    {
     "name": "stdout",
     "output_type": "stream",
     "text": [
      "Epoch 7, Loss: 3.9298500442504882\n",
      "[SYST] Epoch 7\n"
     ]
    },
    {
     "name": "stderr",
     "output_type": "stream",
     "text": [
      "100%|████████████████████████████████████████████████████████| 200/200 [00:20<00:00,  9.99it/s]\n"
     ]
    },
    {
     "name": "stdout",
     "output_type": "stream",
     "text": [
      "Epoch 8, Loss: 3.929109081029892\n",
      "[SYST] Epoch 8\n"
     ]
    },
    {
     "name": "stderr",
     "output_type": "stream",
     "text": [
      "100%|████████████████████████████████████████████████████████| 200/200 [00:20<00:00,  9.97it/s]\n"
     ]
    },
    {
     "name": "stdout",
     "output_type": "stream",
     "text": [
      "Epoch 9, Loss: 3.928876042366028\n",
      "[SYST] Epoch 9\n"
     ]
    },
    {
     "name": "stderr",
     "output_type": "stream",
     "text": [
      "100%|████████████████████████████████████████████████████████| 200/200 [00:20<00:00,  9.98it/s]\n"
     ]
    },
    {
     "name": "stdout",
     "output_type": "stream",
     "text": [
      "Epoch 10, Loss: 3.929053335189819\n",
      "[SYST] Epoch 0\n"
     ]
    },
    {
     "name": "stderr",
     "output_type": "stream",
     "text": [
      "100%|████████████████████████████████████████████████████████████| 2/2 [00:00<00:00, 13.49it/s]\n"
     ]
    },
    {
     "name": "stdout",
     "output_type": "stream",
     "text": [
      "Test Accuracy: 49.57%\n",
      "[{'accuracy': 0.9983, 'Layer1': {'[[0, 1, 2, 3, 4, 5, 6, 7]]': 0.5013, '[[0, 1]]': 0.5039, '[[0]]': 0.5082}, 'Layer2': {'[[0, 1, 2, 3, 4, 5, 6, 7]]': 0.5037, '[[0, 1]]': 0.5032, '[[0]]': 0.5075}, 'Layer3': {'[[0, 1, 2, 3, 4, 5, 6, 7]]': 0.4925, '[[0, 1]]': 0.5037, '[[0]]': 0.5081}}, {'accuracy': 0.9983, 'Layer1': {'[[0, 1, 2, 3, 4, 5, 6, 7]]': 0.5012, '[[0, 1]]': 0.5059, '[[0]]': 0.4956}, 'Layer2': {'[[0, 1, 2, 3, 4, 5, 6, 7]]': 0.5027, '[[0, 1]]': 0.4957, '[[0]]': 0.493}, 'Layer3': {'[[0, 1, 2, 3, 4, 5, 6, 7]]': 0.4966, '[[0, 1]]': 0.4996, '[[0]]': 0.5071}}, {'accuracy': 0.9906, 'Layer1': {'[[0, 1, 2, 3, 4, 5, 6, 7]]': 0.4964, '[[0, 1]]': 0.5118, '[[0]]': 0.5024}, 'Layer2': {'[[0, 1, 2, 3, 4, 5, 6, 7]]': 0.4993, '[[0, 1]]': 0.4958, '[[0]]': 0.5061}, 'Layer3': {'[[0, 1, 2, 3, 4, 5, 6, 7]]': 0.4949, '[[0, 1]]': 0.5015, '[[0]]': 0.4977}}, {'accuracy': 0.9955, 'Layer1': {'[[0, 1, 2, 3, 4, 5, 6, 7]]': 0.5024, '[[0, 1]]': 0.5025, '[[0]]': 0.4974}, 'Layer2': {'[[0, 1, 2, 3, 4, 5, 6, 7]]': 0.5068, '[[0, 1]]': 0.5074, '[[0]]': 0.5021}, 'Layer3': {'[[0, 1, 2, 3, 4, 5, 6, 7]]': 0.5036, '[[0, 1]]': 0.5027, '[[0]]': 0.4986}}, {'accuracy': 0.9864, 'Layer1': {'[[0, 1, 2, 3, 4, 5, 6, 7]]': 0.5007, '[[0, 1]]': 0.497, '[[0]]': 0.5085}, 'Layer2': {'[[0, 1, 2, 3, 4, 5, 6, 7]]': 0.4965, '[[0, 1]]': 0.5008, '[[0]]': 0.5003}, 'Layer3': {'[[0, 1, 2, 3, 4, 5, 6, 7]]': 0.4993, '[[0, 1]]': 0.4952, '[[0]]': 0.5048}}, {'accuracy': 0.9995, 'Layer1': {'[[0, 1, 2, 3, 4, 5, 6, 7]]': 0.5043, '[[0, 1]]': 0.5061, '[[0]]': 0.5006}, 'Layer2': {'[[0, 1, 2, 3, 4, 5, 6, 7]]': 0.4927, '[[0, 1]]': 0.4921, '[[0]]': 0.5033}, 'Layer3': {'[[0, 1, 2, 3, 4, 5, 6, 7]]': 0.4967, '[[0, 1]]': 0.5004, '[[0]]': 0.501}}, {'accuracy': 0.9979, 'Layer1': {'[[0, 1, 2, 3, 4, 5, 6, 7]]': 0.5176, '[[0, 1]]': 0.4983, '[[0]]': 0.4984}, 'Layer2': {'[[0, 1, 2, 3, 4, 5, 6, 7]]': 0.4892, '[[0, 1]]': 0.4958, '[[0]]': 0.499}, 'Layer3': {'[[0, 1, 2, 3, 4, 5, 6, 7]]': 0.4996, '[[0, 1]]': 0.4996, '[[0]]': 0.4993}}, {'accuracy': 0.996, 'Layer1': {'[[0, 1, 2, 3, 4, 5, 6, 7]]': 0.5062, '[[0, 1]]': 0.5132, '[[0]]': 0.4955}, 'Layer2': {'[[0, 1, 2, 3, 4, 5, 6, 7]]': 0.4995, '[[0, 1]]': 0.5061, '[[0]]': 0.4957}}]\n",
      "Layer3 : [[0, 1, 2, 3, 4, 5, 6, 7]]\n"
     ]
    },
    {
     "name": "stderr",
     "output_type": "stream",
     "text": [
      "100%|█████████████████████████████████████████████| 1280000/1280000 [01:22<00:00, 15511.12it/s]\n",
      "100%|█████████████████████████████████████████████████| 10000/10000 [00:00<00:00, 16809.65it/s]\n"
     ]
    },
    {
     "name": "stdout",
     "output_type": "stream",
     "text": [
      "[SYST] Prepare Data\n"
     ]
    },
    {
     "name": "stderr",
     "output_type": "stream",
     "text": [
      "100%|████████████████████████████████████████████| 1280000/1280000 [00:08<00:00, 145141.77it/s]\n"
     ]
    },
    {
     "name": "stdout",
     "output_type": "stream",
     "text": [
      "[SYST] Prepare Data\n"
     ]
    },
    {
     "name": "stderr",
     "output_type": "stream",
     "text": [
      "100%|████████████████████████████████████████████████| 10000/10000 [00:00<00:00, 144765.45it/s]"
     ]
    },
    {
     "name": "stdout",
     "output_type": "stream",
     "text": [
      "[SYST] Epoch 0\n"
     ]
    },
    {
     "name": "stderr",
     "output_type": "stream",
     "text": [
      "\n",
      "100%|████████████████████████████████████████████████████████| 200/200 [00:19<00:00, 10.09it/s]\n"
     ]
    },
    {
     "name": "stdout",
     "output_type": "stream",
     "text": [
      "Epoch 1, Loss: 3.6503448390960695\n",
      "[SYST] Epoch 1\n"
     ]
    },
    {
     "name": "stderr",
     "output_type": "stream",
     "text": [
      "100%|████████████████████████████████████████████████████████| 200/200 [00:20<00:00,  9.93it/s]\n"
     ]
    },
    {
     "name": "stdout",
     "output_type": "stream",
     "text": [
      "Epoch 2, Loss: 3.598488475084305\n",
      "[SYST] Epoch 2\n"
     ]
    },
    {
     "name": "stderr",
     "output_type": "stream",
     "text": [
      "100%|████████████████████████████████████████████████████████| 200/200 [00:20<00:00,  9.94it/s]\n"
     ]
    },
    {
     "name": "stdout",
     "output_type": "stream",
     "text": [
      "Epoch 3, Loss: 3.594409946203232\n",
      "[SYST] Epoch 3\n"
     ]
    },
    {
     "name": "stderr",
     "output_type": "stream",
     "text": [
      "100%|████████████████████████████████████████████████████████| 200/200 [00:20<00:00,  9.98it/s]\n"
     ]
    },
    {
     "name": "stdout",
     "output_type": "stream",
     "text": [
      "Epoch 4, Loss: 3.59281974196434\n",
      "[SYST] Epoch 4\n"
     ]
    },
    {
     "name": "stderr",
     "output_type": "stream",
     "text": [
      "100%|████████████████████████████████████████████████████████| 200/200 [00:20<00:00,  9.97it/s]\n"
     ]
    },
    {
     "name": "stdout",
     "output_type": "stream",
     "text": [
      "Epoch 5, Loss: 3.5915152168273927\n",
      "[SYST] Epoch 5\n"
     ]
    },
    {
     "name": "stderr",
     "output_type": "stream",
     "text": [
      "100%|████████████████████████████████████████████████████████| 200/200 [00:20<00:00,  9.87it/s]\n"
     ]
    },
    {
     "name": "stdout",
     "output_type": "stream",
     "text": [
      "Epoch 6, Loss: 3.5911522734165193\n",
      "[SYST] Epoch 6\n"
     ]
    },
    {
     "name": "stderr",
     "output_type": "stream",
     "text": [
      "100%|████████████████████████████████████████████████████████| 200/200 [00:20<00:00,  9.90it/s]\n"
     ]
    },
    {
     "name": "stdout",
     "output_type": "stream",
     "text": [
      "Epoch 7, Loss: 3.590645513534546\n",
      "[SYST] Epoch 7\n"
     ]
    },
    {
     "name": "stderr",
     "output_type": "stream",
     "text": [
      "100%|████████████████████████████████████████████████████████| 200/200 [00:20<00:00,  9.90it/s]\n"
     ]
    },
    {
     "name": "stdout",
     "output_type": "stream",
     "text": [
      "Epoch 8, Loss: 3.59028742313385\n",
      "[SYST] Epoch 8\n"
     ]
    },
    {
     "name": "stderr",
     "output_type": "stream",
     "text": [
      "100%|████████████████████████████████████████████████████████| 200/200 [00:20<00:00,  9.86it/s]\n"
     ]
    },
    {
     "name": "stdout",
     "output_type": "stream",
     "text": [
      "Epoch 9, Loss: 3.5900429701805114\n",
      "[SYST] Epoch 9\n"
     ]
    },
    {
     "name": "stderr",
     "output_type": "stream",
     "text": [
      "100%|████████████████████████████████████████████████████████| 200/200 [00:20<00:00,  9.90it/s]\n"
     ]
    },
    {
     "name": "stdout",
     "output_type": "stream",
     "text": [
      "Epoch 10, Loss: 3.589960398674011\n",
      "[SYST] Epoch 0\n"
     ]
    },
    {
     "name": "stderr",
     "output_type": "stream",
     "text": [
      "100%|████████████████████████████████████████████████████████████| 2/2 [00:00<00:00, 13.31it/s]\n"
     ]
    },
    {
     "name": "stdout",
     "output_type": "stream",
     "text": [
      "Test Accuracy: 51.04%\n",
      "[{'accuracy': 0.9983, 'Layer1': {'[[0, 1, 2, 3, 4, 5, 6, 7]]': 0.5013, '[[0, 1]]': 0.5039, '[[0]]': 0.5082}, 'Layer2': {'[[0, 1, 2, 3, 4, 5, 6, 7]]': 0.5037, '[[0, 1]]': 0.5032, '[[0]]': 0.5075}, 'Layer3': {'[[0, 1, 2, 3, 4, 5, 6, 7]]': 0.4925, '[[0, 1]]': 0.5037, '[[0]]': 0.5081}}, {'accuracy': 0.9983, 'Layer1': {'[[0, 1, 2, 3, 4, 5, 6, 7]]': 0.5012, '[[0, 1]]': 0.5059, '[[0]]': 0.4956}, 'Layer2': {'[[0, 1, 2, 3, 4, 5, 6, 7]]': 0.5027, '[[0, 1]]': 0.4957, '[[0]]': 0.493}, 'Layer3': {'[[0, 1, 2, 3, 4, 5, 6, 7]]': 0.4966, '[[0, 1]]': 0.4996, '[[0]]': 0.5071}}, {'accuracy': 0.9906, 'Layer1': {'[[0, 1, 2, 3, 4, 5, 6, 7]]': 0.4964, '[[0, 1]]': 0.5118, '[[0]]': 0.5024}, 'Layer2': {'[[0, 1, 2, 3, 4, 5, 6, 7]]': 0.4993, '[[0, 1]]': 0.4958, '[[0]]': 0.5061}, 'Layer3': {'[[0, 1, 2, 3, 4, 5, 6, 7]]': 0.4949, '[[0, 1]]': 0.5015, '[[0]]': 0.4977}}, {'accuracy': 0.9955, 'Layer1': {'[[0, 1, 2, 3, 4, 5, 6, 7]]': 0.5024, '[[0, 1]]': 0.5025, '[[0]]': 0.4974}, 'Layer2': {'[[0, 1, 2, 3, 4, 5, 6, 7]]': 0.5068, '[[0, 1]]': 0.5074, '[[0]]': 0.5021}, 'Layer3': {'[[0, 1, 2, 3, 4, 5, 6, 7]]': 0.5036, '[[0, 1]]': 0.5027, '[[0]]': 0.4986}}, {'accuracy': 0.9864, 'Layer1': {'[[0, 1, 2, 3, 4, 5, 6, 7]]': 0.5007, '[[0, 1]]': 0.497, '[[0]]': 0.5085}, 'Layer2': {'[[0, 1, 2, 3, 4, 5, 6, 7]]': 0.4965, '[[0, 1]]': 0.5008, '[[0]]': 0.5003}, 'Layer3': {'[[0, 1, 2, 3, 4, 5, 6, 7]]': 0.4993, '[[0, 1]]': 0.4952, '[[0]]': 0.5048}}, {'accuracy': 0.9995, 'Layer1': {'[[0, 1, 2, 3, 4, 5, 6, 7]]': 0.5043, '[[0, 1]]': 0.5061, '[[0]]': 0.5006}, 'Layer2': {'[[0, 1, 2, 3, 4, 5, 6, 7]]': 0.4927, '[[0, 1]]': 0.4921, '[[0]]': 0.5033}, 'Layer3': {'[[0, 1, 2, 3, 4, 5, 6, 7]]': 0.4967, '[[0, 1]]': 0.5004, '[[0]]': 0.501}}, {'accuracy': 0.9979, 'Layer1': {'[[0, 1, 2, 3, 4, 5, 6, 7]]': 0.5176, '[[0, 1]]': 0.4983, '[[0]]': 0.4984}, 'Layer2': {'[[0, 1, 2, 3, 4, 5, 6, 7]]': 0.4892, '[[0, 1]]': 0.4958, '[[0]]': 0.499}, 'Layer3': {'[[0, 1, 2, 3, 4, 5, 6, 7]]': 0.4996, '[[0, 1]]': 0.4996, '[[0]]': 0.4993}}, {'accuracy': 0.996, 'Layer1': {'[[0, 1, 2, 3, 4, 5, 6, 7]]': 0.5062, '[[0, 1]]': 0.5132, '[[0]]': 0.4955}, 'Layer2': {'[[0, 1, 2, 3, 4, 5, 6, 7]]': 0.4995, '[[0, 1]]': 0.5061, '[[0]]': 0.4957}, 'Layer3': {'[[0, 1, 2, 3, 4, 5, 6, 7]]': 0.5104}}]\n",
      "Layer3 : [[0, 1]]\n"
     ]
    },
    {
     "name": "stderr",
     "output_type": "stream",
     "text": [
      "100%|█████████████████████████████████████████████| 1280000/1280000 [01:22<00:00, 15496.97it/s]\n",
      "100%|█████████████████████████████████████████████████| 10000/10000 [00:00<00:00, 16676.51it/s]\n"
     ]
    },
    {
     "name": "stdout",
     "output_type": "stream",
     "text": [
      "[SYST] Prepare Data\n"
     ]
    },
    {
     "name": "stderr",
     "output_type": "stream",
     "text": [
      "100%|████████████████████████████████████████████| 1280000/1280000 [00:08<00:00, 158185.84it/s]\n"
     ]
    },
    {
     "name": "stdout",
     "output_type": "stream",
     "text": [
      "[SYST] Prepare Data\n"
     ]
    },
    {
     "name": "stderr",
     "output_type": "stream",
     "text": [
      "100%|████████████████████████████████████████████████| 10000/10000 [00:00<00:00, 160165.58it/s]"
     ]
    },
    {
     "name": "stdout",
     "output_type": "stream",
     "text": [
      "[SYST] Epoch 0\n"
     ]
    },
    {
     "name": "stderr",
     "output_type": "stream",
     "text": [
      "\n",
      "100%|████████████████████████████████████████████████████████| 200/200 [00:19<00:00, 10.05it/s]\n"
     ]
    },
    {
     "name": "stdout",
     "output_type": "stream",
     "text": [
      "Epoch 1, Loss: 3.918723964691162\n",
      "[SYST] Epoch 1\n"
     ]
    },
    {
     "name": "stderr",
     "output_type": "stream",
     "text": [
      "100%|████████████████████████████████████████████████████████| 200/200 [00:20<00:00,  9.99it/s]\n"
     ]
    },
    {
     "name": "stdout",
     "output_type": "stream",
     "text": [
      "Epoch 2, Loss: 3.598633646965027\n",
      "[SYST] Epoch 2\n"
     ]
    },
    {
     "name": "stderr",
     "output_type": "stream",
     "text": [
      "100%|████████████████████████████████████████████████████████| 200/200 [00:19<00:00, 10.01it/s]\n"
     ]
    },
    {
     "name": "stdout",
     "output_type": "stream",
     "text": [
      "Epoch 3, Loss: 3.5964181196689604\n",
      "[SYST] Epoch 3\n"
     ]
    },
    {
     "name": "stderr",
     "output_type": "stream",
     "text": [
      "100%|████████████████████████████████████████████████████████| 200/200 [00:20<00:00,  9.99it/s]\n"
     ]
    },
    {
     "name": "stdout",
     "output_type": "stream",
     "text": [
      "Epoch 4, Loss: 3.595758123397827\n",
      "[SYST] Epoch 4\n"
     ]
    },
    {
     "name": "stderr",
     "output_type": "stream",
     "text": [
      "100%|████████████████████████████████████████████████████████| 200/200 [00:19<00:00, 10.03it/s]\n"
     ]
    },
    {
     "name": "stdout",
     "output_type": "stream",
     "text": [
      "Epoch 5, Loss: 3.595416194200516\n",
      "[SYST] Epoch 5\n"
     ]
    },
    {
     "name": "stderr",
     "output_type": "stream",
     "text": [
      "100%|████████████████████████████████████████████████████████| 200/200 [00:19<00:00, 10.05it/s]\n"
     ]
    },
    {
     "name": "stdout",
     "output_type": "stream",
     "text": [
      "Epoch 6, Loss: 3.5949784660339357\n",
      "[SYST] Epoch 6\n"
     ]
    },
    {
     "name": "stderr",
     "output_type": "stream",
     "text": [
      "100%|████████████████████████████████████████████████████████| 200/200 [00:19<00:00, 10.01it/s]\n"
     ]
    },
    {
     "name": "stdout",
     "output_type": "stream",
     "text": [
      "Epoch 7, Loss: 3.594966286420822\n",
      "[SYST] Epoch 7\n"
     ]
    },
    {
     "name": "stderr",
     "output_type": "stream",
     "text": [
      "100%|████████████████████████████████████████████████████████| 200/200 [00:19<00:00, 10.01it/s]\n"
     ]
    },
    {
     "name": "stdout",
     "output_type": "stream",
     "text": [
      "Epoch 8, Loss: 3.594730408191681\n",
      "[SYST] Epoch 8\n"
     ]
    },
    {
     "name": "stderr",
     "output_type": "stream",
     "text": [
      "100%|████████████████████████████████████████████████████████| 200/200 [00:20<00:00,  9.99it/s]\n"
     ]
    },
    {
     "name": "stdout",
     "output_type": "stream",
     "text": [
      "Epoch 9, Loss: 3.594639337062836\n",
      "[SYST] Epoch 9\n"
     ]
    },
    {
     "name": "stderr",
     "output_type": "stream",
     "text": [
      "100%|████████████████████████████████████████████████████████| 200/200 [00:19<00:00, 10.01it/s]\n"
     ]
    },
    {
     "name": "stdout",
     "output_type": "stream",
     "text": [
      "Epoch 10, Loss: 3.5946448218822478\n",
      "[SYST] Epoch 0\n"
     ]
    },
    {
     "name": "stderr",
     "output_type": "stream",
     "text": [
      "100%|████████████████████████████████████████████████████████████| 2/2 [00:00<00:00, 13.48it/s]\n"
     ]
    },
    {
     "name": "stdout",
     "output_type": "stream",
     "text": [
      "Test Accuracy: 51.21%\n",
      "[{'accuracy': 0.9983, 'Layer1': {'[[0, 1, 2, 3, 4, 5, 6, 7]]': 0.5013, '[[0, 1]]': 0.5039, '[[0]]': 0.5082}, 'Layer2': {'[[0, 1, 2, 3, 4, 5, 6, 7]]': 0.5037, '[[0, 1]]': 0.5032, '[[0]]': 0.5075}, 'Layer3': {'[[0, 1, 2, 3, 4, 5, 6, 7]]': 0.4925, '[[0, 1]]': 0.5037, '[[0]]': 0.5081}}, {'accuracy': 0.9983, 'Layer1': {'[[0, 1, 2, 3, 4, 5, 6, 7]]': 0.5012, '[[0, 1]]': 0.5059, '[[0]]': 0.4956}, 'Layer2': {'[[0, 1, 2, 3, 4, 5, 6, 7]]': 0.5027, '[[0, 1]]': 0.4957, '[[0]]': 0.493}, 'Layer3': {'[[0, 1, 2, 3, 4, 5, 6, 7]]': 0.4966, '[[0, 1]]': 0.4996, '[[0]]': 0.5071}}, {'accuracy': 0.9906, 'Layer1': {'[[0, 1, 2, 3, 4, 5, 6, 7]]': 0.4964, '[[0, 1]]': 0.5118, '[[0]]': 0.5024}, 'Layer2': {'[[0, 1, 2, 3, 4, 5, 6, 7]]': 0.4993, '[[0, 1]]': 0.4958, '[[0]]': 0.5061}, 'Layer3': {'[[0, 1, 2, 3, 4, 5, 6, 7]]': 0.4949, '[[0, 1]]': 0.5015, '[[0]]': 0.4977}}, {'accuracy': 0.9955, 'Layer1': {'[[0, 1, 2, 3, 4, 5, 6, 7]]': 0.5024, '[[0, 1]]': 0.5025, '[[0]]': 0.4974}, 'Layer2': {'[[0, 1, 2, 3, 4, 5, 6, 7]]': 0.5068, '[[0, 1]]': 0.5074, '[[0]]': 0.5021}, 'Layer3': {'[[0, 1, 2, 3, 4, 5, 6, 7]]': 0.5036, '[[0, 1]]': 0.5027, '[[0]]': 0.4986}}, {'accuracy': 0.9864, 'Layer1': {'[[0, 1, 2, 3, 4, 5, 6, 7]]': 0.5007, '[[0, 1]]': 0.497, '[[0]]': 0.5085}, 'Layer2': {'[[0, 1, 2, 3, 4, 5, 6, 7]]': 0.4965, '[[0, 1]]': 0.5008, '[[0]]': 0.5003}, 'Layer3': {'[[0, 1, 2, 3, 4, 5, 6, 7]]': 0.4993, '[[0, 1]]': 0.4952, '[[0]]': 0.5048}}, {'accuracy': 0.9995, 'Layer1': {'[[0, 1, 2, 3, 4, 5, 6, 7]]': 0.5043, '[[0, 1]]': 0.5061, '[[0]]': 0.5006}, 'Layer2': {'[[0, 1, 2, 3, 4, 5, 6, 7]]': 0.4927, '[[0, 1]]': 0.4921, '[[0]]': 0.5033}, 'Layer3': {'[[0, 1, 2, 3, 4, 5, 6, 7]]': 0.4967, '[[0, 1]]': 0.5004, '[[0]]': 0.501}}, {'accuracy': 0.9979, 'Layer1': {'[[0, 1, 2, 3, 4, 5, 6, 7]]': 0.5176, '[[0, 1]]': 0.4983, '[[0]]': 0.4984}, 'Layer2': {'[[0, 1, 2, 3, 4, 5, 6, 7]]': 0.4892, '[[0, 1]]': 0.4958, '[[0]]': 0.499}, 'Layer3': {'[[0, 1, 2, 3, 4, 5, 6, 7]]': 0.4996, '[[0, 1]]': 0.4996, '[[0]]': 0.4993}}, {'accuracy': 0.996, 'Layer1': {'[[0, 1, 2, 3, 4, 5, 6, 7]]': 0.5062, '[[0, 1]]': 0.5132, '[[0]]': 0.4955}, 'Layer2': {'[[0, 1, 2, 3, 4, 5, 6, 7]]': 0.4995, '[[0, 1]]': 0.5061, '[[0]]': 0.4957}, 'Layer3': {'[[0, 1, 2, 3, 4, 5, 6, 7]]': 0.5104, '[[0, 1]]': 0.5121}}]\n",
      "Layer3 : [[0]]\n"
     ]
    },
    {
     "name": "stderr",
     "output_type": "stream",
     "text": [
      "100%|█████████████████████████████████████████████| 1280000/1280000 [01:22<00:00, 15514.18it/s]\n",
      "100%|█████████████████████████████████████████████████| 10000/10000 [00:00<00:00, 16929.26it/s]\n"
     ]
    },
    {
     "name": "stdout",
     "output_type": "stream",
     "text": [
      "[SYST] Prepare Data\n"
     ]
    },
    {
     "name": "stderr",
     "output_type": "stream",
     "text": [
      "100%|████████████████████████████████████████████| 1280000/1280000 [00:07<00:00, 162007.78it/s]\n"
     ]
    },
    {
     "name": "stdout",
     "output_type": "stream",
     "text": [
      "[SYST] Prepare Data\n"
     ]
    },
    {
     "name": "stderr",
     "output_type": "stream",
     "text": [
      "100%|████████████████████████████████████████████████| 10000/10000 [00:00<00:00, 162500.64it/s]"
     ]
    },
    {
     "name": "stdout",
     "output_type": "stream",
     "text": [
      "[SYST] Epoch 0\n"
     ]
    },
    {
     "name": "stderr",
     "output_type": "stream",
     "text": [
      "\n",
      "100%|████████████████████████████████████████████████████████| 200/200 [00:19<00:00, 10.04it/s]\n"
     ]
    },
    {
     "name": "stdout",
     "output_type": "stream",
     "text": [
      "Epoch 1, Loss: 3.961137526035309\n",
      "[SYST] Epoch 1\n"
     ]
    },
    {
     "name": "stderr",
     "output_type": "stream",
     "text": [
      "100%|████████████████████████████████████████████████████████| 200/200 [00:20<00:00,  9.99it/s]\n"
     ]
    },
    {
     "name": "stdout",
     "output_type": "stream",
     "text": [
      "Epoch 2, Loss: 3.5968950057029723\n",
      "[SYST] Epoch 2\n"
     ]
    },
    {
     "name": "stderr",
     "output_type": "stream",
     "text": [
      "100%|████████████████████████████████████████████████████████| 200/200 [00:20<00:00,  9.98it/s]\n"
     ]
    },
    {
     "name": "stdout",
     "output_type": "stream",
     "text": [
      "Epoch 3, Loss: 3.5930457031726837\n",
      "[SYST] Epoch 3\n"
     ]
    },
    {
     "name": "stderr",
     "output_type": "stream",
     "text": [
      "100%|████████████████████████████████████████████████████████| 200/200 [00:19<00:00, 10.00it/s]\n"
     ]
    },
    {
     "name": "stdout",
     "output_type": "stream",
     "text": [
      "Epoch 4, Loss: 3.5918291246891023\n",
      "[SYST] Epoch 4\n"
     ]
    },
    {
     "name": "stderr",
     "output_type": "stream",
     "text": [
      "100%|████████████████████████████████████████████████████████| 200/200 [00:19<00:00, 10.04it/s]\n"
     ]
    },
    {
     "name": "stdout",
     "output_type": "stream",
     "text": [
      "Epoch 5, Loss: 3.5912958097457888\n",
      "[SYST] Epoch 5\n"
     ]
    },
    {
     "name": "stderr",
     "output_type": "stream",
     "text": [
      "100%|████████████████████████████████████████████████████████| 200/200 [00:19<00:00, 10.04it/s]\n"
     ]
    },
    {
     "name": "stdout",
     "output_type": "stream",
     "text": [
      "Epoch 6, Loss: 3.5908601772785187\n",
      "[SYST] Epoch 6\n"
     ]
    },
    {
     "name": "stderr",
     "output_type": "stream",
     "text": [
      "100%|████████████████████████████████████████████████████████| 200/200 [00:20<00:00,  9.96it/s]\n"
     ]
    },
    {
     "name": "stdout",
     "output_type": "stream",
     "text": [
      "Epoch 7, Loss: 3.590788415670395\n",
      "[SYST] Epoch 7\n"
     ]
    },
    {
     "name": "stderr",
     "output_type": "stream",
     "text": [
      "100%|████████████████████████████████████████████████████████| 200/200 [00:20<00:00,  9.96it/s]\n"
     ]
    },
    {
     "name": "stdout",
     "output_type": "stream",
     "text": [
      "Epoch 8, Loss: 3.5906599199771883\n",
      "[SYST] Epoch 8\n"
     ]
    },
    {
     "name": "stderr",
     "output_type": "stream",
     "text": [
      "100%|████████████████████████████████████████████████████████| 200/200 [00:19<00:00, 10.01it/s]\n"
     ]
    },
    {
     "name": "stdout",
     "output_type": "stream",
     "text": [
      "Epoch 9, Loss: 3.590458266735077\n",
      "[SYST] Epoch 9\n"
     ]
    },
    {
     "name": "stderr",
     "output_type": "stream",
     "text": [
      "100%|████████████████████████████████████████████████████████| 200/200 [00:20<00:00,  9.95it/s]\n"
     ]
    },
    {
     "name": "stdout",
     "output_type": "stream",
     "text": [
      "Epoch 10, Loss: 3.590381416082382\n",
      "[SYST] Epoch 0\n"
     ]
    },
    {
     "name": "stderr",
     "output_type": "stream",
     "text": [
      "100%|████████████████████████████████████████████████████████████| 2/2 [00:00<00:00, 13.27it/s]\n"
     ]
    },
    {
     "name": "stdout",
     "output_type": "stream",
     "text": [
      "Test Accuracy: 50.77%\n",
      "[{'accuracy': 0.9983, 'Layer1': {'[[0, 1, 2, 3, 4, 5, 6, 7]]': 0.5013, '[[0, 1]]': 0.5039, '[[0]]': 0.5082}, 'Layer2': {'[[0, 1, 2, 3, 4, 5, 6, 7]]': 0.5037, '[[0, 1]]': 0.5032, '[[0]]': 0.5075}, 'Layer3': {'[[0, 1, 2, 3, 4, 5, 6, 7]]': 0.4925, '[[0, 1]]': 0.5037, '[[0]]': 0.5081}}, {'accuracy': 0.9983, 'Layer1': {'[[0, 1, 2, 3, 4, 5, 6, 7]]': 0.5012, '[[0, 1]]': 0.5059, '[[0]]': 0.4956}, 'Layer2': {'[[0, 1, 2, 3, 4, 5, 6, 7]]': 0.5027, '[[0, 1]]': 0.4957, '[[0]]': 0.493}, 'Layer3': {'[[0, 1, 2, 3, 4, 5, 6, 7]]': 0.4966, '[[0, 1]]': 0.4996, '[[0]]': 0.5071}}, {'accuracy': 0.9906, 'Layer1': {'[[0, 1, 2, 3, 4, 5, 6, 7]]': 0.4964, '[[0, 1]]': 0.5118, '[[0]]': 0.5024}, 'Layer2': {'[[0, 1, 2, 3, 4, 5, 6, 7]]': 0.4993, '[[0, 1]]': 0.4958, '[[0]]': 0.5061}, 'Layer3': {'[[0, 1, 2, 3, 4, 5, 6, 7]]': 0.4949, '[[0, 1]]': 0.5015, '[[0]]': 0.4977}}, {'accuracy': 0.9955, 'Layer1': {'[[0, 1, 2, 3, 4, 5, 6, 7]]': 0.5024, '[[0, 1]]': 0.5025, '[[0]]': 0.4974}, 'Layer2': {'[[0, 1, 2, 3, 4, 5, 6, 7]]': 0.5068, '[[0, 1]]': 0.5074, '[[0]]': 0.5021}, 'Layer3': {'[[0, 1, 2, 3, 4, 5, 6, 7]]': 0.5036, '[[0, 1]]': 0.5027, '[[0]]': 0.4986}}, {'accuracy': 0.9864, 'Layer1': {'[[0, 1, 2, 3, 4, 5, 6, 7]]': 0.5007, '[[0, 1]]': 0.497, '[[0]]': 0.5085}, 'Layer2': {'[[0, 1, 2, 3, 4, 5, 6, 7]]': 0.4965, '[[0, 1]]': 0.5008, '[[0]]': 0.5003}, 'Layer3': {'[[0, 1, 2, 3, 4, 5, 6, 7]]': 0.4993, '[[0, 1]]': 0.4952, '[[0]]': 0.5048}}, {'accuracy': 0.9995, 'Layer1': {'[[0, 1, 2, 3, 4, 5, 6, 7]]': 0.5043, '[[0, 1]]': 0.5061, '[[0]]': 0.5006}, 'Layer2': {'[[0, 1, 2, 3, 4, 5, 6, 7]]': 0.4927, '[[0, 1]]': 0.4921, '[[0]]': 0.5033}, 'Layer3': {'[[0, 1, 2, 3, 4, 5, 6, 7]]': 0.4967, '[[0, 1]]': 0.5004, '[[0]]': 0.501}}, {'accuracy': 0.9979, 'Layer1': {'[[0, 1, 2, 3, 4, 5, 6, 7]]': 0.5176, '[[0, 1]]': 0.4983, '[[0]]': 0.4984}, 'Layer2': {'[[0, 1, 2, 3, 4, 5, 6, 7]]': 0.4892, '[[0, 1]]': 0.4958, '[[0]]': 0.499}, 'Layer3': {'[[0, 1, 2, 3, 4, 5, 6, 7]]': 0.4996, '[[0, 1]]': 0.4996, '[[0]]': 0.4993}}, {'accuracy': 0.996, 'Layer1': {'[[0, 1, 2, 3, 4, 5, 6, 7]]': 0.5062, '[[0, 1]]': 0.5132, '[[0]]': 0.4955}, 'Layer2': {'[[0, 1, 2, 3, 4, 5, 6, 7]]': 0.4995, '[[0, 1]]': 0.5061, '[[0]]': 0.4957}, 'Layer3': {'[[0, 1, 2, 3, 4, 5, 6, 7]]': 0.5104, '[[0, 1]]': 0.5121, '[[0]]': 0.5077}}]\n"
     ]
    },
    {
     "name": "stderr",
     "output_type": "stream",
     "text": [
      "100%|████████████████████████████████████████████| 1048576/1048576 [00:10<00:00, 100329.00it/s]\n",
      "100%|█████████████████████████████████████████████████████| 1024/1024 [00:08<00:00, 120.71it/s]\n"
     ]
    },
    {
     "name": "stdout",
     "output_type": "stream",
     "text": [
      "Epoch 1, Loss: 0.40482930051803123\n"
     ]
    },
    {
     "name": "stderr",
     "output_type": "stream",
     "text": [
      "100%|█████████████████████████████████████████████████████| 1024/1024 [00:09<00:00, 111.89it/s]\n"
     ]
    },
    {
     "name": "stdout",
     "output_type": "stream",
     "text": [
      "Epoch 2, Loss: 0.047778037805073836\n"
     ]
    },
    {
     "name": "stderr",
     "output_type": "stream",
     "text": [
      "100%|█████████████████████████████████████████████████████| 1024/1024 [00:09<00:00, 112.78it/s]\n"
     ]
    },
    {
     "name": "stdout",
     "output_type": "stream",
     "text": [
      "Epoch 3, Loss: 0.011844144092947317\n"
     ]
    },
    {
     "name": "stderr",
     "output_type": "stream",
     "text": [
      "100%|█████████████████████████████████████████████████| 10000/10000 [00:00<00:00, 97863.08it/s]\n",
      "100%|█████████████████████████████████████████████████████████| 10/10 [00:00<00:00, 159.73it/s]\n"
     ]
    },
    {
     "name": "stdout",
     "output_type": "stream",
     "text": [
      "Test Accuracy: 0.9975\n",
      "Layer1 : [[0, 1, 2, 3, 4, 5, 6, 7]]\n"
     ]
    },
    {
     "name": "stderr",
     "output_type": "stream",
     "text": [
      "100%|█████████████████████████████████████████████| 1280000/1280000 [01:23<00:00, 15307.80it/s]\n",
      "100%|█████████████████████████████████████████████████| 10000/10000 [00:00<00:00, 16791.43it/s]\n"
     ]
    },
    {
     "name": "stdout",
     "output_type": "stream",
     "text": [
      "[SYST] Prepare Data\n"
     ]
    },
    {
     "name": "stderr",
     "output_type": "stream",
     "text": [
      "100%|████████████████████████████████████████████| 1280000/1280000 [00:08<00:00, 145020.29it/s]\n"
     ]
    },
    {
     "name": "stdout",
     "output_type": "stream",
     "text": [
      "[SYST] Prepare Data\n"
     ]
    },
    {
     "name": "stderr",
     "output_type": "stream",
     "text": [
      "100%|████████████████████████████████████████████████| 10000/10000 [00:00<00:00, 146499.80it/s]"
     ]
    },
    {
     "name": "stdout",
     "output_type": "stream",
     "text": [
      "[SYST] Epoch 0\n"
     ]
    },
    {
     "name": "stderr",
     "output_type": "stream",
     "text": [
      "\n",
      "100%|████████████████████████████████████████████████████████| 200/200 [00:19<00:00, 10.00it/s]\n"
     ]
    },
    {
     "name": "stdout",
     "output_type": "stream",
     "text": [
      "Epoch 1, Loss: 5.595932829380035\n",
      "[SYST] Epoch 1\n"
     ]
    },
    {
     "name": "stderr",
     "output_type": "stream",
     "text": [
      "100%|████████████████████████████████████████████████████████| 200/200 [00:20<00:00,  9.84it/s]\n"
     ]
    },
    {
     "name": "stdout",
     "output_type": "stream",
     "text": [
      "Epoch 2, Loss: 3.923181563615799\n",
      "[SYST] Epoch 2\n"
     ]
    },
    {
     "name": "stderr",
     "output_type": "stream",
     "text": [
      "100%|████████████████████████████████████████████████████████| 200/200 [00:20<00:00,  9.80it/s]\n"
     ]
    },
    {
     "name": "stdout",
     "output_type": "stream",
     "text": [
      "Epoch 3, Loss: 3.6890714454650877\n",
      "[SYST] Epoch 3\n"
     ]
    },
    {
     "name": "stderr",
     "output_type": "stream",
     "text": [
      "100%|████████████████████████████████████████████████████████| 200/200 [00:20<00:00,  9.85it/s]\n"
     ]
    },
    {
     "name": "stdout",
     "output_type": "stream",
     "text": [
      "Epoch 4, Loss: 3.6149335777759553\n",
      "[SYST] Epoch 4\n"
     ]
    },
    {
     "name": "stderr",
     "output_type": "stream",
     "text": [
      "100%|████████████████████████████████████████████████████████| 200/200 [00:20<00:00,  9.83it/s]\n"
     ]
    },
    {
     "name": "stdout",
     "output_type": "stream",
     "text": [
      "Epoch 5, Loss: 3.5747544348239897\n",
      "[SYST] Epoch 5\n"
     ]
    },
    {
     "name": "stderr",
     "output_type": "stream",
     "text": [
      "100%|████████████████████████████████████████████████████████| 200/200 [00:20<00:00,  9.79it/s]\n"
     ]
    },
    {
     "name": "stdout",
     "output_type": "stream",
     "text": [
      "Epoch 6, Loss: 3.548391441106796\n",
      "[SYST] Epoch 6\n"
     ]
    },
    {
     "name": "stderr",
     "output_type": "stream",
     "text": [
      "100%|████████████████████████████████████████████████████████| 200/200 [00:20<00:00,  9.78it/s]\n"
     ]
    },
    {
     "name": "stdout",
     "output_type": "stream",
     "text": [
      "Epoch 7, Loss: 3.528205877542496\n",
      "[SYST] Epoch 7\n"
     ]
    },
    {
     "name": "stderr",
     "output_type": "stream",
     "text": [
      "100%|████████████████████████████████████████████████████████| 200/200 [00:20<00:00,  9.81it/s]\n"
     ]
    },
    {
     "name": "stdout",
     "output_type": "stream",
     "text": [
      "Epoch 8, Loss: 3.5123446702957155\n",
      "[SYST] Epoch 8\n"
     ]
    },
    {
     "name": "stderr",
     "output_type": "stream",
     "text": [
      "100%|████████████████████████████████████████████████████████| 200/200 [00:20<00:00,  9.80it/s]\n"
     ]
    },
    {
     "name": "stdout",
     "output_type": "stream",
     "text": [
      "Epoch 9, Loss: 3.4982355260849\n",
      "[SYST] Epoch 9\n"
     ]
    },
    {
     "name": "stderr",
     "output_type": "stream",
     "text": [
      "100%|████████████████████████████████████████████████████████| 200/200 [00:20<00:00,  9.84it/s]\n"
     ]
    },
    {
     "name": "stdout",
     "output_type": "stream",
     "text": [
      "Epoch 10, Loss: 3.4852601253986357\n",
      "[SYST] Epoch 0\n"
     ]
    },
    {
     "name": "stderr",
     "output_type": "stream",
     "text": [
      "100%|████████████████████████████████████████████████████████████| 2/2 [00:00<00:00, 13.12it/s]\n"
     ]
    },
    {
     "name": "stdout",
     "output_type": "stream",
     "text": [
      "Test Accuracy: 49.32%\n",
      "[{'accuracy': 0.9983, 'Layer1': {'[[0, 1, 2, 3, 4, 5, 6, 7]]': 0.5013, '[[0, 1]]': 0.5039, '[[0]]': 0.5082}, 'Layer2': {'[[0, 1, 2, 3, 4, 5, 6, 7]]': 0.5037, '[[0, 1]]': 0.5032, '[[0]]': 0.5075}, 'Layer3': {'[[0, 1, 2, 3, 4, 5, 6, 7]]': 0.4925, '[[0, 1]]': 0.5037, '[[0]]': 0.5081}}, {'accuracy': 0.9983, 'Layer1': {'[[0, 1, 2, 3, 4, 5, 6, 7]]': 0.5012, '[[0, 1]]': 0.5059, '[[0]]': 0.4956}, 'Layer2': {'[[0, 1, 2, 3, 4, 5, 6, 7]]': 0.5027, '[[0, 1]]': 0.4957, '[[0]]': 0.493}, 'Layer3': {'[[0, 1, 2, 3, 4, 5, 6, 7]]': 0.4966, '[[0, 1]]': 0.4996, '[[0]]': 0.5071}}, {'accuracy': 0.9906, 'Layer1': {'[[0, 1, 2, 3, 4, 5, 6, 7]]': 0.4964, '[[0, 1]]': 0.5118, '[[0]]': 0.5024}, 'Layer2': {'[[0, 1, 2, 3, 4, 5, 6, 7]]': 0.4993, '[[0, 1]]': 0.4958, '[[0]]': 0.5061}, 'Layer3': {'[[0, 1, 2, 3, 4, 5, 6, 7]]': 0.4949, '[[0, 1]]': 0.5015, '[[0]]': 0.4977}}, {'accuracy': 0.9955, 'Layer1': {'[[0, 1, 2, 3, 4, 5, 6, 7]]': 0.5024, '[[0, 1]]': 0.5025, '[[0]]': 0.4974}, 'Layer2': {'[[0, 1, 2, 3, 4, 5, 6, 7]]': 0.5068, '[[0, 1]]': 0.5074, '[[0]]': 0.5021}, 'Layer3': {'[[0, 1, 2, 3, 4, 5, 6, 7]]': 0.5036, '[[0, 1]]': 0.5027, '[[0]]': 0.4986}}, {'accuracy': 0.9864, 'Layer1': {'[[0, 1, 2, 3, 4, 5, 6, 7]]': 0.5007, '[[0, 1]]': 0.497, '[[0]]': 0.5085}, 'Layer2': {'[[0, 1, 2, 3, 4, 5, 6, 7]]': 0.4965, '[[0, 1]]': 0.5008, '[[0]]': 0.5003}, 'Layer3': {'[[0, 1, 2, 3, 4, 5, 6, 7]]': 0.4993, '[[0, 1]]': 0.4952, '[[0]]': 0.5048}}, {'accuracy': 0.9995, 'Layer1': {'[[0, 1, 2, 3, 4, 5, 6, 7]]': 0.5043, '[[0, 1]]': 0.5061, '[[0]]': 0.5006}, 'Layer2': {'[[0, 1, 2, 3, 4, 5, 6, 7]]': 0.4927, '[[0, 1]]': 0.4921, '[[0]]': 0.5033}, 'Layer3': {'[[0, 1, 2, 3, 4, 5, 6, 7]]': 0.4967, '[[0, 1]]': 0.5004, '[[0]]': 0.501}}, {'accuracy': 0.9979, 'Layer1': {'[[0, 1, 2, 3, 4, 5, 6, 7]]': 0.5176, '[[0, 1]]': 0.4983, '[[0]]': 0.4984}, 'Layer2': {'[[0, 1, 2, 3, 4, 5, 6, 7]]': 0.4892, '[[0, 1]]': 0.4958, '[[0]]': 0.499}, 'Layer3': {'[[0, 1, 2, 3, 4, 5, 6, 7]]': 0.4996, '[[0, 1]]': 0.4996, '[[0]]': 0.4993}}, {'accuracy': 0.996, 'Layer1': {'[[0, 1, 2, 3, 4, 5, 6, 7]]': 0.5062, '[[0, 1]]': 0.5132, '[[0]]': 0.4955}, 'Layer2': {'[[0, 1, 2, 3, 4, 5, 6, 7]]': 0.4995, '[[0, 1]]': 0.5061, '[[0]]': 0.4957}, 'Layer3': {'[[0, 1, 2, 3, 4, 5, 6, 7]]': 0.5104, '[[0, 1]]': 0.5121, '[[0]]': 0.5077}}, {'accuracy': 0.9975, 'Layer1': {'[[0, 1, 2, 3, 4, 5, 6, 7]]': 0.4932}}]\n",
      "Layer1 : [[0, 1]]\n"
     ]
    },
    {
     "name": "stderr",
     "output_type": "stream",
     "text": [
      "100%|█████████████████████████████████████████████| 1280000/1280000 [01:23<00:00, 15421.16it/s]\n",
      "100%|█████████████████████████████████████████████████| 10000/10000 [00:00<00:00, 16799.36it/s]\n"
     ]
    },
    {
     "name": "stdout",
     "output_type": "stream",
     "text": [
      "[SYST] Prepare Data\n"
     ]
    },
    {
     "name": "stderr",
     "output_type": "stream",
     "text": [
      "100%|████████████████████████████████████████████| 1280000/1280000 [00:08<00:00, 158429.05it/s]\n"
     ]
    },
    {
     "name": "stdout",
     "output_type": "stream",
     "text": [
      "[SYST] Prepare Data\n"
     ]
    },
    {
     "name": "stderr",
     "output_type": "stream",
     "text": [
      "100%|████████████████████████████████████████████████| 10000/10000 [00:00<00:00, 157647.41it/s]"
     ]
    },
    {
     "name": "stdout",
     "output_type": "stream",
     "text": [
      "[SYST] Epoch 0\n"
     ]
    },
    {
     "name": "stderr",
     "output_type": "stream",
     "text": [
      "\n",
      "100%|████████████████████████████████████████████████████████| 200/200 [00:19<00:00, 10.16it/s]\n"
     ]
    },
    {
     "name": "stdout",
     "output_type": "stream",
     "text": [
      "Epoch 1, Loss: 5.061354248523712\n",
      "[SYST] Epoch 1\n"
     ]
    },
    {
     "name": "stderr",
     "output_type": "stream",
     "text": [
      "100%|████████████████████████████████████████████████████████| 200/200 [00:20<00:00,  9.99it/s]\n"
     ]
    },
    {
     "name": "stdout",
     "output_type": "stream",
     "text": [
      "Epoch 2, Loss: 4.653534727096558\n",
      "[SYST] Epoch 2\n"
     ]
    },
    {
     "name": "stderr",
     "output_type": "stream",
     "text": [
      "100%|████████████████████████████████████████████████████████| 200/200 [00:20<00:00,  9.95it/s]\n"
     ]
    },
    {
     "name": "stdout",
     "output_type": "stream",
     "text": [
      "Epoch 3, Loss: 4.520630757808686\n",
      "[SYST] Epoch 3\n"
     ]
    },
    {
     "name": "stderr",
     "output_type": "stream",
     "text": [
      "100%|████████████████████████████████████████████████████████| 200/200 [00:20<00:00,  9.98it/s]\n"
     ]
    },
    {
     "name": "stdout",
     "output_type": "stream",
     "text": [
      "Epoch 4, Loss: 4.411726109981537\n",
      "[SYST] Epoch 4\n"
     ]
    },
    {
     "name": "stderr",
     "output_type": "stream",
     "text": [
      "100%|████████████████████████████████████████████████████████| 200/200 [00:20<00:00,  9.99it/s]\n"
     ]
    },
    {
     "name": "stdout",
     "output_type": "stream",
     "text": [
      "Epoch 5, Loss: 4.277239532470703\n",
      "[SYST] Epoch 5\n"
     ]
    },
    {
     "name": "stderr",
     "output_type": "stream",
     "text": [
      "100%|████████████████████████████████████████████████████████| 200/200 [00:20<00:00,  9.96it/s]\n"
     ]
    },
    {
     "name": "stdout",
     "output_type": "stream",
     "text": [
      "Epoch 6, Loss: 4.228151295185089\n",
      "[SYST] Epoch 6\n"
     ]
    },
    {
     "name": "stderr",
     "output_type": "stream",
     "text": [
      "100%|████████████████████████████████████████████████████████| 200/200 [00:19<00:00, 10.03it/s]\n"
     ]
    },
    {
     "name": "stdout",
     "output_type": "stream",
     "text": [
      "Epoch 7, Loss: 4.214767575263977\n",
      "[SYST] Epoch 7\n"
     ]
    },
    {
     "name": "stderr",
     "output_type": "stream",
     "text": [
      "100%|████████████████████████████████████████████████████████| 200/200 [00:20<00:00,  9.98it/s]\n"
     ]
    },
    {
     "name": "stdout",
     "output_type": "stream",
     "text": [
      "Epoch 8, Loss: 4.211500549316407\n",
      "[SYST] Epoch 8\n"
     ]
    },
    {
     "name": "stderr",
     "output_type": "stream",
     "text": [
      "100%|████████████████████████████████████████████████████████| 200/200 [00:19<00:00, 10.03it/s]\n"
     ]
    },
    {
     "name": "stdout",
     "output_type": "stream",
     "text": [
      "Epoch 9, Loss: 4.210815290212631\n",
      "[SYST] Epoch 9\n"
     ]
    },
    {
     "name": "stderr",
     "output_type": "stream",
     "text": [
      "100%|████████████████████████████████████████████████████████| 200/200 [00:20<00:00,  9.99it/s]\n"
     ]
    },
    {
     "name": "stdout",
     "output_type": "stream",
     "text": [
      "Epoch 10, Loss: 4.210765873193741\n",
      "[SYST] Epoch 0\n"
     ]
    },
    {
     "name": "stderr",
     "output_type": "stream",
     "text": [
      "100%|████████████████████████████████████████████████████████████| 2/2 [00:00<00:00, 13.32it/s]\n"
     ]
    },
    {
     "name": "stdout",
     "output_type": "stream",
     "text": [
      "Test Accuracy: 49.43%\n",
      "[{'accuracy': 0.9983, 'Layer1': {'[[0, 1, 2, 3, 4, 5, 6, 7]]': 0.5013, '[[0, 1]]': 0.5039, '[[0]]': 0.5082}, 'Layer2': {'[[0, 1, 2, 3, 4, 5, 6, 7]]': 0.5037, '[[0, 1]]': 0.5032, '[[0]]': 0.5075}, 'Layer3': {'[[0, 1, 2, 3, 4, 5, 6, 7]]': 0.4925, '[[0, 1]]': 0.5037, '[[0]]': 0.5081}}, {'accuracy': 0.9983, 'Layer1': {'[[0, 1, 2, 3, 4, 5, 6, 7]]': 0.5012, '[[0, 1]]': 0.5059, '[[0]]': 0.4956}, 'Layer2': {'[[0, 1, 2, 3, 4, 5, 6, 7]]': 0.5027, '[[0, 1]]': 0.4957, '[[0]]': 0.493}, 'Layer3': {'[[0, 1, 2, 3, 4, 5, 6, 7]]': 0.4966, '[[0, 1]]': 0.4996, '[[0]]': 0.5071}}, {'accuracy': 0.9906, 'Layer1': {'[[0, 1, 2, 3, 4, 5, 6, 7]]': 0.4964, '[[0, 1]]': 0.5118, '[[0]]': 0.5024}, 'Layer2': {'[[0, 1, 2, 3, 4, 5, 6, 7]]': 0.4993, '[[0, 1]]': 0.4958, '[[0]]': 0.5061}, 'Layer3': {'[[0, 1, 2, 3, 4, 5, 6, 7]]': 0.4949, '[[0, 1]]': 0.5015, '[[0]]': 0.4977}}, {'accuracy': 0.9955, 'Layer1': {'[[0, 1, 2, 3, 4, 5, 6, 7]]': 0.5024, '[[0, 1]]': 0.5025, '[[0]]': 0.4974}, 'Layer2': {'[[0, 1, 2, 3, 4, 5, 6, 7]]': 0.5068, '[[0, 1]]': 0.5074, '[[0]]': 0.5021}, 'Layer3': {'[[0, 1, 2, 3, 4, 5, 6, 7]]': 0.5036, '[[0, 1]]': 0.5027, '[[0]]': 0.4986}}, {'accuracy': 0.9864, 'Layer1': {'[[0, 1, 2, 3, 4, 5, 6, 7]]': 0.5007, '[[0, 1]]': 0.497, '[[0]]': 0.5085}, 'Layer2': {'[[0, 1, 2, 3, 4, 5, 6, 7]]': 0.4965, '[[0, 1]]': 0.5008, '[[0]]': 0.5003}, 'Layer3': {'[[0, 1, 2, 3, 4, 5, 6, 7]]': 0.4993, '[[0, 1]]': 0.4952, '[[0]]': 0.5048}}, {'accuracy': 0.9995, 'Layer1': {'[[0, 1, 2, 3, 4, 5, 6, 7]]': 0.5043, '[[0, 1]]': 0.5061, '[[0]]': 0.5006}, 'Layer2': {'[[0, 1, 2, 3, 4, 5, 6, 7]]': 0.4927, '[[0, 1]]': 0.4921, '[[0]]': 0.5033}, 'Layer3': {'[[0, 1, 2, 3, 4, 5, 6, 7]]': 0.4967, '[[0, 1]]': 0.5004, '[[0]]': 0.501}}, {'accuracy': 0.9979, 'Layer1': {'[[0, 1, 2, 3, 4, 5, 6, 7]]': 0.5176, '[[0, 1]]': 0.4983, '[[0]]': 0.4984}, 'Layer2': {'[[0, 1, 2, 3, 4, 5, 6, 7]]': 0.4892, '[[0, 1]]': 0.4958, '[[0]]': 0.499}, 'Layer3': {'[[0, 1, 2, 3, 4, 5, 6, 7]]': 0.4996, '[[0, 1]]': 0.4996, '[[0]]': 0.4993}}, {'accuracy': 0.996, 'Layer1': {'[[0, 1, 2, 3, 4, 5, 6, 7]]': 0.5062, '[[0, 1]]': 0.5132, '[[0]]': 0.4955}, 'Layer2': {'[[0, 1, 2, 3, 4, 5, 6, 7]]': 0.4995, '[[0, 1]]': 0.5061, '[[0]]': 0.4957}, 'Layer3': {'[[0, 1, 2, 3, 4, 5, 6, 7]]': 0.5104, '[[0, 1]]': 0.5121, '[[0]]': 0.5077}}, {'accuracy': 0.9975, 'Layer1': {'[[0, 1, 2, 3, 4, 5, 6, 7]]': 0.4932, '[[0, 1]]': 0.4943}}]\n",
      "Layer1 : [[0]]\n"
     ]
    },
    {
     "name": "stderr",
     "output_type": "stream",
     "text": [
      "100%|█████████████████████████████████████████████| 1280000/1280000 [01:22<00:00, 15458.01it/s]\n",
      "100%|█████████████████████████████████████████████████| 10000/10000 [00:00<00:00, 16836.26it/s]\n"
     ]
    },
    {
     "name": "stdout",
     "output_type": "stream",
     "text": [
      "[SYST] Prepare Data\n"
     ]
    },
    {
     "name": "stderr",
     "output_type": "stream",
     "text": [
      "100%|████████████████████████████████████████████| 1280000/1280000 [00:07<00:00, 162344.39it/s]\n"
     ]
    },
    {
     "name": "stdout",
     "output_type": "stream",
     "text": [
      "[SYST] Prepare Data\n"
     ]
    },
    {
     "name": "stderr",
     "output_type": "stream",
     "text": [
      "100%|████████████████████████████████████████████████| 10000/10000 [00:00<00:00, 162470.43it/s]"
     ]
    },
    {
     "name": "stdout",
     "output_type": "stream",
     "text": [
      "[SYST] Epoch 0\n"
     ]
    },
    {
     "name": "stderr",
     "output_type": "stream",
     "text": [
      "\n",
      "100%|████████████████████████████████████████████████████████| 200/200 [00:19<00:00, 10.11it/s]\n"
     ]
    },
    {
     "name": "stdout",
     "output_type": "stream",
     "text": [
      "Epoch 1, Loss: 5.262016286849976\n",
      "[SYST] Epoch 1\n"
     ]
    },
    {
     "name": "stderr",
     "output_type": "stream",
     "text": [
      "100%|████████████████████████████████████████████████████████| 200/200 [00:20<00:00,  9.96it/s]\n"
     ]
    },
    {
     "name": "stdout",
     "output_type": "stream",
     "text": [
      "Epoch 2, Loss: 4.760592656135559\n",
      "[SYST] Epoch 2\n"
     ]
    },
    {
     "name": "stderr",
     "output_type": "stream",
     "text": [
      "100%|████████████████████████████████████████████████████████| 200/200 [00:20<00:00,  9.99it/s]\n"
     ]
    },
    {
     "name": "stdout",
     "output_type": "stream",
     "text": [
      "Epoch 3, Loss: 4.646305747032166\n",
      "[SYST] Epoch 3\n"
     ]
    },
    {
     "name": "stderr",
     "output_type": "stream",
     "text": [
      "100%|████████████████████████████████████████████████████████| 200/200 [00:20<00:00,  9.95it/s]\n"
     ]
    },
    {
     "name": "stdout",
     "output_type": "stream",
     "text": [
      "Epoch 4, Loss: 4.615851907730103\n",
      "[SYST] Epoch 4\n"
     ]
    },
    {
     "name": "stderr",
     "output_type": "stream",
     "text": [
      "100%|████████████████████████████████████████████████████████| 200/200 [00:20<00:00,  9.96it/s]\n"
     ]
    },
    {
     "name": "stdout",
     "output_type": "stream",
     "text": [
      "Epoch 5, Loss: 4.604778277873993\n",
      "[SYST] Epoch 5\n"
     ]
    },
    {
     "name": "stderr",
     "output_type": "stream",
     "text": [
      "100%|████████████████████████████████████████████████████████| 200/200 [00:20<00:00,  9.98it/s]\n"
     ]
    },
    {
     "name": "stdout",
     "output_type": "stream",
     "text": [
      "Epoch 6, Loss: 4.600376315116883\n",
      "[SYST] Epoch 6\n"
     ]
    },
    {
     "name": "stderr",
     "output_type": "stream",
     "text": [
      "100%|████████████████████████████████████████████████████████| 200/200 [00:19<00:00, 10.01it/s]\n"
     ]
    },
    {
     "name": "stdout",
     "output_type": "stream",
     "text": [
      "Epoch 7, Loss: 4.598731837272644\n",
      "[SYST] Epoch 7\n"
     ]
    },
    {
     "name": "stderr",
     "output_type": "stream",
     "text": [
      "100%|████████████████████████████████████████████████████████| 200/200 [00:20<00:00,  9.98it/s]\n"
     ]
    },
    {
     "name": "stdout",
     "output_type": "stream",
     "text": [
      "Epoch 8, Loss: 4.598367393016815\n",
      "[SYST] Epoch 8\n"
     ]
    },
    {
     "name": "stderr",
     "output_type": "stream",
     "text": [
      "100%|████████████████████████████████████████████████████████| 200/200 [00:20<00:00,  9.97it/s]\n"
     ]
    },
    {
     "name": "stdout",
     "output_type": "stream",
     "text": [
      "Epoch 9, Loss: 4.597851059436798\n",
      "[SYST] Epoch 9\n"
     ]
    },
    {
     "name": "stderr",
     "output_type": "stream",
     "text": [
      "100%|████████████████████████████████████████████████████████| 200/200 [00:20<00:00,  9.94it/s]\n"
     ]
    },
    {
     "name": "stdout",
     "output_type": "stream",
     "text": [
      "Epoch 10, Loss: 4.59776745557785\n",
      "[SYST] Epoch 0\n"
     ]
    },
    {
     "name": "stderr",
     "output_type": "stream",
     "text": [
      "100%|████████████████████████████████████████████████████████████| 2/2 [00:00<00:00, 13.34it/s]\n"
     ]
    },
    {
     "name": "stdout",
     "output_type": "stream",
     "text": [
      "Test Accuracy: 50.26%\n",
      "[{'accuracy': 0.9983, 'Layer1': {'[[0, 1, 2, 3, 4, 5, 6, 7]]': 0.5013, '[[0, 1]]': 0.5039, '[[0]]': 0.5082}, 'Layer2': {'[[0, 1, 2, 3, 4, 5, 6, 7]]': 0.5037, '[[0, 1]]': 0.5032, '[[0]]': 0.5075}, 'Layer3': {'[[0, 1, 2, 3, 4, 5, 6, 7]]': 0.4925, '[[0, 1]]': 0.5037, '[[0]]': 0.5081}}, {'accuracy': 0.9983, 'Layer1': {'[[0, 1, 2, 3, 4, 5, 6, 7]]': 0.5012, '[[0, 1]]': 0.5059, '[[0]]': 0.4956}, 'Layer2': {'[[0, 1, 2, 3, 4, 5, 6, 7]]': 0.5027, '[[0, 1]]': 0.4957, '[[0]]': 0.493}, 'Layer3': {'[[0, 1, 2, 3, 4, 5, 6, 7]]': 0.4966, '[[0, 1]]': 0.4996, '[[0]]': 0.5071}}, {'accuracy': 0.9906, 'Layer1': {'[[0, 1, 2, 3, 4, 5, 6, 7]]': 0.4964, '[[0, 1]]': 0.5118, '[[0]]': 0.5024}, 'Layer2': {'[[0, 1, 2, 3, 4, 5, 6, 7]]': 0.4993, '[[0, 1]]': 0.4958, '[[0]]': 0.5061}, 'Layer3': {'[[0, 1, 2, 3, 4, 5, 6, 7]]': 0.4949, '[[0, 1]]': 0.5015, '[[0]]': 0.4977}}, {'accuracy': 0.9955, 'Layer1': {'[[0, 1, 2, 3, 4, 5, 6, 7]]': 0.5024, '[[0, 1]]': 0.5025, '[[0]]': 0.4974}, 'Layer2': {'[[0, 1, 2, 3, 4, 5, 6, 7]]': 0.5068, '[[0, 1]]': 0.5074, '[[0]]': 0.5021}, 'Layer3': {'[[0, 1, 2, 3, 4, 5, 6, 7]]': 0.5036, '[[0, 1]]': 0.5027, '[[0]]': 0.4986}}, {'accuracy': 0.9864, 'Layer1': {'[[0, 1, 2, 3, 4, 5, 6, 7]]': 0.5007, '[[0, 1]]': 0.497, '[[0]]': 0.5085}, 'Layer2': {'[[0, 1, 2, 3, 4, 5, 6, 7]]': 0.4965, '[[0, 1]]': 0.5008, '[[0]]': 0.5003}, 'Layer3': {'[[0, 1, 2, 3, 4, 5, 6, 7]]': 0.4993, '[[0, 1]]': 0.4952, '[[0]]': 0.5048}}, {'accuracy': 0.9995, 'Layer1': {'[[0, 1, 2, 3, 4, 5, 6, 7]]': 0.5043, '[[0, 1]]': 0.5061, '[[0]]': 0.5006}, 'Layer2': {'[[0, 1, 2, 3, 4, 5, 6, 7]]': 0.4927, '[[0, 1]]': 0.4921, '[[0]]': 0.5033}, 'Layer3': {'[[0, 1, 2, 3, 4, 5, 6, 7]]': 0.4967, '[[0, 1]]': 0.5004, '[[0]]': 0.501}}, {'accuracy': 0.9979, 'Layer1': {'[[0, 1, 2, 3, 4, 5, 6, 7]]': 0.5176, '[[0, 1]]': 0.4983, '[[0]]': 0.4984}, 'Layer2': {'[[0, 1, 2, 3, 4, 5, 6, 7]]': 0.4892, '[[0, 1]]': 0.4958, '[[0]]': 0.499}, 'Layer3': {'[[0, 1, 2, 3, 4, 5, 6, 7]]': 0.4996, '[[0, 1]]': 0.4996, '[[0]]': 0.4993}}, {'accuracy': 0.996, 'Layer1': {'[[0, 1, 2, 3, 4, 5, 6, 7]]': 0.5062, '[[0, 1]]': 0.5132, '[[0]]': 0.4955}, 'Layer2': {'[[0, 1, 2, 3, 4, 5, 6, 7]]': 0.4995, '[[0, 1]]': 0.5061, '[[0]]': 0.4957}, 'Layer3': {'[[0, 1, 2, 3, 4, 5, 6, 7]]': 0.5104, '[[0, 1]]': 0.5121, '[[0]]': 0.5077}}, {'accuracy': 0.9975, 'Layer1': {'[[0, 1, 2, 3, 4, 5, 6, 7]]': 0.4932, '[[0, 1]]': 0.4943, '[[0]]': 0.5026}}]\n",
      "Layer2 : [[0, 1, 2, 3, 4, 5, 6, 7]]\n"
     ]
    },
    {
     "name": "stderr",
     "output_type": "stream",
     "text": [
      "100%|█████████████████████████████████████████████| 1280000/1280000 [01:21<00:00, 15678.73it/s]\n",
      "100%|█████████████████████████████████████████████████| 10000/10000 [00:00<00:00, 16709.28it/s]\n"
     ]
    },
    {
     "name": "stdout",
     "output_type": "stream",
     "text": [
      "[SYST] Prepare Data\n"
     ]
    },
    {
     "name": "stderr",
     "output_type": "stream",
     "text": [
      "100%|████████████████████████████████████████████| 1280000/1280000 [00:08<00:00, 144584.06it/s]\n"
     ]
    },
    {
     "name": "stdout",
     "output_type": "stream",
     "text": [
      "[SYST] Prepare Data\n"
     ]
    },
    {
     "name": "stderr",
     "output_type": "stream",
     "text": [
      "100%|████████████████████████████████████████████████| 10000/10000 [00:00<00:00, 146492.64it/s]"
     ]
    },
    {
     "name": "stdout",
     "output_type": "stream",
     "text": [
      "[SYST] Epoch 0\n"
     ]
    },
    {
     "name": "stderr",
     "output_type": "stream",
     "text": [
      "\n",
      "100%|████████████████████████████████████████████████████████| 200/200 [00:19<00:00, 10.01it/s]\n"
     ]
    },
    {
     "name": "stdout",
     "output_type": "stream",
     "text": [
      "Epoch 1, Loss: 4.3711578965187075\n",
      "[SYST] Epoch 1\n"
     ]
    },
    {
     "name": "stderr",
     "output_type": "stream",
     "text": [
      "100%|████████████████████████████████████████████████████████| 200/200 [00:20<00:00,  9.82it/s]\n"
     ]
    },
    {
     "name": "stdout",
     "output_type": "stream",
     "text": [
      "Epoch 2, Loss: 3.970457566976547\n",
      "[SYST] Epoch 2\n"
     ]
    },
    {
     "name": "stderr",
     "output_type": "stream",
     "text": [
      "100%|████████████████████████████████████████████████████████| 200/200 [00:20<00:00,  9.91it/s]\n"
     ]
    },
    {
     "name": "stdout",
     "output_type": "stream",
     "text": [
      "Epoch 3, Loss: 3.940607389211655\n",
      "[SYST] Epoch 3\n"
     ]
    },
    {
     "name": "stderr",
     "output_type": "stream",
     "text": [
      "100%|████████████████████████████████████████████████████████| 200/200 [00:20<00:00,  9.87it/s]\n"
     ]
    },
    {
     "name": "stdout",
     "output_type": "stream",
     "text": [
      "Epoch 4, Loss: 3.928549803495407\n",
      "[SYST] Epoch 4\n"
     ]
    },
    {
     "name": "stderr",
     "output_type": "stream",
     "text": [
      "100%|████████████████████████████████████████████████████████| 200/200 [00:20<00:00,  9.86it/s]\n"
     ]
    },
    {
     "name": "stdout",
     "output_type": "stream",
     "text": [
      "Epoch 5, Loss: 3.920349813699722\n",
      "[SYST] Epoch 5\n"
     ]
    },
    {
     "name": "stderr",
     "output_type": "stream",
     "text": [
      "100%|████████████████████████████████████████████████████████| 200/200 [00:20<00:00,  9.86it/s]\n"
     ]
    },
    {
     "name": "stdout",
     "output_type": "stream",
     "text": [
      "Epoch 6, Loss: 3.9148310446739196\n",
      "[SYST] Epoch 6\n"
     ]
    },
    {
     "name": "stderr",
     "output_type": "stream",
     "text": [
      "100%|████████████████████████████████████████████████████████| 200/200 [00:20<00:00,  9.85it/s]\n"
     ]
    },
    {
     "name": "stdout",
     "output_type": "stream",
     "text": [
      "Epoch 7, Loss: 3.9106791472434996\n",
      "[SYST] Epoch 7\n"
     ]
    },
    {
     "name": "stderr",
     "output_type": "stream",
     "text": [
      "100%|████████████████████████████████████████████████████████| 200/200 [00:20<00:00,  9.90it/s]\n"
     ]
    },
    {
     "name": "stdout",
     "output_type": "stream",
     "text": [
      "Epoch 8, Loss: 3.9069672322273252\n",
      "[SYST] Epoch 8\n"
     ]
    },
    {
     "name": "stderr",
     "output_type": "stream",
     "text": [
      "100%|████████████████████████████████████████████████████████| 200/200 [00:20<00:00,  9.88it/s]\n"
     ]
    },
    {
     "name": "stdout",
     "output_type": "stream",
     "text": [
      "Epoch 9, Loss: 3.9042954015731812\n",
      "[SYST] Epoch 9\n"
     ]
    },
    {
     "name": "stderr",
     "output_type": "stream",
     "text": [
      "100%|████████████████████████████████████████████████████████| 200/200 [00:20<00:00,  9.76it/s]\n"
     ]
    },
    {
     "name": "stdout",
     "output_type": "stream",
     "text": [
      "Epoch 10, Loss: 3.9020514810085296\n",
      "[SYST] Epoch 0\n"
     ]
    },
    {
     "name": "stderr",
     "output_type": "stream",
     "text": [
      "100%|████████████████████████████████████████████████████████████| 2/2 [00:00<00:00, 13.28it/s]\n"
     ]
    },
    {
     "name": "stdout",
     "output_type": "stream",
     "text": [
      "Test Accuracy: 49.81%\n",
      "[{'accuracy': 0.9983, 'Layer1': {'[[0, 1, 2, 3, 4, 5, 6, 7]]': 0.5013, '[[0, 1]]': 0.5039, '[[0]]': 0.5082}, 'Layer2': {'[[0, 1, 2, 3, 4, 5, 6, 7]]': 0.5037, '[[0, 1]]': 0.5032, '[[0]]': 0.5075}, 'Layer3': {'[[0, 1, 2, 3, 4, 5, 6, 7]]': 0.4925, '[[0, 1]]': 0.5037, '[[0]]': 0.5081}}, {'accuracy': 0.9983, 'Layer1': {'[[0, 1, 2, 3, 4, 5, 6, 7]]': 0.5012, '[[0, 1]]': 0.5059, '[[0]]': 0.4956}, 'Layer2': {'[[0, 1, 2, 3, 4, 5, 6, 7]]': 0.5027, '[[0, 1]]': 0.4957, '[[0]]': 0.493}, 'Layer3': {'[[0, 1, 2, 3, 4, 5, 6, 7]]': 0.4966, '[[0, 1]]': 0.4996, '[[0]]': 0.5071}}, {'accuracy': 0.9906, 'Layer1': {'[[0, 1, 2, 3, 4, 5, 6, 7]]': 0.4964, '[[0, 1]]': 0.5118, '[[0]]': 0.5024}, 'Layer2': {'[[0, 1, 2, 3, 4, 5, 6, 7]]': 0.4993, '[[0, 1]]': 0.4958, '[[0]]': 0.5061}, 'Layer3': {'[[0, 1, 2, 3, 4, 5, 6, 7]]': 0.4949, '[[0, 1]]': 0.5015, '[[0]]': 0.4977}}, {'accuracy': 0.9955, 'Layer1': {'[[0, 1, 2, 3, 4, 5, 6, 7]]': 0.5024, '[[0, 1]]': 0.5025, '[[0]]': 0.4974}, 'Layer2': {'[[0, 1, 2, 3, 4, 5, 6, 7]]': 0.5068, '[[0, 1]]': 0.5074, '[[0]]': 0.5021}, 'Layer3': {'[[0, 1, 2, 3, 4, 5, 6, 7]]': 0.5036, '[[0, 1]]': 0.5027, '[[0]]': 0.4986}}, {'accuracy': 0.9864, 'Layer1': {'[[0, 1, 2, 3, 4, 5, 6, 7]]': 0.5007, '[[0, 1]]': 0.497, '[[0]]': 0.5085}, 'Layer2': {'[[0, 1, 2, 3, 4, 5, 6, 7]]': 0.4965, '[[0, 1]]': 0.5008, '[[0]]': 0.5003}, 'Layer3': {'[[0, 1, 2, 3, 4, 5, 6, 7]]': 0.4993, '[[0, 1]]': 0.4952, '[[0]]': 0.5048}}, {'accuracy': 0.9995, 'Layer1': {'[[0, 1, 2, 3, 4, 5, 6, 7]]': 0.5043, '[[0, 1]]': 0.5061, '[[0]]': 0.5006}, 'Layer2': {'[[0, 1, 2, 3, 4, 5, 6, 7]]': 0.4927, '[[0, 1]]': 0.4921, '[[0]]': 0.5033}, 'Layer3': {'[[0, 1, 2, 3, 4, 5, 6, 7]]': 0.4967, '[[0, 1]]': 0.5004, '[[0]]': 0.501}}, {'accuracy': 0.9979, 'Layer1': {'[[0, 1, 2, 3, 4, 5, 6, 7]]': 0.5176, '[[0, 1]]': 0.4983, '[[0]]': 0.4984}, 'Layer2': {'[[0, 1, 2, 3, 4, 5, 6, 7]]': 0.4892, '[[0, 1]]': 0.4958, '[[0]]': 0.499}, 'Layer3': {'[[0, 1, 2, 3, 4, 5, 6, 7]]': 0.4996, '[[0, 1]]': 0.4996, '[[0]]': 0.4993}}, {'accuracy': 0.996, 'Layer1': {'[[0, 1, 2, 3, 4, 5, 6, 7]]': 0.5062, '[[0, 1]]': 0.5132, '[[0]]': 0.4955}, 'Layer2': {'[[0, 1, 2, 3, 4, 5, 6, 7]]': 0.4995, '[[0, 1]]': 0.5061, '[[0]]': 0.4957}, 'Layer3': {'[[0, 1, 2, 3, 4, 5, 6, 7]]': 0.5104, '[[0, 1]]': 0.5121, '[[0]]': 0.5077}}, {'accuracy': 0.9975, 'Layer1': {'[[0, 1, 2, 3, 4, 5, 6, 7]]': 0.4932, '[[0, 1]]': 0.4943, '[[0]]': 0.5026}, 'Layer2': {'[[0, 1, 2, 3, 4, 5, 6, 7]]': 0.4981}}]\n",
      "Layer2 : [[0, 1]]\n"
     ]
    },
    {
     "name": "stderr",
     "output_type": "stream",
     "text": [
      "100%|█████████████████████████████████████████████| 1280000/1280000 [01:23<00:00, 15311.89it/s]\n",
      "100%|█████████████████████████████████████████████████| 10000/10000 [00:00<00:00, 16488.66it/s]\n"
     ]
    },
    {
     "name": "stdout",
     "output_type": "stream",
     "text": [
      "[SYST] Prepare Data\n"
     ]
    },
    {
     "name": "stderr",
     "output_type": "stream",
     "text": [
      "100%|████████████████████████████████████████████| 1280000/1280000 [00:08<00:00, 157955.97it/s]\n"
     ]
    },
    {
     "name": "stdout",
     "output_type": "stream",
     "text": [
      "[SYST] Prepare Data\n"
     ]
    },
    {
     "name": "stderr",
     "output_type": "stream",
     "text": [
      "100%|████████████████████████████████████████████████| 10000/10000 [00:00<00:00, 158624.00it/s]"
     ]
    },
    {
     "name": "stdout",
     "output_type": "stream",
     "text": [
      "[SYST] Epoch 0\n"
     ]
    },
    {
     "name": "stderr",
     "output_type": "stream",
     "text": [
      "\n",
      "100%|████████████████████████████████████████████████████████| 200/200 [00:19<00:00, 10.07it/s]\n"
     ]
    },
    {
     "name": "stdout",
     "output_type": "stream",
     "text": [
      "Epoch 1, Loss: 5.033341534137726\n",
      "[SYST] Epoch 1\n"
     ]
    },
    {
     "name": "stderr",
     "output_type": "stream",
     "text": [
      "100%|████████████████████████████████████████████████████████| 200/200 [00:19<00:00, 10.01it/s]\n"
     ]
    },
    {
     "name": "stdout",
     "output_type": "stream",
     "text": [
      "Epoch 2, Loss: 4.352913272380829\n",
      "[SYST] Epoch 2\n"
     ]
    },
    {
     "name": "stderr",
     "output_type": "stream",
     "text": [
      "100%|████████████████████████████████████████████████████████| 200/200 [00:19<00:00, 10.03it/s]\n"
     ]
    },
    {
     "name": "stdout",
     "output_type": "stream",
     "text": [
      "Epoch 3, Loss: 4.236822311878204\n",
      "[SYST] Epoch 3\n"
     ]
    },
    {
     "name": "stderr",
     "output_type": "stream",
     "text": [
      "100%|████████████████████████████████████████████████████████| 200/200 [00:19<00:00, 10.06it/s]\n"
     ]
    },
    {
     "name": "stdout",
     "output_type": "stream",
     "text": [
      "Epoch 4, Loss: 4.129132858514786\n",
      "[SYST] Epoch 4\n"
     ]
    },
    {
     "name": "stderr",
     "output_type": "stream",
     "text": [
      "100%|████████████████████████████████████████████████████████| 200/200 [00:20<00:00, 10.00it/s]\n"
     ]
    },
    {
     "name": "stdout",
     "output_type": "stream",
     "text": [
      "Epoch 5, Loss: 4.072566599845886\n",
      "[SYST] Epoch 5\n"
     ]
    },
    {
     "name": "stderr",
     "output_type": "stream",
     "text": [
      "100%|████████████████████████████████████████████████████████| 200/200 [00:19<00:00, 10.06it/s]\n"
     ]
    },
    {
     "name": "stdout",
     "output_type": "stream",
     "text": [
      "Epoch 6, Loss: 4.042298241853714\n",
      "[SYST] Epoch 6\n"
     ]
    },
    {
     "name": "stderr",
     "output_type": "stream",
     "text": [
      "100%|████████████████████████████████████████████████████████| 200/200 [00:19<00:00, 10.03it/s]\n"
     ]
    },
    {
     "name": "stdout",
     "output_type": "stream",
     "text": [
      "Epoch 7, Loss: 4.020744903087616\n",
      "[SYST] Epoch 7\n"
     ]
    },
    {
     "name": "stderr",
     "output_type": "stream",
     "text": [
      "100%|████████████████████████████████████████████████████████| 200/200 [00:19<00:00, 10.06it/s]\n"
     ]
    },
    {
     "name": "stdout",
     "output_type": "stream",
     "text": [
      "Epoch 8, Loss: 4.00446771144867\n",
      "[SYST] Epoch 8\n"
     ]
    },
    {
     "name": "stderr",
     "output_type": "stream",
     "text": [
      "100%|████████████████████████████████████████████████████████| 200/200 [00:19<00:00, 10.01it/s]\n"
     ]
    },
    {
     "name": "stdout",
     "output_type": "stream",
     "text": [
      "Epoch 9, Loss: 3.995856032371521\n",
      "[SYST] Epoch 9\n"
     ]
    },
    {
     "name": "stderr",
     "output_type": "stream",
     "text": [
      "100%|████████████████████████████████████████████████████████| 200/200 [00:19<00:00, 10.01it/s]\n"
     ]
    },
    {
     "name": "stdout",
     "output_type": "stream",
     "text": [
      "Epoch 10, Loss: 3.991596590280533\n",
      "[SYST] Epoch 0\n"
     ]
    },
    {
     "name": "stderr",
     "output_type": "stream",
     "text": [
      "100%|████████████████████████████████████████████████████████████| 2/2 [00:00<00:00, 13.56it/s]\n"
     ]
    },
    {
     "name": "stdout",
     "output_type": "stream",
     "text": [
      "Test Accuracy: 49.89%\n",
      "[{'accuracy': 0.9983, 'Layer1': {'[[0, 1, 2, 3, 4, 5, 6, 7]]': 0.5013, '[[0, 1]]': 0.5039, '[[0]]': 0.5082}, 'Layer2': {'[[0, 1, 2, 3, 4, 5, 6, 7]]': 0.5037, '[[0, 1]]': 0.5032, '[[0]]': 0.5075}, 'Layer3': {'[[0, 1, 2, 3, 4, 5, 6, 7]]': 0.4925, '[[0, 1]]': 0.5037, '[[0]]': 0.5081}}, {'accuracy': 0.9983, 'Layer1': {'[[0, 1, 2, 3, 4, 5, 6, 7]]': 0.5012, '[[0, 1]]': 0.5059, '[[0]]': 0.4956}, 'Layer2': {'[[0, 1, 2, 3, 4, 5, 6, 7]]': 0.5027, '[[0, 1]]': 0.4957, '[[0]]': 0.493}, 'Layer3': {'[[0, 1, 2, 3, 4, 5, 6, 7]]': 0.4966, '[[0, 1]]': 0.4996, '[[0]]': 0.5071}}, {'accuracy': 0.9906, 'Layer1': {'[[0, 1, 2, 3, 4, 5, 6, 7]]': 0.4964, '[[0, 1]]': 0.5118, '[[0]]': 0.5024}, 'Layer2': {'[[0, 1, 2, 3, 4, 5, 6, 7]]': 0.4993, '[[0, 1]]': 0.4958, '[[0]]': 0.5061}, 'Layer3': {'[[0, 1, 2, 3, 4, 5, 6, 7]]': 0.4949, '[[0, 1]]': 0.5015, '[[0]]': 0.4977}}, {'accuracy': 0.9955, 'Layer1': {'[[0, 1, 2, 3, 4, 5, 6, 7]]': 0.5024, '[[0, 1]]': 0.5025, '[[0]]': 0.4974}, 'Layer2': {'[[0, 1, 2, 3, 4, 5, 6, 7]]': 0.5068, '[[0, 1]]': 0.5074, '[[0]]': 0.5021}, 'Layer3': {'[[0, 1, 2, 3, 4, 5, 6, 7]]': 0.5036, '[[0, 1]]': 0.5027, '[[0]]': 0.4986}}, {'accuracy': 0.9864, 'Layer1': {'[[0, 1, 2, 3, 4, 5, 6, 7]]': 0.5007, '[[0, 1]]': 0.497, '[[0]]': 0.5085}, 'Layer2': {'[[0, 1, 2, 3, 4, 5, 6, 7]]': 0.4965, '[[0, 1]]': 0.5008, '[[0]]': 0.5003}, 'Layer3': {'[[0, 1, 2, 3, 4, 5, 6, 7]]': 0.4993, '[[0, 1]]': 0.4952, '[[0]]': 0.5048}}, {'accuracy': 0.9995, 'Layer1': {'[[0, 1, 2, 3, 4, 5, 6, 7]]': 0.5043, '[[0, 1]]': 0.5061, '[[0]]': 0.5006}, 'Layer2': {'[[0, 1, 2, 3, 4, 5, 6, 7]]': 0.4927, '[[0, 1]]': 0.4921, '[[0]]': 0.5033}, 'Layer3': {'[[0, 1, 2, 3, 4, 5, 6, 7]]': 0.4967, '[[0, 1]]': 0.5004, '[[0]]': 0.501}}, {'accuracy': 0.9979, 'Layer1': {'[[0, 1, 2, 3, 4, 5, 6, 7]]': 0.5176, '[[0, 1]]': 0.4983, '[[0]]': 0.4984}, 'Layer2': {'[[0, 1, 2, 3, 4, 5, 6, 7]]': 0.4892, '[[0, 1]]': 0.4958, '[[0]]': 0.499}, 'Layer3': {'[[0, 1, 2, 3, 4, 5, 6, 7]]': 0.4996, '[[0, 1]]': 0.4996, '[[0]]': 0.4993}}, {'accuracy': 0.996, 'Layer1': {'[[0, 1, 2, 3, 4, 5, 6, 7]]': 0.5062, '[[0, 1]]': 0.5132, '[[0]]': 0.4955}, 'Layer2': {'[[0, 1, 2, 3, 4, 5, 6, 7]]': 0.4995, '[[0, 1]]': 0.5061, '[[0]]': 0.4957}, 'Layer3': {'[[0, 1, 2, 3, 4, 5, 6, 7]]': 0.5104, '[[0, 1]]': 0.5121, '[[0]]': 0.5077}}, {'accuracy': 0.9975, 'Layer1': {'[[0, 1, 2, 3, 4, 5, 6, 7]]': 0.4932, '[[0, 1]]': 0.4943, '[[0]]': 0.5026}, 'Layer2': {'[[0, 1, 2, 3, 4, 5, 6, 7]]': 0.4981, '[[0, 1]]': 0.4989}}]\n",
      "Layer2 : [[0]]\n"
     ]
    },
    {
     "name": "stderr",
     "output_type": "stream",
     "text": [
      "100%|█████████████████████████████████████████████| 1280000/1280000 [01:21<00:00, 15647.42it/s]\n",
      "100%|█████████████████████████████████████████████████| 10000/10000 [00:00<00:00, 16938.63it/s]\n"
     ]
    },
    {
     "name": "stdout",
     "output_type": "stream",
     "text": [
      "[SYST] Prepare Data\n"
     ]
    },
    {
     "name": "stderr",
     "output_type": "stream",
     "text": [
      "100%|████████████████████████████████████████████| 1280000/1280000 [00:07<00:00, 161920.47it/s]\n"
     ]
    },
    {
     "name": "stdout",
     "output_type": "stream",
     "text": [
      "[SYST] Prepare Data\n"
     ]
    },
    {
     "name": "stderr",
     "output_type": "stream",
     "text": [
      "100%|████████████████████████████████████████████████| 10000/10000 [00:00<00:00, 164161.27it/s]"
     ]
    },
    {
     "name": "stdout",
     "output_type": "stream",
     "text": [
      "[SYST] Epoch 0\n"
     ]
    },
    {
     "name": "stderr",
     "output_type": "stream",
     "text": [
      "\n",
      "100%|████████████████████████████████████████████████████████| 200/200 [00:19<00:00, 10.05it/s]\n"
     ]
    },
    {
     "name": "stdout",
     "output_type": "stream",
     "text": [
      "Epoch 1, Loss: 5.2852113246917725\n",
      "[SYST] Epoch 1\n"
     ]
    },
    {
     "name": "stderr",
     "output_type": "stream",
     "text": [
      "100%|████████████████████████████████████████████████████████| 200/200 [00:19<00:00, 10.04it/s]\n"
     ]
    },
    {
     "name": "stdout",
     "output_type": "stream",
     "text": [
      "Epoch 2, Loss: 4.617359356880188\n",
      "[SYST] Epoch 2\n"
     ]
    },
    {
     "name": "stderr",
     "output_type": "stream",
     "text": [
      "100%|████████████████████████████████████████████████████████| 200/200 [00:19<00:00, 10.05it/s]\n"
     ]
    },
    {
     "name": "stdout",
     "output_type": "stream",
     "text": [
      "Epoch 3, Loss: 4.550762341022492\n",
      "[SYST] Epoch 3\n"
     ]
    },
    {
     "name": "stderr",
     "output_type": "stream",
     "text": [
      "100%|████████████████████████████████████████████████████████| 200/200 [00:20<00:00, 10.00it/s]\n"
     ]
    },
    {
     "name": "stdout",
     "output_type": "stream",
     "text": [
      "Epoch 4, Loss: 4.517148315906525\n",
      "[SYST] Epoch 4\n"
     ]
    },
    {
     "name": "stderr",
     "output_type": "stream",
     "text": [
      "100%|████████████████████████████████████████████████████████| 200/200 [00:19<00:00, 10.03it/s]\n"
     ]
    },
    {
     "name": "stdout",
     "output_type": "stream",
     "text": [
      "Epoch 5, Loss: 4.496625363826752\n",
      "[SYST] Epoch 5\n"
     ]
    },
    {
     "name": "stderr",
     "output_type": "stream",
     "text": [
      "100%|████████████████████████████████████████████████████████| 200/200 [00:19<00:00, 10.02it/s]\n"
     ]
    },
    {
     "name": "stdout",
     "output_type": "stream",
     "text": [
      "Epoch 6, Loss: 4.486619219779969\n",
      "[SYST] Epoch 6\n"
     ]
    },
    {
     "name": "stderr",
     "output_type": "stream",
     "text": [
      "100%|████████████████████████████████████████████████████████| 200/200 [00:20<00:00, 10.00it/s]\n"
     ]
    },
    {
     "name": "stdout",
     "output_type": "stream",
     "text": [
      "Epoch 7, Loss: 4.482556331157684\n",
      "[SYST] Epoch 7\n"
     ]
    },
    {
     "name": "stderr",
     "output_type": "stream",
     "text": [
      "100%|████████████████████████████████████████████████████████| 200/200 [00:20<00:00,  9.99it/s]\n"
     ]
    },
    {
     "name": "stdout",
     "output_type": "stream",
     "text": [
      "Epoch 8, Loss: 4.4807176542282106\n",
      "[SYST] Epoch 8\n"
     ]
    },
    {
     "name": "stderr",
     "output_type": "stream",
     "text": [
      "100%|████████████████████████████████████████████████████████| 200/200 [00:19<00:00, 10.00it/s]\n"
     ]
    },
    {
     "name": "stdout",
     "output_type": "stream",
     "text": [
      "Epoch 9, Loss: 4.479892525672913\n",
      "[SYST] Epoch 9\n"
     ]
    },
    {
     "name": "stderr",
     "output_type": "stream",
     "text": [
      "100%|████████████████████████████████████████████████████████| 200/200 [00:20<00:00,  9.99it/s]\n"
     ]
    },
    {
     "name": "stdout",
     "output_type": "stream",
     "text": [
      "Epoch 10, Loss: 4.47969176530838\n",
      "[SYST] Epoch 0\n"
     ]
    },
    {
     "name": "stderr",
     "output_type": "stream",
     "text": [
      "100%|████████████████████████████████████████████████████████████| 2/2 [00:00<00:00, 13.37it/s]\n"
     ]
    },
    {
     "name": "stdout",
     "output_type": "stream",
     "text": [
      "Test Accuracy: 49.82%\n",
      "[{'accuracy': 0.9983, 'Layer1': {'[[0, 1, 2, 3, 4, 5, 6, 7]]': 0.5013, '[[0, 1]]': 0.5039, '[[0]]': 0.5082}, 'Layer2': {'[[0, 1, 2, 3, 4, 5, 6, 7]]': 0.5037, '[[0, 1]]': 0.5032, '[[0]]': 0.5075}, 'Layer3': {'[[0, 1, 2, 3, 4, 5, 6, 7]]': 0.4925, '[[0, 1]]': 0.5037, '[[0]]': 0.5081}}, {'accuracy': 0.9983, 'Layer1': {'[[0, 1, 2, 3, 4, 5, 6, 7]]': 0.5012, '[[0, 1]]': 0.5059, '[[0]]': 0.4956}, 'Layer2': {'[[0, 1, 2, 3, 4, 5, 6, 7]]': 0.5027, '[[0, 1]]': 0.4957, '[[0]]': 0.493}, 'Layer3': {'[[0, 1, 2, 3, 4, 5, 6, 7]]': 0.4966, '[[0, 1]]': 0.4996, '[[0]]': 0.5071}}, {'accuracy': 0.9906, 'Layer1': {'[[0, 1, 2, 3, 4, 5, 6, 7]]': 0.4964, '[[0, 1]]': 0.5118, '[[0]]': 0.5024}, 'Layer2': {'[[0, 1, 2, 3, 4, 5, 6, 7]]': 0.4993, '[[0, 1]]': 0.4958, '[[0]]': 0.5061}, 'Layer3': {'[[0, 1, 2, 3, 4, 5, 6, 7]]': 0.4949, '[[0, 1]]': 0.5015, '[[0]]': 0.4977}}, {'accuracy': 0.9955, 'Layer1': {'[[0, 1, 2, 3, 4, 5, 6, 7]]': 0.5024, '[[0, 1]]': 0.5025, '[[0]]': 0.4974}, 'Layer2': {'[[0, 1, 2, 3, 4, 5, 6, 7]]': 0.5068, '[[0, 1]]': 0.5074, '[[0]]': 0.5021}, 'Layer3': {'[[0, 1, 2, 3, 4, 5, 6, 7]]': 0.5036, '[[0, 1]]': 0.5027, '[[0]]': 0.4986}}, {'accuracy': 0.9864, 'Layer1': {'[[0, 1, 2, 3, 4, 5, 6, 7]]': 0.5007, '[[0, 1]]': 0.497, '[[0]]': 0.5085}, 'Layer2': {'[[0, 1, 2, 3, 4, 5, 6, 7]]': 0.4965, '[[0, 1]]': 0.5008, '[[0]]': 0.5003}, 'Layer3': {'[[0, 1, 2, 3, 4, 5, 6, 7]]': 0.4993, '[[0, 1]]': 0.4952, '[[0]]': 0.5048}}, {'accuracy': 0.9995, 'Layer1': {'[[0, 1, 2, 3, 4, 5, 6, 7]]': 0.5043, '[[0, 1]]': 0.5061, '[[0]]': 0.5006}, 'Layer2': {'[[0, 1, 2, 3, 4, 5, 6, 7]]': 0.4927, '[[0, 1]]': 0.4921, '[[0]]': 0.5033}, 'Layer3': {'[[0, 1, 2, 3, 4, 5, 6, 7]]': 0.4967, '[[0, 1]]': 0.5004, '[[0]]': 0.501}}, {'accuracy': 0.9979, 'Layer1': {'[[0, 1, 2, 3, 4, 5, 6, 7]]': 0.5176, '[[0, 1]]': 0.4983, '[[0]]': 0.4984}, 'Layer2': {'[[0, 1, 2, 3, 4, 5, 6, 7]]': 0.4892, '[[0, 1]]': 0.4958, '[[0]]': 0.499}, 'Layer3': {'[[0, 1, 2, 3, 4, 5, 6, 7]]': 0.4996, '[[0, 1]]': 0.4996, '[[0]]': 0.4993}}, {'accuracy': 0.996, 'Layer1': {'[[0, 1, 2, 3, 4, 5, 6, 7]]': 0.5062, '[[0, 1]]': 0.5132, '[[0]]': 0.4955}, 'Layer2': {'[[0, 1, 2, 3, 4, 5, 6, 7]]': 0.4995, '[[0, 1]]': 0.5061, '[[0]]': 0.4957}, 'Layer3': {'[[0, 1, 2, 3, 4, 5, 6, 7]]': 0.5104, '[[0, 1]]': 0.5121, '[[0]]': 0.5077}}, {'accuracy': 0.9975, 'Layer1': {'[[0, 1, 2, 3, 4, 5, 6, 7]]': 0.4932, '[[0, 1]]': 0.4943, '[[0]]': 0.5026}, 'Layer2': {'[[0, 1, 2, 3, 4, 5, 6, 7]]': 0.4981, '[[0, 1]]': 0.4989, '[[0]]': 0.4982}}]\n",
      "Layer3 : [[0, 1, 2, 3, 4, 5, 6, 7]]\n"
     ]
    },
    {
     "name": "stderr",
     "output_type": "stream",
     "text": [
      "100%|█████████████████████████████████████████████| 1280000/1280000 [01:21<00:00, 15645.86it/s]\n",
      "100%|█████████████████████████████████████████████████| 10000/10000 [00:00<00:00, 16777.73it/s]\n"
     ]
    },
    {
     "name": "stdout",
     "output_type": "stream",
     "text": [
      "[SYST] Prepare Data\n"
     ]
    },
    {
     "name": "stderr",
     "output_type": "stream",
     "text": [
      "100%|████████████████████████████████████████████| 1280000/1280000 [00:08<00:00, 145030.18it/s]\n"
     ]
    },
    {
     "name": "stdout",
     "output_type": "stream",
     "text": [
      "[SYST] Prepare Data\n"
     ]
    },
    {
     "name": "stderr",
     "output_type": "stream",
     "text": [
      "100%|████████████████████████████████████████████████| 10000/10000 [00:00<00:00, 144740.48it/s]"
     ]
    },
    {
     "name": "stdout",
     "output_type": "stream",
     "text": [
      "[SYST] Epoch 0\n"
     ]
    },
    {
     "name": "stderr",
     "output_type": "stream",
     "text": [
      "\n",
      "100%|████████████████████████████████████████████████████████| 200/200 [00:19<00:00, 10.06it/s]\n"
     ]
    },
    {
     "name": "stdout",
     "output_type": "stream",
     "text": [
      "Epoch 1, Loss: 4.396799681186676\n",
      "[SYST] Epoch 1\n"
     ]
    },
    {
     "name": "stderr",
     "output_type": "stream",
     "text": [
      "100%|████████████████████████████████████████████████████████| 200/200 [00:19<00:00, 10.02it/s]\n"
     ]
    },
    {
     "name": "stdout",
     "output_type": "stream",
     "text": [
      "Epoch 2, Loss: 4.361177411079407\n",
      "[SYST] Epoch 2\n"
     ]
    },
    {
     "name": "stderr",
     "output_type": "stream",
     "text": [
      "100%|████████████████████████████████████████████████████████| 200/200 [00:20<00:00,  9.88it/s]\n"
     ]
    },
    {
     "name": "stdout",
     "output_type": "stream",
     "text": [
      "Epoch 3, Loss: 4.357234318256378\n",
      "[SYST] Epoch 3\n"
     ]
    },
    {
     "name": "stderr",
     "output_type": "stream",
     "text": [
      "100%|████████████████████████████████████████████████████████| 200/200 [00:20<00:00,  9.84it/s]\n"
     ]
    },
    {
     "name": "stdout",
     "output_type": "stream",
     "text": [
      "Epoch 4, Loss: 4.353917596340179\n",
      "[SYST] Epoch 4\n"
     ]
    },
    {
     "name": "stderr",
     "output_type": "stream",
     "text": [
      "100%|████████████████████████████████████████████████████████| 200/200 [00:20<00:00,  9.79it/s]\n"
     ]
    },
    {
     "name": "stdout",
     "output_type": "stream",
     "text": [
      "Epoch 5, Loss: 4.351726880073548\n",
      "[SYST] Epoch 5\n"
     ]
    },
    {
     "name": "stderr",
     "output_type": "stream",
     "text": [
      "100%|████████████████████████████████████████████████████████| 200/200 [00:20<00:00,  9.87it/s]\n"
     ]
    },
    {
     "name": "stdout",
     "output_type": "stream",
     "text": [
      "Epoch 6, Loss: 4.350619032382965\n",
      "[SYST] Epoch 6\n"
     ]
    },
    {
     "name": "stderr",
     "output_type": "stream",
     "text": [
      "100%|████████████████████████████████████████████████████████| 200/200 [00:20<00:00,  9.90it/s]\n"
     ]
    },
    {
     "name": "stdout",
     "output_type": "stream",
     "text": [
      "Epoch 7, Loss: 4.350294787883758\n",
      "[SYST] Epoch 7\n"
     ]
    },
    {
     "name": "stderr",
     "output_type": "stream",
     "text": [
      "100%|████████████████████████████████████████████████████████| 200/200 [00:20<00:00,  9.89it/s]\n"
     ]
    },
    {
     "name": "stdout",
     "output_type": "stream",
     "text": [
      "Epoch 8, Loss: 4.349907081127167\n",
      "[SYST] Epoch 8\n"
     ]
    },
    {
     "name": "stderr",
     "output_type": "stream",
     "text": [
      "100%|████████████████████████████████████████████████████████| 200/200 [00:20<00:00,  9.87it/s]\n"
     ]
    },
    {
     "name": "stdout",
     "output_type": "stream",
     "text": [
      "Epoch 9, Loss: 4.349900031089783\n",
      "[SYST] Epoch 9\n"
     ]
    },
    {
     "name": "stderr",
     "output_type": "stream",
     "text": [
      "100%|████████████████████████████████████████████████████████| 200/200 [00:20<00:00,  9.87it/s]\n"
     ]
    },
    {
     "name": "stdout",
     "output_type": "stream",
     "text": [
      "Epoch 10, Loss: 4.349607725143432\n",
      "[SYST] Epoch 0\n"
     ]
    },
    {
     "name": "stderr",
     "output_type": "stream",
     "text": [
      "100%|████████████████████████████████████████████████████████████| 2/2 [00:00<00:00, 13.38it/s]\n"
     ]
    },
    {
     "name": "stdout",
     "output_type": "stream",
     "text": [
      "Test Accuracy: 50.27%\n",
      "[{'accuracy': 0.9983, 'Layer1': {'[[0, 1, 2, 3, 4, 5, 6, 7]]': 0.5013, '[[0, 1]]': 0.5039, '[[0]]': 0.5082}, 'Layer2': {'[[0, 1, 2, 3, 4, 5, 6, 7]]': 0.5037, '[[0, 1]]': 0.5032, '[[0]]': 0.5075}, 'Layer3': {'[[0, 1, 2, 3, 4, 5, 6, 7]]': 0.4925, '[[0, 1]]': 0.5037, '[[0]]': 0.5081}}, {'accuracy': 0.9983, 'Layer1': {'[[0, 1, 2, 3, 4, 5, 6, 7]]': 0.5012, '[[0, 1]]': 0.5059, '[[0]]': 0.4956}, 'Layer2': {'[[0, 1, 2, 3, 4, 5, 6, 7]]': 0.5027, '[[0, 1]]': 0.4957, '[[0]]': 0.493}, 'Layer3': {'[[0, 1, 2, 3, 4, 5, 6, 7]]': 0.4966, '[[0, 1]]': 0.4996, '[[0]]': 0.5071}}, {'accuracy': 0.9906, 'Layer1': {'[[0, 1, 2, 3, 4, 5, 6, 7]]': 0.4964, '[[0, 1]]': 0.5118, '[[0]]': 0.5024}, 'Layer2': {'[[0, 1, 2, 3, 4, 5, 6, 7]]': 0.4993, '[[0, 1]]': 0.4958, '[[0]]': 0.5061}, 'Layer3': {'[[0, 1, 2, 3, 4, 5, 6, 7]]': 0.4949, '[[0, 1]]': 0.5015, '[[0]]': 0.4977}}, {'accuracy': 0.9955, 'Layer1': {'[[0, 1, 2, 3, 4, 5, 6, 7]]': 0.5024, '[[0, 1]]': 0.5025, '[[0]]': 0.4974}, 'Layer2': {'[[0, 1, 2, 3, 4, 5, 6, 7]]': 0.5068, '[[0, 1]]': 0.5074, '[[0]]': 0.5021}, 'Layer3': {'[[0, 1, 2, 3, 4, 5, 6, 7]]': 0.5036, '[[0, 1]]': 0.5027, '[[0]]': 0.4986}}, {'accuracy': 0.9864, 'Layer1': {'[[0, 1, 2, 3, 4, 5, 6, 7]]': 0.5007, '[[0, 1]]': 0.497, '[[0]]': 0.5085}, 'Layer2': {'[[0, 1, 2, 3, 4, 5, 6, 7]]': 0.4965, '[[0, 1]]': 0.5008, '[[0]]': 0.5003}, 'Layer3': {'[[0, 1, 2, 3, 4, 5, 6, 7]]': 0.4993, '[[0, 1]]': 0.4952, '[[0]]': 0.5048}}, {'accuracy': 0.9995, 'Layer1': {'[[0, 1, 2, 3, 4, 5, 6, 7]]': 0.5043, '[[0, 1]]': 0.5061, '[[0]]': 0.5006}, 'Layer2': {'[[0, 1, 2, 3, 4, 5, 6, 7]]': 0.4927, '[[0, 1]]': 0.4921, '[[0]]': 0.5033}, 'Layer3': {'[[0, 1, 2, 3, 4, 5, 6, 7]]': 0.4967, '[[0, 1]]': 0.5004, '[[0]]': 0.501}}, {'accuracy': 0.9979, 'Layer1': {'[[0, 1, 2, 3, 4, 5, 6, 7]]': 0.5176, '[[0, 1]]': 0.4983, '[[0]]': 0.4984}, 'Layer2': {'[[0, 1, 2, 3, 4, 5, 6, 7]]': 0.4892, '[[0, 1]]': 0.4958, '[[0]]': 0.499}, 'Layer3': {'[[0, 1, 2, 3, 4, 5, 6, 7]]': 0.4996, '[[0, 1]]': 0.4996, '[[0]]': 0.4993}}, {'accuracy': 0.996, 'Layer1': {'[[0, 1, 2, 3, 4, 5, 6, 7]]': 0.5062, '[[0, 1]]': 0.5132, '[[0]]': 0.4955}, 'Layer2': {'[[0, 1, 2, 3, 4, 5, 6, 7]]': 0.4995, '[[0, 1]]': 0.5061, '[[0]]': 0.4957}, 'Layer3': {'[[0, 1, 2, 3, 4, 5, 6, 7]]': 0.5104, '[[0, 1]]': 0.5121, '[[0]]': 0.5077}}, {'accuracy': 0.9975, 'Layer1': {'[[0, 1, 2, 3, 4, 5, 6, 7]]': 0.4932, '[[0, 1]]': 0.4943, '[[0]]': 0.5026}, 'Layer2': {'[[0, 1, 2, 3, 4, 5, 6, 7]]': 0.4981, '[[0, 1]]': 0.4989, '[[0]]': 0.4982}, 'Layer3': {'[[0, 1, 2, 3, 4, 5, 6, 7]]': 0.5027}}]\n",
      "Layer3 : [[0, 1]]\n"
     ]
    },
    {
     "name": "stderr",
     "output_type": "stream",
     "text": [
      "100%|█████████████████████████████████████████████| 1280000/1280000 [01:23<00:00, 15416.27it/s]\n",
      "100%|█████████████████████████████████████████████████| 10000/10000 [00:00<00:00, 16852.96it/s]\n"
     ]
    },
    {
     "name": "stdout",
     "output_type": "stream",
     "text": [
      "[SYST] Prepare Data\n"
     ]
    },
    {
     "name": "stderr",
     "output_type": "stream",
     "text": [
      "100%|████████████████████████████████████████████| 1280000/1280000 [00:08<00:00, 158516.85it/s]\n"
     ]
    },
    {
     "name": "stdout",
     "output_type": "stream",
     "text": [
      "[SYST] Prepare Data\n"
     ]
    },
    {
     "name": "stderr",
     "output_type": "stream",
     "text": [
      "100%|████████████████████████████████████████████████| 10000/10000 [00:00<00:00, 158006.71it/s]"
     ]
    },
    {
     "name": "stdout",
     "output_type": "stream",
     "text": [
      "[SYST] Epoch 0\n"
     ]
    },
    {
     "name": "stderr",
     "output_type": "stream",
     "text": [
      "\n",
      "100%|████████████████████████████████████████████████████████| 200/200 [00:19<00:00, 10.09it/s]\n"
     ]
    },
    {
     "name": "stdout",
     "output_type": "stream",
     "text": [
      "Epoch 1, Loss: 4.499024651050568\n",
      "[SYST] Epoch 1\n"
     ]
    },
    {
     "name": "stderr",
     "output_type": "stream",
     "text": [
      "100%|████████████████████████████████████████████████████████| 200/200 [00:19<00:00, 10.02it/s]\n"
     ]
    },
    {
     "name": "stdout",
     "output_type": "stream",
     "text": [
      "Epoch 2, Loss: 4.355379240512848\n",
      "[SYST] Epoch 2\n"
     ]
    },
    {
     "name": "stderr",
     "output_type": "stream",
     "text": [
      "100%|████████████████████████████████████████████████████████| 200/200 [00:19<00:00, 10.03it/s]\n"
     ]
    },
    {
     "name": "stdout",
     "output_type": "stream",
     "text": [
      "Epoch 3, Loss: 4.350488381385803\n",
      "[SYST] Epoch 3\n"
     ]
    },
    {
     "name": "stderr",
     "output_type": "stream",
     "text": [
      "100%|████████████████████████████████████████████████████████| 200/200 [00:19<00:00, 10.03it/s]\n"
     ]
    },
    {
     "name": "stdout",
     "output_type": "stream",
     "text": [
      "Epoch 4, Loss: 4.349979603290558\n",
      "[SYST] Epoch 4\n"
     ]
    },
    {
     "name": "stderr",
     "output_type": "stream",
     "text": [
      "100%|████████████████████████████████████████████████████████| 200/200 [00:19<00:00, 10.02it/s]\n"
     ]
    },
    {
     "name": "stdout",
     "output_type": "stream",
     "text": [
      "Epoch 5, Loss: 4.349969766139984\n",
      "[SYST] Epoch 5\n"
     ]
    },
    {
     "name": "stderr",
     "output_type": "stream",
     "text": [
      "100%|████████████████████████████████████████████████████████| 200/200 [00:19<00:00, 10.01it/s]\n"
     ]
    },
    {
     "name": "stdout",
     "output_type": "stream",
     "text": [
      "Epoch 6, Loss: 4.3495448970794675\n",
      "[SYST] Epoch 6\n"
     ]
    },
    {
     "name": "stderr",
     "output_type": "stream",
     "text": [
      "100%|████████████████████████████████████████████████████████| 200/200 [00:20<00:00,  9.97it/s]\n"
     ]
    },
    {
     "name": "stdout",
     "output_type": "stream",
     "text": [
      "Epoch 7, Loss: 4.349500100612641\n",
      "[SYST] Epoch 7\n"
     ]
    },
    {
     "name": "stderr",
     "output_type": "stream",
     "text": [
      "100%|████████████████████████████████████████████████████████| 200/200 [00:20<00:00,  9.96it/s]\n"
     ]
    },
    {
     "name": "stdout",
     "output_type": "stream",
     "text": [
      "Epoch 8, Loss: 4.349590094089508\n",
      "[SYST] Epoch 8\n"
     ]
    },
    {
     "name": "stderr",
     "output_type": "stream",
     "text": [
      "100%|████████████████████████████████████████████████████████| 200/200 [00:20<00:00,  9.95it/s]\n"
     ]
    },
    {
     "name": "stdout",
     "output_type": "stream",
     "text": [
      "Epoch 9, Loss: 4.349460444450378\n",
      "[SYST] Epoch 9\n"
     ]
    },
    {
     "name": "stderr",
     "output_type": "stream",
     "text": [
      "100%|████████████████████████████████████████████████████████| 200/200 [00:20<00:00,  9.98it/s]\n"
     ]
    },
    {
     "name": "stdout",
     "output_type": "stream",
     "text": [
      "Epoch 10, Loss: 4.349328293800354\n",
      "[SYST] Epoch 0\n"
     ]
    },
    {
     "name": "stderr",
     "output_type": "stream",
     "text": [
      "100%|████████████████████████████████████████████████████████████| 2/2 [00:00<00:00, 13.33it/s]\n"
     ]
    },
    {
     "name": "stdout",
     "output_type": "stream",
     "text": [
      "Test Accuracy: 50.56%\n",
      "[{'accuracy': 0.9983, 'Layer1': {'[[0, 1, 2, 3, 4, 5, 6, 7]]': 0.5013, '[[0, 1]]': 0.5039, '[[0]]': 0.5082}, 'Layer2': {'[[0, 1, 2, 3, 4, 5, 6, 7]]': 0.5037, '[[0, 1]]': 0.5032, '[[0]]': 0.5075}, 'Layer3': {'[[0, 1, 2, 3, 4, 5, 6, 7]]': 0.4925, '[[0, 1]]': 0.5037, '[[0]]': 0.5081}}, {'accuracy': 0.9983, 'Layer1': {'[[0, 1, 2, 3, 4, 5, 6, 7]]': 0.5012, '[[0, 1]]': 0.5059, '[[0]]': 0.4956}, 'Layer2': {'[[0, 1, 2, 3, 4, 5, 6, 7]]': 0.5027, '[[0, 1]]': 0.4957, '[[0]]': 0.493}, 'Layer3': {'[[0, 1, 2, 3, 4, 5, 6, 7]]': 0.4966, '[[0, 1]]': 0.4996, '[[0]]': 0.5071}}, {'accuracy': 0.9906, 'Layer1': {'[[0, 1, 2, 3, 4, 5, 6, 7]]': 0.4964, '[[0, 1]]': 0.5118, '[[0]]': 0.5024}, 'Layer2': {'[[0, 1, 2, 3, 4, 5, 6, 7]]': 0.4993, '[[0, 1]]': 0.4958, '[[0]]': 0.5061}, 'Layer3': {'[[0, 1, 2, 3, 4, 5, 6, 7]]': 0.4949, '[[0, 1]]': 0.5015, '[[0]]': 0.4977}}, {'accuracy': 0.9955, 'Layer1': {'[[0, 1, 2, 3, 4, 5, 6, 7]]': 0.5024, '[[0, 1]]': 0.5025, '[[0]]': 0.4974}, 'Layer2': {'[[0, 1, 2, 3, 4, 5, 6, 7]]': 0.5068, '[[0, 1]]': 0.5074, '[[0]]': 0.5021}, 'Layer3': {'[[0, 1, 2, 3, 4, 5, 6, 7]]': 0.5036, '[[0, 1]]': 0.5027, '[[0]]': 0.4986}}, {'accuracy': 0.9864, 'Layer1': {'[[0, 1, 2, 3, 4, 5, 6, 7]]': 0.5007, '[[0, 1]]': 0.497, '[[0]]': 0.5085}, 'Layer2': {'[[0, 1, 2, 3, 4, 5, 6, 7]]': 0.4965, '[[0, 1]]': 0.5008, '[[0]]': 0.5003}, 'Layer3': {'[[0, 1, 2, 3, 4, 5, 6, 7]]': 0.4993, '[[0, 1]]': 0.4952, '[[0]]': 0.5048}}, {'accuracy': 0.9995, 'Layer1': {'[[0, 1, 2, 3, 4, 5, 6, 7]]': 0.5043, '[[0, 1]]': 0.5061, '[[0]]': 0.5006}, 'Layer2': {'[[0, 1, 2, 3, 4, 5, 6, 7]]': 0.4927, '[[0, 1]]': 0.4921, '[[0]]': 0.5033}, 'Layer3': {'[[0, 1, 2, 3, 4, 5, 6, 7]]': 0.4967, '[[0, 1]]': 0.5004, '[[0]]': 0.501}}, {'accuracy': 0.9979, 'Layer1': {'[[0, 1, 2, 3, 4, 5, 6, 7]]': 0.5176, '[[0, 1]]': 0.4983, '[[0]]': 0.4984}, 'Layer2': {'[[0, 1, 2, 3, 4, 5, 6, 7]]': 0.4892, '[[0, 1]]': 0.4958, '[[0]]': 0.499}, 'Layer3': {'[[0, 1, 2, 3, 4, 5, 6, 7]]': 0.4996, '[[0, 1]]': 0.4996, '[[0]]': 0.4993}}, {'accuracy': 0.996, 'Layer1': {'[[0, 1, 2, 3, 4, 5, 6, 7]]': 0.5062, '[[0, 1]]': 0.5132, '[[0]]': 0.4955}, 'Layer2': {'[[0, 1, 2, 3, 4, 5, 6, 7]]': 0.4995, '[[0, 1]]': 0.5061, '[[0]]': 0.4957}, 'Layer3': {'[[0, 1, 2, 3, 4, 5, 6, 7]]': 0.5104, '[[0, 1]]': 0.5121, '[[0]]': 0.5077}}, {'accuracy': 0.9975, 'Layer1': {'[[0, 1, 2, 3, 4, 5, 6, 7]]': 0.4932, '[[0, 1]]': 0.4943, '[[0]]': 0.5026}, 'Layer2': {'[[0, 1, 2, 3, 4, 5, 6, 7]]': 0.4981, '[[0, 1]]': 0.4989, '[[0]]': 0.4982}, 'Layer3': {'[[0, 1, 2, 3, 4, 5, 6, 7]]': 0.5027, '[[0, 1]]': 0.5056}}]\n",
      "Layer3 : [[0]]\n"
     ]
    },
    {
     "name": "stderr",
     "output_type": "stream",
     "text": [
      "100%|█████████████████████████████████████████████| 1280000/1280000 [01:22<00:00, 15566.18it/s]\n",
      "100%|█████████████████████████████████████████████████| 10000/10000 [00:00<00:00, 16880.57it/s]\n"
     ]
    },
    {
     "name": "stdout",
     "output_type": "stream",
     "text": [
      "[SYST] Prepare Data\n"
     ]
    },
    {
     "name": "stderr",
     "output_type": "stream",
     "text": [
      "100%|████████████████████████████████████████████| 1280000/1280000 [00:07<00:00, 162808.95it/s]\n"
     ]
    },
    {
     "name": "stdout",
     "output_type": "stream",
     "text": [
      "[SYST] Prepare Data\n"
     ]
    },
    {
     "name": "stderr",
     "output_type": "stream",
     "text": [
      "100%|████████████████████████████████████████████████| 10000/10000 [00:00<00:00, 164394.83it/s]"
     ]
    },
    {
     "name": "stdout",
     "output_type": "stream",
     "text": [
      "[SYST] Epoch 0\n"
     ]
    },
    {
     "name": "stderr",
     "output_type": "stream",
     "text": [
      "\n",
      "100%|████████████████████████████████████████████████████████| 200/200 [00:19<00:00, 10.10it/s]\n"
     ]
    },
    {
     "name": "stdout",
     "output_type": "stream",
     "text": [
      "Epoch 1, Loss: 4.850559535026551\n",
      "[SYST] Epoch 1\n"
     ]
    },
    {
     "name": "stderr",
     "output_type": "stream",
     "text": [
      "100%|████████████████████████████████████████████████████████| 200/200 [00:19<00:00, 10.01it/s]\n"
     ]
    },
    {
     "name": "stdout",
     "output_type": "stream",
     "text": [
      "Epoch 2, Loss: 4.364798395633698\n",
      "[SYST] Epoch 2\n"
     ]
    },
    {
     "name": "stderr",
     "output_type": "stream",
     "text": [
      "100%|████████████████████████████████████████████████████████| 200/200 [00:19<00:00, 10.01it/s]\n"
     ]
    },
    {
     "name": "stdout",
     "output_type": "stream",
     "text": [
      "Epoch 3, Loss: 4.364399900436402\n",
      "[SYST] Epoch 3\n"
     ]
    },
    {
     "name": "stderr",
     "output_type": "stream",
     "text": [
      "100%|████████████████████████████████████████████████████████| 200/200 [00:19<00:00, 10.02it/s]\n"
     ]
    },
    {
     "name": "stdout",
     "output_type": "stream",
     "text": [
      "Epoch 4, Loss: 4.364233314990997\n",
      "[SYST] Epoch 4\n"
     ]
    },
    {
     "name": "stderr",
     "output_type": "stream",
     "text": [
      "100%|████████████████████████████████████████████████████████| 200/200 [00:20<00:00,  9.99it/s]\n"
     ]
    },
    {
     "name": "stdout",
     "output_type": "stream",
     "text": [
      "Epoch 5, Loss: 4.364116046428681\n",
      "[SYST] Epoch 5\n"
     ]
    },
    {
     "name": "stderr",
     "output_type": "stream",
     "text": [
      "100%|████████████████████████████████████████████████████████| 200/200 [00:19<00:00, 10.03it/s]\n"
     ]
    },
    {
     "name": "stdout",
     "output_type": "stream",
     "text": [
      "Epoch 6, Loss: 4.3639977431297305\n",
      "[SYST] Epoch 6\n"
     ]
    },
    {
     "name": "stderr",
     "output_type": "stream",
     "text": [
      "100%|████████████████████████████████████████████████████████| 200/200 [00:19<00:00, 10.04it/s]\n"
     ]
    },
    {
     "name": "stdout",
     "output_type": "stream",
     "text": [
      "Epoch 7, Loss: 4.363887777328491\n",
      "[SYST] Epoch 7\n"
     ]
    },
    {
     "name": "stderr",
     "output_type": "stream",
     "text": [
      "100%|████████████████████████████████████████████████████████| 200/200 [00:19<00:00, 10.01it/s]\n"
     ]
    },
    {
     "name": "stdout",
     "output_type": "stream",
     "text": [
      "Epoch 8, Loss: 4.363857378959656\n",
      "[SYST] Epoch 8\n"
     ]
    },
    {
     "name": "stderr",
     "output_type": "stream",
     "text": [
      "100%|████████████████████████████████████████████████████████| 200/200 [00:19<00:00, 10.03it/s]\n"
     ]
    },
    {
     "name": "stdout",
     "output_type": "stream",
     "text": [
      "Epoch 9, Loss: 4.363865404129029\n",
      "[SYST] Epoch 9\n"
     ]
    },
    {
     "name": "stderr",
     "output_type": "stream",
     "text": [
      "100%|████████████████████████████████████████████████████████| 200/200 [00:19<00:00, 10.03it/s]\n"
     ]
    },
    {
     "name": "stdout",
     "output_type": "stream",
     "text": [
      "Epoch 10, Loss: 4.363804097175598\n",
      "[SYST] Epoch 0\n"
     ]
    },
    {
     "name": "stderr",
     "output_type": "stream",
     "text": [
      "100%|████████████████████████████████████████████████████████████| 2/2 [00:00<00:00, 13.35it/s]\n"
     ]
    },
    {
     "name": "stdout",
     "output_type": "stream",
     "text": [
      "Test Accuracy: 50.27%\n",
      "[{'accuracy': 0.9983, 'Layer1': {'[[0, 1, 2, 3, 4, 5, 6, 7]]': 0.5013, '[[0, 1]]': 0.5039, '[[0]]': 0.5082}, 'Layer2': {'[[0, 1, 2, 3, 4, 5, 6, 7]]': 0.5037, '[[0, 1]]': 0.5032, '[[0]]': 0.5075}, 'Layer3': {'[[0, 1, 2, 3, 4, 5, 6, 7]]': 0.4925, '[[0, 1]]': 0.5037, '[[0]]': 0.5081}}, {'accuracy': 0.9983, 'Layer1': {'[[0, 1, 2, 3, 4, 5, 6, 7]]': 0.5012, '[[0, 1]]': 0.5059, '[[0]]': 0.4956}, 'Layer2': {'[[0, 1, 2, 3, 4, 5, 6, 7]]': 0.5027, '[[0, 1]]': 0.4957, '[[0]]': 0.493}, 'Layer3': {'[[0, 1, 2, 3, 4, 5, 6, 7]]': 0.4966, '[[0, 1]]': 0.4996, '[[0]]': 0.5071}}, {'accuracy': 0.9906, 'Layer1': {'[[0, 1, 2, 3, 4, 5, 6, 7]]': 0.4964, '[[0, 1]]': 0.5118, '[[0]]': 0.5024}, 'Layer2': {'[[0, 1, 2, 3, 4, 5, 6, 7]]': 0.4993, '[[0, 1]]': 0.4958, '[[0]]': 0.5061}, 'Layer3': {'[[0, 1, 2, 3, 4, 5, 6, 7]]': 0.4949, '[[0, 1]]': 0.5015, '[[0]]': 0.4977}}, {'accuracy': 0.9955, 'Layer1': {'[[0, 1, 2, 3, 4, 5, 6, 7]]': 0.5024, '[[0, 1]]': 0.5025, '[[0]]': 0.4974}, 'Layer2': {'[[0, 1, 2, 3, 4, 5, 6, 7]]': 0.5068, '[[0, 1]]': 0.5074, '[[0]]': 0.5021}, 'Layer3': {'[[0, 1, 2, 3, 4, 5, 6, 7]]': 0.5036, '[[0, 1]]': 0.5027, '[[0]]': 0.4986}}, {'accuracy': 0.9864, 'Layer1': {'[[0, 1, 2, 3, 4, 5, 6, 7]]': 0.5007, '[[0, 1]]': 0.497, '[[0]]': 0.5085}, 'Layer2': {'[[0, 1, 2, 3, 4, 5, 6, 7]]': 0.4965, '[[0, 1]]': 0.5008, '[[0]]': 0.5003}, 'Layer3': {'[[0, 1, 2, 3, 4, 5, 6, 7]]': 0.4993, '[[0, 1]]': 0.4952, '[[0]]': 0.5048}}, {'accuracy': 0.9995, 'Layer1': {'[[0, 1, 2, 3, 4, 5, 6, 7]]': 0.5043, '[[0, 1]]': 0.5061, '[[0]]': 0.5006}, 'Layer2': {'[[0, 1, 2, 3, 4, 5, 6, 7]]': 0.4927, '[[0, 1]]': 0.4921, '[[0]]': 0.5033}, 'Layer3': {'[[0, 1, 2, 3, 4, 5, 6, 7]]': 0.4967, '[[0, 1]]': 0.5004, '[[0]]': 0.501}}, {'accuracy': 0.9979, 'Layer1': {'[[0, 1, 2, 3, 4, 5, 6, 7]]': 0.5176, '[[0, 1]]': 0.4983, '[[0]]': 0.4984}, 'Layer2': {'[[0, 1, 2, 3, 4, 5, 6, 7]]': 0.4892, '[[0, 1]]': 0.4958, '[[0]]': 0.499}, 'Layer3': {'[[0, 1, 2, 3, 4, 5, 6, 7]]': 0.4996, '[[0, 1]]': 0.4996, '[[0]]': 0.4993}}, {'accuracy': 0.996, 'Layer1': {'[[0, 1, 2, 3, 4, 5, 6, 7]]': 0.5062, '[[0, 1]]': 0.5132, '[[0]]': 0.4955}, 'Layer2': {'[[0, 1, 2, 3, 4, 5, 6, 7]]': 0.4995, '[[0, 1]]': 0.5061, '[[0]]': 0.4957}, 'Layer3': {'[[0, 1, 2, 3, 4, 5, 6, 7]]': 0.5104, '[[0, 1]]': 0.5121, '[[0]]': 0.5077}}, {'accuracy': 0.9975, 'Layer1': {'[[0, 1, 2, 3, 4, 5, 6, 7]]': 0.4932, '[[0, 1]]': 0.4943, '[[0]]': 0.5026}, 'Layer2': {'[[0, 1, 2, 3, 4, 5, 6, 7]]': 0.4981, '[[0, 1]]': 0.4989, '[[0]]': 0.4982}, 'Layer3': {'[[0, 1, 2, 3, 4, 5, 6, 7]]': 0.5027, '[[0, 1]]': 0.5056, '[[0]]': 0.5027}}]\n"
     ]
    },
    {
     "name": "stderr",
     "output_type": "stream",
     "text": [
      "100%|████████████████████████████████████████████| 1048576/1048576 [00:10<00:00, 100577.35it/s]\n",
      "100%|█████████████████████████████████████████████████████| 1024/1024 [00:08<00:00, 120.77it/s]\n"
     ]
    },
    {
     "name": "stdout",
     "output_type": "stream",
     "text": [
      "Epoch 1, Loss: 0.4238033949950477\n"
     ]
    },
    {
     "name": "stderr",
     "output_type": "stream",
     "text": [
      "100%|█████████████████████████████████████████████████████| 1024/1024 [00:09<00:00, 111.18it/s]\n"
     ]
    },
    {
     "name": "stdout",
     "output_type": "stream",
     "text": [
      "Epoch 2, Loss: 0.06168463947324199\n"
     ]
    },
    {
     "name": "stderr",
     "output_type": "stream",
     "text": [
      "100%|█████████████████████████████████████████████████████| 1024/1024 [00:09<00:00, 112.24it/s]\n"
     ]
    },
    {
     "name": "stdout",
     "output_type": "stream",
     "text": [
      "Epoch 3, Loss: 0.01714127736067894\n"
     ]
    },
    {
     "name": "stderr",
     "output_type": "stream",
     "text": [
      "100%|████████████████████████████████████████████████| 10000/10000 [00:00<00:00, 100276.47it/s]\n",
      "100%|█████████████████████████████████████████████████████████| 10/10 [00:00<00:00, 159.59it/s]\n"
     ]
    },
    {
     "name": "stdout",
     "output_type": "stream",
     "text": [
      "Test Accuracy: 0.9965\n",
      "Layer1 : [[0, 1, 2, 3, 4, 5, 6, 7]]\n"
     ]
    },
    {
     "name": "stderr",
     "output_type": "stream",
     "text": [
      "100%|█████████████████████████████████████████████| 1280000/1280000 [01:23<00:00, 15303.78it/s]\n",
      "100%|█████████████████████████████████████████████████| 10000/10000 [00:00<00:00, 16857.97it/s]\n"
     ]
    },
    {
     "name": "stdout",
     "output_type": "stream",
     "text": [
      "[SYST] Prepare Data\n"
     ]
    },
    {
     "name": "stderr",
     "output_type": "stream",
     "text": [
      "100%|████████████████████████████████████████████| 1280000/1280000 [00:08<00:00, 145383.92it/s]\n"
     ]
    },
    {
     "name": "stdout",
     "output_type": "stream",
     "text": [
      "[SYST] Prepare Data\n"
     ]
    },
    {
     "name": "stderr",
     "output_type": "stream",
     "text": [
      "100%|████████████████████████████████████████████████| 10000/10000 [00:00<00:00, 148374.30it/s]"
     ]
    },
    {
     "name": "stdout",
     "output_type": "stream",
     "text": [
      "[SYST] Epoch 0\n"
     ]
    },
    {
     "name": "stderr",
     "output_type": "stream",
     "text": [
      "\n",
      "100%|████████████████████████████████████████████████████████| 200/200 [00:20<00:00,  9.99it/s]\n"
     ]
    },
    {
     "name": "stdout",
     "output_type": "stream",
     "text": [
      "Epoch 1, Loss: 6.654012327194214\n",
      "[SYST] Epoch 1\n"
     ]
    },
    {
     "name": "stderr",
     "output_type": "stream",
     "text": [
      "100%|████████████████████████████████████████████████████████| 200/200 [00:20<00:00,  9.93it/s]\n"
     ]
    },
    {
     "name": "stdout",
     "output_type": "stream",
     "text": [
      "Epoch 2, Loss: 4.959147274494171\n",
      "[SYST] Epoch 2\n"
     ]
    },
    {
     "name": "stderr",
     "output_type": "stream",
     "text": [
      "100%|████████████████████████████████████████████████████████| 200/200 [00:20<00:00,  9.82it/s]\n"
     ]
    },
    {
     "name": "stdout",
     "output_type": "stream",
     "text": [
      "Epoch 3, Loss: 4.752251675128937\n",
      "[SYST] Epoch 3\n"
     ]
    },
    {
     "name": "stderr",
     "output_type": "stream",
     "text": [
      "100%|████████████████████████████████████████████████████████| 200/200 [00:20<00:00,  9.88it/s]\n"
     ]
    },
    {
     "name": "stdout",
     "output_type": "stream",
     "text": [
      "Epoch 4, Loss: 4.646232302188873\n",
      "[SYST] Epoch 4\n"
     ]
    },
    {
     "name": "stderr",
     "output_type": "stream",
     "text": [
      "100%|████████████████████████████████████████████████████████| 200/200 [00:20<00:00,  9.88it/s]\n"
     ]
    },
    {
     "name": "stdout",
     "output_type": "stream",
     "text": [
      "Epoch 5, Loss: 4.586336317062378\n",
      "[SYST] Epoch 5\n"
     ]
    },
    {
     "name": "stderr",
     "output_type": "stream",
     "text": [
      "100%|████████████████████████████████████████████████████████| 200/200 [00:20<00:00,  9.89it/s]\n"
     ]
    },
    {
     "name": "stdout",
     "output_type": "stream",
     "text": [
      "Epoch 6, Loss: 4.558071897029877\n",
      "[SYST] Epoch 6\n"
     ]
    },
    {
     "name": "stderr",
     "output_type": "stream",
     "text": [
      "100%|████████████████████████████████████████████████████████| 200/200 [00:20<00:00,  9.79it/s]\n"
     ]
    },
    {
     "name": "stdout",
     "output_type": "stream",
     "text": [
      "Epoch 7, Loss: 4.540982041358948\n",
      "[SYST] Epoch 7\n"
     ]
    },
    {
     "name": "stderr",
     "output_type": "stream",
     "text": [
      "100%|████████████████████████████████████████████████████████| 200/200 [00:20<00:00,  9.86it/s]\n"
     ]
    },
    {
     "name": "stdout",
     "output_type": "stream",
     "text": [
      "Epoch 8, Loss: 4.5296290755271915\n",
      "[SYST] Epoch 8\n"
     ]
    },
    {
     "name": "stderr",
     "output_type": "stream",
     "text": [
      "100%|████████████████████████████████████████████████████████| 200/200 [00:20<00:00,  9.77it/s]\n"
     ]
    },
    {
     "name": "stdout",
     "output_type": "stream",
     "text": [
      "Epoch 9, Loss: 4.522755851745606\n",
      "[SYST] Epoch 9\n"
     ]
    },
    {
     "name": "stderr",
     "output_type": "stream",
     "text": [
      "100%|████████████████████████████████████████████████████████| 200/200 [00:20<00:00,  9.84it/s]\n"
     ]
    },
    {
     "name": "stdout",
     "output_type": "stream",
     "text": [
      "Epoch 10, Loss: 4.51911465883255\n",
      "[SYST] Epoch 0\n"
     ]
    },
    {
     "name": "stderr",
     "output_type": "stream",
     "text": [
      "100%|████████████████████████████████████████████████████████████| 2/2 [00:00<00:00, 13.21it/s]\n"
     ]
    },
    {
     "name": "stdout",
     "output_type": "stream",
     "text": [
      "Test Accuracy: 49.12%\n",
      "[{'accuracy': 0.9983, 'Layer1': {'[[0, 1, 2, 3, 4, 5, 6, 7]]': 0.5013, '[[0, 1]]': 0.5039, '[[0]]': 0.5082}, 'Layer2': {'[[0, 1, 2, 3, 4, 5, 6, 7]]': 0.5037, '[[0, 1]]': 0.5032, '[[0]]': 0.5075}, 'Layer3': {'[[0, 1, 2, 3, 4, 5, 6, 7]]': 0.4925, '[[0, 1]]': 0.5037, '[[0]]': 0.5081}}, {'accuracy': 0.9983, 'Layer1': {'[[0, 1, 2, 3, 4, 5, 6, 7]]': 0.5012, '[[0, 1]]': 0.5059, '[[0]]': 0.4956}, 'Layer2': {'[[0, 1, 2, 3, 4, 5, 6, 7]]': 0.5027, '[[0, 1]]': 0.4957, '[[0]]': 0.493}, 'Layer3': {'[[0, 1, 2, 3, 4, 5, 6, 7]]': 0.4966, '[[0, 1]]': 0.4996, '[[0]]': 0.5071}}, {'accuracy': 0.9906, 'Layer1': {'[[0, 1, 2, 3, 4, 5, 6, 7]]': 0.4964, '[[0, 1]]': 0.5118, '[[0]]': 0.5024}, 'Layer2': {'[[0, 1, 2, 3, 4, 5, 6, 7]]': 0.4993, '[[0, 1]]': 0.4958, '[[0]]': 0.5061}, 'Layer3': {'[[0, 1, 2, 3, 4, 5, 6, 7]]': 0.4949, '[[0, 1]]': 0.5015, '[[0]]': 0.4977}}, {'accuracy': 0.9955, 'Layer1': {'[[0, 1, 2, 3, 4, 5, 6, 7]]': 0.5024, '[[0, 1]]': 0.5025, '[[0]]': 0.4974}, 'Layer2': {'[[0, 1, 2, 3, 4, 5, 6, 7]]': 0.5068, '[[0, 1]]': 0.5074, '[[0]]': 0.5021}, 'Layer3': {'[[0, 1, 2, 3, 4, 5, 6, 7]]': 0.5036, '[[0, 1]]': 0.5027, '[[0]]': 0.4986}}, {'accuracy': 0.9864, 'Layer1': {'[[0, 1, 2, 3, 4, 5, 6, 7]]': 0.5007, '[[0, 1]]': 0.497, '[[0]]': 0.5085}, 'Layer2': {'[[0, 1, 2, 3, 4, 5, 6, 7]]': 0.4965, '[[0, 1]]': 0.5008, '[[0]]': 0.5003}, 'Layer3': {'[[0, 1, 2, 3, 4, 5, 6, 7]]': 0.4993, '[[0, 1]]': 0.4952, '[[0]]': 0.5048}}, {'accuracy': 0.9995, 'Layer1': {'[[0, 1, 2, 3, 4, 5, 6, 7]]': 0.5043, '[[0, 1]]': 0.5061, '[[0]]': 0.5006}, 'Layer2': {'[[0, 1, 2, 3, 4, 5, 6, 7]]': 0.4927, '[[0, 1]]': 0.4921, '[[0]]': 0.5033}, 'Layer3': {'[[0, 1, 2, 3, 4, 5, 6, 7]]': 0.4967, '[[0, 1]]': 0.5004, '[[0]]': 0.501}}, {'accuracy': 0.9979, 'Layer1': {'[[0, 1, 2, 3, 4, 5, 6, 7]]': 0.5176, '[[0, 1]]': 0.4983, '[[0]]': 0.4984}, 'Layer2': {'[[0, 1, 2, 3, 4, 5, 6, 7]]': 0.4892, '[[0, 1]]': 0.4958, '[[0]]': 0.499}, 'Layer3': {'[[0, 1, 2, 3, 4, 5, 6, 7]]': 0.4996, '[[0, 1]]': 0.4996, '[[0]]': 0.4993}}, {'accuracy': 0.996, 'Layer1': {'[[0, 1, 2, 3, 4, 5, 6, 7]]': 0.5062, '[[0, 1]]': 0.5132, '[[0]]': 0.4955}, 'Layer2': {'[[0, 1, 2, 3, 4, 5, 6, 7]]': 0.4995, '[[0, 1]]': 0.5061, '[[0]]': 0.4957}, 'Layer3': {'[[0, 1, 2, 3, 4, 5, 6, 7]]': 0.5104, '[[0, 1]]': 0.5121, '[[0]]': 0.5077}}, {'accuracy': 0.9975, 'Layer1': {'[[0, 1, 2, 3, 4, 5, 6, 7]]': 0.4932, '[[0, 1]]': 0.4943, '[[0]]': 0.5026}, 'Layer2': {'[[0, 1, 2, 3, 4, 5, 6, 7]]': 0.4981, '[[0, 1]]': 0.4989, '[[0]]': 0.4982}, 'Layer3': {'[[0, 1, 2, 3, 4, 5, 6, 7]]': 0.5027, '[[0, 1]]': 0.5056, '[[0]]': 0.5027}}, {'accuracy': 0.9965, 'Layer1': {'[[0, 1, 2, 3, 4, 5, 6, 7]]': 0.4912}}]\n",
      "Layer1 : [[0, 1]]\n"
     ]
    },
    {
     "name": "stderr",
     "output_type": "stream",
     "text": [
      "100%|█████████████████████████████████████████████| 1280000/1280000 [01:23<00:00, 15403.55it/s]\n",
      "100%|█████████████████████████████████████████████████| 10000/10000 [00:00<00:00, 16772.61it/s]\n"
     ]
    },
    {
     "name": "stdout",
     "output_type": "stream",
     "text": [
      "[SYST] Prepare Data\n"
     ]
    },
    {
     "name": "stderr",
     "output_type": "stream",
     "text": [
      "100%|████████████████████████████████████████████| 1280000/1280000 [00:08<00:00, 157954.48it/s]\n"
     ]
    },
    {
     "name": "stdout",
     "output_type": "stream",
     "text": [
      "[SYST] Prepare Data\n"
     ]
    },
    {
     "name": "stderr",
     "output_type": "stream",
     "text": [
      "100%|████████████████████████████████████████████████| 10000/10000 [00:00<00:00, 156393.00it/s]"
     ]
    },
    {
     "name": "stdout",
     "output_type": "stream",
     "text": [
      "[SYST] Epoch 0\n"
     ]
    },
    {
     "name": "stderr",
     "output_type": "stream",
     "text": [
      "\n",
      "100%|████████████████████████████████████████████████████████| 200/200 [00:20<00:00,  9.98it/s]\n"
     ]
    },
    {
     "name": "stdout",
     "output_type": "stream",
     "text": [
      "Epoch 1, Loss: 6.302568430900574\n",
      "[SYST] Epoch 1\n"
     ]
    },
    {
     "name": "stderr",
     "output_type": "stream",
     "text": [
      "100%|████████████████████████████████████████████████████████| 200/200 [00:20<00:00,  9.98it/s]\n"
     ]
    },
    {
     "name": "stdout",
     "output_type": "stream",
     "text": [
      "Epoch 2, Loss: 5.491775424480438\n",
      "[SYST] Epoch 2\n"
     ]
    },
    {
     "name": "stderr",
     "output_type": "stream",
     "text": [
      "100%|████████████████████████████████████████████████████████| 200/200 [00:19<00:00, 10.00it/s]\n"
     ]
    },
    {
     "name": "stdout",
     "output_type": "stream",
     "text": [
      "Epoch 3, Loss: 5.3471599340438845\n",
      "[SYST] Epoch 3\n"
     ]
    },
    {
     "name": "stderr",
     "output_type": "stream",
     "text": [
      "100%|████████████████████████████████████████████████████████| 200/200 [00:20<00:00,  9.94it/s]\n"
     ]
    },
    {
     "name": "stdout",
     "output_type": "stream",
     "text": [
      "Epoch 4, Loss: 5.274302484989167\n",
      "[SYST] Epoch 4\n"
     ]
    },
    {
     "name": "stderr",
     "output_type": "stream",
     "text": [
      "100%|████████████████████████████████████████████████████████| 200/200 [00:20<00:00,  9.90it/s]\n"
     ]
    },
    {
     "name": "stdout",
     "output_type": "stream",
     "text": [
      "Epoch 5, Loss: 5.241019992828369\n",
      "[SYST] Epoch 5\n"
     ]
    },
    {
     "name": "stderr",
     "output_type": "stream",
     "text": [
      "100%|████████████████████████████████████████████████████████| 200/200 [00:20<00:00,  9.89it/s]\n"
     ]
    },
    {
     "name": "stdout",
     "output_type": "stream",
     "text": [
      "Epoch 6, Loss: 5.224298303127289\n",
      "[SYST] Epoch 6\n"
     ]
    },
    {
     "name": "stderr",
     "output_type": "stream",
     "text": [
      "100%|████████████████████████████████████████████████████████| 200/200 [00:20<00:00,  9.89it/s]\n"
     ]
    },
    {
     "name": "stdout",
     "output_type": "stream",
     "text": [
      "Epoch 7, Loss: 5.2131958985328675\n",
      "[SYST] Epoch 7\n"
     ]
    },
    {
     "name": "stderr",
     "output_type": "stream",
     "text": [
      "100%|████████████████████████████████████████████████████████| 200/200 [00:20<00:00,  9.91it/s]\n"
     ]
    },
    {
     "name": "stdout",
     "output_type": "stream",
     "text": [
      "Epoch 8, Loss: 5.191617243289947\n",
      "[SYST] Epoch 8\n"
     ]
    },
    {
     "name": "stderr",
     "output_type": "stream",
     "text": [
      "100%|████████████████████████████████████████████████████████| 200/200 [00:20<00:00,  9.91it/s]\n"
     ]
    },
    {
     "name": "stdout",
     "output_type": "stream",
     "text": [
      "Epoch 9, Loss: 5.110382490158081\n",
      "[SYST] Epoch 9\n"
     ]
    },
    {
     "name": "stderr",
     "output_type": "stream",
     "text": [
      "100%|████████████████████████████████████████████████████████| 200/200 [00:20<00:00,  9.92it/s]\n"
     ]
    },
    {
     "name": "stdout",
     "output_type": "stream",
     "text": [
      "Epoch 10, Loss: 4.92163075208664\n",
      "[SYST] Epoch 0\n"
     ]
    },
    {
     "name": "stderr",
     "output_type": "stream",
     "text": [
      "100%|████████████████████████████████████████████████████████████| 2/2 [00:00<00:00, 13.18it/s]\n"
     ]
    },
    {
     "name": "stdout",
     "output_type": "stream",
     "text": [
      "Test Accuracy: 50.14%\n",
      "[{'accuracy': 0.9983, 'Layer1': {'[[0, 1, 2, 3, 4, 5, 6, 7]]': 0.5013, '[[0, 1]]': 0.5039, '[[0]]': 0.5082}, 'Layer2': {'[[0, 1, 2, 3, 4, 5, 6, 7]]': 0.5037, '[[0, 1]]': 0.5032, '[[0]]': 0.5075}, 'Layer3': {'[[0, 1, 2, 3, 4, 5, 6, 7]]': 0.4925, '[[0, 1]]': 0.5037, '[[0]]': 0.5081}}, {'accuracy': 0.9983, 'Layer1': {'[[0, 1, 2, 3, 4, 5, 6, 7]]': 0.5012, '[[0, 1]]': 0.5059, '[[0]]': 0.4956}, 'Layer2': {'[[0, 1, 2, 3, 4, 5, 6, 7]]': 0.5027, '[[0, 1]]': 0.4957, '[[0]]': 0.493}, 'Layer3': {'[[0, 1, 2, 3, 4, 5, 6, 7]]': 0.4966, '[[0, 1]]': 0.4996, '[[0]]': 0.5071}}, {'accuracy': 0.9906, 'Layer1': {'[[0, 1, 2, 3, 4, 5, 6, 7]]': 0.4964, '[[0, 1]]': 0.5118, '[[0]]': 0.5024}, 'Layer2': {'[[0, 1, 2, 3, 4, 5, 6, 7]]': 0.4993, '[[0, 1]]': 0.4958, '[[0]]': 0.5061}, 'Layer3': {'[[0, 1, 2, 3, 4, 5, 6, 7]]': 0.4949, '[[0, 1]]': 0.5015, '[[0]]': 0.4977}}, {'accuracy': 0.9955, 'Layer1': {'[[0, 1, 2, 3, 4, 5, 6, 7]]': 0.5024, '[[0, 1]]': 0.5025, '[[0]]': 0.4974}, 'Layer2': {'[[0, 1, 2, 3, 4, 5, 6, 7]]': 0.5068, '[[0, 1]]': 0.5074, '[[0]]': 0.5021}, 'Layer3': {'[[0, 1, 2, 3, 4, 5, 6, 7]]': 0.5036, '[[0, 1]]': 0.5027, '[[0]]': 0.4986}}, {'accuracy': 0.9864, 'Layer1': {'[[0, 1, 2, 3, 4, 5, 6, 7]]': 0.5007, '[[0, 1]]': 0.497, '[[0]]': 0.5085}, 'Layer2': {'[[0, 1, 2, 3, 4, 5, 6, 7]]': 0.4965, '[[0, 1]]': 0.5008, '[[0]]': 0.5003}, 'Layer3': {'[[0, 1, 2, 3, 4, 5, 6, 7]]': 0.4993, '[[0, 1]]': 0.4952, '[[0]]': 0.5048}}, {'accuracy': 0.9995, 'Layer1': {'[[0, 1, 2, 3, 4, 5, 6, 7]]': 0.5043, '[[0, 1]]': 0.5061, '[[0]]': 0.5006}, 'Layer2': {'[[0, 1, 2, 3, 4, 5, 6, 7]]': 0.4927, '[[0, 1]]': 0.4921, '[[0]]': 0.5033}, 'Layer3': {'[[0, 1, 2, 3, 4, 5, 6, 7]]': 0.4967, '[[0, 1]]': 0.5004, '[[0]]': 0.501}}, {'accuracy': 0.9979, 'Layer1': {'[[0, 1, 2, 3, 4, 5, 6, 7]]': 0.5176, '[[0, 1]]': 0.4983, '[[0]]': 0.4984}, 'Layer2': {'[[0, 1, 2, 3, 4, 5, 6, 7]]': 0.4892, '[[0, 1]]': 0.4958, '[[0]]': 0.499}, 'Layer3': {'[[0, 1, 2, 3, 4, 5, 6, 7]]': 0.4996, '[[0, 1]]': 0.4996, '[[0]]': 0.4993}}, {'accuracy': 0.996, 'Layer1': {'[[0, 1, 2, 3, 4, 5, 6, 7]]': 0.5062, '[[0, 1]]': 0.5132, '[[0]]': 0.4955}, 'Layer2': {'[[0, 1, 2, 3, 4, 5, 6, 7]]': 0.4995, '[[0, 1]]': 0.5061, '[[0]]': 0.4957}, 'Layer3': {'[[0, 1, 2, 3, 4, 5, 6, 7]]': 0.5104, '[[0, 1]]': 0.5121, '[[0]]': 0.5077}}, {'accuracy': 0.9975, 'Layer1': {'[[0, 1, 2, 3, 4, 5, 6, 7]]': 0.4932, '[[0, 1]]': 0.4943, '[[0]]': 0.5026}, 'Layer2': {'[[0, 1, 2, 3, 4, 5, 6, 7]]': 0.4981, '[[0, 1]]': 0.4989, '[[0]]': 0.4982}, 'Layer3': {'[[0, 1, 2, 3, 4, 5, 6, 7]]': 0.5027, '[[0, 1]]': 0.5056, '[[0]]': 0.5027}}, {'accuracy': 0.9965, 'Layer1': {'[[0, 1, 2, 3, 4, 5, 6, 7]]': 0.4912, '[[0, 1]]': 0.5014}}]\n",
      "Layer1 : [[0]]\n"
     ]
    },
    {
     "name": "stderr",
     "output_type": "stream",
     "text": [
      "100%|█████████████████████████████████████████████| 1280000/1280000 [01:22<00:00, 15476.89it/s]\n",
      "100%|█████████████████████████████████████████████████| 10000/10000 [00:00<00:00, 16857.74it/s]\n"
     ]
    },
    {
     "name": "stdout",
     "output_type": "stream",
     "text": [
      "[SYST] Prepare Data\n"
     ]
    },
    {
     "name": "stderr",
     "output_type": "stream",
     "text": [
      "100%|████████████████████████████████████████████| 1280000/1280000 [00:07<00:00, 161783.65it/s]\n"
     ]
    },
    {
     "name": "stdout",
     "output_type": "stream",
     "text": [
      "[SYST] Prepare Data\n"
     ]
    },
    {
     "name": "stderr",
     "output_type": "stream",
     "text": [
      "100%|████████████████████████████████████████████████| 10000/10000 [00:00<00:00, 163072.41it/s]"
     ]
    },
    {
     "name": "stdout",
     "output_type": "stream",
     "text": [
      "[SYST] Epoch 0\n"
     ]
    },
    {
     "name": "stderr",
     "output_type": "stream",
     "text": [
      "\n",
      "100%|████████████████████████████████████████████████████████| 200/200 [00:19<00:00, 10.08it/s]\n"
     ]
    },
    {
     "name": "stdout",
     "output_type": "stream",
     "text": [
      "Epoch 1, Loss: 6.072912504673004\n",
      "[SYST] Epoch 1\n"
     ]
    },
    {
     "name": "stderr",
     "output_type": "stream",
     "text": [
      "100%|████████████████████████████████████████████████████████| 200/200 [00:20<00:00,  9.97it/s]\n"
     ]
    },
    {
     "name": "stdout",
     "output_type": "stream",
     "text": [
      "Epoch 2, Loss: 5.636305944919586\n",
      "[SYST] Epoch 2\n"
     ]
    },
    {
     "name": "stderr",
     "output_type": "stream",
     "text": [
      "100%|████████████████████████████████████████████████████████| 200/200 [00:20<00:00,  9.96it/s]\n"
     ]
    },
    {
     "name": "stdout",
     "output_type": "stream",
     "text": [
      "Epoch 3, Loss: 5.464079568386078\n",
      "[SYST] Epoch 3\n"
     ]
    },
    {
     "name": "stderr",
     "output_type": "stream",
     "text": [
      "100%|████████████████████████████████████████████████████████| 200/200 [00:20<00:00,  9.95it/s]\n"
     ]
    },
    {
     "name": "stdout",
     "output_type": "stream",
     "text": [
      "Epoch 4, Loss: 5.412426099777222\n",
      "[SYST] Epoch 4\n"
     ]
    },
    {
     "name": "stderr",
     "output_type": "stream",
     "text": [
      "100%|████████████████████████████████████████████████████████| 200/200 [00:20<00:00,  9.95it/s]\n"
     ]
    },
    {
     "name": "stdout",
     "output_type": "stream",
     "text": [
      "Epoch 5, Loss: 5.224492981433868\n",
      "[SYST] Epoch 5\n"
     ]
    },
    {
     "name": "stderr",
     "output_type": "stream",
     "text": [
      "100%|████████████████████████████████████████████████████████| 200/200 [00:20<00:00,  9.95it/s]\n"
     ]
    },
    {
     "name": "stdout",
     "output_type": "stream",
     "text": [
      "Epoch 6, Loss: 5.065022435188293\n",
      "[SYST] Epoch 6\n"
     ]
    },
    {
     "name": "stderr",
     "output_type": "stream",
     "text": [
      "100%|████████████████████████████████████████████████████████| 200/200 [00:20<00:00,  9.92it/s]\n"
     ]
    },
    {
     "name": "stdout",
     "output_type": "stream",
     "text": [
      "Epoch 7, Loss: 5.058343007564544\n",
      "[SYST] Epoch 7\n"
     ]
    },
    {
     "name": "stderr",
     "output_type": "stream",
     "text": [
      "100%|████████████████████████████████████████████████████████| 200/200 [00:20<00:00,  9.95it/s]\n"
     ]
    },
    {
     "name": "stdout",
     "output_type": "stream",
     "text": [
      "Epoch 8, Loss: 5.057702143192291\n",
      "[SYST] Epoch 8\n"
     ]
    },
    {
     "name": "stderr",
     "output_type": "stream",
     "text": [
      "100%|████████████████████████████████████████████████████████| 200/200 [00:20<00:00,  9.94it/s]\n"
     ]
    },
    {
     "name": "stdout",
     "output_type": "stream",
     "text": [
      "Epoch 9, Loss: 5.057575099468231\n",
      "[SYST] Epoch 9\n"
     ]
    },
    {
     "name": "stderr",
     "output_type": "stream",
     "text": [
      "100%|████████████████████████████████████████████████████████| 200/200 [00:20<00:00,  9.95it/s]\n"
     ]
    },
    {
     "name": "stdout",
     "output_type": "stream",
     "text": [
      "Epoch 10, Loss: 5.057544379234314\n",
      "[SYST] Epoch 0\n"
     ]
    },
    {
     "name": "stderr",
     "output_type": "stream",
     "text": [
      "100%|████████████████████████████████████████████████████████████| 2/2 [00:00<00:00, 13.44it/s]\n"
     ]
    },
    {
     "name": "stdout",
     "output_type": "stream",
     "text": [
      "Test Accuracy: 49.70%\n",
      "[{'accuracy': 0.9983, 'Layer1': {'[[0, 1, 2, 3, 4, 5, 6, 7]]': 0.5013, '[[0, 1]]': 0.5039, '[[0]]': 0.5082}, 'Layer2': {'[[0, 1, 2, 3, 4, 5, 6, 7]]': 0.5037, '[[0, 1]]': 0.5032, '[[0]]': 0.5075}, 'Layer3': {'[[0, 1, 2, 3, 4, 5, 6, 7]]': 0.4925, '[[0, 1]]': 0.5037, '[[0]]': 0.5081}}, {'accuracy': 0.9983, 'Layer1': {'[[0, 1, 2, 3, 4, 5, 6, 7]]': 0.5012, '[[0, 1]]': 0.5059, '[[0]]': 0.4956}, 'Layer2': {'[[0, 1, 2, 3, 4, 5, 6, 7]]': 0.5027, '[[0, 1]]': 0.4957, '[[0]]': 0.493}, 'Layer3': {'[[0, 1, 2, 3, 4, 5, 6, 7]]': 0.4966, '[[0, 1]]': 0.4996, '[[0]]': 0.5071}}, {'accuracy': 0.9906, 'Layer1': {'[[0, 1, 2, 3, 4, 5, 6, 7]]': 0.4964, '[[0, 1]]': 0.5118, '[[0]]': 0.5024}, 'Layer2': {'[[0, 1, 2, 3, 4, 5, 6, 7]]': 0.4993, '[[0, 1]]': 0.4958, '[[0]]': 0.5061}, 'Layer3': {'[[0, 1, 2, 3, 4, 5, 6, 7]]': 0.4949, '[[0, 1]]': 0.5015, '[[0]]': 0.4977}}, {'accuracy': 0.9955, 'Layer1': {'[[0, 1, 2, 3, 4, 5, 6, 7]]': 0.5024, '[[0, 1]]': 0.5025, '[[0]]': 0.4974}, 'Layer2': {'[[0, 1, 2, 3, 4, 5, 6, 7]]': 0.5068, '[[0, 1]]': 0.5074, '[[0]]': 0.5021}, 'Layer3': {'[[0, 1, 2, 3, 4, 5, 6, 7]]': 0.5036, '[[0, 1]]': 0.5027, '[[0]]': 0.4986}}, {'accuracy': 0.9864, 'Layer1': {'[[0, 1, 2, 3, 4, 5, 6, 7]]': 0.5007, '[[0, 1]]': 0.497, '[[0]]': 0.5085}, 'Layer2': {'[[0, 1, 2, 3, 4, 5, 6, 7]]': 0.4965, '[[0, 1]]': 0.5008, '[[0]]': 0.5003}, 'Layer3': {'[[0, 1, 2, 3, 4, 5, 6, 7]]': 0.4993, '[[0, 1]]': 0.4952, '[[0]]': 0.5048}}, {'accuracy': 0.9995, 'Layer1': {'[[0, 1, 2, 3, 4, 5, 6, 7]]': 0.5043, '[[0, 1]]': 0.5061, '[[0]]': 0.5006}, 'Layer2': {'[[0, 1, 2, 3, 4, 5, 6, 7]]': 0.4927, '[[0, 1]]': 0.4921, '[[0]]': 0.5033}, 'Layer3': {'[[0, 1, 2, 3, 4, 5, 6, 7]]': 0.4967, '[[0, 1]]': 0.5004, '[[0]]': 0.501}}, {'accuracy': 0.9979, 'Layer1': {'[[0, 1, 2, 3, 4, 5, 6, 7]]': 0.5176, '[[0, 1]]': 0.4983, '[[0]]': 0.4984}, 'Layer2': {'[[0, 1, 2, 3, 4, 5, 6, 7]]': 0.4892, '[[0, 1]]': 0.4958, '[[0]]': 0.499}, 'Layer3': {'[[0, 1, 2, 3, 4, 5, 6, 7]]': 0.4996, '[[0, 1]]': 0.4996, '[[0]]': 0.4993}}, {'accuracy': 0.996, 'Layer1': {'[[0, 1, 2, 3, 4, 5, 6, 7]]': 0.5062, '[[0, 1]]': 0.5132, '[[0]]': 0.4955}, 'Layer2': {'[[0, 1, 2, 3, 4, 5, 6, 7]]': 0.4995, '[[0, 1]]': 0.5061, '[[0]]': 0.4957}, 'Layer3': {'[[0, 1, 2, 3, 4, 5, 6, 7]]': 0.5104, '[[0, 1]]': 0.5121, '[[0]]': 0.5077}}, {'accuracy': 0.9975, 'Layer1': {'[[0, 1, 2, 3, 4, 5, 6, 7]]': 0.4932, '[[0, 1]]': 0.4943, '[[0]]': 0.5026}, 'Layer2': {'[[0, 1, 2, 3, 4, 5, 6, 7]]': 0.4981, '[[0, 1]]': 0.4989, '[[0]]': 0.4982}, 'Layer3': {'[[0, 1, 2, 3, 4, 5, 6, 7]]': 0.5027, '[[0, 1]]': 0.5056, '[[0]]': 0.5027}}, {'accuracy': 0.9965, 'Layer1': {'[[0, 1, 2, 3, 4, 5, 6, 7]]': 0.4912, '[[0, 1]]': 0.5014, '[[0]]': 0.497}}]\n",
      "Layer2 : [[0, 1, 2, 3, 4, 5, 6, 7]]\n"
     ]
    },
    {
     "name": "stderr",
     "output_type": "stream",
     "text": [
      "100%|█████████████████████████████████████████████| 1280000/1280000 [01:21<00:00, 15779.85it/s]\n",
      "100%|█████████████████████████████████████████████████| 10000/10000 [00:00<00:00, 16801.61it/s]\n"
     ]
    },
    {
     "name": "stdout",
     "output_type": "stream",
     "text": [
      "[SYST] Prepare Data\n"
     ]
    },
    {
     "name": "stderr",
     "output_type": "stream",
     "text": [
      "100%|████████████████████████████████████████████| 1280000/1280000 [00:08<00:00, 145046.48it/s]\n"
     ]
    },
    {
     "name": "stdout",
     "output_type": "stream",
     "text": [
      "[SYST] Prepare Data\n"
     ]
    },
    {
     "name": "stderr",
     "output_type": "stream",
     "text": [
      "100%|████████████████████████████████████████████████| 10000/10000 [00:00<00:00, 145207.50it/s]"
     ]
    },
    {
     "name": "stdout",
     "output_type": "stream",
     "text": [
      "[SYST] Epoch 0\n"
     ]
    },
    {
     "name": "stderr",
     "output_type": "stream",
     "text": [
      "\n",
      "100%|████████████████████████████████████████████████████████| 200/200 [00:19<00:00, 10.12it/s]\n"
     ]
    },
    {
     "name": "stdout",
     "output_type": "stream",
     "text": [
      "Epoch 1, Loss: 5.647190945148468\n",
      "[SYST] Epoch 1\n"
     ]
    },
    {
     "name": "stderr",
     "output_type": "stream",
     "text": [
      "100%|████████████████████████████████████████████████████████| 200/200 [00:20<00:00,  9.95it/s]\n"
     ]
    },
    {
     "name": "stdout",
     "output_type": "stream",
     "text": [
      "Epoch 2, Loss: 5.396040215492248\n",
      "[SYST] Epoch 2\n"
     ]
    },
    {
     "name": "stderr",
     "output_type": "stream",
     "text": [
      "100%|████████████████████████████████████████████████████████| 200/200 [00:20<00:00,  9.91it/s]\n"
     ]
    },
    {
     "name": "stdout",
     "output_type": "stream",
     "text": [
      "Epoch 3, Loss: 5.327083668708801\n",
      "[SYST] Epoch 3\n"
     ]
    },
    {
     "name": "stderr",
     "output_type": "stream",
     "text": [
      "100%|████████████████████████████████████████████████████████| 200/200 [00:20<00:00,  9.89it/s]\n"
     ]
    },
    {
     "name": "stdout",
     "output_type": "stream",
     "text": [
      "Epoch 4, Loss: 5.290016708374023\n",
      "[SYST] Epoch 4\n"
     ]
    },
    {
     "name": "stderr",
     "output_type": "stream",
     "text": [
      "100%|████████████████████████████████████████████████████████| 200/200 [00:20<00:00,  9.93it/s]\n"
     ]
    },
    {
     "name": "stdout",
     "output_type": "stream",
     "text": [
      "Epoch 5, Loss: 5.2670031666755674\n",
      "[SYST] Epoch 5\n"
     ]
    },
    {
     "name": "stderr",
     "output_type": "stream",
     "text": [
      "100%|████████████████████████████████████████████████████████| 200/200 [00:20<00:00,  9.94it/s]\n"
     ]
    },
    {
     "name": "stdout",
     "output_type": "stream",
     "text": [
      "Epoch 6, Loss: 5.251000587940216\n",
      "[SYST] Epoch 6\n"
     ]
    },
    {
     "name": "stderr",
     "output_type": "stream",
     "text": [
      "100%|████████████████████████████████████████████████████████| 200/200 [00:20<00:00,  9.93it/s]\n"
     ]
    },
    {
     "name": "stdout",
     "output_type": "stream",
     "text": [
      "Epoch 7, Loss: 5.22423672914505\n",
      "[SYST] Epoch 7\n"
     ]
    },
    {
     "name": "stderr",
     "output_type": "stream",
     "text": [
      "100%|████████████████████████████████████████████████████████| 200/200 [00:20<00:00,  9.89it/s]\n"
     ]
    },
    {
     "name": "stdout",
     "output_type": "stream",
     "text": [
      "Epoch 8, Loss: 5.1546105599403385\n",
      "[SYST] Epoch 8\n"
     ]
    },
    {
     "name": "stderr",
     "output_type": "stream",
     "text": [
      "100%|████████████████████████████████████████████████████████| 200/200 [00:20<00:00,  9.91it/s]\n"
     ]
    },
    {
     "name": "stdout",
     "output_type": "stream",
     "text": [
      "Epoch 9, Loss: 5.132743303775787\n",
      "[SYST] Epoch 9\n"
     ]
    },
    {
     "name": "stderr",
     "output_type": "stream",
     "text": [
      "100%|████████████████████████████████████████████████████████| 200/200 [00:20<00:00,  9.87it/s]\n"
     ]
    },
    {
     "name": "stdout",
     "output_type": "stream",
     "text": [
      "Epoch 10, Loss: 5.124953784942627\n",
      "[SYST] Epoch 0\n"
     ]
    },
    {
     "name": "stderr",
     "output_type": "stream",
     "text": [
      "100%|████████████████████████████████████████████████████████████| 2/2 [00:00<00:00, 13.26it/s]\n"
     ]
    },
    {
     "name": "stdout",
     "output_type": "stream",
     "text": [
      "Test Accuracy: 50.04%\n",
      "[{'accuracy': 0.9983, 'Layer1': {'[[0, 1, 2, 3, 4, 5, 6, 7]]': 0.5013, '[[0, 1]]': 0.5039, '[[0]]': 0.5082}, 'Layer2': {'[[0, 1, 2, 3, 4, 5, 6, 7]]': 0.5037, '[[0, 1]]': 0.5032, '[[0]]': 0.5075}, 'Layer3': {'[[0, 1, 2, 3, 4, 5, 6, 7]]': 0.4925, '[[0, 1]]': 0.5037, '[[0]]': 0.5081}}, {'accuracy': 0.9983, 'Layer1': {'[[0, 1, 2, 3, 4, 5, 6, 7]]': 0.5012, '[[0, 1]]': 0.5059, '[[0]]': 0.4956}, 'Layer2': {'[[0, 1, 2, 3, 4, 5, 6, 7]]': 0.5027, '[[0, 1]]': 0.4957, '[[0]]': 0.493}, 'Layer3': {'[[0, 1, 2, 3, 4, 5, 6, 7]]': 0.4966, '[[0, 1]]': 0.4996, '[[0]]': 0.5071}}, {'accuracy': 0.9906, 'Layer1': {'[[0, 1, 2, 3, 4, 5, 6, 7]]': 0.4964, '[[0, 1]]': 0.5118, '[[0]]': 0.5024}, 'Layer2': {'[[0, 1, 2, 3, 4, 5, 6, 7]]': 0.4993, '[[0, 1]]': 0.4958, '[[0]]': 0.5061}, 'Layer3': {'[[0, 1, 2, 3, 4, 5, 6, 7]]': 0.4949, '[[0, 1]]': 0.5015, '[[0]]': 0.4977}}, {'accuracy': 0.9955, 'Layer1': {'[[0, 1, 2, 3, 4, 5, 6, 7]]': 0.5024, '[[0, 1]]': 0.5025, '[[0]]': 0.4974}, 'Layer2': {'[[0, 1, 2, 3, 4, 5, 6, 7]]': 0.5068, '[[0, 1]]': 0.5074, '[[0]]': 0.5021}, 'Layer3': {'[[0, 1, 2, 3, 4, 5, 6, 7]]': 0.5036, '[[0, 1]]': 0.5027, '[[0]]': 0.4986}}, {'accuracy': 0.9864, 'Layer1': {'[[0, 1, 2, 3, 4, 5, 6, 7]]': 0.5007, '[[0, 1]]': 0.497, '[[0]]': 0.5085}, 'Layer2': {'[[0, 1, 2, 3, 4, 5, 6, 7]]': 0.4965, '[[0, 1]]': 0.5008, '[[0]]': 0.5003}, 'Layer3': {'[[0, 1, 2, 3, 4, 5, 6, 7]]': 0.4993, '[[0, 1]]': 0.4952, '[[0]]': 0.5048}}, {'accuracy': 0.9995, 'Layer1': {'[[0, 1, 2, 3, 4, 5, 6, 7]]': 0.5043, '[[0, 1]]': 0.5061, '[[0]]': 0.5006}, 'Layer2': {'[[0, 1, 2, 3, 4, 5, 6, 7]]': 0.4927, '[[0, 1]]': 0.4921, '[[0]]': 0.5033}, 'Layer3': {'[[0, 1, 2, 3, 4, 5, 6, 7]]': 0.4967, '[[0, 1]]': 0.5004, '[[0]]': 0.501}}, {'accuracy': 0.9979, 'Layer1': {'[[0, 1, 2, 3, 4, 5, 6, 7]]': 0.5176, '[[0, 1]]': 0.4983, '[[0]]': 0.4984}, 'Layer2': {'[[0, 1, 2, 3, 4, 5, 6, 7]]': 0.4892, '[[0, 1]]': 0.4958, '[[0]]': 0.499}, 'Layer3': {'[[0, 1, 2, 3, 4, 5, 6, 7]]': 0.4996, '[[0, 1]]': 0.4996, '[[0]]': 0.4993}}, {'accuracy': 0.996, 'Layer1': {'[[0, 1, 2, 3, 4, 5, 6, 7]]': 0.5062, '[[0, 1]]': 0.5132, '[[0]]': 0.4955}, 'Layer2': {'[[0, 1, 2, 3, 4, 5, 6, 7]]': 0.4995, '[[0, 1]]': 0.5061, '[[0]]': 0.4957}, 'Layer3': {'[[0, 1, 2, 3, 4, 5, 6, 7]]': 0.5104, '[[0, 1]]': 0.5121, '[[0]]': 0.5077}}, {'accuracy': 0.9975, 'Layer1': {'[[0, 1, 2, 3, 4, 5, 6, 7]]': 0.4932, '[[0, 1]]': 0.4943, '[[0]]': 0.5026}, 'Layer2': {'[[0, 1, 2, 3, 4, 5, 6, 7]]': 0.4981, '[[0, 1]]': 0.4989, '[[0]]': 0.4982}, 'Layer3': {'[[0, 1, 2, 3, 4, 5, 6, 7]]': 0.5027, '[[0, 1]]': 0.5056, '[[0]]': 0.5027}}, {'accuracy': 0.9965, 'Layer1': {'[[0, 1, 2, 3, 4, 5, 6, 7]]': 0.4912, '[[0, 1]]': 0.5014, '[[0]]': 0.497}, 'Layer2': {'[[0, 1, 2, 3, 4, 5, 6, 7]]': 0.5004}}]\n",
      "Layer2 : [[0, 1]]\n"
     ]
    },
    {
     "name": "stderr",
     "output_type": "stream",
     "text": [
      "100%|█████████████████████████████████████████████| 1280000/1280000 [01:23<00:00, 15403.53it/s]\n",
      "100%|█████████████████████████████████████████████████| 10000/10000 [00:00<00:00, 16965.40it/s]\n"
     ]
    },
    {
     "name": "stdout",
     "output_type": "stream",
     "text": [
      "[SYST] Prepare Data\n"
     ]
    },
    {
     "name": "stderr",
     "output_type": "stream",
     "text": [
      "100%|████████████████████████████████████████████| 1280000/1280000 [00:08<00:00, 158460.61it/s]\n"
     ]
    },
    {
     "name": "stdout",
     "output_type": "stream",
     "text": [
      "[SYST] Prepare Data\n"
     ]
    },
    {
     "name": "stderr",
     "output_type": "stream",
     "text": [
      "100%|████████████████████████████████████████████████| 10000/10000 [00:00<00:00, 161019.64it/s]"
     ]
    },
    {
     "name": "stdout",
     "output_type": "stream",
     "text": [
      "[SYST] Epoch 0\n"
     ]
    },
    {
     "name": "stderr",
     "output_type": "stream",
     "text": [
      "\n",
      "100%|████████████████████████████████████████████████████████| 200/200 [00:19<00:00, 10.11it/s]\n"
     ]
    },
    {
     "name": "stdout",
     "output_type": "stream",
     "text": [
      "Epoch 1, Loss: 5.695870659351349\n",
      "[SYST] Epoch 1\n"
     ]
    },
    {
     "name": "stderr",
     "output_type": "stream",
     "text": [
      "100%|████████████████████████████████████████████████████████| 200/200 [00:19<00:00, 10.01it/s]\n"
     ]
    },
    {
     "name": "stdout",
     "output_type": "stream",
     "text": [
      "Epoch 2, Loss: 5.397851877212524\n",
      "[SYST] Epoch 2\n"
     ]
    },
    {
     "name": "stderr",
     "output_type": "stream",
     "text": [
      "100%|████████████████████████████████████████████████████████| 200/200 [00:19<00:00, 10.01it/s]\n"
     ]
    },
    {
     "name": "stdout",
     "output_type": "stream",
     "text": [
      "Epoch 3, Loss: 5.327441968917847\n",
      "[SYST] Epoch 3\n"
     ]
    },
    {
     "name": "stderr",
     "output_type": "stream",
     "text": [
      "100%|████████████████████████████████████████████████████████| 200/200 [00:20<00:00,  9.97it/s]\n"
     ]
    },
    {
     "name": "stdout",
     "output_type": "stream",
     "text": [
      "Epoch 4, Loss: 5.313110613822937\n",
      "[SYST] Epoch 4\n"
     ]
    },
    {
     "name": "stderr",
     "output_type": "stream",
     "text": [
      "100%|████████████████████████████████████████████████████████| 200/200 [00:20<00:00,  9.96it/s]\n"
     ]
    },
    {
     "name": "stdout",
     "output_type": "stream",
     "text": [
      "Epoch 5, Loss: 5.308492896556854\n",
      "[SYST] Epoch 5\n"
     ]
    },
    {
     "name": "stderr",
     "output_type": "stream",
     "text": [
      "100%|████████████████████████████████████████████████████████| 200/200 [00:20<00:00,  9.97it/s]\n"
     ]
    },
    {
     "name": "stdout",
     "output_type": "stream",
     "text": [
      "Epoch 6, Loss: 5.30103574514389\n",
      "[SYST] Epoch 6\n"
     ]
    },
    {
     "name": "stderr",
     "output_type": "stream",
     "text": [
      "100%|████████████████████████████████████████████████████████| 200/200 [00:20<00:00,  9.98it/s]\n"
     ]
    },
    {
     "name": "stdout",
     "output_type": "stream",
     "text": [
      "Epoch 7, Loss: 5.277329294681549\n",
      "[SYST] Epoch 7\n"
     ]
    },
    {
     "name": "stderr",
     "output_type": "stream",
     "text": [
      "100%|████████████████████████████████████████████████████████| 200/200 [00:20<00:00,  9.99it/s]\n"
     ]
    },
    {
     "name": "stdout",
     "output_type": "stream",
     "text": [
      "Epoch 8, Loss: 5.223212268352508\n",
      "[SYST] Epoch 8\n"
     ]
    },
    {
     "name": "stderr",
     "output_type": "stream",
     "text": [
      "100%|████████████████████████████████████████████████████████| 200/200 [00:20<00:00,  9.94it/s]\n"
     ]
    },
    {
     "name": "stdout",
     "output_type": "stream",
     "text": [
      "Epoch 9, Loss: 5.186868665218353\n",
      "[SYST] Epoch 9\n"
     ]
    },
    {
     "name": "stderr",
     "output_type": "stream",
     "text": [
      "100%|████████████████████████████████████████████████████████| 200/200 [00:19<00:00, 10.01it/s]\n"
     ]
    },
    {
     "name": "stdout",
     "output_type": "stream",
     "text": [
      "Epoch 10, Loss: 5.177505824565888\n",
      "[SYST] Epoch 0\n"
     ]
    },
    {
     "name": "stderr",
     "output_type": "stream",
     "text": [
      "100%|████████████████████████████████████████████████████████████| 2/2 [00:00<00:00, 13.47it/s]\n"
     ]
    },
    {
     "name": "stdout",
     "output_type": "stream",
     "text": [
      "Test Accuracy: 49.29%\n",
      "[{'accuracy': 0.9983, 'Layer1': {'[[0, 1, 2, 3, 4, 5, 6, 7]]': 0.5013, '[[0, 1]]': 0.5039, '[[0]]': 0.5082}, 'Layer2': {'[[0, 1, 2, 3, 4, 5, 6, 7]]': 0.5037, '[[0, 1]]': 0.5032, '[[0]]': 0.5075}, 'Layer3': {'[[0, 1, 2, 3, 4, 5, 6, 7]]': 0.4925, '[[0, 1]]': 0.5037, '[[0]]': 0.5081}}, {'accuracy': 0.9983, 'Layer1': {'[[0, 1, 2, 3, 4, 5, 6, 7]]': 0.5012, '[[0, 1]]': 0.5059, '[[0]]': 0.4956}, 'Layer2': {'[[0, 1, 2, 3, 4, 5, 6, 7]]': 0.5027, '[[0, 1]]': 0.4957, '[[0]]': 0.493}, 'Layer3': {'[[0, 1, 2, 3, 4, 5, 6, 7]]': 0.4966, '[[0, 1]]': 0.4996, '[[0]]': 0.5071}}, {'accuracy': 0.9906, 'Layer1': {'[[0, 1, 2, 3, 4, 5, 6, 7]]': 0.4964, '[[0, 1]]': 0.5118, '[[0]]': 0.5024}, 'Layer2': {'[[0, 1, 2, 3, 4, 5, 6, 7]]': 0.4993, '[[0, 1]]': 0.4958, '[[0]]': 0.5061}, 'Layer3': {'[[0, 1, 2, 3, 4, 5, 6, 7]]': 0.4949, '[[0, 1]]': 0.5015, '[[0]]': 0.4977}}, {'accuracy': 0.9955, 'Layer1': {'[[0, 1, 2, 3, 4, 5, 6, 7]]': 0.5024, '[[0, 1]]': 0.5025, '[[0]]': 0.4974}, 'Layer2': {'[[0, 1, 2, 3, 4, 5, 6, 7]]': 0.5068, '[[0, 1]]': 0.5074, '[[0]]': 0.5021}, 'Layer3': {'[[0, 1, 2, 3, 4, 5, 6, 7]]': 0.5036, '[[0, 1]]': 0.5027, '[[0]]': 0.4986}}, {'accuracy': 0.9864, 'Layer1': {'[[0, 1, 2, 3, 4, 5, 6, 7]]': 0.5007, '[[0, 1]]': 0.497, '[[0]]': 0.5085}, 'Layer2': {'[[0, 1, 2, 3, 4, 5, 6, 7]]': 0.4965, '[[0, 1]]': 0.5008, '[[0]]': 0.5003}, 'Layer3': {'[[0, 1, 2, 3, 4, 5, 6, 7]]': 0.4993, '[[0, 1]]': 0.4952, '[[0]]': 0.5048}}, {'accuracy': 0.9995, 'Layer1': {'[[0, 1, 2, 3, 4, 5, 6, 7]]': 0.5043, '[[0, 1]]': 0.5061, '[[0]]': 0.5006}, 'Layer2': {'[[0, 1, 2, 3, 4, 5, 6, 7]]': 0.4927, '[[0, 1]]': 0.4921, '[[0]]': 0.5033}, 'Layer3': {'[[0, 1, 2, 3, 4, 5, 6, 7]]': 0.4967, '[[0, 1]]': 0.5004, '[[0]]': 0.501}}, {'accuracy': 0.9979, 'Layer1': {'[[0, 1, 2, 3, 4, 5, 6, 7]]': 0.5176, '[[0, 1]]': 0.4983, '[[0]]': 0.4984}, 'Layer2': {'[[0, 1, 2, 3, 4, 5, 6, 7]]': 0.4892, '[[0, 1]]': 0.4958, '[[0]]': 0.499}, 'Layer3': {'[[0, 1, 2, 3, 4, 5, 6, 7]]': 0.4996, '[[0, 1]]': 0.4996, '[[0]]': 0.4993}}, {'accuracy': 0.996, 'Layer1': {'[[0, 1, 2, 3, 4, 5, 6, 7]]': 0.5062, '[[0, 1]]': 0.5132, '[[0]]': 0.4955}, 'Layer2': {'[[0, 1, 2, 3, 4, 5, 6, 7]]': 0.4995, '[[0, 1]]': 0.5061, '[[0]]': 0.4957}, 'Layer3': {'[[0, 1, 2, 3, 4, 5, 6, 7]]': 0.5104, '[[0, 1]]': 0.5121, '[[0]]': 0.5077}}, {'accuracy': 0.9975, 'Layer1': {'[[0, 1, 2, 3, 4, 5, 6, 7]]': 0.4932, '[[0, 1]]': 0.4943, '[[0]]': 0.5026}, 'Layer2': {'[[0, 1, 2, 3, 4, 5, 6, 7]]': 0.4981, '[[0, 1]]': 0.4989, '[[0]]': 0.4982}, 'Layer3': {'[[0, 1, 2, 3, 4, 5, 6, 7]]': 0.5027, '[[0, 1]]': 0.5056, '[[0]]': 0.5027}}, {'accuracy': 0.9965, 'Layer1': {'[[0, 1, 2, 3, 4, 5, 6, 7]]': 0.4912, '[[0, 1]]': 0.5014, '[[0]]': 0.497}, 'Layer2': {'[[0, 1, 2, 3, 4, 5, 6, 7]]': 0.5004, '[[0, 1]]': 0.4929}}]\n",
      "Layer2 : [[0]]\n"
     ]
    },
    {
     "name": "stderr",
     "output_type": "stream",
     "text": [
      "100%|█████████████████████████████████████████████| 1280000/1280000 [01:22<00:00, 15431.97it/s]\n",
      "100%|█████████████████████████████████████████████████| 10000/10000 [00:00<00:00, 16913.37it/s]\n"
     ]
    },
    {
     "name": "stdout",
     "output_type": "stream",
     "text": [
      "[SYST] Prepare Data\n"
     ]
    },
    {
     "name": "stderr",
     "output_type": "stream",
     "text": [
      "100%|████████████████████████████████████████████| 1280000/1280000 [00:07<00:00, 162725.72it/s]\n"
     ]
    },
    {
     "name": "stdout",
     "output_type": "stream",
     "text": [
      "[SYST] Prepare Data\n"
     ]
    },
    {
     "name": "stderr",
     "output_type": "stream",
     "text": [
      "100%|████████████████████████████████████████████████| 10000/10000 [00:00<00:00, 162865.35it/s]"
     ]
    },
    {
     "name": "stdout",
     "output_type": "stream",
     "text": [
      "[SYST] Epoch 0\n"
     ]
    },
    {
     "name": "stderr",
     "output_type": "stream",
     "text": [
      "\n",
      "100%|████████████████████████████████████████████████████████| 200/200 [00:19<00:00, 10.10it/s]\n"
     ]
    },
    {
     "name": "stdout",
     "output_type": "stream",
     "text": [
      "Epoch 1, Loss: 6.374242098331451\n",
      "[SYST] Epoch 1\n"
     ]
    },
    {
     "name": "stderr",
     "output_type": "stream",
     "text": [
      "100%|████████████████████████████████████████████████████████| 200/200 [00:19<00:00, 10.04it/s]\n"
     ]
    },
    {
     "name": "stdout",
     "output_type": "stream",
     "text": [
      "Epoch 2, Loss: 6.021466028690338\n",
      "[SYST] Epoch 2\n"
     ]
    },
    {
     "name": "stderr",
     "output_type": "stream",
     "text": [
      "100%|████████████████████████████████████████████████████████| 200/200 [00:19<00:00, 10.02it/s]\n"
     ]
    },
    {
     "name": "stdout",
     "output_type": "stream",
     "text": [
      "Epoch 3, Loss: 5.991330769062042\n",
      "[SYST] Epoch 3\n"
     ]
    },
    {
     "name": "stderr",
     "output_type": "stream",
     "text": [
      "100%|████████████████████████████████████████████████████████| 200/200 [00:19<00:00, 10.00it/s]\n"
     ]
    },
    {
     "name": "stdout",
     "output_type": "stream",
     "text": [
      "Epoch 4, Loss: 5.967022278308868\n",
      "[SYST] Epoch 4\n"
     ]
    },
    {
     "name": "stderr",
     "output_type": "stream",
     "text": [
      "100%|████████████████████████████████████████████████████████| 200/200 [00:19<00:00, 10.00it/s]\n"
     ]
    },
    {
     "name": "stdout",
     "output_type": "stream",
     "text": [
      "Epoch 5, Loss: 5.946339118480682\n",
      "[SYST] Epoch 5\n"
     ]
    },
    {
     "name": "stderr",
     "output_type": "stream",
     "text": [
      "100%|████████████████████████████████████████████████████████| 200/200 [00:20<00:00,  9.99it/s]\n"
     ]
    },
    {
     "name": "stdout",
     "output_type": "stream",
     "text": [
      "Epoch 6, Loss: 5.929126935005188\n",
      "[SYST] Epoch 6\n"
     ]
    },
    {
     "name": "stderr",
     "output_type": "stream",
     "text": [
      "100%|████████████████████████████████████████████████████████| 200/200 [00:20<00:00,  9.98it/s]\n"
     ]
    },
    {
     "name": "stdout",
     "output_type": "stream",
     "text": [
      "Epoch 7, Loss: 5.916129274368286\n",
      "[SYST] Epoch 7\n"
     ]
    },
    {
     "name": "stderr",
     "output_type": "stream",
     "text": [
      "100%|████████████████████████████████████████████████████████| 200/200 [00:20<00:00,  9.98it/s]\n"
     ]
    },
    {
     "name": "stdout",
     "output_type": "stream",
     "text": [
      "Epoch 8, Loss: 5.906799705028534\n",
      "[SYST] Epoch 8\n"
     ]
    },
    {
     "name": "stderr",
     "output_type": "stream",
     "text": [
      "100%|████████████████████████████████████████████████████████| 200/200 [00:20<00:00, 10.00it/s]\n"
     ]
    },
    {
     "name": "stdout",
     "output_type": "stream",
     "text": [
      "Epoch 9, Loss: 5.9005402565002445\n",
      "[SYST] Epoch 9\n"
     ]
    },
    {
     "name": "stderr",
     "output_type": "stream",
     "text": [
      "100%|████████████████████████████████████████████████████████| 200/200 [00:20<00:00,  9.97it/s]\n"
     ]
    },
    {
     "name": "stdout",
     "output_type": "stream",
     "text": [
      "Epoch 10, Loss: 5.896634435653686\n",
      "[SYST] Epoch 0\n"
     ]
    },
    {
     "name": "stderr",
     "output_type": "stream",
     "text": [
      "100%|████████████████████████████████████████████████████████████| 2/2 [00:00<00:00, 13.34it/s]\n"
     ]
    },
    {
     "name": "stdout",
     "output_type": "stream",
     "text": [
      "Test Accuracy: 50.07%\n",
      "[{'accuracy': 0.9983, 'Layer1': {'[[0, 1, 2, 3, 4, 5, 6, 7]]': 0.5013, '[[0, 1]]': 0.5039, '[[0]]': 0.5082}, 'Layer2': {'[[0, 1, 2, 3, 4, 5, 6, 7]]': 0.5037, '[[0, 1]]': 0.5032, '[[0]]': 0.5075}, 'Layer3': {'[[0, 1, 2, 3, 4, 5, 6, 7]]': 0.4925, '[[0, 1]]': 0.5037, '[[0]]': 0.5081}}, {'accuracy': 0.9983, 'Layer1': {'[[0, 1, 2, 3, 4, 5, 6, 7]]': 0.5012, '[[0, 1]]': 0.5059, '[[0]]': 0.4956}, 'Layer2': {'[[0, 1, 2, 3, 4, 5, 6, 7]]': 0.5027, '[[0, 1]]': 0.4957, '[[0]]': 0.493}, 'Layer3': {'[[0, 1, 2, 3, 4, 5, 6, 7]]': 0.4966, '[[0, 1]]': 0.4996, '[[0]]': 0.5071}}, {'accuracy': 0.9906, 'Layer1': {'[[0, 1, 2, 3, 4, 5, 6, 7]]': 0.4964, '[[0, 1]]': 0.5118, '[[0]]': 0.5024}, 'Layer2': {'[[0, 1, 2, 3, 4, 5, 6, 7]]': 0.4993, '[[0, 1]]': 0.4958, '[[0]]': 0.5061}, 'Layer3': {'[[0, 1, 2, 3, 4, 5, 6, 7]]': 0.4949, '[[0, 1]]': 0.5015, '[[0]]': 0.4977}}, {'accuracy': 0.9955, 'Layer1': {'[[0, 1, 2, 3, 4, 5, 6, 7]]': 0.5024, '[[0, 1]]': 0.5025, '[[0]]': 0.4974}, 'Layer2': {'[[0, 1, 2, 3, 4, 5, 6, 7]]': 0.5068, '[[0, 1]]': 0.5074, '[[0]]': 0.5021}, 'Layer3': {'[[0, 1, 2, 3, 4, 5, 6, 7]]': 0.5036, '[[0, 1]]': 0.5027, '[[0]]': 0.4986}}, {'accuracy': 0.9864, 'Layer1': {'[[0, 1, 2, 3, 4, 5, 6, 7]]': 0.5007, '[[0, 1]]': 0.497, '[[0]]': 0.5085}, 'Layer2': {'[[0, 1, 2, 3, 4, 5, 6, 7]]': 0.4965, '[[0, 1]]': 0.5008, '[[0]]': 0.5003}, 'Layer3': {'[[0, 1, 2, 3, 4, 5, 6, 7]]': 0.4993, '[[0, 1]]': 0.4952, '[[0]]': 0.5048}}, {'accuracy': 0.9995, 'Layer1': {'[[0, 1, 2, 3, 4, 5, 6, 7]]': 0.5043, '[[0, 1]]': 0.5061, '[[0]]': 0.5006}, 'Layer2': {'[[0, 1, 2, 3, 4, 5, 6, 7]]': 0.4927, '[[0, 1]]': 0.4921, '[[0]]': 0.5033}, 'Layer3': {'[[0, 1, 2, 3, 4, 5, 6, 7]]': 0.4967, '[[0, 1]]': 0.5004, '[[0]]': 0.501}}, {'accuracy': 0.9979, 'Layer1': {'[[0, 1, 2, 3, 4, 5, 6, 7]]': 0.5176, '[[0, 1]]': 0.4983, '[[0]]': 0.4984}, 'Layer2': {'[[0, 1, 2, 3, 4, 5, 6, 7]]': 0.4892, '[[0, 1]]': 0.4958, '[[0]]': 0.499}, 'Layer3': {'[[0, 1, 2, 3, 4, 5, 6, 7]]': 0.4996, '[[0, 1]]': 0.4996, '[[0]]': 0.4993}}, {'accuracy': 0.996, 'Layer1': {'[[0, 1, 2, 3, 4, 5, 6, 7]]': 0.5062, '[[0, 1]]': 0.5132, '[[0]]': 0.4955}, 'Layer2': {'[[0, 1, 2, 3, 4, 5, 6, 7]]': 0.4995, '[[0, 1]]': 0.5061, '[[0]]': 0.4957}, 'Layer3': {'[[0, 1, 2, 3, 4, 5, 6, 7]]': 0.5104, '[[0, 1]]': 0.5121, '[[0]]': 0.5077}}, {'accuracy': 0.9975, 'Layer1': {'[[0, 1, 2, 3, 4, 5, 6, 7]]': 0.4932, '[[0, 1]]': 0.4943, '[[0]]': 0.5026}, 'Layer2': {'[[0, 1, 2, 3, 4, 5, 6, 7]]': 0.4981, '[[0, 1]]': 0.4989, '[[0]]': 0.4982}, 'Layer3': {'[[0, 1, 2, 3, 4, 5, 6, 7]]': 0.5027, '[[0, 1]]': 0.5056, '[[0]]': 0.5027}}, {'accuracy': 0.9965, 'Layer1': {'[[0, 1, 2, 3, 4, 5, 6, 7]]': 0.4912, '[[0, 1]]': 0.5014, '[[0]]': 0.497}, 'Layer2': {'[[0, 1, 2, 3, 4, 5, 6, 7]]': 0.5004, '[[0, 1]]': 0.4929, '[[0]]': 0.5007}}]\n",
      "Layer3 : [[0, 1, 2, 3, 4, 5, 6, 7]]\n"
     ]
    },
    {
     "name": "stderr",
     "output_type": "stream",
     "text": [
      "100%|█████████████████████████████████████████████| 1280000/1280000 [01:21<00:00, 15739.58it/s]\n",
      "100%|██████████████████████████████████████████████████| 10000/10000 [00:02<00:00, 4327.87it/s]\n"
     ]
    },
    {
     "name": "stdout",
     "output_type": "stream",
     "text": [
      "[SYST] Prepare Data\n"
     ]
    },
    {
     "name": "stderr",
     "output_type": "stream",
     "text": [
      "100%|████████████████████████████████████████████| 1280000/1280000 [00:08<00:00, 145257.47it/s]\n"
     ]
    },
    {
     "name": "stdout",
     "output_type": "stream",
     "text": [
      "[SYST] Prepare Data\n"
     ]
    },
    {
     "name": "stderr",
     "output_type": "stream",
     "text": [
      "100%|████████████████████████████████████████████████| 10000/10000 [00:00<00:00, 146782.81it/s]"
     ]
    },
    {
     "name": "stdout",
     "output_type": "stream",
     "text": [
      "[SYST] Epoch 0\n"
     ]
    },
    {
     "name": "stderr",
     "output_type": "stream",
     "text": [
      "\n",
      "100%|████████████████████████████████████████████████████████| 200/200 [00:19<00:00, 10.08it/s]\n"
     ]
    },
    {
     "name": "stdout",
     "output_type": "stream",
     "text": [
      "Epoch 1, Loss: 5.130777530670166\n",
      "[SYST] Epoch 1\n"
     ]
    },
    {
     "name": "stderr",
     "output_type": "stream",
     "text": [
      "100%|████████████████████████████████████████████████████████| 200/200 [00:19<00:00, 10.02it/s]\n"
     ]
    },
    {
     "name": "stdout",
     "output_type": "stream",
     "text": [
      "Epoch 2, Loss: 5.070825788974762\n",
      "[SYST] Epoch 2\n"
     ]
    },
    {
     "name": "stderr",
     "output_type": "stream",
     "text": [
      "100%|████████████████████████████████████████████████████████| 200/200 [00:20<00:00,  9.85it/s]\n"
     ]
    },
    {
     "name": "stdout",
     "output_type": "stream",
     "text": [
      "Epoch 3, Loss: 5.069475882053375\n",
      "[SYST] Epoch 3\n"
     ]
    },
    {
     "name": "stderr",
     "output_type": "stream",
     "text": [
      "100%|████████████████████████████████████████████████████████| 200/200 [00:20<00:00,  9.83it/s]\n"
     ]
    },
    {
     "name": "stdout",
     "output_type": "stream",
     "text": [
      "Epoch 4, Loss: 5.06886996269226\n",
      "[SYST] Epoch 4\n"
     ]
    },
    {
     "name": "stderr",
     "output_type": "stream",
     "text": [
      "100%|████████████████████████████████████████████████████████| 200/200 [00:20<00:00,  9.83it/s]\n"
     ]
    },
    {
     "name": "stdout",
     "output_type": "stream",
     "text": [
      "Epoch 5, Loss: 5.068437936306\n",
      "[SYST] Epoch 5\n"
     ]
    },
    {
     "name": "stderr",
     "output_type": "stream",
     "text": [
      "100%|████████████████████████████████████████████████████████| 200/200 [00:20<00:00,  9.85it/s]\n"
     ]
    },
    {
     "name": "stdout",
     "output_type": "stream",
     "text": [
      "Epoch 6, Loss: 5.068422763347626\n",
      "[SYST] Epoch 6\n"
     ]
    },
    {
     "name": "stderr",
     "output_type": "stream",
     "text": [
      "100%|████████████████████████████████████████████████████████| 200/200 [00:20<00:00,  9.88it/s]\n"
     ]
    },
    {
     "name": "stdout",
     "output_type": "stream",
     "text": [
      "Epoch 7, Loss: 5.068254704475403\n",
      "[SYST] Epoch 7\n"
     ]
    },
    {
     "name": "stderr",
     "output_type": "stream",
     "text": [
      "100%|████████████████████████████████████████████████████████| 200/200 [00:20<00:00,  9.91it/s]\n"
     ]
    },
    {
     "name": "stdout",
     "output_type": "stream",
     "text": [
      "Epoch 8, Loss: 5.0681366133689885\n",
      "[SYST] Epoch 8\n"
     ]
    },
    {
     "name": "stderr",
     "output_type": "stream",
     "text": [
      "100%|████████████████████████████████████████████████████████| 200/200 [00:20<00:00,  9.91it/s]\n"
     ]
    },
    {
     "name": "stdout",
     "output_type": "stream",
     "text": [
      "Epoch 9, Loss: 5.067957603931427\n",
      "[SYST] Epoch 9\n"
     ]
    },
    {
     "name": "stderr",
     "output_type": "stream",
     "text": [
      "100%|████████████████████████████████████████████████████████| 200/200 [00:20<00:00,  9.95it/s]\n"
     ]
    },
    {
     "name": "stdout",
     "output_type": "stream",
     "text": [
      "Epoch 10, Loss: 5.067932686805725\n",
      "[SYST] Epoch 0\n"
     ]
    },
    {
     "name": "stderr",
     "output_type": "stream",
     "text": [
      "100%|████████████████████████████████████████████████████████████| 2/2 [00:00<00:00, 13.44it/s]\n"
     ]
    },
    {
     "name": "stdout",
     "output_type": "stream",
     "text": [
      "Test Accuracy: 50.13%\n",
      "[{'accuracy': 0.9983, 'Layer1': {'[[0, 1, 2, 3, 4, 5, 6, 7]]': 0.5013, '[[0, 1]]': 0.5039, '[[0]]': 0.5082}, 'Layer2': {'[[0, 1, 2, 3, 4, 5, 6, 7]]': 0.5037, '[[0, 1]]': 0.5032, '[[0]]': 0.5075}, 'Layer3': {'[[0, 1, 2, 3, 4, 5, 6, 7]]': 0.4925, '[[0, 1]]': 0.5037, '[[0]]': 0.5081}}, {'accuracy': 0.9983, 'Layer1': {'[[0, 1, 2, 3, 4, 5, 6, 7]]': 0.5012, '[[0, 1]]': 0.5059, '[[0]]': 0.4956}, 'Layer2': {'[[0, 1, 2, 3, 4, 5, 6, 7]]': 0.5027, '[[0, 1]]': 0.4957, '[[0]]': 0.493}, 'Layer3': {'[[0, 1, 2, 3, 4, 5, 6, 7]]': 0.4966, '[[0, 1]]': 0.4996, '[[0]]': 0.5071}}, {'accuracy': 0.9906, 'Layer1': {'[[0, 1, 2, 3, 4, 5, 6, 7]]': 0.4964, '[[0, 1]]': 0.5118, '[[0]]': 0.5024}, 'Layer2': {'[[0, 1, 2, 3, 4, 5, 6, 7]]': 0.4993, '[[0, 1]]': 0.4958, '[[0]]': 0.5061}, 'Layer3': {'[[0, 1, 2, 3, 4, 5, 6, 7]]': 0.4949, '[[0, 1]]': 0.5015, '[[0]]': 0.4977}}, {'accuracy': 0.9955, 'Layer1': {'[[0, 1, 2, 3, 4, 5, 6, 7]]': 0.5024, '[[0, 1]]': 0.5025, '[[0]]': 0.4974}, 'Layer2': {'[[0, 1, 2, 3, 4, 5, 6, 7]]': 0.5068, '[[0, 1]]': 0.5074, '[[0]]': 0.5021}, 'Layer3': {'[[0, 1, 2, 3, 4, 5, 6, 7]]': 0.5036, '[[0, 1]]': 0.5027, '[[0]]': 0.4986}}, {'accuracy': 0.9864, 'Layer1': {'[[0, 1, 2, 3, 4, 5, 6, 7]]': 0.5007, '[[0, 1]]': 0.497, '[[0]]': 0.5085}, 'Layer2': {'[[0, 1, 2, 3, 4, 5, 6, 7]]': 0.4965, '[[0, 1]]': 0.5008, '[[0]]': 0.5003}, 'Layer3': {'[[0, 1, 2, 3, 4, 5, 6, 7]]': 0.4993, '[[0, 1]]': 0.4952, '[[0]]': 0.5048}}, {'accuracy': 0.9995, 'Layer1': {'[[0, 1, 2, 3, 4, 5, 6, 7]]': 0.5043, '[[0, 1]]': 0.5061, '[[0]]': 0.5006}, 'Layer2': {'[[0, 1, 2, 3, 4, 5, 6, 7]]': 0.4927, '[[0, 1]]': 0.4921, '[[0]]': 0.5033}, 'Layer3': {'[[0, 1, 2, 3, 4, 5, 6, 7]]': 0.4967, '[[0, 1]]': 0.5004, '[[0]]': 0.501}}, {'accuracy': 0.9979, 'Layer1': {'[[0, 1, 2, 3, 4, 5, 6, 7]]': 0.5176, '[[0, 1]]': 0.4983, '[[0]]': 0.4984}, 'Layer2': {'[[0, 1, 2, 3, 4, 5, 6, 7]]': 0.4892, '[[0, 1]]': 0.4958, '[[0]]': 0.499}, 'Layer3': {'[[0, 1, 2, 3, 4, 5, 6, 7]]': 0.4996, '[[0, 1]]': 0.4996, '[[0]]': 0.4993}}, {'accuracy': 0.996, 'Layer1': {'[[0, 1, 2, 3, 4, 5, 6, 7]]': 0.5062, '[[0, 1]]': 0.5132, '[[0]]': 0.4955}, 'Layer2': {'[[0, 1, 2, 3, 4, 5, 6, 7]]': 0.4995, '[[0, 1]]': 0.5061, '[[0]]': 0.4957}, 'Layer3': {'[[0, 1, 2, 3, 4, 5, 6, 7]]': 0.5104, '[[0, 1]]': 0.5121, '[[0]]': 0.5077}}, {'accuracy': 0.9975, 'Layer1': {'[[0, 1, 2, 3, 4, 5, 6, 7]]': 0.4932, '[[0, 1]]': 0.4943, '[[0]]': 0.5026}, 'Layer2': {'[[0, 1, 2, 3, 4, 5, 6, 7]]': 0.4981, '[[0, 1]]': 0.4989, '[[0]]': 0.4982}, 'Layer3': {'[[0, 1, 2, 3, 4, 5, 6, 7]]': 0.5027, '[[0, 1]]': 0.5056, '[[0]]': 0.5027}}, {'accuracy': 0.9965, 'Layer1': {'[[0, 1, 2, 3, 4, 5, 6, 7]]': 0.4912, '[[0, 1]]': 0.5014, '[[0]]': 0.497}, 'Layer2': {'[[0, 1, 2, 3, 4, 5, 6, 7]]': 0.5004, '[[0, 1]]': 0.4929, '[[0]]': 0.5007}, 'Layer3': {'[[0, 1, 2, 3, 4, 5, 6, 7]]': 0.5013}}]\n",
      "Layer3 : [[0, 1]]\n"
     ]
    },
    {
     "name": "stderr",
     "output_type": "stream",
     "text": [
      "100%|█████████████████████████████████████████████| 1280000/1280000 [01:21<00:00, 15665.96it/s]\n",
      "100%|█████████████████████████████████████████████████| 10000/10000 [00:00<00:00, 16507.90it/s]\n"
     ]
    },
    {
     "name": "stdout",
     "output_type": "stream",
     "text": [
      "[SYST] Prepare Data\n"
     ]
    },
    {
     "name": "stderr",
     "output_type": "stream",
     "text": [
      "100%|████████████████████████████████████████████| 1280000/1280000 [00:08<00:00, 157582.94it/s]\n"
     ]
    },
    {
     "name": "stdout",
     "output_type": "stream",
     "text": [
      "[SYST] Prepare Data\n"
     ]
    },
    {
     "name": "stderr",
     "output_type": "stream",
     "text": [
      "100%|████████████████████████████████████████████████| 10000/10000 [00:00<00:00, 159316.29it/s]"
     ]
    },
    {
     "name": "stdout",
     "output_type": "stream",
     "text": [
      "[SYST] Epoch 0\n"
     ]
    },
    {
     "name": "stderr",
     "output_type": "stream",
     "text": [
      "\n",
      "100%|████████████████████████████████████████████████████████| 200/200 [00:19<00:00, 10.05it/s]\n"
     ]
    },
    {
     "name": "stdout",
     "output_type": "stream",
     "text": [
      "Epoch 1, Loss: 5.275947477817535\n",
      "[SYST] Epoch 1\n"
     ]
    },
    {
     "name": "stderr",
     "output_type": "stream",
     "text": [
      "100%|████████████████████████████████████████████████████████| 200/200 [00:20<00:00, 10.00it/s]\n"
     ]
    },
    {
     "name": "stdout",
     "output_type": "stream",
     "text": [
      "Epoch 2, Loss: 5.0452171993255615\n",
      "[SYST] Epoch 2\n"
     ]
    },
    {
     "name": "stderr",
     "output_type": "stream",
     "text": [
      "100%|████████████████████████████████████████████████████████| 200/200 [00:19<00:00, 10.01it/s]\n"
     ]
    },
    {
     "name": "stdout",
     "output_type": "stream",
     "text": [
      "Epoch 3, Loss: 5.045076737403869\n",
      "[SYST] Epoch 3\n"
     ]
    },
    {
     "name": "stderr",
     "output_type": "stream",
     "text": [
      "100%|████████████████████████████████████████████████████████| 200/200 [00:20<00:00,  9.99it/s]\n"
     ]
    },
    {
     "name": "stdout",
     "output_type": "stream",
     "text": [
      "Epoch 4, Loss: 5.045334222316742\n",
      "[SYST] Epoch 4\n"
     ]
    },
    {
     "name": "stderr",
     "output_type": "stream",
     "text": [
      "100%|████████████████████████████████████████████████████████| 200/200 [00:20<00:00,  9.95it/s]\n"
     ]
    },
    {
     "name": "stdout",
     "output_type": "stream",
     "text": [
      "Epoch 5, Loss: 5.045045604705811\n",
      "[SYST] Epoch 5\n"
     ]
    },
    {
     "name": "stderr",
     "output_type": "stream",
     "text": [
      "100%|████████████████████████████████████████████████████████| 200/200 [00:19<00:00, 10.01it/s]\n"
     ]
    },
    {
     "name": "stdout",
     "output_type": "stream",
     "text": [
      "Epoch 6, Loss: 5.044877278804779\n",
      "[SYST] Epoch 6\n"
     ]
    },
    {
     "name": "stderr",
     "output_type": "stream",
     "text": [
      "100%|████████████████████████████████████████████████████████| 200/200 [00:19<00:00, 10.05it/s]\n"
     ]
    },
    {
     "name": "stdout",
     "output_type": "stream",
     "text": [
      "Epoch 7, Loss: 5.04513720035553\n",
      "[SYST] Epoch 7\n"
     ]
    },
    {
     "name": "stderr",
     "output_type": "stream",
     "text": [
      "100%|████████████████████████████████████████████████████████| 200/200 [00:20<00:00,  9.93it/s]\n"
     ]
    },
    {
     "name": "stdout",
     "output_type": "stream",
     "text": [
      "Epoch 8, Loss: 5.044840099811554\n",
      "[SYST] Epoch 8\n"
     ]
    },
    {
     "name": "stderr",
     "output_type": "stream",
     "text": [
      "100%|████████████████████████████████████████████████████████| 200/200 [00:20<00:00,  9.98it/s]\n"
     ]
    },
    {
     "name": "stdout",
     "output_type": "stream",
     "text": [
      "Epoch 9, Loss: 5.044631335735321\n",
      "[SYST] Epoch 9\n"
     ]
    },
    {
     "name": "stderr",
     "output_type": "stream",
     "text": [
      "100%|████████████████████████████████████████████████████████| 200/200 [00:19<00:00, 10.02it/s]\n"
     ]
    },
    {
     "name": "stdout",
     "output_type": "stream",
     "text": [
      "Epoch 10, Loss: 5.044945342540741\n",
      "[SYST] Epoch 0\n"
     ]
    },
    {
     "name": "stderr",
     "output_type": "stream",
     "text": [
      "100%|████████████████████████████████████████████████████████████| 2/2 [00:00<00:00, 13.48it/s]\n"
     ]
    },
    {
     "name": "stdout",
     "output_type": "stream",
     "text": [
      "Test Accuracy: 49.37%\n",
      "[{'accuracy': 0.9983, 'Layer1': {'[[0, 1, 2, 3, 4, 5, 6, 7]]': 0.5013, '[[0, 1]]': 0.5039, '[[0]]': 0.5082}, 'Layer2': {'[[0, 1, 2, 3, 4, 5, 6, 7]]': 0.5037, '[[0, 1]]': 0.5032, '[[0]]': 0.5075}, 'Layer3': {'[[0, 1, 2, 3, 4, 5, 6, 7]]': 0.4925, '[[0, 1]]': 0.5037, '[[0]]': 0.5081}}, {'accuracy': 0.9983, 'Layer1': {'[[0, 1, 2, 3, 4, 5, 6, 7]]': 0.5012, '[[0, 1]]': 0.5059, '[[0]]': 0.4956}, 'Layer2': {'[[0, 1, 2, 3, 4, 5, 6, 7]]': 0.5027, '[[0, 1]]': 0.4957, '[[0]]': 0.493}, 'Layer3': {'[[0, 1, 2, 3, 4, 5, 6, 7]]': 0.4966, '[[0, 1]]': 0.4996, '[[0]]': 0.5071}}, {'accuracy': 0.9906, 'Layer1': {'[[0, 1, 2, 3, 4, 5, 6, 7]]': 0.4964, '[[0, 1]]': 0.5118, '[[0]]': 0.5024}, 'Layer2': {'[[0, 1, 2, 3, 4, 5, 6, 7]]': 0.4993, '[[0, 1]]': 0.4958, '[[0]]': 0.5061}, 'Layer3': {'[[0, 1, 2, 3, 4, 5, 6, 7]]': 0.4949, '[[0, 1]]': 0.5015, '[[0]]': 0.4977}}, {'accuracy': 0.9955, 'Layer1': {'[[0, 1, 2, 3, 4, 5, 6, 7]]': 0.5024, '[[0, 1]]': 0.5025, '[[0]]': 0.4974}, 'Layer2': {'[[0, 1, 2, 3, 4, 5, 6, 7]]': 0.5068, '[[0, 1]]': 0.5074, '[[0]]': 0.5021}, 'Layer3': {'[[0, 1, 2, 3, 4, 5, 6, 7]]': 0.5036, '[[0, 1]]': 0.5027, '[[0]]': 0.4986}}, {'accuracy': 0.9864, 'Layer1': {'[[0, 1, 2, 3, 4, 5, 6, 7]]': 0.5007, '[[0, 1]]': 0.497, '[[0]]': 0.5085}, 'Layer2': {'[[0, 1, 2, 3, 4, 5, 6, 7]]': 0.4965, '[[0, 1]]': 0.5008, '[[0]]': 0.5003}, 'Layer3': {'[[0, 1, 2, 3, 4, 5, 6, 7]]': 0.4993, '[[0, 1]]': 0.4952, '[[0]]': 0.5048}}, {'accuracy': 0.9995, 'Layer1': {'[[0, 1, 2, 3, 4, 5, 6, 7]]': 0.5043, '[[0, 1]]': 0.5061, '[[0]]': 0.5006}, 'Layer2': {'[[0, 1, 2, 3, 4, 5, 6, 7]]': 0.4927, '[[0, 1]]': 0.4921, '[[0]]': 0.5033}, 'Layer3': {'[[0, 1, 2, 3, 4, 5, 6, 7]]': 0.4967, '[[0, 1]]': 0.5004, '[[0]]': 0.501}}, {'accuracy': 0.9979, 'Layer1': {'[[0, 1, 2, 3, 4, 5, 6, 7]]': 0.5176, '[[0, 1]]': 0.4983, '[[0]]': 0.4984}, 'Layer2': {'[[0, 1, 2, 3, 4, 5, 6, 7]]': 0.4892, '[[0, 1]]': 0.4958, '[[0]]': 0.499}, 'Layer3': {'[[0, 1, 2, 3, 4, 5, 6, 7]]': 0.4996, '[[0, 1]]': 0.4996, '[[0]]': 0.4993}}, {'accuracy': 0.996, 'Layer1': {'[[0, 1, 2, 3, 4, 5, 6, 7]]': 0.5062, '[[0, 1]]': 0.5132, '[[0]]': 0.4955}, 'Layer2': {'[[0, 1, 2, 3, 4, 5, 6, 7]]': 0.4995, '[[0, 1]]': 0.5061, '[[0]]': 0.4957}, 'Layer3': {'[[0, 1, 2, 3, 4, 5, 6, 7]]': 0.5104, '[[0, 1]]': 0.5121, '[[0]]': 0.5077}}, {'accuracy': 0.9975, 'Layer1': {'[[0, 1, 2, 3, 4, 5, 6, 7]]': 0.4932, '[[0, 1]]': 0.4943, '[[0]]': 0.5026}, 'Layer2': {'[[0, 1, 2, 3, 4, 5, 6, 7]]': 0.4981, '[[0, 1]]': 0.4989, '[[0]]': 0.4982}, 'Layer3': {'[[0, 1, 2, 3, 4, 5, 6, 7]]': 0.5027, '[[0, 1]]': 0.5056, '[[0]]': 0.5027}}, {'accuracy': 0.9965, 'Layer1': {'[[0, 1, 2, 3, 4, 5, 6, 7]]': 0.4912, '[[0, 1]]': 0.5014, '[[0]]': 0.497}, 'Layer2': {'[[0, 1, 2, 3, 4, 5, 6, 7]]': 0.5004, '[[0, 1]]': 0.4929, '[[0]]': 0.5007}, 'Layer3': {'[[0, 1, 2, 3, 4, 5, 6, 7]]': 0.5013, '[[0, 1]]': 0.4937}}]\n",
      "Layer3 : [[0]]\n"
     ]
    },
    {
     "name": "stderr",
     "output_type": "stream",
     "text": [
      "100%|█████████████████████████████████████████████| 1280000/1280000 [01:22<00:00, 15544.00it/s]\n",
      "100%|█████████████████████████████████████████████████| 10000/10000 [00:00<00:00, 16704.54it/s]\n"
     ]
    },
    {
     "name": "stdout",
     "output_type": "stream",
     "text": [
      "[SYST] Prepare Data\n"
     ]
    },
    {
     "name": "stderr",
     "output_type": "stream",
     "text": [
      "100%|████████████████████████████████████████████| 1280000/1280000 [00:07<00:00, 161764.91it/s]\n"
     ]
    },
    {
     "name": "stdout",
     "output_type": "stream",
     "text": [
      "[SYST] Prepare Data\n"
     ]
    },
    {
     "name": "stderr",
     "output_type": "stream",
     "text": [
      "100%|████████████████████████████████████████████████| 10000/10000 [00:00<00:00, 161074.68it/s]"
     ]
    },
    {
     "name": "stdout",
     "output_type": "stream",
     "text": [
      "[SYST] Epoch 0\n"
     ]
    },
    {
     "name": "stderr",
     "output_type": "stream",
     "text": [
      "\n",
      "100%|████████████████████████████████████████████████████████| 200/200 [00:19<00:00, 10.07it/s]\n"
     ]
    },
    {
     "name": "stdout",
     "output_type": "stream",
     "text": [
      "Epoch 1, Loss: 5.283528451919556\n",
      "[SYST] Epoch 1\n"
     ]
    },
    {
     "name": "stderr",
     "output_type": "stream",
     "text": [
      "100%|████████████████████████████████████████████████████████| 200/200 [00:19<00:00, 10.03it/s]\n"
     ]
    },
    {
     "name": "stdout",
     "output_type": "stream",
     "text": [
      "Epoch 2, Loss: 5.065073955059051\n",
      "[SYST] Epoch 2\n"
     ]
    },
    {
     "name": "stderr",
     "output_type": "stream",
     "text": [
      "100%|████████████████████████████████████████████████████████| 200/200 [00:19<00:00, 10.04it/s]\n"
     ]
    },
    {
     "name": "stdout",
     "output_type": "stream",
     "text": [
      "Epoch 3, Loss: 5.064246156215668\n",
      "[SYST] Epoch 3\n"
     ]
    },
    {
     "name": "stderr",
     "output_type": "stream",
     "text": [
      "100%|████████████████████████████████████████████████████████| 200/200 [00:19<00:00, 10.03it/s]\n"
     ]
    },
    {
     "name": "stdout",
     "output_type": "stream",
     "text": [
      "Epoch 4, Loss: 5.064067397117615\n",
      "[SYST] Epoch 4\n"
     ]
    },
    {
     "name": "stderr",
     "output_type": "stream",
     "text": [
      "100%|████████████████████████████████████████████████████████| 200/200 [00:19<00:00, 10.04it/s]\n"
     ]
    },
    {
     "name": "stdout",
     "output_type": "stream",
     "text": [
      "Epoch 5, Loss: 5.064047696590424\n",
      "[SYST] Epoch 5\n"
     ]
    },
    {
     "name": "stderr",
     "output_type": "stream",
     "text": [
      "100%|████████████████████████████████████████████████████████| 200/200 [00:19<00:00, 10.01it/s]\n"
     ]
    },
    {
     "name": "stdout",
     "output_type": "stream",
     "text": [
      "Epoch 6, Loss: 5.06393016576767\n",
      "[SYST] Epoch 6\n"
     ]
    },
    {
     "name": "stderr",
     "output_type": "stream",
     "text": [
      "100%|████████████████████████████████████████████████████████| 200/200 [00:19<00:00, 10.03it/s]\n"
     ]
    },
    {
     "name": "stdout",
     "output_type": "stream",
     "text": [
      "Epoch 7, Loss: 5.063757789134979\n",
      "[SYST] Epoch 7\n"
     ]
    },
    {
     "name": "stderr",
     "output_type": "stream",
     "text": [
      "100%|████████████████████████████████████████████████████████| 200/200 [00:19<00:00, 10.04it/s]\n"
     ]
    },
    {
     "name": "stdout",
     "output_type": "stream",
     "text": [
      "Epoch 8, Loss: 5.06369208574295\n",
      "[SYST] Epoch 8\n"
     ]
    },
    {
     "name": "stderr",
     "output_type": "stream",
     "text": [
      "100%|████████████████████████████████████████████████████████| 200/200 [00:20<00:00,  9.99it/s]\n"
     ]
    },
    {
     "name": "stdout",
     "output_type": "stream",
     "text": [
      "Epoch 9, Loss: 5.0634840083122254\n",
      "[SYST] Epoch 9\n"
     ]
    },
    {
     "name": "stderr",
     "output_type": "stream",
     "text": [
      "100%|████████████████████████████████████████████████████████| 200/200 [00:20<00:00,  9.99it/s]\n"
     ]
    },
    {
     "name": "stdout",
     "output_type": "stream",
     "text": [
      "Epoch 10, Loss: 5.063301341533661\n",
      "[SYST] Epoch 0\n"
     ]
    },
    {
     "name": "stderr",
     "output_type": "stream",
     "text": [
      "100%|████████████████████████████████████████████████████████████| 2/2 [00:00<00:00, 13.23it/s]"
     ]
    },
    {
     "name": "stdout",
     "output_type": "stream",
     "text": [
      "Test Accuracy: 49.53%\n",
      "[{'accuracy': 0.9983, 'Layer1': {'[[0, 1, 2, 3, 4, 5, 6, 7]]': 0.5013, '[[0, 1]]': 0.5039, '[[0]]': 0.5082}, 'Layer2': {'[[0, 1, 2, 3, 4, 5, 6, 7]]': 0.5037, '[[0, 1]]': 0.5032, '[[0]]': 0.5075}, 'Layer3': {'[[0, 1, 2, 3, 4, 5, 6, 7]]': 0.4925, '[[0, 1]]': 0.5037, '[[0]]': 0.5081}}, {'accuracy': 0.9983, 'Layer1': {'[[0, 1, 2, 3, 4, 5, 6, 7]]': 0.5012, '[[0, 1]]': 0.5059, '[[0]]': 0.4956}, 'Layer2': {'[[0, 1, 2, 3, 4, 5, 6, 7]]': 0.5027, '[[0, 1]]': 0.4957, '[[0]]': 0.493}, 'Layer3': {'[[0, 1, 2, 3, 4, 5, 6, 7]]': 0.4966, '[[0, 1]]': 0.4996, '[[0]]': 0.5071}}, {'accuracy': 0.9906, 'Layer1': {'[[0, 1, 2, 3, 4, 5, 6, 7]]': 0.4964, '[[0, 1]]': 0.5118, '[[0]]': 0.5024}, 'Layer2': {'[[0, 1, 2, 3, 4, 5, 6, 7]]': 0.4993, '[[0, 1]]': 0.4958, '[[0]]': 0.5061}, 'Layer3': {'[[0, 1, 2, 3, 4, 5, 6, 7]]': 0.4949, '[[0, 1]]': 0.5015, '[[0]]': 0.4977}}, {'accuracy': 0.9955, 'Layer1': {'[[0, 1, 2, 3, 4, 5, 6, 7]]': 0.5024, '[[0, 1]]': 0.5025, '[[0]]': 0.4974}, 'Layer2': {'[[0, 1, 2, 3, 4, 5, 6, 7]]': 0.5068, '[[0, 1]]': 0.5074, '[[0]]': 0.5021}, 'Layer3': {'[[0, 1, 2, 3, 4, 5, 6, 7]]': 0.5036, '[[0, 1]]': 0.5027, '[[0]]': 0.4986}}, {'accuracy': 0.9864, 'Layer1': {'[[0, 1, 2, 3, 4, 5, 6, 7]]': 0.5007, '[[0, 1]]': 0.497, '[[0]]': 0.5085}, 'Layer2': {'[[0, 1, 2, 3, 4, 5, 6, 7]]': 0.4965, '[[0, 1]]': 0.5008, '[[0]]': 0.5003}, 'Layer3': {'[[0, 1, 2, 3, 4, 5, 6, 7]]': 0.4993, '[[0, 1]]': 0.4952, '[[0]]': 0.5048}}, {'accuracy': 0.9995, 'Layer1': {'[[0, 1, 2, 3, 4, 5, 6, 7]]': 0.5043, '[[0, 1]]': 0.5061, '[[0]]': 0.5006}, 'Layer2': {'[[0, 1, 2, 3, 4, 5, 6, 7]]': 0.4927, '[[0, 1]]': 0.4921, '[[0]]': 0.5033}, 'Layer3': {'[[0, 1, 2, 3, 4, 5, 6, 7]]': 0.4967, '[[0, 1]]': 0.5004, '[[0]]': 0.501}}, {'accuracy': 0.9979, 'Layer1': {'[[0, 1, 2, 3, 4, 5, 6, 7]]': 0.5176, '[[0, 1]]': 0.4983, '[[0]]': 0.4984}, 'Layer2': {'[[0, 1, 2, 3, 4, 5, 6, 7]]': 0.4892, '[[0, 1]]': 0.4958, '[[0]]': 0.499}, 'Layer3': {'[[0, 1, 2, 3, 4, 5, 6, 7]]': 0.4996, '[[0, 1]]': 0.4996, '[[0]]': 0.4993}}, {'accuracy': 0.996, 'Layer1': {'[[0, 1, 2, 3, 4, 5, 6, 7]]': 0.5062, '[[0, 1]]': 0.5132, '[[0]]': 0.4955}, 'Layer2': {'[[0, 1, 2, 3, 4, 5, 6, 7]]': 0.4995, '[[0, 1]]': 0.5061, '[[0]]': 0.4957}, 'Layer3': {'[[0, 1, 2, 3, 4, 5, 6, 7]]': 0.5104, '[[0, 1]]': 0.5121, '[[0]]': 0.5077}}, {'accuracy': 0.9975, 'Layer1': {'[[0, 1, 2, 3, 4, 5, 6, 7]]': 0.4932, '[[0, 1]]': 0.4943, '[[0]]': 0.5026}, 'Layer2': {'[[0, 1, 2, 3, 4, 5, 6, 7]]': 0.4981, '[[0, 1]]': 0.4989, '[[0]]': 0.4982}, 'Layer3': {'[[0, 1, 2, 3, 4, 5, 6, 7]]': 0.5027, '[[0, 1]]': 0.5056, '[[0]]': 0.5027}}, {'accuracy': 0.9965, 'Layer1': {'[[0, 1, 2, 3, 4, 5, 6, 7]]': 0.4912, '[[0, 1]]': 0.5014, '[[0]]': 0.497}, 'Layer2': {'[[0, 1, 2, 3, 4, 5, 6, 7]]': 0.5004, '[[0, 1]]': 0.4929, '[[0]]': 0.5007}, 'Layer3': {'[[0, 1, 2, 3, 4, 5, 6, 7]]': 0.5013, '[[0, 1]]': 0.4937, '[[0]]': 0.4953}}]\n"
     ]
    },
    {
     "name": "stderr",
     "output_type": "stream",
     "text": [
      "\n"
     ]
    }
   ],
   "source": [
    "results=[]\n",
    "for acseed in [4287, 3837, 9097, 2635, 5137, 6442, 5234, 4641, 8039, 2266]:\n",
    "    results.append({})\n",
    "    set_seed(acseed)\n",
    "    model,accuracy=make_model(epochs=3)\n",
    "    Layers=[]\n",
    "    Layers.append((\"Layer1\",model.mlp.h[0]))\n",
    "    Layers.append((\"Layer2\",model.mlp.h[1]))\n",
    "    Layers.append((\"Layer3\",model.mlp.h[2]))\n",
    "    inter_dims=[]\n",
    "    \n",
    "    \"\"\"\n",
    "    inter_dims.append([list(range(0,8)),list(range(8,16))])\n",
    "    inter_dims.append([list(range(0,2)),list(range(2,4))])\n",
    "    inter_dims.append([list(range(0,1)),list(range(1,2))])\n",
    "    \"\"\"\n",
    "    inter_dims.append([list(range(0,8))])\n",
    "    inter_dims.append([list(range(0,2))])\n",
    "    inter_dims.append([list(range(0,1))])\n",
    "    \n",
    "    results[-1][\"accuracy\"]=accuracy\n",
    "    for LayerName,Layer in Layers:\n",
    "        results[-1][LayerName]={}\n",
    "        for inter_dim in inter_dims:\n",
    "            print(LayerName,\":\",inter_dim)\n",
    "            #DAS_Train=make_intervention_dataset_variable_intervention_all(1280000,4)\n",
    "            #DAS_Test=make_intervention_dataset_variable_intervention_all(10000,4)\n",
    "            #DAS_Train=make_intervention_dataset_variable_intervention_first(1280000,4)\n",
    "            #DAS_Test=make_intervention_dataset_variable_intervention_first(10000,4)\n",
    "            DAS_Train=make_intervention_dataset_first_input_intervention(1280000,4)\n",
    "            DAS_Test=make_intervention_dataset_first_input_intervention(10000,4)\n",
    "    \n",
    "            #Initialize transformation function\n",
    "            p=Transformation_Function(16)\n",
    "            p.to(DEVICE)\n",
    "            p_inverse=InverseTransformation_Function(p)\n",
    "            \n",
    "            criterion = nn.CrossEntropyLoss()\n",
    "            optimizer = optim.Adam(p.parameters(), lr=0.001)\n",
    "            \n",
    "            phi=phi_class(p,p_inverse,criterion,optimizer)\n",
    "    \n",
    "            \n",
    "    \n",
    "            DAS_Experiment=Distributed_Alignment_Search(Model=model,\n",
    "                                                        Model_Layer=Layer,\n",
    "                                                        Train_Data_Raw=DAS_Train,\n",
    "                                                        Test_Data_Raw=DAS_Test,\n",
    "                                                        Hidden_Layer_Size=16,\n",
    "                                                        Variable_Dimensions=inter_dim,\n",
    "                                                        Transformation_Class=phi,\n",
    "                                                        Device=DEVICE)\n",
    "    \n",
    "            DAS_Experiment.train_test(batch_size=6400,\n",
    "                                      epochs=10,\n",
    "                                      train=True)\n",
    "    \n",
    "            accuracy=DAS_Experiment.train_test(batch_size=6400,\n",
    "                                               train=False)\n",
    "            \n",
    "            results[-1][LayerName][str(inter_dim)]=accuracy\n",
    "            DAS_Experiment.Cleanup()\n",
    "            DAS_Experiment=None\n",
    "            print(results)"
   ]
  },
  {
   "cell_type": "code",
   "execution_count": 12,
   "id": "78a3fd41-02b6-49bc-bbdf-4283677d25fc",
   "metadata": {},
   "outputs": [
    {
     "data": {
      "text/plain": [
       "[{'accuracy': 0.9983,\n",
       "  'Layer1': {'[[0, 1, 2, 3, 4, 5, 6, 7]]': 0.5013,\n",
       "   '[[0, 1]]': 0.5039,\n",
       "   '[[0]]': 0.5082},\n",
       "  'Layer2': {'[[0, 1, 2, 3, 4, 5, 6, 7]]': 0.5037,\n",
       "   '[[0, 1]]': 0.5032,\n",
       "   '[[0]]': 0.5075},\n",
       "  'Layer3': {'[[0, 1, 2, 3, 4, 5, 6, 7]]': 0.4925,\n",
       "   '[[0, 1]]': 0.5037,\n",
       "   '[[0]]': 0.5081}},\n",
       " {'accuracy': 0.9983,\n",
       "  'Layer1': {'[[0, 1, 2, 3, 4, 5, 6, 7]]': 0.5012,\n",
       "   '[[0, 1]]': 0.5059,\n",
       "   '[[0]]': 0.4956},\n",
       "  'Layer2': {'[[0, 1, 2, 3, 4, 5, 6, 7]]': 0.5027,\n",
       "   '[[0, 1]]': 0.4957,\n",
       "   '[[0]]': 0.493},\n",
       "  'Layer3': {'[[0, 1, 2, 3, 4, 5, 6, 7]]': 0.4966,\n",
       "   '[[0, 1]]': 0.4996,\n",
       "   '[[0]]': 0.5071}},\n",
       " {'accuracy': 0.9906,\n",
       "  'Layer1': {'[[0, 1, 2, 3, 4, 5, 6, 7]]': 0.4964,\n",
       "   '[[0, 1]]': 0.5118,\n",
       "   '[[0]]': 0.5024},\n",
       "  'Layer2': {'[[0, 1, 2, 3, 4, 5, 6, 7]]': 0.4993,\n",
       "   '[[0, 1]]': 0.4958,\n",
       "   '[[0]]': 0.5061},\n",
       "  'Layer3': {'[[0, 1, 2, 3, 4, 5, 6, 7]]': 0.4949,\n",
       "   '[[0, 1]]': 0.5015,\n",
       "   '[[0]]': 0.4977}},\n",
       " {'accuracy': 0.9955,\n",
       "  'Layer1': {'[[0, 1, 2, 3, 4, 5, 6, 7]]': 0.5024,\n",
       "   '[[0, 1]]': 0.5025,\n",
       "   '[[0]]': 0.4974},\n",
       "  'Layer2': {'[[0, 1, 2, 3, 4, 5, 6, 7]]': 0.5068,\n",
       "   '[[0, 1]]': 0.5074,\n",
       "   '[[0]]': 0.5021},\n",
       "  'Layer3': {'[[0, 1, 2, 3, 4, 5, 6, 7]]': 0.5036,\n",
       "   '[[0, 1]]': 0.5027,\n",
       "   '[[0]]': 0.4986}},\n",
       " {'accuracy': 0.9864,\n",
       "  'Layer1': {'[[0, 1, 2, 3, 4, 5, 6, 7]]': 0.5007,\n",
       "   '[[0, 1]]': 0.497,\n",
       "   '[[0]]': 0.5085},\n",
       "  'Layer2': {'[[0, 1, 2, 3, 4, 5, 6, 7]]': 0.4965,\n",
       "   '[[0, 1]]': 0.5008,\n",
       "   '[[0]]': 0.5003},\n",
       "  'Layer3': {'[[0, 1, 2, 3, 4, 5, 6, 7]]': 0.4993,\n",
       "   '[[0, 1]]': 0.4952,\n",
       "   '[[0]]': 0.5048}},\n",
       " {'accuracy': 0.9995,\n",
       "  'Layer1': {'[[0, 1, 2, 3, 4, 5, 6, 7]]': 0.5043,\n",
       "   '[[0, 1]]': 0.5061,\n",
       "   '[[0]]': 0.5006},\n",
       "  'Layer2': {'[[0, 1, 2, 3, 4, 5, 6, 7]]': 0.4927,\n",
       "   '[[0, 1]]': 0.4921,\n",
       "   '[[0]]': 0.5033},\n",
       "  'Layer3': {'[[0, 1, 2, 3, 4, 5, 6, 7]]': 0.4967,\n",
       "   '[[0, 1]]': 0.5004,\n",
       "   '[[0]]': 0.501}},\n",
       " {'accuracy': 0.9979,\n",
       "  'Layer1': {'[[0, 1, 2, 3, 4, 5, 6, 7]]': 0.5176,\n",
       "   '[[0, 1]]': 0.4983,\n",
       "   '[[0]]': 0.4984},\n",
       "  'Layer2': {'[[0, 1, 2, 3, 4, 5, 6, 7]]': 0.4892,\n",
       "   '[[0, 1]]': 0.4958,\n",
       "   '[[0]]': 0.499},\n",
       "  'Layer3': {'[[0, 1, 2, 3, 4, 5, 6, 7]]': 0.4996,\n",
       "   '[[0, 1]]': 0.4996,\n",
       "   '[[0]]': 0.4993}},\n",
       " {'accuracy': 0.996,\n",
       "  'Layer1': {'[[0, 1, 2, 3, 4, 5, 6, 7]]': 0.5062,\n",
       "   '[[0, 1]]': 0.5132,\n",
       "   '[[0]]': 0.4955},\n",
       "  'Layer2': {'[[0, 1, 2, 3, 4, 5, 6, 7]]': 0.4995,\n",
       "   '[[0, 1]]': 0.5061,\n",
       "   '[[0]]': 0.4957},\n",
       "  'Layer3': {'[[0, 1, 2, 3, 4, 5, 6, 7]]': 0.5104,\n",
       "   '[[0, 1]]': 0.5121,\n",
       "   '[[0]]': 0.5077}},\n",
       " {'accuracy': 0.9975,\n",
       "  'Layer1': {'[[0, 1, 2, 3, 4, 5, 6, 7]]': 0.4932,\n",
       "   '[[0, 1]]': 0.4943,\n",
       "   '[[0]]': 0.5026},\n",
       "  'Layer2': {'[[0, 1, 2, 3, 4, 5, 6, 7]]': 0.4981,\n",
       "   '[[0, 1]]': 0.4989,\n",
       "   '[[0]]': 0.4982},\n",
       "  'Layer3': {'[[0, 1, 2, 3, 4, 5, 6, 7]]': 0.5027,\n",
       "   '[[0, 1]]': 0.5056,\n",
       "   '[[0]]': 0.5027}},\n",
       " {'accuracy': 0.9965,\n",
       "  'Layer1': {'[[0, 1, 2, 3, 4, 5, 6, 7]]': 0.4912,\n",
       "   '[[0, 1]]': 0.5014,\n",
       "   '[[0]]': 0.497},\n",
       "  'Layer2': {'[[0, 1, 2, 3, 4, 5, 6, 7]]': 0.5004,\n",
       "   '[[0, 1]]': 0.4929,\n",
       "   '[[0]]': 0.5007},\n",
       "  'Layer3': {'[[0, 1, 2, 3, 4, 5, 6, 7]]': 0.5013,\n",
       "   '[[0, 1]]': 0.4937,\n",
       "   '[[0]]': 0.4953}}]"
      ]
     },
     "execution_count": 12,
     "metadata": {},
     "output_type": "execute_result"
    }
   ],
   "source": [
    "results"
   ]
  },
  {
   "cell_type": "code",
   "execution_count": 13,
   "id": "d9f264d2-f233-460b-af1f-d8dfaee281c2",
   "metadata": {},
   "outputs": [],
   "source": [
    "import json\n",
    "with open('results.json', 'w') as f:\n",
    "    json.dump(results, f)\n"
   ]
  },
  {
   "cell_type": "code",
   "execution_count": null,
   "id": "046d7e6b-1ea2-469a-ac78-5983b20349cb",
   "metadata": {},
   "outputs": [],
   "source": []
  }
 ],
 "metadata": {
  "kernelspec": {
   "display_name": "Python 3 (ipykernel)",
   "language": "python",
   "name": "python3"
  },
  "language_info": {
   "codemirror_mode": {
    "name": "ipython",
    "version": 3
   },
   "file_extension": ".py",
   "mimetype": "text/x-python",
   "name": "python",
   "nbconvert_exporter": "python",
   "pygments_lexer": "ipython3",
   "version": "3.12.7"
  }
 },
 "nbformat": 4,
 "nbformat_minor": 5
}
