{
 "cells": [
  {
   "cell_type": "code",
   "execution_count": 1,
   "id": "3a059ffa-2948-4a1a-b96f-269e6106faa1",
   "metadata": {},
   "outputs": [],
   "source": [
    "#check if model stays the same\n",
    "#reimplement data generation"
   ]
  },
  {
   "cell_type": "code",
   "execution_count": 2,
   "id": "5f9c7a74-0fa0-4744-819a-12619cec2503",
   "metadata": {},
   "outputs": [],
   "source": [
    "import torch\n",
    "import torch.nn as nn\n",
    "import torch.optim as optim\n",
    "from torch.utils.data import DataLoader, TensorDataset\n",
    "import pickle\n",
    "from tqdm import tqdm\n",
    "import random\n",
    "import numpy as np\n",
    "\n",
    "DEVICE=\"cpu\"\n"
   ]
  },
  {
   "cell_type": "code",
   "execution_count": 3,
   "id": "81a91f40-f788-435e-86e8-6be14fdf17ee",
   "metadata": {},
   "outputs": [],
   "source": [
    "def set_seed(seed):\n",
    "    # Set the seed for the random module\n",
    "    random.seed(seed)\n",
    "    \n",
    "    # Set the seed for numpy\n",
    "    np.random.seed(seed)\n",
    "    \n",
    "    # Set the seed for PyTorch (CPU)\n",
    "    torch.manual_seed(seed)\n",
    "    \n",
    "    # Set the seed for PyTorch (GPU) if you are using CUDA\n",
    "    if torch.cuda.is_available():\n",
    "        torch.cuda.manual_seed(seed)\n",
    "        torch.cuda.manual_seed_all(seed)  # For multi-GPU setups\n",
    "    \n",
    "    # Ensure deterministic behavior in PyTorch\n",
    "    torch.backends.cudnn.deterministic = True  # This makes the computations deterministic\n",
    "    torch.backends.cudnn.benchmark = False  # Disable auto-tuning for performance optimization\n",
    "    \n",
    "    # For reproducibility of other libraries like Python's `random`\n",
    "    torch.random.manual_seed(seed)\n",
    "\n"
   ]
  },
  {
   "cell_type": "code",
   "execution_count": 4,
   "id": "247c1827-904c-4d9b-891e-27185f62dde4",
   "metadata": {},
   "outputs": [],
   "source": [
    "\n",
    "\n",
    "class MLPBlock(nn.Module):\n",
    "    def __init__(self, in_features=16, out_features=16, dropout_prob=0.0):\n",
    "        super(MLPBlock, self).__init__()\n",
    "        self.ff1 = nn.Linear(in_features, out_features)\n",
    "        self.act = nn.ReLU()\n",
    "        self.dropout = nn.Dropout(p=dropout_prob)\n",
    "\n",
    "    def forward(self, x):\n",
    "        x = self.ff1(x)\n",
    "        x = self.act(x)\n",
    "        x = self.dropout(x)\n",
    "        return x\n",
    "\n",
    "class MLPModel(nn.Module):\n",
    "    def __init__(self, input_size=16, hidden_size=16, num_blocks=3, dropout_prob=0.0):\n",
    "        super(MLPModel, self).__init__()\n",
    "        self.dropout = nn.Dropout(p=dropout_prob)\n",
    "        self.h = nn.ModuleList([MLPBlock(hidden_size, hidden_size, dropout_prob) for _ in range(num_blocks)])\n",
    "\n",
    "    def forward(self, x):\n",
    "        x = self.dropout(x)\n",
    "        for layer in self.h:\n",
    "            x = layer(x)\n",
    "        return x\n",
    "\n",
    "class MLPForClassification(nn.Module):\n",
    "    def __init__(self, input_size=16, hidden_size=16, num_classes=2, num_blocks=3, dropout_prob=0.0):\n",
    "        super(MLPForClassification, self).__init__()\n",
    "        self.mlp = MLPModel(input_size, hidden_size, num_blocks, dropout_prob)\n",
    "        self.score = nn.Linear(hidden_size, num_classes)\n",
    "\n",
    "    def forward(self, x):\n",
    "        x = self.mlp(x)\n",
    "        x = self.score(x)\n",
    "        return x\n",
    "\n"
   ]
  },
  {
   "cell_type": "code",
   "execution_count": 5,
   "id": "12477b92-48a7-4fab-ae78-6cd16a1b2a0a",
   "metadata": {},
   "outputs": [],
   "source": [
    "def randvec(n=50, lower=-0.5, upper=0.5):\n",
    "    \"\"\"\n",
    "    Returns a random vector of length `n`. `w` is ignored.\n",
    "\n",
    "    \"\"\"\n",
    "    return np.array([random.uniform(lower, upper) for i in range(n)])\n",
    "\n",
    "def create_same_pair(embedding_size):\n",
    "    vec=randvec(embedding_size)\n",
    "    return vec,vec\n",
    "\n",
    "def create_diff_pair(embedding_size):\n",
    "    similar=True\n",
    "    while similar:\n",
    "        vec1=randvec(embedding_size)\n",
    "        vec2=randvec(embedding_size)\n",
    "        if not (vec1 == vec2).all():\n",
    "            similar=False\n",
    "    return vec1,vec2\n",
    "\n",
    "\n",
    "def make_dataset_sample_model(embedding_size,variable1=False,variable2=False):\n",
    "    First_pair_same=random.choice([True,False])\n",
    "    if First_pair_same:\n",
    "        First_pair=create_same_pair(embedding_size)\n",
    "    else:\n",
    "        First_pair=create_diff_pair(embedding_size)\n",
    "        \n",
    "    Second_pair_same=random.choice([True,False])\n",
    "    if Second_pair_same:\n",
    "        Second_pair=create_same_pair(embedding_size)\n",
    "    else:\n",
    "        Second_pair=create_diff_pair(embedding_size)\n",
    "    \n",
    "    modelinput=np.concatenate((First_pair, Second_pair), axis=None)\n",
    "    if First_pair_same==Second_pair_same:\n",
    "        label=1.0\n",
    "    else:\n",
    "        label=0.0\n",
    "    return modelinput,label\n",
    "\n",
    "def make_model_dataset(size,embedding_size):\n",
    "    model_inputs=[]\n",
    "    labels=[]\n",
    "    for _ in tqdm(range(size)):\n",
    "        model_input,label=make_dataset_sample_model(embedding_size)\n",
    "        model_inputs.append(model_input)\n",
    "        labels.append(label)\n",
    "    return torch.tensor(model_inputs, dtype=torch.float32).to(DEVICE),torch.tensor(labels, dtype=torch.float32).to(DEVICE)\n",
    "\n",
    "\n",
    "\n",
    "def make_dataset_sample_variable_intervention(embedding_size,variable1=False,variable2=False):\n",
    "    First_pair_same=random.choice([True,False])\n",
    "    if First_pair_same:\n",
    "        First_pair=create_same_pair(embedding_size)\n",
    "    else:\n",
    "        First_pair=create_diff_pair(embedding_size)\n",
    "    source_first_pair=[(np.zeros(embedding_size),np.zeros(embedding_size)),(np.zeros(embedding_size),np.zeros(embedding_size))]\n",
    "    if variable1:\n",
    "        First_pair_same=random.choice([True,False])\n",
    "        if First_pair_same:\n",
    "            source_first_pair=create_same_pair(embedding_size)\n",
    "        else:\n",
    "            source_first_pair=create_diff_pair(embedding_size)\n",
    "        if random.choice([True,False]):\n",
    "            source_first_pair=[source_first_pair,create_same_pair(embedding_size)]\n",
    "        else:\n",
    "            source_first_pair=[source_first_pair,create_diff_pair(embedding_size)]\n",
    "        \n",
    "    \n",
    "    Second_pair_same=random.choice([True,False])\n",
    "    if Second_pair_same:\n",
    "        Second_pair=create_same_pair(embedding_size)\n",
    "    else:\n",
    "        Second_pair=create_diff_pair(embedding_size)\n",
    "    source_second_pair=[(np.zeros(embedding_size),np.zeros(embedding_size)),(np.zeros(embedding_size),np.zeros(embedding_size))]\n",
    "    if variable2:\n",
    "        Second_pair_same=random.choice([True,False])\n",
    "        if Second_pair_same:\n",
    "            source_second_pair=create_same_pair(embedding_size)\n",
    "        else:\n",
    "            source_second_pair=create_diff_pair(embedding_size)\n",
    "        if random.choice([True,False]):\n",
    "            source_second_pair=[create_same_pair(embedding_size),source_second_pair]\n",
    "        else:\n",
    "            source_second_pair=[create_diff_pair(embedding_size),source_second_pair]\n",
    "    \n",
    "    \n",
    "    modelinput=np.concatenate((First_pair, Second_pair), axis=None)\n",
    "    source0=np.concatenate(source_first_pair, axis=None)\n",
    "    source1=np.concatenate(source_second_pair, axis=None)\n",
    "    if First_pair_same==Second_pair_same:\n",
    "        label=1.0\n",
    "    else:\n",
    "        label=0.0\n",
    "    return modelinput,label,source0,source1\n",
    "\n",
    "def make_intervention_dataset_variable_intervention_all(size,embedding_size):\n",
    "    intervention_data=[]\n",
    "    for _ in tqdm(range(size)):\n",
    "        variable1,variable2=random.choice([(True,False),(False,True),(True,True)])\n",
    "        base,label,source0,source1=make_dataset_sample_variable_intervention(embedding_size,variable1=variable1,variable2=variable2)\n",
    "        intervention_data.append({})\n",
    "        intervention_data[-1][\"base\"]=torch.tensor(base, dtype=torch.float32)\n",
    "        intervention_data[-1][\"label\"]=torch.tensor(label, dtype=torch.float32)\n",
    "        intervention_data[-1][\"sources\"]=torch.tensor([source0,source1], dtype=torch.float32)\n",
    "        intervention_data[-1][\"intervention\"]=[variable1,variable2]\n",
    "        #print(intervention_data[-1])\n",
    "    return intervention_data\n",
    "\n",
    "def make_intervention_dataset_variable_intervention_first(size,embedding_size):\n",
    "    intervention_data=[]\n",
    "    for _ in tqdm(range(size)):\n",
    "        base,label,source0,source1=make_dataset_sample_variable_intervention(embedding_size,variable1=True,variable2=False)\n",
    "        intervention_data.append({})\n",
    "        intervention_data[-1][\"base\"]=torch.tensor(base, dtype=torch.float32)\n",
    "        intervention_data[-1][\"label\"]=torch.tensor(label, dtype=torch.float32)\n",
    "        intervention_data[-1][\"sources\"]=torch.tensor([source0,source1], dtype=torch.float32)\n",
    "        intervention_data[-1][\"intervention\"]=[True,False]\n",
    "        #print(intervention_data[-1])\n",
    "    return intervention_data\n",
    "\n",
    "\n",
    "\n",
    "\n",
    "def make_dataset_sample_first_input_intervention(embedding_size):\n",
    "    First_pair_same=random.choice([True,False])\n",
    "    if First_pair_same:\n",
    "        First_pair=create_same_pair(embedding_size)\n",
    "    else:\n",
    "        First_pair=create_diff_pair(embedding_size)\n",
    "    \n",
    "    Second_pair_same=random.choice([True,False])\n",
    "    if Second_pair_same:\n",
    "        Second_pair=create_same_pair(embedding_size)\n",
    "    else:\n",
    "        Second_pair=create_diff_pair(embedding_size)\n",
    "\n",
    "\n",
    "    source=[]\n",
    "    First_pair_same=random.choice([True,False])\n",
    "    if First_pair_same: #equal or not in first variable\n",
    "        if random.choice([True,False]): #Same source pair\n",
    "            source.append((First_pair[1],First_pair[1]))\n",
    "        else: #Different source pair\n",
    "            new_vec=randvec(embedding_size)\n",
    "            while (new_vec == First_pair[1]).all():\n",
    "                new_vec=randvec(embedding_size)\n",
    "            source.append((First_pair[1],new_vec))\n",
    "            \n",
    "    else:\n",
    "        new_vec1=randvec(embedding_size)\n",
    "        while (new_vec1 == First_pair[1]).all():\n",
    "            new_vec1=randvec(embedding_size)\n",
    "        if random.choice([True,False]): #Same source pair\n",
    "            source.append((new_vec1,new_vec1))\n",
    "        else: #Different source pair\n",
    "            new_vec2=randvec(embedding_size)\n",
    "            while (new_vec2 == new_vec1).all():\n",
    "                new_vec2=randvec(embedding_size)\n",
    "            source.append((new_vec1,new_vec2))\n",
    "\n",
    "    if random.choice([True,False]):\n",
    "        source.append(create_same_pair(embedding_size))\n",
    "    else:\n",
    "        source.append(create_diff_pair(embedding_size))\n",
    "    \n",
    "    \n",
    "    modelinput=np.concatenate((First_pair, Second_pair), axis=None)\n",
    "    source=np.concatenate(source, axis=None)\n",
    "    if First_pair_same==Second_pair_same:\n",
    "        label=1.0\n",
    "    else:\n",
    "        label=0.0\n",
    "    return modelinput,label,source\n",
    "    \n",
    "\n",
    "\n",
    "def make_intervention_dataset_first_input_intervention(size,embedding_size):\n",
    "    intervention_data=[]\n",
    "    for _ in tqdm(range(size)):\n",
    "        base,label,source=make_dataset_sample_first_input_intervention(embedding_size)\n",
    "        intervention_data.append({})\n",
    "        intervention_data[-1][\"base\"]=torch.tensor(base, dtype=torch.float32)\n",
    "        intervention_data[-1][\"label\"]=torch.tensor(label, dtype=torch.float32)\n",
    "        intervention_data[-1][\"sources\"]=torch.tensor([source], dtype=torch.float32)\n",
    "        intervention_data[-1][\"intervention\"]=[True]\n",
    "    return intervention_data\n",
    "\n",
    "\n"
   ]
  },
  {
   "cell_type": "code",
   "execution_count": 6,
   "id": "d3648a88-495f-47cb-8889-5e8ea1a07958",
   "metadata": {},
   "outputs": [],
   "source": [
    "def train_model(model,batch_size = 1024,epochs=3):\n",
    "    #Training\n",
    "    #X_train,y_train=make_model_dataset(1048576,4)\n",
    "    with open(\"X_train.pkl\", \"rb\") as f:\n",
    "        X_train = pickle.load(f)\n",
    "    X_train=X_train.to(DEVICE)\n",
    "    \n",
    "    with open(\"y_train.pkl\", \"rb\") as f:\n",
    "        y_train = pickle.load(f)\n",
    "    y_train=y_train.to(DEVICE)\n",
    "\n",
    "    # Create DataLoader\n",
    "    \n",
    "    \n",
    "    train_dataset = TensorDataset(X_train, y_train)\n",
    "    train_loader = DataLoader(train_dataset, batch_size=batch_size, shuffle=True)\n",
    "    \n",
    "    # Initialize model, loss function, and optimizer\n",
    "    criterion = nn.CrossEntropyLoss()\n",
    "    optimizer = optim.Adam(model.parameters(), lr=0.001)\n",
    "    \n",
    "    # Train\n",
    "    model.train()\n",
    "    for epoch in range(epochs):\n",
    "        total_loss = 0\n",
    "        for X_batch, y_batch in tqdm(train_loader):\n",
    "            optimizer.zero_grad()\n",
    "            outputs = model(X_batch)\n",
    "            loss = criterion(outputs, y_batch.squeeze().long())\n",
    "            loss.backward()\n",
    "            optimizer.step()\n",
    "            total_loss += loss.item()\n",
    "        print(f\"Epoch {epoch+1}, Loss: {total_loss / len(train_loader)}\")\n",
    "    return model"
   ]
  },
  {
   "cell_type": "code",
   "execution_count": 7,
   "id": "8c168250-1742-4c61-9ca4-33b737b4634c",
   "metadata": {},
   "outputs": [],
   "source": [
    "def test_model(model,batch_size = 1024):\n",
    "    #Testing:\n",
    "    with open(\"X_test.pkl\", \"rb\") as f:\n",
    "        X_test = pickle.load(f)\n",
    "    X_test=X_test.to(DEVICE)\n",
    "    \n",
    "    with open(\"y_test.pkl\", \"rb\") as f:\n",
    "        y_test = pickle.load(f)\n",
    "    y_test=y_test.to(DEVICE)\n",
    "    test_dataset = TensorDataset(X_test, y_test)\n",
    "    test_loader = DataLoader(test_dataset, batch_size=batch_size, shuffle=False)\n",
    "    \n",
    "    \n",
    "    model.eval()\n",
    "    correct = 0\n",
    "    total = 0\n",
    "    with torch.no_grad():\n",
    "        for X_batch, y_batch in tqdm(test_loader):\n",
    "            outputs = model(X_batch)\n",
    "            _, predicted = torch.max(outputs, 1)\n",
    "            correct += (predicted == y_batch.squeeze()).sum().item()\n",
    "            total += y_batch.size(0)\n",
    "    accuracy = correct / total\n",
    "    print(f\"Test Accuracy: {accuracy:.4f}\")\n",
    "    return accuracy"
   ]
  },
  {
   "cell_type": "code",
   "execution_count": 8,
   "id": "866314f5-fabf-46b9-8168-eb94084771aa",
   "metadata": {},
   "outputs": [],
   "source": [
    "def make_model(epochs=3):\n",
    "    model = MLPForClassification()\n",
    "    model.to(DEVICE)\n",
    "    model=train_model(model,epochs=epochs)\n",
    "    accuracy=test_model(model)\n",
    "    return model,accuracy"
   ]
  },
  {
   "cell_type": "code",
   "execution_count": 9,
   "id": "e8413b20-ee20-4554-8d7b-b51f6546a3aa",
   "metadata": {},
   "outputs": [],
   "source": [
    "class RotateLayer(torch.nn.Module):\n",
    "    \"\"\"A learnable linear transformation initialized as an orthogonal matrix.\"\"\"\n",
    "\n",
    "    def __init__(self, n, init_orth=True):\n",
    "        \"\"\"\n",
    "        Args:\n",
    "            n (int): Dimension of the square transformation matrix.\n",
    "            init_orth (bool): If True, initializes the matrix with an orthogonal weight.\n",
    "        \"\"\"\n",
    "        super().__init__()\n",
    "        weight = torch.empty(n, n)  # Create an empty n x n matrix\n",
    "        \n",
    "        # We don't need initialization if loading from a pretrained checkpoint.\n",
    "        # You can explore different initialization strategies if necessary, but this isn't our focus.\n",
    "        if init_orth:\n",
    "            torch.nn.init.orthogonal_(weight)\n",
    "        \n",
    "        self.weight = torch.nn.Parameter(weight, requires_grad=True)  # Learnable weight matrix\n",
    "\n",
    "    def forward(self, x):\n",
    "        \"\"\"Applies the rotation matrix to the input tensor.\"\"\"\n",
    "        return torch.matmul(x.to(self.weight.dtype), self.weight)\n",
    "        \n",
    "\n",
    "class Transformation_Function(nn.Module):\n",
    "    \"\"\"Encapsulates the rotation transformation as a PyTorch module.\"\"\"\n",
    "\n",
    "    def __init__(self, embed_dim=16):\n",
    "        \"\"\"\n",
    "        Args:\n",
    "            embed_dim (int): The embedding dimension (size of the transformation matrix).\n",
    "        \"\"\"\n",
    "        super(Transformation_Function, self).__init__()\n",
    "        \n",
    "        rotate_layer = RotateLayer(embed_dim)  # Initialize the rotation layer\n",
    "        # Ensure the transformation remains an orthogonal matrix\n",
    "        self.rotate_layer = torch.nn.utils.parametrizations.orthogonal(rotate_layer)\n",
    "\n",
    "    def forward(self, x):\n",
    "        \"\"\"Applies the orthogonal transformation to the input tensor.\"\"\"\n",
    "        return self.rotate_layer(x)\n",
    "\n",
    "\n",
    "class InverseTransformation_Function(nn.Module):\n",
    "    \"\"\"Computes the inverse of the given transformation function (phi).\"\"\"\n",
    "\n",
    "    def __init__(self, transformation_function: Transformation_Function):\n",
    "        \"\"\"\n",
    "        Args:\n",
    "            transformation_function (Transformation_Function): The forward transformation function.\n",
    "        \"\"\"\n",
    "        super(InverseTransformation_Function, self).__init__()\n",
    "        self.transformation_function = transformation_function  # Store reference to the transformation\n",
    "\n",
    "    def forward(self, x):\n",
    "        \"\"\"Applies the inverse transformation by transposing the orthogonal weight matrix.\"\"\"\n",
    "        weight_T = self.transformation_function.rotate_layer.weight.T  # Use matrix transpose as inverse\n",
    "        return torch.matmul(x.to(weight_T.dtype), weight_T)\n",
    "\n",
    "class phi_class:\n",
    "    def __init__(self, phi,phi_inv,criterion,optimizer):\n",
    "        self.phi=phi\n",
    "        self.phi_inv=phi_inv\n",
    "        self.criterion=criterion\n",
    "        self.optimizer=optimizer\n",
    "\n"
   ]
  },
  {
   "cell_type": "code",
   "execution_count": 10,
   "id": "d1506670-e9ca-4f7b-9be1-717698c9f924",
   "metadata": {},
   "outputs": [],
   "source": [
    "class Distributed_Alignment_Search:\n",
    "\n",
    "    \n",
    "    def __init__(self, \n",
    "                 Model,\n",
    "                 Model_Layer,\n",
    "                 Train_Data_Raw,\n",
    "                 Test_Data_Raw,\n",
    "                 Hidden_Layer_Size,\n",
    "                 Variable_Dimensions,\n",
    "                 Transformation_Class,\n",
    "                 Device):\n",
    "        self.Model=Model\n",
    "        self.Model_Layer=Model_Layer\n",
    "        self.Hidden_Layer_Size=Hidden_Layer_Size\n",
    "        self.Variable_Dimensions=Variable_Dimensions\n",
    "        self.Num_Varibales=len(self.Variable_Dimensions)\n",
    "        self.Transformation_Class=Transformation_Class\n",
    "        self.Device=Device\n",
    "\n",
    "        self.mode_info=None\n",
    "        self.base_activations=None\n",
    "        self.source_activations=None\n",
    "\n",
    "        \n",
    "        self.Train_Dataset,self.Train_Sample_Number=self.Prepare_Dataset(Train_Data_Raw)\n",
    "        self.Test_Dataset,self.Test_Samples_Number=self.Prepare_Dataset(Test_Data_Raw)\n",
    "\n",
    "   \n",
    "        self.Hook=self.register_intervention_hook(self.Model_Layer)\n",
    "        \n",
    "\n",
    "    def Prepare_Dataset(self,Raw_Dataset): \n",
    "        Clean_Dataset={}\n",
    "        Clean_Dataset[\"base\"]=[]\n",
    "        Clean_Dataset[\"sources\"]=[]\n",
    "        for _ in range(self.Num_Varibales):\n",
    "            Clean_Dataset[\"sources\"].append([])\n",
    "        Clean_Dataset[\"label\"]=[]\n",
    "        Clean_Dataset[\"intervention\"]=[]\n",
    "\n",
    "        #Actually adapted to the dataset I am using. Needs to be changed later:\n",
    "        print(\"[SYST] Prepare Data\")\n",
    "        for ac_DP_pos in tqdm(range(len(Raw_Dataset))):\n",
    "            #base input\n",
    "            ac_DP=Raw_Dataset[ac_DP_pos]\n",
    "            Clean_Dataset[\"base\"].append(ac_DP[\"base\"])\n",
    "\n",
    "            #expected label after intervention\n",
    "            Clean_Dataset[\"label\"].append(ac_DP[\"label\"])\n",
    "\n",
    "            #source inputs\n",
    "            for var_dim in range(ac_DP['sources'].shape[0]):\n",
    "                Clean_Dataset[\"sources\"][var_dim].append(ac_DP['sources'][var_dim])\n",
    "\n",
    "            #intervention data\n",
    "            Clean_Dataset[\"intervention\"].append([])\n",
    "            for Hidden_Dimension in range(self.Hidden_Layer_Size):\n",
    "                dim_found=False\n",
    "                for ac_dimensions_pos,ac_dimensions in enumerate(self.Variable_Dimensions):\n",
    "                    if Hidden_Dimension in ac_dimensions:\n",
    "                        dim_found=True\n",
    "                        if ac_DP[\"intervention\"][ac_dimensions_pos]:\n",
    "                            Clean_Dataset[\"intervention\"][-1].append(True)\n",
    "                        else:\n",
    "                            Clean_Dataset[\"intervention\"][-1].append(False)\n",
    "                        break\n",
    "                if not dim_found:\n",
    "                    Clean_Dataset[\"intervention\"][-1].append(False)\n",
    "            Raw_Dataset[ac_DP_pos]=None\n",
    "\n",
    "        sample_number=len(Clean_Dataset[\"label\"])\n",
    "        Clean_Dataset[\"base\"]=torch.stack(Clean_Dataset[\"base\"]).to(self.Device)\n",
    "        Clean_Dataset[\"label\"]=torch.stack(Clean_Dataset[\"label\"]).to(self.Device)\n",
    "        for i in range(len(Clean_Dataset[\"sources\"])):\n",
    "            Clean_Dataset[\"sources\"][i]=torch.stack(Clean_Dataset[\"sources\"][i]).to(self.Device)\n",
    "        Clean_Dataset[\"intervention\"]=torch.tensor(Clean_Dataset[\"intervention\"]).to(self.Device)\n",
    "        return Clean_Dataset,sample_number\n",
    "                        \n",
    "        \n",
    "    def register_intervention_hook(self, layer):\n",
    "        def hook_fn(module, input, output):\n",
    "            if self.mode_info[0] == \"source\":\n",
    "                # Extract row indices (list)\n",
    "                row_indices = self.mode_info[2]\n",
    "                #print(\"SO\",output)\n",
    "                \n",
    "                # Extract column indices (list)\n",
    "                col_indices = self.Variable_Dimensions[self.mode_info[1]]\n",
    "                #print(\"CI\",col_indices)\n",
    "                #print(self.source_activations.shape)\n",
    "                #print(\"SB\",self.source_activations)\n",
    "                #print(output)\n",
    "                \n",
    "                # Get values from the transformation tensor\n",
    "                transformed_values = self.Transformation_Class.phi(output.detach())[:, col_indices]\n",
    "                #print(\"TV\",transformed_values)\n",
    "                \n",
    "                # Assign these values to the corresponding positions in source_activations\n",
    "                self.source_activations[torch.tensor(row_indices).unsqueeze(1), torch.tensor(col_indices).unsqueeze(0)] = transformed_values\n",
    "                #print(\"SA\",self.source_activations)\n",
    "                #print(\"***\")\n",
    "            elif self.mode_info[0] == \"intervene\":\n",
    "                result_tensor = self.Transformation_Class.phi(output.detach())\n",
    "                #print(\"II\",self.mode_info[1])\n",
    "                #print(\"IBO\",output)\n",
    "                #print(\"IBT\",result_tensor)\n",
    "                #print(\"IBOR\",self.Transformation_Class.phi_inv(result_tensor))\n",
    "                result_tensor = torch.where(self.mode_info[1], self.source_activations, result_tensor)\n",
    "                #print(\"IR\",result_tensor)\n",
    "                return self.Transformation_Class.phi_inv(result_tensor)\n",
    "        \n",
    "        return layer.register_forward_hook(hook_fn)\n",
    "\n",
    "    \n",
    "    def train_test(self,batch_size,epochs=1,train=True):\n",
    "\n",
    "        self.Model.eval()\n",
    "        for param in self.Model.parameters():\n",
    "            param.requires_grad = False  # This freezes the weights\n",
    "\n",
    "        if train:\n",
    "            self.Transformation_Class.phi.train()\n",
    "            for param in self.Transformation_Class.phi.parameters():\n",
    "                param.requires_grad = True  # This unfreezes the weights\n",
    "            data=self.Train_Dataset\n",
    "            Sample_Indices=list(range(self.Train_Sample_Number))\n",
    "        else:\n",
    "            self.Transformation_Class.phi.eval()\n",
    "            for param in self.Transformation_Class.phi.parameters():\n",
    "                param.requires_grad = False  # This freezes the weights\n",
    "            data=self.Test_Dataset\n",
    "            Sample_Indices=list(range(self.Test_Samples_Number))\n",
    "        \n",
    "        for epoch in range(epochs):\n",
    "            print(\"[SYST] Epoch\",epoch)\n",
    "            total_correct = 0\n",
    "            total_samples = 0\n",
    "            total_loss = 0\n",
    "        \n",
    "            #Make Batches\n",
    "            random.shuffle(Sample_Indices)\n",
    "            DAS_Train_Batches=self.chunk_list(Sample_Indices, batch_size)\n",
    "            \n",
    "            for ac_batch in tqdm(DAS_Train_Batches):\n",
    "\n",
    "                if train: \n",
    "                    self.Transformation_Class.optimizer.zero_grad()\n",
    "                \n",
    "                #Prepare Source Activations\n",
    "                self.source_activations = torch.zeros(len(ac_batch), self.Hidden_Layer_Size).to(self.Device)\n",
    "                \n",
    "                for ac_source_pos in range(len(data[\"sources\"])):\n",
    "                    #add info needed for optimization... no sense in running inputs who are not used:\n",
    "                    used_source_indices=self.extract_sources_to_run(ac_source_pos,ac_batch,data)\n",
    "                    if len(used_source_indices)>0:\n",
    "                        #print(\"Hey\")\n",
    "                        self.mode_info=[\"source\",ac_source_pos,used_source_indices]\n",
    "                        ac_source=data[\"sources\"][ac_source_pos][ac_batch][used_source_indices]\n",
    "                        #print(\"SI\",ac_source)\n",
    "                        model(ac_source)\n",
    "        \n",
    "                #Intervention\n",
    "                ac_base=data[\"base\"][ac_batch]\n",
    "                intervention_bools=data[\"intervention\"][ac_batch]\n",
    "                self.mode_info=[\"intervene\",intervention_bools]\n",
    "                #print(\"BI\",ac_base)\n",
    "                outputs=model(ac_base)\n",
    "                labels=data[\"label\"][ac_batch]\n",
    "                #print(\"L\",labels)\n",
    "                if train:\n",
    "                    loss = self.Transformation_Class.criterion(outputs, labels.squeeze().long())\n",
    "                    loss.backward()\n",
    "                    self.Transformation_Class.optimizer.step()\n",
    "                    #print(self.Transformation_Class.phi.rotate_layer.weight)\n",
    "                    total_loss += loss.item()\n",
    "\n",
    "                else:\n",
    "                    predictions = torch.argmax(outputs, dim=1) \n",
    "                    correct = (predictions.squeeze() == labels.squeeze()).sum().item()\n",
    "                    total_correct += correct\n",
    "                    total_samples += labels.size(0)\n",
    "            \n",
    "            if train:\n",
    "                print(f\"Epoch {epoch+1}, Loss: {total_loss / len(DAS_Train_Batches)}\")\n",
    "            else:     \n",
    "                accuracy = total_correct / total_samples\n",
    "                print(f\"Test Accuracy: {accuracy * 100:.2f}%\")\n",
    "                return accuracy\n",
    "                \n",
    "\n",
    "    def extract_sources_to_run(self,which_variable,batch_indices,data):\n",
    "        used_source_indices=[]\n",
    "        for ip, i in enumerate(batch_indices):\n",
    "            is_used=data[\"intervention\"][i][self.Variable_Dimensions[which_variable][0]]\n",
    "            if is_used:\n",
    "                used_source_indices.append(ip)\n",
    "        return used_source_indices\n",
    "\n",
    "    \n",
    "    def chunk_list(self, input_list, batch_size):\n",
    "        return [input_list[i:i + batch_size] for i in range(0, len(input_list), batch_size)]\n",
    "\n",
    "    \n",
    "    def Cleanup(self):\n",
    "        self.Hook.remove()"
   ]
  },
  {
   "cell_type": "code",
   "execution_count": 11,
   "id": "2fb8d962-46cf-4063-8f7e-fb8a2d4f4df2",
   "metadata": {},
   "outputs": [],
   "source": [
    "def make_das_testtrain(url):\n",
    "    with open(url, \"rb\") as f:\n",
    "        DAS_data = pickle.load(f)\n",
    "    print(\"restructuring\")\n",
    "    for i in tqdm(range(len(DAS_data))):\n",
    "        new_dict={}\n",
    "        new_dict[\"base\"]=DAS_data[i][\"input_ids\"]\n",
    "        new_dict[\"label\"]=DAS_data[i][\"labels\"]\n",
    "        if DAS_data[i]['intervention_id'] in [0,2]:\n",
    "            new_dict[\"sources\"]=DAS_data[i]['source_input_ids']\n",
    "        elif DAS_data[i]['intervention_id'] in [1]:\n",
    "            new_dict[\"sources\"]=[None,None]\n",
    "            new_dict[\"sources\"][0]=DAS_data[i]['source_input_ids'][1]\n",
    "            new_dict[\"sources\"][1]=DAS_data[i]['source_input_ids'][0]\n",
    "            new_dict[\"sources\"]=torch.stack(new_dict[\"sources\"])\n",
    "        else:\n",
    "            print(\"[ERROR]\")\n",
    "            exit()\n",
    "        if DAS_data[i]['intervention_id']==0:\n",
    "            new_dict[\"intervention\"]=[True,False]\n",
    "        elif DAS_data[i]['intervention_id']==1:\n",
    "            new_dict[\"intervention\"]=[False,True]\n",
    "        elif DAS_data[i]['intervention_id']==2:\n",
    "            new_dict[\"intervention\"]=[True,True]\n",
    "        else:\n",
    "            print(\"[ERROR]\")\n",
    "            exit()\n",
    "        DAS_data[i]=new_dict\n",
    "    return DAS_data"
   ]
  },
  {
   "cell_type": "code",
   "execution_count": 12,
   "id": "53e98d55-7e8a-4dec-872c-7b6b1ca6a144",
   "metadata": {},
   "outputs": [
    {
     "name": "stderr",
     "output_type": "stream",
     "text": [
      "100%|████████████████████████████████████████████████████| 1024/1024 [00:08<00:00, 120.83it/s]\n"
     ]
    },
    {
     "name": "stdout",
     "output_type": "stream",
     "text": [
      "Epoch 1, Loss: 0.32574803684929066\n"
     ]
    },
    {
     "name": "stderr",
     "output_type": "stream",
     "text": [
      "100%|████████████████████████████████████████████████████| 1024/1024 [00:08<00:00, 127.27it/s]\n"
     ]
    },
    {
     "name": "stdout",
     "output_type": "stream",
     "text": [
      "Epoch 2, Loss: 0.0106724279289665\n"
     ]
    },
    {
     "name": "stderr",
     "output_type": "stream",
     "text": [
      "100%|████████████████████████████████████████████████████| 1024/1024 [00:07<00:00, 129.83it/s]\n"
     ]
    },
    {
     "name": "stdout",
     "output_type": "stream",
     "text": [
      "Epoch 3, Loss: 0.0036883714024043\n"
     ]
    },
    {
     "name": "stderr",
     "output_type": "stream",
     "text": [
      "100%|████████████████████████████████████████████████████████| 10/10 [00:00<00:00, 192.62it/s]\n"
     ]
    },
    {
     "name": "stdout",
     "output_type": "stream",
     "text": [
      "Test Accuracy: 0.9989\n",
      "Layer1 : [[0, 1, 2, 3, 4, 5, 6, 7], [8, 9, 10, 11, 12, 13, 14, 15]]\n",
      "restructuring\n"
     ]
    },
    {
     "name": "stderr",
     "output_type": "stream",
     "text": [
      "100%|████████████████████████████████████████████| 1280000/1280000 [00:27<00:00, 45917.94it/s]\n"
     ]
    },
    {
     "name": "stdout",
     "output_type": "stream",
     "text": [
      "restructuring\n"
     ]
    },
    {
     "name": "stderr",
     "output_type": "stream",
     "text": [
      "100%|████████████████████████████████████████████████| 12800/12800 [00:00<00:00, 34198.26it/s]\n"
     ]
    },
    {
     "name": "stdout",
     "output_type": "stream",
     "text": [
      "[SYST] Prepare Data\n"
     ]
    },
    {
     "name": "stderr",
     "output_type": "stream",
     "text": [
      "100%|████████████████████████████████████████████| 1280000/1280000 [00:21<00:00, 60928.19it/s]\n"
     ]
    },
    {
     "name": "stdout",
     "output_type": "stream",
     "text": [
      "[SYST] Prepare Data\n"
     ]
    },
    {
     "name": "stderr",
     "output_type": "stream",
     "text": [
      "100%|████████████████████████████████████████████████| 12800/12800 [00:00<00:00, 20630.89it/s]\n"
     ]
    },
    {
     "name": "stdout",
     "output_type": "stream",
     "text": [
      "[SYST] Epoch 0\n"
     ]
    },
    {
     "name": "stderr",
     "output_type": "stream",
     "text": [
      "100%|███████████████████████████████████████████████████████| 200/200 [00:13<00:00, 14.86it/s]\n"
     ]
    },
    {
     "name": "stdout",
     "output_type": "stream",
     "text": [
      "Epoch 1, Loss: 4.434580875337124\n",
      "[SYST] Epoch 1\n"
     ]
    },
    {
     "name": "stderr",
     "output_type": "stream",
     "text": [
      "100%|███████████████████████████████████████████████████████| 200/200 [00:13<00:00, 14.79it/s]\n"
     ]
    },
    {
     "name": "stdout",
     "output_type": "stream",
     "text": [
      "Epoch 2, Loss: 0.6645819288492203\n",
      "[SYST] Epoch 2\n"
     ]
    },
    {
     "name": "stderr",
     "output_type": "stream",
     "text": [
      "100%|███████████████████████████████████████████████████████| 200/200 [00:13<00:00, 14.76it/s]\n"
     ]
    },
    {
     "name": "stdout",
     "output_type": "stream",
     "text": [
      "Epoch 3, Loss: 0.48334152191877366\n",
      "[SYST] Epoch 3\n"
     ]
    },
    {
     "name": "stderr",
     "output_type": "stream",
     "text": [
      "100%|███████████████████████████████████████████████████████| 200/200 [00:13<00:00, 14.80it/s]\n"
     ]
    },
    {
     "name": "stdout",
     "output_type": "stream",
     "text": [
      "Epoch 4, Loss: 0.38635324835777285\n",
      "[SYST] Epoch 4\n"
     ]
    },
    {
     "name": "stderr",
     "output_type": "stream",
     "text": [
      "100%|███████████████████████████████████████████████████████| 200/200 [00:13<00:00, 14.71it/s]\n"
     ]
    },
    {
     "name": "stdout",
     "output_type": "stream",
     "text": [
      "Epoch 5, Loss: 0.3193294675648212\n",
      "[SYST] Epoch 5\n"
     ]
    },
    {
     "name": "stderr",
     "output_type": "stream",
     "text": [
      "100%|███████████████████████████████████████████████████████| 200/200 [00:13<00:00, 14.75it/s]\n"
     ]
    },
    {
     "name": "stdout",
     "output_type": "stream",
     "text": [
      "Epoch 6, Loss: 0.28184337869286535\n",
      "[SYST] Epoch 6\n"
     ]
    },
    {
     "name": "stderr",
     "output_type": "stream",
     "text": [
      "100%|███████████████████████████████████████████████████████| 200/200 [00:13<00:00, 14.37it/s]\n"
     ]
    },
    {
     "name": "stdout",
     "output_type": "stream",
     "text": [
      "Epoch 7, Loss: 0.25601815558969976\n",
      "[SYST] Epoch 7\n"
     ]
    },
    {
     "name": "stderr",
     "output_type": "stream",
     "text": [
      "100%|███████████████████████████████████████████████████████| 200/200 [00:13<00:00, 14.42it/s]\n"
     ]
    },
    {
     "name": "stdout",
     "output_type": "stream",
     "text": [
      "Epoch 8, Loss: 0.23421423755586146\n",
      "[SYST] Epoch 8\n"
     ]
    },
    {
     "name": "stderr",
     "output_type": "stream",
     "text": [
      "100%|███████████████████████████████████████████████████████| 200/200 [00:13<00:00, 14.74it/s]\n"
     ]
    },
    {
     "name": "stdout",
     "output_type": "stream",
     "text": [
      "Epoch 9, Loss: 0.21645825028419494\n",
      "[SYST] Epoch 9\n"
     ]
    },
    {
     "name": "stderr",
     "output_type": "stream",
     "text": [
      "100%|███████████████████████████████████████████████████████| 200/200 [00:13<00:00, 14.55it/s]\n"
     ]
    },
    {
     "name": "stdout",
     "output_type": "stream",
     "text": [
      "Epoch 10, Loss: 0.2029604686051607\n",
      "[SYST] Epoch 0\n"
     ]
    },
    {
     "name": "stderr",
     "output_type": "stream",
     "text": [
      "100%|███████████████████████████████████████████████████████████| 2/2 [00:00<00:00, 16.28it/s]\n"
     ]
    },
    {
     "name": "stdout",
     "output_type": "stream",
     "text": [
      "Test Accuracy: 96.06%\n",
      "[{'accuracy': 0.9989, 'Layer1': {'[[0, 1, 2, 3, 4, 5, 6, 7], [8, 9, 10, 11, 12, 13, 14, 15]]': 0.960625}}]\n",
      "Layer1 : [[0, 1], [2, 3]]\n",
      "restructuring\n"
     ]
    },
    {
     "name": "stderr",
     "output_type": "stream",
     "text": [
      "100%|████████████████████████████████████████████| 1280000/1280000 [00:26<00:00, 47546.91it/s]\n"
     ]
    },
    {
     "name": "stdout",
     "output_type": "stream",
     "text": [
      "restructuring\n"
     ]
    },
    {
     "name": "stderr",
     "output_type": "stream",
     "text": [
      "100%|████████████████████████████████████████████████| 12800/12800 [00:00<00:00, 34509.93it/s]\n"
     ]
    },
    {
     "name": "stdout",
     "output_type": "stream",
     "text": [
      "[SYST] Prepare Data\n"
     ]
    },
    {
     "name": "stderr",
     "output_type": "stream",
     "text": [
      "100%|████████████████████████████████████████████| 1280000/1280000 [00:13<00:00, 95463.87it/s]\n"
     ]
    },
    {
     "name": "stdout",
     "output_type": "stream",
     "text": [
      "[SYST] Prepare Data\n"
     ]
    },
    {
     "name": "stderr",
     "output_type": "stream",
     "text": [
      "100%|████████████████████████████████████████████████| 12800/12800 [00:00<00:00, 19118.59it/s]\n"
     ]
    },
    {
     "name": "stdout",
     "output_type": "stream",
     "text": [
      "[SYST] Epoch 0\n"
     ]
    },
    {
     "name": "stderr",
     "output_type": "stream",
     "text": [
      "100%|███████████████████████████████████████████████████████| 200/200 [00:13<00:00, 14.73it/s]\n"
     ]
    },
    {
     "name": "stdout",
     "output_type": "stream",
     "text": [
      "Epoch 1, Loss: 5.825884664058686\n",
      "[SYST] Epoch 1\n"
     ]
    },
    {
     "name": "stderr",
     "output_type": "stream",
     "text": [
      "100%|███████████████████████████████████████████████████████| 200/200 [00:13<00:00, 14.78it/s]\n"
     ]
    },
    {
     "name": "stdout",
     "output_type": "stream",
     "text": [
      "Epoch 2, Loss: 1.4491951125860214\n",
      "[SYST] Epoch 2\n"
     ]
    },
    {
     "name": "stderr",
     "output_type": "stream",
     "text": [
      "100%|███████████████████████████████████████████████████████| 200/200 [00:13<00:00, 14.56it/s]\n"
     ]
    },
    {
     "name": "stdout",
     "output_type": "stream",
     "text": [
      "Epoch 3, Loss: 1.056653972864151\n",
      "[SYST] Epoch 3\n"
     ]
    },
    {
     "name": "stderr",
     "output_type": "stream",
     "text": [
      "100%|███████████████████████████████████████████████████████| 200/200 [00:13<00:00, 14.80it/s]\n"
     ]
    },
    {
     "name": "stdout",
     "output_type": "stream",
     "text": [
      "Epoch 4, Loss: 0.9817582547664643\n",
      "[SYST] Epoch 4\n"
     ]
    },
    {
     "name": "stderr",
     "output_type": "stream",
     "text": [
      "100%|███████████████████████████████████████████████████████| 200/200 [00:13<00:00, 14.79it/s]\n"
     ]
    },
    {
     "name": "stdout",
     "output_type": "stream",
     "text": [
      "Epoch 5, Loss: 0.7998111107945443\n",
      "[SYST] Epoch 5\n"
     ]
    },
    {
     "name": "stderr",
     "output_type": "stream",
     "text": [
      "100%|███████████████████████████████████████████████████████| 200/200 [00:13<00:00, 14.72it/s]\n"
     ]
    },
    {
     "name": "stdout",
     "output_type": "stream",
     "text": [
      "Epoch 6, Loss: 0.7013656926155091\n",
      "[SYST] Epoch 6\n"
     ]
    },
    {
     "name": "stderr",
     "output_type": "stream",
     "text": [
      "100%|███████████████████████████████████████████████████████| 200/200 [00:13<00:00, 14.74it/s]\n"
     ]
    },
    {
     "name": "stdout",
     "output_type": "stream",
     "text": [
      "Epoch 7, Loss: 0.6626556873321533\n",
      "[SYST] Epoch 7\n"
     ]
    },
    {
     "name": "stderr",
     "output_type": "stream",
     "text": [
      "100%|███████████████████████████████████████████████████████| 200/200 [00:13<00:00, 14.83it/s]\n"
     ]
    },
    {
     "name": "stdout",
     "output_type": "stream",
     "text": [
      "Epoch 8, Loss: 0.6147943487763405\n",
      "[SYST] Epoch 8\n"
     ]
    },
    {
     "name": "stderr",
     "output_type": "stream",
     "text": [
      "100%|███████████████████████████████████████████████████████| 200/200 [00:14<00:00, 14.24it/s]\n"
     ]
    },
    {
     "name": "stdout",
     "output_type": "stream",
     "text": [
      "Epoch 9, Loss: 0.5801847973465919\n",
      "[SYST] Epoch 9\n"
     ]
    },
    {
     "name": "stderr",
     "output_type": "stream",
     "text": [
      "100%|███████████████████████████████████████████████████████| 200/200 [00:15<00:00, 13.12it/s]\n"
     ]
    },
    {
     "name": "stdout",
     "output_type": "stream",
     "text": [
      "Epoch 10, Loss: 0.5641897206008434\n",
      "[SYST] Epoch 0\n"
     ]
    },
    {
     "name": "stderr",
     "output_type": "stream",
     "text": [
      "100%|███████████████████████████████████████████████████████████| 2/2 [00:00<00:00, 14.35it/s]\n"
     ]
    },
    {
     "name": "stdout",
     "output_type": "stream",
     "text": [
      "Test Accuracy: 89.84%\n",
      "[{'accuracy': 0.9989, 'Layer1': {'[[0, 1, 2, 3, 4, 5, 6, 7], [8, 9, 10, 11, 12, 13, 14, 15]]': 0.960625, '[[0, 1], [2, 3]]': 0.8984375}}]\n",
      "Layer1 : [[0], [1]]\n",
      "restructuring\n"
     ]
    },
    {
     "name": "stderr",
     "output_type": "stream",
     "text": [
      "100%|████████████████████████████████████████████| 1280000/1280000 [00:27<00:00, 46075.14it/s]\n"
     ]
    },
    {
     "name": "stdout",
     "output_type": "stream",
     "text": [
      "restructuring\n"
     ]
    },
    {
     "name": "stderr",
     "output_type": "stream",
     "text": [
      "100%|████████████████████████████████████████████████| 12800/12800 [00:00<00:00, 33956.50it/s]\n"
     ]
    },
    {
     "name": "stdout",
     "output_type": "stream",
     "text": [
      "[SYST] Prepare Data\n"
     ]
    },
    {
     "name": "stderr",
     "output_type": "stream",
     "text": [
      "100%|████████████████████████████████████████████| 1280000/1280000 [00:20<00:00, 63739.54it/s]\n"
     ]
    },
    {
     "name": "stdout",
     "output_type": "stream",
     "text": [
      "[SYST] Prepare Data\n"
     ]
    },
    {
     "name": "stderr",
     "output_type": "stream",
     "text": [
      "100%|████████████████████████████████████████████████| 12800/12800 [00:00<00:00, 18819.48it/s]\n"
     ]
    },
    {
     "name": "stdout",
     "output_type": "stream",
     "text": [
      "[SYST] Epoch 0\n"
     ]
    },
    {
     "name": "stderr",
     "output_type": "stream",
     "text": [
      "100%|███████████████████████████████████████████████████████| 200/200 [00:14<00:00, 13.81it/s]\n"
     ]
    },
    {
     "name": "stdout",
     "output_type": "stream",
     "text": [
      "Epoch 1, Loss: 7.857737450599671\n",
      "[SYST] Epoch 1\n"
     ]
    },
    {
     "name": "stderr",
     "output_type": "stream",
     "text": [
      "100%|███████████████████████████████████████████████████████| 200/200 [00:13<00:00, 14.77it/s]\n"
     ]
    },
    {
     "name": "stdout",
     "output_type": "stream",
     "text": [
      "Epoch 2, Loss: 2.784380754232407\n",
      "[SYST] Epoch 2\n"
     ]
    },
    {
     "name": "stderr",
     "output_type": "stream",
     "text": [
      "100%|███████████████████████████████████████████████████████| 200/200 [00:13<00:00, 14.71it/s]\n"
     ]
    },
    {
     "name": "stdout",
     "output_type": "stream",
     "text": [
      "Epoch 3, Loss: 1.1392952412366868\n",
      "[SYST] Epoch 3\n"
     ]
    },
    {
     "name": "stderr",
     "output_type": "stream",
     "text": [
      "100%|███████████████████████████████████████████████████████| 200/200 [00:13<00:00, 14.88it/s]\n"
     ]
    },
    {
     "name": "stdout",
     "output_type": "stream",
     "text": [
      "Epoch 4, Loss: 1.0740659782290458\n",
      "[SYST] Epoch 4\n"
     ]
    },
    {
     "name": "stderr",
     "output_type": "stream",
     "text": [
      "100%|███████████████████████████████████████████████████████| 200/200 [00:13<00:00, 14.86it/s]\n"
     ]
    },
    {
     "name": "stdout",
     "output_type": "stream",
     "text": [
      "Epoch 5, Loss: 1.0717655730247497\n",
      "[SYST] Epoch 5\n"
     ]
    },
    {
     "name": "stderr",
     "output_type": "stream",
     "text": [
      "100%|███████████████████████████████████████████████████████| 200/200 [00:13<00:00, 14.80it/s]\n"
     ]
    },
    {
     "name": "stdout",
     "output_type": "stream",
     "text": [
      "Epoch 6, Loss: 1.0718736284971238\n",
      "[SYST] Epoch 6\n"
     ]
    },
    {
     "name": "stderr",
     "output_type": "stream",
     "text": [
      "100%|███████████████████████████████████████████████████████| 200/200 [00:13<00:00, 14.81it/s]\n"
     ]
    },
    {
     "name": "stdout",
     "output_type": "stream",
     "text": [
      "Epoch 7, Loss: 1.0718030413985253\n",
      "[SYST] Epoch 7\n"
     ]
    },
    {
     "name": "stderr",
     "output_type": "stream",
     "text": [
      "100%|███████████████████████████████████████████████████████| 200/200 [00:13<00:00, 14.83it/s]\n"
     ]
    },
    {
     "name": "stdout",
     "output_type": "stream",
     "text": [
      "Epoch 8, Loss: 1.0719801679253578\n",
      "[SYST] Epoch 8\n"
     ]
    },
    {
     "name": "stderr",
     "output_type": "stream",
     "text": [
      "100%|███████████████████████████████████████████████████████| 200/200 [00:13<00:00, 14.77it/s]\n"
     ]
    },
    {
     "name": "stdout",
     "output_type": "stream",
     "text": [
      "Epoch 9, Loss: 1.071898113489151\n",
      "[SYST] Epoch 9\n"
     ]
    },
    {
     "name": "stderr",
     "output_type": "stream",
     "text": [
      "100%|███████████████████████████████████████████████████████| 200/200 [00:13<00:00, 14.77it/s]\n"
     ]
    },
    {
     "name": "stdout",
     "output_type": "stream",
     "text": [
      "Epoch 10, Loss: 1.0721559342741966\n",
      "[SYST] Epoch 0\n"
     ]
    },
    {
     "name": "stderr",
     "output_type": "stream",
     "text": [
      "100%|███████████████████████████████████████████████████████████| 2/2 [00:00<00:00, 16.30it/s]\n"
     ]
    },
    {
     "name": "stdout",
     "output_type": "stream",
     "text": [
      "Test Accuracy: 87.73%\n",
      "[{'accuracy': 0.9989, 'Layer1': {'[[0, 1, 2, 3, 4, 5, 6, 7], [8, 9, 10, 11, 12, 13, 14, 15]]': 0.960625, '[[0, 1], [2, 3]]': 0.8984375, '[[0], [1]]': 0.87734375}}]\n",
      "Layer2 : [[0, 1, 2, 3, 4, 5, 6, 7], [8, 9, 10, 11, 12, 13, 14, 15]]\n",
      "restructuring\n"
     ]
    },
    {
     "name": "stderr",
     "output_type": "stream",
     "text": [
      "100%|████████████████████████████████████████████| 1280000/1280000 [00:27<00:00, 45949.66it/s]\n"
     ]
    },
    {
     "name": "stdout",
     "output_type": "stream",
     "text": [
      "restructuring\n"
     ]
    },
    {
     "name": "stderr",
     "output_type": "stream",
     "text": [
      "100%|████████████████████████████████████████████████| 12800/12800 [00:00<00:00, 33307.29it/s]\n"
     ]
    },
    {
     "name": "stdout",
     "output_type": "stream",
     "text": [
      "[SYST] Prepare Data\n"
     ]
    },
    {
     "name": "stderr",
     "output_type": "stream",
     "text": [
      "100%|████████████████████████████████████████████| 1280000/1280000 [00:20<00:00, 61314.37it/s]\n"
     ]
    },
    {
     "name": "stdout",
     "output_type": "stream",
     "text": [
      "[SYST] Prepare Data\n"
     ]
    },
    {
     "name": "stderr",
     "output_type": "stream",
     "text": [
      "100%|████████████████████████████████████████████████| 12800/12800 [00:00<00:00, 23774.03it/s]\n"
     ]
    },
    {
     "name": "stdout",
     "output_type": "stream",
     "text": [
      "[SYST] Epoch 0\n"
     ]
    },
    {
     "name": "stderr",
     "output_type": "stream",
     "text": [
      "100%|███████████████████████████████████████████████████████| 200/200 [00:13<00:00, 15.02it/s]\n"
     ]
    },
    {
     "name": "stdout",
     "output_type": "stream",
     "text": [
      "Epoch 1, Loss: 7.681929111480713\n",
      "[SYST] Epoch 1\n"
     ]
    },
    {
     "name": "stderr",
     "output_type": "stream",
     "text": [
      "100%|███████████████████████████████████████████████████████| 200/200 [00:13<00:00, 14.79it/s]\n"
     ]
    },
    {
     "name": "stdout",
     "output_type": "stream",
     "text": [
      "Epoch 2, Loss: 6.942199194431305\n",
      "[SYST] Epoch 2\n"
     ]
    },
    {
     "name": "stderr",
     "output_type": "stream",
     "text": [
      "100%|███████████████████████████████████████████████████████| 200/200 [00:13<00:00, 14.88it/s]\n"
     ]
    },
    {
     "name": "stdout",
     "output_type": "stream",
     "text": [
      "Epoch 3, Loss: 6.8089534330368044\n",
      "[SYST] Epoch 3\n"
     ]
    },
    {
     "name": "stderr",
     "output_type": "stream",
     "text": [
      "100%|███████████████████████████████████████████████████████| 200/200 [00:13<00:00, 14.87it/s]\n"
     ]
    },
    {
     "name": "stdout",
     "output_type": "stream",
     "text": [
      "Epoch 4, Loss: 6.776693980693818\n",
      "[SYST] Epoch 4\n"
     ]
    },
    {
     "name": "stderr",
     "output_type": "stream",
     "text": [
      "100%|███████████████████████████████████████████████████████| 200/200 [00:13<00:00, 14.87it/s]\n"
     ]
    },
    {
     "name": "stdout",
     "output_type": "stream",
     "text": [
      "Epoch 5, Loss: 6.760751211643219\n",
      "[SYST] Epoch 5\n"
     ]
    },
    {
     "name": "stderr",
     "output_type": "stream",
     "text": [
      "100%|███████████████████████████████████████████████████████| 200/200 [00:13<00:00, 14.87it/s]\n"
     ]
    },
    {
     "name": "stdout",
     "output_type": "stream",
     "text": [
      "Epoch 6, Loss: 6.7505499792099\n",
      "[SYST] Epoch 6\n"
     ]
    },
    {
     "name": "stderr",
     "output_type": "stream",
     "text": [
      "100%|███████████████████████████████████████████████████████| 200/200 [00:15<00:00, 13.15it/s]\n"
     ]
    },
    {
     "name": "stdout",
     "output_type": "stream",
     "text": [
      "Epoch 7, Loss: 6.742656605243683\n",
      "[SYST] Epoch 7\n"
     ]
    },
    {
     "name": "stderr",
     "output_type": "stream",
     "text": [
      "100%|███████████████████████████████████████████████████████| 200/200 [00:13<00:00, 14.83it/s]\n"
     ]
    },
    {
     "name": "stdout",
     "output_type": "stream",
     "text": [
      "Epoch 8, Loss: 6.734415247440338\n",
      "[SYST] Epoch 8\n"
     ]
    },
    {
     "name": "stderr",
     "output_type": "stream",
     "text": [
      "100%|███████████████████████████████████████████████████████| 200/200 [00:14<00:00, 13.82it/s]\n"
     ]
    },
    {
     "name": "stdout",
     "output_type": "stream",
     "text": [
      "Epoch 9, Loss: 6.7255587887763975\n",
      "[SYST] Epoch 9\n"
     ]
    },
    {
     "name": "stderr",
     "output_type": "stream",
     "text": [
      "100%|███████████████████████████████████████████████████████| 200/200 [00:13<00:00, 14.86it/s]\n"
     ]
    },
    {
     "name": "stdout",
     "output_type": "stream",
     "text": [
      "Epoch 10, Loss: 6.718304679393769\n",
      "[SYST] Epoch 0\n"
     ]
    },
    {
     "name": "stderr",
     "output_type": "stream",
     "text": [
      "100%|███████████████████████████████████████████████████████████| 2/2 [00:00<00:00, 16.21it/s]\n"
     ]
    },
    {
     "name": "stdout",
     "output_type": "stream",
     "text": [
      "Test Accuracy: 63.30%\n",
      "[{'accuracy': 0.9989, 'Layer1': {'[[0, 1, 2, 3, 4, 5, 6, 7], [8, 9, 10, 11, 12, 13, 14, 15]]': 0.960625, '[[0, 1], [2, 3]]': 0.8984375, '[[0], [1]]': 0.87734375}, 'Layer2': {'[[0, 1, 2, 3, 4, 5, 6, 7], [8, 9, 10, 11, 12, 13, 14, 15]]': 0.633046875}}]\n",
      "Layer2 : [[0, 1], [2, 3]]\n",
      "restructuring\n"
     ]
    },
    {
     "name": "stderr",
     "output_type": "stream",
     "text": [
      "100%|████████████████████████████████████████████| 1280000/1280000 [00:27<00:00, 45754.69it/s]\n"
     ]
    },
    {
     "name": "stdout",
     "output_type": "stream",
     "text": [
      "restructuring\n"
     ]
    },
    {
     "name": "stderr",
     "output_type": "stream",
     "text": [
      "100%|████████████████████████████████████████████████| 12800/12800 [00:00<00:00, 33243.27it/s]\n"
     ]
    },
    {
     "name": "stdout",
     "output_type": "stream",
     "text": [
      "[SYST] Prepare Data\n"
     ]
    },
    {
     "name": "stderr",
     "output_type": "stream",
     "text": [
      "100%|████████████████████████████████████████████| 1280000/1280000 [00:13<00:00, 94754.84it/s]\n"
     ]
    },
    {
     "name": "stdout",
     "output_type": "stream",
     "text": [
      "[SYST] Prepare Data\n"
     ]
    },
    {
     "name": "stderr",
     "output_type": "stream",
     "text": [
      "100%|████████████████████████████████████████████████| 12800/12800 [00:00<00:00, 23677.79it/s]\n"
     ]
    },
    {
     "name": "stdout",
     "output_type": "stream",
     "text": [
      "[SYST] Epoch 0\n"
     ]
    },
    {
     "name": "stderr",
     "output_type": "stream",
     "text": [
      "100%|███████████████████████████████████████████████████████| 200/200 [00:13<00:00, 14.40it/s]\n"
     ]
    },
    {
     "name": "stdout",
     "output_type": "stream",
     "text": [
      "Epoch 1, Loss: 8.290261952877044\n",
      "[SYST] Epoch 1\n"
     ]
    },
    {
     "name": "stderr",
     "output_type": "stream",
     "text": [
      "100%|███████████████████████████████████████████████████████| 200/200 [00:13<00:00, 14.76it/s]\n"
     ]
    },
    {
     "name": "stdout",
     "output_type": "stream",
     "text": [
      "Epoch 2, Loss: 7.417915894985199\n",
      "[SYST] Epoch 2\n"
     ]
    },
    {
     "name": "stderr",
     "output_type": "stream",
     "text": [
      "100%|███████████████████████████████████████████████████████| 200/200 [00:13<00:00, 14.73it/s]\n"
     ]
    },
    {
     "name": "stdout",
     "output_type": "stream",
     "text": [
      "Epoch 3, Loss: 7.241181411743164\n",
      "[SYST] Epoch 3\n"
     ]
    },
    {
     "name": "stderr",
     "output_type": "stream",
     "text": [
      "100%|███████████████████████████████████████████████████████| 200/200 [00:13<00:00, 14.84it/s]\n"
     ]
    },
    {
     "name": "stdout",
     "output_type": "stream",
     "text": [
      "Epoch 4, Loss: 6.980452477931976\n",
      "[SYST] Epoch 4\n"
     ]
    },
    {
     "name": "stderr",
     "output_type": "stream",
     "text": [
      "100%|███████████████████████████████████████████████████████| 200/200 [00:13<00:00, 14.83it/s]\n"
     ]
    },
    {
     "name": "stdout",
     "output_type": "stream",
     "text": [
      "Epoch 5, Loss: 6.6654668402671815\n",
      "[SYST] Epoch 5\n"
     ]
    },
    {
     "name": "stderr",
     "output_type": "stream",
     "text": [
      "100%|███████████████████████████████████████████████████████| 200/200 [00:13<00:00, 14.82it/s]\n"
     ]
    },
    {
     "name": "stdout",
     "output_type": "stream",
     "text": [
      "Epoch 6, Loss: 6.489163730144501\n",
      "[SYST] Epoch 6\n"
     ]
    },
    {
     "name": "stderr",
     "output_type": "stream",
     "text": [
      "100%|███████████████████████████████████████████████████████| 200/200 [00:13<00:00, 14.81it/s]\n"
     ]
    },
    {
     "name": "stdout",
     "output_type": "stream",
     "text": [
      "Epoch 7, Loss: 6.458026490211487\n",
      "[SYST] Epoch 7\n"
     ]
    },
    {
     "name": "stderr",
     "output_type": "stream",
     "text": [
      "100%|███████████████████████████████████████████████████████| 200/200 [00:13<00:00, 14.90it/s]\n"
     ]
    },
    {
     "name": "stdout",
     "output_type": "stream",
     "text": [
      "Epoch 8, Loss: 6.445042135715485\n",
      "[SYST] Epoch 8\n"
     ]
    },
    {
     "name": "stderr",
     "output_type": "stream",
     "text": [
      "100%|███████████████████████████████████████████████████████| 200/200 [00:13<00:00, 14.62it/s]\n"
     ]
    },
    {
     "name": "stdout",
     "output_type": "stream",
     "text": [
      "Epoch 9, Loss: 6.437073495388031\n",
      "[SYST] Epoch 9\n"
     ]
    },
    {
     "name": "stderr",
     "output_type": "stream",
     "text": [
      "100%|███████████████████████████████████████████████████████| 200/200 [00:13<00:00, 14.76it/s]\n"
     ]
    },
    {
     "name": "stdout",
     "output_type": "stream",
     "text": [
      "Epoch 10, Loss: 6.431909546852112\n",
      "[SYST] Epoch 0\n"
     ]
    },
    {
     "name": "stderr",
     "output_type": "stream",
     "text": [
      "100%|███████████████████████████████████████████████████████████| 2/2 [00:00<00:00, 16.17it/s]\n"
     ]
    },
    {
     "name": "stdout",
     "output_type": "stream",
     "text": [
      "Test Accuracy: 76.73%\n",
      "[{'accuracy': 0.9989, 'Layer1': {'[[0, 1, 2, 3, 4, 5, 6, 7], [8, 9, 10, 11, 12, 13, 14, 15]]': 0.960625, '[[0, 1], [2, 3]]': 0.8984375, '[[0], [1]]': 0.87734375}, 'Layer2': {'[[0, 1, 2, 3, 4, 5, 6, 7], [8, 9, 10, 11, 12, 13, 14, 15]]': 0.633046875, '[[0, 1], [2, 3]]': 0.767265625}}]\n",
      "Layer2 : [[0], [1]]\n",
      "restructuring\n"
     ]
    },
    {
     "name": "stderr",
     "output_type": "stream",
     "text": [
      "100%|████████████████████████████████████████████| 1280000/1280000 [00:27<00:00, 45735.54it/s]\n"
     ]
    },
    {
     "name": "stdout",
     "output_type": "stream",
     "text": [
      "restructuring\n"
     ]
    },
    {
     "name": "stderr",
     "output_type": "stream",
     "text": [
      "100%|████████████████████████████████████████████████| 12800/12800 [00:00<00:00, 33616.37it/s]\n"
     ]
    },
    {
     "name": "stdout",
     "output_type": "stream",
     "text": [
      "[SYST] Prepare Data\n"
     ]
    },
    {
     "name": "stderr",
     "output_type": "stream",
     "text": [
      "100%|████████████████████████████████████████████| 1280000/1280000 [00:20<00:00, 63604.60it/s]\n"
     ]
    },
    {
     "name": "stdout",
     "output_type": "stream",
     "text": [
      "[SYST] Prepare Data\n"
     ]
    },
    {
     "name": "stderr",
     "output_type": "stream",
     "text": [
      "100%|████████████████████████████████████████████████| 12800/12800 [00:00<00:00, 18722.79it/s]\n"
     ]
    },
    {
     "name": "stdout",
     "output_type": "stream",
     "text": [
      "[SYST] Epoch 0\n"
     ]
    },
    {
     "name": "stderr",
     "output_type": "stream",
     "text": [
      "100%|███████████████████████████████████████████████████████| 200/200 [00:13<00:00, 14.82it/s]\n"
     ]
    },
    {
     "name": "stdout",
     "output_type": "stream",
     "text": [
      "Epoch 1, Loss: 8.260168068408966\n",
      "[SYST] Epoch 1\n"
     ]
    },
    {
     "name": "stderr",
     "output_type": "stream",
     "text": [
      "100%|███████████████████████████████████████████████████████| 200/200 [00:13<00:00, 14.83it/s]\n"
     ]
    },
    {
     "name": "stdout",
     "output_type": "stream",
     "text": [
      "Epoch 2, Loss: 7.840636904239655\n",
      "[SYST] Epoch 2\n"
     ]
    },
    {
     "name": "stderr",
     "output_type": "stream",
     "text": [
      "100%|███████████████████████████████████████████████████████| 200/200 [00:13<00:00, 14.63it/s]\n"
     ]
    },
    {
     "name": "stdout",
     "output_type": "stream",
     "text": [
      "Epoch 3, Loss: 7.762958207130432\n",
      "[SYST] Epoch 3\n"
     ]
    },
    {
     "name": "stderr",
     "output_type": "stream",
     "text": [
      "100%|███████████████████████████████████████████████████████| 200/200 [00:13<00:00, 14.70it/s]\n"
     ]
    },
    {
     "name": "stdout",
     "output_type": "stream",
     "text": [
      "Epoch 4, Loss: 7.7399567699432374\n",
      "[SYST] Epoch 4\n"
     ]
    },
    {
     "name": "stderr",
     "output_type": "stream",
     "text": [
      "100%|███████████████████████████████████████████████████████| 200/200 [00:13<00:00, 14.78it/s]\n"
     ]
    },
    {
     "name": "stdout",
     "output_type": "stream",
     "text": [
      "Epoch 5, Loss: 7.731035721302033\n",
      "[SYST] Epoch 5\n"
     ]
    },
    {
     "name": "stderr",
     "output_type": "stream",
     "text": [
      "100%|███████████████████████████████████████████████████████| 200/200 [00:13<00:00, 14.59it/s]\n"
     ]
    },
    {
     "name": "stdout",
     "output_type": "stream",
     "text": [
      "Epoch 6, Loss: 7.725821669101715\n",
      "[SYST] Epoch 6\n"
     ]
    },
    {
     "name": "stderr",
     "output_type": "stream",
     "text": [
      "100%|███████████████████████████████████████████████████████| 200/200 [00:13<00:00, 14.83it/s]\n"
     ]
    },
    {
     "name": "stdout",
     "output_type": "stream",
     "text": [
      "Epoch 7, Loss: 7.72324764251709\n",
      "[SYST] Epoch 7\n"
     ]
    },
    {
     "name": "stderr",
     "output_type": "stream",
     "text": [
      "100%|███████████████████████████████████████████████████████| 200/200 [00:13<00:00, 14.73it/s]\n"
     ]
    },
    {
     "name": "stdout",
     "output_type": "stream",
     "text": [
      "Epoch 8, Loss: 7.720576882362366\n",
      "[SYST] Epoch 8\n"
     ]
    },
    {
     "name": "stderr",
     "output_type": "stream",
     "text": [
      "100%|███████████████████████████████████████████████████████| 200/200 [00:13<00:00, 14.88it/s]\n"
     ]
    },
    {
     "name": "stdout",
     "output_type": "stream",
     "text": [
      "Epoch 9, Loss: 7.719006671905517\n",
      "[SYST] Epoch 9\n"
     ]
    },
    {
     "name": "stderr",
     "output_type": "stream",
     "text": [
      "100%|███████████████████████████████████████████████████████| 200/200 [00:13<00:00, 14.91it/s]\n"
     ]
    },
    {
     "name": "stdout",
     "output_type": "stream",
     "text": [
      "Epoch 10, Loss: 7.717794477939606\n",
      "[SYST] Epoch 0\n"
     ]
    },
    {
     "name": "stderr",
     "output_type": "stream",
     "text": [
      "100%|███████████████████████████████████████████████████████████| 2/2 [00:00<00:00, 16.30it/s]\n"
     ]
    },
    {
     "name": "stdout",
     "output_type": "stream",
     "text": [
      "Test Accuracy: 62.35%\n",
      "[{'accuracy': 0.9989, 'Layer1': {'[[0, 1, 2, 3, 4, 5, 6, 7], [8, 9, 10, 11, 12, 13, 14, 15]]': 0.960625, '[[0, 1], [2, 3]]': 0.8984375, '[[0], [1]]': 0.87734375}, 'Layer2': {'[[0, 1, 2, 3, 4, 5, 6, 7], [8, 9, 10, 11, 12, 13, 14, 15]]': 0.633046875, '[[0, 1], [2, 3]]': 0.767265625, '[[0], [1]]': 0.623515625}}]\n",
      "Layer3 : [[0, 1, 2, 3, 4, 5, 6, 7], [8, 9, 10, 11, 12, 13, 14, 15]]\n",
      "restructuring\n"
     ]
    },
    {
     "name": "stderr",
     "output_type": "stream",
     "text": [
      "100%|████████████████████████████████████████████| 1280000/1280000 [00:26<00:00, 47443.06it/s]\n"
     ]
    },
    {
     "name": "stdout",
     "output_type": "stream",
     "text": [
      "restructuring\n"
     ]
    },
    {
     "name": "stderr",
     "output_type": "stream",
     "text": [
      "100%|████████████████████████████████████████████████| 12800/12800 [00:00<00:00, 34430.34it/s]\n"
     ]
    },
    {
     "name": "stdout",
     "output_type": "stream",
     "text": [
      "[SYST] Prepare Data\n"
     ]
    },
    {
     "name": "stderr",
     "output_type": "stream",
     "text": [
      "100%|████████████████████████████████████████████| 1280000/1280000 [00:20<00:00, 61115.23it/s]\n"
     ]
    },
    {
     "name": "stdout",
     "output_type": "stream",
     "text": [
      "[SYST] Prepare Data\n"
     ]
    },
    {
     "name": "stderr",
     "output_type": "stream",
     "text": [
      "100%|████████████████████████████████████████████████| 12800/12800 [00:00<00:00, 18787.83it/s]\n"
     ]
    },
    {
     "name": "stdout",
     "output_type": "stream",
     "text": [
      "[SYST] Epoch 0\n"
     ]
    },
    {
     "name": "stderr",
     "output_type": "stream",
     "text": [
      "100%|███████████████████████████████████████████████████████| 200/200 [00:13<00:00, 14.79it/s]\n"
     ]
    },
    {
     "name": "stdout",
     "output_type": "stream",
     "text": [
      "Epoch 1, Loss: 7.7941187214851375\n",
      "[SYST] Epoch 1\n"
     ]
    },
    {
     "name": "stderr",
     "output_type": "stream",
     "text": [
      "100%|███████████████████████████████████████████████████████| 200/200 [00:13<00:00, 14.97it/s]\n"
     ]
    },
    {
     "name": "stdout",
     "output_type": "stream",
     "text": [
      "Epoch 2, Loss: 7.766654844284058\n",
      "[SYST] Epoch 2\n"
     ]
    },
    {
     "name": "stderr",
     "output_type": "stream",
     "text": [
      "100%|███████████████████████████████████████████████████████| 200/200 [00:13<00:00, 14.96it/s]\n"
     ]
    },
    {
     "name": "stdout",
     "output_type": "stream",
     "text": [
      "Epoch 3, Loss: 7.762134342193604\n",
      "[SYST] Epoch 3\n"
     ]
    },
    {
     "name": "stderr",
     "output_type": "stream",
     "text": [
      "100%|███████████████████████████████████████████████████████| 200/200 [00:13<00:00, 14.97it/s]\n"
     ]
    },
    {
     "name": "stdout",
     "output_type": "stream",
     "text": [
      "Epoch 4, Loss: 7.7607537317276005\n",
      "[SYST] Epoch 4\n"
     ]
    },
    {
     "name": "stderr",
     "output_type": "stream",
     "text": [
      "100%|███████████████████████████████████████████████████████| 200/200 [00:13<00:00, 14.81it/s]\n"
     ]
    },
    {
     "name": "stdout",
     "output_type": "stream",
     "text": [
      "Epoch 5, Loss: 7.760367865562439\n",
      "[SYST] Epoch 5\n"
     ]
    },
    {
     "name": "stderr",
     "output_type": "stream",
     "text": [
      "100%|███████████████████████████████████████████████████████| 200/200 [00:13<00:00, 15.01it/s]\n"
     ]
    },
    {
     "name": "stdout",
     "output_type": "stream",
     "text": [
      "Epoch 6, Loss: 7.759965181350708\n",
      "[SYST] Epoch 6\n"
     ]
    },
    {
     "name": "stderr",
     "output_type": "stream",
     "text": [
      "100%|███████████████████████████████████████████████████████| 200/200 [00:14<00:00, 14.04it/s]\n"
     ]
    },
    {
     "name": "stdout",
     "output_type": "stream",
     "text": [
      "Epoch 7, Loss: 7.759563899040222\n",
      "[SYST] Epoch 7\n"
     ]
    },
    {
     "name": "stderr",
     "output_type": "stream",
     "text": [
      "100%|███████████████████████████████████████████████████████| 200/200 [00:13<00:00, 14.74it/s]\n"
     ]
    },
    {
     "name": "stdout",
     "output_type": "stream",
     "text": [
      "Epoch 8, Loss: 7.759085202217102\n",
      "[SYST] Epoch 8\n"
     ]
    },
    {
     "name": "stderr",
     "output_type": "stream",
     "text": [
      "100%|███████████████████████████████████████████████████████| 200/200 [00:13<00:00, 14.67it/s]\n"
     ]
    },
    {
     "name": "stdout",
     "output_type": "stream",
     "text": [
      "Epoch 9, Loss: 7.759114029407502\n",
      "[SYST] Epoch 9\n"
     ]
    },
    {
     "name": "stderr",
     "output_type": "stream",
     "text": [
      "100%|███████████████████████████████████████████████████████| 200/200 [00:13<00:00, 15.02it/s]\n"
     ]
    },
    {
     "name": "stdout",
     "output_type": "stream",
     "text": [
      "Epoch 10, Loss: 7.7590998983383175\n",
      "[SYST] Epoch 0\n"
     ]
    },
    {
     "name": "stderr",
     "output_type": "stream",
     "text": [
      "100%|███████████████████████████████████████████████████████████| 2/2 [00:00<00:00, 16.42it/s]\n"
     ]
    },
    {
     "name": "stdout",
     "output_type": "stream",
     "text": [
      "Test Accuracy: 56.26%\n",
      "[{'accuracy': 0.9989, 'Layer1': {'[[0, 1, 2, 3, 4, 5, 6, 7], [8, 9, 10, 11, 12, 13, 14, 15]]': 0.960625, '[[0, 1], [2, 3]]': 0.8984375, '[[0], [1]]': 0.87734375}, 'Layer2': {'[[0, 1, 2, 3, 4, 5, 6, 7], [8, 9, 10, 11, 12, 13, 14, 15]]': 0.633046875, '[[0, 1], [2, 3]]': 0.767265625, '[[0], [1]]': 0.623515625}, 'Layer3': {'[[0, 1, 2, 3, 4, 5, 6, 7], [8, 9, 10, 11, 12, 13, 14, 15]]': 0.562578125}}]\n",
      "Layer3 : [[0, 1], [2, 3]]\n",
      "restructuring\n"
     ]
    },
    {
     "name": "stderr",
     "output_type": "stream",
     "text": [
      "100%|████████████████████████████████████████████| 1280000/1280000 [00:26<00:00, 47717.12it/s]\n"
     ]
    },
    {
     "name": "stdout",
     "output_type": "stream",
     "text": [
      "restructuring\n"
     ]
    },
    {
     "name": "stderr",
     "output_type": "stream",
     "text": [
      "100%|████████████████████████████████████████████████| 12800/12800 [00:00<00:00, 34091.07it/s]\n"
     ]
    },
    {
     "name": "stdout",
     "output_type": "stream",
     "text": [
      "[SYST] Prepare Data\n"
     ]
    },
    {
     "name": "stderr",
     "output_type": "stream",
     "text": [
      "100%|████████████████████████████████████████████| 1280000/1280000 [00:13<00:00, 95160.08it/s]\n"
     ]
    },
    {
     "name": "stdout",
     "output_type": "stream",
     "text": [
      "[SYST] Prepare Data\n"
     ]
    },
    {
     "name": "stderr",
     "output_type": "stream",
     "text": [
      "100%|████████████████████████████████████████████████| 12800/12800 [00:00<00:00, 18837.13it/s]\n"
     ]
    },
    {
     "name": "stdout",
     "output_type": "stream",
     "text": [
      "[SYST] Epoch 0\n"
     ]
    },
    {
     "name": "stderr",
     "output_type": "stream",
     "text": [
      "100%|███████████████████████████████████████████████████████| 200/200 [00:13<00:00, 14.88it/s]\n"
     ]
    },
    {
     "name": "stdout",
     "output_type": "stream",
     "text": [
      "Epoch 1, Loss: 7.803490872383118\n",
      "[SYST] Epoch 1\n"
     ]
    },
    {
     "name": "stderr",
     "output_type": "stream",
     "text": [
      "100%|███████████████████████████████████████████████████████| 200/200 [00:13<00:00, 14.84it/s]\n"
     ]
    },
    {
     "name": "stdout",
     "output_type": "stream",
     "text": [
      "Epoch 2, Loss: 7.605688471794128\n",
      "[SYST] Epoch 2\n"
     ]
    },
    {
     "name": "stderr",
     "output_type": "stream",
     "text": [
      "100%|███████████████████████████████████████████████████████| 200/200 [00:13<00:00, 14.79it/s]\n"
     ]
    },
    {
     "name": "stdout",
     "output_type": "stream",
     "text": [
      "Epoch 3, Loss: 7.5982009100914\n",
      "[SYST] Epoch 3\n"
     ]
    },
    {
     "name": "stderr",
     "output_type": "stream",
     "text": [
      "100%|███████████████████████████████████████████████████████| 200/200 [00:13<00:00, 14.82it/s]\n"
     ]
    },
    {
     "name": "stdout",
     "output_type": "stream",
     "text": [
      "Epoch 4, Loss: 7.592731664180755\n",
      "[SYST] Epoch 4\n"
     ]
    },
    {
     "name": "stderr",
     "output_type": "stream",
     "text": [
      "100%|███████████████████████████████████████████████████████| 200/200 [00:13<00:00, 14.87it/s]\n"
     ]
    },
    {
     "name": "stdout",
     "output_type": "stream",
     "text": [
      "Epoch 5, Loss: 7.588569738864899\n",
      "[SYST] Epoch 5\n"
     ]
    },
    {
     "name": "stderr",
     "output_type": "stream",
     "text": [
      "100%|███████████████████████████████████████████████████████| 200/200 [00:13<00:00, 14.85it/s]\n"
     ]
    },
    {
     "name": "stdout",
     "output_type": "stream",
     "text": [
      "Epoch 6, Loss: 7.586304228305817\n",
      "[SYST] Epoch 6\n"
     ]
    },
    {
     "name": "stderr",
     "output_type": "stream",
     "text": [
      "100%|███████████████████████████████████████████████████████| 200/200 [00:13<00:00, 14.40it/s]\n"
     ]
    },
    {
     "name": "stdout",
     "output_type": "stream",
     "text": [
      "Epoch 7, Loss: 7.583875696659089\n",
      "[SYST] Epoch 7\n"
     ]
    },
    {
     "name": "stderr",
     "output_type": "stream",
     "text": [
      "100%|███████████████████████████████████████████████████████| 200/200 [00:15<00:00, 13.23it/s]\n"
     ]
    },
    {
     "name": "stdout",
     "output_type": "stream",
     "text": [
      "Epoch 8, Loss: 7.582583107948303\n",
      "[SYST] Epoch 8\n"
     ]
    },
    {
     "name": "stderr",
     "output_type": "stream",
     "text": [
      "100%|███████████████████████████████████████████████████████| 200/200 [00:13<00:00, 14.54it/s]\n"
     ]
    },
    {
     "name": "stdout",
     "output_type": "stream",
     "text": [
      "Epoch 9, Loss: 7.581047742366791\n",
      "[SYST] Epoch 9\n"
     ]
    },
    {
     "name": "stderr",
     "output_type": "stream",
     "text": [
      "100%|███████████████████████████████████████████████████████| 200/200 [00:13<00:00, 14.75it/s]\n"
     ]
    },
    {
     "name": "stdout",
     "output_type": "stream",
     "text": [
      "Epoch 10, Loss: 7.580169296264648\n",
      "[SYST] Epoch 0\n"
     ]
    },
    {
     "name": "stderr",
     "output_type": "stream",
     "text": [
      "100%|███████████████████████████████████████████████████████████| 2/2 [00:00<00:00, 16.22it/s]\n"
     ]
    },
    {
     "name": "stdout",
     "output_type": "stream",
     "text": [
      "Test Accuracy: 63.20%\n",
      "[{'accuracy': 0.9989, 'Layer1': {'[[0, 1, 2, 3, 4, 5, 6, 7], [8, 9, 10, 11, 12, 13, 14, 15]]': 0.960625, '[[0, 1], [2, 3]]': 0.8984375, '[[0], [1]]': 0.87734375}, 'Layer2': {'[[0, 1, 2, 3, 4, 5, 6, 7], [8, 9, 10, 11, 12, 13, 14, 15]]': 0.633046875, '[[0, 1], [2, 3]]': 0.767265625, '[[0], [1]]': 0.623515625}, 'Layer3': {'[[0, 1, 2, 3, 4, 5, 6, 7], [8, 9, 10, 11, 12, 13, 14, 15]]': 0.562578125, '[[0, 1], [2, 3]]': 0.631953125}}]\n",
      "Layer3 : [[0], [1]]\n",
      "restructuring\n"
     ]
    },
    {
     "name": "stderr",
     "output_type": "stream",
     "text": [
      "100%|████████████████████████████████████████████| 1280000/1280000 [00:26<00:00, 47414.71it/s]\n"
     ]
    },
    {
     "name": "stdout",
     "output_type": "stream",
     "text": [
      "restructuring\n"
     ]
    },
    {
     "name": "stderr",
     "output_type": "stream",
     "text": [
      "100%|████████████████████████████████████████████████| 12800/12800 [00:00<00:00, 34199.65it/s]\n"
     ]
    },
    {
     "name": "stdout",
     "output_type": "stream",
     "text": [
      "[SYST] Prepare Data\n"
     ]
    },
    {
     "name": "stderr",
     "output_type": "stream",
     "text": [
      "100%|████████████████████████████████████████████| 1280000/1280000 [00:20<00:00, 63976.51it/s]\n"
     ]
    },
    {
     "name": "stdout",
     "output_type": "stream",
     "text": [
      "[SYST] Prepare Data\n"
     ]
    },
    {
     "name": "stderr",
     "output_type": "stream",
     "text": [
      "100%|████████████████████████████████████████████████| 12800/12800 [00:00<00:00, 18515.23it/s]\n"
     ]
    },
    {
     "name": "stdout",
     "output_type": "stream",
     "text": [
      "[SYST] Epoch 0\n"
     ]
    },
    {
     "name": "stderr",
     "output_type": "stream",
     "text": [
      "100%|███████████████████████████████████████████████████████| 200/200 [00:14<00:00, 13.41it/s]\n"
     ]
    },
    {
     "name": "stdout",
     "output_type": "stream",
     "text": [
      "Epoch 1, Loss: 7.668153715133667\n",
      "[SYST] Epoch 1\n"
     ]
    },
    {
     "name": "stderr",
     "output_type": "stream",
     "text": [
      "100%|███████████████████████████████████████████████████████| 200/200 [00:14<00:00, 13.50it/s]\n"
     ]
    },
    {
     "name": "stdout",
     "output_type": "stream",
     "text": [
      "Epoch 2, Loss: 7.599240412712097\n",
      "[SYST] Epoch 2\n"
     ]
    },
    {
     "name": "stderr",
     "output_type": "stream",
     "text": [
      "100%|███████████████████████████████████████████████████████| 200/200 [00:15<00:00, 13.30it/s]\n"
     ]
    },
    {
     "name": "stdout",
     "output_type": "stream",
     "text": [
      "Epoch 3, Loss: 7.592815101146698\n",
      "[SYST] Epoch 3\n"
     ]
    },
    {
     "name": "stderr",
     "output_type": "stream",
     "text": [
      "100%|███████████████████████████████████████████████████████| 200/200 [00:15<00:00, 13.18it/s]\n"
     ]
    },
    {
     "name": "stdout",
     "output_type": "stream",
     "text": [
      "Epoch 4, Loss: 7.588444790840149\n",
      "[SYST] Epoch 4\n"
     ]
    },
    {
     "name": "stderr",
     "output_type": "stream",
     "text": [
      "100%|███████████████████████████████████████████████████████| 200/200 [00:15<00:00, 13.30it/s]\n"
     ]
    },
    {
     "name": "stdout",
     "output_type": "stream",
     "text": [
      "Epoch 5, Loss: 7.585515048503876\n",
      "[SYST] Epoch 5\n"
     ]
    },
    {
     "name": "stderr",
     "output_type": "stream",
     "text": [
      "100%|███████████████████████████████████████████████████████| 200/200 [00:13<00:00, 14.41it/s]\n"
     ]
    },
    {
     "name": "stdout",
     "output_type": "stream",
     "text": [
      "Epoch 6, Loss: 7.583465049266815\n",
      "[SYST] Epoch 6\n"
     ]
    },
    {
     "name": "stderr",
     "output_type": "stream",
     "text": [
      "100%|███████████████████████████████████████████████████████| 200/200 [00:13<00:00, 14.90it/s]\n"
     ]
    },
    {
     "name": "stdout",
     "output_type": "stream",
     "text": [
      "Epoch 7, Loss: 7.582177987098694\n",
      "[SYST] Epoch 7\n"
     ]
    },
    {
     "name": "stderr",
     "output_type": "stream",
     "text": [
      "100%|███████████████████████████████████████████████████████| 200/200 [00:13<00:00, 14.89it/s]\n"
     ]
    },
    {
     "name": "stdout",
     "output_type": "stream",
     "text": [
      "Epoch 8, Loss: 7.58136736869812\n",
      "[SYST] Epoch 8\n"
     ]
    },
    {
     "name": "stderr",
     "output_type": "stream",
     "text": [
      "100%|███████████████████████████████████████████████████████| 200/200 [00:13<00:00, 14.93it/s]\n"
     ]
    },
    {
     "name": "stdout",
     "output_type": "stream",
     "text": [
      "Epoch 9, Loss: 7.580451226234436\n",
      "[SYST] Epoch 9\n"
     ]
    },
    {
     "name": "stderr",
     "output_type": "stream",
     "text": [
      "100%|███████████████████████████████████████████████████████| 200/200 [00:14<00:00, 13.66it/s]\n"
     ]
    },
    {
     "name": "stdout",
     "output_type": "stream",
     "text": [
      "Epoch 10, Loss: 7.580030813217163\n",
      "[SYST] Epoch 0\n"
     ]
    },
    {
     "name": "stderr",
     "output_type": "stream",
     "text": [
      "100%|███████████████████████████████████████████████████████████| 2/2 [00:00<00:00, 14.50it/s]\n"
     ]
    },
    {
     "name": "stdout",
     "output_type": "stream",
     "text": [
      "Test Accuracy: 62.73%\n",
      "[{'accuracy': 0.9989, 'Layer1': {'[[0, 1, 2, 3, 4, 5, 6, 7], [8, 9, 10, 11, 12, 13, 14, 15]]': 0.960625, '[[0, 1], [2, 3]]': 0.8984375, '[[0], [1]]': 0.87734375}, 'Layer2': {'[[0, 1, 2, 3, 4, 5, 6, 7], [8, 9, 10, 11, 12, 13, 14, 15]]': 0.633046875, '[[0, 1], [2, 3]]': 0.767265625, '[[0], [1]]': 0.623515625}, 'Layer3': {'[[0, 1, 2, 3, 4, 5, 6, 7], [8, 9, 10, 11, 12, 13, 14, 15]]': 0.562578125, '[[0, 1], [2, 3]]': 0.631953125, '[[0], [1]]': 0.627265625}}]\n"
     ]
    },
    {
     "name": "stderr",
     "output_type": "stream",
     "text": [
      "100%|████████████████████████████████████████████████████| 1024/1024 [00:06<00:00, 147.81it/s]\n"
     ]
    },
    {
     "name": "stdout",
     "output_type": "stream",
     "text": [
      "Epoch 1, Loss: 0.32189222185297695\n"
     ]
    },
    {
     "name": "stderr",
     "output_type": "stream",
     "text": [
      "100%|████████████████████████████████████████████████████| 1024/1024 [00:06<00:00, 153.33it/s]\n"
     ]
    },
    {
     "name": "stdout",
     "output_type": "stream",
     "text": [
      "Epoch 2, Loss: 0.014783088300418967\n"
     ]
    },
    {
     "name": "stderr",
     "output_type": "stream",
     "text": [
      "100%|████████████████████████████████████████████████████| 1024/1024 [00:06<00:00, 152.80it/s]\n"
     ]
    },
    {
     "name": "stdout",
     "output_type": "stream",
     "text": [
      "Epoch 3, Loss: 0.006547768712835023\n"
     ]
    },
    {
     "name": "stderr",
     "output_type": "stream",
     "text": [
      "100%|█████████████████████████████████████████████████████████| 10/10 [00:00<00:00, 69.61it/s]\n"
     ]
    },
    {
     "name": "stdout",
     "output_type": "stream",
     "text": [
      "Test Accuracy: 0.9980\n",
      "Layer1 : [[0, 1, 2, 3, 4, 5, 6, 7], [8, 9, 10, 11, 12, 13, 14, 15]]\n",
      "restructuring\n"
     ]
    },
    {
     "name": "stderr",
     "output_type": "stream",
     "text": [
      "100%|████████████████████████████████████████████| 1280000/1280000 [00:26<00:00, 47561.34it/s]\n"
     ]
    },
    {
     "name": "stdout",
     "output_type": "stream",
     "text": [
      "restructuring\n"
     ]
    },
    {
     "name": "stderr",
     "output_type": "stream",
     "text": [
      "100%|████████████████████████████████████████████████| 12800/12800 [00:00<00:00, 34323.60it/s]\n"
     ]
    },
    {
     "name": "stdout",
     "output_type": "stream",
     "text": [
      "[SYST] Prepare Data\n"
     ]
    },
    {
     "name": "stderr",
     "output_type": "stream",
     "text": [
      "100%|████████████████████████████████████████████| 1280000/1280000 [00:21<00:00, 60861.07it/s]\n"
     ]
    },
    {
     "name": "stdout",
     "output_type": "stream",
     "text": [
      "[SYST] Prepare Data\n"
     ]
    },
    {
     "name": "stderr",
     "output_type": "stream",
     "text": [
      "100%|████████████████████████████████████████████████| 12800/12800 [00:00<00:00, 18956.23it/s]\n"
     ]
    },
    {
     "name": "stdout",
     "output_type": "stream",
     "text": [
      "[SYST] Epoch 0\n"
     ]
    },
    {
     "name": "stderr",
     "output_type": "stream",
     "text": [
      "100%|███████████████████████████████████████████████████████| 200/200 [00:14<00:00, 13.46it/s]\n"
     ]
    },
    {
     "name": "stdout",
     "output_type": "stream",
     "text": [
      "Epoch 1, Loss: 4.9929164290428165\n",
      "[SYST] Epoch 1\n"
     ]
    },
    {
     "name": "stderr",
     "output_type": "stream",
     "text": [
      "100%|███████████████████████████████████████████████████████| 200/200 [00:13<00:00, 14.47it/s]\n"
     ]
    },
    {
     "name": "stdout",
     "output_type": "stream",
     "text": [
      "Epoch 2, Loss: 1.191540102660656\n",
      "[SYST] Epoch 2\n"
     ]
    },
    {
     "name": "stderr",
     "output_type": "stream",
     "text": [
      "100%|███████████████████████████████████████████████████████| 200/200 [00:13<00:00, 14.61it/s]\n"
     ]
    },
    {
     "name": "stdout",
     "output_type": "stream",
     "text": [
      "Epoch 3, Loss: 0.8745498844981193\n",
      "[SYST] Epoch 3\n"
     ]
    },
    {
     "name": "stderr",
     "output_type": "stream",
     "text": [
      "100%|███████████████████████████████████████████████████████| 200/200 [00:14<00:00, 13.86it/s]\n"
     ]
    },
    {
     "name": "stdout",
     "output_type": "stream",
     "text": [
      "Epoch 4, Loss: 0.8032585951685906\n",
      "[SYST] Epoch 4\n"
     ]
    },
    {
     "name": "stderr",
     "output_type": "stream",
     "text": [
      "100%|███████████████████████████████████████████████████████| 200/200 [00:13<00:00, 14.42it/s]\n"
     ]
    },
    {
     "name": "stdout",
     "output_type": "stream",
     "text": [
      "Epoch 5, Loss: 0.758660629093647\n",
      "[SYST] Epoch 5\n"
     ]
    },
    {
     "name": "stderr",
     "output_type": "stream",
     "text": [
      "100%|███████████████████████████████████████████████████████| 200/200 [00:13<00:00, 14.42it/s]\n"
     ]
    },
    {
     "name": "stdout",
     "output_type": "stream",
     "text": [
      "Epoch 6, Loss: 0.7190635681152344\n",
      "[SYST] Epoch 6\n"
     ]
    },
    {
     "name": "stderr",
     "output_type": "stream",
     "text": [
      "100%|███████████████████████████████████████████████████████| 200/200 [00:13<00:00, 14.63it/s]\n"
     ]
    },
    {
     "name": "stdout",
     "output_type": "stream",
     "text": [
      "Epoch 7, Loss: 0.6806049942970276\n",
      "[SYST] Epoch 7\n"
     ]
    },
    {
     "name": "stderr",
     "output_type": "stream",
     "text": [
      "100%|███████████████████████████████████████████████████████| 200/200 [00:13<00:00, 14.78it/s]\n"
     ]
    },
    {
     "name": "stdout",
     "output_type": "stream",
     "text": [
      "Epoch 8, Loss: 0.6583482581377029\n",
      "[SYST] Epoch 8\n"
     ]
    },
    {
     "name": "stderr",
     "output_type": "stream",
     "text": [
      "100%|███████████████████████████████████████████████████████| 200/200 [00:13<00:00, 14.36it/s]\n"
     ]
    },
    {
     "name": "stdout",
     "output_type": "stream",
     "text": [
      "Epoch 9, Loss: 0.6452144944667816\n",
      "[SYST] Epoch 9\n"
     ]
    },
    {
     "name": "stderr",
     "output_type": "stream",
     "text": [
      "100%|███████████████████████████████████████████████████████| 200/200 [00:13<00:00, 14.77it/s]\n"
     ]
    },
    {
     "name": "stdout",
     "output_type": "stream",
     "text": [
      "Epoch 10, Loss: 0.6357056817412376\n",
      "[SYST] Epoch 0\n"
     ]
    },
    {
     "name": "stderr",
     "output_type": "stream",
     "text": [
      "100%|███████████████████████████████████████████████████████████| 2/2 [00:00<00:00, 16.20it/s]\n"
     ]
    },
    {
     "name": "stdout",
     "output_type": "stream",
     "text": [
      "Test Accuracy: 88.54%\n",
      "[{'accuracy': 0.9989, 'Layer1': {'[[0, 1, 2, 3, 4, 5, 6, 7], [8, 9, 10, 11, 12, 13, 14, 15]]': 0.960625, '[[0, 1], [2, 3]]': 0.8984375, '[[0], [1]]': 0.87734375}, 'Layer2': {'[[0, 1, 2, 3, 4, 5, 6, 7], [8, 9, 10, 11, 12, 13, 14, 15]]': 0.633046875, '[[0, 1], [2, 3]]': 0.767265625, '[[0], [1]]': 0.623515625}, 'Layer3': {'[[0, 1, 2, 3, 4, 5, 6, 7], [8, 9, 10, 11, 12, 13, 14, 15]]': 0.562578125, '[[0, 1], [2, 3]]': 0.631953125, '[[0], [1]]': 0.627265625}}, {'accuracy': 0.998, 'Layer1': {'[[0, 1, 2, 3, 4, 5, 6, 7], [8, 9, 10, 11, 12, 13, 14, 15]]': 0.885390625}}]\n",
      "Layer1 : [[0, 1], [2, 3]]\n",
      "restructuring\n"
     ]
    },
    {
     "name": "stderr",
     "output_type": "stream",
     "text": [
      "100%|████████████████████████████████████████████| 1280000/1280000 [00:27<00:00, 47120.05it/s]\n"
     ]
    },
    {
     "name": "stdout",
     "output_type": "stream",
     "text": [
      "restructuring\n"
     ]
    },
    {
     "name": "stderr",
     "output_type": "stream",
     "text": [
      "100%|████████████████████████████████████████████████| 12800/12800 [00:00<00:00, 34240.70it/s]\n"
     ]
    },
    {
     "name": "stdout",
     "output_type": "stream",
     "text": [
      "[SYST] Prepare Data\n"
     ]
    },
    {
     "name": "stderr",
     "output_type": "stream",
     "text": [
      "100%|████████████████████████████████████████████| 1280000/1280000 [00:20<00:00, 63050.88it/s]\n"
     ]
    },
    {
     "name": "stdout",
     "output_type": "stream",
     "text": [
      "[SYST] Prepare Data\n"
     ]
    },
    {
     "name": "stderr",
     "output_type": "stream",
     "text": [
      "100%|████████████████████████████████████████████████| 12800/12800 [00:00<00:00, 18988.50it/s]\n"
     ]
    },
    {
     "name": "stdout",
     "output_type": "stream",
     "text": [
      "[SYST] Epoch 0\n"
     ]
    },
    {
     "name": "stderr",
     "output_type": "stream",
     "text": [
      "100%|███████████████████████████████████████████████████████| 200/200 [00:13<00:00, 14.82it/s]\n"
     ]
    },
    {
     "name": "stdout",
     "output_type": "stream",
     "text": [
      "Epoch 1, Loss: 5.396818361282349\n",
      "[SYST] Epoch 1\n"
     ]
    },
    {
     "name": "stderr",
     "output_type": "stream",
     "text": [
      "100%|███████████████████████████████████████████████████████| 200/200 [00:13<00:00, 14.42it/s]\n"
     ]
    },
    {
     "name": "stdout",
     "output_type": "stream",
     "text": [
      "Epoch 2, Loss: 3.0588608330488203\n",
      "[SYST] Epoch 2\n"
     ]
    },
    {
     "name": "stderr",
     "output_type": "stream",
     "text": [
      "100%|███████████████████████████████████████████████████████| 200/200 [00:13<00:00, 14.70it/s]\n"
     ]
    },
    {
     "name": "stdout",
     "output_type": "stream",
     "text": [
      "Epoch 3, Loss: 1.5434413093328476\n",
      "[SYST] Epoch 3\n"
     ]
    },
    {
     "name": "stderr",
     "output_type": "stream",
     "text": [
      "100%|███████████████████████████████████████████████████████| 200/200 [00:13<00:00, 14.76it/s]\n"
     ]
    },
    {
     "name": "stdout",
     "output_type": "stream",
     "text": [
      "Epoch 4, Loss: 1.4736508935689927\n",
      "[SYST] Epoch 4\n"
     ]
    },
    {
     "name": "stderr",
     "output_type": "stream",
     "text": [
      "100%|███████████████████████████████████████████████████████| 200/200 [00:13<00:00, 14.58it/s]\n"
     ]
    },
    {
     "name": "stdout",
     "output_type": "stream",
     "text": [
      "Epoch 5, Loss: 1.436345826983452\n",
      "[SYST] Epoch 5\n"
     ]
    },
    {
     "name": "stderr",
     "output_type": "stream",
     "text": [
      "100%|███████████████████████████████████████████████████████| 200/200 [00:13<00:00, 14.37it/s]\n"
     ]
    },
    {
     "name": "stdout",
     "output_type": "stream",
     "text": [
      "Epoch 6, Loss: 1.4047861206531524\n",
      "[SYST] Epoch 6\n"
     ]
    },
    {
     "name": "stderr",
     "output_type": "stream",
     "text": [
      "100%|███████████████████████████████████████████████████████| 200/200 [00:13<00:00, 14.39it/s]\n"
     ]
    },
    {
     "name": "stdout",
     "output_type": "stream",
     "text": [
      "Epoch 7, Loss: 1.3898817193508148\n",
      "[SYST] Epoch 7\n"
     ]
    },
    {
     "name": "stderr",
     "output_type": "stream",
     "text": [
      "100%|███████████████████████████████████████████████████████| 200/200 [00:13<00:00, 14.43it/s]\n"
     ]
    },
    {
     "name": "stdout",
     "output_type": "stream",
     "text": [
      "Epoch 8, Loss: 1.3806949293613433\n",
      "[SYST] Epoch 8\n"
     ]
    },
    {
     "name": "stderr",
     "output_type": "stream",
     "text": [
      "100%|███████████████████████████████████████████████████████| 200/200 [00:13<00:00, 14.78it/s]\n"
     ]
    },
    {
     "name": "stdout",
     "output_type": "stream",
     "text": [
      "Epoch 9, Loss: 1.3731314897537232\n",
      "[SYST] Epoch 9\n"
     ]
    },
    {
     "name": "stderr",
     "output_type": "stream",
     "text": [
      "100%|███████████████████████████████████████████████████████| 200/200 [00:14<00:00, 13.80it/s]\n"
     ]
    },
    {
     "name": "stdout",
     "output_type": "stream",
     "text": [
      "Epoch 10, Loss: 1.366858594417572\n",
      "[SYST] Epoch 0\n"
     ]
    },
    {
     "name": "stderr",
     "output_type": "stream",
     "text": [
      "100%|███████████████████████████████████████████████████████████| 2/2 [00:00<00:00, 15.87it/s]\n"
     ]
    },
    {
     "name": "stdout",
     "output_type": "stream",
     "text": [
      "Test Accuracy: 80.85%\n",
      "[{'accuracy': 0.9989, 'Layer1': {'[[0, 1, 2, 3, 4, 5, 6, 7], [8, 9, 10, 11, 12, 13, 14, 15]]': 0.960625, '[[0, 1], [2, 3]]': 0.8984375, '[[0], [1]]': 0.87734375}, 'Layer2': {'[[0, 1, 2, 3, 4, 5, 6, 7], [8, 9, 10, 11, 12, 13, 14, 15]]': 0.633046875, '[[0, 1], [2, 3]]': 0.767265625, '[[0], [1]]': 0.623515625}, 'Layer3': {'[[0, 1, 2, 3, 4, 5, 6, 7], [8, 9, 10, 11, 12, 13, 14, 15]]': 0.562578125, '[[0, 1], [2, 3]]': 0.631953125, '[[0], [1]]': 0.627265625}}, {'accuracy': 0.998, 'Layer1': {'[[0, 1, 2, 3, 4, 5, 6, 7], [8, 9, 10, 11, 12, 13, 14, 15]]': 0.885390625, '[[0, 1], [2, 3]]': 0.808515625}}]\n",
      "Layer1 : [[0], [1]]\n",
      "restructuring\n"
     ]
    },
    {
     "name": "stderr",
     "output_type": "stream",
     "text": [
      "100%|████████████████████████████████████████████| 1280000/1280000 [00:27<00:00, 46080.46it/s]\n"
     ]
    },
    {
     "name": "stdout",
     "output_type": "stream",
     "text": [
      "restructuring\n"
     ]
    },
    {
     "name": "stderr",
     "output_type": "stream",
     "text": [
      "100%|████████████████████████████████████████████████| 12800/12800 [00:00<00:00, 33298.59it/s]\n"
     ]
    },
    {
     "name": "stdout",
     "output_type": "stream",
     "text": [
      "[SYST] Prepare Data\n"
     ]
    },
    {
     "name": "stderr",
     "output_type": "stream",
     "text": [
      "100%|████████████████████████████████████████████| 1280000/1280000 [00:13<00:00, 97130.44it/s]\n"
     ]
    },
    {
     "name": "stdout",
     "output_type": "stream",
     "text": [
      "[SYST] Prepare Data\n"
     ]
    },
    {
     "name": "stderr",
     "output_type": "stream",
     "text": [
      "100%|████████████████████████████████████████████████| 12800/12800 [00:00<00:00, 24153.07it/s]\n"
     ]
    },
    {
     "name": "stdout",
     "output_type": "stream",
     "text": [
      "[SYST] Epoch 0\n"
     ]
    },
    {
     "name": "stderr",
     "output_type": "stream",
     "text": [
      "100%|███████████████████████████████████████████████████████| 200/200 [00:13<00:00, 14.77it/s]\n"
     ]
    },
    {
     "name": "stdout",
     "output_type": "stream",
     "text": [
      "Epoch 1, Loss: 5.189264044761658\n",
      "[SYST] Epoch 1\n"
     ]
    },
    {
     "name": "stderr",
     "output_type": "stream",
     "text": [
      "100%|███████████████████████████████████████████████████████| 200/200 [00:13<00:00, 14.98it/s]\n"
     ]
    },
    {
     "name": "stdout",
     "output_type": "stream",
     "text": [
      "Epoch 2, Loss: 3.8895639979839327\n",
      "[SYST] Epoch 2\n"
     ]
    },
    {
     "name": "stderr",
     "output_type": "stream",
     "text": [
      "100%|███████████████████████████████████████████████████████| 200/200 [00:13<00:00, 14.88it/s]\n"
     ]
    },
    {
     "name": "stdout",
     "output_type": "stream",
     "text": [
      "Epoch 3, Loss: 1.7903890585899354\n",
      "[SYST] Epoch 3\n"
     ]
    },
    {
     "name": "stderr",
     "output_type": "stream",
     "text": [
      "100%|███████████████████████████████████████████████████████| 200/200 [00:13<00:00, 14.86it/s]\n"
     ]
    },
    {
     "name": "stdout",
     "output_type": "stream",
     "text": [
      "Epoch 4, Loss: 1.5186569571495057\n",
      "[SYST] Epoch 4\n"
     ]
    },
    {
     "name": "stderr",
     "output_type": "stream",
     "text": [
      "100%|███████████████████████████████████████████████████████| 200/200 [00:13<00:00, 14.77it/s]\n"
     ]
    },
    {
     "name": "stdout",
     "output_type": "stream",
     "text": [
      "Epoch 5, Loss: 1.4907157003879548\n",
      "[SYST] Epoch 5\n"
     ]
    },
    {
     "name": "stderr",
     "output_type": "stream",
     "text": [
      "100%|███████████████████████████████████████████████████████| 200/200 [00:15<00:00, 13.30it/s]\n"
     ]
    },
    {
     "name": "stdout",
     "output_type": "stream",
     "text": [
      "Epoch 6, Loss: 1.4728423196077347\n",
      "[SYST] Epoch 6\n"
     ]
    },
    {
     "name": "stderr",
     "output_type": "stream",
     "text": [
      "100%|███████████████████████████████████████████████████████| 200/200 [00:13<00:00, 14.65it/s]\n"
     ]
    },
    {
     "name": "stdout",
     "output_type": "stream",
     "text": [
      "Epoch 7, Loss: 1.4631366485357284\n",
      "[SYST] Epoch 7\n"
     ]
    },
    {
     "name": "stderr",
     "output_type": "stream",
     "text": [
      "100%|███████████████████████████████████████████████████████| 200/200 [00:13<00:00, 14.75it/s]\n"
     ]
    },
    {
     "name": "stdout",
     "output_type": "stream",
     "text": [
      "Epoch 8, Loss: 1.4591562467813493\n",
      "[SYST] Epoch 8\n"
     ]
    },
    {
     "name": "stderr",
     "output_type": "stream",
     "text": [
      "100%|███████████████████████████████████████████████████████| 200/200 [00:13<00:00, 14.84it/s]\n"
     ]
    },
    {
     "name": "stdout",
     "output_type": "stream",
     "text": [
      "Epoch 9, Loss: 1.4581907731294632\n",
      "[SYST] Epoch 9\n"
     ]
    },
    {
     "name": "stderr",
     "output_type": "stream",
     "text": [
      "100%|███████████████████████████████████████████████████████| 200/200 [00:13<00:00, 14.56it/s]\n"
     ]
    },
    {
     "name": "stdout",
     "output_type": "stream",
     "text": [
      "Epoch 10, Loss: 1.457834239602089\n",
      "[SYST] Epoch 0\n"
     ]
    },
    {
     "name": "stderr",
     "output_type": "stream",
     "text": [
      "100%|███████████████████████████████████████████████████████████| 2/2 [00:00<00:00, 14.34it/s]\n"
     ]
    },
    {
     "name": "stdout",
     "output_type": "stream",
     "text": [
      "Test Accuracy: 80.68%\n",
      "[{'accuracy': 0.9989, 'Layer1': {'[[0, 1, 2, 3, 4, 5, 6, 7], [8, 9, 10, 11, 12, 13, 14, 15]]': 0.960625, '[[0, 1], [2, 3]]': 0.8984375, '[[0], [1]]': 0.87734375}, 'Layer2': {'[[0, 1, 2, 3, 4, 5, 6, 7], [8, 9, 10, 11, 12, 13, 14, 15]]': 0.633046875, '[[0, 1], [2, 3]]': 0.767265625, '[[0], [1]]': 0.623515625}, 'Layer3': {'[[0, 1, 2, 3, 4, 5, 6, 7], [8, 9, 10, 11, 12, 13, 14, 15]]': 0.562578125, '[[0, 1], [2, 3]]': 0.631953125, '[[0], [1]]': 0.627265625}}, {'accuracy': 0.998, 'Layer1': {'[[0, 1, 2, 3, 4, 5, 6, 7], [8, 9, 10, 11, 12, 13, 14, 15]]': 0.885390625, '[[0, 1], [2, 3]]': 0.808515625, '[[0], [1]]': 0.806796875}}]\n",
      "Layer2 : [[0, 1, 2, 3, 4, 5, 6, 7], [8, 9, 10, 11, 12, 13, 14, 15]]\n",
      "restructuring\n"
     ]
    },
    {
     "name": "stderr",
     "output_type": "stream",
     "text": [
      "100%|█████████████████████████████████████████████| 1280000/1280000 [00:26<00:00, 47538.47it/s]\n"
     ]
    },
    {
     "name": "stdout",
     "output_type": "stream",
     "text": [
      "restructuring\n"
     ]
    },
    {
     "name": "stderr",
     "output_type": "stream",
     "text": [
      "100%|█████████████████████████████████████████████████| 12800/12800 [00:00<00:00, 34214.36it/s]\n"
     ]
    },
    {
     "name": "stdout",
     "output_type": "stream",
     "text": [
      "[SYST] Prepare Data\n"
     ]
    },
    {
     "name": "stderr",
     "output_type": "stream",
     "text": [
      "100%|█████████████████████████████████████████████| 1280000/1280000 [00:20<00:00, 62589.62it/s]\n"
     ]
    },
    {
     "name": "stdout",
     "output_type": "stream",
     "text": [
      "[SYST] Prepare Data\n"
     ]
    },
    {
     "name": "stderr",
     "output_type": "stream",
     "text": [
      "100%|█████████████████████████████████████████████████| 12800/12800 [00:00<00:00, 18368.82it/s]\n"
     ]
    },
    {
     "name": "stdout",
     "output_type": "stream",
     "text": [
      "[SYST] Epoch 0\n"
     ]
    },
    {
     "name": "stderr",
     "output_type": "stream",
     "text": [
      "100%|████████████████████████████████████████████████████████| 200/200 [00:13<00:00, 14.78it/s]\n"
     ]
    },
    {
     "name": "stdout",
     "output_type": "stream",
     "text": [
      "Epoch 1, Loss: 5.596611475944519\n",
      "[SYST] Epoch 1\n"
     ]
    },
    {
     "name": "stderr",
     "output_type": "stream",
     "text": [
      "100%|████████████████████████████████████████████████████████| 200/200 [00:13<00:00, 14.43it/s]\n"
     ]
    },
    {
     "name": "stdout",
     "output_type": "stream",
     "text": [
      "Epoch 2, Loss: 4.873004877567292\n",
      "[SYST] Epoch 2\n"
     ]
    },
    {
     "name": "stderr",
     "output_type": "stream",
     "text": [
      "100%|████████████████████████████████████████████████████████| 200/200 [00:13<00:00, 14.78it/s]\n"
     ]
    },
    {
     "name": "stdout",
     "output_type": "stream",
     "text": [
      "Epoch 3, Loss: 4.621324620246887\n",
      "[SYST] Epoch 3\n"
     ]
    },
    {
     "name": "stderr",
     "output_type": "stream",
     "text": [
      "100%|████████████████████████████████████████████████████████| 200/200 [00:13<00:00, 14.59it/s]\n"
     ]
    },
    {
     "name": "stdout",
     "output_type": "stream",
     "text": [
      "Epoch 4, Loss: 4.467289793491363\n",
      "[SYST] Epoch 4\n"
     ]
    },
    {
     "name": "stderr",
     "output_type": "stream",
     "text": [
      "100%|████████████████████████████████████████████████████████| 200/200 [00:13<00:00, 14.77it/s]\n"
     ]
    },
    {
     "name": "stdout",
     "output_type": "stream",
     "text": [
      "Epoch 5, Loss: 4.3698950338363645\n",
      "[SYST] Epoch 5\n"
     ]
    },
    {
     "name": "stderr",
     "output_type": "stream",
     "text": [
      "100%|████████████████████████████████████████████████████████| 200/200 [00:13<00:00, 14.37it/s]\n"
     ]
    },
    {
     "name": "stdout",
     "output_type": "stream",
     "text": [
      "Epoch 6, Loss: 4.3285036110877995\n",
      "[SYST] Epoch 6\n"
     ]
    },
    {
     "name": "stderr",
     "output_type": "stream",
     "text": [
      "100%|████████████████████████████████████████████████████████| 200/200 [00:13<00:00, 14.70it/s]\n"
     ]
    },
    {
     "name": "stdout",
     "output_type": "stream",
     "text": [
      "Epoch 7, Loss: 4.310290036201477\n",
      "[SYST] Epoch 7\n"
     ]
    },
    {
     "name": "stderr",
     "output_type": "stream",
     "text": [
      "100%|████████████████████████████████████████████████████████| 200/200 [00:13<00:00, 14.61it/s]\n"
     ]
    },
    {
     "name": "stdout",
     "output_type": "stream",
     "text": [
      "Epoch 8, Loss: 4.30361870765686\n",
      "[SYST] Epoch 8\n"
     ]
    },
    {
     "name": "stderr",
     "output_type": "stream",
     "text": [
      "100%|████████████████████████████████████████████████████████| 200/200 [00:13<00:00, 14.70it/s]\n"
     ]
    },
    {
     "name": "stdout",
     "output_type": "stream",
     "text": [
      "Epoch 9, Loss: 4.300121939182281\n",
      "[SYST] Epoch 9\n"
     ]
    },
    {
     "name": "stderr",
     "output_type": "stream",
     "text": [
      "100%|████████████████████████████████████████████████████████| 200/200 [00:13<00:00, 14.30it/s]\n"
     ]
    },
    {
     "name": "stdout",
     "output_type": "stream",
     "text": [
      "Epoch 10, Loss: 4.299086000919342\n",
      "[SYST] Epoch 0\n"
     ]
    },
    {
     "name": "stderr",
     "output_type": "stream",
     "text": [
      "100%|████████████████████████████████████████████████████████████| 2/2 [00:00<00:00, 16.22it/s]\n"
     ]
    },
    {
     "name": "stdout",
     "output_type": "stream",
     "text": [
      "Test Accuracy: 55.84%\n",
      "[{'accuracy': 0.9989, 'Layer1': {'[[0, 1, 2, 3, 4, 5, 6, 7], [8, 9, 10, 11, 12, 13, 14, 15]]': 0.960625, '[[0, 1], [2, 3]]': 0.8984375, '[[0], [1]]': 0.87734375}, 'Layer2': {'[[0, 1, 2, 3, 4, 5, 6, 7], [8, 9, 10, 11, 12, 13, 14, 15]]': 0.633046875, '[[0, 1], [2, 3]]': 0.767265625, '[[0], [1]]': 0.623515625}, 'Layer3': {'[[0, 1, 2, 3, 4, 5, 6, 7], [8, 9, 10, 11, 12, 13, 14, 15]]': 0.562578125, '[[0, 1], [2, 3]]': 0.631953125, '[[0], [1]]': 0.627265625}}, {'accuracy': 0.998, 'Layer1': {'[[0, 1, 2, 3, 4, 5, 6, 7], [8, 9, 10, 11, 12, 13, 14, 15]]': 0.885390625, '[[0, 1], [2, 3]]': 0.808515625, '[[0], [1]]': 0.806796875}, 'Layer2': {'[[0, 1, 2, 3, 4, 5, 6, 7], [8, 9, 10, 11, 12, 13, 14, 15]]': 0.558359375}}]\n",
      "Layer2 : [[0, 1], [2, 3]]\n",
      "restructuring\n"
     ]
    },
    {
     "name": "stderr",
     "output_type": "stream",
     "text": [
      "100%|█████████████████████████████████████████████| 1280000/1280000 [00:26<00:00, 47819.70it/s]\n"
     ]
    },
    {
     "name": "stdout",
     "output_type": "stream",
     "text": [
      "restructuring\n"
     ]
    },
    {
     "name": "stderr",
     "output_type": "stream",
     "text": [
      "100%|█████████████████████████████████████████████████| 12800/12800 [00:00<00:00, 34343.30it/s]\n"
     ]
    },
    {
     "name": "stdout",
     "output_type": "stream",
     "text": [
      "[SYST] Prepare Data\n"
     ]
    },
    {
     "name": "stderr",
     "output_type": "stream",
     "text": [
      "100%|█████████████████████████████████████████████| 1280000/1280000 [00:13<00:00, 94600.96it/s]\n"
     ]
    },
    {
     "name": "stdout",
     "output_type": "stream",
     "text": [
      "[SYST] Prepare Data\n"
     ]
    },
    {
     "name": "stderr",
     "output_type": "stream",
     "text": [
      "100%|█████████████████████████████████████████████████| 12800/12800 [00:00<00:00, 19089.38it/s]\n"
     ]
    },
    {
     "name": "stdout",
     "output_type": "stream",
     "text": [
      "[SYST] Epoch 0\n"
     ]
    },
    {
     "name": "stderr",
     "output_type": "stream",
     "text": [
      "100%|████████████████████████████████████████████████████████| 200/200 [00:14<00:00, 14.28it/s]\n"
     ]
    },
    {
     "name": "stdout",
     "output_type": "stream",
     "text": [
      "Epoch 1, Loss: 5.469072048664093\n",
      "[SYST] Epoch 1\n"
     ]
    },
    {
     "name": "stderr",
     "output_type": "stream",
     "text": [
      "100%|████████████████████████████████████████████████████████| 200/200 [00:13<00:00, 14.37it/s]\n"
     ]
    },
    {
     "name": "stdout",
     "output_type": "stream",
     "text": [
      "Epoch 2, Loss: 4.9312089872360225\n",
      "[SYST] Epoch 2\n"
     ]
    },
    {
     "name": "stderr",
     "output_type": "stream",
     "text": [
      "100%|████████████████████████████████████████████████████████| 200/200 [00:13<00:00, 14.79it/s]\n"
     ]
    },
    {
     "name": "stdout",
     "output_type": "stream",
     "text": [
      "Epoch 3, Loss: 4.762370088100433\n",
      "[SYST] Epoch 3\n"
     ]
    },
    {
     "name": "stderr",
     "output_type": "stream",
     "text": [
      "100%|████████████████████████████████████████████████████████| 200/200 [00:13<00:00, 14.50it/s]\n"
     ]
    },
    {
     "name": "stdout",
     "output_type": "stream",
     "text": [
      "Epoch 4, Loss: 4.641023621559143\n",
      "[SYST] Epoch 4\n"
     ]
    },
    {
     "name": "stderr",
     "output_type": "stream",
     "text": [
      "100%|████████████████████████████████████████████████████████| 200/200 [00:14<00:00, 14.25it/s]\n"
     ]
    },
    {
     "name": "stdout",
     "output_type": "stream",
     "text": [
      "Epoch 5, Loss: 4.557084801197052\n",
      "[SYST] Epoch 5\n"
     ]
    },
    {
     "name": "stderr",
     "output_type": "stream",
     "text": [
      "100%|████████████████████████████████████████████████████████| 200/200 [00:14<00:00, 14.28it/s]\n"
     ]
    },
    {
     "name": "stdout",
     "output_type": "stream",
     "text": [
      "Epoch 6, Loss: 4.480884895324707\n",
      "[SYST] Epoch 6\n"
     ]
    },
    {
     "name": "stderr",
     "output_type": "stream",
     "text": [
      "100%|████████████████████████████████████████████████████████| 200/200 [00:13<00:00, 14.52it/s]\n"
     ]
    },
    {
     "name": "stdout",
     "output_type": "stream",
     "text": [
      "Epoch 7, Loss: 4.4164976882934575\n",
      "[SYST] Epoch 7\n"
     ]
    },
    {
     "name": "stderr",
     "output_type": "stream",
     "text": [
      "100%|████████████████████████████████████████████████████████| 200/200 [00:13<00:00, 14.49it/s]\n"
     ]
    },
    {
     "name": "stdout",
     "output_type": "stream",
     "text": [
      "Epoch 8, Loss: 4.389613049030304\n",
      "[SYST] Epoch 8\n"
     ]
    },
    {
     "name": "stderr",
     "output_type": "stream",
     "text": [
      "100%|████████████████████████████████████████████████████████| 200/200 [00:13<00:00, 14.92it/s]\n"
     ]
    },
    {
     "name": "stdout",
     "output_type": "stream",
     "text": [
      "Epoch 9, Loss: 4.381500179767609\n",
      "[SYST] Epoch 9\n"
     ]
    },
    {
     "name": "stderr",
     "output_type": "stream",
     "text": [
      "100%|████████████████████████████████████████████████████████| 200/200 [00:13<00:00, 14.51it/s]\n"
     ]
    },
    {
     "name": "stdout",
     "output_type": "stream",
     "text": [
      "Epoch 10, Loss: 4.378114287853241\n",
      "[SYST] Epoch 0\n"
     ]
    },
    {
     "name": "stderr",
     "output_type": "stream",
     "text": [
      "100%|████████████████████████████████████████████████████████████| 2/2 [00:00<00:00, 14.22it/s]\n"
     ]
    },
    {
     "name": "stdout",
     "output_type": "stream",
     "text": [
      "Test Accuracy: 54.71%\n",
      "[{'accuracy': 0.9989, 'Layer1': {'[[0, 1, 2, 3, 4, 5, 6, 7], [8, 9, 10, 11, 12, 13, 14, 15]]': 0.960625, '[[0, 1], [2, 3]]': 0.8984375, '[[0], [1]]': 0.87734375}, 'Layer2': {'[[0, 1, 2, 3, 4, 5, 6, 7], [8, 9, 10, 11, 12, 13, 14, 15]]': 0.633046875, '[[0, 1], [2, 3]]': 0.767265625, '[[0], [1]]': 0.623515625}, 'Layer3': {'[[0, 1, 2, 3, 4, 5, 6, 7], [8, 9, 10, 11, 12, 13, 14, 15]]': 0.562578125, '[[0, 1], [2, 3]]': 0.631953125, '[[0], [1]]': 0.627265625}}, {'accuracy': 0.998, 'Layer1': {'[[0, 1, 2, 3, 4, 5, 6, 7], [8, 9, 10, 11, 12, 13, 14, 15]]': 0.885390625, '[[0, 1], [2, 3]]': 0.808515625, '[[0], [1]]': 0.806796875}, 'Layer2': {'[[0, 1, 2, 3, 4, 5, 6, 7], [8, 9, 10, 11, 12, 13, 14, 15]]': 0.558359375, '[[0, 1], [2, 3]]': 0.547109375}}]\n",
      "Layer2 : [[0], [1]]\n",
      "restructuring\n"
     ]
    },
    {
     "name": "stderr",
     "output_type": "stream",
     "text": [
      "100%|█████████████████████████████████████████████| 1280000/1280000 [00:26<00:00, 47603.95it/s]\n"
     ]
    },
    {
     "name": "stdout",
     "output_type": "stream",
     "text": [
      "restructuring\n"
     ]
    },
    {
     "name": "stderr",
     "output_type": "stream",
     "text": [
      "100%|█████████████████████████████████████████████████| 12800/12800 [00:00<00:00, 34144.71it/s]\n"
     ]
    },
    {
     "name": "stdout",
     "output_type": "stream",
     "text": [
      "[SYST] Prepare Data\n"
     ]
    },
    {
     "name": "stderr",
     "output_type": "stream",
     "text": [
      "100%|█████████████████████████████████████████████| 1280000/1280000 [00:19<00:00, 64776.50it/s]\n"
     ]
    },
    {
     "name": "stdout",
     "output_type": "stream",
     "text": [
      "[SYST] Prepare Data\n"
     ]
    },
    {
     "name": "stderr",
     "output_type": "stream",
     "text": [
      "100%|█████████████████████████████████████████████████| 12800/12800 [00:00<00:00, 18792.95it/s]\n"
     ]
    },
    {
     "name": "stdout",
     "output_type": "stream",
     "text": [
      "[SYST] Epoch 0\n"
     ]
    },
    {
     "name": "stderr",
     "output_type": "stream",
     "text": [
      "100%|████████████████████████████████████████████████████████| 200/200 [00:14<00:00, 13.40it/s]\n"
     ]
    },
    {
     "name": "stdout",
     "output_type": "stream",
     "text": [
      "Epoch 1, Loss: 5.662243835926056\n",
      "[SYST] Epoch 1\n"
     ]
    },
    {
     "name": "stderr",
     "output_type": "stream",
     "text": [
      "100%|████████████████████████████████████████████████████████| 200/200 [00:15<00:00, 13.33it/s]\n"
     ]
    },
    {
     "name": "stdout",
     "output_type": "stream",
     "text": [
      "Epoch 2, Loss: 5.143418641090393\n",
      "[SYST] Epoch 2\n"
     ]
    },
    {
     "name": "stderr",
     "output_type": "stream",
     "text": [
      "100%|████████████████████████████████████████████████████████| 200/200 [00:15<00:00, 13.31it/s]\n"
     ]
    },
    {
     "name": "stdout",
     "output_type": "stream",
     "text": [
      "Epoch 3, Loss: 4.989042954444885\n",
      "[SYST] Epoch 3\n"
     ]
    },
    {
     "name": "stderr",
     "output_type": "stream",
     "text": [
      "100%|████████████████████████████████████████████████████████| 200/200 [00:15<00:00, 13.31it/s]\n"
     ]
    },
    {
     "name": "stdout",
     "output_type": "stream",
     "text": [
      "Epoch 4, Loss: 4.950976407527923\n",
      "[SYST] Epoch 4\n"
     ]
    },
    {
     "name": "stderr",
     "output_type": "stream",
     "text": [
      "100%|████████████████████████████████████████████████████████| 200/200 [00:14<00:00, 13.79it/s]\n"
     ]
    },
    {
     "name": "stdout",
     "output_type": "stream",
     "text": [
      "Epoch 5, Loss: 4.939950835704804\n",
      "[SYST] Epoch 5\n"
     ]
    },
    {
     "name": "stderr",
     "output_type": "stream",
     "text": [
      "100%|████████████████████████████████████████████████████████| 200/200 [00:13<00:00, 14.86it/s]\n"
     ]
    },
    {
     "name": "stdout",
     "output_type": "stream",
     "text": [
      "Epoch 6, Loss: 4.93582859992981\n",
      "[SYST] Epoch 6\n"
     ]
    },
    {
     "name": "stderr",
     "output_type": "stream",
     "text": [
      "100%|████████████████████████████████████████████████████████| 200/200 [00:13<00:00, 14.90it/s]\n"
     ]
    },
    {
     "name": "stdout",
     "output_type": "stream",
     "text": [
      "Epoch 7, Loss: 4.934024186134338\n",
      "[SYST] Epoch 7\n"
     ]
    },
    {
     "name": "stderr",
     "output_type": "stream",
     "text": [
      "100%|████████████████████████████████████████████████████████| 200/200 [00:14<00:00, 13.68it/s]\n"
     ]
    },
    {
     "name": "stdout",
     "output_type": "stream",
     "text": [
      "Epoch 8, Loss: 4.932850248813629\n",
      "[SYST] Epoch 8\n"
     ]
    },
    {
     "name": "stderr",
     "output_type": "stream",
     "text": [
      "100%|████████████████████████████████████████████████████████| 200/200 [00:15<00:00, 13.27it/s]\n"
     ]
    },
    {
     "name": "stdout",
     "output_type": "stream",
     "text": [
      "Epoch 9, Loss: 4.932220029830932\n",
      "[SYST] Epoch 9\n"
     ]
    },
    {
     "name": "stderr",
     "output_type": "stream",
     "text": [
      "100%|████████████████████████████████████████████████████████| 200/200 [00:13<00:00, 14.67it/s]\n"
     ]
    },
    {
     "name": "stdout",
     "output_type": "stream",
     "text": [
      "Epoch 10, Loss: 4.931894450187683\n",
      "[SYST] Epoch 0\n"
     ]
    },
    {
     "name": "stderr",
     "output_type": "stream",
     "text": [
      "100%|████████████████████████████████████████████████████████████| 2/2 [00:00<00:00, 16.16it/s]\n"
     ]
    },
    {
     "name": "stdout",
     "output_type": "stream",
     "text": [
      "Test Accuracy: 47.50%\n",
      "[{'accuracy': 0.9989, 'Layer1': {'[[0, 1, 2, 3, 4, 5, 6, 7], [8, 9, 10, 11, 12, 13, 14, 15]]': 0.960625, '[[0, 1], [2, 3]]': 0.8984375, '[[0], [1]]': 0.87734375}, 'Layer2': {'[[0, 1, 2, 3, 4, 5, 6, 7], [8, 9, 10, 11, 12, 13, 14, 15]]': 0.633046875, '[[0, 1], [2, 3]]': 0.767265625, '[[0], [1]]': 0.623515625}, 'Layer3': {'[[0, 1, 2, 3, 4, 5, 6, 7], [8, 9, 10, 11, 12, 13, 14, 15]]': 0.562578125, '[[0, 1], [2, 3]]': 0.631953125, '[[0], [1]]': 0.627265625}}, {'accuracy': 0.998, 'Layer1': {'[[0, 1, 2, 3, 4, 5, 6, 7], [8, 9, 10, 11, 12, 13, 14, 15]]': 0.885390625, '[[0, 1], [2, 3]]': 0.808515625, '[[0], [1]]': 0.806796875}, 'Layer2': {'[[0, 1, 2, 3, 4, 5, 6, 7], [8, 9, 10, 11, 12, 13, 14, 15]]': 0.558359375, '[[0, 1], [2, 3]]': 0.547109375, '[[0], [1]]': 0.475}}]\n",
      "Layer3 : [[0, 1, 2, 3, 4, 5, 6, 7], [8, 9, 10, 11, 12, 13, 14, 15]]\n",
      "restructuring\n"
     ]
    },
    {
     "name": "stderr",
     "output_type": "stream",
     "text": [
      "100%|█████████████████████████████████████████████| 1280000/1280000 [00:28<00:00, 45603.01it/s]\n"
     ]
    },
    {
     "name": "stdout",
     "output_type": "stream",
     "text": [
      "restructuring\n"
     ]
    },
    {
     "name": "stderr",
     "output_type": "stream",
     "text": [
      "100%|█████████████████████████████████████████████████| 12800/12800 [00:00<00:00, 34338.22it/s]\n"
     ]
    },
    {
     "name": "stdout",
     "output_type": "stream",
     "text": [
      "[SYST] Prepare Data\n"
     ]
    },
    {
     "name": "stderr",
     "output_type": "stream",
     "text": [
      "100%|█████████████████████████████████████████████| 1280000/1280000 [00:20<00:00, 61073.60it/s]\n"
     ]
    },
    {
     "name": "stdout",
     "output_type": "stream",
     "text": [
      "[SYST] Prepare Data\n"
     ]
    },
    {
     "name": "stderr",
     "output_type": "stream",
     "text": [
      "100%|█████████████████████████████████████████████████| 12800/12800 [00:00<00:00, 18742.20it/s]\n"
     ]
    },
    {
     "name": "stdout",
     "output_type": "stream",
     "text": [
      "[SYST] Epoch 0\n"
     ]
    },
    {
     "name": "stderr",
     "output_type": "stream",
     "text": [
      "100%|████████████████████████████████████████████████████████| 200/200 [00:13<00:00, 14.92it/s]\n"
     ]
    },
    {
     "name": "stdout",
     "output_type": "stream",
     "text": [
      "Epoch 1, Loss: 4.757727544307709\n",
      "[SYST] Epoch 1\n"
     ]
    },
    {
     "name": "stderr",
     "output_type": "stream",
     "text": [
      "100%|████████████████████████████████████████████████████████| 200/200 [00:13<00:00, 14.33it/s]\n"
     ]
    },
    {
     "name": "stdout",
     "output_type": "stream",
     "text": [
      "Epoch 2, Loss: 4.721855156421661\n",
      "[SYST] Epoch 2\n"
     ]
    },
    {
     "name": "stderr",
     "output_type": "stream",
     "text": [
      "100%|████████████████████████████████████████████████████████| 200/200 [00:13<00:00, 14.35it/s]\n"
     ]
    },
    {
     "name": "stdout",
     "output_type": "stream",
     "text": [
      "Epoch 3, Loss: 4.71362271308899\n",
      "[SYST] Epoch 3\n"
     ]
    },
    {
     "name": "stderr",
     "output_type": "stream",
     "text": [
      "100%|████████████████████████████████████████████████████████| 200/200 [00:13<00:00, 14.80it/s]\n"
     ]
    },
    {
     "name": "stdout",
     "output_type": "stream",
     "text": [
      "Epoch 4, Loss: 4.710465426445007\n",
      "[SYST] Epoch 4\n"
     ]
    },
    {
     "name": "stderr",
     "output_type": "stream",
     "text": [
      "100%|████████████████████████████████████████████████████████| 200/200 [00:13<00:00, 14.70it/s]\n"
     ]
    },
    {
     "name": "stdout",
     "output_type": "stream",
     "text": [
      "Epoch 5, Loss: 4.7088468599319455\n",
      "[SYST] Epoch 5\n"
     ]
    },
    {
     "name": "stderr",
     "output_type": "stream",
     "text": [
      "100%|████████████████████████████████████████████████████████| 200/200 [00:13<00:00, 14.41it/s]\n"
     ]
    },
    {
     "name": "stdout",
     "output_type": "stream",
     "text": [
      "Epoch 6, Loss: 4.70781033039093\n",
      "[SYST] Epoch 6\n"
     ]
    },
    {
     "name": "stderr",
     "output_type": "stream",
     "text": [
      "100%|████████████████████████████████████████████████████████| 200/200 [00:13<00:00, 14.76it/s]\n"
     ]
    },
    {
     "name": "stdout",
     "output_type": "stream",
     "text": [
      "Epoch 7, Loss: 4.707462000846863\n",
      "[SYST] Epoch 7\n"
     ]
    },
    {
     "name": "stderr",
     "output_type": "stream",
     "text": [
      "100%|████████████████████████████████████████████████████████| 200/200 [00:13<00:00, 14.60it/s]\n"
     ]
    },
    {
     "name": "stdout",
     "output_type": "stream",
     "text": [
      "Epoch 8, Loss: 4.707115442752838\n",
      "[SYST] Epoch 8\n"
     ]
    },
    {
     "name": "stderr",
     "output_type": "stream",
     "text": [
      "100%|████████████████████████████████████████████████████████| 200/200 [00:13<00:00, 14.39it/s]\n"
     ]
    },
    {
     "name": "stdout",
     "output_type": "stream",
     "text": [
      "Epoch 9, Loss: 4.7069628810882564\n",
      "[SYST] Epoch 9\n"
     ]
    },
    {
     "name": "stderr",
     "output_type": "stream",
     "text": [
      "100%|████████████████████████████████████████████████████████| 200/200 [00:13<00:00, 14.40it/s]\n"
     ]
    },
    {
     "name": "stdout",
     "output_type": "stream",
     "text": [
      "Epoch 10, Loss: 4.706957705020905\n",
      "[SYST] Epoch 0\n"
     ]
    },
    {
     "name": "stderr",
     "output_type": "stream",
     "text": [
      "100%|████████████████████████████████████████████████████████████| 2/2 [00:00<00:00, 16.15it/s]\n"
     ]
    },
    {
     "name": "stdout",
     "output_type": "stream",
     "text": [
      "Test Accuracy: 61.30%\n",
      "[{'accuracy': 0.9989, 'Layer1': {'[[0, 1, 2, 3, 4, 5, 6, 7], [8, 9, 10, 11, 12, 13, 14, 15]]': 0.960625, '[[0, 1], [2, 3]]': 0.8984375, '[[0], [1]]': 0.87734375}, 'Layer2': {'[[0, 1, 2, 3, 4, 5, 6, 7], [8, 9, 10, 11, 12, 13, 14, 15]]': 0.633046875, '[[0, 1], [2, 3]]': 0.767265625, '[[0], [1]]': 0.623515625}, 'Layer3': {'[[0, 1, 2, 3, 4, 5, 6, 7], [8, 9, 10, 11, 12, 13, 14, 15]]': 0.562578125, '[[0, 1], [2, 3]]': 0.631953125, '[[0], [1]]': 0.627265625}}, {'accuracy': 0.998, 'Layer1': {'[[0, 1, 2, 3, 4, 5, 6, 7], [8, 9, 10, 11, 12, 13, 14, 15]]': 0.885390625, '[[0, 1], [2, 3]]': 0.808515625, '[[0], [1]]': 0.806796875}, 'Layer2': {'[[0, 1, 2, 3, 4, 5, 6, 7], [8, 9, 10, 11, 12, 13, 14, 15]]': 0.558359375, '[[0, 1], [2, 3]]': 0.547109375, '[[0], [1]]': 0.475}, 'Layer3': {'[[0, 1, 2, 3, 4, 5, 6, 7], [8, 9, 10, 11, 12, 13, 14, 15]]': 0.61296875}}]\n",
      "Layer3 : [[0, 1], [2, 3]]\n",
      "restructuring\n"
     ]
    },
    {
     "name": "stderr",
     "output_type": "stream",
     "text": [
      "100%|█████████████████████████████████████████████| 1280000/1280000 [00:26<00:00, 47517.74it/s]\n"
     ]
    },
    {
     "name": "stdout",
     "output_type": "stream",
     "text": [
      "restructuring\n"
     ]
    },
    {
     "name": "stderr",
     "output_type": "stream",
     "text": [
      "100%|█████████████████████████████████████████████████| 12800/12800 [00:00<00:00, 33836.59it/s]\n"
     ]
    },
    {
     "name": "stdout",
     "output_type": "stream",
     "text": [
      "[SYST] Prepare Data\n"
     ]
    },
    {
     "name": "stderr",
     "output_type": "stream",
     "text": [
      "100%|█████████████████████████████████████████████| 1280000/1280000 [00:13<00:00, 94661.14it/s]\n"
     ]
    },
    {
     "name": "stdout",
     "output_type": "stream",
     "text": [
      "[SYST] Prepare Data\n"
     ]
    },
    {
     "name": "stderr",
     "output_type": "stream",
     "text": [
      "100%|█████████████████████████████████████████████████| 12800/12800 [00:00<00:00, 18756.83it/s]\n"
     ]
    },
    {
     "name": "stdout",
     "output_type": "stream",
     "text": [
      "[SYST] Epoch 0\n"
     ]
    },
    {
     "name": "stderr",
     "output_type": "stream",
     "text": [
      "100%|████████████████████████████████████████████████████████| 200/200 [00:13<00:00, 14.51it/s]\n"
     ]
    },
    {
     "name": "stdout",
     "output_type": "stream",
     "text": [
      "Epoch 1, Loss: 4.647366526126862\n",
      "[SYST] Epoch 1\n"
     ]
    },
    {
     "name": "stderr",
     "output_type": "stream",
     "text": [
      "100%|████████████████████████████████████████████████████████| 200/200 [00:14<00:00, 14.06it/s]\n"
     ]
    },
    {
     "name": "stdout",
     "output_type": "stream",
     "text": [
      "Epoch 2, Loss: 4.595273461341858\n",
      "[SYST] Epoch 2\n"
     ]
    },
    {
     "name": "stderr",
     "output_type": "stream",
     "text": [
      "100%|████████████████████████████████████████████████████████| 200/200 [00:13<00:00, 14.76it/s]\n"
     ]
    },
    {
     "name": "stdout",
     "output_type": "stream",
     "text": [
      "Epoch 3, Loss: 4.58640620470047\n",
      "[SYST] Epoch 3\n"
     ]
    },
    {
     "name": "stderr",
     "output_type": "stream",
     "text": [
      "100%|████████████████████████████████████████████████████████| 200/200 [00:13<00:00, 14.77it/s]\n"
     ]
    },
    {
     "name": "stdout",
     "output_type": "stream",
     "text": [
      "Epoch 4, Loss: 4.581278569698334\n",
      "[SYST] Epoch 4\n"
     ]
    },
    {
     "name": "stderr",
     "output_type": "stream",
     "text": [
      "100%|████████████████████████████████████████████████████████| 200/200 [00:14<00:00, 13.76it/s]\n"
     ]
    },
    {
     "name": "stdout",
     "output_type": "stream",
     "text": [
      "Epoch 5, Loss: 4.578138990402222\n",
      "[SYST] Epoch 5\n"
     ]
    },
    {
     "name": "stderr",
     "output_type": "stream",
     "text": [
      "100%|████████████████████████████████████████████████████████| 200/200 [00:14<00:00, 13.98it/s]\n"
     ]
    },
    {
     "name": "stdout",
     "output_type": "stream",
     "text": [
      "Epoch 6, Loss: 4.576358587741852\n",
      "[SYST] Epoch 6\n"
     ]
    },
    {
     "name": "stderr",
     "output_type": "stream",
     "text": [
      "100%|████████████████████████████████████████████████████████| 200/200 [00:14<00:00, 13.44it/s]\n"
     ]
    },
    {
     "name": "stdout",
     "output_type": "stream",
     "text": [
      "Epoch 7, Loss: 4.575090250968933\n",
      "[SYST] Epoch 7\n"
     ]
    },
    {
     "name": "stderr",
     "output_type": "stream",
     "text": [
      "100%|████████████████████████████████████████████████████████| 200/200 [00:15<00:00, 13.28it/s]\n"
     ]
    },
    {
     "name": "stdout",
     "output_type": "stream",
     "text": [
      "Epoch 8, Loss: 4.574535524845123\n",
      "[SYST] Epoch 8\n"
     ]
    },
    {
     "name": "stderr",
     "output_type": "stream",
     "text": [
      "100%|████████████████████████████████████████████████████████| 200/200 [00:15<00:00, 12.99it/s]\n"
     ]
    },
    {
     "name": "stdout",
     "output_type": "stream",
     "text": [
      "Epoch 9, Loss: 4.57399249792099\n",
      "[SYST] Epoch 9\n"
     ]
    },
    {
     "name": "stderr",
     "output_type": "stream",
     "text": [
      "100%|████████████████████████████████████████████████████████| 200/200 [00:15<00:00, 13.25it/s]\n"
     ]
    },
    {
     "name": "stdout",
     "output_type": "stream",
     "text": [
      "Epoch 10, Loss: 4.573726694583893\n",
      "[SYST] Epoch 0\n"
     ]
    },
    {
     "name": "stderr",
     "output_type": "stream",
     "text": [
      "100%|████████████████████████████████████████████████████████████| 2/2 [00:00<00:00, 14.36it/s]\n"
     ]
    },
    {
     "name": "stdout",
     "output_type": "stream",
     "text": [
      "Test Accuracy: 64.42%\n",
      "[{'accuracy': 0.9989, 'Layer1': {'[[0, 1, 2, 3, 4, 5, 6, 7], [8, 9, 10, 11, 12, 13, 14, 15]]': 0.960625, '[[0, 1], [2, 3]]': 0.8984375, '[[0], [1]]': 0.87734375}, 'Layer2': {'[[0, 1, 2, 3, 4, 5, 6, 7], [8, 9, 10, 11, 12, 13, 14, 15]]': 0.633046875, '[[0, 1], [2, 3]]': 0.767265625, '[[0], [1]]': 0.623515625}, 'Layer3': {'[[0, 1, 2, 3, 4, 5, 6, 7], [8, 9, 10, 11, 12, 13, 14, 15]]': 0.562578125, '[[0, 1], [2, 3]]': 0.631953125, '[[0], [1]]': 0.627265625}}, {'accuracy': 0.998, 'Layer1': {'[[0, 1, 2, 3, 4, 5, 6, 7], [8, 9, 10, 11, 12, 13, 14, 15]]': 0.885390625, '[[0, 1], [2, 3]]': 0.808515625, '[[0], [1]]': 0.806796875}, 'Layer2': {'[[0, 1, 2, 3, 4, 5, 6, 7], [8, 9, 10, 11, 12, 13, 14, 15]]': 0.558359375, '[[0, 1], [2, 3]]': 0.547109375, '[[0], [1]]': 0.475}, 'Layer3': {'[[0, 1, 2, 3, 4, 5, 6, 7], [8, 9, 10, 11, 12, 13, 14, 15]]': 0.61296875, '[[0, 1], [2, 3]]': 0.64421875}}]\n",
      "Layer3 : [[0], [1]]\n",
      "restructuring\n"
     ]
    },
    {
     "name": "stderr",
     "output_type": "stream",
     "text": [
      "100%|█████████████████████████████████████████████| 1280000/1280000 [00:28<00:00, 45318.70it/s]\n"
     ]
    },
    {
     "name": "stdout",
     "output_type": "stream",
     "text": [
      "restructuring\n"
     ]
    },
    {
     "name": "stderr",
     "output_type": "stream",
     "text": [
      "100%|█████████████████████████████████████████████████| 12800/12800 [00:00<00:00, 32948.67it/s]\n"
     ]
    },
    {
     "name": "stdout",
     "output_type": "stream",
     "text": [
      "[SYST] Prepare Data\n"
     ]
    },
    {
     "name": "stderr",
     "output_type": "stream",
     "text": [
      "100%|█████████████████████████████████████████████| 1280000/1280000 [00:20<00:00, 63417.15it/s]\n"
     ]
    },
    {
     "name": "stdout",
     "output_type": "stream",
     "text": [
      "[SYST] Prepare Data\n"
     ]
    },
    {
     "name": "stderr",
     "output_type": "stream",
     "text": [
      "100%|█████████████████████████████████████████████████| 12800/12800 [00:00<00:00, 23336.80it/s]\n"
     ]
    },
    {
     "name": "stdout",
     "output_type": "stream",
     "text": [
      "[SYST] Epoch 0\n"
     ]
    },
    {
     "name": "stderr",
     "output_type": "stream",
     "text": [
      "100%|████████████████████████████████████████████████████████| 200/200 [00:13<00:00, 14.50it/s]\n"
     ]
    },
    {
     "name": "stdout",
     "output_type": "stream",
     "text": [
      "Epoch 1, Loss: 5.006825175285339\n",
      "[SYST] Epoch 1\n"
     ]
    },
    {
     "name": "stderr",
     "output_type": "stream",
     "text": [
      "100%|████████████████████████████████████████████████████████| 200/200 [00:14<00:00, 13.87it/s]\n"
     ]
    },
    {
     "name": "stdout",
     "output_type": "stream",
     "text": [
      "Epoch 2, Loss: 4.603008329868317\n",
      "[SYST] Epoch 2\n"
     ]
    },
    {
     "name": "stderr",
     "output_type": "stream",
     "text": [
      "100%|████████████████████████████████████████████████████████| 200/200 [00:13<00:00, 14.93it/s]\n"
     ]
    },
    {
     "name": "stdout",
     "output_type": "stream",
     "text": [
      "Epoch 3, Loss: 4.596046900749206\n",
      "[SYST] Epoch 3\n"
     ]
    },
    {
     "name": "stderr",
     "output_type": "stream",
     "text": [
      "100%|████████████████████████████████████████████████████████| 200/200 [00:13<00:00, 14.81it/s]\n"
     ]
    },
    {
     "name": "stdout",
     "output_type": "stream",
     "text": [
      "Epoch 4, Loss: 4.59301029920578\n",
      "[SYST] Epoch 4\n"
     ]
    },
    {
     "name": "stderr",
     "output_type": "stream",
     "text": [
      "100%|████████████████████████████████████████████████████████| 200/200 [00:13<00:00, 14.87it/s]\n"
     ]
    },
    {
     "name": "stdout",
     "output_type": "stream",
     "text": [
      "Epoch 5, Loss: 4.590880115032196\n",
      "[SYST] Epoch 5\n"
     ]
    },
    {
     "name": "stderr",
     "output_type": "stream",
     "text": [
      "100%|████████████████████████████████████████████████████████| 200/200 [00:13<00:00, 14.92it/s]\n"
     ]
    },
    {
     "name": "stdout",
     "output_type": "stream",
     "text": [
      "Epoch 6, Loss: 4.589071719646454\n",
      "[SYST] Epoch 6\n"
     ]
    },
    {
     "name": "stderr",
     "output_type": "stream",
     "text": [
      "100%|████████████████████████████████████████████████████████| 200/200 [00:14<00:00, 14.21it/s]\n"
     ]
    },
    {
     "name": "stdout",
     "output_type": "stream",
     "text": [
      "Epoch 7, Loss: 4.587596690654754\n",
      "[SYST] Epoch 7\n"
     ]
    },
    {
     "name": "stderr",
     "output_type": "stream",
     "text": [
      "100%|████████████████████████████████████████████████████████| 200/200 [00:13<00:00, 14.34it/s]\n"
     ]
    },
    {
     "name": "stdout",
     "output_type": "stream",
     "text": [
      "Epoch 8, Loss: 4.5858469414711\n",
      "[SYST] Epoch 8\n"
     ]
    },
    {
     "name": "stderr",
     "output_type": "stream",
     "text": [
      "100%|████████████████████████████████████████████████████████| 200/200 [00:13<00:00, 14.97it/s]\n"
     ]
    },
    {
     "name": "stdout",
     "output_type": "stream",
     "text": [
      "Epoch 9, Loss: 4.584332954883576\n",
      "[SYST] Epoch 9\n"
     ]
    },
    {
     "name": "stderr",
     "output_type": "stream",
     "text": [
      "100%|████████████████████████████████████████████████████████| 200/200 [00:13<00:00, 14.92it/s]\n"
     ]
    },
    {
     "name": "stdout",
     "output_type": "stream",
     "text": [
      "Epoch 10, Loss: 4.582930593490601\n",
      "[SYST] Epoch 0\n"
     ]
    },
    {
     "name": "stderr",
     "output_type": "stream",
     "text": [
      "100%|████████████████████████████████████████████████████████████| 2/2 [00:00<00:00, 16.16it/s]\n"
     ]
    },
    {
     "name": "stdout",
     "output_type": "stream",
     "text": [
      "Test Accuracy: 63.78%\n",
      "[{'accuracy': 0.9989, 'Layer1': {'[[0, 1, 2, 3, 4, 5, 6, 7], [8, 9, 10, 11, 12, 13, 14, 15]]': 0.960625, '[[0, 1], [2, 3]]': 0.8984375, '[[0], [1]]': 0.87734375}, 'Layer2': {'[[0, 1, 2, 3, 4, 5, 6, 7], [8, 9, 10, 11, 12, 13, 14, 15]]': 0.633046875, '[[0, 1], [2, 3]]': 0.767265625, '[[0], [1]]': 0.623515625}, 'Layer3': {'[[0, 1, 2, 3, 4, 5, 6, 7], [8, 9, 10, 11, 12, 13, 14, 15]]': 0.562578125, '[[0, 1], [2, 3]]': 0.631953125, '[[0], [1]]': 0.627265625}}, {'accuracy': 0.998, 'Layer1': {'[[0, 1, 2, 3, 4, 5, 6, 7], [8, 9, 10, 11, 12, 13, 14, 15]]': 0.885390625, '[[0, 1], [2, 3]]': 0.808515625, '[[0], [1]]': 0.806796875}, 'Layer2': {'[[0, 1, 2, 3, 4, 5, 6, 7], [8, 9, 10, 11, 12, 13, 14, 15]]': 0.558359375, '[[0, 1], [2, 3]]': 0.547109375, '[[0], [1]]': 0.475}, 'Layer3': {'[[0, 1, 2, 3, 4, 5, 6, 7], [8, 9, 10, 11, 12, 13, 14, 15]]': 0.61296875, '[[0, 1], [2, 3]]': 0.64421875, '[[0], [1]]': 0.6378125}}]\n"
     ]
    },
    {
     "name": "stderr",
     "output_type": "stream",
     "text": [
      "100%|█████████████████████████████████████████████████████| 1024/1024 [00:06<00:00, 152.14it/s]\n"
     ]
    },
    {
     "name": "stdout",
     "output_type": "stream",
     "text": [
      "Epoch 1, Loss: 0.4197258357053215\n"
     ]
    },
    {
     "name": "stderr",
     "output_type": "stream",
     "text": [
      "100%|█████████████████████████████████████████████████████| 1024/1024 [00:06<00:00, 152.56it/s]\n"
     ]
    },
    {
     "name": "stdout",
     "output_type": "stream",
     "text": [
      "Epoch 2, Loss: 0.023009023089798575\n"
     ]
    },
    {
     "name": "stderr",
     "output_type": "stream",
     "text": [
      "100%|█████████████████████████████████████████████████████| 1024/1024 [00:06<00:00, 153.31it/s]\n"
     ]
    },
    {
     "name": "stdout",
     "output_type": "stream",
     "text": [
      "Epoch 3, Loss: 0.007887338624414042\n"
     ]
    },
    {
     "name": "stderr",
     "output_type": "stream",
     "text": [
      "100%|█████████████████████████████████████████████████████████| 10/10 [00:00<00:00, 190.55it/s]\n"
     ]
    },
    {
     "name": "stdout",
     "output_type": "stream",
     "text": [
      "Test Accuracy: 0.9988\n",
      "Layer1 : [[0, 1, 2, 3, 4, 5, 6, 7], [8, 9, 10, 11, 12, 13, 14, 15]]\n",
      "restructuring\n"
     ]
    },
    {
     "name": "stderr",
     "output_type": "stream",
     "text": [
      "100%|█████████████████████████████████████████████| 1280000/1280000 [00:27<00:00, 45817.26it/s]\n"
     ]
    },
    {
     "name": "stdout",
     "output_type": "stream",
     "text": [
      "restructuring\n"
     ]
    },
    {
     "name": "stderr",
     "output_type": "stream",
     "text": [
      "100%|█████████████████████████████████████████████████| 12800/12800 [00:00<00:00, 33720.51it/s]\n"
     ]
    },
    {
     "name": "stdout",
     "output_type": "stream",
     "text": [
      "[SYST] Prepare Data\n"
     ]
    },
    {
     "name": "stderr",
     "output_type": "stream",
     "text": [
      "100%|█████████████████████████████████████████████| 1280000/1280000 [00:21<00:00, 60345.61it/s]\n"
     ]
    },
    {
     "name": "stdout",
     "output_type": "stream",
     "text": [
      "[SYST] Prepare Data\n"
     ]
    },
    {
     "name": "stderr",
     "output_type": "stream",
     "text": [
      "100%|█████████████████████████████████████████████████| 12800/12800 [00:00<00:00, 24193.95it/s]\n"
     ]
    },
    {
     "name": "stdout",
     "output_type": "stream",
     "text": [
      "[SYST] Epoch 0\n"
     ]
    },
    {
     "name": "stderr",
     "output_type": "stream",
     "text": [
      "100%|████████████████████████████████████████████████████████| 200/200 [00:13<00:00, 14.85it/s]\n"
     ]
    },
    {
     "name": "stdout",
     "output_type": "stream",
     "text": [
      "Epoch 1, Loss: 4.788917263746262\n",
      "[SYST] Epoch 1\n"
     ]
    },
    {
     "name": "stderr",
     "output_type": "stream",
     "text": [
      "100%|████████████████████████████████████████████████████████| 200/200 [00:13<00:00, 14.40it/s]\n"
     ]
    },
    {
     "name": "stdout",
     "output_type": "stream",
     "text": [
      "Epoch 2, Loss: 1.4003767731785774\n",
      "[SYST] Epoch 2\n"
     ]
    },
    {
     "name": "stderr",
     "output_type": "stream",
     "text": [
      "100%|████████████████████████████████████████████████████████| 200/200 [00:13<00:00, 14.53it/s]\n"
     ]
    },
    {
     "name": "stdout",
     "output_type": "stream",
     "text": [
      "Epoch 3, Loss: 0.7162284696102142\n",
      "[SYST] Epoch 3\n"
     ]
    },
    {
     "name": "stderr",
     "output_type": "stream",
     "text": [
      "100%|████████████████████████████████████████████████████████| 200/200 [00:13<00:00, 14.40it/s]\n"
     ]
    },
    {
     "name": "stdout",
     "output_type": "stream",
     "text": [
      "Epoch 4, Loss: 0.4569363543391228\n",
      "[SYST] Epoch 4\n"
     ]
    },
    {
     "name": "stderr",
     "output_type": "stream",
     "text": [
      "100%|████████████████████████████████████████████████████████| 200/200 [00:14<00:00, 14.21it/s]\n"
     ]
    },
    {
     "name": "stdout",
     "output_type": "stream",
     "text": [
      "Epoch 5, Loss: 0.31838424146175387\n",
      "[SYST] Epoch 5\n"
     ]
    },
    {
     "name": "stderr",
     "output_type": "stream",
     "text": [
      "100%|████████████████████████████████████████████████████████| 200/200 [00:14<00:00, 13.85it/s]\n"
     ]
    },
    {
     "name": "stdout",
     "output_type": "stream",
     "text": [
      "Epoch 6, Loss: 0.27755711108446124\n",
      "[SYST] Epoch 6\n"
     ]
    },
    {
     "name": "stderr",
     "output_type": "stream",
     "text": [
      "100%|████████████████████████████████████████████████████████| 200/200 [00:13<00:00, 14.49it/s]\n"
     ]
    },
    {
     "name": "stdout",
     "output_type": "stream",
     "text": [
      "Epoch 7, Loss: 0.2618943878263235\n",
      "[SYST] Epoch 7\n"
     ]
    },
    {
     "name": "stderr",
     "output_type": "stream",
     "text": [
      "100%|████████████████████████████████████████████████████████| 200/200 [00:13<00:00, 14.77it/s]\n"
     ]
    },
    {
     "name": "stdout",
     "output_type": "stream",
     "text": [
      "Epoch 8, Loss: 0.25268035896122454\n",
      "[SYST] Epoch 8\n"
     ]
    },
    {
     "name": "stderr",
     "output_type": "stream",
     "text": [
      "100%|████████████████████████████████████████████████████████| 200/200 [00:13<00:00, 14.33it/s]\n"
     ]
    },
    {
     "name": "stdout",
     "output_type": "stream",
     "text": [
      "Epoch 9, Loss: 0.24639391876757144\n",
      "[SYST] Epoch 9\n"
     ]
    },
    {
     "name": "stderr",
     "output_type": "stream",
     "text": [
      "100%|████████████████████████████████████████████████████████| 200/200 [00:13<00:00, 14.61it/s]\n"
     ]
    },
    {
     "name": "stdout",
     "output_type": "stream",
     "text": [
      "Epoch 10, Loss: 0.24124171376228332\n",
      "[SYST] Epoch 0\n"
     ]
    },
    {
     "name": "stderr",
     "output_type": "stream",
     "text": [
      "100%|████████████████████████████████████████████████████████████| 2/2 [00:00<00:00, 14.35it/s]\n"
     ]
    },
    {
     "name": "stdout",
     "output_type": "stream",
     "text": [
      "Test Accuracy: 94.52%\n",
      "[{'accuracy': 0.9989, 'Layer1': {'[[0, 1, 2, 3, 4, 5, 6, 7], [8, 9, 10, 11, 12, 13, 14, 15]]': 0.960625, '[[0, 1], [2, 3]]': 0.8984375, '[[0], [1]]': 0.87734375}, 'Layer2': {'[[0, 1, 2, 3, 4, 5, 6, 7], [8, 9, 10, 11, 12, 13, 14, 15]]': 0.633046875, '[[0, 1], [2, 3]]': 0.767265625, '[[0], [1]]': 0.623515625}, 'Layer3': {'[[0, 1, 2, 3, 4, 5, 6, 7], [8, 9, 10, 11, 12, 13, 14, 15]]': 0.562578125, '[[0, 1], [2, 3]]': 0.631953125, '[[0], [1]]': 0.627265625}}, {'accuracy': 0.998, 'Layer1': {'[[0, 1, 2, 3, 4, 5, 6, 7], [8, 9, 10, 11, 12, 13, 14, 15]]': 0.885390625, '[[0, 1], [2, 3]]': 0.808515625, '[[0], [1]]': 0.806796875}, 'Layer2': {'[[0, 1, 2, 3, 4, 5, 6, 7], [8, 9, 10, 11, 12, 13, 14, 15]]': 0.558359375, '[[0, 1], [2, 3]]': 0.547109375, '[[0], [1]]': 0.475}, 'Layer3': {'[[0, 1, 2, 3, 4, 5, 6, 7], [8, 9, 10, 11, 12, 13, 14, 15]]': 0.61296875, '[[0, 1], [2, 3]]': 0.64421875, '[[0], [1]]': 0.6378125}}, {'accuracy': 0.9988, 'Layer1': {'[[0, 1, 2, 3, 4, 5, 6, 7], [8, 9, 10, 11, 12, 13, 14, 15]]': 0.945234375}}]\n",
      "Layer1 : [[0, 1], [2, 3]]\n",
      "restructuring\n"
     ]
    },
    {
     "name": "stderr",
     "output_type": "stream",
     "text": [
      "100%|█████████████████████████████████████████████| 1280000/1280000 [00:27<00:00, 47116.40it/s]\n"
     ]
    },
    {
     "name": "stdout",
     "output_type": "stream",
     "text": [
      "restructuring\n"
     ]
    },
    {
     "name": "stderr",
     "output_type": "stream",
     "text": [
      "100%|█████████████████████████████████████████████████| 12800/12800 [00:00<00:00, 33853.46it/s]\n"
     ]
    },
    {
     "name": "stdout",
     "output_type": "stream",
     "text": [
      "[SYST] Prepare Data\n"
     ]
    },
    {
     "name": "stderr",
     "output_type": "stream",
     "text": [
      "100%|█████████████████████████████████████████████| 1280000/1280000 [00:13<00:00, 94444.00it/s]\n"
     ]
    },
    {
     "name": "stdout",
     "output_type": "stream",
     "text": [
      "[SYST] Prepare Data\n"
     ]
    },
    {
     "name": "stderr",
     "output_type": "stream",
     "text": [
      "100%|█████████████████████████████████████████████████| 12800/12800 [00:00<00:00, 18708.14it/s]\n"
     ]
    },
    {
     "name": "stdout",
     "output_type": "stream",
     "text": [
      "[SYST] Epoch 0\n"
     ]
    },
    {
     "name": "stderr",
     "output_type": "stream",
     "text": [
      "100%|████████████████████████████████████████████████████████| 200/200 [00:14<00:00, 14.21it/s]\n"
     ]
    },
    {
     "name": "stdout",
     "output_type": "stream",
     "text": [
      "Epoch 1, Loss: 5.235003333091736\n",
      "[SYST] Epoch 1\n"
     ]
    },
    {
     "name": "stderr",
     "output_type": "stream",
     "text": [
      "100%|████████████████████████████████████████████████████████| 200/200 [00:14<00:00, 13.65it/s]\n"
     ]
    },
    {
     "name": "stdout",
     "output_type": "stream",
     "text": [
      "Epoch 2, Loss: 2.897854472398758\n",
      "[SYST] Epoch 2\n"
     ]
    },
    {
     "name": "stderr",
     "output_type": "stream",
     "text": [
      "100%|████████████████████████████████████████████████████████| 200/200 [00:14<00:00, 13.73it/s]\n"
     ]
    },
    {
     "name": "stdout",
     "output_type": "stream",
     "text": [
      "Epoch 3, Loss: 1.3745485520362855\n",
      "[SYST] Epoch 3\n"
     ]
    },
    {
     "name": "stderr",
     "output_type": "stream",
     "text": [
      "100%|████████████████████████████████████████████████████████| 200/200 [00:13<00:00, 14.37it/s]\n"
     ]
    },
    {
     "name": "stdout",
     "output_type": "stream",
     "text": [
      "Epoch 4, Loss: 1.0154301086068154\n",
      "[SYST] Epoch 4\n"
     ]
    },
    {
     "name": "stderr",
     "output_type": "stream",
     "text": [
      "100%|████████████████████████████████████████████████████████| 200/200 [00:13<00:00, 14.94it/s]\n"
     ]
    },
    {
     "name": "stdout",
     "output_type": "stream",
     "text": [
      "Epoch 5, Loss: 0.9256123512983322\n",
      "[SYST] Epoch 5\n"
     ]
    },
    {
     "name": "stderr",
     "output_type": "stream",
     "text": [
      "100%|████████████████████████████████████████████████████████| 200/200 [00:13<00:00, 14.73it/s]\n"
     ]
    },
    {
     "name": "stdout",
     "output_type": "stream",
     "text": [
      "Epoch 6, Loss: 0.8847579735517502\n",
      "[SYST] Epoch 6\n"
     ]
    },
    {
     "name": "stderr",
     "output_type": "stream",
     "text": [
      "100%|████████████████████████████████████████████████████████| 200/200 [00:13<00:00, 14.56it/s]\n"
     ]
    },
    {
     "name": "stdout",
     "output_type": "stream",
     "text": [
      "Epoch 7, Loss: 0.8488406839966774\n",
      "[SYST] Epoch 7\n"
     ]
    },
    {
     "name": "stderr",
     "output_type": "stream",
     "text": [
      "100%|████████████████████████████████████████████████████████| 200/200 [00:13<00:00, 14.41it/s]\n"
     ]
    },
    {
     "name": "stdout",
     "output_type": "stream",
     "text": [
      "Epoch 8, Loss: 0.7508380779623985\n",
      "[SYST] Epoch 8\n"
     ]
    },
    {
     "name": "stderr",
     "output_type": "stream",
     "text": [
      "100%|████████████████████████████████████████████████████████| 200/200 [00:13<00:00, 14.44it/s]\n"
     ]
    },
    {
     "name": "stdout",
     "output_type": "stream",
     "text": [
      "Epoch 9, Loss: 0.6266992872953415\n",
      "[SYST] Epoch 9\n"
     ]
    },
    {
     "name": "stderr",
     "output_type": "stream",
     "text": [
      "100%|████████████████████████████████████████████████████████| 200/200 [00:13<00:00, 14.46it/s]\n"
     ]
    },
    {
     "name": "stdout",
     "output_type": "stream",
     "text": [
      "Epoch 10, Loss: 0.5886951941251755\n",
      "[SYST] Epoch 0\n"
     ]
    },
    {
     "name": "stderr",
     "output_type": "stream",
     "text": [
      "100%|████████████████████████████████████████████████████████████| 2/2 [00:00<00:00, 16.09it/s]\n"
     ]
    },
    {
     "name": "stdout",
     "output_type": "stream",
     "text": [
      "Test Accuracy: 87.83%\n",
      "[{'accuracy': 0.9989, 'Layer1': {'[[0, 1, 2, 3, 4, 5, 6, 7], [8, 9, 10, 11, 12, 13, 14, 15]]': 0.960625, '[[0, 1], [2, 3]]': 0.8984375, '[[0], [1]]': 0.87734375}, 'Layer2': {'[[0, 1, 2, 3, 4, 5, 6, 7], [8, 9, 10, 11, 12, 13, 14, 15]]': 0.633046875, '[[0, 1], [2, 3]]': 0.767265625, '[[0], [1]]': 0.623515625}, 'Layer3': {'[[0, 1, 2, 3, 4, 5, 6, 7], [8, 9, 10, 11, 12, 13, 14, 15]]': 0.562578125, '[[0, 1], [2, 3]]': 0.631953125, '[[0], [1]]': 0.627265625}}, {'accuracy': 0.998, 'Layer1': {'[[0, 1, 2, 3, 4, 5, 6, 7], [8, 9, 10, 11, 12, 13, 14, 15]]': 0.885390625, '[[0, 1], [2, 3]]': 0.808515625, '[[0], [1]]': 0.806796875}, 'Layer2': {'[[0, 1, 2, 3, 4, 5, 6, 7], [8, 9, 10, 11, 12, 13, 14, 15]]': 0.558359375, '[[0, 1], [2, 3]]': 0.547109375, '[[0], [1]]': 0.475}, 'Layer3': {'[[0, 1, 2, 3, 4, 5, 6, 7], [8, 9, 10, 11, 12, 13, 14, 15]]': 0.61296875, '[[0, 1], [2, 3]]': 0.64421875, '[[0], [1]]': 0.6378125}}, {'accuracy': 0.9988, 'Layer1': {'[[0, 1, 2, 3, 4, 5, 6, 7], [8, 9, 10, 11, 12, 13, 14, 15]]': 0.945234375, '[[0, 1], [2, 3]]': 0.87828125}}]\n",
      "Layer1 : [[0], [1]]\n",
      "restructuring\n"
     ]
    },
    {
     "name": "stderr",
     "output_type": "stream",
     "text": [
      "100%|█████████████████████████████████████████████| 1280000/1280000 [00:26<00:00, 47706.64it/s]\n"
     ]
    },
    {
     "name": "stdout",
     "output_type": "stream",
     "text": [
      "restructuring\n"
     ]
    },
    {
     "name": "stderr",
     "output_type": "stream",
     "text": [
      "100%|█████████████████████████████████████████████████| 12800/12800 [00:00<00:00, 34102.07it/s]\n"
     ]
    },
    {
     "name": "stdout",
     "output_type": "stream",
     "text": [
      "[SYST] Prepare Data\n"
     ]
    },
    {
     "name": "stderr",
     "output_type": "stream",
     "text": [
      "100%|█████████████████████████████████████████████| 1280000/1280000 [00:19<00:00, 66024.14it/s]\n"
     ]
    },
    {
     "name": "stdout",
     "output_type": "stream",
     "text": [
      "[SYST] Prepare Data\n"
     ]
    },
    {
     "name": "stderr",
     "output_type": "stream",
     "text": [
      "100%|█████████████████████████████████████████████████| 12800/12800 [00:00<00:00, 18664.52it/s]\n"
     ]
    },
    {
     "name": "stdout",
     "output_type": "stream",
     "text": [
      "[SYST] Epoch 0\n"
     ]
    },
    {
     "name": "stderr",
     "output_type": "stream",
     "text": [
      "100%|████████████████████████████████████████████████████████| 200/200 [00:13<00:00, 15.10it/s]\n"
     ]
    },
    {
     "name": "stdout",
     "output_type": "stream",
     "text": [
      "Epoch 1, Loss: 5.552440049648285\n",
      "[SYST] Epoch 1\n"
     ]
    },
    {
     "name": "stderr",
     "output_type": "stream",
     "text": [
      "100%|████████████████████████████████████████████████████████| 200/200 [00:13<00:00, 14.96it/s]\n"
     ]
    },
    {
     "name": "stdout",
     "output_type": "stream",
     "text": [
      "Epoch 2, Loss: 5.121277313232422\n",
      "[SYST] Epoch 2\n"
     ]
    },
    {
     "name": "stderr",
     "output_type": "stream",
     "text": [
      "100%|████████████████████████████████████████████████████████| 200/200 [00:13<00:00, 14.72it/s]\n"
     ]
    },
    {
     "name": "stdout",
     "output_type": "stream",
     "text": [
      "Epoch 3, Loss: 5.0186372590065\n",
      "[SYST] Epoch 3\n"
     ]
    },
    {
     "name": "stderr",
     "output_type": "stream",
     "text": [
      "100%|████████████████████████████████████████████████████████| 200/200 [00:13<00:00, 14.80it/s]\n"
     ]
    },
    {
     "name": "stdout",
     "output_type": "stream",
     "text": [
      "Epoch 4, Loss: 4.724090104103088\n",
      "[SYST] Epoch 4\n"
     ]
    },
    {
     "name": "stderr",
     "output_type": "stream",
     "text": [
      "100%|████████████████████████████████████████████████████████| 200/200 [00:13<00:00, 14.86it/s]\n"
     ]
    },
    {
     "name": "stdout",
     "output_type": "stream",
     "text": [
      "Epoch 5, Loss: 2.904320513010025\n",
      "[SYST] Epoch 5\n"
     ]
    },
    {
     "name": "stderr",
     "output_type": "stream",
     "text": [
      "100%|████████████████████████████████████████████████████████| 200/200 [00:13<00:00, 14.91it/s]\n"
     ]
    },
    {
     "name": "stdout",
     "output_type": "stream",
     "text": [
      "Epoch 6, Loss: 1.5899320167303086\n",
      "[SYST] Epoch 6\n"
     ]
    },
    {
     "name": "stderr",
     "output_type": "stream",
     "text": [
      "100%|████████████████████████████████████████████████████████| 200/200 [00:14<00:00, 13.80it/s]\n"
     ]
    },
    {
     "name": "stdout",
     "output_type": "stream",
     "text": [
      "Epoch 7, Loss: 1.580320034623146\n",
      "[SYST] Epoch 7\n"
     ]
    },
    {
     "name": "stderr",
     "output_type": "stream",
     "text": [
      "100%|████████████████████████████████████████████████████████| 200/200 [00:15<00:00, 13.27it/s]\n"
     ]
    },
    {
     "name": "stdout",
     "output_type": "stream",
     "text": [
      "Epoch 8, Loss: 1.5799446600675582\n",
      "[SYST] Epoch 8\n"
     ]
    },
    {
     "name": "stderr",
     "output_type": "stream",
     "text": [
      "100%|████████████████████████████████████████████████████████| 200/200 [00:15<00:00, 13.26it/s]\n"
     ]
    },
    {
     "name": "stdout",
     "output_type": "stream",
     "text": [
      "Epoch 9, Loss: 1.5800482934713365\n",
      "[SYST] Epoch 9\n"
     ]
    },
    {
     "name": "stderr",
     "output_type": "stream",
     "text": [
      "100%|████████████████████████████████████████████████████████| 200/200 [00:15<00:00, 13.25it/s]\n"
     ]
    },
    {
     "name": "stdout",
     "output_type": "stream",
     "text": [
      "Epoch 10, Loss: 1.5798997950553895\n",
      "[SYST] Epoch 0\n"
     ]
    },
    {
     "name": "stderr",
     "output_type": "stream",
     "text": [
      "100%|████████████████████████████████████████████████████████████| 2/2 [00:00<00:00, 14.38it/s]\n"
     ]
    },
    {
     "name": "stdout",
     "output_type": "stream",
     "text": [
      "Test Accuracy: 84.71%\n",
      "[{'accuracy': 0.9989, 'Layer1': {'[[0, 1, 2, 3, 4, 5, 6, 7], [8, 9, 10, 11, 12, 13, 14, 15]]': 0.960625, '[[0, 1], [2, 3]]': 0.8984375, '[[0], [1]]': 0.87734375}, 'Layer2': {'[[0, 1, 2, 3, 4, 5, 6, 7], [8, 9, 10, 11, 12, 13, 14, 15]]': 0.633046875, '[[0, 1], [2, 3]]': 0.767265625, '[[0], [1]]': 0.623515625}, 'Layer3': {'[[0, 1, 2, 3, 4, 5, 6, 7], [8, 9, 10, 11, 12, 13, 14, 15]]': 0.562578125, '[[0, 1], [2, 3]]': 0.631953125, '[[0], [1]]': 0.627265625}}, {'accuracy': 0.998, 'Layer1': {'[[0, 1, 2, 3, 4, 5, 6, 7], [8, 9, 10, 11, 12, 13, 14, 15]]': 0.885390625, '[[0, 1], [2, 3]]': 0.808515625, '[[0], [1]]': 0.806796875}, 'Layer2': {'[[0, 1, 2, 3, 4, 5, 6, 7], [8, 9, 10, 11, 12, 13, 14, 15]]': 0.558359375, '[[0, 1], [2, 3]]': 0.547109375, '[[0], [1]]': 0.475}, 'Layer3': {'[[0, 1, 2, 3, 4, 5, 6, 7], [8, 9, 10, 11, 12, 13, 14, 15]]': 0.61296875, '[[0, 1], [2, 3]]': 0.64421875, '[[0], [1]]': 0.6378125}}, {'accuracy': 0.9988, 'Layer1': {'[[0, 1, 2, 3, 4, 5, 6, 7], [8, 9, 10, 11, 12, 13, 14, 15]]': 0.945234375, '[[0, 1], [2, 3]]': 0.87828125, '[[0], [1]]': 0.847109375}}]\n",
      "Layer2 : [[0, 1, 2, 3, 4, 5, 6, 7], [8, 9, 10, 11, 12, 13, 14, 15]]\n",
      "restructuring\n"
     ]
    },
    {
     "name": "stderr",
     "output_type": "stream",
     "text": [
      "100%|█████████████████████████████████████████████| 1280000/1280000 [00:26<00:00, 47458.35it/s]\n"
     ]
    },
    {
     "name": "stdout",
     "output_type": "stream",
     "text": [
      "restructuring\n"
     ]
    },
    {
     "name": "stderr",
     "output_type": "stream",
     "text": [
      "100%|█████████████████████████████████████████████████| 12800/12800 [00:00<00:00, 34362.88it/s]\n"
     ]
    },
    {
     "name": "stdout",
     "output_type": "stream",
     "text": [
      "[SYST] Prepare Data\n"
     ]
    },
    {
     "name": "stderr",
     "output_type": "stream",
     "text": [
      "100%|█████████████████████████████████████████████| 1280000/1280000 [00:21<00:00, 60636.74it/s]\n"
     ]
    },
    {
     "name": "stdout",
     "output_type": "stream",
     "text": [
      "[SYST] Prepare Data\n"
     ]
    },
    {
     "name": "stderr",
     "output_type": "stream",
     "text": [
      "100%|█████████████████████████████████████████████████| 12800/12800 [00:00<00:00, 18678.17it/s]\n"
     ]
    },
    {
     "name": "stdout",
     "output_type": "stream",
     "text": [
      "[SYST] Epoch 0\n"
     ]
    },
    {
     "name": "stderr",
     "output_type": "stream",
     "text": [
      "100%|████████████████████████████████████████████████████████| 200/200 [00:14<00:00, 14.08it/s]\n"
     ]
    },
    {
     "name": "stdout",
     "output_type": "stream",
     "text": [
      "Epoch 1, Loss: 4.368807915449143\n",
      "[SYST] Epoch 1\n"
     ]
    },
    {
     "name": "stderr",
     "output_type": "stream",
     "text": [
      "100%|████████████████████████████████████████████████████████| 200/200 [00:14<00:00, 13.69it/s]\n"
     ]
    },
    {
     "name": "stdout",
     "output_type": "stream",
     "text": [
      "Epoch 2, Loss: 1.0464555716514587\n",
      "[SYST] Epoch 2\n"
     ]
    },
    {
     "name": "stderr",
     "output_type": "stream",
     "text": [
      "100%|████████████████████████████████████████████████████████| 200/200 [00:15<00:00, 13.29it/s]\n"
     ]
    },
    {
     "name": "stdout",
     "output_type": "stream",
     "text": [
      "Epoch 3, Loss: 0.6939534345269203\n",
      "[SYST] Epoch 3\n"
     ]
    },
    {
     "name": "stderr",
     "output_type": "stream",
     "text": [
      "100%|████████████████████████████████████████████████████████| 200/200 [00:14<00:00, 14.05it/s]\n"
     ]
    },
    {
     "name": "stdout",
     "output_type": "stream",
     "text": [
      "Epoch 4, Loss: 0.6008902233839035\n",
      "[SYST] Epoch 4\n"
     ]
    },
    {
     "name": "stderr",
     "output_type": "stream",
     "text": [
      "100%|████████████████████████████████████████████████████████| 200/200 [00:15<00:00, 13.14it/s]\n"
     ]
    },
    {
     "name": "stdout",
     "output_type": "stream",
     "text": [
      "Epoch 5, Loss: 0.5461492200195789\n",
      "[SYST] Epoch 5\n"
     ]
    },
    {
     "name": "stderr",
     "output_type": "stream",
     "text": [
      "100%|████████████████████████████████████████████████████████| 200/200 [00:15<00:00, 12.86it/s]\n"
     ]
    },
    {
     "name": "stdout",
     "output_type": "stream",
     "text": [
      "Epoch 6, Loss: 0.5146894948184491\n",
      "[SYST] Epoch 6\n"
     ]
    },
    {
     "name": "stderr",
     "output_type": "stream",
     "text": [
      "100%|████████████████████████████████████████████████████████| 200/200 [00:14<00:00, 13.65it/s]\n"
     ]
    },
    {
     "name": "stdout",
     "output_type": "stream",
     "text": [
      "Epoch 7, Loss: 0.4954104210436344\n",
      "[SYST] Epoch 7\n"
     ]
    },
    {
     "name": "stderr",
     "output_type": "stream",
     "text": [
      "100%|████████████████████████████████████████████████████████| 200/200 [00:13<00:00, 14.39it/s]\n"
     ]
    },
    {
     "name": "stdout",
     "output_type": "stream",
     "text": [
      "Epoch 8, Loss: 0.4844504114985466\n",
      "[SYST] Epoch 8\n"
     ]
    },
    {
     "name": "stderr",
     "output_type": "stream",
     "text": [
      "100%|████████████████████████████████████████████████████████| 200/200 [00:13<00:00, 14.41it/s]\n"
     ]
    },
    {
     "name": "stdout",
     "output_type": "stream",
     "text": [
      "Epoch 9, Loss: 0.4787171083688736\n",
      "[SYST] Epoch 9\n"
     ]
    },
    {
     "name": "stderr",
     "output_type": "stream",
     "text": [
      "100%|████████████████████████████████████████████████████████| 200/200 [00:13<00:00, 14.47it/s]\n"
     ]
    },
    {
     "name": "stdout",
     "output_type": "stream",
     "text": [
      "Epoch 10, Loss: 0.4755052907764912\n",
      "[SYST] Epoch 0\n"
     ]
    },
    {
     "name": "stderr",
     "output_type": "stream",
     "text": [
      "100%|████████████████████████████████████████████████████████████| 2/2 [00:00<00:00, 14.36it/s]\n"
     ]
    },
    {
     "name": "stdout",
     "output_type": "stream",
     "text": [
      "Test Accuracy: 91.12%\n",
      "[{'accuracy': 0.9989, 'Layer1': {'[[0, 1, 2, 3, 4, 5, 6, 7], [8, 9, 10, 11, 12, 13, 14, 15]]': 0.960625, '[[0, 1], [2, 3]]': 0.8984375, '[[0], [1]]': 0.87734375}, 'Layer2': {'[[0, 1, 2, 3, 4, 5, 6, 7], [8, 9, 10, 11, 12, 13, 14, 15]]': 0.633046875, '[[0, 1], [2, 3]]': 0.767265625, '[[0], [1]]': 0.623515625}, 'Layer3': {'[[0, 1, 2, 3, 4, 5, 6, 7], [8, 9, 10, 11, 12, 13, 14, 15]]': 0.562578125, '[[0, 1], [2, 3]]': 0.631953125, '[[0], [1]]': 0.627265625}}, {'accuracy': 0.998, 'Layer1': {'[[0, 1, 2, 3, 4, 5, 6, 7], [8, 9, 10, 11, 12, 13, 14, 15]]': 0.885390625, '[[0, 1], [2, 3]]': 0.808515625, '[[0], [1]]': 0.806796875}, 'Layer2': {'[[0, 1, 2, 3, 4, 5, 6, 7], [8, 9, 10, 11, 12, 13, 14, 15]]': 0.558359375, '[[0, 1], [2, 3]]': 0.547109375, '[[0], [1]]': 0.475}, 'Layer3': {'[[0, 1, 2, 3, 4, 5, 6, 7], [8, 9, 10, 11, 12, 13, 14, 15]]': 0.61296875, '[[0, 1], [2, 3]]': 0.64421875, '[[0], [1]]': 0.6378125}}, {'accuracy': 0.9988, 'Layer1': {'[[0, 1, 2, 3, 4, 5, 6, 7], [8, 9, 10, 11, 12, 13, 14, 15]]': 0.945234375, '[[0, 1], [2, 3]]': 0.87828125, '[[0], [1]]': 0.847109375}, 'Layer2': {'[[0, 1, 2, 3, 4, 5, 6, 7], [8, 9, 10, 11, 12, 13, 14, 15]]': 0.91125}}]\n",
      "Layer2 : [[0, 1], [2, 3]]\n",
      "restructuring\n"
     ]
    },
    {
     "name": "stderr",
     "output_type": "stream",
     "text": [
      "100%|█████████████████████████████████████████████| 1280000/1280000 [00:27<00:00, 47353.03it/s]\n"
     ]
    },
    {
     "name": "stdout",
     "output_type": "stream",
     "text": [
      "restructuring\n"
     ]
    },
    {
     "name": "stderr",
     "output_type": "stream",
     "text": [
      "100%|█████████████████████████████████████████████████| 12800/12800 [00:00<00:00, 34271.65it/s]\n"
     ]
    },
    {
     "name": "stdout",
     "output_type": "stream",
     "text": [
      "[SYST] Prepare Data\n"
     ]
    },
    {
     "name": "stderr",
     "output_type": "stream",
     "text": [
      "100%|█████████████████████████████████████████████| 1280000/1280000 [00:20<00:00, 63140.08it/s]\n"
     ]
    },
    {
     "name": "stdout",
     "output_type": "stream",
     "text": [
      "[SYST] Prepare Data\n"
     ]
    },
    {
     "name": "stderr",
     "output_type": "stream",
     "text": [
      "100%|█████████████████████████████████████████████████| 12800/12800 [00:00<00:00, 18756.33it/s]\n"
     ]
    },
    {
     "name": "stdout",
     "output_type": "stream",
     "text": [
      "[SYST] Epoch 0\n"
     ]
    },
    {
     "name": "stderr",
     "output_type": "stream",
     "text": [
      "100%|████████████████████████████████████████████████████████| 200/200 [00:13<00:00, 14.50it/s]\n"
     ]
    },
    {
     "name": "stdout",
     "output_type": "stream",
     "text": [
      "Epoch 1, Loss: 4.916311715841293\n",
      "[SYST] Epoch 1\n"
     ]
    },
    {
     "name": "stderr",
     "output_type": "stream",
     "text": [
      "100%|████████████████████████████████████████████████████████| 200/200 [00:13<00:00, 14.62it/s]\n"
     ]
    },
    {
     "name": "stdout",
     "output_type": "stream",
     "text": [
      "Epoch 2, Loss: 2.2485717159509657\n",
      "[SYST] Epoch 2\n"
     ]
    },
    {
     "name": "stderr",
     "output_type": "stream",
     "text": [
      "100%|████████████████████████████████████████████████████████| 200/200 [00:13<00:00, 14.79it/s]\n"
     ]
    },
    {
     "name": "stdout",
     "output_type": "stream",
     "text": [
      "Epoch 3, Loss: 0.9447394001483918\n",
      "[SYST] Epoch 3\n"
     ]
    },
    {
     "name": "stderr",
     "output_type": "stream",
     "text": [
      "100%|████████████████████████████████████████████████████████| 200/200 [00:13<00:00, 14.64it/s]\n"
     ]
    },
    {
     "name": "stdout",
     "output_type": "stream",
     "text": [
      "Epoch 4, Loss: 0.8696400952339173\n",
      "[SYST] Epoch 4\n"
     ]
    },
    {
     "name": "stderr",
     "output_type": "stream",
     "text": [
      "100%|████████████████████████████████████████████████████████| 200/200 [00:13<00:00, 14.42it/s]\n"
     ]
    },
    {
     "name": "stdout",
     "output_type": "stream",
     "text": [
      "Epoch 5, Loss: 0.8453558284044266\n",
      "[SYST] Epoch 5\n"
     ]
    },
    {
     "name": "stderr",
     "output_type": "stream",
     "text": [
      "100%|████████████████████████████████████████████████████████| 200/200 [00:13<00:00, 14.63it/s]\n"
     ]
    },
    {
     "name": "stdout",
     "output_type": "stream",
     "text": [
      "Epoch 6, Loss: 0.823153528869152\n",
      "[SYST] Epoch 6\n"
     ]
    },
    {
     "name": "stderr",
     "output_type": "stream",
     "text": [
      "100%|████████████████████████████████████████████████████████| 200/200 [00:13<00:00, 14.38it/s]\n"
     ]
    },
    {
     "name": "stdout",
     "output_type": "stream",
     "text": [
      "Epoch 7, Loss: 0.7955349919199943\n",
      "[SYST] Epoch 7\n"
     ]
    },
    {
     "name": "stderr",
     "output_type": "stream",
     "text": [
      "100%|████████████████████████████████████████████████████████| 200/200 [00:13<00:00, 14.41it/s]\n"
     ]
    },
    {
     "name": "stdout",
     "output_type": "stream",
     "text": [
      "Epoch 8, Loss: 0.7708982428908349\n",
      "[SYST] Epoch 8\n"
     ]
    },
    {
     "name": "stderr",
     "output_type": "stream",
     "text": [
      "100%|████████████████████████████████████████████████████████| 200/200 [00:13<00:00, 14.89it/s]\n"
     ]
    },
    {
     "name": "stdout",
     "output_type": "stream",
     "text": [
      "Epoch 9, Loss: 0.7405618166923523\n",
      "[SYST] Epoch 9\n"
     ]
    },
    {
     "name": "stderr",
     "output_type": "stream",
     "text": [
      "100%|████████████████████████████████████████████████████████| 200/200 [00:13<00:00, 14.46it/s]\n"
     ]
    },
    {
     "name": "stdout",
     "output_type": "stream",
     "text": [
      "Epoch 10, Loss: 0.7316312569379807\n",
      "[SYST] Epoch 0\n"
     ]
    },
    {
     "name": "stderr",
     "output_type": "stream",
     "text": [
      "100%|████████████████████████████████████████████████████████████| 2/2 [00:00<00:00, 16.13it/s]\n"
     ]
    },
    {
     "name": "stdout",
     "output_type": "stream",
     "text": [
      "Test Accuracy: 86.89%\n",
      "[{'accuracy': 0.9989, 'Layer1': {'[[0, 1, 2, 3, 4, 5, 6, 7], [8, 9, 10, 11, 12, 13, 14, 15]]': 0.960625, '[[0, 1], [2, 3]]': 0.8984375, '[[0], [1]]': 0.87734375}, 'Layer2': {'[[0, 1, 2, 3, 4, 5, 6, 7], [8, 9, 10, 11, 12, 13, 14, 15]]': 0.633046875, '[[0, 1], [2, 3]]': 0.767265625, '[[0], [1]]': 0.623515625}, 'Layer3': {'[[0, 1, 2, 3, 4, 5, 6, 7], [8, 9, 10, 11, 12, 13, 14, 15]]': 0.562578125, '[[0, 1], [2, 3]]': 0.631953125, '[[0], [1]]': 0.627265625}}, {'accuracy': 0.998, 'Layer1': {'[[0, 1, 2, 3, 4, 5, 6, 7], [8, 9, 10, 11, 12, 13, 14, 15]]': 0.885390625, '[[0, 1], [2, 3]]': 0.808515625, '[[0], [1]]': 0.806796875}, 'Layer2': {'[[0, 1, 2, 3, 4, 5, 6, 7], [8, 9, 10, 11, 12, 13, 14, 15]]': 0.558359375, '[[0, 1], [2, 3]]': 0.547109375, '[[0], [1]]': 0.475}, 'Layer3': {'[[0, 1, 2, 3, 4, 5, 6, 7], [8, 9, 10, 11, 12, 13, 14, 15]]': 0.61296875, '[[0, 1], [2, 3]]': 0.64421875, '[[0], [1]]': 0.6378125}}, {'accuracy': 0.9988, 'Layer1': {'[[0, 1, 2, 3, 4, 5, 6, 7], [8, 9, 10, 11, 12, 13, 14, 15]]': 0.945234375, '[[0, 1], [2, 3]]': 0.87828125, '[[0], [1]]': 0.847109375}, 'Layer2': {'[[0, 1, 2, 3, 4, 5, 6, 7], [8, 9, 10, 11, 12, 13, 14, 15]]': 0.91125, '[[0, 1], [2, 3]]': 0.86890625}}]\n",
      "Layer2 : [[0], [1]]\n",
      "restructuring\n"
     ]
    },
    {
     "name": "stderr",
     "output_type": "stream",
     "text": [
      "100%|█████████████████████████████████████████████| 1280000/1280000 [00:27<00:00, 47168.37it/s]\n"
     ]
    },
    {
     "name": "stdout",
     "output_type": "stream",
     "text": [
      "restructuring\n"
     ]
    },
    {
     "name": "stderr",
     "output_type": "stream",
     "text": [
      "100%|█████████████████████████████████████████████████| 12800/12800 [00:00<00:00, 34275.77it/s]\n"
     ]
    },
    {
     "name": "stdout",
     "output_type": "stream",
     "text": [
      "[SYST] Prepare Data\n"
     ]
    },
    {
     "name": "stderr",
     "output_type": "stream",
     "text": [
      "100%|█████████████████████████████████████████████| 1280000/1280000 [00:13<00:00, 96461.15it/s]\n"
     ]
    },
    {
     "name": "stdout",
     "output_type": "stream",
     "text": [
      "[SYST] Prepare Data\n"
     ]
    },
    {
     "name": "stderr",
     "output_type": "stream",
     "text": [
      "100%|█████████████████████████████████████████████████| 12800/12800 [00:00<00:00, 18653.13it/s]\n"
     ]
    },
    {
     "name": "stdout",
     "output_type": "stream",
     "text": [
      "[SYST] Epoch 0\n"
     ]
    },
    {
     "name": "stderr",
     "output_type": "stream",
     "text": [
      "100%|████████████████████████████████████████████████████████| 200/200 [00:14<00:00, 13.42it/s]\n"
     ]
    },
    {
     "name": "stdout",
     "output_type": "stream",
     "text": [
      "Epoch 1, Loss: 4.911273561716079\n",
      "[SYST] Epoch 1\n"
     ]
    },
    {
     "name": "stderr",
     "output_type": "stream",
     "text": [
      "100%|████████████████████████████████████████████████████████| 200/200 [00:15<00:00, 13.27it/s]\n"
     ]
    },
    {
     "name": "stdout",
     "output_type": "stream",
     "text": [
      "Epoch 2, Loss: 1.9809011560678482\n",
      "[SYST] Epoch 2\n"
     ]
    },
    {
     "name": "stderr",
     "output_type": "stream",
     "text": [
      "100%|████████████████████████████████████████████████████████| 200/200 [00:14<00:00, 14.12it/s]\n"
     ]
    },
    {
     "name": "stdout",
     "output_type": "stream",
     "text": [
      "Epoch 3, Loss: 1.5502307224273681\n",
      "[SYST] Epoch 3\n"
     ]
    },
    {
     "name": "stderr",
     "output_type": "stream",
     "text": [
      "100%|████████████████████████████████████████████████████████| 200/200 [00:14<00:00, 14.24it/s]\n"
     ]
    },
    {
     "name": "stdout",
     "output_type": "stream",
     "text": [
      "Epoch 4, Loss: 1.5158250081539153\n",
      "[SYST] Epoch 4\n"
     ]
    },
    {
     "name": "stderr",
     "output_type": "stream",
     "text": [
      "100%|████████████████████████████████████████████████████████| 200/200 [00:14<00:00, 13.97it/s]\n"
     ]
    },
    {
     "name": "stdout",
     "output_type": "stream",
     "text": [
      "Epoch 5, Loss: 1.5083298712968827\n",
      "[SYST] Epoch 5\n"
     ]
    },
    {
     "name": "stderr",
     "output_type": "stream",
     "text": [
      "100%|████████████████████████████████████████████████████████| 200/200 [00:13<00:00, 14.93it/s]\n"
     ]
    },
    {
     "name": "stdout",
     "output_type": "stream",
     "text": [
      "Epoch 6, Loss: 1.50615458548069\n",
      "[SYST] Epoch 6\n"
     ]
    },
    {
     "name": "stderr",
     "output_type": "stream",
     "text": [
      "100%|████████████████████████████████████████████████████████| 200/200 [00:13<00:00, 14.55it/s]\n"
     ]
    },
    {
     "name": "stdout",
     "output_type": "stream",
     "text": [
      "Epoch 7, Loss: 1.5058079469203949\n",
      "[SYST] Epoch 7\n"
     ]
    },
    {
     "name": "stderr",
     "output_type": "stream",
     "text": [
      "100%|████████████████████████████████████████████████████████| 200/200 [00:15<00:00, 13.19it/s]\n"
     ]
    },
    {
     "name": "stdout",
     "output_type": "stream",
     "text": [
      "Epoch 8, Loss: 1.505527482032776\n",
      "[SYST] Epoch 8\n"
     ]
    },
    {
     "name": "stderr",
     "output_type": "stream",
     "text": [
      "100%|████████████████████████████████████████████████████████| 200/200 [00:14<00:00, 13.42it/s]\n"
     ]
    },
    {
     "name": "stdout",
     "output_type": "stream",
     "text": [
      "Epoch 9, Loss: 1.5055988180637359\n",
      "[SYST] Epoch 9\n"
     ]
    },
    {
     "name": "stderr",
     "output_type": "stream",
     "text": [
      "100%|████████████████████████████████████████████████████████| 200/200 [00:15<00:00, 13.25it/s]\n"
     ]
    },
    {
     "name": "stdout",
     "output_type": "stream",
     "text": [
      "Epoch 10, Loss: 1.5055894458293915\n",
      "[SYST] Epoch 0\n"
     ]
    },
    {
     "name": "stderr",
     "output_type": "stream",
     "text": [
      "100%|████████████████████████████████████████████████████████████| 2/2 [00:00<00:00, 14.36it/s]\n"
     ]
    },
    {
     "name": "stdout",
     "output_type": "stream",
     "text": [
      "Test Accuracy: 82.40%\n",
      "[{'accuracy': 0.9989, 'Layer1': {'[[0, 1, 2, 3, 4, 5, 6, 7], [8, 9, 10, 11, 12, 13, 14, 15]]': 0.960625, '[[0, 1], [2, 3]]': 0.8984375, '[[0], [1]]': 0.87734375}, 'Layer2': {'[[0, 1, 2, 3, 4, 5, 6, 7], [8, 9, 10, 11, 12, 13, 14, 15]]': 0.633046875, '[[0, 1], [2, 3]]': 0.767265625, '[[0], [1]]': 0.623515625}, 'Layer3': {'[[0, 1, 2, 3, 4, 5, 6, 7], [8, 9, 10, 11, 12, 13, 14, 15]]': 0.562578125, '[[0, 1], [2, 3]]': 0.631953125, '[[0], [1]]': 0.627265625}}, {'accuracy': 0.998, 'Layer1': {'[[0, 1, 2, 3, 4, 5, 6, 7], [8, 9, 10, 11, 12, 13, 14, 15]]': 0.885390625, '[[0, 1], [2, 3]]': 0.808515625, '[[0], [1]]': 0.806796875}, 'Layer2': {'[[0, 1, 2, 3, 4, 5, 6, 7], [8, 9, 10, 11, 12, 13, 14, 15]]': 0.558359375, '[[0, 1], [2, 3]]': 0.547109375, '[[0], [1]]': 0.475}, 'Layer3': {'[[0, 1, 2, 3, 4, 5, 6, 7], [8, 9, 10, 11, 12, 13, 14, 15]]': 0.61296875, '[[0, 1], [2, 3]]': 0.64421875, '[[0], [1]]': 0.6378125}}, {'accuracy': 0.9988, 'Layer1': {'[[0, 1, 2, 3, 4, 5, 6, 7], [8, 9, 10, 11, 12, 13, 14, 15]]': 0.945234375, '[[0, 1], [2, 3]]': 0.87828125, '[[0], [1]]': 0.847109375}, 'Layer2': {'[[0, 1, 2, 3, 4, 5, 6, 7], [8, 9, 10, 11, 12, 13, 14, 15]]': 0.91125, '[[0, 1], [2, 3]]': 0.86890625, '[[0], [1]]': 0.823984375}}]\n",
      "Layer3 : [[0, 1, 2, 3, 4, 5, 6, 7], [8, 9, 10, 11, 12, 13, 14, 15]]\n",
      "restructuring\n"
     ]
    },
    {
     "name": "stderr",
     "output_type": "stream",
     "text": [
      "100%|█████████████████████████████████████████████| 1280000/1280000 [00:27<00:00, 45757.37it/s]\n"
     ]
    },
    {
     "name": "stdout",
     "output_type": "stream",
     "text": [
      "restructuring\n"
     ]
    },
    {
     "name": "stderr",
     "output_type": "stream",
     "text": [
      "100%|█████████████████████████████████████████████████| 12800/12800 [00:00<00:00, 34050.96it/s]\n"
     ]
    },
    {
     "name": "stdout",
     "output_type": "stream",
     "text": [
      "[SYST] Prepare Data\n"
     ]
    },
    {
     "name": "stderr",
     "output_type": "stream",
     "text": [
      "100%|█████████████████████████████████████████████| 1280000/1280000 [00:21<00:00, 60483.54it/s]\n"
     ]
    },
    {
     "name": "stdout",
     "output_type": "stream",
     "text": [
      "[SYST] Prepare Data\n"
     ]
    },
    {
     "name": "stderr",
     "output_type": "stream",
     "text": [
      "100%|█████████████████████████████████████████████████| 12800/12800 [00:00<00:00, 18877.53it/s]\n"
     ]
    },
    {
     "name": "stdout",
     "output_type": "stream",
     "text": [
      "[SYST] Epoch 0\n"
     ]
    },
    {
     "name": "stderr",
     "output_type": "stream",
     "text": [
      "100%|████████████████████████████████████████████████████████| 200/200 [00:14<00:00, 14.14it/s]\n"
     ]
    },
    {
     "name": "stdout",
     "output_type": "stream",
     "text": [
      "Epoch 1, Loss: 4.817665903568268\n",
      "[SYST] Epoch 1\n"
     ]
    },
    {
     "name": "stderr",
     "output_type": "stream",
     "text": [
      "100%|████████████████████████████████████████████████████████| 200/200 [00:13<00:00, 14.57it/s]\n"
     ]
    },
    {
     "name": "stdout",
     "output_type": "stream",
     "text": [
      "Epoch 2, Loss: 4.683509438037873\n",
      "[SYST] Epoch 2\n"
     ]
    },
    {
     "name": "stderr",
     "output_type": "stream",
     "text": [
      "100%|████████████████████████████████████████████████████████| 200/200 [00:13<00:00, 14.88it/s]\n"
     ]
    },
    {
     "name": "stdout",
     "output_type": "stream",
     "text": [
      "Epoch 3, Loss: 4.680020372867585\n",
      "[SYST] Epoch 3\n"
     ]
    },
    {
     "name": "stderr",
     "output_type": "stream",
     "text": [
      "100%|████████████████████████████████████████████████████████| 200/200 [00:13<00:00, 14.71it/s]\n"
     ]
    },
    {
     "name": "stdout",
     "output_type": "stream",
     "text": [
      "Epoch 4, Loss: 4.67814154624939\n",
      "[SYST] Epoch 4\n"
     ]
    },
    {
     "name": "stderr",
     "output_type": "stream",
     "text": [
      "100%|████████████████████████████████████████████████████████| 200/200 [00:13<00:00, 14.81it/s]\n"
     ]
    },
    {
     "name": "stdout",
     "output_type": "stream",
     "text": [
      "Epoch 5, Loss: 4.676562004089355\n",
      "[SYST] Epoch 5\n"
     ]
    },
    {
     "name": "stderr",
     "output_type": "stream",
     "text": [
      "100%|████████████████████████████████████████████████████████| 200/200 [00:13<00:00, 14.88it/s]\n"
     ]
    },
    {
     "name": "stdout",
     "output_type": "stream",
     "text": [
      "Epoch 6, Loss: 4.675973346233368\n",
      "[SYST] Epoch 6\n"
     ]
    },
    {
     "name": "stderr",
     "output_type": "stream",
     "text": [
      "100%|████████████████████████████████████████████████████████| 200/200 [00:13<00:00, 14.48it/s]\n"
     ]
    },
    {
     "name": "stdout",
     "output_type": "stream",
     "text": [
      "Epoch 7, Loss: 4.675526373386383\n",
      "[SYST] Epoch 7\n"
     ]
    },
    {
     "name": "stderr",
     "output_type": "stream",
     "text": [
      "100%|████████████████████████████████████████████████████████| 200/200 [00:13<00:00, 14.46it/s]\n"
     ]
    },
    {
     "name": "stdout",
     "output_type": "stream",
     "text": [
      "Epoch 8, Loss: 4.675179917812347\n",
      "[SYST] Epoch 8\n"
     ]
    },
    {
     "name": "stderr",
     "output_type": "stream",
     "text": [
      "100%|████████████████████████████████████████████████████████| 200/200 [00:13<00:00, 14.56it/s]\n"
     ]
    },
    {
     "name": "stdout",
     "output_type": "stream",
     "text": [
      "Epoch 9, Loss: 4.6747451019287105\n",
      "[SYST] Epoch 9\n"
     ]
    },
    {
     "name": "stderr",
     "output_type": "stream",
     "text": [
      "100%|████████████████████████████████████████████████████████| 200/200 [00:13<00:00, 14.59it/s]\n"
     ]
    },
    {
     "name": "stdout",
     "output_type": "stream",
     "text": [
      "Epoch 10, Loss: 4.674432365894318\n",
      "[SYST] Epoch 0\n"
     ]
    },
    {
     "name": "stderr",
     "output_type": "stream",
     "text": [
      "100%|████████████████████████████████████████████████████████████| 2/2 [00:00<00:00, 16.19it/s]\n"
     ]
    },
    {
     "name": "stdout",
     "output_type": "stream",
     "text": [
      "Test Accuracy: 60.47%\n",
      "[{'accuracy': 0.9989, 'Layer1': {'[[0, 1, 2, 3, 4, 5, 6, 7], [8, 9, 10, 11, 12, 13, 14, 15]]': 0.960625, '[[0, 1], [2, 3]]': 0.8984375, '[[0], [1]]': 0.87734375}, 'Layer2': {'[[0, 1, 2, 3, 4, 5, 6, 7], [8, 9, 10, 11, 12, 13, 14, 15]]': 0.633046875, '[[0, 1], [2, 3]]': 0.767265625, '[[0], [1]]': 0.623515625}, 'Layer3': {'[[0, 1, 2, 3, 4, 5, 6, 7], [8, 9, 10, 11, 12, 13, 14, 15]]': 0.562578125, '[[0, 1], [2, 3]]': 0.631953125, '[[0], [1]]': 0.627265625}}, {'accuracy': 0.998, 'Layer1': {'[[0, 1, 2, 3, 4, 5, 6, 7], [8, 9, 10, 11, 12, 13, 14, 15]]': 0.885390625, '[[0, 1], [2, 3]]': 0.808515625, '[[0], [1]]': 0.806796875}, 'Layer2': {'[[0, 1, 2, 3, 4, 5, 6, 7], [8, 9, 10, 11, 12, 13, 14, 15]]': 0.558359375, '[[0, 1], [2, 3]]': 0.547109375, '[[0], [1]]': 0.475}, 'Layer3': {'[[0, 1, 2, 3, 4, 5, 6, 7], [8, 9, 10, 11, 12, 13, 14, 15]]': 0.61296875, '[[0, 1], [2, 3]]': 0.64421875, '[[0], [1]]': 0.6378125}}, {'accuracy': 0.9988, 'Layer1': {'[[0, 1, 2, 3, 4, 5, 6, 7], [8, 9, 10, 11, 12, 13, 14, 15]]': 0.945234375, '[[0, 1], [2, 3]]': 0.87828125, '[[0], [1]]': 0.847109375}, 'Layer2': {'[[0, 1, 2, 3, 4, 5, 6, 7], [8, 9, 10, 11, 12, 13, 14, 15]]': 0.91125, '[[0, 1], [2, 3]]': 0.86890625, '[[0], [1]]': 0.823984375}, 'Layer3': {'[[0, 1, 2, 3, 4, 5, 6, 7], [8, 9, 10, 11, 12, 13, 14, 15]]': 0.6046875}}]\n",
      "Layer3 : [[0, 1], [2, 3]]\n",
      "restructuring\n"
     ]
    },
    {
     "name": "stderr",
     "output_type": "stream",
     "text": [
      "100%|█████████████████████████████████████████████| 1280000/1280000 [00:27<00:00, 45999.57it/s]\n"
     ]
    },
    {
     "name": "stdout",
     "output_type": "stream",
     "text": [
      "restructuring\n"
     ]
    },
    {
     "name": "stderr",
     "output_type": "stream",
     "text": [
      "100%|█████████████████████████████████████████████████| 12800/12800 [00:00<00:00, 33533.26it/s]\n"
     ]
    },
    {
     "name": "stdout",
     "output_type": "stream",
     "text": [
      "[SYST] Prepare Data\n"
     ]
    },
    {
     "name": "stderr",
     "output_type": "stream",
     "text": [
      "100%|█████████████████████████████████████████████| 1280000/1280000 [00:13<00:00, 94782.89it/s]\n"
     ]
    },
    {
     "name": "stdout",
     "output_type": "stream",
     "text": [
      "[SYST] Prepare Data\n"
     ]
    },
    {
     "name": "stderr",
     "output_type": "stream",
     "text": [
      "100%|█████████████████████████████████████████████████| 12800/12800 [00:00<00:00, 24508.44it/s]\n"
     ]
    },
    {
     "name": "stdout",
     "output_type": "stream",
     "text": [
      "[SYST] Epoch 0\n"
     ]
    },
    {
     "name": "stderr",
     "output_type": "stream",
     "text": [
      "100%|████████████████████████████████████████████████████████| 200/200 [00:14<00:00, 14.24it/s]\n"
     ]
    },
    {
     "name": "stdout",
     "output_type": "stream",
     "text": [
      "Epoch 1, Loss: 4.733534679412842\n",
      "[SYST] Epoch 1\n"
     ]
    },
    {
     "name": "stderr",
     "output_type": "stream",
     "text": [
      "100%|████████████████████████████████████████████████████████| 200/200 [00:13<00:00, 14.35it/s]\n"
     ]
    },
    {
     "name": "stdout",
     "output_type": "stream",
     "text": [
      "Epoch 2, Loss: 4.546719493865967\n",
      "[SYST] Epoch 2\n"
     ]
    },
    {
     "name": "stderr",
     "output_type": "stream",
     "text": [
      "100%|████████████████████████████████████████████████████████| 200/200 [00:13<00:00, 14.86it/s]\n"
     ]
    },
    {
     "name": "stdout",
     "output_type": "stream",
     "text": [
      "Epoch 3, Loss: 4.534369173049927\n",
      "[SYST] Epoch 3\n"
     ]
    },
    {
     "name": "stderr",
     "output_type": "stream",
     "text": [
      "100%|████████████████████████████████████████████████████████| 200/200 [00:13<00:00, 14.41it/s]\n"
     ]
    },
    {
     "name": "stdout",
     "output_type": "stream",
     "text": [
      "Epoch 4, Loss: 4.528017399311065\n",
      "[SYST] Epoch 4\n"
     ]
    },
    {
     "name": "stderr",
     "output_type": "stream",
     "text": [
      "100%|████████████████████████████████████████████████████████| 200/200 [00:14<00:00, 13.37it/s]\n"
     ]
    },
    {
     "name": "stdout",
     "output_type": "stream",
     "text": [
      "Epoch 5, Loss: 4.52465722322464\n",
      "[SYST] Epoch 5\n"
     ]
    },
    {
     "name": "stderr",
     "output_type": "stream",
     "text": [
      "100%|████████████████████████████████████████████████████████| 200/200 [00:14<00:00, 13.71it/s]\n"
     ]
    },
    {
     "name": "stdout",
     "output_type": "stream",
     "text": [
      "Epoch 6, Loss: 4.523067252635956\n",
      "[SYST] Epoch 6\n"
     ]
    },
    {
     "name": "stderr",
     "output_type": "stream",
     "text": [
      "100%|████████████████████████████████████████████████████████| 200/200 [00:15<00:00, 13.25it/s]\n"
     ]
    },
    {
     "name": "stdout",
     "output_type": "stream",
     "text": [
      "Epoch 7, Loss: 4.5218084025383\n",
      "[SYST] Epoch 7\n"
     ]
    },
    {
     "name": "stderr",
     "output_type": "stream",
     "text": [
      "100%|████████████████████████████████████████████████████████| 200/200 [00:13<00:00, 14.59it/s]\n"
     ]
    },
    {
     "name": "stdout",
     "output_type": "stream",
     "text": [
      "Epoch 8, Loss: 4.521456594467163\n",
      "[SYST] Epoch 8\n"
     ]
    },
    {
     "name": "stderr",
     "output_type": "stream",
     "text": [
      "100%|████████████████████████████████████████████████████████| 200/200 [00:13<00:00, 14.57it/s]\n"
     ]
    },
    {
     "name": "stdout",
     "output_type": "stream",
     "text": [
      "Epoch 9, Loss: 4.520649085044861\n",
      "[SYST] Epoch 9\n"
     ]
    },
    {
     "name": "stderr",
     "output_type": "stream",
     "text": [
      "100%|████████████████████████████████████████████████████████| 200/200 [00:13<00:00, 14.29it/s]\n"
     ]
    },
    {
     "name": "stdout",
     "output_type": "stream",
     "text": [
      "Epoch 10, Loss: 4.520461349487305\n",
      "[SYST] Epoch 0\n"
     ]
    },
    {
     "name": "stderr",
     "output_type": "stream",
     "text": [
      "100%|████████████████████████████████████████████████████████████| 2/2 [00:00<00:00, 16.18it/s]\n"
     ]
    },
    {
     "name": "stdout",
     "output_type": "stream",
     "text": [
      "Test Accuracy: 63.55%\n",
      "[{'accuracy': 0.9989, 'Layer1': {'[[0, 1, 2, 3, 4, 5, 6, 7], [8, 9, 10, 11, 12, 13, 14, 15]]': 0.960625, '[[0, 1], [2, 3]]': 0.8984375, '[[0], [1]]': 0.87734375}, 'Layer2': {'[[0, 1, 2, 3, 4, 5, 6, 7], [8, 9, 10, 11, 12, 13, 14, 15]]': 0.633046875, '[[0, 1], [2, 3]]': 0.767265625, '[[0], [1]]': 0.623515625}, 'Layer3': {'[[0, 1, 2, 3, 4, 5, 6, 7], [8, 9, 10, 11, 12, 13, 14, 15]]': 0.562578125, '[[0, 1], [2, 3]]': 0.631953125, '[[0], [1]]': 0.627265625}}, {'accuracy': 0.998, 'Layer1': {'[[0, 1, 2, 3, 4, 5, 6, 7], [8, 9, 10, 11, 12, 13, 14, 15]]': 0.885390625, '[[0, 1], [2, 3]]': 0.808515625, '[[0], [1]]': 0.806796875}, 'Layer2': {'[[0, 1, 2, 3, 4, 5, 6, 7], [8, 9, 10, 11, 12, 13, 14, 15]]': 0.558359375, '[[0, 1], [2, 3]]': 0.547109375, '[[0], [1]]': 0.475}, 'Layer3': {'[[0, 1, 2, 3, 4, 5, 6, 7], [8, 9, 10, 11, 12, 13, 14, 15]]': 0.61296875, '[[0, 1], [2, 3]]': 0.64421875, '[[0], [1]]': 0.6378125}}, {'accuracy': 0.9988, 'Layer1': {'[[0, 1, 2, 3, 4, 5, 6, 7], [8, 9, 10, 11, 12, 13, 14, 15]]': 0.945234375, '[[0, 1], [2, 3]]': 0.87828125, '[[0], [1]]': 0.847109375}, 'Layer2': {'[[0, 1, 2, 3, 4, 5, 6, 7], [8, 9, 10, 11, 12, 13, 14, 15]]': 0.91125, '[[0, 1], [2, 3]]': 0.86890625, '[[0], [1]]': 0.823984375}, 'Layer3': {'[[0, 1, 2, 3, 4, 5, 6, 7], [8, 9, 10, 11, 12, 13, 14, 15]]': 0.6046875, '[[0, 1], [2, 3]]': 0.63546875}}]\n",
      "Layer3 : [[0], [1]]\n",
      "restructuring\n"
     ]
    },
    {
     "name": "stderr",
     "output_type": "stream",
     "text": [
      "100%|█████████████████████████████████████████████| 1280000/1280000 [00:26<00:00, 47512.60it/s]\n"
     ]
    },
    {
     "name": "stdout",
     "output_type": "stream",
     "text": [
      "restructuring\n"
     ]
    },
    {
     "name": "stderr",
     "output_type": "stream",
     "text": [
      "100%|█████████████████████████████████████████████████| 12800/12800 [00:00<00:00, 33891.08it/s]\n"
     ]
    },
    {
     "name": "stdout",
     "output_type": "stream",
     "text": [
      "[SYST] Prepare Data\n"
     ]
    },
    {
     "name": "stderr",
     "output_type": "stream",
     "text": [
      "100%|█████████████████████████████████████████████| 1280000/1280000 [00:19<00:00, 65682.21it/s]\n"
     ]
    },
    {
     "name": "stdout",
     "output_type": "stream",
     "text": [
      "[SYST] Prepare Data\n"
     ]
    },
    {
     "name": "stderr",
     "output_type": "stream",
     "text": [
      "100%|█████████████████████████████████████████████████| 12800/12800 [00:00<00:00, 19064.42it/s]\n"
     ]
    },
    {
     "name": "stdout",
     "output_type": "stream",
     "text": [
      "[SYST] Epoch 0\n"
     ]
    },
    {
     "name": "stderr",
     "output_type": "stream",
     "text": [
      "100%|████████████████████████████████████████████████████████| 200/200 [00:15<00:00, 13.20it/s]\n"
     ]
    },
    {
     "name": "stdout",
     "output_type": "stream",
     "text": [
      "Epoch 1, Loss: 5.089748113155365\n",
      "[SYST] Epoch 1\n"
     ]
    },
    {
     "name": "stderr",
     "output_type": "stream",
     "text": [
      "100%|████████████████████████████████████████████████████████| 200/200 [00:14<00:00, 14.19it/s]\n"
     ]
    },
    {
     "name": "stdout",
     "output_type": "stream",
     "text": [
      "Epoch 2, Loss: 4.550630655288696\n",
      "[SYST] Epoch 2\n"
     ]
    },
    {
     "name": "stderr",
     "output_type": "stream",
     "text": [
      "100%|████████████████████████████████████████████████████████| 200/200 [00:13<00:00, 14.86it/s]\n"
     ]
    },
    {
     "name": "stdout",
     "output_type": "stream",
     "text": [
      "Epoch 3, Loss: 4.533924593925476\n",
      "[SYST] Epoch 3\n"
     ]
    },
    {
     "name": "stderr",
     "output_type": "stream",
     "text": [
      "100%|████████████████████████████████████████████████████████| 200/200 [00:13<00:00, 14.47it/s]\n"
     ]
    },
    {
     "name": "stdout",
     "output_type": "stream",
     "text": [
      "Epoch 4, Loss: 4.528602218627929\n",
      "[SYST] Epoch 4\n"
     ]
    },
    {
     "name": "stderr",
     "output_type": "stream",
     "text": [
      "100%|████████████████████████████████████████████████████████| 200/200 [00:13<00:00, 14.46it/s]\n"
     ]
    },
    {
     "name": "stdout",
     "output_type": "stream",
     "text": [
      "Epoch 5, Loss: 4.525769910812378\n",
      "[SYST] Epoch 5\n"
     ]
    },
    {
     "name": "stderr",
     "output_type": "stream",
     "text": [
      "100%|████████████████████████████████████████████████████████| 200/200 [00:14<00:00, 13.65it/s]\n"
     ]
    },
    {
     "name": "stdout",
     "output_type": "stream",
     "text": [
      "Epoch 6, Loss: 4.524241259098053\n",
      "[SYST] Epoch 6\n"
     ]
    },
    {
     "name": "stderr",
     "output_type": "stream",
     "text": [
      "100%|████████████████████████████████████████████████████████| 200/200 [00:13<00:00, 14.34it/s]\n"
     ]
    },
    {
     "name": "stdout",
     "output_type": "stream",
     "text": [
      "Epoch 7, Loss: 4.523014531135559\n",
      "[SYST] Epoch 7\n"
     ]
    },
    {
     "name": "stderr",
     "output_type": "stream",
     "text": [
      "100%|████████████████████████████████████████████████████████| 200/200 [00:13<00:00, 14.91it/s]\n"
     ]
    },
    {
     "name": "stdout",
     "output_type": "stream",
     "text": [
      "Epoch 8, Loss: 4.52241516828537\n",
      "[SYST] Epoch 8\n"
     ]
    },
    {
     "name": "stderr",
     "output_type": "stream",
     "text": [
      "100%|████████████████████████████████████████████████████████| 200/200 [00:13<00:00, 14.35it/s]\n"
     ]
    },
    {
     "name": "stdout",
     "output_type": "stream",
     "text": [
      "Epoch 9, Loss: 4.521975824832916\n",
      "[SYST] Epoch 9\n"
     ]
    },
    {
     "name": "stderr",
     "output_type": "stream",
     "text": [
      "100%|████████████████████████████████████████████████████████| 200/200 [00:13<00:00, 14.68it/s]\n"
     ]
    },
    {
     "name": "stdout",
     "output_type": "stream",
     "text": [
      "Epoch 10, Loss: 4.521552686691284\n",
      "[SYST] Epoch 0\n"
     ]
    },
    {
     "name": "stderr",
     "output_type": "stream",
     "text": [
      "100%|████████████████████████████████████████████████████████████| 2/2 [00:00<00:00, 16.31it/s]\n"
     ]
    },
    {
     "name": "stdout",
     "output_type": "stream",
     "text": [
      "Test Accuracy: 62.54%\n",
      "[{'accuracy': 0.9989, 'Layer1': {'[[0, 1, 2, 3, 4, 5, 6, 7], [8, 9, 10, 11, 12, 13, 14, 15]]': 0.960625, '[[0, 1], [2, 3]]': 0.8984375, '[[0], [1]]': 0.87734375}, 'Layer2': {'[[0, 1, 2, 3, 4, 5, 6, 7], [8, 9, 10, 11, 12, 13, 14, 15]]': 0.633046875, '[[0, 1], [2, 3]]': 0.767265625, '[[0], [1]]': 0.623515625}, 'Layer3': {'[[0, 1, 2, 3, 4, 5, 6, 7], [8, 9, 10, 11, 12, 13, 14, 15]]': 0.562578125, '[[0, 1], [2, 3]]': 0.631953125, '[[0], [1]]': 0.627265625}}, {'accuracy': 0.998, 'Layer1': {'[[0, 1, 2, 3, 4, 5, 6, 7], [8, 9, 10, 11, 12, 13, 14, 15]]': 0.885390625, '[[0, 1], [2, 3]]': 0.808515625, '[[0], [1]]': 0.806796875}, 'Layer2': {'[[0, 1, 2, 3, 4, 5, 6, 7], [8, 9, 10, 11, 12, 13, 14, 15]]': 0.558359375, '[[0, 1], [2, 3]]': 0.547109375, '[[0], [1]]': 0.475}, 'Layer3': {'[[0, 1, 2, 3, 4, 5, 6, 7], [8, 9, 10, 11, 12, 13, 14, 15]]': 0.61296875, '[[0, 1], [2, 3]]': 0.64421875, '[[0], [1]]': 0.6378125}}, {'accuracy': 0.9988, 'Layer1': {'[[0, 1, 2, 3, 4, 5, 6, 7], [8, 9, 10, 11, 12, 13, 14, 15]]': 0.945234375, '[[0, 1], [2, 3]]': 0.87828125, '[[0], [1]]': 0.847109375}, 'Layer2': {'[[0, 1, 2, 3, 4, 5, 6, 7], [8, 9, 10, 11, 12, 13, 14, 15]]': 0.91125, '[[0, 1], [2, 3]]': 0.86890625, '[[0], [1]]': 0.823984375}, 'Layer3': {'[[0, 1, 2, 3, 4, 5, 6, 7], [8, 9, 10, 11, 12, 13, 14, 15]]': 0.6046875, '[[0, 1], [2, 3]]': 0.63546875, '[[0], [1]]': 0.625390625}}]\n"
     ]
    },
    {
     "name": "stderr",
     "output_type": "stream",
     "text": [
      "100%|█████████████████████████████████████████████████████| 1024/1024 [00:07<00:00, 136.26it/s]\n"
     ]
    },
    {
     "name": "stdout",
     "output_type": "stream",
     "text": [
      "Epoch 1, Loss: 0.37394602018684964\n"
     ]
    },
    {
     "name": "stderr",
     "output_type": "stream",
     "text": [
      "100%|█████████████████████████████████████████████████████| 1024/1024 [00:08<00:00, 127.82it/s]\n"
     ]
    },
    {
     "name": "stdout",
     "output_type": "stream",
     "text": [
      "Epoch 2, Loss: 0.024782897817658522\n"
     ]
    },
    {
     "name": "stderr",
     "output_type": "stream",
     "text": [
      "100%|█████████████████████████████████████████████████████| 1024/1024 [00:08<00:00, 125.57it/s]\n"
     ]
    },
    {
     "name": "stdout",
     "output_type": "stream",
     "text": [
      "Epoch 3, Loss: 0.006823100639508084\n"
     ]
    },
    {
     "name": "stderr",
     "output_type": "stream",
     "text": [
      "100%|█████████████████████████████████████████████████████████| 10/10 [00:00<00:00, 176.59it/s]\n"
     ]
    },
    {
     "name": "stdout",
     "output_type": "stream",
     "text": [
      "Test Accuracy: 0.9989\n",
      "Layer1 : [[0, 1, 2, 3, 4, 5, 6, 7], [8, 9, 10, 11, 12, 13, 14, 15]]\n",
      "restructuring\n"
     ]
    },
    {
     "name": "stderr",
     "output_type": "stream",
     "text": [
      "100%|█████████████████████████████████████████████| 1280000/1280000 [00:26<00:00, 47525.03it/s]\n"
     ]
    },
    {
     "name": "stdout",
     "output_type": "stream",
     "text": [
      "restructuring\n"
     ]
    },
    {
     "name": "stderr",
     "output_type": "stream",
     "text": [
      "100%|█████████████████████████████████████████████████| 12800/12800 [00:00<00:00, 33716.59it/s]\n"
     ]
    },
    {
     "name": "stdout",
     "output_type": "stream",
     "text": [
      "[SYST] Prepare Data\n"
     ]
    },
    {
     "name": "stderr",
     "output_type": "stream",
     "text": [
      "100%|█████████████████████████████████████████████| 1280000/1280000 [00:14<00:00, 89920.11it/s]\n"
     ]
    },
    {
     "name": "stdout",
     "output_type": "stream",
     "text": [
      "[SYST] Prepare Data\n"
     ]
    },
    {
     "name": "stderr",
     "output_type": "stream",
     "text": [
      "100%|█████████████████████████████████████████████████| 12800/12800 [00:00<00:00, 18285.95it/s]\n"
     ]
    },
    {
     "name": "stdout",
     "output_type": "stream",
     "text": [
      "[SYST] Epoch 0\n"
     ]
    },
    {
     "name": "stderr",
     "output_type": "stream",
     "text": [
      "100%|████████████████████████████████████████████████████████| 200/200 [00:13<00:00, 14.57it/s]\n"
     ]
    },
    {
     "name": "stdout",
     "output_type": "stream",
     "text": [
      "Epoch 1, Loss: 6.6115845668315885\n",
      "[SYST] Epoch 1\n"
     ]
    },
    {
     "name": "stderr",
     "output_type": "stream",
     "text": [
      "100%|████████████████████████████████████████████████████████| 200/200 [00:14<00:00, 14.04it/s]\n"
     ]
    },
    {
     "name": "stdout",
     "output_type": "stream",
     "text": [
      "Epoch 2, Loss: 2.3790087413787844\n",
      "[SYST] Epoch 2\n"
     ]
    },
    {
     "name": "stderr",
     "output_type": "stream",
     "text": [
      "100%|████████████████████████████████████████████████████████| 200/200 [00:14<00:00, 13.72it/s]\n"
     ]
    },
    {
     "name": "stdout",
     "output_type": "stream",
     "text": [
      "Epoch 3, Loss: 1.086277961730957\n",
      "[SYST] Epoch 3\n"
     ]
    },
    {
     "name": "stderr",
     "output_type": "stream",
     "text": [
      "100%|████████████████████████████████████████████████████████| 200/200 [00:15<00:00, 13.25it/s]\n"
     ]
    },
    {
     "name": "stdout",
     "output_type": "stream",
     "text": [
      "Epoch 4, Loss: 0.8507262772321701\n",
      "[SYST] Epoch 4\n"
     ]
    },
    {
     "name": "stderr",
     "output_type": "stream",
     "text": [
      "100%|████████████████████████████████████████████████████████| 200/200 [00:13<00:00, 14.75it/s]\n"
     ]
    },
    {
     "name": "stdout",
     "output_type": "stream",
     "text": [
      "Epoch 5, Loss: 0.7794978266954422\n",
      "[SYST] Epoch 5\n"
     ]
    },
    {
     "name": "stderr",
     "output_type": "stream",
     "text": [
      "100%|████████████████████████████████████████████████████████| 200/200 [00:13<00:00, 14.74it/s]\n"
     ]
    },
    {
     "name": "stdout",
     "output_type": "stream",
     "text": [
      "Epoch 6, Loss: 0.7361741521954537\n",
      "[SYST] Epoch 6\n"
     ]
    },
    {
     "name": "stderr",
     "output_type": "stream",
     "text": [
      "100%|████████████████████████████████████████████████████████| 200/200 [00:14<00:00, 14.07it/s]\n"
     ]
    },
    {
     "name": "stdout",
     "output_type": "stream",
     "text": [
      "Epoch 7, Loss: 0.7012571924924851\n",
      "[SYST] Epoch 7\n"
     ]
    },
    {
     "name": "stderr",
     "output_type": "stream",
     "text": [
      "100%|████████████████████████████████████████████████████████| 200/200 [00:14<00:00, 14.20it/s]\n"
     ]
    },
    {
     "name": "stdout",
     "output_type": "stream",
     "text": [
      "Epoch 8, Loss: 0.6738351312279701\n",
      "[SYST] Epoch 8\n"
     ]
    },
    {
     "name": "stderr",
     "output_type": "stream",
     "text": [
      "100%|████████████████████████████████████████████████████████| 200/200 [00:13<00:00, 14.58it/s]\n"
     ]
    },
    {
     "name": "stdout",
     "output_type": "stream",
     "text": [
      "Epoch 9, Loss: 0.6528042110800744\n",
      "[SYST] Epoch 9\n"
     ]
    },
    {
     "name": "stderr",
     "output_type": "stream",
     "text": [
      "100%|████████████████████████████████████████████████████████| 200/200 [00:14<00:00, 14.02it/s]\n"
     ]
    },
    {
     "name": "stdout",
     "output_type": "stream",
     "text": [
      "Epoch 10, Loss: 0.6320796176791191\n",
      "[SYST] Epoch 0\n"
     ]
    },
    {
     "name": "stderr",
     "output_type": "stream",
     "text": [
      "100%|████████████████████████████████████████████████████████████| 2/2 [00:00<00:00, 16.20it/s]\n"
     ]
    },
    {
     "name": "stdout",
     "output_type": "stream",
     "text": [
      "Test Accuracy: 89.27%\n",
      "[{'accuracy': 0.9989, 'Layer1': {'[[0, 1, 2, 3, 4, 5, 6, 7], [8, 9, 10, 11, 12, 13, 14, 15]]': 0.960625, '[[0, 1], [2, 3]]': 0.8984375, '[[0], [1]]': 0.87734375}, 'Layer2': {'[[0, 1, 2, 3, 4, 5, 6, 7], [8, 9, 10, 11, 12, 13, 14, 15]]': 0.633046875, '[[0, 1], [2, 3]]': 0.767265625, '[[0], [1]]': 0.623515625}, 'Layer3': {'[[0, 1, 2, 3, 4, 5, 6, 7], [8, 9, 10, 11, 12, 13, 14, 15]]': 0.562578125, '[[0, 1], [2, 3]]': 0.631953125, '[[0], [1]]': 0.627265625}}, {'accuracy': 0.998, 'Layer1': {'[[0, 1, 2, 3, 4, 5, 6, 7], [8, 9, 10, 11, 12, 13, 14, 15]]': 0.885390625, '[[0, 1], [2, 3]]': 0.808515625, '[[0], [1]]': 0.806796875}, 'Layer2': {'[[0, 1, 2, 3, 4, 5, 6, 7], [8, 9, 10, 11, 12, 13, 14, 15]]': 0.558359375, '[[0, 1], [2, 3]]': 0.547109375, '[[0], [1]]': 0.475}, 'Layer3': {'[[0, 1, 2, 3, 4, 5, 6, 7], [8, 9, 10, 11, 12, 13, 14, 15]]': 0.61296875, '[[0, 1], [2, 3]]': 0.64421875, '[[0], [1]]': 0.6378125}}, {'accuracy': 0.9988, 'Layer1': {'[[0, 1, 2, 3, 4, 5, 6, 7], [8, 9, 10, 11, 12, 13, 14, 15]]': 0.945234375, '[[0, 1], [2, 3]]': 0.87828125, '[[0], [1]]': 0.847109375}, 'Layer2': {'[[0, 1, 2, 3, 4, 5, 6, 7], [8, 9, 10, 11, 12, 13, 14, 15]]': 0.91125, '[[0, 1], [2, 3]]': 0.86890625, '[[0], [1]]': 0.823984375}, 'Layer3': {'[[0, 1, 2, 3, 4, 5, 6, 7], [8, 9, 10, 11, 12, 13, 14, 15]]': 0.6046875, '[[0, 1], [2, 3]]': 0.63546875, '[[0], [1]]': 0.625390625}}, {'accuracy': 0.9989, 'Layer1': {'[[0, 1, 2, 3, 4, 5, 6, 7], [8, 9, 10, 11, 12, 13, 14, 15]]': 0.892734375}}]\n",
      "Layer1 : [[0, 1], [2, 3]]\n",
      "restructuring\n"
     ]
    },
    {
     "name": "stderr",
     "output_type": "stream",
     "text": [
      "100%|█████████████████████████████████████████████| 1280000/1280000 [00:26<00:00, 47484.96it/s]\n"
     ]
    },
    {
     "name": "stdout",
     "output_type": "stream",
     "text": [
      "restructuring\n"
     ]
    },
    {
     "name": "stderr",
     "output_type": "stream",
     "text": [
      "100%|█████████████████████████████████████████████████| 12800/12800 [00:00<00:00, 34197.71it/s]\n"
     ]
    },
    {
     "name": "stdout",
     "output_type": "stream",
     "text": [
      "[SYST] Prepare Data\n"
     ]
    },
    {
     "name": "stderr",
     "output_type": "stream",
     "text": [
      "100%|█████████████████████████████████████████████| 1280000/1280000 [00:20<00:00, 63539.42it/s]\n"
     ]
    },
    {
     "name": "stdout",
     "output_type": "stream",
     "text": [
      "[SYST] Prepare Data\n"
     ]
    },
    {
     "name": "stderr",
     "output_type": "stream",
     "text": [
      "100%|█████████████████████████████████████████████████| 12800/12800 [00:00<00:00, 18940.20it/s]\n"
     ]
    },
    {
     "name": "stdout",
     "output_type": "stream",
     "text": [
      "[SYST] Epoch 0\n"
     ]
    },
    {
     "name": "stderr",
     "output_type": "stream",
     "text": [
      "100%|████████████████████████████████████████████████████████| 200/200 [00:14<00:00, 14.19it/s]\n"
     ]
    },
    {
     "name": "stdout",
     "output_type": "stream",
     "text": [
      "Epoch 1, Loss: 5.399296894073486\n",
      "[SYST] Epoch 1\n"
     ]
    },
    {
     "name": "stderr",
     "output_type": "stream",
     "text": [
      "100%|████████████████████████████████████████████████████████| 200/200 [00:13<00:00, 14.74it/s]\n"
     ]
    },
    {
     "name": "stdout",
     "output_type": "stream",
     "text": [
      "Epoch 2, Loss: 2.9145998573303222\n",
      "[SYST] Epoch 2\n"
     ]
    },
    {
     "name": "stderr",
     "output_type": "stream",
     "text": [
      "100%|████████████████████████████████████████████████████████| 200/200 [00:13<00:00, 14.78it/s]\n"
     ]
    },
    {
     "name": "stdout",
     "output_type": "stream",
     "text": [
      "Epoch 3, Loss: 2.1235012185573576\n",
      "[SYST] Epoch 3\n"
     ]
    },
    {
     "name": "stderr",
     "output_type": "stream",
     "text": [
      "100%|████████████████████████████████████████████████████████| 200/200 [00:13<00:00, 14.31it/s]\n"
     ]
    },
    {
     "name": "stdout",
     "output_type": "stream",
     "text": [
      "Epoch 4, Loss: 1.8690727353096008\n",
      "[SYST] Epoch 4\n"
     ]
    },
    {
     "name": "stderr",
     "output_type": "stream",
     "text": [
      "100%|████████████████████████████████████████████████████████| 200/200 [00:13<00:00, 14.64it/s]\n"
     ]
    },
    {
     "name": "stdout",
     "output_type": "stream",
     "text": [
      "Epoch 5, Loss: 1.6704526090621947\n",
      "[SYST] Epoch 5\n"
     ]
    },
    {
     "name": "stderr",
     "output_type": "stream",
     "text": [
      "100%|████████████████████████████████████████████████████████| 200/200 [00:14<00:00, 13.48it/s]\n"
     ]
    },
    {
     "name": "stdout",
     "output_type": "stream",
     "text": [
      "Epoch 6, Loss: 1.6116276878118514\n",
      "[SYST] Epoch 6\n"
     ]
    },
    {
     "name": "stderr",
     "output_type": "stream",
     "text": [
      "100%|████████████████████████████████████████████████████████| 200/200 [00:15<00:00, 13.21it/s]\n"
     ]
    },
    {
     "name": "stdout",
     "output_type": "stream",
     "text": [
      "Epoch 7, Loss: 1.5976207327842713\n",
      "[SYST] Epoch 7\n"
     ]
    },
    {
     "name": "stderr",
     "output_type": "stream",
     "text": [
      "100%|████████████████████████████████████████████████████████| 200/200 [00:13<00:00, 14.29it/s]\n"
     ]
    },
    {
     "name": "stdout",
     "output_type": "stream",
     "text": [
      "Epoch 8, Loss: 1.5917951142787934\n",
      "[SYST] Epoch 8\n"
     ]
    },
    {
     "name": "stderr",
     "output_type": "stream",
     "text": [
      "100%|████████████████████████████████████████████████████████| 200/200 [00:14<00:00, 13.87it/s]\n"
     ]
    },
    {
     "name": "stdout",
     "output_type": "stream",
     "text": [
      "Epoch 9, Loss: 1.5886713236570358\n",
      "[SYST] Epoch 9\n"
     ]
    },
    {
     "name": "stderr",
     "output_type": "stream",
     "text": [
      "100%|████████████████████████████████████████████████████████| 200/200 [00:13<00:00, 14.47it/s]\n"
     ]
    },
    {
     "name": "stdout",
     "output_type": "stream",
     "text": [
      "Epoch 10, Loss: 1.5867445015907287\n",
      "[SYST] Epoch 0\n"
     ]
    },
    {
     "name": "stderr",
     "output_type": "stream",
     "text": [
      "100%|████████████████████████████████████████████████████████████| 2/2 [00:00<00:00, 16.30it/s]\n"
     ]
    },
    {
     "name": "stdout",
     "output_type": "stream",
     "text": [
      "Test Accuracy: 85.78%\n",
      "[{'accuracy': 0.9989, 'Layer1': {'[[0, 1, 2, 3, 4, 5, 6, 7], [8, 9, 10, 11, 12, 13, 14, 15]]': 0.960625, '[[0, 1], [2, 3]]': 0.8984375, '[[0], [1]]': 0.87734375}, 'Layer2': {'[[0, 1, 2, 3, 4, 5, 6, 7], [8, 9, 10, 11, 12, 13, 14, 15]]': 0.633046875, '[[0, 1], [2, 3]]': 0.767265625, '[[0], [1]]': 0.623515625}, 'Layer3': {'[[0, 1, 2, 3, 4, 5, 6, 7], [8, 9, 10, 11, 12, 13, 14, 15]]': 0.562578125, '[[0, 1], [2, 3]]': 0.631953125, '[[0], [1]]': 0.627265625}}, {'accuracy': 0.998, 'Layer1': {'[[0, 1, 2, 3, 4, 5, 6, 7], [8, 9, 10, 11, 12, 13, 14, 15]]': 0.885390625, '[[0, 1], [2, 3]]': 0.808515625, '[[0], [1]]': 0.806796875}, 'Layer2': {'[[0, 1, 2, 3, 4, 5, 6, 7], [8, 9, 10, 11, 12, 13, 14, 15]]': 0.558359375, '[[0, 1], [2, 3]]': 0.547109375, '[[0], [1]]': 0.475}, 'Layer3': {'[[0, 1, 2, 3, 4, 5, 6, 7], [8, 9, 10, 11, 12, 13, 14, 15]]': 0.61296875, '[[0, 1], [2, 3]]': 0.64421875, '[[0], [1]]': 0.6378125}}, {'accuracy': 0.9988, 'Layer1': {'[[0, 1, 2, 3, 4, 5, 6, 7], [8, 9, 10, 11, 12, 13, 14, 15]]': 0.945234375, '[[0, 1], [2, 3]]': 0.87828125, '[[0], [1]]': 0.847109375}, 'Layer2': {'[[0, 1, 2, 3, 4, 5, 6, 7], [8, 9, 10, 11, 12, 13, 14, 15]]': 0.91125, '[[0, 1], [2, 3]]': 0.86890625, '[[0], [1]]': 0.823984375}, 'Layer3': {'[[0, 1, 2, 3, 4, 5, 6, 7], [8, 9, 10, 11, 12, 13, 14, 15]]': 0.6046875, '[[0, 1], [2, 3]]': 0.63546875, '[[0], [1]]': 0.625390625}}, {'accuracy': 0.9989, 'Layer1': {'[[0, 1, 2, 3, 4, 5, 6, 7], [8, 9, 10, 11, 12, 13, 14, 15]]': 0.892734375, '[[0, 1], [2, 3]]': 0.8578125}}]\n",
      "Layer1 : [[0], [1]]\n",
      "restructuring\n"
     ]
    },
    {
     "name": "stderr",
     "output_type": "stream",
     "text": [
      "100%|█████████████████████████████████████████████| 1280000/1280000 [00:26<00:00, 47828.87it/s]\n"
     ]
    },
    {
     "name": "stdout",
     "output_type": "stream",
     "text": [
      "restructuring\n"
     ]
    },
    {
     "name": "stderr",
     "output_type": "stream",
     "text": [
      "100%|█████████████████████████████████████████████████| 12800/12800 [00:00<00:00, 34197.65it/s]\n"
     ]
    },
    {
     "name": "stdout",
     "output_type": "stream",
     "text": [
      "[SYST] Prepare Data\n"
     ]
    },
    {
     "name": "stderr",
     "output_type": "stream",
     "text": [
      "100%|█████████████████████████████████████████████| 1280000/1280000 [00:25<00:00, 49856.24it/s]\n"
     ]
    },
    {
     "name": "stdout",
     "output_type": "stream",
     "text": [
      "[SYST] Prepare Data\n"
     ]
    },
    {
     "name": "stderr",
     "output_type": "stream",
     "text": [
      "100%|█████████████████████████████████████████████████| 12800/12800 [00:00<00:00, 18964.46it/s]\n"
     ]
    },
    {
     "name": "stdout",
     "output_type": "stream",
     "text": [
      "[SYST] Epoch 0\n"
     ]
    },
    {
     "name": "stderr",
     "output_type": "stream",
     "text": [
      "100%|████████████████████████████████████████████████████████| 200/200 [00:14<00:00, 14.21it/s]\n"
     ]
    },
    {
     "name": "stdout",
     "output_type": "stream",
     "text": [
      "Epoch 1, Loss: 5.618867163658142\n",
      "[SYST] Epoch 1\n"
     ]
    },
    {
     "name": "stderr",
     "output_type": "stream",
     "text": [
      "100%|████████████████████████████████████████████████████████| 200/200 [00:13<00:00, 14.35it/s]\n"
     ]
    },
    {
     "name": "stdout",
     "output_type": "stream",
     "text": [
      "Epoch 2, Loss: 4.770541496276856\n",
      "[SYST] Epoch 2\n"
     ]
    },
    {
     "name": "stderr",
     "output_type": "stream",
     "text": [
      "100%|████████████████████████████████████████████████████████| 200/200 [00:14<00:00, 13.87it/s]\n"
     ]
    },
    {
     "name": "stdout",
     "output_type": "stream",
     "text": [
      "Epoch 3, Loss: 3.182687819004059\n",
      "[SYST] Epoch 3\n"
     ]
    },
    {
     "name": "stderr",
     "output_type": "stream",
     "text": [
      "100%|████████████████████████████████████████████████████████| 200/200 [00:14<00:00, 13.35it/s]\n"
     ]
    },
    {
     "name": "stdout",
     "output_type": "stream",
     "text": [
      "Epoch 4, Loss: 2.390585069656372\n",
      "[SYST] Epoch 4\n"
     ]
    },
    {
     "name": "stderr",
     "output_type": "stream",
     "text": [
      "100%|████████████████████████████████████████████████████████| 200/200 [00:15<00:00, 13.28it/s]\n"
     ]
    },
    {
     "name": "stdout",
     "output_type": "stream",
     "text": [
      "Epoch 5, Loss: 2.285021367073059\n",
      "[SYST] Epoch 5\n"
     ]
    },
    {
     "name": "stderr",
     "output_type": "stream",
     "text": [
      "100%|████████████████████████████████████████████████████████| 200/200 [00:15<00:00, 13.30it/s]\n"
     ]
    },
    {
     "name": "stdout",
     "output_type": "stream",
     "text": [
      "Epoch 6, Loss: 2.255044605731964\n",
      "[SYST] Epoch 6\n"
     ]
    },
    {
     "name": "stderr",
     "output_type": "stream",
     "text": [
      "100%|████████████████████████████████████████████████████████| 200/200 [00:14<00:00, 14.00it/s]\n"
     ]
    },
    {
     "name": "stdout",
     "output_type": "stream",
     "text": [
      "Epoch 7, Loss: 2.253246372938156\n",
      "[SYST] Epoch 7\n"
     ]
    },
    {
     "name": "stderr",
     "output_type": "stream",
     "text": [
      "100%|████████████████████████████████████████████████████████| 200/200 [00:13<00:00, 14.79it/s]\n"
     ]
    },
    {
     "name": "stdout",
     "output_type": "stream",
     "text": [
      "Epoch 8, Loss: 2.252977519035339\n",
      "[SYST] Epoch 8\n"
     ]
    },
    {
     "name": "stderr",
     "output_type": "stream",
     "text": [
      "100%|████████████████████████████████████████████████████████| 200/200 [00:13<00:00, 14.87it/s]\n"
     ]
    },
    {
     "name": "stdout",
     "output_type": "stream",
     "text": [
      "Epoch 9, Loss: 2.2531605017185212\n",
      "[SYST] Epoch 9\n"
     ]
    },
    {
     "name": "stderr",
     "output_type": "stream",
     "text": [
      "100%|████████████████████████████████████████████████████████| 200/200 [00:13<00:00, 14.85it/s]\n"
     ]
    },
    {
     "name": "stdout",
     "output_type": "stream",
     "text": [
      "Epoch 10, Loss: 2.2532524251937867\n",
      "[SYST] Epoch 0\n"
     ]
    },
    {
     "name": "stderr",
     "output_type": "stream",
     "text": [
      "100%|████████████████████████████████████████████████████████████| 2/2 [00:00<00:00, 16.25it/s]\n"
     ]
    },
    {
     "name": "stdout",
     "output_type": "stream",
     "text": [
      "Test Accuracy: 83.51%\n",
      "[{'accuracy': 0.9989, 'Layer1': {'[[0, 1, 2, 3, 4, 5, 6, 7], [8, 9, 10, 11, 12, 13, 14, 15]]': 0.960625, '[[0, 1], [2, 3]]': 0.8984375, '[[0], [1]]': 0.87734375}, 'Layer2': {'[[0, 1, 2, 3, 4, 5, 6, 7], [8, 9, 10, 11, 12, 13, 14, 15]]': 0.633046875, '[[0, 1], [2, 3]]': 0.767265625, '[[0], [1]]': 0.623515625}, 'Layer3': {'[[0, 1, 2, 3, 4, 5, 6, 7], [8, 9, 10, 11, 12, 13, 14, 15]]': 0.562578125, '[[0, 1], [2, 3]]': 0.631953125, '[[0], [1]]': 0.627265625}}, {'accuracy': 0.998, 'Layer1': {'[[0, 1, 2, 3, 4, 5, 6, 7], [8, 9, 10, 11, 12, 13, 14, 15]]': 0.885390625, '[[0, 1], [2, 3]]': 0.808515625, '[[0], [1]]': 0.806796875}, 'Layer2': {'[[0, 1, 2, 3, 4, 5, 6, 7], [8, 9, 10, 11, 12, 13, 14, 15]]': 0.558359375, '[[0, 1], [2, 3]]': 0.547109375, '[[0], [1]]': 0.475}, 'Layer3': {'[[0, 1, 2, 3, 4, 5, 6, 7], [8, 9, 10, 11, 12, 13, 14, 15]]': 0.61296875, '[[0, 1], [2, 3]]': 0.64421875, '[[0], [1]]': 0.6378125}}, {'accuracy': 0.9988, 'Layer1': {'[[0, 1, 2, 3, 4, 5, 6, 7], [8, 9, 10, 11, 12, 13, 14, 15]]': 0.945234375, '[[0, 1], [2, 3]]': 0.87828125, '[[0], [1]]': 0.847109375}, 'Layer2': {'[[0, 1, 2, 3, 4, 5, 6, 7], [8, 9, 10, 11, 12, 13, 14, 15]]': 0.91125, '[[0, 1], [2, 3]]': 0.86890625, '[[0], [1]]': 0.823984375}, 'Layer3': {'[[0, 1, 2, 3, 4, 5, 6, 7], [8, 9, 10, 11, 12, 13, 14, 15]]': 0.6046875, '[[0, 1], [2, 3]]': 0.63546875, '[[0], [1]]': 0.625390625}}, {'accuracy': 0.9989, 'Layer1': {'[[0, 1, 2, 3, 4, 5, 6, 7], [8, 9, 10, 11, 12, 13, 14, 15]]': 0.892734375, '[[0, 1], [2, 3]]': 0.8578125, '[[0], [1]]': 0.835078125}}]\n",
      "Layer2 : [[0, 1, 2, 3, 4, 5, 6, 7], [8, 9, 10, 11, 12, 13, 14, 15]]\n",
      "restructuring\n"
     ]
    },
    {
     "name": "stderr",
     "output_type": "stream",
     "text": [
      "100%|█████████████████████████████████████████████| 1280000/1280000 [00:27<00:00, 47143.52it/s]\n"
     ]
    },
    {
     "name": "stdout",
     "output_type": "stream",
     "text": [
      "restructuring\n"
     ]
    },
    {
     "name": "stderr",
     "output_type": "stream",
     "text": [
      "100%|█████████████████████████████████████████████████| 12800/12800 [00:00<00:00, 33978.12it/s]\n"
     ]
    },
    {
     "name": "stdout",
     "output_type": "stream",
     "text": [
      "[SYST] Prepare Data\n"
     ]
    },
    {
     "name": "stderr",
     "output_type": "stream",
     "text": [
      "100%|█████████████████████████████████████████████| 1280000/1280000 [00:14<00:00, 90218.90it/s]\n"
     ]
    },
    {
     "name": "stdout",
     "output_type": "stream",
     "text": [
      "[SYST] Prepare Data\n"
     ]
    },
    {
     "name": "stderr",
     "output_type": "stream",
     "text": [
      "100%|█████████████████████████████████████████████████| 12800/12800 [00:00<00:00, 18908.49it/s]\n"
     ]
    },
    {
     "name": "stdout",
     "output_type": "stream",
     "text": [
      "[SYST] Epoch 0\n"
     ]
    },
    {
     "name": "stderr",
     "output_type": "stream",
     "text": [
      "100%|████████████████████████████████████████████████████████| 200/200 [00:14<00:00, 13.59it/s]\n"
     ]
    },
    {
     "name": "stdout",
     "output_type": "stream",
     "text": [
      "Epoch 1, Loss: 5.314532580375672\n",
      "[SYST] Epoch 1\n"
     ]
    },
    {
     "name": "stderr",
     "output_type": "stream",
     "text": [
      "100%|████████████████████████████████████████████████████████| 200/200 [00:13<00:00, 14.51it/s]\n"
     ]
    },
    {
     "name": "stdout",
     "output_type": "stream",
     "text": [
      "Epoch 2, Loss: 4.558294456005097\n",
      "[SYST] Epoch 2\n"
     ]
    },
    {
     "name": "stderr",
     "output_type": "stream",
     "text": [
      "100%|████████████████████████████████████████████████████████| 200/200 [00:14<00:00, 13.38it/s]\n"
     ]
    },
    {
     "name": "stdout",
     "output_type": "stream",
     "text": [
      "Epoch 3, Loss: 4.291253180503845\n",
      "[SYST] Epoch 3\n"
     ]
    },
    {
     "name": "stderr",
     "output_type": "stream",
     "text": [
      "100%|████████████████████████████████████████████████████████| 200/200 [00:14<00:00, 13.66it/s]\n"
     ]
    },
    {
     "name": "stdout",
     "output_type": "stream",
     "text": [
      "Epoch 4, Loss: 4.203712097406387\n",
      "[SYST] Epoch 4\n"
     ]
    },
    {
     "name": "stderr",
     "output_type": "stream",
     "text": [
      "100%|████████████████████████████████████████████████████████| 200/200 [00:13<00:00, 14.39it/s]\n"
     ]
    },
    {
     "name": "stdout",
     "output_type": "stream",
     "text": [
      "Epoch 5, Loss: 4.176865199804306\n",
      "[SYST] Epoch 5\n"
     ]
    },
    {
     "name": "stderr",
     "output_type": "stream",
     "text": [
      "100%|████████████████████████████████████████████████████████| 200/200 [00:13<00:00, 14.54it/s]\n"
     ]
    },
    {
     "name": "stdout",
     "output_type": "stream",
     "text": [
      "Epoch 6, Loss: 4.161231596469879\n",
      "[SYST] Epoch 6\n"
     ]
    },
    {
     "name": "stderr",
     "output_type": "stream",
     "text": [
      "100%|████████████████████████████████████████████████████████| 200/200 [00:15<00:00, 12.83it/s]\n"
     ]
    },
    {
     "name": "stdout",
     "output_type": "stream",
     "text": [
      "Epoch 7, Loss: 4.149257873296738\n",
      "[SYST] Epoch 7\n"
     ]
    },
    {
     "name": "stderr",
     "output_type": "stream",
     "text": [
      "100%|████████████████████████████████████████████████████████| 200/200 [00:15<00:00, 13.22it/s]\n"
     ]
    },
    {
     "name": "stdout",
     "output_type": "stream",
     "text": [
      "Epoch 8, Loss: 4.138680050373077\n",
      "[SYST] Epoch 8\n"
     ]
    },
    {
     "name": "stderr",
     "output_type": "stream",
     "text": [
      "100%|████████████████████████████████████████████████████████| 200/200 [00:14<00:00, 14.20it/s]\n"
     ]
    },
    {
     "name": "stdout",
     "output_type": "stream",
     "text": [
      "Epoch 9, Loss: 4.128203266859055\n",
      "[SYST] Epoch 9\n"
     ]
    },
    {
     "name": "stderr",
     "output_type": "stream",
     "text": [
      "100%|████████████████████████████████████████████████████████| 200/200 [00:14<00:00, 14.22it/s]\n"
     ]
    },
    {
     "name": "stdout",
     "output_type": "stream",
     "text": [
      "Epoch 10, Loss: 4.1205064332485195\n",
      "[SYST] Epoch 0\n"
     ]
    },
    {
     "name": "stderr",
     "output_type": "stream",
     "text": [
      "100%|████████████████████████████████████████████████████████████| 2/2 [00:00<00:00, 15.97it/s]\n"
     ]
    },
    {
     "name": "stdout",
     "output_type": "stream",
     "text": [
      "Test Accuracy: 65.08%\n",
      "[{'accuracy': 0.9989, 'Layer1': {'[[0, 1, 2, 3, 4, 5, 6, 7], [8, 9, 10, 11, 12, 13, 14, 15]]': 0.960625, '[[0, 1], [2, 3]]': 0.8984375, '[[0], [1]]': 0.87734375}, 'Layer2': {'[[0, 1, 2, 3, 4, 5, 6, 7], [8, 9, 10, 11, 12, 13, 14, 15]]': 0.633046875, '[[0, 1], [2, 3]]': 0.767265625, '[[0], [1]]': 0.623515625}, 'Layer3': {'[[0, 1, 2, 3, 4, 5, 6, 7], [8, 9, 10, 11, 12, 13, 14, 15]]': 0.562578125, '[[0, 1], [2, 3]]': 0.631953125, '[[0], [1]]': 0.627265625}}, {'accuracy': 0.998, 'Layer1': {'[[0, 1, 2, 3, 4, 5, 6, 7], [8, 9, 10, 11, 12, 13, 14, 15]]': 0.885390625, '[[0, 1], [2, 3]]': 0.808515625, '[[0], [1]]': 0.806796875}, 'Layer2': {'[[0, 1, 2, 3, 4, 5, 6, 7], [8, 9, 10, 11, 12, 13, 14, 15]]': 0.558359375, '[[0, 1], [2, 3]]': 0.547109375, '[[0], [1]]': 0.475}, 'Layer3': {'[[0, 1, 2, 3, 4, 5, 6, 7], [8, 9, 10, 11, 12, 13, 14, 15]]': 0.61296875, '[[0, 1], [2, 3]]': 0.64421875, '[[0], [1]]': 0.6378125}}, {'accuracy': 0.9988, 'Layer1': {'[[0, 1, 2, 3, 4, 5, 6, 7], [8, 9, 10, 11, 12, 13, 14, 15]]': 0.945234375, '[[0, 1], [2, 3]]': 0.87828125, '[[0], [1]]': 0.847109375}, 'Layer2': {'[[0, 1, 2, 3, 4, 5, 6, 7], [8, 9, 10, 11, 12, 13, 14, 15]]': 0.91125, '[[0, 1], [2, 3]]': 0.86890625, '[[0], [1]]': 0.823984375}, 'Layer3': {'[[0, 1, 2, 3, 4, 5, 6, 7], [8, 9, 10, 11, 12, 13, 14, 15]]': 0.6046875, '[[0, 1], [2, 3]]': 0.63546875, '[[0], [1]]': 0.625390625}}, {'accuracy': 0.9989, 'Layer1': {'[[0, 1, 2, 3, 4, 5, 6, 7], [8, 9, 10, 11, 12, 13, 14, 15]]': 0.892734375, '[[0, 1], [2, 3]]': 0.8578125, '[[0], [1]]': 0.835078125}, 'Layer2': {'[[0, 1, 2, 3, 4, 5, 6, 7], [8, 9, 10, 11, 12, 13, 14, 15]]': 0.65078125}}]\n",
      "Layer2 : [[0, 1], [2, 3]]\n",
      "restructuring\n"
     ]
    },
    {
     "name": "stderr",
     "output_type": "stream",
     "text": [
      "100%|█████████████████████████████████████████████| 1280000/1280000 [00:28<00:00, 45393.81it/s]\n"
     ]
    },
    {
     "name": "stdout",
     "output_type": "stream",
     "text": [
      "restructuring\n"
     ]
    },
    {
     "name": "stderr",
     "output_type": "stream",
     "text": [
      "100%|█████████████████████████████████████████████████| 12800/12800 [00:00<00:00, 33157.84it/s]\n"
     ]
    },
    {
     "name": "stdout",
     "output_type": "stream",
     "text": [
      "[SYST] Prepare Data\n"
     ]
    },
    {
     "name": "stderr",
     "output_type": "stream",
     "text": [
      "100%|█████████████████████████████████████████████| 1280000/1280000 [00:20<00:00, 62775.46it/s]\n"
     ]
    },
    {
     "name": "stdout",
     "output_type": "stream",
     "text": [
      "[SYST] Prepare Data\n"
     ]
    },
    {
     "name": "stderr",
     "output_type": "stream",
     "text": [
      "100%|█████████████████████████████████████████████████| 12800/12800 [00:00<00:00, 30609.23it/s]\n"
     ]
    },
    {
     "name": "stdout",
     "output_type": "stream",
     "text": [
      "[SYST] Epoch 0\n"
     ]
    },
    {
     "name": "stderr",
     "output_type": "stream",
     "text": [
      "100%|████████████████████████████████████████████████████████| 200/200 [00:14<00:00, 13.38it/s]\n"
     ]
    },
    {
     "name": "stdout",
     "output_type": "stream",
     "text": [
      "Epoch 1, Loss: 5.910371677875519\n",
      "[SYST] Epoch 1\n"
     ]
    },
    {
     "name": "stderr",
     "output_type": "stream",
     "text": [
      "100%|████████████████████████████████████████████████████████| 200/200 [00:14<00:00, 13.84it/s]\n"
     ]
    },
    {
     "name": "stdout",
     "output_type": "stream",
     "text": [
      "Epoch 2, Loss: 5.038502345085144\n",
      "[SYST] Epoch 2\n"
     ]
    },
    {
     "name": "stderr",
     "output_type": "stream",
     "text": [
      "100%|████████████████████████████████████████████████████████| 200/200 [00:13<00:00, 14.55it/s]\n"
     ]
    },
    {
     "name": "stdout",
     "output_type": "stream",
     "text": [
      "Epoch 3, Loss: 4.8803568363189695\n",
      "[SYST] Epoch 3\n"
     ]
    },
    {
     "name": "stderr",
     "output_type": "stream",
     "text": [
      "100%|████████████████████████████████████████████████████████| 200/200 [00:15<00:00, 12.96it/s]\n"
     ]
    },
    {
     "name": "stdout",
     "output_type": "stream",
     "text": [
      "Epoch 4, Loss: 4.782522323131562\n",
      "[SYST] Epoch 4\n"
     ]
    },
    {
     "name": "stderr",
     "output_type": "stream",
     "text": [
      "100%|████████████████████████████████████████████████████████| 200/200 [00:15<00:00, 13.08it/s]\n"
     ]
    },
    {
     "name": "stdout",
     "output_type": "stream",
     "text": [
      "Epoch 5, Loss: 4.724379274845123\n",
      "[SYST] Epoch 5\n"
     ]
    },
    {
     "name": "stderr",
     "output_type": "stream",
     "text": [
      "100%|████████████████████████████████████████████████████████| 200/200 [00:14<00:00, 14.15it/s]\n"
     ]
    },
    {
     "name": "stdout",
     "output_type": "stream",
     "text": [
      "Epoch 6, Loss: 4.686460175514221\n",
      "[SYST] Epoch 6\n"
     ]
    },
    {
     "name": "stderr",
     "output_type": "stream",
     "text": [
      "100%|████████████████████████████████████████████████████████| 200/200 [00:13<00:00, 14.61it/s]\n"
     ]
    },
    {
     "name": "stdout",
     "output_type": "stream",
     "text": [
      "Epoch 7, Loss: 4.659385180473327\n",
      "[SYST] Epoch 7\n"
     ]
    },
    {
     "name": "stderr",
     "output_type": "stream",
     "text": [
      "100%|████████████████████████████████████████████████████████| 200/200 [00:13<00:00, 14.67it/s]\n"
     ]
    },
    {
     "name": "stdout",
     "output_type": "stream",
     "text": [
      "Epoch 8, Loss: 4.641137938499451\n",
      "[SYST] Epoch 8\n"
     ]
    },
    {
     "name": "stderr",
     "output_type": "stream",
     "text": [
      "100%|████████████████████████████████████████████████████████| 200/200 [00:14<00:00, 14.11it/s]\n"
     ]
    },
    {
     "name": "stdout",
     "output_type": "stream",
     "text": [
      "Epoch 9, Loss: 4.629799642562866\n",
      "[SYST] Epoch 9\n"
     ]
    },
    {
     "name": "stderr",
     "output_type": "stream",
     "text": [
      "100%|████████████████████████████████████████████████████████| 200/200 [00:14<00:00, 13.46it/s]\n"
     ]
    },
    {
     "name": "stdout",
     "output_type": "stream",
     "text": [
      "Epoch 10, Loss: 4.621877217292786\n",
      "[SYST] Epoch 0\n"
     ]
    },
    {
     "name": "stderr",
     "output_type": "stream",
     "text": [
      "100%|████████████████████████████████████████████████████████████| 2/2 [00:00<00:00, 14.46it/s]\n"
     ]
    },
    {
     "name": "stdout",
     "output_type": "stream",
     "text": [
      "Test Accuracy: 61.99%\n",
      "[{'accuracy': 0.9989, 'Layer1': {'[[0, 1, 2, 3, 4, 5, 6, 7], [8, 9, 10, 11, 12, 13, 14, 15]]': 0.960625, '[[0, 1], [2, 3]]': 0.8984375, '[[0], [1]]': 0.87734375}, 'Layer2': {'[[0, 1, 2, 3, 4, 5, 6, 7], [8, 9, 10, 11, 12, 13, 14, 15]]': 0.633046875, '[[0, 1], [2, 3]]': 0.767265625, '[[0], [1]]': 0.623515625}, 'Layer3': {'[[0, 1, 2, 3, 4, 5, 6, 7], [8, 9, 10, 11, 12, 13, 14, 15]]': 0.562578125, '[[0, 1], [2, 3]]': 0.631953125, '[[0], [1]]': 0.627265625}}, {'accuracy': 0.998, 'Layer1': {'[[0, 1, 2, 3, 4, 5, 6, 7], [8, 9, 10, 11, 12, 13, 14, 15]]': 0.885390625, '[[0, 1], [2, 3]]': 0.808515625, '[[0], [1]]': 0.806796875}, 'Layer2': {'[[0, 1, 2, 3, 4, 5, 6, 7], [8, 9, 10, 11, 12, 13, 14, 15]]': 0.558359375, '[[0, 1], [2, 3]]': 0.547109375, '[[0], [1]]': 0.475}, 'Layer3': {'[[0, 1, 2, 3, 4, 5, 6, 7], [8, 9, 10, 11, 12, 13, 14, 15]]': 0.61296875, '[[0, 1], [2, 3]]': 0.64421875, '[[0], [1]]': 0.6378125}}, {'accuracy': 0.9988, 'Layer1': {'[[0, 1, 2, 3, 4, 5, 6, 7], [8, 9, 10, 11, 12, 13, 14, 15]]': 0.945234375, '[[0, 1], [2, 3]]': 0.87828125, '[[0], [1]]': 0.847109375}, 'Layer2': {'[[0, 1, 2, 3, 4, 5, 6, 7], [8, 9, 10, 11, 12, 13, 14, 15]]': 0.91125, '[[0, 1], [2, 3]]': 0.86890625, '[[0], [1]]': 0.823984375}, 'Layer3': {'[[0, 1, 2, 3, 4, 5, 6, 7], [8, 9, 10, 11, 12, 13, 14, 15]]': 0.6046875, '[[0, 1], [2, 3]]': 0.63546875, '[[0], [1]]': 0.625390625}}, {'accuracy': 0.9989, 'Layer1': {'[[0, 1, 2, 3, 4, 5, 6, 7], [8, 9, 10, 11, 12, 13, 14, 15]]': 0.892734375, '[[0, 1], [2, 3]]': 0.8578125, '[[0], [1]]': 0.835078125}, 'Layer2': {'[[0, 1, 2, 3, 4, 5, 6, 7], [8, 9, 10, 11, 12, 13, 14, 15]]': 0.65078125, '[[0, 1], [2, 3]]': 0.619921875}}]\n",
      "Layer2 : [[0], [1]]\n",
      "restructuring\n"
     ]
    },
    {
     "name": "stderr",
     "output_type": "stream",
     "text": [
      "100%|█████████████████████████████████████████████| 1280000/1280000 [00:28<00:00, 45539.21it/s]\n"
     ]
    },
    {
     "name": "stdout",
     "output_type": "stream",
     "text": [
      "restructuring\n"
     ]
    },
    {
     "name": "stderr",
     "output_type": "stream",
     "text": [
      "100%|█████████████████████████████████████████████████| 12800/12800 [00:00<00:00, 34069.43it/s]\n"
     ]
    },
    {
     "name": "stdout",
     "output_type": "stream",
     "text": [
      "[SYST] Prepare Data\n"
     ]
    },
    {
     "name": "stderr",
     "output_type": "stream",
     "text": [
      "100%|█████████████████████████████████████████████| 1280000/1280000 [00:20<00:00, 63688.59it/s]\n"
     ]
    },
    {
     "name": "stdout",
     "output_type": "stream",
     "text": [
      "[SYST] Prepare Data\n"
     ]
    },
    {
     "name": "stderr",
     "output_type": "stream",
     "text": [
      "100%|█████████████████████████████████████████████████| 12800/12800 [00:00<00:00, 25172.32it/s]\n"
     ]
    },
    {
     "name": "stdout",
     "output_type": "stream",
     "text": [
      "[SYST] Epoch 0\n"
     ]
    },
    {
     "name": "stderr",
     "output_type": "stream",
     "text": [
      "100%|████████████████████████████████████████████████████████| 200/200 [00:13<00:00, 14.95it/s]\n"
     ]
    },
    {
     "name": "stdout",
     "output_type": "stream",
     "text": [
      "Epoch 1, Loss: 5.960937895774841\n",
      "[SYST] Epoch 1\n"
     ]
    },
    {
     "name": "stderr",
     "output_type": "stream",
     "text": [
      "100%|████████████████████████████████████████████████████████| 200/200 [00:13<00:00, 14.93it/s]\n"
     ]
    },
    {
     "name": "stdout",
     "output_type": "stream",
     "text": [
      "Epoch 2, Loss: 5.2826410579681395\n",
      "[SYST] Epoch 2\n"
     ]
    },
    {
     "name": "stderr",
     "output_type": "stream",
     "text": [
      "100%|████████████████████████████████████████████████████████| 200/200 [00:13<00:00, 14.83it/s]\n"
     ]
    },
    {
     "name": "stdout",
     "output_type": "stream",
     "text": [
      "Epoch 3, Loss: 5.06332266330719\n",
      "[SYST] Epoch 3\n"
     ]
    },
    {
     "name": "stderr",
     "output_type": "stream",
     "text": [
      "100%|████████████████████████████████████████████████████████| 200/200 [00:14<00:00, 13.69it/s]\n"
     ]
    },
    {
     "name": "stdout",
     "output_type": "stream",
     "text": [
      "Epoch 4, Loss: 4.995819492340088\n",
      "[SYST] Epoch 4\n"
     ]
    },
    {
     "name": "stderr",
     "output_type": "stream",
     "text": [
      "100%|████████████████████████████████████████████████████████| 200/200 [00:13<00:00, 14.84it/s]\n"
     ]
    },
    {
     "name": "stdout",
     "output_type": "stream",
     "text": [
      "Epoch 5, Loss: 4.945791685581208\n",
      "[SYST] Epoch 5\n"
     ]
    },
    {
     "name": "stderr",
     "output_type": "stream",
     "text": [
      "100%|████████████████████████████████████████████████████████| 200/200 [00:13<00:00, 14.92it/s]\n"
     ]
    },
    {
     "name": "stdout",
     "output_type": "stream",
     "text": [
      "Epoch 6, Loss: 4.911941390037537\n",
      "[SYST] Epoch 6\n"
     ]
    },
    {
     "name": "stderr",
     "output_type": "stream",
     "text": [
      "100%|████████████████████████████████████████████████████████| 200/200 [00:13<00:00, 14.89it/s]\n"
     ]
    },
    {
     "name": "stdout",
     "output_type": "stream",
     "text": [
      "Epoch 7, Loss: 4.8925932502746585\n",
      "[SYST] Epoch 7\n"
     ]
    },
    {
     "name": "stderr",
     "output_type": "stream",
     "text": [
      "100%|████████████████████████████████████████████████████████| 200/200 [00:13<00:00, 14.93it/s]\n"
     ]
    },
    {
     "name": "stdout",
     "output_type": "stream",
     "text": [
      "Epoch 8, Loss: 4.882484617233277\n",
      "[SYST] Epoch 8\n"
     ]
    },
    {
     "name": "stderr",
     "output_type": "stream",
     "text": [
      "100%|████████████████████████████████████████████████████████| 200/200 [00:14<00:00, 13.38it/s]\n"
     ]
    },
    {
     "name": "stdout",
     "output_type": "stream",
     "text": [
      "Epoch 9, Loss: 4.875937993526459\n",
      "[SYST] Epoch 9\n"
     ]
    },
    {
     "name": "stderr",
     "output_type": "stream",
     "text": [
      "100%|████████████████████████████████████████████████████████| 200/200 [00:14<00:00, 13.40it/s]\n"
     ]
    },
    {
     "name": "stdout",
     "output_type": "stream",
     "text": [
      "Epoch 10, Loss: 4.872554879188538\n",
      "[SYST] Epoch 0\n"
     ]
    },
    {
     "name": "stderr",
     "output_type": "stream",
     "text": [
      "100%|████████████████████████████████████████████████████████████| 2/2 [00:00<00:00, 14.40it/s]\n"
     ]
    },
    {
     "name": "stdout",
     "output_type": "stream",
     "text": [
      "Test Accuracy: 60.83%\n",
      "[{'accuracy': 0.9989, 'Layer1': {'[[0, 1, 2, 3, 4, 5, 6, 7], [8, 9, 10, 11, 12, 13, 14, 15]]': 0.960625, '[[0, 1], [2, 3]]': 0.8984375, '[[0], [1]]': 0.87734375}, 'Layer2': {'[[0, 1, 2, 3, 4, 5, 6, 7], [8, 9, 10, 11, 12, 13, 14, 15]]': 0.633046875, '[[0, 1], [2, 3]]': 0.767265625, '[[0], [1]]': 0.623515625}, 'Layer3': {'[[0, 1, 2, 3, 4, 5, 6, 7], [8, 9, 10, 11, 12, 13, 14, 15]]': 0.562578125, '[[0, 1], [2, 3]]': 0.631953125, '[[0], [1]]': 0.627265625}}, {'accuracy': 0.998, 'Layer1': {'[[0, 1, 2, 3, 4, 5, 6, 7], [8, 9, 10, 11, 12, 13, 14, 15]]': 0.885390625, '[[0, 1], [2, 3]]': 0.808515625, '[[0], [1]]': 0.806796875}, 'Layer2': {'[[0, 1, 2, 3, 4, 5, 6, 7], [8, 9, 10, 11, 12, 13, 14, 15]]': 0.558359375, '[[0, 1], [2, 3]]': 0.547109375, '[[0], [1]]': 0.475}, 'Layer3': {'[[0, 1, 2, 3, 4, 5, 6, 7], [8, 9, 10, 11, 12, 13, 14, 15]]': 0.61296875, '[[0, 1], [2, 3]]': 0.64421875, '[[0], [1]]': 0.6378125}}, {'accuracy': 0.9988, 'Layer1': {'[[0, 1, 2, 3, 4, 5, 6, 7], [8, 9, 10, 11, 12, 13, 14, 15]]': 0.945234375, '[[0, 1], [2, 3]]': 0.87828125, '[[0], [1]]': 0.847109375}, 'Layer2': {'[[0, 1, 2, 3, 4, 5, 6, 7], [8, 9, 10, 11, 12, 13, 14, 15]]': 0.91125, '[[0, 1], [2, 3]]': 0.86890625, '[[0], [1]]': 0.823984375}, 'Layer3': {'[[0, 1, 2, 3, 4, 5, 6, 7], [8, 9, 10, 11, 12, 13, 14, 15]]': 0.6046875, '[[0, 1], [2, 3]]': 0.63546875, '[[0], [1]]': 0.625390625}}, {'accuracy': 0.9989, 'Layer1': {'[[0, 1, 2, 3, 4, 5, 6, 7], [8, 9, 10, 11, 12, 13, 14, 15]]': 0.892734375, '[[0, 1], [2, 3]]': 0.8578125, '[[0], [1]]': 0.835078125}, 'Layer2': {'[[0, 1, 2, 3, 4, 5, 6, 7], [8, 9, 10, 11, 12, 13, 14, 15]]': 0.65078125, '[[0, 1], [2, 3]]': 0.619921875, '[[0], [1]]': 0.60828125}}]\n",
      "Layer3 : [[0, 1, 2, 3, 4, 5, 6, 7], [8, 9, 10, 11, 12, 13, 14, 15]]\n",
      "restructuring\n"
     ]
    },
    {
     "name": "stderr",
     "output_type": "stream",
     "text": [
      "100%|█████████████████████████████████████████████| 1280000/1280000 [00:28<00:00, 45240.43it/s]\n"
     ]
    },
    {
     "name": "stdout",
     "output_type": "stream",
     "text": [
      "restructuring\n"
     ]
    },
    {
     "name": "stderr",
     "output_type": "stream",
     "text": [
      "100%|█████████████████████████████████████████████████| 12800/12800 [00:00<00:00, 33276.57it/s]\n"
     ]
    },
    {
     "name": "stdout",
     "output_type": "stream",
     "text": [
      "[SYST] Prepare Data\n"
     ]
    },
    {
     "name": "stderr",
     "output_type": "stream",
     "text": [
      "100%|█████████████████████████████████████████████| 1280000/1280000 [00:14<00:00, 90379.29it/s]\n"
     ]
    },
    {
     "name": "stdout",
     "output_type": "stream",
     "text": [
      "[SYST] Prepare Data\n"
     ]
    },
    {
     "name": "stderr",
     "output_type": "stream",
     "text": [
      "100%|█████████████████████████████████████████████████| 12800/12800 [00:00<00:00, 22418.09it/s]\n"
     ]
    },
    {
     "name": "stdout",
     "output_type": "stream",
     "text": [
      "[SYST] Epoch 0\n"
     ]
    },
    {
     "name": "stderr",
     "output_type": "stream",
     "text": [
      "100%|████████████████████████████████████████████████████████| 200/200 [00:13<00:00, 14.94it/s]\n"
     ]
    },
    {
     "name": "stdout",
     "output_type": "stream",
     "text": [
      "Epoch 1, Loss: 5.142143259048462\n",
      "[SYST] Epoch 1\n"
     ]
    },
    {
     "name": "stderr",
     "output_type": "stream",
     "text": [
      "100%|████████████████████████████████████████████████████████| 200/200 [00:13<00:00, 14.94it/s]\n"
     ]
    },
    {
     "name": "stdout",
     "output_type": "stream",
     "text": [
      "Epoch 2, Loss: 5.055905506610871\n",
      "[SYST] Epoch 2\n"
     ]
    },
    {
     "name": "stderr",
     "output_type": "stream",
     "text": [
      "100%|████████████████████████████████████████████████████████| 200/200 [00:14<00:00, 14.13it/s]\n"
     ]
    },
    {
     "name": "stdout",
     "output_type": "stream",
     "text": [
      "Epoch 3, Loss: 5.048458807468414\n",
      "[SYST] Epoch 3\n"
     ]
    },
    {
     "name": "stderr",
     "output_type": "stream",
     "text": [
      "100%|████████████████████████████████████████████████████████| 200/200 [00:13<00:00, 14.84it/s]\n"
     ]
    },
    {
     "name": "stdout",
     "output_type": "stream",
     "text": [
      "Epoch 4, Loss: 5.043350262641907\n",
      "[SYST] Epoch 4\n"
     ]
    },
    {
     "name": "stderr",
     "output_type": "stream",
     "text": [
      "100%|████████████████████████████████████████████████████████| 200/200 [00:14<00:00, 14.03it/s]\n"
     ]
    },
    {
     "name": "stdout",
     "output_type": "stream",
     "text": [
      "Epoch 5, Loss: 5.039865260124206\n",
      "[SYST] Epoch 5\n"
     ]
    },
    {
     "name": "stderr",
     "output_type": "stream",
     "text": [
      "100%|████████████████████████████████████████████████████████| 200/200 [00:15<00:00, 13.19it/s]\n"
     ]
    },
    {
     "name": "stdout",
     "output_type": "stream",
     "text": [
      "Epoch 6, Loss: 5.03769853591919\n",
      "[SYST] Epoch 6\n"
     ]
    },
    {
     "name": "stderr",
     "output_type": "stream",
     "text": [
      "100%|████████████████████████████████████████████████████████| 200/200 [00:15<00:00, 13.17it/s]\n"
     ]
    },
    {
     "name": "stdout",
     "output_type": "stream",
     "text": [
      "Epoch 7, Loss: 5.036101970672608\n",
      "[SYST] Epoch 7\n"
     ]
    },
    {
     "name": "stderr",
     "output_type": "stream",
     "text": [
      "100%|████████████████████████████████████████████████████████| 200/200 [00:15<00:00, 13.18it/s]\n"
     ]
    },
    {
     "name": "stdout",
     "output_type": "stream",
     "text": [
      "Epoch 8, Loss: 5.035076191425324\n",
      "[SYST] Epoch 8\n"
     ]
    },
    {
     "name": "stderr",
     "output_type": "stream",
     "text": [
      "100%|████████████████████████████████████████████████████████| 200/200 [00:13<00:00, 14.66it/s]\n"
     ]
    },
    {
     "name": "stdout",
     "output_type": "stream",
     "text": [
      "Epoch 9, Loss: 5.034267315864563\n",
      "[SYST] Epoch 9\n"
     ]
    },
    {
     "name": "stderr",
     "output_type": "stream",
     "text": [
      "100%|████████████████████████████████████████████████████████| 200/200 [00:15<00:00, 13.23it/s]\n"
     ]
    },
    {
     "name": "stdout",
     "output_type": "stream",
     "text": [
      "Epoch 10, Loss: 5.033403799533844\n",
      "[SYST] Epoch 0\n"
     ]
    },
    {
     "name": "stderr",
     "output_type": "stream",
     "text": [
      "100%|████████████████████████████████████████████████████████████| 2/2 [00:00<00:00, 14.26it/s]\n"
     ]
    },
    {
     "name": "stdout",
     "output_type": "stream",
     "text": [
      "Test Accuracy: 63.12%\n",
      "[{'accuracy': 0.9989, 'Layer1': {'[[0, 1, 2, 3, 4, 5, 6, 7], [8, 9, 10, 11, 12, 13, 14, 15]]': 0.960625, '[[0, 1], [2, 3]]': 0.8984375, '[[0], [1]]': 0.87734375}, 'Layer2': {'[[0, 1, 2, 3, 4, 5, 6, 7], [8, 9, 10, 11, 12, 13, 14, 15]]': 0.633046875, '[[0, 1], [2, 3]]': 0.767265625, '[[0], [1]]': 0.623515625}, 'Layer3': {'[[0, 1, 2, 3, 4, 5, 6, 7], [8, 9, 10, 11, 12, 13, 14, 15]]': 0.562578125, '[[0, 1], [2, 3]]': 0.631953125, '[[0], [1]]': 0.627265625}}, {'accuracy': 0.998, 'Layer1': {'[[0, 1, 2, 3, 4, 5, 6, 7], [8, 9, 10, 11, 12, 13, 14, 15]]': 0.885390625, '[[0, 1], [2, 3]]': 0.808515625, '[[0], [1]]': 0.806796875}, 'Layer2': {'[[0, 1, 2, 3, 4, 5, 6, 7], [8, 9, 10, 11, 12, 13, 14, 15]]': 0.558359375, '[[0, 1], [2, 3]]': 0.547109375, '[[0], [1]]': 0.475}, 'Layer3': {'[[0, 1, 2, 3, 4, 5, 6, 7], [8, 9, 10, 11, 12, 13, 14, 15]]': 0.61296875, '[[0, 1], [2, 3]]': 0.64421875, '[[0], [1]]': 0.6378125}}, {'accuracy': 0.9988, 'Layer1': {'[[0, 1, 2, 3, 4, 5, 6, 7], [8, 9, 10, 11, 12, 13, 14, 15]]': 0.945234375, '[[0, 1], [2, 3]]': 0.87828125, '[[0], [1]]': 0.847109375}, 'Layer2': {'[[0, 1, 2, 3, 4, 5, 6, 7], [8, 9, 10, 11, 12, 13, 14, 15]]': 0.91125, '[[0, 1], [2, 3]]': 0.86890625, '[[0], [1]]': 0.823984375}, 'Layer3': {'[[0, 1, 2, 3, 4, 5, 6, 7], [8, 9, 10, 11, 12, 13, 14, 15]]': 0.6046875, '[[0, 1], [2, 3]]': 0.63546875, '[[0], [1]]': 0.625390625}}, {'accuracy': 0.9989, 'Layer1': {'[[0, 1, 2, 3, 4, 5, 6, 7], [8, 9, 10, 11, 12, 13, 14, 15]]': 0.892734375, '[[0, 1], [2, 3]]': 0.8578125, '[[0], [1]]': 0.835078125}, 'Layer2': {'[[0, 1, 2, 3, 4, 5, 6, 7], [8, 9, 10, 11, 12, 13, 14, 15]]': 0.65078125, '[[0, 1], [2, 3]]': 0.619921875, '[[0], [1]]': 0.60828125}, 'Layer3': {'[[0, 1, 2, 3, 4, 5, 6, 7], [8, 9, 10, 11, 12, 13, 14, 15]]': 0.631171875}}]\n",
      "Layer3 : [[0, 1], [2, 3]]\n",
      "restructuring\n"
     ]
    },
    {
     "name": "stderr",
     "output_type": "stream",
     "text": [
      "100%|█████████████████████████████████████████████| 1280000/1280000 [00:27<00:00, 47186.33it/s]\n"
     ]
    },
    {
     "name": "stdout",
     "output_type": "stream",
     "text": [
      "restructuring\n"
     ]
    },
    {
     "name": "stderr",
     "output_type": "stream",
     "text": [
      "100%|█████████████████████████████████████████████████| 12800/12800 [00:00<00:00, 34324.99it/s]\n"
     ]
    },
    {
     "name": "stdout",
     "output_type": "stream",
     "text": [
      "[SYST] Prepare Data\n"
     ]
    },
    {
     "name": "stderr",
     "output_type": "stream",
     "text": [
      "100%|█████████████████████████████████████████████| 1280000/1280000 [00:19<00:00, 65081.40it/s]\n"
     ]
    },
    {
     "name": "stdout",
     "output_type": "stream",
     "text": [
      "[SYST] Prepare Data\n"
     ]
    },
    {
     "name": "stderr",
     "output_type": "stream",
     "text": [
      "100%|█████████████████████████████████████████████████| 12800/12800 [00:00<00:00, 18847.38it/s]\n"
     ]
    },
    {
     "name": "stdout",
     "output_type": "stream",
     "text": [
      "[SYST] Epoch 0\n"
     ]
    },
    {
     "name": "stderr",
     "output_type": "stream",
     "text": [
      "100%|████████████████████████████████████████████████████████| 200/200 [00:14<00:00, 13.48it/s]\n"
     ]
    },
    {
     "name": "stdout",
     "output_type": "stream",
     "text": [
      "Epoch 1, Loss: 5.039049956798554\n",
      "[SYST] Epoch 1\n"
     ]
    },
    {
     "name": "stderr",
     "output_type": "stream",
     "text": [
      "100%|████████████████████████████████████████████████████████| 200/200 [00:14<00:00, 13.37it/s]\n"
     ]
    },
    {
     "name": "stdout",
     "output_type": "stream",
     "text": [
      "Epoch 2, Loss: 4.922648725509643\n",
      "[SYST] Epoch 2\n"
     ]
    },
    {
     "name": "stderr",
     "output_type": "stream",
     "text": [
      "100%|████████████████████████████████████████████████████████| 200/200 [00:14<00:00, 13.36it/s]\n"
     ]
    },
    {
     "name": "stdout",
     "output_type": "stream",
     "text": [
      "Epoch 3, Loss: 4.905893232822418\n",
      "[SYST] Epoch 3\n"
     ]
    },
    {
     "name": "stderr",
     "output_type": "stream",
     "text": [
      "100%|████████████████████████████████████████████████████████| 200/200 [00:14<00:00, 13.49it/s]\n"
     ]
    },
    {
     "name": "stdout",
     "output_type": "stream",
     "text": [
      "Epoch 4, Loss: 4.897276263237\n",
      "[SYST] Epoch 4\n"
     ]
    },
    {
     "name": "stderr",
     "output_type": "stream",
     "text": [
      "100%|████████████████████████████████████████████████████████| 200/200 [00:14<00:00, 13.84it/s]\n"
     ]
    },
    {
     "name": "stdout",
     "output_type": "stream",
     "text": [
      "Epoch 5, Loss: 4.892461841106415\n",
      "[SYST] Epoch 5\n"
     ]
    },
    {
     "name": "stderr",
     "output_type": "stream",
     "text": [
      "100%|████████████████████████████████████████████████████████| 200/200 [00:13<00:00, 14.51it/s]\n"
     ]
    },
    {
     "name": "stdout",
     "output_type": "stream",
     "text": [
      "Epoch 6, Loss: 4.889489667415619\n",
      "[SYST] Epoch 6\n"
     ]
    },
    {
     "name": "stderr",
     "output_type": "stream",
     "text": [
      "100%|████████████████████████████████████████████████████████| 200/200 [00:13<00:00, 14.87it/s]\n"
     ]
    },
    {
     "name": "stdout",
     "output_type": "stream",
     "text": [
      "Epoch 7, Loss: 4.888260188102723\n",
      "[SYST] Epoch 7\n"
     ]
    },
    {
     "name": "stderr",
     "output_type": "stream",
     "text": [
      "100%|████████████████████████████████████████████████████████| 200/200 [00:14<00:00, 14.14it/s]\n"
     ]
    },
    {
     "name": "stdout",
     "output_type": "stream",
     "text": [
      "Epoch 8, Loss: 4.887367243766785\n",
      "[SYST] Epoch 8\n"
     ]
    },
    {
     "name": "stderr",
     "output_type": "stream",
     "text": [
      "100%|████████████████████████████████████████████████████████| 200/200 [00:15<00:00, 13.25it/s]\n"
     ]
    },
    {
     "name": "stdout",
     "output_type": "stream",
     "text": [
      "Epoch 9, Loss: 4.88675571680069\n",
      "[SYST] Epoch 9\n"
     ]
    },
    {
     "name": "stderr",
     "output_type": "stream",
     "text": [
      "100%|████████████████████████████████████████████████████████| 200/200 [00:14<00:00, 14.22it/s]\n"
     ]
    },
    {
     "name": "stdout",
     "output_type": "stream",
     "text": [
      "Epoch 10, Loss: 4.886323730945588\n",
      "[SYST] Epoch 0\n"
     ]
    },
    {
     "name": "stderr",
     "output_type": "stream",
     "text": [
      "100%|████████████████████████████████████████████████████████████| 2/2 [00:00<00:00, 16.10it/s]\n"
     ]
    },
    {
     "name": "stdout",
     "output_type": "stream",
     "text": [
      "Test Accuracy: 66.46%\n",
      "[{'accuracy': 0.9989, 'Layer1': {'[[0, 1, 2, 3, 4, 5, 6, 7], [8, 9, 10, 11, 12, 13, 14, 15]]': 0.960625, '[[0, 1], [2, 3]]': 0.8984375, '[[0], [1]]': 0.87734375}, 'Layer2': {'[[0, 1, 2, 3, 4, 5, 6, 7], [8, 9, 10, 11, 12, 13, 14, 15]]': 0.633046875, '[[0, 1], [2, 3]]': 0.767265625, '[[0], [1]]': 0.623515625}, 'Layer3': {'[[0, 1, 2, 3, 4, 5, 6, 7], [8, 9, 10, 11, 12, 13, 14, 15]]': 0.562578125, '[[0, 1], [2, 3]]': 0.631953125, '[[0], [1]]': 0.627265625}}, {'accuracy': 0.998, 'Layer1': {'[[0, 1, 2, 3, 4, 5, 6, 7], [8, 9, 10, 11, 12, 13, 14, 15]]': 0.885390625, '[[0, 1], [2, 3]]': 0.808515625, '[[0], [1]]': 0.806796875}, 'Layer2': {'[[0, 1, 2, 3, 4, 5, 6, 7], [8, 9, 10, 11, 12, 13, 14, 15]]': 0.558359375, '[[0, 1], [2, 3]]': 0.547109375, '[[0], [1]]': 0.475}, 'Layer3': {'[[0, 1, 2, 3, 4, 5, 6, 7], [8, 9, 10, 11, 12, 13, 14, 15]]': 0.61296875, '[[0, 1], [2, 3]]': 0.64421875, '[[0], [1]]': 0.6378125}}, {'accuracy': 0.9988, 'Layer1': {'[[0, 1, 2, 3, 4, 5, 6, 7], [8, 9, 10, 11, 12, 13, 14, 15]]': 0.945234375, '[[0, 1], [2, 3]]': 0.87828125, '[[0], [1]]': 0.847109375}, 'Layer2': {'[[0, 1, 2, 3, 4, 5, 6, 7], [8, 9, 10, 11, 12, 13, 14, 15]]': 0.91125, '[[0, 1], [2, 3]]': 0.86890625, '[[0], [1]]': 0.823984375}, 'Layer3': {'[[0, 1, 2, 3, 4, 5, 6, 7], [8, 9, 10, 11, 12, 13, 14, 15]]': 0.6046875, '[[0, 1], [2, 3]]': 0.63546875, '[[0], [1]]': 0.625390625}}, {'accuracy': 0.9989, 'Layer1': {'[[0, 1, 2, 3, 4, 5, 6, 7], [8, 9, 10, 11, 12, 13, 14, 15]]': 0.892734375, '[[0, 1], [2, 3]]': 0.8578125, '[[0], [1]]': 0.835078125}, 'Layer2': {'[[0, 1, 2, 3, 4, 5, 6, 7], [8, 9, 10, 11, 12, 13, 14, 15]]': 0.65078125, '[[0, 1], [2, 3]]': 0.619921875, '[[0], [1]]': 0.60828125}, 'Layer3': {'[[0, 1, 2, 3, 4, 5, 6, 7], [8, 9, 10, 11, 12, 13, 14, 15]]': 0.631171875, '[[0, 1], [2, 3]]': 0.664609375}}]\n",
      "Layer3 : [[0], [1]]\n",
      "restructuring\n"
     ]
    },
    {
     "name": "stderr",
     "output_type": "stream",
     "text": [
      "100%|█████████████████████████████████████████████| 1280000/1280000 [00:26<00:00, 47776.50it/s]\n"
     ]
    },
    {
     "name": "stdout",
     "output_type": "stream",
     "text": [
      "restructuring\n"
     ]
    },
    {
     "name": "stderr",
     "output_type": "stream",
     "text": [
      "100%|█████████████████████████████████████████████████| 12800/12800 [00:00<00:00, 34445.01it/s]\n"
     ]
    },
    {
     "name": "stdout",
     "output_type": "stream",
     "text": [
      "[SYST] Prepare Data\n"
     ]
    },
    {
     "name": "stderr",
     "output_type": "stream",
     "text": [
      "100%|█████████████████████████████████████████████| 1280000/1280000 [00:19<00:00, 64040.37it/s]\n"
     ]
    },
    {
     "name": "stdout",
     "output_type": "stream",
     "text": [
      "[SYST] Prepare Data\n"
     ]
    },
    {
     "name": "stderr",
     "output_type": "stream",
     "text": [
      "100%|█████████████████████████████████████████████████| 12800/12800 [00:00<00:00, 19029.93it/s]\n"
     ]
    },
    {
     "name": "stdout",
     "output_type": "stream",
     "text": [
      "[SYST] Epoch 0\n"
     ]
    },
    {
     "name": "stderr",
     "output_type": "stream",
     "text": [
      "100%|████████████████████████████████████████████████████████| 200/200 [00:13<00:00, 14.89it/s]\n"
     ]
    },
    {
     "name": "stdout",
     "output_type": "stream",
     "text": [
      "Epoch 1, Loss: 5.458766822814941\n",
      "[SYST] Epoch 1\n"
     ]
    },
    {
     "name": "stderr",
     "output_type": "stream",
     "text": [
      "100%|████████████████████████████████████████████████████████| 200/200 [00:14<00:00, 14.24it/s]\n"
     ]
    },
    {
     "name": "stdout",
     "output_type": "stream",
     "text": [
      "Epoch 2, Loss: 4.917831797599792\n",
      "[SYST] Epoch 2\n"
     ]
    },
    {
     "name": "stderr",
     "output_type": "stream",
     "text": [
      "100%|████████████████████████████████████████████████████████| 200/200 [00:13<00:00, 14.97it/s]\n"
     ]
    },
    {
     "name": "stdout",
     "output_type": "stream",
     "text": [
      "Epoch 3, Loss: 4.9091235089302065\n",
      "[SYST] Epoch 3\n"
     ]
    },
    {
     "name": "stderr",
     "output_type": "stream",
     "text": [
      "100%|████████████████████████████████████████████████████████| 200/200 [00:13<00:00, 14.91it/s]\n"
     ]
    },
    {
     "name": "stdout",
     "output_type": "stream",
     "text": [
      "Epoch 4, Loss: 4.903597388267517\n",
      "[SYST] Epoch 4\n"
     ]
    },
    {
     "name": "stderr",
     "output_type": "stream",
     "text": [
      "100%|████████████████████████████████████████████████████████| 200/200 [00:13<00:00, 14.69it/s]\n"
     ]
    },
    {
     "name": "stdout",
     "output_type": "stream",
     "text": [
      "Epoch 5, Loss: 4.899427809715271\n",
      "[SYST] Epoch 5\n"
     ]
    },
    {
     "name": "stderr",
     "output_type": "stream",
     "text": [
      "100%|████████████████████████████████████████████████████████| 200/200 [00:14<00:00, 13.80it/s]\n"
     ]
    },
    {
     "name": "stdout",
     "output_type": "stream",
     "text": [
      "Epoch 6, Loss: 4.896126298904419\n",
      "[SYST] Epoch 6\n"
     ]
    },
    {
     "name": "stderr",
     "output_type": "stream",
     "text": [
      "100%|████████████████████████████████████████████████████████| 200/200 [00:14<00:00, 14.13it/s]\n"
     ]
    },
    {
     "name": "stdout",
     "output_type": "stream",
     "text": [
      "Epoch 7, Loss: 4.89393700838089\n",
      "[SYST] Epoch 7\n"
     ]
    },
    {
     "name": "stderr",
     "output_type": "stream",
     "text": [
      "100%|████████████████████████████████████████████████████████| 200/200 [00:13<00:00, 14.96it/s]\n"
     ]
    },
    {
     "name": "stdout",
     "output_type": "stream",
     "text": [
      "Epoch 8, Loss: 4.891962344646454\n",
      "[SYST] Epoch 8\n"
     ]
    },
    {
     "name": "stderr",
     "output_type": "stream",
     "text": [
      "100%|████████████████████████████████████████████████████████| 200/200 [00:14<00:00, 14.25it/s]\n"
     ]
    },
    {
     "name": "stdout",
     "output_type": "stream",
     "text": [
      "Epoch 9, Loss: 4.890767638683319\n",
      "[SYST] Epoch 9\n"
     ]
    },
    {
     "name": "stderr",
     "output_type": "stream",
     "text": [
      "100%|████████████████████████████████████████████████████████| 200/200 [00:14<00:00, 13.35it/s]\n"
     ]
    },
    {
     "name": "stdout",
     "output_type": "stream",
     "text": [
      "Epoch 10, Loss: 4.889737026691437\n",
      "[SYST] Epoch 0\n"
     ]
    },
    {
     "name": "stderr",
     "output_type": "stream",
     "text": [
      "100%|████████████████████████████████████████████████████████████| 2/2 [00:00<00:00, 14.38it/s]\n"
     ]
    },
    {
     "name": "stdout",
     "output_type": "stream",
     "text": [
      "Test Accuracy: 66.45%\n",
      "[{'accuracy': 0.9989, 'Layer1': {'[[0, 1, 2, 3, 4, 5, 6, 7], [8, 9, 10, 11, 12, 13, 14, 15]]': 0.960625, '[[0, 1], [2, 3]]': 0.8984375, '[[0], [1]]': 0.87734375}, 'Layer2': {'[[0, 1, 2, 3, 4, 5, 6, 7], [8, 9, 10, 11, 12, 13, 14, 15]]': 0.633046875, '[[0, 1], [2, 3]]': 0.767265625, '[[0], [1]]': 0.623515625}, 'Layer3': {'[[0, 1, 2, 3, 4, 5, 6, 7], [8, 9, 10, 11, 12, 13, 14, 15]]': 0.562578125, '[[0, 1], [2, 3]]': 0.631953125, '[[0], [1]]': 0.627265625}}, {'accuracy': 0.998, 'Layer1': {'[[0, 1, 2, 3, 4, 5, 6, 7], [8, 9, 10, 11, 12, 13, 14, 15]]': 0.885390625, '[[0, 1], [2, 3]]': 0.808515625, '[[0], [1]]': 0.806796875}, 'Layer2': {'[[0, 1, 2, 3, 4, 5, 6, 7], [8, 9, 10, 11, 12, 13, 14, 15]]': 0.558359375, '[[0, 1], [2, 3]]': 0.547109375, '[[0], [1]]': 0.475}, 'Layer3': {'[[0, 1, 2, 3, 4, 5, 6, 7], [8, 9, 10, 11, 12, 13, 14, 15]]': 0.61296875, '[[0, 1], [2, 3]]': 0.64421875, '[[0], [1]]': 0.6378125}}, {'accuracy': 0.9988, 'Layer1': {'[[0, 1, 2, 3, 4, 5, 6, 7], [8, 9, 10, 11, 12, 13, 14, 15]]': 0.945234375, '[[0, 1], [2, 3]]': 0.87828125, '[[0], [1]]': 0.847109375}, 'Layer2': {'[[0, 1, 2, 3, 4, 5, 6, 7], [8, 9, 10, 11, 12, 13, 14, 15]]': 0.91125, '[[0, 1], [2, 3]]': 0.86890625, '[[0], [1]]': 0.823984375}, 'Layer3': {'[[0, 1, 2, 3, 4, 5, 6, 7], [8, 9, 10, 11, 12, 13, 14, 15]]': 0.6046875, '[[0, 1], [2, 3]]': 0.63546875, '[[0], [1]]': 0.625390625}}, {'accuracy': 0.9989, 'Layer1': {'[[0, 1, 2, 3, 4, 5, 6, 7], [8, 9, 10, 11, 12, 13, 14, 15]]': 0.892734375, '[[0, 1], [2, 3]]': 0.8578125, '[[0], [1]]': 0.835078125}, 'Layer2': {'[[0, 1, 2, 3, 4, 5, 6, 7], [8, 9, 10, 11, 12, 13, 14, 15]]': 0.65078125, '[[0, 1], [2, 3]]': 0.619921875, '[[0], [1]]': 0.60828125}, 'Layer3': {'[[0, 1, 2, 3, 4, 5, 6, 7], [8, 9, 10, 11, 12, 13, 14, 15]]': 0.631171875, '[[0, 1], [2, 3]]': 0.664609375, '[[0], [1]]': 0.66453125}}]\n"
     ]
    },
    {
     "name": "stderr",
     "output_type": "stream",
     "text": [
      "100%|█████████████████████████████████████████████████████| 1024/1024 [00:07<00:00, 142.99it/s]\n"
     ]
    },
    {
     "name": "stdout",
     "output_type": "stream",
     "text": [
      "Epoch 1, Loss: 0.3857630563506973\n"
     ]
    },
    {
     "name": "stderr",
     "output_type": "stream",
     "text": [
      "100%|█████████████████████████████████████████████████████| 1024/1024 [00:07<00:00, 143.03it/s]\n"
     ]
    },
    {
     "name": "stdout",
     "output_type": "stream",
     "text": [
      "Epoch 2, Loss: 0.039890277173526556\n"
     ]
    },
    {
     "name": "stderr",
     "output_type": "stream",
     "text": [
      "100%|█████████████████████████████████████████████████████| 1024/1024 [00:07<00:00, 142.44it/s]\n"
     ]
    },
    {
     "name": "stdout",
     "output_type": "stream",
     "text": [
      "Epoch 3, Loss: 0.013168029736789322\n"
     ]
    },
    {
     "name": "stderr",
     "output_type": "stream",
     "text": [
      "100%|██████████████████████████████████████████████████████████| 10/10 [00:00<00:00, 67.01it/s]\n"
     ]
    },
    {
     "name": "stdout",
     "output_type": "stream",
     "text": [
      "Test Accuracy: 0.9974\n",
      "Layer1 : [[0, 1, 2, 3, 4, 5, 6, 7], [8, 9, 10, 11, 12, 13, 14, 15]]\n",
      "restructuring\n"
     ]
    },
    {
     "name": "stderr",
     "output_type": "stream",
     "text": [
      "100%|█████████████████████████████████████████████| 1280000/1280000 [00:26<00:00, 47489.43it/s]\n"
     ]
    },
    {
     "name": "stdout",
     "output_type": "stream",
     "text": [
      "restructuring\n"
     ]
    },
    {
     "name": "stderr",
     "output_type": "stream",
     "text": [
      "100%|█████████████████████████████████████████████████| 12800/12800 [00:00<00:00, 34039.67it/s]\n"
     ]
    },
    {
     "name": "stdout",
     "output_type": "stream",
     "text": [
      "[SYST] Prepare Data\n"
     ]
    },
    {
     "name": "stderr",
     "output_type": "stream",
     "text": [
      "100%|█████████████████████████████████████████████| 1280000/1280000 [00:21<00:00, 60366.93it/s]\n"
     ]
    },
    {
     "name": "stdout",
     "output_type": "stream",
     "text": [
      "[SYST] Prepare Data\n"
     ]
    },
    {
     "name": "stderr",
     "output_type": "stream",
     "text": [
      "100%|█████████████████████████████████████████████████| 12800/12800 [00:00<00:00, 18604.83it/s]\n"
     ]
    },
    {
     "name": "stdout",
     "output_type": "stream",
     "text": [
      "[SYST] Epoch 0\n"
     ]
    },
    {
     "name": "stderr",
     "output_type": "stream",
     "text": [
      "100%|████████████████████████████████████████████████████████| 200/200 [00:14<00:00, 14.23it/s]\n"
     ]
    },
    {
     "name": "stdout",
     "output_type": "stream",
     "text": [
      "Epoch 1, Loss: 5.00598147392273\n",
      "[SYST] Epoch 1\n"
     ]
    },
    {
     "name": "stderr",
     "output_type": "stream",
     "text": [
      "100%|████████████████████████████████████████████████████████| 200/200 [00:15<00:00, 13.15it/s]\n"
     ]
    },
    {
     "name": "stdout",
     "output_type": "stream",
     "text": [
      "Epoch 2, Loss: 1.076872937977314\n",
      "[SYST] Epoch 2\n"
     ]
    },
    {
     "name": "stderr",
     "output_type": "stream",
     "text": [
      "100%|████████████████████████████████████████████████████████| 200/200 [00:14<00:00, 14.18it/s]\n"
     ]
    },
    {
     "name": "stdout",
     "output_type": "stream",
     "text": [
      "Epoch 3, Loss: 0.5677515749633312\n",
      "[SYST] Epoch 3\n"
     ]
    },
    {
     "name": "stderr",
     "output_type": "stream",
     "text": [
      "100%|████████████████████████████████████████████████████████| 200/200 [00:13<00:00, 14.79it/s]\n"
     ]
    },
    {
     "name": "stdout",
     "output_type": "stream",
     "text": [
      "Epoch 4, Loss: 0.3948661644756794\n",
      "[SYST] Epoch 4\n"
     ]
    },
    {
     "name": "stderr",
     "output_type": "stream",
     "text": [
      "100%|████████████████████████████████████████████████████████| 200/200 [00:13<00:00, 14.72it/s]\n"
     ]
    },
    {
     "name": "stdout",
     "output_type": "stream",
     "text": [
      "Epoch 5, Loss: 0.32154242172837255\n",
      "[SYST] Epoch 5\n"
     ]
    },
    {
     "name": "stderr",
     "output_type": "stream",
     "text": [
      "100%|████████████████████████████████████████████████████████| 200/200 [00:14<00:00, 14.14it/s]\n"
     ]
    },
    {
     "name": "stdout",
     "output_type": "stream",
     "text": [
      "Epoch 6, Loss: 0.2865560656785965\n",
      "[SYST] Epoch 6\n"
     ]
    },
    {
     "name": "stderr",
     "output_type": "stream",
     "text": [
      "100%|████████████████████████████████████████████████████████| 200/200 [00:13<00:00, 14.72it/s]\n"
     ]
    },
    {
     "name": "stdout",
     "output_type": "stream",
     "text": [
      "Epoch 7, Loss: 0.26593992076814177\n",
      "[SYST] Epoch 7\n"
     ]
    },
    {
     "name": "stderr",
     "output_type": "stream",
     "text": [
      "100%|████████████████████████████████████████████████████████| 200/200 [00:15<00:00, 12.89it/s]\n"
     ]
    },
    {
     "name": "stdout",
     "output_type": "stream",
     "text": [
      "Epoch 8, Loss: 0.2509841763973236\n",
      "[SYST] Epoch 8\n"
     ]
    },
    {
     "name": "stderr",
     "output_type": "stream",
     "text": [
      "100%|████████████████████████████████████████████████████████| 200/200 [00:15<00:00, 13.10it/s]\n"
     ]
    },
    {
     "name": "stdout",
     "output_type": "stream",
     "text": [
      "Epoch 9, Loss: 0.23915222823619842\n",
      "[SYST] Epoch 9\n"
     ]
    },
    {
     "name": "stderr",
     "output_type": "stream",
     "text": [
      "100%|████████████████████████████████████████████████████████| 200/200 [00:15<00:00, 13.13it/s]\n"
     ]
    },
    {
     "name": "stdout",
     "output_type": "stream",
     "text": [
      "Epoch 10, Loss: 0.22952707089483737\n",
      "[SYST] Epoch 0\n"
     ]
    },
    {
     "name": "stderr",
     "output_type": "stream",
     "text": [
      "100%|████████████████████████████████████████████████████████████| 2/2 [00:00<00:00, 16.12it/s]\n"
     ]
    },
    {
     "name": "stdout",
     "output_type": "stream",
     "text": [
      "Test Accuracy: 94.69%\n",
      "[{'accuracy': 0.9989, 'Layer1': {'[[0, 1, 2, 3, 4, 5, 6, 7], [8, 9, 10, 11, 12, 13, 14, 15]]': 0.960625, '[[0, 1], [2, 3]]': 0.8984375, '[[0], [1]]': 0.87734375}, 'Layer2': {'[[0, 1, 2, 3, 4, 5, 6, 7], [8, 9, 10, 11, 12, 13, 14, 15]]': 0.633046875, '[[0, 1], [2, 3]]': 0.767265625, '[[0], [1]]': 0.623515625}, 'Layer3': {'[[0, 1, 2, 3, 4, 5, 6, 7], [8, 9, 10, 11, 12, 13, 14, 15]]': 0.562578125, '[[0, 1], [2, 3]]': 0.631953125, '[[0], [1]]': 0.627265625}}, {'accuracy': 0.998, 'Layer1': {'[[0, 1, 2, 3, 4, 5, 6, 7], [8, 9, 10, 11, 12, 13, 14, 15]]': 0.885390625, '[[0, 1], [2, 3]]': 0.808515625, '[[0], [1]]': 0.806796875}, 'Layer2': {'[[0, 1, 2, 3, 4, 5, 6, 7], [8, 9, 10, 11, 12, 13, 14, 15]]': 0.558359375, '[[0, 1], [2, 3]]': 0.547109375, '[[0], [1]]': 0.475}, 'Layer3': {'[[0, 1, 2, 3, 4, 5, 6, 7], [8, 9, 10, 11, 12, 13, 14, 15]]': 0.61296875, '[[0, 1], [2, 3]]': 0.64421875, '[[0], [1]]': 0.6378125}}, {'accuracy': 0.9988, 'Layer1': {'[[0, 1, 2, 3, 4, 5, 6, 7], [8, 9, 10, 11, 12, 13, 14, 15]]': 0.945234375, '[[0, 1], [2, 3]]': 0.87828125, '[[0], [1]]': 0.847109375}, 'Layer2': {'[[0, 1, 2, 3, 4, 5, 6, 7], [8, 9, 10, 11, 12, 13, 14, 15]]': 0.91125, '[[0, 1], [2, 3]]': 0.86890625, '[[0], [1]]': 0.823984375}, 'Layer3': {'[[0, 1, 2, 3, 4, 5, 6, 7], [8, 9, 10, 11, 12, 13, 14, 15]]': 0.6046875, '[[0, 1], [2, 3]]': 0.63546875, '[[0], [1]]': 0.625390625}}, {'accuracy': 0.9989, 'Layer1': {'[[0, 1, 2, 3, 4, 5, 6, 7], [8, 9, 10, 11, 12, 13, 14, 15]]': 0.892734375, '[[0, 1], [2, 3]]': 0.8578125, '[[0], [1]]': 0.835078125}, 'Layer2': {'[[0, 1, 2, 3, 4, 5, 6, 7], [8, 9, 10, 11, 12, 13, 14, 15]]': 0.65078125, '[[0, 1], [2, 3]]': 0.619921875, '[[0], [1]]': 0.60828125}, 'Layer3': {'[[0, 1, 2, 3, 4, 5, 6, 7], [8, 9, 10, 11, 12, 13, 14, 15]]': 0.631171875, '[[0, 1], [2, 3]]': 0.664609375, '[[0], [1]]': 0.66453125}}, {'accuracy': 0.9974, 'Layer1': {'[[0, 1, 2, 3, 4, 5, 6, 7], [8, 9, 10, 11, 12, 13, 14, 15]]': 0.946875}}]\n",
      "Layer1 : [[0, 1], [2, 3]]\n",
      "restructuring\n"
     ]
    },
    {
     "name": "stderr",
     "output_type": "stream",
     "text": [
      "100%|█████████████████████████████████████████████| 1280000/1280000 [00:26<00:00, 47420.85it/s]\n"
     ]
    },
    {
     "name": "stdout",
     "output_type": "stream",
     "text": [
      "restructuring\n"
     ]
    },
    {
     "name": "stderr",
     "output_type": "stream",
     "text": [
      "100%|█████████████████████████████████████████████████| 12800/12800 [00:00<00:00, 34272.22it/s]\n"
     ]
    },
    {
     "name": "stdout",
     "output_type": "stream",
     "text": [
      "[SYST] Prepare Data\n"
     ]
    },
    {
     "name": "stderr",
     "output_type": "stream",
     "text": [
      "100%|█████████████████████████████████████████████| 1280000/1280000 [00:13<00:00, 95389.68it/s]\n"
     ]
    },
    {
     "name": "stdout",
     "output_type": "stream",
     "text": [
      "[SYST] Prepare Data\n"
     ]
    },
    {
     "name": "stderr",
     "output_type": "stream",
     "text": [
      "100%|█████████████████████████████████████████████████| 12800/12800 [00:00<00:00, 18687.93it/s]\n"
     ]
    },
    {
     "name": "stdout",
     "output_type": "stream",
     "text": [
      "[SYST] Epoch 0\n"
     ]
    },
    {
     "name": "stderr",
     "output_type": "stream",
     "text": [
      "100%|████████████████████████████████████████████████████████| 200/200 [00:14<00:00, 13.83it/s]\n"
     ]
    },
    {
     "name": "stdout",
     "output_type": "stream",
     "text": [
      "Epoch 1, Loss: 5.156277453899383\n",
      "[SYST] Epoch 1\n"
     ]
    },
    {
     "name": "stderr",
     "output_type": "stream",
     "text": [
      "100%|████████████████████████████████████████████████████████| 200/200 [00:13<00:00, 14.40it/s]\n"
     ]
    },
    {
     "name": "stdout",
     "output_type": "stream",
     "text": [
      "Epoch 2, Loss: 3.6492382061481474\n",
      "[SYST] Epoch 2\n"
     ]
    },
    {
     "name": "stderr",
     "output_type": "stream",
     "text": [
      "100%|████████████████████████████████████████████████████████| 200/200 [00:13<00:00, 14.79it/s]\n"
     ]
    },
    {
     "name": "stdout",
     "output_type": "stream",
     "text": [
      "Epoch 3, Loss: 1.452484789788723\n",
      "[SYST] Epoch 3\n"
     ]
    },
    {
     "name": "stderr",
     "output_type": "stream",
     "text": [
      "100%|████████████████████████████████████████████████████████| 200/200 [00:13<00:00, 14.71it/s]\n"
     ]
    },
    {
     "name": "stdout",
     "output_type": "stream",
     "text": [
      "Epoch 4, Loss: 0.8574174854159355\n",
      "[SYST] Epoch 4\n"
     ]
    },
    {
     "name": "stderr",
     "output_type": "stream",
     "text": [
      "100%|████████████████████████████████████████████████████████| 200/200 [00:13<00:00, 14.91it/s]\n"
     ]
    },
    {
     "name": "stdout",
     "output_type": "stream",
     "text": [
      "Epoch 5, Loss: 0.801373153924942\n",
      "[SYST] Epoch 5\n"
     ]
    },
    {
     "name": "stderr",
     "output_type": "stream",
     "text": [
      "100%|████████████████████████████████████████████████████████| 200/200 [00:13<00:00, 14.94it/s]\n"
     ]
    },
    {
     "name": "stdout",
     "output_type": "stream",
     "text": [
      "Epoch 6, Loss: 0.7926535812020302\n",
      "[SYST] Epoch 6\n"
     ]
    },
    {
     "name": "stderr",
     "output_type": "stream",
     "text": [
      "100%|████████████████████████████████████████████████████████| 200/200 [00:13<00:00, 14.92it/s]\n"
     ]
    },
    {
     "name": "stdout",
     "output_type": "stream",
     "text": [
      "Epoch 7, Loss: 0.7922663927078247\n",
      "[SYST] Epoch 7\n"
     ]
    },
    {
     "name": "stderr",
     "output_type": "stream",
     "text": [
      "100%|████████████████████████████████████████████████████████| 200/200 [00:13<00:00, 14.94it/s]\n"
     ]
    },
    {
     "name": "stdout",
     "output_type": "stream",
     "text": [
      "Epoch 8, Loss: 0.7920204314589501\n",
      "[SYST] Epoch 8\n"
     ]
    },
    {
     "name": "stderr",
     "output_type": "stream",
     "text": [
      "100%|████████████████████████████████████████████████████████| 200/200 [00:13<00:00, 14.87it/s]\n"
     ]
    },
    {
     "name": "stdout",
     "output_type": "stream",
     "text": [
      "Epoch 9, Loss: 0.7920019546151161\n",
      "[SYST] Epoch 9\n"
     ]
    },
    {
     "name": "stderr",
     "output_type": "stream",
     "text": [
      "100%|████████████████████████████████████████████████████████| 200/200 [00:13<00:00, 14.40it/s]\n"
     ]
    },
    {
     "name": "stdout",
     "output_type": "stream",
     "text": [
      "Epoch 10, Loss: 0.7921586227416992\n",
      "[SYST] Epoch 0\n"
     ]
    },
    {
     "name": "stderr",
     "output_type": "stream",
     "text": [
      "100%|████████████████████████████████████████████████████████████| 2/2 [00:00<00:00, 15.72it/s]\n"
     ]
    },
    {
     "name": "stdout",
     "output_type": "stream",
     "text": [
      "Test Accuracy: 88.22%\n",
      "[{'accuracy': 0.9989, 'Layer1': {'[[0, 1, 2, 3, 4, 5, 6, 7], [8, 9, 10, 11, 12, 13, 14, 15]]': 0.960625, '[[0, 1], [2, 3]]': 0.8984375, '[[0], [1]]': 0.87734375}, 'Layer2': {'[[0, 1, 2, 3, 4, 5, 6, 7], [8, 9, 10, 11, 12, 13, 14, 15]]': 0.633046875, '[[0, 1], [2, 3]]': 0.767265625, '[[0], [1]]': 0.623515625}, 'Layer3': {'[[0, 1, 2, 3, 4, 5, 6, 7], [8, 9, 10, 11, 12, 13, 14, 15]]': 0.562578125, '[[0, 1], [2, 3]]': 0.631953125, '[[0], [1]]': 0.627265625}}, {'accuracy': 0.998, 'Layer1': {'[[0, 1, 2, 3, 4, 5, 6, 7], [8, 9, 10, 11, 12, 13, 14, 15]]': 0.885390625, '[[0, 1], [2, 3]]': 0.808515625, '[[0], [1]]': 0.806796875}, 'Layer2': {'[[0, 1, 2, 3, 4, 5, 6, 7], [8, 9, 10, 11, 12, 13, 14, 15]]': 0.558359375, '[[0, 1], [2, 3]]': 0.547109375, '[[0], [1]]': 0.475}, 'Layer3': {'[[0, 1, 2, 3, 4, 5, 6, 7], [8, 9, 10, 11, 12, 13, 14, 15]]': 0.61296875, '[[0, 1], [2, 3]]': 0.64421875, '[[0], [1]]': 0.6378125}}, {'accuracy': 0.9988, 'Layer1': {'[[0, 1, 2, 3, 4, 5, 6, 7], [8, 9, 10, 11, 12, 13, 14, 15]]': 0.945234375, '[[0, 1], [2, 3]]': 0.87828125, '[[0], [1]]': 0.847109375}, 'Layer2': {'[[0, 1, 2, 3, 4, 5, 6, 7], [8, 9, 10, 11, 12, 13, 14, 15]]': 0.91125, '[[0, 1], [2, 3]]': 0.86890625, '[[0], [1]]': 0.823984375}, 'Layer3': {'[[0, 1, 2, 3, 4, 5, 6, 7], [8, 9, 10, 11, 12, 13, 14, 15]]': 0.6046875, '[[0, 1], [2, 3]]': 0.63546875, '[[0], [1]]': 0.625390625}}, {'accuracy': 0.9989, 'Layer1': {'[[0, 1, 2, 3, 4, 5, 6, 7], [8, 9, 10, 11, 12, 13, 14, 15]]': 0.892734375, '[[0, 1], [2, 3]]': 0.8578125, '[[0], [1]]': 0.835078125}, 'Layer2': {'[[0, 1, 2, 3, 4, 5, 6, 7], [8, 9, 10, 11, 12, 13, 14, 15]]': 0.65078125, '[[0, 1], [2, 3]]': 0.619921875, '[[0], [1]]': 0.60828125}, 'Layer3': {'[[0, 1, 2, 3, 4, 5, 6, 7], [8, 9, 10, 11, 12, 13, 14, 15]]': 0.631171875, '[[0, 1], [2, 3]]': 0.664609375, '[[0], [1]]': 0.66453125}}, {'accuracy': 0.9974, 'Layer1': {'[[0, 1, 2, 3, 4, 5, 6, 7], [8, 9, 10, 11, 12, 13, 14, 15]]': 0.946875, '[[0, 1], [2, 3]]': 0.8821875}}]\n",
      "Layer1 : [[0], [1]]\n",
      "restructuring\n"
     ]
    },
    {
     "name": "stderr",
     "output_type": "stream",
     "text": [
      "100%|█████████████████████████████████████████████| 1280000/1280000 [00:27<00:00, 47406.98it/s]\n"
     ]
    },
    {
     "name": "stdout",
     "output_type": "stream",
     "text": [
      "restructuring\n"
     ]
    },
    {
     "name": "stderr",
     "output_type": "stream",
     "text": [
      "100%|█████████████████████████████████████████████████| 12800/12800 [00:00<00:00, 34105.40it/s]\n"
     ]
    },
    {
     "name": "stdout",
     "output_type": "stream",
     "text": [
      "[SYST] Prepare Data\n"
     ]
    },
    {
     "name": "stderr",
     "output_type": "stream",
     "text": [
      "100%|█████████████████████████████████████████████| 1280000/1280000 [00:19<00:00, 65298.44it/s]\n"
     ]
    },
    {
     "name": "stdout",
     "output_type": "stream",
     "text": [
      "[SYST] Prepare Data\n"
     ]
    },
    {
     "name": "stderr",
     "output_type": "stream",
     "text": [
      "100%|█████████████████████████████████████████████████| 12800/12800 [00:00<00:00, 18551.63it/s]\n"
     ]
    },
    {
     "name": "stdout",
     "output_type": "stream",
     "text": [
      "[SYST] Epoch 0\n"
     ]
    },
    {
     "name": "stderr",
     "output_type": "stream",
     "text": [
      "100%|████████████████████████████████████████████████████████| 200/200 [00:14<00:00, 13.44it/s]\n"
     ]
    },
    {
     "name": "stdout",
     "output_type": "stream",
     "text": [
      "Epoch 1, Loss: 5.273021335601807\n",
      "[SYST] Epoch 1\n"
     ]
    },
    {
     "name": "stderr",
     "output_type": "stream",
     "text": [
      "100%|████████████████████████████████████████████████████████| 200/200 [00:14<00:00, 13.41it/s]\n"
     ]
    },
    {
     "name": "stdout",
     "output_type": "stream",
     "text": [
      "Epoch 2, Loss: 4.48890408039093\n",
      "[SYST] Epoch 2\n"
     ]
    },
    {
     "name": "stderr",
     "output_type": "stream",
     "text": [
      "100%|████████████████████████████████████████████████████████| 200/200 [00:14<00:00, 13.70it/s]\n"
     ]
    },
    {
     "name": "stdout",
     "output_type": "stream",
     "text": [
      "Epoch 3, Loss: 4.009258215427399\n",
      "[SYST] Epoch 3\n"
     ]
    },
    {
     "name": "stderr",
     "output_type": "stream",
     "text": [
      "100%|████████████████████████████████████████████████████████| 200/200 [00:13<00:00, 14.42it/s]\n"
     ]
    },
    {
     "name": "stdout",
     "output_type": "stream",
     "text": [
      "Epoch 4, Loss: 3.929028353691101\n",
      "[SYST] Epoch 4\n"
     ]
    },
    {
     "name": "stderr",
     "output_type": "stream",
     "text": [
      "100%|████████████████████████████████████████████████████████| 200/200 [00:13<00:00, 14.87it/s]\n"
     ]
    },
    {
     "name": "stdout",
     "output_type": "stream",
     "text": [
      "Epoch 5, Loss: 3.918257668018341\n",
      "[SYST] Epoch 5\n"
     ]
    },
    {
     "name": "stderr",
     "output_type": "stream",
     "text": [
      "100%|████████████████████████████████████████████████████████| 200/200 [00:13<00:00, 14.80it/s]\n"
     ]
    },
    {
     "name": "stdout",
     "output_type": "stream",
     "text": [
      "Epoch 6, Loss: 3.903422110080719\n",
      "[SYST] Epoch 6\n"
     ]
    },
    {
     "name": "stderr",
     "output_type": "stream",
     "text": [
      "100%|████████████████████████████████████████████████████████| 200/200 [00:13<00:00, 14.65it/s]\n"
     ]
    },
    {
     "name": "stdout",
     "output_type": "stream",
     "text": [
      "Epoch 7, Loss: 3.8878015899658203\n",
      "[SYST] Epoch 7\n"
     ]
    },
    {
     "name": "stderr",
     "output_type": "stream",
     "text": [
      "100%|████████████████████████████████████████████████████████| 200/200 [00:15<00:00, 13.12it/s]\n"
     ]
    },
    {
     "name": "stdout",
     "output_type": "stream",
     "text": [
      "Epoch 8, Loss: 3.879633182287216\n",
      "[SYST] Epoch 8\n"
     ]
    },
    {
     "name": "stderr",
     "output_type": "stream",
     "text": [
      "100%|████████████████████████████████████████████████████████| 200/200 [00:14<00:00, 13.55it/s]\n"
     ]
    },
    {
     "name": "stdout",
     "output_type": "stream",
     "text": [
      "Epoch 9, Loss: 3.8764418184757234\n",
      "[SYST] Epoch 9\n"
     ]
    },
    {
     "name": "stderr",
     "output_type": "stream",
     "text": [
      "100%|████████████████████████████████████████████████████████| 200/200 [00:13<00:00, 14.57it/s]\n"
     ]
    },
    {
     "name": "stdout",
     "output_type": "stream",
     "text": [
      "Epoch 10, Loss: 3.875311954021454\n",
      "[SYST] Epoch 0\n"
     ]
    },
    {
     "name": "stderr",
     "output_type": "stream",
     "text": [
      "100%|████████████████████████████████████████████████████████████| 2/2 [00:00<00:00, 14.44it/s]\n"
     ]
    },
    {
     "name": "stdout",
     "output_type": "stream",
     "text": [
      "Test Accuracy: 55.38%\n",
      "[{'accuracy': 0.9989, 'Layer1': {'[[0, 1, 2, 3, 4, 5, 6, 7], [8, 9, 10, 11, 12, 13, 14, 15]]': 0.960625, '[[0, 1], [2, 3]]': 0.8984375, '[[0], [1]]': 0.87734375}, 'Layer2': {'[[0, 1, 2, 3, 4, 5, 6, 7], [8, 9, 10, 11, 12, 13, 14, 15]]': 0.633046875, '[[0, 1], [2, 3]]': 0.767265625, '[[0], [1]]': 0.623515625}, 'Layer3': {'[[0, 1, 2, 3, 4, 5, 6, 7], [8, 9, 10, 11, 12, 13, 14, 15]]': 0.562578125, '[[0, 1], [2, 3]]': 0.631953125, '[[0], [1]]': 0.627265625}}, {'accuracy': 0.998, 'Layer1': {'[[0, 1, 2, 3, 4, 5, 6, 7], [8, 9, 10, 11, 12, 13, 14, 15]]': 0.885390625, '[[0, 1], [2, 3]]': 0.808515625, '[[0], [1]]': 0.806796875}, 'Layer2': {'[[0, 1, 2, 3, 4, 5, 6, 7], [8, 9, 10, 11, 12, 13, 14, 15]]': 0.558359375, '[[0, 1], [2, 3]]': 0.547109375, '[[0], [1]]': 0.475}, 'Layer3': {'[[0, 1, 2, 3, 4, 5, 6, 7], [8, 9, 10, 11, 12, 13, 14, 15]]': 0.61296875, '[[0, 1], [2, 3]]': 0.64421875, '[[0], [1]]': 0.6378125}}, {'accuracy': 0.9988, 'Layer1': {'[[0, 1, 2, 3, 4, 5, 6, 7], [8, 9, 10, 11, 12, 13, 14, 15]]': 0.945234375, '[[0, 1], [2, 3]]': 0.87828125, '[[0], [1]]': 0.847109375}, 'Layer2': {'[[0, 1, 2, 3, 4, 5, 6, 7], [8, 9, 10, 11, 12, 13, 14, 15]]': 0.91125, '[[0, 1], [2, 3]]': 0.86890625, '[[0], [1]]': 0.823984375}, 'Layer3': {'[[0, 1, 2, 3, 4, 5, 6, 7], [8, 9, 10, 11, 12, 13, 14, 15]]': 0.6046875, '[[0, 1], [2, 3]]': 0.63546875, '[[0], [1]]': 0.625390625}}, {'accuracy': 0.9989, 'Layer1': {'[[0, 1, 2, 3, 4, 5, 6, 7], [8, 9, 10, 11, 12, 13, 14, 15]]': 0.892734375, '[[0, 1], [2, 3]]': 0.8578125, '[[0], [1]]': 0.835078125}, 'Layer2': {'[[0, 1, 2, 3, 4, 5, 6, 7], [8, 9, 10, 11, 12, 13, 14, 15]]': 0.65078125, '[[0, 1], [2, 3]]': 0.619921875, '[[0], [1]]': 0.60828125}, 'Layer3': {'[[0, 1, 2, 3, 4, 5, 6, 7], [8, 9, 10, 11, 12, 13, 14, 15]]': 0.631171875, '[[0, 1], [2, 3]]': 0.664609375, '[[0], [1]]': 0.66453125}}, {'accuracy': 0.9974, 'Layer1': {'[[0, 1, 2, 3, 4, 5, 6, 7], [8, 9, 10, 11, 12, 13, 14, 15]]': 0.946875, '[[0, 1], [2, 3]]': 0.8821875, '[[0], [1]]': 0.55375}}]\n",
      "Layer2 : [[0, 1, 2, 3, 4, 5, 6, 7], [8, 9, 10, 11, 12, 13, 14, 15]]\n",
      "restructuring\n"
     ]
    },
    {
     "name": "stderr",
     "output_type": "stream",
     "text": [
      "100%|█████████████████████████████████████████████| 1280000/1280000 [00:26<00:00, 47668.75it/s]\n"
     ]
    },
    {
     "name": "stdout",
     "output_type": "stream",
     "text": [
      "restructuring\n"
     ]
    },
    {
     "name": "stderr",
     "output_type": "stream",
     "text": [
      "100%|█████████████████████████████████████████████████| 12800/12800 [00:00<00:00, 34043.21it/s]\n"
     ]
    },
    {
     "name": "stdout",
     "output_type": "stream",
     "text": [
      "[SYST] Prepare Data\n"
     ]
    },
    {
     "name": "stderr",
     "output_type": "stream",
     "text": [
      "100%|█████████████████████████████████████████████| 1280000/1280000 [00:21<00:00, 60361.96it/s]\n"
     ]
    },
    {
     "name": "stdout",
     "output_type": "stream",
     "text": [
      "[SYST] Prepare Data\n"
     ]
    },
    {
     "name": "stderr",
     "output_type": "stream",
     "text": [
      "100%|█████████████████████████████████████████████████| 12800/12800 [00:00<00:00, 18635.61it/s]\n"
     ]
    },
    {
     "name": "stdout",
     "output_type": "stream",
     "text": [
      "[SYST] Epoch 0\n"
     ]
    },
    {
     "name": "stderr",
     "output_type": "stream",
     "text": [
      "100%|████████████████████████████████████████████████████████| 200/200 [00:13<00:00, 14.40it/s]\n"
     ]
    },
    {
     "name": "stdout",
     "output_type": "stream",
     "text": [
      "Epoch 1, Loss: 5.0932107615470885\n",
      "[SYST] Epoch 1\n"
     ]
    },
    {
     "name": "stderr",
     "output_type": "stream",
     "text": [
      "100%|████████████████████████████████████████████████████████| 200/200 [00:13<00:00, 14.81it/s]\n"
     ]
    },
    {
     "name": "stdout",
     "output_type": "stream",
     "text": [
      "Epoch 2, Loss: 3.7820382583141328\n",
      "[SYST] Epoch 2\n"
     ]
    },
    {
     "name": "stderr",
     "output_type": "stream",
     "text": [
      "100%|████████████████████████████████████████████████████████| 200/200 [00:13<00:00, 14.80it/s]\n"
     ]
    },
    {
     "name": "stdout",
     "output_type": "stream",
     "text": [
      "Epoch 3, Loss: 3.2497825062274934\n",
      "[SYST] Epoch 3\n"
     ]
    },
    {
     "name": "stderr",
     "output_type": "stream",
     "text": [
      "100%|████████████████████████████████████████████████████████| 200/200 [00:13<00:00, 14.31it/s]\n"
     ]
    },
    {
     "name": "stdout",
     "output_type": "stream",
     "text": [
      "Epoch 4, Loss: 3.05197412610054\n",
      "[SYST] Epoch 4\n"
     ]
    },
    {
     "name": "stderr",
     "output_type": "stream",
     "text": [
      "100%|████████████████████████████████████████████████████████| 200/200 [00:14<00:00, 14.24it/s]\n"
     ]
    },
    {
     "name": "stdout",
     "output_type": "stream",
     "text": [
      "Epoch 5, Loss: 3.0001117992401123\n",
      "[SYST] Epoch 5\n"
     ]
    },
    {
     "name": "stderr",
     "output_type": "stream",
     "text": [
      "100%|████████████████████████████████████████████████████████| 200/200 [00:13<00:00, 14.55it/s]\n"
     ]
    },
    {
     "name": "stdout",
     "output_type": "stream",
     "text": [
      "Epoch 6, Loss: 2.9823541820049284\n",
      "[SYST] Epoch 6\n"
     ]
    },
    {
     "name": "stderr",
     "output_type": "stream",
     "text": [
      "100%|████████████████████████████████████████████████████████| 200/200 [00:13<00:00, 14.68it/s]\n"
     ]
    },
    {
     "name": "stdout",
     "output_type": "stream",
     "text": [
      "Epoch 7, Loss: 2.9724824941158294\n",
      "[SYST] Epoch 7\n"
     ]
    },
    {
     "name": "stderr",
     "output_type": "stream",
     "text": [
      "100%|████████████████████████████████████████████████████████| 200/200 [00:14<00:00, 14.13it/s]\n"
     ]
    },
    {
     "name": "stdout",
     "output_type": "stream",
     "text": [
      "Epoch 8, Loss: 2.965681841373444\n",
      "[SYST] Epoch 8\n"
     ]
    },
    {
     "name": "stderr",
     "output_type": "stream",
     "text": [
      "100%|████████████████████████████████████████████████████████| 200/200 [00:13<00:00, 14.58it/s]\n"
     ]
    },
    {
     "name": "stdout",
     "output_type": "stream",
     "text": [
      "Epoch 9, Loss: 2.9599413442611695\n",
      "[SYST] Epoch 9\n"
     ]
    },
    {
     "name": "stderr",
     "output_type": "stream",
     "text": [
      "100%|████████████████████████████████████████████████████████| 200/200 [00:14<00:00, 14.28it/s]\n"
     ]
    },
    {
     "name": "stdout",
     "output_type": "stream",
     "text": [
      "Epoch 10, Loss: 2.955307968854904\n",
      "[SYST] Epoch 0\n"
     ]
    },
    {
     "name": "stderr",
     "output_type": "stream",
     "text": [
      "100%|████████████████████████████████████████████████████████████| 2/2 [00:00<00:00, 16.16it/s]\n"
     ]
    },
    {
     "name": "stdout",
     "output_type": "stream",
     "text": [
      "Test Accuracy: 68.89%\n",
      "[{'accuracy': 0.9989, 'Layer1': {'[[0, 1, 2, 3, 4, 5, 6, 7], [8, 9, 10, 11, 12, 13, 14, 15]]': 0.960625, '[[0, 1], [2, 3]]': 0.8984375, '[[0], [1]]': 0.87734375}, 'Layer2': {'[[0, 1, 2, 3, 4, 5, 6, 7], [8, 9, 10, 11, 12, 13, 14, 15]]': 0.633046875, '[[0, 1], [2, 3]]': 0.767265625, '[[0], [1]]': 0.623515625}, 'Layer3': {'[[0, 1, 2, 3, 4, 5, 6, 7], [8, 9, 10, 11, 12, 13, 14, 15]]': 0.562578125, '[[0, 1], [2, 3]]': 0.631953125, '[[0], [1]]': 0.627265625}}, {'accuracy': 0.998, 'Layer1': {'[[0, 1, 2, 3, 4, 5, 6, 7], [8, 9, 10, 11, 12, 13, 14, 15]]': 0.885390625, '[[0, 1], [2, 3]]': 0.808515625, '[[0], [1]]': 0.806796875}, 'Layer2': {'[[0, 1, 2, 3, 4, 5, 6, 7], [8, 9, 10, 11, 12, 13, 14, 15]]': 0.558359375, '[[0, 1], [2, 3]]': 0.547109375, '[[0], [1]]': 0.475}, 'Layer3': {'[[0, 1, 2, 3, 4, 5, 6, 7], [8, 9, 10, 11, 12, 13, 14, 15]]': 0.61296875, '[[0, 1], [2, 3]]': 0.64421875, '[[0], [1]]': 0.6378125}}, {'accuracy': 0.9988, 'Layer1': {'[[0, 1, 2, 3, 4, 5, 6, 7], [8, 9, 10, 11, 12, 13, 14, 15]]': 0.945234375, '[[0, 1], [2, 3]]': 0.87828125, '[[0], [1]]': 0.847109375}, 'Layer2': {'[[0, 1, 2, 3, 4, 5, 6, 7], [8, 9, 10, 11, 12, 13, 14, 15]]': 0.91125, '[[0, 1], [2, 3]]': 0.86890625, '[[0], [1]]': 0.823984375}, 'Layer3': {'[[0, 1, 2, 3, 4, 5, 6, 7], [8, 9, 10, 11, 12, 13, 14, 15]]': 0.6046875, '[[0, 1], [2, 3]]': 0.63546875, '[[0], [1]]': 0.625390625}}, {'accuracy': 0.9989, 'Layer1': {'[[0, 1, 2, 3, 4, 5, 6, 7], [8, 9, 10, 11, 12, 13, 14, 15]]': 0.892734375, '[[0, 1], [2, 3]]': 0.8578125, '[[0], [1]]': 0.835078125}, 'Layer2': {'[[0, 1, 2, 3, 4, 5, 6, 7], [8, 9, 10, 11, 12, 13, 14, 15]]': 0.65078125, '[[0, 1], [2, 3]]': 0.619921875, '[[0], [1]]': 0.60828125}, 'Layer3': {'[[0, 1, 2, 3, 4, 5, 6, 7], [8, 9, 10, 11, 12, 13, 14, 15]]': 0.631171875, '[[0, 1], [2, 3]]': 0.664609375, '[[0], [1]]': 0.66453125}}, {'accuracy': 0.9974, 'Layer1': {'[[0, 1, 2, 3, 4, 5, 6, 7], [8, 9, 10, 11, 12, 13, 14, 15]]': 0.946875, '[[0, 1], [2, 3]]': 0.8821875, '[[0], [1]]': 0.55375}, 'Layer2': {'[[0, 1, 2, 3, 4, 5, 6, 7], [8, 9, 10, 11, 12, 13, 14, 15]]': 0.68890625}}]\n",
      "Layer2 : [[0, 1], [2, 3]]\n",
      "restructuring\n"
     ]
    },
    {
     "name": "stderr",
     "output_type": "stream",
     "text": [
      "100%|█████████████████████████████████████████████| 1280000/1280000 [00:26<00:00, 47475.86it/s]\n"
     ]
    },
    {
     "name": "stdout",
     "output_type": "stream",
     "text": [
      "restructuring\n"
     ]
    },
    {
     "name": "stderr",
     "output_type": "stream",
     "text": [
      "100%|█████████████████████████████████████████████████| 12800/12800 [00:00<00:00, 34029.57it/s]\n"
     ]
    },
    {
     "name": "stdout",
     "output_type": "stream",
     "text": [
      "[SYST] Prepare Data\n"
     ]
    },
    {
     "name": "stderr",
     "output_type": "stream",
     "text": [
      "100%|█████████████████████████████████████████████| 1280000/1280000 [00:13<00:00, 94099.27it/s]\n"
     ]
    },
    {
     "name": "stdout",
     "output_type": "stream",
     "text": [
      "[SYST] Prepare Data\n"
     ]
    },
    {
     "name": "stderr",
     "output_type": "stream",
     "text": [
      "100%|█████████████████████████████████████████████████| 12800/12800 [00:00<00:00, 18785.50it/s]\n"
     ]
    },
    {
     "name": "stdout",
     "output_type": "stream",
     "text": [
      "[SYST] Epoch 0\n"
     ]
    },
    {
     "name": "stderr",
     "output_type": "stream",
     "text": [
      "100%|████████████████████████████████████████████████████████| 200/200 [00:13<00:00, 14.97it/s]\n"
     ]
    },
    {
     "name": "stdout",
     "output_type": "stream",
     "text": [
      "Epoch 1, Loss: 5.291518416404724\n",
      "[SYST] Epoch 1\n"
     ]
    },
    {
     "name": "stderr",
     "output_type": "stream",
     "text": [
      "100%|████████████████████████████████████████████████████████| 200/200 [00:13<00:00, 14.89it/s]\n"
     ]
    },
    {
     "name": "stdout",
     "output_type": "stream",
     "text": [
      "Epoch 2, Loss: 4.059922307729721\n",
      "[SYST] Epoch 2\n"
     ]
    },
    {
     "name": "stderr",
     "output_type": "stream",
     "text": [
      "100%|████████████████████████████████████████████████████████| 200/200 [00:13<00:00, 14.72it/s]\n"
     ]
    },
    {
     "name": "stdout",
     "output_type": "stream",
     "text": [
      "Epoch 3, Loss: 3.720995314121246\n",
      "[SYST] Epoch 3\n"
     ]
    },
    {
     "name": "stderr",
     "output_type": "stream",
     "text": [
      "100%|████████████████████████████████████████████████████████| 200/200 [00:13<00:00, 14.78it/s]\n"
     ]
    },
    {
     "name": "stdout",
     "output_type": "stream",
     "text": [
      "Epoch 4, Loss: 3.5795836555957794\n",
      "[SYST] Epoch 4\n"
     ]
    },
    {
     "name": "stderr",
     "output_type": "stream",
     "text": [
      "100%|████████████████████████████████████████████████████████| 200/200 [00:13<00:00, 14.85it/s]\n"
     ]
    },
    {
     "name": "stdout",
     "output_type": "stream",
     "text": [
      "Epoch 5, Loss: 3.474389697313309\n",
      "[SYST] Epoch 5\n"
     ]
    },
    {
     "name": "stderr",
     "output_type": "stream",
     "text": [
      "100%|████████████████████████████████████████████████████████| 200/200 [00:13<00:00, 14.71it/s]\n"
     ]
    },
    {
     "name": "stdout",
     "output_type": "stream",
     "text": [
      "Epoch 6, Loss: 3.41475900053978\n",
      "[SYST] Epoch 6\n"
     ]
    },
    {
     "name": "stderr",
     "output_type": "stream",
     "text": [
      "100%|████████████████████████████████████████████████████████| 200/200 [00:13<00:00, 14.78it/s]\n"
     ]
    },
    {
     "name": "stdout",
     "output_type": "stream",
     "text": [
      "Epoch 7, Loss: 3.3886093270778654\n",
      "[SYST] Epoch 7\n"
     ]
    },
    {
     "name": "stderr",
     "output_type": "stream",
     "text": [
      "100%|████████████████████████████████████████████████████████| 200/200 [00:13<00:00, 14.71it/s]\n"
     ]
    },
    {
     "name": "stdout",
     "output_type": "stream",
     "text": [
      "Epoch 8, Loss: 3.378091118335724\n",
      "[SYST] Epoch 8\n"
     ]
    },
    {
     "name": "stderr",
     "output_type": "stream",
     "text": [
      "100%|████████████████████████████████████████████████████████| 200/200 [00:13<00:00, 14.70it/s]\n"
     ]
    },
    {
     "name": "stdout",
     "output_type": "stream",
     "text": [
      "Epoch 9, Loss: 3.374398726224899\n",
      "[SYST] Epoch 9\n"
     ]
    },
    {
     "name": "stderr",
     "output_type": "stream",
     "text": [
      "100%|████████████████████████████████████████████████████████| 200/200 [00:15<00:00, 13.24it/s]\n"
     ]
    },
    {
     "name": "stdout",
     "output_type": "stream",
     "text": [
      "Epoch 10, Loss: 3.3729921329021453\n",
      "[SYST] Epoch 0\n"
     ]
    },
    {
     "name": "stderr",
     "output_type": "stream",
     "text": [
      "100%|████████████████████████████████████████████████████████████| 2/2 [00:00<00:00, 14.36it/s]\n"
     ]
    },
    {
     "name": "stdout",
     "output_type": "stream",
     "text": [
      "Test Accuracy: 56.16%\n",
      "[{'accuracy': 0.9989, 'Layer1': {'[[0, 1, 2, 3, 4, 5, 6, 7], [8, 9, 10, 11, 12, 13, 14, 15]]': 0.960625, '[[0, 1], [2, 3]]': 0.8984375, '[[0], [1]]': 0.87734375}, 'Layer2': {'[[0, 1, 2, 3, 4, 5, 6, 7], [8, 9, 10, 11, 12, 13, 14, 15]]': 0.633046875, '[[0, 1], [2, 3]]': 0.767265625, '[[0], [1]]': 0.623515625}, 'Layer3': {'[[0, 1, 2, 3, 4, 5, 6, 7], [8, 9, 10, 11, 12, 13, 14, 15]]': 0.562578125, '[[0, 1], [2, 3]]': 0.631953125, '[[0], [1]]': 0.627265625}}, {'accuracy': 0.998, 'Layer1': {'[[0, 1, 2, 3, 4, 5, 6, 7], [8, 9, 10, 11, 12, 13, 14, 15]]': 0.885390625, '[[0, 1], [2, 3]]': 0.808515625, '[[0], [1]]': 0.806796875}, 'Layer2': {'[[0, 1, 2, 3, 4, 5, 6, 7], [8, 9, 10, 11, 12, 13, 14, 15]]': 0.558359375, '[[0, 1], [2, 3]]': 0.547109375, '[[0], [1]]': 0.475}, 'Layer3': {'[[0, 1, 2, 3, 4, 5, 6, 7], [8, 9, 10, 11, 12, 13, 14, 15]]': 0.61296875, '[[0, 1], [2, 3]]': 0.64421875, '[[0], [1]]': 0.6378125}}, {'accuracy': 0.9988, 'Layer1': {'[[0, 1, 2, 3, 4, 5, 6, 7], [8, 9, 10, 11, 12, 13, 14, 15]]': 0.945234375, '[[0, 1], [2, 3]]': 0.87828125, '[[0], [1]]': 0.847109375}, 'Layer2': {'[[0, 1, 2, 3, 4, 5, 6, 7], [8, 9, 10, 11, 12, 13, 14, 15]]': 0.91125, '[[0, 1], [2, 3]]': 0.86890625, '[[0], [1]]': 0.823984375}, 'Layer3': {'[[0, 1, 2, 3, 4, 5, 6, 7], [8, 9, 10, 11, 12, 13, 14, 15]]': 0.6046875, '[[0, 1], [2, 3]]': 0.63546875, '[[0], [1]]': 0.625390625}}, {'accuracy': 0.9989, 'Layer1': {'[[0, 1, 2, 3, 4, 5, 6, 7], [8, 9, 10, 11, 12, 13, 14, 15]]': 0.892734375, '[[0, 1], [2, 3]]': 0.8578125, '[[0], [1]]': 0.835078125}, 'Layer2': {'[[0, 1, 2, 3, 4, 5, 6, 7], [8, 9, 10, 11, 12, 13, 14, 15]]': 0.65078125, '[[0, 1], [2, 3]]': 0.619921875, '[[0], [1]]': 0.60828125}, 'Layer3': {'[[0, 1, 2, 3, 4, 5, 6, 7], [8, 9, 10, 11, 12, 13, 14, 15]]': 0.631171875, '[[0, 1], [2, 3]]': 0.664609375, '[[0], [1]]': 0.66453125}}, {'accuracy': 0.9974, 'Layer1': {'[[0, 1, 2, 3, 4, 5, 6, 7], [8, 9, 10, 11, 12, 13, 14, 15]]': 0.946875, '[[0, 1], [2, 3]]': 0.8821875, '[[0], [1]]': 0.55375}, 'Layer2': {'[[0, 1, 2, 3, 4, 5, 6, 7], [8, 9, 10, 11, 12, 13, 14, 15]]': 0.68890625, '[[0, 1], [2, 3]]': 0.561640625}}]\n",
      "Layer2 : [[0], [1]]\n",
      "restructuring\n"
     ]
    },
    {
     "name": "stderr",
     "output_type": "stream",
     "text": [
      "100%|█████████████████████████████████████████████| 1280000/1280000 [00:26<00:00, 47440.92it/s]\n"
     ]
    },
    {
     "name": "stdout",
     "output_type": "stream",
     "text": [
      "restructuring\n"
     ]
    },
    {
     "name": "stderr",
     "output_type": "stream",
     "text": [
      "100%|█████████████████████████████████████████████████| 12800/12800 [00:00<00:00, 33497.51it/s]\n"
     ]
    },
    {
     "name": "stdout",
     "output_type": "stream",
     "text": [
      "[SYST] Prepare Data\n"
     ]
    },
    {
     "name": "stderr",
     "output_type": "stream",
     "text": [
      "100%|█████████████████████████████████████████████| 1280000/1280000 [00:20<00:00, 63699.43it/s]\n"
     ]
    },
    {
     "name": "stdout",
     "output_type": "stream",
     "text": [
      "[SYST] Prepare Data\n"
     ]
    },
    {
     "name": "stderr",
     "output_type": "stream",
     "text": [
      "100%|█████████████████████████████████████████████████| 12800/12800 [00:00<00:00, 18491.86it/s]\n"
     ]
    },
    {
     "name": "stdout",
     "output_type": "stream",
     "text": [
      "[SYST] Epoch 0\n"
     ]
    },
    {
     "name": "stderr",
     "output_type": "stream",
     "text": [
      "100%|████████████████████████████████████████████████████████| 200/200 [00:14<00:00, 13.51it/s]\n"
     ]
    },
    {
     "name": "stdout",
     "output_type": "stream",
     "text": [
      "Epoch 1, Loss: 5.395411469936371\n",
      "[SYST] Epoch 1\n"
     ]
    },
    {
     "name": "stderr",
     "output_type": "stream",
     "text": [
      "100%|████████████████████████████████████████████████████████| 200/200 [00:14<00:00, 13.52it/s]\n"
     ]
    },
    {
     "name": "stdout",
     "output_type": "stream",
     "text": [
      "Epoch 2, Loss: 4.734945764541626\n",
      "[SYST] Epoch 2\n"
     ]
    },
    {
     "name": "stderr",
     "output_type": "stream",
     "text": [
      "100%|████████████████████████████████████████████████████████| 200/200 [00:13<00:00, 14.29it/s]\n"
     ]
    },
    {
     "name": "stdout",
     "output_type": "stream",
     "text": [
      "Epoch 3, Loss: 4.4614333486557\n",
      "[SYST] Epoch 3\n"
     ]
    },
    {
     "name": "stderr",
     "output_type": "stream",
     "text": [
      "100%|████████████████████████████████████████████████████████| 200/200 [00:13<00:00, 14.76it/s]\n"
     ]
    },
    {
     "name": "stdout",
     "output_type": "stream",
     "text": [
      "Epoch 4, Loss: 4.37701753616333\n",
      "[SYST] Epoch 4\n"
     ]
    },
    {
     "name": "stderr",
     "output_type": "stream",
     "text": [
      "100%|████████████████████████████████████████████████████████| 200/200 [00:13<00:00, 14.84it/s]\n"
     ]
    },
    {
     "name": "stdout",
     "output_type": "stream",
     "text": [
      "Epoch 5, Loss: 4.320792692899704\n",
      "[SYST] Epoch 5\n"
     ]
    },
    {
     "name": "stderr",
     "output_type": "stream",
     "text": [
      "100%|████████████████████████████████████████████████████████| 200/200 [00:13<00:00, 14.93it/s]\n"
     ]
    },
    {
     "name": "stdout",
     "output_type": "stream",
     "text": [
      "Epoch 6, Loss: 4.267142832279205\n",
      "[SYST] Epoch 6\n"
     ]
    },
    {
     "name": "stderr",
     "output_type": "stream",
     "text": [
      "100%|████████████████████████████████████████████████████████| 200/200 [00:13<00:00, 14.61it/s]\n"
     ]
    },
    {
     "name": "stdout",
     "output_type": "stream",
     "text": [
      "Epoch 7, Loss: 4.225881907939911\n",
      "[SYST] Epoch 7\n"
     ]
    },
    {
     "name": "stderr",
     "output_type": "stream",
     "text": [
      "100%|████████████████████████████████████████████████████████| 200/200 [00:13<00:00, 14.89it/s]\n"
     ]
    },
    {
     "name": "stdout",
     "output_type": "stream",
     "text": [
      "Epoch 8, Loss: 4.203054232597351\n",
      "[SYST] Epoch 8\n"
     ]
    },
    {
     "name": "stderr",
     "output_type": "stream",
     "text": [
      "100%|████████████████████████████████████████████████████████| 200/200 [00:14<00:00, 13.37it/s]\n"
     ]
    },
    {
     "name": "stdout",
     "output_type": "stream",
     "text": [
      "Epoch 9, Loss: 4.190039057731628\n",
      "[SYST] Epoch 9\n"
     ]
    },
    {
     "name": "stderr",
     "output_type": "stream",
     "text": [
      "100%|████████████████████████████████████████████████████████| 200/200 [00:15<00:00, 13.28it/s]\n"
     ]
    },
    {
     "name": "stdout",
     "output_type": "stream",
     "text": [
      "Epoch 10, Loss: 4.181640858650208\n",
      "[SYST] Epoch 0\n"
     ]
    },
    {
     "name": "stderr",
     "output_type": "stream",
     "text": [
      "100%|████████████████████████████████████████████████████████████| 2/2 [00:00<00:00, 14.45it/s]\n"
     ]
    },
    {
     "name": "stdout",
     "output_type": "stream",
     "text": [
      "Test Accuracy: 52.09%\n",
      "[{'accuracy': 0.9989, 'Layer1': {'[[0, 1, 2, 3, 4, 5, 6, 7], [8, 9, 10, 11, 12, 13, 14, 15]]': 0.960625, '[[0, 1], [2, 3]]': 0.8984375, '[[0], [1]]': 0.87734375}, 'Layer2': {'[[0, 1, 2, 3, 4, 5, 6, 7], [8, 9, 10, 11, 12, 13, 14, 15]]': 0.633046875, '[[0, 1], [2, 3]]': 0.767265625, '[[0], [1]]': 0.623515625}, 'Layer3': {'[[0, 1, 2, 3, 4, 5, 6, 7], [8, 9, 10, 11, 12, 13, 14, 15]]': 0.562578125, '[[0, 1], [2, 3]]': 0.631953125, '[[0], [1]]': 0.627265625}}, {'accuracy': 0.998, 'Layer1': {'[[0, 1, 2, 3, 4, 5, 6, 7], [8, 9, 10, 11, 12, 13, 14, 15]]': 0.885390625, '[[0, 1], [2, 3]]': 0.808515625, '[[0], [1]]': 0.806796875}, 'Layer2': {'[[0, 1, 2, 3, 4, 5, 6, 7], [8, 9, 10, 11, 12, 13, 14, 15]]': 0.558359375, '[[0, 1], [2, 3]]': 0.547109375, '[[0], [1]]': 0.475}, 'Layer3': {'[[0, 1, 2, 3, 4, 5, 6, 7], [8, 9, 10, 11, 12, 13, 14, 15]]': 0.61296875, '[[0, 1], [2, 3]]': 0.64421875, '[[0], [1]]': 0.6378125}}, {'accuracy': 0.9988, 'Layer1': {'[[0, 1, 2, 3, 4, 5, 6, 7], [8, 9, 10, 11, 12, 13, 14, 15]]': 0.945234375, '[[0, 1], [2, 3]]': 0.87828125, '[[0], [1]]': 0.847109375}, 'Layer2': {'[[0, 1, 2, 3, 4, 5, 6, 7], [8, 9, 10, 11, 12, 13, 14, 15]]': 0.91125, '[[0, 1], [2, 3]]': 0.86890625, '[[0], [1]]': 0.823984375}, 'Layer3': {'[[0, 1, 2, 3, 4, 5, 6, 7], [8, 9, 10, 11, 12, 13, 14, 15]]': 0.6046875, '[[0, 1], [2, 3]]': 0.63546875, '[[0], [1]]': 0.625390625}}, {'accuracy': 0.9989, 'Layer1': {'[[0, 1, 2, 3, 4, 5, 6, 7], [8, 9, 10, 11, 12, 13, 14, 15]]': 0.892734375, '[[0, 1], [2, 3]]': 0.8578125, '[[0], [1]]': 0.835078125}, 'Layer2': {'[[0, 1, 2, 3, 4, 5, 6, 7], [8, 9, 10, 11, 12, 13, 14, 15]]': 0.65078125, '[[0, 1], [2, 3]]': 0.619921875, '[[0], [1]]': 0.60828125}, 'Layer3': {'[[0, 1, 2, 3, 4, 5, 6, 7], [8, 9, 10, 11, 12, 13, 14, 15]]': 0.631171875, '[[0, 1], [2, 3]]': 0.664609375, '[[0], [1]]': 0.66453125}}, {'accuracy': 0.9974, 'Layer1': {'[[0, 1, 2, 3, 4, 5, 6, 7], [8, 9, 10, 11, 12, 13, 14, 15]]': 0.946875, '[[0, 1], [2, 3]]': 0.8821875, '[[0], [1]]': 0.55375}, 'Layer2': {'[[0, 1, 2, 3, 4, 5, 6, 7], [8, 9, 10, 11, 12, 13, 14, 15]]': 0.68890625, '[[0, 1], [2, 3]]': 0.561640625, '[[0], [1]]': 0.5209375}}]\n",
      "Layer3 : [[0, 1, 2, 3, 4, 5, 6, 7], [8, 9, 10, 11, 12, 13, 14, 15]]\n",
      "restructuring\n"
     ]
    },
    {
     "name": "stderr",
     "output_type": "stream",
     "text": [
      "100%|█████████████████████████████████████████████| 1280000/1280000 [00:27<00:00, 47380.53it/s]\n"
     ]
    },
    {
     "name": "stdout",
     "output_type": "stream",
     "text": [
      "restructuring\n"
     ]
    },
    {
     "name": "stderr",
     "output_type": "stream",
     "text": [
      "100%|█████████████████████████████████████████████████| 12800/12800 [00:00<00:00, 34037.64it/s]\n"
     ]
    },
    {
     "name": "stdout",
     "output_type": "stream",
     "text": [
      "[SYST] Prepare Data\n"
     ]
    },
    {
     "name": "stderr",
     "output_type": "stream",
     "text": [
      "100%|█████████████████████████████████████████████| 1280000/1280000 [00:21<00:00, 60517.07it/s]\n"
     ]
    },
    {
     "name": "stdout",
     "output_type": "stream",
     "text": [
      "[SYST] Prepare Data\n"
     ]
    },
    {
     "name": "stderr",
     "output_type": "stream",
     "text": [
      "100%|█████████████████████████████████████████████████| 12800/12800 [00:00<00:00, 18570.35it/s]\n"
     ]
    },
    {
     "name": "stdout",
     "output_type": "stream",
     "text": [
      "[SYST] Epoch 0\n"
     ]
    },
    {
     "name": "stderr",
     "output_type": "stream",
     "text": [
      "100%|████████████████████████████████████████████████████████| 200/200 [00:14<00:00, 14.26it/s]\n"
     ]
    },
    {
     "name": "stdout",
     "output_type": "stream",
     "text": [
      "Epoch 1, Loss: 4.6518704175949095\n",
      "[SYST] Epoch 1\n"
     ]
    },
    {
     "name": "stderr",
     "output_type": "stream",
     "text": [
      "100%|████████████████████████████████████████████████████████| 200/200 [00:13<00:00, 14.81it/s]\n"
     ]
    },
    {
     "name": "stdout",
     "output_type": "stream",
     "text": [
      "Epoch 2, Loss: 4.612866518497467\n",
      "[SYST] Epoch 2\n"
     ]
    },
    {
     "name": "stderr",
     "output_type": "stream",
     "text": [
      "100%|████████████████████████████████████████████████████████| 200/200 [00:13<00:00, 14.36it/s]\n"
     ]
    },
    {
     "name": "stdout",
     "output_type": "stream",
     "text": [
      "Epoch 3, Loss: 4.610768604278564\n",
      "[SYST] Epoch 3\n"
     ]
    },
    {
     "name": "stderr",
     "output_type": "stream",
     "text": [
      "100%|████████████████████████████████████████████████████████| 200/200 [00:13<00:00, 14.83it/s]\n"
     ]
    },
    {
     "name": "stdout",
     "output_type": "stream",
     "text": [
      "Epoch 4, Loss: 4.610209901332855\n",
      "[SYST] Epoch 4\n"
     ]
    },
    {
     "name": "stderr",
     "output_type": "stream",
     "text": [
      "100%|████████████████████████████████████████████████████████| 200/200 [00:13<00:00, 14.84it/s]\n"
     ]
    },
    {
     "name": "stdout",
     "output_type": "stream",
     "text": [
      "Epoch 5, Loss: 4.609473674297333\n",
      "[SYST] Epoch 5\n"
     ]
    },
    {
     "name": "stderr",
     "output_type": "stream",
     "text": [
      "100%|████████████████████████████████████████████████████████| 200/200 [00:13<00:00, 14.39it/s]\n"
     ]
    },
    {
     "name": "stdout",
     "output_type": "stream",
     "text": [
      "Epoch 6, Loss: 4.609026753902436\n",
      "[SYST] Epoch 6\n"
     ]
    },
    {
     "name": "stderr",
     "output_type": "stream",
     "text": [
      "100%|████████████████████████████████████████████████████████| 200/200 [00:13<00:00, 14.80it/s]\n"
     ]
    },
    {
     "name": "stdout",
     "output_type": "stream",
     "text": [
      "Epoch 7, Loss: 4.608404409885407\n",
      "[SYST] Epoch 7\n"
     ]
    },
    {
     "name": "stderr",
     "output_type": "stream",
     "text": [
      "100%|████████████████████████████████████████████████████████| 200/200 [00:13<00:00, 14.36it/s]\n"
     ]
    },
    {
     "name": "stdout",
     "output_type": "stream",
     "text": [
      "Epoch 8, Loss: 4.608029277324676\n",
      "[SYST] Epoch 8\n"
     ]
    },
    {
     "name": "stderr",
     "output_type": "stream",
     "text": [
      "100%|████████████████████████████████████████████████████████| 200/200 [00:13<00:00, 14.89it/s]\n"
     ]
    },
    {
     "name": "stdout",
     "output_type": "stream",
     "text": [
      "Epoch 9, Loss: 4.607597680091858\n",
      "[SYST] Epoch 9\n"
     ]
    },
    {
     "name": "stderr",
     "output_type": "stream",
     "text": [
      "100%|████████████████████████████████████████████████████████| 200/200 [00:13<00:00, 14.32it/s]\n"
     ]
    },
    {
     "name": "stdout",
     "output_type": "stream",
     "text": [
      "Epoch 10, Loss: 4.607489140033722\n",
      "[SYST] Epoch 0\n"
     ]
    },
    {
     "name": "stderr",
     "output_type": "stream",
     "text": [
      "100%|████████████████████████████████████████████████████████████| 2/2 [00:00<00:00, 14.26it/s]\n"
     ]
    },
    {
     "name": "stdout",
     "output_type": "stream",
     "text": [
      "Test Accuracy: 61.40%\n",
      "[{'accuracy': 0.9989, 'Layer1': {'[[0, 1, 2, 3, 4, 5, 6, 7], [8, 9, 10, 11, 12, 13, 14, 15]]': 0.960625, '[[0, 1], [2, 3]]': 0.8984375, '[[0], [1]]': 0.87734375}, 'Layer2': {'[[0, 1, 2, 3, 4, 5, 6, 7], [8, 9, 10, 11, 12, 13, 14, 15]]': 0.633046875, '[[0, 1], [2, 3]]': 0.767265625, '[[0], [1]]': 0.623515625}, 'Layer3': {'[[0, 1, 2, 3, 4, 5, 6, 7], [8, 9, 10, 11, 12, 13, 14, 15]]': 0.562578125, '[[0, 1], [2, 3]]': 0.631953125, '[[0], [1]]': 0.627265625}}, {'accuracy': 0.998, 'Layer1': {'[[0, 1, 2, 3, 4, 5, 6, 7], [8, 9, 10, 11, 12, 13, 14, 15]]': 0.885390625, '[[0, 1], [2, 3]]': 0.808515625, '[[0], [1]]': 0.806796875}, 'Layer2': {'[[0, 1, 2, 3, 4, 5, 6, 7], [8, 9, 10, 11, 12, 13, 14, 15]]': 0.558359375, '[[0, 1], [2, 3]]': 0.547109375, '[[0], [1]]': 0.475}, 'Layer3': {'[[0, 1, 2, 3, 4, 5, 6, 7], [8, 9, 10, 11, 12, 13, 14, 15]]': 0.61296875, '[[0, 1], [2, 3]]': 0.64421875, '[[0], [1]]': 0.6378125}}, {'accuracy': 0.9988, 'Layer1': {'[[0, 1, 2, 3, 4, 5, 6, 7], [8, 9, 10, 11, 12, 13, 14, 15]]': 0.945234375, '[[0, 1], [2, 3]]': 0.87828125, '[[0], [1]]': 0.847109375}, 'Layer2': {'[[0, 1, 2, 3, 4, 5, 6, 7], [8, 9, 10, 11, 12, 13, 14, 15]]': 0.91125, '[[0, 1], [2, 3]]': 0.86890625, '[[0], [1]]': 0.823984375}, 'Layer3': {'[[0, 1, 2, 3, 4, 5, 6, 7], [8, 9, 10, 11, 12, 13, 14, 15]]': 0.6046875, '[[0, 1], [2, 3]]': 0.63546875, '[[0], [1]]': 0.625390625}}, {'accuracy': 0.9989, 'Layer1': {'[[0, 1, 2, 3, 4, 5, 6, 7], [8, 9, 10, 11, 12, 13, 14, 15]]': 0.892734375, '[[0, 1], [2, 3]]': 0.8578125, '[[0], [1]]': 0.835078125}, 'Layer2': {'[[0, 1, 2, 3, 4, 5, 6, 7], [8, 9, 10, 11, 12, 13, 14, 15]]': 0.65078125, '[[0, 1], [2, 3]]': 0.619921875, '[[0], [1]]': 0.60828125}, 'Layer3': {'[[0, 1, 2, 3, 4, 5, 6, 7], [8, 9, 10, 11, 12, 13, 14, 15]]': 0.631171875, '[[0, 1], [2, 3]]': 0.664609375, '[[0], [1]]': 0.66453125}}, {'accuracy': 0.9974, 'Layer1': {'[[0, 1, 2, 3, 4, 5, 6, 7], [8, 9, 10, 11, 12, 13, 14, 15]]': 0.946875, '[[0, 1], [2, 3]]': 0.8821875, '[[0], [1]]': 0.55375}, 'Layer2': {'[[0, 1, 2, 3, 4, 5, 6, 7], [8, 9, 10, 11, 12, 13, 14, 15]]': 0.68890625, '[[0, 1], [2, 3]]': 0.561640625, '[[0], [1]]': 0.5209375}, 'Layer3': {'[[0, 1, 2, 3, 4, 5, 6, 7], [8, 9, 10, 11, 12, 13, 14, 15]]': 0.613984375}}]\n",
      "Layer3 : [[0, 1], [2, 3]]\n",
      "restructuring\n"
     ]
    },
    {
     "name": "stderr",
     "output_type": "stream",
     "text": [
      "100%|█████████████████████████████████████████████| 1280000/1280000 [00:28<00:00, 45209.89it/s]\n"
     ]
    },
    {
     "name": "stdout",
     "output_type": "stream",
     "text": [
      "restructuring\n"
     ]
    },
    {
     "name": "stderr",
     "output_type": "stream",
     "text": [
      "100%|█████████████████████████████████████████████████| 12800/12800 [00:00<00:00, 34299.50it/s]\n"
     ]
    },
    {
     "name": "stdout",
     "output_type": "stream",
     "text": [
      "[SYST] Prepare Data\n"
     ]
    },
    {
     "name": "stderr",
     "output_type": "stream",
     "text": [
      "100%|█████████████████████████████████████████████| 1280000/1280000 [00:13<00:00, 93792.64it/s]\n"
     ]
    },
    {
     "name": "stdout",
     "output_type": "stream",
     "text": [
      "[SYST] Prepare Data\n"
     ]
    },
    {
     "name": "stderr",
     "output_type": "stream",
     "text": [
      "100%|█████████████████████████████████████████████████| 12800/12800 [00:00<00:00, 24384.05it/s]\n"
     ]
    },
    {
     "name": "stdout",
     "output_type": "stream",
     "text": [
      "[SYST] Epoch 0\n"
     ]
    },
    {
     "name": "stderr",
     "output_type": "stream",
     "text": [
      "100%|████████████████████████████████████████████████████████| 200/200 [00:13<00:00, 14.98it/s]\n"
     ]
    },
    {
     "name": "stdout",
     "output_type": "stream",
     "text": [
      "Epoch 1, Loss: 4.807189562320709\n",
      "[SYST] Epoch 1\n"
     ]
    },
    {
     "name": "stderr",
     "output_type": "stream",
     "text": [
      "100%|████████████████████████████████████████████████████████| 200/200 [00:13<00:00, 14.85it/s]\n"
     ]
    },
    {
     "name": "stdout",
     "output_type": "stream",
     "text": [
      "Epoch 2, Loss: 4.494284315109253\n",
      "[SYST] Epoch 2\n"
     ]
    },
    {
     "name": "stderr",
     "output_type": "stream",
     "text": [
      "100%|████████████████████████████████████████████████████████| 200/200 [00:14<00:00, 14.21it/s]\n"
     ]
    },
    {
     "name": "stdout",
     "output_type": "stream",
     "text": [
      "Epoch 3, Loss: 4.486496045589447\n",
      "[SYST] Epoch 3\n"
     ]
    },
    {
     "name": "stderr",
     "output_type": "stream",
     "text": [
      "100%|████████████████████████████████████████████████████████| 200/200 [00:13<00:00, 14.83it/s]\n"
     ]
    },
    {
     "name": "stdout",
     "output_type": "stream",
     "text": [
      "Epoch 4, Loss: 4.482961525917053\n",
      "[SYST] Epoch 4\n"
     ]
    },
    {
     "name": "stderr",
     "output_type": "stream",
     "text": [
      "100%|████████████████████████████████████████████████████████| 200/200 [00:13<00:00, 14.91it/s]\n"
     ]
    },
    {
     "name": "stdout",
     "output_type": "stream",
     "text": [
      "Epoch 5, Loss: 4.480600430965423\n",
      "[SYST] Epoch 5\n"
     ]
    },
    {
     "name": "stderr",
     "output_type": "stream",
     "text": [
      "100%|████████████████████████████████████████████████████████| 200/200 [00:13<00:00, 14.83it/s]\n"
     ]
    },
    {
     "name": "stdout",
     "output_type": "stream",
     "text": [
      "Epoch 6, Loss: 4.4787612986564636\n",
      "[SYST] Epoch 6\n"
     ]
    },
    {
     "name": "stderr",
     "output_type": "stream",
     "text": [
      "100%|████████████████████████████████████████████████████████| 200/200 [00:13<00:00, 14.73it/s]\n"
     ]
    },
    {
     "name": "stdout",
     "output_type": "stream",
     "text": [
      "Epoch 7, Loss: 4.477616717815399\n",
      "[SYST] Epoch 7\n"
     ]
    },
    {
     "name": "stderr",
     "output_type": "stream",
     "text": [
      "100%|████████████████████████████████████████████████████████| 200/200 [00:13<00:00, 14.79it/s]\n"
     ]
    },
    {
     "name": "stdout",
     "output_type": "stream",
     "text": [
      "Epoch 8, Loss: 4.476616928577423\n",
      "[SYST] Epoch 8\n"
     ]
    },
    {
     "name": "stderr",
     "output_type": "stream",
     "text": [
      "100%|████████████████████████████████████████████████████████| 200/200 [00:13<00:00, 14.85it/s]\n"
     ]
    },
    {
     "name": "stdout",
     "output_type": "stream",
     "text": [
      "Epoch 9, Loss: 4.475702021121979\n",
      "[SYST] Epoch 9\n"
     ]
    },
    {
     "name": "stderr",
     "output_type": "stream",
     "text": [
      "100%|████████████████████████████████████████████████████████| 200/200 [00:13<00:00, 14.83it/s]\n"
     ]
    },
    {
     "name": "stdout",
     "output_type": "stream",
     "text": [
      "Epoch 10, Loss: 4.475084216594696\n",
      "[SYST] Epoch 0\n"
     ]
    },
    {
     "name": "stderr",
     "output_type": "stream",
     "text": [
      "100%|████████████████████████████████████████████████████████████| 2/2 [00:00<00:00, 16.18it/s]\n"
     ]
    },
    {
     "name": "stdout",
     "output_type": "stream",
     "text": [
      "Test Accuracy: 62.52%\n",
      "[{'accuracy': 0.9989, 'Layer1': {'[[0, 1, 2, 3, 4, 5, 6, 7], [8, 9, 10, 11, 12, 13, 14, 15]]': 0.960625, '[[0, 1], [2, 3]]': 0.8984375, '[[0], [1]]': 0.87734375}, 'Layer2': {'[[0, 1, 2, 3, 4, 5, 6, 7], [8, 9, 10, 11, 12, 13, 14, 15]]': 0.633046875, '[[0, 1], [2, 3]]': 0.767265625, '[[0], [1]]': 0.623515625}, 'Layer3': {'[[0, 1, 2, 3, 4, 5, 6, 7], [8, 9, 10, 11, 12, 13, 14, 15]]': 0.562578125, '[[0, 1], [2, 3]]': 0.631953125, '[[0], [1]]': 0.627265625}}, {'accuracy': 0.998, 'Layer1': {'[[0, 1, 2, 3, 4, 5, 6, 7], [8, 9, 10, 11, 12, 13, 14, 15]]': 0.885390625, '[[0, 1], [2, 3]]': 0.808515625, '[[0], [1]]': 0.806796875}, 'Layer2': {'[[0, 1, 2, 3, 4, 5, 6, 7], [8, 9, 10, 11, 12, 13, 14, 15]]': 0.558359375, '[[0, 1], [2, 3]]': 0.547109375, '[[0], [1]]': 0.475}, 'Layer3': {'[[0, 1, 2, 3, 4, 5, 6, 7], [8, 9, 10, 11, 12, 13, 14, 15]]': 0.61296875, '[[0, 1], [2, 3]]': 0.64421875, '[[0], [1]]': 0.6378125}}, {'accuracy': 0.9988, 'Layer1': {'[[0, 1, 2, 3, 4, 5, 6, 7], [8, 9, 10, 11, 12, 13, 14, 15]]': 0.945234375, '[[0, 1], [2, 3]]': 0.87828125, '[[0], [1]]': 0.847109375}, 'Layer2': {'[[0, 1, 2, 3, 4, 5, 6, 7], [8, 9, 10, 11, 12, 13, 14, 15]]': 0.91125, '[[0, 1], [2, 3]]': 0.86890625, '[[0], [1]]': 0.823984375}, 'Layer3': {'[[0, 1, 2, 3, 4, 5, 6, 7], [8, 9, 10, 11, 12, 13, 14, 15]]': 0.6046875, '[[0, 1], [2, 3]]': 0.63546875, '[[0], [1]]': 0.625390625}}, {'accuracy': 0.9989, 'Layer1': {'[[0, 1, 2, 3, 4, 5, 6, 7], [8, 9, 10, 11, 12, 13, 14, 15]]': 0.892734375, '[[0, 1], [2, 3]]': 0.8578125, '[[0], [1]]': 0.835078125}, 'Layer2': {'[[0, 1, 2, 3, 4, 5, 6, 7], [8, 9, 10, 11, 12, 13, 14, 15]]': 0.65078125, '[[0, 1], [2, 3]]': 0.619921875, '[[0], [1]]': 0.60828125}, 'Layer3': {'[[0, 1, 2, 3, 4, 5, 6, 7], [8, 9, 10, 11, 12, 13, 14, 15]]': 0.631171875, '[[0, 1], [2, 3]]': 0.664609375, '[[0], [1]]': 0.66453125}}, {'accuracy': 0.9974, 'Layer1': {'[[0, 1, 2, 3, 4, 5, 6, 7], [8, 9, 10, 11, 12, 13, 14, 15]]': 0.946875, '[[0, 1], [2, 3]]': 0.8821875, '[[0], [1]]': 0.55375}, 'Layer2': {'[[0, 1, 2, 3, 4, 5, 6, 7], [8, 9, 10, 11, 12, 13, 14, 15]]': 0.68890625, '[[0, 1], [2, 3]]': 0.561640625, '[[0], [1]]': 0.5209375}, 'Layer3': {'[[0, 1, 2, 3, 4, 5, 6, 7], [8, 9, 10, 11, 12, 13, 14, 15]]': 0.613984375, '[[0, 1], [2, 3]]': 0.62515625}}]\n",
      "Layer3 : [[0], [1]]\n",
      "restructuring\n"
     ]
    },
    {
     "name": "stderr",
     "output_type": "stream",
     "text": [
      "100%|█████████████████████████████████████████████| 1280000/1280000 [00:26<00:00, 47578.27it/s]\n"
     ]
    },
    {
     "name": "stdout",
     "output_type": "stream",
     "text": [
      "restructuring\n"
     ]
    },
    {
     "name": "stderr",
     "output_type": "stream",
     "text": [
      "100%|█████████████████████████████████████████████████| 12800/12800 [00:00<00:00, 33989.63it/s]\n"
     ]
    },
    {
     "name": "stdout",
     "output_type": "stream",
     "text": [
      "[SYST] Prepare Data\n"
     ]
    },
    {
     "name": "stderr",
     "output_type": "stream",
     "text": [
      "100%|█████████████████████████████████████████████| 1280000/1280000 [00:20<00:00, 63382.91it/s]\n"
     ]
    },
    {
     "name": "stdout",
     "output_type": "stream",
     "text": [
      "[SYST] Prepare Data\n"
     ]
    },
    {
     "name": "stderr",
     "output_type": "stream",
     "text": [
      "100%|█████████████████████████████████████████████████| 12800/12800 [00:00<00:00, 18838.59it/s]\n"
     ]
    },
    {
     "name": "stdout",
     "output_type": "stream",
     "text": [
      "[SYST] Epoch 0\n"
     ]
    },
    {
     "name": "stderr",
     "output_type": "stream",
     "text": [
      "100%|████████████████████████████████████████████████████████| 200/200 [00:13<00:00, 14.86it/s]\n"
     ]
    },
    {
     "name": "stdout",
     "output_type": "stream",
     "text": [
      "Epoch 1, Loss: 4.805431883335114\n",
      "[SYST] Epoch 1\n"
     ]
    },
    {
     "name": "stderr",
     "output_type": "stream",
     "text": [
      "100%|████████████████████████████████████████████████████████| 200/200 [00:13<00:00, 14.95it/s]\n"
     ]
    },
    {
     "name": "stdout",
     "output_type": "stream",
     "text": [
      "Epoch 2, Loss: 4.48916482925415\n",
      "[SYST] Epoch 2\n"
     ]
    },
    {
     "name": "stderr",
     "output_type": "stream",
     "text": [
      "100%|████████████████████████████████████████████████████████| 200/200 [00:14<00:00, 13.37it/s]\n"
     ]
    },
    {
     "name": "stdout",
     "output_type": "stream",
     "text": [
      "Epoch 3, Loss: 4.476779425144196\n",
      "[SYST] Epoch 3\n"
     ]
    },
    {
     "name": "stderr",
     "output_type": "stream",
     "text": [
      "100%|████████████████████████████████████████████████████████| 200/200 [00:13<00:00, 14.33it/s]\n"
     ]
    },
    {
     "name": "stdout",
     "output_type": "stream",
     "text": [
      "Epoch 4, Loss: 4.474441587924957\n",
      "[SYST] Epoch 4\n"
     ]
    },
    {
     "name": "stderr",
     "output_type": "stream",
     "text": [
      "100%|████████████████████████████████████████████████████████| 200/200 [00:13<00:00, 14.32it/s]\n"
     ]
    },
    {
     "name": "stdout",
     "output_type": "stream",
     "text": [
      "Epoch 5, Loss: 4.473159177303314\n",
      "[SYST] Epoch 5\n"
     ]
    },
    {
     "name": "stderr",
     "output_type": "stream",
     "text": [
      "100%|████████████████████████████████████████████████████████| 200/200 [00:13<00:00, 14.80it/s]\n"
     ]
    },
    {
     "name": "stdout",
     "output_type": "stream",
     "text": [
      "Epoch 6, Loss: 4.47235641002655\n",
      "[SYST] Epoch 6\n"
     ]
    },
    {
     "name": "stderr",
     "output_type": "stream",
     "text": [
      "100%|████████████████████████████████████████████████████████| 200/200 [00:14<00:00, 13.81it/s]\n"
     ]
    },
    {
     "name": "stdout",
     "output_type": "stream",
     "text": [
      "Epoch 7, Loss: 4.47195672750473\n",
      "[SYST] Epoch 7\n"
     ]
    },
    {
     "name": "stderr",
     "output_type": "stream",
     "text": [
      "100%|████████████████████████████████████████████████████████| 200/200 [00:14<00:00, 13.37it/s]\n"
     ]
    },
    {
     "name": "stdout",
     "output_type": "stream",
     "text": [
      "Epoch 8, Loss: 4.471696012020111\n",
      "[SYST] Epoch 8\n"
     ]
    },
    {
     "name": "stderr",
     "output_type": "stream",
     "text": [
      "100%|████████████████████████████████████████████████████████| 200/200 [00:13<00:00, 14.92it/s]\n"
     ]
    },
    {
     "name": "stdout",
     "output_type": "stream",
     "text": [
      "Epoch 9, Loss: 4.471516463756561\n",
      "[SYST] Epoch 9\n"
     ]
    },
    {
     "name": "stderr",
     "output_type": "stream",
     "text": [
      "100%|████████████████████████████████████████████████████████| 200/200 [00:13<00:00, 14.84it/s]\n"
     ]
    },
    {
     "name": "stdout",
     "output_type": "stream",
     "text": [
      "Epoch 10, Loss: 4.471292266845703\n",
      "[SYST] Epoch 0\n"
     ]
    },
    {
     "name": "stderr",
     "output_type": "stream",
     "text": [
      "100%|████████████████████████████████████████████████████████████| 2/2 [00:00<00:00, 16.31it/s]\n"
     ]
    },
    {
     "name": "stdout",
     "output_type": "stream",
     "text": [
      "Test Accuracy: 63.25%\n",
      "[{'accuracy': 0.9989, 'Layer1': {'[[0, 1, 2, 3, 4, 5, 6, 7], [8, 9, 10, 11, 12, 13, 14, 15]]': 0.960625, '[[0, 1], [2, 3]]': 0.8984375, '[[0], [1]]': 0.87734375}, 'Layer2': {'[[0, 1, 2, 3, 4, 5, 6, 7], [8, 9, 10, 11, 12, 13, 14, 15]]': 0.633046875, '[[0, 1], [2, 3]]': 0.767265625, '[[0], [1]]': 0.623515625}, 'Layer3': {'[[0, 1, 2, 3, 4, 5, 6, 7], [8, 9, 10, 11, 12, 13, 14, 15]]': 0.562578125, '[[0, 1], [2, 3]]': 0.631953125, '[[0], [1]]': 0.627265625}}, {'accuracy': 0.998, 'Layer1': {'[[0, 1, 2, 3, 4, 5, 6, 7], [8, 9, 10, 11, 12, 13, 14, 15]]': 0.885390625, '[[0, 1], [2, 3]]': 0.808515625, '[[0], [1]]': 0.806796875}, 'Layer2': {'[[0, 1, 2, 3, 4, 5, 6, 7], [8, 9, 10, 11, 12, 13, 14, 15]]': 0.558359375, '[[0, 1], [2, 3]]': 0.547109375, '[[0], [1]]': 0.475}, 'Layer3': {'[[0, 1, 2, 3, 4, 5, 6, 7], [8, 9, 10, 11, 12, 13, 14, 15]]': 0.61296875, '[[0, 1], [2, 3]]': 0.64421875, '[[0], [1]]': 0.6378125}}, {'accuracy': 0.9988, 'Layer1': {'[[0, 1, 2, 3, 4, 5, 6, 7], [8, 9, 10, 11, 12, 13, 14, 15]]': 0.945234375, '[[0, 1], [2, 3]]': 0.87828125, '[[0], [1]]': 0.847109375}, 'Layer2': {'[[0, 1, 2, 3, 4, 5, 6, 7], [8, 9, 10, 11, 12, 13, 14, 15]]': 0.91125, '[[0, 1], [2, 3]]': 0.86890625, '[[0], [1]]': 0.823984375}, 'Layer3': {'[[0, 1, 2, 3, 4, 5, 6, 7], [8, 9, 10, 11, 12, 13, 14, 15]]': 0.6046875, '[[0, 1], [2, 3]]': 0.63546875, '[[0], [1]]': 0.625390625}}, {'accuracy': 0.9989, 'Layer1': {'[[0, 1, 2, 3, 4, 5, 6, 7], [8, 9, 10, 11, 12, 13, 14, 15]]': 0.892734375, '[[0, 1], [2, 3]]': 0.8578125, '[[0], [1]]': 0.835078125}, 'Layer2': {'[[0, 1, 2, 3, 4, 5, 6, 7], [8, 9, 10, 11, 12, 13, 14, 15]]': 0.65078125, '[[0, 1], [2, 3]]': 0.619921875, '[[0], [1]]': 0.60828125}, 'Layer3': {'[[0, 1, 2, 3, 4, 5, 6, 7], [8, 9, 10, 11, 12, 13, 14, 15]]': 0.631171875, '[[0, 1], [2, 3]]': 0.664609375, '[[0], [1]]': 0.66453125}}, {'accuracy': 0.9974, 'Layer1': {'[[0, 1, 2, 3, 4, 5, 6, 7], [8, 9, 10, 11, 12, 13, 14, 15]]': 0.946875, '[[0, 1], [2, 3]]': 0.8821875, '[[0], [1]]': 0.55375}, 'Layer2': {'[[0, 1, 2, 3, 4, 5, 6, 7], [8, 9, 10, 11, 12, 13, 14, 15]]': 0.68890625, '[[0, 1], [2, 3]]': 0.561640625, '[[0], [1]]': 0.5209375}, 'Layer3': {'[[0, 1, 2, 3, 4, 5, 6, 7], [8, 9, 10, 11, 12, 13, 14, 15]]': 0.613984375, '[[0, 1], [2, 3]]': 0.62515625, '[[0], [1]]': 0.6325}}]\n"
     ]
    },
    {
     "name": "stderr",
     "output_type": "stream",
     "text": [
      "100%|█████████████████████████████████████████████████████| 1024/1024 [00:07<00:00, 143.96it/s]\n"
     ]
    },
    {
     "name": "stdout",
     "output_type": "stream",
     "text": [
      "Epoch 1, Loss: 0.3097679736538339\n"
     ]
    },
    {
     "name": "stderr",
     "output_type": "stream",
     "text": [
      "100%|█████████████████████████████████████████████████████| 1024/1024 [00:07<00:00, 143.00it/s]\n"
     ]
    },
    {
     "name": "stdout",
     "output_type": "stream",
     "text": [
      "Epoch 2, Loss: 0.007628567830806787\n"
     ]
    },
    {
     "name": "stderr",
     "output_type": "stream",
     "text": [
      "100%|█████████████████████████████████████████████████████| 1024/1024 [00:06<00:00, 149.11it/s]\n"
     ]
    },
    {
     "name": "stdout",
     "output_type": "stream",
     "text": [
      "Epoch 3, Loss: 0.0027952379446105624\n"
     ]
    },
    {
     "name": "stderr",
     "output_type": "stream",
     "text": [
      "100%|██████████████████████████████████████████████████████████| 10/10 [00:00<00:00, 69.03it/s]\n"
     ]
    },
    {
     "name": "stdout",
     "output_type": "stream",
     "text": [
      "Test Accuracy: 0.9999\n",
      "Layer1 : [[0, 1, 2, 3, 4, 5, 6, 7], [8, 9, 10, 11, 12, 13, 14, 15]]\n",
      "restructuring\n"
     ]
    },
    {
     "name": "stderr",
     "output_type": "stream",
     "text": [
      "100%|█████████████████████████████████████████████| 1280000/1280000 [00:26<00:00, 47805.54it/s]\n"
     ]
    },
    {
     "name": "stdout",
     "output_type": "stream",
     "text": [
      "restructuring\n"
     ]
    },
    {
     "name": "stderr",
     "output_type": "stream",
     "text": [
      "100%|█████████████████████████████████████████████████| 12800/12800 [00:00<00:00, 34033.15it/s]\n"
     ]
    },
    {
     "name": "stdout",
     "output_type": "stream",
     "text": [
      "[SYST] Prepare Data\n"
     ]
    },
    {
     "name": "stderr",
     "output_type": "stream",
     "text": [
      "100%|█████████████████████████████████████████████| 1280000/1280000 [00:21<00:00, 60496.29it/s]\n"
     ]
    },
    {
     "name": "stdout",
     "output_type": "stream",
     "text": [
      "[SYST] Prepare Data\n"
     ]
    },
    {
     "name": "stderr",
     "output_type": "stream",
     "text": [
      "100%|█████████████████████████████████████████████████| 12800/12800 [00:00<00:00, 18819.18it/s]\n"
     ]
    },
    {
     "name": "stdout",
     "output_type": "stream",
     "text": [
      "[SYST] Epoch 0\n"
     ]
    },
    {
     "name": "stderr",
     "output_type": "stream",
     "text": [
      "100%|████████████████████████████████████████████████████████| 200/200 [00:14<00:00, 13.74it/s]\n"
     ]
    },
    {
     "name": "stdout",
     "output_type": "stream",
     "text": [
      "Epoch 1, Loss: 4.338707173764706\n",
      "[SYST] Epoch 1\n"
     ]
    },
    {
     "name": "stderr",
     "output_type": "stream",
     "text": [
      "100%|████████████████████████████████████████████████████████| 200/200 [00:13<00:00, 14.36it/s]\n"
     ]
    },
    {
     "name": "stdout",
     "output_type": "stream",
     "text": [
      "Epoch 2, Loss: 0.6279814231395722\n",
      "[SYST] Epoch 2\n"
     ]
    },
    {
     "name": "stderr",
     "output_type": "stream",
     "text": [
      "100%|████████████████████████████████████████████████████████| 200/200 [00:13<00:00, 14.69it/s]\n"
     ]
    },
    {
     "name": "stdout",
     "output_type": "stream",
     "text": [
      "Epoch 3, Loss: 0.3935586531460285\n",
      "[SYST] Epoch 3\n"
     ]
    },
    {
     "name": "stderr",
     "output_type": "stream",
     "text": [
      "100%|████████████████████████████████████████████████████████| 200/200 [00:13<00:00, 14.53it/s]\n"
     ]
    },
    {
     "name": "stdout",
     "output_type": "stream",
     "text": [
      "Epoch 4, Loss: 0.29931221544742587\n",
      "[SYST] Epoch 4\n"
     ]
    },
    {
     "name": "stderr",
     "output_type": "stream",
     "text": [
      "100%|████████████████████████████████████████████████████████| 200/200 [00:13<00:00, 14.59it/s]\n"
     ]
    },
    {
     "name": "stdout",
     "output_type": "stream",
     "text": [
      "Epoch 5, Loss: 0.2589162576943636\n",
      "[SYST] Epoch 5\n"
     ]
    },
    {
     "name": "stderr",
     "output_type": "stream",
     "text": [
      "100%|████████████████████████████████████████████████████████| 200/200 [00:13<00:00, 14.66it/s]\n"
     ]
    },
    {
     "name": "stdout",
     "output_type": "stream",
     "text": [
      "Epoch 6, Loss: 0.23350911118090154\n",
      "[SYST] Epoch 6\n"
     ]
    },
    {
     "name": "stderr",
     "output_type": "stream",
     "text": [
      "100%|████████████████████████████████████████████████████████| 200/200 [00:13<00:00, 14.53it/s]\n"
     ]
    },
    {
     "name": "stdout",
     "output_type": "stream",
     "text": [
      "Epoch 7, Loss: 0.2126034453511238\n",
      "[SYST] Epoch 7\n"
     ]
    },
    {
     "name": "stderr",
     "output_type": "stream",
     "text": [
      "100%|████████████████████████████████████████████████████████| 200/200 [00:13<00:00, 14.58it/s]\n"
     ]
    },
    {
     "name": "stdout",
     "output_type": "stream",
     "text": [
      "Epoch 8, Loss: 0.19517571344971657\n",
      "[SYST] Epoch 8\n"
     ]
    },
    {
     "name": "stderr",
     "output_type": "stream",
     "text": [
      "100%|████████████████████████████████████████████████████████| 200/200 [00:13<00:00, 14.47it/s]\n"
     ]
    },
    {
     "name": "stdout",
     "output_type": "stream",
     "text": [
      "Epoch 9, Loss: 0.1814660021662712\n",
      "[SYST] Epoch 9\n"
     ]
    },
    {
     "name": "stderr",
     "output_type": "stream",
     "text": [
      "100%|████████████████████████████████████████████████████████| 200/200 [00:14<00:00, 13.95it/s]\n"
     ]
    },
    {
     "name": "stdout",
     "output_type": "stream",
     "text": [
      "Epoch 10, Loss: 0.1708234740048647\n",
      "[SYST] Epoch 0\n"
     ]
    },
    {
     "name": "stderr",
     "output_type": "stream",
     "text": [
      "100%|████████████████████████████████████████████████████████████| 2/2 [00:00<00:00, 14.38it/s]\n"
     ]
    },
    {
     "name": "stdout",
     "output_type": "stream",
     "text": [
      "Test Accuracy: 95.11%\n",
      "[{'accuracy': 0.9989, 'Layer1': {'[[0, 1, 2, 3, 4, 5, 6, 7], [8, 9, 10, 11, 12, 13, 14, 15]]': 0.960625, '[[0, 1], [2, 3]]': 0.8984375, '[[0], [1]]': 0.87734375}, 'Layer2': {'[[0, 1, 2, 3, 4, 5, 6, 7], [8, 9, 10, 11, 12, 13, 14, 15]]': 0.633046875, '[[0, 1], [2, 3]]': 0.767265625, '[[0], [1]]': 0.623515625}, 'Layer3': {'[[0, 1, 2, 3, 4, 5, 6, 7], [8, 9, 10, 11, 12, 13, 14, 15]]': 0.562578125, '[[0, 1], [2, 3]]': 0.631953125, '[[0], [1]]': 0.627265625}}, {'accuracy': 0.998, 'Layer1': {'[[0, 1, 2, 3, 4, 5, 6, 7], [8, 9, 10, 11, 12, 13, 14, 15]]': 0.885390625, '[[0, 1], [2, 3]]': 0.808515625, '[[0], [1]]': 0.806796875}, 'Layer2': {'[[0, 1, 2, 3, 4, 5, 6, 7], [8, 9, 10, 11, 12, 13, 14, 15]]': 0.558359375, '[[0, 1], [2, 3]]': 0.547109375, '[[0], [1]]': 0.475}, 'Layer3': {'[[0, 1, 2, 3, 4, 5, 6, 7], [8, 9, 10, 11, 12, 13, 14, 15]]': 0.61296875, '[[0, 1], [2, 3]]': 0.64421875, '[[0], [1]]': 0.6378125}}, {'accuracy': 0.9988, 'Layer1': {'[[0, 1, 2, 3, 4, 5, 6, 7], [8, 9, 10, 11, 12, 13, 14, 15]]': 0.945234375, '[[0, 1], [2, 3]]': 0.87828125, '[[0], [1]]': 0.847109375}, 'Layer2': {'[[0, 1, 2, 3, 4, 5, 6, 7], [8, 9, 10, 11, 12, 13, 14, 15]]': 0.91125, '[[0, 1], [2, 3]]': 0.86890625, '[[0], [1]]': 0.823984375}, 'Layer3': {'[[0, 1, 2, 3, 4, 5, 6, 7], [8, 9, 10, 11, 12, 13, 14, 15]]': 0.6046875, '[[0, 1], [2, 3]]': 0.63546875, '[[0], [1]]': 0.625390625}}, {'accuracy': 0.9989, 'Layer1': {'[[0, 1, 2, 3, 4, 5, 6, 7], [8, 9, 10, 11, 12, 13, 14, 15]]': 0.892734375, '[[0, 1], [2, 3]]': 0.8578125, '[[0], [1]]': 0.835078125}, 'Layer2': {'[[0, 1, 2, 3, 4, 5, 6, 7], [8, 9, 10, 11, 12, 13, 14, 15]]': 0.65078125, '[[0, 1], [2, 3]]': 0.619921875, '[[0], [1]]': 0.60828125}, 'Layer3': {'[[0, 1, 2, 3, 4, 5, 6, 7], [8, 9, 10, 11, 12, 13, 14, 15]]': 0.631171875, '[[0, 1], [2, 3]]': 0.664609375, '[[0], [1]]': 0.66453125}}, {'accuracy': 0.9974, 'Layer1': {'[[0, 1, 2, 3, 4, 5, 6, 7], [8, 9, 10, 11, 12, 13, 14, 15]]': 0.946875, '[[0, 1], [2, 3]]': 0.8821875, '[[0], [1]]': 0.55375}, 'Layer2': {'[[0, 1, 2, 3, 4, 5, 6, 7], [8, 9, 10, 11, 12, 13, 14, 15]]': 0.68890625, '[[0, 1], [2, 3]]': 0.561640625, '[[0], [1]]': 0.5209375}, 'Layer3': {'[[0, 1, 2, 3, 4, 5, 6, 7], [8, 9, 10, 11, 12, 13, 14, 15]]': 0.613984375, '[[0, 1], [2, 3]]': 0.62515625, '[[0], [1]]': 0.6325}}, {'accuracy': 0.9999, 'Layer1': {'[[0, 1, 2, 3, 4, 5, 6, 7], [8, 9, 10, 11, 12, 13, 14, 15]]': 0.95109375}}]\n",
      "Layer1 : [[0, 1], [2, 3]]\n",
      "restructuring\n"
     ]
    },
    {
     "name": "stderr",
     "output_type": "stream",
     "text": [
      "100%|█████████████████████████████████████████████| 1280000/1280000 [00:28<00:00, 45533.79it/s]\n"
     ]
    },
    {
     "name": "stdout",
     "output_type": "stream",
     "text": [
      "restructuring\n"
     ]
    },
    {
     "name": "stderr",
     "output_type": "stream",
     "text": [
      "100%|█████████████████████████████████████████████████| 12800/12800 [00:00<00:00, 32972.35it/s]\n"
     ]
    },
    {
     "name": "stdout",
     "output_type": "stream",
     "text": [
      "[SYST] Prepare Data\n"
     ]
    },
    {
     "name": "stderr",
     "output_type": "stream",
     "text": [
      "100%|█████████████████████████████████████████████| 1280000/1280000 [00:20<00:00, 62617.90it/s]\n"
     ]
    },
    {
     "name": "stdout",
     "output_type": "stream",
     "text": [
      "[SYST] Prepare Data\n"
     ]
    },
    {
     "name": "stderr",
     "output_type": "stream",
     "text": [
      "100%|█████████████████████████████████████████████████| 12800/12800 [00:00<00:00, 23755.18it/s]\n"
     ]
    },
    {
     "name": "stdout",
     "output_type": "stream",
     "text": [
      "[SYST] Epoch 0\n"
     ]
    },
    {
     "name": "stderr",
     "output_type": "stream",
     "text": [
      "100%|████████████████████████████████████████████████████████| 200/200 [00:14<00:00, 13.65it/s]\n"
     ]
    },
    {
     "name": "stdout",
     "output_type": "stream",
     "text": [
      "Epoch 1, Loss: 5.4828021109104155\n",
      "[SYST] Epoch 1\n"
     ]
    },
    {
     "name": "stderr",
     "output_type": "stream",
     "text": [
      "100%|████████████████████████████████████████████████████████| 200/200 [00:14<00:00, 14.23it/s]\n"
     ]
    },
    {
     "name": "stdout",
     "output_type": "stream",
     "text": [
      "Epoch 2, Loss: 1.2335283967852593\n",
      "[SYST] Epoch 2\n"
     ]
    },
    {
     "name": "stderr",
     "output_type": "stream",
     "text": [
      "100%|████████████████████████████████████████████████████████| 200/200 [00:15<00:00, 12.99it/s]\n"
     ]
    },
    {
     "name": "stdout",
     "output_type": "stream",
     "text": [
      "Epoch 3, Loss: 0.5724857702851296\n",
      "[SYST] Epoch 3\n"
     ]
    },
    {
     "name": "stderr",
     "output_type": "stream",
     "text": [
      "100%|████████████████████████████████████████████████████████| 200/200 [00:15<00:00, 12.92it/s]\n"
     ]
    },
    {
     "name": "stdout",
     "output_type": "stream",
     "text": [
      "Epoch 4, Loss: 0.5134413510560989\n",
      "[SYST] Epoch 4\n"
     ]
    },
    {
     "name": "stderr",
     "output_type": "stream",
     "text": [
      "100%|████████████████████████████████████████████████████████| 200/200 [00:15<00:00, 13.19it/s]\n"
     ]
    },
    {
     "name": "stdout",
     "output_type": "stream",
     "text": [
      "Epoch 5, Loss: 0.4745755606889725\n",
      "[SYST] Epoch 5\n"
     ]
    },
    {
     "name": "stderr",
     "output_type": "stream",
     "text": [
      "100%|████████████████████████████████████████████████████████| 200/200 [00:13<00:00, 14.51it/s]\n"
     ]
    },
    {
     "name": "stdout",
     "output_type": "stream",
     "text": [
      "Epoch 6, Loss: 0.43711347118020055\n",
      "[SYST] Epoch 6\n"
     ]
    },
    {
     "name": "stderr",
     "output_type": "stream",
     "text": [
      "100%|████████████████████████████████████████████████████████| 200/200 [00:13<00:00, 14.59it/s]\n"
     ]
    },
    {
     "name": "stdout",
     "output_type": "stream",
     "text": [
      "Epoch 7, Loss: 0.3926315069198608\n",
      "[SYST] Epoch 7\n"
     ]
    },
    {
     "name": "stderr",
     "output_type": "stream",
     "text": [
      "100%|████████████████████████████████████████████████████████| 200/200 [00:13<00:00, 14.46it/s]\n"
     ]
    },
    {
     "name": "stdout",
     "output_type": "stream",
     "text": [
      "Epoch 8, Loss: 0.3499263766407967\n",
      "[SYST] Epoch 8\n"
     ]
    },
    {
     "name": "stderr",
     "output_type": "stream",
     "text": [
      "100%|████████████████████████████████████████████████████████| 200/200 [00:14<00:00, 14.06it/s]\n"
     ]
    },
    {
     "name": "stdout",
     "output_type": "stream",
     "text": [
      "Epoch 9, Loss: 0.31437762290239335\n",
      "[SYST] Epoch 9\n"
     ]
    },
    {
     "name": "stderr",
     "output_type": "stream",
     "text": [
      "100%|████████████████████████████████████████████████████████| 200/200 [00:13<00:00, 14.34it/s]\n"
     ]
    },
    {
     "name": "stdout",
     "output_type": "stream",
     "text": [
      "Epoch 10, Loss: 0.28860890127718447\n",
      "[SYST] Epoch 0\n"
     ]
    },
    {
     "name": "stderr",
     "output_type": "stream",
     "text": [
      "100%|████████████████████████████████████████████████████████████| 2/2 [00:00<00:00, 16.18it/s]\n"
     ]
    },
    {
     "name": "stdout",
     "output_type": "stream",
     "text": [
      "Test Accuracy: 93.56%\n",
      "[{'accuracy': 0.9989, 'Layer1': {'[[0, 1, 2, 3, 4, 5, 6, 7], [8, 9, 10, 11, 12, 13, 14, 15]]': 0.960625, '[[0, 1], [2, 3]]': 0.8984375, '[[0], [1]]': 0.87734375}, 'Layer2': {'[[0, 1, 2, 3, 4, 5, 6, 7], [8, 9, 10, 11, 12, 13, 14, 15]]': 0.633046875, '[[0, 1], [2, 3]]': 0.767265625, '[[0], [1]]': 0.623515625}, 'Layer3': {'[[0, 1, 2, 3, 4, 5, 6, 7], [8, 9, 10, 11, 12, 13, 14, 15]]': 0.562578125, '[[0, 1], [2, 3]]': 0.631953125, '[[0], [1]]': 0.627265625}}, {'accuracy': 0.998, 'Layer1': {'[[0, 1, 2, 3, 4, 5, 6, 7], [8, 9, 10, 11, 12, 13, 14, 15]]': 0.885390625, '[[0, 1], [2, 3]]': 0.808515625, '[[0], [1]]': 0.806796875}, 'Layer2': {'[[0, 1, 2, 3, 4, 5, 6, 7], [8, 9, 10, 11, 12, 13, 14, 15]]': 0.558359375, '[[0, 1], [2, 3]]': 0.547109375, '[[0], [1]]': 0.475}, 'Layer3': {'[[0, 1, 2, 3, 4, 5, 6, 7], [8, 9, 10, 11, 12, 13, 14, 15]]': 0.61296875, '[[0, 1], [2, 3]]': 0.64421875, '[[0], [1]]': 0.6378125}}, {'accuracy': 0.9988, 'Layer1': {'[[0, 1, 2, 3, 4, 5, 6, 7], [8, 9, 10, 11, 12, 13, 14, 15]]': 0.945234375, '[[0, 1], [2, 3]]': 0.87828125, '[[0], [1]]': 0.847109375}, 'Layer2': {'[[0, 1, 2, 3, 4, 5, 6, 7], [8, 9, 10, 11, 12, 13, 14, 15]]': 0.91125, '[[0, 1], [2, 3]]': 0.86890625, '[[0], [1]]': 0.823984375}, 'Layer3': {'[[0, 1, 2, 3, 4, 5, 6, 7], [8, 9, 10, 11, 12, 13, 14, 15]]': 0.6046875, '[[0, 1], [2, 3]]': 0.63546875, '[[0], [1]]': 0.625390625}}, {'accuracy': 0.9989, 'Layer1': {'[[0, 1, 2, 3, 4, 5, 6, 7], [8, 9, 10, 11, 12, 13, 14, 15]]': 0.892734375, '[[0, 1], [2, 3]]': 0.8578125, '[[0], [1]]': 0.835078125}, 'Layer2': {'[[0, 1, 2, 3, 4, 5, 6, 7], [8, 9, 10, 11, 12, 13, 14, 15]]': 0.65078125, '[[0, 1], [2, 3]]': 0.619921875, '[[0], [1]]': 0.60828125}, 'Layer3': {'[[0, 1, 2, 3, 4, 5, 6, 7], [8, 9, 10, 11, 12, 13, 14, 15]]': 0.631171875, '[[0, 1], [2, 3]]': 0.664609375, '[[0], [1]]': 0.66453125}}, {'accuracy': 0.9974, 'Layer1': {'[[0, 1, 2, 3, 4, 5, 6, 7], [8, 9, 10, 11, 12, 13, 14, 15]]': 0.946875, '[[0, 1], [2, 3]]': 0.8821875, '[[0], [1]]': 0.55375}, 'Layer2': {'[[0, 1, 2, 3, 4, 5, 6, 7], [8, 9, 10, 11, 12, 13, 14, 15]]': 0.68890625, '[[0, 1], [2, 3]]': 0.561640625, '[[0], [1]]': 0.5209375}, 'Layer3': {'[[0, 1, 2, 3, 4, 5, 6, 7], [8, 9, 10, 11, 12, 13, 14, 15]]': 0.613984375, '[[0, 1], [2, 3]]': 0.62515625, '[[0], [1]]': 0.6325}}, {'accuracy': 0.9999, 'Layer1': {'[[0, 1, 2, 3, 4, 5, 6, 7], [8, 9, 10, 11, 12, 13, 14, 15]]': 0.95109375, '[[0, 1], [2, 3]]': 0.935625}}]\n",
      "Layer1 : [[0], [1]]\n",
      "restructuring\n"
     ]
    },
    {
     "name": "stderr",
     "output_type": "stream",
     "text": [
      "100%|█████████████████████████████████████████████| 1280000/1280000 [00:26<00:00, 47524.51it/s]\n"
     ]
    },
    {
     "name": "stdout",
     "output_type": "stream",
     "text": [
      "restructuring\n"
     ]
    },
    {
     "name": "stderr",
     "output_type": "stream",
     "text": [
      "100%|█████████████████████████████████████████████████| 12800/12800 [00:00<00:00, 34066.84it/s]\n"
     ]
    },
    {
     "name": "stdout",
     "output_type": "stream",
     "text": [
      "[SYST] Prepare Data\n"
     ]
    },
    {
     "name": "stderr",
     "output_type": "stream",
     "text": [
      "100%|█████████████████████████████████████████████| 1280000/1280000 [00:13<00:00, 96659.52it/s]\n"
     ]
    },
    {
     "name": "stdout",
     "output_type": "stream",
     "text": [
      "[SYST] Prepare Data\n"
     ]
    },
    {
     "name": "stderr",
     "output_type": "stream",
     "text": [
      "100%|█████████████████████████████████████████████████| 12800/12800 [00:00<00:00, 18706.24it/s]\n"
     ]
    },
    {
     "name": "stdout",
     "output_type": "stream",
     "text": [
      "[SYST] Epoch 0\n"
     ]
    },
    {
     "name": "stderr",
     "output_type": "stream",
     "text": [
      "100%|████████████████████████████████████████████████████████| 200/200 [00:13<00:00, 14.90it/s]\n"
     ]
    },
    {
     "name": "stdout",
     "output_type": "stream",
     "text": [
      "Epoch 1, Loss: 6.161028978824615\n",
      "[SYST] Epoch 1\n"
     ]
    },
    {
     "name": "stderr",
     "output_type": "stream",
     "text": [
      "100%|████████████████████████████████████████████████████████| 200/200 [00:13<00:00, 14.80it/s]\n"
     ]
    },
    {
     "name": "stdout",
     "output_type": "stream",
     "text": [
      "Epoch 2, Loss: 2.276881358921528\n",
      "[SYST] Epoch 2\n"
     ]
    },
    {
     "name": "stderr",
     "output_type": "stream",
     "text": [
      "100%|████████████████████████████████████████████████████████| 200/200 [00:13<00:00, 14.81it/s]\n"
     ]
    },
    {
     "name": "stdout",
     "output_type": "stream",
     "text": [
      "Epoch 3, Loss: 0.6870517125725746\n",
      "[SYST] Epoch 3\n"
     ]
    },
    {
     "name": "stderr",
     "output_type": "stream",
     "text": [
      "100%|████████████████████████████████████████████████████████| 200/200 [00:13<00:00, 14.74it/s]\n"
     ]
    },
    {
     "name": "stdout",
     "output_type": "stream",
     "text": [
      "Epoch 4, Loss: 0.6641345179080963\n",
      "[SYST] Epoch 4\n"
     ]
    },
    {
     "name": "stderr",
     "output_type": "stream",
     "text": [
      "100%|████████████████████████████████████████████████████████| 200/200 [00:13<00:00, 14.79it/s]\n"
     ]
    },
    {
     "name": "stdout",
     "output_type": "stream",
     "text": [
      "Epoch 5, Loss: 0.6625363802909852\n",
      "[SYST] Epoch 5\n"
     ]
    },
    {
     "name": "stderr",
     "output_type": "stream",
     "text": [
      "100%|████████████████████████████████████████████████████████| 200/200 [00:13<00:00, 14.86it/s]\n"
     ]
    },
    {
     "name": "stdout",
     "output_type": "stream",
     "text": [
      "Epoch 6, Loss: 0.6622779887914657\n",
      "[SYST] Epoch 6\n"
     ]
    },
    {
     "name": "stderr",
     "output_type": "stream",
     "text": [
      "100%|████████████████████████████████████████████████████████| 200/200 [00:13<00:00, 14.73it/s]\n"
     ]
    },
    {
     "name": "stdout",
     "output_type": "stream",
     "text": [
      "Epoch 7, Loss: 0.6623009890317917\n",
      "[SYST] Epoch 7\n"
     ]
    },
    {
     "name": "stderr",
     "output_type": "stream",
     "text": [
      "100%|████████████████████████████████████████████████████████| 200/200 [00:13<00:00, 14.73it/s]\n"
     ]
    },
    {
     "name": "stdout",
     "output_type": "stream",
     "text": [
      "Epoch 8, Loss: 0.662226727604866\n",
      "[SYST] Epoch 8\n"
     ]
    },
    {
     "name": "stderr",
     "output_type": "stream",
     "text": [
      "100%|████████████████████████████████████████████████████████| 200/200 [00:13<00:00, 14.86it/s]\n"
     ]
    },
    {
     "name": "stdout",
     "output_type": "stream",
     "text": [
      "Epoch 9, Loss: 0.6623452112078667\n",
      "[SYST] Epoch 9\n"
     ]
    },
    {
     "name": "stderr",
     "output_type": "stream",
     "text": [
      "100%|████████████████████████████████████████████████████████| 200/200 [00:13<00:00, 14.67it/s]\n"
     ]
    },
    {
     "name": "stdout",
     "output_type": "stream",
     "text": [
      "Epoch 10, Loss: 0.6624749660491943\n",
      "[SYST] Epoch 0\n"
     ]
    },
    {
     "name": "stderr",
     "output_type": "stream",
     "text": [
      "100%|████████████████████████████████████████████████████████████| 2/2 [00:00<00:00, 16.15it/s]\n"
     ]
    },
    {
     "name": "stdout",
     "output_type": "stream",
     "text": [
      "Test Accuracy: 91.09%\n",
      "[{'accuracy': 0.9989, 'Layer1': {'[[0, 1, 2, 3, 4, 5, 6, 7], [8, 9, 10, 11, 12, 13, 14, 15]]': 0.960625, '[[0, 1], [2, 3]]': 0.8984375, '[[0], [1]]': 0.87734375}, 'Layer2': {'[[0, 1, 2, 3, 4, 5, 6, 7], [8, 9, 10, 11, 12, 13, 14, 15]]': 0.633046875, '[[0, 1], [2, 3]]': 0.767265625, '[[0], [1]]': 0.623515625}, 'Layer3': {'[[0, 1, 2, 3, 4, 5, 6, 7], [8, 9, 10, 11, 12, 13, 14, 15]]': 0.562578125, '[[0, 1], [2, 3]]': 0.631953125, '[[0], [1]]': 0.627265625}}, {'accuracy': 0.998, 'Layer1': {'[[0, 1, 2, 3, 4, 5, 6, 7], [8, 9, 10, 11, 12, 13, 14, 15]]': 0.885390625, '[[0, 1], [2, 3]]': 0.808515625, '[[0], [1]]': 0.806796875}, 'Layer2': {'[[0, 1, 2, 3, 4, 5, 6, 7], [8, 9, 10, 11, 12, 13, 14, 15]]': 0.558359375, '[[0, 1], [2, 3]]': 0.547109375, '[[0], [1]]': 0.475}, 'Layer3': {'[[0, 1, 2, 3, 4, 5, 6, 7], [8, 9, 10, 11, 12, 13, 14, 15]]': 0.61296875, '[[0, 1], [2, 3]]': 0.64421875, '[[0], [1]]': 0.6378125}}, {'accuracy': 0.9988, 'Layer1': {'[[0, 1, 2, 3, 4, 5, 6, 7], [8, 9, 10, 11, 12, 13, 14, 15]]': 0.945234375, '[[0, 1], [2, 3]]': 0.87828125, '[[0], [1]]': 0.847109375}, 'Layer2': {'[[0, 1, 2, 3, 4, 5, 6, 7], [8, 9, 10, 11, 12, 13, 14, 15]]': 0.91125, '[[0, 1], [2, 3]]': 0.86890625, '[[0], [1]]': 0.823984375}, 'Layer3': {'[[0, 1, 2, 3, 4, 5, 6, 7], [8, 9, 10, 11, 12, 13, 14, 15]]': 0.6046875, '[[0, 1], [2, 3]]': 0.63546875, '[[0], [1]]': 0.625390625}}, {'accuracy': 0.9989, 'Layer1': {'[[0, 1, 2, 3, 4, 5, 6, 7], [8, 9, 10, 11, 12, 13, 14, 15]]': 0.892734375, '[[0, 1], [2, 3]]': 0.8578125, '[[0], [1]]': 0.835078125}, 'Layer2': {'[[0, 1, 2, 3, 4, 5, 6, 7], [8, 9, 10, 11, 12, 13, 14, 15]]': 0.65078125, '[[0, 1], [2, 3]]': 0.619921875, '[[0], [1]]': 0.60828125}, 'Layer3': {'[[0, 1, 2, 3, 4, 5, 6, 7], [8, 9, 10, 11, 12, 13, 14, 15]]': 0.631171875, '[[0, 1], [2, 3]]': 0.664609375, '[[0], [1]]': 0.66453125}}, {'accuracy': 0.9974, 'Layer1': {'[[0, 1, 2, 3, 4, 5, 6, 7], [8, 9, 10, 11, 12, 13, 14, 15]]': 0.946875, '[[0, 1], [2, 3]]': 0.8821875, '[[0], [1]]': 0.55375}, 'Layer2': {'[[0, 1, 2, 3, 4, 5, 6, 7], [8, 9, 10, 11, 12, 13, 14, 15]]': 0.68890625, '[[0, 1], [2, 3]]': 0.561640625, '[[0], [1]]': 0.5209375}, 'Layer3': {'[[0, 1, 2, 3, 4, 5, 6, 7], [8, 9, 10, 11, 12, 13, 14, 15]]': 0.613984375, '[[0, 1], [2, 3]]': 0.62515625, '[[0], [1]]': 0.6325}}, {'accuracy': 0.9999, 'Layer1': {'[[0, 1, 2, 3, 4, 5, 6, 7], [8, 9, 10, 11, 12, 13, 14, 15]]': 0.95109375, '[[0, 1], [2, 3]]': 0.935625, '[[0], [1]]': 0.910859375}}]\n",
      "Layer2 : [[0, 1, 2, 3, 4, 5, 6, 7], [8, 9, 10, 11, 12, 13, 14, 15]]\n",
      "restructuring\n"
     ]
    },
    {
     "name": "stderr",
     "output_type": "stream",
     "text": [
      "100%|█████████████████████████████████████████████| 1280000/1280000 [00:27<00:00, 47236.10it/s]\n"
     ]
    },
    {
     "name": "stdout",
     "output_type": "stream",
     "text": [
      "restructuring\n"
     ]
    },
    {
     "name": "stderr",
     "output_type": "stream",
     "text": [
      "100%|█████████████████████████████████████████████████| 12800/12800 [00:00<00:00, 34290.52it/s]\n"
     ]
    },
    {
     "name": "stdout",
     "output_type": "stream",
     "text": [
      "[SYST] Prepare Data\n"
     ]
    },
    {
     "name": "stderr",
     "output_type": "stream",
     "text": [
      "100%|█████████████████████████████████████████████| 1280000/1280000 [00:20<00:00, 61874.85it/s]\n"
     ]
    },
    {
     "name": "stdout",
     "output_type": "stream",
     "text": [
      "[SYST] Prepare Data\n"
     ]
    },
    {
     "name": "stderr",
     "output_type": "stream",
     "text": [
      "100%|█████████████████████████████████████████████████| 12800/12800 [00:00<00:00, 18594.04it/s]\n"
     ]
    },
    {
     "name": "stdout",
     "output_type": "stream",
     "text": [
      "[SYST] Epoch 0\n"
     ]
    },
    {
     "name": "stderr",
     "output_type": "stream",
     "text": [
      "100%|████████████████████████████████████████████████████████| 200/200 [00:13<00:00, 14.67it/s]\n"
     ]
    },
    {
     "name": "stdout",
     "output_type": "stream",
     "text": [
      "Epoch 1, Loss: 4.407641079425812\n",
      "[SYST] Epoch 1\n"
     ]
    },
    {
     "name": "stderr",
     "output_type": "stream",
     "text": [
      "100%|████████████████████████████████████████████████████████| 200/200 [00:14<00:00, 14.21it/s]\n"
     ]
    },
    {
     "name": "stdout",
     "output_type": "stream",
     "text": [
      "Epoch 2, Loss: 3.634679369926453\n",
      "[SYST] Epoch 2\n"
     ]
    },
    {
     "name": "stderr",
     "output_type": "stream",
     "text": [
      "100%|████████████████████████████████████████████████████████| 200/200 [00:13<00:00, 14.66it/s]\n"
     ]
    },
    {
     "name": "stdout",
     "output_type": "stream",
     "text": [
      "Epoch 3, Loss: 3.585112886428833\n",
      "[SYST] Epoch 3\n"
     ]
    },
    {
     "name": "stderr",
     "output_type": "stream",
     "text": [
      "100%|████████████████████████████████████████████████████████| 200/200 [00:13<00:00, 14.72it/s]\n"
     ]
    },
    {
     "name": "stdout",
     "output_type": "stream",
     "text": [
      "Epoch 4, Loss: 3.561346887350082\n",
      "[SYST] Epoch 4\n"
     ]
    },
    {
     "name": "stderr",
     "output_type": "stream",
     "text": [
      "100%|████████████████████████████████████████████████████████| 200/200 [00:15<00:00, 13.20it/s]\n"
     ]
    },
    {
     "name": "stdout",
     "output_type": "stream",
     "text": [
      "Epoch 5, Loss: 3.545518306493759\n",
      "[SYST] Epoch 5\n"
     ]
    },
    {
     "name": "stderr",
     "output_type": "stream",
     "text": [
      "100%|████████████████████████████████████████████████████████| 200/200 [00:15<00:00, 12.89it/s]\n"
     ]
    },
    {
     "name": "stdout",
     "output_type": "stream",
     "text": [
      "Epoch 6, Loss: 3.534777770042419\n",
      "[SYST] Epoch 6\n"
     ]
    },
    {
     "name": "stderr",
     "output_type": "stream",
     "text": [
      "100%|████████████████████████████████████████████████████████| 200/200 [00:14<00:00, 14.14it/s]\n"
     ]
    },
    {
     "name": "stdout",
     "output_type": "stream",
     "text": [
      "Epoch 7, Loss: 3.5273517847061155\n",
      "[SYST] Epoch 7\n"
     ]
    },
    {
     "name": "stderr",
     "output_type": "stream",
     "text": [
      "100%|████████████████████████████████████████████████████████| 200/200 [00:13<00:00, 14.48it/s]\n"
     ]
    },
    {
     "name": "stdout",
     "output_type": "stream",
     "text": [
      "Epoch 8, Loss: 3.522198920249939\n",
      "[SYST] Epoch 8\n"
     ]
    },
    {
     "name": "stderr",
     "output_type": "stream",
     "text": [
      "100%|████████████████████████████████████████████████████████| 200/200 [00:13<00:00, 14.71it/s]\n"
     ]
    },
    {
     "name": "stdout",
     "output_type": "stream",
     "text": [
      "Epoch 9, Loss: 3.5189402055740358\n",
      "[SYST] Epoch 9\n"
     ]
    },
    {
     "name": "stderr",
     "output_type": "stream",
     "text": [
      "100%|████████████████████████████████████████████████████████| 200/200 [00:13<00:00, 14.36it/s]\n"
     ]
    },
    {
     "name": "stdout",
     "output_type": "stream",
     "text": [
      "Epoch 10, Loss: 3.516502110958099\n",
      "[SYST] Epoch 0\n"
     ]
    },
    {
     "name": "stderr",
     "output_type": "stream",
     "text": [
      "100%|████████████████████████████████████████████████████████████| 2/2 [00:00<00:00, 16.18it/s]\n"
     ]
    },
    {
     "name": "stdout",
     "output_type": "stream",
     "text": [
      "Test Accuracy: 73.11%\n",
      "[{'accuracy': 0.9989, 'Layer1': {'[[0, 1, 2, 3, 4, 5, 6, 7], [8, 9, 10, 11, 12, 13, 14, 15]]': 0.960625, '[[0, 1], [2, 3]]': 0.8984375, '[[0], [1]]': 0.87734375}, 'Layer2': {'[[0, 1, 2, 3, 4, 5, 6, 7], [8, 9, 10, 11, 12, 13, 14, 15]]': 0.633046875, '[[0, 1], [2, 3]]': 0.767265625, '[[0], [1]]': 0.623515625}, 'Layer3': {'[[0, 1, 2, 3, 4, 5, 6, 7], [8, 9, 10, 11, 12, 13, 14, 15]]': 0.562578125, '[[0, 1], [2, 3]]': 0.631953125, '[[0], [1]]': 0.627265625}}, {'accuracy': 0.998, 'Layer1': {'[[0, 1, 2, 3, 4, 5, 6, 7], [8, 9, 10, 11, 12, 13, 14, 15]]': 0.885390625, '[[0, 1], [2, 3]]': 0.808515625, '[[0], [1]]': 0.806796875}, 'Layer2': {'[[0, 1, 2, 3, 4, 5, 6, 7], [8, 9, 10, 11, 12, 13, 14, 15]]': 0.558359375, '[[0, 1], [2, 3]]': 0.547109375, '[[0], [1]]': 0.475}, 'Layer3': {'[[0, 1, 2, 3, 4, 5, 6, 7], [8, 9, 10, 11, 12, 13, 14, 15]]': 0.61296875, '[[0, 1], [2, 3]]': 0.64421875, '[[0], [1]]': 0.6378125}}, {'accuracy': 0.9988, 'Layer1': {'[[0, 1, 2, 3, 4, 5, 6, 7], [8, 9, 10, 11, 12, 13, 14, 15]]': 0.945234375, '[[0, 1], [2, 3]]': 0.87828125, '[[0], [1]]': 0.847109375}, 'Layer2': {'[[0, 1, 2, 3, 4, 5, 6, 7], [8, 9, 10, 11, 12, 13, 14, 15]]': 0.91125, '[[0, 1], [2, 3]]': 0.86890625, '[[0], [1]]': 0.823984375}, 'Layer3': {'[[0, 1, 2, 3, 4, 5, 6, 7], [8, 9, 10, 11, 12, 13, 14, 15]]': 0.6046875, '[[0, 1], [2, 3]]': 0.63546875, '[[0], [1]]': 0.625390625}}, {'accuracy': 0.9989, 'Layer1': {'[[0, 1, 2, 3, 4, 5, 6, 7], [8, 9, 10, 11, 12, 13, 14, 15]]': 0.892734375, '[[0, 1], [2, 3]]': 0.8578125, '[[0], [1]]': 0.835078125}, 'Layer2': {'[[0, 1, 2, 3, 4, 5, 6, 7], [8, 9, 10, 11, 12, 13, 14, 15]]': 0.65078125, '[[0, 1], [2, 3]]': 0.619921875, '[[0], [1]]': 0.60828125}, 'Layer3': {'[[0, 1, 2, 3, 4, 5, 6, 7], [8, 9, 10, 11, 12, 13, 14, 15]]': 0.631171875, '[[0, 1], [2, 3]]': 0.664609375, '[[0], [1]]': 0.66453125}}, {'accuracy': 0.9974, 'Layer1': {'[[0, 1, 2, 3, 4, 5, 6, 7], [8, 9, 10, 11, 12, 13, 14, 15]]': 0.946875, '[[0, 1], [2, 3]]': 0.8821875, '[[0], [1]]': 0.55375}, 'Layer2': {'[[0, 1, 2, 3, 4, 5, 6, 7], [8, 9, 10, 11, 12, 13, 14, 15]]': 0.68890625, '[[0, 1], [2, 3]]': 0.561640625, '[[0], [1]]': 0.5209375}, 'Layer3': {'[[0, 1, 2, 3, 4, 5, 6, 7], [8, 9, 10, 11, 12, 13, 14, 15]]': 0.613984375, '[[0, 1], [2, 3]]': 0.62515625, '[[0], [1]]': 0.6325}}, {'accuracy': 0.9999, 'Layer1': {'[[0, 1, 2, 3, 4, 5, 6, 7], [8, 9, 10, 11, 12, 13, 14, 15]]': 0.95109375, '[[0, 1], [2, 3]]': 0.935625, '[[0], [1]]': 0.910859375}, 'Layer2': {'[[0, 1, 2, 3, 4, 5, 6, 7], [8, 9, 10, 11, 12, 13, 14, 15]]': 0.73109375}}]\n",
      "Layer2 : [[0, 1], [2, 3]]\n",
      "restructuring\n"
     ]
    },
    {
     "name": "stderr",
     "output_type": "stream",
     "text": [
      "100%|█████████████████████████████████████████████| 1280000/1280000 [00:27<00:00, 47202.73it/s]\n"
     ]
    },
    {
     "name": "stdout",
     "output_type": "stream",
     "text": [
      "restructuring\n"
     ]
    },
    {
     "name": "stderr",
     "output_type": "stream",
     "text": [
      "100%|█████████████████████████████████████████████████| 12800/12800 [00:00<00:00, 34029.03it/s]\n"
     ]
    },
    {
     "name": "stdout",
     "output_type": "stream",
     "text": [
      "[SYST] Prepare Data\n"
     ]
    },
    {
     "name": "stderr",
     "output_type": "stream",
     "text": [
      "100%|█████████████████████████████████████████████| 1280000/1280000 [00:20<00:00, 62210.59it/s]\n"
     ]
    },
    {
     "name": "stdout",
     "output_type": "stream",
     "text": [
      "[SYST] Prepare Data\n"
     ]
    },
    {
     "name": "stderr",
     "output_type": "stream",
     "text": [
      "100%|█████████████████████████████████████████████████| 12800/12800 [00:00<00:00, 18686.56it/s]\n"
     ]
    },
    {
     "name": "stdout",
     "output_type": "stream",
     "text": [
      "[SYST] Epoch 0\n"
     ]
    },
    {
     "name": "stderr",
     "output_type": "stream",
     "text": [
      "100%|████████████████████████████████████████████████████████| 200/200 [00:13<00:00, 14.96it/s]\n"
     ]
    },
    {
     "name": "stdout",
     "output_type": "stream",
     "text": [
      "Epoch 1, Loss: 6.289004874229431\n",
      "[SYST] Epoch 1\n"
     ]
    },
    {
     "name": "stderr",
     "output_type": "stream",
     "text": [
      "100%|████████████████████████████████████████████████████████| 200/200 [00:13<00:00, 14.85it/s]\n"
     ]
    },
    {
     "name": "stdout",
     "output_type": "stream",
     "text": [
      "Epoch 2, Loss: 5.355812799930573\n",
      "[SYST] Epoch 2\n"
     ]
    },
    {
     "name": "stderr",
     "output_type": "stream",
     "text": [
      "100%|████████████████████████████████████████████████████████| 200/200 [00:13<00:00, 14.66it/s]\n"
     ]
    },
    {
     "name": "stdout",
     "output_type": "stream",
     "text": [
      "Epoch 3, Loss: 4.567386856079102\n",
      "[SYST] Epoch 3\n"
     ]
    },
    {
     "name": "stderr",
     "output_type": "stream",
     "text": [
      "100%|████████████████████████████████████████████████████████| 200/200 [00:13<00:00, 14.66it/s]\n"
     ]
    },
    {
     "name": "stdout",
     "output_type": "stream",
     "text": [
      "Epoch 4, Loss: 4.18386761546135\n",
      "[SYST] Epoch 4\n"
     ]
    },
    {
     "name": "stderr",
     "output_type": "stream",
     "text": [
      "100%|████████████████████████████████████████████████████████| 200/200 [00:14<00:00, 13.36it/s]\n"
     ]
    },
    {
     "name": "stdout",
     "output_type": "stream",
     "text": [
      "Epoch 5, Loss: 4.145770304203033\n",
      "[SYST] Epoch 5\n"
     ]
    },
    {
     "name": "stderr",
     "output_type": "stream",
     "text": [
      "100%|████████████████████████████████████████████████████████| 200/200 [00:14<00:00, 13.51it/s]\n"
     ]
    },
    {
     "name": "stdout",
     "output_type": "stream",
     "text": [
      "Epoch 6, Loss: 4.108358289003372\n",
      "[SYST] Epoch 6\n"
     ]
    },
    {
     "name": "stderr",
     "output_type": "stream",
     "text": [
      "100%|████████████████████████████████████████████████████████| 200/200 [00:15<00:00, 13.22it/s]\n"
     ]
    },
    {
     "name": "stdout",
     "output_type": "stream",
     "text": [
      "Epoch 7, Loss: 4.025052486658097\n",
      "[SYST] Epoch 7\n"
     ]
    },
    {
     "name": "stderr",
     "output_type": "stream",
     "text": [
      "100%|████████████████████████████████████████████████████████| 200/200 [00:15<00:00, 13.26it/s]\n"
     ]
    },
    {
     "name": "stdout",
     "output_type": "stream",
     "text": [
      "Epoch 8, Loss: 3.940395601987839\n",
      "[SYST] Epoch 8\n"
     ]
    },
    {
     "name": "stderr",
     "output_type": "stream",
     "text": [
      "100%|████████████████████████████████████████████████████████| 200/200 [00:14<00:00, 13.45it/s]\n"
     ]
    },
    {
     "name": "stdout",
     "output_type": "stream",
     "text": [
      "Epoch 9, Loss: 3.900577119588852\n",
      "[SYST] Epoch 9\n"
     ]
    },
    {
     "name": "stderr",
     "output_type": "stream",
     "text": [
      "100%|████████████████████████████████████████████████████████| 200/200 [00:13<00:00, 14.32it/s]\n"
     ]
    },
    {
     "name": "stdout",
     "output_type": "stream",
     "text": [
      "Epoch 10, Loss: 3.8851891028881074\n",
      "[SYST] Epoch 0\n"
     ]
    },
    {
     "name": "stderr",
     "output_type": "stream",
     "text": [
      "100%|████████████████████████████████████████████████████████████| 2/2 [00:00<00:00, 16.35it/s]\n"
     ]
    },
    {
     "name": "stdout",
     "output_type": "stream",
     "text": [
      "Test Accuracy: 69.34%\n",
      "[{'accuracy': 0.9989, 'Layer1': {'[[0, 1, 2, 3, 4, 5, 6, 7], [8, 9, 10, 11, 12, 13, 14, 15]]': 0.960625, '[[0, 1], [2, 3]]': 0.8984375, '[[0], [1]]': 0.87734375}, 'Layer2': {'[[0, 1, 2, 3, 4, 5, 6, 7], [8, 9, 10, 11, 12, 13, 14, 15]]': 0.633046875, '[[0, 1], [2, 3]]': 0.767265625, '[[0], [1]]': 0.623515625}, 'Layer3': {'[[0, 1, 2, 3, 4, 5, 6, 7], [8, 9, 10, 11, 12, 13, 14, 15]]': 0.562578125, '[[0, 1], [2, 3]]': 0.631953125, '[[0], [1]]': 0.627265625}}, {'accuracy': 0.998, 'Layer1': {'[[0, 1, 2, 3, 4, 5, 6, 7], [8, 9, 10, 11, 12, 13, 14, 15]]': 0.885390625, '[[0, 1], [2, 3]]': 0.808515625, '[[0], [1]]': 0.806796875}, 'Layer2': {'[[0, 1, 2, 3, 4, 5, 6, 7], [8, 9, 10, 11, 12, 13, 14, 15]]': 0.558359375, '[[0, 1], [2, 3]]': 0.547109375, '[[0], [1]]': 0.475}, 'Layer3': {'[[0, 1, 2, 3, 4, 5, 6, 7], [8, 9, 10, 11, 12, 13, 14, 15]]': 0.61296875, '[[0, 1], [2, 3]]': 0.64421875, '[[0], [1]]': 0.6378125}}, {'accuracy': 0.9988, 'Layer1': {'[[0, 1, 2, 3, 4, 5, 6, 7], [8, 9, 10, 11, 12, 13, 14, 15]]': 0.945234375, '[[0, 1], [2, 3]]': 0.87828125, '[[0], [1]]': 0.847109375}, 'Layer2': {'[[0, 1, 2, 3, 4, 5, 6, 7], [8, 9, 10, 11, 12, 13, 14, 15]]': 0.91125, '[[0, 1], [2, 3]]': 0.86890625, '[[0], [1]]': 0.823984375}, 'Layer3': {'[[0, 1, 2, 3, 4, 5, 6, 7], [8, 9, 10, 11, 12, 13, 14, 15]]': 0.6046875, '[[0, 1], [2, 3]]': 0.63546875, '[[0], [1]]': 0.625390625}}, {'accuracy': 0.9989, 'Layer1': {'[[0, 1, 2, 3, 4, 5, 6, 7], [8, 9, 10, 11, 12, 13, 14, 15]]': 0.892734375, '[[0, 1], [2, 3]]': 0.8578125, '[[0], [1]]': 0.835078125}, 'Layer2': {'[[0, 1, 2, 3, 4, 5, 6, 7], [8, 9, 10, 11, 12, 13, 14, 15]]': 0.65078125, '[[0, 1], [2, 3]]': 0.619921875, '[[0], [1]]': 0.60828125}, 'Layer3': {'[[0, 1, 2, 3, 4, 5, 6, 7], [8, 9, 10, 11, 12, 13, 14, 15]]': 0.631171875, '[[0, 1], [2, 3]]': 0.664609375, '[[0], [1]]': 0.66453125}}, {'accuracy': 0.9974, 'Layer1': {'[[0, 1, 2, 3, 4, 5, 6, 7], [8, 9, 10, 11, 12, 13, 14, 15]]': 0.946875, '[[0, 1], [2, 3]]': 0.8821875, '[[0], [1]]': 0.55375}, 'Layer2': {'[[0, 1, 2, 3, 4, 5, 6, 7], [8, 9, 10, 11, 12, 13, 14, 15]]': 0.68890625, '[[0, 1], [2, 3]]': 0.561640625, '[[0], [1]]': 0.5209375}, 'Layer3': {'[[0, 1, 2, 3, 4, 5, 6, 7], [8, 9, 10, 11, 12, 13, 14, 15]]': 0.613984375, '[[0, 1], [2, 3]]': 0.62515625, '[[0], [1]]': 0.6325}}, {'accuracy': 0.9999, 'Layer1': {'[[0, 1, 2, 3, 4, 5, 6, 7], [8, 9, 10, 11, 12, 13, 14, 15]]': 0.95109375, '[[0, 1], [2, 3]]': 0.935625, '[[0], [1]]': 0.910859375}, 'Layer2': {'[[0, 1, 2, 3, 4, 5, 6, 7], [8, 9, 10, 11, 12, 13, 14, 15]]': 0.73109375, '[[0, 1], [2, 3]]': 0.693359375}}]\n",
      "Layer2 : [[0], [1]]\n",
      "restructuring\n"
     ]
    },
    {
     "name": "stderr",
     "output_type": "stream",
     "text": [
      "100%|█████████████████████████████████████████████| 1280000/1280000 [00:26<00:00, 47839.45it/s]\n"
     ]
    },
    {
     "name": "stdout",
     "output_type": "stream",
     "text": [
      "restructuring\n"
     ]
    },
    {
     "name": "stderr",
     "output_type": "stream",
     "text": [
      "100%|█████████████████████████████████████████████████| 12800/12800 [00:00<00:00, 34199.89it/s]\n"
     ]
    },
    {
     "name": "stdout",
     "output_type": "stream",
     "text": [
      "[SYST] Prepare Data\n"
     ]
    },
    {
     "name": "stderr",
     "output_type": "stream",
     "text": [
      "100%|█████████████████████████████████████████████| 1280000/1280000 [00:19<00:00, 66008.80it/s]\n"
     ]
    },
    {
     "name": "stdout",
     "output_type": "stream",
     "text": [
      "[SYST] Prepare Data\n"
     ]
    },
    {
     "name": "stderr",
     "output_type": "stream",
     "text": [
      "100%|█████████████████████████████████████████████████| 12800/12800 [00:00<00:00, 18989.16it/s]\n"
     ]
    },
    {
     "name": "stdout",
     "output_type": "stream",
     "text": [
      "[SYST] Epoch 0\n"
     ]
    },
    {
     "name": "stderr",
     "output_type": "stream",
     "text": [
      "100%|████████████████████████████████████████████████████████| 200/200 [00:13<00:00, 15.04it/s]\n"
     ]
    },
    {
     "name": "stdout",
     "output_type": "stream",
     "text": [
      "Epoch 1, Loss: 6.301885395050049\n",
      "[SYST] Epoch 1\n"
     ]
    },
    {
     "name": "stderr",
     "output_type": "stream",
     "text": [
      "100%|████████████████████████████████████████████████████████| 200/200 [00:14<00:00, 13.82it/s]\n"
     ]
    },
    {
     "name": "stdout",
     "output_type": "stream",
     "text": [
      "Epoch 2, Loss: 5.563034105300903\n",
      "[SYST] Epoch 2\n"
     ]
    },
    {
     "name": "stderr",
     "output_type": "stream",
     "text": [
      "100%|████████████████████████████████████████████████████████| 200/200 [00:13<00:00, 14.93it/s]\n"
     ]
    },
    {
     "name": "stdout",
     "output_type": "stream",
     "text": [
      "Epoch 3, Loss: 5.444034261703491\n",
      "[SYST] Epoch 3\n"
     ]
    },
    {
     "name": "stderr",
     "output_type": "stream",
     "text": [
      "100%|████████████████████████████████████████████████████████| 200/200 [00:13<00:00, 14.91it/s]\n"
     ]
    },
    {
     "name": "stdout",
     "output_type": "stream",
     "text": [
      "Epoch 4, Loss: 5.418616719245911\n",
      "[SYST] Epoch 4\n"
     ]
    },
    {
     "name": "stderr",
     "output_type": "stream",
     "text": [
      "100%|████████████████████████████████████████████████████████| 200/200 [00:14<00:00, 14.12it/s]\n"
     ]
    },
    {
     "name": "stdout",
     "output_type": "stream",
     "text": [
      "Epoch 5, Loss: 5.408533489704132\n",
      "[SYST] Epoch 5\n"
     ]
    },
    {
     "name": "stderr",
     "output_type": "stream",
     "text": [
      "100%|████████████████████████████████████████████████████████| 200/200 [00:13<00:00, 14.93it/s]\n"
     ]
    },
    {
     "name": "stdout",
     "output_type": "stream",
     "text": [
      "Epoch 6, Loss: 5.404738402366638\n",
      "[SYST] Epoch 6\n"
     ]
    },
    {
     "name": "stderr",
     "output_type": "stream",
     "text": [
      "100%|████████████████████████████████████████████████████████| 200/200 [00:14<00:00, 13.75it/s]\n"
     ]
    },
    {
     "name": "stdout",
     "output_type": "stream",
     "text": [
      "Epoch 7, Loss: 5.40308744430542\n",
      "[SYST] Epoch 7\n"
     ]
    },
    {
     "name": "stderr",
     "output_type": "stream",
     "text": [
      "100%|████████████████████████████████████████████████████████| 200/200 [00:14<00:00, 13.69it/s]\n"
     ]
    },
    {
     "name": "stdout",
     "output_type": "stream",
     "text": [
      "Epoch 8, Loss: 5.40210782289505\n",
      "[SYST] Epoch 8\n"
     ]
    },
    {
     "name": "stderr",
     "output_type": "stream",
     "text": [
      "100%|████████████████████████████████████████████████████████| 200/200 [00:13<00:00, 14.33it/s]\n"
     ]
    },
    {
     "name": "stdout",
     "output_type": "stream",
     "text": [
      "Epoch 9, Loss: 5.401541976928711\n",
      "[SYST] Epoch 9\n"
     ]
    },
    {
     "name": "stderr",
     "output_type": "stream",
     "text": [
      "100%|████████████████████████████████████████████████████████| 200/200 [00:13<00:00, 14.93it/s]\n"
     ]
    },
    {
     "name": "stdout",
     "output_type": "stream",
     "text": [
      "Epoch 10, Loss: 5.400623769760132\n",
      "[SYST] Epoch 0\n"
     ]
    },
    {
     "name": "stderr",
     "output_type": "stream",
     "text": [
      "100%|████████████████████████████████████████████████████████████| 2/2 [00:00<00:00, 16.25it/s]\n"
     ]
    },
    {
     "name": "stdout",
     "output_type": "stream",
     "text": [
      "Test Accuracy: 52.30%\n",
      "[{'accuracy': 0.9989, 'Layer1': {'[[0, 1, 2, 3, 4, 5, 6, 7], [8, 9, 10, 11, 12, 13, 14, 15]]': 0.960625, '[[0, 1], [2, 3]]': 0.8984375, '[[0], [1]]': 0.87734375}, 'Layer2': {'[[0, 1, 2, 3, 4, 5, 6, 7], [8, 9, 10, 11, 12, 13, 14, 15]]': 0.633046875, '[[0, 1], [2, 3]]': 0.767265625, '[[0], [1]]': 0.623515625}, 'Layer3': {'[[0, 1, 2, 3, 4, 5, 6, 7], [8, 9, 10, 11, 12, 13, 14, 15]]': 0.562578125, '[[0, 1], [2, 3]]': 0.631953125, '[[0], [1]]': 0.627265625}}, {'accuracy': 0.998, 'Layer1': {'[[0, 1, 2, 3, 4, 5, 6, 7], [8, 9, 10, 11, 12, 13, 14, 15]]': 0.885390625, '[[0, 1], [2, 3]]': 0.808515625, '[[0], [1]]': 0.806796875}, 'Layer2': {'[[0, 1, 2, 3, 4, 5, 6, 7], [8, 9, 10, 11, 12, 13, 14, 15]]': 0.558359375, '[[0, 1], [2, 3]]': 0.547109375, '[[0], [1]]': 0.475}, 'Layer3': {'[[0, 1, 2, 3, 4, 5, 6, 7], [8, 9, 10, 11, 12, 13, 14, 15]]': 0.61296875, '[[0, 1], [2, 3]]': 0.64421875, '[[0], [1]]': 0.6378125}}, {'accuracy': 0.9988, 'Layer1': {'[[0, 1, 2, 3, 4, 5, 6, 7], [8, 9, 10, 11, 12, 13, 14, 15]]': 0.945234375, '[[0, 1], [2, 3]]': 0.87828125, '[[0], [1]]': 0.847109375}, 'Layer2': {'[[0, 1, 2, 3, 4, 5, 6, 7], [8, 9, 10, 11, 12, 13, 14, 15]]': 0.91125, '[[0, 1], [2, 3]]': 0.86890625, '[[0], [1]]': 0.823984375}, 'Layer3': {'[[0, 1, 2, 3, 4, 5, 6, 7], [8, 9, 10, 11, 12, 13, 14, 15]]': 0.6046875, '[[0, 1], [2, 3]]': 0.63546875, '[[0], [1]]': 0.625390625}}, {'accuracy': 0.9989, 'Layer1': {'[[0, 1, 2, 3, 4, 5, 6, 7], [8, 9, 10, 11, 12, 13, 14, 15]]': 0.892734375, '[[0, 1], [2, 3]]': 0.8578125, '[[0], [1]]': 0.835078125}, 'Layer2': {'[[0, 1, 2, 3, 4, 5, 6, 7], [8, 9, 10, 11, 12, 13, 14, 15]]': 0.65078125, '[[0, 1], [2, 3]]': 0.619921875, '[[0], [1]]': 0.60828125}, 'Layer3': {'[[0, 1, 2, 3, 4, 5, 6, 7], [8, 9, 10, 11, 12, 13, 14, 15]]': 0.631171875, '[[0, 1], [2, 3]]': 0.664609375, '[[0], [1]]': 0.66453125}}, {'accuracy': 0.9974, 'Layer1': {'[[0, 1, 2, 3, 4, 5, 6, 7], [8, 9, 10, 11, 12, 13, 14, 15]]': 0.946875, '[[0, 1], [2, 3]]': 0.8821875, '[[0], [1]]': 0.55375}, 'Layer2': {'[[0, 1, 2, 3, 4, 5, 6, 7], [8, 9, 10, 11, 12, 13, 14, 15]]': 0.68890625, '[[0, 1], [2, 3]]': 0.561640625, '[[0], [1]]': 0.5209375}, 'Layer3': {'[[0, 1, 2, 3, 4, 5, 6, 7], [8, 9, 10, 11, 12, 13, 14, 15]]': 0.613984375, '[[0, 1], [2, 3]]': 0.62515625, '[[0], [1]]': 0.6325}}, {'accuracy': 0.9999, 'Layer1': {'[[0, 1, 2, 3, 4, 5, 6, 7], [8, 9, 10, 11, 12, 13, 14, 15]]': 0.95109375, '[[0, 1], [2, 3]]': 0.935625, '[[0], [1]]': 0.910859375}, 'Layer2': {'[[0, 1, 2, 3, 4, 5, 6, 7], [8, 9, 10, 11, 12, 13, 14, 15]]': 0.73109375, '[[0, 1], [2, 3]]': 0.693359375, '[[0], [1]]': 0.523046875}}]\n",
      "Layer3 : [[0, 1, 2, 3, 4, 5, 6, 7], [8, 9, 10, 11, 12, 13, 14, 15]]\n",
      "restructuring\n"
     ]
    },
    {
     "name": "stderr",
     "output_type": "stream",
     "text": [
      "100%|█████████████████████████████████████████████| 1280000/1280000 [00:27<00:00, 45931.55it/s]\n"
     ]
    },
    {
     "name": "stdout",
     "output_type": "stream",
     "text": [
      "restructuring\n"
     ]
    },
    {
     "name": "stderr",
     "output_type": "stream",
     "text": [
      "100%|█████████████████████████████████████████████████| 12800/12800 [00:00<00:00, 33549.90it/s]\n"
     ]
    },
    {
     "name": "stdout",
     "output_type": "stream",
     "text": [
      "[SYST] Prepare Data\n"
     ]
    },
    {
     "name": "stderr",
     "output_type": "stream",
     "text": [
      "100%|█████████████████████████████████████████████| 1280000/1280000 [00:14<00:00, 90071.12it/s]\n"
     ]
    },
    {
     "name": "stdout",
     "output_type": "stream",
     "text": [
      "[SYST] Prepare Data\n"
     ]
    },
    {
     "name": "stderr",
     "output_type": "stream",
     "text": [
      "100%|█████████████████████████████████████████████████| 12800/12800 [00:00<00:00, 23340.20it/s]\n"
     ]
    },
    {
     "name": "stdout",
     "output_type": "stream",
     "text": [
      "[SYST] Epoch 0\n"
     ]
    },
    {
     "name": "stderr",
     "output_type": "stream",
     "text": [
      "100%|████████████████████████████████████████████████████████| 200/200 [00:13<00:00, 14.88it/s]\n"
     ]
    },
    {
     "name": "stdout",
     "output_type": "stream",
     "text": [
      "Epoch 1, Loss: 5.453876285552979\n",
      "[SYST] Epoch 1\n"
     ]
    },
    {
     "name": "stderr",
     "output_type": "stream",
     "text": [
      "100%|████████████████████████████████████████████████████████| 200/200 [00:13<00:00, 15.09it/s]\n"
     ]
    },
    {
     "name": "stdout",
     "output_type": "stream",
     "text": [
      "Epoch 2, Loss: 5.4401545596122745\n",
      "[SYST] Epoch 2\n"
     ]
    },
    {
     "name": "stderr",
     "output_type": "stream",
     "text": [
      "100%|████████████████████████████████████████████████████████| 200/200 [00:13<00:00, 15.09it/s]\n"
     ]
    },
    {
     "name": "stdout",
     "output_type": "stream",
     "text": [
      "Epoch 3, Loss: 5.434700133800507\n",
      "[SYST] Epoch 3\n"
     ]
    },
    {
     "name": "stderr",
     "output_type": "stream",
     "text": [
      "100%|████████████████████████████████████████████████████████| 200/200 [00:14<00:00, 14.26it/s]\n"
     ]
    },
    {
     "name": "stdout",
     "output_type": "stream",
     "text": [
      "Epoch 4, Loss: 5.43130544424057\n",
      "[SYST] Epoch 4\n"
     ]
    },
    {
     "name": "stderr",
     "output_type": "stream",
     "text": [
      "100%|████████████████████████████████████████████████████████| 200/200 [00:14<00:00, 13.84it/s]\n"
     ]
    },
    {
     "name": "stdout",
     "output_type": "stream",
     "text": [
      "Epoch 5, Loss: 5.429638295173645\n",
      "[SYST] Epoch 5\n"
     ]
    },
    {
     "name": "stderr",
     "output_type": "stream",
     "text": [
      "100%|████████████████████████████████████████████████████████| 200/200 [00:13<00:00, 14.43it/s]\n"
     ]
    },
    {
     "name": "stdout",
     "output_type": "stream",
     "text": [
      "Epoch 6, Loss: 5.428073036670685\n",
      "[SYST] Epoch 6\n"
     ]
    },
    {
     "name": "stderr",
     "output_type": "stream",
     "text": [
      "100%|████████████████████████████████████████████████████████| 200/200 [00:13<00:00, 14.87it/s]\n"
     ]
    },
    {
     "name": "stdout",
     "output_type": "stream",
     "text": [
      "Epoch 7, Loss: 5.426930129528046\n",
      "[SYST] Epoch 7\n"
     ]
    },
    {
     "name": "stderr",
     "output_type": "stream",
     "text": [
      "100%|████████████████████████████████████████████████████████| 200/200 [00:13<00:00, 14.88it/s]\n"
     ]
    },
    {
     "name": "stdout",
     "output_type": "stream",
     "text": [
      "Epoch 8, Loss: 5.426288137435913\n",
      "[SYST] Epoch 8\n"
     ]
    },
    {
     "name": "stderr",
     "output_type": "stream",
     "text": [
      "100%|████████████████████████████████████████████████████████| 200/200 [00:13<00:00, 14.91it/s]\n"
     ]
    },
    {
     "name": "stdout",
     "output_type": "stream",
     "text": [
      "Epoch 9, Loss: 5.425967667102814\n",
      "[SYST] Epoch 9\n"
     ]
    },
    {
     "name": "stderr",
     "output_type": "stream",
     "text": [
      "100%|████████████████████████████████████████████████████████| 200/200 [00:13<00:00, 14.94it/s]\n"
     ]
    },
    {
     "name": "stdout",
     "output_type": "stream",
     "text": [
      "Epoch 10, Loss: 5.425514430999756\n",
      "[SYST] Epoch 0\n"
     ]
    },
    {
     "name": "stderr",
     "output_type": "stream",
     "text": [
      "100%|████████████████████████████████████████████████████████████| 2/2 [00:00<00:00, 16.26it/s]\n"
     ]
    },
    {
     "name": "stdout",
     "output_type": "stream",
     "text": [
      "Test Accuracy: 62.31%\n",
      "[{'accuracy': 0.9989, 'Layer1': {'[[0, 1, 2, 3, 4, 5, 6, 7], [8, 9, 10, 11, 12, 13, 14, 15]]': 0.960625, '[[0, 1], [2, 3]]': 0.8984375, '[[0], [1]]': 0.87734375}, 'Layer2': {'[[0, 1, 2, 3, 4, 5, 6, 7], [8, 9, 10, 11, 12, 13, 14, 15]]': 0.633046875, '[[0, 1], [2, 3]]': 0.767265625, '[[0], [1]]': 0.623515625}, 'Layer3': {'[[0, 1, 2, 3, 4, 5, 6, 7], [8, 9, 10, 11, 12, 13, 14, 15]]': 0.562578125, '[[0, 1], [2, 3]]': 0.631953125, '[[0], [1]]': 0.627265625}}, {'accuracy': 0.998, 'Layer1': {'[[0, 1, 2, 3, 4, 5, 6, 7], [8, 9, 10, 11, 12, 13, 14, 15]]': 0.885390625, '[[0, 1], [2, 3]]': 0.808515625, '[[0], [1]]': 0.806796875}, 'Layer2': {'[[0, 1, 2, 3, 4, 5, 6, 7], [8, 9, 10, 11, 12, 13, 14, 15]]': 0.558359375, '[[0, 1], [2, 3]]': 0.547109375, '[[0], [1]]': 0.475}, 'Layer3': {'[[0, 1, 2, 3, 4, 5, 6, 7], [8, 9, 10, 11, 12, 13, 14, 15]]': 0.61296875, '[[0, 1], [2, 3]]': 0.64421875, '[[0], [1]]': 0.6378125}}, {'accuracy': 0.9988, 'Layer1': {'[[0, 1, 2, 3, 4, 5, 6, 7], [8, 9, 10, 11, 12, 13, 14, 15]]': 0.945234375, '[[0, 1], [2, 3]]': 0.87828125, '[[0], [1]]': 0.847109375}, 'Layer2': {'[[0, 1, 2, 3, 4, 5, 6, 7], [8, 9, 10, 11, 12, 13, 14, 15]]': 0.91125, '[[0, 1], [2, 3]]': 0.86890625, '[[0], [1]]': 0.823984375}, 'Layer3': {'[[0, 1, 2, 3, 4, 5, 6, 7], [8, 9, 10, 11, 12, 13, 14, 15]]': 0.6046875, '[[0, 1], [2, 3]]': 0.63546875, '[[0], [1]]': 0.625390625}}, {'accuracy': 0.9989, 'Layer1': {'[[0, 1, 2, 3, 4, 5, 6, 7], [8, 9, 10, 11, 12, 13, 14, 15]]': 0.892734375, '[[0, 1], [2, 3]]': 0.8578125, '[[0], [1]]': 0.835078125}, 'Layer2': {'[[0, 1, 2, 3, 4, 5, 6, 7], [8, 9, 10, 11, 12, 13, 14, 15]]': 0.65078125, '[[0, 1], [2, 3]]': 0.619921875, '[[0], [1]]': 0.60828125}, 'Layer3': {'[[0, 1, 2, 3, 4, 5, 6, 7], [8, 9, 10, 11, 12, 13, 14, 15]]': 0.631171875, '[[0, 1], [2, 3]]': 0.664609375, '[[0], [1]]': 0.66453125}}, {'accuracy': 0.9974, 'Layer1': {'[[0, 1, 2, 3, 4, 5, 6, 7], [8, 9, 10, 11, 12, 13, 14, 15]]': 0.946875, '[[0, 1], [2, 3]]': 0.8821875, '[[0], [1]]': 0.55375}, 'Layer2': {'[[0, 1, 2, 3, 4, 5, 6, 7], [8, 9, 10, 11, 12, 13, 14, 15]]': 0.68890625, '[[0, 1], [2, 3]]': 0.561640625, '[[0], [1]]': 0.5209375}, 'Layer3': {'[[0, 1, 2, 3, 4, 5, 6, 7], [8, 9, 10, 11, 12, 13, 14, 15]]': 0.613984375, '[[0, 1], [2, 3]]': 0.62515625, '[[0], [1]]': 0.6325}}, {'accuracy': 0.9999, 'Layer1': {'[[0, 1, 2, 3, 4, 5, 6, 7], [8, 9, 10, 11, 12, 13, 14, 15]]': 0.95109375, '[[0, 1], [2, 3]]': 0.935625, '[[0], [1]]': 0.910859375}, 'Layer2': {'[[0, 1, 2, 3, 4, 5, 6, 7], [8, 9, 10, 11, 12, 13, 14, 15]]': 0.73109375, '[[0, 1], [2, 3]]': 0.693359375, '[[0], [1]]': 0.523046875}, 'Layer3': {'[[0, 1, 2, 3, 4, 5, 6, 7], [8, 9, 10, 11, 12, 13, 14, 15]]': 0.623125}}]\n",
      "Layer3 : [[0, 1], [2, 3]]\n",
      "restructuring\n"
     ]
    },
    {
     "name": "stderr",
     "output_type": "stream",
     "text": [
      "100%|█████████████████████████████████████████████| 1280000/1280000 [00:27<00:00, 45877.08it/s]\n"
     ]
    },
    {
     "name": "stdout",
     "output_type": "stream",
     "text": [
      "restructuring\n"
     ]
    },
    {
     "name": "stderr",
     "output_type": "stream",
     "text": [
      "100%|█████████████████████████████████████████████████| 12800/12800 [00:00<00:00, 34242.12it/s]\n"
     ]
    },
    {
     "name": "stdout",
     "output_type": "stream",
     "text": [
      "[SYST] Prepare Data\n"
     ]
    },
    {
     "name": "stderr",
     "output_type": "stream",
     "text": [
      "100%|█████████████████████████████████████████████| 1280000/1280000 [00:20<00:00, 63424.81it/s]\n"
     ]
    },
    {
     "name": "stdout",
     "output_type": "stream",
     "text": [
      "[SYST] Prepare Data\n"
     ]
    },
    {
     "name": "stderr",
     "output_type": "stream",
     "text": [
      "100%|█████████████████████████████████████████████████| 12800/12800 [00:00<00:00, 24414.22it/s]\n"
     ]
    },
    {
     "name": "stdout",
     "output_type": "stream",
     "text": [
      "[SYST] Epoch 0\n"
     ]
    },
    {
     "name": "stderr",
     "output_type": "stream",
     "text": [
      "100%|████████████████████████████████████████████████████████| 200/200 [00:13<00:00, 14.80it/s]\n"
     ]
    },
    {
     "name": "stdout",
     "output_type": "stream",
     "text": [
      "Epoch 1, Loss: 5.537850587368012\n",
      "[SYST] Epoch 1\n"
     ]
    },
    {
     "name": "stderr",
     "output_type": "stream",
     "text": [
      "100%|████████████████████████████████████████████████████████| 200/200 [00:13<00:00, 14.89it/s]\n"
     ]
    },
    {
     "name": "stdout",
     "output_type": "stream",
     "text": [
      "Epoch 2, Loss: 5.304735486507416\n",
      "[SYST] Epoch 2\n"
     ]
    },
    {
     "name": "stderr",
     "output_type": "stream",
     "text": [
      "100%|████████████████████████████████████████████████████████| 200/200 [00:14<00:00, 13.69it/s]\n"
     ]
    },
    {
     "name": "stdout",
     "output_type": "stream",
     "text": [
      "Epoch 3, Loss: 5.288455002307892\n",
      "[SYST] Epoch 3\n"
     ]
    },
    {
     "name": "stderr",
     "output_type": "stream",
     "text": [
      "100%|████████████████████████████████████████████████████████| 200/200 [00:13<00:00, 14.70it/s]\n"
     ]
    },
    {
     "name": "stdout",
     "output_type": "stream",
     "text": [
      "Epoch 4, Loss: 5.283562390804291\n",
      "[SYST] Epoch 4\n"
     ]
    },
    {
     "name": "stderr",
     "output_type": "stream",
     "text": [
      "100%|████████████████████████████████████████████████████████| 200/200 [00:13<00:00, 14.45it/s]\n"
     ]
    },
    {
     "name": "stdout",
     "output_type": "stream",
     "text": [
      "Epoch 5, Loss: 5.280865566730499\n",
      "[SYST] Epoch 5\n"
     ]
    },
    {
     "name": "stderr",
     "output_type": "stream",
     "text": [
      "100%|████████████████████████████████████████████████████████| 200/200 [00:13<00:00, 14.91it/s]\n"
     ]
    },
    {
     "name": "stdout",
     "output_type": "stream",
     "text": [
      "Epoch 6, Loss: 5.278693764209748\n",
      "[SYST] Epoch 6\n"
     ]
    },
    {
     "name": "stderr",
     "output_type": "stream",
     "text": [
      "100%|████████████████████████████████████████████████████████| 200/200 [00:13<00:00, 14.84it/s]\n"
     ]
    },
    {
     "name": "stdout",
     "output_type": "stream",
     "text": [
      "Epoch 7, Loss: 5.2774259781837465\n",
      "[SYST] Epoch 7\n"
     ]
    },
    {
     "name": "stderr",
     "output_type": "stream",
     "text": [
      "100%|████████████████████████████████████████████████████████| 200/200 [00:13<00:00, 14.95it/s]\n"
     ]
    },
    {
     "name": "stdout",
     "output_type": "stream",
     "text": [
      "Epoch 8, Loss: 5.276331412792206\n",
      "[SYST] Epoch 8\n"
     ]
    },
    {
     "name": "stderr",
     "output_type": "stream",
     "text": [
      "100%|████████████████████████████████████████████████████████| 200/200 [00:13<00:00, 14.73it/s]\n"
     ]
    },
    {
     "name": "stdout",
     "output_type": "stream",
     "text": [
      "Epoch 9, Loss: 5.275709247589111\n",
      "[SYST] Epoch 9\n"
     ]
    },
    {
     "name": "stderr",
     "output_type": "stream",
     "text": [
      "100%|████████████████████████████████████████████████████████| 200/200 [00:13<00:00, 14.61it/s]\n"
     ]
    },
    {
     "name": "stdout",
     "output_type": "stream",
     "text": [
      "Epoch 10, Loss: 5.275371532440186\n",
      "[SYST] Epoch 0\n"
     ]
    },
    {
     "name": "stderr",
     "output_type": "stream",
     "text": [
      "100%|████████████████████████████████████████████████████████████| 2/2 [00:00<00:00, 16.33it/s]\n"
     ]
    },
    {
     "name": "stdout",
     "output_type": "stream",
     "text": [
      "Test Accuracy: 66.81%\n",
      "[{'accuracy': 0.9989, 'Layer1': {'[[0, 1, 2, 3, 4, 5, 6, 7], [8, 9, 10, 11, 12, 13, 14, 15]]': 0.960625, '[[0, 1], [2, 3]]': 0.8984375, '[[0], [1]]': 0.87734375}, 'Layer2': {'[[0, 1, 2, 3, 4, 5, 6, 7], [8, 9, 10, 11, 12, 13, 14, 15]]': 0.633046875, '[[0, 1], [2, 3]]': 0.767265625, '[[0], [1]]': 0.623515625}, 'Layer3': {'[[0, 1, 2, 3, 4, 5, 6, 7], [8, 9, 10, 11, 12, 13, 14, 15]]': 0.562578125, '[[0, 1], [2, 3]]': 0.631953125, '[[0], [1]]': 0.627265625}}, {'accuracy': 0.998, 'Layer1': {'[[0, 1, 2, 3, 4, 5, 6, 7], [8, 9, 10, 11, 12, 13, 14, 15]]': 0.885390625, '[[0, 1], [2, 3]]': 0.808515625, '[[0], [1]]': 0.806796875}, 'Layer2': {'[[0, 1, 2, 3, 4, 5, 6, 7], [8, 9, 10, 11, 12, 13, 14, 15]]': 0.558359375, '[[0, 1], [2, 3]]': 0.547109375, '[[0], [1]]': 0.475}, 'Layer3': {'[[0, 1, 2, 3, 4, 5, 6, 7], [8, 9, 10, 11, 12, 13, 14, 15]]': 0.61296875, '[[0, 1], [2, 3]]': 0.64421875, '[[0], [1]]': 0.6378125}}, {'accuracy': 0.9988, 'Layer1': {'[[0, 1, 2, 3, 4, 5, 6, 7], [8, 9, 10, 11, 12, 13, 14, 15]]': 0.945234375, '[[0, 1], [2, 3]]': 0.87828125, '[[0], [1]]': 0.847109375}, 'Layer2': {'[[0, 1, 2, 3, 4, 5, 6, 7], [8, 9, 10, 11, 12, 13, 14, 15]]': 0.91125, '[[0, 1], [2, 3]]': 0.86890625, '[[0], [1]]': 0.823984375}, 'Layer3': {'[[0, 1, 2, 3, 4, 5, 6, 7], [8, 9, 10, 11, 12, 13, 14, 15]]': 0.6046875, '[[0, 1], [2, 3]]': 0.63546875, '[[0], [1]]': 0.625390625}}, {'accuracy': 0.9989, 'Layer1': {'[[0, 1, 2, 3, 4, 5, 6, 7], [8, 9, 10, 11, 12, 13, 14, 15]]': 0.892734375, '[[0, 1], [2, 3]]': 0.8578125, '[[0], [1]]': 0.835078125}, 'Layer2': {'[[0, 1, 2, 3, 4, 5, 6, 7], [8, 9, 10, 11, 12, 13, 14, 15]]': 0.65078125, '[[0, 1], [2, 3]]': 0.619921875, '[[0], [1]]': 0.60828125}, 'Layer3': {'[[0, 1, 2, 3, 4, 5, 6, 7], [8, 9, 10, 11, 12, 13, 14, 15]]': 0.631171875, '[[0, 1], [2, 3]]': 0.664609375, '[[0], [1]]': 0.66453125}}, {'accuracy': 0.9974, 'Layer1': {'[[0, 1, 2, 3, 4, 5, 6, 7], [8, 9, 10, 11, 12, 13, 14, 15]]': 0.946875, '[[0, 1], [2, 3]]': 0.8821875, '[[0], [1]]': 0.55375}, 'Layer2': {'[[0, 1, 2, 3, 4, 5, 6, 7], [8, 9, 10, 11, 12, 13, 14, 15]]': 0.68890625, '[[0, 1], [2, 3]]': 0.561640625, '[[0], [1]]': 0.5209375}, 'Layer3': {'[[0, 1, 2, 3, 4, 5, 6, 7], [8, 9, 10, 11, 12, 13, 14, 15]]': 0.613984375, '[[0, 1], [2, 3]]': 0.62515625, '[[0], [1]]': 0.6325}}, {'accuracy': 0.9999, 'Layer1': {'[[0, 1, 2, 3, 4, 5, 6, 7], [8, 9, 10, 11, 12, 13, 14, 15]]': 0.95109375, '[[0, 1], [2, 3]]': 0.935625, '[[0], [1]]': 0.910859375}, 'Layer2': {'[[0, 1, 2, 3, 4, 5, 6, 7], [8, 9, 10, 11, 12, 13, 14, 15]]': 0.73109375, '[[0, 1], [2, 3]]': 0.693359375, '[[0], [1]]': 0.523046875}, 'Layer3': {'[[0, 1, 2, 3, 4, 5, 6, 7], [8, 9, 10, 11, 12, 13, 14, 15]]': 0.623125, '[[0, 1], [2, 3]]': 0.668125}}]\n",
      "Layer3 : [[0], [1]]\n",
      "restructuring\n"
     ]
    },
    {
     "name": "stderr",
     "output_type": "stream",
     "text": [
      "100%|█████████████████████████████████████████████| 1280000/1280000 [00:26<00:00, 47538.69it/s]\n"
     ]
    },
    {
     "name": "stdout",
     "output_type": "stream",
     "text": [
      "restructuring\n"
     ]
    },
    {
     "name": "stderr",
     "output_type": "stream",
     "text": [
      "100%|█████████████████████████████████████████████████| 12800/12800 [00:00<00:00, 33947.24it/s]\n"
     ]
    },
    {
     "name": "stdout",
     "output_type": "stream",
     "text": [
      "[SYST] Prepare Data\n"
     ]
    },
    {
     "name": "stderr",
     "output_type": "stream",
     "text": [
      "100%|█████████████████████████████████████████████| 1280000/1280000 [00:19<00:00, 64029.72it/s]\n"
     ]
    },
    {
     "name": "stdout",
     "output_type": "stream",
     "text": [
      "[SYST] Prepare Data\n"
     ]
    },
    {
     "name": "stderr",
     "output_type": "stream",
     "text": [
      "100%|█████████████████████████████████████████████████| 12800/12800 [00:00<00:00, 18903.33it/s]\n"
     ]
    },
    {
     "name": "stdout",
     "output_type": "stream",
     "text": [
      "[SYST] Epoch 0\n"
     ]
    },
    {
     "name": "stderr",
     "output_type": "stream",
     "text": [
      "100%|████████████████████████████████████████████████████████| 200/200 [00:15<00:00, 13.16it/s]\n"
     ]
    },
    {
     "name": "stdout",
     "output_type": "stream",
     "text": [
      "Epoch 1, Loss: 5.923500638008118\n",
      "[SYST] Epoch 1\n"
     ]
    },
    {
     "name": "stderr",
     "output_type": "stream",
     "text": [
      "100%|████████████████████████████████████████████████████████| 200/200 [00:14<00:00, 13.61it/s]\n"
     ]
    },
    {
     "name": "stdout",
     "output_type": "stream",
     "text": [
      "Epoch 2, Loss: 5.318772358894348\n",
      "[SYST] Epoch 2\n"
     ]
    },
    {
     "name": "stderr",
     "output_type": "stream",
     "text": [
      "100%|████████████████████████████████████████████████████████| 200/200 [00:14<00:00, 13.66it/s]\n"
     ]
    },
    {
     "name": "stdout",
     "output_type": "stream",
     "text": [
      "Epoch 3, Loss: 5.290295991897583\n",
      "[SYST] Epoch 3\n"
     ]
    },
    {
     "name": "stderr",
     "output_type": "stream",
     "text": [
      "100%|████████████████████████████████████████████████████████| 200/200 [00:14<00:00, 13.36it/s]\n"
     ]
    },
    {
     "name": "stdout",
     "output_type": "stream",
     "text": [
      "Epoch 4, Loss: 5.283697745800018\n",
      "[SYST] Epoch 4\n"
     ]
    },
    {
     "name": "stderr",
     "output_type": "stream",
     "text": [
      "100%|████████████████████████████████████████████████████████| 200/200 [00:13<00:00, 14.38it/s]\n"
     ]
    },
    {
     "name": "stdout",
     "output_type": "stream",
     "text": [
      "Epoch 5, Loss: 5.280702459812164\n",
      "[SYST] Epoch 5\n"
     ]
    },
    {
     "name": "stderr",
     "output_type": "stream",
     "text": [
      "100%|████████████████████████████████████████████████████████| 200/200 [00:13<00:00, 14.86it/s]\n"
     ]
    },
    {
     "name": "stdout",
     "output_type": "stream",
     "text": [
      "Epoch 6, Loss: 5.279348032474518\n",
      "[SYST] Epoch 6\n"
     ]
    },
    {
     "name": "stderr",
     "output_type": "stream",
     "text": [
      "100%|████████████████████████████████████████████████████████| 200/200 [00:13<00:00, 14.67it/s]\n"
     ]
    },
    {
     "name": "stdout",
     "output_type": "stream",
     "text": [
      "Epoch 7, Loss: 5.277790794372558\n",
      "[SYST] Epoch 7\n"
     ]
    },
    {
     "name": "stderr",
     "output_type": "stream",
     "text": [
      "100%|████████████████████████████████████████████████████████| 200/200 [00:14<00:00, 13.39it/s]\n"
     ]
    },
    {
     "name": "stdout",
     "output_type": "stream",
     "text": [
      "Epoch 8, Loss: 5.276369249820709\n",
      "[SYST] Epoch 8\n"
     ]
    },
    {
     "name": "stderr",
     "output_type": "stream",
     "text": [
      "100%|████████████████████████████████████████████████████████| 200/200 [00:14<00:00, 13.44it/s]\n"
     ]
    },
    {
     "name": "stdout",
     "output_type": "stream",
     "text": [
      "Epoch 9, Loss: 5.275530693531036\n",
      "[SYST] Epoch 9\n"
     ]
    },
    {
     "name": "stderr",
     "output_type": "stream",
     "text": [
      "100%|████████████████████████████████████████████████████████| 200/200 [00:13<00:00, 14.31it/s]\n"
     ]
    },
    {
     "name": "stdout",
     "output_type": "stream",
     "text": [
      "Epoch 10, Loss: 5.275212223529816\n",
      "[SYST] Epoch 0\n"
     ]
    },
    {
     "name": "stderr",
     "output_type": "stream",
     "text": [
      "100%|████████████████████████████████████████████████████████████| 2/2 [00:00<00:00, 14.50it/s]\n"
     ]
    },
    {
     "name": "stdout",
     "output_type": "stream",
     "text": [
      "Test Accuracy: 66.97%\n",
      "[{'accuracy': 0.9989, 'Layer1': {'[[0, 1, 2, 3, 4, 5, 6, 7], [8, 9, 10, 11, 12, 13, 14, 15]]': 0.960625, '[[0, 1], [2, 3]]': 0.8984375, '[[0], [1]]': 0.87734375}, 'Layer2': {'[[0, 1, 2, 3, 4, 5, 6, 7], [8, 9, 10, 11, 12, 13, 14, 15]]': 0.633046875, '[[0, 1], [2, 3]]': 0.767265625, '[[0], [1]]': 0.623515625}, 'Layer3': {'[[0, 1, 2, 3, 4, 5, 6, 7], [8, 9, 10, 11, 12, 13, 14, 15]]': 0.562578125, '[[0, 1], [2, 3]]': 0.631953125, '[[0], [1]]': 0.627265625}}, {'accuracy': 0.998, 'Layer1': {'[[0, 1, 2, 3, 4, 5, 6, 7], [8, 9, 10, 11, 12, 13, 14, 15]]': 0.885390625, '[[0, 1], [2, 3]]': 0.808515625, '[[0], [1]]': 0.806796875}, 'Layer2': {'[[0, 1, 2, 3, 4, 5, 6, 7], [8, 9, 10, 11, 12, 13, 14, 15]]': 0.558359375, '[[0, 1], [2, 3]]': 0.547109375, '[[0], [1]]': 0.475}, 'Layer3': {'[[0, 1, 2, 3, 4, 5, 6, 7], [8, 9, 10, 11, 12, 13, 14, 15]]': 0.61296875, '[[0, 1], [2, 3]]': 0.64421875, '[[0], [1]]': 0.6378125}}, {'accuracy': 0.9988, 'Layer1': {'[[0, 1, 2, 3, 4, 5, 6, 7], [8, 9, 10, 11, 12, 13, 14, 15]]': 0.945234375, '[[0, 1], [2, 3]]': 0.87828125, '[[0], [1]]': 0.847109375}, 'Layer2': {'[[0, 1, 2, 3, 4, 5, 6, 7], [8, 9, 10, 11, 12, 13, 14, 15]]': 0.91125, '[[0, 1], [2, 3]]': 0.86890625, '[[0], [1]]': 0.823984375}, 'Layer3': {'[[0, 1, 2, 3, 4, 5, 6, 7], [8, 9, 10, 11, 12, 13, 14, 15]]': 0.6046875, '[[0, 1], [2, 3]]': 0.63546875, '[[0], [1]]': 0.625390625}}, {'accuracy': 0.9989, 'Layer1': {'[[0, 1, 2, 3, 4, 5, 6, 7], [8, 9, 10, 11, 12, 13, 14, 15]]': 0.892734375, '[[0, 1], [2, 3]]': 0.8578125, '[[0], [1]]': 0.835078125}, 'Layer2': {'[[0, 1, 2, 3, 4, 5, 6, 7], [8, 9, 10, 11, 12, 13, 14, 15]]': 0.65078125, '[[0, 1], [2, 3]]': 0.619921875, '[[0], [1]]': 0.60828125}, 'Layer3': {'[[0, 1, 2, 3, 4, 5, 6, 7], [8, 9, 10, 11, 12, 13, 14, 15]]': 0.631171875, '[[0, 1], [2, 3]]': 0.664609375, '[[0], [1]]': 0.66453125}}, {'accuracy': 0.9974, 'Layer1': {'[[0, 1, 2, 3, 4, 5, 6, 7], [8, 9, 10, 11, 12, 13, 14, 15]]': 0.946875, '[[0, 1], [2, 3]]': 0.8821875, '[[0], [1]]': 0.55375}, 'Layer2': {'[[0, 1, 2, 3, 4, 5, 6, 7], [8, 9, 10, 11, 12, 13, 14, 15]]': 0.68890625, '[[0, 1], [2, 3]]': 0.561640625, '[[0], [1]]': 0.5209375}, 'Layer3': {'[[0, 1, 2, 3, 4, 5, 6, 7], [8, 9, 10, 11, 12, 13, 14, 15]]': 0.613984375, '[[0, 1], [2, 3]]': 0.62515625, '[[0], [1]]': 0.6325}}, {'accuracy': 0.9999, 'Layer1': {'[[0, 1, 2, 3, 4, 5, 6, 7], [8, 9, 10, 11, 12, 13, 14, 15]]': 0.95109375, '[[0, 1], [2, 3]]': 0.935625, '[[0], [1]]': 0.910859375}, 'Layer2': {'[[0, 1, 2, 3, 4, 5, 6, 7], [8, 9, 10, 11, 12, 13, 14, 15]]': 0.73109375, '[[0, 1], [2, 3]]': 0.693359375, '[[0], [1]]': 0.523046875}, 'Layer3': {'[[0, 1, 2, 3, 4, 5, 6, 7], [8, 9, 10, 11, 12, 13, 14, 15]]': 0.623125, '[[0, 1], [2, 3]]': 0.668125, '[[0], [1]]': 0.6696875}}]\n"
     ]
    },
    {
     "name": "stderr",
     "output_type": "stream",
     "text": [
      "100%|█████████████████████████████████████████████████████| 1024/1024 [00:07<00:00, 142.18it/s]\n"
     ]
    },
    {
     "name": "stdout",
     "output_type": "stream",
     "text": [
      "Epoch 1, Loss: 0.3574014954665472\n"
     ]
    },
    {
     "name": "stderr",
     "output_type": "stream",
     "text": [
      "100%|█████████████████████████████████████████████████████| 1024/1024 [00:07<00:00, 143.04it/s]\n"
     ]
    },
    {
     "name": "stdout",
     "output_type": "stream",
     "text": [
      "Epoch 2, Loss: 0.015140544351197605\n"
     ]
    },
    {
     "name": "stderr",
     "output_type": "stream",
     "text": [
      "100%|█████████████████████████████████████████████████████| 1024/1024 [00:07<00:00, 142.20it/s]\n"
     ]
    },
    {
     "name": "stdout",
     "output_type": "stream",
     "text": [
      "Epoch 3, Loss: 0.005817382145664851\n"
     ]
    },
    {
     "name": "stderr",
     "output_type": "stream",
     "text": [
      "100%|█████████████████████████████████████████████████████████| 10/10 [00:00<00:00, 175.55it/s]\n"
     ]
    },
    {
     "name": "stdout",
     "output_type": "stream",
     "text": [
      "Test Accuracy: 0.9990\n",
      "Layer1 : [[0, 1, 2, 3, 4, 5, 6, 7], [8, 9, 10, 11, 12, 13, 14, 15]]\n",
      "restructuring\n"
     ]
    },
    {
     "name": "stderr",
     "output_type": "stream",
     "text": [
      "100%|█████████████████████████████████████████████| 1280000/1280000 [00:27<00:00, 45912.36it/s]\n"
     ]
    },
    {
     "name": "stdout",
     "output_type": "stream",
     "text": [
      "restructuring\n"
     ]
    },
    {
     "name": "stderr",
     "output_type": "stream",
     "text": [
      "100%|█████████████████████████████████████████████████| 12800/12800 [00:00<00:00, 33349.00it/s]\n"
     ]
    },
    {
     "name": "stdout",
     "output_type": "stream",
     "text": [
      "[SYST] Prepare Data\n"
     ]
    },
    {
     "name": "stderr",
     "output_type": "stream",
     "text": [
      "100%|█████████████████████████████████████████████| 1280000/1280000 [00:20<00:00, 61232.37it/s]\n"
     ]
    },
    {
     "name": "stdout",
     "output_type": "stream",
     "text": [
      "[SYST] Prepare Data\n"
     ]
    },
    {
     "name": "stderr",
     "output_type": "stream",
     "text": [
      "100%|█████████████████████████████████████████████████| 12800/12800 [00:00<00:00, 23862.40it/s]\n"
     ]
    },
    {
     "name": "stdout",
     "output_type": "stream",
     "text": [
      "[SYST] Epoch 0\n"
     ]
    },
    {
     "name": "stderr",
     "output_type": "stream",
     "text": [
      "100%|████████████████████████████████████████████████████████| 200/200 [00:13<00:00, 14.70it/s]\n"
     ]
    },
    {
     "name": "stdout",
     "output_type": "stream",
     "text": [
      "Epoch 1, Loss: 4.60792829990387\n",
      "[SYST] Epoch 1\n"
     ]
    },
    {
     "name": "stderr",
     "output_type": "stream",
     "text": [
      "100%|████████████████████████████████████████████████████████| 200/200 [00:13<00:00, 14.43it/s]\n"
     ]
    },
    {
     "name": "stdout",
     "output_type": "stream",
     "text": [
      "Epoch 2, Loss: 0.9925034564733505\n",
      "[SYST] Epoch 2\n"
     ]
    },
    {
     "name": "stderr",
     "output_type": "stream",
     "text": [
      "100%|████████████████████████████████████████████████████████| 200/200 [00:13<00:00, 14.69it/s]\n"
     ]
    },
    {
     "name": "stdout",
     "output_type": "stream",
     "text": [
      "Epoch 3, Loss: 0.763763377070427\n",
      "[SYST] Epoch 3\n"
     ]
    },
    {
     "name": "stderr",
     "output_type": "stream",
     "text": [
      "100%|████████████████████████████████████████████████████████| 200/200 [00:13<00:00, 14.66it/s]\n"
     ]
    },
    {
     "name": "stdout",
     "output_type": "stream",
     "text": [
      "Epoch 4, Loss: 0.5984263670444488\n",
      "[SYST] Epoch 4\n"
     ]
    },
    {
     "name": "stderr",
     "output_type": "stream",
     "text": [
      "100%|████████████████████████████████████████████████████████| 200/200 [00:13<00:00, 14.72it/s]\n"
     ]
    },
    {
     "name": "stdout",
     "output_type": "stream",
     "text": [
      "Epoch 5, Loss: 0.48036968261003493\n",
      "[SYST] Epoch 5\n"
     ]
    },
    {
     "name": "stderr",
     "output_type": "stream",
     "text": [
      "100%|████████████████████████████████████████████████████████| 200/200 [00:13<00:00, 14.52it/s]\n"
     ]
    },
    {
     "name": "stdout",
     "output_type": "stream",
     "text": [
      "Epoch 6, Loss: 0.3968458794057369\n",
      "[SYST] Epoch 6\n"
     ]
    },
    {
     "name": "stderr",
     "output_type": "stream",
     "text": [
      "100%|████████████████████████████████████████████████████████| 200/200 [00:14<00:00, 14.19it/s]\n"
     ]
    },
    {
     "name": "stdout",
     "output_type": "stream",
     "text": [
      "Epoch 7, Loss: 0.3386587481200695\n",
      "[SYST] Epoch 7\n"
     ]
    },
    {
     "name": "stderr",
     "output_type": "stream",
     "text": [
      "100%|████████████████████████████████████████████████████████| 200/200 [00:13<00:00, 14.67it/s]\n"
     ]
    },
    {
     "name": "stdout",
     "output_type": "stream",
     "text": [
      "Epoch 8, Loss: 0.293731522411108\n",
      "[SYST] Epoch 8\n"
     ]
    },
    {
     "name": "stderr",
     "output_type": "stream",
     "text": [
      "100%|████████████████████████████████████████████████████████| 200/200 [00:13<00:00, 14.52it/s]\n"
     ]
    },
    {
     "name": "stdout",
     "output_type": "stream",
     "text": [
      "Epoch 9, Loss: 0.25912154503166673\n",
      "[SYST] Epoch 9\n"
     ]
    },
    {
     "name": "stderr",
     "output_type": "stream",
     "text": [
      "100%|████████████████████████████████████████████████████████| 200/200 [00:13<00:00, 14.31it/s]\n"
     ]
    },
    {
     "name": "stdout",
     "output_type": "stream",
     "text": [
      "Epoch 10, Loss: 0.24041942797601223\n",
      "[SYST] Epoch 0\n"
     ]
    },
    {
     "name": "stderr",
     "output_type": "stream",
     "text": [
      "100%|████████████████████████████████████████████████████████████| 2/2 [00:00<00:00, 15.60it/s]\n"
     ]
    },
    {
     "name": "stdout",
     "output_type": "stream",
     "text": [
      "Test Accuracy: 94.12%\n",
      "[{'accuracy': 0.9989, 'Layer1': {'[[0, 1, 2, 3, 4, 5, 6, 7], [8, 9, 10, 11, 12, 13, 14, 15]]': 0.960625, '[[0, 1], [2, 3]]': 0.8984375, '[[0], [1]]': 0.87734375}, 'Layer2': {'[[0, 1, 2, 3, 4, 5, 6, 7], [8, 9, 10, 11, 12, 13, 14, 15]]': 0.633046875, '[[0, 1], [2, 3]]': 0.767265625, '[[0], [1]]': 0.623515625}, 'Layer3': {'[[0, 1, 2, 3, 4, 5, 6, 7], [8, 9, 10, 11, 12, 13, 14, 15]]': 0.562578125, '[[0, 1], [2, 3]]': 0.631953125, '[[0], [1]]': 0.627265625}}, {'accuracy': 0.998, 'Layer1': {'[[0, 1, 2, 3, 4, 5, 6, 7], [8, 9, 10, 11, 12, 13, 14, 15]]': 0.885390625, '[[0, 1], [2, 3]]': 0.808515625, '[[0], [1]]': 0.806796875}, 'Layer2': {'[[0, 1, 2, 3, 4, 5, 6, 7], [8, 9, 10, 11, 12, 13, 14, 15]]': 0.558359375, '[[0, 1], [2, 3]]': 0.547109375, '[[0], [1]]': 0.475}, 'Layer3': {'[[0, 1, 2, 3, 4, 5, 6, 7], [8, 9, 10, 11, 12, 13, 14, 15]]': 0.61296875, '[[0, 1], [2, 3]]': 0.64421875, '[[0], [1]]': 0.6378125}}, {'accuracy': 0.9988, 'Layer1': {'[[0, 1, 2, 3, 4, 5, 6, 7], [8, 9, 10, 11, 12, 13, 14, 15]]': 0.945234375, '[[0, 1], [2, 3]]': 0.87828125, '[[0], [1]]': 0.847109375}, 'Layer2': {'[[0, 1, 2, 3, 4, 5, 6, 7], [8, 9, 10, 11, 12, 13, 14, 15]]': 0.91125, '[[0, 1], [2, 3]]': 0.86890625, '[[0], [1]]': 0.823984375}, 'Layer3': {'[[0, 1, 2, 3, 4, 5, 6, 7], [8, 9, 10, 11, 12, 13, 14, 15]]': 0.6046875, '[[0, 1], [2, 3]]': 0.63546875, '[[0], [1]]': 0.625390625}}, {'accuracy': 0.9989, 'Layer1': {'[[0, 1, 2, 3, 4, 5, 6, 7], [8, 9, 10, 11, 12, 13, 14, 15]]': 0.892734375, '[[0, 1], [2, 3]]': 0.8578125, '[[0], [1]]': 0.835078125}, 'Layer2': {'[[0, 1, 2, 3, 4, 5, 6, 7], [8, 9, 10, 11, 12, 13, 14, 15]]': 0.65078125, '[[0, 1], [2, 3]]': 0.619921875, '[[0], [1]]': 0.60828125}, 'Layer3': {'[[0, 1, 2, 3, 4, 5, 6, 7], [8, 9, 10, 11, 12, 13, 14, 15]]': 0.631171875, '[[0, 1], [2, 3]]': 0.664609375, '[[0], [1]]': 0.66453125}}, {'accuracy': 0.9974, 'Layer1': {'[[0, 1, 2, 3, 4, 5, 6, 7], [8, 9, 10, 11, 12, 13, 14, 15]]': 0.946875, '[[0, 1], [2, 3]]': 0.8821875, '[[0], [1]]': 0.55375}, 'Layer2': {'[[0, 1, 2, 3, 4, 5, 6, 7], [8, 9, 10, 11, 12, 13, 14, 15]]': 0.68890625, '[[0, 1], [2, 3]]': 0.561640625, '[[0], [1]]': 0.5209375}, 'Layer3': {'[[0, 1, 2, 3, 4, 5, 6, 7], [8, 9, 10, 11, 12, 13, 14, 15]]': 0.613984375, '[[0, 1], [2, 3]]': 0.62515625, '[[0], [1]]': 0.6325}}, {'accuracy': 0.9999, 'Layer1': {'[[0, 1, 2, 3, 4, 5, 6, 7], [8, 9, 10, 11, 12, 13, 14, 15]]': 0.95109375, '[[0, 1], [2, 3]]': 0.935625, '[[0], [1]]': 0.910859375}, 'Layer2': {'[[0, 1, 2, 3, 4, 5, 6, 7], [8, 9, 10, 11, 12, 13, 14, 15]]': 0.73109375, '[[0, 1], [2, 3]]': 0.693359375, '[[0], [1]]': 0.523046875}, 'Layer3': {'[[0, 1, 2, 3, 4, 5, 6, 7], [8, 9, 10, 11, 12, 13, 14, 15]]': 0.623125, '[[0, 1], [2, 3]]': 0.668125, '[[0], [1]]': 0.6696875}}, {'accuracy': 0.999, 'Layer1': {'[[0, 1, 2, 3, 4, 5, 6, 7], [8, 9, 10, 11, 12, 13, 14, 15]]': 0.941171875}}]\n",
      "Layer1 : [[0, 1], [2, 3]]\n",
      "restructuring\n"
     ]
    },
    {
     "name": "stderr",
     "output_type": "stream",
     "text": [
      "100%|█████████████████████████████████████████████| 1280000/1280000 [00:26<00:00, 47552.38it/s]\n"
     ]
    },
    {
     "name": "stdout",
     "output_type": "stream",
     "text": [
      "restructuring\n"
     ]
    },
    {
     "name": "stderr",
     "output_type": "stream",
     "text": [
      "100%|█████████████████████████████████████████████████| 12800/12800 [00:00<00:00, 34092.99it/s]\n"
     ]
    },
    {
     "name": "stdout",
     "output_type": "stream",
     "text": [
      "[SYST] Prepare Data\n"
     ]
    },
    {
     "name": "stderr",
     "output_type": "stream",
     "text": [
      "100%|█████████████████████████████████████████████| 1280000/1280000 [00:20<00:00, 62661.58it/s]\n"
     ]
    },
    {
     "name": "stdout",
     "output_type": "stream",
     "text": [
      "[SYST] Prepare Data\n"
     ]
    },
    {
     "name": "stderr",
     "output_type": "stream",
     "text": [
      "100%|█████████████████████████████████████████████████| 12800/12800 [00:00<00:00, 18790.80it/s]\n"
     ]
    },
    {
     "name": "stdout",
     "output_type": "stream",
     "text": [
      "[SYST] Epoch 0\n"
     ]
    },
    {
     "name": "stderr",
     "output_type": "stream",
     "text": [
      "100%|████████████████████████████████████████████████████████| 200/200 [00:13<00:00, 14.49it/s]\n"
     ]
    },
    {
     "name": "stdout",
     "output_type": "stream",
     "text": [
      "Epoch 1, Loss: 7.107580652236939\n",
      "[SYST] Epoch 1\n"
     ]
    },
    {
     "name": "stderr",
     "output_type": "stream",
     "text": [
      "100%|████████████████████████████████████████████████████████| 200/200 [00:13<00:00, 14.71it/s]\n"
     ]
    },
    {
     "name": "stdout",
     "output_type": "stream",
     "text": [
      "Epoch 2, Loss: 2.811825217008591\n",
      "[SYST] Epoch 2\n"
     ]
    },
    {
     "name": "stderr",
     "output_type": "stream",
     "text": [
      "100%|████████████████████████████████████████████████████████| 200/200 [00:13<00:00, 14.35it/s]\n"
     ]
    },
    {
     "name": "stdout",
     "output_type": "stream",
     "text": [
      "Epoch 3, Loss: 1.2871299982070923\n",
      "[SYST] Epoch 3\n"
     ]
    },
    {
     "name": "stderr",
     "output_type": "stream",
     "text": [
      "100%|████████████████████████████████████████████████████████| 200/200 [00:13<00:00, 14.51it/s]\n"
     ]
    },
    {
     "name": "stdout",
     "output_type": "stream",
     "text": [
      "Epoch 4, Loss: 1.20901016831398\n",
      "[SYST] Epoch 4\n"
     ]
    },
    {
     "name": "stderr",
     "output_type": "stream",
     "text": [
      "100%|████████████████████████████████████████████████████████| 200/200 [00:13<00:00, 14.76it/s]\n"
     ]
    },
    {
     "name": "stdout",
     "output_type": "stream",
     "text": [
      "Epoch 5, Loss: 1.1370824432373048\n",
      "[SYST] Epoch 5\n"
     ]
    },
    {
     "name": "stderr",
     "output_type": "stream",
     "text": [
      "100%|████████████████████████████████████████████████████████| 200/200 [00:13<00:00, 14.56it/s]\n"
     ]
    },
    {
     "name": "stdout",
     "output_type": "stream",
     "text": [
      "Epoch 6, Loss: 1.0899299070239068\n",
      "[SYST] Epoch 6\n"
     ]
    },
    {
     "name": "stderr",
     "output_type": "stream",
     "text": [
      "100%|████████████████████████████████████████████████████████| 200/200 [00:13<00:00, 14.47it/s]\n"
     ]
    },
    {
     "name": "stdout",
     "output_type": "stream",
     "text": [
      "Epoch 7, Loss: 1.05627207249403\n",
      "[SYST] Epoch 7\n"
     ]
    },
    {
     "name": "stderr",
     "output_type": "stream",
     "text": [
      "100%|████████████████████████████████████████████████████████| 200/200 [00:13<00:00, 14.67it/s]\n"
     ]
    },
    {
     "name": "stdout",
     "output_type": "stream",
     "text": [
      "Epoch 8, Loss: 1.0254557687044143\n",
      "[SYST] Epoch 8\n"
     ]
    },
    {
     "name": "stderr",
     "output_type": "stream",
     "text": [
      "100%|████████████████████████████████████████████████████████| 200/200 [00:15<00:00, 13.24it/s]\n"
     ]
    },
    {
     "name": "stdout",
     "output_type": "stream",
     "text": [
      "Epoch 9, Loss: 0.9885383200645447\n",
      "[SYST] Epoch 9\n"
     ]
    },
    {
     "name": "stderr",
     "output_type": "stream",
     "text": [
      "100%|████████████████████████████████████████████████████████| 200/200 [00:13<00:00, 14.41it/s]\n"
     ]
    },
    {
     "name": "stdout",
     "output_type": "stream",
     "text": [
      "Epoch 10, Loss: 0.9141130557656288\n",
      "[SYST] Epoch 0\n"
     ]
    },
    {
     "name": "stderr",
     "output_type": "stream",
     "text": [
      "100%|████████████████████████████████████████████████████████████| 2/2 [00:00<00:00, 16.12it/s]\n"
     ]
    },
    {
     "name": "stdout",
     "output_type": "stream",
     "text": [
      "Test Accuracy: 90.40%\n",
      "[{'accuracy': 0.9989, 'Layer1': {'[[0, 1, 2, 3, 4, 5, 6, 7], [8, 9, 10, 11, 12, 13, 14, 15]]': 0.960625, '[[0, 1], [2, 3]]': 0.8984375, '[[0], [1]]': 0.87734375}, 'Layer2': {'[[0, 1, 2, 3, 4, 5, 6, 7], [8, 9, 10, 11, 12, 13, 14, 15]]': 0.633046875, '[[0, 1], [2, 3]]': 0.767265625, '[[0], [1]]': 0.623515625}, 'Layer3': {'[[0, 1, 2, 3, 4, 5, 6, 7], [8, 9, 10, 11, 12, 13, 14, 15]]': 0.562578125, '[[0, 1], [2, 3]]': 0.631953125, '[[0], [1]]': 0.627265625}}, {'accuracy': 0.998, 'Layer1': {'[[0, 1, 2, 3, 4, 5, 6, 7], [8, 9, 10, 11, 12, 13, 14, 15]]': 0.885390625, '[[0, 1], [2, 3]]': 0.808515625, '[[0], [1]]': 0.806796875}, 'Layer2': {'[[0, 1, 2, 3, 4, 5, 6, 7], [8, 9, 10, 11, 12, 13, 14, 15]]': 0.558359375, '[[0, 1], [2, 3]]': 0.547109375, '[[0], [1]]': 0.475}, 'Layer3': {'[[0, 1, 2, 3, 4, 5, 6, 7], [8, 9, 10, 11, 12, 13, 14, 15]]': 0.61296875, '[[0, 1], [2, 3]]': 0.64421875, '[[0], [1]]': 0.6378125}}, {'accuracy': 0.9988, 'Layer1': {'[[0, 1, 2, 3, 4, 5, 6, 7], [8, 9, 10, 11, 12, 13, 14, 15]]': 0.945234375, '[[0, 1], [2, 3]]': 0.87828125, '[[0], [1]]': 0.847109375}, 'Layer2': {'[[0, 1, 2, 3, 4, 5, 6, 7], [8, 9, 10, 11, 12, 13, 14, 15]]': 0.91125, '[[0, 1], [2, 3]]': 0.86890625, '[[0], [1]]': 0.823984375}, 'Layer3': {'[[0, 1, 2, 3, 4, 5, 6, 7], [8, 9, 10, 11, 12, 13, 14, 15]]': 0.6046875, '[[0, 1], [2, 3]]': 0.63546875, '[[0], [1]]': 0.625390625}}, {'accuracy': 0.9989, 'Layer1': {'[[0, 1, 2, 3, 4, 5, 6, 7], [8, 9, 10, 11, 12, 13, 14, 15]]': 0.892734375, '[[0, 1], [2, 3]]': 0.8578125, '[[0], [1]]': 0.835078125}, 'Layer2': {'[[0, 1, 2, 3, 4, 5, 6, 7], [8, 9, 10, 11, 12, 13, 14, 15]]': 0.65078125, '[[0, 1], [2, 3]]': 0.619921875, '[[0], [1]]': 0.60828125}, 'Layer3': {'[[0, 1, 2, 3, 4, 5, 6, 7], [8, 9, 10, 11, 12, 13, 14, 15]]': 0.631171875, '[[0, 1], [2, 3]]': 0.664609375, '[[0], [1]]': 0.66453125}}, {'accuracy': 0.9974, 'Layer1': {'[[0, 1, 2, 3, 4, 5, 6, 7], [8, 9, 10, 11, 12, 13, 14, 15]]': 0.946875, '[[0, 1], [2, 3]]': 0.8821875, '[[0], [1]]': 0.55375}, 'Layer2': {'[[0, 1, 2, 3, 4, 5, 6, 7], [8, 9, 10, 11, 12, 13, 14, 15]]': 0.68890625, '[[0, 1], [2, 3]]': 0.561640625, '[[0], [1]]': 0.5209375}, 'Layer3': {'[[0, 1, 2, 3, 4, 5, 6, 7], [8, 9, 10, 11, 12, 13, 14, 15]]': 0.613984375, '[[0, 1], [2, 3]]': 0.62515625, '[[0], [1]]': 0.6325}}, {'accuracy': 0.9999, 'Layer1': {'[[0, 1, 2, 3, 4, 5, 6, 7], [8, 9, 10, 11, 12, 13, 14, 15]]': 0.95109375, '[[0, 1], [2, 3]]': 0.935625, '[[0], [1]]': 0.910859375}, 'Layer2': {'[[0, 1, 2, 3, 4, 5, 6, 7], [8, 9, 10, 11, 12, 13, 14, 15]]': 0.73109375, '[[0, 1], [2, 3]]': 0.693359375, '[[0], [1]]': 0.523046875}, 'Layer3': {'[[0, 1, 2, 3, 4, 5, 6, 7], [8, 9, 10, 11, 12, 13, 14, 15]]': 0.623125, '[[0, 1], [2, 3]]': 0.668125, '[[0], [1]]': 0.6696875}}, {'accuracy': 0.999, 'Layer1': {'[[0, 1, 2, 3, 4, 5, 6, 7], [8, 9, 10, 11, 12, 13, 14, 15]]': 0.941171875, '[[0, 1], [2, 3]]': 0.903984375}}]\n",
      "Layer1 : [[0], [1]]\n",
      "restructuring\n"
     ]
    },
    {
     "name": "stderr",
     "output_type": "stream",
     "text": [
      "100%|█████████████████████████████████████████████| 1280000/1280000 [00:26<00:00, 47407.90it/s]\n"
     ]
    },
    {
     "name": "stdout",
     "output_type": "stream",
     "text": [
      "restructuring\n"
     ]
    },
    {
     "name": "stderr",
     "output_type": "stream",
     "text": [
      "100%|█████████████████████████████████████████████████| 12800/12800 [00:00<00:00, 33817.32it/s]\n"
     ]
    },
    {
     "name": "stdout",
     "output_type": "stream",
     "text": [
      "[SYST] Prepare Data\n"
     ]
    },
    {
     "name": "stderr",
     "output_type": "stream",
     "text": [
      "100%|█████████████████████████████████████████████| 1280000/1280000 [00:13<00:00, 96124.40it/s]\n"
     ]
    },
    {
     "name": "stdout",
     "output_type": "stream",
     "text": [
      "[SYST] Prepare Data\n"
     ]
    },
    {
     "name": "stderr",
     "output_type": "stream",
     "text": [
      "100%|█████████████████████████████████████████████████| 12800/12800 [00:00<00:00, 18842.25it/s]\n"
     ]
    },
    {
     "name": "stdout",
     "output_type": "stream",
     "text": [
      "[SYST] Epoch 0\n"
     ]
    },
    {
     "name": "stderr",
     "output_type": "stream",
     "text": [
      "100%|████████████████████████████████████████████████████████| 200/200 [00:13<00:00, 14.85it/s]\n"
     ]
    },
    {
     "name": "stdout",
     "output_type": "stream",
     "text": [
      "Epoch 1, Loss: 7.55439849615097\n",
      "[SYST] Epoch 1\n"
     ]
    },
    {
     "name": "stderr",
     "output_type": "stream",
     "text": [
      "100%|████████████████████████████████████████████████████████| 200/200 [00:13<00:00, 14.79it/s]\n"
     ]
    },
    {
     "name": "stdout",
     "output_type": "stream",
     "text": [
      "Epoch 2, Loss: 6.389109008312225\n",
      "[SYST] Epoch 2\n"
     ]
    },
    {
     "name": "stderr",
     "output_type": "stream",
     "text": [
      "100%|████████████████████████████████████████████████████████| 200/200 [00:13<00:00, 14.84it/s]\n"
     ]
    },
    {
     "name": "stdout",
     "output_type": "stream",
     "text": [
      "Epoch 3, Loss: 2.42109541118145\n",
      "[SYST] Epoch 3\n"
     ]
    },
    {
     "name": "stderr",
     "output_type": "stream",
     "text": [
      "100%|████████████████████████████████████████████████████████| 200/200 [00:13<00:00, 14.78it/s]\n"
     ]
    },
    {
     "name": "stdout",
     "output_type": "stream",
     "text": [
      "Epoch 4, Loss: 1.0036169627308846\n",
      "[SYST] Epoch 4\n"
     ]
    },
    {
     "name": "stderr",
     "output_type": "stream",
     "text": [
      "100%|████████████████████████████████████████████████████████| 200/200 [00:13<00:00, 14.82it/s]\n"
     ]
    },
    {
     "name": "stdout",
     "output_type": "stream",
     "text": [
      "Epoch 5, Loss: 0.9978131061792374\n",
      "[SYST] Epoch 5\n"
     ]
    },
    {
     "name": "stderr",
     "output_type": "stream",
     "text": [
      "100%|████████████████████████████████████████████████████████| 200/200 [00:13<00:00, 14.47it/s]\n"
     ]
    },
    {
     "name": "stdout",
     "output_type": "stream",
     "text": [
      "Epoch 6, Loss: 0.9979006853699685\n",
      "[SYST] Epoch 6\n"
     ]
    },
    {
     "name": "stderr",
     "output_type": "stream",
     "text": [
      "100%|████████████████████████████████████████████████████████| 200/200 [00:13<00:00, 14.84it/s]\n"
     ]
    },
    {
     "name": "stdout",
     "output_type": "stream",
     "text": [
      "Epoch 7, Loss: 0.9978981184959411\n",
      "[SYST] Epoch 7\n"
     ]
    },
    {
     "name": "stderr",
     "output_type": "stream",
     "text": [
      "100%|████████████████████████████████████████████████████████| 200/200 [00:13<00:00, 14.61it/s]\n"
     ]
    },
    {
     "name": "stdout",
     "output_type": "stream",
     "text": [
      "Epoch 8, Loss: 0.9978543588519097\n",
      "[SYST] Epoch 8\n"
     ]
    },
    {
     "name": "stderr",
     "output_type": "stream",
     "text": [
      "100%|████████████████████████████████████████████████████████| 200/200 [00:14<00:00, 14.08it/s]\n"
     ]
    },
    {
     "name": "stdout",
     "output_type": "stream",
     "text": [
      "Epoch 9, Loss: 0.9980839660763741\n",
      "[SYST] Epoch 9\n"
     ]
    },
    {
     "name": "stderr",
     "output_type": "stream",
     "text": [
      "100%|████████████████████████████████████████████████████████| 200/200 [00:13<00:00, 14.75it/s]\n"
     ]
    },
    {
     "name": "stdout",
     "output_type": "stream",
     "text": [
      "Epoch 10, Loss: 0.9977417793869973\n",
      "[SYST] Epoch 0\n"
     ]
    },
    {
     "name": "stderr",
     "output_type": "stream",
     "text": [
      "100%|████████████████████████████████████████████████████████████| 2/2 [00:00<00:00, 15.76it/s]\n"
     ]
    },
    {
     "name": "stdout",
     "output_type": "stream",
     "text": [
      "Test Accuracy: 87.95%\n",
      "[{'accuracy': 0.9989, 'Layer1': {'[[0, 1, 2, 3, 4, 5, 6, 7], [8, 9, 10, 11, 12, 13, 14, 15]]': 0.960625, '[[0, 1], [2, 3]]': 0.8984375, '[[0], [1]]': 0.87734375}, 'Layer2': {'[[0, 1, 2, 3, 4, 5, 6, 7], [8, 9, 10, 11, 12, 13, 14, 15]]': 0.633046875, '[[0, 1], [2, 3]]': 0.767265625, '[[0], [1]]': 0.623515625}, 'Layer3': {'[[0, 1, 2, 3, 4, 5, 6, 7], [8, 9, 10, 11, 12, 13, 14, 15]]': 0.562578125, '[[0, 1], [2, 3]]': 0.631953125, '[[0], [1]]': 0.627265625}}, {'accuracy': 0.998, 'Layer1': {'[[0, 1, 2, 3, 4, 5, 6, 7], [8, 9, 10, 11, 12, 13, 14, 15]]': 0.885390625, '[[0, 1], [2, 3]]': 0.808515625, '[[0], [1]]': 0.806796875}, 'Layer2': {'[[0, 1, 2, 3, 4, 5, 6, 7], [8, 9, 10, 11, 12, 13, 14, 15]]': 0.558359375, '[[0, 1], [2, 3]]': 0.547109375, '[[0], [1]]': 0.475}, 'Layer3': {'[[0, 1, 2, 3, 4, 5, 6, 7], [8, 9, 10, 11, 12, 13, 14, 15]]': 0.61296875, '[[0, 1], [2, 3]]': 0.64421875, '[[0], [1]]': 0.6378125}}, {'accuracy': 0.9988, 'Layer1': {'[[0, 1, 2, 3, 4, 5, 6, 7], [8, 9, 10, 11, 12, 13, 14, 15]]': 0.945234375, '[[0, 1], [2, 3]]': 0.87828125, '[[0], [1]]': 0.847109375}, 'Layer2': {'[[0, 1, 2, 3, 4, 5, 6, 7], [8, 9, 10, 11, 12, 13, 14, 15]]': 0.91125, '[[0, 1], [2, 3]]': 0.86890625, '[[0], [1]]': 0.823984375}, 'Layer3': {'[[0, 1, 2, 3, 4, 5, 6, 7], [8, 9, 10, 11, 12, 13, 14, 15]]': 0.6046875, '[[0, 1], [2, 3]]': 0.63546875, '[[0], [1]]': 0.625390625}}, {'accuracy': 0.9989, 'Layer1': {'[[0, 1, 2, 3, 4, 5, 6, 7], [8, 9, 10, 11, 12, 13, 14, 15]]': 0.892734375, '[[0, 1], [2, 3]]': 0.8578125, '[[0], [1]]': 0.835078125}, 'Layer2': {'[[0, 1, 2, 3, 4, 5, 6, 7], [8, 9, 10, 11, 12, 13, 14, 15]]': 0.65078125, '[[0, 1], [2, 3]]': 0.619921875, '[[0], [1]]': 0.60828125}, 'Layer3': {'[[0, 1, 2, 3, 4, 5, 6, 7], [8, 9, 10, 11, 12, 13, 14, 15]]': 0.631171875, '[[0, 1], [2, 3]]': 0.664609375, '[[0], [1]]': 0.66453125}}, {'accuracy': 0.9974, 'Layer1': {'[[0, 1, 2, 3, 4, 5, 6, 7], [8, 9, 10, 11, 12, 13, 14, 15]]': 0.946875, '[[0, 1], [2, 3]]': 0.8821875, '[[0], [1]]': 0.55375}, 'Layer2': {'[[0, 1, 2, 3, 4, 5, 6, 7], [8, 9, 10, 11, 12, 13, 14, 15]]': 0.68890625, '[[0, 1], [2, 3]]': 0.561640625, '[[0], [1]]': 0.5209375}, 'Layer3': {'[[0, 1, 2, 3, 4, 5, 6, 7], [8, 9, 10, 11, 12, 13, 14, 15]]': 0.613984375, '[[0, 1], [2, 3]]': 0.62515625, '[[0], [1]]': 0.6325}}, {'accuracy': 0.9999, 'Layer1': {'[[0, 1, 2, 3, 4, 5, 6, 7], [8, 9, 10, 11, 12, 13, 14, 15]]': 0.95109375, '[[0, 1], [2, 3]]': 0.935625, '[[0], [1]]': 0.910859375}, 'Layer2': {'[[0, 1, 2, 3, 4, 5, 6, 7], [8, 9, 10, 11, 12, 13, 14, 15]]': 0.73109375, '[[0, 1], [2, 3]]': 0.693359375, '[[0], [1]]': 0.523046875}, 'Layer3': {'[[0, 1, 2, 3, 4, 5, 6, 7], [8, 9, 10, 11, 12, 13, 14, 15]]': 0.623125, '[[0, 1], [2, 3]]': 0.668125, '[[0], [1]]': 0.6696875}}, {'accuracy': 0.999, 'Layer1': {'[[0, 1, 2, 3, 4, 5, 6, 7], [8, 9, 10, 11, 12, 13, 14, 15]]': 0.941171875, '[[0, 1], [2, 3]]': 0.903984375, '[[0], [1]]': 0.87953125}}]\n",
      "Layer2 : [[0, 1, 2, 3, 4, 5, 6, 7], [8, 9, 10, 11, 12, 13, 14, 15]]\n",
      "restructuring\n"
     ]
    },
    {
     "name": "stderr",
     "output_type": "stream",
     "text": [
      "100%|█████████████████████████████████████████████| 1280000/1280000 [00:27<00:00, 46028.90it/s]\n"
     ]
    },
    {
     "name": "stdout",
     "output_type": "stream",
     "text": [
      "restructuring\n"
     ]
    },
    {
     "name": "stderr",
     "output_type": "stream",
     "text": [
      "100%|█████████████████████████████████████████████████| 12800/12800 [00:00<00:00, 34136.52it/s]\n"
     ]
    },
    {
     "name": "stdout",
     "output_type": "stream",
     "text": [
      "[SYST] Prepare Data\n"
     ]
    },
    {
     "name": "stderr",
     "output_type": "stream",
     "text": [
      "100%|█████████████████████████████████████████████| 1280000/1280000 [00:21<00:00, 60938.09it/s]\n"
     ]
    },
    {
     "name": "stdout",
     "output_type": "stream",
     "text": [
      "[SYST] Prepare Data\n"
     ]
    },
    {
     "name": "stderr",
     "output_type": "stream",
     "text": [
      "100%|█████████████████████████████████████████████████| 12800/12800 [00:00<00:00, 24346.36it/s]\n"
     ]
    },
    {
     "name": "stdout",
     "output_type": "stream",
     "text": [
      "[SYST] Epoch 0\n"
     ]
    },
    {
     "name": "stderr",
     "output_type": "stream",
     "text": [
      "100%|████████████████████████████████████████████████████████| 200/200 [00:14<00:00, 13.45it/s]\n"
     ]
    },
    {
     "name": "stdout",
     "output_type": "stream",
     "text": [
      "Epoch 1, Loss: 7.6501254463195805\n",
      "[SYST] Epoch 1\n"
     ]
    },
    {
     "name": "stderr",
     "output_type": "stream",
     "text": [
      "100%|████████████████████████████████████████████████████████| 200/200 [00:13<00:00, 14.50it/s]\n"
     ]
    },
    {
     "name": "stdout",
     "output_type": "stream",
     "text": [
      "Epoch 2, Loss: 5.288992402553558\n",
      "[SYST] Epoch 2\n"
     ]
    },
    {
     "name": "stderr",
     "output_type": "stream",
     "text": [
      "100%|████████████████████████████████████████████████████████| 200/200 [00:13<00:00, 14.80it/s]\n"
     ]
    },
    {
     "name": "stdout",
     "output_type": "stream",
     "text": [
      "Epoch 3, Loss: 4.847164967060089\n",
      "[SYST] Epoch 3\n"
     ]
    },
    {
     "name": "stderr",
     "output_type": "stream",
     "text": [
      "100%|████████████████████████████████████████████████████████| 200/200 [00:13<00:00, 14.76it/s]\n"
     ]
    },
    {
     "name": "stdout",
     "output_type": "stream",
     "text": [
      "Epoch 4, Loss: 4.754047837257385\n",
      "[SYST] Epoch 4\n"
     ]
    },
    {
     "name": "stderr",
     "output_type": "stream",
     "text": [
      "100%|████████████████████████████████████████████████████████| 200/200 [00:13<00:00, 14.74it/s]\n"
     ]
    },
    {
     "name": "stdout",
     "output_type": "stream",
     "text": [
      "Epoch 5, Loss: 4.701425454616547\n",
      "[SYST] Epoch 5\n"
     ]
    },
    {
     "name": "stderr",
     "output_type": "stream",
     "text": [
      "100%|████████████████████████████████████████████████████████| 200/200 [00:13<00:00, 14.63it/s]\n"
     ]
    },
    {
     "name": "stdout",
     "output_type": "stream",
     "text": [
      "Epoch 6, Loss: 4.665859093666077\n",
      "[SYST] Epoch 6\n"
     ]
    },
    {
     "name": "stderr",
     "output_type": "stream",
     "text": [
      "100%|████████████████████████████████████████████████████████| 200/200 [00:14<00:00, 13.57it/s]\n"
     ]
    },
    {
     "name": "stdout",
     "output_type": "stream",
     "text": [
      "Epoch 7, Loss: 4.645229277610778\n",
      "[SYST] Epoch 7\n"
     ]
    },
    {
     "name": "stderr",
     "output_type": "stream",
     "text": [
      "100%|████████████████████████████████████████████████████████| 200/200 [00:14<00:00, 14.09it/s]\n"
     ]
    },
    {
     "name": "stdout",
     "output_type": "stream",
     "text": [
      "Epoch 8, Loss: 4.634672853946686\n",
      "[SYST] Epoch 8\n"
     ]
    },
    {
     "name": "stderr",
     "output_type": "stream",
     "text": [
      "100%|████████████████████████████████████████████████████████| 200/200 [00:13<00:00, 14.76it/s]\n"
     ]
    },
    {
     "name": "stdout",
     "output_type": "stream",
     "text": [
      "Epoch 9, Loss: 4.630899794101715\n",
      "[SYST] Epoch 9\n"
     ]
    },
    {
     "name": "stderr",
     "output_type": "stream",
     "text": [
      "100%|████████████████████████████████████████████████████████| 200/200 [00:13<00:00, 14.52it/s]\n"
     ]
    },
    {
     "name": "stdout",
     "output_type": "stream",
     "text": [
      "Epoch 10, Loss: 4.628254745006561\n",
      "[SYST] Epoch 0\n"
     ]
    },
    {
     "name": "stderr",
     "output_type": "stream",
     "text": [
      "100%|████████████████████████████████████████████████████████████| 2/2 [00:00<00:00, 16.11it/s]\n"
     ]
    },
    {
     "name": "stdout",
     "output_type": "stream",
     "text": [
      "Test Accuracy: 68.98%\n",
      "[{'accuracy': 0.9989, 'Layer1': {'[[0, 1, 2, 3, 4, 5, 6, 7], [8, 9, 10, 11, 12, 13, 14, 15]]': 0.960625, '[[0, 1], [2, 3]]': 0.8984375, '[[0], [1]]': 0.87734375}, 'Layer2': {'[[0, 1, 2, 3, 4, 5, 6, 7], [8, 9, 10, 11, 12, 13, 14, 15]]': 0.633046875, '[[0, 1], [2, 3]]': 0.767265625, '[[0], [1]]': 0.623515625}, 'Layer3': {'[[0, 1, 2, 3, 4, 5, 6, 7], [8, 9, 10, 11, 12, 13, 14, 15]]': 0.562578125, '[[0, 1], [2, 3]]': 0.631953125, '[[0], [1]]': 0.627265625}}, {'accuracy': 0.998, 'Layer1': {'[[0, 1, 2, 3, 4, 5, 6, 7], [8, 9, 10, 11, 12, 13, 14, 15]]': 0.885390625, '[[0, 1], [2, 3]]': 0.808515625, '[[0], [1]]': 0.806796875}, 'Layer2': {'[[0, 1, 2, 3, 4, 5, 6, 7], [8, 9, 10, 11, 12, 13, 14, 15]]': 0.558359375, '[[0, 1], [2, 3]]': 0.547109375, '[[0], [1]]': 0.475}, 'Layer3': {'[[0, 1, 2, 3, 4, 5, 6, 7], [8, 9, 10, 11, 12, 13, 14, 15]]': 0.61296875, '[[0, 1], [2, 3]]': 0.64421875, '[[0], [1]]': 0.6378125}}, {'accuracy': 0.9988, 'Layer1': {'[[0, 1, 2, 3, 4, 5, 6, 7], [8, 9, 10, 11, 12, 13, 14, 15]]': 0.945234375, '[[0, 1], [2, 3]]': 0.87828125, '[[0], [1]]': 0.847109375}, 'Layer2': {'[[0, 1, 2, 3, 4, 5, 6, 7], [8, 9, 10, 11, 12, 13, 14, 15]]': 0.91125, '[[0, 1], [2, 3]]': 0.86890625, '[[0], [1]]': 0.823984375}, 'Layer3': {'[[0, 1, 2, 3, 4, 5, 6, 7], [8, 9, 10, 11, 12, 13, 14, 15]]': 0.6046875, '[[0, 1], [2, 3]]': 0.63546875, '[[0], [1]]': 0.625390625}}, {'accuracy': 0.9989, 'Layer1': {'[[0, 1, 2, 3, 4, 5, 6, 7], [8, 9, 10, 11, 12, 13, 14, 15]]': 0.892734375, '[[0, 1], [2, 3]]': 0.8578125, '[[0], [1]]': 0.835078125}, 'Layer2': {'[[0, 1, 2, 3, 4, 5, 6, 7], [8, 9, 10, 11, 12, 13, 14, 15]]': 0.65078125, '[[0, 1], [2, 3]]': 0.619921875, '[[0], [1]]': 0.60828125}, 'Layer3': {'[[0, 1, 2, 3, 4, 5, 6, 7], [8, 9, 10, 11, 12, 13, 14, 15]]': 0.631171875, '[[0, 1], [2, 3]]': 0.664609375, '[[0], [1]]': 0.66453125}}, {'accuracy': 0.9974, 'Layer1': {'[[0, 1, 2, 3, 4, 5, 6, 7], [8, 9, 10, 11, 12, 13, 14, 15]]': 0.946875, '[[0, 1], [2, 3]]': 0.8821875, '[[0], [1]]': 0.55375}, 'Layer2': {'[[0, 1, 2, 3, 4, 5, 6, 7], [8, 9, 10, 11, 12, 13, 14, 15]]': 0.68890625, '[[0, 1], [2, 3]]': 0.561640625, '[[0], [1]]': 0.5209375}, 'Layer3': {'[[0, 1, 2, 3, 4, 5, 6, 7], [8, 9, 10, 11, 12, 13, 14, 15]]': 0.613984375, '[[0, 1], [2, 3]]': 0.62515625, '[[0], [1]]': 0.6325}}, {'accuracy': 0.9999, 'Layer1': {'[[0, 1, 2, 3, 4, 5, 6, 7], [8, 9, 10, 11, 12, 13, 14, 15]]': 0.95109375, '[[0, 1], [2, 3]]': 0.935625, '[[0], [1]]': 0.910859375}, 'Layer2': {'[[0, 1, 2, 3, 4, 5, 6, 7], [8, 9, 10, 11, 12, 13, 14, 15]]': 0.73109375, '[[0, 1], [2, 3]]': 0.693359375, '[[0], [1]]': 0.523046875}, 'Layer3': {'[[0, 1, 2, 3, 4, 5, 6, 7], [8, 9, 10, 11, 12, 13, 14, 15]]': 0.623125, '[[0, 1], [2, 3]]': 0.668125, '[[0], [1]]': 0.6696875}}, {'accuracy': 0.999, 'Layer1': {'[[0, 1, 2, 3, 4, 5, 6, 7], [8, 9, 10, 11, 12, 13, 14, 15]]': 0.941171875, '[[0, 1], [2, 3]]': 0.903984375, '[[0], [1]]': 0.87953125}, 'Layer2': {'[[0, 1, 2, 3, 4, 5, 6, 7], [8, 9, 10, 11, 12, 13, 14, 15]]': 0.68984375}}]\n",
      "Layer2 : [[0, 1], [2, 3]]\n",
      "restructuring\n"
     ]
    },
    {
     "name": "stderr",
     "output_type": "stream",
     "text": [
      "100%|█████████████████████████████████████████████| 1280000/1280000 [00:27<00:00, 47014.85it/s]\n"
     ]
    },
    {
     "name": "stdout",
     "output_type": "stream",
     "text": [
      "restructuring\n"
     ]
    },
    {
     "name": "stderr",
     "output_type": "stream",
     "text": [
      "100%|█████████████████████████████████████████████████| 12800/12800 [00:00<00:00, 33730.21it/s]\n"
     ]
    },
    {
     "name": "stdout",
     "output_type": "stream",
     "text": [
      "[SYST] Prepare Data\n"
     ]
    },
    {
     "name": "stderr",
     "output_type": "stream",
     "text": [
      "100%|█████████████████████████████████████████████| 1280000/1280000 [00:13<00:00, 95180.12it/s]\n"
     ]
    },
    {
     "name": "stdout",
     "output_type": "stream",
     "text": [
      "[SYST] Prepare Data\n"
     ]
    },
    {
     "name": "stderr",
     "output_type": "stream",
     "text": [
      "100%|█████████████████████████████████████████████████| 12800/12800 [00:00<00:00, 18871.15it/s]\n"
     ]
    },
    {
     "name": "stdout",
     "output_type": "stream",
     "text": [
      "[SYST] Epoch 0\n"
     ]
    },
    {
     "name": "stderr",
     "output_type": "stream",
     "text": [
      "100%|████████████████████████████████████████████████████████| 200/200 [00:13<00:00, 14.66it/s]\n"
     ]
    },
    {
     "name": "stdout",
     "output_type": "stream",
     "text": [
      "Epoch 1, Loss: 7.76260213136673\n",
      "[SYST] Epoch 1\n"
     ]
    },
    {
     "name": "stderr",
     "output_type": "stream",
     "text": [
      "100%|████████████████████████████████████████████████████████| 200/200 [00:13<00:00, 14.79it/s]\n"
     ]
    },
    {
     "name": "stdout",
     "output_type": "stream",
     "text": [
      "Epoch 2, Loss: 5.75796885728836\n",
      "[SYST] Epoch 2\n"
     ]
    },
    {
     "name": "stderr",
     "output_type": "stream",
     "text": [
      "100%|████████████████████████████████████████████████████████| 200/200 [00:13<00:00, 14.75it/s]\n"
     ]
    },
    {
     "name": "stdout",
     "output_type": "stream",
     "text": [
      "Epoch 3, Loss: 5.2556688952445985\n",
      "[SYST] Epoch 3\n"
     ]
    },
    {
     "name": "stderr",
     "output_type": "stream",
     "text": [
      "100%|████████████████████████████████████████████████████████| 200/200 [00:13<00:00, 14.80it/s]\n"
     ]
    },
    {
     "name": "stdout",
     "output_type": "stream",
     "text": [
      "Epoch 4, Loss: 5.178461465835571\n",
      "[SYST] Epoch 4\n"
     ]
    },
    {
     "name": "stderr",
     "output_type": "stream",
     "text": [
      "100%|████████████████████████████████████████████████████████| 200/200 [00:13<00:00, 14.45it/s]\n"
     ]
    },
    {
     "name": "stdout",
     "output_type": "stream",
     "text": [
      "Epoch 5, Loss: 5.157031004428863\n",
      "[SYST] Epoch 5\n"
     ]
    },
    {
     "name": "stderr",
     "output_type": "stream",
     "text": [
      "100%|████████████████████████████████████████████████████████| 200/200 [00:13<00:00, 14.84it/s]\n"
     ]
    },
    {
     "name": "stdout",
     "output_type": "stream",
     "text": [
      "Epoch 6, Loss: 5.144310569763183\n",
      "[SYST] Epoch 6\n"
     ]
    },
    {
     "name": "stderr",
     "output_type": "stream",
     "text": [
      "100%|████████████████████████████████████████████████████████| 200/200 [00:13<00:00, 14.79it/s]\n"
     ]
    },
    {
     "name": "stdout",
     "output_type": "stream",
     "text": [
      "Epoch 7, Loss: 5.136011893749237\n",
      "[SYST] Epoch 7\n"
     ]
    },
    {
     "name": "stderr",
     "output_type": "stream",
     "text": [
      "100%|████████████████████████████████████████████████████████| 200/200 [00:13<00:00, 14.90it/s]\n"
     ]
    },
    {
     "name": "stdout",
     "output_type": "stream",
     "text": [
      "Epoch 8, Loss: 5.130547804832458\n",
      "[SYST] Epoch 8\n"
     ]
    },
    {
     "name": "stderr",
     "output_type": "stream",
     "text": [
      "100%|████████████████████████████████████████████████████████| 200/200 [00:13<00:00, 14.64it/s]\n"
     ]
    },
    {
     "name": "stdout",
     "output_type": "stream",
     "text": [
      "Epoch 9, Loss: 5.126735467910766\n",
      "[SYST] Epoch 9\n"
     ]
    },
    {
     "name": "stderr",
     "output_type": "stream",
     "text": [
      "100%|████████████████████████████████████████████████████████| 200/200 [00:13<00:00, 14.77it/s]\n"
     ]
    },
    {
     "name": "stdout",
     "output_type": "stream",
     "text": [
      "Epoch 10, Loss: 5.123499464988709\n",
      "[SYST] Epoch 0\n"
     ]
    },
    {
     "name": "stderr",
     "output_type": "stream",
     "text": [
      "100%|████████████████████████████████████████████████████████████| 2/2 [00:00<00:00, 16.27it/s]\n"
     ]
    },
    {
     "name": "stdout",
     "output_type": "stream",
     "text": [
      "Test Accuracy: 68.65%\n",
      "[{'accuracy': 0.9989, 'Layer1': {'[[0, 1, 2, 3, 4, 5, 6, 7], [8, 9, 10, 11, 12, 13, 14, 15]]': 0.960625, '[[0, 1], [2, 3]]': 0.8984375, '[[0], [1]]': 0.87734375}, 'Layer2': {'[[0, 1, 2, 3, 4, 5, 6, 7], [8, 9, 10, 11, 12, 13, 14, 15]]': 0.633046875, '[[0, 1], [2, 3]]': 0.767265625, '[[0], [1]]': 0.623515625}, 'Layer3': {'[[0, 1, 2, 3, 4, 5, 6, 7], [8, 9, 10, 11, 12, 13, 14, 15]]': 0.562578125, '[[0, 1], [2, 3]]': 0.631953125, '[[0], [1]]': 0.627265625}}, {'accuracy': 0.998, 'Layer1': {'[[0, 1, 2, 3, 4, 5, 6, 7], [8, 9, 10, 11, 12, 13, 14, 15]]': 0.885390625, '[[0, 1], [2, 3]]': 0.808515625, '[[0], [1]]': 0.806796875}, 'Layer2': {'[[0, 1, 2, 3, 4, 5, 6, 7], [8, 9, 10, 11, 12, 13, 14, 15]]': 0.558359375, '[[0, 1], [2, 3]]': 0.547109375, '[[0], [1]]': 0.475}, 'Layer3': {'[[0, 1, 2, 3, 4, 5, 6, 7], [8, 9, 10, 11, 12, 13, 14, 15]]': 0.61296875, '[[0, 1], [2, 3]]': 0.64421875, '[[0], [1]]': 0.6378125}}, {'accuracy': 0.9988, 'Layer1': {'[[0, 1, 2, 3, 4, 5, 6, 7], [8, 9, 10, 11, 12, 13, 14, 15]]': 0.945234375, '[[0, 1], [2, 3]]': 0.87828125, '[[0], [1]]': 0.847109375}, 'Layer2': {'[[0, 1, 2, 3, 4, 5, 6, 7], [8, 9, 10, 11, 12, 13, 14, 15]]': 0.91125, '[[0, 1], [2, 3]]': 0.86890625, '[[0], [1]]': 0.823984375}, 'Layer3': {'[[0, 1, 2, 3, 4, 5, 6, 7], [8, 9, 10, 11, 12, 13, 14, 15]]': 0.6046875, '[[0, 1], [2, 3]]': 0.63546875, '[[0], [1]]': 0.625390625}}, {'accuracy': 0.9989, 'Layer1': {'[[0, 1, 2, 3, 4, 5, 6, 7], [8, 9, 10, 11, 12, 13, 14, 15]]': 0.892734375, '[[0, 1], [2, 3]]': 0.8578125, '[[0], [1]]': 0.835078125}, 'Layer2': {'[[0, 1, 2, 3, 4, 5, 6, 7], [8, 9, 10, 11, 12, 13, 14, 15]]': 0.65078125, '[[0, 1], [2, 3]]': 0.619921875, '[[0], [1]]': 0.60828125}, 'Layer3': {'[[0, 1, 2, 3, 4, 5, 6, 7], [8, 9, 10, 11, 12, 13, 14, 15]]': 0.631171875, '[[0, 1], [2, 3]]': 0.664609375, '[[0], [1]]': 0.66453125}}, {'accuracy': 0.9974, 'Layer1': {'[[0, 1, 2, 3, 4, 5, 6, 7], [8, 9, 10, 11, 12, 13, 14, 15]]': 0.946875, '[[0, 1], [2, 3]]': 0.8821875, '[[0], [1]]': 0.55375}, 'Layer2': {'[[0, 1, 2, 3, 4, 5, 6, 7], [8, 9, 10, 11, 12, 13, 14, 15]]': 0.68890625, '[[0, 1], [2, 3]]': 0.561640625, '[[0], [1]]': 0.5209375}, 'Layer3': {'[[0, 1, 2, 3, 4, 5, 6, 7], [8, 9, 10, 11, 12, 13, 14, 15]]': 0.613984375, '[[0, 1], [2, 3]]': 0.62515625, '[[0], [1]]': 0.6325}}, {'accuracy': 0.9999, 'Layer1': {'[[0, 1, 2, 3, 4, 5, 6, 7], [8, 9, 10, 11, 12, 13, 14, 15]]': 0.95109375, '[[0, 1], [2, 3]]': 0.935625, '[[0], [1]]': 0.910859375}, 'Layer2': {'[[0, 1, 2, 3, 4, 5, 6, 7], [8, 9, 10, 11, 12, 13, 14, 15]]': 0.73109375, '[[0, 1], [2, 3]]': 0.693359375, '[[0], [1]]': 0.523046875}, 'Layer3': {'[[0, 1, 2, 3, 4, 5, 6, 7], [8, 9, 10, 11, 12, 13, 14, 15]]': 0.623125, '[[0, 1], [2, 3]]': 0.668125, '[[0], [1]]': 0.6696875}}, {'accuracy': 0.999, 'Layer1': {'[[0, 1, 2, 3, 4, 5, 6, 7], [8, 9, 10, 11, 12, 13, 14, 15]]': 0.941171875, '[[0, 1], [2, 3]]': 0.903984375, '[[0], [1]]': 0.87953125}, 'Layer2': {'[[0, 1, 2, 3, 4, 5, 6, 7], [8, 9, 10, 11, 12, 13, 14, 15]]': 0.68984375, '[[0, 1], [2, 3]]': 0.686484375}}]\n",
      "Layer2 : [[0], [1]]\n",
      "restructuring\n"
     ]
    },
    {
     "name": "stderr",
     "output_type": "stream",
     "text": [
      "100%|█████████████████████████████████████████████| 1280000/1280000 [00:26<00:00, 47423.34it/s]\n"
     ]
    },
    {
     "name": "stdout",
     "output_type": "stream",
     "text": [
      "restructuring\n"
     ]
    },
    {
     "name": "stderr",
     "output_type": "stream",
     "text": [
      "100%|█████████████████████████████████████████████████| 12800/12800 [00:00<00:00, 34155.37it/s]\n"
     ]
    },
    {
     "name": "stdout",
     "output_type": "stream",
     "text": [
      "[SYST] Prepare Data\n"
     ]
    },
    {
     "name": "stderr",
     "output_type": "stream",
     "text": [
      "100%|█████████████████████████████████████████████| 1280000/1280000 [00:19<00:00, 65597.53it/s]\n"
     ]
    },
    {
     "name": "stdout",
     "output_type": "stream",
     "text": [
      "[SYST] Prepare Data\n"
     ]
    },
    {
     "name": "stderr",
     "output_type": "stream",
     "text": [
      "100%|█████████████████████████████████████████████████| 12800/12800 [00:00<00:00, 18951.89it/s]\n"
     ]
    },
    {
     "name": "stdout",
     "output_type": "stream",
     "text": [
      "[SYST] Epoch 0\n"
     ]
    },
    {
     "name": "stderr",
     "output_type": "stream",
     "text": [
      "100%|████████████████████████████████████████████████████████| 200/200 [00:13<00:00, 14.47it/s]\n"
     ]
    },
    {
     "name": "stdout",
     "output_type": "stream",
     "text": [
      "Epoch 1, Loss: 7.149807832241058\n",
      "[SYST] Epoch 1\n"
     ]
    },
    {
     "name": "stderr",
     "output_type": "stream",
     "text": [
      "100%|████████████████████████████████████████████████████████| 200/200 [00:14<00:00, 14.14it/s]\n"
     ]
    },
    {
     "name": "stdout",
     "output_type": "stream",
     "text": [
      "Epoch 2, Loss: 5.786202659606934\n",
      "[SYST] Epoch 2\n"
     ]
    },
    {
     "name": "stderr",
     "output_type": "stream",
     "text": [
      "100%|████████████████████████████████████████████████████████| 200/200 [00:13<00:00, 14.54it/s]\n"
     ]
    },
    {
     "name": "stdout",
     "output_type": "stream",
     "text": [
      "Epoch 3, Loss: 5.433159935474396\n",
      "[SYST] Epoch 3\n"
     ]
    },
    {
     "name": "stderr",
     "output_type": "stream",
     "text": [
      "100%|████████████████████████████████████████████████████████| 200/200 [00:13<00:00, 14.55it/s]\n"
     ]
    },
    {
     "name": "stdout",
     "output_type": "stream",
     "text": [
      "Epoch 4, Loss: 5.394662477970123\n",
      "[SYST] Epoch 4\n"
     ]
    },
    {
     "name": "stderr",
     "output_type": "stream",
     "text": [
      "100%|████████████████████████████████████████████████████████| 200/200 [00:13<00:00, 14.57it/s]\n"
     ]
    },
    {
     "name": "stdout",
     "output_type": "stream",
     "text": [
      "Epoch 5, Loss: 5.391294462680817\n",
      "[SYST] Epoch 5\n"
     ]
    },
    {
     "name": "stderr",
     "output_type": "stream",
     "text": [
      "100%|████████████████████████████████████████████████████████| 200/200 [00:13<00:00, 14.54it/s]\n"
     ]
    },
    {
     "name": "stdout",
     "output_type": "stream",
     "text": [
      "Epoch 6, Loss: 5.390890369415283\n",
      "[SYST] Epoch 6\n"
     ]
    },
    {
     "name": "stderr",
     "output_type": "stream",
     "text": [
      "100%|████████████████████████████████████████████████████████| 200/200 [00:13<00:00, 14.94it/s]\n"
     ]
    },
    {
     "name": "stdout",
     "output_type": "stream",
     "text": [
      "Epoch 7, Loss: 5.390902283191681\n",
      "[SYST] Epoch 7\n"
     ]
    },
    {
     "name": "stderr",
     "output_type": "stream",
     "text": [
      "100%|████████████████████████████████████████████████████████| 200/200 [00:14<00:00, 13.73it/s]\n"
     ]
    },
    {
     "name": "stdout",
     "output_type": "stream",
     "text": [
      "Epoch 8, Loss: 5.390821402072906\n",
      "[SYST] Epoch 8\n"
     ]
    },
    {
     "name": "stderr",
     "output_type": "stream",
     "text": [
      "100%|████████████████████████████████████████████████████████| 200/200 [00:13<00:00, 14.64it/s]\n"
     ]
    },
    {
     "name": "stdout",
     "output_type": "stream",
     "text": [
      "Epoch 9, Loss: 5.391180772781372\n",
      "[SYST] Epoch 9\n"
     ]
    },
    {
     "name": "stderr",
     "output_type": "stream",
     "text": [
      "100%|████████████████████████████████████████████████████████| 200/200 [00:13<00:00, 14.79it/s]\n"
     ]
    },
    {
     "name": "stdout",
     "output_type": "stream",
     "text": [
      "Epoch 10, Loss: 5.391182148456574\n",
      "[SYST] Epoch 0\n"
     ]
    },
    {
     "name": "stderr",
     "output_type": "stream",
     "text": [
      "100%|████████████████████████████████████████████████████████████| 2/2 [00:00<00:00, 16.21it/s]\n"
     ]
    },
    {
     "name": "stdout",
     "output_type": "stream",
     "text": [
      "Test Accuracy: 62.83%\n",
      "[{'accuracy': 0.9989, 'Layer1': {'[[0, 1, 2, 3, 4, 5, 6, 7], [8, 9, 10, 11, 12, 13, 14, 15]]': 0.960625, '[[0, 1], [2, 3]]': 0.8984375, '[[0], [1]]': 0.87734375}, 'Layer2': {'[[0, 1, 2, 3, 4, 5, 6, 7], [8, 9, 10, 11, 12, 13, 14, 15]]': 0.633046875, '[[0, 1], [2, 3]]': 0.767265625, '[[0], [1]]': 0.623515625}, 'Layer3': {'[[0, 1, 2, 3, 4, 5, 6, 7], [8, 9, 10, 11, 12, 13, 14, 15]]': 0.562578125, '[[0, 1], [2, 3]]': 0.631953125, '[[0], [1]]': 0.627265625}}, {'accuracy': 0.998, 'Layer1': {'[[0, 1, 2, 3, 4, 5, 6, 7], [8, 9, 10, 11, 12, 13, 14, 15]]': 0.885390625, '[[0, 1], [2, 3]]': 0.808515625, '[[0], [1]]': 0.806796875}, 'Layer2': {'[[0, 1, 2, 3, 4, 5, 6, 7], [8, 9, 10, 11, 12, 13, 14, 15]]': 0.558359375, '[[0, 1], [2, 3]]': 0.547109375, '[[0], [1]]': 0.475}, 'Layer3': {'[[0, 1, 2, 3, 4, 5, 6, 7], [8, 9, 10, 11, 12, 13, 14, 15]]': 0.61296875, '[[0, 1], [2, 3]]': 0.64421875, '[[0], [1]]': 0.6378125}}, {'accuracy': 0.9988, 'Layer1': {'[[0, 1, 2, 3, 4, 5, 6, 7], [8, 9, 10, 11, 12, 13, 14, 15]]': 0.945234375, '[[0, 1], [2, 3]]': 0.87828125, '[[0], [1]]': 0.847109375}, 'Layer2': {'[[0, 1, 2, 3, 4, 5, 6, 7], [8, 9, 10, 11, 12, 13, 14, 15]]': 0.91125, '[[0, 1], [2, 3]]': 0.86890625, '[[0], [1]]': 0.823984375}, 'Layer3': {'[[0, 1, 2, 3, 4, 5, 6, 7], [8, 9, 10, 11, 12, 13, 14, 15]]': 0.6046875, '[[0, 1], [2, 3]]': 0.63546875, '[[0], [1]]': 0.625390625}}, {'accuracy': 0.9989, 'Layer1': {'[[0, 1, 2, 3, 4, 5, 6, 7], [8, 9, 10, 11, 12, 13, 14, 15]]': 0.892734375, '[[0, 1], [2, 3]]': 0.8578125, '[[0], [1]]': 0.835078125}, 'Layer2': {'[[0, 1, 2, 3, 4, 5, 6, 7], [8, 9, 10, 11, 12, 13, 14, 15]]': 0.65078125, '[[0, 1], [2, 3]]': 0.619921875, '[[0], [1]]': 0.60828125}, 'Layer3': {'[[0, 1, 2, 3, 4, 5, 6, 7], [8, 9, 10, 11, 12, 13, 14, 15]]': 0.631171875, '[[0, 1], [2, 3]]': 0.664609375, '[[0], [1]]': 0.66453125}}, {'accuracy': 0.9974, 'Layer1': {'[[0, 1, 2, 3, 4, 5, 6, 7], [8, 9, 10, 11, 12, 13, 14, 15]]': 0.946875, '[[0, 1], [2, 3]]': 0.8821875, '[[0], [1]]': 0.55375}, 'Layer2': {'[[0, 1, 2, 3, 4, 5, 6, 7], [8, 9, 10, 11, 12, 13, 14, 15]]': 0.68890625, '[[0, 1], [2, 3]]': 0.561640625, '[[0], [1]]': 0.5209375}, 'Layer3': {'[[0, 1, 2, 3, 4, 5, 6, 7], [8, 9, 10, 11, 12, 13, 14, 15]]': 0.613984375, '[[0, 1], [2, 3]]': 0.62515625, '[[0], [1]]': 0.6325}}, {'accuracy': 0.9999, 'Layer1': {'[[0, 1, 2, 3, 4, 5, 6, 7], [8, 9, 10, 11, 12, 13, 14, 15]]': 0.95109375, '[[0, 1], [2, 3]]': 0.935625, '[[0], [1]]': 0.910859375}, 'Layer2': {'[[0, 1, 2, 3, 4, 5, 6, 7], [8, 9, 10, 11, 12, 13, 14, 15]]': 0.73109375, '[[0, 1], [2, 3]]': 0.693359375, '[[0], [1]]': 0.523046875}, 'Layer3': {'[[0, 1, 2, 3, 4, 5, 6, 7], [8, 9, 10, 11, 12, 13, 14, 15]]': 0.623125, '[[0, 1], [2, 3]]': 0.668125, '[[0], [1]]': 0.6696875}}, {'accuracy': 0.999, 'Layer1': {'[[0, 1, 2, 3, 4, 5, 6, 7], [8, 9, 10, 11, 12, 13, 14, 15]]': 0.941171875, '[[0, 1], [2, 3]]': 0.903984375, '[[0], [1]]': 0.87953125}, 'Layer2': {'[[0, 1, 2, 3, 4, 5, 6, 7], [8, 9, 10, 11, 12, 13, 14, 15]]': 0.68984375, '[[0, 1], [2, 3]]': 0.686484375, '[[0], [1]]': 0.62828125}}]\n",
      "Layer3 : [[0, 1, 2, 3, 4, 5, 6, 7], [8, 9, 10, 11, 12, 13, 14, 15]]\n",
      "restructuring\n"
     ]
    },
    {
     "name": "stderr",
     "output_type": "stream",
     "text": [
      "100%|█████████████████████████████████████████████| 1280000/1280000 [00:27<00:00, 47221.58it/s]\n"
     ]
    },
    {
     "name": "stdout",
     "output_type": "stream",
     "text": [
      "restructuring\n"
     ]
    },
    {
     "name": "stderr",
     "output_type": "stream",
     "text": [
      "100%|█████████████████████████████████████████████████| 12800/12800 [00:00<00:00, 33940.42it/s]\n"
     ]
    },
    {
     "name": "stdout",
     "output_type": "stream",
     "text": [
      "[SYST] Prepare Data\n"
     ]
    },
    {
     "name": "stderr",
     "output_type": "stream",
     "text": [
      "100%|█████████████████████████████████████████████| 1280000/1280000 [00:21<00:00, 60910.66it/s]\n"
     ]
    },
    {
     "name": "stdout",
     "output_type": "stream",
     "text": [
      "[SYST] Prepare Data\n"
     ]
    },
    {
     "name": "stderr",
     "output_type": "stream",
     "text": [
      "100%|█████████████████████████████████████████████████| 12800/12800 [00:00<00:00, 18630.97it/s]\n"
     ]
    },
    {
     "name": "stdout",
     "output_type": "stream",
     "text": [
      "[SYST] Epoch 0\n"
     ]
    },
    {
     "name": "stderr",
     "output_type": "stream",
     "text": [
      "100%|████████████████████████████████████████████████████████| 200/200 [00:13<00:00, 14.55it/s]\n"
     ]
    },
    {
     "name": "stdout",
     "output_type": "stream",
     "text": [
      "Epoch 1, Loss: 6.710756337642669\n",
      "[SYST] Epoch 1\n"
     ]
    },
    {
     "name": "stderr",
     "output_type": "stream",
     "text": [
      "100%|████████████████████████████████████████████████████████| 200/200 [00:13<00:00, 14.63it/s]\n"
     ]
    },
    {
     "name": "stdout",
     "output_type": "stream",
     "text": [
      "Epoch 2, Loss: 6.68599592924118\n",
      "[SYST] Epoch 2\n"
     ]
    },
    {
     "name": "stderr",
     "output_type": "stream",
     "text": [
      "100%|████████████████████████████████████████████████████████| 200/200 [00:14<00:00, 14.17it/s]\n"
     ]
    },
    {
     "name": "stdout",
     "output_type": "stream",
     "text": [
      "Epoch 3, Loss: 6.6622402024269105\n",
      "[SYST] Epoch 3\n"
     ]
    },
    {
     "name": "stderr",
     "output_type": "stream",
     "text": [
      "100%|████████████████████████████████████████████████████████| 200/200 [00:14<00:00, 13.84it/s]\n"
     ]
    },
    {
     "name": "stdout",
     "output_type": "stream",
     "text": [
      "Epoch 4, Loss: 6.644556918144226\n",
      "[SYST] Epoch 4\n"
     ]
    },
    {
     "name": "stderr",
     "output_type": "stream",
     "text": [
      "100%|████████████████████████████████████████████████████████| 200/200 [00:13<00:00, 14.37it/s]\n"
     ]
    },
    {
     "name": "stdout",
     "output_type": "stream",
     "text": [
      "Epoch 5, Loss: 6.635106754302979\n",
      "[SYST] Epoch 5\n"
     ]
    },
    {
     "name": "stderr",
     "output_type": "stream",
     "text": [
      "100%|████████████████████████████████████████████████████████| 200/200 [00:13<00:00, 14.60it/s]\n"
     ]
    },
    {
     "name": "stdout",
     "output_type": "stream",
     "text": [
      "Epoch 6, Loss: 6.631284463405609\n",
      "[SYST] Epoch 6\n"
     ]
    },
    {
     "name": "stderr",
     "output_type": "stream",
     "text": [
      "100%|████████████████████████████████████████████████████████| 200/200 [00:13<00:00, 14.81it/s]\n"
     ]
    },
    {
     "name": "stdout",
     "output_type": "stream",
     "text": [
      "Epoch 7, Loss: 6.628736727237701\n",
      "[SYST] Epoch 7\n"
     ]
    },
    {
     "name": "stderr",
     "output_type": "stream",
     "text": [
      "100%|████████████████████████████████████████████████████████| 200/200 [00:13<00:00, 14.84it/s]\n"
     ]
    },
    {
     "name": "stdout",
     "output_type": "stream",
     "text": [
      "Epoch 8, Loss: 6.627909004688263\n",
      "[SYST] Epoch 8\n"
     ]
    },
    {
     "name": "stderr",
     "output_type": "stream",
     "text": [
      "100%|████████████████████████████████████████████████████████| 200/200 [00:13<00:00, 14.76it/s]\n"
     ]
    },
    {
     "name": "stdout",
     "output_type": "stream",
     "text": [
      "Epoch 9, Loss: 6.627453789710999\n",
      "[SYST] Epoch 9\n"
     ]
    },
    {
     "name": "stderr",
     "output_type": "stream",
     "text": [
      "100%|████████████████████████████████████████████████████████| 200/200 [00:13<00:00, 14.71it/s]\n"
     ]
    },
    {
     "name": "stdout",
     "output_type": "stream",
     "text": [
      "Epoch 10, Loss: 6.627383952140808\n",
      "[SYST] Epoch 0\n"
     ]
    },
    {
     "name": "stderr",
     "output_type": "stream",
     "text": [
      "100%|████████████████████████████████████████████████████████████| 2/2 [00:00<00:00, 16.02it/s]\n"
     ]
    },
    {
     "name": "stdout",
     "output_type": "stream",
     "text": [
      "Test Accuracy: 59.51%\n",
      "[{'accuracy': 0.9989, 'Layer1': {'[[0, 1, 2, 3, 4, 5, 6, 7], [8, 9, 10, 11, 12, 13, 14, 15]]': 0.960625, '[[0, 1], [2, 3]]': 0.8984375, '[[0], [1]]': 0.87734375}, 'Layer2': {'[[0, 1, 2, 3, 4, 5, 6, 7], [8, 9, 10, 11, 12, 13, 14, 15]]': 0.633046875, '[[0, 1], [2, 3]]': 0.767265625, '[[0], [1]]': 0.623515625}, 'Layer3': {'[[0, 1, 2, 3, 4, 5, 6, 7], [8, 9, 10, 11, 12, 13, 14, 15]]': 0.562578125, '[[0, 1], [2, 3]]': 0.631953125, '[[0], [1]]': 0.627265625}}, {'accuracy': 0.998, 'Layer1': {'[[0, 1, 2, 3, 4, 5, 6, 7], [8, 9, 10, 11, 12, 13, 14, 15]]': 0.885390625, '[[0, 1], [2, 3]]': 0.808515625, '[[0], [1]]': 0.806796875}, 'Layer2': {'[[0, 1, 2, 3, 4, 5, 6, 7], [8, 9, 10, 11, 12, 13, 14, 15]]': 0.558359375, '[[0, 1], [2, 3]]': 0.547109375, '[[0], [1]]': 0.475}, 'Layer3': {'[[0, 1, 2, 3, 4, 5, 6, 7], [8, 9, 10, 11, 12, 13, 14, 15]]': 0.61296875, '[[0, 1], [2, 3]]': 0.64421875, '[[0], [1]]': 0.6378125}}, {'accuracy': 0.9988, 'Layer1': {'[[0, 1, 2, 3, 4, 5, 6, 7], [8, 9, 10, 11, 12, 13, 14, 15]]': 0.945234375, '[[0, 1], [2, 3]]': 0.87828125, '[[0], [1]]': 0.847109375}, 'Layer2': {'[[0, 1, 2, 3, 4, 5, 6, 7], [8, 9, 10, 11, 12, 13, 14, 15]]': 0.91125, '[[0, 1], [2, 3]]': 0.86890625, '[[0], [1]]': 0.823984375}, 'Layer3': {'[[0, 1, 2, 3, 4, 5, 6, 7], [8, 9, 10, 11, 12, 13, 14, 15]]': 0.6046875, '[[0, 1], [2, 3]]': 0.63546875, '[[0], [1]]': 0.625390625}}, {'accuracy': 0.9989, 'Layer1': {'[[0, 1, 2, 3, 4, 5, 6, 7], [8, 9, 10, 11, 12, 13, 14, 15]]': 0.892734375, '[[0, 1], [2, 3]]': 0.8578125, '[[0], [1]]': 0.835078125}, 'Layer2': {'[[0, 1, 2, 3, 4, 5, 6, 7], [8, 9, 10, 11, 12, 13, 14, 15]]': 0.65078125, '[[0, 1], [2, 3]]': 0.619921875, '[[0], [1]]': 0.60828125}, 'Layer3': {'[[0, 1, 2, 3, 4, 5, 6, 7], [8, 9, 10, 11, 12, 13, 14, 15]]': 0.631171875, '[[0, 1], [2, 3]]': 0.664609375, '[[0], [1]]': 0.66453125}}, {'accuracy': 0.9974, 'Layer1': {'[[0, 1, 2, 3, 4, 5, 6, 7], [8, 9, 10, 11, 12, 13, 14, 15]]': 0.946875, '[[0, 1], [2, 3]]': 0.8821875, '[[0], [1]]': 0.55375}, 'Layer2': {'[[0, 1, 2, 3, 4, 5, 6, 7], [8, 9, 10, 11, 12, 13, 14, 15]]': 0.68890625, '[[0, 1], [2, 3]]': 0.561640625, '[[0], [1]]': 0.5209375}, 'Layer3': {'[[0, 1, 2, 3, 4, 5, 6, 7], [8, 9, 10, 11, 12, 13, 14, 15]]': 0.613984375, '[[0, 1], [2, 3]]': 0.62515625, '[[0], [1]]': 0.6325}}, {'accuracy': 0.9999, 'Layer1': {'[[0, 1, 2, 3, 4, 5, 6, 7], [8, 9, 10, 11, 12, 13, 14, 15]]': 0.95109375, '[[0, 1], [2, 3]]': 0.935625, '[[0], [1]]': 0.910859375}, 'Layer2': {'[[0, 1, 2, 3, 4, 5, 6, 7], [8, 9, 10, 11, 12, 13, 14, 15]]': 0.73109375, '[[0, 1], [2, 3]]': 0.693359375, '[[0], [1]]': 0.523046875}, 'Layer3': {'[[0, 1, 2, 3, 4, 5, 6, 7], [8, 9, 10, 11, 12, 13, 14, 15]]': 0.623125, '[[0, 1], [2, 3]]': 0.668125, '[[0], [1]]': 0.6696875}}, {'accuracy': 0.999, 'Layer1': {'[[0, 1, 2, 3, 4, 5, 6, 7], [8, 9, 10, 11, 12, 13, 14, 15]]': 0.941171875, '[[0, 1], [2, 3]]': 0.903984375, '[[0], [1]]': 0.87953125}, 'Layer2': {'[[0, 1, 2, 3, 4, 5, 6, 7], [8, 9, 10, 11, 12, 13, 14, 15]]': 0.68984375, '[[0, 1], [2, 3]]': 0.686484375, '[[0], [1]]': 0.62828125}, 'Layer3': {'[[0, 1, 2, 3, 4, 5, 6, 7], [8, 9, 10, 11, 12, 13, 14, 15]]': 0.595078125}}]\n",
      "Layer3 : [[0, 1], [2, 3]]\n",
      "restructuring\n"
     ]
    },
    {
     "name": "stderr",
     "output_type": "stream",
     "text": [
      "100%|█████████████████████████████████████████████| 1280000/1280000 [00:26<00:00, 47812.66it/s]\n"
     ]
    },
    {
     "name": "stdout",
     "output_type": "stream",
     "text": [
      "restructuring\n"
     ]
    },
    {
     "name": "stderr",
     "output_type": "stream",
     "text": [
      "100%|█████████████████████████████████████████████████| 12800/12800 [00:00<00:00, 34102.94it/s]\n"
     ]
    },
    {
     "name": "stdout",
     "output_type": "stream",
     "text": [
      "[SYST] Prepare Data\n"
     ]
    },
    {
     "name": "stderr",
     "output_type": "stream",
     "text": [
      "100%|█████████████████████████████████████████████| 1280000/1280000 [00:20<00:00, 62987.40it/s]\n"
     ]
    },
    {
     "name": "stdout",
     "output_type": "stream",
     "text": [
      "[SYST] Prepare Data\n"
     ]
    },
    {
     "name": "stderr",
     "output_type": "stream",
     "text": [
      "100%|█████████████████████████████████████████████████| 12800/12800 [00:00<00:00, 18983.74it/s]\n"
     ]
    },
    {
     "name": "stdout",
     "output_type": "stream",
     "text": [
      "[SYST] Epoch 0\n"
     ]
    },
    {
     "name": "stderr",
     "output_type": "stream",
     "text": [
      "100%|████████████████████████████████████████████████████████| 200/200 [00:13<00:00, 14.37it/s]\n"
     ]
    },
    {
     "name": "stdout",
     "output_type": "stream",
     "text": [
      "Epoch 1, Loss: 6.887090501785278\n",
      "[SYST] Epoch 1\n"
     ]
    },
    {
     "name": "stderr",
     "output_type": "stream",
     "text": [
      "100%|████████████████████████████████████████████████████████| 200/200 [00:13<00:00, 14.82it/s]\n"
     ]
    },
    {
     "name": "stdout",
     "output_type": "stream",
     "text": [
      "Epoch 2, Loss: 6.500418775081634\n",
      "[SYST] Epoch 2\n"
     ]
    },
    {
     "name": "stderr",
     "output_type": "stream",
     "text": [
      "100%|████████████████████████████████████████████████████████| 200/200 [00:13<00:00, 14.61it/s]\n"
     ]
    },
    {
     "name": "stdout",
     "output_type": "stream",
     "text": [
      "Epoch 3, Loss: 6.488236765861512\n",
      "[SYST] Epoch 3\n"
     ]
    },
    {
     "name": "stderr",
     "output_type": "stream",
     "text": [
      "100%|████████████████████████████████████████████████████████| 200/200 [00:13<00:00, 14.69it/s]\n"
     ]
    },
    {
     "name": "stdout",
     "output_type": "stream",
     "text": [
      "Epoch 4, Loss: 6.481735022068023\n",
      "[SYST] Epoch 4\n"
     ]
    },
    {
     "name": "stderr",
     "output_type": "stream",
     "text": [
      "100%|████████████████████████████████████████████████████████| 200/200 [00:13<00:00, 14.29it/s]\n"
     ]
    },
    {
     "name": "stdout",
     "output_type": "stream",
     "text": [
      "Epoch 5, Loss: 6.4768563580513\n",
      "[SYST] Epoch 5\n"
     ]
    },
    {
     "name": "stderr",
     "output_type": "stream",
     "text": [
      "100%|████████████████████████████████████████████████████████| 200/200 [00:13<00:00, 14.71it/s]\n"
     ]
    },
    {
     "name": "stdout",
     "output_type": "stream",
     "text": [
      "Epoch 6, Loss: 6.471982450485229\n",
      "[SYST] Epoch 6\n"
     ]
    },
    {
     "name": "stderr",
     "output_type": "stream",
     "text": [
      "100%|████████████████████████████████████████████████████████| 200/200 [00:13<00:00, 14.65it/s]\n"
     ]
    },
    {
     "name": "stdout",
     "output_type": "stream",
     "text": [
      "Epoch 7, Loss: 6.467510888576507\n",
      "[SYST] Epoch 7\n"
     ]
    },
    {
     "name": "stderr",
     "output_type": "stream",
     "text": [
      "100%|████████████████████████████████████████████████████████| 200/200 [00:13<00:00, 14.39it/s]\n"
     ]
    },
    {
     "name": "stdout",
     "output_type": "stream",
     "text": [
      "Epoch 8, Loss: 6.463770823478699\n",
      "[SYST] Epoch 8\n"
     ]
    },
    {
     "name": "stderr",
     "output_type": "stream",
     "text": [
      "100%|████████████████████████████████████████████████████████| 200/200 [00:13<00:00, 14.50it/s]\n"
     ]
    },
    {
     "name": "stdout",
     "output_type": "stream",
     "text": [
      "Epoch 9, Loss: 6.460305438041687\n",
      "[SYST] Epoch 9\n"
     ]
    },
    {
     "name": "stderr",
     "output_type": "stream",
     "text": [
      "100%|████████████████████████████████████████████████████████| 200/200 [00:13<00:00, 14.49it/s]\n"
     ]
    },
    {
     "name": "stdout",
     "output_type": "stream",
     "text": [
      "Epoch 10, Loss: 6.45782767534256\n",
      "[SYST] Epoch 0\n"
     ]
    },
    {
     "name": "stderr",
     "output_type": "stream",
     "text": [
      "100%|████████████████████████████████████████████████████████████| 2/2 [00:00<00:00, 16.20it/s]\n"
     ]
    },
    {
     "name": "stdout",
     "output_type": "stream",
     "text": [
      "Test Accuracy: 63.20%\n",
      "[{'accuracy': 0.9989, 'Layer1': {'[[0, 1, 2, 3, 4, 5, 6, 7], [8, 9, 10, 11, 12, 13, 14, 15]]': 0.960625, '[[0, 1], [2, 3]]': 0.8984375, '[[0], [1]]': 0.87734375}, 'Layer2': {'[[0, 1, 2, 3, 4, 5, 6, 7], [8, 9, 10, 11, 12, 13, 14, 15]]': 0.633046875, '[[0, 1], [2, 3]]': 0.767265625, '[[0], [1]]': 0.623515625}, 'Layer3': {'[[0, 1, 2, 3, 4, 5, 6, 7], [8, 9, 10, 11, 12, 13, 14, 15]]': 0.562578125, '[[0, 1], [2, 3]]': 0.631953125, '[[0], [1]]': 0.627265625}}, {'accuracy': 0.998, 'Layer1': {'[[0, 1, 2, 3, 4, 5, 6, 7], [8, 9, 10, 11, 12, 13, 14, 15]]': 0.885390625, '[[0, 1], [2, 3]]': 0.808515625, '[[0], [1]]': 0.806796875}, 'Layer2': {'[[0, 1, 2, 3, 4, 5, 6, 7], [8, 9, 10, 11, 12, 13, 14, 15]]': 0.558359375, '[[0, 1], [2, 3]]': 0.547109375, '[[0], [1]]': 0.475}, 'Layer3': {'[[0, 1, 2, 3, 4, 5, 6, 7], [8, 9, 10, 11, 12, 13, 14, 15]]': 0.61296875, '[[0, 1], [2, 3]]': 0.64421875, '[[0], [1]]': 0.6378125}}, {'accuracy': 0.9988, 'Layer1': {'[[0, 1, 2, 3, 4, 5, 6, 7], [8, 9, 10, 11, 12, 13, 14, 15]]': 0.945234375, '[[0, 1], [2, 3]]': 0.87828125, '[[0], [1]]': 0.847109375}, 'Layer2': {'[[0, 1, 2, 3, 4, 5, 6, 7], [8, 9, 10, 11, 12, 13, 14, 15]]': 0.91125, '[[0, 1], [2, 3]]': 0.86890625, '[[0], [1]]': 0.823984375}, 'Layer3': {'[[0, 1, 2, 3, 4, 5, 6, 7], [8, 9, 10, 11, 12, 13, 14, 15]]': 0.6046875, '[[0, 1], [2, 3]]': 0.63546875, '[[0], [1]]': 0.625390625}}, {'accuracy': 0.9989, 'Layer1': {'[[0, 1, 2, 3, 4, 5, 6, 7], [8, 9, 10, 11, 12, 13, 14, 15]]': 0.892734375, '[[0, 1], [2, 3]]': 0.8578125, '[[0], [1]]': 0.835078125}, 'Layer2': {'[[0, 1, 2, 3, 4, 5, 6, 7], [8, 9, 10, 11, 12, 13, 14, 15]]': 0.65078125, '[[0, 1], [2, 3]]': 0.619921875, '[[0], [1]]': 0.60828125}, 'Layer3': {'[[0, 1, 2, 3, 4, 5, 6, 7], [8, 9, 10, 11, 12, 13, 14, 15]]': 0.631171875, '[[0, 1], [2, 3]]': 0.664609375, '[[0], [1]]': 0.66453125}}, {'accuracy': 0.9974, 'Layer1': {'[[0, 1, 2, 3, 4, 5, 6, 7], [8, 9, 10, 11, 12, 13, 14, 15]]': 0.946875, '[[0, 1], [2, 3]]': 0.8821875, '[[0], [1]]': 0.55375}, 'Layer2': {'[[0, 1, 2, 3, 4, 5, 6, 7], [8, 9, 10, 11, 12, 13, 14, 15]]': 0.68890625, '[[0, 1], [2, 3]]': 0.561640625, '[[0], [1]]': 0.5209375}, 'Layer3': {'[[0, 1, 2, 3, 4, 5, 6, 7], [8, 9, 10, 11, 12, 13, 14, 15]]': 0.613984375, '[[0, 1], [2, 3]]': 0.62515625, '[[0], [1]]': 0.6325}}, {'accuracy': 0.9999, 'Layer1': {'[[0, 1, 2, 3, 4, 5, 6, 7], [8, 9, 10, 11, 12, 13, 14, 15]]': 0.95109375, '[[0, 1], [2, 3]]': 0.935625, '[[0], [1]]': 0.910859375}, 'Layer2': {'[[0, 1, 2, 3, 4, 5, 6, 7], [8, 9, 10, 11, 12, 13, 14, 15]]': 0.73109375, '[[0, 1], [2, 3]]': 0.693359375, '[[0], [1]]': 0.523046875}, 'Layer3': {'[[0, 1, 2, 3, 4, 5, 6, 7], [8, 9, 10, 11, 12, 13, 14, 15]]': 0.623125, '[[0, 1], [2, 3]]': 0.668125, '[[0], [1]]': 0.6696875}}, {'accuracy': 0.999, 'Layer1': {'[[0, 1, 2, 3, 4, 5, 6, 7], [8, 9, 10, 11, 12, 13, 14, 15]]': 0.941171875, '[[0, 1], [2, 3]]': 0.903984375, '[[0], [1]]': 0.87953125}, 'Layer2': {'[[0, 1, 2, 3, 4, 5, 6, 7], [8, 9, 10, 11, 12, 13, 14, 15]]': 0.68984375, '[[0, 1], [2, 3]]': 0.686484375, '[[0], [1]]': 0.62828125}, 'Layer3': {'[[0, 1, 2, 3, 4, 5, 6, 7], [8, 9, 10, 11, 12, 13, 14, 15]]': 0.595078125, '[[0, 1], [2, 3]]': 0.63203125}}]\n",
      "Layer3 : [[0], [1]]\n",
      "restructuring\n"
     ]
    },
    {
     "name": "stderr",
     "output_type": "stream",
     "text": [
      "100%|█████████████████████████████████████████████| 1280000/1280000 [00:27<00:00, 47362.99it/s]\n"
     ]
    },
    {
     "name": "stdout",
     "output_type": "stream",
     "text": [
      "restructuring\n"
     ]
    },
    {
     "name": "stderr",
     "output_type": "stream",
     "text": [
      "100%|█████████████████████████████████████████████████| 12800/12800 [00:00<00:00, 34037.06it/s]\n"
     ]
    },
    {
     "name": "stdout",
     "output_type": "stream",
     "text": [
      "[SYST] Prepare Data\n"
     ]
    },
    {
     "name": "stderr",
     "output_type": "stream",
     "text": [
      "100%|█████████████████████████████████████████████| 1280000/1280000 [00:13<00:00, 96610.97it/s]\n"
     ]
    },
    {
     "name": "stdout",
     "output_type": "stream",
     "text": [
      "[SYST] Prepare Data\n"
     ]
    },
    {
     "name": "stderr",
     "output_type": "stream",
     "text": [
      "100%|█████████████████████████████████████████████████| 12800/12800 [00:00<00:00, 18751.63it/s]\n"
     ]
    },
    {
     "name": "stdout",
     "output_type": "stream",
     "text": [
      "[SYST] Epoch 0\n"
     ]
    },
    {
     "name": "stderr",
     "output_type": "stream",
     "text": [
      "100%|████████████████████████████████████████████████████████| 200/200 [00:13<00:00, 14.66it/s]\n"
     ]
    },
    {
     "name": "stdout",
     "output_type": "stream",
     "text": [
      "Epoch 1, Loss: 6.972024862766266\n",
      "[SYST] Epoch 1\n"
     ]
    },
    {
     "name": "stderr",
     "output_type": "stream",
     "text": [
      "100%|████████████████████████████████████████████████████████| 200/200 [00:13<00:00, 14.74it/s]\n"
     ]
    },
    {
     "name": "stdout",
     "output_type": "stream",
     "text": [
      "Epoch 2, Loss: 6.512802243232727\n",
      "[SYST] Epoch 2\n"
     ]
    },
    {
     "name": "stderr",
     "output_type": "stream",
     "text": [
      "100%|████████████████████████████████████████████████████████| 200/200 [00:13<00:00, 14.48it/s]\n"
     ]
    },
    {
     "name": "stdout",
     "output_type": "stream",
     "text": [
      "Epoch 3, Loss: 6.48529176235199\n",
      "[SYST] Epoch 3\n"
     ]
    },
    {
     "name": "stderr",
     "output_type": "stream",
     "text": [
      "100%|████████████████████████████████████████████████████████| 200/200 [00:13<00:00, 14.37it/s]\n"
     ]
    },
    {
     "name": "stdout",
     "output_type": "stream",
     "text": [
      "Epoch 4, Loss: 6.473561553955078\n",
      "[SYST] Epoch 4\n"
     ]
    },
    {
     "name": "stderr",
     "output_type": "stream",
     "text": [
      "100%|████████████████████████████████████████████████████████| 200/200 [00:13<00:00, 14.40it/s]\n"
     ]
    },
    {
     "name": "stdout",
     "output_type": "stream",
     "text": [
      "Epoch 5, Loss: 6.465754265785217\n",
      "[SYST] Epoch 5\n"
     ]
    },
    {
     "name": "stderr",
     "output_type": "stream",
     "text": [
      "100%|████████████████████████████████████████████████████████| 200/200 [00:13<00:00, 14.51it/s]\n"
     ]
    },
    {
     "name": "stdout",
     "output_type": "stream",
     "text": [
      "Epoch 6, Loss: 6.460922133922577\n",
      "[SYST] Epoch 6\n"
     ]
    },
    {
     "name": "stderr",
     "output_type": "stream",
     "text": [
      "100%|████████████████████████████████████████████████████████| 200/200 [00:13<00:00, 14.55it/s]\n"
     ]
    },
    {
     "name": "stdout",
     "output_type": "stream",
     "text": [
      "Epoch 7, Loss: 6.45749685049057\n",
      "[SYST] Epoch 7\n"
     ]
    },
    {
     "name": "stderr",
     "output_type": "stream",
     "text": [
      "100%|████████████████████████████████████████████████████████| 200/200 [00:14<00:00, 14.15it/s]\n"
     ]
    },
    {
     "name": "stdout",
     "output_type": "stream",
     "text": [
      "Epoch 8, Loss: 6.455653264522552\n",
      "[SYST] Epoch 8\n"
     ]
    },
    {
     "name": "stderr",
     "output_type": "stream",
     "text": [
      "100%|████████████████████████████████████████████████████████| 200/200 [00:13<00:00, 14.49it/s]\n"
     ]
    },
    {
     "name": "stdout",
     "output_type": "stream",
     "text": [
      "Epoch 9, Loss: 6.453908174037934\n",
      "[SYST] Epoch 9\n"
     ]
    },
    {
     "name": "stderr",
     "output_type": "stream",
     "text": [
      "100%|████████████████████████████████████████████████████████| 200/200 [00:13<00:00, 14.30it/s]\n"
     ]
    },
    {
     "name": "stdout",
     "output_type": "stream",
     "text": [
      "Epoch 10, Loss: 6.452592771053315\n",
      "[SYST] Epoch 0\n"
     ]
    },
    {
     "name": "stderr",
     "output_type": "stream",
     "text": [
      "100%|████████████████████████████████████████████████████████████| 2/2 [00:00<00:00, 16.22it/s]\n"
     ]
    },
    {
     "name": "stdout",
     "output_type": "stream",
     "text": [
      "Test Accuracy: 62.62%\n",
      "[{'accuracy': 0.9989, 'Layer1': {'[[0, 1, 2, 3, 4, 5, 6, 7], [8, 9, 10, 11, 12, 13, 14, 15]]': 0.960625, '[[0, 1], [2, 3]]': 0.8984375, '[[0], [1]]': 0.87734375}, 'Layer2': {'[[0, 1, 2, 3, 4, 5, 6, 7], [8, 9, 10, 11, 12, 13, 14, 15]]': 0.633046875, '[[0, 1], [2, 3]]': 0.767265625, '[[0], [1]]': 0.623515625}, 'Layer3': {'[[0, 1, 2, 3, 4, 5, 6, 7], [8, 9, 10, 11, 12, 13, 14, 15]]': 0.562578125, '[[0, 1], [2, 3]]': 0.631953125, '[[0], [1]]': 0.627265625}}, {'accuracy': 0.998, 'Layer1': {'[[0, 1, 2, 3, 4, 5, 6, 7], [8, 9, 10, 11, 12, 13, 14, 15]]': 0.885390625, '[[0, 1], [2, 3]]': 0.808515625, '[[0], [1]]': 0.806796875}, 'Layer2': {'[[0, 1, 2, 3, 4, 5, 6, 7], [8, 9, 10, 11, 12, 13, 14, 15]]': 0.558359375, '[[0, 1], [2, 3]]': 0.547109375, '[[0], [1]]': 0.475}, 'Layer3': {'[[0, 1, 2, 3, 4, 5, 6, 7], [8, 9, 10, 11, 12, 13, 14, 15]]': 0.61296875, '[[0, 1], [2, 3]]': 0.64421875, '[[0], [1]]': 0.6378125}}, {'accuracy': 0.9988, 'Layer1': {'[[0, 1, 2, 3, 4, 5, 6, 7], [8, 9, 10, 11, 12, 13, 14, 15]]': 0.945234375, '[[0, 1], [2, 3]]': 0.87828125, '[[0], [1]]': 0.847109375}, 'Layer2': {'[[0, 1, 2, 3, 4, 5, 6, 7], [8, 9, 10, 11, 12, 13, 14, 15]]': 0.91125, '[[0, 1], [2, 3]]': 0.86890625, '[[0], [1]]': 0.823984375}, 'Layer3': {'[[0, 1, 2, 3, 4, 5, 6, 7], [8, 9, 10, 11, 12, 13, 14, 15]]': 0.6046875, '[[0, 1], [2, 3]]': 0.63546875, '[[0], [1]]': 0.625390625}}, {'accuracy': 0.9989, 'Layer1': {'[[0, 1, 2, 3, 4, 5, 6, 7], [8, 9, 10, 11, 12, 13, 14, 15]]': 0.892734375, '[[0, 1], [2, 3]]': 0.8578125, '[[0], [1]]': 0.835078125}, 'Layer2': {'[[0, 1, 2, 3, 4, 5, 6, 7], [8, 9, 10, 11, 12, 13, 14, 15]]': 0.65078125, '[[0, 1], [2, 3]]': 0.619921875, '[[0], [1]]': 0.60828125}, 'Layer3': {'[[0, 1, 2, 3, 4, 5, 6, 7], [8, 9, 10, 11, 12, 13, 14, 15]]': 0.631171875, '[[0, 1], [2, 3]]': 0.664609375, '[[0], [1]]': 0.66453125}}, {'accuracy': 0.9974, 'Layer1': {'[[0, 1, 2, 3, 4, 5, 6, 7], [8, 9, 10, 11, 12, 13, 14, 15]]': 0.946875, '[[0, 1], [2, 3]]': 0.8821875, '[[0], [1]]': 0.55375}, 'Layer2': {'[[0, 1, 2, 3, 4, 5, 6, 7], [8, 9, 10, 11, 12, 13, 14, 15]]': 0.68890625, '[[0, 1], [2, 3]]': 0.561640625, '[[0], [1]]': 0.5209375}, 'Layer3': {'[[0, 1, 2, 3, 4, 5, 6, 7], [8, 9, 10, 11, 12, 13, 14, 15]]': 0.613984375, '[[0, 1], [2, 3]]': 0.62515625, '[[0], [1]]': 0.6325}}, {'accuracy': 0.9999, 'Layer1': {'[[0, 1, 2, 3, 4, 5, 6, 7], [8, 9, 10, 11, 12, 13, 14, 15]]': 0.95109375, '[[0, 1], [2, 3]]': 0.935625, '[[0], [1]]': 0.910859375}, 'Layer2': {'[[0, 1, 2, 3, 4, 5, 6, 7], [8, 9, 10, 11, 12, 13, 14, 15]]': 0.73109375, '[[0, 1], [2, 3]]': 0.693359375, '[[0], [1]]': 0.523046875}, 'Layer3': {'[[0, 1, 2, 3, 4, 5, 6, 7], [8, 9, 10, 11, 12, 13, 14, 15]]': 0.623125, '[[0, 1], [2, 3]]': 0.668125, '[[0], [1]]': 0.6696875}}, {'accuracy': 0.999, 'Layer1': {'[[0, 1, 2, 3, 4, 5, 6, 7], [8, 9, 10, 11, 12, 13, 14, 15]]': 0.941171875, '[[0, 1], [2, 3]]': 0.903984375, '[[0], [1]]': 0.87953125}, 'Layer2': {'[[0, 1, 2, 3, 4, 5, 6, 7], [8, 9, 10, 11, 12, 13, 14, 15]]': 0.68984375, '[[0, 1], [2, 3]]': 0.686484375, '[[0], [1]]': 0.62828125}, 'Layer3': {'[[0, 1, 2, 3, 4, 5, 6, 7], [8, 9, 10, 11, 12, 13, 14, 15]]': 0.595078125, '[[0, 1], [2, 3]]': 0.63203125, '[[0], [1]]': 0.626171875}}]\n"
     ]
    },
    {
     "name": "stderr",
     "output_type": "stream",
     "text": [
      "100%|█████████████████████████████████████████████████████| 1024/1024 [00:06<00:00, 148.54it/s]\n"
     ]
    },
    {
     "name": "stdout",
     "output_type": "stream",
     "text": [
      "Epoch 1, Loss: 0.38355926010990515\n"
     ]
    },
    {
     "name": "stderr",
     "output_type": "stream",
     "text": [
      "100%|█████████████████████████████████████████████████████| 1024/1024 [00:07<00:00, 128.16it/s]\n"
     ]
    },
    {
     "name": "stdout",
     "output_type": "stream",
     "text": [
      "Epoch 2, Loss: 0.03378432711087953\n"
     ]
    },
    {
     "name": "stderr",
     "output_type": "stream",
     "text": [
      "100%|█████████████████████████████████████████████████████| 1024/1024 [00:07<00:00, 128.36it/s]\n"
     ]
    },
    {
     "name": "stdout",
     "output_type": "stream",
     "text": [
      "Epoch 3, Loss: 0.012388689063300262\n"
     ]
    },
    {
     "name": "stderr",
     "output_type": "stream",
     "text": [
      "100%|█████████████████████████████████████████████████████████| 10/10 [00:00<00:00, 188.99it/s]\n"
     ]
    },
    {
     "name": "stdout",
     "output_type": "stream",
     "text": [
      "Test Accuracy: 0.9968\n",
      "Layer1 : [[0, 1, 2, 3, 4, 5, 6, 7], [8, 9, 10, 11, 12, 13, 14, 15]]\n",
      "restructuring\n"
     ]
    },
    {
     "name": "stderr",
     "output_type": "stream",
     "text": [
      "100%|█████████████████████████████████████████████| 1280000/1280000 [00:26<00:00, 47734.79it/s]\n"
     ]
    },
    {
     "name": "stdout",
     "output_type": "stream",
     "text": [
      "restructuring\n"
     ]
    },
    {
     "name": "stderr",
     "output_type": "stream",
     "text": [
      "100%|█████████████████████████████████████████████████| 12800/12800 [00:00<00:00, 34066.00it/s]\n"
     ]
    },
    {
     "name": "stdout",
     "output_type": "stream",
     "text": [
      "[SYST] Prepare Data\n"
     ]
    },
    {
     "name": "stderr",
     "output_type": "stream",
     "text": [
      "100%|█████████████████████████████████████████████| 1280000/1280000 [00:26<00:00, 47777.69it/s]\n"
     ]
    },
    {
     "name": "stdout",
     "output_type": "stream",
     "text": [
      "[SYST] Prepare Data\n"
     ]
    },
    {
     "name": "stderr",
     "output_type": "stream",
     "text": [
      "100%|█████████████████████████████████████████████████| 12800/12800 [00:00<00:00, 18505.76it/s]\n"
     ]
    },
    {
     "name": "stdout",
     "output_type": "stream",
     "text": [
      "[SYST] Epoch 0\n"
     ]
    },
    {
     "name": "stderr",
     "output_type": "stream",
     "text": [
      "100%|████████████████████████████████████████████████████████| 200/200 [00:13<00:00, 14.46it/s]\n"
     ]
    },
    {
     "name": "stdout",
     "output_type": "stream",
     "text": [
      "Epoch 1, Loss: 5.265699886083603\n",
      "[SYST] Epoch 1\n"
     ]
    },
    {
     "name": "stderr",
     "output_type": "stream",
     "text": [
      "100%|████████████████████████████████████████████████████████| 200/200 [00:13<00:00, 14.76it/s]\n"
     ]
    },
    {
     "name": "stdout",
     "output_type": "stream",
     "text": [
      "Epoch 2, Loss: 1.4227986246347428\n",
      "[SYST] Epoch 2\n"
     ]
    },
    {
     "name": "stderr",
     "output_type": "stream",
     "text": [
      "100%|████████████████████████████████████████████████████████| 200/200 [00:13<00:00, 14.63it/s]\n"
     ]
    },
    {
     "name": "stdout",
     "output_type": "stream",
     "text": [
      "Epoch 3, Loss: 0.9850717172026634\n",
      "[SYST] Epoch 3\n"
     ]
    },
    {
     "name": "stderr",
     "output_type": "stream",
     "text": [
      "100%|████████████████████████████████████████████████████████| 200/200 [00:13<00:00, 14.63it/s]\n"
     ]
    },
    {
     "name": "stdout",
     "output_type": "stream",
     "text": [
      "Epoch 4, Loss: 0.7341395348310471\n",
      "[SYST] Epoch 4\n"
     ]
    },
    {
     "name": "stderr",
     "output_type": "stream",
     "text": [
      "100%|████████████████████████████████████████████████████████| 200/200 [00:13<00:00, 14.68it/s]\n"
     ]
    },
    {
     "name": "stdout",
     "output_type": "stream",
     "text": [
      "Epoch 5, Loss: 0.5866585925221444\n",
      "[SYST] Epoch 5\n"
     ]
    },
    {
     "name": "stderr",
     "output_type": "stream",
     "text": [
      "100%|████████████████████████████████████████████████████████| 200/200 [00:13<00:00, 14.60it/s]\n"
     ]
    },
    {
     "name": "stdout",
     "output_type": "stream",
     "text": [
      "Epoch 6, Loss: 0.5289156547188759\n",
      "[SYST] Epoch 6\n"
     ]
    },
    {
     "name": "stderr",
     "output_type": "stream",
     "text": [
      "100%|████████████████████████████████████████████████████████| 200/200 [00:13<00:00, 14.66it/s]\n"
     ]
    },
    {
     "name": "stdout",
     "output_type": "stream",
     "text": [
      "Epoch 7, Loss: 0.4948231337964535\n",
      "[SYST] Epoch 7\n"
     ]
    },
    {
     "name": "stderr",
     "output_type": "stream",
     "text": [
      "100%|████████████████████████████████████████████████████████| 200/200 [00:13<00:00, 14.52it/s]\n"
     ]
    },
    {
     "name": "stdout",
     "output_type": "stream",
     "text": [
      "Epoch 8, Loss: 0.46789141789078714\n",
      "[SYST] Epoch 8\n"
     ]
    },
    {
     "name": "stderr",
     "output_type": "stream",
     "text": [
      "100%|████████████████████████████████████████████████████████| 200/200 [00:13<00:00, 14.49it/s]\n"
     ]
    },
    {
     "name": "stdout",
     "output_type": "stream",
     "text": [
      "Epoch 9, Loss: 0.4457655702531338\n",
      "[SYST] Epoch 9\n"
     ]
    },
    {
     "name": "stderr",
     "output_type": "stream",
     "text": [
      "100%|████████████████████████████████████████████████████████| 200/200 [00:13<00:00, 14.59it/s]\n"
     ]
    },
    {
     "name": "stdout",
     "output_type": "stream",
     "text": [
      "Epoch 10, Loss: 0.428102303892374\n",
      "[SYST] Epoch 0\n"
     ]
    },
    {
     "name": "stderr",
     "output_type": "stream",
     "text": [
      "100%|████████████████████████████████████████████████████████████| 2/2 [00:00<00:00, 16.12it/s]\n"
     ]
    },
    {
     "name": "stdout",
     "output_type": "stream",
     "text": [
      "Test Accuracy: 92.78%\n",
      "[{'accuracy': 0.9989, 'Layer1': {'[[0, 1, 2, 3, 4, 5, 6, 7], [8, 9, 10, 11, 12, 13, 14, 15]]': 0.960625, '[[0, 1], [2, 3]]': 0.8984375, '[[0], [1]]': 0.87734375}, 'Layer2': {'[[0, 1, 2, 3, 4, 5, 6, 7], [8, 9, 10, 11, 12, 13, 14, 15]]': 0.633046875, '[[0, 1], [2, 3]]': 0.767265625, '[[0], [1]]': 0.623515625}, 'Layer3': {'[[0, 1, 2, 3, 4, 5, 6, 7], [8, 9, 10, 11, 12, 13, 14, 15]]': 0.562578125, '[[0, 1], [2, 3]]': 0.631953125, '[[0], [1]]': 0.627265625}}, {'accuracy': 0.998, 'Layer1': {'[[0, 1, 2, 3, 4, 5, 6, 7], [8, 9, 10, 11, 12, 13, 14, 15]]': 0.885390625, '[[0, 1], [2, 3]]': 0.808515625, '[[0], [1]]': 0.806796875}, 'Layer2': {'[[0, 1, 2, 3, 4, 5, 6, 7], [8, 9, 10, 11, 12, 13, 14, 15]]': 0.558359375, '[[0, 1], [2, 3]]': 0.547109375, '[[0], [1]]': 0.475}, 'Layer3': {'[[0, 1, 2, 3, 4, 5, 6, 7], [8, 9, 10, 11, 12, 13, 14, 15]]': 0.61296875, '[[0, 1], [2, 3]]': 0.64421875, '[[0], [1]]': 0.6378125}}, {'accuracy': 0.9988, 'Layer1': {'[[0, 1, 2, 3, 4, 5, 6, 7], [8, 9, 10, 11, 12, 13, 14, 15]]': 0.945234375, '[[0, 1], [2, 3]]': 0.87828125, '[[0], [1]]': 0.847109375}, 'Layer2': {'[[0, 1, 2, 3, 4, 5, 6, 7], [8, 9, 10, 11, 12, 13, 14, 15]]': 0.91125, '[[0, 1], [2, 3]]': 0.86890625, '[[0], [1]]': 0.823984375}, 'Layer3': {'[[0, 1, 2, 3, 4, 5, 6, 7], [8, 9, 10, 11, 12, 13, 14, 15]]': 0.6046875, '[[0, 1], [2, 3]]': 0.63546875, '[[0], [1]]': 0.625390625}}, {'accuracy': 0.9989, 'Layer1': {'[[0, 1, 2, 3, 4, 5, 6, 7], [8, 9, 10, 11, 12, 13, 14, 15]]': 0.892734375, '[[0, 1], [2, 3]]': 0.8578125, '[[0], [1]]': 0.835078125}, 'Layer2': {'[[0, 1, 2, 3, 4, 5, 6, 7], [8, 9, 10, 11, 12, 13, 14, 15]]': 0.65078125, '[[0, 1], [2, 3]]': 0.619921875, '[[0], [1]]': 0.60828125}, 'Layer3': {'[[0, 1, 2, 3, 4, 5, 6, 7], [8, 9, 10, 11, 12, 13, 14, 15]]': 0.631171875, '[[0, 1], [2, 3]]': 0.664609375, '[[0], [1]]': 0.66453125}}, {'accuracy': 0.9974, 'Layer1': {'[[0, 1, 2, 3, 4, 5, 6, 7], [8, 9, 10, 11, 12, 13, 14, 15]]': 0.946875, '[[0, 1], [2, 3]]': 0.8821875, '[[0], [1]]': 0.55375}, 'Layer2': {'[[0, 1, 2, 3, 4, 5, 6, 7], [8, 9, 10, 11, 12, 13, 14, 15]]': 0.68890625, '[[0, 1], [2, 3]]': 0.561640625, '[[0], [1]]': 0.5209375}, 'Layer3': {'[[0, 1, 2, 3, 4, 5, 6, 7], [8, 9, 10, 11, 12, 13, 14, 15]]': 0.613984375, '[[0, 1], [2, 3]]': 0.62515625, '[[0], [1]]': 0.6325}}, {'accuracy': 0.9999, 'Layer1': {'[[0, 1, 2, 3, 4, 5, 6, 7], [8, 9, 10, 11, 12, 13, 14, 15]]': 0.95109375, '[[0, 1], [2, 3]]': 0.935625, '[[0], [1]]': 0.910859375}, 'Layer2': {'[[0, 1, 2, 3, 4, 5, 6, 7], [8, 9, 10, 11, 12, 13, 14, 15]]': 0.73109375, '[[0, 1], [2, 3]]': 0.693359375, '[[0], [1]]': 0.523046875}, 'Layer3': {'[[0, 1, 2, 3, 4, 5, 6, 7], [8, 9, 10, 11, 12, 13, 14, 15]]': 0.623125, '[[0, 1], [2, 3]]': 0.668125, '[[0], [1]]': 0.6696875}}, {'accuracy': 0.999, 'Layer1': {'[[0, 1, 2, 3, 4, 5, 6, 7], [8, 9, 10, 11, 12, 13, 14, 15]]': 0.941171875, '[[0, 1], [2, 3]]': 0.903984375, '[[0], [1]]': 0.87953125}, 'Layer2': {'[[0, 1, 2, 3, 4, 5, 6, 7], [8, 9, 10, 11, 12, 13, 14, 15]]': 0.68984375, '[[0, 1], [2, 3]]': 0.686484375, '[[0], [1]]': 0.62828125}, 'Layer3': {'[[0, 1, 2, 3, 4, 5, 6, 7], [8, 9, 10, 11, 12, 13, 14, 15]]': 0.595078125, '[[0, 1], [2, 3]]': 0.63203125, '[[0], [1]]': 0.626171875}}, {'accuracy': 0.9968, 'Layer1': {'[[0, 1, 2, 3, 4, 5, 6, 7], [8, 9, 10, 11, 12, 13, 14, 15]]': 0.9278125}}]\n",
      "Layer1 : [[0, 1], [2, 3]]\n",
      "restructuring\n"
     ]
    },
    {
     "name": "stderr",
     "output_type": "stream",
     "text": [
      "100%|█████████████████████████████████████████████| 1280000/1280000 [00:27<00:00, 47237.55it/s]\n"
     ]
    },
    {
     "name": "stdout",
     "output_type": "stream",
     "text": [
      "restructuring\n"
     ]
    },
    {
     "name": "stderr",
     "output_type": "stream",
     "text": [
      "100%|█████████████████████████████████████████████████| 12800/12800 [00:00<00:00, 33819.39it/s]\n"
     ]
    },
    {
     "name": "stdout",
     "output_type": "stream",
     "text": [
      "[SYST] Prepare Data\n"
     ]
    },
    {
     "name": "stderr",
     "output_type": "stream",
     "text": [
      "100%|█████████████████████████████████████████████| 1280000/1280000 [00:20<00:00, 63278.76it/s]\n"
     ]
    },
    {
     "name": "stdout",
     "output_type": "stream",
     "text": [
      "[SYST] Prepare Data\n"
     ]
    },
    {
     "name": "stderr",
     "output_type": "stream",
     "text": [
      "100%|█████████████████████████████████████████████████| 12800/12800 [00:00<00:00, 18623.98it/s]\n"
     ]
    },
    {
     "name": "stdout",
     "output_type": "stream",
     "text": [
      "[SYST] Epoch 0\n"
     ]
    },
    {
     "name": "stderr",
     "output_type": "stream",
     "text": [
      "100%|████████████████████████████████████████████████████████| 200/200 [00:14<00:00, 13.48it/s]\n"
     ]
    },
    {
     "name": "stdout",
     "output_type": "stream",
     "text": [
      "Epoch 1, Loss: 4.945327632427215\n",
      "[SYST] Epoch 1\n"
     ]
    },
    {
     "name": "stderr",
     "output_type": "stream",
     "text": [
      "100%|████████████████████████████████████████████████████████| 200/200 [00:13<00:00, 14.88it/s]\n"
     ]
    },
    {
     "name": "stdout",
     "output_type": "stream",
     "text": [
      "Epoch 2, Loss: 2.2771092557907107\n",
      "[SYST] Epoch 2\n"
     ]
    },
    {
     "name": "stderr",
     "output_type": "stream",
     "text": [
      "100%|████████████████████████████████████████████████████████| 200/200 [00:13<00:00, 14.88it/s]\n"
     ]
    },
    {
     "name": "stdout",
     "output_type": "stream",
     "text": [
      "Epoch 3, Loss: 1.8933386313915253\n",
      "[SYST] Epoch 3\n"
     ]
    },
    {
     "name": "stderr",
     "output_type": "stream",
     "text": [
      "100%|████████████████████████████████████████████████████████| 200/200 [00:13<00:00, 14.89it/s]\n"
     ]
    },
    {
     "name": "stdout",
     "output_type": "stream",
     "text": [
      "Epoch 4, Loss: 1.483151348233223\n",
      "[SYST] Epoch 4\n"
     ]
    },
    {
     "name": "stderr",
     "output_type": "stream",
     "text": [
      "100%|████████████████████████████████████████████████████████| 200/200 [00:13<00:00, 14.83it/s]\n"
     ]
    },
    {
     "name": "stdout",
     "output_type": "stream",
     "text": [
      "Epoch 5, Loss: 1.1625540149211884\n",
      "[SYST] Epoch 5\n"
     ]
    },
    {
     "name": "stderr",
     "output_type": "stream",
     "text": [
      "100%|████████████████████████████████████████████████████████| 200/200 [00:13<00:00, 14.89it/s]\n"
     ]
    },
    {
     "name": "stdout",
     "output_type": "stream",
     "text": [
      "Epoch 6, Loss: 1.0230046293139459\n",
      "[SYST] Epoch 6\n"
     ]
    },
    {
     "name": "stderr",
     "output_type": "stream",
     "text": [
      "100%|████████████████████████████████████████████████████████| 200/200 [00:13<00:00, 14.54it/s]\n"
     ]
    },
    {
     "name": "stdout",
     "output_type": "stream",
     "text": [
      "Epoch 7, Loss: 0.9945848938822747\n",
      "[SYST] Epoch 7\n"
     ]
    },
    {
     "name": "stderr",
     "output_type": "stream",
     "text": [
      "100%|████████████████████████████████████████████████████████| 200/200 [00:13<00:00, 14.78it/s]\n"
     ]
    },
    {
     "name": "stdout",
     "output_type": "stream",
     "text": [
      "Epoch 8, Loss: 0.987373956143856\n",
      "[SYST] Epoch 8\n"
     ]
    },
    {
     "name": "stderr",
     "output_type": "stream",
     "text": [
      "100%|████████████████████████████████████████████████████████| 200/200 [00:14<00:00, 14.21it/s]\n"
     ]
    },
    {
     "name": "stdout",
     "output_type": "stream",
     "text": [
      "Epoch 9, Loss: 0.9846354085206985\n",
      "[SYST] Epoch 9\n"
     ]
    },
    {
     "name": "stderr",
     "output_type": "stream",
     "text": [
      "100%|████████████████████████████████████████████████████████| 200/200 [00:13<00:00, 14.83it/s]\n"
     ]
    },
    {
     "name": "stdout",
     "output_type": "stream",
     "text": [
      "Epoch 10, Loss: 0.9826371175050735\n",
      "[SYST] Epoch 0\n"
     ]
    },
    {
     "name": "stderr",
     "output_type": "stream",
     "text": [
      "100%|████████████████████████████████████████████████████████████| 2/2 [00:00<00:00, 16.24it/s]\n"
     ]
    },
    {
     "name": "stdout",
     "output_type": "stream",
     "text": [
      "Test Accuracy: 85.38%\n",
      "[{'accuracy': 0.9989, 'Layer1': {'[[0, 1, 2, 3, 4, 5, 6, 7], [8, 9, 10, 11, 12, 13, 14, 15]]': 0.960625, '[[0, 1], [2, 3]]': 0.8984375, '[[0], [1]]': 0.87734375}, 'Layer2': {'[[0, 1, 2, 3, 4, 5, 6, 7], [8, 9, 10, 11, 12, 13, 14, 15]]': 0.633046875, '[[0, 1], [2, 3]]': 0.767265625, '[[0], [1]]': 0.623515625}, 'Layer3': {'[[0, 1, 2, 3, 4, 5, 6, 7], [8, 9, 10, 11, 12, 13, 14, 15]]': 0.562578125, '[[0, 1], [2, 3]]': 0.631953125, '[[0], [1]]': 0.627265625}}, {'accuracy': 0.998, 'Layer1': {'[[0, 1, 2, 3, 4, 5, 6, 7], [8, 9, 10, 11, 12, 13, 14, 15]]': 0.885390625, '[[0, 1], [2, 3]]': 0.808515625, '[[0], [1]]': 0.806796875}, 'Layer2': {'[[0, 1, 2, 3, 4, 5, 6, 7], [8, 9, 10, 11, 12, 13, 14, 15]]': 0.558359375, '[[0, 1], [2, 3]]': 0.547109375, '[[0], [1]]': 0.475}, 'Layer3': {'[[0, 1, 2, 3, 4, 5, 6, 7], [8, 9, 10, 11, 12, 13, 14, 15]]': 0.61296875, '[[0, 1], [2, 3]]': 0.64421875, '[[0], [1]]': 0.6378125}}, {'accuracy': 0.9988, 'Layer1': {'[[0, 1, 2, 3, 4, 5, 6, 7], [8, 9, 10, 11, 12, 13, 14, 15]]': 0.945234375, '[[0, 1], [2, 3]]': 0.87828125, '[[0], [1]]': 0.847109375}, 'Layer2': {'[[0, 1, 2, 3, 4, 5, 6, 7], [8, 9, 10, 11, 12, 13, 14, 15]]': 0.91125, '[[0, 1], [2, 3]]': 0.86890625, '[[0], [1]]': 0.823984375}, 'Layer3': {'[[0, 1, 2, 3, 4, 5, 6, 7], [8, 9, 10, 11, 12, 13, 14, 15]]': 0.6046875, '[[0, 1], [2, 3]]': 0.63546875, '[[0], [1]]': 0.625390625}}, {'accuracy': 0.9989, 'Layer1': {'[[0, 1, 2, 3, 4, 5, 6, 7], [8, 9, 10, 11, 12, 13, 14, 15]]': 0.892734375, '[[0, 1], [2, 3]]': 0.8578125, '[[0], [1]]': 0.835078125}, 'Layer2': {'[[0, 1, 2, 3, 4, 5, 6, 7], [8, 9, 10, 11, 12, 13, 14, 15]]': 0.65078125, '[[0, 1], [2, 3]]': 0.619921875, '[[0], [1]]': 0.60828125}, 'Layer3': {'[[0, 1, 2, 3, 4, 5, 6, 7], [8, 9, 10, 11, 12, 13, 14, 15]]': 0.631171875, '[[0, 1], [2, 3]]': 0.664609375, '[[0], [1]]': 0.66453125}}, {'accuracy': 0.9974, 'Layer1': {'[[0, 1, 2, 3, 4, 5, 6, 7], [8, 9, 10, 11, 12, 13, 14, 15]]': 0.946875, '[[0, 1], [2, 3]]': 0.8821875, '[[0], [1]]': 0.55375}, 'Layer2': {'[[0, 1, 2, 3, 4, 5, 6, 7], [8, 9, 10, 11, 12, 13, 14, 15]]': 0.68890625, '[[0, 1], [2, 3]]': 0.561640625, '[[0], [1]]': 0.5209375}, 'Layer3': {'[[0, 1, 2, 3, 4, 5, 6, 7], [8, 9, 10, 11, 12, 13, 14, 15]]': 0.613984375, '[[0, 1], [2, 3]]': 0.62515625, '[[0], [1]]': 0.6325}}, {'accuracy': 0.9999, 'Layer1': {'[[0, 1, 2, 3, 4, 5, 6, 7], [8, 9, 10, 11, 12, 13, 14, 15]]': 0.95109375, '[[0, 1], [2, 3]]': 0.935625, '[[0], [1]]': 0.910859375}, 'Layer2': {'[[0, 1, 2, 3, 4, 5, 6, 7], [8, 9, 10, 11, 12, 13, 14, 15]]': 0.73109375, '[[0, 1], [2, 3]]': 0.693359375, '[[0], [1]]': 0.523046875}, 'Layer3': {'[[0, 1, 2, 3, 4, 5, 6, 7], [8, 9, 10, 11, 12, 13, 14, 15]]': 0.623125, '[[0, 1], [2, 3]]': 0.668125, '[[0], [1]]': 0.6696875}}, {'accuracy': 0.999, 'Layer1': {'[[0, 1, 2, 3, 4, 5, 6, 7], [8, 9, 10, 11, 12, 13, 14, 15]]': 0.941171875, '[[0, 1], [2, 3]]': 0.903984375, '[[0], [1]]': 0.87953125}, 'Layer2': {'[[0, 1, 2, 3, 4, 5, 6, 7], [8, 9, 10, 11, 12, 13, 14, 15]]': 0.68984375, '[[0, 1], [2, 3]]': 0.686484375, '[[0], [1]]': 0.62828125}, 'Layer3': {'[[0, 1, 2, 3, 4, 5, 6, 7], [8, 9, 10, 11, 12, 13, 14, 15]]': 0.595078125, '[[0, 1], [2, 3]]': 0.63203125, '[[0], [1]]': 0.626171875}}, {'accuracy': 0.9968, 'Layer1': {'[[0, 1, 2, 3, 4, 5, 6, 7], [8, 9, 10, 11, 12, 13, 14, 15]]': 0.9278125, '[[0, 1], [2, 3]]': 0.853828125}}]\n",
      "Layer1 : [[0], [1]]\n",
      "restructuring\n"
     ]
    },
    {
     "name": "stderr",
     "output_type": "stream",
     "text": [
      "100%|█████████████████████████████████████████████| 1280000/1280000 [00:26<00:00, 47463.73it/s]\n"
     ]
    },
    {
     "name": "stdout",
     "output_type": "stream",
     "text": [
      "restructuring\n"
     ]
    },
    {
     "name": "stderr",
     "output_type": "stream",
     "text": [
      "100%|█████████████████████████████████████████████████| 12800/12800 [00:00<00:00, 34095.33it/s]\n"
     ]
    },
    {
     "name": "stdout",
     "output_type": "stream",
     "text": [
      "[SYST] Prepare Data\n"
     ]
    },
    {
     "name": "stderr",
     "output_type": "stream",
     "text": [
      "100%|█████████████████████████████████████████████| 1280000/1280000 [00:19<00:00, 65336.87it/s]\n"
     ]
    },
    {
     "name": "stdout",
     "output_type": "stream",
     "text": [
      "[SYST] Prepare Data\n"
     ]
    },
    {
     "name": "stderr",
     "output_type": "stream",
     "text": [
      "100%|█████████████████████████████████████████████████| 12800/12800 [00:00<00:00, 18878.91it/s]\n"
     ]
    },
    {
     "name": "stdout",
     "output_type": "stream",
     "text": [
      "[SYST] Epoch 0\n"
     ]
    },
    {
     "name": "stderr",
     "output_type": "stream",
     "text": [
      "100%|████████████████████████████████████████████████████████| 200/200 [00:13<00:00, 14.48it/s]\n"
     ]
    },
    {
     "name": "stdout",
     "output_type": "stream",
     "text": [
      "Epoch 1, Loss: 5.92548394203186\n",
      "[SYST] Epoch 1\n"
     ]
    },
    {
     "name": "stderr",
     "output_type": "stream",
     "text": [
      "100%|████████████████████████████████████████████████████████| 200/200 [00:14<00:00, 13.88it/s]\n"
     ]
    },
    {
     "name": "stdout",
     "output_type": "stream",
     "text": [
      "Epoch 2, Loss: 4.767933900356293\n",
      "[SYST] Epoch 2\n"
     ]
    },
    {
     "name": "stderr",
     "output_type": "stream",
     "text": [
      "100%|████████████████████████████████████████████████████████| 200/200 [00:13<00:00, 14.73it/s]\n"
     ]
    },
    {
     "name": "stdout",
     "output_type": "stream",
     "text": [
      "Epoch 3, Loss: 4.035566431283951\n",
      "[SYST] Epoch 3\n"
     ]
    },
    {
     "name": "stderr",
     "output_type": "stream",
     "text": [
      "100%|████████████████████████████████████████████████████████| 200/200 [00:13<00:00, 14.88it/s]\n"
     ]
    },
    {
     "name": "stdout",
     "output_type": "stream",
     "text": [
      "Epoch 4, Loss: 3.8212420630455015\n",
      "[SYST] Epoch 4\n"
     ]
    },
    {
     "name": "stderr",
     "output_type": "stream",
     "text": [
      "100%|████████████████████████████████████████████████████████| 200/200 [00:13<00:00, 14.53it/s]\n"
     ]
    },
    {
     "name": "stdout",
     "output_type": "stream",
     "text": [
      "Epoch 5, Loss: 3.583903065919876\n",
      "[SYST] Epoch 5\n"
     ]
    },
    {
     "name": "stderr",
     "output_type": "stream",
     "text": [
      "100%|████████████████████████████████████████████████████████| 200/200 [00:13<00:00, 14.76it/s]\n"
     ]
    },
    {
     "name": "stdout",
     "output_type": "stream",
     "text": [
      "Epoch 6, Loss: 3.4966472327709197\n",
      "[SYST] Epoch 6\n"
     ]
    },
    {
     "name": "stderr",
     "output_type": "stream",
     "text": [
      "100%|████████████████████████████████████████████████████████| 200/200 [00:13<00:00, 14.76it/s]\n"
     ]
    },
    {
     "name": "stdout",
     "output_type": "stream",
     "text": [
      "Epoch 7, Loss: 3.489279593229294\n",
      "[SYST] Epoch 7\n"
     ]
    },
    {
     "name": "stderr",
     "output_type": "stream",
     "text": [
      "100%|████████████████████████████████████████████████████████| 200/200 [00:13<00:00, 14.85it/s]\n"
     ]
    },
    {
     "name": "stdout",
     "output_type": "stream",
     "text": [
      "Epoch 8, Loss: 3.485862989425659\n",
      "[SYST] Epoch 8\n"
     ]
    },
    {
     "name": "stderr",
     "output_type": "stream",
     "text": [
      "100%|████████████████████████████████████████████████████████| 200/200 [00:13<00:00, 14.79it/s]\n"
     ]
    },
    {
     "name": "stdout",
     "output_type": "stream",
     "text": [
      "Epoch 9, Loss: 3.480082814693451\n",
      "[SYST] Epoch 9\n"
     ]
    },
    {
     "name": "stderr",
     "output_type": "stream",
     "text": [
      "100%|████████████████████████████████████████████████████████| 200/200 [00:13<00:00, 14.31it/s]\n"
     ]
    },
    {
     "name": "stdout",
     "output_type": "stream",
     "text": [
      "Epoch 10, Loss: 3.474494044780731\n",
      "[SYST] Epoch 0\n"
     ]
    },
    {
     "name": "stderr",
     "output_type": "stream",
     "text": [
      "100%|████████████████████████████████████████████████████████████| 2/2 [00:00<00:00, 14.44it/s]\n"
     ]
    },
    {
     "name": "stdout",
     "output_type": "stream",
     "text": [
      "Test Accuracy: 63.35%\n",
      "[{'accuracy': 0.9989, 'Layer1': {'[[0, 1, 2, 3, 4, 5, 6, 7], [8, 9, 10, 11, 12, 13, 14, 15]]': 0.960625, '[[0, 1], [2, 3]]': 0.8984375, '[[0], [1]]': 0.87734375}, 'Layer2': {'[[0, 1, 2, 3, 4, 5, 6, 7], [8, 9, 10, 11, 12, 13, 14, 15]]': 0.633046875, '[[0, 1], [2, 3]]': 0.767265625, '[[0], [1]]': 0.623515625}, 'Layer3': {'[[0, 1, 2, 3, 4, 5, 6, 7], [8, 9, 10, 11, 12, 13, 14, 15]]': 0.562578125, '[[0, 1], [2, 3]]': 0.631953125, '[[0], [1]]': 0.627265625}}, {'accuracy': 0.998, 'Layer1': {'[[0, 1, 2, 3, 4, 5, 6, 7], [8, 9, 10, 11, 12, 13, 14, 15]]': 0.885390625, '[[0, 1], [2, 3]]': 0.808515625, '[[0], [1]]': 0.806796875}, 'Layer2': {'[[0, 1, 2, 3, 4, 5, 6, 7], [8, 9, 10, 11, 12, 13, 14, 15]]': 0.558359375, '[[0, 1], [2, 3]]': 0.547109375, '[[0], [1]]': 0.475}, 'Layer3': {'[[0, 1, 2, 3, 4, 5, 6, 7], [8, 9, 10, 11, 12, 13, 14, 15]]': 0.61296875, '[[0, 1], [2, 3]]': 0.64421875, '[[0], [1]]': 0.6378125}}, {'accuracy': 0.9988, 'Layer1': {'[[0, 1, 2, 3, 4, 5, 6, 7], [8, 9, 10, 11, 12, 13, 14, 15]]': 0.945234375, '[[0, 1], [2, 3]]': 0.87828125, '[[0], [1]]': 0.847109375}, 'Layer2': {'[[0, 1, 2, 3, 4, 5, 6, 7], [8, 9, 10, 11, 12, 13, 14, 15]]': 0.91125, '[[0, 1], [2, 3]]': 0.86890625, '[[0], [1]]': 0.823984375}, 'Layer3': {'[[0, 1, 2, 3, 4, 5, 6, 7], [8, 9, 10, 11, 12, 13, 14, 15]]': 0.6046875, '[[0, 1], [2, 3]]': 0.63546875, '[[0], [1]]': 0.625390625}}, {'accuracy': 0.9989, 'Layer1': {'[[0, 1, 2, 3, 4, 5, 6, 7], [8, 9, 10, 11, 12, 13, 14, 15]]': 0.892734375, '[[0, 1], [2, 3]]': 0.8578125, '[[0], [1]]': 0.835078125}, 'Layer2': {'[[0, 1, 2, 3, 4, 5, 6, 7], [8, 9, 10, 11, 12, 13, 14, 15]]': 0.65078125, '[[0, 1], [2, 3]]': 0.619921875, '[[0], [1]]': 0.60828125}, 'Layer3': {'[[0, 1, 2, 3, 4, 5, 6, 7], [8, 9, 10, 11, 12, 13, 14, 15]]': 0.631171875, '[[0, 1], [2, 3]]': 0.664609375, '[[0], [1]]': 0.66453125}}, {'accuracy': 0.9974, 'Layer1': {'[[0, 1, 2, 3, 4, 5, 6, 7], [8, 9, 10, 11, 12, 13, 14, 15]]': 0.946875, '[[0, 1], [2, 3]]': 0.8821875, '[[0], [1]]': 0.55375}, 'Layer2': {'[[0, 1, 2, 3, 4, 5, 6, 7], [8, 9, 10, 11, 12, 13, 14, 15]]': 0.68890625, '[[0, 1], [2, 3]]': 0.561640625, '[[0], [1]]': 0.5209375}, 'Layer3': {'[[0, 1, 2, 3, 4, 5, 6, 7], [8, 9, 10, 11, 12, 13, 14, 15]]': 0.613984375, '[[0, 1], [2, 3]]': 0.62515625, '[[0], [1]]': 0.6325}}, {'accuracy': 0.9999, 'Layer1': {'[[0, 1, 2, 3, 4, 5, 6, 7], [8, 9, 10, 11, 12, 13, 14, 15]]': 0.95109375, '[[0, 1], [2, 3]]': 0.935625, '[[0], [1]]': 0.910859375}, 'Layer2': {'[[0, 1, 2, 3, 4, 5, 6, 7], [8, 9, 10, 11, 12, 13, 14, 15]]': 0.73109375, '[[0, 1], [2, 3]]': 0.693359375, '[[0], [1]]': 0.523046875}, 'Layer3': {'[[0, 1, 2, 3, 4, 5, 6, 7], [8, 9, 10, 11, 12, 13, 14, 15]]': 0.623125, '[[0, 1], [2, 3]]': 0.668125, '[[0], [1]]': 0.6696875}}, {'accuracy': 0.999, 'Layer1': {'[[0, 1, 2, 3, 4, 5, 6, 7], [8, 9, 10, 11, 12, 13, 14, 15]]': 0.941171875, '[[0, 1], [2, 3]]': 0.903984375, '[[0], [1]]': 0.87953125}, 'Layer2': {'[[0, 1, 2, 3, 4, 5, 6, 7], [8, 9, 10, 11, 12, 13, 14, 15]]': 0.68984375, '[[0, 1], [2, 3]]': 0.686484375, '[[0], [1]]': 0.62828125}, 'Layer3': {'[[0, 1, 2, 3, 4, 5, 6, 7], [8, 9, 10, 11, 12, 13, 14, 15]]': 0.595078125, '[[0, 1], [2, 3]]': 0.63203125, '[[0], [1]]': 0.626171875}}, {'accuracy': 0.9968, 'Layer1': {'[[0, 1, 2, 3, 4, 5, 6, 7], [8, 9, 10, 11, 12, 13, 14, 15]]': 0.9278125, '[[0, 1], [2, 3]]': 0.853828125, '[[0], [1]]': 0.633515625}}]\n",
      "Layer2 : [[0, 1, 2, 3, 4, 5, 6, 7], [8, 9, 10, 11, 12, 13, 14, 15]]\n",
      "restructuring\n"
     ]
    },
    {
     "name": "stderr",
     "output_type": "stream",
     "text": [
      "100%|█████████████████████████████████████████████| 1280000/1280000 [00:26<00:00, 47475.24it/s]\n"
     ]
    },
    {
     "name": "stdout",
     "output_type": "stream",
     "text": [
      "restructuring\n"
     ]
    },
    {
     "name": "stderr",
     "output_type": "stream",
     "text": [
      "100%|█████████████████████████████████████████████████| 12800/12800 [00:00<00:00, 34398.04it/s]\n"
     ]
    },
    {
     "name": "stdout",
     "output_type": "stream",
     "text": [
      "[SYST] Prepare Data\n"
     ]
    },
    {
     "name": "stderr",
     "output_type": "stream",
     "text": [
      "100%|█████████████████████████████████████████████| 1280000/1280000 [00:14<00:00, 90810.79it/s]\n"
     ]
    },
    {
     "name": "stdout",
     "output_type": "stream",
     "text": [
      "[SYST] Prepare Data\n"
     ]
    },
    {
     "name": "stderr",
     "output_type": "stream",
     "text": [
      "100%|█████████████████████████████████████████████████| 12800/12800 [00:00<00:00, 18736.33it/s]\n"
     ]
    },
    {
     "name": "stdout",
     "output_type": "stream",
     "text": [
      "[SYST] Epoch 0\n"
     ]
    },
    {
     "name": "stderr",
     "output_type": "stream",
     "text": [
      "100%|████████████████████████████████████████████████████████| 200/200 [00:13<00:00, 14.90it/s]\n"
     ]
    },
    {
     "name": "stdout",
     "output_type": "stream",
     "text": [
      "Epoch 1, Loss: 4.139603565931321\n",
      "[SYST] Epoch 1\n"
     ]
    },
    {
     "name": "stderr",
     "output_type": "stream",
     "text": [
      "100%|████████████████████████████████████████████████████████| 200/200 [00:13<00:00, 14.77it/s]\n"
     ]
    },
    {
     "name": "stdout",
     "output_type": "stream",
     "text": [
      "Epoch 2, Loss: 3.047731181383133\n",
      "[SYST] Epoch 2\n"
     ]
    },
    {
     "name": "stderr",
     "output_type": "stream",
     "text": [
      "100%|████████████████████████████████████████████████████████| 200/200 [00:13<00:00, 14.68it/s]\n"
     ]
    },
    {
     "name": "stdout",
     "output_type": "stream",
     "text": [
      "Epoch 3, Loss: 2.8003233814239503\n",
      "[SYST] Epoch 3\n"
     ]
    },
    {
     "name": "stderr",
     "output_type": "stream",
     "text": [
      "100%|████████████████████████████████████████████████████████| 200/200 [00:14<00:00, 13.60it/s]\n"
     ]
    },
    {
     "name": "stdout",
     "output_type": "stream",
     "text": [
      "Epoch 4, Loss: 2.720344524383545\n",
      "[SYST] Epoch 4\n"
     ]
    },
    {
     "name": "stderr",
     "output_type": "stream",
     "text": [
      "100%|████████████████████████████████████████████████████████| 200/200 [00:15<00:00, 13.08it/s]\n"
     ]
    },
    {
     "name": "stdout",
     "output_type": "stream",
     "text": [
      "Epoch 5, Loss: 2.681499592065811\n",
      "[SYST] Epoch 5\n"
     ]
    },
    {
     "name": "stderr",
     "output_type": "stream",
     "text": [
      "100%|████████████████████████████████████████████████████████| 200/200 [00:15<00:00, 13.06it/s]\n"
     ]
    },
    {
     "name": "stdout",
     "output_type": "stream",
     "text": [
      "Epoch 6, Loss: 2.660893894433975\n",
      "[SYST] Epoch 6\n"
     ]
    },
    {
     "name": "stderr",
     "output_type": "stream",
     "text": [
      "100%|████████████████████████████████████████████████████████| 200/200 [00:14<00:00, 13.86it/s]\n"
     ]
    },
    {
     "name": "stdout",
     "output_type": "stream",
     "text": [
      "Epoch 7, Loss: 2.6495705687999727\n",
      "[SYST] Epoch 7\n"
     ]
    },
    {
     "name": "stderr",
     "output_type": "stream",
     "text": [
      "100%|████████████████████████████████████████████████████████| 200/200 [00:13<00:00, 14.63it/s]\n"
     ]
    },
    {
     "name": "stdout",
     "output_type": "stream",
     "text": [
      "Epoch 8, Loss: 2.6433046007156373\n",
      "[SYST] Epoch 8\n"
     ]
    },
    {
     "name": "stderr",
     "output_type": "stream",
     "text": [
      "100%|████████████████████████████████████████████████████████| 200/200 [00:13<00:00, 14.65it/s]\n"
     ]
    },
    {
     "name": "stdout",
     "output_type": "stream",
     "text": [
      "Epoch 9, Loss: 2.640033149719238\n",
      "[SYST] Epoch 9\n"
     ]
    },
    {
     "name": "stderr",
     "output_type": "stream",
     "text": [
      "100%|████████████████████████████████████████████████████████| 200/200 [00:13<00:00, 14.74it/s]\n"
     ]
    },
    {
     "name": "stdout",
     "output_type": "stream",
     "text": [
      "Epoch 10, Loss: 2.6371451807022095\n",
      "[SYST] Epoch 0\n"
     ]
    },
    {
     "name": "stderr",
     "output_type": "stream",
     "text": [
      "100%|████████████████████████████████████████████████████████████| 2/2 [00:00<00:00, 16.07it/s]\n"
     ]
    },
    {
     "name": "stdout",
     "output_type": "stream",
     "text": [
      "Test Accuracy: 73.45%\n",
      "[{'accuracy': 0.9989, 'Layer1': {'[[0, 1, 2, 3, 4, 5, 6, 7], [8, 9, 10, 11, 12, 13, 14, 15]]': 0.960625, '[[0, 1], [2, 3]]': 0.8984375, '[[0], [1]]': 0.87734375}, 'Layer2': {'[[0, 1, 2, 3, 4, 5, 6, 7], [8, 9, 10, 11, 12, 13, 14, 15]]': 0.633046875, '[[0, 1], [2, 3]]': 0.767265625, '[[0], [1]]': 0.623515625}, 'Layer3': {'[[0, 1, 2, 3, 4, 5, 6, 7], [8, 9, 10, 11, 12, 13, 14, 15]]': 0.562578125, '[[0, 1], [2, 3]]': 0.631953125, '[[0], [1]]': 0.627265625}}, {'accuracy': 0.998, 'Layer1': {'[[0, 1, 2, 3, 4, 5, 6, 7], [8, 9, 10, 11, 12, 13, 14, 15]]': 0.885390625, '[[0, 1], [2, 3]]': 0.808515625, '[[0], [1]]': 0.806796875}, 'Layer2': {'[[0, 1, 2, 3, 4, 5, 6, 7], [8, 9, 10, 11, 12, 13, 14, 15]]': 0.558359375, '[[0, 1], [2, 3]]': 0.547109375, '[[0], [1]]': 0.475}, 'Layer3': {'[[0, 1, 2, 3, 4, 5, 6, 7], [8, 9, 10, 11, 12, 13, 14, 15]]': 0.61296875, '[[0, 1], [2, 3]]': 0.64421875, '[[0], [1]]': 0.6378125}}, {'accuracy': 0.9988, 'Layer1': {'[[0, 1, 2, 3, 4, 5, 6, 7], [8, 9, 10, 11, 12, 13, 14, 15]]': 0.945234375, '[[0, 1], [2, 3]]': 0.87828125, '[[0], [1]]': 0.847109375}, 'Layer2': {'[[0, 1, 2, 3, 4, 5, 6, 7], [8, 9, 10, 11, 12, 13, 14, 15]]': 0.91125, '[[0, 1], [2, 3]]': 0.86890625, '[[0], [1]]': 0.823984375}, 'Layer3': {'[[0, 1, 2, 3, 4, 5, 6, 7], [8, 9, 10, 11, 12, 13, 14, 15]]': 0.6046875, '[[0, 1], [2, 3]]': 0.63546875, '[[0], [1]]': 0.625390625}}, {'accuracy': 0.9989, 'Layer1': {'[[0, 1, 2, 3, 4, 5, 6, 7], [8, 9, 10, 11, 12, 13, 14, 15]]': 0.892734375, '[[0, 1], [2, 3]]': 0.8578125, '[[0], [1]]': 0.835078125}, 'Layer2': {'[[0, 1, 2, 3, 4, 5, 6, 7], [8, 9, 10, 11, 12, 13, 14, 15]]': 0.65078125, '[[0, 1], [2, 3]]': 0.619921875, '[[0], [1]]': 0.60828125}, 'Layer3': {'[[0, 1, 2, 3, 4, 5, 6, 7], [8, 9, 10, 11, 12, 13, 14, 15]]': 0.631171875, '[[0, 1], [2, 3]]': 0.664609375, '[[0], [1]]': 0.66453125}}, {'accuracy': 0.9974, 'Layer1': {'[[0, 1, 2, 3, 4, 5, 6, 7], [8, 9, 10, 11, 12, 13, 14, 15]]': 0.946875, '[[0, 1], [2, 3]]': 0.8821875, '[[0], [1]]': 0.55375}, 'Layer2': {'[[0, 1, 2, 3, 4, 5, 6, 7], [8, 9, 10, 11, 12, 13, 14, 15]]': 0.68890625, '[[0, 1], [2, 3]]': 0.561640625, '[[0], [1]]': 0.5209375}, 'Layer3': {'[[0, 1, 2, 3, 4, 5, 6, 7], [8, 9, 10, 11, 12, 13, 14, 15]]': 0.613984375, '[[0, 1], [2, 3]]': 0.62515625, '[[0], [1]]': 0.6325}}, {'accuracy': 0.9999, 'Layer1': {'[[0, 1, 2, 3, 4, 5, 6, 7], [8, 9, 10, 11, 12, 13, 14, 15]]': 0.95109375, '[[0, 1], [2, 3]]': 0.935625, '[[0], [1]]': 0.910859375}, 'Layer2': {'[[0, 1, 2, 3, 4, 5, 6, 7], [8, 9, 10, 11, 12, 13, 14, 15]]': 0.73109375, '[[0, 1], [2, 3]]': 0.693359375, '[[0], [1]]': 0.523046875}, 'Layer3': {'[[0, 1, 2, 3, 4, 5, 6, 7], [8, 9, 10, 11, 12, 13, 14, 15]]': 0.623125, '[[0, 1], [2, 3]]': 0.668125, '[[0], [1]]': 0.6696875}}, {'accuracy': 0.999, 'Layer1': {'[[0, 1, 2, 3, 4, 5, 6, 7], [8, 9, 10, 11, 12, 13, 14, 15]]': 0.941171875, '[[0, 1], [2, 3]]': 0.903984375, '[[0], [1]]': 0.87953125}, 'Layer2': {'[[0, 1, 2, 3, 4, 5, 6, 7], [8, 9, 10, 11, 12, 13, 14, 15]]': 0.68984375, '[[0, 1], [2, 3]]': 0.686484375, '[[0], [1]]': 0.62828125}, 'Layer3': {'[[0, 1, 2, 3, 4, 5, 6, 7], [8, 9, 10, 11, 12, 13, 14, 15]]': 0.595078125, '[[0, 1], [2, 3]]': 0.63203125, '[[0], [1]]': 0.626171875}}, {'accuracy': 0.9968, 'Layer1': {'[[0, 1, 2, 3, 4, 5, 6, 7], [8, 9, 10, 11, 12, 13, 14, 15]]': 0.9278125, '[[0, 1], [2, 3]]': 0.853828125, '[[0], [1]]': 0.633515625}, 'Layer2': {'[[0, 1, 2, 3, 4, 5, 6, 7], [8, 9, 10, 11, 12, 13, 14, 15]]': 0.734453125}}]\n",
      "Layer2 : [[0, 1], [2, 3]]\n",
      "restructuring\n"
     ]
    },
    {
     "name": "stderr",
     "output_type": "stream",
     "text": [
      "100%|█████████████████████████████████████████████| 1280000/1280000 [00:27<00:00, 45838.34it/s]\n"
     ]
    },
    {
     "name": "stdout",
     "output_type": "stream",
     "text": [
      "restructuring\n"
     ]
    },
    {
     "name": "stderr",
     "output_type": "stream",
     "text": [
      "100%|█████████████████████████████████████████████████| 12800/12800 [00:00<00:00, 32940.42it/s]\n"
     ]
    },
    {
     "name": "stdout",
     "output_type": "stream",
     "text": [
      "[SYST] Prepare Data\n"
     ]
    },
    {
     "name": "stderr",
     "output_type": "stream",
     "text": [
      "100%|█████████████████████████████████████████████| 1280000/1280000 [00:20<00:00, 63446.63it/s]\n"
     ]
    },
    {
     "name": "stdout",
     "output_type": "stream",
     "text": [
      "[SYST] Prepare Data\n"
     ]
    },
    {
     "name": "stderr",
     "output_type": "stream",
     "text": [
      "100%|█████████████████████████████████████████████████| 12800/12800 [00:00<00:00, 27792.08it/s]\n"
     ]
    },
    {
     "name": "stdout",
     "output_type": "stream",
     "text": [
      "[SYST] Epoch 0\n"
     ]
    },
    {
     "name": "stderr",
     "output_type": "stream",
     "text": [
      "100%|████████████████████████████████████████████████████████| 200/200 [00:13<00:00, 14.66it/s]\n"
     ]
    },
    {
     "name": "stdout",
     "output_type": "stream",
     "text": [
      "Epoch 1, Loss: 6.343462631702423\n",
      "[SYST] Epoch 1\n"
     ]
    },
    {
     "name": "stderr",
     "output_type": "stream",
     "text": [
      "100%|████████████████████████████████████████████████████████| 200/200 [00:13<00:00, 14.35it/s]\n"
     ]
    },
    {
     "name": "stdout",
     "output_type": "stream",
     "text": [
      "Epoch 2, Loss: 5.075106072425842\n",
      "[SYST] Epoch 2\n"
     ]
    },
    {
     "name": "stderr",
     "output_type": "stream",
     "text": [
      "100%|████████████████████████████████████████████████████████| 200/200 [00:13<00:00, 14.73it/s]\n"
     ]
    },
    {
     "name": "stdout",
     "output_type": "stream",
     "text": [
      "Epoch 3, Loss: 4.409189831018448\n",
      "[SYST] Epoch 3\n"
     ]
    },
    {
     "name": "stderr",
     "output_type": "stream",
     "text": [
      "100%|████████████████████████████████████████████████████████| 200/200 [00:13<00:00, 14.39it/s]\n"
     ]
    },
    {
     "name": "stdout",
     "output_type": "stream",
     "text": [
      "Epoch 4, Loss: 4.227816791534424\n",
      "[SYST] Epoch 4\n"
     ]
    },
    {
     "name": "stderr",
     "output_type": "stream",
     "text": [
      "100%|████████████████████████████████████████████████████████| 200/200 [00:13<00:00, 14.64it/s]\n"
     ]
    },
    {
     "name": "stdout",
     "output_type": "stream",
     "text": [
      "Epoch 5, Loss: 4.180743638277054\n",
      "[SYST] Epoch 5\n"
     ]
    },
    {
     "name": "stderr",
     "output_type": "stream",
     "text": [
      "100%|████████████████████████████████████████████████████████| 200/200 [00:13<00:00, 14.56it/s]\n"
     ]
    },
    {
     "name": "stdout",
     "output_type": "stream",
     "text": [
      "Epoch 6, Loss: 4.148730617761612\n",
      "[SYST] Epoch 6\n"
     ]
    },
    {
     "name": "stderr",
     "output_type": "stream",
     "text": [
      "100%|████████████████████████████████████████████████████████| 200/200 [00:13<00:00, 14.42it/s]\n"
     ]
    },
    {
     "name": "stdout",
     "output_type": "stream",
     "text": [
      "Epoch 7, Loss: 4.119430367946625\n",
      "[SYST] Epoch 7\n"
     ]
    },
    {
     "name": "stderr",
     "output_type": "stream",
     "text": [
      "100%|████████████████████████████████████████████████████████| 200/200 [00:13<00:00, 14.39it/s]\n"
     ]
    },
    {
     "name": "stdout",
     "output_type": "stream",
     "text": [
      "Epoch 8, Loss: 4.092947010993957\n",
      "[SYST] Epoch 8\n"
     ]
    },
    {
     "name": "stderr",
     "output_type": "stream",
     "text": [
      "100%|████████████████████████████████████████████████████████| 200/200 [00:13<00:00, 14.62it/s]\n"
     ]
    },
    {
     "name": "stdout",
     "output_type": "stream",
     "text": [
      "Epoch 9, Loss: 4.068333315849304\n",
      "[SYST] Epoch 9\n"
     ]
    },
    {
     "name": "stderr",
     "output_type": "stream",
     "text": [
      "100%|████████████████████████████████████████████████████████| 200/200 [00:13<00:00, 14.32it/s]\n"
     ]
    },
    {
     "name": "stdout",
     "output_type": "stream",
     "text": [
      "Epoch 10, Loss: 4.044765263795853\n",
      "[SYST] Epoch 0\n"
     ]
    },
    {
     "name": "stderr",
     "output_type": "stream",
     "text": [
      "100%|████████████████████████████████████████████████████████████| 2/2 [00:00<00:00, 15.63it/s]\n"
     ]
    },
    {
     "name": "stdout",
     "output_type": "stream",
     "text": [
      "Test Accuracy: 62.74%\n",
      "[{'accuracy': 0.9989, 'Layer1': {'[[0, 1, 2, 3, 4, 5, 6, 7], [8, 9, 10, 11, 12, 13, 14, 15]]': 0.960625, '[[0, 1], [2, 3]]': 0.8984375, '[[0], [1]]': 0.87734375}, 'Layer2': {'[[0, 1, 2, 3, 4, 5, 6, 7], [8, 9, 10, 11, 12, 13, 14, 15]]': 0.633046875, '[[0, 1], [2, 3]]': 0.767265625, '[[0], [1]]': 0.623515625}, 'Layer3': {'[[0, 1, 2, 3, 4, 5, 6, 7], [8, 9, 10, 11, 12, 13, 14, 15]]': 0.562578125, '[[0, 1], [2, 3]]': 0.631953125, '[[0], [1]]': 0.627265625}}, {'accuracy': 0.998, 'Layer1': {'[[0, 1, 2, 3, 4, 5, 6, 7], [8, 9, 10, 11, 12, 13, 14, 15]]': 0.885390625, '[[0, 1], [2, 3]]': 0.808515625, '[[0], [1]]': 0.806796875}, 'Layer2': {'[[0, 1, 2, 3, 4, 5, 6, 7], [8, 9, 10, 11, 12, 13, 14, 15]]': 0.558359375, '[[0, 1], [2, 3]]': 0.547109375, '[[0], [1]]': 0.475}, 'Layer3': {'[[0, 1, 2, 3, 4, 5, 6, 7], [8, 9, 10, 11, 12, 13, 14, 15]]': 0.61296875, '[[0, 1], [2, 3]]': 0.64421875, '[[0], [1]]': 0.6378125}}, {'accuracy': 0.9988, 'Layer1': {'[[0, 1, 2, 3, 4, 5, 6, 7], [8, 9, 10, 11, 12, 13, 14, 15]]': 0.945234375, '[[0, 1], [2, 3]]': 0.87828125, '[[0], [1]]': 0.847109375}, 'Layer2': {'[[0, 1, 2, 3, 4, 5, 6, 7], [8, 9, 10, 11, 12, 13, 14, 15]]': 0.91125, '[[0, 1], [2, 3]]': 0.86890625, '[[0], [1]]': 0.823984375}, 'Layer3': {'[[0, 1, 2, 3, 4, 5, 6, 7], [8, 9, 10, 11, 12, 13, 14, 15]]': 0.6046875, '[[0, 1], [2, 3]]': 0.63546875, '[[0], [1]]': 0.625390625}}, {'accuracy': 0.9989, 'Layer1': {'[[0, 1, 2, 3, 4, 5, 6, 7], [8, 9, 10, 11, 12, 13, 14, 15]]': 0.892734375, '[[0, 1], [2, 3]]': 0.8578125, '[[0], [1]]': 0.835078125}, 'Layer2': {'[[0, 1, 2, 3, 4, 5, 6, 7], [8, 9, 10, 11, 12, 13, 14, 15]]': 0.65078125, '[[0, 1], [2, 3]]': 0.619921875, '[[0], [1]]': 0.60828125}, 'Layer3': {'[[0, 1, 2, 3, 4, 5, 6, 7], [8, 9, 10, 11, 12, 13, 14, 15]]': 0.631171875, '[[0, 1], [2, 3]]': 0.664609375, '[[0], [1]]': 0.66453125}}, {'accuracy': 0.9974, 'Layer1': {'[[0, 1, 2, 3, 4, 5, 6, 7], [8, 9, 10, 11, 12, 13, 14, 15]]': 0.946875, '[[0, 1], [2, 3]]': 0.8821875, '[[0], [1]]': 0.55375}, 'Layer2': {'[[0, 1, 2, 3, 4, 5, 6, 7], [8, 9, 10, 11, 12, 13, 14, 15]]': 0.68890625, '[[0, 1], [2, 3]]': 0.561640625, '[[0], [1]]': 0.5209375}, 'Layer3': {'[[0, 1, 2, 3, 4, 5, 6, 7], [8, 9, 10, 11, 12, 13, 14, 15]]': 0.613984375, '[[0, 1], [2, 3]]': 0.62515625, '[[0], [1]]': 0.6325}}, {'accuracy': 0.9999, 'Layer1': {'[[0, 1, 2, 3, 4, 5, 6, 7], [8, 9, 10, 11, 12, 13, 14, 15]]': 0.95109375, '[[0, 1], [2, 3]]': 0.935625, '[[0], [1]]': 0.910859375}, 'Layer2': {'[[0, 1, 2, 3, 4, 5, 6, 7], [8, 9, 10, 11, 12, 13, 14, 15]]': 0.73109375, '[[0, 1], [2, 3]]': 0.693359375, '[[0], [1]]': 0.523046875}, 'Layer3': {'[[0, 1, 2, 3, 4, 5, 6, 7], [8, 9, 10, 11, 12, 13, 14, 15]]': 0.623125, '[[0, 1], [2, 3]]': 0.668125, '[[0], [1]]': 0.6696875}}, {'accuracy': 0.999, 'Layer1': {'[[0, 1, 2, 3, 4, 5, 6, 7], [8, 9, 10, 11, 12, 13, 14, 15]]': 0.941171875, '[[0, 1], [2, 3]]': 0.903984375, '[[0], [1]]': 0.87953125}, 'Layer2': {'[[0, 1, 2, 3, 4, 5, 6, 7], [8, 9, 10, 11, 12, 13, 14, 15]]': 0.68984375, '[[0, 1], [2, 3]]': 0.686484375, '[[0], [1]]': 0.62828125}, 'Layer3': {'[[0, 1, 2, 3, 4, 5, 6, 7], [8, 9, 10, 11, 12, 13, 14, 15]]': 0.595078125, '[[0, 1], [2, 3]]': 0.63203125, '[[0], [1]]': 0.626171875}}, {'accuracy': 0.9968, 'Layer1': {'[[0, 1, 2, 3, 4, 5, 6, 7], [8, 9, 10, 11, 12, 13, 14, 15]]': 0.9278125, '[[0, 1], [2, 3]]': 0.853828125, '[[0], [1]]': 0.633515625}, 'Layer2': {'[[0, 1, 2, 3, 4, 5, 6, 7], [8, 9, 10, 11, 12, 13, 14, 15]]': 0.734453125, '[[0, 1], [2, 3]]': 0.627421875}}]\n",
      "Layer2 : [[0], [1]]\n",
      "restructuring\n"
     ]
    },
    {
     "name": "stderr",
     "output_type": "stream",
     "text": [
      "100%|█████████████████████████████████████████████| 1280000/1280000 [00:26<00:00, 47579.22it/s]\n"
     ]
    },
    {
     "name": "stdout",
     "output_type": "stream",
     "text": [
      "restructuring\n"
     ]
    },
    {
     "name": "stderr",
     "output_type": "stream",
     "text": [
      "100%|█████████████████████████████████████████████████| 12800/12800 [00:00<00:00, 33961.98it/s]\n"
     ]
    },
    {
     "name": "stdout",
     "output_type": "stream",
     "text": [
      "[SYST] Prepare Data\n"
     ]
    },
    {
     "name": "stderr",
     "output_type": "stream",
     "text": [
      "100%|█████████████████████████████████████████████| 1280000/1280000 [00:13<00:00, 96557.34it/s]\n"
     ]
    },
    {
     "name": "stdout",
     "output_type": "stream",
     "text": [
      "[SYST] Prepare Data\n"
     ]
    },
    {
     "name": "stderr",
     "output_type": "stream",
     "text": [
      "100%|█████████████████████████████████████████████████| 12800/12800 [00:00<00:00, 18965.26it/s]\n"
     ]
    },
    {
     "name": "stdout",
     "output_type": "stream",
     "text": [
      "[SYST] Epoch 0\n"
     ]
    },
    {
     "name": "stderr",
     "output_type": "stream",
     "text": [
      "100%|████████████████████████████████████████████████████████| 200/200 [00:14<00:00, 13.44it/s]\n"
     ]
    },
    {
     "name": "stdout",
     "output_type": "stream",
     "text": [
      "Epoch 1, Loss: 5.854203581809998\n",
      "[SYST] Epoch 1\n"
     ]
    },
    {
     "name": "stderr",
     "output_type": "stream",
     "text": [
      "100%|████████████████████████████████████████████████████████| 200/200 [00:15<00:00, 13.30it/s]\n"
     ]
    },
    {
     "name": "stdout",
     "output_type": "stream",
     "text": [
      "Epoch 2, Loss: 4.919173617362976\n",
      "[SYST] Epoch 2\n"
     ]
    },
    {
     "name": "stderr",
     "output_type": "stream",
     "text": [
      "100%|████████████████████████████████████████████████████████| 200/200 [00:13<00:00, 14.58it/s]\n"
     ]
    },
    {
     "name": "stdout",
     "output_type": "stream",
     "text": [
      "Epoch 3, Loss: 4.332908269166946\n",
      "[SYST] Epoch 3\n"
     ]
    },
    {
     "name": "stderr",
     "output_type": "stream",
     "text": [
      "100%|████████████████████████████████████████████████████████| 200/200 [00:13<00:00, 14.91it/s]\n"
     ]
    },
    {
     "name": "stdout",
     "output_type": "stream",
     "text": [
      "Epoch 4, Loss: 4.114103291034699\n",
      "[SYST] Epoch 4\n"
     ]
    },
    {
     "name": "stderr",
     "output_type": "stream",
     "text": [
      "100%|████████████████████████████████████████████████████████| 200/200 [00:13<00:00, 14.68it/s]\n"
     ]
    },
    {
     "name": "stdout",
     "output_type": "stream",
     "text": [
      "Epoch 5, Loss: 4.047385710477829\n",
      "[SYST] Epoch 5\n"
     ]
    },
    {
     "name": "stderr",
     "output_type": "stream",
     "text": [
      "100%|████████████████████████████████████████████████████████| 200/200 [00:13<00:00, 14.88it/s]\n"
     ]
    },
    {
     "name": "stdout",
     "output_type": "stream",
     "text": [
      "Epoch 6, Loss: 4.00480947971344\n",
      "[SYST] Epoch 6\n"
     ]
    },
    {
     "name": "stderr",
     "output_type": "stream",
     "text": [
      "100%|████████████████████████████████████████████████████████| 200/200 [00:13<00:00, 14.91it/s]\n"
     ]
    },
    {
     "name": "stdout",
     "output_type": "stream",
     "text": [
      "Epoch 7, Loss: 4.001468849182129\n",
      "[SYST] Epoch 7\n"
     ]
    },
    {
     "name": "stderr",
     "output_type": "stream",
     "text": [
      "100%|████████████████████████████████████████████████████████| 200/200 [00:13<00:00, 14.72it/s]\n"
     ]
    },
    {
     "name": "stdout",
     "output_type": "stream",
     "text": [
      "Epoch 8, Loss: 4.001130664348603\n",
      "[SYST] Epoch 8\n"
     ]
    },
    {
     "name": "stderr",
     "output_type": "stream",
     "text": [
      "100%|████████████████████████████████████████████████████████| 200/200 [00:13<00:00, 14.83it/s]\n"
     ]
    },
    {
     "name": "stdout",
     "output_type": "stream",
     "text": [
      "Epoch 9, Loss: 4.001660816669464\n",
      "[SYST] Epoch 9\n"
     ]
    },
    {
     "name": "stderr",
     "output_type": "stream",
     "text": [
      "100%|████████████████████████████████████████████████████████| 200/200 [00:13<00:00, 14.88it/s]\n"
     ]
    },
    {
     "name": "stdout",
     "output_type": "stream",
     "text": [
      "Epoch 10, Loss: 4.001156843900681\n",
      "[SYST] Epoch 0\n"
     ]
    },
    {
     "name": "stderr",
     "output_type": "stream",
     "text": [
      "100%|████████████████████████████████████████████████████████████| 2/2 [00:00<00:00, 16.33it/s]\n"
     ]
    },
    {
     "name": "stdout",
     "output_type": "stream",
     "text": [
      "Test Accuracy: 67.30%\n",
      "[{'accuracy': 0.9989, 'Layer1': {'[[0, 1, 2, 3, 4, 5, 6, 7], [8, 9, 10, 11, 12, 13, 14, 15]]': 0.960625, '[[0, 1], [2, 3]]': 0.8984375, '[[0], [1]]': 0.87734375}, 'Layer2': {'[[0, 1, 2, 3, 4, 5, 6, 7], [8, 9, 10, 11, 12, 13, 14, 15]]': 0.633046875, '[[0, 1], [2, 3]]': 0.767265625, '[[0], [1]]': 0.623515625}, 'Layer3': {'[[0, 1, 2, 3, 4, 5, 6, 7], [8, 9, 10, 11, 12, 13, 14, 15]]': 0.562578125, '[[0, 1], [2, 3]]': 0.631953125, '[[0], [1]]': 0.627265625}}, {'accuracy': 0.998, 'Layer1': {'[[0, 1, 2, 3, 4, 5, 6, 7], [8, 9, 10, 11, 12, 13, 14, 15]]': 0.885390625, '[[0, 1], [2, 3]]': 0.808515625, '[[0], [1]]': 0.806796875}, 'Layer2': {'[[0, 1, 2, 3, 4, 5, 6, 7], [8, 9, 10, 11, 12, 13, 14, 15]]': 0.558359375, '[[0, 1], [2, 3]]': 0.547109375, '[[0], [1]]': 0.475}, 'Layer3': {'[[0, 1, 2, 3, 4, 5, 6, 7], [8, 9, 10, 11, 12, 13, 14, 15]]': 0.61296875, '[[0, 1], [2, 3]]': 0.64421875, '[[0], [1]]': 0.6378125}}, {'accuracy': 0.9988, 'Layer1': {'[[0, 1, 2, 3, 4, 5, 6, 7], [8, 9, 10, 11, 12, 13, 14, 15]]': 0.945234375, '[[0, 1], [2, 3]]': 0.87828125, '[[0], [1]]': 0.847109375}, 'Layer2': {'[[0, 1, 2, 3, 4, 5, 6, 7], [8, 9, 10, 11, 12, 13, 14, 15]]': 0.91125, '[[0, 1], [2, 3]]': 0.86890625, '[[0], [1]]': 0.823984375}, 'Layer3': {'[[0, 1, 2, 3, 4, 5, 6, 7], [8, 9, 10, 11, 12, 13, 14, 15]]': 0.6046875, '[[0, 1], [2, 3]]': 0.63546875, '[[0], [1]]': 0.625390625}}, {'accuracy': 0.9989, 'Layer1': {'[[0, 1, 2, 3, 4, 5, 6, 7], [8, 9, 10, 11, 12, 13, 14, 15]]': 0.892734375, '[[0, 1], [2, 3]]': 0.8578125, '[[0], [1]]': 0.835078125}, 'Layer2': {'[[0, 1, 2, 3, 4, 5, 6, 7], [8, 9, 10, 11, 12, 13, 14, 15]]': 0.65078125, '[[0, 1], [2, 3]]': 0.619921875, '[[0], [1]]': 0.60828125}, 'Layer3': {'[[0, 1, 2, 3, 4, 5, 6, 7], [8, 9, 10, 11, 12, 13, 14, 15]]': 0.631171875, '[[0, 1], [2, 3]]': 0.664609375, '[[0], [1]]': 0.66453125}}, {'accuracy': 0.9974, 'Layer1': {'[[0, 1, 2, 3, 4, 5, 6, 7], [8, 9, 10, 11, 12, 13, 14, 15]]': 0.946875, '[[0, 1], [2, 3]]': 0.8821875, '[[0], [1]]': 0.55375}, 'Layer2': {'[[0, 1, 2, 3, 4, 5, 6, 7], [8, 9, 10, 11, 12, 13, 14, 15]]': 0.68890625, '[[0, 1], [2, 3]]': 0.561640625, '[[0], [1]]': 0.5209375}, 'Layer3': {'[[0, 1, 2, 3, 4, 5, 6, 7], [8, 9, 10, 11, 12, 13, 14, 15]]': 0.613984375, '[[0, 1], [2, 3]]': 0.62515625, '[[0], [1]]': 0.6325}}, {'accuracy': 0.9999, 'Layer1': {'[[0, 1, 2, 3, 4, 5, 6, 7], [8, 9, 10, 11, 12, 13, 14, 15]]': 0.95109375, '[[0, 1], [2, 3]]': 0.935625, '[[0], [1]]': 0.910859375}, 'Layer2': {'[[0, 1, 2, 3, 4, 5, 6, 7], [8, 9, 10, 11, 12, 13, 14, 15]]': 0.73109375, '[[0, 1], [2, 3]]': 0.693359375, '[[0], [1]]': 0.523046875}, 'Layer3': {'[[0, 1, 2, 3, 4, 5, 6, 7], [8, 9, 10, 11, 12, 13, 14, 15]]': 0.623125, '[[0, 1], [2, 3]]': 0.668125, '[[0], [1]]': 0.6696875}}, {'accuracy': 0.999, 'Layer1': {'[[0, 1, 2, 3, 4, 5, 6, 7], [8, 9, 10, 11, 12, 13, 14, 15]]': 0.941171875, '[[0, 1], [2, 3]]': 0.903984375, '[[0], [1]]': 0.87953125}, 'Layer2': {'[[0, 1, 2, 3, 4, 5, 6, 7], [8, 9, 10, 11, 12, 13, 14, 15]]': 0.68984375, '[[0, 1], [2, 3]]': 0.686484375, '[[0], [1]]': 0.62828125}, 'Layer3': {'[[0, 1, 2, 3, 4, 5, 6, 7], [8, 9, 10, 11, 12, 13, 14, 15]]': 0.595078125, '[[0, 1], [2, 3]]': 0.63203125, '[[0], [1]]': 0.626171875}}, {'accuracy': 0.9968, 'Layer1': {'[[0, 1, 2, 3, 4, 5, 6, 7], [8, 9, 10, 11, 12, 13, 14, 15]]': 0.9278125, '[[0, 1], [2, 3]]': 0.853828125, '[[0], [1]]': 0.633515625}, 'Layer2': {'[[0, 1, 2, 3, 4, 5, 6, 7], [8, 9, 10, 11, 12, 13, 14, 15]]': 0.734453125, '[[0, 1], [2, 3]]': 0.627421875, '[[0], [1]]': 0.673046875}}]\n",
      "Layer3 : [[0, 1, 2, 3, 4, 5, 6, 7], [8, 9, 10, 11, 12, 13, 14, 15]]\n",
      "restructuring\n"
     ]
    },
    {
     "name": "stderr",
     "output_type": "stream",
     "text": [
      "100%|█████████████████████████████████████████████| 1280000/1280000 [00:26<00:00, 47772.46it/s]\n"
     ]
    },
    {
     "name": "stdout",
     "output_type": "stream",
     "text": [
      "restructuring\n"
     ]
    },
    {
     "name": "stderr",
     "output_type": "stream",
     "text": [
      "100%|█████████████████████████████████████████████████| 12800/12800 [00:00<00:00, 34149.64it/s]\n"
     ]
    },
    {
     "name": "stdout",
     "output_type": "stream",
     "text": [
      "[SYST] Prepare Data\n"
     ]
    },
    {
     "name": "stderr",
     "output_type": "stream",
     "text": [
      "100%|█████████████████████████████████████████████| 1280000/1280000 [00:20<00:00, 61845.59it/s]\n"
     ]
    },
    {
     "name": "stdout",
     "output_type": "stream",
     "text": [
      "[SYST] Prepare Data\n"
     ]
    },
    {
     "name": "stderr",
     "output_type": "stream",
     "text": [
      "100%|█████████████████████████████████████████████████| 12800/12800 [00:00<00:00, 18608.57it/s]\n"
     ]
    },
    {
     "name": "stdout",
     "output_type": "stream",
     "text": [
      "[SYST] Epoch 0\n"
     ]
    },
    {
     "name": "stderr",
     "output_type": "stream",
     "text": [
      "100%|████████████████████████████████████████████████████████| 200/200 [00:13<00:00, 14.76it/s]\n"
     ]
    },
    {
     "name": "stdout",
     "output_type": "stream",
     "text": [
      "Epoch 1, Loss: 5.336633315086365\n",
      "[SYST] Epoch 1\n"
     ]
    },
    {
     "name": "stderr",
     "output_type": "stream",
     "text": [
      "100%|████████████████████████████████████████████████████████| 200/200 [00:13<00:00, 14.32it/s]\n"
     ]
    },
    {
     "name": "stdout",
     "output_type": "stream",
     "text": [
      "Epoch 2, Loss: 5.029579589366913\n",
      "[SYST] Epoch 2\n"
     ]
    },
    {
     "name": "stderr",
     "output_type": "stream",
     "text": [
      "100%|████████████████████████████████████████████████████████| 200/200 [00:13<00:00, 14.41it/s]\n"
     ]
    },
    {
     "name": "stdout",
     "output_type": "stream",
     "text": [
      "Epoch 3, Loss: 5.025690817832947\n",
      "[SYST] Epoch 3\n"
     ]
    },
    {
     "name": "stderr",
     "output_type": "stream",
     "text": [
      "100%|████████████████████████████████████████████████████████| 200/200 [00:13<00:00, 14.70it/s]\n"
     ]
    },
    {
     "name": "stdout",
     "output_type": "stream",
     "text": [
      "Epoch 4, Loss: 5.024405403137207\n",
      "[SYST] Epoch 4\n"
     ]
    },
    {
     "name": "stderr",
     "output_type": "stream",
     "text": [
      "100%|████████████████████████████████████████████████████████| 200/200 [00:13<00:00, 14.84it/s]\n"
     ]
    },
    {
     "name": "stdout",
     "output_type": "stream",
     "text": [
      "Epoch 5, Loss: 5.023756284713745\n",
      "[SYST] Epoch 5\n"
     ]
    },
    {
     "name": "stderr",
     "output_type": "stream",
     "text": [
      "100%|████████████████████████████████████████████████████████| 200/200 [00:14<00:00, 13.67it/s]\n"
     ]
    },
    {
     "name": "stdout",
     "output_type": "stream",
     "text": [
      "Epoch 6, Loss: 5.023209640979767\n",
      "[SYST] Epoch 6\n"
     ]
    },
    {
     "name": "stderr",
     "output_type": "stream",
     "text": [
      "100%|████████████████████████████████████████████████████████| 200/200 [00:13<00:00, 14.82it/s]\n"
     ]
    },
    {
     "name": "stdout",
     "output_type": "stream",
     "text": [
      "Epoch 7, Loss: 5.022439732551574\n",
      "[SYST] Epoch 7\n"
     ]
    },
    {
     "name": "stderr",
     "output_type": "stream",
     "text": [
      "100%|████████████████████████████████████████████████████████| 200/200 [00:15<00:00, 13.24it/s]\n"
     ]
    },
    {
     "name": "stdout",
     "output_type": "stream",
     "text": [
      "Epoch 8, Loss: 5.021967904567719\n",
      "[SYST] Epoch 8\n"
     ]
    },
    {
     "name": "stderr",
     "output_type": "stream",
     "text": [
      "100%|████████████████████████████████████████████████████████| 200/200 [00:15<00:00, 13.27it/s]\n"
     ]
    },
    {
     "name": "stdout",
     "output_type": "stream",
     "text": [
      "Epoch 9, Loss: 5.021444425582886\n",
      "[SYST] Epoch 9\n"
     ]
    },
    {
     "name": "stderr",
     "output_type": "stream",
     "text": [
      "100%|████████████████████████████████████████████████████████| 200/200 [00:15<00:00, 13.25it/s]\n"
     ]
    },
    {
     "name": "stdout",
     "output_type": "stream",
     "text": [
      "Epoch 10, Loss: 5.021072852611542\n",
      "[SYST] Epoch 0\n"
     ]
    },
    {
     "name": "stderr",
     "output_type": "stream",
     "text": [
      "100%|████████████████████████████████████████████████████████████| 2/2 [00:00<00:00, 14.36it/s]\n"
     ]
    },
    {
     "name": "stdout",
     "output_type": "stream",
     "text": [
      "Test Accuracy: 56.92%\n",
      "[{'accuracy': 0.9989, 'Layer1': {'[[0, 1, 2, 3, 4, 5, 6, 7], [8, 9, 10, 11, 12, 13, 14, 15]]': 0.960625, '[[0, 1], [2, 3]]': 0.8984375, '[[0], [1]]': 0.87734375}, 'Layer2': {'[[0, 1, 2, 3, 4, 5, 6, 7], [8, 9, 10, 11, 12, 13, 14, 15]]': 0.633046875, '[[0, 1], [2, 3]]': 0.767265625, '[[0], [1]]': 0.623515625}, 'Layer3': {'[[0, 1, 2, 3, 4, 5, 6, 7], [8, 9, 10, 11, 12, 13, 14, 15]]': 0.562578125, '[[0, 1], [2, 3]]': 0.631953125, '[[0], [1]]': 0.627265625}}, {'accuracy': 0.998, 'Layer1': {'[[0, 1, 2, 3, 4, 5, 6, 7], [8, 9, 10, 11, 12, 13, 14, 15]]': 0.885390625, '[[0, 1], [2, 3]]': 0.808515625, '[[0], [1]]': 0.806796875}, 'Layer2': {'[[0, 1, 2, 3, 4, 5, 6, 7], [8, 9, 10, 11, 12, 13, 14, 15]]': 0.558359375, '[[0, 1], [2, 3]]': 0.547109375, '[[0], [1]]': 0.475}, 'Layer3': {'[[0, 1, 2, 3, 4, 5, 6, 7], [8, 9, 10, 11, 12, 13, 14, 15]]': 0.61296875, '[[0, 1], [2, 3]]': 0.64421875, '[[0], [1]]': 0.6378125}}, {'accuracy': 0.9988, 'Layer1': {'[[0, 1, 2, 3, 4, 5, 6, 7], [8, 9, 10, 11, 12, 13, 14, 15]]': 0.945234375, '[[0, 1], [2, 3]]': 0.87828125, '[[0], [1]]': 0.847109375}, 'Layer2': {'[[0, 1, 2, 3, 4, 5, 6, 7], [8, 9, 10, 11, 12, 13, 14, 15]]': 0.91125, '[[0, 1], [2, 3]]': 0.86890625, '[[0], [1]]': 0.823984375}, 'Layer3': {'[[0, 1, 2, 3, 4, 5, 6, 7], [8, 9, 10, 11, 12, 13, 14, 15]]': 0.6046875, '[[0, 1], [2, 3]]': 0.63546875, '[[0], [1]]': 0.625390625}}, {'accuracy': 0.9989, 'Layer1': {'[[0, 1, 2, 3, 4, 5, 6, 7], [8, 9, 10, 11, 12, 13, 14, 15]]': 0.892734375, '[[0, 1], [2, 3]]': 0.8578125, '[[0], [1]]': 0.835078125}, 'Layer2': {'[[0, 1, 2, 3, 4, 5, 6, 7], [8, 9, 10, 11, 12, 13, 14, 15]]': 0.65078125, '[[0, 1], [2, 3]]': 0.619921875, '[[0], [1]]': 0.60828125}, 'Layer3': {'[[0, 1, 2, 3, 4, 5, 6, 7], [8, 9, 10, 11, 12, 13, 14, 15]]': 0.631171875, '[[0, 1], [2, 3]]': 0.664609375, '[[0], [1]]': 0.66453125}}, {'accuracy': 0.9974, 'Layer1': {'[[0, 1, 2, 3, 4, 5, 6, 7], [8, 9, 10, 11, 12, 13, 14, 15]]': 0.946875, '[[0, 1], [2, 3]]': 0.8821875, '[[0], [1]]': 0.55375}, 'Layer2': {'[[0, 1, 2, 3, 4, 5, 6, 7], [8, 9, 10, 11, 12, 13, 14, 15]]': 0.68890625, '[[0, 1], [2, 3]]': 0.561640625, '[[0], [1]]': 0.5209375}, 'Layer3': {'[[0, 1, 2, 3, 4, 5, 6, 7], [8, 9, 10, 11, 12, 13, 14, 15]]': 0.613984375, '[[0, 1], [2, 3]]': 0.62515625, '[[0], [1]]': 0.6325}}, {'accuracy': 0.9999, 'Layer1': {'[[0, 1, 2, 3, 4, 5, 6, 7], [8, 9, 10, 11, 12, 13, 14, 15]]': 0.95109375, '[[0, 1], [2, 3]]': 0.935625, '[[0], [1]]': 0.910859375}, 'Layer2': {'[[0, 1, 2, 3, 4, 5, 6, 7], [8, 9, 10, 11, 12, 13, 14, 15]]': 0.73109375, '[[0, 1], [2, 3]]': 0.693359375, '[[0], [1]]': 0.523046875}, 'Layer3': {'[[0, 1, 2, 3, 4, 5, 6, 7], [8, 9, 10, 11, 12, 13, 14, 15]]': 0.623125, '[[0, 1], [2, 3]]': 0.668125, '[[0], [1]]': 0.6696875}}, {'accuracy': 0.999, 'Layer1': {'[[0, 1, 2, 3, 4, 5, 6, 7], [8, 9, 10, 11, 12, 13, 14, 15]]': 0.941171875, '[[0, 1], [2, 3]]': 0.903984375, '[[0], [1]]': 0.87953125}, 'Layer2': {'[[0, 1, 2, 3, 4, 5, 6, 7], [8, 9, 10, 11, 12, 13, 14, 15]]': 0.68984375, '[[0, 1], [2, 3]]': 0.686484375, '[[0], [1]]': 0.62828125}, 'Layer3': {'[[0, 1, 2, 3, 4, 5, 6, 7], [8, 9, 10, 11, 12, 13, 14, 15]]': 0.595078125, '[[0, 1], [2, 3]]': 0.63203125, '[[0], [1]]': 0.626171875}}, {'accuracy': 0.9968, 'Layer1': {'[[0, 1, 2, 3, 4, 5, 6, 7], [8, 9, 10, 11, 12, 13, 14, 15]]': 0.9278125, '[[0, 1], [2, 3]]': 0.853828125, '[[0], [1]]': 0.633515625}, 'Layer2': {'[[0, 1, 2, 3, 4, 5, 6, 7], [8, 9, 10, 11, 12, 13, 14, 15]]': 0.734453125, '[[0, 1], [2, 3]]': 0.627421875, '[[0], [1]]': 0.673046875}, 'Layer3': {'[[0, 1, 2, 3, 4, 5, 6, 7], [8, 9, 10, 11, 12, 13, 14, 15]]': 0.56921875}}]\n",
      "Layer3 : [[0, 1], [2, 3]]\n",
      "restructuring\n"
     ]
    },
    {
     "name": "stderr",
     "output_type": "stream",
     "text": [
      "100%|█████████████████████████████████████████████| 1280000/1280000 [00:26<00:00, 47684.21it/s]\n"
     ]
    },
    {
     "name": "stdout",
     "output_type": "stream",
     "text": [
      "restructuring\n"
     ]
    },
    {
     "name": "stderr",
     "output_type": "stream",
     "text": [
      "100%|█████████████████████████████████████████████████| 12800/12800 [00:00<00:00, 34318.51it/s]\n"
     ]
    },
    {
     "name": "stdout",
     "output_type": "stream",
     "text": [
      "[SYST] Prepare Data\n"
     ]
    },
    {
     "name": "stderr",
     "output_type": "stream",
     "text": [
      "100%|█████████████████████████████████████████████| 1280000/1280000 [00:20<00:00, 63287.04it/s]\n"
     ]
    },
    {
     "name": "stdout",
     "output_type": "stream",
     "text": [
      "[SYST] Prepare Data\n"
     ]
    },
    {
     "name": "stderr",
     "output_type": "stream",
     "text": [
      "100%|█████████████████████████████████████████████████| 12800/12800 [00:00<00:00, 19116.81it/s]\n"
     ]
    },
    {
     "name": "stdout",
     "output_type": "stream",
     "text": [
      "[SYST] Epoch 0\n"
     ]
    },
    {
     "name": "stderr",
     "output_type": "stream",
     "text": [
      "100%|████████████████████████████████████████████████████████| 200/200 [00:13<00:00, 14.67it/s]\n"
     ]
    },
    {
     "name": "stdout",
     "output_type": "stream",
     "text": [
      "Epoch 1, Loss: 5.1720750975608825\n",
      "[SYST] Epoch 1\n"
     ]
    },
    {
     "name": "stderr",
     "output_type": "stream",
     "text": [
      "100%|████████████████████████████████████████████████████████| 200/200 [00:13<00:00, 14.69it/s]\n"
     ]
    },
    {
     "name": "stdout",
     "output_type": "stream",
     "text": [
      "Epoch 2, Loss: 4.907039875984192\n",
      "[SYST] Epoch 2\n"
     ]
    },
    {
     "name": "stderr",
     "output_type": "stream",
     "text": [
      "100%|████████████████████████████████████████████████████████| 200/200 [00:13<00:00, 14.89it/s]\n"
     ]
    },
    {
     "name": "stdout",
     "output_type": "stream",
     "text": [
      "Epoch 3, Loss: 4.877675805091858\n",
      "[SYST] Epoch 3\n"
     ]
    },
    {
     "name": "stderr",
     "output_type": "stream",
     "text": [
      "100%|████████████████████████████████████████████████████████| 200/200 [00:13<00:00, 15.05it/s]\n"
     ]
    },
    {
     "name": "stdout",
     "output_type": "stream",
     "text": [
      "Epoch 4, Loss: 4.870528588294983\n",
      "[SYST] Epoch 4\n"
     ]
    },
    {
     "name": "stderr",
     "output_type": "stream",
     "text": [
      "100%|████████████████████████████████████████████████████████| 200/200 [00:13<00:00, 14.95it/s]\n"
     ]
    },
    {
     "name": "stdout",
     "output_type": "stream",
     "text": [
      "Epoch 5, Loss: 4.868554034233093\n",
      "[SYST] Epoch 5\n"
     ]
    },
    {
     "name": "stderr",
     "output_type": "stream",
     "text": [
      "100%|████████████████████████████████████████████████████████| 200/200 [00:13<00:00, 14.98it/s]\n"
     ]
    },
    {
     "name": "stdout",
     "output_type": "stream",
     "text": [
      "Epoch 6, Loss: 4.867866189479828\n",
      "[SYST] Epoch 6\n"
     ]
    },
    {
     "name": "stderr",
     "output_type": "stream",
     "text": [
      "100%|████████████████████████████████████████████████████████| 200/200 [00:13<00:00, 14.93it/s]\n"
     ]
    },
    {
     "name": "stdout",
     "output_type": "stream",
     "text": [
      "Epoch 7, Loss: 4.867214434146881\n",
      "[SYST] Epoch 7\n"
     ]
    },
    {
     "name": "stderr",
     "output_type": "stream",
     "text": [
      "100%|████████████████████████████████████████████████████████| 200/200 [00:13<00:00, 14.87it/s]\n"
     ]
    },
    {
     "name": "stdout",
     "output_type": "stream",
     "text": [
      "Epoch 8, Loss: 4.866785042285919\n",
      "[SYST] Epoch 8\n"
     ]
    },
    {
     "name": "stderr",
     "output_type": "stream",
     "text": [
      "100%|████████████████████████████████████████████████████████| 200/200 [00:13<00:00, 14.41it/s]\n"
     ]
    },
    {
     "name": "stdout",
     "output_type": "stream",
     "text": [
      "Epoch 9, Loss: 4.866571025848389\n",
      "[SYST] Epoch 9\n"
     ]
    },
    {
     "name": "stderr",
     "output_type": "stream",
     "text": [
      "100%|████████████████████████████████████████████████████████| 200/200 [00:13<00:00, 14.93it/s]\n"
     ]
    },
    {
     "name": "stdout",
     "output_type": "stream",
     "text": [
      "Epoch 10, Loss: 4.866290190219879\n",
      "[SYST] Epoch 0\n"
     ]
    },
    {
     "name": "stderr",
     "output_type": "stream",
     "text": [
      "100%|████████████████████████████████████████████████████████████| 2/2 [00:00<00:00, 16.22it/s]\n"
     ]
    },
    {
     "name": "stdout",
     "output_type": "stream",
     "text": [
      "Test Accuracy: 61.67%\n",
      "[{'accuracy': 0.9989, 'Layer1': {'[[0, 1, 2, 3, 4, 5, 6, 7], [8, 9, 10, 11, 12, 13, 14, 15]]': 0.960625, '[[0, 1], [2, 3]]': 0.8984375, '[[0], [1]]': 0.87734375}, 'Layer2': {'[[0, 1, 2, 3, 4, 5, 6, 7], [8, 9, 10, 11, 12, 13, 14, 15]]': 0.633046875, '[[0, 1], [2, 3]]': 0.767265625, '[[0], [1]]': 0.623515625}, 'Layer3': {'[[0, 1, 2, 3, 4, 5, 6, 7], [8, 9, 10, 11, 12, 13, 14, 15]]': 0.562578125, '[[0, 1], [2, 3]]': 0.631953125, '[[0], [1]]': 0.627265625}}, {'accuracy': 0.998, 'Layer1': {'[[0, 1, 2, 3, 4, 5, 6, 7], [8, 9, 10, 11, 12, 13, 14, 15]]': 0.885390625, '[[0, 1], [2, 3]]': 0.808515625, '[[0], [1]]': 0.806796875}, 'Layer2': {'[[0, 1, 2, 3, 4, 5, 6, 7], [8, 9, 10, 11, 12, 13, 14, 15]]': 0.558359375, '[[0, 1], [2, 3]]': 0.547109375, '[[0], [1]]': 0.475}, 'Layer3': {'[[0, 1, 2, 3, 4, 5, 6, 7], [8, 9, 10, 11, 12, 13, 14, 15]]': 0.61296875, '[[0, 1], [2, 3]]': 0.64421875, '[[0], [1]]': 0.6378125}}, {'accuracy': 0.9988, 'Layer1': {'[[0, 1, 2, 3, 4, 5, 6, 7], [8, 9, 10, 11, 12, 13, 14, 15]]': 0.945234375, '[[0, 1], [2, 3]]': 0.87828125, '[[0], [1]]': 0.847109375}, 'Layer2': {'[[0, 1, 2, 3, 4, 5, 6, 7], [8, 9, 10, 11, 12, 13, 14, 15]]': 0.91125, '[[0, 1], [2, 3]]': 0.86890625, '[[0], [1]]': 0.823984375}, 'Layer3': {'[[0, 1, 2, 3, 4, 5, 6, 7], [8, 9, 10, 11, 12, 13, 14, 15]]': 0.6046875, '[[0, 1], [2, 3]]': 0.63546875, '[[0], [1]]': 0.625390625}}, {'accuracy': 0.9989, 'Layer1': {'[[0, 1, 2, 3, 4, 5, 6, 7], [8, 9, 10, 11, 12, 13, 14, 15]]': 0.892734375, '[[0, 1], [2, 3]]': 0.8578125, '[[0], [1]]': 0.835078125}, 'Layer2': {'[[0, 1, 2, 3, 4, 5, 6, 7], [8, 9, 10, 11, 12, 13, 14, 15]]': 0.65078125, '[[0, 1], [2, 3]]': 0.619921875, '[[0], [1]]': 0.60828125}, 'Layer3': {'[[0, 1, 2, 3, 4, 5, 6, 7], [8, 9, 10, 11, 12, 13, 14, 15]]': 0.631171875, '[[0, 1], [2, 3]]': 0.664609375, '[[0], [1]]': 0.66453125}}, {'accuracy': 0.9974, 'Layer1': {'[[0, 1, 2, 3, 4, 5, 6, 7], [8, 9, 10, 11, 12, 13, 14, 15]]': 0.946875, '[[0, 1], [2, 3]]': 0.8821875, '[[0], [1]]': 0.55375}, 'Layer2': {'[[0, 1, 2, 3, 4, 5, 6, 7], [8, 9, 10, 11, 12, 13, 14, 15]]': 0.68890625, '[[0, 1], [2, 3]]': 0.561640625, '[[0], [1]]': 0.5209375}, 'Layer3': {'[[0, 1, 2, 3, 4, 5, 6, 7], [8, 9, 10, 11, 12, 13, 14, 15]]': 0.613984375, '[[0, 1], [2, 3]]': 0.62515625, '[[0], [1]]': 0.6325}}, {'accuracy': 0.9999, 'Layer1': {'[[0, 1, 2, 3, 4, 5, 6, 7], [8, 9, 10, 11, 12, 13, 14, 15]]': 0.95109375, '[[0, 1], [2, 3]]': 0.935625, '[[0], [1]]': 0.910859375}, 'Layer2': {'[[0, 1, 2, 3, 4, 5, 6, 7], [8, 9, 10, 11, 12, 13, 14, 15]]': 0.73109375, '[[0, 1], [2, 3]]': 0.693359375, '[[0], [1]]': 0.523046875}, 'Layer3': {'[[0, 1, 2, 3, 4, 5, 6, 7], [8, 9, 10, 11, 12, 13, 14, 15]]': 0.623125, '[[0, 1], [2, 3]]': 0.668125, '[[0], [1]]': 0.6696875}}, {'accuracy': 0.999, 'Layer1': {'[[0, 1, 2, 3, 4, 5, 6, 7], [8, 9, 10, 11, 12, 13, 14, 15]]': 0.941171875, '[[0, 1], [2, 3]]': 0.903984375, '[[0], [1]]': 0.87953125}, 'Layer2': {'[[0, 1, 2, 3, 4, 5, 6, 7], [8, 9, 10, 11, 12, 13, 14, 15]]': 0.68984375, '[[0, 1], [2, 3]]': 0.686484375, '[[0], [1]]': 0.62828125}, 'Layer3': {'[[0, 1, 2, 3, 4, 5, 6, 7], [8, 9, 10, 11, 12, 13, 14, 15]]': 0.595078125, '[[0, 1], [2, 3]]': 0.63203125, '[[0], [1]]': 0.626171875}}, {'accuracy': 0.9968, 'Layer1': {'[[0, 1, 2, 3, 4, 5, 6, 7], [8, 9, 10, 11, 12, 13, 14, 15]]': 0.9278125, '[[0, 1], [2, 3]]': 0.853828125, '[[0], [1]]': 0.633515625}, 'Layer2': {'[[0, 1, 2, 3, 4, 5, 6, 7], [8, 9, 10, 11, 12, 13, 14, 15]]': 0.734453125, '[[0, 1], [2, 3]]': 0.627421875, '[[0], [1]]': 0.673046875}, 'Layer3': {'[[0, 1, 2, 3, 4, 5, 6, 7], [8, 9, 10, 11, 12, 13, 14, 15]]': 0.56921875, '[[0, 1], [2, 3]]': 0.61671875}}]\n",
      "Layer3 : [[0], [1]]\n",
      "restructuring\n"
     ]
    },
    {
     "name": "stderr",
     "output_type": "stream",
     "text": [
      "100%|█████████████████████████████████████████████| 1280000/1280000 [00:28<00:00, 45706.64it/s]\n"
     ]
    },
    {
     "name": "stdout",
     "output_type": "stream",
     "text": [
      "restructuring\n"
     ]
    },
    {
     "name": "stderr",
     "output_type": "stream",
     "text": [
      "100%|█████████████████████████████████████████████████| 12800/12800 [00:00<00:00, 34021.68it/s]\n"
     ]
    },
    {
     "name": "stdout",
     "output_type": "stream",
     "text": [
      "[SYST] Prepare Data\n"
     ]
    },
    {
     "name": "stderr",
     "output_type": "stream",
     "text": [
      "100%|█████████████████████████████████████████████| 1280000/1280000 [00:20<00:00, 63849.53it/s]\n"
     ]
    },
    {
     "name": "stdout",
     "output_type": "stream",
     "text": [
      "[SYST] Prepare Data\n"
     ]
    },
    {
     "name": "stderr",
     "output_type": "stream",
     "text": [
      "100%|█████████████████████████████████████████████████| 12800/12800 [00:00<00:00, 24411.47it/s]\n"
     ]
    },
    {
     "name": "stdout",
     "output_type": "stream",
     "text": [
      "[SYST] Epoch 0\n"
     ]
    },
    {
     "name": "stderr",
     "output_type": "stream",
     "text": [
      "100%|████████████████████████████████████████████████████████| 200/200 [00:13<00:00, 14.56it/s]\n"
     ]
    },
    {
     "name": "stdout",
     "output_type": "stream",
     "text": [
      "Epoch 1, Loss: 5.528446841239929\n",
      "[SYST] Epoch 1\n"
     ]
    },
    {
     "name": "stderr",
     "output_type": "stream",
     "text": [
      "100%|████████████████████████████████████████████████████████| 200/200 [00:13<00:00, 15.02it/s]\n"
     ]
    },
    {
     "name": "stdout",
     "output_type": "stream",
     "text": [
      "Epoch 2, Loss: 4.900845346450805\n",
      "[SYST] Epoch 2\n"
     ]
    },
    {
     "name": "stderr",
     "output_type": "stream",
     "text": [
      "100%|████████████████████████████████████████████████████████| 200/200 [00:13<00:00, 14.55it/s]\n"
     ]
    },
    {
     "name": "stdout",
     "output_type": "stream",
     "text": [
      "Epoch 3, Loss: 4.886379585266114\n",
      "[SYST] Epoch 3\n"
     ]
    },
    {
     "name": "stderr",
     "output_type": "stream",
     "text": [
      "100%|████████████████████████████████████████████████████████| 200/200 [00:13<00:00, 14.56it/s]\n"
     ]
    },
    {
     "name": "stdout",
     "output_type": "stream",
     "text": [
      "Epoch 4, Loss: 4.881956298351287\n",
      "[SYST] Epoch 4\n"
     ]
    },
    {
     "name": "stderr",
     "output_type": "stream",
     "text": [
      "100%|████████████████████████████████████████████████████████| 200/200 [00:13<00:00, 14.65it/s]\n"
     ]
    },
    {
     "name": "stdout",
     "output_type": "stream",
     "text": [
      "Epoch 5, Loss: 4.87835058927536\n",
      "[SYST] Epoch 5\n"
     ]
    },
    {
     "name": "stderr",
     "output_type": "stream",
     "text": [
      "100%|████████████████████████████████████████████████████████| 200/200 [00:13<00:00, 14.68it/s]\n"
     ]
    },
    {
     "name": "stdout",
     "output_type": "stream",
     "text": [
      "Epoch 6, Loss: 4.875438702106476\n",
      "[SYST] Epoch 6\n"
     ]
    },
    {
     "name": "stderr",
     "output_type": "stream",
     "text": [
      "100%|████████████████████████████████████████████████████████| 200/200 [00:13<00:00, 14.67it/s]\n"
     ]
    },
    {
     "name": "stdout",
     "output_type": "stream",
     "text": [
      "Epoch 7, Loss: 4.872789325714112\n",
      "[SYST] Epoch 7\n"
     ]
    },
    {
     "name": "stderr",
     "output_type": "stream",
     "text": [
      "100%|████████████████████████████████████████████████████████| 200/200 [00:13<00:00, 14.53it/s]\n"
     ]
    },
    {
     "name": "stdout",
     "output_type": "stream",
     "text": [
      "Epoch 8, Loss: 4.870699009895325\n",
      "[SYST] Epoch 8\n"
     ]
    },
    {
     "name": "stderr",
     "output_type": "stream",
     "text": [
      "100%|████████████████████████████████████████████████████████| 200/200 [00:13<00:00, 14.57it/s]\n"
     ]
    },
    {
     "name": "stdout",
     "output_type": "stream",
     "text": [
      "Epoch 9, Loss: 4.869474527835846\n",
      "[SYST] Epoch 9\n"
     ]
    },
    {
     "name": "stderr",
     "output_type": "stream",
     "text": [
      "100%|████████████████████████████████████████████████████████| 200/200 [00:13<00:00, 14.79it/s]\n"
     ]
    },
    {
     "name": "stdout",
     "output_type": "stream",
     "text": [
      "Epoch 10, Loss: 4.867906537055969\n",
      "[SYST] Epoch 0\n"
     ]
    },
    {
     "name": "stderr",
     "output_type": "stream",
     "text": [
      "100%|████████████████████████████████████████████████████████████| 2/2 [00:00<00:00, 16.32it/s]\n"
     ]
    },
    {
     "name": "stdout",
     "output_type": "stream",
     "text": [
      "Test Accuracy: 62.27%\n",
      "[{'accuracy': 0.9989, 'Layer1': {'[[0, 1, 2, 3, 4, 5, 6, 7], [8, 9, 10, 11, 12, 13, 14, 15]]': 0.960625, '[[0, 1], [2, 3]]': 0.8984375, '[[0], [1]]': 0.87734375}, 'Layer2': {'[[0, 1, 2, 3, 4, 5, 6, 7], [8, 9, 10, 11, 12, 13, 14, 15]]': 0.633046875, '[[0, 1], [2, 3]]': 0.767265625, '[[0], [1]]': 0.623515625}, 'Layer3': {'[[0, 1, 2, 3, 4, 5, 6, 7], [8, 9, 10, 11, 12, 13, 14, 15]]': 0.562578125, '[[0, 1], [2, 3]]': 0.631953125, '[[0], [1]]': 0.627265625}}, {'accuracy': 0.998, 'Layer1': {'[[0, 1, 2, 3, 4, 5, 6, 7], [8, 9, 10, 11, 12, 13, 14, 15]]': 0.885390625, '[[0, 1], [2, 3]]': 0.808515625, '[[0], [1]]': 0.806796875}, 'Layer2': {'[[0, 1, 2, 3, 4, 5, 6, 7], [8, 9, 10, 11, 12, 13, 14, 15]]': 0.558359375, '[[0, 1], [2, 3]]': 0.547109375, '[[0], [1]]': 0.475}, 'Layer3': {'[[0, 1, 2, 3, 4, 5, 6, 7], [8, 9, 10, 11, 12, 13, 14, 15]]': 0.61296875, '[[0, 1], [2, 3]]': 0.64421875, '[[0], [1]]': 0.6378125}}, {'accuracy': 0.9988, 'Layer1': {'[[0, 1, 2, 3, 4, 5, 6, 7], [8, 9, 10, 11, 12, 13, 14, 15]]': 0.945234375, '[[0, 1], [2, 3]]': 0.87828125, '[[0], [1]]': 0.847109375}, 'Layer2': {'[[0, 1, 2, 3, 4, 5, 6, 7], [8, 9, 10, 11, 12, 13, 14, 15]]': 0.91125, '[[0, 1], [2, 3]]': 0.86890625, '[[0], [1]]': 0.823984375}, 'Layer3': {'[[0, 1, 2, 3, 4, 5, 6, 7], [8, 9, 10, 11, 12, 13, 14, 15]]': 0.6046875, '[[0, 1], [2, 3]]': 0.63546875, '[[0], [1]]': 0.625390625}}, {'accuracy': 0.9989, 'Layer1': {'[[0, 1, 2, 3, 4, 5, 6, 7], [8, 9, 10, 11, 12, 13, 14, 15]]': 0.892734375, '[[0, 1], [2, 3]]': 0.8578125, '[[0], [1]]': 0.835078125}, 'Layer2': {'[[0, 1, 2, 3, 4, 5, 6, 7], [8, 9, 10, 11, 12, 13, 14, 15]]': 0.65078125, '[[0, 1], [2, 3]]': 0.619921875, '[[0], [1]]': 0.60828125}, 'Layer3': {'[[0, 1, 2, 3, 4, 5, 6, 7], [8, 9, 10, 11, 12, 13, 14, 15]]': 0.631171875, '[[0, 1], [2, 3]]': 0.664609375, '[[0], [1]]': 0.66453125}}, {'accuracy': 0.9974, 'Layer1': {'[[0, 1, 2, 3, 4, 5, 6, 7], [8, 9, 10, 11, 12, 13, 14, 15]]': 0.946875, '[[0, 1], [2, 3]]': 0.8821875, '[[0], [1]]': 0.55375}, 'Layer2': {'[[0, 1, 2, 3, 4, 5, 6, 7], [8, 9, 10, 11, 12, 13, 14, 15]]': 0.68890625, '[[0, 1], [2, 3]]': 0.561640625, '[[0], [1]]': 0.5209375}, 'Layer3': {'[[0, 1, 2, 3, 4, 5, 6, 7], [8, 9, 10, 11, 12, 13, 14, 15]]': 0.613984375, '[[0, 1], [2, 3]]': 0.62515625, '[[0], [1]]': 0.6325}}, {'accuracy': 0.9999, 'Layer1': {'[[0, 1, 2, 3, 4, 5, 6, 7], [8, 9, 10, 11, 12, 13, 14, 15]]': 0.95109375, '[[0, 1], [2, 3]]': 0.935625, '[[0], [1]]': 0.910859375}, 'Layer2': {'[[0, 1, 2, 3, 4, 5, 6, 7], [8, 9, 10, 11, 12, 13, 14, 15]]': 0.73109375, '[[0, 1], [2, 3]]': 0.693359375, '[[0], [1]]': 0.523046875}, 'Layer3': {'[[0, 1, 2, 3, 4, 5, 6, 7], [8, 9, 10, 11, 12, 13, 14, 15]]': 0.623125, '[[0, 1], [2, 3]]': 0.668125, '[[0], [1]]': 0.6696875}}, {'accuracy': 0.999, 'Layer1': {'[[0, 1, 2, 3, 4, 5, 6, 7], [8, 9, 10, 11, 12, 13, 14, 15]]': 0.941171875, '[[0, 1], [2, 3]]': 0.903984375, '[[0], [1]]': 0.87953125}, 'Layer2': {'[[0, 1, 2, 3, 4, 5, 6, 7], [8, 9, 10, 11, 12, 13, 14, 15]]': 0.68984375, '[[0, 1], [2, 3]]': 0.686484375, '[[0], [1]]': 0.62828125}, 'Layer3': {'[[0, 1, 2, 3, 4, 5, 6, 7], [8, 9, 10, 11, 12, 13, 14, 15]]': 0.595078125, '[[0, 1], [2, 3]]': 0.63203125, '[[0], [1]]': 0.626171875}}, {'accuracy': 0.9968, 'Layer1': {'[[0, 1, 2, 3, 4, 5, 6, 7], [8, 9, 10, 11, 12, 13, 14, 15]]': 0.9278125, '[[0, 1], [2, 3]]': 0.853828125, '[[0], [1]]': 0.633515625}, 'Layer2': {'[[0, 1, 2, 3, 4, 5, 6, 7], [8, 9, 10, 11, 12, 13, 14, 15]]': 0.734453125, '[[0, 1], [2, 3]]': 0.627421875, '[[0], [1]]': 0.673046875}, 'Layer3': {'[[0, 1, 2, 3, 4, 5, 6, 7], [8, 9, 10, 11, 12, 13, 14, 15]]': 0.56921875, '[[0, 1], [2, 3]]': 0.61671875, '[[0], [1]]': 0.622734375}}]\n"
     ]
    },
    {
     "name": "stderr",
     "output_type": "stream",
     "text": [
      "100%|█████████████████████████████████████████████████████| 1024/1024 [00:06<00:00, 151.61it/s]\n"
     ]
    },
    {
     "name": "stdout",
     "output_type": "stream",
     "text": [
      "Epoch 1, Loss: 0.35149138433189364\n"
     ]
    },
    {
     "name": "stderr",
     "output_type": "stream",
     "text": [
      "100%|█████████████████████████████████████████████████████| 1024/1024 [00:06<00:00, 149.92it/s]\n"
     ]
    },
    {
     "name": "stdout",
     "output_type": "stream",
     "text": [
      "Epoch 2, Loss: 0.03739497198512254\n"
     ]
    },
    {
     "name": "stderr",
     "output_type": "stream",
     "text": [
      "100%|█████████████████████████████████████████████████████| 1024/1024 [00:07<00:00, 140.50it/s]\n"
     ]
    },
    {
     "name": "stdout",
     "output_type": "stream",
     "text": [
      "Epoch 3, Loss: 0.009781862644103967\n"
     ]
    },
    {
     "name": "stderr",
     "output_type": "stream",
     "text": [
      "100%|█████████████████████████████████████████████████████████| 10/10 [00:00<00:00, 175.51it/s]\n"
     ]
    },
    {
     "name": "stdout",
     "output_type": "stream",
     "text": [
      "Test Accuracy: 0.9991\n",
      "Layer1 : [[0, 1, 2, 3, 4, 5, 6, 7], [8, 9, 10, 11, 12, 13, 14, 15]]\n",
      "restructuring\n"
     ]
    },
    {
     "name": "stderr",
     "output_type": "stream",
     "text": [
      "100%|█████████████████████████████████████████████| 1280000/1280000 [00:26<00:00, 47564.97it/s]\n"
     ]
    },
    {
     "name": "stdout",
     "output_type": "stream",
     "text": [
      "restructuring\n"
     ]
    },
    {
     "name": "stderr",
     "output_type": "stream",
     "text": [
      "100%|█████████████████████████████████████████████████| 12800/12800 [00:00<00:00, 34151.01it/s]\n"
     ]
    },
    {
     "name": "stdout",
     "output_type": "stream",
     "text": [
      "[SYST] Prepare Data\n"
     ]
    },
    {
     "name": "stderr",
     "output_type": "stream",
     "text": [
      "100%|█████████████████████████████████████████████| 1280000/1280000 [00:21<00:00, 60148.39it/s]\n"
     ]
    },
    {
     "name": "stdout",
     "output_type": "stream",
     "text": [
      "[SYST] Prepare Data\n"
     ]
    },
    {
     "name": "stderr",
     "output_type": "stream",
     "text": [
      "100%|█████████████████████████████████████████████████| 12800/12800 [00:00<00:00, 18487.91it/s]\n"
     ]
    },
    {
     "name": "stdout",
     "output_type": "stream",
     "text": [
      "[SYST] Epoch 0\n"
     ]
    },
    {
     "name": "stderr",
     "output_type": "stream",
     "text": [
      "100%|████████████████████████████████████████████████████████| 200/200 [00:13<00:00, 14.29it/s]\n"
     ]
    },
    {
     "name": "stdout",
     "output_type": "stream",
     "text": [
      "Epoch 1, Loss: 3.4223238730430605\n",
      "[SYST] Epoch 1\n"
     ]
    },
    {
     "name": "stderr",
     "output_type": "stream",
     "text": [
      "100%|████████████████████████████████████████████████████████| 200/200 [00:15<00:00, 13.25it/s]\n"
     ]
    },
    {
     "name": "stdout",
     "output_type": "stream",
     "text": [
      "Epoch 2, Loss: 1.3240315932035447\n",
      "[SYST] Epoch 2\n"
     ]
    },
    {
     "name": "stderr",
     "output_type": "stream",
     "text": [
      "100%|████████████████████████████████████████████████████████| 200/200 [00:13<00:00, 14.52it/s]\n"
     ]
    },
    {
     "name": "stdout",
     "output_type": "stream",
     "text": [
      "Epoch 3, Loss: 0.9760488203167915\n",
      "[SYST] Epoch 3\n"
     ]
    },
    {
     "name": "stderr",
     "output_type": "stream",
     "text": [
      "100%|████████████████████████████████████████████████████████| 200/200 [00:13<00:00, 14.76it/s]\n"
     ]
    },
    {
     "name": "stdout",
     "output_type": "stream",
     "text": [
      "Epoch 4, Loss: 0.9114072331786156\n",
      "[SYST] Epoch 4\n"
     ]
    },
    {
     "name": "stderr",
     "output_type": "stream",
     "text": [
      "100%|████████████████████████████████████████████████████████| 200/200 [00:13<00:00, 14.86it/s]\n"
     ]
    },
    {
     "name": "stdout",
     "output_type": "stream",
     "text": [
      "Epoch 5, Loss: 0.8860694295167924\n",
      "[SYST] Epoch 5\n"
     ]
    },
    {
     "name": "stderr",
     "output_type": "stream",
     "text": [
      "100%|████████████████████████████████████████████████████████| 200/200 [00:13<00:00, 14.68it/s]\n"
     ]
    },
    {
     "name": "stdout",
     "output_type": "stream",
     "text": [
      "Epoch 6, Loss: 0.8642080122232437\n",
      "[SYST] Epoch 6\n"
     ]
    },
    {
     "name": "stderr",
     "output_type": "stream",
     "text": [
      "100%|████████████████████████████████████████████████████████| 200/200 [00:13<00:00, 14.76it/s]\n"
     ]
    },
    {
     "name": "stdout",
     "output_type": "stream",
     "text": [
      "Epoch 7, Loss: 0.8440814605355262\n",
      "[SYST] Epoch 7\n"
     ]
    },
    {
     "name": "stderr",
     "output_type": "stream",
     "text": [
      "100%|████████████████████████████████████████████████████████| 200/200 [00:14<00:00, 14.26it/s]\n"
     ]
    },
    {
     "name": "stdout",
     "output_type": "stream",
     "text": [
      "Epoch 8, Loss: 0.8283451509475708\n",
      "[SYST] Epoch 8\n"
     ]
    },
    {
     "name": "stderr",
     "output_type": "stream",
     "text": [
      "100%|████████████████████████████████████████████████████████| 200/200 [00:13<00:00, 14.73it/s]\n"
     ]
    },
    {
     "name": "stdout",
     "output_type": "stream",
     "text": [
      "Epoch 9, Loss: 0.8199205657839775\n",
      "[SYST] Epoch 9\n"
     ]
    },
    {
     "name": "stderr",
     "output_type": "stream",
     "text": [
      "100%|████████████████████████████████████████████████████████| 200/200 [00:13<00:00, 14.72it/s]\n"
     ]
    },
    {
     "name": "stdout",
     "output_type": "stream",
     "text": [
      "Epoch 10, Loss: 0.8158518329262734\n",
      "[SYST] Epoch 0\n"
     ]
    },
    {
     "name": "stderr",
     "output_type": "stream",
     "text": [
      "100%|████████████████████████████████████████████████████████████| 2/2 [00:00<00:00, 16.23it/s]\n"
     ]
    },
    {
     "name": "stdout",
     "output_type": "stream",
     "text": [
      "Test Accuracy: 86.53%\n",
      "[{'accuracy': 0.9989, 'Layer1': {'[[0, 1, 2, 3, 4, 5, 6, 7], [8, 9, 10, 11, 12, 13, 14, 15]]': 0.960625, '[[0, 1], [2, 3]]': 0.8984375, '[[0], [1]]': 0.87734375}, 'Layer2': {'[[0, 1, 2, 3, 4, 5, 6, 7], [8, 9, 10, 11, 12, 13, 14, 15]]': 0.633046875, '[[0, 1], [2, 3]]': 0.767265625, '[[0], [1]]': 0.623515625}, 'Layer3': {'[[0, 1, 2, 3, 4, 5, 6, 7], [8, 9, 10, 11, 12, 13, 14, 15]]': 0.562578125, '[[0, 1], [2, 3]]': 0.631953125, '[[0], [1]]': 0.627265625}}, {'accuracy': 0.998, 'Layer1': {'[[0, 1, 2, 3, 4, 5, 6, 7], [8, 9, 10, 11, 12, 13, 14, 15]]': 0.885390625, '[[0, 1], [2, 3]]': 0.808515625, '[[0], [1]]': 0.806796875}, 'Layer2': {'[[0, 1, 2, 3, 4, 5, 6, 7], [8, 9, 10, 11, 12, 13, 14, 15]]': 0.558359375, '[[0, 1], [2, 3]]': 0.547109375, '[[0], [1]]': 0.475}, 'Layer3': {'[[0, 1, 2, 3, 4, 5, 6, 7], [8, 9, 10, 11, 12, 13, 14, 15]]': 0.61296875, '[[0, 1], [2, 3]]': 0.64421875, '[[0], [1]]': 0.6378125}}, {'accuracy': 0.9988, 'Layer1': {'[[0, 1, 2, 3, 4, 5, 6, 7], [8, 9, 10, 11, 12, 13, 14, 15]]': 0.945234375, '[[0, 1], [2, 3]]': 0.87828125, '[[0], [1]]': 0.847109375}, 'Layer2': {'[[0, 1, 2, 3, 4, 5, 6, 7], [8, 9, 10, 11, 12, 13, 14, 15]]': 0.91125, '[[0, 1], [2, 3]]': 0.86890625, '[[0], [1]]': 0.823984375}, 'Layer3': {'[[0, 1, 2, 3, 4, 5, 6, 7], [8, 9, 10, 11, 12, 13, 14, 15]]': 0.6046875, '[[0, 1], [2, 3]]': 0.63546875, '[[0], [1]]': 0.625390625}}, {'accuracy': 0.9989, 'Layer1': {'[[0, 1, 2, 3, 4, 5, 6, 7], [8, 9, 10, 11, 12, 13, 14, 15]]': 0.892734375, '[[0, 1], [2, 3]]': 0.8578125, '[[0], [1]]': 0.835078125}, 'Layer2': {'[[0, 1, 2, 3, 4, 5, 6, 7], [8, 9, 10, 11, 12, 13, 14, 15]]': 0.65078125, '[[0, 1], [2, 3]]': 0.619921875, '[[0], [1]]': 0.60828125}, 'Layer3': {'[[0, 1, 2, 3, 4, 5, 6, 7], [8, 9, 10, 11, 12, 13, 14, 15]]': 0.631171875, '[[0, 1], [2, 3]]': 0.664609375, '[[0], [1]]': 0.66453125}}, {'accuracy': 0.9974, 'Layer1': {'[[0, 1, 2, 3, 4, 5, 6, 7], [8, 9, 10, 11, 12, 13, 14, 15]]': 0.946875, '[[0, 1], [2, 3]]': 0.8821875, '[[0], [1]]': 0.55375}, 'Layer2': {'[[0, 1, 2, 3, 4, 5, 6, 7], [8, 9, 10, 11, 12, 13, 14, 15]]': 0.68890625, '[[0, 1], [2, 3]]': 0.561640625, '[[0], [1]]': 0.5209375}, 'Layer3': {'[[0, 1, 2, 3, 4, 5, 6, 7], [8, 9, 10, 11, 12, 13, 14, 15]]': 0.613984375, '[[0, 1], [2, 3]]': 0.62515625, '[[0], [1]]': 0.6325}}, {'accuracy': 0.9999, 'Layer1': {'[[0, 1, 2, 3, 4, 5, 6, 7], [8, 9, 10, 11, 12, 13, 14, 15]]': 0.95109375, '[[0, 1], [2, 3]]': 0.935625, '[[0], [1]]': 0.910859375}, 'Layer2': {'[[0, 1, 2, 3, 4, 5, 6, 7], [8, 9, 10, 11, 12, 13, 14, 15]]': 0.73109375, '[[0, 1], [2, 3]]': 0.693359375, '[[0], [1]]': 0.523046875}, 'Layer3': {'[[0, 1, 2, 3, 4, 5, 6, 7], [8, 9, 10, 11, 12, 13, 14, 15]]': 0.623125, '[[0, 1], [2, 3]]': 0.668125, '[[0], [1]]': 0.6696875}}, {'accuracy': 0.999, 'Layer1': {'[[0, 1, 2, 3, 4, 5, 6, 7], [8, 9, 10, 11, 12, 13, 14, 15]]': 0.941171875, '[[0, 1], [2, 3]]': 0.903984375, '[[0], [1]]': 0.87953125}, 'Layer2': {'[[0, 1, 2, 3, 4, 5, 6, 7], [8, 9, 10, 11, 12, 13, 14, 15]]': 0.68984375, '[[0, 1], [2, 3]]': 0.686484375, '[[0], [1]]': 0.62828125}, 'Layer3': {'[[0, 1, 2, 3, 4, 5, 6, 7], [8, 9, 10, 11, 12, 13, 14, 15]]': 0.595078125, '[[0, 1], [2, 3]]': 0.63203125, '[[0], [1]]': 0.626171875}}, {'accuracy': 0.9968, 'Layer1': {'[[0, 1, 2, 3, 4, 5, 6, 7], [8, 9, 10, 11, 12, 13, 14, 15]]': 0.9278125, '[[0, 1], [2, 3]]': 0.853828125, '[[0], [1]]': 0.633515625}, 'Layer2': {'[[0, 1, 2, 3, 4, 5, 6, 7], [8, 9, 10, 11, 12, 13, 14, 15]]': 0.734453125, '[[0, 1], [2, 3]]': 0.627421875, '[[0], [1]]': 0.673046875}, 'Layer3': {'[[0, 1, 2, 3, 4, 5, 6, 7], [8, 9, 10, 11, 12, 13, 14, 15]]': 0.56921875, '[[0, 1], [2, 3]]': 0.61671875, '[[0], [1]]': 0.622734375}}, {'accuracy': 0.9991, 'Layer1': {'[[0, 1, 2, 3, 4, 5, 6, 7], [8, 9, 10, 11, 12, 13, 14, 15]]': 0.8653125}}]\n",
      "Layer1 : [[0, 1], [2, 3]]\n",
      "restructuring\n"
     ]
    },
    {
     "name": "stderr",
     "output_type": "stream",
     "text": [
      "100%|█████████████████████████████████████████████| 1280000/1280000 [00:26<00:00, 47549.48it/s]\n"
     ]
    },
    {
     "name": "stdout",
     "output_type": "stream",
     "text": [
      "restructuring\n"
     ]
    },
    {
     "name": "stderr",
     "output_type": "stream",
     "text": [
      "100%|█████████████████████████████████████████████████| 12800/12800 [00:00<00:00, 34456.79it/s]\n"
     ]
    },
    {
     "name": "stdout",
     "output_type": "stream",
     "text": [
      "[SYST] Prepare Data\n"
     ]
    },
    {
     "name": "stderr",
     "output_type": "stream",
     "text": [
      "100%|█████████████████████████████████████████████| 1280000/1280000 [00:20<00:00, 63259.35it/s]\n"
     ]
    },
    {
     "name": "stdout",
     "output_type": "stream",
     "text": [
      "[SYST] Prepare Data\n"
     ]
    },
    {
     "name": "stderr",
     "output_type": "stream",
     "text": [
      "100%|█████████████████████████████████████████████████| 12800/12800 [00:00<00:00, 18935.18it/s]\n"
     ]
    },
    {
     "name": "stdout",
     "output_type": "stream",
     "text": [
      "[SYST] Epoch 0\n"
     ]
    },
    {
     "name": "stderr",
     "output_type": "stream",
     "text": [
      "100%|████████████████████████████████████████████████████████| 200/200 [00:14<00:00, 13.55it/s]\n"
     ]
    },
    {
     "name": "stdout",
     "output_type": "stream",
     "text": [
      "Epoch 1, Loss: 4.884028657674789\n",
      "[SYST] Epoch 1\n"
     ]
    },
    {
     "name": "stderr",
     "output_type": "stream",
     "text": [
      "100%|████████████████████████████████████████████████████████| 200/200 [00:13<00:00, 14.75it/s]\n"
     ]
    },
    {
     "name": "stdout",
     "output_type": "stream",
     "text": [
      "Epoch 2, Loss: 3.248573114871979\n",
      "[SYST] Epoch 2\n"
     ]
    },
    {
     "name": "stderr",
     "output_type": "stream",
     "text": [
      "100%|████████████████████████████████████████████████████████| 200/200 [00:13<00:00, 14.81it/s]\n"
     ]
    },
    {
     "name": "stdout",
     "output_type": "stream",
     "text": [
      "Epoch 3, Loss: 2.3022200870513916\n",
      "[SYST] Epoch 3\n"
     ]
    },
    {
     "name": "stderr",
     "output_type": "stream",
     "text": [
      "100%|████████████████████████████████████████████████████████| 200/200 [00:13<00:00, 14.67it/s]\n"
     ]
    },
    {
     "name": "stdout",
     "output_type": "stream",
     "text": [
      "Epoch 4, Loss: 2.0127602940797806\n",
      "[SYST] Epoch 4\n"
     ]
    },
    {
     "name": "stderr",
     "output_type": "stream",
     "text": [
      "100%|████████████████████████████████████████████████████████| 200/200 [00:14<00:00, 13.34it/s]\n"
     ]
    },
    {
     "name": "stdout",
     "output_type": "stream",
     "text": [
      "Epoch 5, Loss: 1.8572109162807464\n",
      "[SYST] Epoch 5\n"
     ]
    },
    {
     "name": "stderr",
     "output_type": "stream",
     "text": [
      "100%|████████████████████████████████████████████████████████| 200/200 [00:15<00:00, 13.23it/s]\n"
     ]
    },
    {
     "name": "stdout",
     "output_type": "stream",
     "text": [
      "Epoch 6, Loss: 1.744920662045479\n",
      "[SYST] Epoch 6\n"
     ]
    },
    {
     "name": "stderr",
     "output_type": "stream",
     "text": [
      "100%|████████████████████████████████████████████████████████| 200/200 [00:15<00:00, 13.24it/s]\n"
     ]
    },
    {
     "name": "stdout",
     "output_type": "stream",
     "text": [
      "Epoch 7, Loss: 1.721743076443672\n",
      "[SYST] Epoch 7\n"
     ]
    },
    {
     "name": "stderr",
     "output_type": "stream",
     "text": [
      "100%|████████████████████████████████████████████████████████| 200/200 [00:14<00:00, 13.98it/s]\n"
     ]
    },
    {
     "name": "stdout",
     "output_type": "stream",
     "text": [
      "Epoch 8, Loss: 1.717961602807045\n",
      "[SYST] Epoch 8\n"
     ]
    },
    {
     "name": "stderr",
     "output_type": "stream",
     "text": [
      "100%|████████████████████████████████████████████████████████| 200/200 [00:14<00:00, 14.25it/s]\n"
     ]
    },
    {
     "name": "stdout",
     "output_type": "stream",
     "text": [
      "Epoch 9, Loss: 1.7166235083341599\n",
      "[SYST] Epoch 9\n"
     ]
    },
    {
     "name": "stderr",
     "output_type": "stream",
     "text": [
      "100%|████████████████████████████████████████████████████████| 200/200 [00:13<00:00, 14.72it/s]\n"
     ]
    },
    {
     "name": "stdout",
     "output_type": "stream",
     "text": [
      "Epoch 10, Loss: 1.715611182451248\n",
      "[SYST] Epoch 0\n"
     ]
    },
    {
     "name": "stderr",
     "output_type": "stream",
     "text": [
      "100%|████████████████████████████████████████████████████████████| 2/2 [00:00<00:00, 16.24it/s]\n"
     ]
    },
    {
     "name": "stdout",
     "output_type": "stream",
     "text": [
      "Test Accuracy: 79.10%\n",
      "[{'accuracy': 0.9989, 'Layer1': {'[[0, 1, 2, 3, 4, 5, 6, 7], [8, 9, 10, 11, 12, 13, 14, 15]]': 0.960625, '[[0, 1], [2, 3]]': 0.8984375, '[[0], [1]]': 0.87734375}, 'Layer2': {'[[0, 1, 2, 3, 4, 5, 6, 7], [8, 9, 10, 11, 12, 13, 14, 15]]': 0.633046875, '[[0, 1], [2, 3]]': 0.767265625, '[[0], [1]]': 0.623515625}, 'Layer3': {'[[0, 1, 2, 3, 4, 5, 6, 7], [8, 9, 10, 11, 12, 13, 14, 15]]': 0.562578125, '[[0, 1], [2, 3]]': 0.631953125, '[[0], [1]]': 0.627265625}}, {'accuracy': 0.998, 'Layer1': {'[[0, 1, 2, 3, 4, 5, 6, 7], [8, 9, 10, 11, 12, 13, 14, 15]]': 0.885390625, '[[0, 1], [2, 3]]': 0.808515625, '[[0], [1]]': 0.806796875}, 'Layer2': {'[[0, 1, 2, 3, 4, 5, 6, 7], [8, 9, 10, 11, 12, 13, 14, 15]]': 0.558359375, '[[0, 1], [2, 3]]': 0.547109375, '[[0], [1]]': 0.475}, 'Layer3': {'[[0, 1, 2, 3, 4, 5, 6, 7], [8, 9, 10, 11, 12, 13, 14, 15]]': 0.61296875, '[[0, 1], [2, 3]]': 0.64421875, '[[0], [1]]': 0.6378125}}, {'accuracy': 0.9988, 'Layer1': {'[[0, 1, 2, 3, 4, 5, 6, 7], [8, 9, 10, 11, 12, 13, 14, 15]]': 0.945234375, '[[0, 1], [2, 3]]': 0.87828125, '[[0], [1]]': 0.847109375}, 'Layer2': {'[[0, 1, 2, 3, 4, 5, 6, 7], [8, 9, 10, 11, 12, 13, 14, 15]]': 0.91125, '[[0, 1], [2, 3]]': 0.86890625, '[[0], [1]]': 0.823984375}, 'Layer3': {'[[0, 1, 2, 3, 4, 5, 6, 7], [8, 9, 10, 11, 12, 13, 14, 15]]': 0.6046875, '[[0, 1], [2, 3]]': 0.63546875, '[[0], [1]]': 0.625390625}}, {'accuracy': 0.9989, 'Layer1': {'[[0, 1, 2, 3, 4, 5, 6, 7], [8, 9, 10, 11, 12, 13, 14, 15]]': 0.892734375, '[[0, 1], [2, 3]]': 0.8578125, '[[0], [1]]': 0.835078125}, 'Layer2': {'[[0, 1, 2, 3, 4, 5, 6, 7], [8, 9, 10, 11, 12, 13, 14, 15]]': 0.65078125, '[[0, 1], [2, 3]]': 0.619921875, '[[0], [1]]': 0.60828125}, 'Layer3': {'[[0, 1, 2, 3, 4, 5, 6, 7], [8, 9, 10, 11, 12, 13, 14, 15]]': 0.631171875, '[[0, 1], [2, 3]]': 0.664609375, '[[0], [1]]': 0.66453125}}, {'accuracy': 0.9974, 'Layer1': {'[[0, 1, 2, 3, 4, 5, 6, 7], [8, 9, 10, 11, 12, 13, 14, 15]]': 0.946875, '[[0, 1], [2, 3]]': 0.8821875, '[[0], [1]]': 0.55375}, 'Layer2': {'[[0, 1, 2, 3, 4, 5, 6, 7], [8, 9, 10, 11, 12, 13, 14, 15]]': 0.68890625, '[[0, 1], [2, 3]]': 0.561640625, '[[0], [1]]': 0.5209375}, 'Layer3': {'[[0, 1, 2, 3, 4, 5, 6, 7], [8, 9, 10, 11, 12, 13, 14, 15]]': 0.613984375, '[[0, 1], [2, 3]]': 0.62515625, '[[0], [1]]': 0.6325}}, {'accuracy': 0.9999, 'Layer1': {'[[0, 1, 2, 3, 4, 5, 6, 7], [8, 9, 10, 11, 12, 13, 14, 15]]': 0.95109375, '[[0, 1], [2, 3]]': 0.935625, '[[0], [1]]': 0.910859375}, 'Layer2': {'[[0, 1, 2, 3, 4, 5, 6, 7], [8, 9, 10, 11, 12, 13, 14, 15]]': 0.73109375, '[[0, 1], [2, 3]]': 0.693359375, '[[0], [1]]': 0.523046875}, 'Layer3': {'[[0, 1, 2, 3, 4, 5, 6, 7], [8, 9, 10, 11, 12, 13, 14, 15]]': 0.623125, '[[0, 1], [2, 3]]': 0.668125, '[[0], [1]]': 0.6696875}}, {'accuracy': 0.999, 'Layer1': {'[[0, 1, 2, 3, 4, 5, 6, 7], [8, 9, 10, 11, 12, 13, 14, 15]]': 0.941171875, '[[0, 1], [2, 3]]': 0.903984375, '[[0], [1]]': 0.87953125}, 'Layer2': {'[[0, 1, 2, 3, 4, 5, 6, 7], [8, 9, 10, 11, 12, 13, 14, 15]]': 0.68984375, '[[0, 1], [2, 3]]': 0.686484375, '[[0], [1]]': 0.62828125}, 'Layer3': {'[[0, 1, 2, 3, 4, 5, 6, 7], [8, 9, 10, 11, 12, 13, 14, 15]]': 0.595078125, '[[0, 1], [2, 3]]': 0.63203125, '[[0], [1]]': 0.626171875}}, {'accuracy': 0.9968, 'Layer1': {'[[0, 1, 2, 3, 4, 5, 6, 7], [8, 9, 10, 11, 12, 13, 14, 15]]': 0.9278125, '[[0, 1], [2, 3]]': 0.853828125, '[[0], [1]]': 0.633515625}, 'Layer2': {'[[0, 1, 2, 3, 4, 5, 6, 7], [8, 9, 10, 11, 12, 13, 14, 15]]': 0.734453125, '[[0, 1], [2, 3]]': 0.627421875, '[[0], [1]]': 0.673046875}, 'Layer3': {'[[0, 1, 2, 3, 4, 5, 6, 7], [8, 9, 10, 11, 12, 13, 14, 15]]': 0.56921875, '[[0, 1], [2, 3]]': 0.61671875, '[[0], [1]]': 0.622734375}}, {'accuracy': 0.9991, 'Layer1': {'[[0, 1, 2, 3, 4, 5, 6, 7], [8, 9, 10, 11, 12, 13, 14, 15]]': 0.8653125, '[[0, 1], [2, 3]]': 0.791015625}}]\n",
      "Layer1 : [[0], [1]]\n",
      "restructuring\n"
     ]
    },
    {
     "name": "stderr",
     "output_type": "stream",
     "text": [
      "100%|█████████████████████████████████████████████| 1280000/1280000 [00:26<00:00, 47582.31it/s]\n"
     ]
    },
    {
     "name": "stdout",
     "output_type": "stream",
     "text": [
      "restructuring\n"
     ]
    },
    {
     "name": "stderr",
     "output_type": "stream",
     "text": [
      "100%|█████████████████████████████████████████████████| 12800/12800 [00:00<00:00, 33962.92it/s]\n"
     ]
    },
    {
     "name": "stdout",
     "output_type": "stream",
     "text": [
      "[SYST] Prepare Data\n"
     ]
    },
    {
     "name": "stderr",
     "output_type": "stream",
     "text": [
      "100%|█████████████████████████████████████████████| 1280000/1280000 [00:20<00:00, 63972.11it/s]\n"
     ]
    },
    {
     "name": "stdout",
     "output_type": "stream",
     "text": [
      "[SYST] Prepare Data\n"
     ]
    },
    {
     "name": "stderr",
     "output_type": "stream",
     "text": [
      "100%|█████████████████████████████████████████████████| 12800/12800 [00:00<00:00, 18779.07it/s]\n"
     ]
    },
    {
     "name": "stdout",
     "output_type": "stream",
     "text": [
      "[SYST] Epoch 0\n"
     ]
    },
    {
     "name": "stderr",
     "output_type": "stream",
     "text": [
      "100%|████████████████████████████████████████████████████████| 200/200 [00:13<00:00, 14.76it/s]\n"
     ]
    },
    {
     "name": "stdout",
     "output_type": "stream",
     "text": [
      "Epoch 1, Loss: 5.438808326721191\n",
      "[SYST] Epoch 1\n"
     ]
    },
    {
     "name": "stderr",
     "output_type": "stream",
     "text": [
      "100%|████████████████████████████████████████████████████████| 200/200 [00:13<00:00, 14.79it/s]\n"
     ]
    },
    {
     "name": "stdout",
     "output_type": "stream",
     "text": [
      "Epoch 2, Loss: 4.04993192434311\n",
      "[SYST] Epoch 2\n"
     ]
    },
    {
     "name": "stderr",
     "output_type": "stream",
     "text": [
      "100%|████████████████████████████████████████████████████████| 200/200 [00:14<00:00, 14.05it/s]\n"
     ]
    },
    {
     "name": "stdout",
     "output_type": "stream",
     "text": [
      "Epoch 3, Loss: 3.04163959980011\n",
      "[SYST] Epoch 3\n"
     ]
    },
    {
     "name": "stderr",
     "output_type": "stream",
     "text": [
      "100%|████████████████████████████████████████████████████████| 200/200 [00:14<00:00, 13.37it/s]\n"
     ]
    },
    {
     "name": "stdout",
     "output_type": "stream",
     "text": [
      "Epoch 4, Loss: 2.6951693332195283\n",
      "[SYST] Epoch 4\n"
     ]
    },
    {
     "name": "stderr",
     "output_type": "stream",
     "text": [
      "100%|████████████████████████████████████████████████████████| 200/200 [00:14<00:00, 13.34it/s]\n"
     ]
    },
    {
     "name": "stdout",
     "output_type": "stream",
     "text": [
      "Epoch 5, Loss: 2.571192628145218\n",
      "[SYST] Epoch 5\n"
     ]
    },
    {
     "name": "stderr",
     "output_type": "stream",
     "text": [
      "100%|████████████████████████████████████████████████████████| 200/200 [00:14<00:00, 13.36it/s]\n"
     ]
    },
    {
     "name": "stdout",
     "output_type": "stream",
     "text": [
      "Epoch 6, Loss: 2.5554720795154573\n",
      "[SYST] Epoch 6\n"
     ]
    },
    {
     "name": "stderr",
     "output_type": "stream",
     "text": [
      "100%|████████████████████████████████████████████████████████| 200/200 [00:14<00:00, 14.26it/s]\n"
     ]
    },
    {
     "name": "stdout",
     "output_type": "stream",
     "text": [
      "Epoch 7, Loss: 2.55269403219223\n",
      "[SYST] Epoch 7\n"
     ]
    },
    {
     "name": "stderr",
     "output_type": "stream",
     "text": [
      "100%|████████████████████████████████████████████████████████| 200/200 [00:13<00:00, 14.71it/s]\n"
     ]
    },
    {
     "name": "stdout",
     "output_type": "stream",
     "text": [
      "Epoch 8, Loss: 2.5515993082523347\n",
      "[SYST] Epoch 8\n"
     ]
    },
    {
     "name": "stderr",
     "output_type": "stream",
     "text": [
      "100%|████████████████████████████████████████████████████████| 200/200 [00:15<00:00, 13.33it/s]\n"
     ]
    },
    {
     "name": "stdout",
     "output_type": "stream",
     "text": [
      "Epoch 9, Loss: 2.5515690338611603\n",
      "[SYST] Epoch 9\n"
     ]
    },
    {
     "name": "stderr",
     "output_type": "stream",
     "text": [
      "100%|████████████████████████████████████████████████████████| 200/200 [00:15<00:00, 13.30it/s]\n"
     ]
    },
    {
     "name": "stdout",
     "output_type": "stream",
     "text": [
      "Epoch 10, Loss: 2.551728985309601\n",
      "[SYST] Epoch 0\n"
     ]
    },
    {
     "name": "stderr",
     "output_type": "stream",
     "text": [
      "100%|████████████████████████████████████████████████████████████| 2/2 [00:00<00:00, 14.36it/s]\n"
     ]
    },
    {
     "name": "stdout",
     "output_type": "stream",
     "text": [
      "Test Accuracy: 78.64%\n",
      "[{'accuracy': 0.9989, 'Layer1': {'[[0, 1, 2, 3, 4, 5, 6, 7], [8, 9, 10, 11, 12, 13, 14, 15]]': 0.960625, '[[0, 1], [2, 3]]': 0.8984375, '[[0], [1]]': 0.87734375}, 'Layer2': {'[[0, 1, 2, 3, 4, 5, 6, 7], [8, 9, 10, 11, 12, 13, 14, 15]]': 0.633046875, '[[0, 1], [2, 3]]': 0.767265625, '[[0], [1]]': 0.623515625}, 'Layer3': {'[[0, 1, 2, 3, 4, 5, 6, 7], [8, 9, 10, 11, 12, 13, 14, 15]]': 0.562578125, '[[0, 1], [2, 3]]': 0.631953125, '[[0], [1]]': 0.627265625}}, {'accuracy': 0.998, 'Layer1': {'[[0, 1, 2, 3, 4, 5, 6, 7], [8, 9, 10, 11, 12, 13, 14, 15]]': 0.885390625, '[[0, 1], [2, 3]]': 0.808515625, '[[0], [1]]': 0.806796875}, 'Layer2': {'[[0, 1, 2, 3, 4, 5, 6, 7], [8, 9, 10, 11, 12, 13, 14, 15]]': 0.558359375, '[[0, 1], [2, 3]]': 0.547109375, '[[0], [1]]': 0.475}, 'Layer3': {'[[0, 1, 2, 3, 4, 5, 6, 7], [8, 9, 10, 11, 12, 13, 14, 15]]': 0.61296875, '[[0, 1], [2, 3]]': 0.64421875, '[[0], [1]]': 0.6378125}}, {'accuracy': 0.9988, 'Layer1': {'[[0, 1, 2, 3, 4, 5, 6, 7], [8, 9, 10, 11, 12, 13, 14, 15]]': 0.945234375, '[[0, 1], [2, 3]]': 0.87828125, '[[0], [1]]': 0.847109375}, 'Layer2': {'[[0, 1, 2, 3, 4, 5, 6, 7], [8, 9, 10, 11, 12, 13, 14, 15]]': 0.91125, '[[0, 1], [2, 3]]': 0.86890625, '[[0], [1]]': 0.823984375}, 'Layer3': {'[[0, 1, 2, 3, 4, 5, 6, 7], [8, 9, 10, 11, 12, 13, 14, 15]]': 0.6046875, '[[0, 1], [2, 3]]': 0.63546875, '[[0], [1]]': 0.625390625}}, {'accuracy': 0.9989, 'Layer1': {'[[0, 1, 2, 3, 4, 5, 6, 7], [8, 9, 10, 11, 12, 13, 14, 15]]': 0.892734375, '[[0, 1], [2, 3]]': 0.8578125, '[[0], [1]]': 0.835078125}, 'Layer2': {'[[0, 1, 2, 3, 4, 5, 6, 7], [8, 9, 10, 11, 12, 13, 14, 15]]': 0.65078125, '[[0, 1], [2, 3]]': 0.619921875, '[[0], [1]]': 0.60828125}, 'Layer3': {'[[0, 1, 2, 3, 4, 5, 6, 7], [8, 9, 10, 11, 12, 13, 14, 15]]': 0.631171875, '[[0, 1], [2, 3]]': 0.664609375, '[[0], [1]]': 0.66453125}}, {'accuracy': 0.9974, 'Layer1': {'[[0, 1, 2, 3, 4, 5, 6, 7], [8, 9, 10, 11, 12, 13, 14, 15]]': 0.946875, '[[0, 1], [2, 3]]': 0.8821875, '[[0], [1]]': 0.55375}, 'Layer2': {'[[0, 1, 2, 3, 4, 5, 6, 7], [8, 9, 10, 11, 12, 13, 14, 15]]': 0.68890625, '[[0, 1], [2, 3]]': 0.561640625, '[[0], [1]]': 0.5209375}, 'Layer3': {'[[0, 1, 2, 3, 4, 5, 6, 7], [8, 9, 10, 11, 12, 13, 14, 15]]': 0.613984375, '[[0, 1], [2, 3]]': 0.62515625, '[[0], [1]]': 0.6325}}, {'accuracy': 0.9999, 'Layer1': {'[[0, 1, 2, 3, 4, 5, 6, 7], [8, 9, 10, 11, 12, 13, 14, 15]]': 0.95109375, '[[0, 1], [2, 3]]': 0.935625, '[[0], [1]]': 0.910859375}, 'Layer2': {'[[0, 1, 2, 3, 4, 5, 6, 7], [8, 9, 10, 11, 12, 13, 14, 15]]': 0.73109375, '[[0, 1], [2, 3]]': 0.693359375, '[[0], [1]]': 0.523046875}, 'Layer3': {'[[0, 1, 2, 3, 4, 5, 6, 7], [8, 9, 10, 11, 12, 13, 14, 15]]': 0.623125, '[[0, 1], [2, 3]]': 0.668125, '[[0], [1]]': 0.6696875}}, {'accuracy': 0.999, 'Layer1': {'[[0, 1, 2, 3, 4, 5, 6, 7], [8, 9, 10, 11, 12, 13, 14, 15]]': 0.941171875, '[[0, 1], [2, 3]]': 0.903984375, '[[0], [1]]': 0.87953125}, 'Layer2': {'[[0, 1, 2, 3, 4, 5, 6, 7], [8, 9, 10, 11, 12, 13, 14, 15]]': 0.68984375, '[[0, 1], [2, 3]]': 0.686484375, '[[0], [1]]': 0.62828125}, 'Layer3': {'[[0, 1, 2, 3, 4, 5, 6, 7], [8, 9, 10, 11, 12, 13, 14, 15]]': 0.595078125, '[[0, 1], [2, 3]]': 0.63203125, '[[0], [1]]': 0.626171875}}, {'accuracy': 0.9968, 'Layer1': {'[[0, 1, 2, 3, 4, 5, 6, 7], [8, 9, 10, 11, 12, 13, 14, 15]]': 0.9278125, '[[0, 1], [2, 3]]': 0.853828125, '[[0], [1]]': 0.633515625}, 'Layer2': {'[[0, 1, 2, 3, 4, 5, 6, 7], [8, 9, 10, 11, 12, 13, 14, 15]]': 0.734453125, '[[0, 1], [2, 3]]': 0.627421875, '[[0], [1]]': 0.673046875}, 'Layer3': {'[[0, 1, 2, 3, 4, 5, 6, 7], [8, 9, 10, 11, 12, 13, 14, 15]]': 0.56921875, '[[0, 1], [2, 3]]': 0.61671875, '[[0], [1]]': 0.622734375}}, {'accuracy': 0.9991, 'Layer1': {'[[0, 1, 2, 3, 4, 5, 6, 7], [8, 9, 10, 11, 12, 13, 14, 15]]': 0.8653125, '[[0, 1], [2, 3]]': 0.791015625, '[[0], [1]]': 0.78640625}}]\n",
      "Layer2 : [[0, 1, 2, 3, 4, 5, 6, 7], [8, 9, 10, 11, 12, 13, 14, 15]]\n",
      "restructuring\n"
     ]
    },
    {
     "name": "stderr",
     "output_type": "stream",
     "text": [
      "100%|█████████████████████████████████████████████| 1280000/1280000 [00:27<00:00, 46030.69it/s]\n"
     ]
    },
    {
     "name": "stdout",
     "output_type": "stream",
     "text": [
      "restructuring\n"
     ]
    },
    {
     "name": "stderr",
     "output_type": "stream",
     "text": [
      "100%|█████████████████████████████████████████████████| 12800/12800 [00:00<00:00, 34261.13it/s]\n"
     ]
    },
    {
     "name": "stdout",
     "output_type": "stream",
     "text": [
      "[SYST] Prepare Data\n"
     ]
    },
    {
     "name": "stderr",
     "output_type": "stream",
     "text": [
      "100%|█████████████████████████████████████████████| 1280000/1280000 [00:20<00:00, 61100.95it/s]\n"
     ]
    },
    {
     "name": "stdout",
     "output_type": "stream",
     "text": [
      "[SYST] Prepare Data\n"
     ]
    },
    {
     "name": "stderr",
     "output_type": "stream",
     "text": [
      "100%|█████████████████████████████████████████████████| 12800/12800 [00:00<00:00, 24418.55it/s]\n"
     ]
    },
    {
     "name": "stdout",
     "output_type": "stream",
     "text": [
      "[SYST] Epoch 0\n"
     ]
    },
    {
     "name": "stderr",
     "output_type": "stream",
     "text": [
      "100%|████████████████████████████████████████████████████████| 200/200 [00:14<00:00, 14.06it/s]\n"
     ]
    },
    {
     "name": "stdout",
     "output_type": "stream",
     "text": [
      "Epoch 1, Loss: 4.368678362369537\n",
      "[SYST] Epoch 1\n"
     ]
    },
    {
     "name": "stderr",
     "output_type": "stream",
     "text": [
      "100%|████████████████████████████████████████████████████████| 200/200 [00:13<00:00, 14.70it/s]\n"
     ]
    },
    {
     "name": "stdout",
     "output_type": "stream",
     "text": [
      "Epoch 2, Loss: 3.474849764108658\n",
      "[SYST] Epoch 2\n"
     ]
    },
    {
     "name": "stderr",
     "output_type": "stream",
     "text": [
      "100%|████████████████████████████████████████████████████████| 200/200 [00:14<00:00, 13.38it/s]\n"
     ]
    },
    {
     "name": "stdout",
     "output_type": "stream",
     "text": [
      "Epoch 3, Loss: 2.98104287981987\n",
      "[SYST] Epoch 3\n"
     ]
    },
    {
     "name": "stderr",
     "output_type": "stream",
     "text": [
      "100%|████████████████████████████████████████████████████████| 200/200 [00:13<00:00, 14.81it/s]\n"
     ]
    },
    {
     "name": "stdout",
     "output_type": "stream",
     "text": [
      "Epoch 4, Loss: 2.89804771900177\n",
      "[SYST] Epoch 4\n"
     ]
    },
    {
     "name": "stderr",
     "output_type": "stream",
     "text": [
      "100%|████████████████████████████████████████████████████████| 200/200 [00:13<00:00, 14.36it/s]\n"
     ]
    },
    {
     "name": "stdout",
     "output_type": "stream",
     "text": [
      "Epoch 5, Loss: 2.87066202044487\n",
      "[SYST] Epoch 5\n"
     ]
    },
    {
     "name": "stderr",
     "output_type": "stream",
     "text": [
      "100%|████████████████████████████████████████████████████████| 200/200 [00:13<00:00, 14.82it/s]\n"
     ]
    },
    {
     "name": "stdout",
     "output_type": "stream",
     "text": [
      "Epoch 6, Loss: 2.859658204317093\n",
      "[SYST] Epoch 6\n"
     ]
    },
    {
     "name": "stderr",
     "output_type": "stream",
     "text": [
      "100%|████████████████████████████████████████████████████████| 200/200 [00:14<00:00, 13.40it/s]\n"
     ]
    },
    {
     "name": "stdout",
     "output_type": "stream",
     "text": [
      "Epoch 7, Loss: 2.853176509141922\n",
      "[SYST] Epoch 7\n"
     ]
    },
    {
     "name": "stderr",
     "output_type": "stream",
     "text": [
      "100%|████████████████████████████████████████████████████████| 200/200 [00:13<00:00, 14.57it/s]\n"
     ]
    },
    {
     "name": "stdout",
     "output_type": "stream",
     "text": [
      "Epoch 8, Loss: 2.84848757982254\n",
      "[SYST] Epoch 8\n"
     ]
    },
    {
     "name": "stderr",
     "output_type": "stream",
     "text": [
      "100%|████████████████████████████████████████████████████████| 200/200 [00:13<00:00, 14.35it/s]\n"
     ]
    },
    {
     "name": "stdout",
     "output_type": "stream",
     "text": [
      "Epoch 9, Loss: 2.844595032930374\n",
      "[SYST] Epoch 9\n"
     ]
    },
    {
     "name": "stderr",
     "output_type": "stream",
     "text": [
      "100%|████████████████████████████████████████████████████████| 200/200 [00:13<00:00, 14.82it/s]\n"
     ]
    },
    {
     "name": "stdout",
     "output_type": "stream",
     "text": [
      "Epoch 10, Loss: 2.841085053682327\n",
      "[SYST] Epoch 0\n"
     ]
    },
    {
     "name": "stderr",
     "output_type": "stream",
     "text": [
      "100%|████████████████████████████████████████████████████████████| 2/2 [00:00<00:00, 16.22it/s]\n"
     ]
    },
    {
     "name": "stdout",
     "output_type": "stream",
     "text": [
      "Test Accuracy: 72.23%\n",
      "[{'accuracy': 0.9989, 'Layer1': {'[[0, 1, 2, 3, 4, 5, 6, 7], [8, 9, 10, 11, 12, 13, 14, 15]]': 0.960625, '[[0, 1], [2, 3]]': 0.8984375, '[[0], [1]]': 0.87734375}, 'Layer2': {'[[0, 1, 2, 3, 4, 5, 6, 7], [8, 9, 10, 11, 12, 13, 14, 15]]': 0.633046875, '[[0, 1], [2, 3]]': 0.767265625, '[[0], [1]]': 0.623515625}, 'Layer3': {'[[0, 1, 2, 3, 4, 5, 6, 7], [8, 9, 10, 11, 12, 13, 14, 15]]': 0.562578125, '[[0, 1], [2, 3]]': 0.631953125, '[[0], [1]]': 0.627265625}}, {'accuracy': 0.998, 'Layer1': {'[[0, 1, 2, 3, 4, 5, 6, 7], [8, 9, 10, 11, 12, 13, 14, 15]]': 0.885390625, '[[0, 1], [2, 3]]': 0.808515625, '[[0], [1]]': 0.806796875}, 'Layer2': {'[[0, 1, 2, 3, 4, 5, 6, 7], [8, 9, 10, 11, 12, 13, 14, 15]]': 0.558359375, '[[0, 1], [2, 3]]': 0.547109375, '[[0], [1]]': 0.475}, 'Layer3': {'[[0, 1, 2, 3, 4, 5, 6, 7], [8, 9, 10, 11, 12, 13, 14, 15]]': 0.61296875, '[[0, 1], [2, 3]]': 0.64421875, '[[0], [1]]': 0.6378125}}, {'accuracy': 0.9988, 'Layer1': {'[[0, 1, 2, 3, 4, 5, 6, 7], [8, 9, 10, 11, 12, 13, 14, 15]]': 0.945234375, '[[0, 1], [2, 3]]': 0.87828125, '[[0], [1]]': 0.847109375}, 'Layer2': {'[[0, 1, 2, 3, 4, 5, 6, 7], [8, 9, 10, 11, 12, 13, 14, 15]]': 0.91125, '[[0, 1], [2, 3]]': 0.86890625, '[[0], [1]]': 0.823984375}, 'Layer3': {'[[0, 1, 2, 3, 4, 5, 6, 7], [8, 9, 10, 11, 12, 13, 14, 15]]': 0.6046875, '[[0, 1], [2, 3]]': 0.63546875, '[[0], [1]]': 0.625390625}}, {'accuracy': 0.9989, 'Layer1': {'[[0, 1, 2, 3, 4, 5, 6, 7], [8, 9, 10, 11, 12, 13, 14, 15]]': 0.892734375, '[[0, 1], [2, 3]]': 0.8578125, '[[0], [1]]': 0.835078125}, 'Layer2': {'[[0, 1, 2, 3, 4, 5, 6, 7], [8, 9, 10, 11, 12, 13, 14, 15]]': 0.65078125, '[[0, 1], [2, 3]]': 0.619921875, '[[0], [1]]': 0.60828125}, 'Layer3': {'[[0, 1, 2, 3, 4, 5, 6, 7], [8, 9, 10, 11, 12, 13, 14, 15]]': 0.631171875, '[[0, 1], [2, 3]]': 0.664609375, '[[0], [1]]': 0.66453125}}, {'accuracy': 0.9974, 'Layer1': {'[[0, 1, 2, 3, 4, 5, 6, 7], [8, 9, 10, 11, 12, 13, 14, 15]]': 0.946875, '[[0, 1], [2, 3]]': 0.8821875, '[[0], [1]]': 0.55375}, 'Layer2': {'[[0, 1, 2, 3, 4, 5, 6, 7], [8, 9, 10, 11, 12, 13, 14, 15]]': 0.68890625, '[[0, 1], [2, 3]]': 0.561640625, '[[0], [1]]': 0.5209375}, 'Layer3': {'[[0, 1, 2, 3, 4, 5, 6, 7], [8, 9, 10, 11, 12, 13, 14, 15]]': 0.613984375, '[[0, 1], [2, 3]]': 0.62515625, '[[0], [1]]': 0.6325}}, {'accuracy': 0.9999, 'Layer1': {'[[0, 1, 2, 3, 4, 5, 6, 7], [8, 9, 10, 11, 12, 13, 14, 15]]': 0.95109375, '[[0, 1], [2, 3]]': 0.935625, '[[0], [1]]': 0.910859375}, 'Layer2': {'[[0, 1, 2, 3, 4, 5, 6, 7], [8, 9, 10, 11, 12, 13, 14, 15]]': 0.73109375, '[[0, 1], [2, 3]]': 0.693359375, '[[0], [1]]': 0.523046875}, 'Layer3': {'[[0, 1, 2, 3, 4, 5, 6, 7], [8, 9, 10, 11, 12, 13, 14, 15]]': 0.623125, '[[0, 1], [2, 3]]': 0.668125, '[[0], [1]]': 0.6696875}}, {'accuracy': 0.999, 'Layer1': {'[[0, 1, 2, 3, 4, 5, 6, 7], [8, 9, 10, 11, 12, 13, 14, 15]]': 0.941171875, '[[0, 1], [2, 3]]': 0.903984375, '[[0], [1]]': 0.87953125}, 'Layer2': {'[[0, 1, 2, 3, 4, 5, 6, 7], [8, 9, 10, 11, 12, 13, 14, 15]]': 0.68984375, '[[0, 1], [2, 3]]': 0.686484375, '[[0], [1]]': 0.62828125}, 'Layer3': {'[[0, 1, 2, 3, 4, 5, 6, 7], [8, 9, 10, 11, 12, 13, 14, 15]]': 0.595078125, '[[0, 1], [2, 3]]': 0.63203125, '[[0], [1]]': 0.626171875}}, {'accuracy': 0.9968, 'Layer1': {'[[0, 1, 2, 3, 4, 5, 6, 7], [8, 9, 10, 11, 12, 13, 14, 15]]': 0.9278125, '[[0, 1], [2, 3]]': 0.853828125, '[[0], [1]]': 0.633515625}, 'Layer2': {'[[0, 1, 2, 3, 4, 5, 6, 7], [8, 9, 10, 11, 12, 13, 14, 15]]': 0.734453125, '[[0, 1], [2, 3]]': 0.627421875, '[[0], [1]]': 0.673046875}, 'Layer3': {'[[0, 1, 2, 3, 4, 5, 6, 7], [8, 9, 10, 11, 12, 13, 14, 15]]': 0.56921875, '[[0, 1], [2, 3]]': 0.61671875, '[[0], [1]]': 0.622734375}}, {'accuracy': 0.9991, 'Layer1': {'[[0, 1, 2, 3, 4, 5, 6, 7], [8, 9, 10, 11, 12, 13, 14, 15]]': 0.8653125, '[[0, 1], [2, 3]]': 0.791015625, '[[0], [1]]': 0.78640625}, 'Layer2': {'[[0, 1, 2, 3, 4, 5, 6, 7], [8, 9, 10, 11, 12, 13, 14, 15]]': 0.72234375}}]\n",
      "Layer2 : [[0, 1], [2, 3]]\n",
      "restructuring\n"
     ]
    },
    {
     "name": "stderr",
     "output_type": "stream",
     "text": [
      "100%|█████████████████████████████████████████████| 1280000/1280000 [00:27<00:00, 45925.40it/s]\n"
     ]
    },
    {
     "name": "stdout",
     "output_type": "stream",
     "text": [
      "restructuring\n"
     ]
    },
    {
     "name": "stderr",
     "output_type": "stream",
     "text": [
      "100%|█████████████████████████████████████████████████| 12800/12800 [00:00<00:00, 34305.11it/s]\n"
     ]
    },
    {
     "name": "stdout",
     "output_type": "stream",
     "text": [
      "[SYST] Prepare Data\n"
     ]
    },
    {
     "name": "stderr",
     "output_type": "stream",
     "text": [
      "100%|█████████████████████████████████████████████| 1280000/1280000 [00:20<00:00, 63378.21it/s]\n"
     ]
    },
    {
     "name": "stdout",
     "output_type": "stream",
     "text": [
      "[SYST] Prepare Data\n"
     ]
    },
    {
     "name": "stderr",
     "output_type": "stream",
     "text": [
      "100%|█████████████████████████████████████████████████| 12800/12800 [00:00<00:00, 24818.76it/s]\n"
     ]
    },
    {
     "name": "stdout",
     "output_type": "stream",
     "text": [
      "[SYST] Epoch 0\n"
     ]
    },
    {
     "name": "stderr",
     "output_type": "stream",
     "text": [
      "100%|████████████████████████████████████████████████████████| 200/200 [00:14<00:00, 14.03it/s]\n"
     ]
    },
    {
     "name": "stdout",
     "output_type": "stream",
     "text": [
      "Epoch 1, Loss: 5.452678310871124\n",
      "[SYST] Epoch 1\n"
     ]
    },
    {
     "name": "stderr",
     "output_type": "stream",
     "text": [
      "100%|████████████████████████████████████████████████████████| 200/200 [00:13<00:00, 14.85it/s]\n"
     ]
    },
    {
     "name": "stdout",
     "output_type": "stream",
     "text": [
      "Epoch 2, Loss: 4.284823387861252\n",
      "[SYST] Epoch 2\n"
     ]
    },
    {
     "name": "stderr",
     "output_type": "stream",
     "text": [
      "100%|████████████████████████████████████████████████████████| 200/200 [00:13<00:00, 14.95it/s]\n"
     ]
    },
    {
     "name": "stdout",
     "output_type": "stream",
     "text": [
      "Epoch 3, Loss: 3.923637036085129\n",
      "[SYST] Epoch 3\n"
     ]
    },
    {
     "name": "stderr",
     "output_type": "stream",
     "text": [
      "100%|████████████████████████████████████████████████████████| 200/200 [00:13<00:00, 14.93it/s]\n"
     ]
    },
    {
     "name": "stdout",
     "output_type": "stream",
     "text": [
      "Epoch 4, Loss: 3.557220004796982\n",
      "[SYST] Epoch 4\n"
     ]
    },
    {
     "name": "stderr",
     "output_type": "stream",
     "text": [
      "100%|████████████████████████████████████████████████████████| 200/200 [00:13<00:00, 14.95it/s]\n"
     ]
    },
    {
     "name": "stdout",
     "output_type": "stream",
     "text": [
      "Epoch 5, Loss: 3.2812996327877046\n",
      "[SYST] Epoch 5\n"
     ]
    },
    {
     "name": "stderr",
     "output_type": "stream",
     "text": [
      "100%|████████████████████████████████████████████████████████| 200/200 [00:13<00:00, 14.94it/s]\n"
     ]
    },
    {
     "name": "stdout",
     "output_type": "stream",
     "text": [
      "Epoch 6, Loss: 3.1810943973064423\n",
      "[SYST] Epoch 6\n"
     ]
    },
    {
     "name": "stderr",
     "output_type": "stream",
     "text": [
      "100%|████████████████████████████████████████████████████████| 200/200 [00:13<00:00, 14.35it/s]\n"
     ]
    },
    {
     "name": "stdout",
     "output_type": "stream",
     "text": [
      "Epoch 7, Loss: 3.129916272163391\n",
      "[SYST] Epoch 7\n"
     ]
    },
    {
     "name": "stderr",
     "output_type": "stream",
     "text": [
      "100%|████████████████████████████████████████████████████████| 200/200 [00:13<00:00, 14.40it/s]\n"
     ]
    },
    {
     "name": "stdout",
     "output_type": "stream",
     "text": [
      "Epoch 8, Loss: 3.1007952916622163\n",
      "[SYST] Epoch 8\n"
     ]
    },
    {
     "name": "stderr",
     "output_type": "stream",
     "text": [
      "100%|████████████████████████████████████████████████████████| 200/200 [00:13<00:00, 14.91it/s]\n"
     ]
    },
    {
     "name": "stdout",
     "output_type": "stream",
     "text": [
      "Epoch 9, Loss: 3.0839278733730318\n",
      "[SYST] Epoch 9\n"
     ]
    },
    {
     "name": "stderr",
     "output_type": "stream",
     "text": [
      "100%|████████████████████████████████████████████████████████| 200/200 [00:13<00:00, 14.64it/s]\n"
     ]
    },
    {
     "name": "stdout",
     "output_type": "stream",
     "text": [
      "Epoch 10, Loss: 3.074138342142105\n",
      "[SYST] Epoch 0\n"
     ]
    },
    {
     "name": "stderr",
     "output_type": "stream",
     "text": [
      "100%|████████████████████████████████████████████████████████████| 2/2 [00:00<00:00, 16.25it/s]\n"
     ]
    },
    {
     "name": "stdout",
     "output_type": "stream",
     "text": [
      "Test Accuracy: 68.60%\n",
      "[{'accuracy': 0.9989, 'Layer1': {'[[0, 1, 2, 3, 4, 5, 6, 7], [8, 9, 10, 11, 12, 13, 14, 15]]': 0.960625, '[[0, 1], [2, 3]]': 0.8984375, '[[0], [1]]': 0.87734375}, 'Layer2': {'[[0, 1, 2, 3, 4, 5, 6, 7], [8, 9, 10, 11, 12, 13, 14, 15]]': 0.633046875, '[[0, 1], [2, 3]]': 0.767265625, '[[0], [1]]': 0.623515625}, 'Layer3': {'[[0, 1, 2, 3, 4, 5, 6, 7], [8, 9, 10, 11, 12, 13, 14, 15]]': 0.562578125, '[[0, 1], [2, 3]]': 0.631953125, '[[0], [1]]': 0.627265625}}, {'accuracy': 0.998, 'Layer1': {'[[0, 1, 2, 3, 4, 5, 6, 7], [8, 9, 10, 11, 12, 13, 14, 15]]': 0.885390625, '[[0, 1], [2, 3]]': 0.808515625, '[[0], [1]]': 0.806796875}, 'Layer2': {'[[0, 1, 2, 3, 4, 5, 6, 7], [8, 9, 10, 11, 12, 13, 14, 15]]': 0.558359375, '[[0, 1], [2, 3]]': 0.547109375, '[[0], [1]]': 0.475}, 'Layer3': {'[[0, 1, 2, 3, 4, 5, 6, 7], [8, 9, 10, 11, 12, 13, 14, 15]]': 0.61296875, '[[0, 1], [2, 3]]': 0.64421875, '[[0], [1]]': 0.6378125}}, {'accuracy': 0.9988, 'Layer1': {'[[0, 1, 2, 3, 4, 5, 6, 7], [8, 9, 10, 11, 12, 13, 14, 15]]': 0.945234375, '[[0, 1], [2, 3]]': 0.87828125, '[[0], [1]]': 0.847109375}, 'Layer2': {'[[0, 1, 2, 3, 4, 5, 6, 7], [8, 9, 10, 11, 12, 13, 14, 15]]': 0.91125, '[[0, 1], [2, 3]]': 0.86890625, '[[0], [1]]': 0.823984375}, 'Layer3': {'[[0, 1, 2, 3, 4, 5, 6, 7], [8, 9, 10, 11, 12, 13, 14, 15]]': 0.6046875, '[[0, 1], [2, 3]]': 0.63546875, '[[0], [1]]': 0.625390625}}, {'accuracy': 0.9989, 'Layer1': {'[[0, 1, 2, 3, 4, 5, 6, 7], [8, 9, 10, 11, 12, 13, 14, 15]]': 0.892734375, '[[0, 1], [2, 3]]': 0.8578125, '[[0], [1]]': 0.835078125}, 'Layer2': {'[[0, 1, 2, 3, 4, 5, 6, 7], [8, 9, 10, 11, 12, 13, 14, 15]]': 0.65078125, '[[0, 1], [2, 3]]': 0.619921875, '[[0], [1]]': 0.60828125}, 'Layer3': {'[[0, 1, 2, 3, 4, 5, 6, 7], [8, 9, 10, 11, 12, 13, 14, 15]]': 0.631171875, '[[0, 1], [2, 3]]': 0.664609375, '[[0], [1]]': 0.66453125}}, {'accuracy': 0.9974, 'Layer1': {'[[0, 1, 2, 3, 4, 5, 6, 7], [8, 9, 10, 11, 12, 13, 14, 15]]': 0.946875, '[[0, 1], [2, 3]]': 0.8821875, '[[0], [1]]': 0.55375}, 'Layer2': {'[[0, 1, 2, 3, 4, 5, 6, 7], [8, 9, 10, 11, 12, 13, 14, 15]]': 0.68890625, '[[0, 1], [2, 3]]': 0.561640625, '[[0], [1]]': 0.5209375}, 'Layer3': {'[[0, 1, 2, 3, 4, 5, 6, 7], [8, 9, 10, 11, 12, 13, 14, 15]]': 0.613984375, '[[0, 1], [2, 3]]': 0.62515625, '[[0], [1]]': 0.6325}}, {'accuracy': 0.9999, 'Layer1': {'[[0, 1, 2, 3, 4, 5, 6, 7], [8, 9, 10, 11, 12, 13, 14, 15]]': 0.95109375, '[[0, 1], [2, 3]]': 0.935625, '[[0], [1]]': 0.910859375}, 'Layer2': {'[[0, 1, 2, 3, 4, 5, 6, 7], [8, 9, 10, 11, 12, 13, 14, 15]]': 0.73109375, '[[0, 1], [2, 3]]': 0.693359375, '[[0], [1]]': 0.523046875}, 'Layer3': {'[[0, 1, 2, 3, 4, 5, 6, 7], [8, 9, 10, 11, 12, 13, 14, 15]]': 0.623125, '[[0, 1], [2, 3]]': 0.668125, '[[0], [1]]': 0.6696875}}, {'accuracy': 0.999, 'Layer1': {'[[0, 1, 2, 3, 4, 5, 6, 7], [8, 9, 10, 11, 12, 13, 14, 15]]': 0.941171875, '[[0, 1], [2, 3]]': 0.903984375, '[[0], [1]]': 0.87953125}, 'Layer2': {'[[0, 1, 2, 3, 4, 5, 6, 7], [8, 9, 10, 11, 12, 13, 14, 15]]': 0.68984375, '[[0, 1], [2, 3]]': 0.686484375, '[[0], [1]]': 0.62828125}, 'Layer3': {'[[0, 1, 2, 3, 4, 5, 6, 7], [8, 9, 10, 11, 12, 13, 14, 15]]': 0.595078125, '[[0, 1], [2, 3]]': 0.63203125, '[[0], [1]]': 0.626171875}}, {'accuracy': 0.9968, 'Layer1': {'[[0, 1, 2, 3, 4, 5, 6, 7], [8, 9, 10, 11, 12, 13, 14, 15]]': 0.9278125, '[[0, 1], [2, 3]]': 0.853828125, '[[0], [1]]': 0.633515625}, 'Layer2': {'[[0, 1, 2, 3, 4, 5, 6, 7], [8, 9, 10, 11, 12, 13, 14, 15]]': 0.734453125, '[[0, 1], [2, 3]]': 0.627421875, '[[0], [1]]': 0.673046875}, 'Layer3': {'[[0, 1, 2, 3, 4, 5, 6, 7], [8, 9, 10, 11, 12, 13, 14, 15]]': 0.56921875, '[[0, 1], [2, 3]]': 0.61671875, '[[0], [1]]': 0.622734375}}, {'accuracy': 0.9991, 'Layer1': {'[[0, 1, 2, 3, 4, 5, 6, 7], [8, 9, 10, 11, 12, 13, 14, 15]]': 0.8653125, '[[0, 1], [2, 3]]': 0.791015625, '[[0], [1]]': 0.78640625}, 'Layer2': {'[[0, 1, 2, 3, 4, 5, 6, 7], [8, 9, 10, 11, 12, 13, 14, 15]]': 0.72234375, '[[0, 1], [2, 3]]': 0.686015625}}]\n",
      "Layer2 : [[0], [1]]\n",
      "restructuring\n"
     ]
    },
    {
     "name": "stderr",
     "output_type": "stream",
     "text": [
      "100%|█████████████████████████████████████████████| 1280000/1280000 [00:26<00:00, 47624.91it/s]\n"
     ]
    },
    {
     "name": "stdout",
     "output_type": "stream",
     "text": [
      "restructuring\n"
     ]
    },
    {
     "name": "stderr",
     "output_type": "stream",
     "text": [
      "100%|█████████████████████████████████████████████████| 12800/12800 [00:00<00:00, 34286.95it/s]\n"
     ]
    },
    {
     "name": "stdout",
     "output_type": "stream",
     "text": [
      "[SYST] Prepare Data\n"
     ]
    },
    {
     "name": "stderr",
     "output_type": "stream",
     "text": [
      "100%|█████████████████████████████████████████████| 1280000/1280000 [00:20<00:00, 63947.58it/s]\n"
     ]
    },
    {
     "name": "stdout",
     "output_type": "stream",
     "text": [
      "[SYST] Prepare Data\n"
     ]
    },
    {
     "name": "stderr",
     "output_type": "stream",
     "text": [
      "100%|█████████████████████████████████████████████████| 12800/12800 [00:00<00:00, 18855.62it/s]\n"
     ]
    },
    {
     "name": "stdout",
     "output_type": "stream",
     "text": [
      "[SYST] Epoch 0\n"
     ]
    },
    {
     "name": "stderr",
     "output_type": "stream",
     "text": [
      "100%|████████████████████████████████████████████████████████| 200/200 [00:13<00:00, 14.56it/s]\n"
     ]
    },
    {
     "name": "stdout",
     "output_type": "stream",
     "text": [
      "Epoch 1, Loss: 5.6031137824058534\n",
      "[SYST] Epoch 1\n"
     ]
    },
    {
     "name": "stderr",
     "output_type": "stream",
     "text": [
      "100%|████████████████████████████████████████████████████████| 200/200 [00:14<00:00, 13.94it/s]\n"
     ]
    },
    {
     "name": "stdout",
     "output_type": "stream",
     "text": [
      "Epoch 2, Loss: 4.4404878842830655\n",
      "[SYST] Epoch 2\n"
     ]
    },
    {
     "name": "stderr",
     "output_type": "stream",
     "text": [
      "100%|████████████████████████████████████████████████████████| 200/200 [00:13<00:00, 14.89it/s]\n"
     ]
    },
    {
     "name": "stdout",
     "output_type": "stream",
     "text": [
      "Epoch 3, Loss: 4.112223385572434\n",
      "[SYST] Epoch 3\n"
     ]
    },
    {
     "name": "stderr",
     "output_type": "stream",
     "text": [
      "100%|████████████████████████████████████████████████████████| 200/200 [00:13<00:00, 14.46it/s]\n"
     ]
    },
    {
     "name": "stdout",
     "output_type": "stream",
     "text": [
      "Epoch 4, Loss: 3.9627435994148255\n",
      "[SYST] Epoch 4\n"
     ]
    },
    {
     "name": "stderr",
     "output_type": "stream",
     "text": [
      "100%|████████████████████████████████████████████████████████| 200/200 [00:13<00:00, 14.63it/s]\n"
     ]
    },
    {
     "name": "stdout",
     "output_type": "stream",
     "text": [
      "Epoch 5, Loss: 3.8623994755744935\n",
      "[SYST] Epoch 5\n"
     ]
    },
    {
     "name": "stderr",
     "output_type": "stream",
     "text": [
      "100%|████████████████████████████████████████████████████████| 200/200 [00:13<00:00, 14.83it/s]\n"
     ]
    },
    {
     "name": "stdout",
     "output_type": "stream",
     "text": [
      "Epoch 6, Loss: 3.8131585478782655\n",
      "[SYST] Epoch 6\n"
     ]
    },
    {
     "name": "stderr",
     "output_type": "stream",
     "text": [
      "100%|████████████████████████████████████████████████████████| 200/200 [00:13<00:00, 14.80it/s]\n"
     ]
    },
    {
     "name": "stdout",
     "output_type": "stream",
     "text": [
      "Epoch 7, Loss: 3.7949933981895447\n",
      "[SYST] Epoch 7\n"
     ]
    },
    {
     "name": "stderr",
     "output_type": "stream",
     "text": [
      "100%|████████████████████████████████████████████████████████| 200/200 [00:13<00:00, 14.68it/s]\n"
     ]
    },
    {
     "name": "stdout",
     "output_type": "stream",
     "text": [
      "Epoch 8, Loss: 3.7861552059650423\n",
      "[SYST] Epoch 8\n"
     ]
    },
    {
     "name": "stderr",
     "output_type": "stream",
     "text": [
      "100%|████████████████████████████████████████████████████████| 200/200 [00:13<00:00, 14.76it/s]\n"
     ]
    },
    {
     "name": "stdout",
     "output_type": "stream",
     "text": [
      "Epoch 9, Loss: 3.781027797460556\n",
      "[SYST] Epoch 9\n"
     ]
    },
    {
     "name": "stderr",
     "output_type": "stream",
     "text": [
      "100%|████████████████████████████████████████████████████████| 200/200 [00:13<00:00, 14.75it/s]\n"
     ]
    },
    {
     "name": "stdout",
     "output_type": "stream",
     "text": [
      "Epoch 10, Loss: 3.777937977313995\n",
      "[SYST] Epoch 0\n"
     ]
    },
    {
     "name": "stderr",
     "output_type": "stream",
     "text": [
      "100%|████████████████████████████████████████████████████████████| 2/2 [00:00<00:00, 16.33it/s]\n"
     ]
    },
    {
     "name": "stdout",
     "output_type": "stream",
     "text": [
      "Test Accuracy: 60.14%\n",
      "[{'accuracy': 0.9989, 'Layer1': {'[[0, 1, 2, 3, 4, 5, 6, 7], [8, 9, 10, 11, 12, 13, 14, 15]]': 0.960625, '[[0, 1], [2, 3]]': 0.8984375, '[[0], [1]]': 0.87734375}, 'Layer2': {'[[0, 1, 2, 3, 4, 5, 6, 7], [8, 9, 10, 11, 12, 13, 14, 15]]': 0.633046875, '[[0, 1], [2, 3]]': 0.767265625, '[[0], [1]]': 0.623515625}, 'Layer3': {'[[0, 1, 2, 3, 4, 5, 6, 7], [8, 9, 10, 11, 12, 13, 14, 15]]': 0.562578125, '[[0, 1], [2, 3]]': 0.631953125, '[[0], [1]]': 0.627265625}}, {'accuracy': 0.998, 'Layer1': {'[[0, 1, 2, 3, 4, 5, 6, 7], [8, 9, 10, 11, 12, 13, 14, 15]]': 0.885390625, '[[0, 1], [2, 3]]': 0.808515625, '[[0], [1]]': 0.806796875}, 'Layer2': {'[[0, 1, 2, 3, 4, 5, 6, 7], [8, 9, 10, 11, 12, 13, 14, 15]]': 0.558359375, '[[0, 1], [2, 3]]': 0.547109375, '[[0], [1]]': 0.475}, 'Layer3': {'[[0, 1, 2, 3, 4, 5, 6, 7], [8, 9, 10, 11, 12, 13, 14, 15]]': 0.61296875, '[[0, 1], [2, 3]]': 0.64421875, '[[0], [1]]': 0.6378125}}, {'accuracy': 0.9988, 'Layer1': {'[[0, 1, 2, 3, 4, 5, 6, 7], [8, 9, 10, 11, 12, 13, 14, 15]]': 0.945234375, '[[0, 1], [2, 3]]': 0.87828125, '[[0], [1]]': 0.847109375}, 'Layer2': {'[[0, 1, 2, 3, 4, 5, 6, 7], [8, 9, 10, 11, 12, 13, 14, 15]]': 0.91125, '[[0, 1], [2, 3]]': 0.86890625, '[[0], [1]]': 0.823984375}, 'Layer3': {'[[0, 1, 2, 3, 4, 5, 6, 7], [8, 9, 10, 11, 12, 13, 14, 15]]': 0.6046875, '[[0, 1], [2, 3]]': 0.63546875, '[[0], [1]]': 0.625390625}}, {'accuracy': 0.9989, 'Layer1': {'[[0, 1, 2, 3, 4, 5, 6, 7], [8, 9, 10, 11, 12, 13, 14, 15]]': 0.892734375, '[[0, 1], [2, 3]]': 0.8578125, '[[0], [1]]': 0.835078125}, 'Layer2': {'[[0, 1, 2, 3, 4, 5, 6, 7], [8, 9, 10, 11, 12, 13, 14, 15]]': 0.65078125, '[[0, 1], [2, 3]]': 0.619921875, '[[0], [1]]': 0.60828125}, 'Layer3': {'[[0, 1, 2, 3, 4, 5, 6, 7], [8, 9, 10, 11, 12, 13, 14, 15]]': 0.631171875, '[[0, 1], [2, 3]]': 0.664609375, '[[0], [1]]': 0.66453125}}, {'accuracy': 0.9974, 'Layer1': {'[[0, 1, 2, 3, 4, 5, 6, 7], [8, 9, 10, 11, 12, 13, 14, 15]]': 0.946875, '[[0, 1], [2, 3]]': 0.8821875, '[[0], [1]]': 0.55375}, 'Layer2': {'[[0, 1, 2, 3, 4, 5, 6, 7], [8, 9, 10, 11, 12, 13, 14, 15]]': 0.68890625, '[[0, 1], [2, 3]]': 0.561640625, '[[0], [1]]': 0.5209375}, 'Layer3': {'[[0, 1, 2, 3, 4, 5, 6, 7], [8, 9, 10, 11, 12, 13, 14, 15]]': 0.613984375, '[[0, 1], [2, 3]]': 0.62515625, '[[0], [1]]': 0.6325}}, {'accuracy': 0.9999, 'Layer1': {'[[0, 1, 2, 3, 4, 5, 6, 7], [8, 9, 10, 11, 12, 13, 14, 15]]': 0.95109375, '[[0, 1], [2, 3]]': 0.935625, '[[0], [1]]': 0.910859375}, 'Layer2': {'[[0, 1, 2, 3, 4, 5, 6, 7], [8, 9, 10, 11, 12, 13, 14, 15]]': 0.73109375, '[[0, 1], [2, 3]]': 0.693359375, '[[0], [1]]': 0.523046875}, 'Layer3': {'[[0, 1, 2, 3, 4, 5, 6, 7], [8, 9, 10, 11, 12, 13, 14, 15]]': 0.623125, '[[0, 1], [2, 3]]': 0.668125, '[[0], [1]]': 0.6696875}}, {'accuracy': 0.999, 'Layer1': {'[[0, 1, 2, 3, 4, 5, 6, 7], [8, 9, 10, 11, 12, 13, 14, 15]]': 0.941171875, '[[0, 1], [2, 3]]': 0.903984375, '[[0], [1]]': 0.87953125}, 'Layer2': {'[[0, 1, 2, 3, 4, 5, 6, 7], [8, 9, 10, 11, 12, 13, 14, 15]]': 0.68984375, '[[0, 1], [2, 3]]': 0.686484375, '[[0], [1]]': 0.62828125}, 'Layer3': {'[[0, 1, 2, 3, 4, 5, 6, 7], [8, 9, 10, 11, 12, 13, 14, 15]]': 0.595078125, '[[0, 1], [2, 3]]': 0.63203125, '[[0], [1]]': 0.626171875}}, {'accuracy': 0.9968, 'Layer1': {'[[0, 1, 2, 3, 4, 5, 6, 7], [8, 9, 10, 11, 12, 13, 14, 15]]': 0.9278125, '[[0, 1], [2, 3]]': 0.853828125, '[[0], [1]]': 0.633515625}, 'Layer2': {'[[0, 1, 2, 3, 4, 5, 6, 7], [8, 9, 10, 11, 12, 13, 14, 15]]': 0.734453125, '[[0, 1], [2, 3]]': 0.627421875, '[[0], [1]]': 0.673046875}, 'Layer3': {'[[0, 1, 2, 3, 4, 5, 6, 7], [8, 9, 10, 11, 12, 13, 14, 15]]': 0.56921875, '[[0, 1], [2, 3]]': 0.61671875, '[[0], [1]]': 0.622734375}}, {'accuracy': 0.9991, 'Layer1': {'[[0, 1, 2, 3, 4, 5, 6, 7], [8, 9, 10, 11, 12, 13, 14, 15]]': 0.8653125, '[[0, 1], [2, 3]]': 0.791015625, '[[0], [1]]': 0.78640625}, 'Layer2': {'[[0, 1, 2, 3, 4, 5, 6, 7], [8, 9, 10, 11, 12, 13, 14, 15]]': 0.72234375, '[[0, 1], [2, 3]]': 0.686015625, '[[0], [1]]': 0.60140625}}]\n",
      "Layer3 : [[0, 1, 2, 3, 4, 5, 6, 7], [8, 9, 10, 11, 12, 13, 14, 15]]\n",
      "restructuring\n"
     ]
    },
    {
     "name": "stderr",
     "output_type": "stream",
     "text": [
      "100%|█████████████████████████████████████████████| 1280000/1280000 [00:27<00:00, 47341.35it/s]\n"
     ]
    },
    {
     "name": "stdout",
     "output_type": "stream",
     "text": [
      "restructuring\n"
     ]
    },
    {
     "name": "stderr",
     "output_type": "stream",
     "text": [
      "100%|█████████████████████████████████████████████████| 12800/12800 [00:00<00:00, 33723.85it/s]\n"
     ]
    },
    {
     "name": "stdout",
     "output_type": "stream",
     "text": [
      "[SYST] Prepare Data\n"
     ]
    },
    {
     "name": "stderr",
     "output_type": "stream",
     "text": [
      "100%|█████████████████████████████████████████████| 1280000/1280000 [00:14<00:00, 89737.32it/s]\n"
     ]
    },
    {
     "name": "stdout",
     "output_type": "stream",
     "text": [
      "[SYST] Prepare Data\n"
     ]
    },
    {
     "name": "stderr",
     "output_type": "stream",
     "text": [
      "100%|█████████████████████████████████████████████████| 12800/12800 [00:00<00:00, 18332.24it/s]\n"
     ]
    },
    {
     "name": "stdout",
     "output_type": "stream",
     "text": [
      "[SYST] Epoch 0\n"
     ]
    },
    {
     "name": "stderr",
     "output_type": "stream",
     "text": [
      "100%|████████████████████████████████████████████████████████| 200/200 [00:13<00:00, 14.91it/s]\n"
     ]
    },
    {
     "name": "stdout",
     "output_type": "stream",
     "text": [
      "Epoch 1, Loss: 4.303684914112091\n",
      "[SYST] Epoch 1\n"
     ]
    },
    {
     "name": "stderr",
     "output_type": "stream",
     "text": [
      "100%|████████████████████████████████████████████████████████| 200/200 [00:13<00:00, 14.98it/s]\n"
     ]
    },
    {
     "name": "stdout",
     "output_type": "stream",
     "text": [
      "Epoch 2, Loss: 4.271114649772644\n",
      "[SYST] Epoch 2\n"
     ]
    },
    {
     "name": "stderr",
     "output_type": "stream",
     "text": [
      "100%|████████████████████████████████████████████████████████| 200/200 [00:13<00:00, 14.60it/s]\n"
     ]
    },
    {
     "name": "stdout",
     "output_type": "stream",
     "text": [
      "Epoch 3, Loss: 4.266950540542602\n",
      "[SYST] Epoch 3\n"
     ]
    },
    {
     "name": "stderr",
     "output_type": "stream",
     "text": [
      "100%|████████████████████████████████████████████████████████| 200/200 [00:14<00:00, 14.25it/s]\n"
     ]
    },
    {
     "name": "stdout",
     "output_type": "stream",
     "text": [
      "Epoch 4, Loss: 4.2655190348625185\n",
      "[SYST] Epoch 4\n"
     ]
    },
    {
     "name": "stderr",
     "output_type": "stream",
     "text": [
      "100%|████████████████████████████████████████████████████████| 200/200 [00:13<00:00, 14.76it/s]\n"
     ]
    },
    {
     "name": "stdout",
     "output_type": "stream",
     "text": [
      "Epoch 5, Loss: 4.264351789951324\n",
      "[SYST] Epoch 5\n"
     ]
    },
    {
     "name": "stderr",
     "output_type": "stream",
     "text": [
      "100%|████████████████████████████████████████████████████████| 200/200 [00:13<00:00, 14.72it/s]\n"
     ]
    },
    {
     "name": "stdout",
     "output_type": "stream",
     "text": [
      "Epoch 6, Loss: 4.264053878784179\n",
      "[SYST] Epoch 6\n"
     ]
    },
    {
     "name": "stderr",
     "output_type": "stream",
     "text": [
      "100%|████████████████████████████████████████████████████████| 200/200 [00:13<00:00, 14.47it/s]\n"
     ]
    },
    {
     "name": "stdout",
     "output_type": "stream",
     "text": [
      "Epoch 7, Loss: 4.263958642482757\n",
      "[SYST] Epoch 7\n"
     ]
    },
    {
     "name": "stderr",
     "output_type": "stream",
     "text": [
      "100%|████████████████████████████████████████████████████████| 200/200 [00:13<00:00, 14.75it/s]\n"
     ]
    },
    {
     "name": "stdout",
     "output_type": "stream",
     "text": [
      "Epoch 8, Loss: 4.2634930682182315\n",
      "[SYST] Epoch 8\n"
     ]
    },
    {
     "name": "stderr",
     "output_type": "stream",
     "text": [
      "100%|████████████████████████████████████████████████████████| 200/200 [00:13<00:00, 14.77it/s]\n"
     ]
    },
    {
     "name": "stdout",
     "output_type": "stream",
     "text": [
      "Epoch 9, Loss: 4.26324247598648\n",
      "[SYST] Epoch 9\n"
     ]
    },
    {
     "name": "stderr",
     "output_type": "stream",
     "text": [
      "100%|████████████████████████████████████████████████████████| 200/200 [00:13<00:00, 14.78it/s]\n"
     ]
    },
    {
     "name": "stdout",
     "output_type": "stream",
     "text": [
      "Epoch 10, Loss: 4.263095247745514\n",
      "[SYST] Epoch 0\n"
     ]
    },
    {
     "name": "stderr",
     "output_type": "stream",
     "text": [
      "100%|████████████████████████████████████████████████████████████| 2/2 [00:00<00:00, 16.15it/s]\n"
     ]
    },
    {
     "name": "stdout",
     "output_type": "stream",
     "text": [
      "Test Accuracy: 63.18%\n",
      "[{'accuracy': 0.9989, 'Layer1': {'[[0, 1, 2, 3, 4, 5, 6, 7], [8, 9, 10, 11, 12, 13, 14, 15]]': 0.960625, '[[0, 1], [2, 3]]': 0.8984375, '[[0], [1]]': 0.87734375}, 'Layer2': {'[[0, 1, 2, 3, 4, 5, 6, 7], [8, 9, 10, 11, 12, 13, 14, 15]]': 0.633046875, '[[0, 1], [2, 3]]': 0.767265625, '[[0], [1]]': 0.623515625}, 'Layer3': {'[[0, 1, 2, 3, 4, 5, 6, 7], [8, 9, 10, 11, 12, 13, 14, 15]]': 0.562578125, '[[0, 1], [2, 3]]': 0.631953125, '[[0], [1]]': 0.627265625}}, {'accuracy': 0.998, 'Layer1': {'[[0, 1, 2, 3, 4, 5, 6, 7], [8, 9, 10, 11, 12, 13, 14, 15]]': 0.885390625, '[[0, 1], [2, 3]]': 0.808515625, '[[0], [1]]': 0.806796875}, 'Layer2': {'[[0, 1, 2, 3, 4, 5, 6, 7], [8, 9, 10, 11, 12, 13, 14, 15]]': 0.558359375, '[[0, 1], [2, 3]]': 0.547109375, '[[0], [1]]': 0.475}, 'Layer3': {'[[0, 1, 2, 3, 4, 5, 6, 7], [8, 9, 10, 11, 12, 13, 14, 15]]': 0.61296875, '[[0, 1], [2, 3]]': 0.64421875, '[[0], [1]]': 0.6378125}}, {'accuracy': 0.9988, 'Layer1': {'[[0, 1, 2, 3, 4, 5, 6, 7], [8, 9, 10, 11, 12, 13, 14, 15]]': 0.945234375, '[[0, 1], [2, 3]]': 0.87828125, '[[0], [1]]': 0.847109375}, 'Layer2': {'[[0, 1, 2, 3, 4, 5, 6, 7], [8, 9, 10, 11, 12, 13, 14, 15]]': 0.91125, '[[0, 1], [2, 3]]': 0.86890625, '[[0], [1]]': 0.823984375}, 'Layer3': {'[[0, 1, 2, 3, 4, 5, 6, 7], [8, 9, 10, 11, 12, 13, 14, 15]]': 0.6046875, '[[0, 1], [2, 3]]': 0.63546875, '[[0], [1]]': 0.625390625}}, {'accuracy': 0.9989, 'Layer1': {'[[0, 1, 2, 3, 4, 5, 6, 7], [8, 9, 10, 11, 12, 13, 14, 15]]': 0.892734375, '[[0, 1], [2, 3]]': 0.8578125, '[[0], [1]]': 0.835078125}, 'Layer2': {'[[0, 1, 2, 3, 4, 5, 6, 7], [8, 9, 10, 11, 12, 13, 14, 15]]': 0.65078125, '[[0, 1], [2, 3]]': 0.619921875, '[[0], [1]]': 0.60828125}, 'Layer3': {'[[0, 1, 2, 3, 4, 5, 6, 7], [8, 9, 10, 11, 12, 13, 14, 15]]': 0.631171875, '[[0, 1], [2, 3]]': 0.664609375, '[[0], [1]]': 0.66453125}}, {'accuracy': 0.9974, 'Layer1': {'[[0, 1, 2, 3, 4, 5, 6, 7], [8, 9, 10, 11, 12, 13, 14, 15]]': 0.946875, '[[0, 1], [2, 3]]': 0.8821875, '[[0], [1]]': 0.55375}, 'Layer2': {'[[0, 1, 2, 3, 4, 5, 6, 7], [8, 9, 10, 11, 12, 13, 14, 15]]': 0.68890625, '[[0, 1], [2, 3]]': 0.561640625, '[[0], [1]]': 0.5209375}, 'Layer3': {'[[0, 1, 2, 3, 4, 5, 6, 7], [8, 9, 10, 11, 12, 13, 14, 15]]': 0.613984375, '[[0, 1], [2, 3]]': 0.62515625, '[[0], [1]]': 0.6325}}, {'accuracy': 0.9999, 'Layer1': {'[[0, 1, 2, 3, 4, 5, 6, 7], [8, 9, 10, 11, 12, 13, 14, 15]]': 0.95109375, '[[0, 1], [2, 3]]': 0.935625, '[[0], [1]]': 0.910859375}, 'Layer2': {'[[0, 1, 2, 3, 4, 5, 6, 7], [8, 9, 10, 11, 12, 13, 14, 15]]': 0.73109375, '[[0, 1], [2, 3]]': 0.693359375, '[[0], [1]]': 0.523046875}, 'Layer3': {'[[0, 1, 2, 3, 4, 5, 6, 7], [8, 9, 10, 11, 12, 13, 14, 15]]': 0.623125, '[[0, 1], [2, 3]]': 0.668125, '[[0], [1]]': 0.6696875}}, {'accuracy': 0.999, 'Layer1': {'[[0, 1, 2, 3, 4, 5, 6, 7], [8, 9, 10, 11, 12, 13, 14, 15]]': 0.941171875, '[[0, 1], [2, 3]]': 0.903984375, '[[0], [1]]': 0.87953125}, 'Layer2': {'[[0, 1, 2, 3, 4, 5, 6, 7], [8, 9, 10, 11, 12, 13, 14, 15]]': 0.68984375, '[[0, 1], [2, 3]]': 0.686484375, '[[0], [1]]': 0.62828125}, 'Layer3': {'[[0, 1, 2, 3, 4, 5, 6, 7], [8, 9, 10, 11, 12, 13, 14, 15]]': 0.595078125, '[[0, 1], [2, 3]]': 0.63203125, '[[0], [1]]': 0.626171875}}, {'accuracy': 0.9968, 'Layer1': {'[[0, 1, 2, 3, 4, 5, 6, 7], [8, 9, 10, 11, 12, 13, 14, 15]]': 0.9278125, '[[0, 1], [2, 3]]': 0.853828125, '[[0], [1]]': 0.633515625}, 'Layer2': {'[[0, 1, 2, 3, 4, 5, 6, 7], [8, 9, 10, 11, 12, 13, 14, 15]]': 0.734453125, '[[0, 1], [2, 3]]': 0.627421875, '[[0], [1]]': 0.673046875}, 'Layer3': {'[[0, 1, 2, 3, 4, 5, 6, 7], [8, 9, 10, 11, 12, 13, 14, 15]]': 0.56921875, '[[0, 1], [2, 3]]': 0.61671875, '[[0], [1]]': 0.622734375}}, {'accuracy': 0.9991, 'Layer1': {'[[0, 1, 2, 3, 4, 5, 6, 7], [8, 9, 10, 11, 12, 13, 14, 15]]': 0.8653125, '[[0, 1], [2, 3]]': 0.791015625, '[[0], [1]]': 0.78640625}, 'Layer2': {'[[0, 1, 2, 3, 4, 5, 6, 7], [8, 9, 10, 11, 12, 13, 14, 15]]': 0.72234375, '[[0, 1], [2, 3]]': 0.686015625, '[[0], [1]]': 0.60140625}, 'Layer3': {'[[0, 1, 2, 3, 4, 5, 6, 7], [8, 9, 10, 11, 12, 13, 14, 15]]': 0.631796875}}]\n",
      "Layer3 : [[0, 1], [2, 3]]\n",
      "restructuring\n"
     ]
    },
    {
     "name": "stderr",
     "output_type": "stream",
     "text": [
      "100%|█████████████████████████████████████████████| 1280000/1280000 [00:27<00:00, 47313.05it/s]\n"
     ]
    },
    {
     "name": "stdout",
     "output_type": "stream",
     "text": [
      "restructuring\n"
     ]
    },
    {
     "name": "stderr",
     "output_type": "stream",
     "text": [
      "100%|█████████████████████████████████████████████████| 12800/12800 [00:00<00:00, 33615.59it/s]\n"
     ]
    },
    {
     "name": "stdout",
     "output_type": "stream",
     "text": [
      "[SYST] Prepare Data\n"
     ]
    },
    {
     "name": "stderr",
     "output_type": "stream",
     "text": [
      "100%|█████████████████████████████████████████████| 1280000/1280000 [00:20<00:00, 63973.74it/s]\n"
     ]
    },
    {
     "name": "stdout",
     "output_type": "stream",
     "text": [
      "[SYST] Prepare Data\n"
     ]
    },
    {
     "name": "stderr",
     "output_type": "stream",
     "text": [
      "100%|█████████████████████████████████████████████████| 12800/12800 [00:00<00:00, 18560.41it/s]\n"
     ]
    },
    {
     "name": "stdout",
     "output_type": "stream",
     "text": [
      "[SYST] Epoch 0\n"
     ]
    },
    {
     "name": "stderr",
     "output_type": "stream",
     "text": [
      "100%|████████████████████████████████████████████████████████| 200/200 [00:14<00:00, 14.19it/s]\n"
     ]
    },
    {
     "name": "stdout",
     "output_type": "stream",
     "text": [
      "Epoch 1, Loss: 4.48150497674942\n",
      "[SYST] Epoch 1\n"
     ]
    },
    {
     "name": "stderr",
     "output_type": "stream",
     "text": [
      "100%|████████████████████████████████████████████████████████| 200/200 [00:13<00:00, 14.83it/s]\n"
     ]
    },
    {
     "name": "stdout",
     "output_type": "stream",
     "text": [
      "Epoch 2, Loss: 4.163201667070389\n",
      "[SYST] Epoch 2\n"
     ]
    },
    {
     "name": "stderr",
     "output_type": "stream",
     "text": [
      "100%|████████████████████████████████████████████████████████| 200/200 [00:13<00:00, 14.58it/s]\n"
     ]
    },
    {
     "name": "stdout",
     "output_type": "stream",
     "text": [
      "Epoch 3, Loss: 4.150744303464889\n",
      "[SYST] Epoch 3\n"
     ]
    },
    {
     "name": "stderr",
     "output_type": "stream",
     "text": [
      "100%|████████████████████████████████████████████████████████| 200/200 [00:13<00:00, 14.69it/s]\n"
     ]
    },
    {
     "name": "stdout",
     "output_type": "stream",
     "text": [
      "Epoch 4, Loss: 4.144394428730011\n",
      "[SYST] Epoch 4\n"
     ]
    },
    {
     "name": "stderr",
     "output_type": "stream",
     "text": [
      "100%|████████████████████████████████████████████████████████| 200/200 [00:14<00:00, 13.99it/s]\n"
     ]
    },
    {
     "name": "stdout",
     "output_type": "stream",
     "text": [
      "Epoch 5, Loss: 4.141000913381577\n",
      "[SYST] Epoch 5\n"
     ]
    },
    {
     "name": "stderr",
     "output_type": "stream",
     "text": [
      "100%|████████████████████████████████████████████████████████| 200/200 [00:13<00:00, 14.35it/s]\n"
     ]
    },
    {
     "name": "stdout",
     "output_type": "stream",
     "text": [
      "Epoch 6, Loss: 4.13951166510582\n",
      "[SYST] Epoch 6\n"
     ]
    },
    {
     "name": "stderr",
     "output_type": "stream",
     "text": [
      "100%|████████████████████████████████████████████████████████| 200/200 [00:13<00:00, 14.70it/s]\n"
     ]
    },
    {
     "name": "stdout",
     "output_type": "stream",
     "text": [
      "Epoch 7, Loss: 4.138392908573151\n",
      "[SYST] Epoch 7\n"
     ]
    },
    {
     "name": "stderr",
     "output_type": "stream",
     "text": [
      "100%|████████████████████████████████████████████████████████| 200/200 [00:13<00:00, 14.71it/s]\n"
     ]
    },
    {
     "name": "stdout",
     "output_type": "stream",
     "text": [
      "Epoch 8, Loss: 4.137834266424179\n",
      "[SYST] Epoch 8\n"
     ]
    },
    {
     "name": "stderr",
     "output_type": "stream",
     "text": [
      "100%|████████████████████████████████████████████████████████| 200/200 [00:13<00:00, 14.75it/s]\n"
     ]
    },
    {
     "name": "stdout",
     "output_type": "stream",
     "text": [
      "Epoch 9, Loss: 4.137444988489151\n",
      "[SYST] Epoch 9\n"
     ]
    },
    {
     "name": "stderr",
     "output_type": "stream",
     "text": [
      "100%|████████████████████████████████████████████████████████| 200/200 [00:13<00:00, 14.88it/s]\n"
     ]
    },
    {
     "name": "stdout",
     "output_type": "stream",
     "text": [
      "Epoch 10, Loss: 4.137505552768707\n",
      "[SYST] Epoch 0\n"
     ]
    },
    {
     "name": "stderr",
     "output_type": "stream",
     "text": [
      "100%|████████████████████████████████████████████████████████████| 2/2 [00:00<00:00, 16.29it/s]\n"
     ]
    },
    {
     "name": "stdout",
     "output_type": "stream",
     "text": [
      "Test Accuracy: 67.02%\n",
      "[{'accuracy': 0.9989, 'Layer1': {'[[0, 1, 2, 3, 4, 5, 6, 7], [8, 9, 10, 11, 12, 13, 14, 15]]': 0.960625, '[[0, 1], [2, 3]]': 0.8984375, '[[0], [1]]': 0.87734375}, 'Layer2': {'[[0, 1, 2, 3, 4, 5, 6, 7], [8, 9, 10, 11, 12, 13, 14, 15]]': 0.633046875, '[[0, 1], [2, 3]]': 0.767265625, '[[0], [1]]': 0.623515625}, 'Layer3': {'[[0, 1, 2, 3, 4, 5, 6, 7], [8, 9, 10, 11, 12, 13, 14, 15]]': 0.562578125, '[[0, 1], [2, 3]]': 0.631953125, '[[0], [1]]': 0.627265625}}, {'accuracy': 0.998, 'Layer1': {'[[0, 1, 2, 3, 4, 5, 6, 7], [8, 9, 10, 11, 12, 13, 14, 15]]': 0.885390625, '[[0, 1], [2, 3]]': 0.808515625, '[[0], [1]]': 0.806796875}, 'Layer2': {'[[0, 1, 2, 3, 4, 5, 6, 7], [8, 9, 10, 11, 12, 13, 14, 15]]': 0.558359375, '[[0, 1], [2, 3]]': 0.547109375, '[[0], [1]]': 0.475}, 'Layer3': {'[[0, 1, 2, 3, 4, 5, 6, 7], [8, 9, 10, 11, 12, 13, 14, 15]]': 0.61296875, '[[0, 1], [2, 3]]': 0.64421875, '[[0], [1]]': 0.6378125}}, {'accuracy': 0.9988, 'Layer1': {'[[0, 1, 2, 3, 4, 5, 6, 7], [8, 9, 10, 11, 12, 13, 14, 15]]': 0.945234375, '[[0, 1], [2, 3]]': 0.87828125, '[[0], [1]]': 0.847109375}, 'Layer2': {'[[0, 1, 2, 3, 4, 5, 6, 7], [8, 9, 10, 11, 12, 13, 14, 15]]': 0.91125, '[[0, 1], [2, 3]]': 0.86890625, '[[0], [1]]': 0.823984375}, 'Layer3': {'[[0, 1, 2, 3, 4, 5, 6, 7], [8, 9, 10, 11, 12, 13, 14, 15]]': 0.6046875, '[[0, 1], [2, 3]]': 0.63546875, '[[0], [1]]': 0.625390625}}, {'accuracy': 0.9989, 'Layer1': {'[[0, 1, 2, 3, 4, 5, 6, 7], [8, 9, 10, 11, 12, 13, 14, 15]]': 0.892734375, '[[0, 1], [2, 3]]': 0.8578125, '[[0], [1]]': 0.835078125}, 'Layer2': {'[[0, 1, 2, 3, 4, 5, 6, 7], [8, 9, 10, 11, 12, 13, 14, 15]]': 0.65078125, '[[0, 1], [2, 3]]': 0.619921875, '[[0], [1]]': 0.60828125}, 'Layer3': {'[[0, 1, 2, 3, 4, 5, 6, 7], [8, 9, 10, 11, 12, 13, 14, 15]]': 0.631171875, '[[0, 1], [2, 3]]': 0.664609375, '[[0], [1]]': 0.66453125}}, {'accuracy': 0.9974, 'Layer1': {'[[0, 1, 2, 3, 4, 5, 6, 7], [8, 9, 10, 11, 12, 13, 14, 15]]': 0.946875, '[[0, 1], [2, 3]]': 0.8821875, '[[0], [1]]': 0.55375}, 'Layer2': {'[[0, 1, 2, 3, 4, 5, 6, 7], [8, 9, 10, 11, 12, 13, 14, 15]]': 0.68890625, '[[0, 1], [2, 3]]': 0.561640625, '[[0], [1]]': 0.5209375}, 'Layer3': {'[[0, 1, 2, 3, 4, 5, 6, 7], [8, 9, 10, 11, 12, 13, 14, 15]]': 0.613984375, '[[0, 1], [2, 3]]': 0.62515625, '[[0], [1]]': 0.6325}}, {'accuracy': 0.9999, 'Layer1': {'[[0, 1, 2, 3, 4, 5, 6, 7], [8, 9, 10, 11, 12, 13, 14, 15]]': 0.95109375, '[[0, 1], [2, 3]]': 0.935625, '[[0], [1]]': 0.910859375}, 'Layer2': {'[[0, 1, 2, 3, 4, 5, 6, 7], [8, 9, 10, 11, 12, 13, 14, 15]]': 0.73109375, '[[0, 1], [2, 3]]': 0.693359375, '[[0], [1]]': 0.523046875}, 'Layer3': {'[[0, 1, 2, 3, 4, 5, 6, 7], [8, 9, 10, 11, 12, 13, 14, 15]]': 0.623125, '[[0, 1], [2, 3]]': 0.668125, '[[0], [1]]': 0.6696875}}, {'accuracy': 0.999, 'Layer1': {'[[0, 1, 2, 3, 4, 5, 6, 7], [8, 9, 10, 11, 12, 13, 14, 15]]': 0.941171875, '[[0, 1], [2, 3]]': 0.903984375, '[[0], [1]]': 0.87953125}, 'Layer2': {'[[0, 1, 2, 3, 4, 5, 6, 7], [8, 9, 10, 11, 12, 13, 14, 15]]': 0.68984375, '[[0, 1], [2, 3]]': 0.686484375, '[[0], [1]]': 0.62828125}, 'Layer3': {'[[0, 1, 2, 3, 4, 5, 6, 7], [8, 9, 10, 11, 12, 13, 14, 15]]': 0.595078125, '[[0, 1], [2, 3]]': 0.63203125, '[[0], [1]]': 0.626171875}}, {'accuracy': 0.9968, 'Layer1': {'[[0, 1, 2, 3, 4, 5, 6, 7], [8, 9, 10, 11, 12, 13, 14, 15]]': 0.9278125, '[[0, 1], [2, 3]]': 0.853828125, '[[0], [1]]': 0.633515625}, 'Layer2': {'[[0, 1, 2, 3, 4, 5, 6, 7], [8, 9, 10, 11, 12, 13, 14, 15]]': 0.734453125, '[[0, 1], [2, 3]]': 0.627421875, '[[0], [1]]': 0.673046875}, 'Layer3': {'[[0, 1, 2, 3, 4, 5, 6, 7], [8, 9, 10, 11, 12, 13, 14, 15]]': 0.56921875, '[[0, 1], [2, 3]]': 0.61671875, '[[0], [1]]': 0.622734375}}, {'accuracy': 0.9991, 'Layer1': {'[[0, 1, 2, 3, 4, 5, 6, 7], [8, 9, 10, 11, 12, 13, 14, 15]]': 0.8653125, '[[0, 1], [2, 3]]': 0.791015625, '[[0], [1]]': 0.78640625}, 'Layer2': {'[[0, 1, 2, 3, 4, 5, 6, 7], [8, 9, 10, 11, 12, 13, 14, 15]]': 0.72234375, '[[0, 1], [2, 3]]': 0.686015625, '[[0], [1]]': 0.60140625}, 'Layer3': {'[[0, 1, 2, 3, 4, 5, 6, 7], [8, 9, 10, 11, 12, 13, 14, 15]]': 0.631796875, '[[0, 1], [2, 3]]': 0.67015625}}]\n",
      "Layer3 : [[0], [1]]\n",
      "restructuring\n"
     ]
    },
    {
     "name": "stderr",
     "output_type": "stream",
     "text": [
      "100%|█████████████████████████████████████████████| 1280000/1280000 [00:26<00:00, 47570.22it/s]\n"
     ]
    },
    {
     "name": "stdout",
     "output_type": "stream",
     "text": [
      "restructuring\n"
     ]
    },
    {
     "name": "stderr",
     "output_type": "stream",
     "text": [
      "100%|█████████████████████████████████████████████████| 12800/12800 [00:00<00:00, 33910.41it/s]\n"
     ]
    },
    {
     "name": "stdout",
     "output_type": "stream",
     "text": [
      "[SYST] Prepare Data\n"
     ]
    },
    {
     "name": "stderr",
     "output_type": "stream",
     "text": [
      "100%|█████████████████████████████████████████████| 1280000/1280000 [00:20<00:00, 63329.87it/s]\n"
     ]
    },
    {
     "name": "stdout",
     "output_type": "stream",
     "text": [
      "[SYST] Prepare Data\n"
     ]
    },
    {
     "name": "stderr",
     "output_type": "stream",
     "text": [
      "100%|█████████████████████████████████████████████████| 12800/12800 [00:00<00:00, 18930.11it/s]\n"
     ]
    },
    {
     "name": "stdout",
     "output_type": "stream",
     "text": [
      "[SYST] Epoch 0\n"
     ]
    },
    {
     "name": "stderr",
     "output_type": "stream",
     "text": [
      "100%|████████████████████████████████████████████████████████| 200/200 [00:13<00:00, 14.89it/s]\n"
     ]
    },
    {
     "name": "stdout",
     "output_type": "stream",
     "text": [
      "Epoch 1, Loss: 4.59417240858078\n",
      "[SYST] Epoch 1\n"
     ]
    },
    {
     "name": "stderr",
     "output_type": "stream",
     "text": [
      "100%|████████████████████████████████████████████████████████| 200/200 [00:13<00:00, 14.45it/s]\n"
     ]
    },
    {
     "name": "stdout",
     "output_type": "stream",
     "text": [
      "Epoch 2, Loss: 4.158325095176696\n",
      "[SYST] Epoch 2\n"
     ]
    },
    {
     "name": "stderr",
     "output_type": "stream",
     "text": [
      "100%|████████████████████████████████████████████████████████| 200/200 [00:13<00:00, 14.79it/s]\n"
     ]
    },
    {
     "name": "stdout",
     "output_type": "stream",
     "text": [
      "Epoch 3, Loss: 4.145305968523026\n",
      "[SYST] Epoch 3\n"
     ]
    },
    {
     "name": "stderr",
     "output_type": "stream",
     "text": [
      "100%|████████████████████████████████████████████████████████| 200/200 [00:13<00:00, 14.88it/s]\n"
     ]
    },
    {
     "name": "stdout",
     "output_type": "stream",
     "text": [
      "Epoch 4, Loss: 4.141949756145477\n",
      "[SYST] Epoch 4\n"
     ]
    },
    {
     "name": "stderr",
     "output_type": "stream",
     "text": [
      "100%|████████████████████████████████████████████████████████| 200/200 [00:13<00:00, 14.48it/s]\n"
     ]
    },
    {
     "name": "stdout",
     "output_type": "stream",
     "text": [
      "Epoch 5, Loss: 4.140351451635361\n",
      "[SYST] Epoch 5\n"
     ]
    },
    {
     "name": "stderr",
     "output_type": "stream",
     "text": [
      "100%|████████████████████████████████████████████████████████| 200/200 [00:14<00:00, 13.46it/s]\n"
     ]
    },
    {
     "name": "stdout",
     "output_type": "stream",
     "text": [
      "Epoch 6, Loss: 4.139519844055176\n",
      "[SYST] Epoch 6\n"
     ]
    },
    {
     "name": "stderr",
     "output_type": "stream",
     "text": [
      "100%|████████████████████████████████████████████████████████| 200/200 [00:13<00:00, 14.89it/s]\n"
     ]
    },
    {
     "name": "stdout",
     "output_type": "stream",
     "text": [
      "Epoch 7, Loss: 4.138868572711945\n",
      "[SYST] Epoch 7\n"
     ]
    },
    {
     "name": "stderr",
     "output_type": "stream",
     "text": [
      "100%|████████████████████████████████████████████████████████| 200/200 [00:13<00:00, 14.70it/s]\n"
     ]
    },
    {
     "name": "stdout",
     "output_type": "stream",
     "text": [
      "Epoch 8, Loss: 4.138428897857666\n",
      "[SYST] Epoch 8\n"
     ]
    },
    {
     "name": "stderr",
     "output_type": "stream",
     "text": [
      "100%|████████████████████████████████████████████████████████| 200/200 [00:14<00:00, 13.52it/s]\n"
     ]
    },
    {
     "name": "stdout",
     "output_type": "stream",
     "text": [
      "Epoch 9, Loss: 4.138164592981338\n",
      "[SYST] Epoch 9\n"
     ]
    },
    {
     "name": "stderr",
     "output_type": "stream",
     "text": [
      "100%|████████████████████████████████████████████████████████| 200/200 [00:13<00:00, 14.70it/s]\n"
     ]
    },
    {
     "name": "stdout",
     "output_type": "stream",
     "text": [
      "Epoch 10, Loss: 4.1378262269496915\n",
      "[SYST] Epoch 0\n"
     ]
    },
    {
     "name": "stderr",
     "output_type": "stream",
     "text": [
      "100%|████████████████████████████████████████████████████████████| 2/2 [00:00<00:00, 16.34it/s]\n"
     ]
    },
    {
     "name": "stdout",
     "output_type": "stream",
     "text": [
      "Test Accuracy: 67.08%\n",
      "[{'accuracy': 0.9989, 'Layer1': {'[[0, 1, 2, 3, 4, 5, 6, 7], [8, 9, 10, 11, 12, 13, 14, 15]]': 0.960625, '[[0, 1], [2, 3]]': 0.8984375, '[[0], [1]]': 0.87734375}, 'Layer2': {'[[0, 1, 2, 3, 4, 5, 6, 7], [8, 9, 10, 11, 12, 13, 14, 15]]': 0.633046875, '[[0, 1], [2, 3]]': 0.767265625, '[[0], [1]]': 0.623515625}, 'Layer3': {'[[0, 1, 2, 3, 4, 5, 6, 7], [8, 9, 10, 11, 12, 13, 14, 15]]': 0.562578125, '[[0, 1], [2, 3]]': 0.631953125, '[[0], [1]]': 0.627265625}}, {'accuracy': 0.998, 'Layer1': {'[[0, 1, 2, 3, 4, 5, 6, 7], [8, 9, 10, 11, 12, 13, 14, 15]]': 0.885390625, '[[0, 1], [2, 3]]': 0.808515625, '[[0], [1]]': 0.806796875}, 'Layer2': {'[[0, 1, 2, 3, 4, 5, 6, 7], [8, 9, 10, 11, 12, 13, 14, 15]]': 0.558359375, '[[0, 1], [2, 3]]': 0.547109375, '[[0], [1]]': 0.475}, 'Layer3': {'[[0, 1, 2, 3, 4, 5, 6, 7], [8, 9, 10, 11, 12, 13, 14, 15]]': 0.61296875, '[[0, 1], [2, 3]]': 0.64421875, '[[0], [1]]': 0.6378125}}, {'accuracy': 0.9988, 'Layer1': {'[[0, 1, 2, 3, 4, 5, 6, 7], [8, 9, 10, 11, 12, 13, 14, 15]]': 0.945234375, '[[0, 1], [2, 3]]': 0.87828125, '[[0], [1]]': 0.847109375}, 'Layer2': {'[[0, 1, 2, 3, 4, 5, 6, 7], [8, 9, 10, 11, 12, 13, 14, 15]]': 0.91125, '[[0, 1], [2, 3]]': 0.86890625, '[[0], [1]]': 0.823984375}, 'Layer3': {'[[0, 1, 2, 3, 4, 5, 6, 7], [8, 9, 10, 11, 12, 13, 14, 15]]': 0.6046875, '[[0, 1], [2, 3]]': 0.63546875, '[[0], [1]]': 0.625390625}}, {'accuracy': 0.9989, 'Layer1': {'[[0, 1, 2, 3, 4, 5, 6, 7], [8, 9, 10, 11, 12, 13, 14, 15]]': 0.892734375, '[[0, 1], [2, 3]]': 0.8578125, '[[0], [1]]': 0.835078125}, 'Layer2': {'[[0, 1, 2, 3, 4, 5, 6, 7], [8, 9, 10, 11, 12, 13, 14, 15]]': 0.65078125, '[[0, 1], [2, 3]]': 0.619921875, '[[0], [1]]': 0.60828125}, 'Layer3': {'[[0, 1, 2, 3, 4, 5, 6, 7], [8, 9, 10, 11, 12, 13, 14, 15]]': 0.631171875, '[[0, 1], [2, 3]]': 0.664609375, '[[0], [1]]': 0.66453125}}, {'accuracy': 0.9974, 'Layer1': {'[[0, 1, 2, 3, 4, 5, 6, 7], [8, 9, 10, 11, 12, 13, 14, 15]]': 0.946875, '[[0, 1], [2, 3]]': 0.8821875, '[[0], [1]]': 0.55375}, 'Layer2': {'[[0, 1, 2, 3, 4, 5, 6, 7], [8, 9, 10, 11, 12, 13, 14, 15]]': 0.68890625, '[[0, 1], [2, 3]]': 0.561640625, '[[0], [1]]': 0.5209375}, 'Layer3': {'[[0, 1, 2, 3, 4, 5, 6, 7], [8, 9, 10, 11, 12, 13, 14, 15]]': 0.613984375, '[[0, 1], [2, 3]]': 0.62515625, '[[0], [1]]': 0.6325}}, {'accuracy': 0.9999, 'Layer1': {'[[0, 1, 2, 3, 4, 5, 6, 7], [8, 9, 10, 11, 12, 13, 14, 15]]': 0.95109375, '[[0, 1], [2, 3]]': 0.935625, '[[0], [1]]': 0.910859375}, 'Layer2': {'[[0, 1, 2, 3, 4, 5, 6, 7], [8, 9, 10, 11, 12, 13, 14, 15]]': 0.73109375, '[[0, 1], [2, 3]]': 0.693359375, '[[0], [1]]': 0.523046875}, 'Layer3': {'[[0, 1, 2, 3, 4, 5, 6, 7], [8, 9, 10, 11, 12, 13, 14, 15]]': 0.623125, '[[0, 1], [2, 3]]': 0.668125, '[[0], [1]]': 0.6696875}}, {'accuracy': 0.999, 'Layer1': {'[[0, 1, 2, 3, 4, 5, 6, 7], [8, 9, 10, 11, 12, 13, 14, 15]]': 0.941171875, '[[0, 1], [2, 3]]': 0.903984375, '[[0], [1]]': 0.87953125}, 'Layer2': {'[[0, 1, 2, 3, 4, 5, 6, 7], [8, 9, 10, 11, 12, 13, 14, 15]]': 0.68984375, '[[0, 1], [2, 3]]': 0.686484375, '[[0], [1]]': 0.62828125}, 'Layer3': {'[[0, 1, 2, 3, 4, 5, 6, 7], [8, 9, 10, 11, 12, 13, 14, 15]]': 0.595078125, '[[0, 1], [2, 3]]': 0.63203125, '[[0], [1]]': 0.626171875}}, {'accuracy': 0.9968, 'Layer1': {'[[0, 1, 2, 3, 4, 5, 6, 7], [8, 9, 10, 11, 12, 13, 14, 15]]': 0.9278125, '[[0, 1], [2, 3]]': 0.853828125, '[[0], [1]]': 0.633515625}, 'Layer2': {'[[0, 1, 2, 3, 4, 5, 6, 7], [8, 9, 10, 11, 12, 13, 14, 15]]': 0.734453125, '[[0, 1], [2, 3]]': 0.627421875, '[[0], [1]]': 0.673046875}, 'Layer3': {'[[0, 1, 2, 3, 4, 5, 6, 7], [8, 9, 10, 11, 12, 13, 14, 15]]': 0.56921875, '[[0, 1], [2, 3]]': 0.61671875, '[[0], [1]]': 0.622734375}}, {'accuracy': 0.9991, 'Layer1': {'[[0, 1, 2, 3, 4, 5, 6, 7], [8, 9, 10, 11, 12, 13, 14, 15]]': 0.8653125, '[[0, 1], [2, 3]]': 0.791015625, '[[0], [1]]': 0.78640625}, 'Layer2': {'[[0, 1, 2, 3, 4, 5, 6, 7], [8, 9, 10, 11, 12, 13, 14, 15]]': 0.72234375, '[[0, 1], [2, 3]]': 0.686015625, '[[0], [1]]': 0.60140625}, 'Layer3': {'[[0, 1, 2, 3, 4, 5, 6, 7], [8, 9, 10, 11, 12, 13, 14, 15]]': 0.631796875, '[[0, 1], [2, 3]]': 0.67015625, '[[0], [1]]': 0.67078125}}]\n"
     ]
    },
    {
     "name": "stderr",
     "output_type": "stream",
     "text": [
      "100%|█████████████████████████████████████████████████████| 1024/1024 [00:06<00:00, 151.96it/s]\n"
     ]
    },
    {
     "name": "stdout",
     "output_type": "stream",
     "text": [
      "Epoch 1, Loss: 0.33006568885866727\n"
     ]
    },
    {
     "name": "stderr",
     "output_type": "stream",
     "text": [
      "100%|█████████████████████████████████████████████████████| 1024/1024 [00:06<00:00, 152.20it/s]\n"
     ]
    },
    {
     "name": "stdout",
     "output_type": "stream",
     "text": [
      "Epoch 2, Loss: 0.01373165008021715\n"
     ]
    },
    {
     "name": "stderr",
     "output_type": "stream",
     "text": [
      "100%|█████████████████████████████████████████████████████| 1024/1024 [00:06<00:00, 151.78it/s]\n"
     ]
    },
    {
     "name": "stdout",
     "output_type": "stream",
     "text": [
      "Epoch 3, Loss: 0.004321000683262355\n"
     ]
    },
    {
     "name": "stderr",
     "output_type": "stream",
     "text": [
      "100%|█████████████████████████████████████████████████████████| 10/10 [00:00<00:00, 189.17it/s]\n"
     ]
    },
    {
     "name": "stdout",
     "output_type": "stream",
     "text": [
      "Test Accuracy: 0.9992\n",
      "Layer1 : [[0, 1, 2, 3, 4, 5, 6, 7], [8, 9, 10, 11, 12, 13, 14, 15]]\n",
      "restructuring\n"
     ]
    },
    {
     "name": "stderr",
     "output_type": "stream",
     "text": [
      "100%|█████████████████████████████████████████████| 1280000/1280000 [00:26<00:00, 47696.88it/s]\n"
     ]
    },
    {
     "name": "stdout",
     "output_type": "stream",
     "text": [
      "restructuring\n"
     ]
    },
    {
     "name": "stderr",
     "output_type": "stream",
     "text": [
      "100%|█████████████████████████████████████████████████| 12800/12800 [00:00<00:00, 33742.21it/s]\n"
     ]
    },
    {
     "name": "stdout",
     "output_type": "stream",
     "text": [
      "[SYST] Prepare Data\n"
     ]
    },
    {
     "name": "stderr",
     "output_type": "stream",
     "text": [
      "100%|█████████████████████████████████████████████| 1280000/1280000 [00:21<00:00, 60505.02it/s]\n"
     ]
    },
    {
     "name": "stdout",
     "output_type": "stream",
     "text": [
      "[SYST] Prepare Data\n"
     ]
    },
    {
     "name": "stderr",
     "output_type": "stream",
     "text": [
      "100%|█████████████████████████████████████████████████| 12800/12800 [00:00<00:00, 18321.21it/s]\n"
     ]
    },
    {
     "name": "stdout",
     "output_type": "stream",
     "text": [
      "[SYST] Epoch 0\n"
     ]
    },
    {
     "name": "stderr",
     "output_type": "stream",
     "text": [
      "100%|████████████████████████████████████████████████████████| 200/200 [00:13<00:00, 14.45it/s]\n"
     ]
    },
    {
     "name": "stdout",
     "output_type": "stream",
     "text": [
      "Epoch 1, Loss: 4.528321552276611\n",
      "[SYST] Epoch 1\n"
     ]
    },
    {
     "name": "stderr",
     "output_type": "stream",
     "text": [
      "100%|████████████████████████████████████████████████████████| 200/200 [00:13<00:00, 14.82it/s]\n"
     ]
    },
    {
     "name": "stdout",
     "output_type": "stream",
     "text": [
      "Epoch 2, Loss: 1.2331856513023376\n",
      "[SYST] Epoch 2\n"
     ]
    },
    {
     "name": "stderr",
     "output_type": "stream",
     "text": [
      "100%|████████████████████████████████████████████████████████| 200/200 [00:13<00:00, 14.60it/s]\n"
     ]
    },
    {
     "name": "stdout",
     "output_type": "stream",
     "text": [
      "Epoch 3, Loss: 0.967158876657486\n",
      "[SYST] Epoch 3\n"
     ]
    },
    {
     "name": "stderr",
     "output_type": "stream",
     "text": [
      "100%|████████████████████████████████████████████████████████| 200/200 [00:13<00:00, 14.47it/s]\n"
     ]
    },
    {
     "name": "stdout",
     "output_type": "stream",
     "text": [
      "Epoch 4, Loss: 0.8682502692937851\n",
      "[SYST] Epoch 4\n"
     ]
    },
    {
     "name": "stderr",
     "output_type": "stream",
     "text": [
      "100%|████████████████████████████████████████████████████████| 200/200 [00:13<00:00, 14.38it/s]\n"
     ]
    },
    {
     "name": "stdout",
     "output_type": "stream",
     "text": [
      "Epoch 5, Loss: 0.8243702468276024\n",
      "[SYST] Epoch 5\n"
     ]
    },
    {
     "name": "stderr",
     "output_type": "stream",
     "text": [
      "100%|████████████████████████████████████████████████████████| 200/200 [00:13<00:00, 14.49it/s]\n"
     ]
    },
    {
     "name": "stdout",
     "output_type": "stream",
     "text": [
      "Epoch 6, Loss: 0.7958635371923447\n",
      "[SYST] Epoch 6\n"
     ]
    },
    {
     "name": "stderr",
     "output_type": "stream",
     "text": [
      "100%|████████████████████████████████████████████████████████| 200/200 [00:13<00:00, 14.67it/s]\n"
     ]
    },
    {
     "name": "stdout",
     "output_type": "stream",
     "text": [
      "Epoch 7, Loss: 0.7750602966547012\n",
      "[SYST] Epoch 7\n"
     ]
    },
    {
     "name": "stderr",
     "output_type": "stream",
     "text": [
      "100%|████████████████████████████████████████████████████████| 200/200 [00:13<00:00, 14.59it/s]\n"
     ]
    },
    {
     "name": "stdout",
     "output_type": "stream",
     "text": [
      "Epoch 8, Loss: 0.7579787701368332\n",
      "[SYST] Epoch 8\n"
     ]
    },
    {
     "name": "stderr",
     "output_type": "stream",
     "text": [
      "100%|████████████████████████████████████████████████████████| 200/200 [00:13<00:00, 14.73it/s]\n"
     ]
    },
    {
     "name": "stdout",
     "output_type": "stream",
     "text": [
      "Epoch 9, Loss: 0.743040380179882\n",
      "[SYST] Epoch 9\n"
     ]
    },
    {
     "name": "stderr",
     "output_type": "stream",
     "text": [
      "100%|████████████████████████████████████████████████████████| 200/200 [00:13<00:00, 14.69it/s]\n"
     ]
    },
    {
     "name": "stdout",
     "output_type": "stream",
     "text": [
      "Epoch 10, Loss: 0.729813702404499\n",
      "[SYST] Epoch 0\n"
     ]
    },
    {
     "name": "stderr",
     "output_type": "stream",
     "text": [
      "100%|████████████████████████████████████████████████████████████| 2/2 [00:00<00:00, 16.07it/s]\n"
     ]
    },
    {
     "name": "stdout",
     "output_type": "stream",
     "text": [
      "Test Accuracy: 88.80%\n",
      "[{'accuracy': 0.9989, 'Layer1': {'[[0, 1, 2, 3, 4, 5, 6, 7], [8, 9, 10, 11, 12, 13, 14, 15]]': 0.960625, '[[0, 1], [2, 3]]': 0.8984375, '[[0], [1]]': 0.87734375}, 'Layer2': {'[[0, 1, 2, 3, 4, 5, 6, 7], [8, 9, 10, 11, 12, 13, 14, 15]]': 0.633046875, '[[0, 1], [2, 3]]': 0.767265625, '[[0], [1]]': 0.623515625}, 'Layer3': {'[[0, 1, 2, 3, 4, 5, 6, 7], [8, 9, 10, 11, 12, 13, 14, 15]]': 0.562578125, '[[0, 1], [2, 3]]': 0.631953125, '[[0], [1]]': 0.627265625}}, {'accuracy': 0.998, 'Layer1': {'[[0, 1, 2, 3, 4, 5, 6, 7], [8, 9, 10, 11, 12, 13, 14, 15]]': 0.885390625, '[[0, 1], [2, 3]]': 0.808515625, '[[0], [1]]': 0.806796875}, 'Layer2': {'[[0, 1, 2, 3, 4, 5, 6, 7], [8, 9, 10, 11, 12, 13, 14, 15]]': 0.558359375, '[[0, 1], [2, 3]]': 0.547109375, '[[0], [1]]': 0.475}, 'Layer3': {'[[0, 1, 2, 3, 4, 5, 6, 7], [8, 9, 10, 11, 12, 13, 14, 15]]': 0.61296875, '[[0, 1], [2, 3]]': 0.64421875, '[[0], [1]]': 0.6378125}}, {'accuracy': 0.9988, 'Layer1': {'[[0, 1, 2, 3, 4, 5, 6, 7], [8, 9, 10, 11, 12, 13, 14, 15]]': 0.945234375, '[[0, 1], [2, 3]]': 0.87828125, '[[0], [1]]': 0.847109375}, 'Layer2': {'[[0, 1, 2, 3, 4, 5, 6, 7], [8, 9, 10, 11, 12, 13, 14, 15]]': 0.91125, '[[0, 1], [2, 3]]': 0.86890625, '[[0], [1]]': 0.823984375}, 'Layer3': {'[[0, 1, 2, 3, 4, 5, 6, 7], [8, 9, 10, 11, 12, 13, 14, 15]]': 0.6046875, '[[0, 1], [2, 3]]': 0.63546875, '[[0], [1]]': 0.625390625}}, {'accuracy': 0.9989, 'Layer1': {'[[0, 1, 2, 3, 4, 5, 6, 7], [8, 9, 10, 11, 12, 13, 14, 15]]': 0.892734375, '[[0, 1], [2, 3]]': 0.8578125, '[[0], [1]]': 0.835078125}, 'Layer2': {'[[0, 1, 2, 3, 4, 5, 6, 7], [8, 9, 10, 11, 12, 13, 14, 15]]': 0.65078125, '[[0, 1], [2, 3]]': 0.619921875, '[[0], [1]]': 0.60828125}, 'Layer3': {'[[0, 1, 2, 3, 4, 5, 6, 7], [8, 9, 10, 11, 12, 13, 14, 15]]': 0.631171875, '[[0, 1], [2, 3]]': 0.664609375, '[[0], [1]]': 0.66453125}}, {'accuracy': 0.9974, 'Layer1': {'[[0, 1, 2, 3, 4, 5, 6, 7], [8, 9, 10, 11, 12, 13, 14, 15]]': 0.946875, '[[0, 1], [2, 3]]': 0.8821875, '[[0], [1]]': 0.55375}, 'Layer2': {'[[0, 1, 2, 3, 4, 5, 6, 7], [8, 9, 10, 11, 12, 13, 14, 15]]': 0.68890625, '[[0, 1], [2, 3]]': 0.561640625, '[[0], [1]]': 0.5209375}, 'Layer3': {'[[0, 1, 2, 3, 4, 5, 6, 7], [8, 9, 10, 11, 12, 13, 14, 15]]': 0.613984375, '[[0, 1], [2, 3]]': 0.62515625, '[[0], [1]]': 0.6325}}, {'accuracy': 0.9999, 'Layer1': {'[[0, 1, 2, 3, 4, 5, 6, 7], [8, 9, 10, 11, 12, 13, 14, 15]]': 0.95109375, '[[0, 1], [2, 3]]': 0.935625, '[[0], [1]]': 0.910859375}, 'Layer2': {'[[0, 1, 2, 3, 4, 5, 6, 7], [8, 9, 10, 11, 12, 13, 14, 15]]': 0.73109375, '[[0, 1], [2, 3]]': 0.693359375, '[[0], [1]]': 0.523046875}, 'Layer3': {'[[0, 1, 2, 3, 4, 5, 6, 7], [8, 9, 10, 11, 12, 13, 14, 15]]': 0.623125, '[[0, 1], [2, 3]]': 0.668125, '[[0], [1]]': 0.6696875}}, {'accuracy': 0.999, 'Layer1': {'[[0, 1, 2, 3, 4, 5, 6, 7], [8, 9, 10, 11, 12, 13, 14, 15]]': 0.941171875, '[[0, 1], [2, 3]]': 0.903984375, '[[0], [1]]': 0.87953125}, 'Layer2': {'[[0, 1, 2, 3, 4, 5, 6, 7], [8, 9, 10, 11, 12, 13, 14, 15]]': 0.68984375, '[[0, 1], [2, 3]]': 0.686484375, '[[0], [1]]': 0.62828125}, 'Layer3': {'[[0, 1, 2, 3, 4, 5, 6, 7], [8, 9, 10, 11, 12, 13, 14, 15]]': 0.595078125, '[[0, 1], [2, 3]]': 0.63203125, '[[0], [1]]': 0.626171875}}, {'accuracy': 0.9968, 'Layer1': {'[[0, 1, 2, 3, 4, 5, 6, 7], [8, 9, 10, 11, 12, 13, 14, 15]]': 0.9278125, '[[0, 1], [2, 3]]': 0.853828125, '[[0], [1]]': 0.633515625}, 'Layer2': {'[[0, 1, 2, 3, 4, 5, 6, 7], [8, 9, 10, 11, 12, 13, 14, 15]]': 0.734453125, '[[0, 1], [2, 3]]': 0.627421875, '[[0], [1]]': 0.673046875}, 'Layer3': {'[[0, 1, 2, 3, 4, 5, 6, 7], [8, 9, 10, 11, 12, 13, 14, 15]]': 0.56921875, '[[0, 1], [2, 3]]': 0.61671875, '[[0], [1]]': 0.622734375}}, {'accuracy': 0.9991, 'Layer1': {'[[0, 1, 2, 3, 4, 5, 6, 7], [8, 9, 10, 11, 12, 13, 14, 15]]': 0.8653125, '[[0, 1], [2, 3]]': 0.791015625, '[[0], [1]]': 0.78640625}, 'Layer2': {'[[0, 1, 2, 3, 4, 5, 6, 7], [8, 9, 10, 11, 12, 13, 14, 15]]': 0.72234375, '[[0, 1], [2, 3]]': 0.686015625, '[[0], [1]]': 0.60140625}, 'Layer3': {'[[0, 1, 2, 3, 4, 5, 6, 7], [8, 9, 10, 11, 12, 13, 14, 15]]': 0.631796875, '[[0, 1], [2, 3]]': 0.67015625, '[[0], [1]]': 0.67078125}}, {'accuracy': 0.9992, 'Layer1': {'[[0, 1, 2, 3, 4, 5, 6, 7], [8, 9, 10, 11, 12, 13, 14, 15]]': 0.888046875}}]\n",
      "Layer1 : [[0, 1], [2, 3]]\n",
      "restructuring\n"
     ]
    },
    {
     "name": "stderr",
     "output_type": "stream",
     "text": [
      "100%|█████████████████████████████████████████████| 1280000/1280000 [00:26<00:00, 47772.62it/s]\n"
     ]
    },
    {
     "name": "stdout",
     "output_type": "stream",
     "text": [
      "restructuring\n"
     ]
    },
    {
     "name": "stderr",
     "output_type": "stream",
     "text": [
      "100%|█████████████████████████████████████████████████| 12800/12800 [00:00<00:00, 34374.90it/s]\n"
     ]
    },
    {
     "name": "stdout",
     "output_type": "stream",
     "text": [
      "[SYST] Prepare Data\n"
     ]
    },
    {
     "name": "stderr",
     "output_type": "stream",
     "text": [
      "100%|█████████████████████████████████████████████| 1280000/1280000 [00:19<00:00, 64060.20it/s]\n"
     ]
    },
    {
     "name": "stdout",
     "output_type": "stream",
     "text": [
      "[SYST] Prepare Data\n"
     ]
    },
    {
     "name": "stderr",
     "output_type": "stream",
     "text": [
      "100%|█████████████████████████████████████████████████| 12800/12800 [00:00<00:00, 18846.20it/s]\n"
     ]
    },
    {
     "name": "stdout",
     "output_type": "stream",
     "text": [
      "[SYST] Epoch 0\n"
     ]
    },
    {
     "name": "stderr",
     "output_type": "stream",
     "text": [
      "100%|████████████████████████████████████████████████████████| 200/200 [00:13<00:00, 14.56it/s]\n"
     ]
    },
    {
     "name": "stdout",
     "output_type": "stream",
     "text": [
      "Epoch 1, Loss: 6.218520629405975\n",
      "[SYST] Epoch 1\n"
     ]
    },
    {
     "name": "stderr",
     "output_type": "stream",
     "text": [
      "100%|████████████████████████████████████████████████████████| 200/200 [00:13<00:00, 14.83it/s]\n"
     ]
    },
    {
     "name": "stdout",
     "output_type": "stream",
     "text": [
      "Epoch 2, Loss: 4.4594103264808655\n",
      "[SYST] Epoch 2\n"
     ]
    },
    {
     "name": "stderr",
     "output_type": "stream",
     "text": [
      "100%|████████████████████████████████████████████████████████| 200/200 [00:13<00:00, 14.35it/s]\n"
     ]
    },
    {
     "name": "stdout",
     "output_type": "stream",
     "text": [
      "Epoch 3, Loss: 3.784733278751373\n",
      "[SYST] Epoch 3\n"
     ]
    },
    {
     "name": "stderr",
     "output_type": "stream",
     "text": [
      "100%|████████████████████████████████████████████████████████| 200/200 [00:13<00:00, 14.50it/s]\n"
     ]
    },
    {
     "name": "stdout",
     "output_type": "stream",
     "text": [
      "Epoch 4, Loss: 1.935358951687813\n",
      "[SYST] Epoch 4\n"
     ]
    },
    {
     "name": "stderr",
     "output_type": "stream",
     "text": [
      "100%|████████████████████████████████████████████████████████| 200/200 [00:14<00:00, 13.93it/s]\n"
     ]
    },
    {
     "name": "stdout",
     "output_type": "stream",
     "text": [
      "Epoch 5, Loss: 1.5879225844144822\n",
      "[SYST] Epoch 5\n"
     ]
    },
    {
     "name": "stderr",
     "output_type": "stream",
     "text": [
      "100%|████████████████████████████████████████████████████████| 200/200 [00:13<00:00, 14.87it/s]\n"
     ]
    },
    {
     "name": "stdout",
     "output_type": "stream",
     "text": [
      "Epoch 6, Loss: 1.5379814577102662\n",
      "[SYST] Epoch 6\n"
     ]
    },
    {
     "name": "stderr",
     "output_type": "stream",
     "text": [
      "100%|████████████████████████████████████████████████████████| 200/200 [00:13<00:00, 14.61it/s]\n"
     ]
    },
    {
     "name": "stdout",
     "output_type": "stream",
     "text": [
      "Epoch 7, Loss: 1.4897220629453658\n",
      "[SYST] Epoch 7\n"
     ]
    },
    {
     "name": "stderr",
     "output_type": "stream",
     "text": [
      "100%|████████████████████████████████████████████████████████| 200/200 [00:14<00:00, 14.14it/s]\n"
     ]
    },
    {
     "name": "stdout",
     "output_type": "stream",
     "text": [
      "Epoch 8, Loss: 1.422682158946991\n",
      "[SYST] Epoch 8\n"
     ]
    },
    {
     "name": "stderr",
     "output_type": "stream",
     "text": [
      "100%|████████████████████████████████████████████████████████| 200/200 [00:15<00:00, 13.22it/s]\n"
     ]
    },
    {
     "name": "stdout",
     "output_type": "stream",
     "text": [
      "Epoch 9, Loss: 1.3547633135318755\n",
      "[SYST] Epoch 9\n"
     ]
    },
    {
     "name": "stderr",
     "output_type": "stream",
     "text": [
      "100%|████████████████████████████████████████████████████████| 200/200 [00:15<00:00, 13.19it/s]\n"
     ]
    },
    {
     "name": "stdout",
     "output_type": "stream",
     "text": [
      "Epoch 10, Loss: 1.3167310923337936\n",
      "[SYST] Epoch 0\n"
     ]
    },
    {
     "name": "stderr",
     "output_type": "stream",
     "text": [
      "100%|████████████████████████████████████████████████████████████| 2/2 [00:00<00:00, 14.35it/s]\n"
     ]
    },
    {
     "name": "stdout",
     "output_type": "stream",
     "text": [
      "Test Accuracy: 83.95%\n",
      "[{'accuracy': 0.9989, 'Layer1': {'[[0, 1, 2, 3, 4, 5, 6, 7], [8, 9, 10, 11, 12, 13, 14, 15]]': 0.960625, '[[0, 1], [2, 3]]': 0.8984375, '[[0], [1]]': 0.87734375}, 'Layer2': {'[[0, 1, 2, 3, 4, 5, 6, 7], [8, 9, 10, 11, 12, 13, 14, 15]]': 0.633046875, '[[0, 1], [2, 3]]': 0.767265625, '[[0], [1]]': 0.623515625}, 'Layer3': {'[[0, 1, 2, 3, 4, 5, 6, 7], [8, 9, 10, 11, 12, 13, 14, 15]]': 0.562578125, '[[0, 1], [2, 3]]': 0.631953125, '[[0], [1]]': 0.627265625}}, {'accuracy': 0.998, 'Layer1': {'[[0, 1, 2, 3, 4, 5, 6, 7], [8, 9, 10, 11, 12, 13, 14, 15]]': 0.885390625, '[[0, 1], [2, 3]]': 0.808515625, '[[0], [1]]': 0.806796875}, 'Layer2': {'[[0, 1, 2, 3, 4, 5, 6, 7], [8, 9, 10, 11, 12, 13, 14, 15]]': 0.558359375, '[[0, 1], [2, 3]]': 0.547109375, '[[0], [1]]': 0.475}, 'Layer3': {'[[0, 1, 2, 3, 4, 5, 6, 7], [8, 9, 10, 11, 12, 13, 14, 15]]': 0.61296875, '[[0, 1], [2, 3]]': 0.64421875, '[[0], [1]]': 0.6378125}}, {'accuracy': 0.9988, 'Layer1': {'[[0, 1, 2, 3, 4, 5, 6, 7], [8, 9, 10, 11, 12, 13, 14, 15]]': 0.945234375, '[[0, 1], [2, 3]]': 0.87828125, '[[0], [1]]': 0.847109375}, 'Layer2': {'[[0, 1, 2, 3, 4, 5, 6, 7], [8, 9, 10, 11, 12, 13, 14, 15]]': 0.91125, '[[0, 1], [2, 3]]': 0.86890625, '[[0], [1]]': 0.823984375}, 'Layer3': {'[[0, 1, 2, 3, 4, 5, 6, 7], [8, 9, 10, 11, 12, 13, 14, 15]]': 0.6046875, '[[0, 1], [2, 3]]': 0.63546875, '[[0], [1]]': 0.625390625}}, {'accuracy': 0.9989, 'Layer1': {'[[0, 1, 2, 3, 4, 5, 6, 7], [8, 9, 10, 11, 12, 13, 14, 15]]': 0.892734375, '[[0, 1], [2, 3]]': 0.8578125, '[[0], [1]]': 0.835078125}, 'Layer2': {'[[0, 1, 2, 3, 4, 5, 6, 7], [8, 9, 10, 11, 12, 13, 14, 15]]': 0.65078125, '[[0, 1], [2, 3]]': 0.619921875, '[[0], [1]]': 0.60828125}, 'Layer3': {'[[0, 1, 2, 3, 4, 5, 6, 7], [8, 9, 10, 11, 12, 13, 14, 15]]': 0.631171875, '[[0, 1], [2, 3]]': 0.664609375, '[[0], [1]]': 0.66453125}}, {'accuracy': 0.9974, 'Layer1': {'[[0, 1, 2, 3, 4, 5, 6, 7], [8, 9, 10, 11, 12, 13, 14, 15]]': 0.946875, '[[0, 1], [2, 3]]': 0.8821875, '[[0], [1]]': 0.55375}, 'Layer2': {'[[0, 1, 2, 3, 4, 5, 6, 7], [8, 9, 10, 11, 12, 13, 14, 15]]': 0.68890625, '[[0, 1], [2, 3]]': 0.561640625, '[[0], [1]]': 0.5209375}, 'Layer3': {'[[0, 1, 2, 3, 4, 5, 6, 7], [8, 9, 10, 11, 12, 13, 14, 15]]': 0.613984375, '[[0, 1], [2, 3]]': 0.62515625, '[[0], [1]]': 0.6325}}, {'accuracy': 0.9999, 'Layer1': {'[[0, 1, 2, 3, 4, 5, 6, 7], [8, 9, 10, 11, 12, 13, 14, 15]]': 0.95109375, '[[0, 1], [2, 3]]': 0.935625, '[[0], [1]]': 0.910859375}, 'Layer2': {'[[0, 1, 2, 3, 4, 5, 6, 7], [8, 9, 10, 11, 12, 13, 14, 15]]': 0.73109375, '[[0, 1], [2, 3]]': 0.693359375, '[[0], [1]]': 0.523046875}, 'Layer3': {'[[0, 1, 2, 3, 4, 5, 6, 7], [8, 9, 10, 11, 12, 13, 14, 15]]': 0.623125, '[[0, 1], [2, 3]]': 0.668125, '[[0], [1]]': 0.6696875}}, {'accuracy': 0.999, 'Layer1': {'[[0, 1, 2, 3, 4, 5, 6, 7], [8, 9, 10, 11, 12, 13, 14, 15]]': 0.941171875, '[[0, 1], [2, 3]]': 0.903984375, '[[0], [1]]': 0.87953125}, 'Layer2': {'[[0, 1, 2, 3, 4, 5, 6, 7], [8, 9, 10, 11, 12, 13, 14, 15]]': 0.68984375, '[[0, 1], [2, 3]]': 0.686484375, '[[0], [1]]': 0.62828125}, 'Layer3': {'[[0, 1, 2, 3, 4, 5, 6, 7], [8, 9, 10, 11, 12, 13, 14, 15]]': 0.595078125, '[[0, 1], [2, 3]]': 0.63203125, '[[0], [1]]': 0.626171875}}, {'accuracy': 0.9968, 'Layer1': {'[[0, 1, 2, 3, 4, 5, 6, 7], [8, 9, 10, 11, 12, 13, 14, 15]]': 0.9278125, '[[0, 1], [2, 3]]': 0.853828125, '[[0], [1]]': 0.633515625}, 'Layer2': {'[[0, 1, 2, 3, 4, 5, 6, 7], [8, 9, 10, 11, 12, 13, 14, 15]]': 0.734453125, '[[0, 1], [2, 3]]': 0.627421875, '[[0], [1]]': 0.673046875}, 'Layer3': {'[[0, 1, 2, 3, 4, 5, 6, 7], [8, 9, 10, 11, 12, 13, 14, 15]]': 0.56921875, '[[0, 1], [2, 3]]': 0.61671875, '[[0], [1]]': 0.622734375}}, {'accuracy': 0.9991, 'Layer1': {'[[0, 1, 2, 3, 4, 5, 6, 7], [8, 9, 10, 11, 12, 13, 14, 15]]': 0.8653125, '[[0, 1], [2, 3]]': 0.791015625, '[[0], [1]]': 0.78640625}, 'Layer2': {'[[0, 1, 2, 3, 4, 5, 6, 7], [8, 9, 10, 11, 12, 13, 14, 15]]': 0.72234375, '[[0, 1], [2, 3]]': 0.686015625, '[[0], [1]]': 0.60140625}, 'Layer3': {'[[0, 1, 2, 3, 4, 5, 6, 7], [8, 9, 10, 11, 12, 13, 14, 15]]': 0.631796875, '[[0, 1], [2, 3]]': 0.67015625, '[[0], [1]]': 0.67078125}}, {'accuracy': 0.9992, 'Layer1': {'[[0, 1, 2, 3, 4, 5, 6, 7], [8, 9, 10, 11, 12, 13, 14, 15]]': 0.888046875, '[[0, 1], [2, 3]]': 0.839453125}}]\n",
      "Layer1 : [[0], [1]]\n",
      "restructuring\n"
     ]
    },
    {
     "name": "stderr",
     "output_type": "stream",
     "text": [
      "100%|█████████████████████████████████████████████| 1280000/1280000 [00:27<00:00, 47332.67it/s]\n"
     ]
    },
    {
     "name": "stdout",
     "output_type": "stream",
     "text": [
      "restructuring\n"
     ]
    },
    {
     "name": "stderr",
     "output_type": "stream",
     "text": [
      "100%|█████████████████████████████████████████████████| 12800/12800 [00:00<00:00, 34246.45it/s]\n"
     ]
    },
    {
     "name": "stdout",
     "output_type": "stream",
     "text": [
      "[SYST] Prepare Data\n"
     ]
    },
    {
     "name": "stderr",
     "output_type": "stream",
     "text": [
      "100%|█████████████████████████████████████████████| 1280000/1280000 [00:20<00:00, 63351.44it/s]\n"
     ]
    },
    {
     "name": "stdout",
     "output_type": "stream",
     "text": [
      "[SYST] Prepare Data\n"
     ]
    },
    {
     "name": "stderr",
     "output_type": "stream",
     "text": [
      "100%|█████████████████████████████████████████████████| 12800/12800 [00:00<00:00, 18961.81it/s]\n"
     ]
    },
    {
     "name": "stdout",
     "output_type": "stream",
     "text": [
      "[SYST] Epoch 0\n"
     ]
    },
    {
     "name": "stderr",
     "output_type": "stream",
     "text": [
      "100%|████████████████████████████████████████████████████████| 200/200 [00:14<00:00, 13.78it/s]\n"
     ]
    },
    {
     "name": "stdout",
     "output_type": "stream",
     "text": [
      "Epoch 1, Loss: 5.411241462230683\n",
      "[SYST] Epoch 1\n"
     ]
    },
    {
     "name": "stderr",
     "output_type": "stream",
     "text": [
      "100%|████████████████████████████████████████████████████████| 200/200 [00:13<00:00, 14.84it/s]\n"
     ]
    },
    {
     "name": "stdout",
     "output_type": "stream",
     "text": [
      "Epoch 2, Loss: 4.281434134244919\n",
      "[SYST] Epoch 2\n"
     ]
    },
    {
     "name": "stderr",
     "output_type": "stream",
     "text": [
      "100%|████████████████████████████████████████████████████████| 200/200 [00:13<00:00, 14.69it/s]\n"
     ]
    },
    {
     "name": "stdout",
     "output_type": "stream",
     "text": [
      "Epoch 3, Loss: 2.567825238108635\n",
      "[SYST] Epoch 3\n"
     ]
    },
    {
     "name": "stderr",
     "output_type": "stream",
     "text": [
      "100%|████████████████████████████████████████████████████████| 200/200 [00:13<00:00, 14.83it/s]\n"
     ]
    },
    {
     "name": "stdout",
     "output_type": "stream",
     "text": [
      "Epoch 4, Loss: 1.782081544995308\n",
      "[SYST] Epoch 4\n"
     ]
    },
    {
     "name": "stderr",
     "output_type": "stream",
     "text": [
      "100%|████████████████████████████████████████████████████████| 200/200 [00:13<00:00, 14.37it/s]\n"
     ]
    },
    {
     "name": "stdout",
     "output_type": "stream",
     "text": [
      "Epoch 5, Loss: 1.770063472390175\n",
      "[SYST] Epoch 5\n"
     ]
    },
    {
     "name": "stderr",
     "output_type": "stream",
     "text": [
      "100%|████████████████████████████████████████████████████████| 200/200 [00:13<00:00, 14.82it/s]\n"
     ]
    },
    {
     "name": "stdout",
     "output_type": "stream",
     "text": [
      "Epoch 6, Loss: 1.769287400841713\n",
      "[SYST] Epoch 6\n"
     ]
    },
    {
     "name": "stderr",
     "output_type": "stream",
     "text": [
      "100%|████████████████████████████████████████████████████████| 200/200 [00:13<00:00, 14.49it/s]\n"
     ]
    },
    {
     "name": "stdout",
     "output_type": "stream",
     "text": [
      "Epoch 7, Loss: 1.7692774403095246\n",
      "[SYST] Epoch 7\n"
     ]
    },
    {
     "name": "stderr",
     "output_type": "stream",
     "text": [
      "100%|████████████████████████████████████████████████████████| 200/200 [00:14<00:00, 13.78it/s]\n"
     ]
    },
    {
     "name": "stdout",
     "output_type": "stream",
     "text": [
      "Epoch 8, Loss: 1.7691815769672394\n",
      "[SYST] Epoch 8\n"
     ]
    },
    {
     "name": "stderr",
     "output_type": "stream",
     "text": [
      "100%|████████████████████████████████████████████████████████| 200/200 [00:14<00:00, 14.27it/s]\n"
     ]
    },
    {
     "name": "stdout",
     "output_type": "stream",
     "text": [
      "Epoch 9, Loss: 1.7692141133546828\n",
      "[SYST] Epoch 9\n"
     ]
    },
    {
     "name": "stderr",
     "output_type": "stream",
     "text": [
      "100%|████████████████████████████████████████████████████████| 200/200 [00:14<00:00, 14.23it/s]\n"
     ]
    },
    {
     "name": "stdout",
     "output_type": "stream",
     "text": [
      "Epoch 10, Loss: 1.7694737243652343\n",
      "[SYST] Epoch 0\n"
     ]
    },
    {
     "name": "stderr",
     "output_type": "stream",
     "text": [
      "100%|████████████████████████████████████████████████████████████| 2/2 [00:00<00:00, 16.17it/s]\n"
     ]
    },
    {
     "name": "stdout",
     "output_type": "stream",
     "text": [
      "Test Accuracy: 82.42%\n",
      "[{'accuracy': 0.9989, 'Layer1': {'[[0, 1, 2, 3, 4, 5, 6, 7], [8, 9, 10, 11, 12, 13, 14, 15]]': 0.960625, '[[0, 1], [2, 3]]': 0.8984375, '[[0], [1]]': 0.87734375}, 'Layer2': {'[[0, 1, 2, 3, 4, 5, 6, 7], [8, 9, 10, 11, 12, 13, 14, 15]]': 0.633046875, '[[0, 1], [2, 3]]': 0.767265625, '[[0], [1]]': 0.623515625}, 'Layer3': {'[[0, 1, 2, 3, 4, 5, 6, 7], [8, 9, 10, 11, 12, 13, 14, 15]]': 0.562578125, '[[0, 1], [2, 3]]': 0.631953125, '[[0], [1]]': 0.627265625}}, {'accuracy': 0.998, 'Layer1': {'[[0, 1, 2, 3, 4, 5, 6, 7], [8, 9, 10, 11, 12, 13, 14, 15]]': 0.885390625, '[[0, 1], [2, 3]]': 0.808515625, '[[0], [1]]': 0.806796875}, 'Layer2': {'[[0, 1, 2, 3, 4, 5, 6, 7], [8, 9, 10, 11, 12, 13, 14, 15]]': 0.558359375, '[[0, 1], [2, 3]]': 0.547109375, '[[0], [1]]': 0.475}, 'Layer3': {'[[0, 1, 2, 3, 4, 5, 6, 7], [8, 9, 10, 11, 12, 13, 14, 15]]': 0.61296875, '[[0, 1], [2, 3]]': 0.64421875, '[[0], [1]]': 0.6378125}}, {'accuracy': 0.9988, 'Layer1': {'[[0, 1, 2, 3, 4, 5, 6, 7], [8, 9, 10, 11, 12, 13, 14, 15]]': 0.945234375, '[[0, 1], [2, 3]]': 0.87828125, '[[0], [1]]': 0.847109375}, 'Layer2': {'[[0, 1, 2, 3, 4, 5, 6, 7], [8, 9, 10, 11, 12, 13, 14, 15]]': 0.91125, '[[0, 1], [2, 3]]': 0.86890625, '[[0], [1]]': 0.823984375}, 'Layer3': {'[[0, 1, 2, 3, 4, 5, 6, 7], [8, 9, 10, 11, 12, 13, 14, 15]]': 0.6046875, '[[0, 1], [2, 3]]': 0.63546875, '[[0], [1]]': 0.625390625}}, {'accuracy': 0.9989, 'Layer1': {'[[0, 1, 2, 3, 4, 5, 6, 7], [8, 9, 10, 11, 12, 13, 14, 15]]': 0.892734375, '[[0, 1], [2, 3]]': 0.8578125, '[[0], [1]]': 0.835078125}, 'Layer2': {'[[0, 1, 2, 3, 4, 5, 6, 7], [8, 9, 10, 11, 12, 13, 14, 15]]': 0.65078125, '[[0, 1], [2, 3]]': 0.619921875, '[[0], [1]]': 0.60828125}, 'Layer3': {'[[0, 1, 2, 3, 4, 5, 6, 7], [8, 9, 10, 11, 12, 13, 14, 15]]': 0.631171875, '[[0, 1], [2, 3]]': 0.664609375, '[[0], [1]]': 0.66453125}}, {'accuracy': 0.9974, 'Layer1': {'[[0, 1, 2, 3, 4, 5, 6, 7], [8, 9, 10, 11, 12, 13, 14, 15]]': 0.946875, '[[0, 1], [2, 3]]': 0.8821875, '[[0], [1]]': 0.55375}, 'Layer2': {'[[0, 1, 2, 3, 4, 5, 6, 7], [8, 9, 10, 11, 12, 13, 14, 15]]': 0.68890625, '[[0, 1], [2, 3]]': 0.561640625, '[[0], [1]]': 0.5209375}, 'Layer3': {'[[0, 1, 2, 3, 4, 5, 6, 7], [8, 9, 10, 11, 12, 13, 14, 15]]': 0.613984375, '[[0, 1], [2, 3]]': 0.62515625, '[[0], [1]]': 0.6325}}, {'accuracy': 0.9999, 'Layer1': {'[[0, 1, 2, 3, 4, 5, 6, 7], [8, 9, 10, 11, 12, 13, 14, 15]]': 0.95109375, '[[0, 1], [2, 3]]': 0.935625, '[[0], [1]]': 0.910859375}, 'Layer2': {'[[0, 1, 2, 3, 4, 5, 6, 7], [8, 9, 10, 11, 12, 13, 14, 15]]': 0.73109375, '[[0, 1], [2, 3]]': 0.693359375, '[[0], [1]]': 0.523046875}, 'Layer3': {'[[0, 1, 2, 3, 4, 5, 6, 7], [8, 9, 10, 11, 12, 13, 14, 15]]': 0.623125, '[[0, 1], [2, 3]]': 0.668125, '[[0], [1]]': 0.6696875}}, {'accuracy': 0.999, 'Layer1': {'[[0, 1, 2, 3, 4, 5, 6, 7], [8, 9, 10, 11, 12, 13, 14, 15]]': 0.941171875, '[[0, 1], [2, 3]]': 0.903984375, '[[0], [1]]': 0.87953125}, 'Layer2': {'[[0, 1, 2, 3, 4, 5, 6, 7], [8, 9, 10, 11, 12, 13, 14, 15]]': 0.68984375, '[[0, 1], [2, 3]]': 0.686484375, '[[0], [1]]': 0.62828125}, 'Layer3': {'[[0, 1, 2, 3, 4, 5, 6, 7], [8, 9, 10, 11, 12, 13, 14, 15]]': 0.595078125, '[[0, 1], [2, 3]]': 0.63203125, '[[0], [1]]': 0.626171875}}, {'accuracy': 0.9968, 'Layer1': {'[[0, 1, 2, 3, 4, 5, 6, 7], [8, 9, 10, 11, 12, 13, 14, 15]]': 0.9278125, '[[0, 1], [2, 3]]': 0.853828125, '[[0], [1]]': 0.633515625}, 'Layer2': {'[[0, 1, 2, 3, 4, 5, 6, 7], [8, 9, 10, 11, 12, 13, 14, 15]]': 0.734453125, '[[0, 1], [2, 3]]': 0.627421875, '[[0], [1]]': 0.673046875}, 'Layer3': {'[[0, 1, 2, 3, 4, 5, 6, 7], [8, 9, 10, 11, 12, 13, 14, 15]]': 0.56921875, '[[0, 1], [2, 3]]': 0.61671875, '[[0], [1]]': 0.622734375}}, {'accuracy': 0.9991, 'Layer1': {'[[0, 1, 2, 3, 4, 5, 6, 7], [8, 9, 10, 11, 12, 13, 14, 15]]': 0.8653125, '[[0, 1], [2, 3]]': 0.791015625, '[[0], [1]]': 0.78640625}, 'Layer2': {'[[0, 1, 2, 3, 4, 5, 6, 7], [8, 9, 10, 11, 12, 13, 14, 15]]': 0.72234375, '[[0, 1], [2, 3]]': 0.686015625, '[[0], [1]]': 0.60140625}, 'Layer3': {'[[0, 1, 2, 3, 4, 5, 6, 7], [8, 9, 10, 11, 12, 13, 14, 15]]': 0.631796875, '[[0, 1], [2, 3]]': 0.67015625, '[[0], [1]]': 0.67078125}}, {'accuracy': 0.9992, 'Layer1': {'[[0, 1, 2, 3, 4, 5, 6, 7], [8, 9, 10, 11, 12, 13, 14, 15]]': 0.888046875, '[[0, 1], [2, 3]]': 0.839453125, '[[0], [1]]': 0.82421875}}]\n",
      "Layer2 : [[0, 1, 2, 3, 4, 5, 6, 7], [8, 9, 10, 11, 12, 13, 14, 15]]\n",
      "restructuring\n"
     ]
    },
    {
     "name": "stderr",
     "output_type": "stream",
     "text": [
      "100%|█████████████████████████████████████████████| 1280000/1280000 [00:27<00:00, 47406.54it/s]\n"
     ]
    },
    {
     "name": "stdout",
     "output_type": "stream",
     "text": [
      "restructuring\n"
     ]
    },
    {
     "name": "stderr",
     "output_type": "stream",
     "text": [
      "100%|█████████████████████████████████████████████████| 12800/12800 [00:00<00:00, 34022.47it/s]\n"
     ]
    },
    {
     "name": "stdout",
     "output_type": "stream",
     "text": [
      "[SYST] Prepare Data\n"
     ]
    },
    {
     "name": "stderr",
     "output_type": "stream",
     "text": [
      "100%|█████████████████████████████████████████████| 1280000/1280000 [00:14<00:00, 89388.83it/s]\n"
     ]
    },
    {
     "name": "stdout",
     "output_type": "stream",
     "text": [
      "[SYST] Prepare Data\n"
     ]
    },
    {
     "name": "stderr",
     "output_type": "stream",
     "text": [
      "100%|█████████████████████████████████████████████████| 12800/12800 [00:00<00:00, 18273.01it/s]\n"
     ]
    },
    {
     "name": "stdout",
     "output_type": "stream",
     "text": [
      "[SYST] Epoch 0\n"
     ]
    },
    {
     "name": "stderr",
     "output_type": "stream",
     "text": [
      "100%|████████████████████████████████████████████████████████| 200/200 [00:15<00:00, 12.98it/s]\n"
     ]
    },
    {
     "name": "stdout",
     "output_type": "stream",
     "text": [
      "Epoch 1, Loss: 6.5369578957557675\n",
      "[SYST] Epoch 1\n"
     ]
    },
    {
     "name": "stderr",
     "output_type": "stream",
     "text": [
      "100%|████████████████████████████████████████████████████████| 200/200 [00:13<00:00, 14.68it/s]\n"
     ]
    },
    {
     "name": "stdout",
     "output_type": "stream",
     "text": [
      "Epoch 2, Loss: 5.2056688928604125\n",
      "[SYST] Epoch 2\n"
     ]
    },
    {
     "name": "stderr",
     "output_type": "stream",
     "text": [
      "100%|████████████████████████████████████████████████████████| 200/200 [00:13<00:00, 14.37it/s]\n"
     ]
    },
    {
     "name": "stdout",
     "output_type": "stream",
     "text": [
      "Epoch 3, Loss: 4.89292466878891\n",
      "[SYST] Epoch 3\n"
     ]
    },
    {
     "name": "stderr",
     "output_type": "stream",
     "text": [
      "100%|████████████████████████████████████████████████████████| 200/200 [00:14<00:00, 13.89it/s]\n"
     ]
    },
    {
     "name": "stdout",
     "output_type": "stream",
     "text": [
      "Epoch 4, Loss: 4.651816439628601\n",
      "[SYST] Epoch 4\n"
     ]
    },
    {
     "name": "stderr",
     "output_type": "stream",
     "text": [
      "100%|████████████████████████████████████████████████████████| 200/200 [00:15<00:00, 12.99it/s]\n"
     ]
    },
    {
     "name": "stdout",
     "output_type": "stream",
     "text": [
      "Epoch 5, Loss: 4.570720753669739\n",
      "[SYST] Epoch 5\n"
     ]
    },
    {
     "name": "stderr",
     "output_type": "stream",
     "text": [
      "100%|████████████████████████████████████████████████████████| 200/200 [00:13<00:00, 14.71it/s]\n"
     ]
    },
    {
     "name": "stdout",
     "output_type": "stream",
     "text": [
      "Epoch 6, Loss: 4.550772154331208\n",
      "[SYST] Epoch 6\n"
     ]
    },
    {
     "name": "stderr",
     "output_type": "stream",
     "text": [
      "100%|████████████████████████████████████████████████████████| 200/200 [00:13<00:00, 14.55it/s]\n"
     ]
    },
    {
     "name": "stdout",
     "output_type": "stream",
     "text": [
      "Epoch 7, Loss: 4.5408968305587765\n",
      "[SYST] Epoch 7\n"
     ]
    },
    {
     "name": "stderr",
     "output_type": "stream",
     "text": [
      "100%|████████████████████████████████████████████████████████| 200/200 [00:13<00:00, 14.63it/s]\n"
     ]
    },
    {
     "name": "stdout",
     "output_type": "stream",
     "text": [
      "Epoch 8, Loss: 4.535681786537171\n",
      "[SYST] Epoch 8\n"
     ]
    },
    {
     "name": "stderr",
     "output_type": "stream",
     "text": [
      "100%|████████████████████████████████████████████████████████| 200/200 [00:15<00:00, 13.29it/s]\n"
     ]
    },
    {
     "name": "stdout",
     "output_type": "stream",
     "text": [
      "Epoch 9, Loss: 4.532713873386383\n",
      "[SYST] Epoch 9\n"
     ]
    },
    {
     "name": "stderr",
     "output_type": "stream",
     "text": [
      "100%|████████████████████████████████████████████████████████| 200/200 [00:13<00:00, 14.72it/s]\n"
     ]
    },
    {
     "name": "stdout",
     "output_type": "stream",
     "text": [
      "Epoch 10, Loss: 4.530408778190613\n",
      "[SYST] Epoch 0\n"
     ]
    },
    {
     "name": "stderr",
     "output_type": "stream",
     "text": [
      "100%|████████████████████████████████████████████████████████████| 2/2 [00:00<00:00, 14.25it/s]\n"
     ]
    },
    {
     "name": "stdout",
     "output_type": "stream",
     "text": [
      "Test Accuracy: 62.01%\n",
      "[{'accuracy': 0.9989, 'Layer1': {'[[0, 1, 2, 3, 4, 5, 6, 7], [8, 9, 10, 11, 12, 13, 14, 15]]': 0.960625, '[[0, 1], [2, 3]]': 0.8984375, '[[0], [1]]': 0.87734375}, 'Layer2': {'[[0, 1, 2, 3, 4, 5, 6, 7], [8, 9, 10, 11, 12, 13, 14, 15]]': 0.633046875, '[[0, 1], [2, 3]]': 0.767265625, '[[0], [1]]': 0.623515625}, 'Layer3': {'[[0, 1, 2, 3, 4, 5, 6, 7], [8, 9, 10, 11, 12, 13, 14, 15]]': 0.562578125, '[[0, 1], [2, 3]]': 0.631953125, '[[0], [1]]': 0.627265625}}, {'accuracy': 0.998, 'Layer1': {'[[0, 1, 2, 3, 4, 5, 6, 7], [8, 9, 10, 11, 12, 13, 14, 15]]': 0.885390625, '[[0, 1], [2, 3]]': 0.808515625, '[[0], [1]]': 0.806796875}, 'Layer2': {'[[0, 1, 2, 3, 4, 5, 6, 7], [8, 9, 10, 11, 12, 13, 14, 15]]': 0.558359375, '[[0, 1], [2, 3]]': 0.547109375, '[[0], [1]]': 0.475}, 'Layer3': {'[[0, 1, 2, 3, 4, 5, 6, 7], [8, 9, 10, 11, 12, 13, 14, 15]]': 0.61296875, '[[0, 1], [2, 3]]': 0.64421875, '[[0], [1]]': 0.6378125}}, {'accuracy': 0.9988, 'Layer1': {'[[0, 1, 2, 3, 4, 5, 6, 7], [8, 9, 10, 11, 12, 13, 14, 15]]': 0.945234375, '[[0, 1], [2, 3]]': 0.87828125, '[[0], [1]]': 0.847109375}, 'Layer2': {'[[0, 1, 2, 3, 4, 5, 6, 7], [8, 9, 10, 11, 12, 13, 14, 15]]': 0.91125, '[[0, 1], [2, 3]]': 0.86890625, '[[0], [1]]': 0.823984375}, 'Layer3': {'[[0, 1, 2, 3, 4, 5, 6, 7], [8, 9, 10, 11, 12, 13, 14, 15]]': 0.6046875, '[[0, 1], [2, 3]]': 0.63546875, '[[0], [1]]': 0.625390625}}, {'accuracy': 0.9989, 'Layer1': {'[[0, 1, 2, 3, 4, 5, 6, 7], [8, 9, 10, 11, 12, 13, 14, 15]]': 0.892734375, '[[0, 1], [2, 3]]': 0.8578125, '[[0], [1]]': 0.835078125}, 'Layer2': {'[[0, 1, 2, 3, 4, 5, 6, 7], [8, 9, 10, 11, 12, 13, 14, 15]]': 0.65078125, '[[0, 1], [2, 3]]': 0.619921875, '[[0], [1]]': 0.60828125}, 'Layer3': {'[[0, 1, 2, 3, 4, 5, 6, 7], [8, 9, 10, 11, 12, 13, 14, 15]]': 0.631171875, '[[0, 1], [2, 3]]': 0.664609375, '[[0], [1]]': 0.66453125}}, {'accuracy': 0.9974, 'Layer1': {'[[0, 1, 2, 3, 4, 5, 6, 7], [8, 9, 10, 11, 12, 13, 14, 15]]': 0.946875, '[[0, 1], [2, 3]]': 0.8821875, '[[0], [1]]': 0.55375}, 'Layer2': {'[[0, 1, 2, 3, 4, 5, 6, 7], [8, 9, 10, 11, 12, 13, 14, 15]]': 0.68890625, '[[0, 1], [2, 3]]': 0.561640625, '[[0], [1]]': 0.5209375}, 'Layer3': {'[[0, 1, 2, 3, 4, 5, 6, 7], [8, 9, 10, 11, 12, 13, 14, 15]]': 0.613984375, '[[0, 1], [2, 3]]': 0.62515625, '[[0], [1]]': 0.6325}}, {'accuracy': 0.9999, 'Layer1': {'[[0, 1, 2, 3, 4, 5, 6, 7], [8, 9, 10, 11, 12, 13, 14, 15]]': 0.95109375, '[[0, 1], [2, 3]]': 0.935625, '[[0], [1]]': 0.910859375}, 'Layer2': {'[[0, 1, 2, 3, 4, 5, 6, 7], [8, 9, 10, 11, 12, 13, 14, 15]]': 0.73109375, '[[0, 1], [2, 3]]': 0.693359375, '[[0], [1]]': 0.523046875}, 'Layer3': {'[[0, 1, 2, 3, 4, 5, 6, 7], [8, 9, 10, 11, 12, 13, 14, 15]]': 0.623125, '[[0, 1], [2, 3]]': 0.668125, '[[0], [1]]': 0.6696875}}, {'accuracy': 0.999, 'Layer1': {'[[0, 1, 2, 3, 4, 5, 6, 7], [8, 9, 10, 11, 12, 13, 14, 15]]': 0.941171875, '[[0, 1], [2, 3]]': 0.903984375, '[[0], [1]]': 0.87953125}, 'Layer2': {'[[0, 1, 2, 3, 4, 5, 6, 7], [8, 9, 10, 11, 12, 13, 14, 15]]': 0.68984375, '[[0, 1], [2, 3]]': 0.686484375, '[[0], [1]]': 0.62828125}, 'Layer3': {'[[0, 1, 2, 3, 4, 5, 6, 7], [8, 9, 10, 11, 12, 13, 14, 15]]': 0.595078125, '[[0, 1], [2, 3]]': 0.63203125, '[[0], [1]]': 0.626171875}}, {'accuracy': 0.9968, 'Layer1': {'[[0, 1, 2, 3, 4, 5, 6, 7], [8, 9, 10, 11, 12, 13, 14, 15]]': 0.9278125, '[[0, 1], [2, 3]]': 0.853828125, '[[0], [1]]': 0.633515625}, 'Layer2': {'[[0, 1, 2, 3, 4, 5, 6, 7], [8, 9, 10, 11, 12, 13, 14, 15]]': 0.734453125, '[[0, 1], [2, 3]]': 0.627421875, '[[0], [1]]': 0.673046875}, 'Layer3': {'[[0, 1, 2, 3, 4, 5, 6, 7], [8, 9, 10, 11, 12, 13, 14, 15]]': 0.56921875, '[[0, 1], [2, 3]]': 0.61671875, '[[0], [1]]': 0.622734375}}, {'accuracy': 0.9991, 'Layer1': {'[[0, 1, 2, 3, 4, 5, 6, 7], [8, 9, 10, 11, 12, 13, 14, 15]]': 0.8653125, '[[0, 1], [2, 3]]': 0.791015625, '[[0], [1]]': 0.78640625}, 'Layer2': {'[[0, 1, 2, 3, 4, 5, 6, 7], [8, 9, 10, 11, 12, 13, 14, 15]]': 0.72234375, '[[0, 1], [2, 3]]': 0.686015625, '[[0], [1]]': 0.60140625}, 'Layer3': {'[[0, 1, 2, 3, 4, 5, 6, 7], [8, 9, 10, 11, 12, 13, 14, 15]]': 0.631796875, '[[0, 1], [2, 3]]': 0.67015625, '[[0], [1]]': 0.67078125}}, {'accuracy': 0.9992, 'Layer1': {'[[0, 1, 2, 3, 4, 5, 6, 7], [8, 9, 10, 11, 12, 13, 14, 15]]': 0.888046875, '[[0, 1], [2, 3]]': 0.839453125, '[[0], [1]]': 0.82421875}, 'Layer2': {'[[0, 1, 2, 3, 4, 5, 6, 7], [8, 9, 10, 11, 12, 13, 14, 15]]': 0.620078125}}]\n",
      "Layer2 : [[0, 1], [2, 3]]\n",
      "restructuring\n"
     ]
    },
    {
     "name": "stderr",
     "output_type": "stream",
     "text": [
      "100%|█████████████████████████████████████████████| 1280000/1280000 [00:28<00:00, 45574.38it/s]\n"
     ]
    },
    {
     "name": "stdout",
     "output_type": "stream",
     "text": [
      "restructuring\n"
     ]
    },
    {
     "name": "stderr",
     "output_type": "stream",
     "text": [
      "100%|█████████████████████████████████████████████████| 12800/12800 [00:00<00:00, 34225.18it/s]\n"
     ]
    },
    {
     "name": "stdout",
     "output_type": "stream",
     "text": [
      "[SYST] Prepare Data\n"
     ]
    },
    {
     "name": "stderr",
     "output_type": "stream",
     "text": [
      "100%|█████████████████████████████████████████████| 1280000/1280000 [00:20<00:00, 63359.33it/s]\n"
     ]
    },
    {
     "name": "stdout",
     "output_type": "stream",
     "text": [
      "[SYST] Prepare Data\n"
     ]
    },
    {
     "name": "stderr",
     "output_type": "stream",
     "text": [
      "100%|█████████████████████████████████████████████████| 12800/12800 [00:00<00:00, 24767.44it/s]\n"
     ]
    },
    {
     "name": "stdout",
     "output_type": "stream",
     "text": [
      "[SYST] Epoch 0\n"
     ]
    },
    {
     "name": "stderr",
     "output_type": "stream",
     "text": [
      "100%|████████████████████████████████████████████████████████| 200/200 [00:13<00:00, 14.76it/s]\n"
     ]
    },
    {
     "name": "stdout",
     "output_type": "stream",
     "text": [
      "Epoch 1, Loss: 6.1857818245887755\n",
      "[SYST] Epoch 1\n"
     ]
    },
    {
     "name": "stderr",
     "output_type": "stream",
     "text": [
      "100%|████████████████████████████████████████████████████████| 200/200 [00:13<00:00, 14.68it/s]\n"
     ]
    },
    {
     "name": "stdout",
     "output_type": "stream",
     "text": [
      "Epoch 2, Loss: 5.493902404308319\n",
      "[SYST] Epoch 2\n"
     ]
    },
    {
     "name": "stderr",
     "output_type": "stream",
     "text": [
      "100%|████████████████████████████████████████████████████████| 200/200 [00:13<00:00, 14.41it/s]\n"
     ]
    },
    {
     "name": "stdout",
     "output_type": "stream",
     "text": [
      "Epoch 3, Loss: 5.2632960510253906\n",
      "[SYST] Epoch 3\n"
     ]
    },
    {
     "name": "stderr",
     "output_type": "stream",
     "text": [
      "100%|████████████████████████████████████████████████████████| 200/200 [00:13<00:00, 14.84it/s]\n"
     ]
    },
    {
     "name": "stdout",
     "output_type": "stream",
     "text": [
      "Epoch 4, Loss: 5.176024408340454\n",
      "[SYST] Epoch 4\n"
     ]
    },
    {
     "name": "stderr",
     "output_type": "stream",
     "text": [
      "100%|████████████████████████████████████████████████████████| 200/200 [00:13<00:00, 14.69it/s]\n"
     ]
    },
    {
     "name": "stdout",
     "output_type": "stream",
     "text": [
      "Epoch 5, Loss: 5.145215849876404\n",
      "[SYST] Epoch 5\n"
     ]
    },
    {
     "name": "stderr",
     "output_type": "stream",
     "text": [
      "100%|████████████████████████████████████████████████████████| 200/200 [00:13<00:00, 14.59it/s]\n"
     ]
    },
    {
     "name": "stdout",
     "output_type": "stream",
     "text": [
      "Epoch 6, Loss: 5.1182461810112\n",
      "[SYST] Epoch 6\n"
     ]
    },
    {
     "name": "stderr",
     "output_type": "stream",
     "text": [
      "100%|████████████████████████████████████████████████████████| 200/200 [00:13<00:00, 14.96it/s]\n"
     ]
    },
    {
     "name": "stdout",
     "output_type": "stream",
     "text": [
      "Epoch 7, Loss: 5.079547238349915\n",
      "[SYST] Epoch 7\n"
     ]
    },
    {
     "name": "stderr",
     "output_type": "stream",
     "text": [
      "100%|████████████████████████████████████████████████████████| 200/200 [00:13<00:00, 14.88it/s]\n"
     ]
    },
    {
     "name": "stdout",
     "output_type": "stream",
     "text": [
      "Epoch 8, Loss: 5.040708031654358\n",
      "[SYST] Epoch 8\n"
     ]
    },
    {
     "name": "stderr",
     "output_type": "stream",
     "text": [
      "100%|████████████████████████████████████████████████████████| 200/200 [00:14<00:00, 13.63it/s]\n"
     ]
    },
    {
     "name": "stdout",
     "output_type": "stream",
     "text": [
      "Epoch 9, Loss: 5.016758744716644\n",
      "[SYST] Epoch 9\n"
     ]
    },
    {
     "name": "stderr",
     "output_type": "stream",
     "text": [
      "100%|████████████████████████████████████████████████████████| 200/200 [00:13<00:00, 14.84it/s]\n"
     ]
    },
    {
     "name": "stdout",
     "output_type": "stream",
     "text": [
      "Epoch 10, Loss: 5.00539888381958\n",
      "[SYST] Epoch 0\n"
     ]
    },
    {
     "name": "stderr",
     "output_type": "stream",
     "text": [
      "100%|████████████████████████████████████████████████████████████| 2/2 [00:00<00:00, 16.09it/s]\n"
     ]
    },
    {
     "name": "stdout",
     "output_type": "stream",
     "text": [
      "Test Accuracy: 57.95%\n",
      "[{'accuracy': 0.9989, 'Layer1': {'[[0, 1, 2, 3, 4, 5, 6, 7], [8, 9, 10, 11, 12, 13, 14, 15]]': 0.960625, '[[0, 1], [2, 3]]': 0.8984375, '[[0], [1]]': 0.87734375}, 'Layer2': {'[[0, 1, 2, 3, 4, 5, 6, 7], [8, 9, 10, 11, 12, 13, 14, 15]]': 0.633046875, '[[0, 1], [2, 3]]': 0.767265625, '[[0], [1]]': 0.623515625}, 'Layer3': {'[[0, 1, 2, 3, 4, 5, 6, 7], [8, 9, 10, 11, 12, 13, 14, 15]]': 0.562578125, '[[0, 1], [2, 3]]': 0.631953125, '[[0], [1]]': 0.627265625}}, {'accuracy': 0.998, 'Layer1': {'[[0, 1, 2, 3, 4, 5, 6, 7], [8, 9, 10, 11, 12, 13, 14, 15]]': 0.885390625, '[[0, 1], [2, 3]]': 0.808515625, '[[0], [1]]': 0.806796875}, 'Layer2': {'[[0, 1, 2, 3, 4, 5, 6, 7], [8, 9, 10, 11, 12, 13, 14, 15]]': 0.558359375, '[[0, 1], [2, 3]]': 0.547109375, '[[0], [1]]': 0.475}, 'Layer3': {'[[0, 1, 2, 3, 4, 5, 6, 7], [8, 9, 10, 11, 12, 13, 14, 15]]': 0.61296875, '[[0, 1], [2, 3]]': 0.64421875, '[[0], [1]]': 0.6378125}}, {'accuracy': 0.9988, 'Layer1': {'[[0, 1, 2, 3, 4, 5, 6, 7], [8, 9, 10, 11, 12, 13, 14, 15]]': 0.945234375, '[[0, 1], [2, 3]]': 0.87828125, '[[0], [1]]': 0.847109375}, 'Layer2': {'[[0, 1, 2, 3, 4, 5, 6, 7], [8, 9, 10, 11, 12, 13, 14, 15]]': 0.91125, '[[0, 1], [2, 3]]': 0.86890625, '[[0], [1]]': 0.823984375}, 'Layer3': {'[[0, 1, 2, 3, 4, 5, 6, 7], [8, 9, 10, 11, 12, 13, 14, 15]]': 0.6046875, '[[0, 1], [2, 3]]': 0.63546875, '[[0], [1]]': 0.625390625}}, {'accuracy': 0.9989, 'Layer1': {'[[0, 1, 2, 3, 4, 5, 6, 7], [8, 9, 10, 11, 12, 13, 14, 15]]': 0.892734375, '[[0, 1], [2, 3]]': 0.8578125, '[[0], [1]]': 0.835078125}, 'Layer2': {'[[0, 1, 2, 3, 4, 5, 6, 7], [8, 9, 10, 11, 12, 13, 14, 15]]': 0.65078125, '[[0, 1], [2, 3]]': 0.619921875, '[[0], [1]]': 0.60828125}, 'Layer3': {'[[0, 1, 2, 3, 4, 5, 6, 7], [8, 9, 10, 11, 12, 13, 14, 15]]': 0.631171875, '[[0, 1], [2, 3]]': 0.664609375, '[[0], [1]]': 0.66453125}}, {'accuracy': 0.9974, 'Layer1': {'[[0, 1, 2, 3, 4, 5, 6, 7], [8, 9, 10, 11, 12, 13, 14, 15]]': 0.946875, '[[0, 1], [2, 3]]': 0.8821875, '[[0], [1]]': 0.55375}, 'Layer2': {'[[0, 1, 2, 3, 4, 5, 6, 7], [8, 9, 10, 11, 12, 13, 14, 15]]': 0.68890625, '[[0, 1], [2, 3]]': 0.561640625, '[[0], [1]]': 0.5209375}, 'Layer3': {'[[0, 1, 2, 3, 4, 5, 6, 7], [8, 9, 10, 11, 12, 13, 14, 15]]': 0.613984375, '[[0, 1], [2, 3]]': 0.62515625, '[[0], [1]]': 0.6325}}, {'accuracy': 0.9999, 'Layer1': {'[[0, 1, 2, 3, 4, 5, 6, 7], [8, 9, 10, 11, 12, 13, 14, 15]]': 0.95109375, '[[0, 1], [2, 3]]': 0.935625, '[[0], [1]]': 0.910859375}, 'Layer2': {'[[0, 1, 2, 3, 4, 5, 6, 7], [8, 9, 10, 11, 12, 13, 14, 15]]': 0.73109375, '[[0, 1], [2, 3]]': 0.693359375, '[[0], [1]]': 0.523046875}, 'Layer3': {'[[0, 1, 2, 3, 4, 5, 6, 7], [8, 9, 10, 11, 12, 13, 14, 15]]': 0.623125, '[[0, 1], [2, 3]]': 0.668125, '[[0], [1]]': 0.6696875}}, {'accuracy': 0.999, 'Layer1': {'[[0, 1, 2, 3, 4, 5, 6, 7], [8, 9, 10, 11, 12, 13, 14, 15]]': 0.941171875, '[[0, 1], [2, 3]]': 0.903984375, '[[0], [1]]': 0.87953125}, 'Layer2': {'[[0, 1, 2, 3, 4, 5, 6, 7], [8, 9, 10, 11, 12, 13, 14, 15]]': 0.68984375, '[[0, 1], [2, 3]]': 0.686484375, '[[0], [1]]': 0.62828125}, 'Layer3': {'[[0, 1, 2, 3, 4, 5, 6, 7], [8, 9, 10, 11, 12, 13, 14, 15]]': 0.595078125, '[[0, 1], [2, 3]]': 0.63203125, '[[0], [1]]': 0.626171875}}, {'accuracy': 0.9968, 'Layer1': {'[[0, 1, 2, 3, 4, 5, 6, 7], [8, 9, 10, 11, 12, 13, 14, 15]]': 0.9278125, '[[0, 1], [2, 3]]': 0.853828125, '[[0], [1]]': 0.633515625}, 'Layer2': {'[[0, 1, 2, 3, 4, 5, 6, 7], [8, 9, 10, 11, 12, 13, 14, 15]]': 0.734453125, '[[0, 1], [2, 3]]': 0.627421875, '[[0], [1]]': 0.673046875}, 'Layer3': {'[[0, 1, 2, 3, 4, 5, 6, 7], [8, 9, 10, 11, 12, 13, 14, 15]]': 0.56921875, '[[0, 1], [2, 3]]': 0.61671875, '[[0], [1]]': 0.622734375}}, {'accuracy': 0.9991, 'Layer1': {'[[0, 1, 2, 3, 4, 5, 6, 7], [8, 9, 10, 11, 12, 13, 14, 15]]': 0.8653125, '[[0, 1], [2, 3]]': 0.791015625, '[[0], [1]]': 0.78640625}, 'Layer2': {'[[0, 1, 2, 3, 4, 5, 6, 7], [8, 9, 10, 11, 12, 13, 14, 15]]': 0.72234375, '[[0, 1], [2, 3]]': 0.686015625, '[[0], [1]]': 0.60140625}, 'Layer3': {'[[0, 1, 2, 3, 4, 5, 6, 7], [8, 9, 10, 11, 12, 13, 14, 15]]': 0.631796875, '[[0, 1], [2, 3]]': 0.67015625, '[[0], [1]]': 0.67078125}}, {'accuracy': 0.9992, 'Layer1': {'[[0, 1, 2, 3, 4, 5, 6, 7], [8, 9, 10, 11, 12, 13, 14, 15]]': 0.888046875, '[[0, 1], [2, 3]]': 0.839453125, '[[0], [1]]': 0.82421875}, 'Layer2': {'[[0, 1, 2, 3, 4, 5, 6, 7], [8, 9, 10, 11, 12, 13, 14, 15]]': 0.620078125, '[[0, 1], [2, 3]]': 0.57953125}}]\n",
      "Layer2 : [[0], [1]]\n",
      "restructuring\n"
     ]
    },
    {
     "name": "stderr",
     "output_type": "stream",
     "text": [
      "100%|█████████████████████████████████████████████| 1280000/1280000 [00:27<00:00, 45822.40it/s]\n"
     ]
    },
    {
     "name": "stdout",
     "output_type": "stream",
     "text": [
      "restructuring\n"
     ]
    },
    {
     "name": "stderr",
     "output_type": "stream",
     "text": [
      "100%|█████████████████████████████████████████████████| 12800/12800 [00:00<00:00, 34246.49it/s]\n"
     ]
    },
    {
     "name": "stdout",
     "output_type": "stream",
     "text": [
      "[SYST] Prepare Data\n"
     ]
    },
    {
     "name": "stderr",
     "output_type": "stream",
     "text": [
      "100%|█████████████████████████████████████████████| 1280000/1280000 [00:13<00:00, 96948.53it/s]\n"
     ]
    },
    {
     "name": "stdout",
     "output_type": "stream",
     "text": [
      "[SYST] Prepare Data\n"
     ]
    },
    {
     "name": "stderr",
     "output_type": "stream",
     "text": [
      "100%|█████████████████████████████████████████████████| 12800/12800 [00:00<00:00, 18685.94it/s]\n"
     ]
    },
    {
     "name": "stdout",
     "output_type": "stream",
     "text": [
      "[SYST] Epoch 0\n"
     ]
    },
    {
     "name": "stderr",
     "output_type": "stream",
     "text": [
      "100%|████████████████████████████████████████████████████████| 200/200 [00:13<00:00, 14.81it/s]\n"
     ]
    },
    {
     "name": "stdout",
     "output_type": "stream",
     "text": [
      "Epoch 1, Loss: 6.7409180688858035\n",
      "[SYST] Epoch 1\n"
     ]
    },
    {
     "name": "stderr",
     "output_type": "stream",
     "text": [
      "100%|████████████████████████████████████████████████████████| 200/200 [00:13<00:00, 14.72it/s]\n"
     ]
    },
    {
     "name": "stdout",
     "output_type": "stream",
     "text": [
      "Epoch 2, Loss: 5.974151885509491\n",
      "[SYST] Epoch 2\n"
     ]
    },
    {
     "name": "stderr",
     "output_type": "stream",
     "text": [
      "100%|████████████████████████████████████████████████████████| 200/200 [00:13<00:00, 14.72it/s]\n"
     ]
    },
    {
     "name": "stdout",
     "output_type": "stream",
     "text": [
      "Epoch 3, Loss: 5.629923543930054\n",
      "[SYST] Epoch 3\n"
     ]
    },
    {
     "name": "stderr",
     "output_type": "stream",
     "text": [
      "100%|████████████████████████████████████████████████████████| 200/200 [00:14<00:00, 14.08it/s]\n"
     ]
    },
    {
     "name": "stdout",
     "output_type": "stream",
     "text": [
      "Epoch 4, Loss: 5.51907728433609\n",
      "[SYST] Epoch 4\n"
     ]
    },
    {
     "name": "stderr",
     "output_type": "stream",
     "text": [
      "100%|████████████████████████████████████████████████████████| 200/200 [00:13<00:00, 14.83it/s]\n"
     ]
    },
    {
     "name": "stdout",
     "output_type": "stream",
     "text": [
      "Epoch 5, Loss: 5.4659554123878475\n",
      "[SYST] Epoch 5\n"
     ]
    },
    {
     "name": "stderr",
     "output_type": "stream",
     "text": [
      "100%|████████████████████████████████████████████████████████| 200/200 [00:13<00:00, 14.29it/s]\n"
     ]
    },
    {
     "name": "stdout",
     "output_type": "stream",
     "text": [
      "Epoch 6, Loss: 5.440338454246521\n",
      "[SYST] Epoch 6\n"
     ]
    },
    {
     "name": "stderr",
     "output_type": "stream",
     "text": [
      "100%|████████████████████████████████████████████████████████| 200/200 [00:13<00:00, 14.41it/s]\n"
     ]
    },
    {
     "name": "stdout",
     "output_type": "stream",
     "text": [
      "Epoch 7, Loss: 5.42967809677124\n",
      "[SYST] Epoch 7\n"
     ]
    },
    {
     "name": "stderr",
     "output_type": "stream",
     "text": [
      "100%|████████████████████████████████████████████████████████| 200/200 [00:13<00:00, 14.81it/s]\n"
     ]
    },
    {
     "name": "stdout",
     "output_type": "stream",
     "text": [
      "Epoch 8, Loss: 5.426621499061585\n",
      "[SYST] Epoch 8\n"
     ]
    },
    {
     "name": "stderr",
     "output_type": "stream",
     "text": [
      "100%|████████████████████████████████████████████████████████| 200/200 [00:13<00:00, 14.93it/s]\n"
     ]
    },
    {
     "name": "stdout",
     "output_type": "stream",
     "text": [
      "Epoch 9, Loss: 5.425121054649353\n",
      "[SYST] Epoch 9\n"
     ]
    },
    {
     "name": "stderr",
     "output_type": "stream",
     "text": [
      "100%|████████████████████████████████████████████████████████| 200/200 [00:14<00:00, 13.71it/s]\n"
     ]
    },
    {
     "name": "stdout",
     "output_type": "stream",
     "text": [
      "Epoch 10, Loss: 5.424142351150513\n",
      "[SYST] Epoch 0\n"
     ]
    },
    {
     "name": "stderr",
     "output_type": "stream",
     "text": [
      "100%|████████████████████████████████████████████████████████████| 2/2 [00:00<00:00, 16.34it/s]\n"
     ]
    },
    {
     "name": "stdout",
     "output_type": "stream",
     "text": [
      "Test Accuracy: 60.70%\n",
      "[{'accuracy': 0.9989, 'Layer1': {'[[0, 1, 2, 3, 4, 5, 6, 7], [8, 9, 10, 11, 12, 13, 14, 15]]': 0.960625, '[[0, 1], [2, 3]]': 0.8984375, '[[0], [1]]': 0.87734375}, 'Layer2': {'[[0, 1, 2, 3, 4, 5, 6, 7], [8, 9, 10, 11, 12, 13, 14, 15]]': 0.633046875, '[[0, 1], [2, 3]]': 0.767265625, '[[0], [1]]': 0.623515625}, 'Layer3': {'[[0, 1, 2, 3, 4, 5, 6, 7], [8, 9, 10, 11, 12, 13, 14, 15]]': 0.562578125, '[[0, 1], [2, 3]]': 0.631953125, '[[0], [1]]': 0.627265625}}, {'accuracy': 0.998, 'Layer1': {'[[0, 1, 2, 3, 4, 5, 6, 7], [8, 9, 10, 11, 12, 13, 14, 15]]': 0.885390625, '[[0, 1], [2, 3]]': 0.808515625, '[[0], [1]]': 0.806796875}, 'Layer2': {'[[0, 1, 2, 3, 4, 5, 6, 7], [8, 9, 10, 11, 12, 13, 14, 15]]': 0.558359375, '[[0, 1], [2, 3]]': 0.547109375, '[[0], [1]]': 0.475}, 'Layer3': {'[[0, 1, 2, 3, 4, 5, 6, 7], [8, 9, 10, 11, 12, 13, 14, 15]]': 0.61296875, '[[0, 1], [2, 3]]': 0.64421875, '[[0], [1]]': 0.6378125}}, {'accuracy': 0.9988, 'Layer1': {'[[0, 1, 2, 3, 4, 5, 6, 7], [8, 9, 10, 11, 12, 13, 14, 15]]': 0.945234375, '[[0, 1], [2, 3]]': 0.87828125, '[[0], [1]]': 0.847109375}, 'Layer2': {'[[0, 1, 2, 3, 4, 5, 6, 7], [8, 9, 10, 11, 12, 13, 14, 15]]': 0.91125, '[[0, 1], [2, 3]]': 0.86890625, '[[0], [1]]': 0.823984375}, 'Layer3': {'[[0, 1, 2, 3, 4, 5, 6, 7], [8, 9, 10, 11, 12, 13, 14, 15]]': 0.6046875, '[[0, 1], [2, 3]]': 0.63546875, '[[0], [1]]': 0.625390625}}, {'accuracy': 0.9989, 'Layer1': {'[[0, 1, 2, 3, 4, 5, 6, 7], [8, 9, 10, 11, 12, 13, 14, 15]]': 0.892734375, '[[0, 1], [2, 3]]': 0.8578125, '[[0], [1]]': 0.835078125}, 'Layer2': {'[[0, 1, 2, 3, 4, 5, 6, 7], [8, 9, 10, 11, 12, 13, 14, 15]]': 0.65078125, '[[0, 1], [2, 3]]': 0.619921875, '[[0], [1]]': 0.60828125}, 'Layer3': {'[[0, 1, 2, 3, 4, 5, 6, 7], [8, 9, 10, 11, 12, 13, 14, 15]]': 0.631171875, '[[0, 1], [2, 3]]': 0.664609375, '[[0], [1]]': 0.66453125}}, {'accuracy': 0.9974, 'Layer1': {'[[0, 1, 2, 3, 4, 5, 6, 7], [8, 9, 10, 11, 12, 13, 14, 15]]': 0.946875, '[[0, 1], [2, 3]]': 0.8821875, '[[0], [1]]': 0.55375}, 'Layer2': {'[[0, 1, 2, 3, 4, 5, 6, 7], [8, 9, 10, 11, 12, 13, 14, 15]]': 0.68890625, '[[0, 1], [2, 3]]': 0.561640625, '[[0], [1]]': 0.5209375}, 'Layer3': {'[[0, 1, 2, 3, 4, 5, 6, 7], [8, 9, 10, 11, 12, 13, 14, 15]]': 0.613984375, '[[0, 1], [2, 3]]': 0.62515625, '[[0], [1]]': 0.6325}}, {'accuracy': 0.9999, 'Layer1': {'[[0, 1, 2, 3, 4, 5, 6, 7], [8, 9, 10, 11, 12, 13, 14, 15]]': 0.95109375, '[[0, 1], [2, 3]]': 0.935625, '[[0], [1]]': 0.910859375}, 'Layer2': {'[[0, 1, 2, 3, 4, 5, 6, 7], [8, 9, 10, 11, 12, 13, 14, 15]]': 0.73109375, '[[0, 1], [2, 3]]': 0.693359375, '[[0], [1]]': 0.523046875}, 'Layer3': {'[[0, 1, 2, 3, 4, 5, 6, 7], [8, 9, 10, 11, 12, 13, 14, 15]]': 0.623125, '[[0, 1], [2, 3]]': 0.668125, '[[0], [1]]': 0.6696875}}, {'accuracy': 0.999, 'Layer1': {'[[0, 1, 2, 3, 4, 5, 6, 7], [8, 9, 10, 11, 12, 13, 14, 15]]': 0.941171875, '[[0, 1], [2, 3]]': 0.903984375, '[[0], [1]]': 0.87953125}, 'Layer2': {'[[0, 1, 2, 3, 4, 5, 6, 7], [8, 9, 10, 11, 12, 13, 14, 15]]': 0.68984375, '[[0, 1], [2, 3]]': 0.686484375, '[[0], [1]]': 0.62828125}, 'Layer3': {'[[0, 1, 2, 3, 4, 5, 6, 7], [8, 9, 10, 11, 12, 13, 14, 15]]': 0.595078125, '[[0, 1], [2, 3]]': 0.63203125, '[[0], [1]]': 0.626171875}}, {'accuracy': 0.9968, 'Layer1': {'[[0, 1, 2, 3, 4, 5, 6, 7], [8, 9, 10, 11, 12, 13, 14, 15]]': 0.9278125, '[[0, 1], [2, 3]]': 0.853828125, '[[0], [1]]': 0.633515625}, 'Layer2': {'[[0, 1, 2, 3, 4, 5, 6, 7], [8, 9, 10, 11, 12, 13, 14, 15]]': 0.734453125, '[[0, 1], [2, 3]]': 0.627421875, '[[0], [1]]': 0.673046875}, 'Layer3': {'[[0, 1, 2, 3, 4, 5, 6, 7], [8, 9, 10, 11, 12, 13, 14, 15]]': 0.56921875, '[[0, 1], [2, 3]]': 0.61671875, '[[0], [1]]': 0.622734375}}, {'accuracy': 0.9991, 'Layer1': {'[[0, 1, 2, 3, 4, 5, 6, 7], [8, 9, 10, 11, 12, 13, 14, 15]]': 0.8653125, '[[0, 1], [2, 3]]': 0.791015625, '[[0], [1]]': 0.78640625}, 'Layer2': {'[[0, 1, 2, 3, 4, 5, 6, 7], [8, 9, 10, 11, 12, 13, 14, 15]]': 0.72234375, '[[0, 1], [2, 3]]': 0.686015625, '[[0], [1]]': 0.60140625}, 'Layer3': {'[[0, 1, 2, 3, 4, 5, 6, 7], [8, 9, 10, 11, 12, 13, 14, 15]]': 0.631796875, '[[0, 1], [2, 3]]': 0.67015625, '[[0], [1]]': 0.67078125}}, {'accuracy': 0.9992, 'Layer1': {'[[0, 1, 2, 3, 4, 5, 6, 7], [8, 9, 10, 11, 12, 13, 14, 15]]': 0.888046875, '[[0, 1], [2, 3]]': 0.839453125, '[[0], [1]]': 0.82421875}, 'Layer2': {'[[0, 1, 2, 3, 4, 5, 6, 7], [8, 9, 10, 11, 12, 13, 14, 15]]': 0.620078125, '[[0, 1], [2, 3]]': 0.57953125, '[[0], [1]]': 0.606953125}}]\n",
      "Layer3 : [[0, 1, 2, 3, 4, 5, 6, 7], [8, 9, 10, 11, 12, 13, 14, 15]]\n",
      "restructuring\n"
     ]
    },
    {
     "name": "stderr",
     "output_type": "stream",
     "text": [
      "100%|█████████████████████████████████████████████| 1280000/1280000 [00:28<00:00, 45653.34it/s]\n"
     ]
    },
    {
     "name": "stdout",
     "output_type": "stream",
     "text": [
      "restructuring\n"
     ]
    },
    {
     "name": "stderr",
     "output_type": "stream",
     "text": [
      "100%|█████████████████████████████████████████████████| 12800/12800 [00:00<00:00, 33447.23it/s]\n"
     ]
    },
    {
     "name": "stdout",
     "output_type": "stream",
     "text": [
      "[SYST] Prepare Data\n"
     ]
    },
    {
     "name": "stderr",
     "output_type": "stream",
     "text": [
      "100%|█████████████████████████████████████████████| 1280000/1280000 [00:20<00:00, 62742.34it/s]\n"
     ]
    },
    {
     "name": "stdout",
     "output_type": "stream",
     "text": [
      "[SYST] Prepare Data\n"
     ]
    },
    {
     "name": "stderr",
     "output_type": "stream",
     "text": [
      "100%|█████████████████████████████████████████████████| 12800/12800 [00:00<00:00, 23229.36it/s]\n"
     ]
    },
    {
     "name": "stdout",
     "output_type": "stream",
     "text": [
      "[SYST] Epoch 0\n"
     ]
    },
    {
     "name": "stderr",
     "output_type": "stream",
     "text": [
      "100%|████████████████████████████████████████████████████████| 200/200 [00:13<00:00, 14.65it/s]\n"
     ]
    },
    {
     "name": "stdout",
     "output_type": "stream",
     "text": [
      "Epoch 1, Loss: 5.333640396595001\n",
      "[SYST] Epoch 1\n"
     ]
    },
    {
     "name": "stderr",
     "output_type": "stream",
     "text": [
      "100%|████████████████████████████████████████████████████████| 200/200 [00:13<00:00, 14.84it/s]\n"
     ]
    },
    {
     "name": "stdout",
     "output_type": "stream",
     "text": [
      "Epoch 2, Loss: 5.255073597431183\n",
      "[SYST] Epoch 2\n"
     ]
    },
    {
     "name": "stderr",
     "output_type": "stream",
     "text": [
      "100%|████████████████████████████████████████████████████████| 200/200 [00:13<00:00, 14.80it/s]\n"
     ]
    },
    {
     "name": "stdout",
     "output_type": "stream",
     "text": [
      "Epoch 3, Loss: 5.247119028568267\n",
      "[SYST] Epoch 3\n"
     ]
    },
    {
     "name": "stderr",
     "output_type": "stream",
     "text": [
      "100%|████████████████████████████████████████████████████████| 200/200 [00:13<00:00, 14.67it/s]\n"
     ]
    },
    {
     "name": "stdout",
     "output_type": "stream",
     "text": [
      "Epoch 4, Loss: 5.244977533817291\n",
      "[SYST] Epoch 4\n"
     ]
    },
    {
     "name": "stderr",
     "output_type": "stream",
     "text": [
      "100%|████████████████████████████████████████████████████████| 200/200 [00:13<00:00, 14.80it/s]\n"
     ]
    },
    {
     "name": "stdout",
     "output_type": "stream",
     "text": [
      "Epoch 5, Loss: 5.243776252269745\n",
      "[SYST] Epoch 5\n"
     ]
    },
    {
     "name": "stderr",
     "output_type": "stream",
     "text": [
      "100%|████████████████████████████████████████████████████████| 200/200 [00:13<00:00, 14.81it/s]\n"
     ]
    },
    {
     "name": "stdout",
     "output_type": "stream",
     "text": [
      "Epoch 6, Loss: 5.243333485126495\n",
      "[SYST] Epoch 6\n"
     ]
    },
    {
     "name": "stderr",
     "output_type": "stream",
     "text": [
      "100%|████████████████████████████████████████████████████████| 200/200 [00:13<00:00, 14.70it/s]\n"
     ]
    },
    {
     "name": "stdout",
     "output_type": "stream",
     "text": [
      "Epoch 7, Loss: 5.243042166233063\n",
      "[SYST] Epoch 7\n"
     ]
    },
    {
     "name": "stderr",
     "output_type": "stream",
     "text": [
      "100%|████████████████████████████████████████████████████████| 200/200 [00:13<00:00, 14.64it/s]\n"
     ]
    },
    {
     "name": "stdout",
     "output_type": "stream",
     "text": [
      "Epoch 8, Loss: 5.242718026638031\n",
      "[SYST] Epoch 8\n"
     ]
    },
    {
     "name": "stderr",
     "output_type": "stream",
     "text": [
      "100%|████████████████████████████████████████████████████████| 200/200 [00:13<00:00, 14.29it/s]\n"
     ]
    },
    {
     "name": "stdout",
     "output_type": "stream",
     "text": [
      "Epoch 9, Loss: 5.242936899662018\n",
      "[SYST] Epoch 9\n"
     ]
    },
    {
     "name": "stderr",
     "output_type": "stream",
     "text": [
      "100%|████████████████████████████████████████████████████████| 200/200 [00:14<00:00, 13.64it/s]\n"
     ]
    },
    {
     "name": "stdout",
     "output_type": "stream",
     "text": [
      "Epoch 10, Loss: 5.242719027996063\n",
      "[SYST] Epoch 0\n"
     ]
    },
    {
     "name": "stderr",
     "output_type": "stream",
     "text": [
      "100%|████████████████████████████████████████████████████████████| 2/2 [00:00<00:00, 14.37it/s]\n"
     ]
    },
    {
     "name": "stdout",
     "output_type": "stream",
     "text": [
      "Test Accuracy: 62.74%\n",
      "[{'accuracy': 0.9989, 'Layer1': {'[[0, 1, 2, 3, 4, 5, 6, 7], [8, 9, 10, 11, 12, 13, 14, 15]]': 0.960625, '[[0, 1], [2, 3]]': 0.8984375, '[[0], [1]]': 0.87734375}, 'Layer2': {'[[0, 1, 2, 3, 4, 5, 6, 7], [8, 9, 10, 11, 12, 13, 14, 15]]': 0.633046875, '[[0, 1], [2, 3]]': 0.767265625, '[[0], [1]]': 0.623515625}, 'Layer3': {'[[0, 1, 2, 3, 4, 5, 6, 7], [8, 9, 10, 11, 12, 13, 14, 15]]': 0.562578125, '[[0, 1], [2, 3]]': 0.631953125, '[[0], [1]]': 0.627265625}}, {'accuracy': 0.998, 'Layer1': {'[[0, 1, 2, 3, 4, 5, 6, 7], [8, 9, 10, 11, 12, 13, 14, 15]]': 0.885390625, '[[0, 1], [2, 3]]': 0.808515625, '[[0], [1]]': 0.806796875}, 'Layer2': {'[[0, 1, 2, 3, 4, 5, 6, 7], [8, 9, 10, 11, 12, 13, 14, 15]]': 0.558359375, '[[0, 1], [2, 3]]': 0.547109375, '[[0], [1]]': 0.475}, 'Layer3': {'[[0, 1, 2, 3, 4, 5, 6, 7], [8, 9, 10, 11, 12, 13, 14, 15]]': 0.61296875, '[[0, 1], [2, 3]]': 0.64421875, '[[0], [1]]': 0.6378125}}, {'accuracy': 0.9988, 'Layer1': {'[[0, 1, 2, 3, 4, 5, 6, 7], [8, 9, 10, 11, 12, 13, 14, 15]]': 0.945234375, '[[0, 1], [2, 3]]': 0.87828125, '[[0], [1]]': 0.847109375}, 'Layer2': {'[[0, 1, 2, 3, 4, 5, 6, 7], [8, 9, 10, 11, 12, 13, 14, 15]]': 0.91125, '[[0, 1], [2, 3]]': 0.86890625, '[[0], [1]]': 0.823984375}, 'Layer3': {'[[0, 1, 2, 3, 4, 5, 6, 7], [8, 9, 10, 11, 12, 13, 14, 15]]': 0.6046875, '[[0, 1], [2, 3]]': 0.63546875, '[[0], [1]]': 0.625390625}}, {'accuracy': 0.9989, 'Layer1': {'[[0, 1, 2, 3, 4, 5, 6, 7], [8, 9, 10, 11, 12, 13, 14, 15]]': 0.892734375, '[[0, 1], [2, 3]]': 0.8578125, '[[0], [1]]': 0.835078125}, 'Layer2': {'[[0, 1, 2, 3, 4, 5, 6, 7], [8, 9, 10, 11, 12, 13, 14, 15]]': 0.65078125, '[[0, 1], [2, 3]]': 0.619921875, '[[0], [1]]': 0.60828125}, 'Layer3': {'[[0, 1, 2, 3, 4, 5, 6, 7], [8, 9, 10, 11, 12, 13, 14, 15]]': 0.631171875, '[[0, 1], [2, 3]]': 0.664609375, '[[0], [1]]': 0.66453125}}, {'accuracy': 0.9974, 'Layer1': {'[[0, 1, 2, 3, 4, 5, 6, 7], [8, 9, 10, 11, 12, 13, 14, 15]]': 0.946875, '[[0, 1], [2, 3]]': 0.8821875, '[[0], [1]]': 0.55375}, 'Layer2': {'[[0, 1, 2, 3, 4, 5, 6, 7], [8, 9, 10, 11, 12, 13, 14, 15]]': 0.68890625, '[[0, 1], [2, 3]]': 0.561640625, '[[0], [1]]': 0.5209375}, 'Layer3': {'[[0, 1, 2, 3, 4, 5, 6, 7], [8, 9, 10, 11, 12, 13, 14, 15]]': 0.613984375, '[[0, 1], [2, 3]]': 0.62515625, '[[0], [1]]': 0.6325}}, {'accuracy': 0.9999, 'Layer1': {'[[0, 1, 2, 3, 4, 5, 6, 7], [8, 9, 10, 11, 12, 13, 14, 15]]': 0.95109375, '[[0, 1], [2, 3]]': 0.935625, '[[0], [1]]': 0.910859375}, 'Layer2': {'[[0, 1, 2, 3, 4, 5, 6, 7], [8, 9, 10, 11, 12, 13, 14, 15]]': 0.73109375, '[[0, 1], [2, 3]]': 0.693359375, '[[0], [1]]': 0.523046875}, 'Layer3': {'[[0, 1, 2, 3, 4, 5, 6, 7], [8, 9, 10, 11, 12, 13, 14, 15]]': 0.623125, '[[0, 1], [2, 3]]': 0.668125, '[[0], [1]]': 0.6696875}}, {'accuracy': 0.999, 'Layer1': {'[[0, 1, 2, 3, 4, 5, 6, 7], [8, 9, 10, 11, 12, 13, 14, 15]]': 0.941171875, '[[0, 1], [2, 3]]': 0.903984375, '[[0], [1]]': 0.87953125}, 'Layer2': {'[[0, 1, 2, 3, 4, 5, 6, 7], [8, 9, 10, 11, 12, 13, 14, 15]]': 0.68984375, '[[0, 1], [2, 3]]': 0.686484375, '[[0], [1]]': 0.62828125}, 'Layer3': {'[[0, 1, 2, 3, 4, 5, 6, 7], [8, 9, 10, 11, 12, 13, 14, 15]]': 0.595078125, '[[0, 1], [2, 3]]': 0.63203125, '[[0], [1]]': 0.626171875}}, {'accuracy': 0.9968, 'Layer1': {'[[0, 1, 2, 3, 4, 5, 6, 7], [8, 9, 10, 11, 12, 13, 14, 15]]': 0.9278125, '[[0, 1], [2, 3]]': 0.853828125, '[[0], [1]]': 0.633515625}, 'Layer2': {'[[0, 1, 2, 3, 4, 5, 6, 7], [8, 9, 10, 11, 12, 13, 14, 15]]': 0.734453125, '[[0, 1], [2, 3]]': 0.627421875, '[[0], [1]]': 0.673046875}, 'Layer3': {'[[0, 1, 2, 3, 4, 5, 6, 7], [8, 9, 10, 11, 12, 13, 14, 15]]': 0.56921875, '[[0, 1], [2, 3]]': 0.61671875, '[[0], [1]]': 0.622734375}}, {'accuracy': 0.9991, 'Layer1': {'[[0, 1, 2, 3, 4, 5, 6, 7], [8, 9, 10, 11, 12, 13, 14, 15]]': 0.8653125, '[[0, 1], [2, 3]]': 0.791015625, '[[0], [1]]': 0.78640625}, 'Layer2': {'[[0, 1, 2, 3, 4, 5, 6, 7], [8, 9, 10, 11, 12, 13, 14, 15]]': 0.72234375, '[[0, 1], [2, 3]]': 0.686015625, '[[0], [1]]': 0.60140625}, 'Layer3': {'[[0, 1, 2, 3, 4, 5, 6, 7], [8, 9, 10, 11, 12, 13, 14, 15]]': 0.631796875, '[[0, 1], [2, 3]]': 0.67015625, '[[0], [1]]': 0.67078125}}, {'accuracy': 0.9992, 'Layer1': {'[[0, 1, 2, 3, 4, 5, 6, 7], [8, 9, 10, 11, 12, 13, 14, 15]]': 0.888046875, '[[0, 1], [2, 3]]': 0.839453125, '[[0], [1]]': 0.82421875}, 'Layer2': {'[[0, 1, 2, 3, 4, 5, 6, 7], [8, 9, 10, 11, 12, 13, 14, 15]]': 0.620078125, '[[0, 1], [2, 3]]': 0.57953125, '[[0], [1]]': 0.606953125}, 'Layer3': {'[[0, 1, 2, 3, 4, 5, 6, 7], [8, 9, 10, 11, 12, 13, 14, 15]]': 0.627421875}}]\n",
      "Layer3 : [[0, 1], [2, 3]]\n",
      "restructuring\n"
     ]
    },
    {
     "name": "stderr",
     "output_type": "stream",
     "text": [
      "100%|█████████████████████████████████████████████| 1280000/1280000 [00:28<00:00, 45443.04it/s]\n"
     ]
    },
    {
     "name": "stdout",
     "output_type": "stream",
     "text": [
      "restructuring\n"
     ]
    },
    {
     "name": "stderr",
     "output_type": "stream",
     "text": [
      "100%|█████████████████████████████████████████████████| 12800/12800 [00:00<00:00, 33065.99it/s]\n"
     ]
    },
    {
     "name": "stdout",
     "output_type": "stream",
     "text": [
      "[SYST] Prepare Data\n"
     ]
    },
    {
     "name": "stderr",
     "output_type": "stream",
     "text": [
      "100%|█████████████████████████████████████████████| 1280000/1280000 [00:20<00:00, 62728.93it/s]\n"
     ]
    },
    {
     "name": "stdout",
     "output_type": "stream",
     "text": [
      "[SYST] Prepare Data\n"
     ]
    },
    {
     "name": "stderr",
     "output_type": "stream",
     "text": [
      "100%|█████████████████████████████████████████████████| 12800/12800 [00:00<00:00, 23733.36it/s]\n"
     ]
    },
    {
     "name": "stdout",
     "output_type": "stream",
     "text": [
      "[SYST] Epoch 0\n"
     ]
    },
    {
     "name": "stderr",
     "output_type": "stream",
     "text": [
      "100%|████████████████████████████████████████████████████████| 200/200 [00:13<00:00, 14.88it/s]\n"
     ]
    },
    {
     "name": "stdout",
     "output_type": "stream",
     "text": [
      "Epoch 1, Loss: 5.3775793647766115\n",
      "[SYST] Epoch 1\n"
     ]
    },
    {
     "name": "stderr",
     "output_type": "stream",
     "text": [
      "100%|████████████████████████████████████████████████████████| 200/200 [00:13<00:00, 14.65it/s]\n"
     ]
    },
    {
     "name": "stdout",
     "output_type": "stream",
     "text": [
      "Epoch 2, Loss: 5.1277966833114625\n",
      "[SYST] Epoch 2\n"
     ]
    },
    {
     "name": "stderr",
     "output_type": "stream",
     "text": [
      "100%|████████████████████████████████████████████████████████| 200/200 [00:13<00:00, 14.91it/s]\n"
     ]
    },
    {
     "name": "stdout",
     "output_type": "stream",
     "text": [
      "Epoch 3, Loss: 5.113118257522583\n",
      "[SYST] Epoch 3\n"
     ]
    },
    {
     "name": "stderr",
     "output_type": "stream",
     "text": [
      "100%|████████████████████████████████████████████████████████| 200/200 [00:13<00:00, 14.78it/s]\n"
     ]
    },
    {
     "name": "stdout",
     "output_type": "stream",
     "text": [
      "Epoch 4, Loss: 5.105919318199158\n",
      "[SYST] Epoch 4\n"
     ]
    },
    {
     "name": "stderr",
     "output_type": "stream",
     "text": [
      "100%|████████████████████████████████████████████████████████| 200/200 [00:13<00:00, 14.95it/s]\n"
     ]
    },
    {
     "name": "stdout",
     "output_type": "stream",
     "text": [
      "Epoch 5, Loss: 5.1023690176010135\n",
      "[SYST] Epoch 5\n"
     ]
    },
    {
     "name": "stderr",
     "output_type": "stream",
     "text": [
      "100%|████████████████████████████████████████████████████████| 200/200 [00:13<00:00, 14.67it/s]\n"
     ]
    },
    {
     "name": "stdout",
     "output_type": "stream",
     "text": [
      "Epoch 6, Loss: 5.100281853675842\n",
      "[SYST] Epoch 6\n"
     ]
    },
    {
     "name": "stderr",
     "output_type": "stream",
     "text": [
      "100%|████████████████████████████████████████████████████████| 200/200 [00:13<00:00, 14.93it/s]\n"
     ]
    },
    {
     "name": "stdout",
     "output_type": "stream",
     "text": [
      "Epoch 7, Loss: 5.099055881500244\n",
      "[SYST] Epoch 7\n"
     ]
    },
    {
     "name": "stderr",
     "output_type": "stream",
     "text": [
      "100%|████████████████████████████████████████████████████████| 200/200 [00:13<00:00, 14.90it/s]\n"
     ]
    },
    {
     "name": "stdout",
     "output_type": "stream",
     "text": [
      "Epoch 8, Loss: 5.098101298809052\n",
      "[SYST] Epoch 8\n"
     ]
    },
    {
     "name": "stderr",
     "output_type": "stream",
     "text": [
      "100%|████████████████████████████████████████████████████████| 200/200 [00:13<00:00, 14.81it/s]\n"
     ]
    },
    {
     "name": "stdout",
     "output_type": "stream",
     "text": [
      "Epoch 9, Loss: 5.097330389022827\n",
      "[SYST] Epoch 9\n"
     ]
    },
    {
     "name": "stderr",
     "output_type": "stream",
     "text": [
      "100%|████████████████████████████████████████████████████████| 200/200 [00:13<00:00, 14.85it/s]\n"
     ]
    },
    {
     "name": "stdout",
     "output_type": "stream",
     "text": [
      "Epoch 10, Loss: 5.096643097400666\n",
      "[SYST] Epoch 0\n"
     ]
    },
    {
     "name": "stderr",
     "output_type": "stream",
     "text": [
      "100%|████████████████████████████████████████████████████████████| 2/2 [00:00<00:00, 16.01it/s]\n"
     ]
    },
    {
     "name": "stdout",
     "output_type": "stream",
     "text": [
      "Test Accuracy: 67.15%\n",
      "[{'accuracy': 0.9989, 'Layer1': {'[[0, 1, 2, 3, 4, 5, 6, 7], [8, 9, 10, 11, 12, 13, 14, 15]]': 0.960625, '[[0, 1], [2, 3]]': 0.8984375, '[[0], [1]]': 0.87734375}, 'Layer2': {'[[0, 1, 2, 3, 4, 5, 6, 7], [8, 9, 10, 11, 12, 13, 14, 15]]': 0.633046875, '[[0, 1], [2, 3]]': 0.767265625, '[[0], [1]]': 0.623515625}, 'Layer3': {'[[0, 1, 2, 3, 4, 5, 6, 7], [8, 9, 10, 11, 12, 13, 14, 15]]': 0.562578125, '[[0, 1], [2, 3]]': 0.631953125, '[[0], [1]]': 0.627265625}}, {'accuracy': 0.998, 'Layer1': {'[[0, 1, 2, 3, 4, 5, 6, 7], [8, 9, 10, 11, 12, 13, 14, 15]]': 0.885390625, '[[0, 1], [2, 3]]': 0.808515625, '[[0], [1]]': 0.806796875}, 'Layer2': {'[[0, 1, 2, 3, 4, 5, 6, 7], [8, 9, 10, 11, 12, 13, 14, 15]]': 0.558359375, '[[0, 1], [2, 3]]': 0.547109375, '[[0], [1]]': 0.475}, 'Layer3': {'[[0, 1, 2, 3, 4, 5, 6, 7], [8, 9, 10, 11, 12, 13, 14, 15]]': 0.61296875, '[[0, 1], [2, 3]]': 0.64421875, '[[0], [1]]': 0.6378125}}, {'accuracy': 0.9988, 'Layer1': {'[[0, 1, 2, 3, 4, 5, 6, 7], [8, 9, 10, 11, 12, 13, 14, 15]]': 0.945234375, '[[0, 1], [2, 3]]': 0.87828125, '[[0], [1]]': 0.847109375}, 'Layer2': {'[[0, 1, 2, 3, 4, 5, 6, 7], [8, 9, 10, 11, 12, 13, 14, 15]]': 0.91125, '[[0, 1], [2, 3]]': 0.86890625, '[[0], [1]]': 0.823984375}, 'Layer3': {'[[0, 1, 2, 3, 4, 5, 6, 7], [8, 9, 10, 11, 12, 13, 14, 15]]': 0.6046875, '[[0, 1], [2, 3]]': 0.63546875, '[[0], [1]]': 0.625390625}}, {'accuracy': 0.9989, 'Layer1': {'[[0, 1, 2, 3, 4, 5, 6, 7], [8, 9, 10, 11, 12, 13, 14, 15]]': 0.892734375, '[[0, 1], [2, 3]]': 0.8578125, '[[0], [1]]': 0.835078125}, 'Layer2': {'[[0, 1, 2, 3, 4, 5, 6, 7], [8, 9, 10, 11, 12, 13, 14, 15]]': 0.65078125, '[[0, 1], [2, 3]]': 0.619921875, '[[0], [1]]': 0.60828125}, 'Layer3': {'[[0, 1, 2, 3, 4, 5, 6, 7], [8, 9, 10, 11, 12, 13, 14, 15]]': 0.631171875, '[[0, 1], [2, 3]]': 0.664609375, '[[0], [1]]': 0.66453125}}, {'accuracy': 0.9974, 'Layer1': {'[[0, 1, 2, 3, 4, 5, 6, 7], [8, 9, 10, 11, 12, 13, 14, 15]]': 0.946875, '[[0, 1], [2, 3]]': 0.8821875, '[[0], [1]]': 0.55375}, 'Layer2': {'[[0, 1, 2, 3, 4, 5, 6, 7], [8, 9, 10, 11, 12, 13, 14, 15]]': 0.68890625, '[[0, 1], [2, 3]]': 0.561640625, '[[0], [1]]': 0.5209375}, 'Layer3': {'[[0, 1, 2, 3, 4, 5, 6, 7], [8, 9, 10, 11, 12, 13, 14, 15]]': 0.613984375, '[[0, 1], [2, 3]]': 0.62515625, '[[0], [1]]': 0.6325}}, {'accuracy': 0.9999, 'Layer1': {'[[0, 1, 2, 3, 4, 5, 6, 7], [8, 9, 10, 11, 12, 13, 14, 15]]': 0.95109375, '[[0, 1], [2, 3]]': 0.935625, '[[0], [1]]': 0.910859375}, 'Layer2': {'[[0, 1, 2, 3, 4, 5, 6, 7], [8, 9, 10, 11, 12, 13, 14, 15]]': 0.73109375, '[[0, 1], [2, 3]]': 0.693359375, '[[0], [1]]': 0.523046875}, 'Layer3': {'[[0, 1, 2, 3, 4, 5, 6, 7], [8, 9, 10, 11, 12, 13, 14, 15]]': 0.623125, '[[0, 1], [2, 3]]': 0.668125, '[[0], [1]]': 0.6696875}}, {'accuracy': 0.999, 'Layer1': {'[[0, 1, 2, 3, 4, 5, 6, 7], [8, 9, 10, 11, 12, 13, 14, 15]]': 0.941171875, '[[0, 1], [2, 3]]': 0.903984375, '[[0], [1]]': 0.87953125}, 'Layer2': {'[[0, 1, 2, 3, 4, 5, 6, 7], [8, 9, 10, 11, 12, 13, 14, 15]]': 0.68984375, '[[0, 1], [2, 3]]': 0.686484375, '[[0], [1]]': 0.62828125}, 'Layer3': {'[[0, 1, 2, 3, 4, 5, 6, 7], [8, 9, 10, 11, 12, 13, 14, 15]]': 0.595078125, '[[0, 1], [2, 3]]': 0.63203125, '[[0], [1]]': 0.626171875}}, {'accuracy': 0.9968, 'Layer1': {'[[0, 1, 2, 3, 4, 5, 6, 7], [8, 9, 10, 11, 12, 13, 14, 15]]': 0.9278125, '[[0, 1], [2, 3]]': 0.853828125, '[[0], [1]]': 0.633515625}, 'Layer2': {'[[0, 1, 2, 3, 4, 5, 6, 7], [8, 9, 10, 11, 12, 13, 14, 15]]': 0.734453125, '[[0, 1], [2, 3]]': 0.627421875, '[[0], [1]]': 0.673046875}, 'Layer3': {'[[0, 1, 2, 3, 4, 5, 6, 7], [8, 9, 10, 11, 12, 13, 14, 15]]': 0.56921875, '[[0, 1], [2, 3]]': 0.61671875, '[[0], [1]]': 0.622734375}}, {'accuracy': 0.9991, 'Layer1': {'[[0, 1, 2, 3, 4, 5, 6, 7], [8, 9, 10, 11, 12, 13, 14, 15]]': 0.8653125, '[[0, 1], [2, 3]]': 0.791015625, '[[0], [1]]': 0.78640625}, 'Layer2': {'[[0, 1, 2, 3, 4, 5, 6, 7], [8, 9, 10, 11, 12, 13, 14, 15]]': 0.72234375, '[[0, 1], [2, 3]]': 0.686015625, '[[0], [1]]': 0.60140625}, 'Layer3': {'[[0, 1, 2, 3, 4, 5, 6, 7], [8, 9, 10, 11, 12, 13, 14, 15]]': 0.631796875, '[[0, 1], [2, 3]]': 0.67015625, '[[0], [1]]': 0.67078125}}, {'accuracy': 0.9992, 'Layer1': {'[[0, 1, 2, 3, 4, 5, 6, 7], [8, 9, 10, 11, 12, 13, 14, 15]]': 0.888046875, '[[0, 1], [2, 3]]': 0.839453125, '[[0], [1]]': 0.82421875}, 'Layer2': {'[[0, 1, 2, 3, 4, 5, 6, 7], [8, 9, 10, 11, 12, 13, 14, 15]]': 0.620078125, '[[0, 1], [2, 3]]': 0.57953125, '[[0], [1]]': 0.606953125}, 'Layer3': {'[[0, 1, 2, 3, 4, 5, 6, 7], [8, 9, 10, 11, 12, 13, 14, 15]]': 0.627421875, '[[0, 1], [2, 3]]': 0.671484375}}]\n",
      "Layer3 : [[0], [1]]\n",
      "restructuring\n"
     ]
    },
    {
     "name": "stderr",
     "output_type": "stream",
     "text": [
      "100%|█████████████████████████████████████████████| 1280000/1280000 [00:27<00:00, 47387.91it/s]\n"
     ]
    },
    {
     "name": "stdout",
     "output_type": "stream",
     "text": [
      "restructuring\n"
     ]
    },
    {
     "name": "stderr",
     "output_type": "stream",
     "text": [
      "100%|█████████████████████████████████████████████████| 12800/12800 [00:00<00:00, 34217.37it/s]\n"
     ]
    },
    {
     "name": "stdout",
     "output_type": "stream",
     "text": [
      "[SYST] Prepare Data\n"
     ]
    },
    {
     "name": "stderr",
     "output_type": "stream",
     "text": [
      "100%|█████████████████████████████████████████████| 1280000/1280000 [00:20<00:00, 63758.40it/s]\n"
     ]
    },
    {
     "name": "stdout",
     "output_type": "stream",
     "text": [
      "[SYST] Prepare Data\n"
     ]
    },
    {
     "name": "stderr",
     "output_type": "stream",
     "text": [
      "100%|█████████████████████████████████████████████████| 12800/12800 [00:00<00:00, 18500.99it/s]\n"
     ]
    },
    {
     "name": "stdout",
     "output_type": "stream",
     "text": [
      "[SYST] Epoch 0\n"
     ]
    },
    {
     "name": "stderr",
     "output_type": "stream",
     "text": [
      "100%|████████████████████████████████████████████████████████| 200/200 [00:13<00:00, 15.02it/s]\n"
     ]
    },
    {
     "name": "stdout",
     "output_type": "stream",
     "text": [
      "Epoch 1, Loss: 5.287934048175812\n",
      "[SYST] Epoch 1\n"
     ]
    },
    {
     "name": "stderr",
     "output_type": "stream",
     "text": [
      "100%|████████████████████████████████████████████████████████| 200/200 [00:13<00:00, 14.98it/s]\n"
     ]
    },
    {
     "name": "stdout",
     "output_type": "stream",
     "text": [
      "Epoch 2, Loss: 5.149281828403473\n",
      "[SYST] Epoch 2\n"
     ]
    },
    {
     "name": "stderr",
     "output_type": "stream",
     "text": [
      "100%|████████████████████████████████████████████████████████| 200/200 [00:13<00:00, 14.63it/s]\n"
     ]
    },
    {
     "name": "stdout",
     "output_type": "stream",
     "text": [
      "Epoch 3, Loss: 5.133123803138733\n",
      "[SYST] Epoch 3\n"
     ]
    },
    {
     "name": "stderr",
     "output_type": "stream",
     "text": [
      "100%|████████████████████████████████████████████████████████| 200/200 [00:13<00:00, 14.98it/s]\n"
     ]
    },
    {
     "name": "stdout",
     "output_type": "stream",
     "text": [
      "Epoch 4, Loss: 5.120945656299591\n",
      "[SYST] Epoch 4\n"
     ]
    },
    {
     "name": "stderr",
     "output_type": "stream",
     "text": [
      "100%|████████████████████████████████████████████████████████| 200/200 [00:13<00:00, 14.91it/s]\n"
     ]
    },
    {
     "name": "stdout",
     "output_type": "stream",
     "text": [
      "Epoch 5, Loss: 5.112061865329743\n",
      "[SYST] Epoch 5\n"
     ]
    },
    {
     "name": "stderr",
     "output_type": "stream",
     "text": [
      "100%|████████████████████████████████████████████████████████| 200/200 [00:13<00:00, 14.95it/s]\n"
     ]
    },
    {
     "name": "stdout",
     "output_type": "stream",
     "text": [
      "Epoch 6, Loss: 5.106543481349945\n",
      "[SYST] Epoch 6\n"
     ]
    },
    {
     "name": "stderr",
     "output_type": "stream",
     "text": [
      "100%|████████████████████████████████████████████████████████| 200/200 [00:13<00:00, 14.74it/s]\n"
     ]
    },
    {
     "name": "stdout",
     "output_type": "stream",
     "text": [
      "Epoch 7, Loss: 5.103068704605103\n",
      "[SYST] Epoch 7\n"
     ]
    },
    {
     "name": "stderr",
     "output_type": "stream",
     "text": [
      "100%|████████████████████████████████████████████████████████| 200/200 [00:13<00:00, 14.89it/s]\n"
     ]
    },
    {
     "name": "stdout",
     "output_type": "stream",
     "text": [
      "Epoch 8, Loss: 5.101144137382508\n",
      "[SYST] Epoch 8\n"
     ]
    },
    {
     "name": "stderr",
     "output_type": "stream",
     "text": [
      "100%|████████████████████████████████████████████████████████| 200/200 [00:14<00:00, 13.66it/s]\n"
     ]
    },
    {
     "name": "stdout",
     "output_type": "stream",
     "text": [
      "Epoch 9, Loss: 5.099848411083221\n",
      "[SYST] Epoch 9\n"
     ]
    },
    {
     "name": "stderr",
     "output_type": "stream",
     "text": [
      "100%|████████████████████████████████████████████████████████| 200/200 [00:13<00:00, 14.62it/s]\n"
     ]
    },
    {
     "name": "stdout",
     "output_type": "stream",
     "text": [
      "Epoch 10, Loss: 5.098964474201202\n",
      "[SYST] Epoch 0\n"
     ]
    },
    {
     "name": "stderr",
     "output_type": "stream",
     "text": [
      "100%|████████████████████████████████████████████████████████████| 2/2 [00:00<00:00, 16.16it/s]"
     ]
    },
    {
     "name": "stdout",
     "output_type": "stream",
     "text": [
      "Test Accuracy: 67.11%\n",
      "[{'accuracy': 0.9989, 'Layer1': {'[[0, 1, 2, 3, 4, 5, 6, 7], [8, 9, 10, 11, 12, 13, 14, 15]]': 0.960625, '[[0, 1], [2, 3]]': 0.8984375, '[[0], [1]]': 0.87734375}, 'Layer2': {'[[0, 1, 2, 3, 4, 5, 6, 7], [8, 9, 10, 11, 12, 13, 14, 15]]': 0.633046875, '[[0, 1], [2, 3]]': 0.767265625, '[[0], [1]]': 0.623515625}, 'Layer3': {'[[0, 1, 2, 3, 4, 5, 6, 7], [8, 9, 10, 11, 12, 13, 14, 15]]': 0.562578125, '[[0, 1], [2, 3]]': 0.631953125, '[[0], [1]]': 0.627265625}}, {'accuracy': 0.998, 'Layer1': {'[[0, 1, 2, 3, 4, 5, 6, 7], [8, 9, 10, 11, 12, 13, 14, 15]]': 0.885390625, '[[0, 1], [2, 3]]': 0.808515625, '[[0], [1]]': 0.806796875}, 'Layer2': {'[[0, 1, 2, 3, 4, 5, 6, 7], [8, 9, 10, 11, 12, 13, 14, 15]]': 0.558359375, '[[0, 1], [2, 3]]': 0.547109375, '[[0], [1]]': 0.475}, 'Layer3': {'[[0, 1, 2, 3, 4, 5, 6, 7], [8, 9, 10, 11, 12, 13, 14, 15]]': 0.61296875, '[[0, 1], [2, 3]]': 0.64421875, '[[0], [1]]': 0.6378125}}, {'accuracy': 0.9988, 'Layer1': {'[[0, 1, 2, 3, 4, 5, 6, 7], [8, 9, 10, 11, 12, 13, 14, 15]]': 0.945234375, '[[0, 1], [2, 3]]': 0.87828125, '[[0], [1]]': 0.847109375}, 'Layer2': {'[[0, 1, 2, 3, 4, 5, 6, 7], [8, 9, 10, 11, 12, 13, 14, 15]]': 0.91125, '[[0, 1], [2, 3]]': 0.86890625, '[[0], [1]]': 0.823984375}, 'Layer3': {'[[0, 1, 2, 3, 4, 5, 6, 7], [8, 9, 10, 11, 12, 13, 14, 15]]': 0.6046875, '[[0, 1], [2, 3]]': 0.63546875, '[[0], [1]]': 0.625390625}}, {'accuracy': 0.9989, 'Layer1': {'[[0, 1, 2, 3, 4, 5, 6, 7], [8, 9, 10, 11, 12, 13, 14, 15]]': 0.892734375, '[[0, 1], [2, 3]]': 0.8578125, '[[0], [1]]': 0.835078125}, 'Layer2': {'[[0, 1, 2, 3, 4, 5, 6, 7], [8, 9, 10, 11, 12, 13, 14, 15]]': 0.65078125, '[[0, 1], [2, 3]]': 0.619921875, '[[0], [1]]': 0.60828125}, 'Layer3': {'[[0, 1, 2, 3, 4, 5, 6, 7], [8, 9, 10, 11, 12, 13, 14, 15]]': 0.631171875, '[[0, 1], [2, 3]]': 0.664609375, '[[0], [1]]': 0.66453125}}, {'accuracy': 0.9974, 'Layer1': {'[[0, 1, 2, 3, 4, 5, 6, 7], [8, 9, 10, 11, 12, 13, 14, 15]]': 0.946875, '[[0, 1], [2, 3]]': 0.8821875, '[[0], [1]]': 0.55375}, 'Layer2': {'[[0, 1, 2, 3, 4, 5, 6, 7], [8, 9, 10, 11, 12, 13, 14, 15]]': 0.68890625, '[[0, 1], [2, 3]]': 0.561640625, '[[0], [1]]': 0.5209375}, 'Layer3': {'[[0, 1, 2, 3, 4, 5, 6, 7], [8, 9, 10, 11, 12, 13, 14, 15]]': 0.613984375, '[[0, 1], [2, 3]]': 0.62515625, '[[0], [1]]': 0.6325}}, {'accuracy': 0.9999, 'Layer1': {'[[0, 1, 2, 3, 4, 5, 6, 7], [8, 9, 10, 11, 12, 13, 14, 15]]': 0.95109375, '[[0, 1], [2, 3]]': 0.935625, '[[0], [1]]': 0.910859375}, 'Layer2': {'[[0, 1, 2, 3, 4, 5, 6, 7], [8, 9, 10, 11, 12, 13, 14, 15]]': 0.73109375, '[[0, 1], [2, 3]]': 0.693359375, '[[0], [1]]': 0.523046875}, 'Layer3': {'[[0, 1, 2, 3, 4, 5, 6, 7], [8, 9, 10, 11, 12, 13, 14, 15]]': 0.623125, '[[0, 1], [2, 3]]': 0.668125, '[[0], [1]]': 0.6696875}}, {'accuracy': 0.999, 'Layer1': {'[[0, 1, 2, 3, 4, 5, 6, 7], [8, 9, 10, 11, 12, 13, 14, 15]]': 0.941171875, '[[0, 1], [2, 3]]': 0.903984375, '[[0], [1]]': 0.87953125}, 'Layer2': {'[[0, 1, 2, 3, 4, 5, 6, 7], [8, 9, 10, 11, 12, 13, 14, 15]]': 0.68984375, '[[0, 1], [2, 3]]': 0.686484375, '[[0], [1]]': 0.62828125}, 'Layer3': {'[[0, 1, 2, 3, 4, 5, 6, 7], [8, 9, 10, 11, 12, 13, 14, 15]]': 0.595078125, '[[0, 1], [2, 3]]': 0.63203125, '[[0], [1]]': 0.626171875}}, {'accuracy': 0.9968, 'Layer1': {'[[0, 1, 2, 3, 4, 5, 6, 7], [8, 9, 10, 11, 12, 13, 14, 15]]': 0.9278125, '[[0, 1], [2, 3]]': 0.853828125, '[[0], [1]]': 0.633515625}, 'Layer2': {'[[0, 1, 2, 3, 4, 5, 6, 7], [8, 9, 10, 11, 12, 13, 14, 15]]': 0.734453125, '[[0, 1], [2, 3]]': 0.627421875, '[[0], [1]]': 0.673046875}, 'Layer3': {'[[0, 1, 2, 3, 4, 5, 6, 7], [8, 9, 10, 11, 12, 13, 14, 15]]': 0.56921875, '[[0, 1], [2, 3]]': 0.61671875, '[[0], [1]]': 0.622734375}}, {'accuracy': 0.9991, 'Layer1': {'[[0, 1, 2, 3, 4, 5, 6, 7], [8, 9, 10, 11, 12, 13, 14, 15]]': 0.8653125, '[[0, 1], [2, 3]]': 0.791015625, '[[0], [1]]': 0.78640625}, 'Layer2': {'[[0, 1, 2, 3, 4, 5, 6, 7], [8, 9, 10, 11, 12, 13, 14, 15]]': 0.72234375, '[[0, 1], [2, 3]]': 0.686015625, '[[0], [1]]': 0.60140625}, 'Layer3': {'[[0, 1, 2, 3, 4, 5, 6, 7], [8, 9, 10, 11, 12, 13, 14, 15]]': 0.631796875, '[[0, 1], [2, 3]]': 0.67015625, '[[0], [1]]': 0.67078125}}, {'accuracy': 0.9992, 'Layer1': {'[[0, 1, 2, 3, 4, 5, 6, 7], [8, 9, 10, 11, 12, 13, 14, 15]]': 0.888046875, '[[0, 1], [2, 3]]': 0.839453125, '[[0], [1]]': 0.82421875}, 'Layer2': {'[[0, 1, 2, 3, 4, 5, 6, 7], [8, 9, 10, 11, 12, 13, 14, 15]]': 0.620078125, '[[0, 1], [2, 3]]': 0.57953125, '[[0], [1]]': 0.606953125}, 'Layer3': {'[[0, 1, 2, 3, 4, 5, 6, 7], [8, 9, 10, 11, 12, 13, 14, 15]]': 0.627421875, '[[0, 1], [2, 3]]': 0.671484375, '[[0], [1]]': 0.67109375}}]\n"
     ]
    },
    {
     "name": "stderr",
     "output_type": "stream",
     "text": [
      "\n"
     ]
    }
   ],
   "source": [
    "results=[]\n",
    "for acseed in [4287, 3837, 9097, 2635, 5137, 6442, 5234, 4641, 8039, 2266]:\n",
    "    results.append({})\n",
    "    set_seed(acseed)\n",
    "    model,accuracy=make_model(epochs=3)\n",
    "    Layers=[]\n",
    "    Layers.append((\"Layer1\",model.mlp.h[0]))\n",
    "    Layers.append((\"Layer2\",model.mlp.h[1]))\n",
    "    Layers.append((\"Layer3\",model.mlp.h[2]))\n",
    "    inter_dims=[]\n",
    "    \n",
    "    inter_dims.append([list(range(0,8)),list(range(8,16))])\n",
    "    inter_dims.append([list(range(0,2)),list(range(2,4))])\n",
    "    inter_dims.append([list(range(0,1)),list(range(1,2))])\n",
    "    \"\"\"\n",
    "    inter_dims.append([list(range(0,8))])\n",
    "    inter_dims.append([list(range(0,2))])\n",
    "    inter_dims.append([list(range(0,1))])\n",
    "    \"\"\"\n",
    "    results[-1][\"accuracy\"]=accuracy\n",
    "    for LayerName,Layer in Layers:\n",
    "        results[-1][LayerName]={}\n",
    "        for inter_dim in inter_dims:\n",
    "            print(LayerName,\":\",inter_dim)\n",
    "            DAS_Train=make_das_testtrain(\"DAS_Train.pkl\")\n",
    "            DAS_Test=make_das_testtrain(\"DAS_Test.pkl\")\n",
    "    \n",
    "            #Initialize transformation function\n",
    "            p=Transformation_Function(16)\n",
    "            p.to(DEVICE)\n",
    "            p_inverse=InverseTransformation_Function(p)\n",
    "            \n",
    "            criterion = nn.CrossEntropyLoss()\n",
    "            optimizer = optim.Adam(p.parameters(), lr=0.001)\n",
    "            \n",
    "            phi=phi_class(p,p_inverse,criterion,optimizer)\n",
    "    \n",
    "            \n",
    "    \n",
    "            DAS_Experiment=Distributed_Alignment_Search(Model=model,\n",
    "                                                        Model_Layer=Layer,\n",
    "                                                        Train_Data_Raw=DAS_Train,\n",
    "                                                        Test_Data_Raw=DAS_Test,\n",
    "                                                        Hidden_Layer_Size=16,\n",
    "                                                        Variable_Dimensions=inter_dim,\n",
    "                                                        Transformation_Class=phi,\n",
    "                                                        Device=DEVICE)\n",
    "    \n",
    "            DAS_Experiment.train_test(batch_size=6400,\n",
    "                                      epochs=10,\n",
    "                                      train=True)\n",
    "    \n",
    "            accuracy=DAS_Experiment.train_test(batch_size=6400,\n",
    "                                               train=False)\n",
    "            \n",
    "            results[-1][LayerName][str(inter_dim)]=accuracy\n",
    "            DAS_Experiment.Cleanup()\n",
    "            DAS_Experiment=None\n",
    "            print(results)"
   ]
  },
  {
   "cell_type": "code",
   "execution_count": 13,
   "id": "78a3fd41-02b6-49bc-bbdf-4283677d25fc",
   "metadata": {},
   "outputs": [
    {
     "data": {
      "text/plain": [
       "[{'accuracy': 0.9989,\n",
       "  'Layer1': {'[[0, 1, 2, 3, 4, 5, 6, 7], [8, 9, 10, 11, 12, 13, 14, 15]]': 0.960625,\n",
       "   '[[0, 1], [2, 3]]': 0.8984375,\n",
       "   '[[0], [1]]': 0.87734375},\n",
       "  'Layer2': {'[[0, 1, 2, 3, 4, 5, 6, 7], [8, 9, 10, 11, 12, 13, 14, 15]]': 0.633046875,\n",
       "   '[[0, 1], [2, 3]]': 0.767265625,\n",
       "   '[[0], [1]]': 0.623515625},\n",
       "  'Layer3': {'[[0, 1, 2, 3, 4, 5, 6, 7], [8, 9, 10, 11, 12, 13, 14, 15]]': 0.562578125,\n",
       "   '[[0, 1], [2, 3]]': 0.631953125,\n",
       "   '[[0], [1]]': 0.627265625}},\n",
       " {'accuracy': 0.998,\n",
       "  'Layer1': {'[[0, 1, 2, 3, 4, 5, 6, 7], [8, 9, 10, 11, 12, 13, 14, 15]]': 0.885390625,\n",
       "   '[[0, 1], [2, 3]]': 0.808515625,\n",
       "   '[[0], [1]]': 0.806796875},\n",
       "  'Layer2': {'[[0, 1, 2, 3, 4, 5, 6, 7], [8, 9, 10, 11, 12, 13, 14, 15]]': 0.558359375,\n",
       "   '[[0, 1], [2, 3]]': 0.547109375,\n",
       "   '[[0], [1]]': 0.475},\n",
       "  'Layer3': {'[[0, 1, 2, 3, 4, 5, 6, 7], [8, 9, 10, 11, 12, 13, 14, 15]]': 0.61296875,\n",
       "   '[[0, 1], [2, 3]]': 0.64421875,\n",
       "   '[[0], [1]]': 0.6378125}},\n",
       " {'accuracy': 0.9988,\n",
       "  'Layer1': {'[[0, 1, 2, 3, 4, 5, 6, 7], [8, 9, 10, 11, 12, 13, 14, 15]]': 0.945234375,\n",
       "   '[[0, 1], [2, 3]]': 0.87828125,\n",
       "   '[[0], [1]]': 0.847109375},\n",
       "  'Layer2': {'[[0, 1, 2, 3, 4, 5, 6, 7], [8, 9, 10, 11, 12, 13, 14, 15]]': 0.91125,\n",
       "   '[[0, 1], [2, 3]]': 0.86890625,\n",
       "   '[[0], [1]]': 0.823984375},\n",
       "  'Layer3': {'[[0, 1, 2, 3, 4, 5, 6, 7], [8, 9, 10, 11, 12, 13, 14, 15]]': 0.6046875,\n",
       "   '[[0, 1], [2, 3]]': 0.63546875,\n",
       "   '[[0], [1]]': 0.625390625}},\n",
       " {'accuracy': 0.9989,\n",
       "  'Layer1': {'[[0, 1, 2, 3, 4, 5, 6, 7], [8, 9, 10, 11, 12, 13, 14, 15]]': 0.892734375,\n",
       "   '[[0, 1], [2, 3]]': 0.8578125,\n",
       "   '[[0], [1]]': 0.835078125},\n",
       "  'Layer2': {'[[0, 1, 2, 3, 4, 5, 6, 7], [8, 9, 10, 11, 12, 13, 14, 15]]': 0.65078125,\n",
       "   '[[0, 1], [2, 3]]': 0.619921875,\n",
       "   '[[0], [1]]': 0.60828125},\n",
       "  'Layer3': {'[[0, 1, 2, 3, 4, 5, 6, 7], [8, 9, 10, 11, 12, 13, 14, 15]]': 0.631171875,\n",
       "   '[[0, 1], [2, 3]]': 0.664609375,\n",
       "   '[[0], [1]]': 0.66453125}},\n",
       " {'accuracy': 0.9974,\n",
       "  'Layer1': {'[[0, 1, 2, 3, 4, 5, 6, 7], [8, 9, 10, 11, 12, 13, 14, 15]]': 0.946875,\n",
       "   '[[0, 1], [2, 3]]': 0.8821875,\n",
       "   '[[0], [1]]': 0.55375},\n",
       "  'Layer2': {'[[0, 1, 2, 3, 4, 5, 6, 7], [8, 9, 10, 11, 12, 13, 14, 15]]': 0.68890625,\n",
       "   '[[0, 1], [2, 3]]': 0.561640625,\n",
       "   '[[0], [1]]': 0.5209375},\n",
       "  'Layer3': {'[[0, 1, 2, 3, 4, 5, 6, 7], [8, 9, 10, 11, 12, 13, 14, 15]]': 0.613984375,\n",
       "   '[[0, 1], [2, 3]]': 0.62515625,\n",
       "   '[[0], [1]]': 0.6325}},\n",
       " {'accuracy': 0.9999,\n",
       "  'Layer1': {'[[0, 1, 2, 3, 4, 5, 6, 7], [8, 9, 10, 11, 12, 13, 14, 15]]': 0.95109375,\n",
       "   '[[0, 1], [2, 3]]': 0.935625,\n",
       "   '[[0], [1]]': 0.910859375},\n",
       "  'Layer2': {'[[0, 1, 2, 3, 4, 5, 6, 7], [8, 9, 10, 11, 12, 13, 14, 15]]': 0.73109375,\n",
       "   '[[0, 1], [2, 3]]': 0.693359375,\n",
       "   '[[0], [1]]': 0.523046875},\n",
       "  'Layer3': {'[[0, 1, 2, 3, 4, 5, 6, 7], [8, 9, 10, 11, 12, 13, 14, 15]]': 0.623125,\n",
       "   '[[0, 1], [2, 3]]': 0.668125,\n",
       "   '[[0], [1]]': 0.6696875}},\n",
       " {'accuracy': 0.999,\n",
       "  'Layer1': {'[[0, 1, 2, 3, 4, 5, 6, 7], [8, 9, 10, 11, 12, 13, 14, 15]]': 0.941171875,\n",
       "   '[[0, 1], [2, 3]]': 0.903984375,\n",
       "   '[[0], [1]]': 0.87953125},\n",
       "  'Layer2': {'[[0, 1, 2, 3, 4, 5, 6, 7], [8, 9, 10, 11, 12, 13, 14, 15]]': 0.68984375,\n",
       "   '[[0, 1], [2, 3]]': 0.686484375,\n",
       "   '[[0], [1]]': 0.62828125},\n",
       "  'Layer3': {'[[0, 1, 2, 3, 4, 5, 6, 7], [8, 9, 10, 11, 12, 13, 14, 15]]': 0.595078125,\n",
       "   '[[0, 1], [2, 3]]': 0.63203125,\n",
       "   '[[0], [1]]': 0.626171875}},\n",
       " {'accuracy': 0.9968,\n",
       "  'Layer1': {'[[0, 1, 2, 3, 4, 5, 6, 7], [8, 9, 10, 11, 12, 13, 14, 15]]': 0.9278125,\n",
       "   '[[0, 1], [2, 3]]': 0.853828125,\n",
       "   '[[0], [1]]': 0.633515625},\n",
       "  'Layer2': {'[[0, 1, 2, 3, 4, 5, 6, 7], [8, 9, 10, 11, 12, 13, 14, 15]]': 0.734453125,\n",
       "   '[[0, 1], [2, 3]]': 0.627421875,\n",
       "   '[[0], [1]]': 0.673046875},\n",
       "  'Layer3': {'[[0, 1, 2, 3, 4, 5, 6, 7], [8, 9, 10, 11, 12, 13, 14, 15]]': 0.56921875,\n",
       "   '[[0, 1], [2, 3]]': 0.61671875,\n",
       "   '[[0], [1]]': 0.622734375}},\n",
       " {'accuracy': 0.9991,\n",
       "  'Layer1': {'[[0, 1, 2, 3, 4, 5, 6, 7], [8, 9, 10, 11, 12, 13, 14, 15]]': 0.8653125,\n",
       "   '[[0, 1], [2, 3]]': 0.791015625,\n",
       "   '[[0], [1]]': 0.78640625},\n",
       "  'Layer2': {'[[0, 1, 2, 3, 4, 5, 6, 7], [8, 9, 10, 11, 12, 13, 14, 15]]': 0.72234375,\n",
       "   '[[0, 1], [2, 3]]': 0.686015625,\n",
       "   '[[0], [1]]': 0.60140625},\n",
       "  'Layer3': {'[[0, 1, 2, 3, 4, 5, 6, 7], [8, 9, 10, 11, 12, 13, 14, 15]]': 0.631796875,\n",
       "   '[[0, 1], [2, 3]]': 0.67015625,\n",
       "   '[[0], [1]]': 0.67078125}},\n",
       " {'accuracy': 0.9992,\n",
       "  'Layer1': {'[[0, 1, 2, 3, 4, 5, 6, 7], [8, 9, 10, 11, 12, 13, 14, 15]]': 0.888046875,\n",
       "   '[[0, 1], [2, 3]]': 0.839453125,\n",
       "   '[[0], [1]]': 0.82421875},\n",
       "  'Layer2': {'[[0, 1, 2, 3, 4, 5, 6, 7], [8, 9, 10, 11, 12, 13, 14, 15]]': 0.620078125,\n",
       "   '[[0, 1], [2, 3]]': 0.57953125,\n",
       "   '[[0], [1]]': 0.606953125},\n",
       "  'Layer3': {'[[0, 1, 2, 3, 4, 5, 6, 7], [8, 9, 10, 11, 12, 13, 14, 15]]': 0.627421875,\n",
       "   '[[0, 1], [2, 3]]': 0.671484375,\n",
       "   '[[0], [1]]': 0.67109375}}]"
      ]
     },
     "execution_count": 13,
     "metadata": {},
     "output_type": "execute_result"
    }
   ],
   "source": [
    "results"
   ]
  },
  {
   "cell_type": "code",
   "execution_count": 14,
   "id": "10087332-85c3-4e5f-b892-2c12fe95b8f0",
   "metadata": {},
   "outputs": [],
   "source": [
    "import json\n",
    "with open('results.json', 'w') as f:\n",
    "    json.dump(results, f)\n"
   ]
  },
  {
   "cell_type": "code",
   "execution_count": null,
   "id": "f9861b7d-8a74-4f79-8efa-6e8649e2897e",
   "metadata": {},
   "outputs": [],
   "source": []
  }
 ],
 "metadata": {
  "kernelspec": {
   "display_name": "Python 3 (ipykernel)",
   "language": "python",
   "name": "python3"
  },
  "language_info": {
   "codemirror_mode": {
    "name": "ipython",
    "version": 3
   },
   "file_extension": ".py",
   "mimetype": "text/x-python",
   "name": "python",
   "nbconvert_exporter": "python",
   "pygments_lexer": "ipython3",
   "version": "3.12.7"
  }
 },
 "nbformat": 4,
 "nbformat_minor": 5
}
